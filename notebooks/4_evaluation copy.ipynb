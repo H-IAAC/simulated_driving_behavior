{
 "cells": [
  {
   "cell_type": "markdown",
   "id": "3d7f42c0",
   "metadata": {},
   "source": [
    "This notebook is only used to show the results of the MLFlow runs"
   ]
  },
  {
   "cell_type": "code",
   "execution_count": null,
   "id": "3e2af455",
   "metadata": {},
   "outputs": [],
   "source": [
    "import os\n",
    "\n",
    "import pandas as pd"
   ]
  }
 ],
 "metadata": {
  "kernelspec": {
   "display_name": "base",
   "language": "python",
   "name": "python3"
  },
  "language_info": {
   "codemirror_mode": {
    "name": "ipython",
    "version": 3
   },
   "file_extension": ".py",
   "mimetype": "text/x-python",
   "name": "python",
   "nbconvert_exporter": "python",
   "pygments_lexer": "ipython3",
   "version": "3.12.2"
  }
 },
 "nbformat": 4,
 "nbformat_minor": 5
}
