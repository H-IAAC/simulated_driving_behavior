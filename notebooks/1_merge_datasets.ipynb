{
 "cells": [
  {
   "cell_type": "code",
   "execution_count": 2,
   "id": "84471882",
   "metadata": {},
   "outputs": [],
   "source": [
    "import os\n",
    "\n",
    "os.sys.path.append(os.path.abspath('../src'))\n",
    "from data import loader"
   ]
  },
  {
   "cell_type": "markdown",
   "id": "0a51c693",
   "metadata": {},
   "source": [
    "# Loading UAH-Driveset"
   ]
  },
  {
   "cell_type": "code",
   "execution_count": 21,
   "id": "203d913d",
   "metadata": {},
   "outputs": [
    {
     "data": {
      "text/plain": [
       "<module 'data.loader' from '/home/renan/Documents/simulated_driving_behavior/src/data/loader.py'>"
      ]
     },
     "execution_count": 21,
     "metadata": {},
     "output_type": "execute_result"
    }
   ],
   "source": [
    "import importlib\n",
    "importlib.reload(loader)"
   ]
  },
  {
   "cell_type": "code",
   "execution_count": 16,
   "id": "2286c357",
   "metadata": {},
   "outputs": [
    {
     "data": {
      "text/plain": [
       "['D2',\n",
       " 'LICENSE',\n",
       " 'D1',\n",
       " 'D4',\n",
       " 'D3',\n",
       " 'D6',\n",
       " 'README',\n",
       " 'D5',\n",
       " 'uah_driveset_reader']"
      ]
     },
     "execution_count": 16,
     "metadata": {},
     "output_type": "execute_result"
    }
   ],
   "source": [
    "os.listdir(os.path.abspath('../data/base/UAH-DRIVESET-v1'))"
   ]
  },
  {
   "cell_type": "code",
   "execution_count": 23,
   "id": "ec1f4dc5",
   "metadata": {},
   "outputs": [
    {
     "name": "stdout",
     "output_type": "stream",
     "text": [
      "D1\n",
      "D2\n",
      "D3\n",
      "D4\n",
      "D5\n",
      "D6\n",
      "Loaded data for 6 drivers.\n",
      "Sample rate in accelerometer data: 11.111111111111128 Hz\n"
     ]
    }
   ],
   "source": [
    "drivers = ['D1', 'D2', 'D3', 'D4', 'D5', 'D6'] # List of drivers to load\n",
    "df_acc = loader.read_accelerometer(drivers, os.path.abspath('../data/base/UAH-DRIVESET-v1'))\n",
    "df_gps = loader.read_gps(drivers, os.path.abspath('../data/base/UAH-DRIVESET-v1'))\n",
    "print(f\"Loaded data for {len(drivers)} drivers.\")\n",
    "print(f\"Sample rate in accelerometer data: {loader.get_samples_per_second(df_acc)} Hz\")"
   ]
  },
  {
   "cell_type": "markdown",
   "id": "a0671208",
   "metadata": {},
   "source": []
  }
 ],
 "metadata": {
  "kernelspec": {
   "display_name": "sumo-env",
   "language": "python",
   "name": "python3"
  },
  "language_info": {
   "codemirror_mode": {
    "name": "ipython",
    "version": 3
   },
   "file_extension": ".py",
   "mimetype": "text/x-python",
   "name": "python",
   "nbconvert_exporter": "python",
   "pygments_lexer": "ipython3",
   "version": "3.10.16"
  }
 },
 "nbformat": 4,
 "nbformat_minor": 5
}
