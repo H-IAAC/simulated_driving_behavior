{
 "cells": [
  {
   "cell_type": "markdown",
   "id": "ea04c5c6",
   "metadata": {},
   "source": [
    "This notebook is used to train the models using `MLFLow`, if you want to see the results for the best models, refer to the `4_evaluation` notebook."
   ]
  },
  {
   "cell_type": "code",
   "execution_count": 1,
   "id": "3e2af455",
   "metadata": {},
   "outputs": [],
   "source": [
    "import os\n",
    "\n",
    "import mlflow\n",
    "from sklearn.model_selection import train_test_split\n",
    "from mlflow.models import infer_signature\n",
    "from hyperopt import fmin, tpe, hp, STATUS_OK, Trials\n",
    "from sklearn.ensemble import RandomForestClassifier\n",
    "from sklearn.svm import SVC, LinearSVC\n",
    "from sklearn.metrics import f1_score, accuracy_score, recall_score, precision_score, log_loss\n",
    "import pandas as pd\n",
    "import numpy as np\n",
    "import xgboost as xgb\n",
    "from sklearn.preprocessing import StandardScaler\n",
    "from functools import partial\n",
    "\n",
    "os.sys.path.append(os.path.abspath('../src'))\n",
    "from data import loader\n",
    "from data import preprocessor\n",
    "\n",
    "mapname = 'Town01'"
   ]
  },
  {
   "cell_type": "code",
   "execution_count": 2,
   "id": "8dc66672",
   "metadata": {},
   "outputs": [],
   "source": [
    "def create_and_train_model(model, args):\n",
    "    \"\"\"\n",
    "    Function to create and train a model with given parameters.\n",
    "\n",
    "    Args:\n",
    "        model: The model to be trained.\n",
    "        args: Arguments for training the model.\n",
    "\n",
    "    Returns:\n",
    "        result: The result of the training process.\n",
    "    \"\"\"\n",
    "    result = {}\n",
    "    # Train model with current hyperparameters\n",
    "    print(f\"Params: {args}\")\n",
    "    md = model(**args)\n",
    "    md.fit(X_train, y_train)\n",
    "    # Predict on the validation set\n",
    "    y_pred = md.predict(X_val)\n",
    "    # Log training results\n",
    "    result[\"f1_score\"] = f1_score(y_val, y_pred, average='weighted')\n",
    "    result[\"accuracy\"] = accuracy_score(y_val, y_pred)\n",
    "    result[\"recall\"] = recall_score(y_val, y_pred, average='weighted')\n",
    "    result[\"precision\"] = precision_score(y_val, y_pred, average='weighted')\n",
    "    result[\"model\"] = md\n",
    "\n",
    "    return result"
   ]
  },
  {
   "cell_type": "code",
   "execution_count": 3,
   "id": "2cf70def",
   "metadata": {},
   "outputs": [],
   "source": [
    "def objective(params, model_name):\n",
    "    \"\"\"\n",
    "    Objective function for hyperparameter optimization.\n",
    "    This function will be called by Hyperopt for each trial.\n",
    "    \"\"\"\n",
    "    with mlflow.start_run(nested=True, run_name=f\"{model_name}_{params}\"):\n",
    "        # Log hyperparameters being tested\n",
    "        mlflow.log_params(params)\n",
    "\n",
    "        # Train model with current hyperparameters\n",
    "        result = create_and_train_model(\n",
    "            model,\n",
    "            args=params\n",
    "        )\n",
    "\n",
    "        # Log training results\n",
    "        mlflow.log_metrics(\n",
    "            {\n",
    "                \"accuracy\": result[\"accuracy\"],\n",
    "                \"recall\": result[\"recall\"],\n",
    "                \"precision\": result[\"precision\"],\n",
    "                \"f1_score\": result[\"f1_score\"],\n",
    "            }\n",
    "        )\n",
    "\n",
    "        # Log the trained model\n",
    "        mlflow.sklearn.log_model(\n",
    "            result[\"model\"], name=model_name, signature=signature)\n",
    "\n",
    "        # Return loss for Hyperopt (it minimizes)\n",
    "        return {\"loss\": -result[\"f1_score\"], \"status\": STATUS_OK, \"model\": f'{model_name}_{params}'}"
   ]
  },
  {
   "cell_type": "code",
   "execution_count": 4,
   "id": "1c8c77ae",
   "metadata": {},
   "outputs": [],
   "source": [
    "def run_experiments(run_name, max_evals, search_space, data_name, features_names, model_name):\n",
    "    # Create or set experiment\n",
    "\n",
    "    print(\n",
    "        f\"This will run {max_evals} trials to find optimal hyperparameters...\")\n",
    "\n",
    "    with mlflow.start_run(run_name=run_name):\n",
    "\n",
    "        mlflow.set_tag(\"model_type\", model_name)\n",
    "\n",
    "        # Log experiment metadata\n",
    "        mlflow.log_params(\n",
    "            {\n",
    "                \"optimization_method\": \"Tree-structured Parzen Estimator (TPE)\",\n",
    "                \"max_evaluations\": max_evals,\n",
    "                \"objective_metric\": \"log_loss\",\n",
    "                \"dataset\": data_name,\n",
    "                \"features\": features_names,\n",
    "            }\n",
    "        )\n",
    "\n",
    "        # Run optimization\n",
    "        trials = Trials()\n",
    "        objective_with_name = partial(objective, model_name=model_name)\n",
    "\n",
    "        best_params = fmin(\n",
    "            fn=objective_with_name,\n",
    "            space=search_space,\n",
    "            algo=tpe.suggest,\n",
    "            max_evals=max_evals,\n",
    "            trials=trials,\n",
    "            verbose=True,\n",
    "        )\n",
    "\n",
    "        # Find and log best results\n",
    "        best_trial = min(trials.results, key=lambda x: x[\"loss\"])\n",
    "        best_f1_score = -best_trial[\"loss\"]\n",
    "\n",
    "        # Log optimization results\n",
    "        mlflow.log_params(best_params)\n",
    "        mlflow.log_params({\"best_model\": best_trial[\"model\"]})\n",
    "        mlflow.log_metrics(\n",
    "            {\n",
    "                \"best_f1_score\": best_f1_score,\n",
    "                \"total_trials\": len(trials.trials),\n",
    "                \"optimization_completed\": 1,\n",
    "            }\n",
    "        )\n",
    "\n",
    "    return best_f1_score \n"
   ]
  },
  {
   "cell_type": "code",
   "execution_count": 5,
   "id": "cb3963a0",
   "metadata": {},
   "outputs": [],
   "source": [
    "client = mlflow.tracking.MlflowClient(\"http://127.0.0.1:8080\")\n",
    "mlflow.set_tracking_uri(\"http://127.0.0.1:8080\")"
   ]
  },
  {
   "cell_type": "markdown",
   "id": "d7abae7f",
   "metadata": {},
   "source": [
    "## Preparing the Data"
   ]
  },
  {
   "cell_type": "code",
   "execution_count": 6,
   "id": "3bb894a0",
   "metadata": {},
   "outputs": [],
   "source": [
    "data_path = '../data'\n",
    "uah_training = pd.read_csv(f'{data_path}/base/training_set_uah.csv')\n",
    "uah_validation = pd.read_csv(f'{data_path}/base/validation_set_uah.csv')\n",
    "\n",
    "carla_fixed = pd.read_csv(f'{data_path}/merged/{mapname}/carla/carla_fixed.csv').drop(columns=['origin'])\n",
    "carla_llm = pd.read_csv(f'{data_path}/merged/{mapname}/carla/carla_llm.csv').drop(columns=['origin'])\n",
    "\n",
    "sumo_fixed = pd.read_csv(f'{data_path}/merged/{mapname}/sumo/sumo_fixed.csv').drop(columns=['origin'])\n",
    "sumo_llm = pd.read_csv(f'{data_path}/merged/{mapname}/sumo/sumo_llm.csv').drop(columns=['origin'])\n",
    "\n",
    "carla_uah_fixed = pd.read_csv(f'{data_path}/merged/{mapname}/carla_uah/carla_uah_fixed.csv')\n",
    "carla_uah_llm = pd.read_csv(f'{data_path}/merged/{mapname}/carla_uah/carla_uah_llm.csv')\n",
    "\n",
    "sumo_uah_fixed = pd.read_csv(f'{data_path}/merged/{mapname}/sumo_uah/sumo_uah_fixed.csv')\n",
    "sumo_uah_llm = pd.read_csv(f'{data_path}/merged/{mapname}/sumo_uah/sumo_uah_llm.csv')"
   ]
  },
  {
   "cell_type": "code",
   "execution_count": 7,
   "id": "95fa01a5",
   "metadata": {},
   "outputs": [],
   "source": [
    "sumo_columns_to_keep = sumo_fixed.columns.tolist()\n",
    "carla_columns_to_keep = carla_fixed.columns.tolist()"
   ]
  },
  {
   "cell_type": "code",
   "execution_count": 8,
   "id": "0b2b12e2",
   "metadata": {},
   "outputs": [],
   "source": [
    "window_size = 10\n",
    "step_size = 5\n",
    "one_hot_keys = {\n",
    "    'normal': 0,\n",
    "    'aggressive': 1\n",
    "}"
   ]
  },
  {
   "cell_type": "markdown",
   "id": "b210c607",
   "metadata": {},
   "source": [
    "Defining the search space for each model"
   ]
  },
  {
   "cell_type": "code",
   "execution_count": 9,
   "id": "d88856f4",
   "metadata": {},
   "outputs": [],
   "source": [
    "max_evals = 5\n",
    "\n",
    "search_space_rf = {\n",
    "    \"n_estimators\": hp.choice(\"n_estimators\", [20, 50, 100, 200, 500]),\n",
    "    \"max_depth\": hp.choice(\"max_depth\", [None, 5, 10, 20, 50]),\n",
    "    \"random_state\": 42,\n",
    "}\n",
    "search_space_svc = {\n",
    "    \"C\": hp.choice(\"C\", [0.01, 0.05, 0.1, 0.5, 1]),  # Regularization parameter\n",
    "    \"kernel\": hp.choice(\"kernel\", [\"rbf\"]),  # Kernel type\n",
    "    \"gamma\": hp.choice(\"gamma\", [0.001, 0.01, 0.1, 1, 10]),  # Kernel coefficient for 'rbf', 'poly', and 'sigmoid'\n",
    "}\n",
    "search_space_svc_linear = {\n",
    "    \"C\": hp.choice(\"C\", [10**-4, 10**-3, 10**-2, 0.1, 1])  # Regularization parameter\n",
    "}\n",
    "search_space_xgb = {\n",
    "    \"n_estimators\": hp.choice(\"n_estimators\", [200, 500, 700, 1000]),\n",
    "    \"max_depth\": hp.choice(\"max_depth\", [None, 5, 10]),\n",
    "    \"learning_rate\": hp.choice(\"learning_rate\", [0.001, 0.01, 0.1, 0.2, 0.3, 0.4, 0.5]),  # Learning rate\n",
    "    \"random_state\": 42,\n",
    "}"
   ]
  },
  {
   "cell_type": "markdown",
   "id": "b9bfe165",
   "metadata": {},
   "source": [
    "# Train on Real test on Synthetic"
   ]
  },
  {
   "cell_type": "markdown",
   "id": "b177f276",
   "metadata": {},
   "source": [
    "By training a model on real data and testing on synthetic data, we verify synthetic data’s fidelity with the real-world."
   ]
  },
  {
   "cell_type": "markdown",
   "id": "b448fee4",
   "metadata": {},
   "source": [
    "## SUMO"
   ]
  },
  {
   "cell_type": "code",
   "execution_count": 18,
   "id": "648199c0",
   "metadata": {},
   "outputs": [],
   "source": [
    "X_train, y_train = preprocessor.sliding_windows(uah_training[sumo_columns_to_keep], window_size=10, step_size=5)\n",
    "y_train = preprocessor.one_hot_encode(y_train, one_hot_keys)\n",
    "signature = infer_signature(X_train, y_train)"
   ]
  },
  {
   "cell_type": "markdown",
   "id": "a7e8a837",
   "metadata": {},
   "source": [
    "### Fixed"
   ]
  },
  {
   "cell_type": "code",
   "execution_count": 19,
   "id": "cea94fc4",
   "metadata": {},
   "outputs": [
    {
     "name": "stdout",
     "output_type": "stream",
     "text": [
      "Experiment already exists: RESOURCE_ALREADY_EXISTS: Experiment 'TRTS_SUMO_Fixed' already exists.\n"
     ]
    }
   ],
   "source": [
    "# Provide an Experiment description that will appear in the UI\n",
    "experiment_description = (\n",
    "    \"Experiment to TRTS on SUMO Fixed data.\"\n",
    ")\n",
    "\n",
    "# Provide searchable tags that define characteristics of the Runs that\n",
    "# will be in this Experiment\n",
    "experiment_tags = {\n",
    "    \"project_name\": \"driver-behavior-prediction\",\n",
    "    \"mlflow.note.content\": experiment_description,\n",
    "}\n",
    "\n",
    "# Create the Experiment, providing a unique name\n",
    "try:\n",
    "    driver_behavior_experiment = client.create_experiment(\n",
    "        name=\"TRTS_SUMO_Fixed\", tags=experiment_tags\n",
    "    )\n",
    "except mlflow.exceptions.RestException as e:\n",
    "    print(f\"Experiment already exists: {e}\")"
   ]
  },
  {
   "cell_type": "code",
   "execution_count": 20,
   "id": "454ba591",
   "metadata": {},
   "outputs": [],
   "source": [
    "X_val, y_val = preprocessor.sliding_windows(sumo_fixed, window_size=10, step_size=5)\n",
    "y_val = preprocessor.one_hot_encode(y_val, one_hot_keys)\n",
    "\n",
    "mlflow.set_experiment('TRTS_SUMO_Fixed')\n",
    "data_name = 'TRTS_SUMO_Fixed'"
   ]
  },
  {
   "cell_type": "code",
   "execution_count": 21,
   "id": "2de38d07",
   "metadata": {},
   "outputs": [
    {
     "name": "stdout",
     "output_type": "stream",
     "text": [
      "This will run 5 trials to find optimal hyperparameters...\n",
      "Params: {'max_depth': None, 'n_estimators': 100, 'random_state': 42}\n",
      "🏃 View run RandomForestClassifier_{'max_depth': None, 'n_estimators': 100, 'random_state': 42} at: http://127.0.0.1:8080/#/experiments/752116745523456312/runs/80ae50b7aa474a53b63e3d13652688bd\n",
      "\n",
      "🧪 View experiment at: http://127.0.0.1:8080/#/experiments/752116745523456312\n",
      "\n",
      "Params: {'max_depth': None, 'n_estimators': 200, 'random_state': 42}             \n",
      "🏃 View run RandomForestClassifier_{'max_depth': None, 'n_estimators': 200, 'random_state': 42} at: http://127.0.0.1:8080/#/experiments/752116745523456312/runs/bdbe5c323cf84c6480ec3b1c37b73dfc\n",
      "\n",
      "🧪 View experiment at: http://127.0.0.1:8080/#/experiments/752116745523456312    \n",
      "\n",
      "Params: {'max_depth': 50, 'n_estimators': 50, 'random_state': 42}                \n",
      "🏃 View run RandomForestClassifier_{'max_depth': 50, 'n_estimators': 50, 'random_state': 42} at: http://127.0.0.1:8080/#/experiments/752116745523456312/runs/76f47eb5daf54fa8a8ff20645853398c\n",
      "\n",
      "🧪 View experiment at: http://127.0.0.1:8080/#/experiments/752116745523456312    \n",
      "\n",
      "Params: {'max_depth': 20, 'n_estimators': 20, 'random_state': 42}                \n",
      "🏃 View run RandomForestClassifier_{'max_depth': 20, 'n_estimators': 20, 'random_state': 42} at: http://127.0.0.1:8080/#/experiments/752116745523456312/runs/097ae56c2bc1453f951848af5dd6be2c\n",
      "\n",
      "🧪 View experiment at: http://127.0.0.1:8080/#/experiments/752116745523456312    \n",
      "\n",
      "Params: {'max_depth': 20, 'n_estimators': 50, 'random_state': 42}                \n",
      "🏃 View run RandomForestClassifier_{'max_depth': 20, 'n_estimators': 50, 'random_state': 42} at: http://127.0.0.1:8080/#/experiments/752116745523456312/runs/d7c12b0494c74544a34a34900cf0085d\n",
      "\n",
      "🧪 View experiment at: http://127.0.0.1:8080/#/experiments/752116745523456312    \n",
      "\n",
      "100%|██████████| 5/5 [00:55<00:00, 11.06s/trial, best loss: -0.46995721345188274]\n",
      "🏃 View run trts-rf-sweep at: http://127.0.0.1:8080/#/experiments/752116745523456312/runs/73af1e9a72b54f80a1f9331114266403\n",
      "🧪 View experiment at: http://127.0.0.1:8080/#/experiments/752116745523456312\n",
      "This will run 5 trials to find optimal hyperparameters...\n",
      "Params: {'C': 1, 'gamma': 0.01, 'kernel': 'rbf'}     \n",
      "🏃 View run SVC_{'C': 1, 'gamma': 0.01, 'kernel': 'rbf'} at: http://127.0.0.1:8080/#/experiments/752116745523456312/runs/5ad73eec08764ad6a2d15c066e252b06\n",
      "\n",
      "🧪 View experiment at: http://127.0.0.1:8080/#/experiments/752116745523456312\n",
      "\n",
      "Params: {'C': 0.5, 'gamma': 0.1, 'kernel': 'rbf'}                               \n",
      "🏃 View run SVC_{'C': 0.5, 'gamma': 0.1, 'kernel': 'rbf'} at: http://127.0.0.1:8080/#/experiments/752116745523456312/runs/7f59badd7e5640cebfed461897ab4540\n",
      "\n",
      "🧪 View experiment at: http://127.0.0.1:8080/#/experiments/752116745523456312   \n",
      "\n",
      "Params: {'C': 0.1, 'gamma': 0.1, 'kernel': 'rbf'}                                \n",
      "🏃 View run SVC_{'C': 0.1, 'gamma': 0.1, 'kernel': 'rbf'} at: http://127.0.0.1:8080/#/experiments/752116745523456312/runs/05b452fb14e943ad9aa00bd269a860d3\n",
      "\n",
      "🧪 View experiment at: http://127.0.0.1:8080/#/experiments/752116745523456312    \n",
      "\n",
      "Params: {'C': 0.1, 'gamma': 0.1, 'kernel': 'rbf'}                                \n",
      "🏃 View run SVC_{'C': 0.1, 'gamma': 0.1, 'kernel': 'rbf'} at: http://127.0.0.1:8080/#/experiments/752116745523456312/runs/a2092913db484c288abb6f488db9704f\n",
      "\n",
      "🧪 View experiment at: http://127.0.0.1:8080/#/experiments/752116745523456312    \n",
      "\n",
      "Params: {'C': 0.05, 'gamma': 0.001, 'kernel': 'rbf'}                             \n",
      " 80%|████████  | 4/5 [03:03<00:47, 47.31s/trial, best loss: -0.34700806825918606]"
     ]
    },
    {
     "name": "stderr",
     "output_type": "stream",
     "text": [
      "/home/renan/miniconda3/lib/python3.12/site-packages/sklearn/metrics/_classification.py:1565: UndefinedMetricWarning: Precision is ill-defined and being set to 0.0 in labels with no predicted samples. Use `zero_division` parameter to control this behavior.\n",
      "  _warn_prf(average, modifier, f\"{metric.capitalize()} is\", len(result))\n",
      "\n"
     ]
    },
    {
     "name": "stdout",
     "output_type": "stream",
     "text": [
      "🏃 View run SVC_{'C': 0.05, 'gamma': 0.001, 'kernel': 'rbf'} at: http://127.0.0.1:8080/#/experiments/752116745523456312/runs/ca93ce0a0c614daa93bb5212d8d781ec\n",
      "\n",
      "🧪 View experiment at: http://127.0.0.1:8080/#/experiments/752116745523456312    \n",
      "\n",
      "100%|██████████| 5/5 [03:52<00:00, 46.49s/trial, best loss: -0.34700806825918606]\n",
      "🏃 View run trts-svc-sweep at: http://127.0.0.1:8080/#/experiments/752116745523456312/runs/e01fff3ba9254b74947c54c4a7afa157\n",
      "🧪 View experiment at: http://127.0.0.1:8080/#/experiments/752116745523456312\n",
      "This will run 5 trials to find optimal hyperparameters...\n",
      "Params: {'learning_rate': 0.2, 'max_depth': 10, 'n_estimators': 1000, 'random_state': 42}\n",
      "🏃 View run XGBClassifier_{'learning_rate': 0.2, 'max_depth': 10, 'n_estimators': 1000, 'random_state': 42} at: http://127.0.0.1:8080/#/experiments/752116745523456312/runs/831210d9b5344ac2b2400164325075f8\n",
      "\n",
      "🧪 View experiment at: http://127.0.0.1:8080/#/experiments/752116745523456312\n",
      "\n",
      "Params: {'learning_rate': 0.001, 'max_depth': None, 'n_estimators': 700, 'random_state': 42}\n",
      "🏃 View run XGBClassifier_{'learning_rate': 0.001, 'max_depth': None, 'n_estimators': 700, 'random_state': 42} at: http://127.0.0.1:8080/#/experiments/752116745523456312/runs/3f840965598a4fdc9266e9d0898e6d7d\n",
      "\n",
      "🧪 View experiment at: http://127.0.0.1:8080/#/experiments/752116745523456312    \n",
      "\n",
      "Params: {'learning_rate': 0.4, 'max_depth': 5, 'n_estimators': 700, 'random_state': 42}\n",
      "🏃 View run XGBClassifier_{'learning_rate': 0.4, 'max_depth': 5, 'n_estimators': 700, 'random_state': 42} at: http://127.0.0.1:8080/#/experiments/752116745523456312/runs/6c7ab0f8dedf4a96af36ccd0fb1ead0a\n",
      "\n",
      "🧪 View experiment at: http://127.0.0.1:8080/#/experiments/752116745523456312    \n",
      "\n",
      "Params: {'learning_rate': 0.001, 'max_depth': None, 'n_estimators': 500, 'random_state': 42}\n",
      " 60%|██████    | 3/5 [00:22<00:13,  6.59s/trial, best loss: -0.45401509256945327]"
     ]
    },
    {
     "name": "stderr",
     "output_type": "stream",
     "text": [
      "/home/renan/miniconda3/lib/python3.12/site-packages/sklearn/metrics/_classification.py:1565: UndefinedMetricWarning: Precision is ill-defined and being set to 0.0 in labels with no predicted samples. Use `zero_division` parameter to control this behavior.\n",
      "  _warn_prf(average, modifier, f\"{metric.capitalize()} is\", len(result))\n",
      "\n"
     ]
    },
    {
     "name": "stdout",
     "output_type": "stream",
     "text": [
      "🏃 View run XGBClassifier_{'learning_rate': 0.001, 'max_depth': None, 'n_estimators': 500, 'random_state': 42} at: http://127.0.0.1:8080/#/experiments/752116745523456312/runs/28b64d1c3b8c4ed68e2c641168e405d4\n",
      "\n",
      "🧪 View experiment at: http://127.0.0.1:8080/#/experiments/752116745523456312    \n",
      "\n",
      "Params: {'learning_rate': 0.001, 'max_depth': 10, 'n_estimators': 1000, 'random_state': 42}\n",
      "🏃 View run XGBClassifier_{'learning_rate': 0.001, 'max_depth': 10, 'n_estimators': 1000, 'random_state': 42} at: http://127.0.0.1:8080/#/experiments/752116745523456312/runs/221e36eeb2504ce58a8963f1ad48b852\n",
      "\n",
      "🧪 View experiment at: http://127.0.0.1:8080/#/experiments/752116745523456312    \n",
      "\n",
      "100%|██████████| 5/5 [00:44<00:00,  9.00s/trial, best loss: -0.47254594910010395]\n",
      "🏃 View run trts-xgb-sweep at: http://127.0.0.1:8080/#/experiments/752116745523456312/runs/af53e8ce9ead4b2397be7ee1445d1dd8\n",
      "🧪 View experiment at: http://127.0.0.1:8080/#/experiments/752116745523456312\n"
     ]
    },
    {
     "data": {
      "text/plain": [
       "0.47254594910010395"
      ]
     },
     "execution_count": 21,
     "metadata": {},
     "output_type": "execute_result"
    }
   ],
   "source": [
    "model = RandomForestClassifier\n",
    "run_experiments('trts-rf-sweep', max_evals=max_evals, search_space=search_space_rf, data_name=data_name, model_name = 'RandomForestClassifier', features_names=sumo_columns_to_keep)\n",
    "model = SVC\n",
    "run_experiments('trts-svc-sweep', max_evals=max_evals, search_space=search_space_svc, data_name=data_name, model_name = 'SVC', features_names=sumo_columns_to_keep)\n",
    "model = xgb.XGBClassifier\n",
    "run_experiments('trts-xgb-sweep', max_evals=max_evals, search_space=search_space_xgb, data_name=data_name, model_name = 'XGBClassifier', features_names=sumo_columns_to_keep)"
   ]
  },
  {
   "cell_type": "markdown",
   "id": "60e89ace",
   "metadata": {},
   "source": [
    "### LLM"
   ]
  },
  {
   "cell_type": "code",
   "execution_count": 22,
   "id": "e70ee9fd",
   "metadata": {},
   "outputs": [
    {
     "name": "stdout",
     "output_type": "stream",
     "text": [
      "Experiment already exists: RESOURCE_ALREADY_EXISTS: Experiment 'TRTS_SUMO_LLM' already exists.\n"
     ]
    }
   ],
   "source": [
    "# Provide an Experiment description that will appear in the UI\n",
    "experiment_description = (\n",
    "    \"Experiment to TRTS on SUMO LLM data.\"\n",
    ")\n",
    "\n",
    "# Provide searchable tags that define characteristics of the Runs that\n",
    "# will be in this Experiment\n",
    "experiment_tags = {\n",
    "    \"project_name\": \"driver-behavior-prediction\",\n",
    "    \"mlflow.note.content\": experiment_description,\n",
    "}\n",
    "\n",
    "# Create the Experiment, providing a unique name\n",
    "try:\n",
    "    driver_behavior_experiment = client.create_experiment(\n",
    "        name=\"TRTS_SUMO_LLM\", tags=experiment_tags\n",
    "    )\n",
    "except mlflow.exceptions.RestException as e:\n",
    "    print(f\"Experiment already exists: {e}\")"
   ]
  },
  {
   "cell_type": "code",
   "execution_count": null,
   "id": "a56d8a26",
   "metadata": {},
   "outputs": [],
   "source": [
    "X_val, y_val = preprocessor.sliding_windows(sumo_llm, window_size=10, step_size=5)\n",
    "y_val = preprocessor.one_hot_encode(y_val, one_hot_keys)\n",
    "\n",
    "mlflow.set_experiment('TRTS_SUMO_LLM')\n",
    "data_name = 'TRTS_SUMO_LLM'"
   ]
  },
  {
   "cell_type": "code",
   "execution_count": 24,
   "id": "7b2d5e54",
   "metadata": {},
   "outputs": [
    {
     "name": "stdout",
     "output_type": "stream",
     "text": [
      "This will run 5 trials to find optimal hyperparameters...\n",
      "Params: {'max_depth': 5, 'n_estimators': 50, 'random_state': 42}\n",
      "🏃 View run RandomForestClassifier_{'max_depth': 5, 'n_estimators': 50, 'random_state': 42} at: http://127.0.0.1:8080/#/experiments/130091945796323793/runs/c8fb3ea589224ea9b7b0d98130c6fd4c\n",
      "\n",
      "🧪 View experiment at: http://127.0.0.1:8080/#/experiments/130091945796323793\n",
      "\n",
      "Params: {'max_depth': 50, 'n_estimators': 500, 'random_state': 42}               \n",
      "🏃 View run RandomForestClassifier_{'max_depth': 50, 'n_estimators': 500, 'random_state': 42} at: http://127.0.0.1:8080/#/experiments/130091945796323793/runs/8f50fbf994ff4a5d98477e36bd8a861c\n",
      "\n",
      "🧪 View experiment at: http://127.0.0.1:8080/#/experiments/130091945796323793    \n",
      "\n",
      "Params: {'max_depth': None, 'n_estimators': 500, 'random_state': 42}             \n",
      "🏃 View run RandomForestClassifier_{'max_depth': None, 'n_estimators': 500, 'random_state': 42} at: http://127.0.0.1:8080/#/experiments/130091945796323793/runs/e7d4382e8f67437db21252f75481b129\n",
      "\n",
      "🧪 View experiment at: http://127.0.0.1:8080/#/experiments/130091945796323793    \n",
      "\n",
      "Params: {'max_depth': 10, 'n_estimators': 50, 'random_state': 42}                \n",
      "🏃 View run RandomForestClassifier_{'max_depth': 10, 'n_estimators': 50, 'random_state': 42} at: http://127.0.0.1:8080/#/experiments/130091945796323793/runs/4902063c5bae4543a06ef4a2cbcfe91e\n",
      "\n",
      "🧪 View experiment at: http://127.0.0.1:8080/#/experiments/130091945796323793    \n",
      "\n",
      "Params: {'max_depth': 20, 'n_estimators': 500, 'random_state': 42}               \n",
      "🏃 View run RandomForestClassifier_{'max_depth': 20, 'n_estimators': 500, 'random_state': 42} at: http://127.0.0.1:8080/#/experiments/130091945796323793/runs/0a2f04e3814c4b5eba3855f7e0f2b379\n",
      "\n",
      "🧪 View experiment at: http://127.0.0.1:8080/#/experiments/130091945796323793    \n",
      "\n",
      "100%|██████████| 5/5 [02:45<00:00, 33.08s/trial, best loss: -0.48704276048489065]\n",
      "🏃 View run trts-rf-sweep at: http://127.0.0.1:8080/#/experiments/130091945796323793/runs/1253dee17dbf47c891e2f3c751a341a9\n",
      "🧪 View experiment at: http://127.0.0.1:8080/#/experiments/130091945796323793\n",
      "This will run 5 trials to find optimal hyperparameters...\n",
      "Params: {'C': 0.5, 'gamma': 0.001, 'kernel': 'rbf'}  \n",
      "🏃 View run SVC_{'C': 0.5, 'gamma': 0.001, 'kernel': 'rbf'} at: http://127.0.0.1:8080/#/experiments/130091945796323793/runs/b49bc273d50e4ff5aed185c749bc5fe5\n",
      "\n",
      "🧪 View experiment at: http://127.0.0.1:8080/#/experiments/130091945796323793\n",
      "\n",
      "Params: {'C': 0.01, 'gamma': 0.1, 'kernel': 'rbf'}                              \n",
      " 20%|██        | 1/5 [00:52<03:30, 52.69s/trial, best loss: -0.3321373618400804]"
     ]
    },
    {
     "name": "stderr",
     "output_type": "stream",
     "text": [
      "/home/renan/miniconda3/lib/python3.12/site-packages/sklearn/metrics/_classification.py:1565: UndefinedMetricWarning: Precision is ill-defined and being set to 0.0 in labels with no predicted samples. Use `zero_division` parameter to control this behavior.\n",
      "  _warn_prf(average, modifier, f\"{metric.capitalize()} is\", len(result))\n",
      "\n"
     ]
    },
    {
     "name": "stdout",
     "output_type": "stream",
     "text": [
      "🏃 View run SVC_{'C': 0.01, 'gamma': 0.1, 'kernel': 'rbf'} at: http://127.0.0.1:8080/#/experiments/130091945796323793/runs/1cac46b28cfc43de9a06872fc906b4f2\n",
      "\n",
      "🧪 View experiment at: http://127.0.0.1:8080/#/experiments/130091945796323793   \n",
      "\n",
      "Params: {'C': 0.5, 'gamma': 1, 'kernel': 'rbf'}                                 \n",
      " 40%|████      | 2/5 [01:55<02:55, 58.54s/trial, best loss: -0.366294641495687]"
     ]
    },
    {
     "name": "stderr",
     "output_type": "stream",
     "text": [
      "/home/renan/miniconda3/lib/python3.12/site-packages/sklearn/metrics/_classification.py:1565: UndefinedMetricWarning: Precision is ill-defined and being set to 0.0 in labels with no predicted samples. Use `zero_division` parameter to control this behavior.\n",
      "  _warn_prf(average, modifier, f\"{metric.capitalize()} is\", len(result))\n",
      "\n"
     ]
    },
    {
     "name": "stdout",
     "output_type": "stream",
     "text": [
      "🏃 View run SVC_{'C': 0.5, 'gamma': 1, 'kernel': 'rbf'} at: http://127.0.0.1:8080/#/experiments/130091945796323793/runs/940c1bd5829c481d8084cb9d8bbe1f69\n",
      "\n",
      "🧪 View experiment at: http://127.0.0.1:8080/#/experiments/130091945796323793  \n",
      "\n",
      "Params: {'C': 0.05, 'gamma': 0.001, 'kernel': 'rbf'}                           \n",
      " 60%|██████    | 3/5 [03:34<02:34, 77.16s/trial, best loss: -0.366294641495687]"
     ]
    },
    {
     "name": "stderr",
     "output_type": "stream",
     "text": [
      "/home/renan/miniconda3/lib/python3.12/site-packages/sklearn/metrics/_classification.py:1565: UndefinedMetricWarning: Precision is ill-defined and being set to 0.0 in labels with no predicted samples. Use `zero_division` parameter to control this behavior.\n",
      "  _warn_prf(average, modifier, f\"{metric.capitalize()} is\", len(result))\n",
      "\n"
     ]
    },
    {
     "name": "stdout",
     "output_type": "stream",
     "text": [
      "🏃 View run SVC_{'C': 0.05, 'gamma': 0.001, 'kernel': 'rbf'} at: http://127.0.0.1:8080/#/experiments/130091945796323793/runs/013129f83842435ba5d1954ab3265cf4\n",
      "\n",
      "🧪 View experiment at: http://127.0.0.1:8080/#/experiments/130091945796323793  \n",
      "\n",
      "Params: {'C': 0.1, 'gamma': 0.001, 'kernel': 'rbf'}                            \n",
      "🏃 View run SVC_{'C': 0.1, 'gamma': 0.001, 'kernel': 'rbf'} at: http://127.0.0.1:8080/#/experiments/130091945796323793/runs/af7eea6666db4ce49ceb4827d02e2b82\n",
      "\n",
      "🧪 View experiment at: http://127.0.0.1:8080/#/experiments/130091945796323793  \n",
      "\n",
      "100%|██████████| 5/5 [05:26<00:00, 65.24s/trial, best loss: -0.366294641495687]\n",
      "🏃 View run trts-svc-sweep at: http://127.0.0.1:8080/#/experiments/130091945796323793/runs/95a08266b07040faaa0c432c3f4ca77d\n",
      "🧪 View experiment at: http://127.0.0.1:8080/#/experiments/130091945796323793\n",
      "This will run 5 trials to find optimal hyperparameters...\n",
      "Params: {'learning_rate': 0.3, 'max_depth': None, 'n_estimators': 500, 'random_state': 42}\n",
      "🏃 View run XGBClassifier_{'learning_rate': 0.3, 'max_depth': None, 'n_estimators': 500, 'random_state': 42} at: http://127.0.0.1:8080/#/experiments/130091945796323793/runs/5816db2beb434dc0a207dc268dd65bf9\n",
      "\n",
      "🧪 View experiment at: http://127.0.0.1:8080/#/experiments/130091945796323793\n",
      "\n",
      "Params: {'learning_rate': 0.001, 'max_depth': 10, 'n_estimators': 1000, 'random_state': 42}\n",
      "🏃 View run XGBClassifier_{'learning_rate': 0.001, 'max_depth': 10, 'n_estimators': 1000, 'random_state': 42} at: http://127.0.0.1:8080/#/experiments/130091945796323793/runs/740e00e976e0493981f0809cdd354f50\n",
      "\n",
      "🧪 View experiment at: http://127.0.0.1:8080/#/experiments/130091945796323793    \n",
      "\n",
      "Params: {'learning_rate': 0.1, 'max_depth': None, 'n_estimators': 200, 'random_state': 42}\n",
      "🏃 View run XGBClassifier_{'learning_rate': 0.1, 'max_depth': None, 'n_estimators': 200, 'random_state': 42} at: http://127.0.0.1:8080/#/experiments/130091945796323793/runs/fe2b1a031fe34b07b5a027e76d1042c8\n",
      "\n",
      "🧪 View experiment at: http://127.0.0.1:8080/#/experiments/130091945796323793    \n",
      "\n",
      "Params: {'learning_rate': 0.1, 'max_depth': None, 'n_estimators': 700, 'random_state': 42}\n",
      "🏃 View run XGBClassifier_{'learning_rate': 0.1, 'max_depth': None, 'n_estimators': 700, 'random_state': 42} at: http://127.0.0.1:8080/#/experiments/130091945796323793/runs/6b482c8726364c0da467dbba067d46ca\n",
      "\n",
      "🧪 View experiment at: http://127.0.0.1:8080/#/experiments/130091945796323793    \n",
      "\n",
      "Params: {'learning_rate': 0.5, 'max_depth': 5, 'n_estimators': 200, 'random_state': 42}\n",
      "🏃 View run XGBClassifier_{'learning_rate': 0.5, 'max_depth': 5, 'n_estimators': 200, 'random_state': 42} at: http://127.0.0.1:8080/#/experiments/130091945796323793/runs/5ba715c7891c4ecdb3101e888938d097\n",
      "\n",
      "🧪 View experiment at: http://127.0.0.1:8080/#/experiments/130091945796323793    \n",
      "\n",
      "100%|██████████| 5/5 [00:46<00:00,  9.34s/trial, best loss: -0.48108660813876947]\n",
      "🏃 View run trts-xgb-sweep at: http://127.0.0.1:8080/#/experiments/130091945796323793/runs/bdf91404581a49c4b1786b232817b0f0\n",
      "🧪 View experiment at: http://127.0.0.1:8080/#/experiments/130091945796323793\n"
     ]
    },
    {
     "data": {
      "text/plain": [
       "0.48108660813876947"
      ]
     },
     "execution_count": 24,
     "metadata": {},
     "output_type": "execute_result"
    }
   ],
   "source": [
    "model = RandomForestClassifier\n",
    "run_experiments('trts-rf-sweep', max_evals=max_evals, search_space=search_space_rf, data_name=data_name, model_name = 'RandomForestClassifier', features_names=sumo_columns_to_keep)\n",
    "model = SVC\n",
    "run_experiments('trts-svc-sweep', max_evals=max_evals, search_space=search_space_svc, data_name=data_name, model_name = 'SVC', features_names=sumo_columns_to_keep)\n",
    "model = xgb.XGBClassifier\n",
    "run_experiments('trts-xgb-sweep', max_evals=max_evals, search_space=search_space_xgb, data_name=data_name, model_name = 'XGBClassifier', features_names=sumo_columns_to_keep)"
   ]
  },
  {
   "cell_type": "markdown",
   "id": "7034dab6",
   "metadata": {},
   "source": [
    "## CARLA"
   ]
  },
  {
   "cell_type": "code",
   "execution_count": 25,
   "id": "79611d31",
   "metadata": {},
   "outputs": [],
   "source": [
    "X_train, y_train = preprocessor.sliding_windows(uah_training[carla_columns_to_keep], window_size=10, step_size=5)\n",
    "y_train = preprocessor.one_hot_encode(y_train, one_hot_keys)\n",
    "signature = infer_signature(X_train, y_train)"
   ]
  },
  {
   "cell_type": "markdown",
   "id": "cbe814c3",
   "metadata": {},
   "source": [
    "### Fixed"
   ]
  },
  {
   "cell_type": "code",
   "execution_count": 26,
   "id": "c323d2d8",
   "metadata": {},
   "outputs": [],
   "source": [
    "# Provide an Experiment description that will appear in the UI\n",
    "experiment_description = (\n",
    "    \"Experiment to TRTS on CARLA Fixed data.\"\n",
    ")\n",
    "\n",
    "# Provide searchable tags that define characteristics of the Runs that\n",
    "# will be in this Experiment\n",
    "experiment_tags = {\n",
    "    \"project_name\": \"driver-behavior-prediction\",\n",
    "    \"mlflow.note.content\": experiment_description,\n",
    "}\n",
    "\n",
    "# Create the Experiment, providing a unique name\n",
    "try:\n",
    "    driver_behavior_experiment = client.create_experiment(\n",
    "        name=\"TRTS_CARLA_Fixed\", tags=experiment_tags\n",
    "    )\n",
    "except mlflow.exceptions.RestException as e:\n",
    "    print(f\"Experiment already exists: {e}\")"
   ]
  },
  {
   "cell_type": "code",
   "execution_count": 27,
   "id": "61938828",
   "metadata": {},
   "outputs": [],
   "source": [
    "X_val, y_val = preprocessor.sliding_windows(carla_fixed, window_size=10, step_size=5)\n",
    "y_val = preprocessor.one_hot_encode(y_val, one_hot_keys)\n",
    "\n",
    "mlflow.set_experiment('TRTS_CARLA_Fixed')\n",
    "data_name = 'TRTS_CARLA_Fixed'"
   ]
  },
  {
   "cell_type": "code",
   "execution_count": 28,
   "id": "89880717",
   "metadata": {},
   "outputs": [
    {
     "name": "stdout",
     "output_type": "stream",
     "text": [
      "This will run 5 trials to find optimal hyperparameters...\n",
      "Params: {'max_depth': None, 'n_estimators': 200, 'random_state': 42}\n",
      "🏃 View run RandomForestClassifier_{'max_depth': None, 'n_estimators': 200, 'random_state': 42} at: http://127.0.0.1:8080/#/experiments/193100077548678515/runs/8ce28191c74a4122a45be4a8571aa9d1\n",
      "\n",
      "🧪 View experiment at: http://127.0.0.1:8080/#/experiments/193100077548678515\n",
      "\n",
      "Params: {'max_depth': 5, 'n_estimators': 500, 'random_state': 42}                \n",
      "🏃 View run RandomForestClassifier_{'max_depth': 5, 'n_estimators': 500, 'random_state': 42} at: http://127.0.0.1:8080/#/experiments/193100077548678515/runs/d6bbf3fb41d74cf7ba27f7a0944b21d2\n",
      "\n",
      "🧪 View experiment at: http://127.0.0.1:8080/#/experiments/193100077548678515    \n",
      "\n",
      "Params: {'max_depth': 50, 'n_estimators': 500, 'random_state': 42}               \n",
      "🏃 View run RandomForestClassifier_{'max_depth': 50, 'n_estimators': 500, 'random_state': 42} at: http://127.0.0.1:8080/#/experiments/193100077548678515/runs/3475d58bb77c4df9aff1977789cd1d31\n",
      "\n",
      "🧪 View experiment at: http://127.0.0.1:8080/#/experiments/193100077548678515  \n",
      "\n",
      "Params: {'max_depth': 5, 'n_estimators': 500, 'random_state': 42}              \n",
      "🏃 View run RandomForestClassifier_{'max_depth': 5, 'n_estimators': 500, 'random_state': 42} at: http://127.0.0.1:8080/#/experiments/193100077548678515/runs/121681e44c9f49c8b7b87292bf87197c\n",
      "\n",
      "🧪 View experiment at: http://127.0.0.1:8080/#/experiments/193100077548678515  \n",
      "\n",
      "Params: {'max_depth': 20, 'n_estimators': 100, 'random_state': 42}             \n",
      "🏃 View run RandomForestClassifier_{'max_depth': 20, 'n_estimators': 100, 'random_state': 42} at: http://127.0.0.1:8080/#/experiments/193100077548678515/runs/52b162ae151f4861aa4ea24e10d37671\n",
      "\n",
      "🧪 View experiment at: http://127.0.0.1:8080/#/experiments/193100077548678515  \n",
      "\n",
      "100%|██████████| 5/5 [02:43<00:00, 32.75s/trial, best loss: -0.331587055369066]\n",
      "🏃 View run trts-rf-sweep at: http://127.0.0.1:8080/#/experiments/193100077548678515/runs/e3df570d7b5b4e99b3f1505c380deb53\n",
      "🧪 View experiment at: http://127.0.0.1:8080/#/experiments/193100077548678515\n",
      "This will run 5 trials to find optimal hyperparameters...\n",
      "Params: {'C': 0.5, 'gamma': 0.01, 'kernel': 'rbf'}   \n",
      "  0%|          | 0/5 [00:00<?, ?trial/s, best loss=?]"
     ]
    },
    {
     "name": "stderr",
     "output_type": "stream",
     "text": [
      "/home/renan/miniconda3/lib/python3.12/site-packages/sklearn/metrics/_classification.py:1565: UndefinedMetricWarning: Precision is ill-defined and being set to 0.0 in labels with no predicted samples. Use `zero_division` parameter to control this behavior.\n",
      "  _warn_prf(average, modifier, f\"{metric.capitalize()} is\", len(result))\n",
      "\n"
     ]
    },
    {
     "name": "stdout",
     "output_type": "stream",
     "text": [
      "🏃 View run SVC_{'C': 0.5, 'gamma': 0.01, 'kernel': 'rbf'} at: http://127.0.0.1:8080/#/experiments/193100077548678515/runs/8d79cac42e5a4fca84a0e0257fc03182\n",
      "\n",
      "🧪 View experiment at: http://127.0.0.1:8080/#/experiments/193100077548678515\n",
      "\n",
      "Params: {'C': 0.05, 'gamma': 0.01, 'kernel': 'rbf'}                             \n",
      " 20%|██        | 1/5 [00:55<03:39, 54.99s/trial, best loss: -0.2525635814718753]"
     ]
    },
    {
     "name": "stderr",
     "output_type": "stream",
     "text": [
      "/home/renan/miniconda3/lib/python3.12/site-packages/sklearn/metrics/_classification.py:1565: UndefinedMetricWarning: Precision is ill-defined and being set to 0.0 in labels with no predicted samples. Use `zero_division` parameter to control this behavior.\n",
      "  _warn_prf(average, modifier, f\"{metric.capitalize()} is\", len(result))\n",
      "\n"
     ]
    },
    {
     "name": "stdout",
     "output_type": "stream",
     "text": [
      "🏃 View run SVC_{'C': 0.05, 'gamma': 0.01, 'kernel': 'rbf'} at: http://127.0.0.1:8080/#/experiments/193100077548678515/runs/cd3300e5589941aba06676c2acd7ea5d\n",
      "\n",
      "🧪 View experiment at: http://127.0.0.1:8080/#/experiments/193100077548678515   \n",
      "\n",
      "Params: {'C': 0.5, 'gamma': 10, 'kernel': 'rbf'}                                \n",
      " 40%|████      | 2/5 [01:56<02:56, 58.77s/trial, best loss: -0.2525635814718753]"
     ]
    },
    {
     "name": "stderr",
     "output_type": "stream",
     "text": [
      "/home/renan/miniconda3/lib/python3.12/site-packages/sklearn/metrics/_classification.py:1565: UndefinedMetricWarning: Precision is ill-defined and being set to 0.0 in labels with no predicted samples. Use `zero_division` parameter to control this behavior.\n",
      "  _warn_prf(average, modifier, f\"{metric.capitalize()} is\", len(result))\n",
      "\n"
     ]
    },
    {
     "name": "stdout",
     "output_type": "stream",
     "text": [
      "🏃 View run SVC_{'C': 0.5, 'gamma': 10, 'kernel': 'rbf'} at: http://127.0.0.1:8080/#/experiments/193100077548678515/runs/4275455e786f4a6facff17d809972ae4\n",
      "\n",
      "🧪 View experiment at: http://127.0.0.1:8080/#/experiments/193100077548678515   \n",
      "\n",
      "Params: {'C': 0.05, 'gamma': 0.1, 'kernel': 'rbf'}                              \n",
      " 60%|██████    | 3/5 [03:19<02:19, 69.84s/trial, best loss: -0.4209539786453059]"
     ]
    },
    {
     "name": "stderr",
     "output_type": "stream",
     "text": [
      "/home/renan/miniconda3/lib/python3.12/site-packages/sklearn/metrics/_classification.py:1565: UndefinedMetricWarning: Precision is ill-defined and being set to 0.0 in labels with no predicted samples. Use `zero_division` parameter to control this behavior.\n",
      "  _warn_prf(average, modifier, f\"{metric.capitalize()} is\", len(result))\n",
      "\n"
     ]
    },
    {
     "name": "stdout",
     "output_type": "stream",
     "text": [
      "🏃 View run SVC_{'C': 0.05, 'gamma': 0.1, 'kernel': 'rbf'} at: http://127.0.0.1:8080/#/experiments/193100077548678515/runs/1323e32aedbe403282cf4288497bf177\n",
      "\n",
      "🧪 View experiment at: http://127.0.0.1:8080/#/experiments/193100077548678515   \n",
      "\n",
      "Params: {'C': 0.5, 'gamma': 0.01, 'kernel': 'rbf'}                              \n",
      " 80%|████████  | 4/5 [04:07<01:01, 61.05s/trial, best loss: -0.4209539786453059]"
     ]
    },
    {
     "name": "stderr",
     "output_type": "stream",
     "text": [
      "/home/renan/miniconda3/lib/python3.12/site-packages/sklearn/metrics/_classification.py:1565: UndefinedMetricWarning: Precision is ill-defined and being set to 0.0 in labels with no predicted samples. Use `zero_division` parameter to control this behavior.\n",
      "  _warn_prf(average, modifier, f\"{metric.capitalize()} is\", len(result))\n",
      "\n"
     ]
    },
    {
     "name": "stdout",
     "output_type": "stream",
     "text": [
      "🏃 View run SVC_{'C': 0.5, 'gamma': 0.01, 'kernel': 'rbf'} at: http://127.0.0.1:8080/#/experiments/193100077548678515/runs/323a5e2fe60348a880e1103c10ac4698\n",
      "\n",
      "🧪 View experiment at: http://127.0.0.1:8080/#/experiments/193100077548678515   \n",
      "\n",
      "100%|██████████| 5/5 [04:55<00:00, 59.08s/trial, best loss: -0.4209539786453059]\n",
      "🏃 View run trts-svc-sweep at: http://127.0.0.1:8080/#/experiments/193100077548678515/runs/76cfb88f9a014955a1db461f79357183\n",
      "🧪 View experiment at: http://127.0.0.1:8080/#/experiments/193100077548678515\n",
      "This will run 5 trials to find optimal hyperparameters...\n",
      "Params: {'learning_rate': 0.4, 'max_depth': 5, 'n_estimators': 1000, 'random_state': 42}\n",
      "🏃 View run XGBClassifier_{'learning_rate': 0.4, 'max_depth': 5, 'n_estimators': 1000, 'random_state': 42} at: http://127.0.0.1:8080/#/experiments/193100077548678515/runs/4f3e0f9404104c99b0c2b076a01b42a8\n",
      "\n",
      "🧪 View experiment at: http://127.0.0.1:8080/#/experiments/193100077548678515\n",
      "\n",
      "Params: {'learning_rate': 0.01, 'max_depth': None, 'n_estimators': 500, 'random_state': 42}\n",
      "🏃 View run XGBClassifier_{'learning_rate': 0.01, 'max_depth': None, 'n_estimators': 500, 'random_state': 42} at: http://127.0.0.1:8080/#/experiments/193100077548678515/runs/fccaf605ae954eaca9d911c9f245d30f\n",
      "\n",
      "🧪 View experiment at: http://127.0.0.1:8080/#/experiments/193100077548678515   \n",
      "\n",
      "Params: {'learning_rate': 0.4, 'max_depth': 5, 'n_estimators': 700, 'random_state': 42}\n",
      "🏃 View run XGBClassifier_{'learning_rate': 0.4, 'max_depth': 5, 'n_estimators': 700, 'random_state': 42} at: http://127.0.0.1:8080/#/experiments/193100077548678515/runs/add7f236e25149829c545a36bcb3c856\n",
      "\n",
      "🧪 View experiment at: http://127.0.0.1:8080/#/experiments/193100077548678515   \n",
      "\n",
      "Params: {'learning_rate': 0.2, 'max_depth': 5, 'n_estimators': 700, 'random_state': 42}\n",
      "🏃 View run XGBClassifier_{'learning_rate': 0.2, 'max_depth': 5, 'n_estimators': 700, 'random_state': 42} at: http://127.0.0.1:8080/#/experiments/193100077548678515/runs/2eab722a6a0c4c63aca0260787d741f6\n",
      "\n",
      "🧪 View experiment at: http://127.0.0.1:8080/#/experiments/193100077548678515   \n",
      "\n",
      "Params: {'learning_rate': 0.1, 'max_depth': 5, 'n_estimators': 500, 'random_state': 42}\n",
      "🏃 View run XGBClassifier_{'learning_rate': 0.1, 'max_depth': 5, 'n_estimators': 500, 'random_state': 42} at: http://127.0.0.1:8080/#/experiments/193100077548678515/runs/285651dbc7e24a609cb506f7c463322b\n",
      "\n",
      "🧪 View experiment at: http://127.0.0.1:8080/#/experiments/193100077548678515   \n",
      "\n",
      "100%|██████████| 5/5 [00:35<00:00,  7.15s/trial, best loss: -0.5261354373470896]\n",
      "🏃 View run trts-xgb-sweep at: http://127.0.0.1:8080/#/experiments/193100077548678515/runs/2f7472795ec34ec2bf5fa93c1eab4145\n",
      "🧪 View experiment at: http://127.0.0.1:8080/#/experiments/193100077548678515\n"
     ]
    },
    {
     "data": {
      "text/plain": [
       "0.5261354373470896"
      ]
     },
     "execution_count": 28,
     "metadata": {},
     "output_type": "execute_result"
    }
   ],
   "source": [
    "model = RandomForestClassifier\n",
    "run_experiments('trts-rf-sweep', max_evals=max_evals, search_space=search_space_rf, data_name=data_name, model_name = 'RandomForestClassifier', features_names=sumo_columns_to_keep)\n",
    "model = SVC\n",
    "run_experiments('trts-svc-sweep', max_evals=max_evals, search_space=search_space_svc, data_name=data_name, model_name = 'SVC', features_names=sumo_columns_to_keep)\n",
    "model = xgb.XGBClassifier\n",
    "run_experiments('trts-xgb-sweep', max_evals=max_evals, search_space=search_space_xgb, data_name=data_name, model_name = 'XGBClassifier', features_names=sumo_columns_to_keep)"
   ]
  },
  {
   "cell_type": "markdown",
   "id": "67747de7",
   "metadata": {},
   "source": [
    "### LLM"
   ]
  },
  {
   "cell_type": "code",
   "execution_count": 29,
   "id": "521a42c3",
   "metadata": {},
   "outputs": [],
   "source": [
    "# Provide an Experiment description that will appear in the UI\n",
    "experiment_description = (\n",
    "    \"Experiment to TRTS on CARLA LLM data.\"\n",
    ")\n",
    "\n",
    "# Provide searchable tags that define characteristics of the Runs that\n",
    "# will be in this Experiment\n",
    "experiment_tags = {\n",
    "    \"project_name\": \"driver-behavior-prediction\",\n",
    "    \"mlflow.note.content\": experiment_description,\n",
    "}\n",
    "\n",
    "# Create the Experiment, providing a unique name\n",
    "try:\n",
    "    driver_behavior_experiment = client.create_experiment(\n",
    "        name=\"TRTS_CARLA_LLM\", tags=experiment_tags\n",
    "    )\n",
    "except mlflow.exceptions.RestException as e:\n",
    "    print(f\"Experiment already exists: {e}\")"
   ]
  },
  {
   "cell_type": "code",
   "execution_count": 30,
   "id": "3334c220",
   "metadata": {},
   "outputs": [],
   "source": [
    "X_val, y_val = preprocessor.sliding_windows(carla_llm, window_size=10, step_size=5)\n",
    "y_val = preprocessor.one_hot_encode(y_val, one_hot_keys)\n",
    "\n",
    "mlflow.set_experiment('TRTS_CARLA_LLM')\n",
    "data_name = 'TRTS_CARLA_LLM'"
   ]
  },
  {
   "cell_type": "code",
   "execution_count": 31,
   "id": "35bea98c",
   "metadata": {},
   "outputs": [
    {
     "name": "stdout",
     "output_type": "stream",
     "text": [
      "This will run 5 trials to find optimal hyperparameters...\n",
      "Params: {'max_depth': 10, 'n_estimators': 20, 'random_state': 42}\n",
      "🏃 View run RandomForestClassifier_{'max_depth': 10, 'n_estimators': 20, 'random_state': 42} at: http://127.0.0.1:8080/#/experiments/184858235810218053/runs/bbcd3d66920a4deba1424ced15f6eb3b\n",
      "\n",
      "🧪 View experiment at: http://127.0.0.1:8080/#/experiments/184858235810218053\n",
      "\n",
      "Params: {'max_depth': None, 'n_estimators': 500, 'random_state': 42}             \n",
      "🏃 View run RandomForestClassifier_{'max_depth': None, 'n_estimators': 500, 'random_state': 42} at: http://127.0.0.1:8080/#/experiments/184858235810218053/runs/74548cc8b773455e8180f8bf25d226a8\n",
      "\n",
      "🧪 View experiment at: http://127.0.0.1:8080/#/experiments/184858235810218053    \n",
      "\n",
      "Params: {'max_depth': 5, 'n_estimators': 20, 'random_state': 42}                 \n",
      "🏃 View run RandomForestClassifier_{'max_depth': 5, 'n_estimators': 20, 'random_state': 42} at: http://127.0.0.1:8080/#/experiments/184858235810218053/runs/44222a46941f4c708b109505144d94b7\n",
      "\n",
      "🧪 View experiment at: http://127.0.0.1:8080/#/experiments/184858235810218053   \n",
      "\n",
      "Params: {'max_depth': 10, 'n_estimators': 200, 'random_state': 42}              \n",
      "🏃 View run RandomForestClassifier_{'max_depth': 10, 'n_estimators': 200, 'random_state': 42} at: http://127.0.0.1:8080/#/experiments/184858235810218053/runs/7409619ed2d64237a01fa97ddef81c27\n",
      "\n",
      "🧪 View experiment at: http://127.0.0.1:8080/#/experiments/184858235810218053   \n",
      "\n",
      "Params: {'max_depth': 5, 'n_estimators': 500, 'random_state': 42}               \n",
      "🏃 View run RandomForestClassifier_{'max_depth': 5, 'n_estimators': 500, 'random_state': 42} at: http://127.0.0.1:8080/#/experiments/184858235810218053/runs/6c9b5aae9f5d48dcb66b8e5adfa94f9d\n",
      "\n",
      "🧪 View experiment at: http://127.0.0.1:8080/#/experiments/184858235810218053   \n",
      "\n",
      "100%|██████████| 5/5 [02:00<00:00, 24.14s/trial, best loss: -0.43334234333718763]\n",
      "🏃 View run trts-rf-sweep at: http://127.0.0.1:8080/#/experiments/184858235810218053/runs/bb2ef1d5ab424e9db225446d6ed39ce7\n",
      "🧪 View experiment at: http://127.0.0.1:8080/#/experiments/184858235810218053\n",
      "This will run 5 trials to find optimal hyperparameters...\n",
      "Params: {'C': 1, 'gamma': 0.1, 'kernel': 'rbf'}      \n",
      "  0%|          | 0/5 [00:00<?, ?trial/s, best loss=?]"
     ]
    },
    {
     "name": "stderr",
     "output_type": "stream",
     "text": [
      "/home/renan/miniconda3/lib/python3.12/site-packages/sklearn/metrics/_classification.py:1565: UndefinedMetricWarning: Precision is ill-defined and being set to 0.0 in labels with no predicted samples. Use `zero_division` parameter to control this behavior.\n",
      "  _warn_prf(average, modifier, f\"{metric.capitalize()} is\", len(result))\n",
      "\n"
     ]
    },
    {
     "name": "stdout",
     "output_type": "stream",
     "text": [
      "🏃 View run SVC_{'C': 1, 'gamma': 0.1, 'kernel': 'rbf'} at: http://127.0.0.1:8080/#/experiments/184858235810218053/runs/684d5d7a26bd4748a8720aab32931cff\n",
      "\n",
      "🧪 View experiment at: http://127.0.0.1:8080/#/experiments/184858235810218053\n",
      "\n",
      "Params: {'C': 0.01, 'gamma': 10, 'kernel': 'rbf'}                               \n",
      " 20%|██        | 1/5 [00:39<02:39, 39.95s/trial, best loss: -0.3805192649733608]"
     ]
    },
    {
     "name": "stderr",
     "output_type": "stream",
     "text": [
      "/home/renan/miniconda3/lib/python3.12/site-packages/sklearn/metrics/_classification.py:1565: UndefinedMetricWarning: Precision is ill-defined and being set to 0.0 in labels with no predicted samples. Use `zero_division` parameter to control this behavior.\n",
      "  _warn_prf(average, modifier, f\"{metric.capitalize()} is\", len(result))\n",
      "\n"
     ]
    },
    {
     "name": "stdout",
     "output_type": "stream",
     "text": [
      "🏃 View run SVC_{'C': 0.01, 'gamma': 10, 'kernel': 'rbf'} at: http://127.0.0.1:8080/#/experiments/184858235810218053/runs/9a4d50991c46476a8acd2bdec9ff815d\n",
      "\n",
      "🧪 View experiment at: http://127.0.0.1:8080/#/experiments/184858235810218053   \n",
      "\n",
      "Params: {'C': 0.01, 'gamma': 0.01, 'kernel': 'rbf'}                             \n",
      " 40%|████      | 2/5 [01:44<02:43, 54.65s/trial, best loss: -0.3805192649733608]"
     ]
    },
    {
     "name": "stderr",
     "output_type": "stream",
     "text": [
      "/home/renan/miniconda3/lib/python3.12/site-packages/sklearn/metrics/_classification.py:1565: UndefinedMetricWarning: Precision is ill-defined and being set to 0.0 in labels with no predicted samples. Use `zero_division` parameter to control this behavior.\n",
      "  _warn_prf(average, modifier, f\"{metric.capitalize()} is\", len(result))\n",
      "\n"
     ]
    },
    {
     "name": "stdout",
     "output_type": "stream",
     "text": [
      "🏃 View run SVC_{'C': 0.01, 'gamma': 0.01, 'kernel': 'rbf'} at: http://127.0.0.1:8080/#/experiments/184858235810218053/runs/ce8afd3176b2417fa762e29c6fe18538\n",
      "\n",
      "🧪 View experiment at: http://127.0.0.1:8080/#/experiments/184858235810218053   \n",
      "\n",
      "Params: {'C': 1, 'gamma': 0.1, 'kernel': 'rbf'}                                 \n",
      " 60%|██████    | 3/5 [02:47<01:56, 58.47s/trial, best loss: -0.3805192649733608]"
     ]
    },
    {
     "name": "stderr",
     "output_type": "stream",
     "text": [
      "/home/renan/miniconda3/lib/python3.12/site-packages/sklearn/metrics/_classification.py:1565: UndefinedMetricWarning: Precision is ill-defined and being set to 0.0 in labels with no predicted samples. Use `zero_division` parameter to control this behavior.\n",
      "  _warn_prf(average, modifier, f\"{metric.capitalize()} is\", len(result))\n",
      "\n"
     ]
    },
    {
     "name": "stdout",
     "output_type": "stream",
     "text": [
      "🏃 View run SVC_{'C': 1, 'gamma': 0.1, 'kernel': 'rbf'} at: http://127.0.0.1:8080/#/experiments/184858235810218053/runs/37557aed9349400a895b4fdd03b547ac\n",
      "\n",
      "🧪 View experiment at: http://127.0.0.1:8080/#/experiments/184858235810218053   \n",
      "\n",
      "Params: {'C': 0.05, 'gamma': 0.01, 'kernel': 'rbf'}                             \n",
      " 80%|████████  | 4/5 [03:24<00:50, 50.02s/trial, best loss: -0.3805192649733608]"
     ]
    },
    {
     "name": "stderr",
     "output_type": "stream",
     "text": [
      "/home/renan/miniconda3/lib/python3.12/site-packages/sklearn/metrics/_classification.py:1565: UndefinedMetricWarning: Precision is ill-defined and being set to 0.0 in labels with no predicted samples. Use `zero_division` parameter to control this behavior.\n",
      "  _warn_prf(average, modifier, f\"{metric.capitalize()} is\", len(result))\n",
      "\n"
     ]
    },
    {
     "name": "stdout",
     "output_type": "stream",
     "text": [
      "🏃 View run SVC_{'C': 0.05, 'gamma': 0.01, 'kernel': 'rbf'} at: http://127.0.0.1:8080/#/experiments/184858235810218053/runs/98538667a2774d328e907ba8136e548f\n",
      "\n",
      "🧪 View experiment at: http://127.0.0.1:8080/#/experiments/184858235810218053   \n",
      "\n",
      "100%|██████████| 5/5 [04:18<00:00, 51.63s/trial, best loss: -0.3805192649733608]\n",
      "🏃 View run trts-svc-sweep at: http://127.0.0.1:8080/#/experiments/184858235810218053/runs/fa8ccc63e7c14647ad2f3a4f22a89e9c\n",
      "🧪 View experiment at: http://127.0.0.1:8080/#/experiments/184858235810218053\n",
      "This will run 5 trials to find optimal hyperparameters...\n",
      "Params: {'learning_rate': 0.4, 'max_depth': None, 'n_estimators': 200, 'random_state': 42}\n",
      "🏃 View run XGBClassifier_{'learning_rate': 0.4, 'max_depth': None, 'n_estimators': 200, 'random_state': 42} at: http://127.0.0.1:8080/#/experiments/184858235810218053/runs/d2bd36b46f6e4c84b701319106d9ecd4\n",
      "\n",
      "🧪 View experiment at: http://127.0.0.1:8080/#/experiments/184858235810218053\n",
      "\n",
      "Params: {'learning_rate': 0.01, 'max_depth': 5, 'n_estimators': 200, 'random_state': 42}\n",
      "🏃 View run XGBClassifier_{'learning_rate': 0.01, 'max_depth': 5, 'n_estimators': 200, 'random_state': 42} at: http://127.0.0.1:8080/#/experiments/184858235810218053/runs/bc595a675972472d9a8e4a940e9b1277\n",
      "\n",
      "🧪 View experiment at: http://127.0.0.1:8080/#/experiments/184858235810218053    \n",
      "\n",
      "Params: {'learning_rate': 0.001, 'max_depth': 5, 'n_estimators': 1000, 'random_state': 42}\n",
      "🏃 View run XGBClassifier_{'learning_rate': 0.001, 'max_depth': 5, 'n_estimators': 1000, 'random_state': 42} at: http://127.0.0.1:8080/#/experiments/184858235810218053/runs/ab3080b23a5b4e42abe484e2254438d9\n",
      "\n",
      "🧪 View experiment at: http://127.0.0.1:8080/#/experiments/184858235810218053    \n",
      "\n",
      "Params: {'learning_rate': 0.3, 'max_depth': 5, 'n_estimators': 500, 'random_state': 42}\n",
      "🏃 View run XGBClassifier_{'learning_rate': 0.3, 'max_depth': 5, 'n_estimators': 500, 'random_state': 42} at: http://127.0.0.1:8080/#/experiments/184858235810218053/runs/7d00ee28a96140a488ecfb37383a7c9e\n",
      "\n",
      "🧪 View experiment at: http://127.0.0.1:8080/#/experiments/184858235810218053    \n",
      "\n",
      "Params: {'learning_rate': 0.001, 'max_depth': None, 'n_estimators': 200, 'random_state': 42}\n",
      " 80%|████████  | 4/5 [00:16<00:04,  4.52s/trial, best loss: -0.5194390536550584]"
     ]
    },
    {
     "name": "stderr",
     "output_type": "stream",
     "text": [
      "/home/renan/miniconda3/lib/python3.12/site-packages/sklearn/metrics/_classification.py:1565: UndefinedMetricWarning: Precision is ill-defined and being set to 0.0 in labels with no predicted samples. Use `zero_division` parameter to control this behavior.\n",
      "  _warn_prf(average, modifier, f\"{metric.capitalize()} is\", len(result))\n",
      "\n"
     ]
    },
    {
     "name": "stdout",
     "output_type": "stream",
     "text": [
      "🏃 View run XGBClassifier_{'learning_rate': 0.001, 'max_depth': None, 'n_estimators': 200, 'random_state': 42} at: http://127.0.0.1:8080/#/experiments/184858235810218053/runs/43b001fc5b9d4dd3bd671626e06dbf2e\n",
      "\n",
      "🧪 View experiment at: http://127.0.0.1:8080/#/experiments/184858235810218053   \n",
      "\n",
      "100%|██████████| 5/5 [00:19<00:00,  3.90s/trial, best loss: -0.5194390536550584]\n",
      "🏃 View run trts-xgb-sweep at: http://127.0.0.1:8080/#/experiments/184858235810218053/runs/6fae331e04c8450ea184475c3b0c2dca\n",
      "🧪 View experiment at: http://127.0.0.1:8080/#/experiments/184858235810218053\n"
     ]
    },
    {
     "data": {
      "text/plain": [
       "0.5194390536550584"
      ]
     },
     "execution_count": 31,
     "metadata": {},
     "output_type": "execute_result"
    }
   ],
   "source": [
    "model = RandomForestClassifier\n",
    "run_experiments('trts-rf-sweep', max_evals=max_evals, search_space=search_space_rf, data_name=data_name, model_name = 'RandomForestClassifier', features_names=sumo_columns_to_keep)\n",
    "model = SVC\n",
    "run_experiments('trts-svc-sweep', max_evals=max_evals, search_space=search_space_svc, data_name=data_name, model_name = 'SVC', features_names=sumo_columns_to_keep)\n",
    "model = xgb.XGBClassifier\n",
    "run_experiments('trts-xgb-sweep', max_evals=max_evals, search_space=search_space_xgb, data_name=data_name, model_name = 'XGBClassifier', features_names=sumo_columns_to_keep)"
   ]
  },
  {
   "cell_type": "markdown",
   "id": "e00bb44e",
   "metadata": {},
   "source": [
    "# Discriminative Score"
   ]
  },
  {
   "cell_type": "markdown",
   "id": "33ea4a7b",
   "metadata": {},
   "source": [
    "We seek to understand how well a classifier can separate the real and the synthetic data to determine how indistiguishable they are.\n",
    "\n",
    "If the classifiers do not get good scores, that means the data is hardly distinguishable."
   ]
  },
  {
   "cell_type": "code",
   "execution_count": 152,
   "id": "4fb96798",
   "metadata": {},
   "outputs": [],
   "source": [
    "X_uah_disc_sumo = uah_training[sumo_columns_to_keep].drop(columns=['label'])\n",
    "X_uah_disc_carla = uah_training[carla_columns_to_keep].drop(columns=['label'])\n",
    "y_uah_disc = np.zeros(len(X_uah_disc_carla)) # 0 for real data and 1 for synthetic data"
   ]
  },
  {
   "cell_type": "markdown",
   "id": "e5a2c99c",
   "metadata": {},
   "source": [
    "## SUMO"
   ]
  },
  {
   "cell_type": "code",
   "execution_count": 156,
   "id": "fc959c0a",
   "metadata": {},
   "outputs": [],
   "source": [
    "X_sumo_disc_fixed, y_sumo_disc_fixed = sumo_fixed.drop(columns=['label']), np.ones(len(sumo_fixed))\n",
    "X_sumo_disc_llm, y_sumo_disc_llm = sumo_llm.drop(columns=['label']), np.ones(len(sumo_llm))"
   ]
  },
  {
   "cell_type": "markdown",
   "id": "fb75d026",
   "metadata": {},
   "source": [
    "### Fixed"
   ]
  },
  {
   "cell_type": "code",
   "execution_count": 206,
   "id": "7b5635fc",
   "metadata": {},
   "outputs": [],
   "source": [
    "X, y = pd.concat([X_sumo_disc_fixed, X_uah_disc_sumo], axis=0, ignore_index=True), np.concat([y_sumo_disc_fixed, y_uah_disc], axis=0)\n",
    "X.reset_index(drop=True, inplace=True)\n",
    "X_train, X_val, y_train, y_val = train_test_split(X, y, test_size=0.2, random_state=42, shuffle=True)"
   ]
  },
  {
   "cell_type": "code",
   "execution_count": 207,
   "id": "4508209a",
   "metadata": {},
   "outputs": [
    {
     "name": "stdout",
     "output_type": "stream",
     "text": [
      "F1 Score: 1.0\n",
      "Accuracy: 1.0\n"
     ]
    }
   ],
   "source": [
    "rf = RandomForestClassifier()\n",
    "rf.fit(X_train, y_train)\n",
    "y_pred = rf.predict(X_val)\n",
    "print(f\"F1 Score: {f1_score(y_val, y_pred, average='weighted')}\")\n",
    "print(f\"Accuracy: {accuracy_score(y_val, y_pred)}\")"
   ]
  },
  {
   "cell_type": "code",
   "execution_count": 215,
   "id": "761876f2",
   "metadata": {},
   "outputs": [
    {
     "name": "stdout",
     "output_type": "stream",
     "text": [
      "F1 Score: 1.0\n",
      "Accuracy: 1.0\n"
     ]
    }
   ],
   "source": [
    "svc = SVC(kernel='rbf')\n",
    "svc.fit(X_train, y_train)\n",
    "y_pred = svc.predict(X_val)\n",
    "print(f\"F1 Score: {f1_score(y_val, y_pred, average='weighted')}\")\n",
    "print(f\"Accuracy: {accuracy_score(y_val, y_pred)}\")"
   ]
  },
  {
   "cell_type": "markdown",
   "id": "3cdb944b",
   "metadata": {},
   "source": [
    "### LLM"
   ]
  },
  {
   "cell_type": "code",
   "execution_count": 209,
   "id": "2593281c",
   "metadata": {},
   "outputs": [],
   "source": [
    "X, y = pd.concat([X_sumo_disc_llm, X_uah_disc_sumo], axis=0, ignore_index=True), np.concat([y_sumo_disc_llm, y_uah_disc], axis=0)\n",
    "X.reset_index(drop=True, inplace=True)\n",
    "X_train, X_val, y_train, y_val = train_test_split(X, y, test_size=0.2, random_state=42, shuffle=True)"
   ]
  },
  {
   "cell_type": "code",
   "execution_count": 210,
   "id": "5f06eff1",
   "metadata": {},
   "outputs": [
    {
     "name": "stdout",
     "output_type": "stream",
     "text": [
      "F1 Score: 1.0\n",
      "Accuracy: 1.0\n"
     ]
    }
   ],
   "source": [
    "rf = RandomForestClassifier()\n",
    "rf.fit(X_train, y_train)\n",
    "y_pred = rf.predict(X_val)\n",
    "print(f\"F1 Score: {f1_score(y_val, y_pred, average='weighted')}\")\n",
    "print(f\"Accuracy: {accuracy_score(y_val, y_pred)}\")"
   ]
  },
  {
   "cell_type": "code",
   "execution_count": 216,
   "id": "f2eb85f5",
   "metadata": {},
   "outputs": [
    {
     "name": "stdout",
     "output_type": "stream",
     "text": [
      "F1 Score: 1.0\n",
      "Accuracy: 1.0\n"
     ]
    }
   ],
   "source": [
    "svc = SVC(kernel='rbf')\n",
    "svc.fit(X_train, y_train)\n",
    "y_pred = svc.predict(X_val)\n",
    "print(f\"F1 Score: {f1_score(y_val, y_pred, average='weighted')}\")\n",
    "print(f\"Accuracy: {accuracy_score(y_val, y_pred)}\")"
   ]
  },
  {
   "cell_type": "markdown",
   "id": "8fc572b9",
   "metadata": {},
   "source": [
    "## CARLA"
   ]
  },
  {
   "cell_type": "code",
   "execution_count": 208,
   "id": "1d3d9e9f",
   "metadata": {},
   "outputs": [],
   "source": [
    "X_carla_disc_fixed, y_carla_disc_fixed = carla_fixed.drop(columns=['label']), np.ones(len(carla_fixed))\n",
    "X_carla_disc_llm, y_carla_disc_llm = carla_llm.drop(columns=['label']), np.ones(len(carla_llm))"
   ]
  },
  {
   "cell_type": "markdown",
   "id": "a13c9d64",
   "metadata": {},
   "source": [
    "### Fixed"
   ]
  },
  {
   "cell_type": "code",
   "execution_count": 211,
   "id": "b6fcc9d0",
   "metadata": {},
   "outputs": [],
   "source": [
    "X, y = pd.concat([X_carla_disc_fixed, X_uah_disc_carla], axis=0, ignore_index=True), np.concat([y_carla_disc_fixed, y_uah_disc], axis=0)\n",
    "X.reset_index(drop=True, inplace=True)\n",
    "X_train, X_val, y_train, y_val = train_test_split(X, y, test_size=0.2, random_state=42, shuffle=True)"
   ]
  },
  {
   "cell_type": "code",
   "execution_count": 212,
   "id": "2169b82f",
   "metadata": {},
   "outputs": [
    {
     "name": "stdout",
     "output_type": "stream",
     "text": [
      "F1 Score: 1.0\n",
      "Accuracy: 1.0\n"
     ]
    }
   ],
   "source": [
    "rf = RandomForestClassifier()\n",
    "rf.fit(X_train, y_train)\n",
    "y_pred = rf.predict(X_val)\n",
    "print(f\"F1 Score: {f1_score(y_val, y_pred, average='weighted')}\")\n",
    "print(f\"Accuracy: {accuracy_score(y_val, y_pred)}\")"
   ]
  },
  {
   "cell_type": "code",
   "execution_count": 217,
   "id": "11220b3c",
   "metadata": {},
   "outputs": [
    {
     "name": "stdout",
     "output_type": "stream",
     "text": [
      "F1 Score: 1.0\n",
      "Accuracy: 1.0\n"
     ]
    }
   ],
   "source": [
    "svc = SVC(kernel='rbf')\n",
    "svc.fit(X_train, y_train)\n",
    "y_pred = svc.predict(X_val)\n",
    "print(f\"F1 Score: {f1_score(y_val, y_pred, average='weighted')}\")\n",
    "print(f\"Accuracy: {accuracy_score(y_val, y_pred)}\")"
   ]
  },
  {
   "cell_type": "markdown",
   "id": "e67f88f7",
   "metadata": {},
   "source": [
    "### LLM"
   ]
  },
  {
   "cell_type": "code",
   "execution_count": 213,
   "id": "aa3c7d8c",
   "metadata": {},
   "outputs": [],
   "source": [
    "X, y = pd.concat([X_carla_disc_llm, X_uah_disc_carla], axis=0, ignore_index=True), np.concat([y_carla_disc_llm, y_uah_disc], axis=0)\n",
    "X.reset_index(drop=True, inplace=True)\n",
    "X_train, X_val, y_train, y_val = train_test_split(X, y, test_size=0.2, random_state=42, shuffle=True)"
   ]
  },
  {
   "cell_type": "code",
   "execution_count": 214,
   "id": "ca3c9f70",
   "metadata": {},
   "outputs": [
    {
     "name": "stdout",
     "output_type": "stream",
     "text": [
      "F1 Score: 1.0\n",
      "Accuracy: 1.0\n"
     ]
    }
   ],
   "source": [
    "rf = RandomForestClassifier()\n",
    "rf.fit(X_train, y_train)\n",
    "y_pred = rf.predict(X_val)\n",
    "print(f\"F1 Score: {f1_score(y_val, y_pred, average='weighted')}\")\n",
    "print(f\"Accuracy: {accuracy_score(y_val, y_pred)}\")"
   ]
  },
  {
   "cell_type": "code",
   "execution_count": 218,
   "id": "725edc1b",
   "metadata": {},
   "outputs": [
    {
     "name": "stdout",
     "output_type": "stream",
     "text": [
      "F1 Score: 1.0\n",
      "Accuracy: 1.0\n"
     ]
    }
   ],
   "source": [
    "svc = SVC(kernel='rbf')\n",
    "svc.fit(X_train, y_train)\n",
    "y_pred = svc.predict(X_val)\n",
    "print(f\"F1 Score: {f1_score(y_val, y_pred, average='weighted')}\")\n",
    "print(f\"Accuracy: {accuracy_score(y_val, y_pred)}\")"
   ]
  },
  {
   "cell_type": "markdown",
   "id": "4d1d188d",
   "metadata": {},
   "source": [
    "# Predictive Scores"
   ]
  },
  {
   "cell_type": "markdown",
   "id": "9a4ef45f",
   "metadata": {},
   "source": [
    "Here we train on different combinations of real and synthetic data and test on real data only in order to verify the quality of the data for real-world applications."
   ]
  },
  {
   "cell_type": "markdown",
   "id": "2f678a67",
   "metadata": {},
   "source": [
    "## Real Only"
   ]
  },
  {
   "cell_type": "code",
   "execution_count": null,
   "id": "1730251d",
   "metadata": {},
   "outputs": [],
   "source": [
    "# Provide an Experiment description that will appear in the UI\n",
    "experiment_description = (\n",
    "    \"Experiment to train models on the UAH driveset.\"\n",
    ")\n",
    "\n",
    "# Provide searchable tags that define characteristics of the Runs that\n",
    "# will be in this Experiment\n",
    "experiment_tags = {\n",
    "    \"project_name\": \"driver-behavior-prediction\",\n",
    "    \"mlflow.note.content\": experiment_description,\n",
    "}\n",
    "\n",
    "# Create the Experiment, providing a unique name\n",
    "try:\n",
    "    driver_behavior_experiment = client.create_experiment(\n",
    "        name=\"UAH\", tags=experiment_tags\n",
    "    )\n",
    "except mlflow.exceptions.RestException as e:\n",
    "    print(f\"Experiment already exists: {e}\")"
   ]
  },
  {
   "cell_type": "code",
   "execution_count": null,
   "id": "05595ec8",
   "metadata": {},
   "outputs": [],
   "source": [
    "columns_to_keep = ['acc_x', 'acc_y', 'acc_z', 'gyro_x', 'gyro_y', 'gyro_z', 'angle', 'speed', 'label']\n",
    "\n",
    "X_train, y_train = preprocessor.sliding_windows(uah_training[columns_to_keep], window_size=window_size, step_size=step_size)\n",
    "X_val, y_val = preprocessor.sliding_windows(uah_validation[columns_to_keep], window_size=window_size, step_size=step_size)\n",
    "\n",
    "scaler = StandardScaler()\n",
    "X_train = scaler.fit_transform(X_train)\n",
    "X_val = scaler.transform(X_val)\n",
    "\n",
    "y_train = preprocessor.one_hot_encode(y_train, one_hot_keys=one_hot_keys)\n",
    "y_val = preprocessor.one_hot_encode(y_val, one_hot_keys=one_hot_keys)\n",
    "\n",
    "signature = infer_signature(X_train, y_train)\n",
    "mlflow.set_experiment('UAH')\n",
    "data_name = 'UAH'"
   ]
  },
  {
   "cell_type": "code",
   "execution_count": 11,
   "id": "fab04b02",
   "metadata": {},
   "outputs": [
    {
     "name": "stdout",
     "output_type": "stream",
     "text": [
      "This will run 5 trials to find optimal hyperparameters...\n",
      "Params: {'max_depth': 20, 'n_estimators': 200, 'random_state': 42}\n",
      "🏃 View run RandomForestClassifier_{'max_depth': 20, 'n_estimators': 200, 'random_state': 42} at: http://127.0.0.1:8080/#/experiments/680415510059672824/runs/b4545e6d62fb46ee9f6327196b0e46fd\n",
      "\n",
      "🧪 View experiment at: http://127.0.0.1:8080/#/experiments/680415510059672824\n",
      "\n",
      "Params: {'max_depth': 50, 'n_estimators': 20, 'random_state': 42}               \n",
      "🏃 View run RandomForestClassifier_{'max_depth': 50, 'n_estimators': 20, 'random_state': 42} at: http://127.0.0.1:8080/#/experiments/680415510059672824/runs/6b7d4a795d7b4e998301d39109dd01bc\n",
      "\n",
      "🧪 View experiment at: http://127.0.0.1:8080/#/experiments/680415510059672824   \n",
      "\n",
      "Params: {'max_depth': 10, 'n_estimators': 200, 'random_state': 42}              \n",
      "🏃 View run RandomForestClassifier_{'max_depth': 10, 'n_estimators': 200, 'random_state': 42} at: http://127.0.0.1:8080/#/experiments/680415510059672824/runs/cb94b8efb8bb4e7c9a40d551bb4f03e7\n",
      "\n",
      "🧪 View experiment at: http://127.0.0.1:8080/#/experiments/680415510059672824   \n",
      "\n",
      "Params: {'max_depth': None, 'n_estimators': 100, 'random_state': 42}            \n",
      "🏃 View run RandomForestClassifier_{'max_depth': None, 'n_estimators': 100, 'random_state': 42} at: http://127.0.0.1:8080/#/experiments/680415510059672824/runs/569761a45e884a5e8309357074593c82\n",
      "\n",
      "🧪 View experiment at: http://127.0.0.1:8080/#/experiments/680415510059672824   \n",
      "\n",
      "Params: {'max_depth': None, 'n_estimators': 500, 'random_state': 42}            \n",
      "🏃 View run RandomForestClassifier_{'max_depth': None, 'n_estimators': 500, 'random_state': 42} at: http://127.0.0.1:8080/#/experiments/680415510059672824/runs/7110b8ff9fdc476fbe3a2dbfbaf01b9d\n",
      "\n",
      "🧪 View experiment at: http://127.0.0.1:8080/#/experiments/680415510059672824   \n",
      "\n",
      "100%|██████████| 5/5 [01:56<00:00, 23.37s/trial, best loss: -0.7193917143316215]\n",
      "🏃 View run rf-sweep at: http://127.0.0.1:8080/#/experiments/680415510059672824/runs/41b43eb425a642718d043e0959c23abe\n",
      "🧪 View experiment at: http://127.0.0.1:8080/#/experiments/680415510059672824\n",
      "This will run 5 trials to find optimal hyperparameters...\n",
      "Params: {'C': 0.05, 'gamma': 0.1, 'kernel': 'rbf'}   \n",
      "🏃 View run SVC_{'C': 0.05, 'gamma': 0.1, 'kernel': 'rbf'} at: http://127.0.0.1:8080/#/experiments/680415510059672824/runs/9f81bafbe15f4defbfa9915a10ea9de2\n",
      "\n",
      "🧪 View experiment at: http://127.0.0.1:8080/#/experiments/680415510059672824\n",
      "\n",
      "Params: {'C': 0.01, 'gamma': 0.01, 'kernel': 'rbf'}                             \n",
      "🏃 View run SVC_{'C': 0.01, 'gamma': 0.01, 'kernel': 'rbf'} at: http://127.0.0.1:8080/#/experiments/680415510059672824/runs/c05472d9149d4ac280d3097b5b43775a\n",
      "\n",
      "🧪 View experiment at: http://127.0.0.1:8080/#/experiments/680415510059672824   \n",
      "\n",
      "Params: {'C': 0.01, 'gamma': 10, 'kernel': 'rbf'}                               \n",
      " 40%|████      | 2/5 [01:13<01:49, 36.60s/trial, best loss: -0.750378634529194]"
     ]
    },
    {
     "name": "stderr",
     "output_type": "stream",
     "text": [
      "/home/renan/miniconda3/lib/python3.12/site-packages/sklearn/metrics/_classification.py:1565: UndefinedMetricWarning: Precision is ill-defined and being set to 0.0 in labels with no predicted samples. Use `zero_division` parameter to control this behavior.\n",
      "  _warn_prf(average, modifier, f\"{metric.capitalize()} is\", len(result))\n",
      "\n"
     ]
    },
    {
     "name": "stdout",
     "output_type": "stream",
     "text": [
      "🏃 View run SVC_{'C': 0.01, 'gamma': 10, 'kernel': 'rbf'} at: http://127.0.0.1:8080/#/experiments/680415510059672824/runs/3547e21a18804c97a66c4ecb8742fb8a\n",
      "\n",
      "🧪 View experiment at: http://127.0.0.1:8080/#/experiments/680415510059672824  \n",
      "\n",
      "Params: {'C': 0.1, 'gamma': 1, 'kernel': 'rbf'}                                \n",
      " 60%|██████    | 3/5 [02:52<02:10, 65.14s/trial, best loss: -0.750378634529194]"
     ]
    },
    {
     "name": "stderr",
     "output_type": "stream",
     "text": [
      "/home/renan/miniconda3/lib/python3.12/site-packages/sklearn/metrics/_classification.py:1565: UndefinedMetricWarning: Precision is ill-defined and being set to 0.0 in labels with no predicted samples. Use `zero_division` parameter to control this behavior.\n",
      "  _warn_prf(average, modifier, f\"{metric.capitalize()} is\", len(result))\n",
      "\n"
     ]
    },
    {
     "name": "stdout",
     "output_type": "stream",
     "text": [
      "🏃 View run SVC_{'C': 0.1, 'gamma': 1, 'kernel': 'rbf'} at: http://127.0.0.1:8080/#/experiments/680415510059672824/runs/3f6d065d3a084c8685ebc7d99dfeca1d\n",
      "\n",
      "🧪 View experiment at: http://127.0.0.1:8080/#/experiments/680415510059672824  \n",
      "\n",
      "Params: {'C': 0.01, 'gamma': 1, 'kernel': 'rbf'}                               \n",
      " 80%|████████  | 4/5 [04:39<01:21, 81.39s/trial, best loss: -0.750378634529194]"
     ]
    },
    {
     "name": "stderr",
     "output_type": "stream",
     "text": [
      "/home/renan/miniconda3/lib/python3.12/site-packages/sklearn/metrics/_classification.py:1565: UndefinedMetricWarning: Precision is ill-defined and being set to 0.0 in labels with no predicted samples. Use `zero_division` parameter to control this behavior.\n",
      "  _warn_prf(average, modifier, f\"{metric.capitalize()} is\", len(result))\n",
      "\n"
     ]
    },
    {
     "name": "stdout",
     "output_type": "stream",
     "text": [
      "🏃 View run SVC_{'C': 0.01, 'gamma': 1, 'kernel': 'rbf'} at: http://127.0.0.1:8080/#/experiments/680415510059672824/runs/1627897df74d4bfdbad38ca7485473af\n",
      "\n",
      "🧪 View experiment at: http://127.0.0.1:8080/#/experiments/680415510059672824  \n",
      "\n",
      "100%|██████████| 5/5 [05:56<00:00, 71.30s/trial, best loss: -0.750378634529194]\n",
      "🏃 View run svc-sweep at: http://127.0.0.1:8080/#/experiments/680415510059672824/runs/71e1a6a806be4bf3877addaf7602f185\n",
      "🧪 View experiment at: http://127.0.0.1:8080/#/experiments/680415510059672824\n",
      "This will run 5 trials to find optimal hyperparameters...\n",
      "Params: {'C': 0.1}                                   \n",
      "🏃 View run LinearSVC_{'C': 0.1} at: http://127.0.0.1:8080/#/experiments/680415510059672824/runs/961149dd405b4f318d2214cc3fcf69cb\n",
      "\n",
      "🧪 View experiment at: http://127.0.0.1:8080/#/experiments/680415510059672824\n",
      "\n",
      "Params: {'C': 0.01}                                                             \n",
      "🏃 View run LinearSVC_{'C': 0.01} at: http://127.0.0.1:8080/#/experiments/680415510059672824/runs/f6475d8cd01d46a58cdd6f06ef65f42d\n",
      "\n",
      "🧪 View experiment at: http://127.0.0.1:8080/#/experiments/680415510059672824   \n",
      "\n",
      "Params: {'C': 0.01}                                                             \n",
      "🏃 View run LinearSVC_{'C': 0.01} at: http://127.0.0.1:8080/#/experiments/680415510059672824/runs/2dde06b3cff544c898299fac9d9cdf91\n",
      "\n",
      "🧪 View experiment at: http://127.0.0.1:8080/#/experiments/680415510059672824   \n",
      "\n",
      "Params: {'C': 0.1}                                                              \n",
      "🏃 View run LinearSVC_{'C': 0.1} at: http://127.0.0.1:8080/#/experiments/680415510059672824/runs/fdf2629d4c7348449a3fd5db8d600282\n",
      "\n",
      "🧪 View experiment at: http://127.0.0.1:8080/#/experiments/680415510059672824   \n",
      "\n",
      "Params: {'C': 0.1}                                                              \n",
      "🏃 View run LinearSVC_{'C': 0.1} at: http://127.0.0.1:8080/#/experiments/680415510059672824/runs/31ff789434f74bf2ba7047965daee9f6\n",
      "\n",
      "🧪 View experiment at: http://127.0.0.1:8080/#/experiments/680415510059672824   \n",
      "\n",
      "100%|██████████| 5/5 [00:12<00:00,  2.54s/trial, best loss: -0.6603828812243903]\n",
      "🏃 View run svc-linear-sweep at: http://127.0.0.1:8080/#/experiments/680415510059672824/runs/d417f0c9a6a8438c8c41881acb61429e\n",
      "🧪 View experiment at: http://127.0.0.1:8080/#/experiments/680415510059672824\n",
      "This will run 5 trials to find optimal hyperparameters...\n",
      "Params: {'learning_rate': 0.001, 'max_depth': 10, 'n_estimators': 200, 'random_state': 42}\n",
      "  0%|          | 0/5 [00:00<?, ?trial/s, best loss=?]"
     ]
    },
    {
     "name": "stderr",
     "output_type": "stream",
     "text": [
      "/home/renan/miniconda3/lib/python3.12/site-packages/sklearn/metrics/_classification.py:1565: UndefinedMetricWarning: Precision is ill-defined and being set to 0.0 in labels with no predicted samples. Use `zero_division` parameter to control this behavior.\n",
      "  _warn_prf(average, modifier, f\"{metric.capitalize()} is\", len(result))\n",
      "\n"
     ]
    },
    {
     "name": "stdout",
     "output_type": "stream",
     "text": [
      "🏃 View run XGBClassifier_{'learning_rate': 0.001, 'max_depth': 10, 'n_estimators': 200, 'random_state': 42} at: http://127.0.0.1:8080/#/experiments/680415510059672824/runs/b78074ff33a24aa6b3cc0cbcee31bd8d\n",
      "\n",
      "🧪 View experiment at: http://127.0.0.1:8080/#/experiments/680415510059672824\n",
      "\n",
      "Params: {'learning_rate': 0.4, 'max_depth': None, 'n_estimators': 700, 'random_state': 42}\n",
      "🏃 View run XGBClassifier_{'learning_rate': 0.4, 'max_depth': None, 'n_estimators': 700, 'random_state': 42} at: http://127.0.0.1:8080/#/experiments/680415510059672824/runs/d4282d0f88fc427e937b8b21c6f41ea2\n",
      "\n",
      "🧪 View experiment at: http://127.0.0.1:8080/#/experiments/680415510059672824   \n",
      "\n",
      "Params: {'learning_rate': 0.5, 'max_depth': None, 'n_estimators': 1000, 'random_state': 42}\n",
      "🏃 View run XGBClassifier_{'learning_rate': 0.5, 'max_depth': None, 'n_estimators': 1000, 'random_state': 42} at: http://127.0.0.1:8080/#/experiments/680415510059672824/runs/9f292825a3fc4dfcbee22a3be6dd4269\n",
      "\n",
      "🧪 View experiment at: http://127.0.0.1:8080/#/experiments/680415510059672824   \n",
      "\n",
      "Params: {'learning_rate': 0.01, 'max_depth': 10, 'n_estimators': 500, 'random_state': 42}\n",
      "🏃 View run XGBClassifier_{'learning_rate': 0.01, 'max_depth': 10, 'n_estimators': 500, 'random_state': 42} at: http://127.0.0.1:8080/#/experiments/680415510059672824/runs/7744a8f05de7424c8db4dbbfafc6ec06\n",
      "\n",
      "🧪 View experiment at: http://127.0.0.1:8080/#/experiments/680415510059672824   \n",
      "\n",
      "Params: {'learning_rate': 0.001, 'max_depth': 10, 'n_estimators': 700, 'random_state': 42}\n",
      "🏃 View run XGBClassifier_{'learning_rate': 0.001, 'max_depth': 10, 'n_estimators': 700, 'random_state': 42} at: http://127.0.0.1:8080/#/experiments/680415510059672824/runs/b0c49bfab0ac49c2bdc667ec51326048\n",
      "\n",
      "🧪 View experiment at: http://127.0.0.1:8080/#/experiments/680415510059672824   \n",
      "\n",
      "100%|██████████| 5/5 [01:04<00:00, 12.85s/trial, best loss: -0.7218176596094258]\n",
      "🏃 View run xgb-sweep at: http://127.0.0.1:8080/#/experiments/680415510059672824/runs/f4defa505621409a852ea016dfc77d4f\n",
      "🧪 View experiment at: http://127.0.0.1:8080/#/experiments/680415510059672824\n"
     ]
    },
    {
     "data": {
      "text/plain": [
       "0.7218176596094258"
      ]
     },
     "execution_count": 11,
     "metadata": {},
     "output_type": "execute_result"
    }
   ],
   "source": [
    "model = RandomForestClassifier\n",
    "run_experiments('rf-sweep', max_evals=max_evals, search_space=search_space_rf, data_name=data_name, model_name = 'RandomForestClassifier', features_names=columns_to_keep)\n",
    "model = SVC\n",
    "run_experiments('svc-sweep', max_evals=max_evals, search_space=search_space_svc, data_name=data_name, model_name = 'SVC', features_names=columns_to_keep)\n",
    "model = LinearSVC\n",
    "run_experiments('svc-linear-sweep', max_evals=max_evals, search_space=search_space_svc_linear, data_name=data_name, model_name = 'LinearSVC', features_names=columns_to_keep)\n",
    "model = xgb.XGBClassifier\n",
    "run_experiments('xgb-sweep', max_evals=max_evals, search_space=search_space_xgb, data_name=data_name, model_name = 'XGBClassifier', features_names=columns_to_keep)"
   ]
  },
  {
   "cell_type": "markdown",
   "id": "05f0c899",
   "metadata": {},
   "source": [
    "## SUMO Only"
   ]
  },
  {
   "cell_type": "code",
   "execution_count": 12,
   "id": "4b0bd8d1",
   "metadata": {},
   "outputs": [],
   "source": [
    "# SUMO\n",
    "X_sumo_fixed, y_sumo_fixed = preprocessor.sliding_windows(sumo_fixed, window_size=window_size, step_size=step_size)\n",
    "X_sumo_llm, y_sumo_llm = preprocessor.sliding_windows(sumo_llm, window_size=window_size, step_size=step_size)"
   ]
  },
  {
   "cell_type": "code",
   "execution_count": 35,
   "id": "98105bf0",
   "metadata": {},
   "outputs": [
    {
     "name": "stdout",
     "output_type": "stream",
     "text": [
      "Columns to keep for validation: ['acc', 'angle', 'speed', 'gyro_z', 'label']\n"
     ]
    }
   ],
   "source": [
    "# Getting the validation for SUMO variables\n",
    "print(\"Columns to keep for validation:\", sumo_columns_to_keep)\n",
    "\n",
    "X_val_base, y_val = preprocessor.sliding_windows(uah_validation[sumo_columns_to_keep], window_size=window_size, step_size=step_size)\n",
    "y_val = preprocessor.one_hot_encode(y_val, one_hot_keys=one_hot_keys)"
   ]
  },
  {
   "cell_type": "markdown",
   "id": "69e823c8",
   "metadata": {},
   "source": [
    "### Fixed"
   ]
  },
  {
   "cell_type": "code",
   "execution_count": null,
   "id": "da934d9c",
   "metadata": {},
   "outputs": [],
   "source": [
    "# Provide an Experiment description that will appear in the UI\n",
    "experiment_description = (\n",
    "    \"Experiment to train models on the SUMO Fixed dataset.\"\n",
    ")\n",
    "\n",
    "# Provide searchable tags that define characteristics of the Runs that\n",
    "# will be in this Experiment\n",
    "experiment_tags = {\n",
    "    \"project_name\": \"driver-behavior-prediction\",\n",
    "    \"mlflow.note.content\": experiment_description,\n",
    "}\n",
    "\n",
    "# Create the Experiment, providing a unique name\n",
    "try:\n",
    "    driver_behavior_experiment = client.create_experiment(\n",
    "        name=\"SUMO_Fixed\", tags=experiment_tags\n",
    "    )\n",
    "except mlflow.exceptions.RestException as e:\n",
    "    print(f\"Experiment already exists: {e}\")"
   ]
  },
  {
   "cell_type": "code",
   "execution_count": null,
   "id": "0f7026fd",
   "metadata": {},
   "outputs": [],
   "source": [
    "X_train, y_train = X_sumo_fixed, y_sumo_fixed\n",
    "\n",
    "scaler = StandardScaler()\n",
    "X_train = scaler.fit_transform(X_train)\n",
    "X_val = scaler.transform(X_val_base)\n",
    "y_train = preprocessor.one_hot_encode(y_train, one_hot_keys=one_hot_keys)\n",
    "\n",
    "signature = infer_signature(X_train, y_train)\n",
    "mlflow.set_experiment('SUMO_Fixed')\n",
    "data_name = 'SUMO_Fixed'"
   ]
  },
  {
   "cell_type": "code",
   "execution_count": 16,
   "id": "7080e63a",
   "metadata": {},
   "outputs": [
    {
     "name": "stdout",
     "output_type": "stream",
     "text": [
      "This will run 5 trials to find optimal hyperparameters...\n",
      "Params: {'max_depth': 20, 'n_estimators': 200, 'random_state': 42}\n",
      "  0%|          | 0/5 [00:00<?, ?trial/s, best loss=?]"
     ]
    },
    {
     "name": "stderr",
     "output_type": "stream",
     "text": [
      "/home/renan/miniconda3/lib/python3.12/site-packages/sklearn/metrics/_classification.py:1565: UndefinedMetricWarning: Precision is ill-defined and being set to 0.0 in labels with no predicted samples. Use `zero_division` parameter to control this behavior.\n",
      "  _warn_prf(average, modifier, f\"{metric.capitalize()} is\", len(result))\n",
      "\n"
     ]
    },
    {
     "name": "stdout",
     "output_type": "stream",
     "text": [
      "🏃 View run RandomForestClassifier_{'max_depth': 20, 'n_estimators': 200, 'random_state': 42} at: http://127.0.0.1:8080/#/experiments/319021118004357339/runs/8e66cf6b774a42fabba32cdf451ca385\n",
      "\n",
      "🧪 View experiment at: http://127.0.0.1:8080/#/experiments/319021118004357339\n",
      "\n",
      "Params: {'max_depth': None, 'n_estimators': 100, 'random_state': 42}             \n",
      " 20%|██        | 1/5 [00:27<01:48, 27.09s/trial, best loss: -0.33310749162724596]"
     ]
    },
    {
     "name": "stderr",
     "output_type": "stream",
     "text": [
      "/home/renan/miniconda3/lib/python3.12/site-packages/sklearn/metrics/_classification.py:1565: UndefinedMetricWarning: Precision is ill-defined and being set to 0.0 in labels with no predicted samples. Use `zero_division` parameter to control this behavior.\n",
      "  _warn_prf(average, modifier, f\"{metric.capitalize()} is\", len(result))\n",
      "\n"
     ]
    },
    {
     "name": "stdout",
     "output_type": "stream",
     "text": [
      "🏃 View run RandomForestClassifier_{'max_depth': None, 'n_estimators': 100, 'random_state': 42} at: http://127.0.0.1:8080/#/experiments/319021118004357339/runs/a286d0e07667496a83c8b98124ac2e23\n",
      "\n",
      "🧪 View experiment at: http://127.0.0.1:8080/#/experiments/319021118004357339    \n",
      "\n",
      "Params: {'max_depth': 20, 'n_estimators': 20, 'random_state': 42}                \n",
      "🏃 View run RandomForestClassifier_{'max_depth': 20, 'n_estimators': 20, 'random_state': 42} at: http://127.0.0.1:8080/#/experiments/319021118004357339/runs/52e6b182aa3949d6882a2b43a7186909\n",
      "\n",
      "🧪 View experiment at: http://127.0.0.1:8080/#/experiments/319021118004357339    \n",
      "\n",
      "Params: {'max_depth': 5, 'n_estimators': 20, 'random_state': 42}                 \n",
      "🏃 View run RandomForestClassifier_{'max_depth': 5, 'n_estimators': 20, 'random_state': 42} at: http://127.0.0.1:8080/#/experiments/319021118004357339/runs/66b02c49efce4fbeab97da377abec8ee\n",
      "\n",
      "🧪 View experiment at: http://127.0.0.1:8080/#/experiments/319021118004357339   \n",
      "\n",
      "Params: {'max_depth': None, 'n_estimators': 100, 'random_state': 42}            \n",
      " 80%|████████  | 4/5 [00:50<00:09,  9.01s/trial, best loss: -0.3334085595387637]"
     ]
    },
    {
     "name": "stderr",
     "output_type": "stream",
     "text": [
      "/home/renan/miniconda3/lib/python3.12/site-packages/sklearn/metrics/_classification.py:1565: UndefinedMetricWarning: Precision is ill-defined and being set to 0.0 in labels with no predicted samples. Use `zero_division` parameter to control this behavior.\n",
      "  _warn_prf(average, modifier, f\"{metric.capitalize()} is\", len(result))\n",
      "\n"
     ]
    },
    {
     "name": "stdout",
     "output_type": "stream",
     "text": [
      "🏃 View run RandomForestClassifier_{'max_depth': None, 'n_estimators': 100, 'random_state': 42} at: http://127.0.0.1:8080/#/experiments/319021118004357339/runs/57b3d9b4beff4d1897bd05bf56e4117b\n",
      "\n",
      "🧪 View experiment at: http://127.0.0.1:8080/#/experiments/319021118004357339   \n",
      "\n",
      "100%|██████████| 5/5 [01:07<00:00, 13.49s/trial, best loss: -0.3334085595387637]\n",
      "🏃 View run rf-sweep at: http://127.0.0.1:8080/#/experiments/319021118004357339/runs/43334ed9d43b466ea9b3a6a8d3b131a5\n",
      "🧪 View experiment at: http://127.0.0.1:8080/#/experiments/319021118004357339\n",
      "This will run 5 trials to find optimal hyperparameters...\n",
      "Params: {'C': 0.01, 'gamma': 0.001, 'kernel': 'rbf'} \n",
      "  0%|          | 0/5 [00:00<?, ?trial/s, best loss=?]"
     ]
    },
    {
     "name": "stderr",
     "output_type": "stream",
     "text": [
      "/home/renan/miniconda3/lib/python3.12/site-packages/sklearn/metrics/_classification.py:1565: UndefinedMetricWarning: Precision is ill-defined and being set to 0.0 in labels with no predicted samples. Use `zero_division` parameter to control this behavior.\n",
      "  _warn_prf(average, modifier, f\"{metric.capitalize()} is\", len(result))\n",
      "\n"
     ]
    },
    {
     "name": "stdout",
     "output_type": "stream",
     "text": [
      "🏃 View run SVC_{'C': 0.01, 'gamma': 0.001, 'kernel': 'rbf'} at: http://127.0.0.1:8080/#/experiments/319021118004357339/runs/36e4a9df20c24cd9906af9b1f22398be\n",
      "\n",
      "🧪 View experiment at: http://127.0.0.1:8080/#/experiments/319021118004357339\n",
      "\n",
      "Params: {'C': 0.5, 'gamma': 1, 'kernel': 'rbf'}                                  \n",
      " 20%|██        | 1/5 [01:14<04:58, 74.53s/trial, best loss: -0.33310749162724596]"
     ]
    },
    {
     "name": "stderr",
     "output_type": "stream",
     "text": [
      "/home/renan/miniconda3/lib/python3.12/site-packages/sklearn/metrics/_classification.py:1565: UndefinedMetricWarning: Precision is ill-defined and being set to 0.0 in labels with no predicted samples. Use `zero_division` parameter to control this behavior.\n",
      "  _warn_prf(average, modifier, f\"{metric.capitalize()} is\", len(result))\n",
      "\n"
     ]
    },
    {
     "name": "stdout",
     "output_type": "stream",
     "text": [
      "🏃 View run SVC_{'C': 0.5, 'gamma': 1, 'kernel': 'rbf'} at: http://127.0.0.1:8080/#/experiments/319021118004357339/runs/fe0554965cdd4da481005ebd750f8226\n",
      "\n",
      "🧪 View experiment at: http://127.0.0.1:8080/#/experiments/319021118004357339    \n",
      "\n",
      "Params: {'C': 1, 'gamma': 0.01, 'kernel': 'rbf'}                                 \n",
      " 40%|████      | 2/5 [02:24<03:35, 71.97s/trial, best loss: -0.33310749162724596]"
     ]
    },
    {
     "name": "stderr",
     "output_type": "stream",
     "text": [
      "/home/renan/miniconda3/lib/python3.12/site-packages/sklearn/metrics/_classification.py:1565: UndefinedMetricWarning: Precision is ill-defined and being set to 0.0 in labels with no predicted samples. Use `zero_division` parameter to control this behavior.\n",
      "  _warn_prf(average, modifier, f\"{metric.capitalize()} is\", len(result))\n",
      "\n"
     ]
    },
    {
     "name": "stdout",
     "output_type": "stream",
     "text": [
      "🏃 View run SVC_{'C': 1, 'gamma': 0.01, 'kernel': 'rbf'} at: http://127.0.0.1:8080/#/experiments/319021118004357339/runs/92d9fa5887e7414d96c135ddf235917a\n",
      "\n",
      "🧪 View experiment at: http://127.0.0.1:8080/#/experiments/319021118004357339    \n",
      "\n",
      "Params: {'C': 1, 'gamma': 10, 'kernel': 'rbf'}                                   \n",
      " 60%|██████    | 3/5 [03:23<02:11, 65.91s/trial, best loss: -0.33310749162724596]"
     ]
    },
    {
     "name": "stderr",
     "output_type": "stream",
     "text": [
      "/home/renan/miniconda3/lib/python3.12/site-packages/sklearn/metrics/_classification.py:1565: UndefinedMetricWarning: Precision is ill-defined and being set to 0.0 in labels with no predicted samples. Use `zero_division` parameter to control this behavior.\n",
      "  _warn_prf(average, modifier, f\"{metric.capitalize()} is\", len(result))\n",
      "\n"
     ]
    },
    {
     "name": "stdout",
     "output_type": "stream",
     "text": [
      "🏃 View run SVC_{'C': 1, 'gamma': 10, 'kernel': 'rbf'} at: http://127.0.0.1:8080/#/experiments/319021118004357339/runs/c3a723a8dfe2439699f79bd7477637d2\n",
      "\n",
      "🧪 View experiment at: http://127.0.0.1:8080/#/experiments/319021118004357339    \n",
      "\n",
      "Params: {'C': 0.5, 'gamma': 0.01, 'kernel': 'rbf'}                                \n",
      " 80%|████████  | 4/5 [06:19<01:49, 109.46s/trial, best loss: -0.33310749162724596]"
     ]
    },
    {
     "name": "stderr",
     "output_type": "stream",
     "text": [
      "/home/renan/miniconda3/lib/python3.12/site-packages/sklearn/metrics/_classification.py:1565: UndefinedMetricWarning: Precision is ill-defined and being set to 0.0 in labels with no predicted samples. Use `zero_division` parameter to control this behavior.\n",
      "  _warn_prf(average, modifier, f\"{metric.capitalize()} is\", len(result))\n",
      "\n"
     ]
    },
    {
     "name": "stdout",
     "output_type": "stream",
     "text": [
      "🏃 View run SVC_{'C': 0.5, 'gamma': 0.01, 'kernel': 'rbf'} at: http://127.0.0.1:8080/#/experiments/319021118004357339/runs/70e80a21dacc4d89b0e55594d9e8c773\n",
      "\n",
      "🧪 View experiment at: http://127.0.0.1:8080/#/experiments/319021118004357339     \n",
      "\n",
      "100%|██████████| 5/5 [07:17<00:00, 87.51s/trial, best loss: -0.33310749162724596] \n",
      "🏃 View run svc-sweep at: http://127.0.0.1:8080/#/experiments/319021118004357339/runs/87b6ac0425544845b29b3a001647d7b8\n",
      "🧪 View experiment at: http://127.0.0.1:8080/#/experiments/319021118004357339\n",
      "This will run 5 trials to find optimal hyperparameters...\n",
      "Params: {'C': 0.01}                                  \n",
      "🏃 View run LinearSVC_{'C': 0.01} at: http://127.0.0.1:8080/#/experiments/319021118004357339/runs/97867ad14d8f45eb86c710a26dc947e5\n",
      "\n",
      "🧪 View experiment at: http://127.0.0.1:8080/#/experiments/319021118004357339\n",
      "\n",
      "Params: {'C': 0.0001}                                                            \n",
      "🏃 View run LinearSVC_{'C': 0.0001} at: http://127.0.0.1:8080/#/experiments/319021118004357339/runs/1775f84c26b04d95a3188a0f0da96dd9\n",
      "\n",
      "🧪 View experiment at: http://127.0.0.1:8080/#/experiments/319021118004357339    \n",
      "\n",
      "Params: {'C': 0.001}                                                             \n",
      "🏃 View run LinearSVC_{'C': 0.001} at: http://127.0.0.1:8080/#/experiments/319021118004357339/runs/aa902d8339544239a8f31d17971e9bff\n",
      "\n",
      "🧪 View experiment at: http://127.0.0.1:8080/#/experiments/319021118004357339    \n",
      "\n",
      "Params: {'C': 0.01}                                                              \n",
      "🏃 View run LinearSVC_{'C': 0.01} at: http://127.0.0.1:8080/#/experiments/319021118004357339/runs/e3bf9be8eca741f6b790bdfdb95dbfba\n",
      "\n",
      "🧪 View experiment at: http://127.0.0.1:8080/#/experiments/319021118004357339    \n",
      "\n",
      "Params: {'C': 0.01}                                                              \n",
      "🏃 View run LinearSVC_{'C': 0.01} at: http://127.0.0.1:8080/#/experiments/319021118004357339/runs/68503914f4fc40a69d6119df895e19ac\n",
      "\n",
      "🧪 View experiment at: http://127.0.0.1:8080/#/experiments/319021118004357339    \n",
      "\n",
      "100%|██████████| 5/5 [00:08<00:00,  1.75s/trial, best loss: -0.33337528100686237]\n",
      "🏃 View run svc-linear-sweep at: http://127.0.0.1:8080/#/experiments/319021118004357339/runs/e37bc25a0c6844f9899689b3f7130b38\n",
      "🧪 View experiment at: http://127.0.0.1:8080/#/experiments/319021118004357339\n",
      "This will run 5 trials to find optimal hyperparameters...\n",
      "Params: {'learning_rate': 0.2, 'max_depth': 5, 'n_estimators': 500, 'random_state': 42}\n",
      "🏃 View run XGBClassifier_{'learning_rate': 0.2, 'max_depth': 5, 'n_estimators': 500, 'random_state': 42} at: http://127.0.0.1:8080/#/experiments/319021118004357339/runs/58b43a77f10b43e8b48bc7c57ed7a0de\n",
      "\n",
      "🧪 View experiment at: http://127.0.0.1:8080/#/experiments/319021118004357339\n",
      "\n",
      "Params: {'learning_rate': 0.4, 'max_depth': None, 'n_estimators': 500, 'random_state': 42}\n",
      "🏃 View run XGBClassifier_{'learning_rate': 0.4, 'max_depth': None, 'n_estimators': 500, 'random_state': 42} at: http://127.0.0.1:8080/#/experiments/319021118004357339/runs/d0114e94acd04affa99cbb13876075c1\n",
      "\n",
      "🧪 View experiment at: http://127.0.0.1:8080/#/experiments/319021118004357339    \n",
      "\n",
      "Params: {'learning_rate': 0.4, 'max_depth': None, 'n_estimators': 1000, 'random_state': 42}\n",
      "🏃 View run XGBClassifier_{'learning_rate': 0.4, 'max_depth': None, 'n_estimators': 1000, 'random_state': 42} at: http://127.0.0.1:8080/#/experiments/319021118004357339/runs/ff9f073bdc164e64aa7ffb84870ee190\n",
      "\n",
      "🧪 View experiment at: http://127.0.0.1:8080/#/experiments/319021118004357339    \n",
      "\n",
      "Params: {'learning_rate': 0.2, 'max_depth': None, 'n_estimators': 700, 'random_state': 42}\n",
      "🏃 View run XGBClassifier_{'learning_rate': 0.2, 'max_depth': None, 'n_estimators': 700, 'random_state': 42} at: http://127.0.0.1:8080/#/experiments/319021118004357339/runs/120d90f9f345453296b8a41652b2c2a3\n",
      "\n",
      "🧪 View experiment at: http://127.0.0.1:8080/#/experiments/319021118004357339    \n",
      "\n",
      "Params: {'learning_rate': 0.2, 'max_depth': None, 'n_estimators': 200, 'random_state': 42}\n",
      "🏃 View run XGBClassifier_{'learning_rate': 0.2, 'max_depth': None, 'n_estimators': 200, 'random_state': 42} at: http://127.0.0.1:8080/#/experiments/319021118004357339/runs/c897027a24404e7dbed49aa41284022a\n",
      "\n",
      "🧪 View experiment at: http://127.0.0.1:8080/#/experiments/319021118004357339    \n",
      "\n",
      "100%|██████████| 5/5 [00:16<00:00,  3.37s/trial, best loss: -0.33730962743803933]\n",
      "🏃 View run xgb-sweep at: http://127.0.0.1:8080/#/experiments/319021118004357339/runs/8d253e2cd6a54b7f961623d0a1d64dbb\n",
      "🧪 View experiment at: http://127.0.0.1:8080/#/experiments/319021118004357339\n"
     ]
    },
    {
     "data": {
      "text/plain": [
       "0.33730962743803933"
      ]
     },
     "execution_count": 16,
     "metadata": {},
     "output_type": "execute_result"
    }
   ],
   "source": [
    "model = RandomForestClassifier\n",
    "run_experiments('rf-sweep', max_evals=max_evals, search_space=search_space_rf, data_name=data_name, model_name = 'RandomForestClassifier', features_names=columns_to_keep)\n",
    "model = SVC\n",
    "run_experiments('svc-sweep', max_evals=max_evals, search_space=search_space_svc, data_name=data_name, model_name = 'SVC', features_names=columns_to_keep)\n",
    "model = LinearSVC\n",
    "run_experiments('svc-linear-sweep', max_evals=max_evals, search_space=search_space_svc_linear, data_name=data_name, model_name = 'LinearSVC', features_names=columns_to_keep)\n",
    "model = xgb.XGBClassifier\n",
    "run_experiments('xgb-sweep', max_evals=max_evals, search_space=search_space_xgb, data_name=data_name, model_name = 'XGBClassifier', features_names=columns_to_keep)"
   ]
  },
  {
   "cell_type": "markdown",
   "id": "65285841",
   "metadata": {},
   "source": [
    "### LLM"
   ]
  },
  {
   "cell_type": "code",
   "execution_count": null,
   "id": "567d9f58",
   "metadata": {},
   "outputs": [],
   "source": [
    "# Provide an Experiment description that will appear in the UI\n",
    "experiment_description = (\n",
    "    \"Experiment to train models on the SUMO LLM dataset.\"\n",
    ")\n",
    "\n",
    "# Provide searchable tags that define characteristics of the Runs that\n",
    "# will be in this Experiment\n",
    "experiment_tags = {\n",
    "    \"project_name\": \"driver-behavior-prediction\",\n",
    "    \"mlflow.note.content\": experiment_description,\n",
    "}\n",
    "\n",
    "# Create the Experiment, providing a unique name\n",
    "try:\n",
    "    driver_behavior_experiment = client.create_experiment(\n",
    "        name=\"SUMO_LLM\", tags=experiment_tags\n",
    "    )\n",
    "except mlflow.exceptions.RestException as e:\n",
    "    print(f\"Experiment already exists: {e}\")"
   ]
  },
  {
   "cell_type": "code",
   "execution_count": null,
   "id": "0460281e",
   "metadata": {},
   "outputs": [],
   "source": [
    "X_train, y_train = X_sumo_llm, y_sumo_llm\n",
    "\n",
    "scaler = StandardScaler()\n",
    "X_train = scaler.fit_transform(X_train)\n",
    "X_val = scaler.transform(X_val_base)\n",
    "y_train = preprocessor.one_hot_encode(y_train, one_hot_keys=one_hot_keys)\n",
    "\n",
    "mlflow.set_experiment('SUMO_LLM')\n",
    "data_name = 'SUMO_LLM'"
   ]
  },
  {
   "cell_type": "code",
   "execution_count": 19,
   "id": "4da017c3",
   "metadata": {},
   "outputs": [
    {
     "name": "stdout",
     "output_type": "stream",
     "text": [
      "This will run 5 trials to find optimal hyperparameters...\n",
      "Params: {'max_depth': None, 'n_estimators': 200, 'random_state': 42}\n",
      "🏃 View run RandomForestClassifier_{'max_depth': None, 'n_estimators': 200, 'random_state': 42} at: http://127.0.0.1:8080/#/experiments/945333525365379287/runs/443228b956a147779a5df4cf5dd33e9e\n",
      "\n",
      "🧪 View experiment at: http://127.0.0.1:8080/#/experiments/945333525365379287\n",
      "\n",
      "Params: {'max_depth': None, 'n_estimators': 200, 'random_state': 42}            \n",
      "🏃 View run RandomForestClassifier_{'max_depth': None, 'n_estimators': 200, 'random_state': 42} at: http://127.0.0.1:8080/#/experiments/945333525365379287/runs/8187a5c1de6742cc83eb1a9ae59b591e\n",
      "\n",
      "🧪 View experiment at: http://127.0.0.1:8080/#/experiments/945333525365379287   \n",
      "\n",
      "Params: {'max_depth': 20, 'n_estimators': 20, 'random_state': 42}               \n",
      "🏃 View run RandomForestClassifier_{'max_depth': 20, 'n_estimators': 20, 'random_state': 42} at: http://127.0.0.1:8080/#/experiments/945333525365379287/runs/1f0fac16f5cd41258b932b5c325e29bd\n",
      "\n",
      "🧪 View experiment at: http://127.0.0.1:8080/#/experiments/945333525365379287   \n",
      "\n",
      "Params: {'max_depth': 10, 'n_estimators': 50, 'random_state': 42}                \n",
      "🏃 View run RandomForestClassifier_{'max_depth': 10, 'n_estimators': 50, 'random_state': 42} at: http://127.0.0.1:8080/#/experiments/945333525365379287/runs/7db7372c813441a6afb1bc0b875dcd55\n",
      "\n",
      "🧪 View experiment at: http://127.0.0.1:8080/#/experiments/945333525365379287    \n",
      "\n",
      "Params: {'max_depth': None, 'n_estimators': 50, 'random_state': 42}              \n",
      "🏃 View run RandomForestClassifier_{'max_depth': None, 'n_estimators': 50, 'random_state': 42} at: http://127.0.0.1:8080/#/experiments/945333525365379287/runs/ece09fd72e254d218af709acb67a2d10\n",
      "\n",
      "🧪 View experiment at: http://127.0.0.1:8080/#/experiments/945333525365379287   \n",
      "\n",
      "100%|██████████| 5/5 [02:48<00:00, 33.80s/trial, best loss: -0.5619399090976109]\n",
      "🏃 View run rf-sweep at: http://127.0.0.1:8080/#/experiments/945333525365379287/runs/bc62dac68eb548dab53a869af86f517d\n",
      "🧪 View experiment at: http://127.0.0.1:8080/#/experiments/945333525365379287\n",
      "This will run 5 trials to find optimal hyperparameters...\n",
      "Params: {'C': 1, 'gamma': 1, 'kernel': 'rbf'}        \n",
      "  0%|          | 0/5 [00:00<?, ?trial/s, best loss=?]"
     ]
    },
    {
     "name": "stderr",
     "output_type": "stream",
     "text": [
      "/home/renan/miniconda3/lib/python3.12/site-packages/sklearn/metrics/_classification.py:1565: UndefinedMetricWarning: Precision is ill-defined and being set to 0.0 in labels with no predicted samples. Use `zero_division` parameter to control this behavior.\n",
      "  _warn_prf(average, modifier, f\"{metric.capitalize()} is\", len(result))\n",
      "\n"
     ]
    },
    {
     "name": "stdout",
     "output_type": "stream",
     "text": [
      "🏃 View run SVC_{'C': 1, 'gamma': 1, 'kernel': 'rbf'} at: http://127.0.0.1:8080/#/experiments/945333525365379287/runs/255616c0636b44a5883381af59b29860\n",
      "\n",
      "🧪 View experiment at: http://127.0.0.1:8080/#/experiments/945333525365379287\n",
      "\n",
      "Params: {'C': 0.05, 'gamma': 1, 'kernel': 'rbf'}                                  \n",
      " 20%|██        | 1/5 [02:59<11:57, 179.41s/trial, best loss: -0.33310749162724596]"
     ]
    },
    {
     "name": "stderr",
     "output_type": "stream",
     "text": [
      "/home/renan/miniconda3/lib/python3.12/site-packages/sklearn/metrics/_classification.py:1565: UndefinedMetricWarning: Precision is ill-defined and being set to 0.0 in labels with no predicted samples. Use `zero_division` parameter to control this behavior.\n",
      "  _warn_prf(average, modifier, f\"{metric.capitalize()} is\", len(result))\n",
      "\n"
     ]
    },
    {
     "name": "stdout",
     "output_type": "stream",
     "text": [
      "🏃 View run SVC_{'C': 0.05, 'gamma': 1, 'kernel': 'rbf'} at: http://127.0.0.1:8080/#/experiments/945333525365379287/runs/d491031fad2844df9139a2c869d26abb\n",
      "\n",
      "🧪 View experiment at: http://127.0.0.1:8080/#/experiments/945333525365379287     \n",
      "\n",
      "Params: {'C': 0.5, 'gamma': 0.001, 'kernel': 'rbf'}                               \n",
      "🏃 View run SVC_{'C': 0.5, 'gamma': 0.001, 'kernel': 'rbf'} at: http://127.0.0.1:8080/#/experiments/945333525365379287/runs/7ad60986d6b84a96ae8821a6e4e00eef\n",
      "\n",
      "🧪 View experiment at: http://127.0.0.1:8080/#/experiments/945333525365379287     \n",
      "\n",
      "Params: {'C': 0.01, 'gamma': 10, 'kernel': 'rbf'}                                 \n",
      " 60%|██████    | 3/5 [06:13<03:47, 113.72s/trial, best loss: -0.33641148675357896]"
     ]
    },
    {
     "name": "stderr",
     "output_type": "stream",
     "text": [
      "/home/renan/miniconda3/lib/python3.12/site-packages/sklearn/metrics/_classification.py:1565: UndefinedMetricWarning: Precision is ill-defined and being set to 0.0 in labels with no predicted samples. Use `zero_division` parameter to control this behavior.\n",
      "  _warn_prf(average, modifier, f\"{metric.capitalize()} is\", len(result))\n",
      "\n"
     ]
    },
    {
     "name": "stdout",
     "output_type": "stream",
     "text": [
      "🏃 View run SVC_{'C': 0.01, 'gamma': 10, 'kernel': 'rbf'} at: http://127.0.0.1:8080/#/experiments/945333525365379287/runs/1618621b98474504b12406a651b0a05b\n",
      "\n",
      "🧪 View experiment at: http://127.0.0.1:8080/#/experiments/945333525365379287     \n",
      "\n",
      "Params: {'C': 0.1, 'gamma': 0.001, 'kernel': 'rbf'}                               \n",
      " 80%|████████  | 4/5 [07:52<01:48, 108.09s/trial, best loss: -0.33641148675357896]"
     ]
    },
    {
     "name": "stderr",
     "output_type": "stream",
     "text": [
      "/home/renan/miniconda3/lib/python3.12/site-packages/sklearn/metrics/_classification.py:1565: UndefinedMetricWarning: Precision is ill-defined and being set to 0.0 in labels with no predicted samples. Use `zero_division` parameter to control this behavior.\n",
      "  _warn_prf(average, modifier, f\"{metric.capitalize()} is\", len(result))\n",
      "\n"
     ]
    },
    {
     "name": "stdout",
     "output_type": "stream",
     "text": [
      "🏃 View run SVC_{'C': 0.1, 'gamma': 0.001, 'kernel': 'rbf'} at: http://127.0.0.1:8080/#/experiments/945333525365379287/runs/bb51dc4f915348f381f1fe2aa98ef422\n",
      "\n",
      "🧪 View experiment at: http://127.0.0.1:8080/#/experiments/945333525365379287     \n",
      "\n",
      "100%|██████████| 5/5 [09:18<00:00, 111.78s/trial, best loss: -0.33641148675357896]\n",
      "🏃 View run svc-sweep at: http://127.0.0.1:8080/#/experiments/945333525365379287/runs/f3ae6543bd6140d19a6b95513c05d58b\n",
      "🧪 View experiment at: http://127.0.0.1:8080/#/experiments/945333525365379287\n",
      "This will run 5 trials to find optimal hyperparameters...\n",
      "Params: {'C': 1}                                     \n",
      "🏃 View run LinearSVC_{'C': 1} at: http://127.0.0.1:8080/#/experiments/945333525365379287/runs/d8bd2b2b37334864b29f832ba5c8ea17\n",
      "\n",
      "🧪 View experiment at: http://127.0.0.1:8080/#/experiments/945333525365379287\n",
      "\n",
      "Params: {'C': 1}                                                                \n",
      "🏃 View run LinearSVC_{'C': 1} at: http://127.0.0.1:8080/#/experiments/945333525365379287/runs/2db0225c570547ac816023d9b8b69369\n",
      "\n",
      "🧪 View experiment at: http://127.0.0.1:8080/#/experiments/945333525365379287   \n",
      "\n",
      "Params: {'C': 0.001}                                                            \n",
      "🏃 View run LinearSVC_{'C': 0.001} at: http://127.0.0.1:8080/#/experiments/945333525365379287/runs/a440c0e65cc14764aaa2a191e584beba\n",
      "\n",
      "🧪 View experiment at: http://127.0.0.1:8080/#/experiments/945333525365379287   \n",
      "\n",
      "Params: {'C': 1}                                                                 \n",
      "🏃 View run LinearSVC_{'C': 1} at: http://127.0.0.1:8080/#/experiments/945333525365379287/runs/b67577a0139042adbea3b6279f8686bb\n",
      "\n",
      "🧪 View experiment at: http://127.0.0.1:8080/#/experiments/945333525365379287    \n",
      "\n",
      "Params: {'C': 0.1}                                                               \n",
      "🏃 View run LinearSVC_{'C': 0.1} at: http://127.0.0.1:8080/#/experiments/945333525365379287/runs/563522673b084b2ea1622e51ec1ff8e2\n",
      "\n",
      "🧪 View experiment at: http://127.0.0.1:8080/#/experiments/945333525365379287    \n",
      "\n",
      "100%|██████████| 5/5 [00:16<00:00,  3.32s/trial, best loss: -0.33701038711508563]\n",
      "🏃 View run svc-linear-sweep at: http://127.0.0.1:8080/#/experiments/945333525365379287/runs/9f4c6b1e1dba47499e8b829141ce8387\n",
      "🧪 View experiment at: http://127.0.0.1:8080/#/experiments/945333525365379287\n",
      "This will run 5 trials to find optimal hyperparameters...\n",
      "Params: {'learning_rate': 0.4, 'max_depth': None, 'n_estimators': 1000, 'random_state': 42}\n",
      "🏃 View run XGBClassifier_{'learning_rate': 0.4, 'max_depth': None, 'n_estimators': 1000, 'random_state': 42} at: http://127.0.0.1:8080/#/experiments/945333525365379287/runs/707182964b9c4cdb937f12d9a9af228d\n",
      "\n",
      "🧪 View experiment at: http://127.0.0.1:8080/#/experiments/945333525365379287\n",
      "\n",
      "Params: {'learning_rate': 0.5, 'max_depth': 5, 'n_estimators': 200, 'random_state': 42}\n",
      "🏃 View run XGBClassifier_{'learning_rate': 0.5, 'max_depth': 5, 'n_estimators': 200, 'random_state': 42} at: http://127.0.0.1:8080/#/experiments/945333525365379287/runs/cf6059aaed9d4bc2afeb8757f3a6e387\n",
      "\n",
      "🧪 View experiment at: http://127.0.0.1:8080/#/experiments/945333525365379287    \n",
      "\n",
      "Params: {'learning_rate': 0.4, 'max_depth': 10, 'n_estimators': 700, 'random_state': 42}\n",
      "🏃 View run XGBClassifier_{'learning_rate': 0.4, 'max_depth': 10, 'n_estimators': 700, 'random_state': 42} at: http://127.0.0.1:8080/#/experiments/945333525365379287/runs/645b09b2a34d4a14bea17fcea4424333\n",
      "\n",
      "🧪 View experiment at: http://127.0.0.1:8080/#/experiments/945333525365379287   \n",
      "\n",
      "Params: {'learning_rate': 0.3, 'max_depth': 5, 'n_estimators': 200, 'random_state': 42}\n",
      "🏃 View run XGBClassifier_{'learning_rate': 0.3, 'max_depth': 5, 'n_estimators': 200, 'random_state': 42} at: http://127.0.0.1:8080/#/experiments/945333525365379287/runs/9ef6552c552f4b0eaa5f81c7a62c23bb\n",
      "\n",
      "🧪 View experiment at: http://127.0.0.1:8080/#/experiments/945333525365379287   \n",
      "\n",
      "Params: {'learning_rate': 0.001, 'max_depth': 5, 'n_estimators': 500, 'random_state': 42}\n",
      "🏃 View run XGBClassifier_{'learning_rate': 0.001, 'max_depth': 5, 'n_estimators': 500, 'random_state': 42} at: http://127.0.0.1:8080/#/experiments/945333525365379287/runs/ab82e48ab5514e2fbc371d9e63551a4b\n",
      "\n",
      "🧪 View experiment at: http://127.0.0.1:8080/#/experiments/945333525365379287   \n",
      "\n",
      "100%|██████████| 5/5 [00:26<00:00,  5.22s/trial, best loss: -0.5748710014522482]\n",
      "🏃 View run xgb-sweep at: http://127.0.0.1:8080/#/experiments/945333525365379287/runs/88ea92e85e294aa581548208700f0f35\n",
      "🧪 View experiment at: http://127.0.0.1:8080/#/experiments/945333525365379287\n"
     ]
    },
    {
     "data": {
      "text/plain": [
       "0.5748710014522482"
      ]
     },
     "execution_count": 19,
     "metadata": {},
     "output_type": "execute_result"
    }
   ],
   "source": [
    "model = RandomForestClassifier\n",
    "run_experiments('rf-sweep', max_evals=max_evals, search_space=search_space_rf, data_name=data_name, model_name = 'RandomForestClassifier', features_names=columns_to_keep)\n",
    "model = SVC\n",
    "run_experiments('svc-sweep', max_evals=max_evals, search_space=search_space_svc, data_name=data_name, model_name = 'SVC', features_names=columns_to_keep)\n",
    "model = LinearSVC\n",
    "run_experiments('svc-linear-sweep', max_evals=max_evals, search_space=search_space_svc_linear, data_name=data_name, model_name = 'LinearSVC', features_names=columns_to_keep)\n",
    "model = xgb.XGBClassifier\n",
    "run_experiments('xgb-sweep', max_evals=max_evals, search_space=search_space_xgb, data_name=data_name, model_name = 'XGBClassifier', features_names=columns_to_keep)"
   ]
  },
  {
   "cell_type": "markdown",
   "id": "d562a57b",
   "metadata": {},
   "source": [
    "## Carla Only"
   ]
  },
  {
   "cell_type": "code",
   "execution_count": 32,
   "id": "8d0a613b",
   "metadata": {},
   "outputs": [],
   "source": [
    "X_carla_fixed, y_carla_fixed = preprocessor.sliding_windows(carla_fixed, window_size=window_size, step_size=step_size)\n",
    "X_carla_llm, y_carla_llm = preprocessor.sliding_windows(carla_llm, window_size=window_size, step_size=step_size)"
   ]
  },
  {
   "cell_type": "code",
   "execution_count": 36,
   "id": "40fa1c38",
   "metadata": {},
   "outputs": [
    {
     "name": "stdout",
     "output_type": "stream",
     "text": [
      "Columns to keep for validation: ['acc_x', 'acc_y', 'acc_z', 'gyro_x', 'gyro_y', 'gyro_z', 'angle', 'label', 'acc']\n"
     ]
    }
   ],
   "source": [
    "# Getting the validation for SUMO variables\n",
    "print(\"Columns to keep for validation:\", carla_columns_to_keep)\n",
    "X_val_base, y_val = preprocessor.sliding_windows(uah_validation[carla_columns_to_keep], window_size=window_size, step_size=step_size)\n",
    "y_val = preprocessor.one_hot_encode(y_val, one_hot_keys=one_hot_keys)"
   ]
  },
  {
   "cell_type": "markdown",
   "id": "17def673",
   "metadata": {},
   "source": [
    "### Fixed"
   ]
  },
  {
   "cell_type": "code",
   "execution_count": 37,
   "id": "d5520a73",
   "metadata": {},
   "outputs": [
    {
     "name": "stdout",
     "output_type": "stream",
     "text": [
      "Experiment already exists: RESOURCE_ALREADY_EXISTS: Experiment 'CARLA_Fixed' already exists.\n"
     ]
    }
   ],
   "source": [
    "# Provide an Experiment description that will appear in the UI\n",
    "experiment_description = (\n",
    "    \"Experiment to train models on the CARLA Fixed dataset.\"\n",
    ")\n",
    "\n",
    "# Provide searchable tags that define characteristics of the Runs that\n",
    "# will be in this Experiment\n",
    "experiment_tags = {\n",
    "    \"project_name\": \"driver-behavior-prediction\",\n",
    "    \"mlflow.note.content\": experiment_description,\n",
    "}\n",
    "\n",
    "# Create the Experiment, providing a unique name\n",
    "try:\n",
    "    driver_behavior_experiment = client.create_experiment(\n",
    "        name=\"CARLA_Fixed\", tags=experiment_tags\n",
    "    )\n",
    "except mlflow.exceptions.RestException as e:\n",
    "    print(f\"Experiment already exists: {e}\")"
   ]
  },
  {
   "cell_type": "code",
   "execution_count": null,
   "id": "f460d11d",
   "metadata": {},
   "outputs": [],
   "source": [
    "X_train, y_train = X_carla_fixed, y_carla_fixed\n",
    "\n",
    "scaler = StandardScaler()\n",
    "X_train = scaler.fit_transform(X_train)\n",
    "X_val = scaler.transform(X_val_base)\n",
    "y_train = preprocessor.one_hot_encode(y_train, one_hot_keys=one_hot_keys)\n",
    "\n",
    "mlflow.set_experiment('CARLA_Fixed')\n",
    "data_name = 'CARLA_Fixed'"
   ]
  },
  {
   "cell_type": "code",
   "execution_count": 24,
   "id": "6740e674",
   "metadata": {},
   "outputs": [
    {
     "name": "stdout",
     "output_type": "stream",
     "text": [
      "This will run 5 trials to find optimal hyperparameters...\n",
      "Params: {'max_depth': 10, 'n_estimators': 20, 'random_state': 42}\n",
      "🏃 View run RandomForestClassifier_{'max_depth': 10, 'n_estimators': 20, 'random_state': 42} at: http://127.0.0.1:8080/#/experiments/219343887402467225/runs/4c7a3ef88d564a37bc32a0ec6c7d9ba2\n",
      "\n",
      "🧪 View experiment at: http://127.0.0.1:8080/#/experiments/219343887402467225\n",
      "\n",
      "Params: {'max_depth': 10, 'n_estimators': 200, 'random_state': 42}              \n",
      "🏃 View run RandomForestClassifier_{'max_depth': 10, 'n_estimators': 200, 'random_state': 42} at: http://127.0.0.1:8080/#/experiments/219343887402467225/runs/c2dc35308fa342bf922068f3e51682f8\n",
      "\n",
      "🧪 View experiment at: http://127.0.0.1:8080/#/experiments/219343887402467225   \n",
      "\n",
      "Params: {'max_depth': None, 'n_estimators': 200, 'random_state': 42}            \n",
      "🏃 View run RandomForestClassifier_{'max_depth': None, 'n_estimators': 200, 'random_state': 42} at: http://127.0.0.1:8080/#/experiments/219343887402467225/runs/265818ea574e433c895ca6742901e715\n",
      "\n",
      "🧪 View experiment at: http://127.0.0.1:8080/#/experiments/219343887402467225   \n",
      "\n",
      "Params: {'max_depth': 10, 'n_estimators': 200, 'random_state': 42}              \n",
      "🏃 View run RandomForestClassifier_{'max_depth': 10, 'n_estimators': 200, 'random_state': 42} at: http://127.0.0.1:8080/#/experiments/219343887402467225/runs/194951e15f0344d78239f4fdac83d6c1\n",
      "\n",
      "🧪 View experiment at: http://127.0.0.1:8080/#/experiments/219343887402467225   \n",
      "\n",
      "Params: {'max_depth': 5, 'n_estimators': 50, 'random_state': 42}                \n",
      "🏃 View run RandomForestClassifier_{'max_depth': 5, 'n_estimators': 50, 'random_state': 42} at: http://127.0.0.1:8080/#/experiments/219343887402467225/runs/ceba0167296d42e6a02145ae1aeab6c3\n",
      "\n",
      "🧪 View experiment at: http://127.0.0.1:8080/#/experiments/219343887402467225   \n",
      "\n",
      "100%|██████████| 5/5 [01:22<00:00, 16.44s/trial, best loss: -0.5261530286600855]\n",
      "🏃 View run rf-sweep at: http://127.0.0.1:8080/#/experiments/219343887402467225/runs/78cf16c73b3e4235ab73120327a108f8\n",
      "🧪 View experiment at: http://127.0.0.1:8080/#/experiments/219343887402467225\n",
      "This will run 5 trials to find optimal hyperparameters...\n",
      "Params: {'C': 0.1, 'gamma': 0.1, 'kernel': 'rbf'}    \n",
      "  0%|          | 0/5 [00:00<?, ?trial/s, best loss=?]"
     ]
    },
    {
     "name": "stderr",
     "output_type": "stream",
     "text": [
      "/home/renan/miniconda3/lib/python3.12/site-packages/sklearn/metrics/_classification.py:1565: UndefinedMetricWarning: Precision is ill-defined and being set to 0.0 in labels with no predicted samples. Use `zero_division` parameter to control this behavior.\n",
      "  _warn_prf(average, modifier, f\"{metric.capitalize()} is\", len(result))\n",
      "\n"
     ]
    },
    {
     "name": "stdout",
     "output_type": "stream",
     "text": [
      "🏃 View run SVC_{'C': 0.1, 'gamma': 0.1, 'kernel': 'rbf'} at: http://127.0.0.1:8080/#/experiments/219343887402467225/runs/b5fc43555b77453fbcb123bec110377d\n",
      "\n",
      "🧪 View experiment at: http://127.0.0.1:8080/#/experiments/219343887402467225\n",
      "\n",
      "Params: {'C': 1, 'gamma': 10, 'kernel': 'rbf'}                                   \n",
      " 20%|██        | 1/5 [00:19<01:19, 19.97s/trial, best loss: -0.33310749162724596]"
     ]
    },
    {
     "name": "stderr",
     "output_type": "stream",
     "text": [
      "/home/renan/miniconda3/lib/python3.12/site-packages/sklearn/metrics/_classification.py:1565: UndefinedMetricWarning: Precision is ill-defined and being set to 0.0 in labels with no predicted samples. Use `zero_division` parameter to control this behavior.\n",
      "  _warn_prf(average, modifier, f\"{metric.capitalize()} is\", len(result))\n",
      "\n"
     ]
    },
    {
     "name": "stdout",
     "output_type": "stream",
     "text": [
      "🏃 View run SVC_{'C': 1, 'gamma': 10, 'kernel': 'rbf'} at: http://127.0.0.1:8080/#/experiments/219343887402467225/runs/b073b5f22f044eacb182960492692aaa\n",
      "\n",
      "🧪 View experiment at: http://127.0.0.1:8080/#/experiments/219343887402467225    \n",
      "\n",
      "Params: {'C': 0.05, 'gamma': 0.1, 'kernel': 'rbf'}                               \n",
      " 40%|████      | 2/5 [01:23<02:16, 45.57s/trial, best loss: -0.33310749162724596]"
     ]
    },
    {
     "name": "stderr",
     "output_type": "stream",
     "text": [
      "/home/renan/miniconda3/lib/python3.12/site-packages/sklearn/metrics/_classification.py:1565: UndefinedMetricWarning: Precision is ill-defined and being set to 0.0 in labels with no predicted samples. Use `zero_division` parameter to control this behavior.\n",
      "  _warn_prf(average, modifier, f\"{metric.capitalize()} is\", len(result))\n",
      "\n"
     ]
    },
    {
     "name": "stdout",
     "output_type": "stream",
     "text": [
      "🏃 View run SVC_{'C': 0.05, 'gamma': 0.1, 'kernel': 'rbf'} at: http://127.0.0.1:8080/#/experiments/219343887402467225/runs/9d7fc4a5f341406aa2548ba5fb170352\n",
      "\n",
      "🧪 View experiment at: http://127.0.0.1:8080/#/experiments/219343887402467225    \n",
      "\n",
      "Params: {'C': 0.01, 'gamma': 0.01, 'kernel': 'rbf'}                              \n",
      " 60%|██████    | 3/5 [01:43<01:08, 34.01s/trial, best loss: -0.33310749162724596]"
     ]
    },
    {
     "name": "stderr",
     "output_type": "stream",
     "text": [
      "/home/renan/miniconda3/lib/python3.12/site-packages/sklearn/metrics/_classification.py:1565: UndefinedMetricWarning: Precision is ill-defined and being set to 0.0 in labels with no predicted samples. Use `zero_division` parameter to control this behavior.\n",
      "  _warn_prf(average, modifier, f\"{metric.capitalize()} is\", len(result))\n",
      "\n"
     ]
    },
    {
     "name": "stdout",
     "output_type": "stream",
     "text": [
      "🏃 View run SVC_{'C': 0.01, 'gamma': 0.01, 'kernel': 'rbf'} at: http://127.0.0.1:8080/#/experiments/219343887402467225/runs/78a0610cc5be4d1f89a8c303c16616ed\n",
      "\n",
      "🧪 View experiment at: http://127.0.0.1:8080/#/experiments/219343887402467225    \n",
      "\n",
      "Params: {'C': 0.01, 'gamma': 0.001, 'kernel': 'rbf'}                             \n",
      " 80%|████████  | 4/5 [02:11<00:31, 31.73s/trial, best loss: -0.33310749162724596]"
     ]
    },
    {
     "name": "stderr",
     "output_type": "stream",
     "text": [
      "/home/renan/miniconda3/lib/python3.12/site-packages/sklearn/metrics/_classification.py:1565: UndefinedMetricWarning: Precision is ill-defined and being set to 0.0 in labels with no predicted samples. Use `zero_division` parameter to control this behavior.\n",
      "  _warn_prf(average, modifier, f\"{metric.capitalize()} is\", len(result))\n",
      "\n"
     ]
    },
    {
     "name": "stdout",
     "output_type": "stream",
     "text": [
      "🏃 View run SVC_{'C': 0.01, 'gamma': 0.001, 'kernel': 'rbf'} at: http://127.0.0.1:8080/#/experiments/219343887402467225/runs/1a3a4d9451a044168ef302a467e1fef2\n",
      "\n",
      "🧪 View experiment at: http://127.0.0.1:8080/#/experiments/219343887402467225    \n",
      "\n",
      "100%|██████████| 5/5 [02:39<00:00, 31.97s/trial, best loss: -0.33310749162724596]\n",
      "🏃 View run svc-sweep at: http://127.0.0.1:8080/#/experiments/219343887402467225/runs/e75a091c789b4f93bff4f46c66f9e92d\n",
      "🧪 View experiment at: http://127.0.0.1:8080/#/experiments/219343887402467225\n",
      "This will run 5 trials to find optimal hyperparameters...\n",
      "Params: {'C': 0.01}                                  \n",
      "  0%|          | 0/5 [00:00<?, ?trial/s, best loss=?]"
     ]
    },
    {
     "name": "stderr",
     "output_type": "stream",
     "text": [
      "/home/renan/miniconda3/lib/python3.12/site-packages/sklearn/metrics/_classification.py:1565: UndefinedMetricWarning: Precision is ill-defined and being set to 0.0 in labels with no predicted samples. Use `zero_division` parameter to control this behavior.\n",
      "  _warn_prf(average, modifier, f\"{metric.capitalize()} is\", len(result))\n",
      "\n"
     ]
    },
    {
     "name": "stdout",
     "output_type": "stream",
     "text": [
      "🏃 View run LinearSVC_{'C': 0.01} at: http://127.0.0.1:8080/#/experiments/219343887402467225/runs/c1c13aac142a4e59bf01ab2b138de318\n",
      "\n",
      "🧪 View experiment at: http://127.0.0.1:8080/#/experiments/219343887402467225\n",
      "\n",
      "Params: {'C': 0.0001}                                                            \n",
      " 20%|██        | 1/5 [00:01<00:07,  1.89s/trial, best loss: -0.33310749162724596]"
     ]
    },
    {
     "name": "stderr",
     "output_type": "stream",
     "text": [
      "/home/renan/miniconda3/lib/python3.12/site-packages/sklearn/metrics/_classification.py:1565: UndefinedMetricWarning: Precision is ill-defined and being set to 0.0 in labels with no predicted samples. Use `zero_division` parameter to control this behavior.\n",
      "  _warn_prf(average, modifier, f\"{metric.capitalize()} is\", len(result))\n",
      "\n"
     ]
    },
    {
     "name": "stdout",
     "output_type": "stream",
     "text": [
      "🏃 View run LinearSVC_{'C': 0.0001} at: http://127.0.0.1:8080/#/experiments/219343887402467225/runs/94e0c28fae0e448daf5eab8a259be4ce\n",
      "\n",
      "🧪 View experiment at: http://127.0.0.1:8080/#/experiments/219343887402467225    \n",
      "\n",
      "Params: {'C': 1}                                                                 \n",
      " 40%|████      | 2/5 [00:03<00:05,  1.70s/trial, best loss: -0.33310749162724596]"
     ]
    },
    {
     "name": "stderr",
     "output_type": "stream",
     "text": [
      "/home/renan/miniconda3/lib/python3.12/site-packages/sklearn/metrics/_classification.py:1565: UndefinedMetricWarning: Precision is ill-defined and being set to 0.0 in labels with no predicted samples. Use `zero_division` parameter to control this behavior.\n",
      "  _warn_prf(average, modifier, f\"{metric.capitalize()} is\", len(result))\n",
      "\n"
     ]
    },
    {
     "name": "stdout",
     "output_type": "stream",
     "text": [
      "🏃 View run LinearSVC_{'C': 1} at: http://127.0.0.1:8080/#/experiments/219343887402467225/runs/99911b152a5a4d509524a7361b11ccbc\n",
      "\n",
      "🧪 View experiment at: http://127.0.0.1:8080/#/experiments/219343887402467225    \n",
      "\n",
      "Params: {'C': 1}                                                                 \n",
      " 60%|██████    | 3/5 [00:05<00:03,  1.84s/trial, best loss: -0.33310749162724596]"
     ]
    },
    {
     "name": "stderr",
     "output_type": "stream",
     "text": [
      "/home/renan/miniconda3/lib/python3.12/site-packages/sklearn/metrics/_classification.py:1565: UndefinedMetricWarning: Precision is ill-defined and being set to 0.0 in labels with no predicted samples. Use `zero_division` parameter to control this behavior.\n",
      "  _warn_prf(average, modifier, f\"{metric.capitalize()} is\", len(result))\n",
      "\n"
     ]
    },
    {
     "name": "stdout",
     "output_type": "stream",
     "text": [
      "🏃 View run LinearSVC_{'C': 1} at: http://127.0.0.1:8080/#/experiments/219343887402467225/runs/e72fc50c685e483b9f6474577af0a5b2\n",
      "\n",
      "🧪 View experiment at: http://127.0.0.1:8080/#/experiments/219343887402467225    \n",
      "\n",
      "Params: {'C': 0.0001}                                                            \n",
      " 80%|████████  | 4/5 [00:07<00:01,  1.93s/trial, best loss: -0.33310749162724596]"
     ]
    },
    {
     "name": "stderr",
     "output_type": "stream",
     "text": [
      "/home/renan/miniconda3/lib/python3.12/site-packages/sklearn/metrics/_classification.py:1565: UndefinedMetricWarning: Precision is ill-defined and being set to 0.0 in labels with no predicted samples. Use `zero_division` parameter to control this behavior.\n",
      "  _warn_prf(average, modifier, f\"{metric.capitalize()} is\", len(result))\n",
      "\n"
     ]
    },
    {
     "name": "stdout",
     "output_type": "stream",
     "text": [
      "🏃 View run LinearSVC_{'C': 0.0001} at: http://127.0.0.1:8080/#/experiments/219343887402467225/runs/f4fec242e5ac44a0ac72099eed1bba26\n",
      "\n",
      "🧪 View experiment at: http://127.0.0.1:8080/#/experiments/219343887402467225    \n",
      "\n",
      "100%|██████████| 5/5 [00:09<00:00,  1.83s/trial, best loss: -0.33310749162724596]\n",
      "🏃 View run svc-linear-sweep at: http://127.0.0.1:8080/#/experiments/219343887402467225/runs/7e047b45c06a42838ec9c54faff142ae\n",
      "🧪 View experiment at: http://127.0.0.1:8080/#/experiments/219343887402467225\n",
      "This will run 5 trials to find optimal hyperparameters...\n",
      "Params: {'learning_rate': 0.3, 'max_depth': 10, 'n_estimators': 500, 'random_state': 42}\n",
      "🏃 View run XGBClassifier_{'learning_rate': 0.3, 'max_depth': 10, 'n_estimators': 500, 'random_state': 42} at: http://127.0.0.1:8080/#/experiments/219343887402467225/runs/4542ba0acd2445729d9e03a293171577\n",
      "\n",
      "🧪 View experiment at: http://127.0.0.1:8080/#/experiments/219343887402467225\n",
      "\n",
      "Params: {'learning_rate': 0.4, 'max_depth': 10, 'n_estimators': 700, 'random_state': 42}\n",
      "🏃 View run XGBClassifier_{'learning_rate': 0.4, 'max_depth': 10, 'n_estimators': 700, 'random_state': 42} at: http://127.0.0.1:8080/#/experiments/219343887402467225/runs/78ee7feafc604b2c96db9f6a276c92f0\n",
      "\n",
      "🧪 View experiment at: http://127.0.0.1:8080/#/experiments/219343887402467225   \n",
      "\n",
      "Params: {'learning_rate': 0.2, 'max_depth': 5, 'n_estimators': 700, 'random_state': 42}\n",
      "🏃 View run XGBClassifier_{'learning_rate': 0.2, 'max_depth': 5, 'n_estimators': 700, 'random_state': 42} at: http://127.0.0.1:8080/#/experiments/219343887402467225/runs/d9d5086b06134b2a92bf07c6661384c4\n",
      "\n",
      "🧪 View experiment at: http://127.0.0.1:8080/#/experiments/219343887402467225   \n",
      "\n",
      "Params: {'learning_rate': 0.3, 'max_depth': None, 'n_estimators': 1000, 'random_state': 42}\n",
      "🏃 View run XGBClassifier_{'learning_rate': 0.3, 'max_depth': None, 'n_estimators': 1000, 'random_state': 42} at: http://127.0.0.1:8080/#/experiments/219343887402467225/runs/b226ed08acd243799ee1a9100d6ab348\n",
      "\n",
      "🧪 View experiment at: http://127.0.0.1:8080/#/experiments/219343887402467225   \n",
      "\n",
      "Params: {'learning_rate': 0.001, 'max_depth': 5, 'n_estimators': 500, 'random_state': 42}\n",
      "🏃 View run XGBClassifier_{'learning_rate': 0.001, 'max_depth': 5, 'n_estimators': 500, 'random_state': 42} at: http://127.0.0.1:8080/#/experiments/219343887402467225/runs/e9ae1c4f1a1c43249a2bdfa1b8e82eeb\n",
      "\n",
      "🧪 View experiment at: http://127.0.0.1:8080/#/experiments/219343887402467225   \n",
      "\n",
      "100%|██████████| 5/5 [00:33<00:00,  6.70s/trial, best loss: -0.3934144677894773]\n",
      "🏃 View run xgb-sweep at: http://127.0.0.1:8080/#/experiments/219343887402467225/runs/a936afeeecd143b99d5130e1812f0fd3\n",
      "🧪 View experiment at: http://127.0.0.1:8080/#/experiments/219343887402467225\n"
     ]
    },
    {
     "data": {
      "text/plain": [
       "0.3934144677894773"
      ]
     },
     "execution_count": 24,
     "metadata": {},
     "output_type": "execute_result"
    }
   ],
   "source": [
    "model = RandomForestClassifier\n",
    "run_experiments('rf-sweep', max_evals=max_evals, search_space=search_space_rf, data_name=data_name, model_name = 'RandomForestClassifier', features_names=columns_to_keep)\n",
    "model = SVC\n",
    "run_experiments('svc-sweep', max_evals=max_evals, search_space=search_space_svc, data_name=data_name, model_name = 'SVC', features_names=columns_to_keep)\n",
    "model = LinearSVC\n",
    "run_experiments('svc-linear-sweep', max_evals=max_evals, search_space=search_space_svc_linear, data_name=data_name, model_name = 'LinearSVC', features_names=columns_to_keep)\n",
    "model = xgb.XGBClassifier\n",
    "run_experiments('xgb-sweep', max_evals=max_evals, search_space=search_space_xgb, data_name=data_name, model_name = 'XGBClassifier', features_names=columns_to_keep)"
   ]
  },
  {
   "cell_type": "markdown",
   "id": "940416e1",
   "metadata": {},
   "source": [
    "### LLM"
   ]
  },
  {
   "cell_type": "code",
   "execution_count": null,
   "id": "abfd8115",
   "metadata": {},
   "outputs": [],
   "source": [
    "# Provide an Experiment description that will appear in the UI\n",
    "experiment_description = (\n",
    "    \"Experiment to train models on the CARLA LLM dataset.\"\n",
    ")\n",
    "\n",
    "# Provide searchable tags that define characteristics of the Runs that\n",
    "# will be in this Experiment\n",
    "experiment_tags = {\n",
    "    \"project_name\": \"driver-behavior-prediction\",\n",
    "    \"mlflow.note.content\": experiment_description,\n",
    "}\n",
    "\n",
    "# Create the Experiment, providing a unique name\n",
    "try:\n",
    "    driver_behavior_experiment = client.create_experiment(\n",
    "        name=\"CARLA_LLM\", tags=experiment_tags\n",
    "    )\n",
    "except mlflow.exceptions.RestException as e:\n",
    "    print(f\"Experiment already exists: {e}\")"
   ]
  },
  {
   "cell_type": "code",
   "execution_count": null,
   "id": "d8198c3c",
   "metadata": {},
   "outputs": [],
   "source": [
    "X_train, y_train = X_carla_llm, y_carla_llm\n",
    "\n",
    "scaler = StandardScaler()\n",
    "X_train = scaler.fit_transform(X_train)\n",
    "X_val = scaler.transform(X_val_base)\n",
    "y_train = preprocessor.one_hot_encode(y_train, one_hot_keys=one_hot_keys)\n",
    "\n",
    "mlflow.set_experiment('CARLA_LLM')\n",
    "data_name = 'CARLA_LLM'"
   ]
  },
  {
   "cell_type": "code",
   "execution_count": 27,
   "id": "6b1a7997",
   "metadata": {},
   "outputs": [
    {
     "name": "stdout",
     "output_type": "stream",
     "text": [
      "This will run 5 trials to find optimal hyperparameters...\n",
      "Params: {'max_depth': None, 'n_estimators': 50, 'random_state': 42}\n",
      "🏃 View run RandomForestClassifier_{'max_depth': None, 'n_estimators': 50, 'random_state': 42} at: http://127.0.0.1:8080/#/experiments/339489166525188628/runs/2300379d66334c93881158be9f3ea81f\n",
      "\n",
      "🧪 View experiment at: http://127.0.0.1:8080/#/experiments/339489166525188628\n",
      "\n",
      "Params: {'max_depth': None, 'n_estimators': 500, 'random_state': 42}             \n",
      "🏃 View run RandomForestClassifier_{'max_depth': None, 'n_estimators': 500, 'random_state': 42} at: http://127.0.0.1:8080/#/experiments/339489166525188628/runs/095d9ff58f5f48079cc10a6e737e8a83\n",
      "\n",
      "🧪 View experiment at: http://127.0.0.1:8080/#/experiments/339489166525188628    \n",
      "\n",
      "Params: {'max_depth': 10, 'n_estimators': 500, 'random_state': 42}               \n",
      "🏃 View run RandomForestClassifier_{'max_depth': 10, 'n_estimators': 500, 'random_state': 42} at: http://127.0.0.1:8080/#/experiments/339489166525188628/runs/251fc936998544df99c115e0ffc82b11\n",
      "\n",
      "🧪 View experiment at: http://127.0.0.1:8080/#/experiments/339489166525188628    \n",
      "\n",
      "Params: {'max_depth': 50, 'n_estimators': 500, 'random_state': 42}               \n",
      "🏃 View run RandomForestClassifier_{'max_depth': 50, 'n_estimators': 500, 'random_state': 42} at: http://127.0.0.1:8080/#/experiments/339489166525188628/runs/39e8c108a38b44a0af29b1c333449ea3\n",
      "\n",
      "🧪 View experiment at: http://127.0.0.1:8080/#/experiments/339489166525188628    \n",
      "\n",
      "Params: {'max_depth': 20, 'n_estimators': 200, 'random_state': 42}               \n",
      "🏃 View run RandomForestClassifier_{'max_depth': 20, 'n_estimators': 200, 'random_state': 42} at: http://127.0.0.1:8080/#/experiments/339489166525188628/runs/9c6d09c67ace410caef4e3b402275f43\n",
      "\n",
      "🧪 View experiment at: http://127.0.0.1:8080/#/experiments/339489166525188628    \n",
      "\n",
      "100%|██████████| 5/5 [04:09<00:00, 49.82s/trial, best loss: -0.47431877671857997]\n",
      "🏃 View run rf-sweep at: http://127.0.0.1:8080/#/experiments/339489166525188628/runs/baf617d2f0e140219a162f60965be827\n",
      "🧪 View experiment at: http://127.0.0.1:8080/#/experiments/339489166525188628\n",
      "This will run 5 trials to find optimal hyperparameters...\n",
      "Params: {'C': 1, 'gamma': 10, 'kernel': 'rbf'}       \n",
      "  0%|          | 0/5 [00:00<?, ?trial/s, best loss=?]"
     ]
    },
    {
     "name": "stderr",
     "output_type": "stream",
     "text": [
      "/home/renan/miniconda3/lib/python3.12/site-packages/sklearn/metrics/_classification.py:1565: UndefinedMetricWarning: Precision is ill-defined and being set to 0.0 in labels with no predicted samples. Use `zero_division` parameter to control this behavior.\n",
      "  _warn_prf(average, modifier, f\"{metric.capitalize()} is\", len(result))\n",
      "\n"
     ]
    },
    {
     "name": "stdout",
     "output_type": "stream",
     "text": [
      "🏃 View run SVC_{'C': 1, 'gamma': 10, 'kernel': 'rbf'} at: http://127.0.0.1:8080/#/experiments/339489166525188628/runs/64a44e1539384e6d820f902973d96d4a\n",
      "\n",
      "🧪 View experiment at: http://127.0.0.1:8080/#/experiments/339489166525188628\n",
      "\n",
      "Params: {'C': 0.01, 'gamma': 0.01, 'kernel': 'rbf'}                              \n",
      " 20%|██        | 1/5 [01:25<05:42, 85.73s/trial, best loss: -0.33310749162724596]"
     ]
    },
    {
     "name": "stderr",
     "output_type": "stream",
     "text": [
      "/home/renan/miniconda3/lib/python3.12/site-packages/sklearn/metrics/_classification.py:1565: UndefinedMetricWarning: Precision is ill-defined and being set to 0.0 in labels with no predicted samples. Use `zero_division` parameter to control this behavior.\n",
      "  _warn_prf(average, modifier, f\"{metric.capitalize()} is\", len(result))\n",
      "\n"
     ]
    },
    {
     "name": "stdout",
     "output_type": "stream",
     "text": [
      "🏃 View run SVC_{'C': 0.01, 'gamma': 0.01, 'kernel': 'rbf'} at: http://127.0.0.1:8080/#/experiments/339489166525188628/runs/dd8a74273b5f4533acdbbe006d209675\n",
      "\n",
      "🧪 View experiment at: http://127.0.0.1:8080/#/experiments/339489166525188628    \n",
      "\n",
      "Params: {'C': 0.01, 'gamma': 0.001, 'kernel': 'rbf'}                             \n",
      " 40%|████      | 2/5 [01:57<02:41, 53.73s/trial, best loss: -0.33310749162724596]"
     ]
    },
    {
     "name": "stderr",
     "output_type": "stream",
     "text": [
      "/home/renan/miniconda3/lib/python3.12/site-packages/sklearn/metrics/_classification.py:1565: UndefinedMetricWarning: Precision is ill-defined and being set to 0.0 in labels with no predicted samples. Use `zero_division` parameter to control this behavior.\n",
      "  _warn_prf(average, modifier, f\"{metric.capitalize()} is\", len(result))\n",
      "\n"
     ]
    },
    {
     "name": "stdout",
     "output_type": "stream",
     "text": [
      "🏃 View run SVC_{'C': 0.01, 'gamma': 0.001, 'kernel': 'rbf'} at: http://127.0.0.1:8080/#/experiments/339489166525188628/runs/fdf8f42881b84f7c87d26e834228f49d\n",
      "\n",
      "🧪 View experiment at: http://127.0.0.1:8080/#/experiments/339489166525188628    \n",
      "\n",
      "Params: {'C': 0.5, 'gamma': 10, 'kernel': 'rbf'}                                 \n",
      " 60%|██████    | 3/5 [02:28<01:26, 43.41s/trial, best loss: -0.33310749162724596]"
     ]
    },
    {
     "name": "stderr",
     "output_type": "stream",
     "text": [
      "/home/renan/miniconda3/lib/python3.12/site-packages/sklearn/metrics/_classification.py:1565: UndefinedMetricWarning: Precision is ill-defined and being set to 0.0 in labels with no predicted samples. Use `zero_division` parameter to control this behavior.\n",
      "  _warn_prf(average, modifier, f\"{metric.capitalize()} is\", len(result))\n",
      "\n"
     ]
    },
    {
     "name": "stdout",
     "output_type": "stream",
     "text": [
      "🏃 View run SVC_{'C': 0.5, 'gamma': 10, 'kernel': 'rbf'} at: http://127.0.0.1:8080/#/experiments/339489166525188628/runs/6d106fb0de1b452d91e721dc66e1bf77\n",
      "\n",
      "🧪 View experiment at: http://127.0.0.1:8080/#/experiments/339489166525188628    \n",
      "\n",
      "Params: {'C': 0.5, 'gamma': 10, 'kernel': 'rbf'}                                 \n",
      " 80%|████████  | 4/5 [03:30<00:50, 50.80s/trial, best loss: -0.33310749162724596]"
     ]
    },
    {
     "name": "stderr",
     "output_type": "stream",
     "text": [
      "/home/renan/miniconda3/lib/python3.12/site-packages/sklearn/metrics/_classification.py:1565: UndefinedMetricWarning: Precision is ill-defined and being set to 0.0 in labels with no predicted samples. Use `zero_division` parameter to control this behavior.\n",
      "  _warn_prf(average, modifier, f\"{metric.capitalize()} is\", len(result))\n",
      "\n"
     ]
    },
    {
     "name": "stdout",
     "output_type": "stream",
     "text": [
      "🏃 View run SVC_{'C': 0.5, 'gamma': 10, 'kernel': 'rbf'} at: http://127.0.0.1:8080/#/experiments/339489166525188628/runs/e3408b83ff284546a15372743676f572\n",
      "\n",
      "🧪 View experiment at: http://127.0.0.1:8080/#/experiments/339489166525188628    \n",
      "\n",
      "100%|██████████| 5/5 [04:32<00:00, 54.48s/trial, best loss: -0.33310749162724596]\n",
      "🏃 View run svc-sweep at: http://127.0.0.1:8080/#/experiments/339489166525188628/runs/b726a9b870384cc1860bc13bd56b5b13\n",
      "🧪 View experiment at: http://127.0.0.1:8080/#/experiments/339489166525188628\n",
      "This will run 5 trials to find optimal hyperparameters...\n",
      "Params: {'C': 1}                                     \n",
      "  0%|          | 0/5 [00:00<?, ?trial/s, best loss=?]"
     ]
    },
    {
     "name": "stderr",
     "output_type": "stream",
     "text": [
      "/home/renan/miniconda3/lib/python3.12/site-packages/sklearn/metrics/_classification.py:1565: UndefinedMetricWarning: Precision is ill-defined and being set to 0.0 in labels with no predicted samples. Use `zero_division` parameter to control this behavior.\n",
      "  _warn_prf(average, modifier, f\"{metric.capitalize()} is\", len(result))\n",
      "\n"
     ]
    },
    {
     "name": "stdout",
     "output_type": "stream",
     "text": [
      "🏃 View run LinearSVC_{'C': 1} at: http://127.0.0.1:8080/#/experiments/339489166525188628/runs/da8a2ce078214e10b2e69a7200e86a38\n",
      "\n",
      "🧪 View experiment at: http://127.0.0.1:8080/#/experiments/339489166525188628\n",
      "\n",
      "Params: {'C': 1}                                                                 \n",
      " 20%|██        | 1/5 [00:02<00:08,  2.08s/trial, best loss: -0.33310749162724596]"
     ]
    },
    {
     "name": "stderr",
     "output_type": "stream",
     "text": [
      "/home/renan/miniconda3/lib/python3.12/site-packages/sklearn/metrics/_classification.py:1565: UndefinedMetricWarning: Precision is ill-defined and being set to 0.0 in labels with no predicted samples. Use `zero_division` parameter to control this behavior.\n",
      "  _warn_prf(average, modifier, f\"{metric.capitalize()} is\", len(result))\n",
      "\n"
     ]
    },
    {
     "name": "stdout",
     "output_type": "stream",
     "text": [
      "🏃 View run LinearSVC_{'C': 1} at: http://127.0.0.1:8080/#/experiments/339489166525188628/runs/488d8bfe3af5437aa8511158c4d4da1d\n",
      "\n",
      "🧪 View experiment at: http://127.0.0.1:8080/#/experiments/339489166525188628    \n",
      "\n",
      "Params: {'C': 0.0001}                                                            \n",
      " 40%|████      | 2/5 [00:04<00:06,  2.10s/trial, best loss: -0.33310749162724596]"
     ]
    },
    {
     "name": "stderr",
     "output_type": "stream",
     "text": [
      "/home/renan/miniconda3/lib/python3.12/site-packages/sklearn/metrics/_classification.py:1565: UndefinedMetricWarning: Precision is ill-defined and being set to 0.0 in labels with no predicted samples. Use `zero_division` parameter to control this behavior.\n",
      "  _warn_prf(average, modifier, f\"{metric.capitalize()} is\", len(result))\n",
      "\n"
     ]
    },
    {
     "name": "stdout",
     "output_type": "stream",
     "text": [
      "🏃 View run LinearSVC_{'C': 0.0001} at: http://127.0.0.1:8080/#/experiments/339489166525188628/runs/5bc1cc36445747e6a1db5c435b123d67\n",
      "\n",
      "🧪 View experiment at: http://127.0.0.1:8080/#/experiments/339489166525188628    \n",
      "\n",
      "Params: {'C': 0.001}                                                             \n",
      " 60%|██████    | 3/5 [00:05<00:03,  1.86s/trial, best loss: -0.33310749162724596]"
     ]
    },
    {
     "name": "stderr",
     "output_type": "stream",
     "text": [
      "/home/renan/miniconda3/lib/python3.12/site-packages/sklearn/metrics/_classification.py:1565: UndefinedMetricWarning: Precision is ill-defined and being set to 0.0 in labels with no predicted samples. Use `zero_division` parameter to control this behavior.\n",
      "  _warn_prf(average, modifier, f\"{metric.capitalize()} is\", len(result))\n",
      "\n"
     ]
    },
    {
     "name": "stdout",
     "output_type": "stream",
     "text": [
      "🏃 View run LinearSVC_{'C': 0.001} at: http://127.0.0.1:8080/#/experiments/339489166525188628/runs/182a8deaaf7341e08c8426f459660e48\n",
      "\n",
      "🧪 View experiment at: http://127.0.0.1:8080/#/experiments/339489166525188628    \n",
      "\n",
      "Params: {'C': 0.1}                                                               \n",
      " 80%|████████  | 4/5 [00:07<00:01,  1.78s/trial, best loss: -0.33310749162724596]"
     ]
    },
    {
     "name": "stderr",
     "output_type": "stream",
     "text": [
      "/home/renan/miniconda3/lib/python3.12/site-packages/sklearn/metrics/_classification.py:1565: UndefinedMetricWarning: Precision is ill-defined and being set to 0.0 in labels with no predicted samples. Use `zero_division` parameter to control this behavior.\n",
      "  _warn_prf(average, modifier, f\"{metric.capitalize()} is\", len(result))\n",
      "\n"
     ]
    },
    {
     "name": "stdout",
     "output_type": "stream",
     "text": [
      "🏃 View run LinearSVC_{'C': 0.1} at: http://127.0.0.1:8080/#/experiments/339489166525188628/runs/aa25e87e2cea499d81663dc59fe736b6\n",
      "\n",
      "🧪 View experiment at: http://127.0.0.1:8080/#/experiments/339489166525188628    \n",
      "\n",
      "100%|██████████| 5/5 [00:09<00:00,  1.91s/trial, best loss: -0.33310749162724596]\n",
      "🏃 View run svc-linear-sweep at: http://127.0.0.1:8080/#/experiments/339489166525188628/runs/1fc740d0a526463192b33156dfb013c4\n",
      "🧪 View experiment at: http://127.0.0.1:8080/#/experiments/339489166525188628\n",
      "This will run 5 trials to find optimal hyperparameters...\n",
      "Params: {'learning_rate': 0.5, 'max_depth': 5, 'n_estimators': 500, 'random_state': 42}\n",
      "🏃 View run XGBClassifier_{'learning_rate': 0.5, 'max_depth': 5, 'n_estimators': 500, 'random_state': 42} at: http://127.0.0.1:8080/#/experiments/339489166525188628/runs/a7ed20d649c8410d930475d2d9557bb6\n",
      "\n",
      "🧪 View experiment at: http://127.0.0.1:8080/#/experiments/339489166525188628\n",
      "\n",
      "Params: {'learning_rate': 0.4, 'max_depth': 5, 'n_estimators': 700, 'random_state': 42}\n",
      "🏃 View run XGBClassifier_{'learning_rate': 0.4, 'max_depth': 5, 'n_estimators': 700, 'random_state': 42} at: http://127.0.0.1:8080/#/experiments/339489166525188628/runs/a6e57208bd75478596852fafbf6ab1ef\n",
      "\n",
      "🧪 View experiment at: http://127.0.0.1:8080/#/experiments/339489166525188628   \n",
      "\n",
      "Params: {'learning_rate': 0.1, 'max_depth': None, 'n_estimators': 1000, 'random_state': 42}\n",
      "🏃 View run XGBClassifier_{'learning_rate': 0.1, 'max_depth': None, 'n_estimators': 1000, 'random_state': 42} at: http://127.0.0.1:8080/#/experiments/339489166525188628/runs/cbfac180399e4c63816ffd70c2408768\n",
      "\n",
      "🧪 View experiment at: http://127.0.0.1:8080/#/experiments/339489166525188628    \n",
      "\n",
      "Params: {'learning_rate': 0.5, 'max_depth': None, 'n_estimators': 1000, 'random_state': 42}\n",
      "🏃 View run XGBClassifier_{'learning_rate': 0.5, 'max_depth': None, 'n_estimators': 1000, 'random_state': 42} at: http://127.0.0.1:8080/#/experiments/339489166525188628/runs/740717e8090745b68775b7bf7d70f264\n",
      "\n",
      "🧪 View experiment at: http://127.0.0.1:8080/#/experiments/339489166525188628    \n",
      "\n",
      "Params: {'learning_rate': 0.01, 'max_depth': 5, 'n_estimators': 700, 'random_state': 42}\n",
      " 80%|████████  | 4/5 [00:31<00:08,  8.38s/trial, best loss: -0.40131969784645705]"
     ]
    },
    {
     "name": "stderr",
     "output_type": "stream",
     "text": [
      "/home/renan/miniconda3/lib/python3.12/site-packages/sklearn/metrics/_classification.py:1565: UndefinedMetricWarning: Precision is ill-defined and being set to 0.0 in labels with no predicted samples. Use `zero_division` parameter to control this behavior.\n",
      "  _warn_prf(average, modifier, f\"{metric.capitalize()} is\", len(result))\n",
      "\n"
     ]
    },
    {
     "name": "stdout",
     "output_type": "stream",
     "text": [
      "🏃 View run XGBClassifier_{'learning_rate': 0.01, 'max_depth': 5, 'n_estimators': 700, 'random_state': 42} at: http://127.0.0.1:8080/#/experiments/339489166525188628/runs/8ec42b08cdb44a51b7b693504e4d6ecd\n",
      "\n",
      "🧪 View experiment at: http://127.0.0.1:8080/#/experiments/339489166525188628    \n",
      "\n",
      "100%|██████████| 5/5 [00:37<00:00,  7.55s/trial, best loss: -0.40131969784645705]\n",
      "🏃 View run xgb-sweep at: http://127.0.0.1:8080/#/experiments/339489166525188628/runs/15ee4321853346d89320159e72d27843\n",
      "🧪 View experiment at: http://127.0.0.1:8080/#/experiments/339489166525188628\n"
     ]
    },
    {
     "data": {
      "text/plain": [
       "0.40131969784645705"
      ]
     },
     "execution_count": 27,
     "metadata": {},
     "output_type": "execute_result"
    }
   ],
   "source": [
    "model = RandomForestClassifier\n",
    "run_experiments('rf-sweep', max_evals=max_evals, search_space=search_space_rf, data_name=data_name, model_name = 'RandomForestClassifier', features_names=columns_to_keep)\n",
    "model = SVC\n",
    "run_experiments('svc-sweep', max_evals=max_evals, search_space=search_space_svc, data_name=data_name, model_name = 'SVC', features_names=columns_to_keep)\n",
    "model = LinearSVC\n",
    "run_experiments('svc-linear-sweep', max_evals=max_evals, search_space=search_space_svc_linear, data_name=data_name, model_name = 'LinearSVC', features_names=columns_to_keep)\n",
    "model = xgb.XGBClassifier\n",
    "run_experiments('xgb-sweep', max_evals=max_evals, search_space=search_space_xgb, data_name=data_name, model_name = 'XGBClassifier', features_names=columns_to_keep)"
   ]
  },
  {
   "cell_type": "markdown",
   "id": "6d17d697",
   "metadata": {},
   "source": [
    "## Real + SUMO"
   ]
  },
  {
   "cell_type": "code",
   "execution_count": null,
   "id": "08cda850",
   "metadata": {},
   "outputs": [],
   "source": [
    "sumo_uah_fixed_20 = preprocessor.fill_synthetic_data(sumo_uah_fixed, 0.2)\n",
    "sumo_uah_llm_20 = preprocessor.fill_synthetic_data(sumo_uah_llm, 0.2)\n",
    "\n",
    "sumo_uah_fixed_100 = preprocessor.fill_synthetic_data(sumo_uah_fixed, 1)\n",
    "sumo_uah_llm_100 = preprocessor.fill_synthetic_data(sumo_uah_llm, 1)\n",
    "\n",
    "sumo_uah_fixed_200 = preprocessor.fill_synthetic_data(sumo_uah_fixed, 2)\n",
    "sumo_uah_llm_200 = preprocessor.fill_synthetic_data(sumo_uah_llm, 2)"
   ]
  },
  {
   "cell_type": "code",
   "execution_count": null,
   "id": "a60b0669",
   "metadata": {},
   "outputs": [],
   "source": [
    "X_sumo_uah_fixed_20, y_sumo_uah_fixed_20 = preprocessor.sliding_windows(sumo_uah_fixed_20, window_size=window_size, step_size=step_size)\n",
    "X_sumo_uah_llm_20, y_sumo_uah_llm_20 = preprocessor.sliding_windows(sumo_uah_llm_20, window_size=window_size, step_size=step_size)\n",
    "\n",
    "X_sumo_uah_fixed_100, y_sumo_uah_fixed_100 = preprocessor.sliding_windows(sumo_uah_fixed_100, window_size=window_size, step_size=step_size)\n",
    "X_sumo_uah_llm_100, y_sumo_uah_llm_100 = preprocessor.sliding_windows(sumo_uah_llm_100, window_size=window_size, step_size=step_size)\n",
    "\n",
    "X_sumo_uah_fixed_200, y_sumo_uah_fixed_200 = preprocessor.sliding_windows(sumo_uah_fixed_200, window_size=window_size, step_size=step_size)\n",
    "X_sumo_uah_llm_200, y_sumo_uah_llm_200 = preprocessor.sliding_windows(sumo_uah_llm_200, window_size=window_size, step_size=step_size)"
   ]
  },
  {
   "cell_type": "code",
   "execution_count": null,
   "id": "c6769432",
   "metadata": {},
   "outputs": [
    {
     "name": "stdout",
     "output_type": "stream",
     "text": [
      "Columns to keep for validation: ['acc', 'angle', 'speed', 'gyro_z', 'label']\n"
     ]
    }
   ],
   "source": [
    "print(\"Columns to keep for validation:\", sumo_columns_to_keep)\n",
    "\n",
    "X_val_base, y_val = preprocessor.sliding_windows(uah_validation[sumo_columns_to_keep], window_size=window_size, step_size=step_size)\n",
    "y_val = preprocessor.one_hot_encode(y_val, one_hot_keys=one_hot_keys)"
   ]
  },
  {
   "cell_type": "markdown",
   "id": "24d285d9",
   "metadata": {},
   "source": [
    "## Real + SUMO (20%)"
   ]
  },
  {
   "cell_type": "markdown",
   "id": "133dd3c5",
   "metadata": {},
   "source": [
    "### Fixed"
   ]
  },
  {
   "cell_type": "code",
   "execution_count": 28,
   "id": "5840afcb",
   "metadata": {},
   "outputs": [],
   "source": [
    "# Provide an Experiment description that will appear in the UI\n",
    "experiment_description = (\n",
    "    \"Experiment to train models on the UAH + SUMO Fixed (20%) dataset.\"\n",
    ")\n",
    "\n",
    "# Provide searchable tags that define characteristics of the Runs that\n",
    "# will be in this Experiment\n",
    "experiment_tags = {\n",
    "    \"project_name\": \"driver-behavior-prediction\",\n",
    "    \"mlflow.note.content\": experiment_description,\n",
    "}\n",
    "\n",
    "# Create the Experiment, providing a unique name\n",
    "try:\n",
    "    driver_behavior_experiment = client.create_experiment(\n",
    "        name=\"UAH_SUMO_Fixed_20\", tags=experiment_tags\n",
    "    )\n",
    "except mlflow.exceptions.RestException as e:\n",
    "    print(f\"Experiment already exists: {e}\")"
   ]
  },
  {
   "cell_type": "code",
   "execution_count": 29,
   "id": "43f2e1b5",
   "metadata": {},
   "outputs": [],
   "source": [
    "X_train, y_train = X_sumo_uah_fixed_20, y_sumo_uah_fixed_20\n",
    "\n",
    "scaler = StandardScaler()\n",
    "X_train = scaler.fit_transform(X_train)\n",
    "X_val = scaler.transform(X_val_base)\n",
    "y_train = preprocessor.one_hot_encode(y_train, one_hot_keys=one_hot_keys)\n",
    "\n",
    "signature = infer_signature(X_train, y_train)\n",
    "mlflow.set_experiment('UAH_SUMO_Fixed_20')\n",
    "data_name = 'UAH_SUMO_Fixed_20'"
   ]
  },
  {
   "cell_type": "code",
   "execution_count": 30,
   "id": "9eb54c1b",
   "metadata": {},
   "outputs": [
    {
     "name": "stdout",
     "output_type": "stream",
     "text": [
      "This will run 5 trials to find optimal hyperparameters...\n",
      "Params: {'max_depth': 50, 'n_estimators': 500, 'random_state': 42}\n",
      "🏃 View run RandomForestClassifier_{'max_depth': 50, 'n_estimators': 500, 'random_state': 42} at: http://127.0.0.1:8080/#/experiments/285553466500292992/runs/10a2e8f448f641f8980afc84a6f04ff7\n",
      "\n",
      "🧪 View experiment at: http://127.0.0.1:8080/#/experiments/285553466500292992\n",
      "\n",
      "Params: {'max_depth': 20, 'n_estimators': 20, 'random_state': 42}               \n",
      "🏃 View run RandomForestClassifier_{'max_depth': 20, 'n_estimators': 20, 'random_state': 42} at: http://127.0.0.1:8080/#/experiments/285553466500292992/runs/41ec85b27916402ca5fd25106ba93ad4\n",
      "\n",
      "🧪 View experiment at: http://127.0.0.1:8080/#/experiments/285553466500292992   \n",
      "\n",
      "Params: {'max_depth': None, 'n_estimators': 100, 'random_state': 42}            \n",
      "🏃 View run RandomForestClassifier_{'max_depth': None, 'n_estimators': 100, 'random_state': 42} at: http://127.0.0.1:8080/#/experiments/285553466500292992/runs/cc71417b3ac744c48a72234ee8c3dd8b\n",
      "\n",
      "🧪 View experiment at: http://127.0.0.1:8080/#/experiments/285553466500292992   \n",
      "\n",
      "Params: {'max_depth': 50, 'n_estimators': 200, 'random_state': 42}              \n",
      "🏃 View run RandomForestClassifier_{'max_depth': 50, 'n_estimators': 200, 'random_state': 42} at: http://127.0.0.1:8080/#/experiments/285553466500292992/runs/c91b14b4bd1849c2a8bada094384bb2d\n",
      "\n",
      "🧪 View experiment at: http://127.0.0.1:8080/#/experiments/285553466500292992   \n",
      "\n",
      "Params: {'max_depth': 10, 'n_estimators': 50, 'random_state': 42}               \n",
      "🏃 View run RandomForestClassifier_{'max_depth': 10, 'n_estimators': 50, 'random_state': 42} at: http://127.0.0.1:8080/#/experiments/285553466500292992/runs/aa85b571b0794ea390b07b9faa9053e4\n",
      "\n",
      "🧪 View experiment at: http://127.0.0.1:8080/#/experiments/285553466500292992   \n",
      "\n",
      "100%|██████████| 5/5 [01:34<00:00, 18.85s/trial, best loss: -0.6572126843006315]\n",
      "🏃 View run rf-sweep at: http://127.0.0.1:8080/#/experiments/285553466500292992/runs/7290785ccd34473d8e3cbfe5892e0872\n",
      "🧪 View experiment at: http://127.0.0.1:8080/#/experiments/285553466500292992\n",
      "This will run 5 trials to find optimal hyperparameters...\n",
      "Params: {'C': 0.01, 'gamma': 1, 'kernel': 'rbf'}     \n",
      "  0%|          | 0/5 [00:00<?, ?trial/s, best loss=?]"
     ]
    },
    {
     "name": "stderr",
     "output_type": "stream",
     "text": [
      "/home/renan/miniconda3/lib/python3.12/site-packages/sklearn/metrics/_classification.py:1565: UndefinedMetricWarning: Precision is ill-defined and being set to 0.0 in labels with no predicted samples. Use `zero_division` parameter to control this behavior.\n",
      "  _warn_prf(average, modifier, f\"{metric.capitalize()} is\", len(result))\n",
      "\n"
     ]
    },
    {
     "name": "stdout",
     "output_type": "stream",
     "text": [
      "🏃 View run SVC_{'C': 0.01, 'gamma': 1, 'kernel': 'rbf'} at: http://127.0.0.1:8080/#/experiments/285553466500292992/runs/e1291df099da4c3e878f4ad93edba17f\n",
      "\n",
      "🧪 View experiment at: http://127.0.0.1:8080/#/experiments/285553466500292992\n",
      "\n",
      "Params: {'C': 0.1, 'gamma': 0.01, 'kernel': 'rbf'}                              \n",
      "🏃 View run SVC_{'C': 0.1, 'gamma': 0.01, 'kernel': 'rbf'} at: http://127.0.0.1:8080/#/experiments/285553466500292992/runs/a6de74e6d2aa420a8574cc016a0f9043\n",
      "\n",
      "🧪 View experiment at: http://127.0.0.1:8080/#/experiments/285553466500292992   \n",
      "\n",
      "Params: {'C': 0.05, 'gamma': 0.1, 'kernel': 'rbf'}                              \n",
      "🏃 View run SVC_{'C': 0.05, 'gamma': 0.1, 'kernel': 'rbf'} at: http://127.0.0.1:8080/#/experiments/285553466500292992/runs/3f5760aab20c4270bf2ead3ee443c553\n",
      "\n",
      "🧪 View experiment at: http://127.0.0.1:8080/#/experiments/285553466500292992   \n",
      "\n",
      "Params: {'C': 0.5, 'gamma': 0.1, 'kernel': 'rbf'}                               \n",
      "🏃 View run SVC_{'C': 0.5, 'gamma': 0.1, 'kernel': 'rbf'} at: http://127.0.0.1:8080/#/experiments/285553466500292992/runs/0a6561d7764e45c4b4842581ce896be1\n",
      "\n",
      "🧪 View experiment at: http://127.0.0.1:8080/#/experiments/285553466500292992   \n",
      "\n",
      "Params: {'C': 0.01, 'gamma': 0.01, 'kernel': 'rbf'}                             \n",
      "🏃 View run SVC_{'C': 0.01, 'gamma': 0.01, 'kernel': 'rbf'} at: http://127.0.0.1:8080/#/experiments/285553466500292992/runs/b364cca9c63a47b79c91cb2805dea7eb\n",
      "\n",
      "🧪 View experiment at: http://127.0.0.1:8080/#/experiments/285553466500292992   \n",
      "\n",
      "100%|██████████| 5/5 [01:41<00:00, 20.27s/trial, best loss: -0.7087823456745189]\n",
      "🏃 View run svc-sweep at: http://127.0.0.1:8080/#/experiments/285553466500292992/runs/38dd94f3ba794cdfb5f46997ef2d522e\n",
      "🧪 View experiment at: http://127.0.0.1:8080/#/experiments/285553466500292992\n",
      "This will run 5 trials to find optimal hyperparameters...\n",
      "Params: {'C': 0.001}                                 \n",
      "🏃 View run LinearSVC_{'C': 0.001} at: http://127.0.0.1:8080/#/experiments/285553466500292992/runs/ae66048d941147e38b125d0649a29a08\n",
      "\n",
      "🧪 View experiment at: http://127.0.0.1:8080/#/experiments/285553466500292992\n",
      "\n",
      "Params: {'C': 0.0001}                                                           \n",
      "🏃 View run LinearSVC_{'C': 0.0001} at: http://127.0.0.1:8080/#/experiments/285553466500292992/runs/f0e3c872bd994989aba62c87c6e71296\n",
      "\n",
      "🧪 View experiment at: http://127.0.0.1:8080/#/experiments/285553466500292992   \n",
      "\n",
      "Params: {'C': 1}                                                                \n",
      "🏃 View run LinearSVC_{'C': 1} at: http://127.0.0.1:8080/#/experiments/285553466500292992/runs/44dd0e7fb27a46f79b6905ec25574f3e\n",
      "\n",
      "🧪 View experiment at: http://127.0.0.1:8080/#/experiments/285553466500292992   \n",
      "\n",
      "Params: {'C': 0.0001}                                                           \n",
      "🏃 View run LinearSVC_{'C': 0.0001} at: http://127.0.0.1:8080/#/experiments/285553466500292992/runs/fff1b075e60a41638a63aa2ff0f8b47d\n",
      "\n",
      "🧪 View experiment at: http://127.0.0.1:8080/#/experiments/285553466500292992   \n",
      "\n",
      "Params: {'C': 0.0001}                                                           \n",
      "🏃 View run LinearSVC_{'C': 0.0001} at: http://127.0.0.1:8080/#/experiments/285553466500292992/runs/fa012298c435431fa2f371452d37b882\n",
      "\n",
      "🧪 View experiment at: http://127.0.0.1:8080/#/experiments/285553466500292992   \n",
      "\n",
      "100%|██████████| 5/5 [00:08<00:00,  1.64s/trial, best loss: -0.6779997405101337]\n",
      "🏃 View run svc-linear-sweep at: http://127.0.0.1:8080/#/experiments/285553466500292992/runs/58d2beef97a84da5bc74005237d2fbf8\n",
      "🧪 View experiment at: http://127.0.0.1:8080/#/experiments/285553466500292992\n",
      "This will run 5 trials to find optimal hyperparameters...\n",
      "Params: {'learning_rate': 0.4, 'max_depth': None, 'n_estimators': 200, 'random_state': 42}\n",
      "🏃 View run XGBClassifier_{'learning_rate': 0.4, 'max_depth': None, 'n_estimators': 200, 'random_state': 42} at: http://127.0.0.1:8080/#/experiments/285553466500292992/runs/e6abc6ac936c45778ffd343806fcb2e5\n",
      "\n",
      "🧪 View experiment at: http://127.0.0.1:8080/#/experiments/285553466500292992\n",
      "\n",
      "Params: {'learning_rate': 0.3, 'max_depth': None, 'n_estimators': 700, 'random_state': 42}\n",
      "🏃 View run XGBClassifier_{'learning_rate': 0.3, 'max_depth': None, 'n_estimators': 700, 'random_state': 42} at: http://127.0.0.1:8080/#/experiments/285553466500292992/runs/d36fc9fcacd541ad978a4c55110ecea1\n",
      "\n",
      "🧪 View experiment at: http://127.0.0.1:8080/#/experiments/285553466500292992   \n",
      "\n",
      "Params: {'learning_rate': 0.001, 'max_depth': None, 'n_estimators': 700, 'random_state': 42}\n",
      "🏃 View run XGBClassifier_{'learning_rate': 0.001, 'max_depth': None, 'n_estimators': 700, 'random_state': 42} at: http://127.0.0.1:8080/#/experiments/285553466500292992/runs/12cdb98272cc49c6a1ae5359b7947aa6\n",
      "\n",
      "🧪 View experiment at: http://127.0.0.1:8080/#/experiments/285553466500292992   \n",
      "\n",
      "Params: {'learning_rate': 0.1, 'max_depth': 10, 'n_estimators': 500, 'random_state': 42}\n",
      "🏃 View run XGBClassifier_{'learning_rate': 0.1, 'max_depth': 10, 'n_estimators': 500, 'random_state': 42} at: http://127.0.0.1:8080/#/experiments/285553466500292992/runs/35572de4379f4fa981e5ccfdd498ce74\n",
      "\n",
      "🧪 View experiment at: http://127.0.0.1:8080/#/experiments/285553466500292992   \n",
      "\n",
      "Params: {'learning_rate': 0.01, 'max_depth': None, 'n_estimators': 1000, 'random_state': 42}\n",
      "🏃 View run XGBClassifier_{'learning_rate': 0.01, 'max_depth': None, 'n_estimators': 1000, 'random_state': 42} at: http://127.0.0.1:8080/#/experiments/285553466500292992/runs/b54f9c3ea13b4ad59d48a080274e6cca\n",
      "\n",
      "🧪 View experiment at: http://127.0.0.1:8080/#/experiments/285553466500292992   \n",
      "\n",
      "100%|██████████| 5/5 [00:26<00:00,  5.31s/trial, best loss: -0.6737632970955671]\n",
      "🏃 View run xgb-sweep at: http://127.0.0.1:8080/#/experiments/285553466500292992/runs/9835329bade04261bbf8c2ae603936a5\n",
      "🧪 View experiment at: http://127.0.0.1:8080/#/experiments/285553466500292992\n"
     ]
    },
    {
     "data": {
      "text/plain": [
       "0.6737632970955671"
      ]
     },
     "execution_count": 30,
     "metadata": {},
     "output_type": "execute_result"
    }
   ],
   "source": [
    "model = RandomForestClassifier\n",
    "run_experiments('rf-sweep', max_evals=max_evals, search_space=search_space_rf, data_name=data_name, model_name = 'RandomForestClassifier', features_names=columns_to_keep)\n",
    "model = SVC\n",
    "run_experiments('svc-sweep', max_evals=max_evals, search_space=search_space_svc, data_name=data_name, model_name = 'SVC', features_names=columns_to_keep)\n",
    "model = LinearSVC\n",
    "run_experiments('svc-linear-sweep', max_evals=max_evals, search_space=search_space_svc_linear, data_name=data_name, model_name = 'LinearSVC', features_names=columns_to_keep)\n",
    "model = xgb.XGBClassifier\n",
    "run_experiments('xgb-sweep', max_evals=max_evals, search_space=search_space_xgb, data_name=data_name, model_name = 'XGBClassifier', features_names=columns_to_keep)"
   ]
  },
  {
   "cell_type": "markdown",
   "id": "d86358b9",
   "metadata": {},
   "source": [
    "### LLM"
   ]
  },
  {
   "cell_type": "code",
   "execution_count": 31,
   "id": "fd056ed3",
   "metadata": {},
   "outputs": [],
   "source": [
    "# Provide an Experiment description that will appear in the UI\n",
    "experiment_description = (\n",
    "    \"Experiment to train models on the UAH + SUMO LLM (20%) dataset.\"\n",
    ")\n",
    "\n",
    "# Provide searchable tags that define characteristics of the Runs that\n",
    "# will be in this Experiment\n",
    "experiment_tags = {\n",
    "    \"project_name\": \"driver-behavior-prediction\",\n",
    "    \"mlflow.note.content\": experiment_description,\n",
    "}\n",
    "\n",
    "# Create the Experiment, providing a unique name\n",
    "try:\n",
    "    driver_behavior_experiment = client.create_experiment(\n",
    "        name=\"UAH_SUMO_LLM_20\", tags=experiment_tags\n",
    "    )\n",
    "except mlflow.exceptions.RestException as e:\n",
    "    print(f\"Experiment already exists: {e}\")"
   ]
  },
  {
   "cell_type": "code",
   "execution_count": 32,
   "id": "8e51b1e2",
   "metadata": {},
   "outputs": [],
   "source": [
    "X_train, y_train = X_sumo_uah_llm_20, y_sumo_uah_llm_20\n",
    "\n",
    "scaler = StandardScaler()\n",
    "X_train = scaler.fit_transform(X_train)\n",
    "X_val = scaler.transform(X_val_base)\n",
    "y_train = preprocessor.one_hot_encode(y_train, one_hot_keys=one_hot_keys)\n",
    "\n",
    "signature = infer_signature(X_train, y_train)\n",
    "mlflow.set_experiment('UAH_SUMO_LLM_20')\n",
    "data_name = 'UAH_SUMO_LLM_20'"
   ]
  },
  {
   "cell_type": "code",
   "execution_count": 33,
   "id": "ee354ab5",
   "metadata": {},
   "outputs": [
    {
     "name": "stdout",
     "output_type": "stream",
     "text": [
      "This will run 5 trials to find optimal hyperparameters...\n",
      "Params: {'max_depth': None, 'n_estimators': 500, 'random_state': 42}\n",
      "🏃 View run RandomForestClassifier_{'max_depth': None, 'n_estimators': 500, 'random_state': 42} at: http://127.0.0.1:8080/#/experiments/824130069139841936/runs/a274a4ca54c64eb7ba4716ac59f62043\n",
      "\n",
      "🧪 View experiment at: http://127.0.0.1:8080/#/experiments/824130069139841936\n",
      "\n",
      "Params: {'max_depth': 10, 'n_estimators': 500, 'random_state': 42}              \n",
      "🏃 View run RandomForestClassifier_{'max_depth': 10, 'n_estimators': 500, 'random_state': 42} at: http://127.0.0.1:8080/#/experiments/824130069139841936/runs/6d4ecf9339cf45fcbc54088702660984\n",
      "\n",
      "🧪 View experiment at: http://127.0.0.1:8080/#/experiments/824130069139841936   \n",
      "\n",
      "Params: {'max_depth': 20, 'n_estimators': 500, 'random_state': 42}              \n",
      "🏃 View run RandomForestClassifier_{'max_depth': 20, 'n_estimators': 500, 'random_state': 42} at: http://127.0.0.1:8080/#/experiments/824130069139841936/runs/af5461e97a5a4e38825b24d547034d3a\n",
      "\n",
      "🧪 View experiment at: http://127.0.0.1:8080/#/experiments/824130069139841936   \n",
      "\n",
      "Params: {'max_depth': 50, 'n_estimators': 200, 'random_state': 42}              \n",
      "🏃 View run RandomForestClassifier_{'max_depth': 50, 'n_estimators': 200, 'random_state': 42} at: http://127.0.0.1:8080/#/experiments/824130069139841936/runs/b21f077bd5864873af0b0fb160bf6668\n",
      "\n",
      "🧪 View experiment at: http://127.0.0.1:8080/#/experiments/824130069139841936   \n",
      "\n",
      "Params: {'max_depth': None, 'n_estimators': 500, 'random_state': 42}            \n",
      "🏃 View run RandomForestClassifier_{'max_depth': None, 'n_estimators': 500, 'random_state': 42} at: http://127.0.0.1:8080/#/experiments/824130069139841936/runs/6997b67b77e94c6cbf84ffddfa5ec640\n",
      "\n",
      "🧪 View experiment at: http://127.0.0.1:8080/#/experiments/824130069139841936   \n",
      "\n",
      "100%|██████████| 5/5 [03:33<00:00, 42.77s/trial, best loss: -0.6461733468698513]\n",
      "🏃 View run rf-sweep at: http://127.0.0.1:8080/#/experiments/824130069139841936/runs/f3174b3c5bab4348b18ed74fc6cbdd76\n",
      "🧪 View experiment at: http://127.0.0.1:8080/#/experiments/824130069139841936\n",
      "This will run 5 trials to find optimal hyperparameters...\n",
      "Params: {'C': 0.1, 'gamma': 10, 'kernel': 'rbf'}     \n",
      "  0%|          | 0/5 [00:00<?, ?trial/s, best loss=?]"
     ]
    },
    {
     "name": "stderr",
     "output_type": "stream",
     "text": [
      "/home/renan/miniconda3/lib/python3.12/site-packages/sklearn/metrics/_classification.py:1565: UndefinedMetricWarning: Precision is ill-defined and being set to 0.0 in labels with no predicted samples. Use `zero_division` parameter to control this behavior.\n",
      "  _warn_prf(average, modifier, f\"{metric.capitalize()} is\", len(result))\n",
      "\n"
     ]
    },
    {
     "name": "stdout",
     "output_type": "stream",
     "text": [
      "🏃 View run SVC_{'C': 0.1, 'gamma': 10, 'kernel': 'rbf'} at: http://127.0.0.1:8080/#/experiments/824130069139841936/runs/e08d9192a48c433fa006fb64e25f501c\n",
      "\n",
      "🧪 View experiment at: http://127.0.0.1:8080/#/experiments/824130069139841936\n",
      "\n",
      "Params: {'C': 0.1, 'gamma': 0.1, 'kernel': 'rbf'}                               \n",
      "🏃 View run SVC_{'C': 0.1, 'gamma': 0.1, 'kernel': 'rbf'} at: http://127.0.0.1:8080/#/experiments/824130069139841936/runs/ac11070a3fb6467e9e2d085e898b3e38\n",
      "\n",
      "🧪 View experiment at: http://127.0.0.1:8080/#/experiments/824130069139841936   \n",
      "\n",
      "Params: {'C': 0.5, 'gamma': 0.1, 'kernel': 'rbf'}                               \n",
      "🏃 View run SVC_{'C': 0.5, 'gamma': 0.1, 'kernel': 'rbf'} at: http://127.0.0.1:8080/#/experiments/824130069139841936/runs/633af98a66e94be1a6dff56493c96305\n",
      "\n",
      "🧪 View experiment at: http://127.0.0.1:8080/#/experiments/824130069139841936   \n",
      "\n",
      "Params: {'C': 1, 'gamma': 0.1, 'kernel': 'rbf'}                                 \n",
      "🏃 View run SVC_{'C': 1, 'gamma': 0.1, 'kernel': 'rbf'} at: http://127.0.0.1:8080/#/experiments/824130069139841936/runs/17332eb6f622444da0c35c89d2592be9\n",
      "\n",
      "🧪 View experiment at: http://127.0.0.1:8080/#/experiments/824130069139841936   \n",
      "\n",
      "Params: {'C': 0.5, 'gamma': 0.1, 'kernel': 'rbf'}                               \n",
      "🏃 View run SVC_{'C': 0.5, 'gamma': 0.1, 'kernel': 'rbf'} at: http://127.0.0.1:8080/#/experiments/824130069139841936/runs/71ee230268134e888a1060f890cfaa79\n",
      "\n",
      "🧪 View experiment at: http://127.0.0.1:8080/#/experiments/824130069139841936   \n",
      "\n",
      "100%|██████████| 5/5 [02:28<00:00, 29.77s/trial, best loss: -0.7003649127038312]\n",
      "🏃 View run svc-sweep at: http://127.0.0.1:8080/#/experiments/824130069139841936/runs/879c31c7dc504999983e3a769d5797a3\n",
      "🧪 View experiment at: http://127.0.0.1:8080/#/experiments/824130069139841936\n",
      "This will run 5 trials to find optimal hyperparameters...\n",
      "Params: {'C': 0.1}                                   \n",
      "🏃 View run LinearSVC_{'C': 0.1} at: http://127.0.0.1:8080/#/experiments/824130069139841936/runs/56b3b451b04248828b75d37423ecdf5a\n",
      "\n",
      "🧪 View experiment at: http://127.0.0.1:8080/#/experiments/824130069139841936\n",
      "\n",
      "Params: {'C': 0.0001}                                                           \n",
      "🏃 View run LinearSVC_{'C': 0.0001} at: http://127.0.0.1:8080/#/experiments/824130069139841936/runs/04c10e84c4664906ba5d68937843b86d\n",
      "\n",
      "🧪 View experiment at: http://127.0.0.1:8080/#/experiments/824130069139841936   \n",
      "\n",
      "Params: {'C': 0.001}                                                            \n",
      "🏃 View run LinearSVC_{'C': 0.001} at: http://127.0.0.1:8080/#/experiments/824130069139841936/runs/1fe59e99c50e403ca1d7793d9c2da47f\n",
      "\n",
      "🧪 View experiment at: http://127.0.0.1:8080/#/experiments/824130069139841936   \n",
      "\n",
      "Params: {'C': 0.01}                                                             \n",
      "🏃 View run LinearSVC_{'C': 0.01} at: http://127.0.0.1:8080/#/experiments/824130069139841936/runs/a24780123433433e8d87662f40873fcb\n",
      "\n",
      "🧪 View experiment at: http://127.0.0.1:8080/#/experiments/824130069139841936   \n",
      "\n",
      "Params: {'C': 1}                                                                \n",
      "🏃 View run LinearSVC_{'C': 1} at: http://127.0.0.1:8080/#/experiments/824130069139841936/runs/d2e883f8802a4948ac8ab417f6d7e7b1\n",
      "\n",
      "🧪 View experiment at: http://127.0.0.1:8080/#/experiments/824130069139841936   \n",
      "\n",
      "100%|██████████| 5/5 [00:07<00:00,  1.56s/trial, best loss: -0.6779997405101337]\n",
      "🏃 View run svc-linear-sweep at: http://127.0.0.1:8080/#/experiments/824130069139841936/runs/620101517bb0446eb2539b30c02f1dcd\n",
      "🧪 View experiment at: http://127.0.0.1:8080/#/experiments/824130069139841936\n",
      "This will run 5 trials to find optimal hyperparameters...\n",
      "Params: {'learning_rate': 0.5, 'max_depth': 5, 'n_estimators': 1000, 'random_state': 42}\n",
      "🏃 View run XGBClassifier_{'learning_rate': 0.5, 'max_depth': 5, 'n_estimators': 1000, 'random_state': 42} at: http://127.0.0.1:8080/#/experiments/824130069139841936/runs/a2f0eb72ae69413aa563d2b2ce030584\n",
      "\n",
      "🧪 View experiment at: http://127.0.0.1:8080/#/experiments/824130069139841936\n",
      "\n",
      "Params: {'learning_rate': 0.5, 'max_depth': None, 'n_estimators': 500, 'random_state': 42}\n",
      "🏃 View run XGBClassifier_{'learning_rate': 0.5, 'max_depth': None, 'n_estimators': 500, 'random_state': 42} at: http://127.0.0.1:8080/#/experiments/824130069139841936/runs/1ef147f2770445bdbdd09494ddb6a23b\n",
      "\n",
      "🧪 View experiment at: http://127.0.0.1:8080/#/experiments/824130069139841936   \n",
      "\n",
      "Params: {'learning_rate': 0.3, 'max_depth': None, 'n_estimators': 1000, 'random_state': 42}\n",
      "🏃 View run XGBClassifier_{'learning_rate': 0.3, 'max_depth': None, 'n_estimators': 1000, 'random_state': 42} at: http://127.0.0.1:8080/#/experiments/824130069139841936/runs/d83edbb79a194e73a03c5c14fa360b1b\n",
      "\n",
      "🧪 View experiment at: http://127.0.0.1:8080/#/experiments/824130069139841936   \n",
      "\n",
      "Params: {'learning_rate': 0.001, 'max_depth': 5, 'n_estimators': 500, 'random_state': 42}\n",
      "🏃 View run XGBClassifier_{'learning_rate': 0.001, 'max_depth': 5, 'n_estimators': 500, 'random_state': 42} at: http://127.0.0.1:8080/#/experiments/824130069139841936/runs/82242f69f1844edfbf5aec444fe12807\n",
      "\n",
      "🧪 View experiment at: http://127.0.0.1:8080/#/experiments/824130069139841936   \n",
      "\n",
      "Params: {'learning_rate': 0.2, 'max_depth': 5, 'n_estimators': 700, 'random_state': 42}\n",
      "🏃 View run XGBClassifier_{'learning_rate': 0.2, 'max_depth': 5, 'n_estimators': 700, 'random_state': 42} at: http://127.0.0.1:8080/#/experiments/824130069139841936/runs/76d8290f4dd2410499c954f0bc1a0aa0\n",
      "\n",
      "🧪 View experiment at: http://127.0.0.1:8080/#/experiments/824130069139841936   \n",
      "\n",
      "100%|██████████| 5/5 [00:23<00:00,  4.75s/trial, best loss: -0.6672160208768976]\n",
      "🏃 View run xgb-sweep at: http://127.0.0.1:8080/#/experiments/824130069139841936/runs/a714cda793de4ade9d560b54ff01709e\n",
      "🧪 View experiment at: http://127.0.0.1:8080/#/experiments/824130069139841936\n"
     ]
    },
    {
     "data": {
      "text/plain": [
       "0.6672160208768976"
      ]
     },
     "execution_count": 33,
     "metadata": {},
     "output_type": "execute_result"
    }
   ],
   "source": [
    "model = RandomForestClassifier\n",
    "run_experiments('rf-sweep', max_evals=max_evals, search_space=search_space_rf, data_name=data_name, model_name = 'RandomForestClassifier', features_names=columns_to_keep)\n",
    "model = SVC\n",
    "run_experiments('svc-sweep', max_evals=max_evals, search_space=search_space_svc, data_name=data_name, model_name = 'SVC', features_names=columns_to_keep)\n",
    "model = LinearSVC\n",
    "run_experiments('svc-linear-sweep', max_evals=max_evals, search_space=search_space_svc_linear, data_name=data_name, model_name = 'LinearSVC', features_names=columns_to_keep)\n",
    "model = xgb.XGBClassifier\n",
    "run_experiments('xgb-sweep', max_evals=max_evals, search_space=search_space_xgb, data_name=data_name, model_name = 'XGBClassifier', features_names=columns_to_keep)"
   ]
  },
  {
   "cell_type": "markdown",
   "id": "6c639de4",
   "metadata": {},
   "source": [
    "## Real + SUMO (100%)"
   ]
  },
  {
   "cell_type": "markdown",
   "id": "e6d9c9ec",
   "metadata": {},
   "source": [
    "### Fixed"
   ]
  },
  {
   "cell_type": "code",
   "execution_count": null,
   "id": "261c77d0",
   "metadata": {},
   "outputs": [],
   "source": [
    "# Provide an Experiment description that will appear in the UI\n",
    "experiment_description = (\n",
    "    \"Experiment to train models on the UAH + SUMO Fixed (100%) dataset.\"\n",
    ")\n",
    "\n",
    "# Provide searchable tags that define characteristics of the Runs that\n",
    "# will be in this Experiment\n",
    "experiment_tags = {\n",
    "    \"project_name\": \"driver-behavior-prediction\",\n",
    "    \"mlflow.note.content\": experiment_description,\n",
    "}\n",
    "\n",
    "# Create the Experiment, providing a unique name\n",
    "try:\n",
    "    driver_behavior_experiment = client.create_experiment(\n",
    "        name=\"UAH_SUMO_Fixed_100\", tags=experiment_tags\n",
    "    )\n",
    "except mlflow.exceptions.RestException as e:\n",
    "    print(f\"Experiment already exists: {e}\")"
   ]
  },
  {
   "cell_type": "code",
   "execution_count": null,
   "id": "ce15831d",
   "metadata": {},
   "outputs": [],
   "source": [
    "X_train, y_train = X_sumo_uah_fixed_100, y_sumo_uah_fixed_100\n",
    "\n",
    "scaler = StandardScaler()\n",
    "X_train = scaler.fit_transform(X_train)\n",
    "X_val = scaler.transform(X_val_base)\n",
    "y_train = preprocessor.one_hot_encode(y_train, one_hot_keys=one_hot_keys)\n",
    "\n",
    "signature = infer_signature(X_train, y_train)\n",
    "mlflow.set_experiment('UAH_SUMO_Fixed_100')\n",
    "data_name = 'UAH_SUMO_Fixed_100'"
   ]
  },
  {
   "cell_type": "code",
   "execution_count": 36,
   "id": "7a657796",
   "metadata": {},
   "outputs": [
    {
     "name": "stdout",
     "output_type": "stream",
     "text": [
      "This will run 5 trials to find optimal hyperparameters...\n",
      "Params: {'max_depth': 5, 'n_estimators': 50, 'random_state': 42}\n",
      "🏃 View run RandomForestClassifier_{'max_depth': 5, 'n_estimators': 50, 'random_state': 42} at: http://127.0.0.1:8080/#/experiments/292249603410866252/runs/797d0c8540904d77aafe85b3ce40bc17\n",
      "\n",
      "🧪 View experiment at: http://127.0.0.1:8080/#/experiments/292249603410866252\n",
      "\n",
      "Params: {'max_depth': 5, 'n_estimators': 100, 'random_state': 42}               \n",
      "🏃 View run RandomForestClassifier_{'max_depth': 5, 'n_estimators': 100, 'random_state': 42} at: http://127.0.0.1:8080/#/experiments/292249603410866252/runs/43944aa76ae44f6eb02012c0f03f6af0\n",
      "\n",
      "🧪 View experiment at: http://127.0.0.1:8080/#/experiments/292249603410866252   \n",
      "\n",
      "Params: {'max_depth': None, 'n_estimators': 20, 'random_state': 42}             \n",
      "🏃 View run RandomForestClassifier_{'max_depth': None, 'n_estimators': 20, 'random_state': 42} at: http://127.0.0.1:8080/#/experiments/292249603410866252/runs/f6f8571464764cfd88193735b6cc6b47\n",
      "\n",
      "🧪 View experiment at: http://127.0.0.1:8080/#/experiments/292249603410866252  \n",
      "\n",
      "Params: {'max_depth': 50, 'n_estimators': 20, 'random_state': 42}              \n",
      "🏃 View run RandomForestClassifier_{'max_depth': 50, 'n_estimators': 20, 'random_state': 42} at: http://127.0.0.1:8080/#/experiments/292249603410866252/runs/280091cd771447bc87917640e8a978c2\n",
      "\n",
      "🧪 View experiment at: http://127.0.0.1:8080/#/experiments/292249603410866252  \n",
      "\n",
      "Params: {'max_depth': 10, 'n_estimators': 100, 'random_state': 42}             \n",
      "🏃 View run RandomForestClassifier_{'max_depth': 10, 'n_estimators': 100, 'random_state': 42} at: http://127.0.0.1:8080/#/experiments/292249603410866252/runs/793e32688276407586b231c24da52dfe\n",
      "\n",
      "🧪 View experiment at: http://127.0.0.1:8080/#/experiments/292249603410866252  \n",
      "\n",
      "100%|██████████| 5/5 [00:23<00:00,  4.75s/trial, best loss: -0.646644654841638]\n",
      "🏃 View run rf-sweep at: http://127.0.0.1:8080/#/experiments/292249603410866252/runs/629068e2b60b47528d86497aa6447dff\n",
      "🧪 View experiment at: http://127.0.0.1:8080/#/experiments/292249603410866252\n",
      "This will run 5 trials to find optimal hyperparameters...\n",
      "Params: {'C': 0.5, 'gamma': 10, 'kernel': 'rbf'}     \n",
      "  0%|          | 0/5 [00:00<?, ?trial/s, best loss=?]"
     ]
    },
    {
     "name": "stderr",
     "output_type": "stream",
     "text": [
      "/home/renan/miniconda3/lib/python3.12/site-packages/sklearn/metrics/_classification.py:1565: UndefinedMetricWarning: Precision is ill-defined and being set to 0.0 in labels with no predicted samples. Use `zero_division` parameter to control this behavior.\n",
      "  _warn_prf(average, modifier, f\"{metric.capitalize()} is\", len(result))\n",
      "\n"
     ]
    },
    {
     "name": "stdout",
     "output_type": "stream",
     "text": [
      "🏃 View run SVC_{'C': 0.5, 'gamma': 10, 'kernel': 'rbf'} at: http://127.0.0.1:8080/#/experiments/292249603410866252/runs/1ca2947dee7a4c18bf66a211032a0fa3\n",
      "\n",
      "🧪 View experiment at: http://127.0.0.1:8080/#/experiments/292249603410866252\n",
      "\n",
      "Params: {'C': 0.5, 'gamma': 10, 'kernel': 'rbf'}                                \n",
      " 20%|██        | 1/5 [01:21<05:27, 81.78s/trial, best loss: -0.3335592240143389]"
     ]
    },
    {
     "name": "stderr",
     "output_type": "stream",
     "text": [
      "/home/renan/miniconda3/lib/python3.12/site-packages/sklearn/metrics/_classification.py:1565: UndefinedMetricWarning: Precision is ill-defined and being set to 0.0 in labels with no predicted samples. Use `zero_division` parameter to control this behavior.\n",
      "  _warn_prf(average, modifier, f\"{metric.capitalize()} is\", len(result))\n",
      "\n"
     ]
    },
    {
     "name": "stdout",
     "output_type": "stream",
     "text": [
      "🏃 View run SVC_{'C': 0.5, 'gamma': 10, 'kernel': 'rbf'} at: http://127.0.0.1:8080/#/experiments/292249603410866252/runs/659dd5ff87374ae58dbb30a7d239b781\n",
      "\n",
      "🧪 View experiment at: http://127.0.0.1:8080/#/experiments/292249603410866252   \n",
      "\n",
      "Params: {'C': 0.01, 'gamma': 0.01, 'kernel': 'rbf'}                             \n",
      "🏃 View run SVC_{'C': 0.01, 'gamma': 0.01, 'kernel': 'rbf'} at: http://127.0.0.1:8080/#/experiments/292249603410866252/runs/0bef7541a3ab4a7eb3a28bd93e4077bc\n",
      "\n",
      "🧪 View experiment at: http://127.0.0.1:8080/#/experiments/292249603410866252   \n",
      "\n",
      "Params: {'C': 0.5, 'gamma': 1, 'kernel': 'rbf'}                                 \n",
      "🏃 View run SVC_{'C': 0.5, 'gamma': 1, 'kernel': 'rbf'} at: http://127.0.0.1:8080/#/experiments/292249603410866252/runs/c5456bd9c32b491cb846fc1d13acfce4\n",
      "\n",
      "🧪 View experiment at: http://127.0.0.1:8080/#/experiments/292249603410866252   \n",
      "\n",
      "Params: {'C': 0.01, 'gamma': 0.1, 'kernel': 'rbf'}                              \n",
      "🏃 View run SVC_{'C': 0.01, 'gamma': 0.1, 'kernel': 'rbf'} at: http://127.0.0.1:8080/#/experiments/292249603410866252/runs/1df1061a48d74927b90108a896b5d332\n",
      "\n",
      "🧪 View experiment at: http://127.0.0.1:8080/#/experiments/292249603410866252   \n",
      "\n",
      "100%|██████████| 5/5 [04:12<00:00, 50.47s/trial, best loss: -0.710139703195026] \n",
      "🏃 View run svc-sweep at: http://127.0.0.1:8080/#/experiments/292249603410866252/runs/1eb19fb7e29a46b89e022c59a52172cc\n",
      "🧪 View experiment at: http://127.0.0.1:8080/#/experiments/292249603410866252\n",
      "This will run 5 trials to find optimal hyperparameters...\n",
      "Params: {'C': 0.001}                                 \n",
      "🏃 View run LinearSVC_{'C': 0.001} at: http://127.0.0.1:8080/#/experiments/292249603410866252/runs/bac27f75c7164b02ad622b3d7f409381\n",
      "\n",
      "🧪 View experiment at: http://127.0.0.1:8080/#/experiments/292249603410866252\n",
      "\n",
      "Params: {'C': 0.0001}                                                           \n",
      "🏃 View run LinearSVC_{'C': 0.0001} at: http://127.0.0.1:8080/#/experiments/292249603410866252/runs/32a51c38344a494bb8006df31ac9c230\n",
      "\n",
      "🧪 View experiment at: http://127.0.0.1:8080/#/experiments/292249603410866252   \n",
      "\n",
      "Params: {'C': 1}                                                                \n",
      "🏃 View run LinearSVC_{'C': 1} at: http://127.0.0.1:8080/#/experiments/292249603410866252/runs/2daae47326124830b847c9c6c9c8dbb8\n",
      "\n",
      "🧪 View experiment at: http://127.0.0.1:8080/#/experiments/292249603410866252   \n",
      "\n",
      "Params: {'C': 0.1}                                                              \n",
      "🏃 View run LinearSVC_{'C': 0.1} at: http://127.0.0.1:8080/#/experiments/292249603410866252/runs/ed4d16c462244e9baa2ebcefc174f326\n",
      "\n",
      "🧪 View experiment at: http://127.0.0.1:8080/#/experiments/292249603410866252   \n",
      "\n",
      "Params: {'C': 1}                                                                \n",
      "🏃 View run LinearSVC_{'C': 1} at: http://127.0.0.1:8080/#/experiments/292249603410866252/runs/943426d51b2a4a0e8f6373b15f443436\n",
      "\n",
      "🧪 View experiment at: http://127.0.0.1:8080/#/experiments/292249603410866252   \n",
      "\n",
      "100%|██████████| 5/5 [00:09<00:00,  1.83s/trial, best loss: -0.6779997405101337]\n",
      "🏃 View run svc-linear-sweep at: http://127.0.0.1:8080/#/experiments/292249603410866252/runs/754f43e7729e493582b23843935a1802\n",
      "🧪 View experiment at: http://127.0.0.1:8080/#/experiments/292249603410866252\n",
      "This will run 5 trials to find optimal hyperparameters...\n",
      "Params: {'learning_rate': 0.5, 'max_depth': 10, 'n_estimators': 200, 'random_state': 42}\n",
      "🏃 View run XGBClassifier_{'learning_rate': 0.5, 'max_depth': 10, 'n_estimators': 200, 'random_state': 42} at: http://127.0.0.1:8080/#/experiments/292249603410866252/runs/c4c215757de7454b87347abd066a4ba4\n",
      "\n",
      "🧪 View experiment at: http://127.0.0.1:8080/#/experiments/292249603410866252\n",
      "\n",
      "Params: {'learning_rate': 0.3, 'max_depth': None, 'n_estimators': 200, 'random_state': 42}\n",
      "🏃 View run XGBClassifier_{'learning_rate': 0.3, 'max_depth': None, 'n_estimators': 200, 'random_state': 42} at: http://127.0.0.1:8080/#/experiments/292249603410866252/runs/adfcdca527f54cbf88ca41b57c2574a9\n",
      "\n",
      "🧪 View experiment at: http://127.0.0.1:8080/#/experiments/292249603410866252   \n",
      "\n",
      "Params: {'learning_rate': 0.01, 'max_depth': None, 'n_estimators': 500, 'random_state': 42}\n",
      "🏃 View run XGBClassifier_{'learning_rate': 0.01, 'max_depth': None, 'n_estimators': 500, 'random_state': 42} at: http://127.0.0.1:8080/#/experiments/292249603410866252/runs/82b9577d11394891a0ebb60426ef7c6e\n",
      "\n",
      "🧪 View experiment at: http://127.0.0.1:8080/#/experiments/292249603410866252   \n",
      "\n",
      "Params: {'learning_rate': 0.1, 'max_depth': 5, 'n_estimators': 200, 'random_state': 42}\n",
      "🏃 View run XGBClassifier_{'learning_rate': 0.1, 'max_depth': 5, 'n_estimators': 200, 'random_state': 42} at: http://127.0.0.1:8080/#/experiments/292249603410866252/runs/7facd18363324162a5cf339a47f0698f\n",
      "\n",
      "🧪 View experiment at: http://127.0.0.1:8080/#/experiments/292249603410866252   \n",
      "\n",
      "Params: {'learning_rate': 0.1, 'max_depth': 5, 'n_estimators': 200, 'random_state': 42}\n",
      "🏃 View run XGBClassifier_{'learning_rate': 0.1, 'max_depth': 5, 'n_estimators': 200, 'random_state': 42} at: http://127.0.0.1:8080/#/experiments/292249603410866252/runs/13207290514147628dc5264e5182137c\n",
      "\n",
      "🧪 View experiment at: http://127.0.0.1:8080/#/experiments/292249603410866252   \n",
      "\n",
      "100%|██████████| 5/5 [00:15<00:00,  3.11s/trial, best loss: -0.6949253238759916]\n",
      "🏃 View run xgb-sweep at: http://127.0.0.1:8080/#/experiments/292249603410866252/runs/71f3e42031c44c23a3dd26f571bf8b8e\n",
      "🧪 View experiment at: http://127.0.0.1:8080/#/experiments/292249603410866252\n"
     ]
    },
    {
     "data": {
      "text/plain": [
       "0.6949253238759916"
      ]
     },
     "execution_count": 36,
     "metadata": {},
     "output_type": "execute_result"
    }
   ],
   "source": [
    "model = RandomForestClassifier\n",
    "run_experiments('rf-sweep', max_evals=max_evals, search_space=search_space_rf, data_name=data_name, model_name = 'RandomForestClassifier', features_names=columns_to_keep)\n",
    "model = SVC\n",
    "run_experiments('svc-sweep', max_evals=max_evals, search_space=search_space_svc, data_name=data_name, model_name = 'SVC', features_names=columns_to_keep)\n",
    "model = LinearSVC\n",
    "run_experiments('svc-linear-sweep', max_evals=max_evals, search_space=search_space_svc_linear, data_name=data_name, model_name = 'LinearSVC', features_names=columns_to_keep)\n",
    "model = xgb.XGBClassifier\n",
    "run_experiments('xgb-sweep', max_evals=max_evals, search_space=search_space_xgb, data_name=data_name, model_name = 'XGBClassifier', features_names=columns_to_keep)"
   ]
  },
  {
   "cell_type": "markdown",
   "id": "30cb9e0c",
   "metadata": {},
   "source": [
    "### LLM"
   ]
  },
  {
   "cell_type": "code",
   "execution_count": null,
   "id": "94ebfdd3",
   "metadata": {},
   "outputs": [],
   "source": [
    "# Provide an Experiment description that will appear in the UI\n",
    "experiment_description = (\n",
    "    \"Experiment to train models on the UAH + SUMO LLM (100%) dataset.\"\n",
    ")\n",
    "\n",
    "# Provide searchable tags that define characteristics of the Runs that\n",
    "# will be in this Experiment\n",
    "experiment_tags = {\n",
    "    \"project_name\": \"driver-behavior-prediction\",\n",
    "    \"mlflow.note.content\": experiment_description,\n",
    "}\n",
    "\n",
    "# Create the Experiment, providing a unique name\n",
    "try:\n",
    "    driver_behavior_experiment = client.create_experiment(\n",
    "        name=\"UAH_SUMO_LLM_100\", tags=experiment_tags\n",
    "    )\n",
    "except mlflow.exceptions.RestException as e:\n",
    "    print(f\"Experiment already exists: {e}\")"
   ]
  },
  {
   "cell_type": "code",
   "execution_count": null,
   "id": "c5a0b3e1",
   "metadata": {},
   "outputs": [],
   "source": [
    "X_train, y_train = X_sumo_uah_llm_100, y_sumo_uah_llm_100\n",
    "\n",
    "scaler = StandardScaler()\n",
    "X_train = scaler.fit_transform(X_train)\n",
    "X_val = scaler.transform(X_val_base)\n",
    "y_train = preprocessor.one_hot_encode(y_train, one_hot_keys=one_hot_keys)\n",
    "\n",
    "signature = infer_signature(X_train, y_train)\n",
    "mlflow.set_experiment('UAH_SUMO_LLM_100')\n",
    "data_name = 'UAH_SUMO_LLM_100'"
   ]
  },
  {
   "cell_type": "code",
   "execution_count": 39,
   "id": "e7b0ffdc",
   "metadata": {},
   "outputs": [
    {
     "name": "stdout",
     "output_type": "stream",
     "text": [
      "This will run 5 trials to find optimal hyperparameters...\n",
      "Params: {'max_depth': None, 'n_estimators': 50, 'random_state': 42}\n",
      "🏃 View run RandomForestClassifier_{'max_depth': None, 'n_estimators': 50, 'random_state': 42} at: http://127.0.0.1:8080/#/experiments/366368940860072541/runs/42e0a8de81ca4fecaf42fb279bbc7497\n",
      "\n",
      "🧪 View experiment at: http://127.0.0.1:8080/#/experiments/366368940860072541\n",
      "\n",
      "Params: {'max_depth': 10, 'n_estimators': 500, 'random_state': 42}              \n",
      "🏃 View run RandomForestClassifier_{'max_depth': 10, 'n_estimators': 500, 'random_state': 42} at: http://127.0.0.1:8080/#/experiments/366368940860072541/runs/b9d4059c60d94cd592fe85eccb87e229\n",
      "\n",
      "🧪 View experiment at: http://127.0.0.1:8080/#/experiments/366368940860072541   \n",
      "\n",
      "Params: {'max_depth': 10, 'n_estimators': 20, 'random_state': 42}               \n",
      "🏃 View run RandomForestClassifier_{'max_depth': 10, 'n_estimators': 20, 'random_state': 42} at: http://127.0.0.1:8080/#/experiments/366368940860072541/runs/6dec295ecaa94f8886fdeaaf41585334\n",
      "\n",
      "🧪 View experiment at: http://127.0.0.1:8080/#/experiments/366368940860072541   \n",
      "\n",
      "Params: {'max_depth': None, 'n_estimators': 20, 'random_state': 42}             \n",
      "🏃 View run RandomForestClassifier_{'max_depth': None, 'n_estimators': 20, 'random_state': 42} at: http://127.0.0.1:8080/#/experiments/366368940860072541/runs/523971628c4b4f0e9d8bbfd1d1db6648\n",
      "\n",
      "🧪 View experiment at: http://127.0.0.1:8080/#/experiments/366368940860072541   \n",
      "\n",
      "Params: {'max_depth': 5, 'n_estimators': 100, 'random_state': 42}               \n",
      "🏃 View run RandomForestClassifier_{'max_depth': 5, 'n_estimators': 100, 'random_state': 42} at: http://127.0.0.1:8080/#/experiments/366368940860072541/runs/2dc364ef83184dd1b2ddc2e11d5e309e\n",
      "\n",
      "🧪 View experiment at: http://127.0.0.1:8080/#/experiments/366368940860072541   \n",
      "\n",
      "100%|██████████| 5/5 [00:54<00:00, 10.83s/trial, best loss: -0.6760790991259854]\n",
      "🏃 View run rf-sweep at: http://127.0.0.1:8080/#/experiments/366368940860072541/runs/b2c09c237b0b454b8f7051ed92dac65b\n",
      "🧪 View experiment at: http://127.0.0.1:8080/#/experiments/366368940860072541\n",
      "This will run 5 trials to find optimal hyperparameters...\n",
      "Params: {'C': 0.5, 'gamma': 0.001, 'kernel': 'rbf'}  \n",
      "🏃 View run SVC_{'C': 0.5, 'gamma': 0.001, 'kernel': 'rbf'} at: http://127.0.0.1:8080/#/experiments/366368940860072541/runs/a6864cff55e84bcc8f268d6b7d1c859c\n",
      "\n",
      "🧪 View experiment at: http://127.0.0.1:8080/#/experiments/366368940860072541\n",
      "\n",
      "Params: {'C': 0.01, 'gamma': 0.01, 'kernel': 'rbf'}                             \n",
      "🏃 View run SVC_{'C': 0.01, 'gamma': 0.01, 'kernel': 'rbf'} at: http://127.0.0.1:8080/#/experiments/366368940860072541/runs/4d9edf7083d7447f8ede6a27f7a33eff\n",
      "\n",
      "🧪 View experiment at: http://127.0.0.1:8080/#/experiments/366368940860072541   \n",
      "\n",
      "Params: {'C': 0.05, 'gamma': 10, 'kernel': 'rbf'}                               \n",
      " 40%|████      | 2/5 [00:44<01:06, 22.03s/trial, best loss: -0.7087121973722031]"
     ]
    },
    {
     "name": "stderr",
     "output_type": "stream",
     "text": [
      "/home/renan/miniconda3/lib/python3.12/site-packages/sklearn/metrics/_classification.py:1565: UndefinedMetricWarning: Precision is ill-defined and being set to 0.0 in labels with no predicted samples. Use `zero_division` parameter to control this behavior.\n",
      "  _warn_prf(average, modifier, f\"{metric.capitalize()} is\", len(result))\n",
      "\n"
     ]
    },
    {
     "name": "stdout",
     "output_type": "stream",
     "text": [
      "🏃 View run SVC_{'C': 0.05, 'gamma': 10, 'kernel': 'rbf'} at: http://127.0.0.1:8080/#/experiments/366368940860072541/runs/cfbf2ec8c174432cb99cf0b256cc8ab5\n",
      "\n",
      "🧪 View experiment at: http://127.0.0.1:8080/#/experiments/366368940860072541   \n",
      "\n",
      "Params: {'C': 0.1, 'gamma': 0.001, 'kernel': 'rbf'}                             \n",
      "🏃 View run SVC_{'C': 0.1, 'gamma': 0.001, 'kernel': 'rbf'} at: http://127.0.0.1:8080/#/experiments/366368940860072541/runs/37c1df117bf14c159ac66299b6f7d069\n",
      "\n",
      "🧪 View experiment at: http://127.0.0.1:8080/#/experiments/366368940860072541   \n",
      "\n",
      "Params: {'C': 1, 'gamma': 0.01, 'kernel': 'rbf'}                                \n",
      "🏃 View run SVC_{'C': 1, 'gamma': 0.01, 'kernel': 'rbf'} at: http://127.0.0.1:8080/#/experiments/366368940860072541/runs/dad87a95d9164d4fb8c2486cb81dad84\n",
      "\n",
      "🧪 View experiment at: http://127.0.0.1:8080/#/experiments/366368940860072541   \n",
      "\n",
      "100%|██████████| 5/5 [02:39<00:00, 31.89s/trial, best loss: -0.711088506260725] \n",
      "🏃 View run svc-sweep at: http://127.0.0.1:8080/#/experiments/366368940860072541/runs/c55193925d0a4e0e8321ac14c829c7f1\n",
      "🧪 View experiment at: http://127.0.0.1:8080/#/experiments/366368940860072541\n",
      "This will run 5 trials to find optimal hyperparameters...\n",
      "Params: {'C': 0.01}                                  \n",
      "🏃 View run LinearSVC_{'C': 0.01} at: http://127.0.0.1:8080/#/experiments/366368940860072541/runs/dfb901c76748451891aed40c9b385c70\n",
      "\n",
      "🧪 View experiment at: http://127.0.0.1:8080/#/experiments/366368940860072541\n",
      "\n",
      "Params: {'C': 1}                                                                \n",
      "🏃 View run LinearSVC_{'C': 1} at: http://127.0.0.1:8080/#/experiments/366368940860072541/runs/8ef39fb58099490f8cdde2a4703f2be3\n",
      "\n",
      "🧪 View experiment at: http://127.0.0.1:8080/#/experiments/366368940860072541   \n",
      "\n",
      "Params: {'C': 0.01}                                                             \n",
      "🏃 View run LinearSVC_{'C': 0.01} at: http://127.0.0.1:8080/#/experiments/366368940860072541/runs/973c0f47148e43949a366ed2931cf98c\n",
      "\n",
      "🧪 View experiment at: http://127.0.0.1:8080/#/experiments/366368940860072541   \n",
      "\n",
      "Params: {'C': 0.01}                                                             \n",
      "🏃 View run LinearSVC_{'C': 0.01} at: http://127.0.0.1:8080/#/experiments/366368940860072541/runs/0d4bf46705804c0fa3ca5d42785b2a39\n",
      "\n",
      "🧪 View experiment at: http://127.0.0.1:8080/#/experiments/366368940860072541   \n",
      "\n",
      "Params: {'C': 0.0001}                                                           \n",
      "🏃 View run LinearSVC_{'C': 0.0001} at: http://127.0.0.1:8080/#/experiments/366368940860072541/runs/e12d502d5aa8473c9d64343deaa2c2ff\n",
      "\n",
      "🧪 View experiment at: http://127.0.0.1:8080/#/experiments/366368940860072541   \n",
      "\n",
      "100%|██████████| 5/5 [00:08<00:00,  1.70s/trial, best loss: -0.6779997405101337]\n",
      "🏃 View run svc-linear-sweep at: http://127.0.0.1:8080/#/experiments/366368940860072541/runs/4ec51d9a6fb74274a4c64fd55c54d03f\n",
      "🧪 View experiment at: http://127.0.0.1:8080/#/experiments/366368940860072541\n",
      "This will run 5 trials to find optimal hyperparameters...\n",
      "Params: {'learning_rate': 0.001, 'max_depth': 10, 'n_estimators': 200, 'random_state': 42}\n",
      "  0%|          | 0/5 [00:00<?, ?trial/s, best loss=?]"
     ]
    },
    {
     "name": "stderr",
     "output_type": "stream",
     "text": [
      "/home/renan/miniconda3/lib/python3.12/site-packages/sklearn/metrics/_classification.py:1565: UndefinedMetricWarning: Precision is ill-defined and being set to 0.0 in labels with no predicted samples. Use `zero_division` parameter to control this behavior.\n",
      "  _warn_prf(average, modifier, f\"{metric.capitalize()} is\", len(result))\n",
      "\n"
     ]
    },
    {
     "name": "stdout",
     "output_type": "stream",
     "text": [
      "🏃 View run XGBClassifier_{'learning_rate': 0.001, 'max_depth': 10, 'n_estimators': 200, 'random_state': 42} at: http://127.0.0.1:8080/#/experiments/366368940860072541/runs/3157acc8994f4ade8d976195610e6ed7\n",
      "\n",
      "🧪 View experiment at: http://127.0.0.1:8080/#/experiments/366368940860072541\n",
      "\n",
      "Params: {'learning_rate': 0.4, 'max_depth': 5, 'n_estimators': 500, 'random_state': 42}\n",
      "🏃 View run XGBClassifier_{'learning_rate': 0.4, 'max_depth': 5, 'n_estimators': 500, 'random_state': 42} at: http://127.0.0.1:8080/#/experiments/366368940860072541/runs/dba23f55ff61484e814930bae02c4904\n",
      "\n",
      "🧪 View experiment at: http://127.0.0.1:8080/#/experiments/366368940860072541   \n",
      "\n",
      "Params: {'learning_rate': 0.2, 'max_depth': None, 'n_estimators': 1000, 'random_state': 42}\n",
      "🏃 View run XGBClassifier_{'learning_rate': 0.2, 'max_depth': None, 'n_estimators': 1000, 'random_state': 42} at: http://127.0.0.1:8080/#/experiments/366368940860072541/runs/c375ff7477a34aa8997c28e399864ff8\n",
      "\n",
      "🧪 View experiment at: http://127.0.0.1:8080/#/experiments/366368940860072541   \n",
      "\n",
      "Params: {'learning_rate': 0.001, 'max_depth': 5, 'n_estimators': 700, 'random_state': 42}\n",
      "🏃 View run XGBClassifier_{'learning_rate': 0.001, 'max_depth': 5, 'n_estimators': 700, 'random_state': 42} at: http://127.0.0.1:8080/#/experiments/366368940860072541/runs/7e9aafcf001948fc983cac9a342b0e45\n",
      "\n",
      "🧪 View experiment at: http://127.0.0.1:8080/#/experiments/366368940860072541   \n",
      "\n",
      "Params: {'learning_rate': 0.2, 'max_depth': None, 'n_estimators': 700, 'random_state': 42}\n",
      "🏃 View run XGBClassifier_{'learning_rate': 0.2, 'max_depth': None, 'n_estimators': 700, 'random_state': 42} at: http://127.0.0.1:8080/#/experiments/366368940860072541/runs/86f2dfc13ccc46069a00c048e57ac3c7\n",
      "\n",
      "🧪 View experiment at: http://127.0.0.1:8080/#/experiments/366368940860072541   \n",
      "\n",
      "100%|██████████| 5/5 [00:26<00:00,  5.39s/trial, best loss: -0.6602741862289948]\n",
      "🏃 View run xgb-sweep at: http://127.0.0.1:8080/#/experiments/366368940860072541/runs/2cfe2e97ccf34fe58da85737b9302a7c\n",
      "🧪 View experiment at: http://127.0.0.1:8080/#/experiments/366368940860072541\n"
     ]
    },
    {
     "data": {
      "text/plain": [
       "0.6602741862289948"
      ]
     },
     "execution_count": 39,
     "metadata": {},
     "output_type": "execute_result"
    }
   ],
   "source": [
    "model = RandomForestClassifier\n",
    "run_experiments('rf-sweep', max_evals=max_evals, search_space=search_space_rf, data_name=data_name, model_name = 'RandomForestClassifier', features_names=columns_to_keep)\n",
    "model = SVC\n",
    "run_experiments('svc-sweep', max_evals=max_evals, search_space=search_space_svc, data_name=data_name, model_name = 'SVC', features_names=columns_to_keep)\n",
    "model = LinearSVC\n",
    "run_experiments('svc-linear-sweep', max_evals=max_evals, search_space=search_space_svc_linear, data_name=data_name, model_name = 'LinearSVC', features_names=columns_to_keep)\n",
    "model = xgb.XGBClassifier\n",
    "run_experiments('xgb-sweep', max_evals=max_evals, search_space=search_space_xgb, data_name=data_name, model_name = 'XGBClassifier', features_names=columns_to_keep)"
   ]
  },
  {
   "cell_type": "markdown",
   "id": "43efa6b6",
   "metadata": {},
   "source": [
    "## Real + SUMO (200%)"
   ]
  },
  {
   "cell_type": "markdown",
   "id": "3fdf5ec6",
   "metadata": {},
   "source": [
    "### Fixed"
   ]
  },
  {
   "cell_type": "code",
   "execution_count": null,
   "id": "6325f0fc",
   "metadata": {},
   "outputs": [],
   "source": [
    "# Provide an Experiment description that will appear in the UI\n",
    "experiment_description = (\n",
    "    \"Experiment to train models on the UAH + SUMO Fixed (200%) dataset.\"\n",
    ")\n",
    "\n",
    "# Provide searchable tags that define characteristics of the Runs that\n",
    "# will be in this Experiment\n",
    "experiment_tags = {\n",
    "    \"project_name\": \"driver-behavior-prediction\",\n",
    "    \"mlflow.note.content\": experiment_description,\n",
    "}\n",
    "\n",
    "# Create the Experiment, providing a unique name\n",
    "try:\n",
    "    driver_behavior_experiment = client.create_experiment(\n",
    "        name=\"UAH_SUMO_Fixed_200\", tags=experiment_tags\n",
    "    )\n",
    "except mlflow.exceptions.RestException as e:\n",
    "    print(f\"Experiment already exists: {e}\")"
   ]
  },
  {
   "cell_type": "code",
   "execution_count": null,
   "id": "a05508a9",
   "metadata": {},
   "outputs": [],
   "source": [
    "X_train, y_train = X_sumo_uah_fixed_200, y_sumo_uah_fixed_200\n",
    "\n",
    "scaler = StandardScaler()\n",
    "X_train = scaler.fit_transform(X_train)\n",
    "X_val = scaler.transform(X_val_base)\n",
    "y_train = preprocessor.one_hot_encode(y_train, one_hot_keys=one_hot_keys)\n",
    "\n",
    "signature = infer_signature(X_train, y_train)\n",
    "mlflow.set_experiment('UAH_SUMO_Fixed_200')\n",
    "data_name = 'UAH_SUMO_Fixed_200'"
   ]
  },
  {
   "cell_type": "code",
   "execution_count": 42,
   "id": "367b4e3a",
   "metadata": {},
   "outputs": [
    {
     "name": "stdout",
     "output_type": "stream",
     "text": [
      "This will run 5 trials to find optimal hyperparameters...\n",
      "Params: {'max_depth': 50, 'n_estimators': 20, 'random_state': 42}\n",
      "🏃 View run RandomForestClassifier_{'max_depth': 50, 'n_estimators': 20, 'random_state': 42} at: http://127.0.0.1:8080/#/experiments/822700870272922603/runs/d6455a68871b4b65aec359d6f442ce94\n",
      "\n",
      "🧪 View experiment at: http://127.0.0.1:8080/#/experiments/822700870272922603\n",
      "\n",
      "Params: {'max_depth': 5, 'n_estimators': 500, 'random_state': 42}               \n",
      "🏃 View run RandomForestClassifier_{'max_depth': 5, 'n_estimators': 500, 'random_state': 42} at: http://127.0.0.1:8080/#/experiments/822700870272922603/runs/44dc38fa2c1e43ca9bf39d4701fcc688\n",
      "\n",
      "🧪 View experiment at: http://127.0.0.1:8080/#/experiments/822700870272922603   \n",
      "\n",
      "Params: {'max_depth': 10, 'n_estimators': 50, 'random_state': 42}               \n",
      "🏃 View run RandomForestClassifier_{'max_depth': 10, 'n_estimators': 50, 'random_state': 42} at: http://127.0.0.1:8080/#/experiments/822700870272922603/runs/40bf325b2b10401487ac7288a7225066\n",
      "\n",
      "🧪 View experiment at: http://127.0.0.1:8080/#/experiments/822700870272922603   \n",
      "\n",
      "Params: {'max_depth': 20, 'n_estimators': 20, 'random_state': 42}               \n",
      "🏃 View run RandomForestClassifier_{'max_depth': 20, 'n_estimators': 20, 'random_state': 42} at: http://127.0.0.1:8080/#/experiments/822700870272922603/runs/fb0f3e50e9a0432692650eb43ec01dc3\n",
      "\n",
      "🧪 View experiment at: http://127.0.0.1:8080/#/experiments/822700870272922603   \n",
      "\n",
      "Params: {'max_depth': 5, 'n_estimators': 200, 'random_state': 42}               \n",
      "🏃 View run RandomForestClassifier_{'max_depth': 5, 'n_estimators': 200, 'random_state': 42} at: http://127.0.0.1:8080/#/experiments/822700870272922603/runs/6c4e349f866d4799bcdda41bb0659b2a\n",
      "\n",
      "🧪 View experiment at: http://127.0.0.1:8080/#/experiments/822700870272922603   \n",
      "\n",
      "100%|██████████| 5/5 [00:41<00:00,  8.27s/trial, best loss: -0.6572126843006315]\n",
      "🏃 View run rf-sweep at: http://127.0.0.1:8080/#/experiments/822700870272922603/runs/84133426813f4cbf8d1eb318932ae63c\n",
      "🧪 View experiment at: http://127.0.0.1:8080/#/experiments/822700870272922603\n",
      "This will run 5 trials to find optimal hyperparameters...\n",
      "Params: {'C': 0.1, 'gamma': 0.1, 'kernel': 'rbf'}    \n",
      "🏃 View run SVC_{'C': 0.1, 'gamma': 0.1, 'kernel': 'rbf'} at: http://127.0.0.1:8080/#/experiments/822700870272922603/runs/9e7fdf9f663340aea37cef585e023ead\n",
      "\n",
      "🧪 View experiment at: http://127.0.0.1:8080/#/experiments/822700870272922603\n",
      "\n",
      "Params: {'C': 1, 'gamma': 0.001, 'kernel': 'rbf'}                               \n",
      "🏃 View run SVC_{'C': 1, 'gamma': 0.001, 'kernel': 'rbf'} at: http://127.0.0.1:8080/#/experiments/822700870272922603/runs/7af1bf459c9c486eaf600b9516213060\n",
      "\n",
      "🧪 View experiment at: http://127.0.0.1:8080/#/experiments/822700870272922603   \n",
      "\n",
      "Params: {'C': 1, 'gamma': 1, 'kernel': 'rbf'}                                   \n",
      "🏃 View run SVC_{'C': 1, 'gamma': 1, 'kernel': 'rbf'} at: http://127.0.0.1:8080/#/experiments/822700870272922603/runs/7282998198f2475ab1c00b4af315d95f\n",
      "\n",
      "🧪 View experiment at: http://127.0.0.1:8080/#/experiments/822700870272922603   \n",
      "\n",
      "Params: {'C': 1, 'gamma': 1, 'kernel': 'rbf'}                                   \n",
      "🏃 View run SVC_{'C': 1, 'gamma': 1, 'kernel': 'rbf'} at: http://127.0.0.1:8080/#/experiments/822700870272922603/runs/634003343eea44afa7757ea9673bf563\n",
      "\n",
      "🧪 View experiment at: http://127.0.0.1:8080/#/experiments/822700870272922603   \n",
      "\n",
      "Params: {'C': 0.5, 'gamma': 1, 'kernel': 'rbf'}                                 \n",
      "🏃 View run XGBClassifier_{'learning_rate': 0.2, 'max_depth': None, 'n_estimators': 1000, 'random_state': 42} at: http://127.0.0.1:8080/#/experiments/822700870272922603/runs/4c4c131c80844572a4f5788d0fcd1cd4\n",
      "\n",
      "🧪 View experiment at: http://127.0.0.1:8080/#/experiments/822700870272922603\n",
      "\n",
      "Params: {'learning_rate': 0.001, 'max_depth': None, 'n_estimators': 700, 'random_state': 42}\n",
      "🏃 View run XGBClassifier_{'learning_rate': 0.001, 'max_depth': None, 'n_estimators': 700, 'random_state': 42} at: http://127.0.0.1:8080/#/experiments/822700870272922603/runs/15b94a0aca6c42039c62d5a9c631f195\n",
      "\n",
      "🧪 View experiment at: http://127.0.0.1:8080/#/experiments/822700870272922603   \n",
      "\n",
      "Params: {'learning_rate': 0.4, 'max_depth': None, 'n_estimators': 500, 'random_state': 42}\n",
      "🏃 View run XGBClassifier_{'learning_rate': 0.4, 'max_depth': None, 'n_estimators': 500, 'random_state': 42} at: http://127.0.0.1:8080/#/experiments/822700870272922603/runs/129b45960ee14046a68986fc666ef740\n",
      "\n",
      "🧪 View experiment at: http://127.0.0.1:8080/#/experiments/822700870272922603   \n",
      "\n",
      "Params: {'learning_rate': 0.01, 'max_depth': 5, 'n_estimators': 200, 'random_state': 42}\n",
      "🏃 View run XGBClassifier_{'learning_rate': 0.01, 'max_depth': 5, 'n_estimators': 200, 'random_state': 42} at: http://127.0.0.1:8080/#/experiments/822700870272922603/runs/a746a2e6bdff4aadb092ba67b81c0989\n",
      "\n",
      "🧪 View experiment at: http://127.0.0.1:8080/#/experiments/822700870272922603   \n",
      "\n",
      "Params: {'learning_rate': 0.2, 'max_depth': None, 'n_estimators': 700, 'random_state': 42}\n",
      "🏃 View run XGBClassifier_{'learning_rate': 0.2, 'max_depth': None, 'n_estimators': 700, 'random_state': 42} at: http://127.0.0.1:8080/#/experiments/822700870272922603/runs/d1eedf575cbc46a994d89ec53493cdc5\n",
      "\n",
      "🧪 View experiment at: http://127.0.0.1:8080/#/experiments/822700870272922603  \n",
      "\n",
      "100%|██████████| 5/5 [00:55<00:00, 11.04s/trial, best loss: -0.695258375859124]\n",
      "🏃 View run xgb-sweep at: http://127.0.0.1:8080/#/experiments/822700870272922603/runs/4c1ca86d3ca84ecb821edc3d660ffa7f\n",
      "🧪 View experiment at: http://127.0.0.1:8080/#/experiments/822700870272922603\n"
     ]
    },
    {
     "data": {
      "text/plain": [
       "0.695258375859124"
      ]
     },
     "execution_count": 42,
     "metadata": {},
     "output_type": "execute_result"
    }
   ],
   "source": [
    "model = RandomForestClassifier\n",
    "run_experiments('rf-sweep', max_evals=max_evals, search_space=search_space_rf, data_name=data_name, model_name = 'RandomForestClassifier', features_names=columns_to_keep)\n",
    "model = SVC\n",
    "run_experiments('svc-sweep', max_evals=max_evals, search_space=search_space_svc, data_name=data_name, model_name = 'SVC', features_names=columns_to_keep)\n",
    "model = LinearSVC\n",
    "run_experiments('svc-linear-sweep', max_evals=max_evals, search_space=search_space_svc_linear, data_name=data_name, model_name = 'LinearSVC', features_names=columns_to_keep)\n",
    "model = xgb.XGBClassifier\n",
    "run_experiments('xgb-sweep', max_evals=max_evals, search_space=search_space_xgb, data_name=data_name, model_name = 'XGBClassifier', features_names=columns_to_keep)"
   ]
  },
  {
   "cell_type": "markdown",
   "id": "bc17bfad",
   "metadata": {},
   "source": [
    "### LLM"
   ]
  },
  {
   "cell_type": "code",
   "execution_count": null,
   "id": "1fc405fe",
   "metadata": {},
   "outputs": [],
   "source": [
    "# Provide an Experiment description that will appear in the UI\n",
    "experiment_description = (\n",
    "    \"Experiment to train models on the UAH + SUMO LLM (200%) dataset.\"\n",
    ")\n",
    "\n",
    "# Provide searchable tags that define characteristics of the Runs that\n",
    "# will be in this Experiment\n",
    "experiment_tags = {\n",
    "    \"project_name\": \"driver-behavior-prediction\",\n",
    "    \"mlflow.note.content\": experiment_description,\n",
    "}\n",
    "\n",
    "# Create the Experiment, providing a unique name\n",
    "try:\n",
    "    driver_behavior_experiment = client.create_experiment(\n",
    "        name=\"UAH_SUMO_LLM_200\", tags=experiment_tags\n",
    "    )\n",
    "except mlflow.exceptions.RestException as e:\n",
    "    print(f\"Experiment already exists: {e}\")"
   ]
  },
  {
   "cell_type": "code",
   "execution_count": null,
   "id": "cb449402",
   "metadata": {},
   "outputs": [],
   "source": [
    "X_train, y_train = X_sumo_uah_llm_200, y_sumo_uah_llm_200\n",
    "\n",
    "scaler = StandardScaler()\n",
    "X_train = scaler.fit_transform(X_train)\n",
    "X_val = scaler.transform(X_val_base)\n",
    "y_train = preprocessor.one_hot_encode(y_train, one_hot_keys=one_hot_keys)\n",
    "\n",
    "signature = infer_signature(X_train, y_train)\n",
    "mlflow.set_experiment('UAH_SUMO_LLM_200')\n",
    "data_name = 'UAH_SUMO_LLM_200'"
   ]
  },
  {
   "cell_type": "code",
   "execution_count": 45,
   "id": "5669c88d",
   "metadata": {},
   "outputs": [
    {
     "name": "stdout",
     "output_type": "stream",
     "text": [
      "This will run 5 trials to find optimal hyperparameters...\n",
      "Params: {'max_depth': None, 'n_estimators': 50, 'random_state': 42}\n",
      "🏃 View run RandomForestClassifier_{'max_depth': None, 'n_estimators': 50, 'random_state': 42} at: http://127.0.0.1:8080/#/experiments/886119111104728342/runs/c5ab9a11a3084ccf993218e4ed28799e\n",
      "\n",
      "🧪 View experiment at: http://127.0.0.1:8080/#/experiments/886119111104728342\n",
      "\n",
      "Params: {'max_depth': 10, 'n_estimators': 200, 'random_state': 42}              \n",
      "🏃 View run RandomForestClassifier_{'max_depth': 10, 'n_estimators': 200, 'random_state': 42} at: http://127.0.0.1:8080/#/experiments/886119111104728342/runs/b7b6d48c21124d6cbb9543e664590a04\n",
      "\n",
      "🧪 View experiment at: http://127.0.0.1:8080/#/experiments/886119111104728342   \n",
      "\n",
      "Params: {'max_depth': 20, 'n_estimators': 200, 'random_state': 42}              \n",
      "🏃 View run RandomForestClassifier_{'max_depth': 20, 'n_estimators': 200, 'random_state': 42} at: http://127.0.0.1:8080/#/experiments/886119111104728342/runs/11cdb887194f469fb84e45176b43de2c\n",
      "\n",
      "🧪 View experiment at: http://127.0.0.1:8080/#/experiments/886119111104728342   \n",
      "\n",
      "Params: {'max_depth': 10, 'n_estimators': 50, 'random_state': 42}               \n",
      "🏃 View run RandomForestClassifier_{'max_depth': 10, 'n_estimators': 50, 'random_state': 42} at: http://127.0.0.1:8080/#/experiments/886119111104728342/runs/8992d13e96dc4bc68b5c47bb0e80bde8\n",
      "\n",
      "🧪 View experiment at: http://127.0.0.1:8080/#/experiments/886119111104728342   \n",
      "\n",
      "Params: {'max_depth': 50, 'n_estimators': 50, 'random_state': 42}               \n",
      "🏃 View run RandomForestClassifier_{'max_depth': 50, 'n_estimators': 50, 'random_state': 42} at: http://127.0.0.1:8080/#/experiments/886119111104728342/runs/1e628a06d14545d4b6a08bf1f22b58be\n",
      "\n",
      "🧪 View experiment at: http://127.0.0.1:8080/#/experiments/886119111104728342   \n",
      "\n",
      "100%|██████████| 5/5 [00:52<00:00, 10.57s/trial, best loss: -0.6572126843006315]\n",
      "🏃 View run rf-sweep at: http://127.0.0.1:8080/#/experiments/886119111104728342/runs/93e753cf44b74d73a7cf892e09b79758\n",
      "🧪 View experiment at: http://127.0.0.1:8080/#/experiments/886119111104728342\n",
      "This will run 5 trials to find optimal hyperparameters...\n",
      "Params: {'C': 0.5, 'gamma': 0.01, 'kernel': 'rbf'}   \n",
      "🏃 View run SVC_{'C': 0.5, 'gamma': 0.01, 'kernel': 'rbf'} at: http://127.0.0.1:8080/#/experiments/886119111104728342/runs/ffe89512286749aca21cf6500a0ae2b6\n",
      "\n",
      "🧪 View experiment at: http://127.0.0.1:8080/#/experiments/886119111104728342\n",
      "\n",
      "Params: {'C': 0.05, 'gamma': 10, 'kernel': 'rbf'}                               \n",
      " 20%|██        | 1/5 [00:20<01:23, 20.93s/trial, best loss: -0.7118918222609891]"
     ]
    },
    {
     "name": "stderr",
     "output_type": "stream",
     "text": [
      "/home/renan/miniconda3/lib/python3.12/site-packages/sklearn/metrics/_classification.py:1565: UndefinedMetricWarning: Precision is ill-defined and being set to 0.0 in labels with no predicted samples. Use `zero_division` parameter to control this behavior.\n",
      "  _warn_prf(average, modifier, f\"{metric.capitalize()} is\", len(result))\n",
      "\n"
     ]
    },
    {
     "name": "stdout",
     "output_type": "stream",
     "text": [
      "🏃 View run SVC_{'C': 0.05, 'gamma': 10, 'kernel': 'rbf'} at: http://127.0.0.1:8080/#/experiments/886119111104728342/runs/7c18ff1e7007417d8abf7b562dfb3f65\n",
      "\n",
      "🧪 View experiment at: http://127.0.0.1:8080/#/experiments/886119111104728342   \n",
      "\n",
      "Params: {'C': 0.01, 'gamma': 1, 'kernel': 'rbf'}                                \n",
      " 40%|████      | 2/5 [01:34<02:34, 51.62s/trial, best loss: -0.7118918222609891]"
     ]
    },
    {
     "name": "stderr",
     "output_type": "stream",
     "text": [
      "/home/renan/miniconda3/lib/python3.12/site-packages/sklearn/metrics/_classification.py:1565: UndefinedMetricWarning: Precision is ill-defined and being set to 0.0 in labels with no predicted samples. Use `zero_division` parameter to control this behavior.\n",
      "  _warn_prf(average, modifier, f\"{metric.capitalize()} is\", len(result))\n",
      "\n"
     ]
    },
    {
     "name": "stdout",
     "output_type": "stream",
     "text": [
      "🏃 View run SVC_{'C': 0.01, 'gamma': 1, 'kernel': 'rbf'} at: http://127.0.0.1:8080/#/experiments/886119111104728342/runs/5f313fad0c1c4abcad28c5240c8ddc70\n",
      "\n",
      "🧪 View experiment at: http://127.0.0.1:8080/#/experiments/886119111104728342   \n",
      "\n",
      "Params: {'C': 1, 'gamma': 0.1, 'kernel': 'rbf'}                                 \n",
      "🏃 View run SVC_{'C': 1, 'gamma': 0.1, 'kernel': 'rbf'} at: http://127.0.0.1:8080/#/experiments/886119111104728342/runs/97ae06cd256e48d0b3b1bcd3840812b3\n",
      "\n",
      "🧪 View experiment at: http://127.0.0.1:8080/#/experiments/886119111104728342   \n",
      "\n",
      "Params: {'C': 0.01, 'gamma': 0.1, 'kernel': 'rbf'}                              \n",
      "🏃 View run SVC_{'C': 0.01, 'gamma': 0.1, 'kernel': 'rbf'} at: http://127.0.0.1:8080/#/experiments/886119111104728342/runs/7dfb0c65d7aa4205800f0bafbd2e4611\n",
      "\n",
      "🧪 View experiment at: http://127.0.0.1:8080/#/experiments/886119111104728342   \n",
      "\n",
      "100%|██████████| 5/5 [02:38<00:00, 31.72s/trial, best loss: -0.7118918222609891]\n",
      "🏃 View run svc-sweep at: http://127.0.0.1:8080/#/experiments/886119111104728342/runs/992fbf8c313f4fcf9de9302172f77d40\n",
      "🧪 View experiment at: http://127.0.0.1:8080/#/experiments/886119111104728342\n",
      "This will run 5 trials to find optimal hyperparameters...\n",
      "Params: {'C': 1}                                     \n",
      "🏃 View run LinearSVC_{'C': 1} at: http://127.0.0.1:8080/#/experiments/886119111104728342/runs/a2656a4590994b4a841c21ea00f10711\n",
      "\n",
      "🧪 View experiment at: http://127.0.0.1:8080/#/experiments/886119111104728342\n",
      "\n",
      "Params: {'C': 1}                                                                \n",
      "🏃 View run LinearSVC_{'C': 1} at: http://127.0.0.1:8080/#/experiments/886119111104728342/runs/8a1c0997194f4140946c80a3f94de293\n",
      "\n",
      "🧪 View experiment at: http://127.0.0.1:8080/#/experiments/886119111104728342   \n",
      "\n",
      "Params: {'C': 1}                                                                \n",
      "🏃 View run LinearSVC_{'C': 1} at: http://127.0.0.1:8080/#/experiments/886119111104728342/runs/d42647f1d75a4738821746cb011b76bf\n",
      "\n",
      "🧪 View experiment at: http://127.0.0.1:8080/#/experiments/886119111104728342   \n",
      "\n",
      "Params: {'C': 0.1}                                                              \n",
      "🏃 View run LinearSVC_{'C': 0.1} at: http://127.0.0.1:8080/#/experiments/886119111104728342/runs/80cbb22dc46c47e1a46d667358910815\n",
      "\n",
      "🧪 View experiment at: http://127.0.0.1:8080/#/experiments/886119111104728342   \n",
      "\n",
      "Params: {'C': 0.001}                                                            \n",
      "🏃 View run LinearSVC_{'C': 0.001} at: http://127.0.0.1:8080/#/experiments/886119111104728342/runs/45c34d7a3207437a95bd068cabd4b977\n",
      "\n",
      "🧪 View experiment at: http://127.0.0.1:8080/#/experiments/886119111104728342   \n",
      "\n",
      "100%|██████████| 5/5 [00:08<00:00,  1.74s/trial, best loss: -0.6676146953834123]\n",
      "🏃 View run svc-linear-sweep at: http://127.0.0.1:8080/#/experiments/886119111104728342/runs/082969cb9f50440690cbe88f73a1af5c\n",
      "🧪 View experiment at: http://127.0.0.1:8080/#/experiments/886119111104728342\n",
      "This will run 5 trials to find optimal hyperparameters...\n",
      "Params: {'learning_rate': 0.01, 'max_depth': 10, 'n_estimators': 500, 'random_state': 42}\n",
      "🏃 View run XGBClassifier_{'learning_rate': 0.01, 'max_depth': 10, 'n_estimators': 500, 'random_state': 42} at: http://127.0.0.1:8080/#/experiments/886119111104728342/runs/03d9ffa7d2ff4c039a88331db3c55dee\n",
      "\n",
      "🧪 View experiment at: http://127.0.0.1:8080/#/experiments/886119111104728342\n",
      "\n",
      "Params: {'learning_rate': 0.3, 'max_depth': 5, 'n_estimators': 500, 'random_state': 42}\n",
      "🏃 View run XGBClassifier_{'learning_rate': 0.3, 'max_depth': 5, 'n_estimators': 500, 'random_state': 42} at: http://127.0.0.1:8080/#/experiments/886119111104728342/runs/07740da34dd74133b9db6bf0d992c1a5\n",
      "\n",
      "🧪 View experiment at: http://127.0.0.1:8080/#/experiments/886119111104728342   \n",
      "\n",
      "Params: {'learning_rate': 0.01, 'max_depth': 10, 'n_estimators': 1000, 'random_state': 42}\n",
      "🏃 View run XGBClassifier_{'learning_rate': 0.01, 'max_depth': 10, 'n_estimators': 1000, 'random_state': 42} at: http://127.0.0.1:8080/#/experiments/886119111104728342/runs/0599cb1a7ce44d03907607c652ea6f8e\n",
      "\n",
      "🧪 View experiment at: http://127.0.0.1:8080/#/experiments/886119111104728342   \n",
      "\n",
      "Params: {'learning_rate': 0.2, 'max_depth': 10, 'n_estimators': 1000, 'random_state': 42}\n",
      "🏃 View run XGBClassifier_{'learning_rate': 0.2, 'max_depth': 10, 'n_estimators': 1000, 'random_state': 42} at: http://127.0.0.1:8080/#/experiments/886119111104728342/runs/5ee1c5a1edb04591b4c498f2eefbd4b1\n",
      "\n",
      "🧪 View experiment at: http://127.0.0.1:8080/#/experiments/886119111104728342   \n",
      "\n",
      "Params: {'learning_rate': 0.2, 'max_depth': None, 'n_estimators': 700, 'random_state': 42}\n",
      "🏃 View run XGBClassifier_{'learning_rate': 0.2, 'max_depth': None, 'n_estimators': 700, 'random_state': 42} at: http://127.0.0.1:8080/#/experiments/886119111104728342/runs/742d0b55c1c045eb927028bc9739a18a\n",
      "\n",
      "🧪 View experiment at: http://127.0.0.1:8080/#/experiments/886119111104728342   \n",
      "\n",
      "100%|██████████| 5/5 [00:48<00:00,  9.66s/trial, best loss: -0.6717993841066797]\n",
      "🏃 View run xgb-sweep at: http://127.0.0.1:8080/#/experiments/886119111104728342/runs/5215bfec78d640788d1f15afffa3a725\n",
      "🧪 View experiment at: http://127.0.0.1:8080/#/experiments/886119111104728342\n"
     ]
    },
    {
     "data": {
      "text/plain": [
       "0.6717993841066797"
      ]
     },
     "execution_count": 45,
     "metadata": {},
     "output_type": "execute_result"
    }
   ],
   "source": [
    "model = RandomForestClassifier\n",
    "run_experiments('rf-sweep', max_evals=max_evals, search_space=search_space_rf, data_name=data_name, model_name = 'RandomForestClassifier', features_names=columns_to_keep)\n",
    "model = SVC\n",
    "run_experiments('svc-sweep', max_evals=max_evals, search_space=search_space_svc, data_name=data_name, model_name = 'SVC', features_names=columns_to_keep)\n",
    "model = LinearSVC\n",
    "run_experiments('svc-linear-sweep', max_evals=max_evals, search_space=search_space_svc_linear, data_name=data_name, model_name = 'LinearSVC', features_names=columns_to_keep)\n",
    "model = xgb.XGBClassifier\n",
    "run_experiments('xgb-sweep', max_evals=max_evals, search_space=search_space_xgb, data_name=data_name, model_name = 'XGBClassifier', features_names=columns_to_keep)"
   ]
  },
  {
   "cell_type": "markdown",
   "id": "e10c56a9",
   "metadata": {},
   "source": [
    "## Real + CARLA"
   ]
  },
  {
   "cell_type": "code",
   "execution_count": null,
   "id": "ac4217a2",
   "metadata": {},
   "outputs": [],
   "source": [
    "carla_uah_fixed_20 = preprocessor.fill_synthetic_data(carla_uah_fixed, 0.2)\n",
    "carla_uah_llm_20 = preprocessor.fill_synthetic_data(carla_uah_llm, 0.2)\n",
    "\n",
    "carla_uah_fixed_100 = preprocessor.fill_synthetic_data(carla_uah_fixed, 0.5)\n",
    "carla_uah_llm_100 = preprocessor.fill_synthetic_data(carla_uah_llm, 0.5)\n",
    "\n",
    "carla_uah_fixed_200 = preprocessor.fill_synthetic_data(carla_uah_fixed, 0.7)\n",
    "carla_uah_llm_200 = preprocessor.fill_synthetic_data(carla_uah_llm, 0.7)"
   ]
  },
  {
   "cell_type": "code",
   "execution_count": null,
   "id": "891ede42",
   "metadata": {},
   "outputs": [],
   "source": [
    "X_carla_uah_fixed_20, y_carla_uah_fixed_20 = preprocessor.sliding_windows(carla_uah_fixed_20, window_size=window_size, step_size=step_size)\n",
    "X_carla_uah_llm_20, y_carla_uah_llm_20 = preprocessor.sliding_windows(carla_uah_llm_20, window_size=window_size, step_size=step_size)\n",
    "\n",
    "X_carla_uah_fixed_100, y_carla_uah_fixed_100 = preprocessor.sliding_windows(carla_uah_fixed_100, window_size=window_size, step_size=step_size)\n",
    "X_carla_uah_llm_100, y_carla_uah_llm_100 = preprocessor.sliding_windows(carla_uah_llm_100, window_size=window_size, step_size=step_size)\n",
    "\n",
    "X_carla_uah_fixed_200, y_carla_uah_fixed_200 = preprocessor.sliding_windows(carla_uah_fixed_200, window_size=window_size, step_size=step_size)\n",
    "X_carla_uah_llm_200, y_carla_uah_llm_200 = preprocessor.sliding_windows(carla_uah_llm_200, window_size=window_size, step_size=step_size)"
   ]
  },
  {
   "cell_type": "code",
   "execution_count": null,
   "id": "5adc1ae1",
   "metadata": {},
   "outputs": [
    {
     "name": "stdout",
     "output_type": "stream",
     "text": [
      "Columns to keep for validation: ['acc_x', 'acc_y', 'acc_z', 'gyro_x', 'gyro_y', 'gyro_z', 'angle', 'label']\n"
     ]
    }
   ],
   "source": [
    "print(\"Columns to keep for validation:\", carla_columns_to_keep)\n",
    "\n",
    "X_val_base, y_val = preprocessor.sliding_windows(uah_validation[carla_columns_to_keep], window_size=window_size, step_size=step_size)\n",
    "y_val = preprocessor.one_hot_encode(y_val, one_hot_keys=one_hot_keys)"
   ]
  },
  {
   "cell_type": "markdown",
   "id": "a6dbf3c9",
   "metadata": {},
   "source": [
    "## Real + CARLA (20%)"
   ]
  },
  {
   "cell_type": "markdown",
   "id": "185dd9cd",
   "metadata": {},
   "source": [
    "### Fixed"
   ]
  },
  {
   "cell_type": "code",
   "execution_count": 49,
   "id": "9632d59f",
   "metadata": {},
   "outputs": [],
   "source": [
    "# Provide an Experiment description that will appear in the UI\n",
    "experiment_description = (\n",
    "    \"Experiment to train models on the UAH + CARLA Fixed (20%) dataset.\"\n",
    ")\n",
    "\n",
    "# Provide searchable tags that define characteristics of the Runs that\n",
    "# will be in this Experiment\n",
    "experiment_tags = {\n",
    "    \"project_name\": \"driver-behavior-prediction\",\n",
    "    \"mlflow.note.content\": experiment_description,\n",
    "}\n",
    "\n",
    "# Create the Experiment, providing a unique name\n",
    "try:\n",
    "    driver_behavior_experiment = client.create_experiment(\n",
    "        name=\"UAH_CARLA_Fixed_20\", tags=experiment_tags\n",
    "    )\n",
    "except mlflow.exceptions.RestException as e:\n",
    "    print(f\"Experiment already exists: {e}\")"
   ]
  },
  {
   "cell_type": "code",
   "execution_count": 50,
   "id": "636373b3",
   "metadata": {},
   "outputs": [],
   "source": [
    "X_train, y_train = X_carla_uah_fixed_20, y_carla_uah_fixed_20\n",
    "\n",
    "scaler = StandardScaler()\n",
    "X_train = scaler.fit_transform(X_train)\n",
    "X_val = scaler.transform(X_val_base)\n",
    "y_train = preprocessor.one_hot_encode(y_train, one_hot_keys=one_hot_keys)\n",
    "\n",
    "signature = infer_signature(X_train, y_train)\n",
    "mlflow.set_experiment('UAH_CARLA_Fixed_20')\n",
    "data_name = 'UAH_CARLA_Fixed_20'"
   ]
  },
  {
   "cell_type": "code",
   "execution_count": 51,
   "id": "5181988e",
   "metadata": {},
   "outputs": [
    {
     "name": "stdout",
     "output_type": "stream",
     "text": [
      "This will run 5 trials to find optimal hyperparameters...\n",
      "Params: {'max_depth': 20, 'n_estimators': 20, 'random_state': 42}\n",
      "🏃 View run RandomForestClassifier_{'max_depth': 20, 'n_estimators': 20, 'random_state': 42} at: http://127.0.0.1:8080/#/experiments/972965940385745321/runs/e55eb96153eb41f2ade00344f8676d6f\n",
      "\n",
      "🧪 View experiment at: http://127.0.0.1:8080/#/experiments/972965940385745321\n",
      "\n",
      "Params: {'max_depth': 5, 'n_estimators': 100, 'random_state': 42}               \n",
      "🏃 View run RandomForestClassifier_{'max_depth': 5, 'n_estimators': 100, 'random_state': 42} at: http://127.0.0.1:8080/#/experiments/972965940385745321/runs/62871c65e76842f4a574ea0e8b91e03d\n",
      "\n",
      "🧪 View experiment at: http://127.0.0.1:8080/#/experiments/972965940385745321   \n",
      "\n",
      "Params: {'max_depth': None, 'n_estimators': 100, 'random_state': 42}            \n",
      "🏃 View run RandomForestClassifier_{'max_depth': None, 'n_estimators': 100, 'random_state': 42} at: http://127.0.0.1:8080/#/experiments/972965940385745321/runs/e9efdfd904b8454dba099ef359edfe43\n",
      "\n",
      "🧪 View experiment at: http://127.0.0.1:8080/#/experiments/972965940385745321   \n",
      "\n",
      "Params: {'max_depth': 10, 'n_estimators': 200, 'random_state': 42}              \n",
      "🏃 View run RandomForestClassifier_{'max_depth': 10, 'n_estimators': 200, 'random_state': 42} at: http://127.0.0.1:8080/#/experiments/972965940385745321/runs/27794558ed0f4c9682ace7330a330927\n",
      "\n",
      "🧪 View experiment at: http://127.0.0.1:8080/#/experiments/972965940385745321   \n",
      "\n",
      "Params: {'max_depth': 20, 'n_estimators': 50, 'random_state': 42}               \n",
      "🏃 View run RandomForestClassifier_{'max_depth': 20, 'n_estimators': 50, 'random_state': 42} at: http://127.0.0.1:8080/#/experiments/972965940385745321/runs/8905bf027cd542a887efa27b69de8735\n",
      "\n",
      "🧪 View experiment at: http://127.0.0.1:8080/#/experiments/972965940385745321   \n",
      "\n",
      "100%|██████████| 5/5 [00:46<00:00,  9.26s/trial, best loss: -0.6347581324482445]\n",
      "🏃 View run rf-sweep at: http://127.0.0.1:8080/#/experiments/972965940385745321/runs/b4a735501f9f456ebbdb473cb7a6b1c6\n",
      "🧪 View experiment at: http://127.0.0.1:8080/#/experiments/972965940385745321\n",
      "This will run 5 trials to find optimal hyperparameters...\n",
      "Params: {'C': 0.05, 'gamma': 0.1, 'kernel': 'rbf'}   \n",
      "  0%|          | 0/5 [00:00<?, ?trial/s, best loss=?]"
     ]
    },
    {
     "name": "stderr",
     "output_type": "stream",
     "text": [
      "/home/renan/miniconda3/lib/python3.12/site-packages/sklearn/metrics/_classification.py:1565: UndefinedMetricWarning: Precision is ill-defined and being set to 0.0 in labels with no predicted samples. Use `zero_division` parameter to control this behavior.\n",
      "  _warn_prf(average, modifier, f\"{metric.capitalize()} is\", len(result))\n",
      "\n"
     ]
    },
    {
     "name": "stdout",
     "output_type": "stream",
     "text": [
      "🏃 View run SVC_{'C': 0.05, 'gamma': 0.1, 'kernel': 'rbf'} at: http://127.0.0.1:8080/#/experiments/972965940385745321/runs/5b8787c7802e4e719e92d08d1a04844b\n",
      "\n",
      "🧪 View experiment at: http://127.0.0.1:8080/#/experiments/972965940385745321\n",
      "\n",
      "Params: {'C': 1, 'gamma': 0.001, 'kernel': 'rbf'}                               \n",
      "🏃 View run SVC_{'C': 1, 'gamma': 0.001, 'kernel': 'rbf'} at: http://127.0.0.1:8080/#/experiments/972965940385745321/runs/6fc7bc46bdab48e6a36be8048d802455\n",
      "\n",
      "🧪 View experiment at: http://127.0.0.1:8080/#/experiments/972965940385745321   \n",
      "\n",
      "Params: {'C': 0.1, 'gamma': 0.001, 'kernel': 'rbf'}                             \n",
      "🏃 View run SVC_{'C': 0.1, 'gamma': 0.001, 'kernel': 'rbf'} at: http://127.0.0.1:8080/#/experiments/972965940385745321/runs/9bb105879fc2410686b4484da99c9629\n",
      "\n",
      "🧪 View experiment at: http://127.0.0.1:8080/#/experiments/972965940385745321  \n",
      "\n",
      "Params: {'C': 0.05, 'gamma': 0.01, 'kernel': 'rbf'}                            \n",
      "🏃 View run SVC_{'C': 0.05, 'gamma': 0.01, 'kernel': 'rbf'} at: http://127.0.0.1:8080/#/experiments/972965940385745321/runs/ff9aa359ea934e37a995b9e248a0e43a\n",
      "\n",
      "🧪 View experiment at: http://127.0.0.1:8080/#/experiments/972965940385745321  \n",
      "\n",
      "Params: {'C': 0.1, 'gamma': 0.001, 'kernel': 'rbf'}                             \n",
      "🏃 View run SVC_{'C': 0.1, 'gamma': 0.001, 'kernel': 'rbf'} at: http://127.0.0.1:8080/#/experiments/972965940385745321/runs/7ca67f7768e04496a0ae73f6ac662e46\n",
      "\n",
      "🧪 View experiment at: http://127.0.0.1:8080/#/experiments/972965940385745321   \n",
      "\n",
      "100%|██████████| 5/5 [03:02<00:00, 36.47s/trial, best loss: -0.5114223236615687]\n",
      "🏃 View run svc-sweep at: http://127.0.0.1:8080/#/experiments/972965940385745321/runs/ca8d6807a94e430db04e1d456214ee73\n",
      "🧪 View experiment at: http://127.0.0.1:8080/#/experiments/972965940385745321\n",
      "This will run 5 trials to find optimal hyperparameters...\n",
      "Params: {'C': 0.01}                                  \n",
      "🏃 View run LinearSVC_{'C': 0.01} at: http://127.0.0.1:8080/#/experiments/972965940385745321/runs/1c992cad34de4517808a9d486283fe17\n",
      "\n",
      "🧪 View experiment at: http://127.0.0.1:8080/#/experiments/972965940385745321\n",
      "\n",
      "Params: {'C': 1}                                                                \n",
      "🏃 View run LinearSVC_{'C': 1} at: http://127.0.0.1:8080/#/experiments/972965940385745321/runs/e56a9db2962745c4a3478542536d155d\n",
      "\n",
      "🧪 View experiment at: http://127.0.0.1:8080/#/experiments/972965940385745321   \n",
      "\n",
      "Params: {'C': 1}                                                                \n",
      "🏃 View run LinearSVC_{'C': 1} at: http://127.0.0.1:8080/#/experiments/972965940385745321/runs/cf272abfaf714a919b48bbfe1e99c467\n",
      "\n",
      "🧪 View experiment at: http://127.0.0.1:8080/#/experiments/972965940385745321   \n",
      "\n",
      "Params: {'C': 1}                                                                \n",
      "🏃 View run LinearSVC_{'C': 1} at: http://127.0.0.1:8080/#/experiments/972965940385745321/runs/93c7a4e6cead491ca74faa7396eccd16\n",
      "\n",
      "🧪 View experiment at: http://127.0.0.1:8080/#/experiments/972965940385745321   \n",
      "\n",
      "Params: {'C': 0.01}                                                             \n",
      "🏃 View run LinearSVC_{'C': 0.01} at: http://127.0.0.1:8080/#/experiments/972965940385745321/runs/c676585959fc40789538d0e1d71237f7\n",
      "\n",
      "🧪 View experiment at: http://127.0.0.1:8080/#/experiments/972965940385745321   \n",
      "\n",
      "100%|██████████| 5/5 [00:14<00:00,  2.94s/trial, best loss: -0.3486210212223004]\n",
      "🏃 View run svc-linear-sweep at: http://127.0.0.1:8080/#/experiments/972965940385745321/runs/d31548779f8544c2b6d5ec839dd38374\n",
      "🧪 View experiment at: http://127.0.0.1:8080/#/experiments/972965940385745321\n",
      "This will run 5 trials to find optimal hyperparameters...\n",
      "Params: {'learning_rate': 0.2, 'max_depth': 5, 'n_estimators': 700, 'random_state': 42}\n",
      "🏃 View run XGBClassifier_{'learning_rate': 0.2, 'max_depth': 5, 'n_estimators': 700, 'random_state': 42} at: http://127.0.0.1:8080/#/experiments/972965940385745321/runs/d1bf19885dd64ea2aecb69f0254d32ed\n",
      "\n",
      "🧪 View experiment at: http://127.0.0.1:8080/#/experiments/972965940385745321\n",
      "\n",
      "Params: {'learning_rate': 0.001, 'max_depth': None, 'n_estimators': 1000, 'random_state': 42}\n",
      "🏃 View run XGBClassifier_{'learning_rate': 0.001, 'max_depth': None, 'n_estimators': 1000, 'random_state': 42} at: http://127.0.0.1:8080/#/experiments/972965940385745321/runs/5cf26bbda54e42eb88098c1c0587b8d7\n",
      "\n",
      "🧪 View experiment at: http://127.0.0.1:8080/#/experiments/972965940385745321   \n",
      "\n",
      "Params: {'learning_rate': 0.5, 'max_depth': None, 'n_estimators': 500, 'random_state': 42}\n",
      "🏃 View run XGBClassifier_{'learning_rate': 0.5, 'max_depth': None, 'n_estimators': 500, 'random_state': 42} at: http://127.0.0.1:8080/#/experiments/972965940385745321/runs/63dd5ac6285d47b58a4678523ca465a5\n",
      "\n",
      "🧪 View experiment at: http://127.0.0.1:8080/#/experiments/972965940385745321   \n",
      "\n",
      "Params: {'learning_rate': 0.2, 'max_depth': None, 'n_estimators': 700, 'random_state': 42}\n",
      "🏃 View run XGBClassifier_{'learning_rate': 0.2, 'max_depth': None, 'n_estimators': 700, 'random_state': 42} at: http://127.0.0.1:8080/#/experiments/972965940385745321/runs/406aeba08b624302bfe22c1e137621bb\n",
      "\n",
      "🧪 View experiment at: http://127.0.0.1:8080/#/experiments/972965940385745321   \n",
      "\n",
      "Params: {'learning_rate': 0.3, 'max_depth': 5, 'n_estimators': 200, 'random_state': 42}\n",
      "🏃 View run XGBClassifier_{'learning_rate': 0.3, 'max_depth': 5, 'n_estimators': 200, 'random_state': 42} at: http://127.0.0.1:8080/#/experiments/972965940385745321/runs/65138dfa280c4c689922787ad59519f4\n",
      "\n",
      "🧪 View experiment at: http://127.0.0.1:8080/#/experiments/972965940385745321   \n",
      "\n",
      "100%|██████████| 5/5 [00:36<00:00,  7.32s/trial, best loss: -0.615789436457017] \n",
      "🏃 View run xgb-sweep at: http://127.0.0.1:8080/#/experiments/972965940385745321/runs/a6fb39fa906c44dfae3a60b6e9f59999\n",
      "🧪 View experiment at: http://127.0.0.1:8080/#/experiments/972965940385745321\n"
     ]
    },
    {
     "data": {
      "text/plain": [
       "0.615789436457017"
      ]
     },
     "execution_count": 51,
     "metadata": {},
     "output_type": "execute_result"
    }
   ],
   "source": [
    "model = RandomForestClassifier\n",
    "run_experiments('rf-sweep', max_evals=max_evals, search_space=search_space_rf, data_name=data_name, model_name = 'RandomForestClassifier', features_names=columns_to_keep)\n",
    "model = SVC\n",
    "run_experiments('svc-sweep', max_evals=max_evals, search_space=search_space_svc, data_name=data_name, model_name = 'SVC', features_names=columns_to_keep)\n",
    "model = LinearSVC\n",
    "run_experiments('svc-linear-sweep', max_evals=max_evals, search_space=search_space_svc_linear, data_name=data_name, model_name = 'LinearSVC', features_names=columns_to_keep)\n",
    "model = xgb.XGBClassifier\n",
    "run_experiments('xgb-sweep', max_evals=max_evals, search_space=search_space_xgb, data_name=data_name, model_name = 'XGBClassifier', features_names=columns_to_keep)"
   ]
  },
  {
   "cell_type": "markdown",
   "id": "6c7c7c69",
   "metadata": {},
   "source": [
    "### LLM"
   ]
  },
  {
   "cell_type": "code",
   "execution_count": 52,
   "id": "71ab5872",
   "metadata": {},
   "outputs": [
    {
     "name": "stdout",
     "output_type": "stream",
     "text": [
      "Experiment already exists: RESOURCE_ALREADY_EXISTS: Experiment 'UAH_CARLA_LLM_20' already exists.\n"
     ]
    }
   ],
   "source": [
    "# Provide an Experiment description that will appear in the UI\n",
    "experiment_description = (\n",
    "    \"Experiment to train models on the UAH + CARLA LLM (20%) dataset.\"\n",
    ")\n",
    "\n",
    "# Provide searchable tags that define characteristics of the Runs that\n",
    "# will be in this Experiment\n",
    "experiment_tags = {\n",
    "    \"project_name\": \"driver-behavior-prediction\",\n",
    "    \"mlflow.note.content\": experiment_description,\n",
    "}\n",
    "\n",
    "# Create the Experiment, providing a unique name\n",
    "try:\n",
    "    driver_behavior_experiment = client.create_experiment(\n",
    "        name=\"UAH_CARLA_LLM_20\", tags=experiment_tags\n",
    "    )\n",
    "except mlflow.exceptions.RestException as e:\n",
    "    print(f\"Experiment already exists: {e}\")"
   ]
  },
  {
   "cell_type": "code",
   "execution_count": 53,
   "id": "61e34e16",
   "metadata": {},
   "outputs": [],
   "source": [
    "X_train, y_train = X_carla_uah_llm_20, y_carla_uah_llm_20\n",
    "\n",
    "scaler = StandardScaler()\n",
    "X_train = scaler.fit_transform(X_train)\n",
    "X_val = scaler.transform(X_val_base)\n",
    "y_train = preprocessor.one_hot_encode(y_train, one_hot_keys=one_hot_keys)\n",
    "\n",
    "signature = infer_signature(X_train, y_train)\n",
    "mlflow.set_experiment('UAH_CARLA_LLM_20')\n",
    "data_name = 'UAH_CARLA_LLM_20'"
   ]
  },
  {
   "cell_type": "code",
   "execution_count": 54,
   "id": "97311e4a",
   "metadata": {},
   "outputs": [
    {
     "name": "stdout",
     "output_type": "stream",
     "text": [
      "This will run 5 trials to find optimal hyperparameters...\n",
      "Params: {'max_depth': 20, 'n_estimators': 50, 'random_state': 42}\n",
      "🏃 View run RandomForestClassifier_{'max_depth': 20, 'n_estimators': 50, 'random_state': 42} at: http://127.0.0.1:8080/#/experiments/520029334633823444/runs/ae4db70369b04079a79c6af343b9f49b\n",
      "\n",
      "🧪 View experiment at: http://127.0.0.1:8080/#/experiments/520029334633823444\n",
      "\n",
      "Params: {'max_depth': 5, 'n_estimators': 20, 'random_state': 42}                \n",
      "🏃 View run RandomForestClassifier_{'max_depth': 5, 'n_estimators': 20, 'random_state': 42} at: http://127.0.0.1:8080/#/experiments/520029334633823444/runs/2ab81e7a8d0148628798407fdc370f6c\n",
      "\n",
      "🧪 View experiment at: http://127.0.0.1:8080/#/experiments/520029334633823444   \n",
      "\n",
      "Params: {'max_depth': 5, 'n_estimators': 20, 'random_state': 42}                \n",
      "🏃 View run RandomForestClassifier_{'max_depth': 5, 'n_estimators': 20, 'random_state': 42} at: http://127.0.0.1:8080/#/experiments/520029334633823444/runs/7656599aaac343cd904e72ced9b8e50e\n",
      "\n",
      "🧪 View experiment at: http://127.0.0.1:8080/#/experiments/520029334633823444   \n",
      "\n",
      "Params: {'max_depth': 10, 'n_estimators': 20, 'random_state': 42}               \n",
      "🏃 View run RandomForestClassifier_{'max_depth': 10, 'n_estimators': 20, 'random_state': 42} at: http://127.0.0.1:8080/#/experiments/520029334633823444/runs/d3829ae2cc2b44a19fe4b763ca86673f\n",
      "\n",
      "🧪 View experiment at: http://127.0.0.1:8080/#/experiments/520029334633823444   \n",
      "\n",
      "Params: {'max_depth': 5, 'n_estimators': 500, 'random_state': 42}               \n",
      "🏃 View run RandomForestClassifier_{'max_depth': 5, 'n_estimators': 500, 'random_state': 42} at: http://127.0.0.1:8080/#/experiments/520029334633823444/runs/bbbdd2117e994e61860cb85ce913214d\n",
      "\n",
      "🧪 View experiment at: http://127.0.0.1:8080/#/experiments/520029334633823444   \n",
      "\n",
      "100%|██████████| 5/5 [00:38<00:00,  7.76s/trial, best loss: -0.6316480745299008]\n",
      "🏃 View run rf-sweep at: http://127.0.0.1:8080/#/experiments/520029334633823444/runs/34da8d5a95e54cd08852767353122c11\n",
      "🧪 View experiment at: http://127.0.0.1:8080/#/experiments/520029334633823444\n",
      "This will run 5 trials to find optimal hyperparameters...\n",
      "Params: {'C': 0.01, 'gamma': 10, 'kernel': 'rbf'}    \n",
      "  0%|          | 0/5 [00:00<?, ?trial/s, best loss=?]"
     ]
    },
    {
     "name": "stderr",
     "output_type": "stream",
     "text": [
      "/home/renan/miniconda3/lib/python3.12/site-packages/sklearn/metrics/_classification.py:1565: UndefinedMetricWarning: Precision is ill-defined and being set to 0.0 in labels with no predicted samples. Use `zero_division` parameter to control this behavior.\n",
      "  _warn_prf(average, modifier, f\"{metric.capitalize()} is\", len(result))\n",
      "\n"
     ]
    },
    {
     "name": "stdout",
     "output_type": "stream",
     "text": [
      "🏃 View run SVC_{'C': 0.01, 'gamma': 10, 'kernel': 'rbf'} at: http://127.0.0.1:8080/#/experiments/520029334633823444/runs/5ec292750bf3469bb64c12d4686a3b4f\n",
      "\n",
      "🧪 View experiment at: http://127.0.0.1:8080/#/experiments/520029334633823444\n",
      "\n",
      "Params: {'C': 0.5, 'gamma': 0.1, 'kernel': 'rbf'}                                \n",
      "🏃 View run SVC_{'C': 0.5, 'gamma': 0.1, 'kernel': 'rbf'} at: http://127.0.0.1:8080/#/experiments/520029334633823444/runs/a230fdcbf4e84f8e9c2c98cce24db964\n",
      "\n",
      "🧪 View experiment at: http://127.0.0.1:8080/#/experiments/520029334633823444    \n",
      "\n",
      "Params: {'C': 0.05, 'gamma': 1, 'kernel': 'rbf'}                                 \n",
      " 40%|████      | 2/5 [02:54<04:09, 83.28s/trial, best loss: -0.61287736879774]"
     ]
    },
    {
     "name": "stderr",
     "output_type": "stream",
     "text": [
      "/home/renan/miniconda3/lib/python3.12/site-packages/sklearn/metrics/_classification.py:1565: UndefinedMetricWarning: Precision is ill-defined and being set to 0.0 in labels with no predicted samples. Use `zero_division` parameter to control this behavior.\n",
      "  _warn_prf(average, modifier, f\"{metric.capitalize()} is\", len(result))\n",
      "\n"
     ]
    },
    {
     "name": "stdout",
     "output_type": "stream",
     "text": [
      "🏃 View run SVC_{'C': 0.05, 'gamma': 1, 'kernel': 'rbf'} at: http://127.0.0.1:8080/#/experiments/520029334633823444/runs/0d1e30bf199740baaf0121a105bba3ab\n",
      "\n",
      "🧪 View experiment at: http://127.0.0.1:8080/#/experiments/520029334633823444 \n",
      "\n",
      "Params: {'C': 1, 'gamma': 0.01, 'kernel': 'rbf'}                              \n",
      "🏃 View run SVC_{'C': 1, 'gamma': 0.01, 'kernel': 'rbf'} at: http://127.0.0.1:8080/#/experiments/520029334633823444/runs/ab9aa9b02a4f44cb9e7d8b10bfc6822f\n",
      "\n",
      "🧪 View experiment at: http://127.0.0.1:8080/#/experiments/520029334633823444 \n",
      "\n",
      "Params: {'C': 0.01, 'gamma': 0.001, 'kernel': 'rbf'}                          \n",
      "🏃 View run SVC_{'C': 0.01, 'gamma': 0.001, 'kernel': 'rbf'} at: http://127.0.0.1:8080/#/experiments/520029334633823444/runs/3c73b3c9fd3e43b4a3b1065870c550ae\n",
      "\n",
      "🧪 View experiment at: http://127.0.0.1:8080/#/experiments/520029334633823444 \n",
      "\n",
      "100%|██████████| 5/5 [05:55<00:00, 71.13s/trial, best loss: -0.61287736879774]\n",
      "🏃 View run svc-sweep at: http://127.0.0.1:8080/#/experiments/520029334633823444/runs/ceede7a9359943e99bde3fff46989133\n",
      "🧪 View experiment at: http://127.0.0.1:8080/#/experiments/520029334633823444\n",
      "This will run 5 trials to find optimal hyperparameters...\n",
      "Params: {'C': 0.001}                                 \n",
      "🏃 View run LinearSVC_{'C': 0.001} at: http://127.0.0.1:8080/#/experiments/520029334633823444/runs/49a2dea43b9640119c3d6905e8443176\n",
      "\n",
      "🧪 View experiment at: http://127.0.0.1:8080/#/experiments/520029334633823444\n",
      "\n",
      "Params: {'C': 0.1}                                                               \n",
      "🏃 View run LinearSVC_{'C': 0.1} at: http://127.0.0.1:8080/#/experiments/520029334633823444/runs/81c27696a17a43f3878ec48ac9455f93\n",
      "\n",
      "🧪 View experiment at: http://127.0.0.1:8080/#/experiments/520029334633823444    \n",
      "\n",
      "Params: {'C': 0.0001}                                                            \n",
      "🏃 View run LinearSVC_{'C': 0.0001} at: http://127.0.0.1:8080/#/experiments/520029334633823444/runs/a859bc0d1fb0477b9c2751293c24aaff\n",
      "\n",
      "🧪 View experiment at: http://127.0.0.1:8080/#/experiments/520029334633823444    \n",
      "\n",
      "Params: {'C': 0.01}                                                              \n",
      "🏃 View run LinearSVC_{'C': 0.01} at: http://127.0.0.1:8080/#/experiments/520029334633823444/runs/e0664f03c46945069de6004d9369fb0a\n",
      "\n",
      "🧪 View experiment at: http://127.0.0.1:8080/#/experiments/520029334633823444    \n",
      "\n",
      "Params: {'C': 0.001}                                                             \n",
      "🏃 View run LinearSVC_{'C': 0.001} at: http://127.0.0.1:8080/#/experiments/520029334633823444/runs/6b5925c1e8a74600893a98a03c4cf63e\n",
      "\n",
      "🧪 View experiment at: http://127.0.0.1:8080/#/experiments/520029334633823444    \n",
      "\n",
      "100%|██████████| 5/5 [00:11<00:00,  2.40s/trial, best loss: -0.36407850705163947]\n",
      "🏃 View run svc-linear-sweep at: http://127.0.0.1:8080/#/experiments/520029334633823444/runs/8fd9c13748ed4f26b2c2437d9a76a657\n",
      "🧪 View experiment at: http://127.0.0.1:8080/#/experiments/520029334633823444\n",
      "This will run 5 trials to find optimal hyperparameters...\n",
      "Params: {'learning_rate': 0.2, 'max_depth': 10, 'n_estimators': 1000, 'random_state': 42}\n",
      "🏃 View run XGBClassifier_{'learning_rate': 0.2, 'max_depth': 10, 'n_estimators': 1000, 'random_state': 42} at: http://127.0.0.1:8080/#/experiments/520029334633823444/runs/f7e6db59ca54497a988b6b108e7884ee\n",
      "\n",
      "🧪 View experiment at: http://127.0.0.1:8080/#/experiments/520029334633823444\n",
      "\n",
      "Params: {'learning_rate': 0.4, 'max_depth': None, 'n_estimators': 1000, 'random_state': 42}\n",
      "🏃 View run XGBClassifier_{'learning_rate': 0.4, 'max_depth': None, 'n_estimators': 1000, 'random_state': 42} at: http://127.0.0.1:8080/#/experiments/520029334633823444/runs/d925b0a7f05944e0b157287f400b9eb0\n",
      "\n",
      "🧪 View experiment at: http://127.0.0.1:8080/#/experiments/520029334633823444 \n",
      "\n",
      "Params: {'learning_rate': 0.4, 'max_depth': 10, 'n_estimators': 200, 'random_state': 42}\n",
      "🏃 View run XGBClassifier_{'learning_rate': 0.4, 'max_depth': 10, 'n_estimators': 200, 'random_state': 42} at: http://127.0.0.1:8080/#/experiments/520029334633823444/runs/1fc703a0e44e43669f5e18d46fd5b530\n",
      "\n",
      "🧪 View experiment at: http://127.0.0.1:8080/#/experiments/520029334633823444   \n",
      "\n",
      "Params: {'learning_rate': 0.1, 'max_depth': 5, 'n_estimators': 500, 'random_state': 42}\n",
      "🏃 View run XGBClassifier_{'learning_rate': 0.1, 'max_depth': 5, 'n_estimators': 500, 'random_state': 42} at: http://127.0.0.1:8080/#/experiments/520029334633823444/runs/16dba611d3564a6ca3630e8d5004b8bd\n",
      "\n",
      "🧪 View experiment at: http://127.0.0.1:8080/#/experiments/520029334633823444   \n",
      "\n",
      "Params: {'learning_rate': 0.3, 'max_depth': None, 'n_estimators': 700, 'random_state': 42}\n",
      "🏃 View run XGBClassifier_{'learning_rate': 0.3, 'max_depth': None, 'n_estimators': 700, 'random_state': 42} at: http://127.0.0.1:8080/#/experiments/520029334633823444/runs/e6683b2f7f554fd09c310ec6166bc5b7\n",
      "\n",
      "🧪 View experiment at: http://127.0.0.1:8080/#/experiments/520029334633823444   \n",
      "\n",
      "100%|██████████| 5/5 [00:58<00:00, 11.63s/trial, best loss: -0.6271407585576513]\n",
      "🏃 View run xgb-sweep at: http://127.0.0.1:8080/#/experiments/520029334633823444/runs/65fffca6d10d4c7ab5ef7c6363f5db16\n",
      "🧪 View experiment at: http://127.0.0.1:8080/#/experiments/520029334633823444\n"
     ]
    },
    {
     "data": {
      "text/plain": [
       "0.6271407585576513"
      ]
     },
     "execution_count": 54,
     "metadata": {},
     "output_type": "execute_result"
    }
   ],
   "source": [
    "model = RandomForestClassifier\n",
    "run_experiments('rf-sweep', max_evals=max_evals, search_space=search_space_rf, data_name=data_name, model_name = 'RandomForestClassifier', features_names=columns_to_keep)\n",
    "model = SVC\n",
    "run_experiments('svc-sweep', max_evals=max_evals, search_space=search_space_svc, data_name=data_name, model_name = 'SVC', features_names=columns_to_keep)\n",
    "model = LinearSVC\n",
    "run_experiments('svc-linear-sweep', max_evals=max_evals, search_space=search_space_svc_linear, data_name=data_name, model_name = 'LinearSVC', features_names=columns_to_keep)\n",
    "model = xgb.XGBClassifier\n",
    "run_experiments('xgb-sweep', max_evals=max_evals, search_space=search_space_xgb, data_name=data_name, model_name = 'XGBClassifier', features_names=columns_to_keep)"
   ]
  },
  {
   "cell_type": "markdown",
   "id": "03a2886a",
   "metadata": {},
   "source": [
    "## Real + CARLA (100%)"
   ]
  },
  {
   "cell_type": "markdown",
   "id": "e6d9ddfb",
   "metadata": {},
   "source": [
    "### Fixed"
   ]
  },
  {
   "cell_type": "code",
   "execution_count": null,
   "id": "d74acd83",
   "metadata": {},
   "outputs": [],
   "source": [
    "# Provide an Experiment description that will appear in the UI\n",
    "experiment_description = (\n",
    "    \"Experiment to train models on the UAH + CARLA Fixed (100%) dataset.\"\n",
    ")\n",
    "\n",
    "# Provide searchable tags that define characteristics of the Runs that\n",
    "# will be in this Experiment\n",
    "experiment_tags = {\n",
    "    \"project_name\": \"driver-behavior-prediction\",\n",
    "    \"mlflow.note.content\": experiment_description,\n",
    "}\n",
    "\n",
    "# Create the Experiment, providing a unique name\n",
    "try:\n",
    "    driver_behavior_experiment = client.create_experiment(\n",
    "        name=\"UAH_CARLA_Fixed_100\", tags=experiment_tags\n",
    "    )\n",
    "except mlflow.exceptions.RestException as e:\n",
    "    print(f\"Experiment already exists: {e}\")"
   ]
  },
  {
   "cell_type": "code",
   "execution_count": null,
   "id": "c1b7f372",
   "metadata": {},
   "outputs": [],
   "source": [
    "X_train, y_train = X_carla_uah_fixed_100, y_carla_uah_fixed_100\n",
    "\n",
    "scaler = StandardScaler()\n",
    "X_train = scaler.fit_transform(X_train)\n",
    "X_val = scaler.transform(X_val_base)\n",
    "y_train = preprocessor.one_hot_encode(y_train, one_hot_keys=one_hot_keys)\n",
    "\n",
    "signature = infer_signature(X_train, y_train)\n",
    "mlflow.set_experiment('UAH_CARLA_Fixed_100')\n",
    "data_name = 'UAH_CARLA_Fixed_100'"
   ]
  },
  {
   "cell_type": "code",
   "execution_count": 57,
   "id": "90abf157",
   "metadata": {},
   "outputs": [
    {
     "name": "stdout",
     "output_type": "stream",
     "text": [
      "This will run 5 trials to find optimal hyperparameters...\n",
      "Params: {'max_depth': 10, 'n_estimators': 200, 'random_state': 42}\n",
      "🏃 View run RandomForestClassifier_{'max_depth': 10, 'n_estimators': 200, 'random_state': 42} at: http://127.0.0.1:8080/#/experiments/437010834851071118/runs/ca688acb27b84678a1f51a8637365780\n",
      "\n",
      "🧪 View experiment at: http://127.0.0.1:8080/#/experiments/437010834851071118\n",
      "\n",
      "Params: {'max_depth': 5, 'n_estimators': 500, 'random_state': 42}               \n",
      "🏃 View run RandomForestClassifier_{'max_depth': 5, 'n_estimators': 500, 'random_state': 42} at: http://127.0.0.1:8080/#/experiments/437010834851071118/runs/87a2c2684d0f44529c47e377a93fe033\n",
      "\n",
      "🧪 View experiment at: http://127.0.0.1:8080/#/experiments/437010834851071118   \n",
      "\n",
      "Params: {'max_depth': 20, 'n_estimators': 100, 'random_state': 42}              \n",
      "🏃 View run RandomForestClassifier_{'max_depth': 20, 'n_estimators': 100, 'random_state': 42} at: http://127.0.0.1:8080/#/experiments/437010834851071118/runs/7e7bb5f668e545c6a579c71462481b1a\n",
      "\n",
      "🧪 View experiment at: http://127.0.0.1:8080/#/experiments/437010834851071118   \n",
      "\n",
      "Params: {'max_depth': 20, 'n_estimators': 500, 'random_state': 42}              \n",
      "🏃 View run RandomForestClassifier_{'max_depth': 20, 'n_estimators': 500, 'random_state': 42} at: http://127.0.0.1:8080/#/experiments/437010834851071118/runs/c2ba459837ca4c4dabecc7ee7b18f231\n",
      "\n",
      "🧪 View experiment at: http://127.0.0.1:8080/#/experiments/437010834851071118   \n",
      "\n",
      "Params: {'max_depth': None, 'n_estimators': 20, 'random_state': 42}             \n",
      "🏃 View run RandomForestClassifier_{'max_depth': None, 'n_estimators': 20, 'random_state': 42} at: http://127.0.0.1:8080/#/experiments/437010834851071118/runs/7d90a5757883473b9062876c51156938\n",
      "\n",
      "🧪 View experiment at: http://127.0.0.1:8080/#/experiments/437010834851071118   \n",
      "\n",
      "100%|██████████| 5/5 [02:02<00:00, 24.51s/trial, best loss: -0.6201718258549191]\n",
      "🏃 View run rf-sweep at: http://127.0.0.1:8080/#/experiments/437010834851071118/runs/f82d05c89c174f04a4306a69b55ab32c\n",
      "🧪 View experiment at: http://127.0.0.1:8080/#/experiments/437010834851071118\n",
      "This will run 5 trials to find optimal hyperparameters...\n",
      "Params: {'C': 0.01, 'gamma': 1, 'kernel': 'rbf'}     \n",
      "  0%|          | 0/5 [00:00<?, ?trial/s, best loss=?]"
     ]
    },
    {
     "name": "stderr",
     "output_type": "stream",
     "text": [
      "/home/renan/miniconda3/lib/python3.12/site-packages/sklearn/metrics/_classification.py:1565: UndefinedMetricWarning: Precision is ill-defined and being set to 0.0 in labels with no predicted samples. Use `zero_division` parameter to control this behavior.\n",
      "  _warn_prf(average, modifier, f\"{metric.capitalize()} is\", len(result))\n",
      "\n"
     ]
    },
    {
     "name": "stdout",
     "output_type": "stream",
     "text": [
      "🏃 View run SVC_{'C': 0.01, 'gamma': 1, 'kernel': 'rbf'} at: http://127.0.0.1:8080/#/experiments/437010834851071118/runs/c7de33a02c024abd94450b19ea7fc354\n",
      "\n",
      "🧪 View experiment at: http://127.0.0.1:8080/#/experiments/437010834851071118\n",
      "\n",
      "Params: {'C': 0.1, 'gamma': 1, 'kernel': 'rbf'}                                 \n",
      " 20%|██        | 1/5 [01:24<05:37, 84.29s/trial, best loss: -0.3335592240143389]"
     ]
    },
    {
     "name": "stderr",
     "output_type": "stream",
     "text": [
      "/home/renan/miniconda3/lib/python3.12/site-packages/sklearn/metrics/_classification.py:1565: UndefinedMetricWarning: Precision is ill-defined and being set to 0.0 in labels with no predicted samples. Use `zero_division` parameter to control this behavior.\n",
      "  _warn_prf(average, modifier, f\"{metric.capitalize()} is\", len(result))\n",
      "\n"
     ]
    },
    {
     "name": "stdout",
     "output_type": "stream",
     "text": [
      "🏃 View run SVC_{'C': 0.1, 'gamma': 1, 'kernel': 'rbf'} at: http://127.0.0.1:8080/#/experiments/437010834851071118/runs/70e278dc0ff4416bb0533d30701a2d13\n",
      "\n",
      "🧪 View experiment at: http://127.0.0.1:8080/#/experiments/437010834851071118   \n",
      "\n",
      "Params: {'C': 0.05, 'gamma': 0.1, 'kernel': 'rbf'}                              \n",
      " 40%|████      | 2/5 [03:14<04:59, 99.74s/trial, best loss: -0.3335592240143389]"
     ]
    },
    {
     "name": "stderr",
     "output_type": "stream",
     "text": [
      "/home/renan/miniconda3/lib/python3.12/site-packages/sklearn/metrics/_classification.py:1565: UndefinedMetricWarning: Precision is ill-defined and being set to 0.0 in labels with no predicted samples. Use `zero_division` parameter to control this behavior.\n",
      "  _warn_prf(average, modifier, f\"{metric.capitalize()} is\", len(result))\n",
      "\n"
     ]
    },
    {
     "name": "stdout",
     "output_type": "stream",
     "text": [
      "🏃 View run SVC_{'C': 0.05, 'gamma': 0.1, 'kernel': 'rbf'} at: http://127.0.0.1:8080/#/experiments/437010834851071118/runs/025c758740bb413aa66ad8d06408dd64\n",
      "\n",
      "🧪 View experiment at: http://127.0.0.1:8080/#/experiments/437010834851071118   \n",
      "\n",
      "Params: {'C': 1, 'gamma': 0.01, 'kernel': 'rbf'}                                \n",
      "🏃 View run SVC_{'C': 1, 'gamma': 0.01, 'kernel': 'rbf'} at: http://127.0.0.1:8080/#/experiments/437010834851071118/runs/eacb795ddf4f4b56a281c6c725b1d03b\n",
      "\n",
      "🧪 View experiment at: http://127.0.0.1:8080/#/experiments/437010834851071118   \n",
      "\n",
      "Params: {'C': 0.1, 'gamma': 10, 'kernel': 'rbf'}                                \n",
      " 80%|████████  | 4/5 [04:21<00:54, 54.67s/trial, best loss: -0.5530845862715699]"
     ]
    },
    {
     "name": "stderr",
     "output_type": "stream",
     "text": [
      "/home/renan/miniconda3/lib/python3.12/site-packages/sklearn/metrics/_classification.py:1565: UndefinedMetricWarning: Precision is ill-defined and being set to 0.0 in labels with no predicted samples. Use `zero_division` parameter to control this behavior.\n",
      "  _warn_prf(average, modifier, f\"{metric.capitalize()} is\", len(result))\n",
      "\n"
     ]
    },
    {
     "name": "stdout",
     "output_type": "stream",
     "text": [
      "🏃 View run SVC_{'C': 0.1, 'gamma': 10, 'kernel': 'rbf'} at: http://127.0.0.1:8080/#/experiments/437010834851071118/runs/fc7dc18d8e5b4d1e8d6888fe3c90b69b\n",
      "\n",
      "🧪 View experiment at: http://127.0.0.1:8080/#/experiments/437010834851071118   \n",
      "\n",
      "100%|██████████| 5/5 [06:26<00:00, 77.37s/trial, best loss: -0.5530845862715699]\n",
      "🏃 View run svc-sweep at: http://127.0.0.1:8080/#/experiments/437010834851071118/runs/bdadae2edf7d48638e037ed584e8a1d9\n",
      "🧪 View experiment at: http://127.0.0.1:8080/#/experiments/437010834851071118\n",
      "This will run 5 trials to find optimal hyperparameters...\n",
      "Params: {'C': 0.0001}                                \n",
      "🏃 View run LinearSVC_{'C': 0.0001} at: http://127.0.0.1:8080/#/experiments/437010834851071118/runs/15536401f6b645cfb316a8969a052fb2\n",
      "\n",
      "🧪 View experiment at: http://127.0.0.1:8080/#/experiments/437010834851071118\n",
      "\n",
      "Params: {'C': 0.001}                                                             \n",
      "🏃 View run LinearSVC_{'C': 0.001} at: http://127.0.0.1:8080/#/experiments/437010834851071118/runs/590dfee811a142cd9ffe4fa6895ce1c1\n",
      "\n",
      "🧪 View experiment at: http://127.0.0.1:8080/#/experiments/437010834851071118    \n",
      "\n",
      "Params: {'C': 0.001}                                                             \n",
      "🏃 View run LinearSVC_{'C': 0.001} at: http://127.0.0.1:8080/#/experiments/437010834851071118/runs/d62b33defdab47c493c6e58aefd7f5a0\n",
      "\n",
      "🧪 View experiment at: http://127.0.0.1:8080/#/experiments/437010834851071118    \n",
      "\n",
      "Params: {'C': 1}                                                                 \n",
      "🏃 View run LinearSVC_{'C': 1} at: http://127.0.0.1:8080/#/experiments/437010834851071118/runs/cb8cbe13f1c845f186db9f93d56604c5\n",
      "\n",
      "🧪 View experiment at: http://127.0.0.1:8080/#/experiments/437010834851071118    \n",
      "\n",
      "Params: {'C': 0.1}                                                               \n",
      "🏃 View run LinearSVC_{'C': 0.1} at: http://127.0.0.1:8080/#/experiments/437010834851071118/runs/0df121bd6708440385fc5f84a27f81eb\n",
      "\n",
      "🧪 View experiment at: http://127.0.0.1:8080/#/experiments/437010834851071118    \n",
      "\n",
      "100%|██████████| 5/5 [00:11<00:00,  2.21s/trial, best loss: -0.36407850705163947]\n",
      "🏃 View run svc-linear-sweep at: http://127.0.0.1:8080/#/experiments/437010834851071118/runs/a60df8255f234958b3d31544d1fc4515\n",
      "🧪 View experiment at: http://127.0.0.1:8080/#/experiments/437010834851071118\n",
      "This will run 5 trials to find optimal hyperparameters...\n",
      "Params: {'learning_rate': 0.001, 'max_depth': None, 'n_estimators': 500, 'random_state': 42}\n",
      "🏃 View run XGBClassifier_{'learning_rate': 0.001, 'max_depth': None, 'n_estimators': 500, 'random_state': 42} at: http://127.0.0.1:8080/#/experiments/437010834851071118/runs/67d39a17895d4c2c9ebb6d8af9f92145\n",
      "\n",
      "🧪 View experiment at: http://127.0.0.1:8080/#/experiments/437010834851071118\n",
      "\n",
      "Params: {'learning_rate': 0.1, 'max_depth': None, 'n_estimators': 1000, 'random_state': 42}\n",
      "🏃 View run XGBClassifier_{'learning_rate': 0.1, 'max_depth': None, 'n_estimators': 1000, 'random_state': 42} at: http://127.0.0.1:8080/#/experiments/437010834851071118/runs/50b867977e864669ae5c922805a64916\n",
      "\n",
      "🧪 View experiment at: http://127.0.0.1:8080/#/experiments/437010834851071118    \n",
      "\n",
      "Params: {'learning_rate': 0.2, 'max_depth': 10, 'n_estimators': 700, 'random_state': 42}\n",
      "🏃 View run XGBClassifier_{'learning_rate': 0.2, 'max_depth': 10, 'n_estimators': 700, 'random_state': 42} at: http://127.0.0.1:8080/#/experiments/437010834851071118/runs/453939a275c040daacf35ae8da00e2d6\n",
      "\n",
      "🧪 View experiment at: http://127.0.0.1:8080/#/experiments/437010834851071118   \n",
      "\n",
      "Params: {'learning_rate': 0.5, 'max_depth': 5, 'n_estimators': 1000, 'random_state': 42}\n",
      "🏃 View run XGBClassifier_{'learning_rate': 0.5, 'max_depth': 5, 'n_estimators': 1000, 'random_state': 42} at: http://127.0.0.1:8080/#/experiments/437010834851071118/runs/27992d515299441387a1158719ac0297\n",
      "\n",
      "🧪 View experiment at: http://127.0.0.1:8080/#/experiments/437010834851071118   \n",
      "\n",
      "Params: {'learning_rate': 0.4, 'max_depth': None, 'n_estimators': 1000, 'random_state': 42}\n",
      "🏃 View run XGBClassifier_{'learning_rate': 0.4, 'max_depth': None, 'n_estimators': 1000, 'random_state': 42} at: http://127.0.0.1:8080/#/experiments/437010834851071118/runs/bae5a243076442debe47532305c3c73d\n",
      "\n",
      "🧪 View experiment at: http://127.0.0.1:8080/#/experiments/437010834851071118   \n",
      "\n",
      "100%|██████████| 5/5 [01:00<00:00, 12.18s/trial, best loss: -0.6099322215772953]\n",
      "🏃 View run xgb-sweep at: http://127.0.0.1:8080/#/experiments/437010834851071118/runs/c0655174d0794eafbc3bd3277e93a008\n",
      "🧪 View experiment at: http://127.0.0.1:8080/#/experiments/437010834851071118\n"
     ]
    },
    {
     "data": {
      "text/plain": [
       "0.6099322215772953"
      ]
     },
     "execution_count": 57,
     "metadata": {},
     "output_type": "execute_result"
    }
   ],
   "source": [
    "model = RandomForestClassifier\n",
    "run_experiments('rf-sweep', max_evals=max_evals, search_space=search_space_rf, data_name=data_name, model_name = 'RandomForestClassifier', features_names=columns_to_keep)\n",
    "model = SVC\n",
    "run_experiments('svc-sweep', max_evals=max_evals, search_space=search_space_svc, data_name=data_name, model_name = 'SVC', features_names=columns_to_keep)\n",
    "model = LinearSVC\n",
    "run_experiments('svc-linear-sweep', max_evals=max_evals, search_space=search_space_svc_linear, data_name=data_name, model_name = 'LinearSVC', features_names=columns_to_keep)\n",
    "model = xgb.XGBClassifier\n",
    "run_experiments('xgb-sweep', max_evals=max_evals, search_space=search_space_xgb, data_name=data_name, model_name = 'XGBClassifier', features_names=columns_to_keep)"
   ]
  },
  {
   "cell_type": "markdown",
   "id": "4b1fe8a2",
   "metadata": {},
   "source": [
    "### LLM"
   ]
  },
  {
   "cell_type": "code",
   "execution_count": null,
   "id": "a8fc7ca3",
   "metadata": {},
   "outputs": [],
   "source": [
    "# Provide an Experiment description that will appear in the UI\n",
    "experiment_description = (\n",
    "    \"Experiment to train models on the UAH + CARLA LLM (100%) dataset.\"\n",
    ")\n",
    "\n",
    "# Provide searchable tags that define characteristics of the Runs that\n",
    "# will be in this Experiment\n",
    "experiment_tags = {\n",
    "    \"project_name\": \"driver-behavior-prediction\",\n",
    "    \"mlflow.note.content\": experiment_description,\n",
    "}\n",
    "\n",
    "# Create the Experiment, providing a unique name\n",
    "try:\n",
    "    driver_behavior_experiment = client.create_experiment(\n",
    "        name=\"UAH_CARLA_LLM_100\", tags=experiment_tags\n",
    "    )\n",
    "except mlflow.exceptions.RestException as e:\n",
    "    print(f\"Experiment already exists: {e}\")"
   ]
  },
  {
   "cell_type": "code",
   "execution_count": null,
   "id": "37800614",
   "metadata": {},
   "outputs": [],
   "source": [
    "X_train, y_train = X_carla_uah_llm_100, y_carla_uah_llm_100\n",
    "\n",
    "scaler = StandardScaler()\n",
    "X_train = scaler.fit_transform(X_train)\n",
    "X_val = scaler.transform(X_val_base)\n",
    "y_train = preprocessor.one_hot_encode(y_train, one_hot_keys=one_hot_keys)\n",
    "\n",
    "signature = infer_signature(X_train, y_train)\n",
    "mlflow.set_experiment('UAH_CARLA_LLM_100')\n",
    "data_name = 'UAH_CARLA_LLM_100'"
   ]
  },
  {
   "cell_type": "code",
   "execution_count": 60,
   "id": "41b6eda1",
   "metadata": {},
   "outputs": [
    {
     "name": "stdout",
     "output_type": "stream",
     "text": [
      "This will run 5 trials to find optimal hyperparameters...\n",
      "Params: {'max_depth': 50, 'n_estimators': 100, 'random_state': 42}\n",
      "🏃 View run RandomForestClassifier_{'max_depth': 50, 'n_estimators': 100, 'random_state': 42} at: http://127.0.0.1:8080/#/experiments/174820846745286408/runs/06108dc6801449ee8e8e8fe4fdc34bea\n",
      "\n",
      "🧪 View experiment at: http://127.0.0.1:8080/#/experiments/174820846745286408\n",
      "\n",
      "Params: {'max_depth': 20, 'n_estimators': 200, 'random_state': 42}              \n",
      "🏃 View run RandomForestClassifier_{'max_depth': 20, 'n_estimators': 200, 'random_state': 42} at: http://127.0.0.1:8080/#/experiments/174820846745286408/runs/bc922991a0a44e58b4d8435041e3bb87\n",
      "\n",
      "🧪 View experiment at: http://127.0.0.1:8080/#/experiments/174820846745286408   \n",
      "\n",
      "Params: {'max_depth': 5, 'n_estimators': 100, 'random_state': 42}               \n",
      "🏃 View run RandomForestClassifier_{'max_depth': 5, 'n_estimators': 100, 'random_state': 42} at: http://127.0.0.1:8080/#/experiments/174820846745286408/runs/f55d1b8f56b9499f8320da390767f244\n",
      "\n",
      "🧪 View experiment at: http://127.0.0.1:8080/#/experiments/174820846745286408   \n",
      "\n",
      "Params: {'max_depth': 50, 'n_estimators': 200, 'random_state': 42}              \n",
      "🏃 View run RandomForestClassifier_{'max_depth': 50, 'n_estimators': 200, 'random_state': 42} at: http://127.0.0.1:8080/#/experiments/174820846745286408/runs/4591738a446c4a2f8eb6a6d086fdea6e\n",
      "\n",
      "🧪 View experiment at: http://127.0.0.1:8080/#/experiments/174820846745286408   \n",
      "\n",
      "Params: {'max_depth': 20, 'n_estimators': 50, 'random_state': 42}               \n",
      "🏃 View run RandomForestClassifier_{'max_depth': 20, 'n_estimators': 50, 'random_state': 42} at: http://127.0.0.1:8080/#/experiments/174820846745286408/runs/39ec3d86f4a14df49c543319e4f74cfd\n",
      "\n",
      "🧪 View experiment at: http://127.0.0.1:8080/#/experiments/174820846745286408   \n",
      "\n",
      "100%|██████████| 5/5 [01:27<00:00, 17.55s/trial, best loss: -0.6316480745299008]\n",
      "🏃 View run rf-sweep at: http://127.0.0.1:8080/#/experiments/174820846745286408/runs/f7ef4e635af64cf9a14c745e572a6822\n",
      "🧪 View experiment at: http://127.0.0.1:8080/#/experiments/174820846745286408\n",
      "This will run 5 trials to find optimal hyperparameters...\n",
      "Params: {'C': 0.5, 'gamma': 0.1, 'kernel': 'rbf'}    \n",
      "🏃 View run SVC_{'C': 0.5, 'gamma': 0.1, 'kernel': 'rbf'} at: http://127.0.0.1:8080/#/experiments/174820846745286408/runs/4909fd6f8fd9481eaa7e4f3a57f6489d\n",
      "\n",
      "🧪 View experiment at: http://127.0.0.1:8080/#/experiments/174820846745286408\n",
      "\n",
      "Params: {'C': 0.01, 'gamma': 0.01, 'kernel': 'rbf'}                           \n",
      "🏃 View run SVC_{'C': 0.01, 'gamma': 0.01, 'kernel': 'rbf'} at: http://127.0.0.1:8080/#/experiments/174820846745286408/runs/2dbd55b9357048f0b796b86f4f7dad18\n",
      "\n",
      "🧪 View experiment at: http://127.0.0.1:8080/#/experiments/174820846745286408 \n",
      "\n",
      "Params: {'C': 1, 'gamma': 1, 'kernel': 'rbf'}                                 \n",
      " 40%|████      | 2/5 [01:45<02:31, 50.55s/trial, best loss: -0.61287736879774]"
     ]
    },
    {
     "name": "stderr",
     "output_type": "stream",
     "text": [
      "/home/renan/miniconda3/lib/python3.12/site-packages/sklearn/metrics/_classification.py:1565: UndefinedMetricWarning: Precision is ill-defined and being set to 0.0 in labels with no predicted samples. Use `zero_division` parameter to control this behavior.\n",
      "  _warn_prf(average, modifier, f\"{metric.capitalize()} is\", len(result))\n",
      "\n"
     ]
    },
    {
     "name": "stdout",
     "output_type": "stream",
     "text": [
      "🏃 View run SVC_{'C': 1, 'gamma': 1, 'kernel': 'rbf'} at: http://127.0.0.1:8080/#/experiments/174820846745286408/runs/cc727b600a974b659761b8557ecc7ca8\n",
      "\n",
      "🧪 View experiment at: http://127.0.0.1:8080/#/experiments/174820846745286408 \n",
      "\n",
      "Params: {'C': 0.05, 'gamma': 1, 'kernel': 'rbf'}                              \n",
      " 60%|██████    | 3/5 [03:59<02:57, 88.58s/trial, best loss: -0.61287736879774]"
     ]
    },
    {
     "name": "stderr",
     "output_type": "stream",
     "text": [
      "/home/renan/miniconda3/lib/python3.12/site-packages/sklearn/metrics/_classification.py:1565: UndefinedMetricWarning: Precision is ill-defined and being set to 0.0 in labels with no predicted samples. Use `zero_division` parameter to control this behavior.\n",
      "  _warn_prf(average, modifier, f\"{metric.capitalize()} is\", len(result))\n",
      "\n"
     ]
    },
    {
     "name": "stdout",
     "output_type": "stream",
     "text": [
      "🏃 View run SVC_{'C': 0.05, 'gamma': 1, 'kernel': 'rbf'} at: http://127.0.0.1:8080/#/experiments/174820846745286408/runs/0b343c80ebfb4e9e8ef4b72622ddf5b2\n",
      "\n",
      "🧪 View experiment at: http://127.0.0.1:8080/#/experiments/174820846745286408 \n",
      "\n",
      "Params: {'C': 1, 'gamma': 0.01, 'kernel': 'rbf'}                              \n",
      "🏃 View run SVC_{'C': 1, 'gamma': 0.01, 'kernel': 'rbf'} at: http://127.0.0.1:8080/#/experiments/174820846745286408/runs/fc43ef5285b34b28979e038be45791f7\n",
      "\n",
      "🧪 View experiment at: http://127.0.0.1:8080/#/experiments/174820846745286408 \n",
      "\n",
      "100%|██████████| 5/5 [06:26<00:00, 77.22s/trial, best loss: -0.61287736879774]\n",
      "🏃 View run svc-sweep at: http://127.0.0.1:8080/#/experiments/174820846745286408/runs/ecaf62ed9daa434797031284522e0521\n",
      "🧪 View experiment at: http://127.0.0.1:8080/#/experiments/174820846745286408\n",
      "This will run 5 trials to find optimal hyperparameters...\n",
      "Params: {'C': 0.01}                                  \n",
      "🏃 View run LinearSVC_{'C': 0.01} at: http://127.0.0.1:8080/#/experiments/174820846745286408/runs/33e2580881f54ce8a6bc60ad018b2aae\n",
      "\n",
      "🧪 View experiment at: http://127.0.0.1:8080/#/experiments/174820846745286408\n",
      "\n",
      "Params: {'C': 0.01}                                                             \n",
      "🏃 View run LinearSVC_{'C': 0.01} at: http://127.0.0.1:8080/#/experiments/174820846745286408/runs/2e412318e59e4d879144c3f965f6f2d5\n",
      "\n",
      "🧪 View experiment at: http://127.0.0.1:8080/#/experiments/174820846745286408   \n",
      "\n",
      "Params: {'C': 0.01}                                                             \n",
      "🏃 View run LinearSVC_{'C': 0.01} at: http://127.0.0.1:8080/#/experiments/174820846745286408/runs/d107267601ce499aab65053f0436be67\n",
      "\n",
      "🧪 View experiment at: http://127.0.0.1:8080/#/experiments/174820846745286408   \n",
      "\n",
      "Params: {'C': 0.001}                                                            \n",
      "🏃 View run LinearSVC_{'C': 0.001} at: http://127.0.0.1:8080/#/experiments/174820846745286408/runs/8f7f978562c84fbeaeebeed4820c892b\n",
      "\n",
      "🧪 View experiment at: http://127.0.0.1:8080/#/experiments/174820846745286408   \n",
      "\n",
      "Params: {'C': 0.0001}                                                           \n",
      "🏃 View run LinearSVC_{'C': 0.0001} at: http://127.0.0.1:8080/#/experiments/174820846745286408/runs/6de71703f5ed4da488faac0b0237870d\n",
      "\n",
      "🧪 View experiment at: http://127.0.0.1:8080/#/experiments/174820846745286408   \n",
      "\n",
      "100%|██████████| 5/5 [00:11<00:00,  2.25s/trial, best loss: -0.36407850705163947]\n",
      "🏃 View run svc-linear-sweep at: http://127.0.0.1:8080/#/experiments/174820846745286408/runs/ae76013b3b92498b83a989952bf38d4f\n",
      "🧪 View experiment at: http://127.0.0.1:8080/#/experiments/174820846745286408\n",
      "This will run 5 trials to find optimal hyperparameters...\n",
      "Params: {'learning_rate': 0.2, 'max_depth': 10, 'n_estimators': 1000, 'random_state': 42}\n",
      "🏃 View run XGBClassifier_{'learning_rate': 0.2, 'max_depth': 10, 'n_estimators': 1000, 'random_state': 42} at: http://127.0.0.1:8080/#/experiments/174820846745286408/runs/4396327eddfc4f25a3ef6337f15d37e1\n",
      "\n",
      "🧪 View experiment at: http://127.0.0.1:8080/#/experiments/174820846745286408\n",
      "\n",
      "Params: {'learning_rate': 0.01, 'max_depth': None, 'n_estimators': 700, 'random_state': 42}\n",
      "🏃 View run XGBClassifier_{'learning_rate': 0.01, 'max_depth': None, 'n_estimators': 700, 'random_state': 42} at: http://127.0.0.1:8080/#/experiments/174820846745286408/runs/e3b9085e59f74f22affe577b789898d5\n",
      "\n",
      "🧪 View experiment at: http://127.0.0.1:8080/#/experiments/174820846745286408 \n",
      "\n",
      "Params: {'learning_rate': 0.4, 'max_depth': 10, 'n_estimators': 200, 'random_state': 42}\n",
      "🏃 View run XGBClassifier_{'learning_rate': 0.4, 'max_depth': 10, 'n_estimators': 200, 'random_state': 42} at: http://127.0.0.1:8080/#/experiments/174820846745286408/runs/0c3531fd1ca343cf9e7bc2b9270cd3f3\n",
      "\n",
      "🧪 View experiment at: http://127.0.0.1:8080/#/experiments/174820846745286408  \n",
      "\n",
      "Params: {'learning_rate': 0.3, 'max_depth': 10, 'n_estimators': 1000, 'random_state': 42}\n",
      "🏃 View run XGBClassifier_{'learning_rate': 0.3, 'max_depth': 10, 'n_estimators': 1000, 'random_state': 42} at: http://127.0.0.1:8080/#/experiments/174820846745286408/runs/a130d431a5724c85941b73b02922dd9e\n",
      "\n",
      "🧪 View experiment at: http://127.0.0.1:8080/#/experiments/174820846745286408  \n",
      "\n",
      "Params: {'learning_rate': 0.01, 'max_depth': 10, 'n_estimators': 700, 'random_state': 42}\n",
      "🏃 View run XGBClassifier_{'learning_rate': 0.01, 'max_depth': 10, 'n_estimators': 700, 'random_state': 42} at: http://127.0.0.1:8080/#/experiments/174820846745286408/runs/78dffd6c198b4b7fb76b5537e2c15486\n",
      "\n",
      "🧪 View experiment at: http://127.0.0.1:8080/#/experiments/174820846745286408  \n",
      "\n",
      "100%|██████████| 5/5 [01:43<00:00, 20.63s/trial, best loss: -0.633336868620779]\n",
      "🏃 View run xgb-sweep at: http://127.0.0.1:8080/#/experiments/174820846745286408/runs/6c819723b54e43458bc47a88f222c207\n",
      "🧪 View experiment at: http://127.0.0.1:8080/#/experiments/174820846745286408\n"
     ]
    },
    {
     "data": {
      "text/plain": [
       "0.633336868620779"
      ]
     },
     "execution_count": 60,
     "metadata": {},
     "output_type": "execute_result"
    }
   ],
   "source": [
    "model = RandomForestClassifier\n",
    "run_experiments('rf-sweep', max_evals=max_evals, search_space=search_space_rf, data_name=data_name, model_name = 'RandomForestClassifier', features_names=columns_to_keep)\n",
    "model = SVC\n",
    "run_experiments('svc-sweep', max_evals=max_evals, search_space=search_space_svc, data_name=data_name, model_name = 'SVC', features_names=columns_to_keep)\n",
    "model = LinearSVC\n",
    "run_experiments('svc-linear-sweep', max_evals=max_evals, search_space=search_space_svc_linear, data_name=data_name, model_name = 'LinearSVC', features_names=columns_to_keep)\n",
    "model = xgb.XGBClassifier\n",
    "run_experiments('xgb-sweep', max_evals=max_evals, search_space=search_space_xgb, data_name=data_name, model_name = 'XGBClassifier', features_names=columns_to_keep)"
   ]
  },
  {
   "cell_type": "markdown",
   "id": "adbd3157",
   "metadata": {},
   "source": [
    "## Real + CARLA (200%)"
   ]
  },
  {
   "cell_type": "markdown",
   "id": "9d450501",
   "metadata": {},
   "source": [
    "### Fixed"
   ]
  },
  {
   "cell_type": "code",
   "execution_count": null,
   "id": "71eb2ef5",
   "metadata": {},
   "outputs": [],
   "source": [
    "# Provide an Experiment description that will appear in the UI\n",
    "experiment_description = (\n",
    "    \"Experiment to train models on the UAH + CARLA Fixed (200%) dataset.\"\n",
    ")\n",
    "\n",
    "# Provide searchable tags that define characteristics of the Runs that\n",
    "# will be in this Experiment\n",
    "experiment_tags = {\n",
    "    \"project_name\": \"driver-behavior-prediction\",\n",
    "    \"mlflow.note.content\": experiment_description,\n",
    "}\n",
    "\n",
    "# Create the Experiment, providing a unique name\n",
    "try:\n",
    "    driver_behavior_experiment = client.create_experiment(\n",
    "        name=\"UAH_CARLA_Fixed_200\", tags=experiment_tags\n",
    "    )\n",
    "except mlflow.exceptions.RestException as e:\n",
    "    print(f\"Experiment already exists: {e}\")"
   ]
  },
  {
   "cell_type": "code",
   "execution_count": null,
   "id": "2b4d2757",
   "metadata": {},
   "outputs": [],
   "source": [
    "X_train, y_train = X_carla_uah_fixed_200, y_carla_uah_fixed_200\n",
    "\n",
    "scaler = StandardScaler()\n",
    "X_train = scaler.fit_transform(X_train)\n",
    "X_val = scaler.transform(X_val_base)\n",
    "y_train = preprocessor.one_hot_encode(y_train, one_hot_keys=one_hot_keys)\n",
    "\n",
    "signature = infer_signature(X_train, y_train)\n",
    "mlflow.set_experiment('UAH_CARLA_Fixed_200')\n",
    "data_name = 'UAH_CARLA_Fixed_200'"
   ]
  },
  {
   "cell_type": "code",
   "execution_count": 63,
   "id": "f6b7cfb0",
   "metadata": {},
   "outputs": [
    {
     "name": "stdout",
     "output_type": "stream",
     "text": [
      "This will run 5 trials to find optimal hyperparameters...\n",
      "Params: {'max_depth': 50, 'n_estimators': 500, 'random_state': 42}\n",
      "🏃 View run RandomForestClassifier_{'max_depth': 50, 'n_estimators': 500, 'random_state': 42} at: http://127.0.0.1:8080/#/experiments/813301024797058801/runs/75f84886f2e84d78b7a24dec59ad4cad\n",
      "\n",
      "🧪 View experiment at: http://127.0.0.1:8080/#/experiments/813301024797058801\n",
      "\n",
      "Params: {'max_depth': None, 'n_estimators': 20, 'random_state': 42}            \n",
      "🏃 View run RandomForestClassifier_{'max_depth': None, 'n_estimators': 20, 'random_state': 42} at: http://127.0.0.1:8080/#/experiments/813301024797058801/runs/d441b563138c45f88b2eb6e6e35cdda6\n",
      "\n",
      "🧪 View experiment at: http://127.0.0.1:8080/#/experiments/813301024797058801  \n",
      "\n",
      "Params: {'max_depth': None, 'n_estimators': 50, 'random_state': 42}             \n",
      "🏃 View run RandomForestClassifier_{'max_depth': None, 'n_estimators': 50, 'random_state': 42} at: http://127.0.0.1:8080/#/experiments/813301024797058801/runs/6643c7553a294fa389a384dc9c589b43\n",
      "\n",
      "🧪 View experiment at: http://127.0.0.1:8080/#/experiments/813301024797058801   \n",
      "\n",
      "Params: {'max_depth': 50, 'n_estimators': 500, 'random_state': 42}              \n",
      "🏃 View run RandomForestClassifier_{'max_depth': 50, 'n_estimators': 500, 'random_state': 42} at: http://127.0.0.1:8080/#/experiments/813301024797058801/runs/77400d745e1e458f9ef4ce1f94c67254\n",
      "\n",
      "🧪 View experiment at: http://127.0.0.1:8080/#/experiments/813301024797058801   \n",
      "\n",
      "Params: {'max_depth': 10, 'n_estimators': 50, 'random_state': 42}               \n",
      "🏃 View run RandomForestClassifier_{'max_depth': 10, 'n_estimators': 50, 'random_state': 42} at: http://127.0.0.1:8080/#/experiments/813301024797058801/runs/1e819012f2f64f9d8303ae61c2ddc5a4\n",
      "\n",
      "🧪 View experiment at: http://127.0.0.1:8080/#/experiments/813301024797058801   \n",
      "\n",
      "100%|██████████| 5/5 [02:53<00:00, 34.71s/trial, best loss: -0.5845850607428927]\n",
      "🏃 View run rf-sweep at: http://127.0.0.1:8080/#/experiments/813301024797058801/runs/552d4877791f421597a917f734f3a1d3\n",
      "🧪 View experiment at: http://127.0.0.1:8080/#/experiments/813301024797058801\n",
      "This will run 5 trials to find optimal hyperparameters...\n",
      "Params: {'C': 0.05, 'gamma': 0.001, 'kernel': 'rbf'} \n",
      "🏃 View run SVC_{'C': 0.05, 'gamma': 0.001, 'kernel': 'rbf'} at: http://127.0.0.1:8080/#/experiments/813301024797058801/runs/50cf7e7a7bd44691a84cd04fe1482fa5\n",
      "\n",
      "🧪 View experiment at: http://127.0.0.1:8080/#/experiments/813301024797058801\n",
      "\n",
      "Params: {'C': 0.1, 'gamma': 0.01, 'kernel': 'rbf'}                              \n",
      "🏃 View run SVC_{'C': 0.1, 'gamma': 0.01, 'kernel': 'rbf'} at: http://127.0.0.1:8080/#/experiments/813301024797058801/runs/5a2aa6aa20814c439a4664fb0914c298\n",
      "\n",
      "🧪 View experiment at: http://127.0.0.1:8080/#/experiments/813301024797058801   \n",
      "\n",
      "Params: {'C': 0.05, 'gamma': 1, 'kernel': 'rbf'}                                \n",
      " 40%|████      | 2/5 [01:20<02:00, 40.16s/trial, best loss: -0.5202081260565236]"
     ]
    },
    {
     "name": "stderr",
     "output_type": "stream",
     "text": [
      "/home/renan/miniconda3/lib/python3.12/site-packages/sklearn/metrics/_classification.py:1565: UndefinedMetricWarning: Precision is ill-defined and being set to 0.0 in labels with no predicted samples. Use `zero_division` parameter to control this behavior.\n",
      "  _warn_prf(average, modifier, f\"{metric.capitalize()} is\", len(result))\n",
      "\n"
     ]
    },
    {
     "name": "stdout",
     "output_type": "stream",
     "text": [
      "🏃 View run SVC_{'C': 0.05, 'gamma': 1, 'kernel': 'rbf'} at: http://127.0.0.1:8080/#/experiments/813301024797058801/runs/01d1221947cb4c48b825f0d9a071396d\n",
      "\n",
      "🧪 View experiment at: http://127.0.0.1:8080/#/experiments/813301024797058801   \n",
      "\n",
      "Params: {'C': 0.5, 'gamma': 0.01, 'kernel': 'rbf'}                              \n",
      "🏃 View run SVC_{'C': 0.5, 'gamma': 0.01, 'kernel': 'rbf'} at: http://127.0.0.1:8080/#/experiments/813301024797058801/runs/0dced9bbfc6b4182bfad8b7c9c8cbd6a\n",
      "\n",
      "🧪 View experiment at: http://127.0.0.1:8080/#/experiments/813301024797058801   \n",
      "\n",
      "Params: {'C': 1, 'gamma': 0.1, 'kernel': 'rbf'}                                 \n",
      "🏃 View run SVC_{'C': 1, 'gamma': 0.1, 'kernel': 'rbf'} at: http://127.0.0.1:8080/#/experiments/813301024797058801/runs/93d45bbb4474491f98be27f7f89be029\n",
      "\n",
      "🧪 View experiment at: http://127.0.0.1:8080/#/experiments/813301024797058801   \n",
      "\n",
      "100%|██████████| 5/5 [05:16<00:00, 63.37s/trial, best loss: -0.5980641760820076]\n",
      "🏃 View run svc-sweep at: http://127.0.0.1:8080/#/experiments/813301024797058801/runs/0d5bd9b0e2f54d58ace79bebf16de39d\n",
      "🧪 View experiment at: http://127.0.0.1:8080/#/experiments/813301024797058801\n",
      "This will run 5 trials to find optimal hyperparameters...\n",
      "Params: {'C': 0.01}                                  \n",
      "🏃 View run LinearSVC_{'C': 0.01} at: http://127.0.0.1:8080/#/experiments/813301024797058801/runs/adc27f39d92b44f091a00635b76bf740\n",
      "\n",
      "🧪 View experiment at: http://127.0.0.1:8080/#/experiments/813301024797058801\n",
      "\n",
      "Params: {'C': 0.1}                                                              \n",
      "🏃 View run LinearSVC_{'C': 0.1} at: http://127.0.0.1:8080/#/experiments/813301024797058801/runs/c9d0dbf2d0e741ca9e031c1bd59500c0\n",
      "\n",
      "🧪 View experiment at: http://127.0.0.1:8080/#/experiments/813301024797058801   \n",
      "\n",
      "Params: {'C': 0.1}                                                              \n",
      "🏃 View run LinearSVC_{'C': 0.1} at: http://127.0.0.1:8080/#/experiments/813301024797058801/runs/1decf55827a34fdf80fa1f6cd5eb8a5f\n",
      "\n",
      "🧪 View experiment at: http://127.0.0.1:8080/#/experiments/813301024797058801   \n",
      "\n",
      "Params: {'C': 0.001}                                                            \n",
      "🏃 View run LinearSVC_{'C': 0.001} at: http://127.0.0.1:8080/#/experiments/813301024797058801/runs/3c1578c48c994729ba092ccb482b34dc\n",
      "\n",
      "🧪 View experiment at: http://127.0.0.1:8080/#/experiments/813301024797058801   \n",
      "\n",
      "Params: {'C': 0.01}                                                             \n",
      "🏃 View run LinearSVC_{'C': 0.01} at: http://127.0.0.1:8080/#/experiments/813301024797058801/runs/fca6c4a1dd6d4cc58e09a55cd287b7fe\n",
      "\n",
      "🧪 View experiment at: http://127.0.0.1:8080/#/experiments/813301024797058801   \n",
      "\n",
      "100%|██████████| 5/5 [00:10<00:00,  2.18s/trial, best loss: -0.3486210212223004]\n",
      "🏃 View run svc-linear-sweep at: http://127.0.0.1:8080/#/experiments/813301024797058801/runs/33a7fbb2b7024eaaa6466018b0e74a5d\n",
      "🧪 View experiment at: http://127.0.0.1:8080/#/experiments/813301024797058801\n",
      "This will run 5 trials to find optimal hyperparameters...\n",
      "Params: {'learning_rate': 0.01, 'max_depth': None, 'n_estimators': 200, 'random_state': 42}\n",
      "🏃 View run XGBClassifier_{'learning_rate': 0.01, 'max_depth': None, 'n_estimators': 200, 'random_state': 42} at: http://127.0.0.1:8080/#/experiments/813301024797058801/runs/339862de84fa46f0bf3acb3103cb2b19\n",
      "\n",
      "🧪 View experiment at: http://127.0.0.1:8080/#/experiments/813301024797058801\n",
      "\n",
      "Params: {'learning_rate': 0.1, 'max_depth': 5, 'n_estimators': 500, 'random_state': 42}\n",
      "🏃 View run XGBClassifier_{'learning_rate': 0.1, 'max_depth': 5, 'n_estimators': 500, 'random_state': 42} at: http://127.0.0.1:8080/#/experiments/813301024797058801/runs/1a2a0d290f004fc4ba7193c87081ee82\n",
      "\n",
      "🧪 View experiment at: http://127.0.0.1:8080/#/experiments/813301024797058801   \n",
      "\n",
      "Params: {'learning_rate': 0.4, 'max_depth': 5, 'n_estimators': 700, 'random_state': 42}\n",
      "🏃 View run XGBClassifier_{'learning_rate': 0.4, 'max_depth': 5, 'n_estimators': 700, 'random_state': 42} at: http://127.0.0.1:8080/#/experiments/813301024797058801/runs/baba9c86a326401cb9fe3da8be415602\n",
      "\n",
      "🧪 View experiment at: http://127.0.0.1:8080/#/experiments/813301024797058801   \n",
      "\n",
      "Params: {'learning_rate': 0.001, 'max_depth': None, 'n_estimators': 200, 'random_state': 42}\n",
      " 60%|██████    | 3/5 [00:12<00:09,  4.64s/trial, best loss: -0.6271407585576513]"
     ]
    },
    {
     "name": "stderr",
     "output_type": "stream",
     "text": [
      "/home/renan/miniconda3/lib/python3.12/site-packages/sklearn/metrics/_classification.py:1565: UndefinedMetricWarning: Precision is ill-defined and being set to 0.0 in labels with no predicted samples. Use `zero_division` parameter to control this behavior.\n",
      "  _warn_prf(average, modifier, f\"{metric.capitalize()} is\", len(result))\n",
      "\n"
     ]
    },
    {
     "name": "stdout",
     "output_type": "stream",
     "text": [
      "🏃 View run XGBClassifier_{'learning_rate': 0.001, 'max_depth': None, 'n_estimators': 200, 'random_state': 42} at: http://127.0.0.1:8080/#/experiments/813301024797058801/runs/5e255fb83c9c40d48a19745ace363f58\n",
      "\n",
      "🧪 View experiment at: http://127.0.0.1:8080/#/experiments/813301024797058801   \n",
      "\n",
      "Params: {'learning_rate': 0.5, 'max_depth': 5, 'n_estimators': 500, 'random_state': 42}\n",
      "🏃 View run XGBClassifier_{'learning_rate': 0.5, 'max_depth': 5, 'n_estimators': 500, 'random_state': 42} at: http://127.0.0.1:8080/#/experiments/813301024797058801/runs/c9a7e9da82704807aecaafb977937e8b\n",
      "\n",
      "🧪 View experiment at: http://127.0.0.1:8080/#/experiments/813301024797058801   \n",
      "\n",
      "100%|██████████| 5/5 [00:20<00:00,  4.04s/trial, best loss: -0.6271407585576513]\n",
      "🏃 View run xgb-sweep at: http://127.0.0.1:8080/#/experiments/813301024797058801/runs/3f68eaf9ded4439d9bd663e616e0dbbe\n",
      "🧪 View experiment at: http://127.0.0.1:8080/#/experiments/813301024797058801\n"
     ]
    },
    {
     "data": {
      "text/plain": [
       "0.6271407585576513"
      ]
     },
     "execution_count": 63,
     "metadata": {},
     "output_type": "execute_result"
    }
   ],
   "source": [
    "model = RandomForestClassifier\n",
    "run_experiments('rf-sweep', max_evals=max_evals, search_space=search_space_rf, data_name=data_name, model_name = 'RandomForestClassifier', features_names=columns_to_keep)\n",
    "model = SVC\n",
    "run_experiments('svc-sweep', max_evals=max_evals, search_space=search_space_svc, data_name=data_name, model_name = 'SVC', features_names=columns_to_keep)\n",
    "model = LinearSVC\n",
    "run_experiments('svc-linear-sweep', max_evals=max_evals, search_space=search_space_svc_linear, data_name=data_name, model_name = 'LinearSVC', features_names=columns_to_keep)\n",
    "model = xgb.XGBClassifier\n",
    "run_experiments('xgb-sweep', max_evals=max_evals, search_space=search_space_xgb, data_name=data_name, model_name = 'XGBClassifier', features_names=columns_to_keep)"
   ]
  },
  {
   "cell_type": "markdown",
   "id": "953ef358",
   "metadata": {},
   "source": [
    "### LLM"
   ]
  },
  {
   "cell_type": "code",
   "execution_count": null,
   "id": "2d706fcb",
   "metadata": {},
   "outputs": [],
   "source": [
    "# Provide an Experiment description that will appear in the UI\n",
    "experiment_description = (\n",
    "    \"Experiment to train models on the UAH + CARLA LLM (200%) dataset.\"\n",
    ")\n",
    "\n",
    "# Provide searchable tags that define characteristics of the Runs that\n",
    "# will be in this Experiment\n",
    "experiment_tags = {\n",
    "    \"project_name\": \"driver-behavior-prediction\",\n",
    "    \"mlflow.note.content\": experiment_description,\n",
    "}\n",
    "\n",
    "# Create the Experiment, providing a unique name\n",
    "try:\n",
    "    driver_behavior_experiment = client.create_experiment(\n",
    "        name=\"UAH_CARLA_LLM_200\", tags=experiment_tags\n",
    "    )\n",
    "except mlflow.exceptions.RestException as e:\n",
    "    print(f\"Experiment already exists: {e}\")"
   ]
  },
  {
   "cell_type": "code",
   "execution_count": null,
   "id": "6ce88d00",
   "metadata": {},
   "outputs": [],
   "source": [
    "X_train, y_train = X_carla_uah_llm_200, y_carla_uah_llm_200\n",
    "\n",
    "scaler = StandardScaler()\n",
    "X_train = scaler.fit_transform(X_train)\n",
    "X_val = scaler.transform(X_val_base)\n",
    "y_train = preprocessor.one_hot_encode(y_train, one_hot_keys=one_hot_keys)\n",
    "\n",
    "signature = infer_signature(X_train, y_train)\n",
    "mlflow.set_experiment('UAH_CARLA_LLM_200')\n",
    "data_name = 'UAH_CARLA_LLM_200'"
   ]
  },
  {
   "cell_type": "code",
   "execution_count": null,
   "id": "16ef477c",
   "metadata": {},
   "outputs": [
    {
     "name": "stdout",
     "output_type": "stream",
     "text": [
      "This will run 5 trials to find optimal hyperparameters...\n",
      "Params: {'max_depth': None, 'n_estimators': 200, 'random_state': 42}\n",
      "🏃 View run RandomForestClassifier_{'max_depth': None, 'n_estimators': 200, 'random_state': 42} at: http://127.0.0.1:8080/#/experiments/702296139000575806/runs/24c80a0c3c4d48318bc08d541c00beac\n",
      "\n",
      "🧪 View experiment at: http://127.0.0.1:8080/#/experiments/702296139000575806\n",
      "\n",
      "Params: {'max_depth': 50, 'n_estimators': 500, 'random_state': 42}              \n",
      "🏃 View run RandomForestClassifier_{'max_depth': 50, 'n_estimators': 500, 'random_state': 42} at: http://127.0.0.1:8080/#/experiments/702296139000575806/runs/0206531025df4eae81ef85e017854088\n",
      "\n",
      "🧪 View experiment at: http://127.0.0.1:8080/#/experiments/702296139000575806   \n",
      "\n",
      "Params: {'max_depth': 5, 'n_estimators': 50, 'random_state': 42}                \n",
      "🏃 View run RandomForestClassifier_{'max_depth': 5, 'n_estimators': 50, 'random_state': 42} at: http://127.0.0.1:8080/#/experiments/702296139000575806/runs/d46f071f7f3b46e2856e3ed8b6a81613\n",
      "\n",
      "🧪 View experiment at: http://127.0.0.1:8080/#/experiments/702296139000575806  \n",
      "\n",
      "Params: {'max_depth': 20, 'n_estimators': 500, 'random_state': 42}             \n",
      "🏃 View run RandomForestClassifier_{'max_depth': 20, 'n_estimators': 500, 'random_state': 42} at: http://127.0.0.1:8080/#/experiments/702296139000575806/runs/ee60b574f1bd4684b8456db07708b4b6\n",
      "\n",
      "🧪 View experiment at: http://127.0.0.1:8080/#/experiments/702296139000575806  \n",
      "\n",
      "Params: {'max_depth': 10, 'n_estimators': 100, 'random_state': 42}              \n",
      "🏃 View run RandomForestClassifier_{'max_depth': 10, 'n_estimators': 100, 'random_state': 42} at: http://127.0.0.1:8080/#/experiments/702296139000575806/runs/4cc8157bd889421e94036d49d1c970ef\n",
      "\n",
      "🧪 View experiment at: http://127.0.0.1:8080/#/experiments/702296139000575806   \n",
      "\n",
      "100%|██████████| 5/5 [02:48<00:00, 33.66s/trial, best loss: -0.6081611271022402]\n",
      "🏃 View run rf-sweep at: http://127.0.0.1:8080/#/experiments/702296139000575806/runs/2789b946af94476eac81241aa27afdb5\n",
      "🧪 View experiment at: http://127.0.0.1:8080/#/experiments/702296139000575806\n",
      "This will run 5 trials to find optimal hyperparameters...\n",
      "Params: {'C': 0.05, 'gamma': 0.1, 'kernel': 'rbf'}   \n",
      "  0%|          | 0/5 [00:00<?, ?trial/s, best loss=?]"
     ]
    },
    {
     "name": "stderr",
     "output_type": "stream",
     "text": [
      "/home/renan/miniconda3/lib/python3.12/site-packages/sklearn/metrics/_classification.py:1565: UndefinedMetricWarning: Precision is ill-defined and being set to 0.0 in labels with no predicted samples. Use `zero_division` parameter to control this behavior.\n",
      "  _warn_prf(average, modifier, f\"{metric.capitalize()} is\", len(result))\n",
      "\n"
     ]
    },
    {
     "name": "stdout",
     "output_type": "stream",
     "text": [
      "🏃 View run SVC_{'C': 0.05, 'gamma': 0.1, 'kernel': 'rbf'} at: http://127.0.0.1:8080/#/experiments/702296139000575806/runs/4bdce57bac2b46bd9a01b9022f082e5c\n",
      "\n",
      "🧪 View experiment at: http://127.0.0.1:8080/#/experiments/702296139000575806\n",
      "\n",
      "Params: {'C': 0.1, 'gamma': 1, 'kernel': 'rbf'}                                 \n",
      " 20%|██        | 1/5 [00:37<02:29, 37.27s/trial, best loss: -0.3335592240143389]"
     ]
    },
    {
     "name": "stderr",
     "output_type": "stream",
     "text": [
      "/home/renan/miniconda3/lib/python3.12/site-packages/sklearn/metrics/_classification.py:1565: UndefinedMetricWarning: Precision is ill-defined and being set to 0.0 in labels with no predicted samples. Use `zero_division` parameter to control this behavior.\n",
      "  _warn_prf(average, modifier, f\"{metric.capitalize()} is\", len(result))\n",
      "\n"
     ]
    },
    {
     "name": "stdout",
     "output_type": "stream",
     "text": [
      "🏃 View run SVC_{'C': 0.1, 'gamma': 1, 'kernel': 'rbf'} at: http://127.0.0.1:8080/#/experiments/702296139000575806/runs/33a1bb8717cd43aab074798030f9d07c\n",
      "\n",
      "🧪 View experiment at: http://127.0.0.1:8080/#/experiments/702296139000575806   \n",
      "\n",
      "Params: {'C': 0.5, 'gamma': 0.1, 'kernel': 'rbf'}                               \n",
      "🏃 View run SVC_{'C': 0.5, 'gamma': 0.1, 'kernel': 'rbf'} at: http://127.0.0.1:8080/#/experiments/702296139000575806/runs/75621c188abe43638db17d9dbe540058\n",
      "\n",
      "🧪 View experiment at: http://127.0.0.1:8080/#/experiments/702296139000575806   \n",
      "\n",
      "Params: {'C': 0.01, 'gamma': 0.001, 'kernel': 'rbf'}                            \n",
      "🏃 View run SVC_{'C': 0.01, 'gamma': 0.001, 'kernel': 'rbf'} at: http://127.0.0.1:8080/#/experiments/702296139000575806/runs/24ba94cb8dc64bb1b3262536e176c05c\n",
      "\n",
      "🧪 View experiment at: http://127.0.0.1:8080/#/experiments/702296139000575806 \n",
      "\n",
      "Params: {'C': 0.05, 'gamma': 0.001, 'kernel': 'rbf'}                          \n",
      "🏃 View run SVC_{'C': 0.05, 'gamma': 0.001, 'kernel': 'rbf'} at: http://127.0.0.1:8080/#/experiments/702296139000575806/runs/d6a3ff89632e41d28d0783f14eb036d6\n",
      "\n",
      "🧪 View experiment at: http://127.0.0.1:8080/#/experiments/702296139000575806 \n",
      "\n",
      "100%|██████████| 5/5 [04:25<00:00, 53.19s/trial, best loss: -0.61287736879774]\n",
      "🏃 View run svc-sweep at: http://127.0.0.1:8080/#/experiments/702296139000575806/runs/d049189054bf4cb4b4c72b5ceb96ad51\n",
      "🧪 View experiment at: http://127.0.0.1:8080/#/experiments/702296139000575806\n",
      "This will run 5 trials to find optimal hyperparameters...\n",
      "Params: {'C': 0.1}                                   \n",
      "🏃 View run LinearSVC_{'C': 0.1} at: http://127.0.0.1:8080/#/experiments/702296139000575806/runs/a3f408af40bf443dba8a82603a96a6c2\n",
      "\n",
      "🧪 View experiment at: http://127.0.0.1:8080/#/experiments/702296139000575806\n",
      "\n",
      "Params: {'C': 0.001}                                                             \n",
      "🏃 View run LinearSVC_{'C': 0.001} at: http://127.0.0.1:8080/#/experiments/702296139000575806/runs/9167e82901ce4739a4d97dd95741cf94\n",
      "\n",
      "🧪 View experiment at: http://127.0.0.1:8080/#/experiments/702296139000575806    \n",
      "\n",
      "Params: {'C': 0.01}                                                              \n",
      "🏃 View run LinearSVC_{'C': 0.01} at: http://127.0.0.1:8080/#/experiments/702296139000575806/runs/8a472756e39949d28fb4496f8c2d3387\n",
      "\n",
      "🧪 View experiment at: http://127.0.0.1:8080/#/experiments/702296139000575806    \n",
      "\n",
      "Params: {'C': 0.01}                                                              \n",
      "🏃 View run LinearSVC_{'C': 0.01} at: http://127.0.0.1:8080/#/experiments/702296139000575806/runs/177a146ecb1f43d9921919daf7f1b3d0\n",
      "\n",
      "🧪 View experiment at: http://127.0.0.1:8080/#/experiments/702296139000575806   \n",
      "\n",
      "Params: {'C': 0.0001}                                                           \n",
      "🏃 View run LinearSVC_{'C': 0.0001} at: http://127.0.0.1:8080/#/experiments/702296139000575806/runs/927c51d3ddd8446285eff0bbac1ae445\n",
      "\n",
      "🧪 View experiment at: http://127.0.0.1:8080/#/experiments/702296139000575806   \n",
      "\n",
      "100%|██████████| 5/5 [00:10<00:00,  2.01s/trial, best loss: -0.36407850705163947]\n",
      "🏃 View run svc-linear-sweep at: http://127.0.0.1:8080/#/experiments/702296139000575806/runs/aa16a95d8b354fcb83b5187d3f36c4bc\n",
      "🧪 View experiment at: http://127.0.0.1:8080/#/experiments/702296139000575806\n",
      "This will run 5 trials to find optimal hyperparameters...\n",
      "Params: {'learning_rate': 0.3, 'max_depth': None, 'n_estimators': 500, 'random_state': 42}\n",
      "🏃 View run XGBClassifier_{'learning_rate': 0.3, 'max_depth': None, 'n_estimators': 500, 'random_state': 42} at: http://127.0.0.1:8080/#/experiments/702296139000575806/runs/d062d05b827e482088d1a47215b422b4\n",
      "\n",
      "🧪 View experiment at: http://127.0.0.1:8080/#/experiments/702296139000575806\n",
      "\n",
      "Params: {'learning_rate': 0.3, 'max_depth': 10, 'n_estimators': 700, 'random_state': 42}\n",
      "🏃 View run XGBClassifier_{'learning_rate': 0.3, 'max_depth': 10, 'n_estimators': 700, 'random_state': 42} at: http://127.0.0.1:8080/#/experiments/702296139000575806/runs/7de8bb6a60104b919d24a9d7cdd6eb81\n",
      "\n",
      "🧪 View experiment at: http://127.0.0.1:8080/#/experiments/702296139000575806  \n",
      "\n",
      "Params: {'learning_rate': 0.4, 'max_depth': None, 'n_estimators': 1000, 'random_state': 42}\n",
      "🏃 View run XGBClassifier_{'learning_rate': 0.4, 'max_depth': None, 'n_estimators': 1000, 'random_state': 42} at: http://127.0.0.1:8080/#/experiments/702296139000575806/runs/55584ac65f0c4f08a1218fd6a85acd73\n",
      "\n",
      "🧪 View experiment at: http://127.0.0.1:8080/#/experiments/702296139000575806  \n",
      "\n",
      "Params: {'learning_rate': 0.2, 'max_depth': 10, 'n_estimators': 700, 'random_state': 42}\n",
      "🏃 View run XGBClassifier_{'learning_rate': 0.2, 'max_depth': 10, 'n_estimators': 700, 'random_state': 42} at: http://127.0.0.1:8080/#/experiments/702296139000575806/runs/bc0cf08170224a8e99f9a0d401928701\n",
      "\n",
      "🧪 View experiment at: http://127.0.0.1:8080/#/experiments/702296139000575806   \n",
      "\n",
      "Params: {'learning_rate': 0.1, 'max_depth': None, 'n_estimators': 200, 'random_state': 42}\n",
      "🏃 View run XGBClassifier_{'learning_rate': 0.1, 'max_depth': None, 'n_estimators': 200, 'random_state': 42} at: http://127.0.0.1:8080/#/experiments/702296139000575806/runs/b75043f5e8d1402ba5ddba2923d3281b\n",
      "\n",
      "🧪 View experiment at: http://127.0.0.1:8080/#/experiments/702296139000575806   \n",
      "\n",
      "100%|██████████| 5/5 [00:39<00:00,  7.95s/trial, best loss: -0.6201520237843372]\n",
      "🏃 View run xgb-sweep at: http://127.0.0.1:8080/#/experiments/702296139000575806/runs/63554d0ab8f342178f028bca96f846e4\n",
      "🧪 View experiment at: http://127.0.0.1:8080/#/experiments/702296139000575806\n"
     ]
    },
    {
     "data": {
      "text/plain": [
       "0.6201520237843372"
      ]
     },
     "execution_count": 66,
     "metadata": {},
     "output_type": "execute_result"
    }
   ],
   "source": [
    "model = RandomForestClassifier\n",
    "run_experiments('rf-sweep', max_evals=max_evals, search_space=search_space_rf, data_name=data_name, model_name = 'RandomForestClassifier', features_names=columns_to_keep)\n",
    "model = SVC\n",
    "run_experiments('svc-sweep', max_evals=max_evals, search_space=search_space_svc, data_name=data_name, model_name = 'SVC', features_names=columns_to_keep)\n",
    "model = LinearSVC\n",
    "run_experiments('svc-linear-sweep', max_evals=max_evals, search_space=search_space_svc_linear, data_name=data_name, model_name = 'LinearSVC', features_names=columns_to_keep)\n",
    "model = xgb.XGBClassifier\n",
    "run_experiments('xgb-sweep', max_evals=max_evals, search_space=search_space_xgb, data_name=data_name, model_name = 'XGBClassifier', features_names=columns_to_keep)"
   ]
  }
 ],
 "metadata": {
  "kernelspec": {
   "display_name": "base",
   "language": "python",
   "name": "python3"
  },
  "language_info": {
   "codemirror_mode": {
    "name": "ipython",
    "version": 3
   },
   "file_extension": ".py",
   "mimetype": "text/x-python",
   "name": "python",
   "nbconvert_exporter": "python",
   "pygments_lexer": "ipython3",
   "version": "3.12.2"
  }
 },
 "nbformat": 4,
 "nbformat_minor": 5
}
