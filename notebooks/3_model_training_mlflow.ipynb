{
 "cells": [
  {
   "cell_type": "markdown",
   "id": "e1de239e",
   "metadata": {},
   "source": [
    "This notebook is used to organize the experiments. If you just want the best models found, you can refer to the `3_model_training` notebook."
   ]
  },
  {
   "cell_type": "code",
   "execution_count": 1,
   "id": "3e2af455",
   "metadata": {},
   "outputs": [],
   "source": [
    "import os\n",
    "\n",
    "import mlflow\n",
    "from sklearn.model_selection import train_test_split\n",
    "from mlflow.models import infer_signature\n",
    "from hyperopt import fmin, tpe, hp, STATUS_OK, Trials\n",
    "from sklearn.ensemble import RandomForestClassifier\n",
    "from sklearn.svm import SVC, LinearSVC\n",
    "from sklearn.metrics import f1_score, accuracy_score, recall_score, precision_score, log_loss\n",
    "import pandas as pd\n",
    "import numpy as np\n",
    "import xgboost as xgb\n",
    "from sklearn.preprocessing import StandardScaler\n",
    "from functools import partial\n",
    "\n",
    "os.sys.path.append(os.path.abspath('../src'))\n",
    "from data import loader\n",
    "from data import preprocessor\n",
    "\n",
    "mapname = 'Town01'"
   ]
  },
  {
   "cell_type": "code",
   "execution_count": 2,
   "id": "8dc66672",
   "metadata": {},
   "outputs": [],
   "source": [
    "def create_and_train_model(model, args):\n",
    "    \"\"\"\n",
    "    Function to create and train a model with given parameters.\n",
    "\n",
    "    Args:\n",
    "        model: The model to be trained.\n",
    "        args: Arguments for training the model.\n",
    "\n",
    "    Returns:\n",
    "        result: The result of the training process.\n",
    "    \"\"\"\n",
    "    result = {}\n",
    "    # Train model with current hyperparameters\n",
    "    print(f\"Params: {args}\")\n",
    "    md = model(**args)\n",
    "    md.fit(X_train, y_train)\n",
    "    # Predict on the validation set\n",
    "    y_pred = md.predict(X_val)\n",
    "    # Log training results\n",
    "    result[\"f1_score\"] = f1_score(y_val, y_pred, average='weighted')\n",
    "    result[\"accuracy\"] = accuracy_score(y_val, y_pred)\n",
    "    result[\"recall\"] = recall_score(y_val, y_pred, average='weighted')\n",
    "    result[\"precision\"] = precision_score(y_val, y_pred, average='weighted')\n",
    "    result[\"model\"] = md\n",
    "\n",
    "    return result"
   ]
  },
  {
   "cell_type": "code",
   "execution_count": 3,
   "id": "2cf70def",
   "metadata": {},
   "outputs": [],
   "source": [
    "def objective(params, model_name):\n",
    "    \"\"\"\n",
    "    Objective function for hyperparameter optimization.\n",
    "    This function will be called by Hyperopt for each trial.\n",
    "    \"\"\"\n",
    "    with mlflow.start_run(nested=True, run_name=f\"{model_name}_{params}\"):\n",
    "        # Log hyperparameters being tested\n",
    "        mlflow.log_params(params)\n",
    "\n",
    "        # Train model with current hyperparameters\n",
    "        result = create_and_train_model(\n",
    "            model,\n",
    "            args=params\n",
    "        )\n",
    "\n",
    "        # Log training results\n",
    "        mlflow.log_metrics(\n",
    "            {\n",
    "                \"accuracy\": result[\"accuracy\"],\n",
    "                \"recall\": result[\"recall\"],\n",
    "                \"precision\": result[\"precision\"],\n",
    "                \"f1_score\": result[\"f1_score\"],\n",
    "            }\n",
    "        )\n",
    "\n",
    "        # Log the trained model\n",
    "        mlflow.sklearn.log_model(\n",
    "            result[\"model\"], name=model_name, signature=signature)\n",
    "\n",
    "        # Return loss for Hyperopt (it minimizes)\n",
    "        return {\"loss\": -result[\"f1_score\"], \"status\": STATUS_OK, \"model\": f'{model_name}_{params}'}"
   ]
  },
  {
   "cell_type": "code",
   "execution_count": 4,
   "id": "1c8c77ae",
   "metadata": {},
   "outputs": [],
   "source": [
    "def run_experiments(run_name, max_evals, search_space, data_name, features_names, model_name):\n",
    "    # Create or set experiment\n",
    "\n",
    "    print(\n",
    "        f\"This will run {max_evals} trials to find optimal hyperparameters...\")\n",
    "\n",
    "    with mlflow.start_run(run_name=run_name):\n",
    "\n",
    "        mlflow.set_tag(\"model_type\", model_name)\n",
    "\n",
    "        # Log experiment metadata\n",
    "        mlflow.log_params(\n",
    "            {\n",
    "                \"optimization_method\": \"Tree-structured Parzen Estimator (TPE)\",\n",
    "                \"max_evaluations\": max_evals,\n",
    "                \"objective_metric\": \"log_loss\",\n",
    "                \"dataset\": data_name,\n",
    "                \"features\": features_names,\n",
    "            }\n",
    "        )\n",
    "\n",
    "        # Run optimization\n",
    "        trials = Trials()\n",
    "        objective_with_name = partial(objective, model_name=model_name)\n",
    "\n",
    "        best_params = fmin(\n",
    "            fn=objective_with_name,\n",
    "            space=search_space,\n",
    "            algo=tpe.suggest,\n",
    "            max_evals=max_evals,\n",
    "            trials=trials,\n",
    "            verbose=True,\n",
    "        )\n",
    "\n",
    "        # Find and log best results\n",
    "        best_trial = min(trials.results, key=lambda x: x[\"loss\"])\n",
    "        best_f1_score = -best_trial[\"loss\"]\n",
    "\n",
    "        # Log optimization results\n",
    "        mlflow.log_params(best_params)\n",
    "        mlflow.log_params({\"best_model\": best_trial[\"model\"]})\n",
    "        mlflow.log_metrics(\n",
    "            {\n",
    "                \"best_f1_score\": best_f1_score,\n",
    "                \"total_trials\": len(trials.trials),\n",
    "                \"optimization_completed\": 1,\n",
    "            }\n",
    "        )\n",
    "\n",
    "    return best_f1_score \n"
   ]
  },
  {
   "cell_type": "code",
   "execution_count": 5,
   "id": "cb3963a0",
   "metadata": {},
   "outputs": [],
   "source": [
    "client = mlflow.tracking.MlflowClient(\"http://127.0.0.1:8080\")\n",
    "mlflow.set_tracking_uri(\"http://127.0.0.1:8080\")"
   ]
  },
  {
   "cell_type": "markdown",
   "id": "d7abae7f",
   "metadata": {},
   "source": [
    "## Preparing the Data"
   ]
  },
  {
   "cell_type": "code",
   "execution_count": 6,
   "id": "3bb894a0",
   "metadata": {},
   "outputs": [],
   "source": [
    "data_path = '../data'\n",
    "uah_training = pd.read_csv(f'{data_path}/base/training_set_uah.csv')\n",
    "uah_validation = pd.read_csv(f'{data_path}/base/validation_set_uah.csv')\n",
    "\n",
    "carla_fixed = pd.read_csv(f'{data_path}/merged/{mapname}/carla/carla_fixed.csv').drop(columns=['origin'])\n",
    "carla_llm = pd.read_csv(f'{data_path}/merged/{mapname}/carla/carla_llm.csv').drop(columns=['origin'])\n",
    "\n",
    "sumo_fixed = pd.read_csv(f'{data_path}/merged/{mapname}/sumo/sumo_fixed.csv').drop(columns=['origin'])\n",
    "sumo_llm = pd.read_csv(f'{data_path}/merged/{mapname}/sumo/sumo_llm.csv').drop(columns=['origin'])\n",
    "\n",
    "carla_uah_fixed = pd.read_csv(f'{data_path}/merged/{mapname}/carla_uah/carla_uah_fixed.csv')\n",
    "carla_uah_llm = pd.read_csv(f'{data_path}/merged/{mapname}/carla_uah/carla_uah_llm.csv')\n",
    "\n",
    "sumo_uah_fixed = pd.read_csv(f'{data_path}/merged/{mapname}/sumo_uah/sumo_uah_fixed.csv')\n",
    "sumo_uah_llm = pd.read_csv(f'{data_path}/merged/{mapname}/sumo_uah/sumo_uah_llm.csv')"
   ]
  },
  {
   "cell_type": "markdown",
   "id": "1f77ad45",
   "metadata": {},
   "source": [
    "Applying sliding windows to UAH, SUMO and CARLA full data"
   ]
  },
  {
   "cell_type": "code",
   "execution_count": 7,
   "id": "9c64695a",
   "metadata": {},
   "outputs": [],
   "source": [
    "window_size = 10\n",
    "step_size = 5\n",
    "one_hot_keys = {\n",
    "    'normal': 0,\n",
    "    'aggressive': 1\n",
    "}"
   ]
  },
  {
   "cell_type": "markdown",
   "id": "b210c607",
   "metadata": {},
   "source": [
    "Defining the search space for each model"
   ]
  },
  {
   "cell_type": "code",
   "execution_count": 8,
   "id": "d88856f4",
   "metadata": {},
   "outputs": [],
   "source": [
    "max_evals = 5\n",
    "\n",
    "search_space_rf = {\n",
    "    \"n_estimators\": hp.choice(\"n_estimators\", [20, 50, 100, 200, 500]),\n",
    "    \"max_depth\": hp.choice(\"max_depth\", [None, 5, 10, 20, 50]),\n",
    "    \"random_state\": 42,\n",
    "}\n",
    "search_space_svc = {\n",
    "    \"C\": hp.choice(\"C\", [0.01, 0.05, 0.1, 0.5, 1]),  # Regularization parameter\n",
    "    \"kernel\": hp.choice(\"kernel\", [\"rbf\"]),  # Kernel type\n",
    "    \"gamma\": hp.choice(\"gamma\", [0.001, 0.01, 0.1, 1, 10]),  # Kernel coefficient for 'rbf', 'poly', and 'sigmoid'\n",
    "}\n",
    "search_space_svc_linear = {\n",
    "    \"C\": hp.choice(\"C\", [10**-4, 10**-3, 10**-2, 0.1, 1])  # Regularization parameter\n",
    "}\n",
    "search_space_xgb = {\n",
    "    \"n_estimators\": hp.choice(\"n_estimators\", [200, 500, 700, 1000]),\n",
    "    \"max_depth\": hp.choice(\"max_depth\", [None, 5, 10]),\n",
    "    \"learning_rate\": hp.choice(\"learning_rate\", [0.001, 0.01, 0.1, 0.2, 0.3, 0.4, 0.5]),  # Learning rate\n",
    "    # \"subsample\": hp.uniform(\"subsample\", 0.5, 1.0),\n",
    "    # \"colsample_bytree\": hp.uniform(\"colsample_bytree\", 0.5, 1.0),\n",
    "    \"random_state\": 42,\n",
    "}"
   ]
  },
  {
   "cell_type": "markdown",
   "id": "2f678a67",
   "metadata": {},
   "source": [
    "## Real Only"
   ]
  },
  {
   "cell_type": "code",
   "execution_count": 9,
   "id": "1730251d",
   "metadata": {},
   "outputs": [],
   "source": [
    "# Provide an Experiment description that will appear in the UI\n",
    "experiment_description = (\n",
    "    \"Experiment to train models on the UAH driveset.\"\n",
    ")\n",
    "\n",
    "# Provide searchable tags that define characteristics of the Runs that\n",
    "# will be in this Experiment\n",
    "experiment_tags = {\n",
    "    \"project_name\": \"driver-behavior-prediction\",\n",
    "    \"mlflow.note.content\": experiment_description,\n",
    "}\n",
    "\n",
    "# Create the Experiment, providing a unique name\n",
    "try:\n",
    "    driver_behavior_experiment = client.create_experiment(\n",
    "        name=\"Driver_Behavior_Models_UAH\", tags=experiment_tags\n",
    "    )\n",
    "except mlflow.exceptions.RestException as e:\n",
    "    print(f\"Experiment already exists: {e}\")"
   ]
  },
  {
   "cell_type": "code",
   "execution_count": 10,
   "id": "05595ec8",
   "metadata": {},
   "outputs": [],
   "source": [
    "columns_to_keep = ['acc_x', 'acc_y', 'acc_z', 'gyro_x', 'gyro_y', 'gyro_z', 'angle', 'speed', 'label']\n",
    "\n",
    "X_train, y_train = preprocessor.sliding_windows(uah_training[columns_to_keep], window_size=window_size, step_size=step_size)\n",
    "X_val, y_val = preprocessor.sliding_windows(uah_validation[columns_to_keep], window_size=window_size, step_size=step_size)\n",
    "\n",
    "scaler = StandardScaler()\n",
    "X_train = scaler.fit_transform(X_train)\n",
    "X_val = scaler.transform(X_val)\n",
    "\n",
    "y_train = preprocessor.one_hot_encode(y_train, one_hot_keys=one_hot_keys)\n",
    "y_val = preprocessor.one_hot_encode(y_val, one_hot_keys=one_hot_keys)\n",
    "\n",
    "signature = infer_signature(X_train, y_train)\n",
    "mlflow.set_experiment('Driver_Behavior_Models_UAH')\n",
    "data_name = 'UAH'"
   ]
  },
  {
   "cell_type": "code",
   "execution_count": null,
   "id": "fab04b02",
   "metadata": {},
   "outputs": [
    {
     "name": "stdout",
     "output_type": "stream",
     "text": [
      "This will run 5 trials to find optimal hyperparameters...\n",
      "Params: {'max_depth': 20, 'n_estimators': 200, 'random_state': 42}\n",
      "🏃 View run RandomForestClassifier_{'max_depth': 20, 'n_estimators': 200, 'random_state': 42} at: http://127.0.0.1:8080/#/experiments/680415510059672824/runs/b4545e6d62fb46ee9f6327196b0e46fd\n",
      "\n",
      "🧪 View experiment at: http://127.0.0.1:8080/#/experiments/680415510059672824\n",
      "\n",
      "Params: {'max_depth': 50, 'n_estimators': 20, 'random_state': 42}               \n",
      "🏃 View run RandomForestClassifier_{'max_depth': 50, 'n_estimators': 20, 'random_state': 42} at: http://127.0.0.1:8080/#/experiments/680415510059672824/runs/6b7d4a795d7b4e998301d39109dd01bc\n",
      "\n",
      "🧪 View experiment at: http://127.0.0.1:8080/#/experiments/680415510059672824   \n",
      "\n",
      "Params: {'max_depth': 10, 'n_estimators': 200, 'random_state': 42}              \n",
      "🏃 View run RandomForestClassifier_{'max_depth': 10, 'n_estimators': 200, 'random_state': 42} at: http://127.0.0.1:8080/#/experiments/680415510059672824/runs/cb94b8efb8bb4e7c9a40d551bb4f03e7\n",
      "\n",
      "🧪 View experiment at: http://127.0.0.1:8080/#/experiments/680415510059672824   \n",
      "\n",
      "Params: {'max_depth': None, 'n_estimators': 100, 'random_state': 42}            \n",
      "🏃 View run RandomForestClassifier_{'max_depth': None, 'n_estimators': 100, 'random_state': 42} at: http://127.0.0.1:8080/#/experiments/680415510059672824/runs/569761a45e884a5e8309357074593c82\n",
      "\n",
      "🧪 View experiment at: http://127.0.0.1:8080/#/experiments/680415510059672824   \n",
      "\n",
      "Params: {'max_depth': None, 'n_estimators': 500, 'random_state': 42}            \n",
      "🏃 View run RandomForestClassifier_{'max_depth': None, 'n_estimators': 500, 'random_state': 42} at: http://127.0.0.1:8080/#/experiments/680415510059672824/runs/7110b8ff9fdc476fbe3a2dbfbaf01b9d\n",
      "\n",
      "🧪 View experiment at: http://127.0.0.1:8080/#/experiments/680415510059672824   \n",
      "\n",
      "100%|██████████| 5/5 [01:56<00:00, 23.37s/trial, best loss: -0.7193917143316215]\n",
      "🏃 View run rf-sweep at: http://127.0.0.1:8080/#/experiments/680415510059672824/runs/41b43eb425a642718d043e0959c23abe\n",
      "🧪 View experiment at: http://127.0.0.1:8080/#/experiments/680415510059672824\n",
      "This will run 5 trials to find optimal hyperparameters...\n",
      "Params: {'C': 0.05, 'gamma': 0.1, 'kernel': 'rbf'}   \n",
      "🏃 View run SVC_{'C': 0.05, 'gamma': 0.1, 'kernel': 'rbf'} at: http://127.0.0.1:8080/#/experiments/680415510059672824/runs/9f81bafbe15f4defbfa9915a10ea9de2\n",
      "\n",
      "🧪 View experiment at: http://127.0.0.1:8080/#/experiments/680415510059672824\n",
      "\n",
      "Params: {'C': 0.01, 'gamma': 0.01, 'kernel': 'rbf'}                             \n",
      "🏃 View run SVC_{'C': 0.01, 'gamma': 0.01, 'kernel': 'rbf'} at: http://127.0.0.1:8080/#/experiments/680415510059672824/runs/c05472d9149d4ac280d3097b5b43775a\n",
      "\n",
      "🧪 View experiment at: http://127.0.0.1:8080/#/experiments/680415510059672824   \n",
      "\n",
      "Params: {'C': 0.01, 'gamma': 10, 'kernel': 'rbf'}                               \n",
      " 40%|████      | 2/5 [01:13<01:49, 36.60s/trial, best loss: -0.750378634529194]"
     ]
    },
    {
     "name": "stderr",
     "output_type": "stream",
     "text": [
      "/home/renan/miniconda3/lib/python3.12/site-packages/sklearn/metrics/_classification.py:1565: UndefinedMetricWarning: Precision is ill-defined and being set to 0.0 in labels with no predicted samples. Use `zero_division` parameter to control this behavior.\n",
      "  _warn_prf(average, modifier, f\"{metric.capitalize()} is\", len(result))\n",
      "\n"
     ]
    },
    {
     "name": "stdout",
     "output_type": "stream",
     "text": [
      "🏃 View run SVC_{'C': 0.01, 'gamma': 10, 'kernel': 'rbf'} at: http://127.0.0.1:8080/#/experiments/680415510059672824/runs/3547e21a18804c97a66c4ecb8742fb8a\n",
      "\n",
      "🧪 View experiment at: http://127.0.0.1:8080/#/experiments/680415510059672824  \n",
      "\n",
      "Params: {'C': 0.1, 'gamma': 1, 'kernel': 'rbf'}                                \n",
      " 60%|██████    | 3/5 [02:52<02:10, 65.14s/trial, best loss: -0.750378634529194]"
     ]
    }
   ],
   "source": [
    "model = RandomForestClassifier\n",
    "run_experiments('rf-sweep', max_evals=max_evals, search_space=search_space_rf, data_name=data_name, model_name = 'RandomForestClassifier', features_names=columns_to_keep)\n",
    "model = SVC\n",
    "run_experiments('svc-sweep', max_evals=max_evals, search_space=search_space_svc, data_name=data_name, model_name = 'SVC', features_names=columns_to_keep)\n",
    "model = LinearSVC\n",
    "run_experiments('svc-linear-sweep', max_evals=max_evals, search_space=search_space_svc_linear, data_name=data_name, model_name = 'LinearSVC', features_names=columns_to_keep)\n",
    "model = xgb.XGBClassifier\n",
    "run_experiments('xgb-sweep', max_evals=max_evals, search_space=search_space_xgb, data_name=data_name, model_name = 'XGBClassifier', features_names=columns_to_keep)"
   ]
  },
  {
   "cell_type": "markdown",
   "id": "05f0c899",
   "metadata": {},
   "source": [
    "## SUMO Only"
   ]
  },
  {
   "cell_type": "code",
   "execution_count": null,
   "id": "4b0bd8d1",
   "metadata": {},
   "outputs": [],
   "source": [
    "# SUMO\n",
    "X_sumo_fixed, y_sumo_fixed = preprocessor.sliding_windows(sumo_fixed, window_size=window_size, step_size=step_size)\n",
    "X_sumo_llm, y_sumo_llm = preprocessor.sliding_windows(sumo_llm, window_size=window_size, step_size=step_size)"
   ]
  },
  {
   "cell_type": "code",
   "execution_count": null,
   "id": "98105bf0",
   "metadata": {},
   "outputs": [
    {
     "name": "stdout",
     "output_type": "stream",
     "text": [
      "Columns to keep for validation: ['acc', 'angle', 'speed', 'gyro_z', 'label']\n"
     ]
    }
   ],
   "source": [
    "# Getting the validation for SUMO variables\n",
    "columns_to_keep = sumo_fixed.columns.tolist()\n",
    "print(\"Columns to keep for validation:\", columns_to_keep)\n",
    "\n",
    "X_val_base, y_val = preprocessor.sliding_windows(uah_validation[columns_to_keep], window_size=window_size, step_size=step_size)\n",
    "y_val = preprocessor.one_hot_encode(y_val, one_hot_keys=one_hot_keys)"
   ]
  },
  {
   "cell_type": "markdown",
   "id": "69e823c8",
   "metadata": {},
   "source": [
    "### Fixed"
   ]
  },
  {
   "cell_type": "code",
   "execution_count": null,
   "id": "da934d9c",
   "metadata": {},
   "outputs": [],
   "source": [
    "# Provide an Experiment description that will appear in the UI\n",
    "experiment_description = (\n",
    "    \"Experiment to train models on the SUMO Fixed dataset.\"\n",
    ")\n",
    "\n",
    "# Provide searchable tags that define characteristics of the Runs that\n",
    "# will be in this Experiment\n",
    "experiment_tags = {\n",
    "    \"project_name\": \"driver-behavior-prediction\",\n",
    "    \"mlflow.note.content\": experiment_description,\n",
    "}\n",
    "\n",
    "# Create the Experiment, providing a unique name\n",
    "try:\n",
    "    driver_behavior_experiment = client.create_experiment(\n",
    "        name=\"Driver_Behavior_Models_SUMO_Fixed\", tags=experiment_tags\n",
    "    )\n",
    "except mlflow.exceptions.RestException as e:\n",
    "    print(f\"Experiment already exists: {e}\")"
   ]
  },
  {
   "cell_type": "code",
   "execution_count": null,
   "id": "0f7026fd",
   "metadata": {},
   "outputs": [],
   "source": [
    "X_train, y_train = X_sumo_fixed, y_sumo_fixed\n",
    "\n",
    "scaler = StandardScaler()\n",
    "X_train = scaler.fit_transform(X_train)\n",
    "X_val = scaler.transform(X_val_base)\n",
    "y_train = preprocessor.one_hot_encode(y_train, one_hot_keys=one_hot_keys)\n",
    "\n",
    "signature = infer_signature(X_train, y_train)\n",
    "mlflow.set_experiment('Driver_Behavior_Models_SUMO_Fixed')\n",
    "data_name = 'SUMO_Fixed'"
   ]
  },
  {
   "cell_type": "code",
   "execution_count": null,
   "id": "7080e63a",
   "metadata": {},
   "outputs": [
    {
     "name": "stdout",
     "output_type": "stream",
     "text": [
      "This will run 5 trials to find optimal hyperparameters...\n",
      "Params: {'max_depth': 5, 'n_estimators': 50, 'random_state': 42}\n",
      "  0%|          | 0/5 [00:00<?, ?trial/s, best loss=?]"
     ]
    },
    {
     "name": "stderr",
     "output_type": "stream",
     "text": [
      "/home/renan/miniconda3/lib/python3.12/site-packages/sklearn/metrics/_classification.py:1565: UndefinedMetricWarning: Precision is ill-defined and being set to 0.0 in labels with no predicted samples. Use `zero_division` parameter to control this behavior.\n",
      "  _warn_prf(average, modifier, f\"{metric.capitalize()} is\", len(result))\n",
      "\n"
     ]
    },
    {
     "name": "stdout",
     "output_type": "stream",
     "text": [
      "🏃 View run RandomForestClassifier_{'max_depth': 5, 'n_estimators': 50, 'random_state': 42} at: http://127.0.0.1:8080/#/experiments/713908740940849589/runs/d0f23778a31f4c1d803867a4a88bd64a\n",
      "\n",
      "🧪 View experiment at: http://127.0.0.1:8080/#/experiments/713908740940849589\n",
      "\n",
      "Params: {'max_depth': 5, 'n_estimators': 100, 'random_state': 42}                \n",
      " 20%|██        | 1/5 [00:03<00:14,  3.74s/trial, best loss: -0.33310749162724596]"
     ]
    },
    {
     "name": "stderr",
     "output_type": "stream",
     "text": [
      "/home/renan/miniconda3/lib/python3.12/site-packages/sklearn/metrics/_classification.py:1565: UndefinedMetricWarning: Precision is ill-defined and being set to 0.0 in labels with no predicted samples. Use `zero_division` parameter to control this behavior.\n",
      "  _warn_prf(average, modifier, f\"{metric.capitalize()} is\", len(result))\n",
      "\n"
     ]
    },
    {
     "name": "stdout",
     "output_type": "stream",
     "text": [
      "🏃 View run RandomForestClassifier_{'max_depth': 5, 'n_estimators': 100, 'random_state': 42} at: http://127.0.0.1:8080/#/experiments/713908740940849589/runs/aff187b36d6744a1bb3bc9f0e9b8921f\n",
      "\n",
      "🧪 View experiment at: http://127.0.0.1:8080/#/experiments/713908740940849589    \n",
      "\n",
      "Params: {'max_depth': 5, 'n_estimators': 500, 'random_state': 42}                \n",
      "🏃 View run RandomForestClassifier_{'max_depth': 5, 'n_estimators': 500, 'random_state': 42} at: http://127.0.0.1:8080/#/experiments/713908740940849589/runs/48f3444a62ee445ea3dae162e280fa09\n",
      "\n",
      "🧪 View experiment at: http://127.0.0.1:8080/#/experiments/713908740940849589    \n",
      "\n",
      "Params: {'max_depth': 50, 'n_estimators': 50, 'random_state': 42}                \n",
      " 60%|██████    | 3/5 [00:33<00:26, 13.48s/trial, best loss: -0.3334085595387637]"
     ]
    },
    {
     "name": "stderr",
     "output_type": "stream",
     "text": [
      "/home/renan/miniconda3/lib/python3.12/site-packages/sklearn/metrics/_classification.py:1565: UndefinedMetricWarning: Precision is ill-defined and being set to 0.0 in labels with no predicted samples. Use `zero_division` parameter to control this behavior.\n",
      "  _warn_prf(average, modifier, f\"{metric.capitalize()} is\", len(result))\n",
      "\n"
     ]
    },
    {
     "name": "stdout",
     "output_type": "stream",
     "text": [
      "🏃 View run RandomForestClassifier_{'max_depth': 50, 'n_estimators': 50, 'random_state': 42} at: http://127.0.0.1:8080/#/experiments/713908740940849589/runs/fbf155e119bb451b8c29549f6339dcdd\n",
      "\n",
      "🧪 View experiment at: http://127.0.0.1:8080/#/experiments/713908740940849589   \n",
      "\n",
      "Params: {'max_depth': 5, 'n_estimators': 500, 'random_state': 42}               \n",
      "🏃 View run RandomForestClassifier_{'max_depth': 5, 'n_estimators': 500, 'random_state': 42} at: http://127.0.0.1:8080/#/experiments/713908740940849589/runs/8877be27fde040539a515b1116b4be97\n",
      "\n",
      "🧪 View experiment at: http://127.0.0.1:8080/#/experiments/713908740940849589   \n",
      "\n",
      "100%|██████████| 5/5 [01:05<00:00, 13.16s/trial, best loss: -0.3334085595387637]\n",
      "🏃 View run rf-sweep at: http://127.0.0.1:8080/#/experiments/713908740940849589/runs/40f5f5abf89d4b9da16e76e53ef29f24\n",
      "🧪 View experiment at: http://127.0.0.1:8080/#/experiments/713908740940849589\n",
      "This will run 5 trials to find optimal hyperparameters...\n",
      "Params: {'C': 0.01, 'gamma': 0.1, 'kernel': 'rbf'}   \n",
      "  0%|          | 0/5 [00:00<?, ?trial/s, best loss=?]"
     ]
    },
    {
     "name": "stderr",
     "output_type": "stream",
     "text": [
      "/home/renan/miniconda3/lib/python3.12/site-packages/sklearn/metrics/_classification.py:1565: UndefinedMetricWarning: Precision is ill-defined and being set to 0.0 in labels with no predicted samples. Use `zero_division` parameter to control this behavior.\n",
      "  _warn_prf(average, modifier, f\"{metric.capitalize()} is\", len(result))\n",
      "\n"
     ]
    },
    {
     "name": "stdout",
     "output_type": "stream",
     "text": [
      "🏃 View run SVC_{'C': 0.01, 'gamma': 0.1, 'kernel': 'rbf'} at: http://127.0.0.1:8080/#/experiments/713908740940849589/runs/f968b4ec201a4c64a6da6a240416c9f5\n",
      "\n",
      "🧪 View experiment at: http://127.0.0.1:8080/#/experiments/713908740940849589\n",
      "\n",
      "Params: {'C': 0.01, 'gamma': 1, 'kernel': 'rbf'}                                 \n",
      " 20%|██        | 1/5 [01:06<04:26, 66.51s/trial, best loss: -0.33310749162724596]"
     ]
    },
    {
     "name": "stderr",
     "output_type": "stream",
     "text": [
      "/home/renan/miniconda3/lib/python3.12/site-packages/sklearn/metrics/_classification.py:1565: UndefinedMetricWarning: Precision is ill-defined and being set to 0.0 in labels with no predicted samples. Use `zero_division` parameter to control this behavior.\n",
      "  _warn_prf(average, modifier, f\"{metric.capitalize()} is\", len(result))\n",
      "\n"
     ]
    },
    {
     "name": "stdout",
     "output_type": "stream",
     "text": [
      "🏃 View run SVC_{'C': 0.01, 'gamma': 1, 'kernel': 'rbf'} at: http://127.0.0.1:8080/#/experiments/713908740940849589/runs/acd04320a4df4d9d9c344233b9d3d9a0\n",
      "\n",
      "🧪 View experiment at: http://127.0.0.1:8080/#/experiments/713908740940849589    \n",
      "\n",
      "Params: {'C': 0.5, 'gamma': 0.1, 'kernel': 'rbf'}                                \n",
      " 40%|████      | 2/5 [02:13<03:20, 66.88s/trial, best loss: -0.33310749162724596]"
     ]
    },
    {
     "name": "stderr",
     "output_type": "stream",
     "text": [
      "/home/renan/miniconda3/lib/python3.12/site-packages/sklearn/metrics/_classification.py:1565: UndefinedMetricWarning: Precision is ill-defined and being set to 0.0 in labels with no predicted samples. Use `zero_division` parameter to control this behavior.\n",
      "  _warn_prf(average, modifier, f\"{metric.capitalize()} is\", len(result))\n",
      "\n"
     ]
    },
    {
     "name": "stdout",
     "output_type": "stream",
     "text": [
      "🏃 View run SVC_{'C': 0.5, 'gamma': 0.1, 'kernel': 'rbf'} at: http://127.0.0.1:8080/#/experiments/713908740940849589/runs/3fb95802e08e471cb474ee086781df35\n",
      "\n",
      "🧪 View experiment at: http://127.0.0.1:8080/#/experiments/713908740940849589    \n",
      "\n",
      "Params: {'C': 0.01, 'gamma': 0.1, 'kernel': 'rbf'}                               \n",
      " 60%|██████    | 3/5 [03:11<02:05, 62.64s/trial, best loss: -0.33310749162724596]"
     ]
    },
    {
     "name": "stderr",
     "output_type": "stream",
     "text": [
      "/home/renan/miniconda3/lib/python3.12/site-packages/sklearn/metrics/_classification.py:1565: UndefinedMetricWarning: Precision is ill-defined and being set to 0.0 in labels with no predicted samples. Use `zero_division` parameter to control this behavior.\n",
      "  _warn_prf(average, modifier, f\"{metric.capitalize()} is\", len(result))\n",
      "\n"
     ]
    },
    {
     "name": "stdout",
     "output_type": "stream",
     "text": [
      "🏃 View run SVC_{'C': 0.01, 'gamma': 0.1, 'kernel': 'rbf'} at: http://127.0.0.1:8080/#/experiments/713908740940849589/runs/c7043023bb734e45b4af112fa9ac5694\n",
      "\n",
      "🧪 View experiment at: http://127.0.0.1:8080/#/experiments/713908740940849589    \n",
      "\n",
      "Params: {'C': 0.1, 'gamma': 10, 'kernel': 'rbf'}                                 \n",
      " 80%|████████  | 4/5 [04:17<01:03, 63.97s/trial, best loss: -0.33310749162724596]"
     ]
    },
    {
     "name": "stderr",
     "output_type": "stream",
     "text": [
      "/home/renan/miniconda3/lib/python3.12/site-packages/sklearn/metrics/_classification.py:1565: UndefinedMetricWarning: Precision is ill-defined and being set to 0.0 in labels with no predicted samples. Use `zero_division` parameter to control this behavior.\n",
      "  _warn_prf(average, modifier, f\"{metric.capitalize()} is\", len(result))\n",
      "\n"
     ]
    },
    {
     "name": "stdout",
     "output_type": "stream",
     "text": [
      "🏃 View run SVC_{'C': 0.1, 'gamma': 10, 'kernel': 'rbf'} at: http://127.0.0.1:8080/#/experiments/713908740940849589/runs/320940916b9845718564d31105278b0c\n",
      "\n",
      "🧪 View experiment at: http://127.0.0.1:8080/#/experiments/713908740940849589    \n",
      "\n",
      "100%|██████████| 5/5 [05:32<00:00, 66.44s/trial, best loss: -0.33310749162724596]\n",
      "🏃 View run svc-sweep at: http://127.0.0.1:8080/#/experiments/713908740940849589/runs/0d4bf3e613144ed4be37bca695429a55\n",
      "🧪 View experiment at: http://127.0.0.1:8080/#/experiments/713908740940849589\n",
      "This will run 5 trials to find optimal hyperparameters...\n",
      "Params: {'C': 0.01}                                  \n",
      "🏃 View run LinearSVC_{'C': 0.01} at: http://127.0.0.1:8080/#/experiments/713908740940849589/runs/2d38b47281cd47d786d0c45fa449d0f1\n",
      "\n",
      "🧪 View experiment at: http://127.0.0.1:8080/#/experiments/713908740940849589\n",
      "\n",
      "Params: {'C': 0.1}                                                               \n",
      "🏃 View run LinearSVC_{'C': 0.1} at: http://127.0.0.1:8080/#/experiments/713908740940849589/runs/566d614008a54867b37a83b90b079625\n",
      "\n",
      "🧪 View experiment at: http://127.0.0.1:8080/#/experiments/713908740940849589    \n",
      "\n",
      "Params: {'C': 0.001}                                                             \n",
      "🏃 View run LinearSVC_{'C': 0.001} at: http://127.0.0.1:8080/#/experiments/713908740940849589/runs/7d89a163a9a64fb4ba9ed0bc8b570ff9\n",
      "\n",
      "🧪 View experiment at: http://127.0.0.1:8080/#/experiments/713908740940849589   \n",
      "\n",
      "Params: {'C': 0.001}                                                            \n",
      "🏃 View run LinearSVC_{'C': 0.001} at: http://127.0.0.1:8080/#/experiments/713908740940849589/runs/3a50e1ca156548dc981011f57429f703\n",
      "\n",
      "🧪 View experiment at: http://127.0.0.1:8080/#/experiments/713908740940849589   \n",
      "\n",
      "Params: {'C': 0.0001}                                                           \n",
      "🏃 View run LinearSVC_{'C': 0.0001} at: http://127.0.0.1:8080/#/experiments/713908740940849589/runs/04f60ba99ddb44f8ac9516e643148ebe\n",
      "\n",
      "🧪 View experiment at: http://127.0.0.1:8080/#/experiments/713908740940849589   \n",
      "\n",
      "100%|██████████| 5/5 [00:08<00:00,  1.67s/trial, best loss: -0.3381558548148212]\n",
      "🏃 View run svc-linear-sweep at: http://127.0.0.1:8080/#/experiments/713908740940849589/runs/8c204c0e88c14458a12b93c59f2e3663\n",
      "🧪 View experiment at: http://127.0.0.1:8080/#/experiments/713908740940849589\n",
      "This will run 5 trials to find optimal hyperparameters...\n",
      "Params: {'learning_rate': 0.001, 'max_depth': None, 'n_estimators': 1000, 'random_state': 42}\n",
      "🏃 View run XGBClassifier_{'learning_rate': 0.001, 'max_depth': None, 'n_estimators': 1000, 'random_state': 42} at: http://127.0.0.1:8080/#/experiments/713908740940849589/runs/7d3e3464d3ed454abfba83476c435ef7\n",
      "\n",
      "🧪 View experiment at: http://127.0.0.1:8080/#/experiments/713908740940849589\n",
      "\n",
      "Params: {'learning_rate': 0.2, 'max_depth': 10, 'n_estimators': 1000, 'random_state': 42}\n",
      "🏃 View run XGBClassifier_{'learning_rate': 0.2, 'max_depth': 10, 'n_estimators': 1000, 'random_state': 42} at: http://127.0.0.1:8080/#/experiments/713908740940849589/runs/442d9752fbb547e5b33db1b56b9fa449\n",
      "\n",
      "🧪 View experiment at: http://127.0.0.1:8080/#/experiments/713908740940849589   \n",
      "\n",
      "Params: {'learning_rate': 0.2, 'max_depth': 10, 'n_estimators': 1000, 'random_state': 42}\n",
      "🏃 View run XGBClassifier_{'learning_rate': 0.2, 'max_depth': 10, 'n_estimators': 1000, 'random_state': 42} at: http://127.0.0.1:8080/#/experiments/713908740940849589/runs/204b3db6a6e44ecc8ccfad288f610f45\n",
      "\n",
      "🧪 View experiment at: http://127.0.0.1:8080/#/experiments/713908740940849589    \n",
      "\n",
      "Params: {'learning_rate': 0.5, 'max_depth': 10, 'n_estimators': 200, 'random_state': 42}\n",
      "🏃 View run XGBClassifier_{'learning_rate': 0.5, 'max_depth': 10, 'n_estimators': 200, 'random_state': 42} at: http://127.0.0.1:8080/#/experiments/713908740940849589/runs/6dacb8eaaac04f7bacaa0fe97b3d03a4\n",
      "\n",
      "🧪 View experiment at: http://127.0.0.1:8080/#/experiments/713908740940849589    \n",
      "\n",
      "Params: {'learning_rate': 0.001, 'max_depth': 5, 'n_estimators': 700, 'random_state': 42}\n",
      " 80%|████████  | 4/5 [00:21<00:04,  4.98s/trial, best loss: -0.33701038711508563]"
     ]
    },
    {
     "name": "stderr",
     "output_type": "stream",
     "text": [
      "/home/renan/miniconda3/lib/python3.12/site-packages/sklearn/metrics/_classification.py:1565: UndefinedMetricWarning: Precision is ill-defined and being set to 0.0 in labels with no predicted samples. Use `zero_division` parameter to control this behavior.\n",
      "  _warn_prf(average, modifier, f\"{metric.capitalize()} is\", len(result))\n",
      "\n"
     ]
    },
    {
     "name": "stdout",
     "output_type": "stream",
     "text": [
      "🏃 View run XGBClassifier_{'learning_rate': 0.001, 'max_depth': 5, 'n_estimators': 700, 'random_state': 42} at: http://127.0.0.1:8080/#/experiments/713908740940849589/runs/a8bf9427c97e4e2b88be8e73f3cdd613\n",
      "\n",
      "🧪 View experiment at: http://127.0.0.1:8080/#/experiments/713908740940849589    \n",
      "\n",
      "100%|██████████| 5/5 [00:24<00:00,  4.84s/trial, best loss: -0.33701038711508563]\n",
      "🏃 View run xgb-sweep at: http://127.0.0.1:8080/#/experiments/713908740940849589/runs/865099d4630a45998f63eeadc945dc98\n",
      "🧪 View experiment at: http://127.0.0.1:8080/#/experiments/713908740940849589\n"
     ]
    },
    {
     "data": {
      "text/plain": [
       "0.33701038711508563"
      ]
     },
     "execution_count": 90,
     "metadata": {},
     "output_type": "execute_result"
    }
   ],
   "source": [
    "model = RandomForestClassifier\n",
    "run_experiments('rf-sweep', max_evals=max_evals, search_space=search_space_rf, data_name=data_name, model_name = 'RandomForestClassifier', features_names=columns_to_keep)\n",
    "model = SVC\n",
    "run_experiments('svc-sweep', max_evals=max_evals, search_space=search_space_svc, data_name=data_name, model_name = 'SVC', features_names=columns_to_keep)\n",
    "model = LinearSVC\n",
    "run_experiments('svc-linear-sweep', max_evals=max_evals, search_space=search_space_svc_linear, data_name=data_name, model_name = 'LinearSVC', features_names=columns_to_keep)\n",
    "model = xgb.XGBClassifier\n",
    "run_experiments('xgb-sweep', max_evals=max_evals, search_space=search_space_xgb, data_name=data_name, model_name = 'XGBClassifier', features_names=columns_to_keep)"
   ]
  },
  {
   "cell_type": "markdown",
   "id": "65285841",
   "metadata": {},
   "source": [
    "### LLM"
   ]
  },
  {
   "cell_type": "code",
   "execution_count": null,
   "id": "567d9f58",
   "metadata": {},
   "outputs": [],
   "source": [
    "# Provide an Experiment description that will appear in the UI\n",
    "experiment_description = (\n",
    "    \"Experiment to train models on the SUMO LLM dataset.\"\n",
    ")\n",
    "\n",
    "# Provide searchable tags that define characteristics of the Runs that\n",
    "# will be in this Experiment\n",
    "experiment_tags = {\n",
    "    \"project_name\": \"driver-behavior-prediction\",\n",
    "    \"mlflow.note.content\": experiment_description,\n",
    "}\n",
    "\n",
    "# Create the Experiment, providing a unique name\n",
    "try:\n",
    "    driver_behavior_experiment = client.create_experiment(\n",
    "        name=\"Driver_Behavior_Models_SUMO_LLM\", tags=experiment_tags\n",
    "    )\n",
    "except mlflow.exceptions.RestException as e:\n",
    "    print(f\"Experiment already exists: {e}\")"
   ]
  },
  {
   "cell_type": "code",
   "execution_count": null,
   "id": "0460281e",
   "metadata": {},
   "outputs": [],
   "source": [
    "X_train, y_train = X_sumo_llm, y_sumo_llm\n",
    "\n",
    "scaler = StandardScaler()\n",
    "X_train = scaler.fit_transform(X_train)\n",
    "X_val = scaler.transform(X_val_base)\n",
    "y_train = preprocessor.one_hot_encode(y_train, one_hot_keys=one_hot_keys)\n",
    "\n",
    "mlflow.set_experiment('Driver_Behavior_Models_SUMO_LLM')\n",
    "data_name = 'SUMO_LLM'"
   ]
  },
  {
   "cell_type": "code",
   "execution_count": null,
   "id": "4da017c3",
   "metadata": {},
   "outputs": [
    {
     "name": "stdout",
     "output_type": "stream",
     "text": [
      "This will run 5 trials to find optimal hyperparameters...\n",
      "Params: {'max_depth': 20, 'n_estimators': 50, 'random_state': 42}\n",
      "🏃 View run RandomForestClassifier_{'max_depth': 20, 'n_estimators': 50, 'random_state': 42} at: http://127.0.0.1:8080/#/experiments/571950295118383582/runs/3c17cb7710394ee681d43105dfe12c7e\n",
      "\n",
      "🧪 View experiment at: http://127.0.0.1:8080/#/experiments/571950295118383582\n",
      "\n",
      "Params: {'max_depth': 5, 'n_estimators': 100, 'random_state': 42}                \n",
      "🏃 View run RandomForestClassifier_{'max_depth': 5, 'n_estimators': 100, 'random_state': 42} at: http://127.0.0.1:8080/#/experiments/571950295118383582/runs/8878a05b07c4452294112e05db4f2435\n",
      "\n",
      "🧪 View experiment at: http://127.0.0.1:8080/#/experiments/571950295118383582    \n",
      "\n",
      "Params: {'max_depth': 10, 'n_estimators': 50, 'random_state': 42}                \n",
      "🏃 View run RandomForestClassifier_{'max_depth': 10, 'n_estimators': 50, 'random_state': 42} at: http://127.0.0.1:8080/#/experiments/571950295118383582/runs/a18beca83521408085f857bc77ba05ab\n",
      "\n",
      "🧪 View experiment at: http://127.0.0.1:8080/#/experiments/571950295118383582   \n",
      "\n",
      "Params: {'max_depth': 10, 'n_estimators': 20, 'random_state': 42}               \n",
      "🏃 View run RandomForestClassifier_{'max_depth': 10, 'n_estimators': 20, 'random_state': 42} at: http://127.0.0.1:8080/#/experiments/571950295118383582/runs/a6784ad5d5df46f7a85c12a36e23871f\n",
      "\n",
      "🧪 View experiment at: http://127.0.0.1:8080/#/experiments/571950295118383582   \n",
      "\n",
      "Params: {'max_depth': 10, 'n_estimators': 200, 'random_state': 42}              \n",
      "🏃 View run RandomForestClassifier_{'max_depth': 10, 'n_estimators': 200, 'random_state': 42} at: http://127.0.0.1:8080/#/experiments/571950295118383582/runs/1087e43725964b6b8aee06561bfbad12\n",
      "\n",
      "🧪 View experiment at: http://127.0.0.1:8080/#/experiments/571950295118383582   \n",
      "\n",
      "100%|██████████| 5/5 [01:12<00:00, 14.59s/trial, best loss: -0.5707223110876363]\n",
      "🏃 View run rf-sweep at: http://127.0.0.1:8080/#/experiments/571950295118383582/runs/adf1fe49ee4e4df5980d4974d2d345fe\n",
      "🧪 View experiment at: http://127.0.0.1:8080/#/experiments/571950295118383582\n",
      "This will run 5 trials to find optimal hyperparameters...\n",
      "Params: {'C': 1, 'gamma': 1, 'kernel': 'rbf'}        \n",
      "  0%|          | 0/5 [00:00<?, ?trial/s, best loss=?]"
     ]
    },
    {
     "name": "stderr",
     "output_type": "stream",
     "text": [
      "/home/renan/miniconda3/lib/python3.12/site-packages/sklearn/metrics/_classification.py:1565: UndefinedMetricWarning: Precision is ill-defined and being set to 0.0 in labels with no predicted samples. Use `zero_division` parameter to control this behavior.\n",
      "  _warn_prf(average, modifier, f\"{metric.capitalize()} is\", len(result))\n",
      "\n"
     ]
    },
    {
     "name": "stdout",
     "output_type": "stream",
     "text": [
      "🏃 View run SVC_{'C': 1, 'gamma': 1, 'kernel': 'rbf'} at: http://127.0.0.1:8080/#/experiments/571950295118383582/runs/c97d74fa86dd4b59bf749a5b5fef6f0b\n",
      "\n",
      "🧪 View experiment at: http://127.0.0.1:8080/#/experiments/571950295118383582\n",
      "\n",
      "Params: {'C': 0.1, 'gamma': 0.01, 'kernel': 'rbf'}                                \n",
      " 20%|██        | 1/5 [02:51<11:26, 171.56s/trial, best loss: -0.33310749162724596]"
     ]
    },
    {
     "name": "stderr",
     "output_type": "stream",
     "text": [
      "/home/renan/miniconda3/lib/python3.12/site-packages/sklearn/metrics/_classification.py:1565: UndefinedMetricWarning: Precision is ill-defined and being set to 0.0 in labels with no predicted samples. Use `zero_division` parameter to control this behavior.\n",
      "  _warn_prf(average, modifier, f\"{metric.capitalize()} is\", len(result))\n",
      "\n"
     ]
    },
    {
     "name": "stdout",
     "output_type": "stream",
     "text": [
      "🏃 View run SVC_{'C': 0.1, 'gamma': 0.01, 'kernel': 'rbf'} at: http://127.0.0.1:8080/#/experiments/571950295118383582/runs/9a0f4ee25f6241afab3b7aed3a810fc9\n",
      "\n",
      "🧪 View experiment at: http://127.0.0.1:8080/#/experiments/571950295118383582     \n",
      "\n",
      "Params: {'C': 0.05, 'gamma': 1, 'kernel': 'rbf'}                                  \n",
      " 40%|████      | 2/5 [04:18<06:05, 121.82s/trial, best loss: -0.33310749162724596]"
     ]
    },
    {
     "name": "stderr",
     "output_type": "stream",
     "text": [
      "/home/renan/miniconda3/lib/python3.12/site-packages/sklearn/metrics/_classification.py:1565: UndefinedMetricWarning: Precision is ill-defined and being set to 0.0 in labels with no predicted samples. Use `zero_division` parameter to control this behavior.\n",
      "  _warn_prf(average, modifier, f\"{metric.capitalize()} is\", len(result))\n",
      "\n"
     ]
    },
    {
     "name": "stdout",
     "output_type": "stream",
     "text": [
      "🏃 View run SVC_{'C': 0.05, 'gamma': 1, 'kernel': 'rbf'} at: http://127.0.0.1:8080/#/experiments/571950295118383582/runs/5319b0bbc2494426b10375edf543da18\n",
      "\n",
      "🧪 View experiment at: http://127.0.0.1:8080/#/experiments/571950295118383582     \n",
      "\n",
      "Params: {'C': 1, 'gamma': 0.1, 'kernel': 'rbf'}                                   \n",
      " 60%|██████    | 3/5 [06:02<03:47, 113.79s/trial, best loss: -0.33310749162724596]"
     ]
    },
    {
     "name": "stderr",
     "output_type": "stream",
     "text": [
      "/home/renan/miniconda3/lib/python3.12/site-packages/sklearn/metrics/_classification.py:1565: UndefinedMetricWarning: Precision is ill-defined and being set to 0.0 in labels with no predicted samples. Use `zero_division` parameter to control this behavior.\n",
      "  _warn_prf(average, modifier, f\"{metric.capitalize()} is\", len(result))\n",
      "\n"
     ]
    },
    {
     "name": "stdout",
     "output_type": "stream",
     "text": [
      "🏃 View run SVC_{'C': 1, 'gamma': 0.1, 'kernel': 'rbf'} at: http://127.0.0.1:8080/#/experiments/571950295118383582/runs/d3be78178e864fa487303b04133235ac\n",
      "\n",
      "🧪 View experiment at: http://127.0.0.1:8080/#/experiments/571950295118383582     \n",
      "\n",
      "Params: {'C': 0.01, 'gamma': 0.01, 'kernel': 'rbf'}                               \n",
      " 80%|████████  | 4/5 [07:26<01:41, 101.92s/trial, best loss: -0.33310749162724596]"
     ]
    },
    {
     "name": "stderr",
     "output_type": "stream",
     "text": [
      "/home/renan/miniconda3/lib/python3.12/site-packages/sklearn/metrics/_classification.py:1565: UndefinedMetricWarning: Precision is ill-defined and being set to 0.0 in labels with no predicted samples. Use `zero_division` parameter to control this behavior.\n",
      "  _warn_prf(average, modifier, f\"{metric.capitalize()} is\", len(result))\n",
      "\n"
     ]
    },
    {
     "name": "stdout",
     "output_type": "stream",
     "text": [
      "🏃 View run SVC_{'C': 0.01, 'gamma': 0.01, 'kernel': 'rbf'} at: http://127.0.0.1:8080/#/experiments/571950295118383582/runs/749e527a9598415f9a0437c20df497e3\n",
      "\n",
      "🧪 View experiment at: http://127.0.0.1:8080/#/experiments/571950295118383582     \n",
      "\n",
      "100%|██████████| 5/5 [08:50<00:00, 106.09s/trial, best loss: -0.33310749162724596]\n",
      "🏃 View run svc-sweep at: http://127.0.0.1:8080/#/experiments/571950295118383582/runs/26213aeb8e3f48239264fbc53157580d\n",
      "🧪 View experiment at: http://127.0.0.1:8080/#/experiments/571950295118383582\n",
      "This will run 5 trials to find optimal hyperparameters...\n",
      "Params: {'C': 0.001}                                 \n",
      "🏃 View run LinearSVC_{'C': 0.001} at: http://127.0.0.1:8080/#/experiments/571950295118383582/runs/85907956b0484cfda00777c13a6a0bad\n",
      "\n",
      "🧪 View experiment at: http://127.0.0.1:8080/#/experiments/571950295118383582\n",
      "\n",
      "Params: {'C': 0.1}                                                               \n",
      "🏃 View run LinearSVC_{'C': 0.1} at: http://127.0.0.1:8080/#/experiments/571950295118383582/runs/4ddf94684473466f973df5ccc5fe6d4c\n",
      "\n",
      "🧪 View experiment at: http://127.0.0.1:8080/#/experiments/571950295118383582    \n",
      "\n",
      "Params: {'C': 0.001}                                                             \n",
      "🏃 View run LinearSVC_{'C': 0.001} at: http://127.0.0.1:8080/#/experiments/571950295118383582/runs/9564e30e9991434594edcf4077cab00d\n",
      "\n",
      "🧪 View experiment at: http://127.0.0.1:8080/#/experiments/571950295118383582    \n",
      "\n",
      "Params: {'C': 0.0001}                                                            \n",
      "🏃 View run LinearSVC_{'C': 0.0001} at: http://127.0.0.1:8080/#/experiments/571950295118383582/runs/e42eb73696924565aa3cae2440237677\n",
      "\n",
      "🧪 View experiment at: http://127.0.0.1:8080/#/experiments/571950295118383582    \n",
      "\n",
      "Params: {'C': 0.1}                                                               \n",
      "🏃 View run LinearSVC_{'C': 0.1} at: http://127.0.0.1:8080/#/experiments/571950295118383582/runs/4019a96ce540475f840c4ded0c2cb4ac\n",
      "\n",
      "🧪 View experiment at: http://127.0.0.1:8080/#/experiments/571950295118383582    \n",
      "\n",
      "100%|██████████| 5/5 [00:09<00:00,  1.80s/trial, best loss: -0.33701038711508563]\n",
      "🏃 View run svc-linear-sweep at: http://127.0.0.1:8080/#/experiments/571950295118383582/runs/b0c5ab9bdd4e4774b88dad18e2109d2b\n",
      "🧪 View experiment at: http://127.0.0.1:8080/#/experiments/571950295118383582\n",
      "This will run 5 trials to find optimal hyperparameters...\n",
      "Params: {'learning_rate': 0.1, 'max_depth': 10, 'n_estimators': 1000, 'random_state': 42}\n",
      "🏃 View run XGBClassifier_{'learning_rate': 0.1, 'max_depth': 10, 'n_estimators': 1000, 'random_state': 42} at: http://127.0.0.1:8080/#/experiments/571950295118383582/runs/7be23e3c81c24315b27700d511a530a1\n",
      "\n",
      "🧪 View experiment at: http://127.0.0.1:8080/#/experiments/571950295118383582\n",
      "\n",
      "Params: {'learning_rate': 0.1, 'max_depth': 10, 'n_estimators': 500, 'random_state': 42}\n",
      "🏃 View run XGBClassifier_{'learning_rate': 0.1, 'max_depth': 10, 'n_estimators': 500, 'random_state': 42} at: http://127.0.0.1:8080/#/experiments/571950295118383582/runs/a87d49f2b5d34f6bbce28c05273425d4\n",
      "\n",
      "🧪 View experiment at: http://127.0.0.1:8080/#/experiments/571950295118383582   \n",
      "\n",
      "Params: {'learning_rate': 0.2, 'max_depth': None, 'n_estimators': 200, 'random_state': 42}\n",
      "🏃 View run XGBClassifier_{'learning_rate': 0.2, 'max_depth': None, 'n_estimators': 200, 'random_state': 42} at: http://127.0.0.1:8080/#/experiments/571950295118383582/runs/ab6f12ff0112410a8cbc27eae87310c3\n",
      "\n",
      "🧪 View experiment at: http://127.0.0.1:8080/#/experiments/571950295118383582   \n",
      "\n",
      "Params: {'learning_rate': 0.1, 'max_depth': None, 'n_estimators': 500, 'random_state': 42}\n",
      "🏃 View run XGBClassifier_{'learning_rate': 0.1, 'max_depth': None, 'n_estimators': 500, 'random_state': 42} at: http://127.0.0.1:8080/#/experiments/571950295118383582/runs/74907803120a40fd8e01ce2430db1da0\n",
      "\n",
      "🧪 View experiment at: http://127.0.0.1:8080/#/experiments/571950295118383582   \n",
      "\n",
      "Params: {'learning_rate': 0.2, 'max_depth': None, 'n_estimators': 700, 'random_state': 42}\n",
      "🏃 View run XGBClassifier_{'learning_rate': 0.2, 'max_depth': None, 'n_estimators': 700, 'random_state': 42} at: http://127.0.0.1:8080/#/experiments/571950295118383582/runs/2c6a807e429a48369b85c9302d9c4854\n",
      "\n",
      "🧪 View experiment at: http://127.0.0.1:8080/#/experiments/571950295118383582   \n",
      "\n",
      "100%|██████████| 5/5 [00:29<00:00,  5.84s/trial, best loss: -0.5845236878921106]\n",
      "🏃 View run xgb-sweep at: http://127.0.0.1:8080/#/experiments/571950295118383582/runs/5f3340ad249148a78328a7ffc16d56c7\n",
      "🧪 View experiment at: http://127.0.0.1:8080/#/experiments/571950295118383582\n"
     ]
    },
    {
     "data": {
      "text/plain": [
       "0.5845236878921106"
      ]
     },
     "execution_count": 93,
     "metadata": {},
     "output_type": "execute_result"
    }
   ],
   "source": [
    "model = RandomForestClassifier\n",
    "run_experiments('rf-sweep', max_evals=max_evals, search_space=search_space_rf, data_name=data_name, model_name = 'RandomForestClassifier', features_names=columns_to_keep)\n",
    "model = SVC\n",
    "run_experiments('svc-sweep', max_evals=max_evals, search_space=search_space_svc, data_name=data_name, model_name = 'SVC', features_names=columns_to_keep)\n",
    "model = LinearSVC\n",
    "run_experiments('svc-linear-sweep', max_evals=max_evals, search_space=search_space_svc_linear, data_name=data_name, model_name = 'LinearSVC', features_names=columns_to_keep)\n",
    "model = xgb.XGBClassifier\n",
    "run_experiments('xgb-sweep', max_evals=max_evals, search_space=search_space_xgb, data_name=data_name, model_name = 'XGBClassifier', features_names=columns_to_keep)"
   ]
  },
  {
   "cell_type": "markdown",
   "id": "d562a57b",
   "metadata": {},
   "source": [
    "## Carla Only"
   ]
  },
  {
   "cell_type": "code",
   "execution_count": null,
   "id": "8d0a613b",
   "metadata": {},
   "outputs": [],
   "source": [
    "X_carla_fixed, y_carla_fixed = preprocessor.sliding_windows(carla_fixed, window_size=window_size, step_size=step_size)\n",
    "X_carla_llm, y_carla_llm = preprocessor.sliding_windows(carla_llm, window_size=window_size, step_size=step_size)"
   ]
  },
  {
   "cell_type": "code",
   "execution_count": null,
   "id": "40fa1c38",
   "metadata": {},
   "outputs": [
    {
     "name": "stdout",
     "output_type": "stream",
     "text": [
      "Columns to keep for validation: ['acc_x', 'acc_y', 'acc_z', 'gyro_x', 'gyro_y', 'gyro_z', 'angle', 'label']\n"
     ]
    }
   ],
   "source": [
    "# Getting the validation for SUMO variables\n",
    "columns_to_keep = carla_fixed.columns.tolist()\n",
    "print(\"Columns to keep for validation:\", columns_to_keep)\n",
    "X_val_base, y_val = preprocessor.sliding_windows(uah_validation[columns_to_keep], window_size=window_size, step_size=step_size)\n",
    "y_val = preprocessor.one_hot_encode(y_val, one_hot_keys=one_hot_keys)"
   ]
  },
  {
   "cell_type": "markdown",
   "id": "17def673",
   "metadata": {},
   "source": [
    "### Fixed"
   ]
  },
  {
   "cell_type": "code",
   "execution_count": null,
   "id": "d5520a73",
   "metadata": {},
   "outputs": [],
   "source": [
    "# Provide an Experiment description that will appear in the UI\n",
    "experiment_description = (\n",
    "    \"Experiment to train models on the CARLA Fixed dataset.\"\n",
    ")\n",
    "\n",
    "# Provide searchable tags that define characteristics of the Runs that\n",
    "# will be in this Experiment\n",
    "experiment_tags = {\n",
    "    \"project_name\": \"driver-behavior-prediction\",\n",
    "    \"mlflow.note.content\": experiment_description,\n",
    "}\n",
    "\n",
    "# Create the Experiment, providing a unique name\n",
    "try:\n",
    "    driver_behavior_experiment = client.create_experiment(\n",
    "        name=\"Driver_Behavior_Models_CARLA_Fixed\", tags=experiment_tags\n",
    "    )\n",
    "except mlflow.exceptions.RestException as e:\n",
    "    print(f\"Experiment already exists: {e}\")"
   ]
  },
  {
   "cell_type": "code",
   "execution_count": null,
   "id": "f460d11d",
   "metadata": {},
   "outputs": [],
   "source": [
    "X_train, y_train = X_carla_fixed, y_carla_fixed\n",
    "\n",
    "scaler = StandardScaler()\n",
    "X_train = scaler.fit_transform(X_train)\n",
    "X_val = scaler.transform(X_val_base)\n",
    "y_train = preprocessor.one_hot_encode(y_train, one_hot_keys=one_hot_keys)\n",
    "\n",
    "mlflow.set_experiment('Driver_Behavior_Models_CARLA_Fixed')\n",
    "data_name = 'CARLA_Fixed'"
   ]
  },
  {
   "cell_type": "code",
   "execution_count": null,
   "id": "6740e674",
   "metadata": {},
   "outputs": [
    {
     "name": "stdout",
     "output_type": "stream",
     "text": [
      "This will run 5 trials to find optimal hyperparameters...\n",
      "Params: {'max_depth': 50, 'n_estimators': 200, 'random_state': 42}\n",
      "🏃 View run RandomForestClassifier_{'max_depth': 50, 'n_estimators': 200, 'random_state': 42} at: http://127.0.0.1:8080/#/experiments/758379252446667199/runs/9303df6411c547049006837146ed4425\n",
      "\n",
      "🧪 View experiment at: http://127.0.0.1:8080/#/experiments/758379252446667199\n",
      "\n",
      "Params: {'max_depth': None, 'n_estimators': 200, 'random_state': 42}            \n",
      "🏃 View run RandomForestClassifier_{'max_depth': None, 'n_estimators': 200, 'random_state': 42} at: http://127.0.0.1:8080/#/experiments/758379252446667199/runs/0c4cf2bfb6ad4bfbad8583053697a05d\n",
      "\n",
      "🧪 View experiment at: http://127.0.0.1:8080/#/experiments/758379252446667199   \n",
      "\n",
      "Params: {'max_depth': 10, 'n_estimators': 100, 'random_state': 42}              \n",
      "🏃 View run RandomForestClassifier_{'max_depth': 10, 'n_estimators': 100, 'random_state': 42} at: http://127.0.0.1:8080/#/experiments/758379252446667199/runs/dabad6fcbf4545b08645616ff0639ca8\n",
      "\n",
      "🧪 View experiment at: http://127.0.0.1:8080/#/experiments/758379252446667199   \n",
      "\n",
      "Params: {'max_depth': 20, 'n_estimators': 50, 'random_state': 42}               \n",
      "🏃 View run RandomForestClassifier_{'max_depth': 20, 'n_estimators': 50, 'random_state': 42} at: http://127.0.0.1:8080/#/experiments/758379252446667199/runs/6c8c6a96e5354b8c9eb6c6e187961f4b\n",
      "\n",
      "🧪 View experiment at: http://127.0.0.1:8080/#/experiments/758379252446667199   \n",
      "\n",
      "Params: {'max_depth': 50, 'n_estimators': 200, 'random_state': 42}              \n",
      "🏃 View run RandomForestClassifier_{'max_depth': 50, 'n_estimators': 200, 'random_state': 42} at: http://127.0.0.1:8080/#/experiments/758379252446667199/runs/e519f1a2686146adb0e0acd3a689dfbf\n",
      "\n",
      "🧪 View experiment at: http://127.0.0.1:8080/#/experiments/758379252446667199   \n",
      "\n",
      "100%|██████████| 5/5 [01:48<00:00, 21.73s/trial, best loss: -0.5536138076323719]\n",
      "🏃 View run rf-sweep at: http://127.0.0.1:8080/#/experiments/758379252446667199/runs/01a40421c8a24670a71a7b11ae8aa229\n",
      "🧪 View experiment at: http://127.0.0.1:8080/#/experiments/758379252446667199\n",
      "This will run 5 trials to find optimal hyperparameters...\n",
      "Params: {'C': 0.01, 'gamma': 0.1, 'kernel': 'rbf'}   \n",
      "  0%|          | 0/5 [00:00<?, ?trial/s, best loss=?]"
     ]
    },
    {
     "name": "stderr",
     "output_type": "stream",
     "text": [
      "/home/renan/miniconda3/lib/python3.12/site-packages/sklearn/metrics/_classification.py:1565: UndefinedMetricWarning: Precision is ill-defined and being set to 0.0 in labels with no predicted samples. Use `zero_division` parameter to control this behavior.\n",
      "  _warn_prf(average, modifier, f\"{metric.capitalize()} is\", len(result))\n",
      "\n"
     ]
    },
    {
     "name": "stdout",
     "output_type": "stream",
     "text": [
      "🏃 View run SVC_{'C': 0.01, 'gamma': 0.1, 'kernel': 'rbf'} at: http://127.0.0.1:8080/#/experiments/758379252446667199/runs/ff1c6c2780a94743afd9b69f2ecbc1f4\n",
      "\n",
      "🧪 View experiment at: http://127.0.0.1:8080/#/experiments/758379252446667199\n",
      "\n",
      "Params: {'C': 0.01, 'gamma': 10, 'kernel': 'rbf'}                               \n",
      " 20%|██        | 1/5 [00:22<01:29, 22.49s/trial, best loss: -0.3335592240143389]"
     ]
    },
    {
     "name": "stderr",
     "output_type": "stream",
     "text": [
      "/home/renan/miniconda3/lib/python3.12/site-packages/sklearn/metrics/_classification.py:1565: UndefinedMetricWarning: Precision is ill-defined and being set to 0.0 in labels with no predicted samples. Use `zero_division` parameter to control this behavior.\n",
      "  _warn_prf(average, modifier, f\"{metric.capitalize()} is\", len(result))\n",
      "\n"
     ]
    },
    {
     "name": "stdout",
     "output_type": "stream",
     "text": [
      "🏃 View run SVC_{'C': 0.01, 'gamma': 10, 'kernel': 'rbf'} at: http://127.0.0.1:8080/#/experiments/758379252446667199/runs/f62242cec0954b44a9abbe68588c71cf\n",
      "\n",
      "🧪 View experiment at: http://127.0.0.1:8080/#/experiments/758379252446667199   \n",
      "\n",
      "Params: {'C': 0.01, 'gamma': 0.1, 'kernel': 'rbf'}                              \n",
      " 40%|████      | 2/5 [00:45<01:08, 22.71s/trial, best loss: -0.3335592240143389]"
     ]
    },
    {
     "name": "stderr",
     "output_type": "stream",
     "text": [
      "/home/renan/miniconda3/lib/python3.12/site-packages/sklearn/metrics/_classification.py:1565: UndefinedMetricWarning: Precision is ill-defined and being set to 0.0 in labels with no predicted samples. Use `zero_division` parameter to control this behavior.\n",
      "  _warn_prf(average, modifier, f\"{metric.capitalize()} is\", len(result))\n",
      "\n"
     ]
    },
    {
     "name": "stdout",
     "output_type": "stream",
     "text": [
      "🏃 View run SVC_{'C': 0.01, 'gamma': 0.1, 'kernel': 'rbf'} at: http://127.0.0.1:8080/#/experiments/758379252446667199/runs/20aa272fd4b1427f9d28b807323b3069\n",
      "\n",
      "🧪 View experiment at: http://127.0.0.1:8080/#/experiments/758379252446667199   \n",
      "\n",
      "Params: {'C': 0.1, 'gamma': 0.001, 'kernel': 'rbf'}                             \n",
      " 60%|██████    | 3/5 [01:07<00:45, 22.59s/trial, best loss: -0.3335592240143389]"
     ]
    },
    {
     "name": "stderr",
     "output_type": "stream",
     "text": [
      "/home/renan/miniconda3/lib/python3.12/site-packages/sklearn/metrics/_classification.py:1565: UndefinedMetricWarning: Precision is ill-defined and being set to 0.0 in labels with no predicted samples. Use `zero_division` parameter to control this behavior.\n",
      "  _warn_prf(average, modifier, f\"{metric.capitalize()} is\", len(result))\n",
      "\n"
     ]
    },
    {
     "name": "stdout",
     "output_type": "stream",
     "text": [
      "🏃 View run SVC_{'C': 0.1, 'gamma': 0.001, 'kernel': 'rbf'} at: http://127.0.0.1:8080/#/experiments/758379252446667199/runs/3af05efccb8c4b2e8299e5d5cba40f20\n",
      "\n",
      "🧪 View experiment at: http://127.0.0.1:8080/#/experiments/758379252446667199   \n",
      "\n",
      "Params: {'C': 0.1, 'gamma': 0.1, 'kernel': 'rbf'}                               \n",
      " 80%|████████  | 4/5 [01:34<00:24, 24.04s/trial, best loss: -0.3335592240143389]"
     ]
    },
    {
     "name": "stderr",
     "output_type": "stream",
     "text": [
      "/home/renan/miniconda3/lib/python3.12/site-packages/sklearn/metrics/_classification.py:1565: UndefinedMetricWarning: Precision is ill-defined and being set to 0.0 in labels with no predicted samples. Use `zero_division` parameter to control this behavior.\n",
      "  _warn_prf(average, modifier, f\"{metric.capitalize()} is\", len(result))\n",
      "\n"
     ]
    },
    {
     "name": "stdout",
     "output_type": "stream",
     "text": [
      "🏃 View run SVC_{'C': 0.1, 'gamma': 0.1, 'kernel': 'rbf'} at: http://127.0.0.1:8080/#/experiments/758379252446667199/runs/e99ca11bbb1c4e3ab11fcbdbb79d25fc\n",
      "\n",
      "🧪 View experiment at: http://127.0.0.1:8080/#/experiments/758379252446667199   \n",
      "\n",
      "100%|██████████| 5/5 [01:52<00:00, 22.46s/trial, best loss: -0.3335592240143389]\n",
      "🏃 View run svc-sweep at: http://127.0.0.1:8080/#/experiments/758379252446667199/runs/62d1e1dce8b74189bd322a9a49b2c32d\n",
      "🧪 View experiment at: http://127.0.0.1:8080/#/experiments/758379252446667199\n",
      "This will run 5 trials to find optimal hyperparameters...\n",
      "Params: {'C': 0.01}                                  \n",
      "  0%|          | 0/5 [00:00<?, ?trial/s, best loss=?]"
     ]
    },
    {
     "name": "stderr",
     "output_type": "stream",
     "text": [
      "/home/renan/miniconda3/lib/python3.12/site-packages/sklearn/metrics/_classification.py:1565: UndefinedMetricWarning: Precision is ill-defined and being set to 0.0 in labels with no predicted samples. Use `zero_division` parameter to control this behavior.\n",
      "  _warn_prf(average, modifier, f\"{metric.capitalize()} is\", len(result))\n",
      "\n"
     ]
    },
    {
     "name": "stdout",
     "output_type": "stream",
     "text": [
      "🏃 View run LinearSVC_{'C': 0.01} at: http://127.0.0.1:8080/#/experiments/758379252446667199/runs/22c6881dfa5c476cbdbdf4dbf7d25d78\n",
      "\n",
      "🧪 View experiment at: http://127.0.0.1:8080/#/experiments/758379252446667199\n",
      "\n",
      "Params: {'C': 0.01}                                                              \n",
      " 20%|██        | 1/5 [00:01<00:07,  1.83s/trial, best loss: -0.33310749162724596]"
     ]
    },
    {
     "name": "stderr",
     "output_type": "stream",
     "text": [
      "/home/renan/miniconda3/lib/python3.12/site-packages/sklearn/metrics/_classification.py:1565: UndefinedMetricWarning: Precision is ill-defined and being set to 0.0 in labels with no predicted samples. Use `zero_division` parameter to control this behavior.\n",
      "  _warn_prf(average, modifier, f\"{metric.capitalize()} is\", len(result))\n",
      "\n"
     ]
    },
    {
     "name": "stdout",
     "output_type": "stream",
     "text": [
      "🏃 View run LinearSVC_{'C': 0.01} at: http://127.0.0.1:8080/#/experiments/758379252446667199/runs/6f452fb55a6543d8a366716c3b4306ff\n",
      "\n",
      "🧪 View experiment at: http://127.0.0.1:8080/#/experiments/758379252446667199    \n",
      "\n",
      "Params: {'C': 0.01}                                                              \n",
      " 40%|████      | 2/5 [00:03<00:05,  1.83s/trial, best loss: -0.33310749162724596]"
     ]
    },
    {
     "name": "stderr",
     "output_type": "stream",
     "text": [
      "/home/renan/miniconda3/lib/python3.12/site-packages/sklearn/metrics/_classification.py:1565: UndefinedMetricWarning: Precision is ill-defined and being set to 0.0 in labels with no predicted samples. Use `zero_division` parameter to control this behavior.\n",
      "  _warn_prf(average, modifier, f\"{metric.capitalize()} is\", len(result))\n",
      "\n"
     ]
    },
    {
     "name": "stdout",
     "output_type": "stream",
     "text": [
      "🏃 View run LinearSVC_{'C': 0.01} at: http://127.0.0.1:8080/#/experiments/758379252446667199/runs/a35b379a087d4bd6ad1f1bbd0d4fed92\n",
      "\n",
      "🧪 View experiment at: http://127.0.0.1:8080/#/experiments/758379252446667199    \n",
      "\n",
      "Params: {'C': 1}                                                                 \n",
      " 60%|██████    | 3/5 [00:05<00:03,  1.82s/trial, best loss: -0.33310749162724596]"
     ]
    },
    {
     "name": "stderr",
     "output_type": "stream",
     "text": [
      "/home/renan/miniconda3/lib/python3.12/site-packages/sklearn/metrics/_classification.py:1565: UndefinedMetricWarning: Precision is ill-defined and being set to 0.0 in labels with no predicted samples. Use `zero_division` parameter to control this behavior.\n",
      "  _warn_prf(average, modifier, f\"{metric.capitalize()} is\", len(result))\n",
      "\n"
     ]
    },
    {
     "name": "stdout",
     "output_type": "stream",
     "text": [
      "🏃 View run LinearSVC_{'C': 1} at: http://127.0.0.1:8080/#/experiments/758379252446667199/runs/9ee6a8eb8bfa4fc0ba98b69790aba10d\n",
      "\n",
      "🧪 View experiment at: http://127.0.0.1:8080/#/experiments/758379252446667199    \n",
      "\n",
      "Params: {'C': 1}                                                                 \n",
      " 80%|████████  | 4/5 [00:07<00:01,  1.85s/trial, best loss: -0.33310749162724596]"
     ]
    },
    {
     "name": "stderr",
     "output_type": "stream",
     "text": [
      "/home/renan/miniconda3/lib/python3.12/site-packages/sklearn/metrics/_classification.py:1565: UndefinedMetricWarning: Precision is ill-defined and being set to 0.0 in labels with no predicted samples. Use `zero_division` parameter to control this behavior.\n",
      "  _warn_prf(average, modifier, f\"{metric.capitalize()} is\", len(result))\n",
      "\n"
     ]
    },
    {
     "name": "stdout",
     "output_type": "stream",
     "text": [
      "🏃 View run LinearSVC_{'C': 1} at: http://127.0.0.1:8080/#/experiments/758379252446667199/runs/49fcd25a4abe4b7e9662614c7ae9ba77\n",
      "\n",
      "🧪 View experiment at: http://127.0.0.1:8080/#/experiments/758379252446667199    \n",
      "\n",
      "100%|██████████| 5/5 [00:09<00:00,  1.87s/trial, best loss: -0.33310749162724596]\n",
      "🏃 View run svc-linear-sweep at: http://127.0.0.1:8080/#/experiments/758379252446667199/runs/df1ac57325e44e899d86f4867fe38d1d\n",
      "🧪 View experiment at: http://127.0.0.1:8080/#/experiments/758379252446667199\n",
      "This will run 5 trials to find optimal hyperparameters...\n",
      "Params: {'learning_rate': 0.2, 'max_depth': 10, 'n_estimators': 200, 'random_state': 42}\n",
      "🏃 View run XGBClassifier_{'learning_rate': 0.2, 'max_depth': 10, 'n_estimators': 200, 'random_state': 42} at: http://127.0.0.1:8080/#/experiments/758379252446667199/runs/688ba7c2cf574f1f88fdc30566d5e958\n",
      "\n",
      "🧪 View experiment at: http://127.0.0.1:8080/#/experiments/758379252446667199\n",
      "\n",
      "Params: {'learning_rate': 0.5, 'max_depth': None, 'n_estimators': 200, 'random_state': 42}\n",
      "🏃 View run XGBClassifier_{'learning_rate': 0.5, 'max_depth': None, 'n_estimators': 200, 'random_state': 42} at: http://127.0.0.1:8080/#/experiments/758379252446667199/runs/269ee6213cd447739021662bdaef6d90\n",
      "\n",
      "🧪 View experiment at: http://127.0.0.1:8080/#/experiments/758379252446667199    \n",
      "\n",
      "Params: {'learning_rate': 0.3, 'max_depth': 5, 'n_estimators': 500, 'random_state': 42}\n",
      "🏃 View run XGBClassifier_{'learning_rate': 0.3, 'max_depth': 5, 'n_estimators': 500, 'random_state': 42} at: http://127.0.0.1:8080/#/experiments/758379252446667199/runs/9525fd9e94604597b3dba992de461f05\n",
      "\n",
      "🧪 View experiment at: http://127.0.0.1:8080/#/experiments/758379252446667199   \n",
      "\n",
      "Params: {'learning_rate': 0.001, 'max_depth': 10, 'n_estimators': 700, 'random_state': 42}\n",
      "🏃 View run XGBClassifier_{'learning_rate': 0.001, 'max_depth': 10, 'n_estimators': 700, 'random_state': 42} at: http://127.0.0.1:8080/#/experiments/758379252446667199/runs/dc49cb07499a4076b2ee5b9a8be84919\n",
      "\n",
      "🧪 View experiment at: http://127.0.0.1:8080/#/experiments/758379252446667199   \n",
      "\n",
      "Params: {'learning_rate': 0.001, 'max_depth': None, 'n_estimators': 1000, 'random_state': 42}\n",
      "🏃 View run XGBClassifier_{'learning_rate': 0.001, 'max_depth': None, 'n_estimators': 1000, 'random_state': 42} at: http://127.0.0.1:8080/#/experiments/758379252446667199/runs/c59577d830424451ab103fa67fc1d02c\n",
      "\n",
      "🧪 View experiment at: http://127.0.0.1:8080/#/experiments/758379252446667199   \n",
      "\n",
      "100%|██████████| 5/5 [00:47<00:00,  9.52s/trial, best loss: -0.5120679087827963]\n",
      "🏃 View run xgb-sweep at: http://127.0.0.1:8080/#/experiments/758379252446667199/runs/9fe607088c6646348ef190e547a95159\n",
      "🧪 View experiment at: http://127.0.0.1:8080/#/experiments/758379252446667199\n"
     ]
    },
    {
     "data": {
      "text/plain": [
       "0.5120679087827963"
      ]
     },
     "execution_count": 97,
     "metadata": {},
     "output_type": "execute_result"
    }
   ],
   "source": [
    "model = RandomForestClassifier\n",
    "run_experiments('rf-sweep', max_evals=max_evals, search_space=search_space_rf, data_name=data_name, model_name = 'RandomForestClassifier', features_names=columns_to_keep)\n",
    "model = SVC\n",
    "run_experiments('svc-sweep', max_evals=max_evals, search_space=search_space_svc, data_name=data_name, model_name = 'SVC', features_names=columns_to_keep)\n",
    "model = LinearSVC\n",
    "run_experiments('svc-linear-sweep', max_evals=max_evals, search_space=search_space_svc_linear, data_name=data_name, model_name = 'LinearSVC', features_names=columns_to_keep)\n",
    "model = xgb.XGBClassifier\n",
    "run_experiments('xgb-sweep', max_evals=max_evals, search_space=search_space_xgb, data_name=data_name, model_name = 'XGBClassifier', features_names=columns_to_keep)"
   ]
  },
  {
   "cell_type": "markdown",
   "id": "940416e1",
   "metadata": {},
   "source": [
    "### LLM"
   ]
  },
  {
   "cell_type": "code",
   "execution_count": null,
   "id": "abfd8115",
   "metadata": {},
   "outputs": [],
   "source": [
    "# Provide an Experiment description that will appear in the UI\n",
    "experiment_description = (\n",
    "    \"Experiment to train models on the CARLA LLM dataset.\"\n",
    ")\n",
    "\n",
    "# Provide searchable tags that define characteristics of the Runs that\n",
    "# will be in this Experiment\n",
    "experiment_tags = {\n",
    "    \"project_name\": \"driver-behavior-prediction\",\n",
    "    \"mlflow.note.content\": experiment_description,\n",
    "}\n",
    "\n",
    "# Create the Experiment, providing a unique name\n",
    "try:\n",
    "    driver_behavior_experiment = client.create_experiment(\n",
    "        name=\"Driver_Behavior_Models_CARLA_LLM\", tags=experiment_tags\n",
    "    )\n",
    "except mlflow.exceptions.RestException as e:\n",
    "    print(f\"Experiment already exists: {e}\")"
   ]
  },
  {
   "cell_type": "code",
   "execution_count": null,
   "id": "d8198c3c",
   "metadata": {},
   "outputs": [],
   "source": [
    "X_train, y_train = X_carla_llm, y_carla_llm\n",
    "\n",
    "scaler = StandardScaler()\n",
    "X_train = scaler.fit_transform(X_train)\n",
    "X_val = scaler.transform(X_val_base)\n",
    "y_train = preprocessor.one_hot_encode(y_train, one_hot_keys=one_hot_keys)\n",
    "\n",
    "mlflow.set_experiment('Driver_Behavior_Models_CARLA_LLM')\n",
    "data_name = 'CARLA_LLM'"
   ]
  },
  {
   "cell_type": "code",
   "execution_count": null,
   "id": "6b1a7997",
   "metadata": {},
   "outputs": [
    {
     "name": "stdout",
     "output_type": "stream",
     "text": [
      "This will run 5 trials to find optimal hyperparameters...\n",
      "Params: {'max_depth': 50, 'n_estimators': 20, 'random_state': 42}\n",
      "🏃 View run RandomForestClassifier_{'max_depth': 50, 'n_estimators': 20, 'random_state': 42} at: http://127.0.0.1:8080/#/experiments/338383607405652458/runs/ea0109e9346d453d9631eb1dd6c7741f\n",
      "\n",
      "🧪 View experiment at: http://127.0.0.1:8080/#/experiments/338383607405652458\n",
      "\n",
      "Params: {'max_depth': 20, 'n_estimators': 200, 'random_state': 42}              \n",
      "🏃 View run RandomForestClassifier_{'max_depth': 20, 'n_estimators': 200, 'random_state': 42} at: http://127.0.0.1:8080/#/experiments/338383607405652458/runs/d7f626dabf7246f2946ace7e3b67eb77\n",
      "\n",
      "🧪 View experiment at: http://127.0.0.1:8080/#/experiments/338383607405652458   \n",
      "\n",
      "Params: {'max_depth': None, 'n_estimators': 20, 'random_state': 42}              \n",
      "🏃 View run RandomForestClassifier_{'max_depth': None, 'n_estimators': 20, 'random_state': 42} at: http://127.0.0.1:8080/#/experiments/338383607405652458/runs/833719341cf24a0b8aa45dec16b37843\n",
      "\n",
      "🧪 View experiment at: http://127.0.0.1:8080/#/experiments/338383607405652458    \n",
      "\n",
      "Params: {'max_depth': 20, 'n_estimators': 100, 'random_state': 42}               \n",
      "🏃 View run RandomForestClassifier_{'max_depth': 20, 'n_estimators': 100, 'random_state': 42} at: http://127.0.0.1:8080/#/experiments/338383607405652458/runs/ee0d0acdc50f48f897eaf96c93522317\n",
      "\n",
      "🧪 View experiment at: http://127.0.0.1:8080/#/experiments/338383607405652458    \n",
      "\n",
      "Params: {'max_depth': 10, 'n_estimators': 200, 'random_state': 42}               \n",
      "🏃 View run RandomForestClassifier_{'max_depth': 10, 'n_estimators': 200, 'random_state': 42} at: http://127.0.0.1:8080/#/experiments/338383607405652458/runs/94aa6a85a355497ab720bfa3ad343ff1\n",
      "\n",
      "🧪 View experiment at: http://127.0.0.1:8080/#/experiments/338383607405652458   \n",
      "\n",
      "100%|██████████| 5/5 [01:16<00:00, 15.39s/trial, best loss: -0.5177600646696626]\n",
      "🏃 View run rf-sweep at: http://127.0.0.1:8080/#/experiments/338383607405652458/runs/4210a03e16ed4aefb2cf72354cd4f682\n",
      "🧪 View experiment at: http://127.0.0.1:8080/#/experiments/338383607405652458\n",
      "This will run 5 trials to find optimal hyperparameters...\n",
      "Params: {'C': 0.05, 'gamma': 0.01, 'kernel': 'rbf'}  \n",
      "  0%|          | 0/5 [00:00<?, ?trial/s, best loss=?]"
     ]
    },
    {
     "name": "stderr",
     "output_type": "stream",
     "text": [
      "/home/renan/miniconda3/lib/python3.12/site-packages/sklearn/metrics/_classification.py:1565: UndefinedMetricWarning: Precision is ill-defined and being set to 0.0 in labels with no predicted samples. Use `zero_division` parameter to control this behavior.\n",
      "  _warn_prf(average, modifier, f\"{metric.capitalize()} is\", len(result))\n",
      "\n"
     ]
    },
    {
     "name": "stdout",
     "output_type": "stream",
     "text": [
      "🏃 View run SVC_{'C': 0.05, 'gamma': 0.01, 'kernel': 'rbf'} at: http://127.0.0.1:8080/#/experiments/338383607405652458/runs/73e8535d26fe4ca7bcc3836552cf343d\n",
      "\n",
      "🧪 View experiment at: http://127.0.0.1:8080/#/experiments/338383607405652458\n",
      "\n",
      "Params: {'C': 1, 'gamma': 0.1, 'kernel': 'rbf'}                                  \n",
      " 20%|██        | 1/5 [00:30<02:00, 30.15s/trial, best loss: -0.33310749162724596]"
     ]
    },
    {
     "name": "stderr",
     "output_type": "stream",
     "text": [
      "/home/renan/miniconda3/lib/python3.12/site-packages/sklearn/metrics/_classification.py:1565: UndefinedMetricWarning: Precision is ill-defined and being set to 0.0 in labels with no predicted samples. Use `zero_division` parameter to control this behavior.\n",
      "  _warn_prf(average, modifier, f\"{metric.capitalize()} is\", len(result))\n",
      "\n"
     ]
    },
    {
     "name": "stdout",
     "output_type": "stream",
     "text": [
      "🏃 View run SVC_{'C': 1, 'gamma': 0.1, 'kernel': 'rbf'} at: http://127.0.0.1:8080/#/experiments/338383607405652458/runs/df4473769ce24ea3a1c900d8f9010e18\n",
      "\n",
      "🧪 View experiment at: http://127.0.0.1:8080/#/experiments/338383607405652458    \n",
      "\n",
      "Params: {'C': 0.05, 'gamma': 0.001, 'kernel': 'rbf'}                             \n",
      " 40%|████      | 2/5 [01:04<01:37, 32.45s/trial, best loss: -0.33310749162724596]"
     ]
    },
    {
     "name": "stderr",
     "output_type": "stream",
     "text": [
      "/home/renan/miniconda3/lib/python3.12/site-packages/sklearn/metrics/_classification.py:1565: UndefinedMetricWarning: Precision is ill-defined and being set to 0.0 in labels with no predicted samples. Use `zero_division` parameter to control this behavior.\n",
      "  _warn_prf(average, modifier, f\"{metric.capitalize()} is\", len(result))\n",
      "\n"
     ]
    },
    {
     "name": "stdout",
     "output_type": "stream",
     "text": [
      "🏃 View run SVC_{'C': 0.05, 'gamma': 0.001, 'kernel': 'rbf'} at: http://127.0.0.1:8080/#/experiments/338383607405652458/runs/525512b303d14574ab1b82aed73ac8f4\n",
      "\n",
      "🧪 View experiment at: http://127.0.0.1:8080/#/experiments/338383607405652458    \n",
      "\n",
      "Params: {'C': 1, 'gamma': 1, 'kernel': 'rbf'}                                    \n",
      " 60%|██████    | 3/5 [01:34<01:02, 31.38s/trial, best loss: -0.33310749162724596]"
     ]
    },
    {
     "name": "stderr",
     "output_type": "stream",
     "text": [
      "/home/renan/miniconda3/lib/python3.12/site-packages/sklearn/metrics/_classification.py:1565: UndefinedMetricWarning: Precision is ill-defined and being set to 0.0 in labels with no predicted samples. Use `zero_division` parameter to control this behavior.\n",
      "  _warn_prf(average, modifier, f\"{metric.capitalize()} is\", len(result))\n",
      "\n"
     ]
    },
    {
     "name": "stdout",
     "output_type": "stream",
     "text": [
      "🏃 View run SVC_{'C': 1, 'gamma': 1, 'kernel': 'rbf'} at: http://127.0.0.1:8080/#/experiments/338383607405652458/runs/69c3440cb6a2404aa95508003b9d5119\n",
      "\n",
      "🧪 View experiment at: http://127.0.0.1:8080/#/experiments/338383607405652458    \n",
      "\n",
      "Params: {'C': 0.5, 'gamma': 0.001, 'kernel': 'rbf'}                              \n",
      " 80%|████████  | 4/5 [02:19<00:36, 36.94s/trial, best loss: -0.33310749162724596]"
     ]
    },
    {
     "name": "stderr",
     "output_type": "stream",
     "text": [
      "/home/renan/miniconda3/lib/python3.12/site-packages/sklearn/metrics/_classification.py:1565: UndefinedMetricWarning: Precision is ill-defined and being set to 0.0 in labels with no predicted samples. Use `zero_division` parameter to control this behavior.\n",
      "  _warn_prf(average, modifier, f\"{metric.capitalize()} is\", len(result))\n",
      "\n"
     ]
    },
    {
     "name": "stdout",
     "output_type": "stream",
     "text": [
      "🏃 View run SVC_{'C': 0.5, 'gamma': 0.001, 'kernel': 'rbf'} at: http://127.0.0.1:8080/#/experiments/338383607405652458/runs/575b2118bb7347b193ff29a97641e109\n",
      "\n",
      "🧪 View experiment at: http://127.0.0.1:8080/#/experiments/338383607405652458    \n",
      "\n",
      "100%|██████████| 5/5 [02:49<00:00, 33.99s/trial, best loss: -0.33310749162724596]\n",
      "🏃 View run svc-sweep at: http://127.0.0.1:8080/#/experiments/338383607405652458/runs/eabe81d2355b4fe6808414b32882fc89\n",
      "🧪 View experiment at: http://127.0.0.1:8080/#/experiments/338383607405652458\n",
      "This will run 5 trials to find optimal hyperparameters...\n",
      "Params: {'C': 1}                                     \n",
      "  0%|          | 0/5 [00:00<?, ?trial/s, best loss=?]"
     ]
    },
    {
     "name": "stderr",
     "output_type": "stream",
     "text": [
      "/home/renan/miniconda3/lib/python3.12/site-packages/sklearn/metrics/_classification.py:1565: UndefinedMetricWarning: Precision is ill-defined and being set to 0.0 in labels with no predicted samples. Use `zero_division` parameter to control this behavior.\n",
      "  _warn_prf(average, modifier, f\"{metric.capitalize()} is\", len(result))\n",
      "\n"
     ]
    },
    {
     "name": "stdout",
     "output_type": "stream",
     "text": [
      "🏃 View run LinearSVC_{'C': 1} at: http://127.0.0.1:8080/#/experiments/338383607405652458/runs/7d3fc06306394ea8a778cf9f2e69c370\n",
      "\n",
      "🧪 View experiment at: http://127.0.0.1:8080/#/experiments/338383607405652458\n",
      "\n",
      "Params: {'C': 1}                                                                 \n",
      " 20%|██        | 1/5 [00:01<00:07,  1.97s/trial, best loss: -0.33310749162724596]"
     ]
    },
    {
     "name": "stderr",
     "output_type": "stream",
     "text": [
      "/home/renan/miniconda3/lib/python3.12/site-packages/sklearn/metrics/_classification.py:1565: UndefinedMetricWarning: Precision is ill-defined and being set to 0.0 in labels with no predicted samples. Use `zero_division` parameter to control this behavior.\n",
      "  _warn_prf(average, modifier, f\"{metric.capitalize()} is\", len(result))\n",
      "\n"
     ]
    },
    {
     "name": "stdout",
     "output_type": "stream",
     "text": [
      "🏃 View run LinearSVC_{'C': 1} at: http://127.0.0.1:8080/#/experiments/338383607405652458/runs/a3f08f5232bc4cf8b4497d9f7c708b63\n",
      "\n",
      "🧪 View experiment at: http://127.0.0.1:8080/#/experiments/338383607405652458    \n",
      "\n",
      "Params: {'C': 1}                                                                 \n",
      " 40%|████      | 2/5 [00:03<00:05,  1.97s/trial, best loss: -0.33310749162724596]"
     ]
    },
    {
     "name": "stderr",
     "output_type": "stream",
     "text": [
      "/home/renan/miniconda3/lib/python3.12/site-packages/sklearn/metrics/_classification.py:1565: UndefinedMetricWarning: Precision is ill-defined and being set to 0.0 in labels with no predicted samples. Use `zero_division` parameter to control this behavior.\n",
      "  _warn_prf(average, modifier, f\"{metric.capitalize()} is\", len(result))\n",
      "\n"
     ]
    },
    {
     "name": "stdout",
     "output_type": "stream",
     "text": [
      "🏃 View run LinearSVC_{'C': 1} at: http://127.0.0.1:8080/#/experiments/338383607405652458/runs/019d64cb3f59472e81e1d25633bcddc2\n",
      "\n",
      "🧪 View experiment at: http://127.0.0.1:8080/#/experiments/338383607405652458    \n",
      "\n",
      "Params: {'C': 1}                                                                 \n",
      " 60%|██████    | 3/5 [00:05<00:03,  1.98s/trial, best loss: -0.33310749162724596]"
     ]
    },
    {
     "name": "stderr",
     "output_type": "stream",
     "text": [
      "/home/renan/miniconda3/lib/python3.12/site-packages/sklearn/metrics/_classification.py:1565: UndefinedMetricWarning: Precision is ill-defined and being set to 0.0 in labels with no predicted samples. Use `zero_division` parameter to control this behavior.\n",
      "  _warn_prf(average, modifier, f\"{metric.capitalize()} is\", len(result))\n",
      "\n"
     ]
    },
    {
     "name": "stdout",
     "output_type": "stream",
     "text": [
      "🏃 View run LinearSVC_{'C': 1} at: http://127.0.0.1:8080/#/experiments/338383607405652458/runs/30c0813a073a4ba9b47bcc5d08b77a32\n",
      "\n",
      "🧪 View experiment at: http://127.0.0.1:8080/#/experiments/338383607405652458    \n",
      "\n",
      "Params: {'C': 0.01}                                                              \n",
      " 80%|████████  | 4/5 [00:07<00:01,  1.98s/trial, best loss: -0.33310749162724596]"
     ]
    },
    {
     "name": "stderr",
     "output_type": "stream",
     "text": [
      "/home/renan/miniconda3/lib/python3.12/site-packages/sklearn/metrics/_classification.py:1565: UndefinedMetricWarning: Precision is ill-defined and being set to 0.0 in labels with no predicted samples. Use `zero_division` parameter to control this behavior.\n",
      "  _warn_prf(average, modifier, f\"{metric.capitalize()} is\", len(result))\n",
      "\n"
     ]
    },
    {
     "name": "stdout",
     "output_type": "stream",
     "text": [
      "🏃 View run LinearSVC_{'C': 0.01} at: http://127.0.0.1:8080/#/experiments/338383607405652458/runs/97635a5891a540e987e84082146dd35a\n",
      "\n",
      "🧪 View experiment at: http://127.0.0.1:8080/#/experiments/338383607405652458    \n",
      "\n",
      "100%|██████████| 5/5 [00:09<00:00,  1.95s/trial, best loss: -0.33310749162724596]\n",
      "🏃 View run svc-linear-sweep at: http://127.0.0.1:8080/#/experiments/338383607405652458/runs/dfc7d674534f4711b32964a4dee22400\n",
      "🧪 View experiment at: http://127.0.0.1:8080/#/experiments/338383607405652458\n",
      "This will run 5 trials to find optimal hyperparameters...\n",
      "Params: {'learning_rate': 0.001, 'max_depth': 10, 'n_estimators': 1000, 'random_state': 42}\n",
      "  0%|          | 0/5 [00:00<?, ?trial/s, best loss=?]"
     ]
    },
    {
     "name": "stderr",
     "output_type": "stream",
     "text": [
      "/home/renan/miniconda3/lib/python3.12/site-packages/sklearn/metrics/_classification.py:1565: UndefinedMetricWarning: Precision is ill-defined and being set to 0.0 in labels with no predicted samples. Use `zero_division` parameter to control this behavior.\n",
      "  _warn_prf(average, modifier, f\"{metric.capitalize()} is\", len(result))\n",
      "\n"
     ]
    },
    {
     "name": "stdout",
     "output_type": "stream",
     "text": [
      "🏃 View run XGBClassifier_{'learning_rate': 0.001, 'max_depth': 10, 'n_estimators': 1000, 'random_state': 42} at: http://127.0.0.1:8080/#/experiments/338383607405652458/runs/0136cee6959945f4b98c7877d3ed6dc8\n",
      "\n",
      "🧪 View experiment at: http://127.0.0.1:8080/#/experiments/338383607405652458\n",
      "\n",
      "Params: {'learning_rate': 0.4, 'max_depth': 5, 'n_estimators': 700, 'random_state': 42}\n",
      "🏃 View run XGBClassifier_{'learning_rate': 0.4, 'max_depth': 5, 'n_estimators': 700, 'random_state': 42} at: http://127.0.0.1:8080/#/experiments/338383607405652458/runs/3a5b83f72fbd49659e3476879bc7aefe\n",
      "\n",
      "🧪 View experiment at: http://127.0.0.1:8080/#/experiments/338383607405652458    \n",
      "\n",
      "Params: {'learning_rate': 0.5, 'max_depth': None, 'n_estimators': 1000, 'random_state': 42}\n",
      "🏃 View run XGBClassifier_{'learning_rate': 0.5, 'max_depth': None, 'n_estimators': 1000, 'random_state': 42} at: http://127.0.0.1:8080/#/experiments/338383607405652458/runs/2e08245c262f4048a2a38f3b814af3a6\n",
      "\n",
      "🧪 View experiment at: http://127.0.0.1:8080/#/experiments/338383607405652458    \n",
      "\n",
      "Params: {'learning_rate': 0.1, 'max_depth': None, 'n_estimators': 500, 'random_state': 42}\n",
      "🏃 View run XGBClassifier_{'learning_rate': 0.1, 'max_depth': None, 'n_estimators': 500, 'random_state': 42} at: http://127.0.0.1:8080/#/experiments/338383607405652458/runs/ee448636f38944738644586f6937fa4c\n",
      "\n",
      "🧪 View experiment at: http://127.0.0.1:8080/#/experiments/338383607405652458    \n",
      "\n",
      "Params: {'learning_rate': 0.2, 'max_depth': 10, 'n_estimators': 200, 'random_state': 42}\n",
      "🏃 View run XGBClassifier_{'learning_rate': 0.2, 'max_depth': 10, 'n_estimators': 200, 'random_state': 42} at: http://127.0.0.1:8080/#/experiments/338383607405652458/runs/6ba1afe6252041d1ac8f77c8cbdba1a1\n",
      "\n",
      "🧪 View experiment at: http://127.0.0.1:8080/#/experiments/338383607405652458    \n",
      "\n",
      "100%|██████████| 5/5 [01:07<00:00, 13.55s/trial, best loss: -0.40131969784645705]\n",
      "🏃 View run xgb-sweep at: http://127.0.0.1:8080/#/experiments/338383607405652458/runs/4a367e4dba214083a0c6517ed044792b\n",
      "🧪 View experiment at: http://127.0.0.1:8080/#/experiments/338383607405652458\n"
     ]
    },
    {
     "data": {
      "text/plain": [
       "0.40131969784645705"
      ]
     },
     "execution_count": 100,
     "metadata": {},
     "output_type": "execute_result"
    }
   ],
   "source": [
    "model = RandomForestClassifier\n",
    "run_experiments('rf-sweep', max_evals=max_evals, search_space=search_space_rf, data_name=data_name, model_name = 'RandomForestClassifier', features_names=columns_to_keep)\n",
    "model = SVC\n",
    "run_experiments('svc-sweep', max_evals=max_evals, search_space=search_space_svc, data_name=data_name, model_name = 'SVC', features_names=columns_to_keep)\n",
    "model = LinearSVC\n",
    "run_experiments('svc-linear-sweep', max_evals=max_evals, search_space=search_space_svc_linear, data_name=data_name, model_name = 'LinearSVC', features_names=columns_to_keep)\n",
    "model = xgb.XGBClassifier\n",
    "run_experiments('xgb-sweep', max_evals=max_evals, search_space=search_space_xgb, data_name=data_name, model_name = 'XGBClassifier', features_names=columns_to_keep)"
   ]
  },
  {
   "cell_type": "markdown",
   "id": "24d285d9",
   "metadata": {},
   "source": [
    "## Real + SUMO (20 % synthetic)"
   ]
  },
  {
   "cell_type": "code",
   "execution_count": null,
   "id": "0915f8d1",
   "metadata": {},
   "outputs": [],
   "source": [
    "sumo_uah_fixed_20 = preprocessor.fill_synthetic_data(sumo_uah_fixed, 0.2)\n",
    "sumo_uah_llm_20 = preprocessor.fill_synthetic_data(sumo_uah_llm, 0.2)"
   ]
  },
  {
   "cell_type": "code",
   "execution_count": null,
   "id": "ae426d42",
   "metadata": {},
   "outputs": [],
   "source": [
    "# SUMO_UAH\n",
    "X_sumo_uah_fixed_20, y_sumo_uah_fixed_20 = preprocessor.sliding_windows(sumo_uah_fixed_20, window_size=window_size, step_size=step_size)\n",
    "X_sumo_uah_llm_20, y_sumo_uah_llm_20 = preprocessor.sliding_windows(sumo_uah_llm_20, window_size=window_size, step_size=step_size)"
   ]
  },
  {
   "cell_type": "code",
   "execution_count": null,
   "id": "c9c11d86",
   "metadata": {},
   "outputs": [
    {
     "name": "stdout",
     "output_type": "stream",
     "text": [
      "Columns to keep for validation: ['acc', 'angle', 'speed', 'gyro_z', 'label']\n"
     ]
    }
   ],
   "source": [
    "# Getting the validation for SUMO variables\n",
    "columns_to_keep = sumo_uah_fixed_20.columns.tolist()\n",
    "print(\"Columns to keep for validation:\", columns_to_keep)\n",
    "\n",
    "X_val_base, y_val = preprocessor.sliding_windows(uah_validation[columns_to_keep], window_size=window_size, step_size=step_size)\n",
    "y_val = preprocessor.one_hot_encode(y_val, one_hot_keys=one_hot_keys)"
   ]
  },
  {
   "cell_type": "markdown",
   "id": "133dd3c5",
   "metadata": {},
   "source": [
    "### Fixed"
   ]
  },
  {
   "cell_type": "code",
   "execution_count": null,
   "id": "5840afcb",
   "metadata": {},
   "outputs": [
    {
     "name": "stdout",
     "output_type": "stream",
     "text": [
      "Experiment already exists: RESOURCE_ALREADY_EXISTS: Experiment 'Driver_Behavior_Models_UAH_SUMO_Fixed_20' already exists.\n"
     ]
    }
   ],
   "source": [
    "# Provide an Experiment description that will appear in the UI\n",
    "experiment_description = (\n",
    "    \"Experiment to train models on the UAH + SUMO Fixed (20%) dataset.\"\n",
    ")\n",
    "\n",
    "# Provide searchable tags that define characteristics of the Runs that\n",
    "# will be in this Experiment\n",
    "experiment_tags = {\n",
    "    \"project_name\": \"driver-behavior-prediction\",\n",
    "    \"mlflow.note.content\": experiment_description,\n",
    "}\n",
    "\n",
    "# Create the Experiment, providing a unique name\n",
    "try:\n",
    "    driver_behavior_experiment = client.create_experiment(\n",
    "        name=\"Driver_Behavior_Models_UAH_SUMO_Fixed_20\", tags=experiment_tags\n",
    "    )\n",
    "except mlflow.exceptions.RestException as e:\n",
    "    print(f\"Experiment already exists: {e}\")"
   ]
  },
  {
   "cell_type": "code",
   "execution_count": null,
   "id": "43f2e1b5",
   "metadata": {},
   "outputs": [],
   "source": [
    "X_train, y_train = X_sumo_uah_fixed_20, y_sumo_uah_fixed_20\n",
    "\n",
    "scaler = StandardScaler()\n",
    "X_train = scaler.fit_transform(X_train)\n",
    "X_val = scaler.transform(X_val_base)\n",
    "y_train = preprocessor.one_hot_encode(y_train, one_hot_keys=one_hot_keys)\n",
    "\n",
    "signature = infer_signature(X_train, y_train)\n",
    "mlflow.set_experiment('Driver_Behavior_Models_UAH_SUMO_Fixed_20')\n",
    "data_name = 'UAH_SUMO_Fixed_20'"
   ]
  },
  {
   "cell_type": "code",
   "execution_count": null,
   "id": "9eb54c1b",
   "metadata": {},
   "outputs": [
    {
     "name": "stdout",
     "output_type": "stream",
     "text": [
      "This will run 5 trials to find optimal hyperparameters...\n",
      "  0%|          | 0/5 [00:00<?, ?trial/s, best loss=?]"
     ]
    },
    {
     "name": "stdout",
     "output_type": "stream",
     "text": [
      "Params: {'max_depth': None, 'n_estimators': 50, 'random_state': 42}\n",
      "🏃 View run RandomForestClassifier_{'max_depth': None, 'n_estimators': 50, 'random_state': 42} at: http://127.0.0.1:8080/#/experiments/266617953664885142/runs/b3e2f86150034bbb981f1c407686bbc9\n",
      "\n",
      "🧪 View experiment at: http://127.0.0.1:8080/#/experiments/266617953664885142\n",
      "\n",
      "Params: {'max_depth': None, 'n_estimators': 200, 'random_state': 42}            \n",
      "🏃 View run RandomForestClassifier_{'max_depth': None, 'n_estimators': 200, 'random_state': 42} at: http://127.0.0.1:8080/#/experiments/266617953664885142/runs/bca2a17241d6429fbdffea089ee4fea6\n",
      "\n",
      "🧪 View experiment at: http://127.0.0.1:8080/#/experiments/266617953664885142   \n",
      "\n",
      " 20%|██        | 1/5 [00:09<00:39,  9.76s/trial, best loss: -0.6038356386029884]\n",
      "🏃 View run rf-sweep at: http://127.0.0.1:8080/#/experiments/266617953664885142/runs/89834a4c79b74a9c930a09c96dfc6bab\n",
      "🧪 View experiment at: http://127.0.0.1:8080/#/experiments/266617953664885142\n"
     ]
    },
    {
     "ename": "KeyboardInterrupt",
     "evalue": "",
     "output_type": "error",
     "traceback": [
      "\u001b[31m---------------------------------------------------------------------------\u001b[39m",
      "\u001b[31mKeyboardInterrupt\u001b[39m                         Traceback (most recent call last)",
      "\u001b[36mCell\u001b[39m\u001b[36m \u001b[39m\u001b[32mIn[172]\u001b[39m\u001b[32m, line 2\u001b[39m\n\u001b[32m      1\u001b[39m model = RandomForestClassifier\n\u001b[32m----> \u001b[39m\u001b[32m2\u001b[39m \u001b[43mrun_experiments\u001b[49m\u001b[43m(\u001b[49m\u001b[33;43m'\u001b[39;49m\u001b[33;43mrf-sweep\u001b[39;49m\u001b[33;43m'\u001b[39;49m\u001b[43m,\u001b[49m\u001b[43m \u001b[49m\u001b[43mmax_evals\u001b[49m\u001b[43m=\u001b[49m\u001b[43mmax_evals\u001b[49m\u001b[43m,\u001b[49m\u001b[43m \u001b[49m\u001b[43msearch_space\u001b[49m\u001b[43m=\u001b[49m\u001b[43msearch_space_rf\u001b[49m\u001b[43m,\u001b[49m\u001b[43m \u001b[49m\u001b[43mdata_name\u001b[49m\u001b[43m=\u001b[49m\u001b[43mdata_name\u001b[49m\u001b[43m,\u001b[49m\u001b[43m \u001b[49m\u001b[43mmodel_name\u001b[49m\u001b[43m \u001b[49m\u001b[43m=\u001b[49m\u001b[43m \u001b[49m\u001b[33;43m'\u001b[39;49m\u001b[33;43mRandomForestClassifier\u001b[39;49m\u001b[33;43m'\u001b[39;49m\u001b[43m,\u001b[49m\u001b[43m \u001b[49m\u001b[43mfeatures_names\u001b[49m\u001b[43m=\u001b[49m\u001b[43mcolumns_to_keep\u001b[49m\u001b[43m)\u001b[49m\n\u001b[32m      3\u001b[39m model = SVC\n\u001b[32m      4\u001b[39m run_experiments(\u001b[33m'\u001b[39m\u001b[33msvc-sweep\u001b[39m\u001b[33m'\u001b[39m, max_evals=max_evals, search_space=search_space_svc, data_name=data_name, model_name = \u001b[33m'\u001b[39m\u001b[33mSVC\u001b[39m\u001b[33m'\u001b[39m, features_names=columns_to_keep)\n",
      "\u001b[36mCell\u001b[39m\u001b[36m \u001b[39m\u001b[32mIn[171]\u001b[39m\u001b[32m, line 26\u001b[39m, in \u001b[36mrun_experiments\u001b[39m\u001b[34m(run_name, max_evals, search_space, data_name, features_names, model_name)\u001b[39m\n\u001b[32m     23\u001b[39m trials = Trials()\n\u001b[32m     24\u001b[39m objective_with_name = partial(objective, model_name=model_name)\n\u001b[32m---> \u001b[39m\u001b[32m26\u001b[39m best_params = \u001b[43mfmin\u001b[49m\u001b[43m(\u001b[49m\n\u001b[32m     27\u001b[39m \u001b[43m    \u001b[49m\u001b[43mfn\u001b[49m\u001b[43m=\u001b[49m\u001b[43mobjective_with_name\u001b[49m\u001b[43m,\u001b[49m\n\u001b[32m     28\u001b[39m \u001b[43m    \u001b[49m\u001b[43mspace\u001b[49m\u001b[43m=\u001b[49m\u001b[43msearch_space\u001b[49m\u001b[43m,\u001b[49m\n\u001b[32m     29\u001b[39m \u001b[43m    \u001b[49m\u001b[43malgo\u001b[49m\u001b[43m=\u001b[49m\u001b[43mtpe\u001b[49m\u001b[43m.\u001b[49m\u001b[43msuggest\u001b[49m\u001b[43m,\u001b[49m\n\u001b[32m     30\u001b[39m \u001b[43m    \u001b[49m\u001b[43mmax_evals\u001b[49m\u001b[43m=\u001b[49m\u001b[43mmax_evals\u001b[49m\u001b[43m,\u001b[49m\n\u001b[32m     31\u001b[39m \u001b[43m    \u001b[49m\u001b[43mtrials\u001b[49m\u001b[43m=\u001b[49m\u001b[43mtrials\u001b[49m\u001b[43m,\u001b[49m\n\u001b[32m     32\u001b[39m \u001b[43m    \u001b[49m\u001b[43mverbose\u001b[49m\u001b[43m=\u001b[49m\u001b[38;5;28;43;01mTrue\u001b[39;49;00m\u001b[43m,\u001b[49m\n\u001b[32m     33\u001b[39m \u001b[43m\u001b[49m\u001b[43m)\u001b[49m\n\u001b[32m     35\u001b[39m \u001b[38;5;66;03m# Find and log best results\u001b[39;00m\n\u001b[32m     36\u001b[39m best_trial = \u001b[38;5;28mmin\u001b[39m(trials.results, key=\u001b[38;5;28;01mlambda\u001b[39;00m x: x[\u001b[33m\"\u001b[39m\u001b[33mloss\u001b[39m\u001b[33m\"\u001b[39m])\n",
      "\u001b[36mFile \u001b[39m\u001b[32m~/miniconda3/lib/python3.12/site-packages/hyperopt/fmin.py:540\u001b[39m, in \u001b[36mfmin\u001b[39m\u001b[34m(fn, space, algo, max_evals, timeout, loss_threshold, trials, rstate, allow_trials_fmin, pass_expr_memo_ctrl, catch_eval_exceptions, verbose, return_argmin, points_to_evaluate, max_queue_len, show_progressbar, early_stop_fn, trials_save_file)\u001b[39m\n\u001b[32m    537\u001b[39m     fn = __objective_fmin_wrapper(fn)\n\u001b[32m    539\u001b[39m \u001b[38;5;28;01mif\u001b[39;00m allow_trials_fmin \u001b[38;5;129;01mand\u001b[39;00m \u001b[38;5;28mhasattr\u001b[39m(trials, \u001b[33m\"\u001b[39m\u001b[33mfmin\u001b[39m\u001b[33m\"\u001b[39m):\n\u001b[32m--> \u001b[39m\u001b[32m540\u001b[39m     \u001b[38;5;28;01mreturn\u001b[39;00m \u001b[43mtrials\u001b[49m\u001b[43m.\u001b[49m\u001b[43mfmin\u001b[49m\u001b[43m(\u001b[49m\n\u001b[32m    541\u001b[39m \u001b[43m        \u001b[49m\u001b[43mfn\u001b[49m\u001b[43m,\u001b[49m\n\u001b[32m    542\u001b[39m \u001b[43m        \u001b[49m\u001b[43mspace\u001b[49m\u001b[43m,\u001b[49m\n\u001b[32m    543\u001b[39m \u001b[43m        \u001b[49m\u001b[43malgo\u001b[49m\u001b[43m=\u001b[49m\u001b[43malgo\u001b[49m\u001b[43m,\u001b[49m\n\u001b[32m    544\u001b[39m \u001b[43m        \u001b[49m\u001b[43mmax_evals\u001b[49m\u001b[43m=\u001b[49m\u001b[43mmax_evals\u001b[49m\u001b[43m,\u001b[49m\n\u001b[32m    545\u001b[39m \u001b[43m        \u001b[49m\u001b[43mtimeout\u001b[49m\u001b[43m=\u001b[49m\u001b[43mtimeout\u001b[49m\u001b[43m,\u001b[49m\n\u001b[32m    546\u001b[39m \u001b[43m        \u001b[49m\u001b[43mloss_threshold\u001b[49m\u001b[43m=\u001b[49m\u001b[43mloss_threshold\u001b[49m\u001b[43m,\u001b[49m\n\u001b[32m    547\u001b[39m \u001b[43m        \u001b[49m\u001b[43mmax_queue_len\u001b[49m\u001b[43m=\u001b[49m\u001b[43mmax_queue_len\u001b[49m\u001b[43m,\u001b[49m\n\u001b[32m    548\u001b[39m \u001b[43m        \u001b[49m\u001b[43mrstate\u001b[49m\u001b[43m=\u001b[49m\u001b[43mrstate\u001b[49m\u001b[43m,\u001b[49m\n\u001b[32m    549\u001b[39m \u001b[43m        \u001b[49m\u001b[43mpass_expr_memo_ctrl\u001b[49m\u001b[43m=\u001b[49m\u001b[43mpass_expr_memo_ctrl\u001b[49m\u001b[43m,\u001b[49m\n\u001b[32m    550\u001b[39m \u001b[43m        \u001b[49m\u001b[43mverbose\u001b[49m\u001b[43m=\u001b[49m\u001b[43mverbose\u001b[49m\u001b[43m,\u001b[49m\n\u001b[32m    551\u001b[39m \u001b[43m        \u001b[49m\u001b[43mcatch_eval_exceptions\u001b[49m\u001b[43m=\u001b[49m\u001b[43mcatch_eval_exceptions\u001b[49m\u001b[43m,\u001b[49m\n\u001b[32m    552\u001b[39m \u001b[43m        \u001b[49m\u001b[43mreturn_argmin\u001b[49m\u001b[43m=\u001b[49m\u001b[43mreturn_argmin\u001b[49m\u001b[43m,\u001b[49m\n\u001b[32m    553\u001b[39m \u001b[43m        \u001b[49m\u001b[43mshow_progressbar\u001b[49m\u001b[43m=\u001b[49m\u001b[43mshow_progressbar\u001b[49m\u001b[43m,\u001b[49m\n\u001b[32m    554\u001b[39m \u001b[43m        \u001b[49m\u001b[43mearly_stop_fn\u001b[49m\u001b[43m=\u001b[49m\u001b[43mearly_stop_fn\u001b[49m\u001b[43m,\u001b[49m\n\u001b[32m    555\u001b[39m \u001b[43m        \u001b[49m\u001b[43mtrials_save_file\u001b[49m\u001b[43m=\u001b[49m\u001b[43mtrials_save_file\u001b[49m\u001b[43m,\u001b[49m\n\u001b[32m    556\u001b[39m \u001b[43m    \u001b[49m\u001b[43m)\u001b[49m\n\u001b[32m    558\u001b[39m \u001b[38;5;28;01mif\u001b[39;00m trials \u001b[38;5;129;01mis\u001b[39;00m \u001b[38;5;28;01mNone\u001b[39;00m:\n\u001b[32m    559\u001b[39m     \u001b[38;5;28;01mif\u001b[39;00m os.path.exists(trials_save_file):\n",
      "\u001b[36mFile \u001b[39m\u001b[32m~/miniconda3/lib/python3.12/site-packages/hyperopt/base.py:671\u001b[39m, in \u001b[36mTrials.fmin\u001b[39m\u001b[34m(self, fn, space, algo, max_evals, timeout, loss_threshold, max_queue_len, rstate, verbose, pass_expr_memo_ctrl, catch_eval_exceptions, return_argmin, show_progressbar, early_stop_fn, trials_save_file)\u001b[39m\n\u001b[32m    666\u001b[39m \u001b[38;5;66;03m# -- Stop-gap implementation!\u001b[39;00m\n\u001b[32m    667\u001b[39m \u001b[38;5;66;03m#    fmin should have been a Trials method in the first place\u001b[39;00m\n\u001b[32m    668\u001b[39m \u001b[38;5;66;03m#    but for now it's still sitting in another file.\u001b[39;00m\n\u001b[32m    669\u001b[39m \u001b[38;5;28;01mfrom\u001b[39;00m \u001b[34;01m.\u001b[39;00m\u001b[34;01mfmin\u001b[39;00m \u001b[38;5;28;01mimport\u001b[39;00m fmin\n\u001b[32m--> \u001b[39m\u001b[32m671\u001b[39m \u001b[38;5;28;01mreturn\u001b[39;00m \u001b[43mfmin\u001b[49m\u001b[43m(\u001b[49m\n\u001b[32m    672\u001b[39m \u001b[43m    \u001b[49m\u001b[43mfn\u001b[49m\u001b[43m,\u001b[49m\n\u001b[32m    673\u001b[39m \u001b[43m    \u001b[49m\u001b[43mspace\u001b[49m\u001b[43m,\u001b[49m\n\u001b[32m    674\u001b[39m \u001b[43m    \u001b[49m\u001b[43malgo\u001b[49m\u001b[43m=\u001b[49m\u001b[43malgo\u001b[49m\u001b[43m,\u001b[49m\n\u001b[32m    675\u001b[39m \u001b[43m    \u001b[49m\u001b[43mmax_evals\u001b[49m\u001b[43m=\u001b[49m\u001b[43mmax_evals\u001b[49m\u001b[43m,\u001b[49m\n\u001b[32m    676\u001b[39m \u001b[43m    \u001b[49m\u001b[43mtimeout\u001b[49m\u001b[43m=\u001b[49m\u001b[43mtimeout\u001b[49m\u001b[43m,\u001b[49m\n\u001b[32m    677\u001b[39m \u001b[43m    \u001b[49m\u001b[43mloss_threshold\u001b[49m\u001b[43m=\u001b[49m\u001b[43mloss_threshold\u001b[49m\u001b[43m,\u001b[49m\n\u001b[32m    678\u001b[39m \u001b[43m    \u001b[49m\u001b[43mtrials\u001b[49m\u001b[43m=\u001b[49m\u001b[38;5;28;43mself\u001b[39;49m\u001b[43m,\u001b[49m\n\u001b[32m    679\u001b[39m \u001b[43m    \u001b[49m\u001b[43mrstate\u001b[49m\u001b[43m=\u001b[49m\u001b[43mrstate\u001b[49m\u001b[43m,\u001b[49m\n\u001b[32m    680\u001b[39m \u001b[43m    \u001b[49m\u001b[43mverbose\u001b[49m\u001b[43m=\u001b[49m\u001b[43mverbose\u001b[49m\u001b[43m,\u001b[49m\n\u001b[32m    681\u001b[39m \u001b[43m    \u001b[49m\u001b[43mmax_queue_len\u001b[49m\u001b[43m=\u001b[49m\u001b[43mmax_queue_len\u001b[49m\u001b[43m,\u001b[49m\n\u001b[32m    682\u001b[39m \u001b[43m    \u001b[49m\u001b[43mallow_trials_fmin\u001b[49m\u001b[43m=\u001b[49m\u001b[38;5;28;43;01mFalse\u001b[39;49;00m\u001b[43m,\u001b[49m\u001b[43m  \u001b[49m\u001b[38;5;66;43;03m# -- prevent recursion\u001b[39;49;00m\n\u001b[32m    683\u001b[39m \u001b[43m    \u001b[49m\u001b[43mpass_expr_memo_ctrl\u001b[49m\u001b[43m=\u001b[49m\u001b[43mpass_expr_memo_ctrl\u001b[49m\u001b[43m,\u001b[49m\n\u001b[32m    684\u001b[39m \u001b[43m    \u001b[49m\u001b[43mcatch_eval_exceptions\u001b[49m\u001b[43m=\u001b[49m\u001b[43mcatch_eval_exceptions\u001b[49m\u001b[43m,\u001b[49m\n\u001b[32m    685\u001b[39m \u001b[43m    \u001b[49m\u001b[43mreturn_argmin\u001b[49m\u001b[43m=\u001b[49m\u001b[43mreturn_argmin\u001b[49m\u001b[43m,\u001b[49m\n\u001b[32m    686\u001b[39m \u001b[43m    \u001b[49m\u001b[43mshow_progressbar\u001b[49m\u001b[43m=\u001b[49m\u001b[43mshow_progressbar\u001b[49m\u001b[43m,\u001b[49m\n\u001b[32m    687\u001b[39m \u001b[43m    \u001b[49m\u001b[43mearly_stop_fn\u001b[49m\u001b[43m=\u001b[49m\u001b[43mearly_stop_fn\u001b[49m\u001b[43m,\u001b[49m\n\u001b[32m    688\u001b[39m \u001b[43m    \u001b[49m\u001b[43mtrials_save_file\u001b[49m\u001b[43m=\u001b[49m\u001b[43mtrials_save_file\u001b[49m\u001b[43m,\u001b[49m\n\u001b[32m    689\u001b[39m \u001b[43m\u001b[49m\u001b[43m)\u001b[49m\n",
      "\u001b[36mFile \u001b[39m\u001b[32m~/miniconda3/lib/python3.12/site-packages/hyperopt/fmin.py:586\u001b[39m, in \u001b[36mfmin\u001b[39m\u001b[34m(fn, space, algo, max_evals, timeout, loss_threshold, trials, rstate, allow_trials_fmin, pass_expr_memo_ctrl, catch_eval_exceptions, verbose, return_argmin, points_to_evaluate, max_queue_len, show_progressbar, early_stop_fn, trials_save_file)\u001b[39m\n\u001b[32m    583\u001b[39m rval.catch_eval_exceptions = catch_eval_exceptions\n\u001b[32m    585\u001b[39m \u001b[38;5;66;03m# next line is where the fmin is actually executed\u001b[39;00m\n\u001b[32m--> \u001b[39m\u001b[32m586\u001b[39m \u001b[43mrval\u001b[49m\u001b[43m.\u001b[49m\u001b[43mexhaust\u001b[49m\u001b[43m(\u001b[49m\u001b[43m)\u001b[49m\n\u001b[32m    588\u001b[39m \u001b[38;5;28;01mif\u001b[39;00m return_argmin:\n\u001b[32m    589\u001b[39m     \u001b[38;5;28;01mif\u001b[39;00m \u001b[38;5;28mlen\u001b[39m(trials.trials) == \u001b[32m0\u001b[39m:\n",
      "\u001b[36mFile \u001b[39m\u001b[32m~/miniconda3/lib/python3.12/site-packages/hyperopt/fmin.py:364\u001b[39m, in \u001b[36mFMinIter.exhaust\u001b[39m\u001b[34m(self)\u001b[39m\n\u001b[32m    362\u001b[39m \u001b[38;5;28;01mdef\u001b[39;00m \u001b[34mexhaust\u001b[39m(\u001b[38;5;28mself\u001b[39m):\n\u001b[32m    363\u001b[39m     n_done = \u001b[38;5;28mlen\u001b[39m(\u001b[38;5;28mself\u001b[39m.trials)\n\u001b[32m--> \u001b[39m\u001b[32m364\u001b[39m     \u001b[38;5;28;43mself\u001b[39;49m\u001b[43m.\u001b[49m\u001b[43mrun\u001b[49m\u001b[43m(\u001b[49m\u001b[38;5;28;43mself\u001b[39;49m\u001b[43m.\u001b[49m\u001b[43mmax_evals\u001b[49m\u001b[43m \u001b[49m\u001b[43m-\u001b[49m\u001b[43m \u001b[49m\u001b[43mn_done\u001b[49m\u001b[43m,\u001b[49m\u001b[43m \u001b[49m\u001b[43mblock_until_done\u001b[49m\u001b[43m=\u001b[49m\u001b[38;5;28;43mself\u001b[39;49m\u001b[43m.\u001b[49m\u001b[43masynchronous\u001b[49m\u001b[43m)\u001b[49m\n\u001b[32m    365\u001b[39m     \u001b[38;5;28mself\u001b[39m.trials.refresh()\n\u001b[32m    366\u001b[39m     \u001b[38;5;28;01mreturn\u001b[39;00m \u001b[38;5;28mself\u001b[39m\n",
      "\u001b[36mFile \u001b[39m\u001b[32m~/miniconda3/lib/python3.12/site-packages/hyperopt/fmin.py:300\u001b[39m, in \u001b[36mFMinIter.run\u001b[39m\u001b[34m(self, N, block_until_done)\u001b[39m\n\u001b[32m    297\u001b[39m     time.sleep(\u001b[38;5;28mself\u001b[39m.poll_interval_secs)\n\u001b[32m    298\u001b[39m \u001b[38;5;28;01melse\u001b[39;00m:\n\u001b[32m    299\u001b[39m     \u001b[38;5;66;03m# -- loop over trials and do the jobs directly\u001b[39;00m\n\u001b[32m--> \u001b[39m\u001b[32m300\u001b[39m     \u001b[38;5;28;43mself\u001b[39;49m\u001b[43m.\u001b[49m\u001b[43mserial_evaluate\u001b[49m\u001b[43m(\u001b[49m\u001b[43m)\u001b[49m\n\u001b[32m    302\u001b[39m \u001b[38;5;28mself\u001b[39m.trials.refresh()\n\u001b[32m    303\u001b[39m \u001b[38;5;28;01mif\u001b[39;00m \u001b[38;5;28mself\u001b[39m.trials_save_file != \u001b[33m\"\u001b[39m\u001b[33m\"\u001b[39m:\n",
      "\u001b[36mFile \u001b[39m\u001b[32m~/miniconda3/lib/python3.12/site-packages/hyperopt/fmin.py:178\u001b[39m, in \u001b[36mFMinIter.serial_evaluate\u001b[39m\u001b[34m(self, N)\u001b[39m\n\u001b[32m    176\u001b[39m ctrl = base.Ctrl(\u001b[38;5;28mself\u001b[39m.trials, current_trial=trial)\n\u001b[32m    177\u001b[39m \u001b[38;5;28;01mtry\u001b[39;00m:\n\u001b[32m--> \u001b[39m\u001b[32m178\u001b[39m     result = \u001b[38;5;28;43mself\u001b[39;49m\u001b[43m.\u001b[49m\u001b[43mdomain\u001b[49m\u001b[43m.\u001b[49m\u001b[43mevaluate\u001b[49m\u001b[43m(\u001b[49m\u001b[43mspec\u001b[49m\u001b[43m,\u001b[49m\u001b[43m \u001b[49m\u001b[43mctrl\u001b[49m\u001b[43m)\u001b[49m\n\u001b[32m    179\u001b[39m \u001b[38;5;28;01mexcept\u001b[39;00m \u001b[38;5;167;01mException\u001b[39;00m \u001b[38;5;28;01mas\u001b[39;00m e:\n\u001b[32m    180\u001b[39m     logger.error(\u001b[33m\"\u001b[39m\u001b[33mjob exception: \u001b[39m\u001b[38;5;132;01m%s\u001b[39;00m\u001b[33m\"\u001b[39m % \u001b[38;5;28mstr\u001b[39m(e))\n",
      "\u001b[36mFile \u001b[39m\u001b[32m~/miniconda3/lib/python3.12/site-packages/hyperopt/base.py:892\u001b[39m, in \u001b[36mDomain.evaluate\u001b[39m\u001b[34m(self, config, ctrl, attach_attachments)\u001b[39m\n\u001b[32m    883\u001b[39m \u001b[38;5;28;01melse\u001b[39;00m:\n\u001b[32m    884\u001b[39m     \u001b[38;5;66;03m# -- the \"work\" of evaluating `config` can be written\u001b[39;00m\n\u001b[32m    885\u001b[39m     \u001b[38;5;66;03m#    either into the pyll part (self.expr)\u001b[39;00m\n\u001b[32m    886\u001b[39m     \u001b[38;5;66;03m#    or the normal Python part (self.fn)\u001b[39;00m\n\u001b[32m    887\u001b[39m     pyll_rval = pyll.rec_eval(\n\u001b[32m    888\u001b[39m         \u001b[38;5;28mself\u001b[39m.expr,\n\u001b[32m    889\u001b[39m         memo=memo,\n\u001b[32m    890\u001b[39m         print_node_on_error=\u001b[38;5;28mself\u001b[39m.rec_eval_print_node_on_error,\n\u001b[32m    891\u001b[39m     )\n\u001b[32m--> \u001b[39m\u001b[32m892\u001b[39m     rval = \u001b[38;5;28;43mself\u001b[39;49m\u001b[43m.\u001b[49m\u001b[43mfn\u001b[49m\u001b[43m(\u001b[49m\u001b[43mpyll_rval\u001b[49m\u001b[43m)\u001b[49m\n\u001b[32m    894\u001b[39m \u001b[38;5;28;01mif\u001b[39;00m \u001b[38;5;28misinstance\u001b[39m(rval, (\u001b[38;5;28mfloat\u001b[39m, \u001b[38;5;28mint\u001b[39m, np.number)):\n\u001b[32m    895\u001b[39m     dict_rval = {\u001b[33m\"\u001b[39m\u001b[33mloss\u001b[39m\u001b[33m\"\u001b[39m: \u001b[38;5;28mfloat\u001b[39m(rval), \u001b[33m\"\u001b[39m\u001b[33mstatus\u001b[39m\u001b[33m\"\u001b[39m: STATUS_OK}\n",
      "\u001b[36mCell\u001b[39m\u001b[36m \u001b[39m\u001b[32mIn[170]\u001b[39m\u001b[32m, line 11\u001b[39m, in \u001b[36mobjective\u001b[39m\u001b[34m(params, model_name)\u001b[39m\n\u001b[32m      8\u001b[39m mlflow.log_params(params)\n\u001b[32m     10\u001b[39m \u001b[38;5;66;03m# Train model with current hyperparameters\u001b[39;00m\n\u001b[32m---> \u001b[39m\u001b[32m11\u001b[39m result = \u001b[43mcreate_and_train_model\u001b[49m\u001b[43m(\u001b[49m\n\u001b[32m     12\u001b[39m \u001b[43m    \u001b[49m\u001b[43mmodel\u001b[49m\u001b[43m,\u001b[49m\n\u001b[32m     13\u001b[39m \u001b[43m    \u001b[49m\u001b[43margs\u001b[49m\u001b[43m=\u001b[49m\u001b[43mparams\u001b[49m\n\u001b[32m     14\u001b[39m \u001b[43m\u001b[49m\u001b[43m)\u001b[49m\n\u001b[32m     16\u001b[39m \u001b[38;5;66;03m# Log training results\u001b[39;00m\n\u001b[32m     17\u001b[39m mlflow.log_metrics(\n\u001b[32m     18\u001b[39m     {\n\u001b[32m     19\u001b[39m         \u001b[33m\"\u001b[39m\u001b[33maccuracy\u001b[39m\u001b[33m\"\u001b[39m: result[\u001b[33m\"\u001b[39m\u001b[33maccuracy\u001b[39m\u001b[33m\"\u001b[39m],\n\u001b[32m   (...)\u001b[39m\u001b[32m     23\u001b[39m     }\n\u001b[32m     24\u001b[39m )\n",
      "\u001b[36mCell\u001b[39m\u001b[36m \u001b[39m\u001b[32mIn[162]\u001b[39m\u001b[32m, line 16\u001b[39m, in \u001b[36mcreate_and_train_model\u001b[39m\u001b[34m(model, args)\u001b[39m\n\u001b[32m     14\u001b[39m \u001b[38;5;28mprint\u001b[39m(\u001b[33mf\u001b[39m\u001b[33m\"\u001b[39m\u001b[33mParams: \u001b[39m\u001b[38;5;132;01m{\u001b[39;00margs\u001b[38;5;132;01m}\u001b[39;00m\u001b[33m\"\u001b[39m)\n\u001b[32m     15\u001b[39m md = model(**args)\n\u001b[32m---> \u001b[39m\u001b[32m16\u001b[39m \u001b[43mmd\u001b[49m\u001b[43m.\u001b[49m\u001b[43mfit\u001b[49m\u001b[43m(\u001b[49m\u001b[43mX_train\u001b[49m\u001b[43m,\u001b[49m\u001b[43m \u001b[49m\u001b[43my_train\u001b[49m\u001b[43m)\u001b[49m\n\u001b[32m     17\u001b[39m \u001b[38;5;66;03m# Predict on the validation set\u001b[39;00m\n\u001b[32m     18\u001b[39m y_pred = md.predict(X_val)\n",
      "\u001b[36mFile \u001b[39m\u001b[32m~/miniconda3/lib/python3.12/site-packages/sklearn/base.py:1389\u001b[39m, in \u001b[36m_fit_context.<locals>.decorator.<locals>.wrapper\u001b[39m\u001b[34m(estimator, *args, **kwargs)\u001b[39m\n\u001b[32m   1382\u001b[39m     estimator._validate_params()\n\u001b[32m   1384\u001b[39m \u001b[38;5;28;01mwith\u001b[39;00m config_context(\n\u001b[32m   1385\u001b[39m     skip_parameter_validation=(\n\u001b[32m   1386\u001b[39m         prefer_skip_nested_validation \u001b[38;5;129;01mor\u001b[39;00m global_skip_validation\n\u001b[32m   1387\u001b[39m     )\n\u001b[32m   1388\u001b[39m ):\n\u001b[32m-> \u001b[39m\u001b[32m1389\u001b[39m     \u001b[38;5;28;01mreturn\u001b[39;00m \u001b[43mfit_method\u001b[49m\u001b[43m(\u001b[49m\u001b[43mestimator\u001b[49m\u001b[43m,\u001b[49m\u001b[43m \u001b[49m\u001b[43m*\u001b[49m\u001b[43margs\u001b[49m\u001b[43m,\u001b[49m\u001b[43m \u001b[49m\u001b[43m*\u001b[49m\u001b[43m*\u001b[49m\u001b[43mkwargs\u001b[49m\u001b[43m)\u001b[49m\n",
      "\u001b[36mFile \u001b[39m\u001b[32m~/miniconda3/lib/python3.12/site-packages/sklearn/ensemble/_forest.py:487\u001b[39m, in \u001b[36mBaseForest.fit\u001b[39m\u001b[34m(self, X, y, sample_weight)\u001b[39m\n\u001b[32m    476\u001b[39m trees = [\n\u001b[32m    477\u001b[39m     \u001b[38;5;28mself\u001b[39m._make_estimator(append=\u001b[38;5;28;01mFalse\u001b[39;00m, random_state=random_state)\n\u001b[32m    478\u001b[39m     \u001b[38;5;28;01mfor\u001b[39;00m i \u001b[38;5;129;01min\u001b[39;00m \u001b[38;5;28mrange\u001b[39m(n_more_estimators)\n\u001b[32m    479\u001b[39m ]\n\u001b[32m    481\u001b[39m \u001b[38;5;66;03m# Parallel loop: we prefer the threading backend as the Cython code\u001b[39;00m\n\u001b[32m    482\u001b[39m \u001b[38;5;66;03m# for fitting the trees is internally releasing the Python GIL\u001b[39;00m\n\u001b[32m    483\u001b[39m \u001b[38;5;66;03m# making threading more efficient than multiprocessing in\u001b[39;00m\n\u001b[32m    484\u001b[39m \u001b[38;5;66;03m# that case. However, for joblib 0.12+ we respect any\u001b[39;00m\n\u001b[32m    485\u001b[39m \u001b[38;5;66;03m# parallel_backend contexts set at a higher level,\u001b[39;00m\n\u001b[32m    486\u001b[39m \u001b[38;5;66;03m# since correctness does not rely on using threads.\u001b[39;00m\n\u001b[32m--> \u001b[39m\u001b[32m487\u001b[39m trees = \u001b[43mParallel\u001b[49m\u001b[43m(\u001b[49m\n\u001b[32m    488\u001b[39m \u001b[43m    \u001b[49m\u001b[43mn_jobs\u001b[49m\u001b[43m=\u001b[49m\u001b[38;5;28;43mself\u001b[39;49m\u001b[43m.\u001b[49m\u001b[43mn_jobs\u001b[49m\u001b[43m,\u001b[49m\n\u001b[32m    489\u001b[39m \u001b[43m    \u001b[49m\u001b[43mverbose\u001b[49m\u001b[43m=\u001b[49m\u001b[38;5;28;43mself\u001b[39;49m\u001b[43m.\u001b[49m\u001b[43mverbose\u001b[49m\u001b[43m,\u001b[49m\n\u001b[32m    490\u001b[39m \u001b[43m    \u001b[49m\u001b[43mprefer\u001b[49m\u001b[43m=\u001b[49m\u001b[33;43m\"\u001b[39;49m\u001b[33;43mthreads\u001b[39;49m\u001b[33;43m\"\u001b[39;49m\u001b[43m,\u001b[49m\n\u001b[32m    491\u001b[39m \u001b[43m\u001b[49m\u001b[43m)\u001b[49m\u001b[43m(\u001b[49m\n\u001b[32m    492\u001b[39m \u001b[43m    \u001b[49m\u001b[43mdelayed\u001b[49m\u001b[43m(\u001b[49m\u001b[43m_parallel_build_trees\u001b[49m\u001b[43m)\u001b[49m\u001b[43m(\u001b[49m\n\u001b[32m    493\u001b[39m \u001b[43m        \u001b[49m\u001b[43mt\u001b[49m\u001b[43m,\u001b[49m\n\u001b[32m    494\u001b[39m \u001b[43m        \u001b[49m\u001b[38;5;28;43mself\u001b[39;49m\u001b[43m.\u001b[49m\u001b[43mbootstrap\u001b[49m\u001b[43m,\u001b[49m\n\u001b[32m    495\u001b[39m \u001b[43m        \u001b[49m\u001b[43mX\u001b[49m\u001b[43m,\u001b[49m\n\u001b[32m    496\u001b[39m \u001b[43m        \u001b[49m\u001b[43my\u001b[49m\u001b[43m,\u001b[49m\n\u001b[32m    497\u001b[39m \u001b[43m        \u001b[49m\u001b[43msample_weight\u001b[49m\u001b[43m,\u001b[49m\n\u001b[32m    498\u001b[39m \u001b[43m        \u001b[49m\u001b[43mi\u001b[49m\u001b[43m,\u001b[49m\n\u001b[32m    499\u001b[39m \u001b[43m        \u001b[49m\u001b[38;5;28;43mlen\u001b[39;49m\u001b[43m(\u001b[49m\u001b[43mtrees\u001b[49m\u001b[43m)\u001b[49m\u001b[43m,\u001b[49m\n\u001b[32m    500\u001b[39m \u001b[43m        \u001b[49m\u001b[43mverbose\u001b[49m\u001b[43m=\u001b[49m\u001b[38;5;28;43mself\u001b[39;49m\u001b[43m.\u001b[49m\u001b[43mverbose\u001b[49m\u001b[43m,\u001b[49m\n\u001b[32m    501\u001b[39m \u001b[43m        \u001b[49m\u001b[43mclass_weight\u001b[49m\u001b[43m=\u001b[49m\u001b[38;5;28;43mself\u001b[39;49m\u001b[43m.\u001b[49m\u001b[43mclass_weight\u001b[49m\u001b[43m,\u001b[49m\n\u001b[32m    502\u001b[39m \u001b[43m        \u001b[49m\u001b[43mn_samples_bootstrap\u001b[49m\u001b[43m=\u001b[49m\u001b[43mn_samples_bootstrap\u001b[49m\u001b[43m,\u001b[49m\n\u001b[32m    503\u001b[39m \u001b[43m        \u001b[49m\u001b[43mmissing_values_in_feature_mask\u001b[49m\u001b[43m=\u001b[49m\u001b[43mmissing_values_in_feature_mask\u001b[49m\u001b[43m,\u001b[49m\n\u001b[32m    504\u001b[39m \u001b[43m    \u001b[49m\u001b[43m)\u001b[49m\n\u001b[32m    505\u001b[39m \u001b[43m    \u001b[49m\u001b[38;5;28;43;01mfor\u001b[39;49;00m\u001b[43m \u001b[49m\u001b[43mi\u001b[49m\u001b[43m,\u001b[49m\u001b[43m \u001b[49m\u001b[43mt\u001b[49m\u001b[43m \u001b[49m\u001b[38;5;129;43;01min\u001b[39;49;00m\u001b[43m \u001b[49m\u001b[38;5;28;43menumerate\u001b[39;49m\u001b[43m(\u001b[49m\u001b[43mtrees\u001b[49m\u001b[43m)\u001b[49m\n\u001b[32m    506\u001b[39m \u001b[43m\u001b[49m\u001b[43m)\u001b[49m\n\u001b[32m    508\u001b[39m \u001b[38;5;66;03m# Collect newly grown trees\u001b[39;00m\n\u001b[32m    509\u001b[39m \u001b[38;5;28mself\u001b[39m.estimators_.extend(trees)\n",
      "\u001b[36mFile \u001b[39m\u001b[32m~/miniconda3/lib/python3.12/site-packages/sklearn/utils/parallel.py:77\u001b[39m, in \u001b[36mParallel.__call__\u001b[39m\u001b[34m(self, iterable)\u001b[39m\n\u001b[32m     72\u001b[39m config = get_config()\n\u001b[32m     73\u001b[39m iterable_with_config = (\n\u001b[32m     74\u001b[39m     (_with_config(delayed_func, config), args, kwargs)\n\u001b[32m     75\u001b[39m     \u001b[38;5;28;01mfor\u001b[39;00m delayed_func, args, kwargs \u001b[38;5;129;01min\u001b[39;00m iterable\n\u001b[32m     76\u001b[39m )\n\u001b[32m---> \u001b[39m\u001b[32m77\u001b[39m \u001b[38;5;28;01mreturn\u001b[39;00m \u001b[38;5;28;43msuper\u001b[39;49m\u001b[43m(\u001b[49m\u001b[43m)\u001b[49m\u001b[43m.\u001b[49m\u001b[34;43m__call__\u001b[39;49m\u001b[43m(\u001b[49m\u001b[43miterable_with_config\u001b[49m\u001b[43m)\u001b[49m\n",
      "\u001b[36mFile \u001b[39m\u001b[32m~/miniconda3/lib/python3.12/site-packages/joblib/parallel.py:1918\u001b[39m, in \u001b[36mParallel.__call__\u001b[39m\u001b[34m(self, iterable)\u001b[39m\n\u001b[32m   1916\u001b[39m     output = \u001b[38;5;28mself\u001b[39m._get_sequential_output(iterable)\n\u001b[32m   1917\u001b[39m     \u001b[38;5;28mnext\u001b[39m(output)\n\u001b[32m-> \u001b[39m\u001b[32m1918\u001b[39m     \u001b[38;5;28;01mreturn\u001b[39;00m output \u001b[38;5;28;01mif\u001b[39;00m \u001b[38;5;28mself\u001b[39m.return_generator \u001b[38;5;28;01melse\u001b[39;00m \u001b[38;5;28;43mlist\u001b[39;49m\u001b[43m(\u001b[49m\u001b[43moutput\u001b[49m\u001b[43m)\u001b[49m\n\u001b[32m   1920\u001b[39m \u001b[38;5;66;03m# Let's create an ID that uniquely identifies the current call. If the\u001b[39;00m\n\u001b[32m   1921\u001b[39m \u001b[38;5;66;03m# call is interrupted early and that the same instance is immediately\u001b[39;00m\n\u001b[32m   1922\u001b[39m \u001b[38;5;66;03m# re-used, this id will be used to prevent workers that were\u001b[39;00m\n\u001b[32m   1923\u001b[39m \u001b[38;5;66;03m# concurrently finalizing a task from the previous call to run the\u001b[39;00m\n\u001b[32m   1924\u001b[39m \u001b[38;5;66;03m# callback.\u001b[39;00m\n\u001b[32m   1925\u001b[39m \u001b[38;5;28;01mwith\u001b[39;00m \u001b[38;5;28mself\u001b[39m._lock:\n",
      "\u001b[36mFile \u001b[39m\u001b[32m~/miniconda3/lib/python3.12/site-packages/joblib/parallel.py:1847\u001b[39m, in \u001b[36mParallel._get_sequential_output\u001b[39m\u001b[34m(self, iterable)\u001b[39m\n\u001b[32m   1845\u001b[39m \u001b[38;5;28mself\u001b[39m.n_dispatched_batches += \u001b[32m1\u001b[39m\n\u001b[32m   1846\u001b[39m \u001b[38;5;28mself\u001b[39m.n_dispatched_tasks += \u001b[32m1\u001b[39m\n\u001b[32m-> \u001b[39m\u001b[32m1847\u001b[39m res = \u001b[43mfunc\u001b[49m\u001b[43m(\u001b[49m\u001b[43m*\u001b[49m\u001b[43margs\u001b[49m\u001b[43m,\u001b[49m\u001b[43m \u001b[49m\u001b[43m*\u001b[49m\u001b[43m*\u001b[49m\u001b[43mkwargs\u001b[49m\u001b[43m)\u001b[49m\n\u001b[32m   1848\u001b[39m \u001b[38;5;28mself\u001b[39m.n_completed_tasks += \u001b[32m1\u001b[39m\n\u001b[32m   1849\u001b[39m \u001b[38;5;28mself\u001b[39m.print_progress()\n",
      "\u001b[36mFile \u001b[39m\u001b[32m~/miniconda3/lib/python3.12/site-packages/sklearn/utils/parallel.py:139\u001b[39m, in \u001b[36m_FuncWrapper.__call__\u001b[39m\u001b[34m(self, *args, **kwargs)\u001b[39m\n\u001b[32m    137\u001b[39m     config = {}\n\u001b[32m    138\u001b[39m \u001b[38;5;28;01mwith\u001b[39;00m config_context(**config):\n\u001b[32m--> \u001b[39m\u001b[32m139\u001b[39m     \u001b[38;5;28;01mreturn\u001b[39;00m \u001b[38;5;28;43mself\u001b[39;49m\u001b[43m.\u001b[49m\u001b[43mfunction\u001b[49m\u001b[43m(\u001b[49m\u001b[43m*\u001b[49m\u001b[43margs\u001b[49m\u001b[43m,\u001b[49m\u001b[43m \u001b[49m\u001b[43m*\u001b[49m\u001b[43m*\u001b[49m\u001b[43mkwargs\u001b[49m\u001b[43m)\u001b[49m\n",
      "\u001b[36mFile \u001b[39m\u001b[32m~/miniconda3/lib/python3.12/site-packages/sklearn/ensemble/_forest.py:189\u001b[39m, in \u001b[36m_parallel_build_trees\u001b[39m\u001b[34m(tree, bootstrap, X, y, sample_weight, tree_idx, n_trees, verbose, class_weight, n_samples_bootstrap, missing_values_in_feature_mask)\u001b[39m\n\u001b[32m    186\u001b[39m     \u001b[38;5;28;01melif\u001b[39;00m class_weight == \u001b[33m\"\u001b[39m\u001b[33mbalanced_subsample\u001b[39m\u001b[33m\"\u001b[39m:\n\u001b[32m    187\u001b[39m         curr_sample_weight *= compute_sample_weight(\u001b[33m\"\u001b[39m\u001b[33mbalanced\u001b[39m\u001b[33m\"\u001b[39m, y, indices=indices)\n\u001b[32m--> \u001b[39m\u001b[32m189\u001b[39m     \u001b[43mtree\u001b[49m\u001b[43m.\u001b[49m\u001b[43m_fit\u001b[49m\u001b[43m(\u001b[49m\n\u001b[32m    190\u001b[39m \u001b[43m        \u001b[49m\u001b[43mX\u001b[49m\u001b[43m,\u001b[49m\n\u001b[32m    191\u001b[39m \u001b[43m        \u001b[49m\u001b[43my\u001b[49m\u001b[43m,\u001b[49m\n\u001b[32m    192\u001b[39m \u001b[43m        \u001b[49m\u001b[43msample_weight\u001b[49m\u001b[43m=\u001b[49m\u001b[43mcurr_sample_weight\u001b[49m\u001b[43m,\u001b[49m\n\u001b[32m    193\u001b[39m \u001b[43m        \u001b[49m\u001b[43mcheck_input\u001b[49m\u001b[43m=\u001b[49m\u001b[38;5;28;43;01mFalse\u001b[39;49;00m\u001b[43m,\u001b[49m\n\u001b[32m    194\u001b[39m \u001b[43m        \u001b[49m\u001b[43mmissing_values_in_feature_mask\u001b[49m\u001b[43m=\u001b[49m\u001b[43mmissing_values_in_feature_mask\u001b[49m\u001b[43m,\u001b[49m\n\u001b[32m    195\u001b[39m \u001b[43m    \u001b[49m\u001b[43m)\u001b[49m\n\u001b[32m    196\u001b[39m \u001b[38;5;28;01melse\u001b[39;00m:\n\u001b[32m    197\u001b[39m     tree._fit(\n\u001b[32m    198\u001b[39m         X,\n\u001b[32m    199\u001b[39m         y,\n\u001b[32m   (...)\u001b[39m\u001b[32m    202\u001b[39m         missing_values_in_feature_mask=missing_values_in_feature_mask,\n\u001b[32m    203\u001b[39m     )\n",
      "\u001b[36mFile \u001b[39m\u001b[32m~/miniconda3/lib/python3.12/site-packages/sklearn/tree/_classes.py:472\u001b[39m, in \u001b[36mBaseDecisionTree._fit\u001b[39m\u001b[34m(self, X, y, sample_weight, check_input, missing_values_in_feature_mask)\u001b[39m\n\u001b[32m    461\u001b[39m \u001b[38;5;28;01melse\u001b[39;00m:\n\u001b[32m    462\u001b[39m     builder = BestFirstTreeBuilder(\n\u001b[32m    463\u001b[39m         splitter,\n\u001b[32m    464\u001b[39m         min_samples_split,\n\u001b[32m   (...)\u001b[39m\u001b[32m    469\u001b[39m         \u001b[38;5;28mself\u001b[39m.min_impurity_decrease,\n\u001b[32m    470\u001b[39m     )\n\u001b[32m--> \u001b[39m\u001b[32m472\u001b[39m \u001b[43mbuilder\u001b[49m\u001b[43m.\u001b[49m\u001b[43mbuild\u001b[49m\u001b[43m(\u001b[49m\u001b[38;5;28;43mself\u001b[39;49m\u001b[43m.\u001b[49m\u001b[43mtree_\u001b[49m\u001b[43m,\u001b[49m\u001b[43m \u001b[49m\u001b[43mX\u001b[49m\u001b[43m,\u001b[49m\u001b[43m \u001b[49m\u001b[43my\u001b[49m\u001b[43m,\u001b[49m\u001b[43m \u001b[49m\u001b[43msample_weight\u001b[49m\u001b[43m,\u001b[49m\u001b[43m \u001b[49m\u001b[43mmissing_values_in_feature_mask\u001b[49m\u001b[43m)\u001b[49m\n\u001b[32m    474\u001b[39m \u001b[38;5;28;01mif\u001b[39;00m \u001b[38;5;28mself\u001b[39m.n_outputs_ == \u001b[32m1\u001b[39m \u001b[38;5;129;01mand\u001b[39;00m is_classifier(\u001b[38;5;28mself\u001b[39m):\n\u001b[32m    475\u001b[39m     \u001b[38;5;28mself\u001b[39m.n_classes_ = \u001b[38;5;28mself\u001b[39m.n_classes_[\u001b[32m0\u001b[39m]\n",
      "\u001b[31mKeyboardInterrupt\u001b[39m: "
     ]
    }
   ],
   "source": [
    "model = RandomForestClassifier\n",
    "run_experiments('rf-sweep', max_evals=max_evals, search_space=search_space_rf, data_name=data_name, model_name = 'RandomForestClassifier', features_names=columns_to_keep)\n",
    "model = SVC\n",
    "run_experiments('svc-sweep', max_evals=max_evals, search_space=search_space_svc, data_name=data_name, model_name = 'SVC', features_names=columns_to_keep)\n",
    "model = LinearSVC\n",
    "run_experiments('svc-linear-sweep', max_evals=max_evals, search_space=search_space_svc_linear, data_name=data_name, model_name = 'LinearSVC', features_names=columns_to_keep)\n",
    "model = xgb.XGBClassifier\n",
    "run_experiments('xgb-sweep', max_evals=max_evals, search_space=search_space_xgb, data_name=data_name, model_name = 'XGBClassifier', features_names=columns_to_keep)"
   ]
  },
  {
   "cell_type": "markdown",
   "id": "d86358b9",
   "metadata": {},
   "source": [
    "### LLM"
   ]
  },
  {
   "cell_type": "code",
   "execution_count": null,
   "id": "fd056ed3",
   "metadata": {},
   "outputs": [
    {
     "name": "stdout",
     "output_type": "stream",
     "text": [
      "Experiment already exists: RESOURCE_ALREADY_EXISTS: Experiment 'Driver_Behavior_Models_UAH_SUMO_LLM_20' already exists.\n"
     ]
    }
   ],
   "source": [
    "# Provide an Experiment description that will appear in the UI\n",
    "experiment_description = (\n",
    "    \"Experiment to train models on the UAH + SUMO LLM (20%) dataset.\"\n",
    ")\n",
    "\n",
    "# Provide searchable tags that define characteristics of the Runs that\n",
    "# will be in this Experiment\n",
    "experiment_tags = {\n",
    "    \"project_name\": \"driver-behavior-prediction\",\n",
    "    \"mlflow.note.content\": experiment_description,\n",
    "}\n",
    "\n",
    "# Create the Experiment, providing a unique name\n",
    "try:\n",
    "    driver_behavior_experiment = client.create_experiment(\n",
    "        name=\"Driver_Behavior_Models_UAH_SUMO_LLM_20\", tags=experiment_tags\n",
    "    )\n",
    "except mlflow.exceptions.RestException as e:\n",
    "    print(f\"Experiment already exists: {e}\")"
   ]
  },
  {
   "cell_type": "code",
   "execution_count": null,
   "id": "8e51b1e2",
   "metadata": {},
   "outputs": [],
   "source": [
    "X_train, y_train = X_sumo_uah_llm_20, y_sumo_uah_llm_20\n",
    "\n",
    "scaler = StandardScaler()\n",
    "X_train = scaler.fit_transform(X_train)\n",
    "X_val = scaler.transform(X_val_base)\n",
    "y_train = preprocessor.one_hot_encode(y_train, one_hot_keys=one_hot_keys)\n",
    "\n",
    "signature = infer_signature(X_train, y_train)\n",
    "mlflow.set_experiment('Driver_Behavior_Models_UAH_SUMO_LLM_20')\n",
    "data_name = 'UAH_SUMO_LLM_20'"
   ]
  },
  {
   "cell_type": "code",
   "execution_count": null,
   "id": "ee354ab5",
   "metadata": {},
   "outputs": [],
   "source": [
    "model = RandomForestClassifier\n",
    "run_experiments('rf-sweep', max_evals=max_evals, search_space=search_space_rf, data_name=data_name, model_name = 'RandomForestClassifier', features_names=columns_to_keep)\n",
    "model = SVC\n",
    "run_experiments('svc-sweep', max_evals=max_evals, search_space=search_space_svc, data_name=data_name, model_name = 'SVC', features_names=columns_to_keep)\n",
    "model = LinearSVC\n",
    "run_experiments('svc-linear-sweep', max_evals=max_evals, search_space=search_space_svc_linear, data_name=data_name, model_name = 'LinearSVC', features_names=columns_to_keep)\n",
    "model = xgb.XGBClassifier\n",
    "run_experiments('xgb-sweep', max_evals=max_evals, search_space=search_space_xgb, data_name=data_name, model_name = 'XGBClassifier', features_names=columns_to_keep)"
   ]
  },
  {
   "cell_type": "markdown",
   "id": "a6dbf3c9",
   "metadata": {},
   "source": [
    "## Real + CARLA (20%)"
   ]
  },
  {
   "cell_type": "code",
   "execution_count": null,
   "id": "17aac6c2",
   "metadata": {},
   "outputs": [],
   "source": [
    "carla_uah_fixed_20 = preprocessor.fill_synthetic_data(carla_uah_fixed, 0.2)\n",
    "carla_uah_llm_20 = preprocessor.fill_synthetic_data(carla_uah_llm, 0.2)"
   ]
  },
  {
   "cell_type": "code",
   "execution_count": null,
   "id": "98008243",
   "metadata": {},
   "outputs": [],
   "source": [
    "# CARLA_UAH\n",
    "X_carla_uah_fixed_20, y_carla_uah_fixed_20 = preprocessor.sliding_windows(carla_uah_fixed_20, window_size=window_size, step_size=step_size)\n",
    "X_carla_uah_llm_20, y_carla_uah_llm_20 = preprocessor.sliding_windows(carla_uah_llm_20, window_size=window_size, step_size=step_size)"
   ]
  },
  {
   "cell_type": "code",
   "execution_count": null,
   "id": "425a7357",
   "metadata": {},
   "outputs": [
    {
     "name": "stdout",
     "output_type": "stream",
     "text": [
      "Columns to keep for validation: ['acc_x', 'acc_y', 'acc_z', 'gyro_x', 'gyro_y', 'gyro_z', 'angle', 'label']\n"
     ]
    }
   ],
   "source": [
    "# Getting the validation for SUMO variables\n",
    "columns_to_keep = carla_uah_fixed_20.columns.tolist()\n",
    "print(\"Columns to keep for validation:\", columns_to_keep)\n",
    "\n",
    "X_val_base, y_val = preprocessor.sliding_windows(uah_validation[columns_to_keep], window_size=window_size, step_size=step_size)\n",
    "y_val = preprocessor.one_hot_encode(y_val, one_hot_keys=one_hot_keys)"
   ]
  },
  {
   "cell_type": "markdown",
   "id": "185dd9cd",
   "metadata": {},
   "source": [
    "### Fixed"
   ]
  },
  {
   "cell_type": "code",
   "execution_count": null,
   "id": "9632d59f",
   "metadata": {},
   "outputs": [
    {
     "name": "stdout",
     "output_type": "stream",
     "text": [
      "Experiment already exists: RESOURCE_ALREADY_EXISTS: Experiment 'Driver_Behavior_Models_UAH_CARLA_Fixed_20' already exists.\n"
     ]
    }
   ],
   "source": [
    "# Provide an Experiment description that will appear in the UI\n",
    "experiment_description = (\n",
    "    \"Experiment to train models on the UAH + CARLA Fixed (20%) dataset.\"\n",
    ")\n",
    "\n",
    "# Provide searchable tags that define characteristics of the Runs that\n",
    "# will be in this Experiment\n",
    "experiment_tags = {\n",
    "    \"project_name\": \"driver-behavior-prediction\",\n",
    "    \"mlflow.note.content\": experiment_description,\n",
    "}\n",
    "\n",
    "# Create the Experiment, providing a unique name\n",
    "try:\n",
    "    driver_behavior_experiment = client.create_experiment(\n",
    "        name=\"Driver_Behavior_Models_UAH_CARLA_Fixed_20\", tags=experiment_tags\n",
    "    )\n",
    "except mlflow.exceptions.RestException as e:\n",
    "    print(f\"Experiment already exists: {e}\")"
   ]
  },
  {
   "cell_type": "code",
   "execution_count": null,
   "id": "636373b3",
   "metadata": {},
   "outputs": [],
   "source": [
    "X_train, y_train = X_carla_uah_fixed_20, y_carla_uah_fixed_20\n",
    "\n",
    "scaler = StandardScaler()\n",
    "X_train = scaler.fit_transform(X_train)\n",
    "X_val = scaler.transform(X_val_base)\n",
    "y_train = preprocessor.one_hot_encode(y_train, one_hot_keys=one_hot_keys)\n",
    "\n",
    "signature = infer_signature(X_train, y_train)\n",
    "mlflow.set_experiment('Driver_Behavior_Models_UAH_CARLA_Fixed_20')\n",
    "data_name = 'UAH_CARLA_Fixed_20'"
   ]
  },
  {
   "cell_type": "code",
   "execution_count": null,
   "id": "5181988e",
   "metadata": {},
   "outputs": [
    {
     "name": "stdout",
     "output_type": "stream",
     "text": [
      "This will run 5 trials to find optimal hyperparameters...\n",
      "Params: {'max_depth': 5, 'n_estimators': 50, 'random_state': 42}\n",
      "🏃 View run RandomForestClassifier_{'max_depth': 5, 'n_estimators': 50, 'random_state': 42} at: http://127.0.0.1:8080/#/experiments/657265456461126531/runs/63db75c32e064319bd8e43868ce217ad\n",
      "\n",
      "🧪 View experiment at: http://127.0.0.1:8080/#/experiments/657265456461126531\n",
      "\n",
      "Params: {'max_depth': None, 'n_estimators': 20, 'random_state': 42}             \n",
      "🏃 View run RandomForestClassifier_{'max_depth': None, 'n_estimators': 20, 'random_state': 42} at: http://127.0.0.1:8080/#/experiments/657265456461126531/runs/8728cf9246f24feb9f9f5bae852a42e1\n",
      "\n",
      "🧪 View experiment at: http://127.0.0.1:8080/#/experiments/657265456461126531   \n",
      "\n",
      " 20%|██        | 1/5 [00:05<00:20,  5.05s/trial, best loss: -0.4344485543775649]\n",
      "🏃 View run rf-sweep at: http://127.0.0.1:8080/#/experiments/657265456461126531/runs/df969f1cf6584967842f831332d78cbc\n",
      "🧪 View experiment at: http://127.0.0.1:8080/#/experiments/657265456461126531\n"
     ]
    },
    {
     "ename": "KeyboardInterrupt",
     "evalue": "",
     "output_type": "error",
     "traceback": [
      "\u001b[31m---------------------------------------------------------------------------\u001b[39m",
      "\u001b[31mKeyboardInterrupt\u001b[39m                         Traceback (most recent call last)",
      "\u001b[36mCell\u001b[39m\u001b[36m \u001b[39m\u001b[32mIn[180]\u001b[39m\u001b[32m, line 2\u001b[39m\n\u001b[32m      1\u001b[39m model = RandomForestClassifier\n\u001b[32m----> \u001b[39m\u001b[32m2\u001b[39m \u001b[43mrun_experiments\u001b[49m\u001b[43m(\u001b[49m\u001b[33;43m'\u001b[39;49m\u001b[33;43mrf-sweep\u001b[39;49m\u001b[33;43m'\u001b[39;49m\u001b[43m,\u001b[49m\u001b[43m \u001b[49m\u001b[43mmax_evals\u001b[49m\u001b[43m=\u001b[49m\u001b[43mmax_evals\u001b[49m\u001b[43m,\u001b[49m\u001b[43m \u001b[49m\u001b[43msearch_space\u001b[49m\u001b[43m=\u001b[49m\u001b[43msearch_space_rf\u001b[49m\u001b[43m,\u001b[49m\u001b[43m \u001b[49m\u001b[43mdata_name\u001b[49m\u001b[43m=\u001b[49m\u001b[43mdata_name\u001b[49m\u001b[43m,\u001b[49m\u001b[43m \u001b[49m\u001b[43mmodel_name\u001b[49m\u001b[43m \u001b[49m\u001b[43m=\u001b[49m\u001b[43m \u001b[49m\u001b[33;43m'\u001b[39;49m\u001b[33;43mRandomForestClassifier\u001b[39;49m\u001b[33;43m'\u001b[39;49m\u001b[43m,\u001b[49m\u001b[43m \u001b[49m\u001b[43mfeatures_names\u001b[49m\u001b[43m=\u001b[49m\u001b[43mcolumns_to_keep\u001b[49m\u001b[43m)\u001b[49m\n\u001b[32m      3\u001b[39m model = SVC\n\u001b[32m      4\u001b[39m run_experiments(\u001b[33m'\u001b[39m\u001b[33msvc-sweep\u001b[39m\u001b[33m'\u001b[39m, max_evals=max_evals, search_space=search_space_svc, data_name=data_name, model_name = \u001b[33m'\u001b[39m\u001b[33mSVC\u001b[39m\u001b[33m'\u001b[39m, features_names=columns_to_keep)\n",
      "\u001b[36mCell\u001b[39m\u001b[36m \u001b[39m\u001b[32mIn[171]\u001b[39m\u001b[32m, line 26\u001b[39m, in \u001b[36mrun_experiments\u001b[39m\u001b[34m(run_name, max_evals, search_space, data_name, features_names, model_name)\u001b[39m\n\u001b[32m     23\u001b[39m trials = Trials()\n\u001b[32m     24\u001b[39m objective_with_name = partial(objective, model_name=model_name)\n\u001b[32m---> \u001b[39m\u001b[32m26\u001b[39m best_params = \u001b[43mfmin\u001b[49m\u001b[43m(\u001b[49m\n\u001b[32m     27\u001b[39m \u001b[43m    \u001b[49m\u001b[43mfn\u001b[49m\u001b[43m=\u001b[49m\u001b[43mobjective_with_name\u001b[49m\u001b[43m,\u001b[49m\n\u001b[32m     28\u001b[39m \u001b[43m    \u001b[49m\u001b[43mspace\u001b[49m\u001b[43m=\u001b[49m\u001b[43msearch_space\u001b[49m\u001b[43m,\u001b[49m\n\u001b[32m     29\u001b[39m \u001b[43m    \u001b[49m\u001b[43malgo\u001b[49m\u001b[43m=\u001b[49m\u001b[43mtpe\u001b[49m\u001b[43m.\u001b[49m\u001b[43msuggest\u001b[49m\u001b[43m,\u001b[49m\n\u001b[32m     30\u001b[39m \u001b[43m    \u001b[49m\u001b[43mmax_evals\u001b[49m\u001b[43m=\u001b[49m\u001b[43mmax_evals\u001b[49m\u001b[43m,\u001b[49m\n\u001b[32m     31\u001b[39m \u001b[43m    \u001b[49m\u001b[43mtrials\u001b[49m\u001b[43m=\u001b[49m\u001b[43mtrials\u001b[49m\u001b[43m,\u001b[49m\n\u001b[32m     32\u001b[39m \u001b[43m    \u001b[49m\u001b[43mverbose\u001b[49m\u001b[43m=\u001b[49m\u001b[38;5;28;43;01mTrue\u001b[39;49;00m\u001b[43m,\u001b[49m\n\u001b[32m     33\u001b[39m \u001b[43m\u001b[49m\u001b[43m)\u001b[49m\n\u001b[32m     35\u001b[39m \u001b[38;5;66;03m# Find and log best results\u001b[39;00m\n\u001b[32m     36\u001b[39m best_trial = \u001b[38;5;28mmin\u001b[39m(trials.results, key=\u001b[38;5;28;01mlambda\u001b[39;00m x: x[\u001b[33m\"\u001b[39m\u001b[33mloss\u001b[39m\u001b[33m\"\u001b[39m])\n",
      "\u001b[36mFile \u001b[39m\u001b[32m~/miniconda3/lib/python3.12/site-packages/hyperopt/fmin.py:540\u001b[39m, in \u001b[36mfmin\u001b[39m\u001b[34m(fn, space, algo, max_evals, timeout, loss_threshold, trials, rstate, allow_trials_fmin, pass_expr_memo_ctrl, catch_eval_exceptions, verbose, return_argmin, points_to_evaluate, max_queue_len, show_progressbar, early_stop_fn, trials_save_file)\u001b[39m\n\u001b[32m    537\u001b[39m     fn = __objective_fmin_wrapper(fn)\n\u001b[32m    539\u001b[39m \u001b[38;5;28;01mif\u001b[39;00m allow_trials_fmin \u001b[38;5;129;01mand\u001b[39;00m \u001b[38;5;28mhasattr\u001b[39m(trials, \u001b[33m\"\u001b[39m\u001b[33mfmin\u001b[39m\u001b[33m\"\u001b[39m):\n\u001b[32m--> \u001b[39m\u001b[32m540\u001b[39m     \u001b[38;5;28;01mreturn\u001b[39;00m \u001b[43mtrials\u001b[49m\u001b[43m.\u001b[49m\u001b[43mfmin\u001b[49m\u001b[43m(\u001b[49m\n\u001b[32m    541\u001b[39m \u001b[43m        \u001b[49m\u001b[43mfn\u001b[49m\u001b[43m,\u001b[49m\n\u001b[32m    542\u001b[39m \u001b[43m        \u001b[49m\u001b[43mspace\u001b[49m\u001b[43m,\u001b[49m\n\u001b[32m    543\u001b[39m \u001b[43m        \u001b[49m\u001b[43malgo\u001b[49m\u001b[43m=\u001b[49m\u001b[43malgo\u001b[49m\u001b[43m,\u001b[49m\n\u001b[32m    544\u001b[39m \u001b[43m        \u001b[49m\u001b[43mmax_evals\u001b[49m\u001b[43m=\u001b[49m\u001b[43mmax_evals\u001b[49m\u001b[43m,\u001b[49m\n\u001b[32m    545\u001b[39m \u001b[43m        \u001b[49m\u001b[43mtimeout\u001b[49m\u001b[43m=\u001b[49m\u001b[43mtimeout\u001b[49m\u001b[43m,\u001b[49m\n\u001b[32m    546\u001b[39m \u001b[43m        \u001b[49m\u001b[43mloss_threshold\u001b[49m\u001b[43m=\u001b[49m\u001b[43mloss_threshold\u001b[49m\u001b[43m,\u001b[49m\n\u001b[32m    547\u001b[39m \u001b[43m        \u001b[49m\u001b[43mmax_queue_len\u001b[49m\u001b[43m=\u001b[49m\u001b[43mmax_queue_len\u001b[49m\u001b[43m,\u001b[49m\n\u001b[32m    548\u001b[39m \u001b[43m        \u001b[49m\u001b[43mrstate\u001b[49m\u001b[43m=\u001b[49m\u001b[43mrstate\u001b[49m\u001b[43m,\u001b[49m\n\u001b[32m    549\u001b[39m \u001b[43m        \u001b[49m\u001b[43mpass_expr_memo_ctrl\u001b[49m\u001b[43m=\u001b[49m\u001b[43mpass_expr_memo_ctrl\u001b[49m\u001b[43m,\u001b[49m\n\u001b[32m    550\u001b[39m \u001b[43m        \u001b[49m\u001b[43mverbose\u001b[49m\u001b[43m=\u001b[49m\u001b[43mverbose\u001b[49m\u001b[43m,\u001b[49m\n\u001b[32m    551\u001b[39m \u001b[43m        \u001b[49m\u001b[43mcatch_eval_exceptions\u001b[49m\u001b[43m=\u001b[49m\u001b[43mcatch_eval_exceptions\u001b[49m\u001b[43m,\u001b[49m\n\u001b[32m    552\u001b[39m \u001b[43m        \u001b[49m\u001b[43mreturn_argmin\u001b[49m\u001b[43m=\u001b[49m\u001b[43mreturn_argmin\u001b[49m\u001b[43m,\u001b[49m\n\u001b[32m    553\u001b[39m \u001b[43m        \u001b[49m\u001b[43mshow_progressbar\u001b[49m\u001b[43m=\u001b[49m\u001b[43mshow_progressbar\u001b[49m\u001b[43m,\u001b[49m\n\u001b[32m    554\u001b[39m \u001b[43m        \u001b[49m\u001b[43mearly_stop_fn\u001b[49m\u001b[43m=\u001b[49m\u001b[43mearly_stop_fn\u001b[49m\u001b[43m,\u001b[49m\n\u001b[32m    555\u001b[39m \u001b[43m        \u001b[49m\u001b[43mtrials_save_file\u001b[49m\u001b[43m=\u001b[49m\u001b[43mtrials_save_file\u001b[49m\u001b[43m,\u001b[49m\n\u001b[32m    556\u001b[39m \u001b[43m    \u001b[49m\u001b[43m)\u001b[49m\n\u001b[32m    558\u001b[39m \u001b[38;5;28;01mif\u001b[39;00m trials \u001b[38;5;129;01mis\u001b[39;00m \u001b[38;5;28;01mNone\u001b[39;00m:\n\u001b[32m    559\u001b[39m     \u001b[38;5;28;01mif\u001b[39;00m os.path.exists(trials_save_file):\n",
      "\u001b[36mFile \u001b[39m\u001b[32m~/miniconda3/lib/python3.12/site-packages/hyperopt/base.py:671\u001b[39m, in \u001b[36mTrials.fmin\u001b[39m\u001b[34m(self, fn, space, algo, max_evals, timeout, loss_threshold, max_queue_len, rstate, verbose, pass_expr_memo_ctrl, catch_eval_exceptions, return_argmin, show_progressbar, early_stop_fn, trials_save_file)\u001b[39m\n\u001b[32m    666\u001b[39m \u001b[38;5;66;03m# -- Stop-gap implementation!\u001b[39;00m\n\u001b[32m    667\u001b[39m \u001b[38;5;66;03m#    fmin should have been a Trials method in the first place\u001b[39;00m\n\u001b[32m    668\u001b[39m \u001b[38;5;66;03m#    but for now it's still sitting in another file.\u001b[39;00m\n\u001b[32m    669\u001b[39m \u001b[38;5;28;01mfrom\u001b[39;00m \u001b[34;01m.\u001b[39;00m\u001b[34;01mfmin\u001b[39;00m \u001b[38;5;28;01mimport\u001b[39;00m fmin\n\u001b[32m--> \u001b[39m\u001b[32m671\u001b[39m \u001b[38;5;28;01mreturn\u001b[39;00m \u001b[43mfmin\u001b[49m\u001b[43m(\u001b[49m\n\u001b[32m    672\u001b[39m \u001b[43m    \u001b[49m\u001b[43mfn\u001b[49m\u001b[43m,\u001b[49m\n\u001b[32m    673\u001b[39m \u001b[43m    \u001b[49m\u001b[43mspace\u001b[49m\u001b[43m,\u001b[49m\n\u001b[32m    674\u001b[39m \u001b[43m    \u001b[49m\u001b[43malgo\u001b[49m\u001b[43m=\u001b[49m\u001b[43malgo\u001b[49m\u001b[43m,\u001b[49m\n\u001b[32m    675\u001b[39m \u001b[43m    \u001b[49m\u001b[43mmax_evals\u001b[49m\u001b[43m=\u001b[49m\u001b[43mmax_evals\u001b[49m\u001b[43m,\u001b[49m\n\u001b[32m    676\u001b[39m \u001b[43m    \u001b[49m\u001b[43mtimeout\u001b[49m\u001b[43m=\u001b[49m\u001b[43mtimeout\u001b[49m\u001b[43m,\u001b[49m\n\u001b[32m    677\u001b[39m \u001b[43m    \u001b[49m\u001b[43mloss_threshold\u001b[49m\u001b[43m=\u001b[49m\u001b[43mloss_threshold\u001b[49m\u001b[43m,\u001b[49m\n\u001b[32m    678\u001b[39m \u001b[43m    \u001b[49m\u001b[43mtrials\u001b[49m\u001b[43m=\u001b[49m\u001b[38;5;28;43mself\u001b[39;49m\u001b[43m,\u001b[49m\n\u001b[32m    679\u001b[39m \u001b[43m    \u001b[49m\u001b[43mrstate\u001b[49m\u001b[43m=\u001b[49m\u001b[43mrstate\u001b[49m\u001b[43m,\u001b[49m\n\u001b[32m    680\u001b[39m \u001b[43m    \u001b[49m\u001b[43mverbose\u001b[49m\u001b[43m=\u001b[49m\u001b[43mverbose\u001b[49m\u001b[43m,\u001b[49m\n\u001b[32m    681\u001b[39m \u001b[43m    \u001b[49m\u001b[43mmax_queue_len\u001b[49m\u001b[43m=\u001b[49m\u001b[43mmax_queue_len\u001b[49m\u001b[43m,\u001b[49m\n\u001b[32m    682\u001b[39m \u001b[43m    \u001b[49m\u001b[43mallow_trials_fmin\u001b[49m\u001b[43m=\u001b[49m\u001b[38;5;28;43;01mFalse\u001b[39;49;00m\u001b[43m,\u001b[49m\u001b[43m  \u001b[49m\u001b[38;5;66;43;03m# -- prevent recursion\u001b[39;49;00m\n\u001b[32m    683\u001b[39m \u001b[43m    \u001b[49m\u001b[43mpass_expr_memo_ctrl\u001b[49m\u001b[43m=\u001b[49m\u001b[43mpass_expr_memo_ctrl\u001b[49m\u001b[43m,\u001b[49m\n\u001b[32m    684\u001b[39m \u001b[43m    \u001b[49m\u001b[43mcatch_eval_exceptions\u001b[49m\u001b[43m=\u001b[49m\u001b[43mcatch_eval_exceptions\u001b[49m\u001b[43m,\u001b[49m\n\u001b[32m    685\u001b[39m \u001b[43m    \u001b[49m\u001b[43mreturn_argmin\u001b[49m\u001b[43m=\u001b[49m\u001b[43mreturn_argmin\u001b[49m\u001b[43m,\u001b[49m\n\u001b[32m    686\u001b[39m \u001b[43m    \u001b[49m\u001b[43mshow_progressbar\u001b[49m\u001b[43m=\u001b[49m\u001b[43mshow_progressbar\u001b[49m\u001b[43m,\u001b[49m\n\u001b[32m    687\u001b[39m \u001b[43m    \u001b[49m\u001b[43mearly_stop_fn\u001b[49m\u001b[43m=\u001b[49m\u001b[43mearly_stop_fn\u001b[49m\u001b[43m,\u001b[49m\n\u001b[32m    688\u001b[39m \u001b[43m    \u001b[49m\u001b[43mtrials_save_file\u001b[49m\u001b[43m=\u001b[49m\u001b[43mtrials_save_file\u001b[49m\u001b[43m,\u001b[49m\n\u001b[32m    689\u001b[39m \u001b[43m\u001b[49m\u001b[43m)\u001b[49m\n",
      "\u001b[36mFile \u001b[39m\u001b[32m~/miniconda3/lib/python3.12/site-packages/hyperopt/fmin.py:586\u001b[39m, in \u001b[36mfmin\u001b[39m\u001b[34m(fn, space, algo, max_evals, timeout, loss_threshold, trials, rstate, allow_trials_fmin, pass_expr_memo_ctrl, catch_eval_exceptions, verbose, return_argmin, points_to_evaluate, max_queue_len, show_progressbar, early_stop_fn, trials_save_file)\u001b[39m\n\u001b[32m    583\u001b[39m rval.catch_eval_exceptions = catch_eval_exceptions\n\u001b[32m    585\u001b[39m \u001b[38;5;66;03m# next line is where the fmin is actually executed\u001b[39;00m\n\u001b[32m--> \u001b[39m\u001b[32m586\u001b[39m \u001b[43mrval\u001b[49m\u001b[43m.\u001b[49m\u001b[43mexhaust\u001b[49m\u001b[43m(\u001b[49m\u001b[43m)\u001b[49m\n\u001b[32m    588\u001b[39m \u001b[38;5;28;01mif\u001b[39;00m return_argmin:\n\u001b[32m    589\u001b[39m     \u001b[38;5;28;01mif\u001b[39;00m \u001b[38;5;28mlen\u001b[39m(trials.trials) == \u001b[32m0\u001b[39m:\n",
      "\u001b[36mFile \u001b[39m\u001b[32m~/miniconda3/lib/python3.12/site-packages/hyperopt/fmin.py:364\u001b[39m, in \u001b[36mFMinIter.exhaust\u001b[39m\u001b[34m(self)\u001b[39m\n\u001b[32m    362\u001b[39m \u001b[38;5;28;01mdef\u001b[39;00m \u001b[34mexhaust\u001b[39m(\u001b[38;5;28mself\u001b[39m):\n\u001b[32m    363\u001b[39m     n_done = \u001b[38;5;28mlen\u001b[39m(\u001b[38;5;28mself\u001b[39m.trials)\n\u001b[32m--> \u001b[39m\u001b[32m364\u001b[39m     \u001b[38;5;28;43mself\u001b[39;49m\u001b[43m.\u001b[49m\u001b[43mrun\u001b[49m\u001b[43m(\u001b[49m\u001b[38;5;28;43mself\u001b[39;49m\u001b[43m.\u001b[49m\u001b[43mmax_evals\u001b[49m\u001b[43m \u001b[49m\u001b[43m-\u001b[49m\u001b[43m \u001b[49m\u001b[43mn_done\u001b[49m\u001b[43m,\u001b[49m\u001b[43m \u001b[49m\u001b[43mblock_until_done\u001b[49m\u001b[43m=\u001b[49m\u001b[38;5;28;43mself\u001b[39;49m\u001b[43m.\u001b[49m\u001b[43masynchronous\u001b[49m\u001b[43m)\u001b[49m\n\u001b[32m    365\u001b[39m     \u001b[38;5;28mself\u001b[39m.trials.refresh()\n\u001b[32m    366\u001b[39m     \u001b[38;5;28;01mreturn\u001b[39;00m \u001b[38;5;28mself\u001b[39m\n",
      "\u001b[36mFile \u001b[39m\u001b[32m~/miniconda3/lib/python3.12/site-packages/hyperopt/fmin.py:300\u001b[39m, in \u001b[36mFMinIter.run\u001b[39m\u001b[34m(self, N, block_until_done)\u001b[39m\n\u001b[32m    297\u001b[39m     time.sleep(\u001b[38;5;28mself\u001b[39m.poll_interval_secs)\n\u001b[32m    298\u001b[39m \u001b[38;5;28;01melse\u001b[39;00m:\n\u001b[32m    299\u001b[39m     \u001b[38;5;66;03m# -- loop over trials and do the jobs directly\u001b[39;00m\n\u001b[32m--> \u001b[39m\u001b[32m300\u001b[39m     \u001b[38;5;28;43mself\u001b[39;49m\u001b[43m.\u001b[49m\u001b[43mserial_evaluate\u001b[49m\u001b[43m(\u001b[49m\u001b[43m)\u001b[49m\n\u001b[32m    302\u001b[39m \u001b[38;5;28mself\u001b[39m.trials.refresh()\n\u001b[32m    303\u001b[39m \u001b[38;5;28;01mif\u001b[39;00m \u001b[38;5;28mself\u001b[39m.trials_save_file != \u001b[33m\"\u001b[39m\u001b[33m\"\u001b[39m:\n",
      "\u001b[36mFile \u001b[39m\u001b[32m~/miniconda3/lib/python3.12/site-packages/hyperopt/fmin.py:178\u001b[39m, in \u001b[36mFMinIter.serial_evaluate\u001b[39m\u001b[34m(self, N)\u001b[39m\n\u001b[32m    176\u001b[39m ctrl = base.Ctrl(\u001b[38;5;28mself\u001b[39m.trials, current_trial=trial)\n\u001b[32m    177\u001b[39m \u001b[38;5;28;01mtry\u001b[39;00m:\n\u001b[32m--> \u001b[39m\u001b[32m178\u001b[39m     result = \u001b[38;5;28;43mself\u001b[39;49m\u001b[43m.\u001b[49m\u001b[43mdomain\u001b[49m\u001b[43m.\u001b[49m\u001b[43mevaluate\u001b[49m\u001b[43m(\u001b[49m\u001b[43mspec\u001b[49m\u001b[43m,\u001b[49m\u001b[43m \u001b[49m\u001b[43mctrl\u001b[49m\u001b[43m)\u001b[49m\n\u001b[32m    179\u001b[39m \u001b[38;5;28;01mexcept\u001b[39;00m \u001b[38;5;167;01mException\u001b[39;00m \u001b[38;5;28;01mas\u001b[39;00m e:\n\u001b[32m    180\u001b[39m     logger.error(\u001b[33m\"\u001b[39m\u001b[33mjob exception: \u001b[39m\u001b[38;5;132;01m%s\u001b[39;00m\u001b[33m\"\u001b[39m % \u001b[38;5;28mstr\u001b[39m(e))\n",
      "\u001b[36mFile \u001b[39m\u001b[32m~/miniconda3/lib/python3.12/site-packages/hyperopt/base.py:892\u001b[39m, in \u001b[36mDomain.evaluate\u001b[39m\u001b[34m(self, config, ctrl, attach_attachments)\u001b[39m\n\u001b[32m    883\u001b[39m \u001b[38;5;28;01melse\u001b[39;00m:\n\u001b[32m    884\u001b[39m     \u001b[38;5;66;03m# -- the \"work\" of evaluating `config` can be written\u001b[39;00m\n\u001b[32m    885\u001b[39m     \u001b[38;5;66;03m#    either into the pyll part (self.expr)\u001b[39;00m\n\u001b[32m    886\u001b[39m     \u001b[38;5;66;03m#    or the normal Python part (self.fn)\u001b[39;00m\n\u001b[32m    887\u001b[39m     pyll_rval = pyll.rec_eval(\n\u001b[32m    888\u001b[39m         \u001b[38;5;28mself\u001b[39m.expr,\n\u001b[32m    889\u001b[39m         memo=memo,\n\u001b[32m    890\u001b[39m         print_node_on_error=\u001b[38;5;28mself\u001b[39m.rec_eval_print_node_on_error,\n\u001b[32m    891\u001b[39m     )\n\u001b[32m--> \u001b[39m\u001b[32m892\u001b[39m     rval = \u001b[38;5;28;43mself\u001b[39;49m\u001b[43m.\u001b[49m\u001b[43mfn\u001b[49m\u001b[43m(\u001b[49m\u001b[43mpyll_rval\u001b[49m\u001b[43m)\u001b[49m\n\u001b[32m    894\u001b[39m \u001b[38;5;28;01mif\u001b[39;00m \u001b[38;5;28misinstance\u001b[39m(rval, (\u001b[38;5;28mfloat\u001b[39m, \u001b[38;5;28mint\u001b[39m, np.number)):\n\u001b[32m    895\u001b[39m     dict_rval = {\u001b[33m\"\u001b[39m\u001b[33mloss\u001b[39m\u001b[33m\"\u001b[39m: \u001b[38;5;28mfloat\u001b[39m(rval), \u001b[33m\"\u001b[39m\u001b[33mstatus\u001b[39m\u001b[33m\"\u001b[39m: STATUS_OK}\n",
      "\u001b[36mCell\u001b[39m\u001b[36m \u001b[39m\u001b[32mIn[170]\u001b[39m\u001b[32m, line 11\u001b[39m, in \u001b[36mobjective\u001b[39m\u001b[34m(params, model_name)\u001b[39m\n\u001b[32m      8\u001b[39m mlflow.log_params(params)\n\u001b[32m     10\u001b[39m \u001b[38;5;66;03m# Train model with current hyperparameters\u001b[39;00m\n\u001b[32m---> \u001b[39m\u001b[32m11\u001b[39m result = \u001b[43mcreate_and_train_model\u001b[49m\u001b[43m(\u001b[49m\n\u001b[32m     12\u001b[39m \u001b[43m    \u001b[49m\u001b[43mmodel\u001b[49m\u001b[43m,\u001b[49m\n\u001b[32m     13\u001b[39m \u001b[43m    \u001b[49m\u001b[43margs\u001b[49m\u001b[43m=\u001b[49m\u001b[43mparams\u001b[49m\n\u001b[32m     14\u001b[39m \u001b[43m\u001b[49m\u001b[43m)\u001b[49m\n\u001b[32m     16\u001b[39m \u001b[38;5;66;03m# Log training results\u001b[39;00m\n\u001b[32m     17\u001b[39m mlflow.log_metrics(\n\u001b[32m     18\u001b[39m     {\n\u001b[32m     19\u001b[39m         \u001b[33m\"\u001b[39m\u001b[33maccuracy\u001b[39m\u001b[33m\"\u001b[39m: result[\u001b[33m\"\u001b[39m\u001b[33maccuracy\u001b[39m\u001b[33m\"\u001b[39m],\n\u001b[32m   (...)\u001b[39m\u001b[32m     23\u001b[39m     }\n\u001b[32m     24\u001b[39m )\n",
      "\u001b[36mCell\u001b[39m\u001b[36m \u001b[39m\u001b[32mIn[162]\u001b[39m\u001b[32m, line 16\u001b[39m, in \u001b[36mcreate_and_train_model\u001b[39m\u001b[34m(model, args)\u001b[39m\n\u001b[32m     14\u001b[39m \u001b[38;5;28mprint\u001b[39m(\u001b[33mf\u001b[39m\u001b[33m\"\u001b[39m\u001b[33mParams: \u001b[39m\u001b[38;5;132;01m{\u001b[39;00margs\u001b[38;5;132;01m}\u001b[39;00m\u001b[33m\"\u001b[39m)\n\u001b[32m     15\u001b[39m md = model(**args)\n\u001b[32m---> \u001b[39m\u001b[32m16\u001b[39m \u001b[43mmd\u001b[49m\u001b[43m.\u001b[49m\u001b[43mfit\u001b[49m\u001b[43m(\u001b[49m\u001b[43mX_train\u001b[49m\u001b[43m,\u001b[49m\u001b[43m \u001b[49m\u001b[43my_train\u001b[49m\u001b[43m)\u001b[49m\n\u001b[32m     17\u001b[39m \u001b[38;5;66;03m# Predict on the validation set\u001b[39;00m\n\u001b[32m     18\u001b[39m y_pred = md.predict(X_val)\n",
      "\u001b[36mFile \u001b[39m\u001b[32m~/miniconda3/lib/python3.12/site-packages/sklearn/base.py:1389\u001b[39m, in \u001b[36m_fit_context.<locals>.decorator.<locals>.wrapper\u001b[39m\u001b[34m(estimator, *args, **kwargs)\u001b[39m\n\u001b[32m   1382\u001b[39m     estimator._validate_params()\n\u001b[32m   1384\u001b[39m \u001b[38;5;28;01mwith\u001b[39;00m config_context(\n\u001b[32m   1385\u001b[39m     skip_parameter_validation=(\n\u001b[32m   1386\u001b[39m         prefer_skip_nested_validation \u001b[38;5;129;01mor\u001b[39;00m global_skip_validation\n\u001b[32m   1387\u001b[39m     )\n\u001b[32m   1388\u001b[39m ):\n\u001b[32m-> \u001b[39m\u001b[32m1389\u001b[39m     \u001b[38;5;28;01mreturn\u001b[39;00m \u001b[43mfit_method\u001b[49m\u001b[43m(\u001b[49m\u001b[43mestimator\u001b[49m\u001b[43m,\u001b[49m\u001b[43m \u001b[49m\u001b[43m*\u001b[49m\u001b[43margs\u001b[49m\u001b[43m,\u001b[49m\u001b[43m \u001b[49m\u001b[43m*\u001b[49m\u001b[43m*\u001b[49m\u001b[43mkwargs\u001b[49m\u001b[43m)\u001b[49m\n",
      "\u001b[36mFile \u001b[39m\u001b[32m~/miniconda3/lib/python3.12/site-packages/sklearn/ensemble/_forest.py:487\u001b[39m, in \u001b[36mBaseForest.fit\u001b[39m\u001b[34m(self, X, y, sample_weight)\u001b[39m\n\u001b[32m    476\u001b[39m trees = [\n\u001b[32m    477\u001b[39m     \u001b[38;5;28mself\u001b[39m._make_estimator(append=\u001b[38;5;28;01mFalse\u001b[39;00m, random_state=random_state)\n\u001b[32m    478\u001b[39m     \u001b[38;5;28;01mfor\u001b[39;00m i \u001b[38;5;129;01min\u001b[39;00m \u001b[38;5;28mrange\u001b[39m(n_more_estimators)\n\u001b[32m    479\u001b[39m ]\n\u001b[32m    481\u001b[39m \u001b[38;5;66;03m# Parallel loop: we prefer the threading backend as the Cython code\u001b[39;00m\n\u001b[32m    482\u001b[39m \u001b[38;5;66;03m# for fitting the trees is internally releasing the Python GIL\u001b[39;00m\n\u001b[32m    483\u001b[39m \u001b[38;5;66;03m# making threading more efficient than multiprocessing in\u001b[39;00m\n\u001b[32m    484\u001b[39m \u001b[38;5;66;03m# that case. However, for joblib 0.12+ we respect any\u001b[39;00m\n\u001b[32m    485\u001b[39m \u001b[38;5;66;03m# parallel_backend contexts set at a higher level,\u001b[39;00m\n\u001b[32m    486\u001b[39m \u001b[38;5;66;03m# since correctness does not rely on using threads.\u001b[39;00m\n\u001b[32m--> \u001b[39m\u001b[32m487\u001b[39m trees = \u001b[43mParallel\u001b[49m\u001b[43m(\u001b[49m\n\u001b[32m    488\u001b[39m \u001b[43m    \u001b[49m\u001b[43mn_jobs\u001b[49m\u001b[43m=\u001b[49m\u001b[38;5;28;43mself\u001b[39;49m\u001b[43m.\u001b[49m\u001b[43mn_jobs\u001b[49m\u001b[43m,\u001b[49m\n\u001b[32m    489\u001b[39m \u001b[43m    \u001b[49m\u001b[43mverbose\u001b[49m\u001b[43m=\u001b[49m\u001b[38;5;28;43mself\u001b[39;49m\u001b[43m.\u001b[49m\u001b[43mverbose\u001b[49m\u001b[43m,\u001b[49m\n\u001b[32m    490\u001b[39m \u001b[43m    \u001b[49m\u001b[43mprefer\u001b[49m\u001b[43m=\u001b[49m\u001b[33;43m\"\u001b[39;49m\u001b[33;43mthreads\u001b[39;49m\u001b[33;43m\"\u001b[39;49m\u001b[43m,\u001b[49m\n\u001b[32m    491\u001b[39m \u001b[43m\u001b[49m\u001b[43m)\u001b[49m\u001b[43m(\u001b[49m\n\u001b[32m    492\u001b[39m \u001b[43m    \u001b[49m\u001b[43mdelayed\u001b[49m\u001b[43m(\u001b[49m\u001b[43m_parallel_build_trees\u001b[49m\u001b[43m)\u001b[49m\u001b[43m(\u001b[49m\n\u001b[32m    493\u001b[39m \u001b[43m        \u001b[49m\u001b[43mt\u001b[49m\u001b[43m,\u001b[49m\n\u001b[32m    494\u001b[39m \u001b[43m        \u001b[49m\u001b[38;5;28;43mself\u001b[39;49m\u001b[43m.\u001b[49m\u001b[43mbootstrap\u001b[49m\u001b[43m,\u001b[49m\n\u001b[32m    495\u001b[39m \u001b[43m        \u001b[49m\u001b[43mX\u001b[49m\u001b[43m,\u001b[49m\n\u001b[32m    496\u001b[39m \u001b[43m        \u001b[49m\u001b[43my\u001b[49m\u001b[43m,\u001b[49m\n\u001b[32m    497\u001b[39m \u001b[43m        \u001b[49m\u001b[43msample_weight\u001b[49m\u001b[43m,\u001b[49m\n\u001b[32m    498\u001b[39m \u001b[43m        \u001b[49m\u001b[43mi\u001b[49m\u001b[43m,\u001b[49m\n\u001b[32m    499\u001b[39m \u001b[43m        \u001b[49m\u001b[38;5;28;43mlen\u001b[39;49m\u001b[43m(\u001b[49m\u001b[43mtrees\u001b[49m\u001b[43m)\u001b[49m\u001b[43m,\u001b[49m\n\u001b[32m    500\u001b[39m \u001b[43m        \u001b[49m\u001b[43mverbose\u001b[49m\u001b[43m=\u001b[49m\u001b[38;5;28;43mself\u001b[39;49m\u001b[43m.\u001b[49m\u001b[43mverbose\u001b[49m\u001b[43m,\u001b[49m\n\u001b[32m    501\u001b[39m \u001b[43m        \u001b[49m\u001b[43mclass_weight\u001b[49m\u001b[43m=\u001b[49m\u001b[38;5;28;43mself\u001b[39;49m\u001b[43m.\u001b[49m\u001b[43mclass_weight\u001b[49m\u001b[43m,\u001b[49m\n\u001b[32m    502\u001b[39m \u001b[43m        \u001b[49m\u001b[43mn_samples_bootstrap\u001b[49m\u001b[43m=\u001b[49m\u001b[43mn_samples_bootstrap\u001b[49m\u001b[43m,\u001b[49m\n\u001b[32m    503\u001b[39m \u001b[43m        \u001b[49m\u001b[43mmissing_values_in_feature_mask\u001b[49m\u001b[43m=\u001b[49m\u001b[43mmissing_values_in_feature_mask\u001b[49m\u001b[43m,\u001b[49m\n\u001b[32m    504\u001b[39m \u001b[43m    \u001b[49m\u001b[43m)\u001b[49m\n\u001b[32m    505\u001b[39m \u001b[43m    \u001b[49m\u001b[38;5;28;43;01mfor\u001b[39;49;00m\u001b[43m \u001b[49m\u001b[43mi\u001b[49m\u001b[43m,\u001b[49m\u001b[43m \u001b[49m\u001b[43mt\u001b[49m\u001b[43m \u001b[49m\u001b[38;5;129;43;01min\u001b[39;49;00m\u001b[43m \u001b[49m\u001b[38;5;28;43menumerate\u001b[39;49m\u001b[43m(\u001b[49m\u001b[43mtrees\u001b[49m\u001b[43m)\u001b[49m\n\u001b[32m    506\u001b[39m \u001b[43m\u001b[49m\u001b[43m)\u001b[49m\n\u001b[32m    508\u001b[39m \u001b[38;5;66;03m# Collect newly grown trees\u001b[39;00m\n\u001b[32m    509\u001b[39m \u001b[38;5;28mself\u001b[39m.estimators_.extend(trees)\n",
      "\u001b[36mFile \u001b[39m\u001b[32m~/miniconda3/lib/python3.12/site-packages/sklearn/utils/parallel.py:77\u001b[39m, in \u001b[36mParallel.__call__\u001b[39m\u001b[34m(self, iterable)\u001b[39m\n\u001b[32m     72\u001b[39m config = get_config()\n\u001b[32m     73\u001b[39m iterable_with_config = (\n\u001b[32m     74\u001b[39m     (_with_config(delayed_func, config), args, kwargs)\n\u001b[32m     75\u001b[39m     \u001b[38;5;28;01mfor\u001b[39;00m delayed_func, args, kwargs \u001b[38;5;129;01min\u001b[39;00m iterable\n\u001b[32m     76\u001b[39m )\n\u001b[32m---> \u001b[39m\u001b[32m77\u001b[39m \u001b[38;5;28;01mreturn\u001b[39;00m \u001b[38;5;28;43msuper\u001b[39;49m\u001b[43m(\u001b[49m\u001b[43m)\u001b[49m\u001b[43m.\u001b[49m\u001b[34;43m__call__\u001b[39;49m\u001b[43m(\u001b[49m\u001b[43miterable_with_config\u001b[49m\u001b[43m)\u001b[49m\n",
      "\u001b[36mFile \u001b[39m\u001b[32m~/miniconda3/lib/python3.12/site-packages/joblib/parallel.py:1918\u001b[39m, in \u001b[36mParallel.__call__\u001b[39m\u001b[34m(self, iterable)\u001b[39m\n\u001b[32m   1916\u001b[39m     output = \u001b[38;5;28mself\u001b[39m._get_sequential_output(iterable)\n\u001b[32m   1917\u001b[39m     \u001b[38;5;28mnext\u001b[39m(output)\n\u001b[32m-> \u001b[39m\u001b[32m1918\u001b[39m     \u001b[38;5;28;01mreturn\u001b[39;00m output \u001b[38;5;28;01mif\u001b[39;00m \u001b[38;5;28mself\u001b[39m.return_generator \u001b[38;5;28;01melse\u001b[39;00m \u001b[38;5;28;43mlist\u001b[39;49m\u001b[43m(\u001b[49m\u001b[43moutput\u001b[49m\u001b[43m)\u001b[49m\n\u001b[32m   1920\u001b[39m \u001b[38;5;66;03m# Let's create an ID that uniquely identifies the current call. If the\u001b[39;00m\n\u001b[32m   1921\u001b[39m \u001b[38;5;66;03m# call is interrupted early and that the same instance is immediately\u001b[39;00m\n\u001b[32m   1922\u001b[39m \u001b[38;5;66;03m# re-used, this id will be used to prevent workers that were\u001b[39;00m\n\u001b[32m   1923\u001b[39m \u001b[38;5;66;03m# concurrently finalizing a task from the previous call to run the\u001b[39;00m\n\u001b[32m   1924\u001b[39m \u001b[38;5;66;03m# callback.\u001b[39;00m\n\u001b[32m   1925\u001b[39m \u001b[38;5;28;01mwith\u001b[39;00m \u001b[38;5;28mself\u001b[39m._lock:\n",
      "\u001b[36mFile \u001b[39m\u001b[32m~/miniconda3/lib/python3.12/site-packages/joblib/parallel.py:1847\u001b[39m, in \u001b[36mParallel._get_sequential_output\u001b[39m\u001b[34m(self, iterable)\u001b[39m\n\u001b[32m   1845\u001b[39m \u001b[38;5;28mself\u001b[39m.n_dispatched_batches += \u001b[32m1\u001b[39m\n\u001b[32m   1846\u001b[39m \u001b[38;5;28mself\u001b[39m.n_dispatched_tasks += \u001b[32m1\u001b[39m\n\u001b[32m-> \u001b[39m\u001b[32m1847\u001b[39m res = \u001b[43mfunc\u001b[49m\u001b[43m(\u001b[49m\u001b[43m*\u001b[49m\u001b[43margs\u001b[49m\u001b[43m,\u001b[49m\u001b[43m \u001b[49m\u001b[43m*\u001b[49m\u001b[43m*\u001b[49m\u001b[43mkwargs\u001b[49m\u001b[43m)\u001b[49m\n\u001b[32m   1848\u001b[39m \u001b[38;5;28mself\u001b[39m.n_completed_tasks += \u001b[32m1\u001b[39m\n\u001b[32m   1849\u001b[39m \u001b[38;5;28mself\u001b[39m.print_progress()\n",
      "\u001b[36mFile \u001b[39m\u001b[32m~/miniconda3/lib/python3.12/site-packages/sklearn/utils/parallel.py:139\u001b[39m, in \u001b[36m_FuncWrapper.__call__\u001b[39m\u001b[34m(self, *args, **kwargs)\u001b[39m\n\u001b[32m    137\u001b[39m     config = {}\n\u001b[32m    138\u001b[39m \u001b[38;5;28;01mwith\u001b[39;00m config_context(**config):\n\u001b[32m--> \u001b[39m\u001b[32m139\u001b[39m     \u001b[38;5;28;01mreturn\u001b[39;00m \u001b[38;5;28;43mself\u001b[39;49m\u001b[43m.\u001b[49m\u001b[43mfunction\u001b[49m\u001b[43m(\u001b[49m\u001b[43m*\u001b[49m\u001b[43margs\u001b[49m\u001b[43m,\u001b[49m\u001b[43m \u001b[49m\u001b[43m*\u001b[49m\u001b[43m*\u001b[49m\u001b[43mkwargs\u001b[49m\u001b[43m)\u001b[49m\n",
      "\u001b[36mFile \u001b[39m\u001b[32m~/miniconda3/lib/python3.12/site-packages/sklearn/ensemble/_forest.py:189\u001b[39m, in \u001b[36m_parallel_build_trees\u001b[39m\u001b[34m(tree, bootstrap, X, y, sample_weight, tree_idx, n_trees, verbose, class_weight, n_samples_bootstrap, missing_values_in_feature_mask)\u001b[39m\n\u001b[32m    186\u001b[39m     \u001b[38;5;28;01melif\u001b[39;00m class_weight == \u001b[33m\"\u001b[39m\u001b[33mbalanced_subsample\u001b[39m\u001b[33m\"\u001b[39m:\n\u001b[32m    187\u001b[39m         curr_sample_weight *= compute_sample_weight(\u001b[33m\"\u001b[39m\u001b[33mbalanced\u001b[39m\u001b[33m\"\u001b[39m, y, indices=indices)\n\u001b[32m--> \u001b[39m\u001b[32m189\u001b[39m     \u001b[43mtree\u001b[49m\u001b[43m.\u001b[49m\u001b[43m_fit\u001b[49m\u001b[43m(\u001b[49m\n\u001b[32m    190\u001b[39m \u001b[43m        \u001b[49m\u001b[43mX\u001b[49m\u001b[43m,\u001b[49m\n\u001b[32m    191\u001b[39m \u001b[43m        \u001b[49m\u001b[43my\u001b[49m\u001b[43m,\u001b[49m\n\u001b[32m    192\u001b[39m \u001b[43m        \u001b[49m\u001b[43msample_weight\u001b[49m\u001b[43m=\u001b[49m\u001b[43mcurr_sample_weight\u001b[49m\u001b[43m,\u001b[49m\n\u001b[32m    193\u001b[39m \u001b[43m        \u001b[49m\u001b[43mcheck_input\u001b[49m\u001b[43m=\u001b[49m\u001b[38;5;28;43;01mFalse\u001b[39;49;00m\u001b[43m,\u001b[49m\n\u001b[32m    194\u001b[39m \u001b[43m        \u001b[49m\u001b[43mmissing_values_in_feature_mask\u001b[49m\u001b[43m=\u001b[49m\u001b[43mmissing_values_in_feature_mask\u001b[49m\u001b[43m,\u001b[49m\n\u001b[32m    195\u001b[39m \u001b[43m    \u001b[49m\u001b[43m)\u001b[49m\n\u001b[32m    196\u001b[39m \u001b[38;5;28;01melse\u001b[39;00m:\n\u001b[32m    197\u001b[39m     tree._fit(\n\u001b[32m    198\u001b[39m         X,\n\u001b[32m    199\u001b[39m         y,\n\u001b[32m   (...)\u001b[39m\u001b[32m    202\u001b[39m         missing_values_in_feature_mask=missing_values_in_feature_mask,\n\u001b[32m    203\u001b[39m     )\n",
      "\u001b[36mFile \u001b[39m\u001b[32m~/miniconda3/lib/python3.12/site-packages/sklearn/tree/_classes.py:472\u001b[39m, in \u001b[36mBaseDecisionTree._fit\u001b[39m\u001b[34m(self, X, y, sample_weight, check_input, missing_values_in_feature_mask)\u001b[39m\n\u001b[32m    461\u001b[39m \u001b[38;5;28;01melse\u001b[39;00m:\n\u001b[32m    462\u001b[39m     builder = BestFirstTreeBuilder(\n\u001b[32m    463\u001b[39m         splitter,\n\u001b[32m    464\u001b[39m         min_samples_split,\n\u001b[32m   (...)\u001b[39m\u001b[32m    469\u001b[39m         \u001b[38;5;28mself\u001b[39m.min_impurity_decrease,\n\u001b[32m    470\u001b[39m     )\n\u001b[32m--> \u001b[39m\u001b[32m472\u001b[39m \u001b[43mbuilder\u001b[49m\u001b[43m.\u001b[49m\u001b[43mbuild\u001b[49m\u001b[43m(\u001b[49m\u001b[38;5;28;43mself\u001b[39;49m\u001b[43m.\u001b[49m\u001b[43mtree_\u001b[49m\u001b[43m,\u001b[49m\u001b[43m \u001b[49m\u001b[43mX\u001b[49m\u001b[43m,\u001b[49m\u001b[43m \u001b[49m\u001b[43my\u001b[49m\u001b[43m,\u001b[49m\u001b[43m \u001b[49m\u001b[43msample_weight\u001b[49m\u001b[43m,\u001b[49m\u001b[43m \u001b[49m\u001b[43mmissing_values_in_feature_mask\u001b[49m\u001b[43m)\u001b[49m\n\u001b[32m    474\u001b[39m \u001b[38;5;28;01mif\u001b[39;00m \u001b[38;5;28mself\u001b[39m.n_outputs_ == \u001b[32m1\u001b[39m \u001b[38;5;129;01mand\u001b[39;00m is_classifier(\u001b[38;5;28mself\u001b[39m):\n\u001b[32m    475\u001b[39m     \u001b[38;5;28mself\u001b[39m.n_classes_ = \u001b[38;5;28mself\u001b[39m.n_classes_[\u001b[32m0\u001b[39m]\n",
      "\u001b[31mKeyboardInterrupt\u001b[39m: "
     ]
    }
   ],
   "source": [
    "model = RandomForestClassifier\n",
    "run_experiments('rf-sweep', max_evals=max_evals, search_space=search_space_rf, data_name=data_name, model_name = 'RandomForestClassifier', features_names=columns_to_keep)\n",
    "model = SVC\n",
    "run_experiments('svc-sweep', max_evals=max_evals, search_space=search_space_svc, data_name=data_name, model_name = 'SVC', features_names=columns_to_keep)\n",
    "model = LinearSVC\n",
    "run_experiments('svc-linear-sweep', max_evals=max_evals, search_space=search_space_svc_linear, data_name=data_name, model_name = 'LinearSVC', features_names=columns_to_keep)\n",
    "model = xgb.XGBClassifier\n",
    "run_experiments('xgb-sweep', max_evals=max_evals, search_space=search_space_xgb, data_name=data_name, model_name = 'XGBClassifier', features_names=columns_to_keep)"
   ]
  },
  {
   "cell_type": "markdown",
   "id": "6c7c7c69",
   "metadata": {},
   "source": [
    "### LLM"
   ]
  },
  {
   "cell_type": "code",
   "execution_count": null,
   "id": "71ab5872",
   "metadata": {},
   "outputs": [],
   "source": [
    "# Provide an Experiment description that will appear in the UI\n",
    "experiment_description = (\n",
    "    \"Experiment to train models on the UAH + CARLA LLM (20%) dataset.\"\n",
    ")\n",
    "\n",
    "# Provide searchable tags that define characteristics of the Runs that\n",
    "# will be in this Experiment\n",
    "experiment_tags = {\n",
    "    \"project_name\": \"driver-behavior-prediction\",\n",
    "    \"mlflow.note.content\": experiment_description,\n",
    "}\n",
    "\n",
    "# Create the Experiment, providing a unique name\n",
    "try:\n",
    "    driver_behavior_experiment = client.create_experiment(\n",
    "        name=\"Driver_Behavior_Models_UAH_CARLA_LLM_20\", tags=experiment_tags\n",
    "    )\n",
    "except mlflow.exceptions.RestException as e:\n",
    "    print(f\"Experiment already exists: {e}\")"
   ]
  },
  {
   "cell_type": "code",
   "execution_count": null,
   "id": "61e34e16",
   "metadata": {},
   "outputs": [],
   "source": [
    "X_train, y_train = X_carla_uah_llm_20, y_carla_uah_llm_20\n",
    "\n",
    "scaler = StandardScaler()\n",
    "X_train = scaler.fit_transform(X_train)\n",
    "X_val = scaler.transform(X_val_base)\n",
    "y_train = preprocessor.one_hot_encode(y_train, one_hot_keys=one_hot_keys)\n",
    "\n",
    "signature = infer_signature(X_train, y_train)\n",
    "mlflow.set_experiment('Driver_Behavior_Models_UAH_CARLA_LLM_20')\n",
    "data_name = 'UAH_CARLA_LLM_20'"
   ]
  },
  {
   "cell_type": "code",
   "execution_count": null,
   "id": "97311e4a",
   "metadata": {},
   "outputs": [],
   "source": [
    "model = RandomForestClassifier\n",
    "run_experiments('rf-sweep', max_evals=max_evals, search_space=search_space_rf, data_name=data_name, model_name = 'RandomForestClassifier', features_names=columns_to_keep)\n",
    "model = SVC\n",
    "run_experiments('svc-sweep', max_evals=max_evals, search_space=search_space_svc, data_name=data_name, model_name = 'SVC', features_names=columns_to_keep)\n",
    "model = LinearSVC\n",
    "run_experiments('svc-linear-sweep', max_evals=max_evals, search_space=search_space_svc_linear, data_name=data_name, model_name = 'LinearSVC', features_names=columns_to_keep)\n",
    "model = xgb.XGBClassifier\n",
    "run_experiments('xgb-sweep', max_evals=max_evals, search_space=search_space_xgb, data_name=data_name, model_name = 'XGBClassifier', features_names=columns_to_keep)"
   ]
  }
 ],
 "metadata": {
  "kernelspec": {
   "display_name": "base",
   "language": "python",
   "name": "python3"
  },
  "language_info": {
   "codemirror_mode": {
    "name": "ipython",
    "version": 3
   },
   "file_extension": ".py",
   "mimetype": "text/x-python",
   "name": "python",
   "nbconvert_exporter": "python",
   "pygments_lexer": "ipython3",
   "version": "3.12.2"
  }
 },
 "nbformat": 4,
 "nbformat_minor": 5
}
