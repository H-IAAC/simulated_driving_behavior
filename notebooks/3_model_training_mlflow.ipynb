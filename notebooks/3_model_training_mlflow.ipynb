{
 "cells": [
  {
   "cell_type": "markdown",
   "id": "e1de239e",
   "metadata": {},
   "source": [
    "This notebook is used to organize the experiments. If you just want the best models found, you can refer to the `3_model_training` notebook."
   ]
  },
  {
   "cell_type": "code",
   "execution_count": 72,
   "id": "3e2af455",
   "metadata": {},
   "outputs": [],
   "source": [
    "import os\n",
    "\n",
    "import mlflow\n",
    "from sklearn.model_selection import train_test_split\n",
    "from mlflow.models import infer_signature\n",
    "from hyperopt import fmin, tpe, hp, STATUS_OK, Trials\n",
    "from sklearn.ensemble import RandomForestClassifier\n",
    "from sklearn.svm import SVC, LinearSVC\n",
    "from sklearn.metrics import f1_score, accuracy_score, recall_score, precision_score, log_loss\n",
    "import pandas as pd\n",
    "import numpy as np\n",
    "import xgboost as xgb\n",
    "from sklearn.preprocessing import StandardScaler\n",
    "from functools import partial\n",
    "\n",
    "os.sys.path.append(os.path.abspath('../src'))\n",
    "from data import loader\n",
    "from data import preprocessor\n",
    "\n",
    "mapname = 'Town01'"
   ]
  },
  {
   "cell_type": "code",
   "execution_count": 73,
   "id": "8dc66672",
   "metadata": {},
   "outputs": [],
   "source": [
    "def create_and_train_model(model, args):\n",
    "    \"\"\"\n",
    "    Function to create and train a model with given parameters.\n",
    "\n",
    "    Args:\n",
    "        model: The model to be trained.\n",
    "        args: Arguments for training the model.\n",
    "\n",
    "    Returns:\n",
    "        result: The result of the training process.\n",
    "    \"\"\"\n",
    "    result = {}\n",
    "    # Train model with current hyperparameters\n",
    "    print(f\"Params: {args}\")\n",
    "    md = model(**args)\n",
    "    md.fit(X_train, y_train)\n",
    "    # Predict on the validation set\n",
    "    y_pred = md.predict(X_val)\n",
    "    # Log training results\n",
    "    result[\"f1_score\"] = f1_score(y_val, y_pred, average='weighted')\n",
    "    result[\"accuracy\"] = accuracy_score(y_val, y_pred)\n",
    "    result[\"recall\"] = recall_score(y_val, y_pred, average='weighted')\n",
    "    result[\"precision\"] = precision_score(y_val, y_pred, average='weighted')\n",
    "    result[\"model\"] = md\n",
    "\n",
    "    return result"
   ]
  },
  {
   "cell_type": "code",
   "execution_count": 74,
   "id": "2cf70def",
   "metadata": {},
   "outputs": [],
   "source": [
    "def objective(params, model_name):\n",
    "    \"\"\"\n",
    "    Objective function for hyperparameter optimization.\n",
    "    This function will be called by Hyperopt for each trial.\n",
    "    \"\"\"\n",
    "    with mlflow.start_run(nested=True, run_name=f\"{model_name}_{params}\"):\n",
    "        # Log hyperparameters being tested\n",
    "        mlflow.log_params(params)\n",
    "\n",
    "        # Train model with current hyperparameters\n",
    "        result = create_and_train_model(\n",
    "            model,\n",
    "            args=params\n",
    "        )\n",
    "\n",
    "        # Log training results\n",
    "        mlflow.log_metrics(\n",
    "            {\n",
    "                \"accuracy\": result[\"accuracy\"],\n",
    "                \"recall\": result[\"recall\"],\n",
    "                \"precision\": result[\"precision\"],\n",
    "                \"f1_score\": result[\"f1_score\"],\n",
    "            }\n",
    "        )\n",
    "\n",
    "        # Log the trained model\n",
    "        mlflow.sklearn.log_model(\n",
    "            result[\"model\"], name=model_name, signature=signature)\n",
    "\n",
    "        # Return loss for Hyperopt (it minimizes)\n",
    "        return {\"loss\": -result[\"f1_score\"], \"status\": STATUS_OK, \"model\": f'{model_name}_{params}'}"
   ]
  },
  {
   "cell_type": "code",
   "execution_count": 75,
   "id": "1c8c77ae",
   "metadata": {},
   "outputs": [],
   "source": [
    "def run_experiments(run_name, max_evals, search_space, data_name, model_name=None):\n",
    "    # Create or set experiment\n",
    "\n",
    "    print(\n",
    "        f\"This will run {max_evals} trials to find optimal hyperparameters...\")\n",
    "\n",
    "    with mlflow.start_run(run_name=run_name):\n",
    "\n",
    "        mlflow.set_tag(\"model_type\", model_name)\n",
    "\n",
    "        # Log experiment metadata\n",
    "        mlflow.log_params(\n",
    "            {\n",
    "                \"optimization_method\": \"Tree-structured Parzen Estimator (TPE)\",\n",
    "                \"max_evaluations\": max_evals,\n",
    "                \"objective_metric\": \"log_loss\",\n",
    "                \"dataset\": data_name,\n",
    "                \"model_type\": model_name\n",
    "            }\n",
    "        )\n",
    "\n",
    "        # Run optimization\n",
    "        trials = Trials()\n",
    "        objective_with_name = partial(objective, model_name=model_name)\n",
    "\n",
    "        best_params = fmin(\n",
    "            fn=objective_with_name,\n",
    "            space=search_space,\n",
    "            algo=tpe.suggest,\n",
    "            max_evals=max_evals,\n",
    "            trials=trials,\n",
    "            verbose=True,\n",
    "        )\n",
    "\n",
    "        # Find and log best results\n",
    "        best_trial = min(trials.results, key=lambda x: x[\"loss\"])\n",
    "        best_f1_score = -best_trial[\"loss\"]\n",
    "\n",
    "        # Log optimization results\n",
    "        mlflow.log_params(best_params)\n",
    "        mlflow.log_params({\"best_model\": best_trial[\"model\"]})\n",
    "        mlflow.log_metrics(\n",
    "            {\n",
    "                \"best_f1_score\": best_f1_score,\n",
    "                \"total_trials\": len(trials.trials),\n",
    "                \"optimization_completed\": 1,\n",
    "            }\n",
    "        )\n",
    "\n",
    "    return best_f1_score \n"
   ]
  },
  {
   "cell_type": "code",
   "execution_count": 76,
   "id": "cb3963a0",
   "metadata": {},
   "outputs": [],
   "source": [
    "client = mlflow.tracking.MlflowClient(\"http://127.0.0.1:8080\")\n",
    "mlflow.set_tracking_uri(\"http://127.0.0.1:8080\")"
   ]
  },
  {
   "cell_type": "markdown",
   "id": "d7abae7f",
   "metadata": {},
   "source": [
    "## Preparing the Data"
   ]
  },
  {
   "cell_type": "code",
   "execution_count": 77,
   "id": "3bb894a0",
   "metadata": {},
   "outputs": [],
   "source": [
    "data_path = '../data'\n",
    "uah_training = pd.read_csv(f'{data_path}/base/training_set_uah.csv')\n",
    "uah_validation = pd.read_csv(f'{data_path}/base/validation_set_uah.csv')\n",
    "\n",
    "carla_fixed = pd.read_csv(f'{data_path}/merged/{mapname}/carla/carla_fixed.csv').drop(columns=['origin'])\n",
    "carla_llm = pd.read_csv(f'{data_path}/merged/{mapname}/carla/carla_llm.csv').drop(columns=['origin'])\n",
    "\n",
    "sumo_fixed = pd.read_csv(f'{data_path}/merged/{mapname}/sumo/sumo_fixed.csv').drop(columns=['origin'])\n",
    "sumo_llm = pd.read_csv(f'{data_path}/merged/{mapname}/sumo/sumo_llm.csv').drop(columns=['origin'])\n",
    "\n",
    "carla_uah_fixed = pd.read_csv(f'{data_path}/merged/{mapname}/carla_uah/carla_uah_fixed.csv').drop(columns=['origin'])\n",
    "carla_uah_llm = pd.read_csv(f'{data_path}/merged/{mapname}/carla_uah/carla_uah_llm.csv').drop(columns=['origin'])\n",
    "\n",
    "sumo_uah_fixed = pd.read_csv(f'{data_path}/merged/{mapname}/sumo_uah/sumo_uah_fixed.csv').drop(columns=['origin'])\n",
    "sumo_uah_llm = pd.read_csv(f'{data_path}/merged/{mapname}/sumo_uah/sumo_uah_llm.csv').drop(columns=['origin'])"
   ]
  },
  {
   "cell_type": "markdown",
   "id": "1f77ad45",
   "metadata": {},
   "source": [
    "Applying sliding windows to UAH, SUMO and CARLA full data"
   ]
  },
  {
   "cell_type": "code",
   "execution_count": 78,
   "id": "9c64695a",
   "metadata": {},
   "outputs": [],
   "source": [
    "window_size = 10\n",
    "step_size = 5\n",
    "one_hot_keys = {\n",
    "    'normal': 0,\n",
    "    'aggressive': 1\n",
    "}"
   ]
  },
  {
   "cell_type": "code",
   "execution_count": null,
   "id": "265f53af",
   "metadata": {},
   "outputs": [],
   "source": [
    "# SUMO\n",
    "X_sumo_fixed, y_sumo_fixed = preprocessor.sliding_windows(sumo_fixed, window_size=window_size, step_size=step_size)\n",
    "X_sumo_llm, y_sumo_llm = preprocessor.sliding_windows(sumo_llm, window_size=window_size, step_size=step_size)\n",
    "\n",
    "# CARLA\n",
    "X_carla_fixed, y_carla_fixed = preprocessor.sliding_windows(carla_fixed, window_size=window_size, step_size=step_size)\n",
    "X_carla_llm, y_carla_llm = preprocessor.sliding_windows(carla_llm, window_size=window_size, step_size=step_size)"
   ]
  },
  {
   "cell_type": "markdown",
   "id": "b210c607",
   "metadata": {},
   "source": [
    "Defining the search space for each model"
   ]
  },
  {
   "cell_type": "code",
   "execution_count": 54,
   "id": "d88856f4",
   "metadata": {},
   "outputs": [],
   "source": [
    "max_evals = 5\n",
    "\n",
    "search_space_rf = {\n",
    "    \"n_estimators\": hp.choice(\"n_estimators\", [20, 50, 100, 200, 500]),\n",
    "    \"max_depth\": hp.choice(\"max_depth\", [None, 5, 10, 20, 50]),\n",
    "    \"random_state\": 42,\n",
    "}\n",
    "search_space_svc = {\n",
    "    \"C\": hp.choice(\"C\", [0.01, 0.05, 0.1, 0.5, 1]),  # Regularization parameter\n",
    "    \"kernel\": hp.choice(\"kernel\", [\"rbf\"]),  # Kernel type\n",
    "    \"gamma\": hp.choice(\"gamma\", [0.001, 0.01, 0.1, 1, 10]),  # Kernel coefficient for 'rbf', 'poly', and 'sigmoid'\n",
    "}\n",
    "search_space_svc_linear = {\n",
    "    \"C\": hp.choice(\"C\", [10**-4, 10**-3, 10**-2, 0.1, 1])  # Regularization parameter\n",
    "}\n",
    "search_space_xgb = {\n",
    "    \"n_estimators\": hp.choice(\"n_estimators\", [200, 500, 700, 1000]),\n",
    "    \"max_depth\": hp.choice(\"max_depth\", [None, 5, 10]),\n",
    "    \"learning_rate\": hp.choice(\"learning_rate\", [0.001, 0.01, 0.1, 0.2, 0.3, 0.4, 0.5]),  # Learning rate\n",
    "    # \"subsample\": hp.uniform(\"subsample\", 0.5, 1.0),\n",
    "    # \"colsample_bytree\": hp.uniform(\"colsample_bytree\", 0.5, 1.0),\n",
    "    \"random_state\": 42,\n",
    "}"
   ]
  },
  {
   "cell_type": "markdown",
   "id": "2f678a67",
   "metadata": {},
   "source": [
    "## Real Only"
   ]
  },
  {
   "cell_type": "code",
   "execution_count": 84,
   "id": "1730251d",
   "metadata": {},
   "outputs": [],
   "source": [
    "# Provide an Experiment description that will appear in the UI\n",
    "experiment_description = (\n",
    "    \"Experiment to train models on the UAH driveset.\"\n",
    ")\n",
    "\n",
    "# Provide searchable tags that define characteristics of the Runs that\n",
    "# will be in this Experiment\n",
    "experiment_tags = {\n",
    "    \"project_name\": \"driver-behavior-prediction\",\n",
    "    \"mlflow.note.content\": experiment_description,\n",
    "}\n",
    "\n",
    "# Create the Experiment, providing a unique name\n",
    "try:\n",
    "    driver_behavior_experiment = client.create_experiment(\n",
    "        name=\"Driver_Behavior_Models_UAH\", tags=experiment_tags\n",
    "    )\n",
    "except mlflow.exceptions.RestException as e:\n",
    "    print(f\"Experiment already exists: {e}\")"
   ]
  },
  {
   "cell_type": "code",
   "execution_count": 85,
   "id": "05595ec8",
   "metadata": {},
   "outputs": [],
   "source": [
    "columns_to_keep = ['acc_x', 'acc_y', 'acc_z', 'gyro_x', 'gyro_y', 'gyro_z', 'angle', 'speed', 'label']\n",
    "\n",
    "X_train, y_train = preprocessor.sliding_windows(uah_training[columns_to_keep], window_size=window_size, step_size=step_size)\n",
    "X_val, y_val = preprocessor.sliding_windows(uah_validation[columns_to_keep], window_size=window_size, step_size=step_size)\n",
    "\n",
    "scaler = StandardScaler()\n",
    "X_train = scaler.fit_transform(X_train)\n",
    "X_val = scaler.transform(X_val)\n",
    "\n",
    "y_train = preprocessor.one_hot_encode(y_train, one_hot_keys=one_hot_keys)\n",
    "y_val = preprocessor.one_hot_encode(y_val, one_hot_keys=one_hot_keys)\n",
    "\n",
    "signature = infer_signature(X_train, y_train)\n",
    "mlflow.set_experiment('Driver_Behavior_Models_UAH')\n",
    "data_name = 'UAH'"
   ]
  },
  {
   "cell_type": "code",
   "execution_count": null,
   "id": "fab04b02",
   "metadata": {},
   "outputs": [
    {
     "name": "stdout",
     "output_type": "stream",
     "text": [
      "This will run 5 trials to find optimal hyperparameters...\n",
      "Params: {'max_depth': 10, 'n_estimators': 50, 'random_state': 42}\n",
      "🏃 View run RandomForestClassifier_{'max_depth': 10, 'n_estimators': 50, 'random_state': 42} at: http://127.0.0.1:8080/#/experiments/757271451324733873/runs/fe96fa56cd4e4ea3a392eedcdb850751\n",
      "\n",
      "🧪 View experiment at: http://127.0.0.1:8080/#/experiments/757271451324733873\n",
      "\n",
      "Params: {'max_depth': 10, 'n_estimators': 500, 'random_state': 42}              \n",
      " 20%|██        | 1/5 [00:04<00:17,  4.49s/trial, best loss: -0.7314151877823617]"
     ]
    }
   ],
   "source": [
    "model = RandomForestClassifier\n",
    "run_experiments('rf-sweep', max_evals=max_evals, search_space=search_space_rf, data_name=data_name, model_name = 'RandomForestClassifier')\n",
    "model = SVC\n",
    "run_experiments('svc-sweep', max_evals=max_evals, search_space=search_space_svc, data_name=data_name, model_name = 'SVC')\n",
    "model = LinearSVC\n",
    "run_experiments('svc-linear-sweep', max_evals=max_evals, search_space=search_space_svc_linear, data_name=data_name, model_name = 'LinearSVC')\n",
    "model = xgb.XGBClassifier\n",
    "run_experiments('xgb-sweep', max_evals=max_evals, search_space=search_space_xgb, data_name=data_name, model_name = 'XGBClassifier')"
   ]
  },
  {
   "cell_type": "markdown",
   "id": "05f0c899",
   "metadata": {},
   "source": [
    "## SUMO Only"
   ]
  },
  {
   "cell_type": "code",
   "execution_count": null,
   "id": "98105bf0",
   "metadata": {},
   "outputs": [
    {
     "name": "stdout",
     "output_type": "stream",
     "text": [
      "Columns to keep for validation: ['acc', 'angle', 'speed', 'gyro_z', 'label']\n"
     ]
    }
   ],
   "source": [
    "# Getting the validation for SUMO variables\n",
    "columns_to_keep = sumo_fixed.columns.tolist()\n",
    "print(\"Columns to keep for validation:\", columns_to_keep)\n",
    "\n",
    "X_val_base, y_val = preprocessor.sliding_windows(uah_validation[columns_to_keep], window_size=window_size, step_size=step_size)\n",
    "y_val = preprocessor.one_hot_encode(y_val, one_hot_keys=one_hot_keys)"
   ]
  },
  {
   "cell_type": "markdown",
   "id": "69e823c8",
   "metadata": {},
   "source": [
    "### Fixed"
   ]
  },
  {
   "cell_type": "code",
   "execution_count": null,
   "id": "da934d9c",
   "metadata": {},
   "outputs": [],
   "source": [
    "# Provide an Experiment description that will appear in the UI\n",
    "experiment_description = (\n",
    "    \"Experiment to train models on the SUMO Fixed dataset.\"\n",
    ")\n",
    "\n",
    "# Provide searchable tags that define characteristics of the Runs that\n",
    "# will be in this Experiment\n",
    "experiment_tags = {\n",
    "    \"project_name\": \"driver-behavior-prediction\",\n",
    "    \"mlflow.note.content\": experiment_description,\n",
    "}\n",
    "\n",
    "# Create the Experiment, providing a unique name\n",
    "try:\n",
    "    driver_behavior_experiment = client.create_experiment(\n",
    "        name=\"Driver_Behavior_Models_SUMO_Fixed\", tags=experiment_tags\n",
    "    )\n",
    "except mlflow.exceptions.RestException as e:\n",
    "    print(f\"Experiment already exists: {e}\")"
   ]
  },
  {
   "cell_type": "code",
   "execution_count": null,
   "id": "0f7026fd",
   "metadata": {},
   "outputs": [],
   "source": [
    "X_train, y_train = X_sumo_fixed, y_sumo_fixed\n",
    "\n",
    "scaler = StandardScaler()\n",
    "X_train = scaler.fit_transform(X_train)\n",
    "X_val = scaler.transform(X_val_base)\n",
    "y_train = preprocessor.one_hot_encode(y_train, one_hot_keys=one_hot_keys)\n",
    "\n",
    "signature = infer_signature(X_train, y_train)\n",
    "mlflow.set_experiment('Driver_Behavior_Models_SUMO_Fixed')\n",
    "data_name = 'SUMO_Fixed'"
   ]
  },
  {
   "cell_type": "code",
   "execution_count": null,
   "id": "7080e63a",
   "metadata": {},
   "outputs": [
    {
     "name": "stdout",
     "output_type": "stream",
     "text": [
      "This will run 5 trials to find optimal hyperparameters...\n",
      "Params: {'max_depth': 50, 'n_estimators': 20, 'random_state': 42}\n",
      "🏃 View run RandomForestClassifier_{'max_depth': 50, 'n_estimators': 20, 'random_state': 42} at: http://127.0.0.1:8080/#/experiments/134669692609126421/runs/53272d0428e84baa97789bc64aedb785\n",
      "\n",
      "🧪 View experiment at: http://127.0.0.1:8080/#/experiments/134669692609126421\n",
      "\n",
      "Params: {'max_depth': 10, 'n_estimators': 20, 'random_state': 42}               \n",
      " 20%|██        | 1/5 [00:04<00:19,  4.86s/trial, best loss: -0.3334085595387637]"
     ]
    },
    {
     "name": "stderr",
     "output_type": "stream",
     "text": [
      "/home/renan/miniconda3/lib/python3.12/site-packages/sklearn/metrics/_classification.py:1565: UndefinedMetricWarning: Precision is ill-defined and being set to 0.0 in labels with no predicted samples. Use `zero_division` parameter to control this behavior.\n",
      "  _warn_prf(average, modifier, f\"{metric.capitalize()} is\", len(result))\n",
      "\n"
     ]
    },
    {
     "name": "stdout",
     "output_type": "stream",
     "text": [
      "🏃 View run RandomForestClassifier_{'max_depth': 10, 'n_estimators': 20, 'random_state': 42} at: http://127.0.0.1:8080/#/experiments/134669692609126421/runs/fe72e9fb6e9d472ab07e229b0970880e\n",
      "\n",
      "🧪 View experiment at: http://127.0.0.1:8080/#/experiments/134669692609126421   \n",
      "\n",
      "Params: {'max_depth': None, 'n_estimators': 50, 'random_state': 42}             \n",
      " 40%|████      | 2/5 [00:07<00:11,  3.82s/trial, best loss: -0.3334085595387637]"
     ]
    },
    {
     "name": "stderr",
     "output_type": "stream",
     "text": [
      "/home/renan/miniconda3/lib/python3.12/site-packages/sklearn/metrics/_classification.py:1565: UndefinedMetricWarning: Precision is ill-defined and being set to 0.0 in labels with no predicted samples. Use `zero_division` parameter to control this behavior.\n",
      "  _warn_prf(average, modifier, f\"{metric.capitalize()} is\", len(result))\n",
      "\n"
     ]
    },
    {
     "name": "stdout",
     "output_type": "stream",
     "text": [
      "🏃 View run RandomForestClassifier_{'max_depth': None, 'n_estimators': 50, 'random_state': 42} at: http://127.0.0.1:8080/#/experiments/134669692609126421/runs/03b040ac171744898aa83fd46521bc93\n",
      "\n",
      "🧪 View experiment at: http://127.0.0.1:8080/#/experiments/134669692609126421   \n",
      "\n",
      "Params: {'max_depth': 10, 'n_estimators': 50, 'random_state': 42}               \n",
      " 60%|██████    | 3/5 [00:19<00:14,  7.46s/trial, best loss: -0.3334085595387637]"
     ]
    },
    {
     "name": "stderr",
     "output_type": "stream",
     "text": [
      "/home/renan/miniconda3/lib/python3.12/site-packages/sklearn/metrics/_classification.py:1565: UndefinedMetricWarning: Precision is ill-defined and being set to 0.0 in labels with no predicted samples. Use `zero_division` parameter to control this behavior.\n",
      "  _warn_prf(average, modifier, f\"{metric.capitalize()} is\", len(result))\n",
      "\n"
     ]
    },
    {
     "name": "stdout",
     "output_type": "stream",
     "text": [
      "🏃 View run RandomForestClassifier_{'max_depth': 10, 'n_estimators': 50, 'random_state': 42} at: http://127.0.0.1:8080/#/experiments/134669692609126421/runs/46e67431d1e748c5b8a119670a77636a\n",
      "\n",
      "🧪 View experiment at: http://127.0.0.1:8080/#/experiments/134669692609126421   \n",
      "\n",
      "Params: {'max_depth': 50, 'n_estimators': 200, 'random_state': 42}              \n",
      " 80%|████████  | 4/5 [00:26<00:07,  7.21s/trial, best loss: -0.3334085595387637]"
     ]
    },
    {
     "name": "stderr",
     "output_type": "stream",
     "text": [
      "/home/renan/miniconda3/lib/python3.12/site-packages/sklearn/metrics/_classification.py:1565: UndefinedMetricWarning: Precision is ill-defined and being set to 0.0 in labels with no predicted samples. Use `zero_division` parameter to control this behavior.\n",
      "  _warn_prf(average, modifier, f\"{metric.capitalize()} is\", len(result))\n",
      "\n"
     ]
    },
    {
     "name": "stdout",
     "output_type": "stream",
     "text": [
      "🏃 View run RandomForestClassifier_{'max_depth': 50, 'n_estimators': 200, 'random_state': 42} at: http://127.0.0.1:8080/#/experiments/134669692609126421/runs/2ae637bed3af4e0b8e41e802d9757c34\n",
      "\n",
      "🧪 View experiment at: http://127.0.0.1:8080/#/experiments/134669692609126421   \n",
      "\n",
      "100%|██████████| 5/5 [01:08<00:00, 13.72s/trial, best loss: -0.3334085595387637]\n",
      "🏃 View run rf-sweep at: http://127.0.0.1:8080/#/experiments/134669692609126421/runs/e24c8db41cb1483d91412a6943b9e41a\n",
      "🧪 View experiment at: http://127.0.0.1:8080/#/experiments/134669692609126421\n",
      "This will run 5 trials to find optimal hyperparameters...\n",
      "Params: {'C': 0.1, 'gamma': 0.001, 'kernel': 'rbf'}  \n",
      "  0%|          | 0/5 [00:00<?, ?trial/s, best loss=?]"
     ]
    },
    {
     "name": "stderr",
     "output_type": "stream",
     "text": [
      "/home/renan/miniconda3/lib/python3.12/site-packages/sklearn/metrics/_classification.py:1565: UndefinedMetricWarning: Precision is ill-defined and being set to 0.0 in labels with no predicted samples. Use `zero_division` parameter to control this behavior.\n",
      "  _warn_prf(average, modifier, f\"{metric.capitalize()} is\", len(result))\n",
      "\n"
     ]
    },
    {
     "name": "stdout",
     "output_type": "stream",
     "text": [
      "🏃 View run SVC_{'C': 0.1, 'gamma': 0.001, 'kernel': 'rbf'} at: http://127.0.0.1:8080/#/experiments/134669692609126421/runs/2cf82d91bdae4a778dcb1e39f0730425\n",
      "\n",
      "🧪 View experiment at: http://127.0.0.1:8080/#/experiments/134669692609126421\n",
      "\n",
      "Params: {'C': 0.5, 'gamma': 0.01, 'kernel': 'rbf'}                               \n",
      " 20%|██        | 1/5 [01:17<05:10, 77.67s/trial, best loss: -0.33310749162724596]"
     ]
    },
    {
     "name": "stderr",
     "output_type": "stream",
     "text": [
      "/home/renan/miniconda3/lib/python3.12/site-packages/sklearn/metrics/_classification.py:1565: UndefinedMetricWarning: Precision is ill-defined and being set to 0.0 in labels with no predicted samples. Use `zero_division` parameter to control this behavior.\n",
      "  _warn_prf(average, modifier, f\"{metric.capitalize()} is\", len(result))\n",
      "\n"
     ]
    },
    {
     "name": "stdout",
     "output_type": "stream",
     "text": [
      "🏃 View run SVC_{'C': 0.5, 'gamma': 0.01, 'kernel': 'rbf'} at: http://127.0.0.1:8080/#/experiments/134669692609126421/runs/9378c3b6e5d14bd3a2a7ff5ebafbdc5b\n",
      "\n",
      "🧪 View experiment at: http://127.0.0.1:8080/#/experiments/134669692609126421    \n",
      "\n",
      "Params: {'C': 1, 'gamma': 1, 'kernel': 'rbf'}                                    \n",
      " 40%|████      | 2/5 [02:22<03:30, 70.22s/trial, best loss: -0.33310749162724596]"
     ]
    },
    {
     "name": "stderr",
     "output_type": "stream",
     "text": [
      "/home/renan/miniconda3/lib/python3.12/site-packages/sklearn/metrics/_classification.py:1565: UndefinedMetricWarning: Precision is ill-defined and being set to 0.0 in labels with no predicted samples. Use `zero_division` parameter to control this behavior.\n",
      "  _warn_prf(average, modifier, f\"{metric.capitalize()} is\", len(result))\n",
      "\n"
     ]
    },
    {
     "name": "stdout",
     "output_type": "stream",
     "text": [
      "🏃 View run SVC_{'C': 1, 'gamma': 1, 'kernel': 'rbf'} at: http://127.0.0.1:8080/#/experiments/134669692609126421/runs/47e14c11c5544f818fa4fd0cfb12463b\n",
      "\n",
      "🧪 View experiment at: http://127.0.0.1:8080/#/experiments/134669692609126421    \n",
      "\n",
      "Params: {'C': 0.5, 'gamma': 10, 'kernel': 'rbf'}                                 \n",
      " 60%|██████    | 3/5 [03:53<02:38, 79.45s/trial, best loss: -0.33310749162724596]"
     ]
    },
    {
     "name": "stderr",
     "output_type": "stream",
     "text": [
      "/home/renan/miniconda3/lib/python3.12/site-packages/sklearn/metrics/_classification.py:1565: UndefinedMetricWarning: Precision is ill-defined and being set to 0.0 in labels with no predicted samples. Use `zero_division` parameter to control this behavior.\n",
      "  _warn_prf(average, modifier, f\"{metric.capitalize()} is\", len(result))\n",
      "\n"
     ]
    },
    {
     "name": "stdout",
     "output_type": "stream",
     "text": [
      "🏃 View run SVC_{'C': 0.5, 'gamma': 10, 'kernel': 'rbf'} at: http://127.0.0.1:8080/#/experiments/134669692609126421/runs/53b5ef3a5b70444388928136c1237430\n",
      "\n",
      "🧪 View experiment at: http://127.0.0.1:8080/#/experiments/134669692609126421    \n",
      "\n",
      "Params: {'C': 0.5, 'gamma': 0.01, 'kernel': 'rbf'}                               \n",
      " 80%|████████  | 4/5 [05:37<01:29, 89.23s/trial, best loss: -0.33310749162724596]"
     ]
    },
    {
     "name": "stderr",
     "output_type": "stream",
     "text": [
      "/home/renan/miniconda3/lib/python3.12/site-packages/sklearn/metrics/_classification.py:1565: UndefinedMetricWarning: Precision is ill-defined and being set to 0.0 in labels with no predicted samples. Use `zero_division` parameter to control this behavior.\n",
      "  _warn_prf(average, modifier, f\"{metric.capitalize()} is\", len(result))\n",
      "\n"
     ]
    },
    {
     "name": "stdout",
     "output_type": "stream",
     "text": [
      "🏃 View run SVC_{'C': 0.5, 'gamma': 0.01, 'kernel': 'rbf'} at: http://127.0.0.1:8080/#/experiments/134669692609126421/runs/b13599a4caf64c9e8623c09885b87323\n",
      "\n",
      "🧪 View experiment at: http://127.0.0.1:8080/#/experiments/134669692609126421    \n",
      "\n",
      "100%|██████████| 5/5 [06:42<00:00, 80.50s/trial, best loss: -0.33310749162724596]\n",
      "🏃 View run svc-sweep at: http://127.0.0.1:8080/#/experiments/134669692609126421/runs/993a6f0c9ac34c868439f0bf24ddff6c\n",
      "🧪 View experiment at: http://127.0.0.1:8080/#/experiments/134669692609126421\n",
      "This will run 5 trials to find optimal hyperparameters...\n",
      "Params: {'C': 0.001}                                 \n",
      "🏃 View run LinearSVC_{'C': 0.001} at: http://127.0.0.1:8080/#/experiments/134669692609126421/runs/685366b6662a4133a148db678b8b4f2a\n",
      "\n",
      "🧪 View experiment at: http://127.0.0.1:8080/#/experiments/134669692609126421\n",
      "\n",
      "Params: {'C': 0.001}                                                            \n",
      "🏃 View run LinearSVC_{'C': 0.001} at: http://127.0.0.1:8080/#/experiments/134669692609126421/runs/41e163b2863f4a1391d70ff34496caf1\n",
      "\n",
      "🧪 View experiment at: http://127.0.0.1:8080/#/experiments/134669692609126421   \n",
      "\n",
      "Params: {'C': 0.0001}                                                           \n",
      "🏃 View run LinearSVC_{'C': 0.0001} at: http://127.0.0.1:8080/#/experiments/134669692609126421/runs/991be9979f184108bc06d15a076fea3b\n",
      "\n",
      "🧪 View experiment at: http://127.0.0.1:8080/#/experiments/134669692609126421   \n",
      "\n",
      "Params: {'C': 1}                                                                \n",
      "🏃 View run LinearSVC_{'C': 1} at: http://127.0.0.1:8080/#/experiments/134669692609126421/runs/c57fc7a562c1415eb11e2d5c2aa146d0\n",
      "\n",
      "🧪 View experiment at: http://127.0.0.1:8080/#/experiments/134669692609126421   \n",
      "\n",
      "Params: {'C': 0.01}                                                              \n",
      "🏃 View run LinearSVC_{'C': 0.01} at: http://127.0.0.1:8080/#/experiments/134669692609126421/runs/6c5e1b2d36aa473e888a5ac021341966\n",
      "\n",
      "🧪 View experiment at: http://127.0.0.1:8080/#/experiments/134669692609126421    \n",
      "\n",
      "100%|██████████| 5/5 [00:09<00:00,  1.97s/trial, best loss: -0.35717658881167785]\n",
      "🏃 View run svc-linear-sweep at: http://127.0.0.1:8080/#/experiments/134669692609126421/runs/8ba8738d2d854707b9c92eac9a68dd9b\n",
      "🧪 View experiment at: http://127.0.0.1:8080/#/experiments/134669692609126421\n",
      "This will run 5 trials to find optimal hyperparameters...\n",
      "Params: {'learning_rate': 0.4, 'max_depth': 5, 'n_estimators': 700, 'random_state': 42}\n",
      "🏃 View run XGBClassifier_{'learning_rate': 0.4, 'max_depth': 5, 'n_estimators': 700, 'random_state': 42} at: http://127.0.0.1:8080/#/experiments/134669692609126421/runs/3835e20d440b493d8a2f5c0fbe049537\n",
      "\n",
      "🧪 View experiment at: http://127.0.0.1:8080/#/experiments/134669692609126421\n",
      "\n",
      "Params: {'learning_rate': 0.001, 'max_depth': None, 'n_estimators': 1000, 'random_state': 42}\n",
      "🏃 View run XGBClassifier_{'learning_rate': 0.001, 'max_depth': None, 'n_estimators': 1000, 'random_state': 42} at: http://127.0.0.1:8080/#/experiments/134669692609126421/runs/2f1bcdffbced4856a8174fbbfd352407\n",
      "\n",
      "🧪 View experiment at: http://127.0.0.1:8080/#/experiments/134669692609126421    \n",
      "\n",
      "Params: {'learning_rate': 0.3, 'max_depth': 10, 'n_estimators': 500, 'random_state': 42}\n",
      "🏃 View run XGBClassifier_{'learning_rate': 0.3, 'max_depth': 10, 'n_estimators': 500, 'random_state': 42} at: http://127.0.0.1:8080/#/experiments/134669692609126421/runs/ec76aaf23f6d481e84fbe9c5ea8c48fd\n",
      "\n",
      "🧪 View experiment at: http://127.0.0.1:8080/#/experiments/134669692609126421    \n",
      "\n",
      "Params: {'learning_rate': 0.5, 'max_depth': 5, 'n_estimators': 700, 'random_state': 42}\n",
      "🏃 View run XGBClassifier_{'learning_rate': 0.5, 'max_depth': 5, 'n_estimators': 700, 'random_state': 42} at: http://127.0.0.1:8080/#/experiments/134669692609126421/runs/66713e6cdd3d4adab254446c0932b969\n",
      "\n",
      "🧪 View experiment at: http://127.0.0.1:8080/#/experiments/134669692609126421    \n",
      "\n",
      "Params: {'learning_rate': 0.5, 'max_depth': None, 'n_estimators': 500, 'random_state': 42}\n",
      "🏃 View run XGBClassifier_{'learning_rate': 0.5, 'max_depth': None, 'n_estimators': 500, 'random_state': 42} at: http://127.0.0.1:8080/#/experiments/134669692609126421/runs/4df533ffd3054f8ca9bc562f646abafa\n",
      "\n",
      "🧪 View experiment at: http://127.0.0.1:8080/#/experiments/134669692609126421    \n",
      "\n",
      "100%|██████████| 5/5 [00:28<00:00,  5.74s/trial, best loss: -0.33671100692668154]\n",
      "🏃 View run xgb-sweep at: http://127.0.0.1:8080/#/experiments/134669692609126421/runs/a97e79dcf9c54eb6ac1a408e07a8e96a\n",
      "🧪 View experiment at: http://127.0.0.1:8080/#/experiments/134669692609126421\n"
     ]
    },
    {
     "data": {
      "text/plain": [
       "0.33671100692668154"
      ]
     },
     "execution_count": 61,
     "metadata": {},
     "output_type": "execute_result"
    }
   ],
   "source": [
    "model = RandomForestClassifier\n",
    "run_experiments('rf-sweep', max_evals=max_evals, search_space=search_space_rf, data_name=data_name, model_name = 'RandomForestClassifier')\n",
    "model = SVC\n",
    "run_experiments('svc-sweep', max_evals=max_evals, search_space=search_space_svc, data_name=data_name, model_name = 'SVC')\n",
    "model = LinearSVC\n",
    "run_experiments('svc-linear-sweep', max_evals=max_evals, search_space=search_space_svc_linear, data_name=data_name, model_name = 'LinearSVC')\n",
    "model = xgb.XGBClassifier\n",
    "run_experiments('xgb-sweep', max_evals=max_evals, search_space=search_space_xgb, data_name=data_name, model_name = 'XGBClassifier')"
   ]
  },
  {
   "cell_type": "markdown",
   "id": "65285841",
   "metadata": {},
   "source": [
    "### LLM"
   ]
  },
  {
   "cell_type": "code",
   "execution_count": null,
   "id": "567d9f58",
   "metadata": {},
   "outputs": [],
   "source": [
    "# Provide an Experiment description that will appear in the UI\n",
    "experiment_description = (\n",
    "    \"Experiment to train models on the SUMO LLM dataset.\"\n",
    ")\n",
    "\n",
    "# Provide searchable tags that define characteristics of the Runs that\n",
    "# will be in this Experiment\n",
    "experiment_tags = {\n",
    "    \"project_name\": \"driver-behavior-prediction\",\n",
    "    \"mlflow.note.content\": experiment_description,\n",
    "}\n",
    "\n",
    "# Create the Experiment, providing a unique name\n",
    "try:\n",
    "    driver_behavior_experiment = client.create_experiment(\n",
    "        name=\"Driver_Behavior_Models_SUMO_LLM\", tags=experiment_tags\n",
    "    )\n",
    "except mlflow.exceptions.RestException as e:\n",
    "    print(f\"Experiment already exists: {e}\")"
   ]
  },
  {
   "cell_type": "code",
   "execution_count": null,
   "id": "0460281e",
   "metadata": {},
   "outputs": [],
   "source": [
    "X_train, y_train = X_sumo_llm, y_sumo_llm\n",
    "\n",
    "scaler = StandardScaler()\n",
    "X_train = scaler.fit_transform(X_train)\n",
    "X_val = scaler.transform(X_val_base)\n",
    "y_train = preprocessor.one_hot_encode(y_train, one_hot_keys=one_hot_keys)\n",
    "\n",
    "mlflow.set_experiment('Driver_Behavior_Models_SUMO_LLM')\n",
    "data_name = 'SUMO_LLM'"
   ]
  },
  {
   "cell_type": "code",
   "execution_count": null,
   "id": "4da017c3",
   "metadata": {},
   "outputs": [
    {
     "name": "stdout",
     "output_type": "stream",
     "text": [
      "This will run 5 trials to find optimal hyperparameters...\n",
      "Params: {'max_depth': 50, 'n_estimators': 100, 'random_state': 42}\n",
      "🏃 View run RandomForestClassifier_{'max_depth': 50, 'n_estimators': 100, 'random_state': 42} at: http://127.0.0.1:8080/#/experiments/959396384665733800/runs/4763cf8b76c449f5be4b6f541ee7ddc2\n",
      "\n",
      "🧪 View experiment at: http://127.0.0.1:8080/#/experiments/959396384665733800\n",
      "\n",
      "Params: {'max_depth': 5, 'n_estimators': 500, 'random_state': 42}               \n",
      "🏃 View run RandomForestClassifier_{'max_depth': 5, 'n_estimators': 500, 'random_state': 42} at: http://127.0.0.1:8080/#/experiments/959396384665733800/runs/5a6e55c187bb4afc8a6d933764684679\n",
      "\n",
      "🧪 View experiment at: http://127.0.0.1:8080/#/experiments/959396384665733800   \n",
      "\n",
      "Params: {'max_depth': 50, 'n_estimators': 200, 'random_state': 42}              \n",
      "🏃 View run RandomForestClassifier_{'max_depth': 50, 'n_estimators': 200, 'random_state': 42} at: http://127.0.0.1:8080/#/experiments/959396384665733800/runs/3bd24c5814d44543a5a2b41b40da6083\n",
      "\n",
      "🧪 View experiment at: http://127.0.0.1:8080/#/experiments/959396384665733800   \n",
      "\n",
      "Params: {'max_depth': None, 'n_estimators': 200, 'random_state': 42}            \n",
      "🏃 View run RandomForestClassifier_{'max_depth': None, 'n_estimators': 200, 'random_state': 42} at: http://127.0.0.1:8080/#/experiments/959396384665733800/runs/2ff282e69cc7445c98ed48d38e55c9fe\n",
      "\n",
      "🧪 View experiment at: http://127.0.0.1:8080/#/experiments/959396384665733800  \n",
      "\n",
      "Params: {'max_depth': 10, 'n_estimators': 20, 'random_state': 42}               \n",
      "🏃 View run RandomForestClassifier_{'max_depth': 10, 'n_estimators': 20, 'random_state': 42} at: http://127.0.0.1:8080/#/experiments/959396384665733800/runs/5a13f0042f024b6db1fff648f9cfc0cb\n",
      "\n",
      "🧪 View experiment at: http://127.0.0.1:8080/#/experiments/959396384665733800   \n",
      "\n",
      "100%|██████████| 5/5 [03:29<00:00, 41.88s/trial, best loss: -0.4037023766786275]\n",
      "🏃 View run rf-sweep at: http://127.0.0.1:8080/#/experiments/959396384665733800/runs/4604083e10924a29b0d3913801324c88\n",
      "🧪 View experiment at: http://127.0.0.1:8080/#/experiments/959396384665733800\n",
      "This will run 5 trials to find optimal hyperparameters...\n",
      "Params: {'C': 0.01, 'gamma': 0.01, 'kernel': 'rbf'}  \n",
      "🏃 View run SVC_{'C': 0.01, 'gamma': 0.01, 'kernel': 'rbf'} at: http://127.0.0.1:8080/#/experiments/959396384665733800/runs/2cff5028d04e43adb20f04298307c1b2\n",
      "\n",
      "🧪 View experiment at: http://127.0.0.1:8080/#/experiments/959396384665733800\n",
      "\n",
      "Params: {'C': 0.5, 'gamma': 0.01, 'kernel': 'rbf'}                               \n",
      "🏃 View run SVC_{'C': 0.5, 'gamma': 0.01, 'kernel': 'rbf'} at: http://127.0.0.1:8080/#/experiments/959396384665733800/runs/6f330f8b66ed4c849c1d13b6d777c5ba\n",
      "\n",
      "🧪 View experiment at: http://127.0.0.1:8080/#/experiments/959396384665733800    \n",
      "\n",
      "Params: {'C': 0.05, 'gamma': 10, 'kernel': 'rbf'}                                \n",
      " 40%|████      | 2/5 [03:01<04:31, 90.60s/trial, best loss: -0.33641148675357896]"
     ]
    },
    {
     "name": "stderr",
     "output_type": "stream",
     "text": [
      "/home/renan/miniconda3/lib/python3.12/site-packages/sklearn/metrics/_classification.py:1565: UndefinedMetricWarning: Precision is ill-defined and being set to 0.0 in labels with no predicted samples. Use `zero_division` parameter to control this behavior.\n",
      "  _warn_prf(average, modifier, f\"{metric.capitalize()} is\", len(result))\n",
      "\n"
     ]
    },
    {
     "name": "stdout",
     "output_type": "stream",
     "text": [
      "🏃 View run SVC_{'C': 0.05, 'gamma': 10, 'kernel': 'rbf'} at: http://127.0.0.1:8080/#/experiments/959396384665733800/runs/f28d8744d49443b5826984462385016e\n",
      "\n",
      "🧪 View experiment at: http://127.0.0.1:8080/#/experiments/959396384665733800    \n",
      "\n",
      "Params: {'C': 1, 'gamma': 10, 'kernel': 'rbf'}                                   \n",
      " 60%|██████    | 3/5 [04:48<03:16, 98.31s/trial, best loss: -0.33641148675357896]"
     ]
    },
    {
     "name": "stderr",
     "output_type": "stream",
     "text": [
      "/home/renan/miniconda3/lib/python3.12/site-packages/sklearn/metrics/_classification.py:1565: UndefinedMetricWarning: Precision is ill-defined and being set to 0.0 in labels with no predicted samples. Use `zero_division` parameter to control this behavior.\n",
      "  _warn_prf(average, modifier, f\"{metric.capitalize()} is\", len(result))\n",
      "\n"
     ]
    },
    {
     "name": "stdout",
     "output_type": "stream",
     "text": [
      "🏃 View run SVC_{'C': 1, 'gamma': 10, 'kernel': 'rbf'} at: http://127.0.0.1:8080/#/experiments/959396384665733800/runs/7206561a8306433c8f2ff6ab90aa45e5\n",
      "\n",
      "🧪 View experiment at: http://127.0.0.1:8080/#/experiments/959396384665733800    \n",
      "\n",
      "Params: {'C': 0.5, 'gamma': 0.1, 'kernel': 'rbf'}                                 \n",
      "🏃 View run SVC_{'C': 0.5, 'gamma': 0.1, 'kernel': 'rbf'} at: http://127.0.0.1:8080/#/experiments/959396384665733800/runs/11426f98a313488185e8e330874dc37c\n",
      "\n",
      "🧪 View experiment at: http://127.0.0.1:8080/#/experiments/959396384665733800     \n",
      "\n",
      "100%|██████████| 5/5 [12:10<00:00, 146.18s/trial, best loss: -0.33641148675357896]\n",
      "🏃 View run svc-sweep at: http://127.0.0.1:8080/#/experiments/959396384665733800/runs/14b10d595d864c15929e618775808d23\n",
      "🧪 View experiment at: http://127.0.0.1:8080/#/experiments/959396384665733800\n",
      "This will run 5 trials to find optimal hyperparameters...\n",
      "Params: {'C': 1}                                     \n",
      "🏃 View run LinearSVC_{'C': 1} at: http://127.0.0.1:8080/#/experiments/959396384665733800/runs/a6a3eb224118499ab32e83a70aa4743d\n",
      "\n",
      "🧪 View experiment at: http://127.0.0.1:8080/#/experiments/959396384665733800\n",
      "\n",
      "Params: {'C': 1}                                                                 \n",
      "🏃 View run LinearSVC_{'C': 1} at: http://127.0.0.1:8080/#/experiments/959396384665733800/runs/c301a6229db446cf994f6e5d709827ab\n",
      "\n",
      "🧪 View experiment at: http://127.0.0.1:8080/#/experiments/959396384665733800    \n",
      "\n",
      "Params: {'C': 1}                                                                 \n",
      "🏃 View run LinearSVC_{'C': 1} at: http://127.0.0.1:8080/#/experiments/959396384665733800/runs/aab2a6a561dc4286a0972dd834a34a6f\n",
      "\n",
      "🧪 View experiment at: http://127.0.0.1:8080/#/experiments/959396384665733800    \n",
      "\n",
      "Params: {'C': 0.0001}                                                            \n",
      "🏃 View run LinearSVC_{'C': 0.0001} at: http://127.0.0.1:8080/#/experiments/959396384665733800/runs/85b553ff0d9745e3a62202fb1b8e56ce\n",
      "\n",
      "🧪 View experiment at: http://127.0.0.1:8080/#/experiments/959396384665733800    \n",
      "\n",
      "Params: {'C': 0.1}                                                               \n",
      "🏃 View run LinearSVC_{'C': 0.1} at: http://127.0.0.1:8080/#/experiments/959396384665733800/runs/8e6ddc81e18a4c9fb93432ff46b3c791\n",
      "\n",
      "🧪 View experiment at: http://127.0.0.1:8080/#/experiments/959396384665733800    \n",
      "\n",
      "100%|██████████| 5/5 [00:11<00:00,  2.38s/trial, best loss: -0.33718704427166996]\n",
      "🏃 View run svc-linear-sweep at: http://127.0.0.1:8080/#/experiments/959396384665733800/runs/87b0f51ee98b45ffbafadad3e96ec360\n",
      "🧪 View experiment at: http://127.0.0.1:8080/#/experiments/959396384665733800\n",
      "This will run 5 trials to find optimal hyperparameters...\n",
      "Params: {'learning_rate': 0.1, 'max_depth': 5, 'n_estimators': 500, 'random_state': 42}\n",
      "🏃 View run XGBClassifier_{'learning_rate': 0.1, 'max_depth': 5, 'n_estimators': 500, 'random_state': 42} at: http://127.0.0.1:8080/#/experiments/959396384665733800/runs/e49352c846164107bfea5c65fc0493ca\n",
      "\n",
      "🧪 View experiment at: http://127.0.0.1:8080/#/experiments/959396384665733800\n",
      "\n",
      "Params: {'learning_rate': 0.5, 'max_depth': None, 'n_estimators': 700, 'random_state': 42}\n",
      "🏃 View run XGBClassifier_{'learning_rate': 0.5, 'max_depth': None, 'n_estimators': 700, 'random_state': 42} at: http://127.0.0.1:8080/#/experiments/959396384665733800/runs/c13cde3242b3475c812a666c35feebb6\n",
      "\n",
      "🧪 View experiment at: http://127.0.0.1:8080/#/experiments/959396384665733800    \n",
      "\n",
      "Params: {'learning_rate': 0.5, 'max_depth': 10, 'n_estimators': 700, 'random_state': 42}\n",
      "🏃 View run XGBClassifier_{'learning_rate': 0.5, 'max_depth': 10, 'n_estimators': 700, 'random_state': 42} at: http://127.0.0.1:8080/#/experiments/959396384665733800/runs/dacf924e0c9f4a889e06982dfd9a79cf\n",
      "\n",
      "🧪 View experiment at: http://127.0.0.1:8080/#/experiments/959396384665733800    \n",
      "\n",
      "Params: {'learning_rate': 0.5, 'max_depth': None, 'n_estimators': 1000, 'random_state': 42}\n",
      "🏃 View run XGBClassifier_{'learning_rate': 0.5, 'max_depth': None, 'n_estimators': 1000, 'random_state': 42} at: http://127.0.0.1:8080/#/experiments/959396384665733800/runs/d25e44e7a17644378783330ed5475120\n",
      "\n",
      "🧪 View experiment at: http://127.0.0.1:8080/#/experiments/959396384665733800    \n",
      "\n",
      "Params: {'learning_rate': 0.4, 'max_depth': 10, 'n_estimators': 500, 'random_state': 42}\n",
      "🏃 View run XGBClassifier_{'learning_rate': 0.4, 'max_depth': 10, 'n_estimators': 500, 'random_state': 42} at: http://127.0.0.1:8080/#/experiments/959396384665733800/runs/1aa670d84bb94e51aa1d49361a20a57e\n",
      "\n",
      "🧪 View experiment at: http://127.0.0.1:8080/#/experiments/959396384665733800    \n",
      "\n",
      "100%|██████████| 5/5 [00:38<00:00,  7.74s/trial, best loss: -0.47694909303546645]\n",
      "🏃 View run xgb-sweep at: http://127.0.0.1:8080/#/experiments/959396384665733800/runs/4ae2f85716a443c88f095cce1706c693\n",
      "🧪 View experiment at: http://127.0.0.1:8080/#/experiments/959396384665733800\n"
     ]
    },
    {
     "data": {
      "text/plain": [
       "0.47694909303546645"
      ]
     },
     "execution_count": 64,
     "metadata": {},
     "output_type": "execute_result"
    }
   ],
   "source": [
    "model = RandomForestClassifier\n",
    "run_experiments('rf-sweep', max_evals=max_evals, search_space=search_space_rf, data_name=data_name, model_name = 'RandomForestClassifier')\n",
    "model = SVC\n",
    "run_experiments('svc-sweep', max_evals=max_evals, search_space=search_space_svc, data_name=data_name, model_name = 'SVC')\n",
    "model = LinearSVC\n",
    "run_experiments('svc-linear-sweep', max_evals=max_evals, search_space=search_space_svc_linear, data_name=data_name, model_name = 'LinearSVC')\n",
    "model = xgb.XGBClassifier\n",
    "run_experiments('xgb-sweep', max_evals=max_evals, search_space=search_space_xgb, data_name=data_name, model_name = 'XGBClassifier')"
   ]
  },
  {
   "cell_type": "markdown",
   "id": "d562a57b",
   "metadata": {},
   "source": [
    "## Carla Only"
   ]
  },
  {
   "cell_type": "code",
   "execution_count": null,
   "id": "40fa1c38",
   "metadata": {},
   "outputs": [
    {
     "name": "stdout",
     "output_type": "stream",
     "text": [
      "Columns to keep for validation: ['acc_x', 'acc_y', 'acc_z', 'gyro_x', 'gyro_y', 'gyro_z', 'angle', 'label']\n"
     ]
    }
   ],
   "source": [
    "# Getting the validation for SUMO variables\n",
    "columns_to_keep = carla_fixed.columns.tolist()\n",
    "print(\"Columns to keep for validation:\", columns_to_keep)\n",
    "X_val_base, y_val = preprocessor.sliding_windows(uah_validation[columns_to_keep], window_size=window_size, step_size=step_size)\n",
    "y_val = preprocessor.one_hot_encode(y_val, one_hot_keys=one_hot_keys)"
   ]
  },
  {
   "cell_type": "markdown",
   "id": "17def673",
   "metadata": {},
   "source": [
    "### Fixed"
   ]
  },
  {
   "cell_type": "code",
   "execution_count": null,
   "id": "d5520a73",
   "metadata": {},
   "outputs": [],
   "source": [
    "# Provide an Experiment description that will appear in the UI\n",
    "experiment_description = (\n",
    "    \"Experiment to train models on the CARLA Fixed dataset.\"\n",
    ")\n",
    "\n",
    "# Provide searchable tags that define characteristics of the Runs that\n",
    "# will be in this Experiment\n",
    "experiment_tags = {\n",
    "    \"project_name\": \"driver-behavior-prediction\",\n",
    "    \"mlflow.note.content\": experiment_description,\n",
    "}\n",
    "\n",
    "# Create the Experiment, providing a unique name\n",
    "try:\n",
    "    driver_behavior_experiment = client.create_experiment(\n",
    "        name=\"Driver_Behavior_Models_CARLA_Fixed\", tags=experiment_tags\n",
    "    )\n",
    "except mlflow.exceptions.RestException as e:\n",
    "    print(f\"Experiment already exists: {e}\")"
   ]
  },
  {
   "cell_type": "code",
   "execution_count": null,
   "id": "f460d11d",
   "metadata": {},
   "outputs": [],
   "source": [
    "X_train, y_train = X_carla_fixed, y_carla_fixed\n",
    "\n",
    "scaler = StandardScaler()\n",
    "X_train = scaler.fit_transform(X_train)\n",
    "X_val = scaler.transform(X_val_base)\n",
    "y_train = preprocessor.one_hot_encode(y_train, one_hot_keys=one_hot_keys)\n",
    "\n",
    "mlflow.set_experiment('Driver_Behavior_Models_CARLA_Fixed')\n",
    "data_name = 'CARLA_Fixed'"
   ]
  },
  {
   "cell_type": "code",
   "execution_count": null,
   "id": "6740e674",
   "metadata": {},
   "outputs": [
    {
     "name": "stdout",
     "output_type": "stream",
     "text": [
      "This will run 5 trials to find optimal hyperparameters...\n",
      "Params: {'max_depth': 10, 'n_estimators': 20, 'random_state': 42}\n",
      "🏃 View run RandomForestClassifier_{'max_depth': 10, 'n_estimators': 20, 'random_state': 42} at: http://127.0.0.1:8080/#/experiments/805744944225876802/runs/97b78d9280cc46aeb9bb55f1d17c1de3\n",
      "\n",
      "🧪 View experiment at: http://127.0.0.1:8080/#/experiments/805744944225876802\n",
      "\n",
      "Params: {'max_depth': 50, 'n_estimators': 50, 'random_state': 42}               \n",
      "🏃 View run RandomForestClassifier_{'max_depth': 50, 'n_estimators': 50, 'random_state': 42} at: http://127.0.0.1:8080/#/experiments/805744944225876802/runs/d1ebb580ba1d45fcbf76f0632ad7fac9\n",
      "\n",
      "🧪 View experiment at: http://127.0.0.1:8080/#/experiments/805744944225876802   \n",
      "\n",
      "Params: {'max_depth': 50, 'n_estimators': 200, 'random_state': 42}              \n",
      "🏃 View run RandomForestClassifier_{'max_depth': 50, 'n_estimators': 200, 'random_state': 42} at: http://127.0.0.1:8080/#/experiments/805744944225876802/runs/a3b70f45e96b4849b22b456120458178\n",
      "\n",
      "🧪 View experiment at: http://127.0.0.1:8080/#/experiments/805744944225876802   \n",
      "\n",
      "Params: {'max_depth': 20, 'n_estimators': 500, 'random_state': 42}              \n",
      "🏃 View run RandomForestClassifier_{'max_depth': 20, 'n_estimators': 500, 'random_state': 42} at: http://127.0.0.1:8080/#/experiments/805744944225876802/runs/02d268978c91493ba2d016e09200fe65\n",
      "\n",
      "🧪 View experiment at: http://127.0.0.1:8080/#/experiments/805744944225876802   \n",
      "\n",
      "Params: {'max_depth': 50, 'n_estimators': 20, 'random_state': 42}               \n",
      "🏃 View run RandomForestClassifier_{'max_depth': 50, 'n_estimators': 20, 'random_state': 42} at: http://127.0.0.1:8080/#/experiments/805744944225876802/runs/95aaa0084e7644b8a816c71f11410df9\n",
      "\n",
      "🧪 View experiment at: http://127.0.0.1:8080/#/experiments/805744944225876802   \n",
      "\n",
      "100%|██████████| 5/5 [02:07<00:00, 25.49s/trial, best loss: -0.5639412279204434]\n",
      "🏃 View run rf-sweep at: http://127.0.0.1:8080/#/experiments/805744944225876802/runs/e2760e35d7114191ac5264d58b7ae6df\n",
      "🧪 View experiment at: http://127.0.0.1:8080/#/experiments/805744944225876802\n",
      "This will run 5 trials to find optimal hyperparameters...\n",
      "Params: {'C': 0.1, 'gamma': 0.001, 'kernel': 'rbf'}  \n",
      "  0%|          | 0/5 [00:00<?, ?trial/s, best loss=?]"
     ]
    },
    {
     "name": "stderr",
     "output_type": "stream",
     "text": [
      "/home/renan/miniconda3/lib/python3.12/site-packages/sklearn/metrics/_classification.py:1565: UndefinedMetricWarning: Precision is ill-defined and being set to 0.0 in labels with no predicted samples. Use `zero_division` parameter to control this behavior.\n",
      "  _warn_prf(average, modifier, f\"{metric.capitalize()} is\", len(result))\n",
      "\n"
     ]
    },
    {
     "name": "stdout",
     "output_type": "stream",
     "text": [
      "🏃 View run SVC_{'C': 0.1, 'gamma': 0.001, 'kernel': 'rbf'} at: http://127.0.0.1:8080/#/experiments/805744944225876802/runs/eebe184802d345dcb00bc37ff2d752b6\n",
      "\n",
      "🧪 View experiment at: http://127.0.0.1:8080/#/experiments/805744944225876802\n",
      "\n",
      "Params: {'C': 1, 'gamma': 0.001, 'kernel': 'rbf'}                                \n",
      " 20%|██        | 1/5 [00:29<01:56, 29.17s/trial, best loss: -0.33310749162724596]"
     ]
    },
    {
     "name": "stderr",
     "output_type": "stream",
     "text": [
      "/home/renan/miniconda3/lib/python3.12/site-packages/sklearn/metrics/_classification.py:1565: UndefinedMetricWarning: Precision is ill-defined and being set to 0.0 in labels with no predicted samples. Use `zero_division` parameter to control this behavior.\n",
      "  _warn_prf(average, modifier, f\"{metric.capitalize()} is\", len(result))\n",
      "\n"
     ]
    },
    {
     "name": "stdout",
     "output_type": "stream",
     "text": [
      "🏃 View run SVC_{'C': 1, 'gamma': 0.001, 'kernel': 'rbf'} at: http://127.0.0.1:8080/#/experiments/805744944225876802/runs/30d50859de87417db048bc85af656b3e\n",
      "\n",
      "🧪 View experiment at: http://127.0.0.1:8080/#/experiments/805744944225876802    \n",
      "\n",
      "Params: {'C': 0.01, 'gamma': 1, 'kernel': 'rbf'}                                 \n",
      " 40%|████      | 2/5 [00:58<01:27, 29.06s/trial, best loss: -0.33310749162724596]"
     ]
    },
    {
     "name": "stderr",
     "output_type": "stream",
     "text": [
      "/home/renan/miniconda3/lib/python3.12/site-packages/sklearn/metrics/_classification.py:1565: UndefinedMetricWarning: Precision is ill-defined and being set to 0.0 in labels with no predicted samples. Use `zero_division` parameter to control this behavior.\n",
      "  _warn_prf(average, modifier, f\"{metric.capitalize()} is\", len(result))\n",
      "\n"
     ]
    },
    {
     "name": "stdout",
     "output_type": "stream",
     "text": [
      "🏃 View run SVC_{'C': 0.01, 'gamma': 1, 'kernel': 'rbf'} at: http://127.0.0.1:8080/#/experiments/805744944225876802/runs/85690a1de52349d59a9f016fb6a9db67\n",
      "\n",
      "🧪 View experiment at: http://127.0.0.1:8080/#/experiments/805744944225876802    \n",
      "\n",
      "Params: {'C': 1, 'gamma': 10, 'kernel': 'rbf'}                                   \n",
      " 60%|██████    | 3/5 [01:21<00:52, 26.36s/trial, best loss: -0.3335592240143389]"
     ]
    },
    {
     "name": "stderr",
     "output_type": "stream",
     "text": [
      "/home/renan/miniconda3/lib/python3.12/site-packages/sklearn/metrics/_classification.py:1565: UndefinedMetricWarning: Precision is ill-defined and being set to 0.0 in labels with no predicted samples. Use `zero_division` parameter to control this behavior.\n",
      "  _warn_prf(average, modifier, f\"{metric.capitalize()} is\", len(result))\n",
      "\n"
     ]
    },
    {
     "name": "stdout",
     "output_type": "stream",
     "text": [
      "🏃 View run SVC_{'C': 1, 'gamma': 10, 'kernel': 'rbf'} at: http://127.0.0.1:8080/#/experiments/805744944225876802/runs/0685d85c8a3b4fc4b771efe7f7f08f5a\n",
      "\n",
      "🧪 View experiment at: http://127.0.0.1:8080/#/experiments/805744944225876802   \n",
      "\n",
      "Params: {'C': 0.01, 'gamma': 0.1, 'kernel': 'rbf'}                              \n",
      " 80%|████████  | 4/5 [02:27<00:42, 42.18s/trial, best loss: -0.3335592240143389]"
     ]
    },
    {
     "name": "stderr",
     "output_type": "stream",
     "text": [
      "/home/renan/miniconda3/lib/python3.12/site-packages/sklearn/metrics/_classification.py:1565: UndefinedMetricWarning: Precision is ill-defined and being set to 0.0 in labels with no predicted samples. Use `zero_division` parameter to control this behavior.\n",
      "  _warn_prf(average, modifier, f\"{metric.capitalize()} is\", len(result))\n",
      "\n"
     ]
    },
    {
     "name": "stdout",
     "output_type": "stream",
     "text": [
      "🏃 View run SVC_{'C': 0.01, 'gamma': 0.1, 'kernel': 'rbf'} at: http://127.0.0.1:8080/#/experiments/805744944225876802/runs/f0fbb03b39f54c50a8733a25bd4e7836\n",
      "\n",
      "🧪 View experiment at: http://127.0.0.1:8080/#/experiments/805744944225876802   \n",
      "\n",
      "100%|██████████| 5/5 [02:53<00:00, 34.62s/trial, best loss: -0.3335592240143389]\n",
      "🏃 View run svc-sweep at: http://127.0.0.1:8080/#/experiments/805744944225876802/runs/0841ae5333bc491ab79e0ccd2ab65504\n",
      "🧪 View experiment at: http://127.0.0.1:8080/#/experiments/805744944225876802\n",
      "This will run 5 trials to find optimal hyperparameters...\n",
      "Params: {'C': 1}                                     \n",
      "  0%|          | 0/5 [00:00<?, ?trial/s, best loss=?]"
     ]
    },
    {
     "name": "stderr",
     "output_type": "stream",
     "text": [
      "/home/renan/miniconda3/lib/python3.12/site-packages/sklearn/metrics/_classification.py:1565: UndefinedMetricWarning: Precision is ill-defined and being set to 0.0 in labels with no predicted samples. Use `zero_division` parameter to control this behavior.\n",
      "  _warn_prf(average, modifier, f\"{metric.capitalize()} is\", len(result))\n",
      "\n"
     ]
    },
    {
     "name": "stdout",
     "output_type": "stream",
     "text": [
      "🏃 View run LinearSVC_{'C': 1} at: http://127.0.0.1:8080/#/experiments/805744944225876802/runs/f94030d3c1db40cea599ba55640c9599\n",
      "\n",
      "🧪 View experiment at: http://127.0.0.1:8080/#/experiments/805744944225876802\n",
      "\n",
      "Params: {'C': 0.1}                                                               \n",
      " 20%|██        | 1/5 [00:02<00:08,  2.06s/trial, best loss: -0.33310749162724596]"
     ]
    },
    {
     "name": "stderr",
     "output_type": "stream",
     "text": [
      "/home/renan/miniconda3/lib/python3.12/site-packages/sklearn/metrics/_classification.py:1565: UndefinedMetricWarning: Precision is ill-defined and being set to 0.0 in labels with no predicted samples. Use `zero_division` parameter to control this behavior.\n",
      "  _warn_prf(average, modifier, f\"{metric.capitalize()} is\", len(result))\n",
      "\n"
     ]
    },
    {
     "name": "stdout",
     "output_type": "stream",
     "text": [
      "🏃 View run LinearSVC_{'C': 0.1} at: http://127.0.0.1:8080/#/experiments/805744944225876802/runs/162e5a9cd3f440358ffd613d6d6faff5\n",
      "\n",
      "🧪 View experiment at: http://127.0.0.1:8080/#/experiments/805744944225876802    \n",
      "\n",
      "Params: {'C': 0.0001}                                                            \n",
      " 40%|████      | 2/5 [00:04<00:06,  2.09s/trial, best loss: -0.33310749162724596]"
     ]
    },
    {
     "name": "stderr",
     "output_type": "stream",
     "text": [
      "/home/renan/miniconda3/lib/python3.12/site-packages/sklearn/metrics/_classification.py:1565: UndefinedMetricWarning: Precision is ill-defined and being set to 0.0 in labels with no predicted samples. Use `zero_division` parameter to control this behavior.\n",
      "  _warn_prf(average, modifier, f\"{metric.capitalize()} is\", len(result))\n",
      "\n"
     ]
    },
    {
     "name": "stdout",
     "output_type": "stream",
     "text": [
      "🏃 View run LinearSVC_{'C': 0.0001} at: http://127.0.0.1:8080/#/experiments/805744944225876802/runs/33a88c4903e5436dbabc6ba70c64aa81\n",
      "\n",
      "🧪 View experiment at: http://127.0.0.1:8080/#/experiments/805744944225876802    \n",
      "\n",
      "Params: {'C': 1}                                                                 \n",
      " 60%|██████    | 3/5 [00:05<00:03,  1.88s/trial, best loss: -0.33310749162724596]"
     ]
    },
    {
     "name": "stderr",
     "output_type": "stream",
     "text": [
      "/home/renan/miniconda3/lib/python3.12/site-packages/sklearn/metrics/_classification.py:1565: UndefinedMetricWarning: Precision is ill-defined and being set to 0.0 in labels with no predicted samples. Use `zero_division` parameter to control this behavior.\n",
      "  _warn_prf(average, modifier, f\"{metric.capitalize()} is\", len(result))\n",
      "\n"
     ]
    },
    {
     "name": "stdout",
     "output_type": "stream",
     "text": [
      "🏃 View run LinearSVC_{'C': 1} at: http://127.0.0.1:8080/#/experiments/805744944225876802/runs/e8b22c5597bc4abbaa73bcf875abcd9a\n",
      "\n",
      "🧪 View experiment at: http://127.0.0.1:8080/#/experiments/805744944225876802    \n",
      "\n",
      "Params: {'C': 0.001}                                                             \n",
      " 80%|████████  | 4/5 [00:07<00:01,  1.95s/trial, best loss: -0.33310749162724596]"
     ]
    },
    {
     "name": "stderr",
     "output_type": "stream",
     "text": [
      "/home/renan/miniconda3/lib/python3.12/site-packages/sklearn/metrics/_classification.py:1565: UndefinedMetricWarning: Precision is ill-defined and being set to 0.0 in labels with no predicted samples. Use `zero_division` parameter to control this behavior.\n",
      "  _warn_prf(average, modifier, f\"{metric.capitalize()} is\", len(result))\n",
      "\n"
     ]
    },
    {
     "name": "stdout",
     "output_type": "stream",
     "text": [
      "🏃 View run LinearSVC_{'C': 0.001} at: http://127.0.0.1:8080/#/experiments/805744944225876802/runs/4ea106de4ea34b1dbe3e4d9c81433c01\n",
      "\n",
      "🧪 View experiment at: http://127.0.0.1:8080/#/experiments/805744944225876802    \n",
      "\n",
      "100%|██████████| 5/5 [00:09<00:00,  1.93s/trial, best loss: -0.33310749162724596]\n",
      "🏃 View run svc-linear-sweep at: http://127.0.0.1:8080/#/experiments/805744944225876802/runs/caba95c5d3754bb8813fde6f78b0355c\n",
      "🧪 View experiment at: http://127.0.0.1:8080/#/experiments/805744944225876802\n",
      "This will run 5 trials to find optimal hyperparameters...\n",
      "Params: {'learning_rate': 0.001, 'max_depth': 10, 'n_estimators': 200, 'random_state': 42}\n",
      "🏃 View run XGBClassifier_{'learning_rate': 0.001, 'max_depth': 10, 'n_estimators': 200, 'random_state': 42} at: http://127.0.0.1:8080/#/experiments/805744944225876802/runs/90f7efd253444681bc1eba65f007593f\n",
      "\n",
      "🧪 View experiment at: http://127.0.0.1:8080/#/experiments/805744944225876802\n",
      "\n",
      "Params: {'learning_rate': 0.5, 'max_depth': 10, 'n_estimators': 200, 'random_state': 42}\n",
      "🏃 View run XGBClassifier_{'learning_rate': 0.5, 'max_depth': 10, 'n_estimators': 200, 'random_state': 42} at: http://127.0.0.1:8080/#/experiments/805744944225876802/runs/4a7c96efc4094c9f9ed25faa8c4a7730\n",
      "\n",
      "🧪 View experiment at: http://127.0.0.1:8080/#/experiments/805744944225876802   \n",
      "\n",
      "Params: {'learning_rate': 0.3, 'max_depth': None, 'n_estimators': 200, 'random_state': 42}\n",
      "🏃 View run XGBClassifier_{'learning_rate': 0.3, 'max_depth': None, 'n_estimators': 200, 'random_state': 42} at: http://127.0.0.1:8080/#/experiments/805744944225876802/runs/5c0d2b9c52d74c8e808d390a43bf169d\n",
      "\n",
      "🧪 View experiment at: http://127.0.0.1:8080/#/experiments/805744944225876802   \n",
      "\n",
      "Params: {'learning_rate': 0.1, 'max_depth': 5, 'n_estimators': 700, 'random_state': 42}\n",
      "🏃 View run XGBClassifier_{'learning_rate': 0.1, 'max_depth': 5, 'n_estimators': 700, 'random_state': 42} at: http://127.0.0.1:8080/#/experiments/805744944225876802/runs/fc1a3c1366824609bc3f1a31e3a6bd28\n",
      "\n",
      "🧪 View experiment at: http://127.0.0.1:8080/#/experiments/805744944225876802   \n",
      "\n",
      "Params: {'learning_rate': 0.5, 'max_depth': 5, 'n_estimators': 700, 'random_state': 42}\n",
      "🏃 View run XGBClassifier_{'learning_rate': 0.5, 'max_depth': 5, 'n_estimators': 700, 'random_state': 42} at: http://127.0.0.1:8080/#/experiments/805744944225876802/runs/5910f5fbc4dc4214b1929340e9f4f24a\n",
      "\n",
      "🧪 View experiment at: http://127.0.0.1:8080/#/experiments/805744944225876802   \n",
      "\n",
      "100%|██████████| 5/5 [00:33<00:00,  6.62s/trial, best loss: -0.5284922889500198]\n",
      "🏃 View run xgb-sweep at: http://127.0.0.1:8080/#/experiments/805744944225876802/runs/a202324abd3e4f1c8d5577124b35c97b\n",
      "🧪 View experiment at: http://127.0.0.1:8080/#/experiments/805744944225876802\n"
     ]
    },
    {
     "data": {
      "text/plain": [
       "0.5284922889500198"
      ]
     },
     "execution_count": 68,
     "metadata": {},
     "output_type": "execute_result"
    }
   ],
   "source": [
    "model = RandomForestClassifier\n",
    "run_experiments('rf-sweep', max_evals=max_evals, search_space=search_space_rf, data_name=data_name, model_name = 'RandomForestClassifier')\n",
    "model = SVC\n",
    "run_experiments('svc-sweep', max_evals=max_evals, search_space=search_space_svc, data_name=data_name, model_name = 'SVC')\n",
    "model = LinearSVC\n",
    "run_experiments('svc-linear-sweep', max_evals=max_evals, search_space=search_space_svc_linear, data_name=data_name, model_name = 'LinearSVC')\n",
    "model = xgb.XGBClassifier\n",
    "run_experiments('xgb-sweep', max_evals=max_evals, search_space=search_space_xgb, data_name=data_name, model_name = 'XGBClassifier')"
   ]
  },
  {
   "cell_type": "markdown",
   "id": "940416e1",
   "metadata": {},
   "source": [
    "### LLM"
   ]
  },
  {
   "cell_type": "code",
   "execution_count": null,
   "id": "abfd8115",
   "metadata": {},
   "outputs": [],
   "source": [
    "# Provide an Experiment description that will appear in the UI\n",
    "experiment_description = (\n",
    "    \"Experiment to train models on the CARLA LLM dataset.\"\n",
    ")\n",
    "\n",
    "# Provide searchable tags that define characteristics of the Runs that\n",
    "# will be in this Experiment\n",
    "experiment_tags = {\n",
    "    \"project_name\": \"driver-behavior-prediction\",\n",
    "    \"mlflow.note.content\": experiment_description,\n",
    "}\n",
    "\n",
    "# Create the Experiment, providing a unique name\n",
    "try:\n",
    "    driver_behavior_experiment = client.create_experiment(\n",
    "        name=\"Driver_Behavior_Models_CARLA_LLM\", tags=experiment_tags\n",
    "    )\n",
    "except mlflow.exceptions.RestException as e:\n",
    "    print(f\"Experiment already exists: {e}\")"
   ]
  },
  {
   "cell_type": "code",
   "execution_count": null,
   "id": "d8198c3c",
   "metadata": {},
   "outputs": [],
   "source": [
    "X_train, y_train = X_carla_llm, y_carla_llm\n",
    "\n",
    "scaler = StandardScaler()\n",
    "X_train = scaler.fit_transform(X_train)\n",
    "X_val = scaler.transform(X_val_base)\n",
    "y_train = preprocessor.one_hot_encode(y_train, one_hot_keys=one_hot_keys)\n",
    "\n",
    "mlflow.set_experiment('Driver_Behavior_Models_CARLA_LLM')\n",
    "data_name = 'CARLA_LLM'"
   ]
  },
  {
   "cell_type": "code",
   "execution_count": null,
   "id": "6b1a7997",
   "metadata": {},
   "outputs": [
    {
     "name": "stdout",
     "output_type": "stream",
     "text": [
      "This will run 5 trials to find optimal hyperparameters...\n",
      "Params: {'max_depth': 5, 'n_estimators': 20, 'random_state': 42}\n",
      "🏃 View run RandomForestClassifier_{'max_depth': 5, 'n_estimators': 20, 'random_state': 42} at: http://127.0.0.1:8080/#/experiments/169808028941311028/runs/4182781930ec477a83f1087fe7eec7eb\n",
      "\n",
      "🧪 View experiment at: http://127.0.0.1:8080/#/experiments/169808028941311028\n",
      "\n",
      "Params: {'max_depth': None, 'n_estimators': 20, 'random_state': 42}             \n",
      "🏃 View run RandomForestClassifier_{'max_depth': None, 'n_estimators': 20, 'random_state': 42} at: http://127.0.0.1:8080/#/experiments/169808028941311028/runs/dc97ff4da817455bac1f1356ee11b2d7\n",
      "\n",
      "🧪 View experiment at: http://127.0.0.1:8080/#/experiments/169808028941311028   \n",
      "\n",
      "Params: {'max_depth': 50, 'n_estimators': 20, 'random_state': 42}               \n",
      "🏃 View run RandomForestClassifier_{'max_depth': 50, 'n_estimators': 20, 'random_state': 42} at: http://127.0.0.1:8080/#/experiments/169808028941311028/runs/90191373fa564d069e2b24ce41e8328b\n",
      "\n",
      "🧪 View experiment at: http://127.0.0.1:8080/#/experiments/169808028941311028   \n",
      "\n",
      "Params: {'max_depth': None, 'n_estimators': 200, 'random_state': 42}            \n",
      "🏃 View run RandomForestClassifier_{'max_depth': None, 'n_estimators': 200, 'random_state': 42} at: http://127.0.0.1:8080/#/experiments/169808028941311028/runs/2dc8f3ee79254442819aec0eb005bac4\n",
      "\n",
      "🧪 View experiment at: http://127.0.0.1:8080/#/experiments/169808028941311028   \n",
      "\n",
      "Params: {'max_depth': 50, 'n_estimators': 100, 'random_state': 42}              \n",
      "🏃 View run RandomForestClassifier_{'max_depth': 50, 'n_estimators': 100, 'random_state': 42} at: http://127.0.0.1:8080/#/experiments/169808028941311028/runs/2d7616793c8540a2bec1bc89c5d2d92f\n",
      "\n",
      "🧪 View experiment at: http://127.0.0.1:8080/#/experiments/169808028941311028   \n",
      "\n",
      "100%|██████████| 5/5 [01:03<00:00, 12.73s/trial, best loss: -0.5454175549646757]\n",
      "🏃 View run rf-sweep at: http://127.0.0.1:8080/#/experiments/169808028941311028/runs/47b286931fea47efb5052bfe90366a99\n",
      "🧪 View experiment at: http://127.0.0.1:8080/#/experiments/169808028941311028\n",
      "This will run 5 trials to find optimal hyperparameters...\n",
      "Params: {'C': 0.05, 'gamma': 0.1, 'kernel': 'rbf'}   \n",
      "  0%|          | 0/5 [00:00<?, ?trial/s, best loss=?]"
     ]
    },
    {
     "name": "stderr",
     "output_type": "stream",
     "text": [
      "/home/renan/miniconda3/lib/python3.12/site-packages/sklearn/metrics/_classification.py:1565: UndefinedMetricWarning: Precision is ill-defined and being set to 0.0 in labels with no predicted samples. Use `zero_division` parameter to control this behavior.\n",
      "  _warn_prf(average, modifier, f\"{metric.capitalize()} is\", len(result))\n",
      "\n"
     ]
    },
    {
     "name": "stdout",
     "output_type": "stream",
     "text": [
      "🏃 View run SVC_{'C': 0.05, 'gamma': 0.1, 'kernel': 'rbf'} at: http://127.0.0.1:8080/#/experiments/169808028941311028/runs/9af434b9a26c4c33acd68e8fc7911dbc\n",
      "\n",
      "🧪 View experiment at: http://127.0.0.1:8080/#/experiments/169808028941311028\n",
      "\n",
      "Params: {'C': 0.05, 'gamma': 0.001, 'kernel': 'rbf'}                             \n",
      " 20%|██        | 1/5 [00:32<02:11, 32.75s/trial, best loss: -0.33310749162724596]"
     ]
    },
    {
     "name": "stderr",
     "output_type": "stream",
     "text": [
      "/home/renan/miniconda3/lib/python3.12/site-packages/sklearn/metrics/_classification.py:1565: UndefinedMetricWarning: Precision is ill-defined and being set to 0.0 in labels with no predicted samples. Use `zero_division` parameter to control this behavior.\n",
      "  _warn_prf(average, modifier, f\"{metric.capitalize()} is\", len(result))\n",
      "\n"
     ]
    },
    {
     "name": "stdout",
     "output_type": "stream",
     "text": [
      "🏃 View run SVC_{'C': 0.05, 'gamma': 0.001, 'kernel': 'rbf'} at: http://127.0.0.1:8080/#/experiments/169808028941311028/runs/4e646464c8fd4f1389c59c7a79ea08c2\n",
      "\n",
      "🧪 View experiment at: http://127.0.0.1:8080/#/experiments/169808028941311028    \n",
      "\n",
      "Params: {'C': 0.1, 'gamma': 10, 'kernel': 'rbf'}                                 \n",
      " 40%|████      | 2/5 [01:06<01:39, 33.14s/trial, best loss: -0.33310749162724596]"
     ]
    },
    {
     "name": "stderr",
     "output_type": "stream",
     "text": [
      "/home/renan/miniconda3/lib/python3.12/site-packages/sklearn/metrics/_classification.py:1565: UndefinedMetricWarning: Precision is ill-defined and being set to 0.0 in labels with no predicted samples. Use `zero_division` parameter to control this behavior.\n",
      "  _warn_prf(average, modifier, f\"{metric.capitalize()} is\", len(result))\n",
      "\n"
     ]
    },
    {
     "name": "stdout",
     "output_type": "stream",
     "text": [
      "🏃 View run SVC_{'C': 0.1, 'gamma': 10, 'kernel': 'rbf'} at: http://127.0.0.1:8080/#/experiments/169808028941311028/runs/018f2d1f7c124837b0f3e7f1baf76aec\n",
      "\n",
      "🧪 View experiment at: http://127.0.0.1:8080/#/experiments/169808028941311028    \n",
      "\n",
      "Params: {'C': 0.1, 'gamma': 1, 'kernel': 'rbf'}                                  \n",
      " 60%|██████    | 3/5 [02:05<01:29, 44.94s/trial, best loss: -0.33310749162724596]"
     ]
    },
    {
     "name": "stderr",
     "output_type": "stream",
     "text": [
      "/home/renan/miniconda3/lib/python3.12/site-packages/sklearn/metrics/_classification.py:1565: UndefinedMetricWarning: Precision is ill-defined and being set to 0.0 in labels with no predicted samples. Use `zero_division` parameter to control this behavior.\n",
      "  _warn_prf(average, modifier, f\"{metric.capitalize()} is\", len(result))\n",
      "\n"
     ]
    },
    {
     "name": "stdout",
     "output_type": "stream",
     "text": [
      "🏃 View run SVC_{'C': 0.1, 'gamma': 1, 'kernel': 'rbf'} at: http://127.0.0.1:8080/#/experiments/169808028941311028/runs/999cd7a0ad274707b33dcfc541ce9468\n",
      "\n",
      "🧪 View experiment at: http://127.0.0.1:8080/#/experiments/169808028941311028    \n",
      "\n",
      "Params: {'C': 1, 'gamma': 1, 'kernel': 'rbf'}                                    \n",
      " 80%|████████  | 4/5 [02:54<00:46, 46.79s/trial, best loss: -0.33310749162724596]"
     ]
    },
    {
     "name": "stderr",
     "output_type": "stream",
     "text": [
      "/home/renan/miniconda3/lib/python3.12/site-packages/sklearn/metrics/_classification.py:1565: UndefinedMetricWarning: Precision is ill-defined and being set to 0.0 in labels with no predicted samples. Use `zero_division` parameter to control this behavior.\n",
      "  _warn_prf(average, modifier, f\"{metric.capitalize()} is\", len(result))\n",
      "\n"
     ]
    },
    {
     "name": "stdout",
     "output_type": "stream",
     "text": [
      "🏃 View run SVC_{'C': 1, 'gamma': 1, 'kernel': 'rbf'} at: http://127.0.0.1:8080/#/experiments/169808028941311028/runs/6ddfcaffd42543cf929e426b2a54213f\n",
      "\n",
      "🧪 View experiment at: http://127.0.0.1:8080/#/experiments/169808028941311028    \n",
      "\n",
      "100%|██████████| 5/5 [03:44<00:00, 44.95s/trial, best loss: -0.33310749162724596]\n",
      "🏃 View run svc-sweep at: http://127.0.0.1:8080/#/experiments/169808028941311028/runs/6481d0f73d0c456d86749e4c48ca00bb\n",
      "🧪 View experiment at: http://127.0.0.1:8080/#/experiments/169808028941311028\n",
      "This will run 5 trials to find optimal hyperparameters...\n",
      "Params: {'C': 0.1}                                   \n",
      "  0%|          | 0/5 [00:00<?, ?trial/s, best loss=?]"
     ]
    },
    {
     "name": "stderr",
     "output_type": "stream",
     "text": [
      "/home/renan/miniconda3/lib/python3.12/site-packages/sklearn/metrics/_classification.py:1565: UndefinedMetricWarning: Precision is ill-defined and being set to 0.0 in labels with no predicted samples. Use `zero_division` parameter to control this behavior.\n",
      "  _warn_prf(average, modifier, f\"{metric.capitalize()} is\", len(result))\n",
      "\n"
     ]
    },
    {
     "name": "stdout",
     "output_type": "stream",
     "text": [
      "🏃 View run LinearSVC_{'C': 0.1} at: http://127.0.0.1:8080/#/experiments/169808028941311028/runs/77501bdd03354987a907017e1aab9a79\n",
      "\n",
      "🧪 View experiment at: http://127.0.0.1:8080/#/experiments/169808028941311028\n",
      "\n",
      "Params: {'C': 0.0001}                                                            \n",
      " 20%|██        | 1/5 [00:02<00:08,  2.16s/trial, best loss: -0.33310749162724596]"
     ]
    },
    {
     "name": "stderr",
     "output_type": "stream",
     "text": [
      "/home/renan/miniconda3/lib/python3.12/site-packages/sklearn/metrics/_classification.py:1565: UndefinedMetricWarning: Precision is ill-defined and being set to 0.0 in labels with no predicted samples. Use `zero_division` parameter to control this behavior.\n",
      "  _warn_prf(average, modifier, f\"{metric.capitalize()} is\", len(result))\n",
      "\n"
     ]
    },
    {
     "name": "stdout",
     "output_type": "stream",
     "text": [
      "🏃 View run LinearSVC_{'C': 0.0001} at: http://127.0.0.1:8080/#/experiments/169808028941311028/runs/237117aa2f99487b8a43a40da6032965\n",
      "\n",
      "🧪 View experiment at: http://127.0.0.1:8080/#/experiments/169808028941311028    \n",
      "\n",
      "Params: {'C': 0.0001}                                                            \n",
      " 40%|████      | 2/5 [00:03<00:05,  1.89s/trial, best loss: -0.33310749162724596]"
     ]
    },
    {
     "name": "stderr",
     "output_type": "stream",
     "text": [
      "/home/renan/miniconda3/lib/python3.12/site-packages/sklearn/metrics/_classification.py:1565: UndefinedMetricWarning: Precision is ill-defined and being set to 0.0 in labels with no predicted samples. Use `zero_division` parameter to control this behavior.\n",
      "  _warn_prf(average, modifier, f\"{metric.capitalize()} is\", len(result))\n",
      "\n"
     ]
    },
    {
     "name": "stdout",
     "output_type": "stream",
     "text": [
      "🏃 View run LinearSVC_{'C': 0.0001} at: http://127.0.0.1:8080/#/experiments/169808028941311028/runs/3e56062855514fcfa4d0cbdb994e60b1\n",
      "\n",
      "🧪 View experiment at: http://127.0.0.1:8080/#/experiments/169808028941311028    \n",
      "\n",
      "Params: {'C': 0.0001}                                                            \n",
      " 60%|██████    | 3/5 [00:05<00:03,  1.76s/trial, best loss: -0.33310749162724596]"
     ]
    },
    {
     "name": "stderr",
     "output_type": "stream",
     "text": [
      "/home/renan/miniconda3/lib/python3.12/site-packages/sklearn/metrics/_classification.py:1565: UndefinedMetricWarning: Precision is ill-defined and being set to 0.0 in labels with no predicted samples. Use `zero_division` parameter to control this behavior.\n",
      "  _warn_prf(average, modifier, f\"{metric.capitalize()} is\", len(result))\n",
      "\n"
     ]
    },
    {
     "name": "stdout",
     "output_type": "stream",
     "text": [
      "🏃 View run LinearSVC_{'C': 0.0001} at: http://127.0.0.1:8080/#/experiments/169808028941311028/runs/bd0a6c68d2344dd6b5d3a097e9411264\n",
      "\n",
      "🧪 View experiment at: http://127.0.0.1:8080/#/experiments/169808028941311028    \n",
      "\n",
      "Params: {'C': 1}                                                                 \n",
      " 80%|████████  | 4/5 [00:07<00:01,  1.71s/trial, best loss: -0.33310749162724596]"
     ]
    },
    {
     "name": "stderr",
     "output_type": "stream",
     "text": [
      "/home/renan/miniconda3/lib/python3.12/site-packages/sklearn/metrics/_classification.py:1565: UndefinedMetricWarning: Precision is ill-defined and being set to 0.0 in labels with no predicted samples. Use `zero_division` parameter to control this behavior.\n",
      "  _warn_prf(average, modifier, f\"{metric.capitalize()} is\", len(result))\n",
      "\n"
     ]
    },
    {
     "name": "stdout",
     "output_type": "stream",
     "text": [
      "🏃 View run LinearSVC_{'C': 1} at: http://127.0.0.1:8080/#/experiments/169808028941311028/runs/9d3dd8dd132144f0b00e48402f639c4e\n",
      "\n",
      "🧪 View experiment at: http://127.0.0.1:8080/#/experiments/169808028941311028    \n",
      "\n",
      "100%|██████████| 5/5 [00:09<00:00,  1.84s/trial, best loss: -0.33310749162724596]\n",
      "🏃 View run svc-linear-sweep at: http://127.0.0.1:8080/#/experiments/169808028941311028/runs/53641ce6a6784b108898061482bd2334\n",
      "🧪 View experiment at: http://127.0.0.1:8080/#/experiments/169808028941311028\n",
      "This will run 5 trials to find optimal hyperparameters...\n",
      "Params: {'learning_rate': 0.001, 'max_depth': 10, 'n_estimators': 500, 'random_state': 42}\n",
      "🏃 View run XGBClassifier_{'learning_rate': 0.001, 'max_depth': 10, 'n_estimators': 500, 'random_state': 42} at: http://127.0.0.1:8080/#/experiments/169808028941311028/runs/55d8223e4d33421f8c635164d9a21485\n",
      "\n",
      "🧪 View experiment at: http://127.0.0.1:8080/#/experiments/169808028941311028\n",
      "\n",
      "Params: {'learning_rate': 0.4, 'max_depth': 5, 'n_estimators': 500, 'random_state': 42}\n",
      "🏃 View run XGBClassifier_{'learning_rate': 0.4, 'max_depth': 5, 'n_estimators': 500, 'random_state': 42} at: http://127.0.0.1:8080/#/experiments/169808028941311028/runs/c56d85b660054c3a83395d05b0114711\n",
      "\n",
      "🧪 View experiment at: http://127.0.0.1:8080/#/experiments/169808028941311028   \n",
      "\n",
      "Params: {'learning_rate': 0.3, 'max_depth': None, 'n_estimators': 1000, 'random_state': 42}\n",
      "🏃 View run XGBClassifier_{'learning_rate': 0.3, 'max_depth': None, 'n_estimators': 1000, 'random_state': 42} at: http://127.0.0.1:8080/#/experiments/169808028941311028/runs/e98ba03cf28b492d8d661d0a3b3c4428\n",
      "\n",
      "🧪 View experiment at: http://127.0.0.1:8080/#/experiments/169808028941311028   \n",
      "\n",
      "Params: {'learning_rate': 0.3, 'max_depth': 5, 'n_estimators': 700, 'random_state': 42}\n",
      "🏃 View run XGBClassifier_{'learning_rate': 0.3, 'max_depth': 5, 'n_estimators': 700, 'random_state': 42} at: http://127.0.0.1:8080/#/experiments/169808028941311028/runs/be0faf2570b340ae902b3c5fb7352f90\n",
      "\n",
      "🧪 View experiment at: http://127.0.0.1:8080/#/experiments/169808028941311028   \n",
      "\n",
      "Params: {'learning_rate': 0.1, 'max_depth': 5, 'n_estimators': 1000, 'random_state': 42}\n",
      "🏃 View run XGBClassifier_{'learning_rate': 0.1, 'max_depth': 5, 'n_estimators': 1000, 'random_state': 42} at: http://127.0.0.1:8080/#/experiments/169808028941311028/runs/d8cd6202a2804b59acc26c11d0c614fb\n",
      "\n",
      "🧪 View experiment at: http://127.0.0.1:8080/#/experiments/169808028941311028   \n",
      "\n",
      "100%|██████████| 5/5 [01:13<00:00, 14.77s/trial, best loss: -0.4407236416518528]\n",
      "🏃 View run xgb-sweep at: http://127.0.0.1:8080/#/experiments/169808028941311028/runs/1e09e121ed984c1daaa39e0278e4dd18\n",
      "🧪 View experiment at: http://127.0.0.1:8080/#/experiments/169808028941311028\n"
     ]
    },
    {
     "data": {
      "text/plain": [
       "0.4407236416518528"
      ]
     },
     "execution_count": 71,
     "metadata": {},
     "output_type": "execute_result"
    }
   ],
   "source": [
    "model = RandomForestClassifier\n",
    "run_experiments('rf-sweep', max_evals=max_evals, search_space=search_space_rf, data_name=data_name, model_name = 'RandomForestClassifier')\n",
    "model = SVC\n",
    "run_experiments('svc-sweep', max_evals=max_evals, search_space=search_space_svc, data_name=data_name, model_name = 'SVC')\n",
    "model = LinearSVC\n",
    "run_experiments('svc-linear-sweep', max_evals=max_evals, search_space=search_space_svc_linear, data_name=data_name, model_name = 'LinearSVC')\n",
    "model = xgb.XGBClassifier\n",
    "run_experiments('xgb-sweep', max_evals=max_evals, search_space=search_space_xgb, data_name=data_name, model_name = 'XGBClassifier')"
   ]
  },
  {
   "cell_type": "markdown",
   "id": "24d285d9",
   "metadata": {},
   "source": [
    "## Real + SUMO"
   ]
  },
  {
   "cell_type": "markdown",
   "id": "133dd3c5",
   "metadata": {},
   "source": [
    "### Fixed"
   ]
  },
  {
   "cell_type": "code",
   "execution_count": 176,
   "id": "c8808584",
   "metadata": {},
   "outputs": [],
   "source": [
    "signature = infer_signature(X_sumo_fixed, y_sumo_fixed)"
   ]
  },
  {
   "cell_type": "code",
   "execution_count": null,
   "id": "5840afcb",
   "metadata": {},
   "outputs": [],
   "source": [
    "# Provide an Experiment description that will appear in the UI\n",
    "experiment_description = (\n",
    "    \"Experiment to train models on the UAH driveset supplemented by SUMO with fixed parameters.\"\n",
    ")\n",
    "\n",
    "# Provide searchable tags that define characteristics of the Runs that\n",
    "# will be in this Experiment\n",
    "experiment_tags = {\n",
    "    \"project_name\": \"driver-behavior-prediction\",\n",
    "    \"mlflow.note.content\": experiment_description,\n",
    "}\n",
    "\n",
    "# Create the Experiment, providing a unique name\n",
    "driver_behavior_experiment = client.create_experiment(\n",
    "    name=\"Driver_Behavior_Models_UAH_SUMO_fixed\", tags=experiment_tags\n",
    ")"
   ]
  },
  {
   "cell_type": "code",
   "execution_count": null,
   "id": "9eb54c1b",
   "metadata": {},
   "outputs": [],
   "source": [
    "model = RandomForestClassifier\n",
    "run_experiments('rf-sweep', max_evals=5, search_space=search_space_rf, data_name='UAH')"
   ]
  },
  {
   "cell_type": "markdown",
   "id": "025c81b9",
   "metadata": {},
   "source": [
    "## Real + SUMO (LLM)"
   ]
  },
  {
   "cell_type": "markdown",
   "id": "f0fd4ef5",
   "metadata": {},
   "source": []
  }
 ],
 "metadata": {
  "kernelspec": {
   "display_name": "base",
   "language": "python",
   "name": "python3"
  },
  "language_info": {
   "codemirror_mode": {
    "name": "ipython",
    "version": 3
   },
   "file_extension": ".py",
   "mimetype": "text/x-python",
   "name": "python",
   "nbconvert_exporter": "python",
   "pygments_lexer": "ipython3",
   "version": "3.12.2"
  }
 },
 "nbformat": 4,
 "nbformat_minor": 5
}
