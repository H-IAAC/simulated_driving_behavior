{
 "cells": [
  {
   "cell_type": "markdown",
   "id": "e1de239e",
   "metadata": {},
   "source": [
    "This notebook is used to organize the experiments. If you just want the best models found, you can refer to the `3_model_training` notebook."
   ]
  },
  {
   "cell_type": "code",
   "execution_count": 52,
   "id": "3e2af455",
   "metadata": {},
   "outputs": [],
   "source": [
    "import os\n",
    "\n",
    "import mlflow\n",
    "from sklearn.model_selection import train_test_split\n",
    "from mlflow.models import infer_signature\n",
    "from hyperopt import fmin, tpe, hp, STATUS_OK, Trials\n",
    "from sklearn.ensemble import RandomForestClassifier\n",
    "from sklearn.svm import SVC, LinearSVC\n",
    "from sklearn.metrics import f1_score, accuracy_score, recall_score, precision_score, log_loss\n",
    "import pandas as pd\n",
    "import numpy as np\n",
    "import xgboost as xgb\n",
    "from sklearn.preprocessing import StandardScaler\n",
    "from functools import partial\n",
    "\n",
    "os.sys.path.append(os.path.abspath('../src'))\n",
    "from data import loader\n",
    "from data import preprocessor\n",
    "\n",
    "mapname = 'Town01'"
   ]
  },
  {
   "cell_type": "code",
   "execution_count": 53,
   "id": "8dc66672",
   "metadata": {},
   "outputs": [],
   "source": [
    "def create_and_train_model(model, args):\n",
    "    \"\"\"\n",
    "    Function to create and train a model with given parameters.\n",
    "\n",
    "    Args:\n",
    "        model: The model to be trained.\n",
    "        args: Arguments for training the model.\n",
    "\n",
    "    Returns:\n",
    "        result: The result of the training process.\n",
    "    \"\"\"\n",
    "    result = {}\n",
    "    # Train model with current hyperparameters\n",
    "    print(f\"Params: {args}\")\n",
    "    md = model(**args)\n",
    "    md.fit(X_train, y_train)\n",
    "    # Predict on the validation set\n",
    "    y_pred = md.predict(X_val)\n",
    "    # Log training results\n",
    "    result[\"f1_score\"] = f1_score(y_val, y_pred, average='weighted')\n",
    "    result[\"accuracy\"] = accuracy_score(y_val, y_pred)\n",
    "    result[\"recall\"] = recall_score(y_val, y_pred, average='weighted')\n",
    "    result[\"precision\"] = precision_score(y_val, y_pred, average='weighted')\n",
    "    result[\"model\"] = md\n",
    "\n",
    "    return result"
   ]
  },
  {
   "cell_type": "code",
   "execution_count": 54,
   "id": "2cf70def",
   "metadata": {},
   "outputs": [],
   "source": [
    "def objective(params, model_name):\n",
    "    \"\"\"\n",
    "    Objective function for hyperparameter optimization.\n",
    "    This function will be called by Hyperopt for each trial.\n",
    "    \"\"\"\n",
    "    with mlflow.start_run(nested=True, run_name=f\"{model_name}_{params}\"):\n",
    "        # Log hyperparameters being tested\n",
    "        mlflow.log_params(params)\n",
    "\n",
    "        # Train model with current hyperparameters\n",
    "        result = create_and_train_model(\n",
    "            model,\n",
    "            args=params\n",
    "        )\n",
    "\n",
    "        # Log training results\n",
    "        mlflow.log_metrics(\n",
    "            {\n",
    "                \"accuracy\": result[\"accuracy\"],\n",
    "                \"recall\": result[\"recall\"],\n",
    "                \"precision\": result[\"precision\"],\n",
    "                \"f1_score\": result[\"f1_score\"],\n",
    "            }\n",
    "        )\n",
    "\n",
    "        # Log the trained model\n",
    "        mlflow.sklearn.log_model(\n",
    "            result[\"model\"], name=model_name, signature=signature)\n",
    "\n",
    "        # Return loss for Hyperopt (it minimizes)\n",
    "        return {\"loss\": 1 - result[\"f1_score\"], \"status\": STATUS_OK}"
   ]
  },
  {
   "cell_type": "code",
   "execution_count": 55,
   "id": "1c8c77ae",
   "metadata": {},
   "outputs": [],
   "source": [
    "def run_experiments(run_name, max_evals, search_space, data_name, model_name=None):\n",
    "    # Create or set experiment\n",
    "\n",
    "    print(\n",
    "        f\"This will run {max_evals} trials to find optimal hyperparameters...\")\n",
    "\n",
    "    with mlflow.start_run(run_name=run_name):\n",
    "\n",
    "        mlflow.set_tag(\"model_type\", model_name)\n",
    "\n",
    "        # Log experiment metadata\n",
    "        mlflow.log_params(\n",
    "            {\n",
    "                \"optimization_method\": \"Tree-structured Parzen Estimator (TPE)\",\n",
    "                \"max_evaluations\": max_evals,\n",
    "                \"objective_metric\": \"log_loss\",\n",
    "                \"dataset\": data_name,\n",
    "                \"model_type\": model_name\n",
    "            }\n",
    "        )\n",
    "\n",
    "        # Run optimization\n",
    "        trials = Trials()\n",
    "        objective_with_name = partial(objective, model_name=model_name)\n",
    "\n",
    "        best_params = fmin(\n",
    "            fn=objective_with_name,\n",
    "            space=search_space,\n",
    "            algo=tpe.suggest,\n",
    "            max_evals=max_evals,\n",
    "            trials=trials,\n",
    "            verbose=True,\n",
    "        )\n",
    "\n",
    "        # Find and log best results\n",
    "        best_trial = min(trials.results, key=lambda x: x[\"loss\"])\n",
    "        best_f1_score  = best_trial[\"loss\"]\n",
    "\n",
    "        # Log optimization results\n",
    "        mlflow.log_params(best_params)\n",
    "        mlflow.log_metrics(\n",
    "            {\n",
    "                \"best_f1_score \": best_f1_score ,\n",
    "                \"total_trials\": len(trials.trials),\n",
    "                \"optimization_completed\": 1,\n",
    "            }\n",
    "        )\n",
    "\n",
    "    return best_f1_score \n"
   ]
  },
  {
   "cell_type": "code",
   "execution_count": 56,
   "id": "cb3963a0",
   "metadata": {},
   "outputs": [],
   "source": [
    "client = mlflow.tracking.MlflowClient(\"http://127.0.0.1:8080\")\n",
    "mlflow.set_tracking_uri(\"http://127.0.0.1:8080\")"
   ]
  },
  {
   "cell_type": "markdown",
   "id": "d7abae7f",
   "metadata": {},
   "source": [
    "## Preparing the Data"
   ]
  },
  {
   "cell_type": "code",
   "execution_count": 57,
   "id": "3bb894a0",
   "metadata": {},
   "outputs": [],
   "source": [
    "data_path = '../data'\n",
    "uah_training = pd.read_csv(f'{data_path}/base/training_set_uah.csv')\n",
    "uah_validation = pd.read_csv(f'{data_path}/base/validation_set_uah.csv')\n",
    "\n",
    "carla_fixed = pd.read_csv(f'{data_path}/merged/{mapname}/carla/carla_fixed.csv').drop(columns=['origin'])\n",
    "carla_llm = pd.read_csv(f'{data_path}/merged/{mapname}/carla/carla_llm.csv').drop(columns=['origin'])\n",
    "\n",
    "sumo_fixed = pd.read_csv(f'{data_path}/merged/{mapname}/sumo/sumo_fixed.csv').drop(columns=['origin'])\n",
    "sumo_llm = pd.read_csv(f'{data_path}/merged/{mapname}/sumo/sumo_llm.csv').drop(columns=['origin'])\n",
    "\n",
    "carla_uah_fixed = pd.read_csv(f'{data_path}/merged/{mapname}/carla_uah/carla_uah_fixed.csv').drop(columns=['origin'])\n",
    "carla_uah_llm = pd.read_csv(f'{data_path}/merged/{mapname}/carla_uah/carla_uah_llm.csv').drop(columns=['origin'])\n",
    "\n",
    "sumo_uah_fixed = pd.read_csv(f'{data_path}/merged/{mapname}/sumo_uah/sumo_uah_fixed.csv').drop(columns=['origin'])\n",
    "sumo_uah_llm = pd.read_csv(f'{data_path}/merged/{mapname}/sumo_uah/sumo_uah_llm.csv').drop(columns=['origin'])"
   ]
  },
  {
   "cell_type": "markdown",
   "id": "1f77ad45",
   "metadata": {},
   "source": [
    "Applying sliding windows to UAH, SUMO and CARLA full data"
   ]
  },
  {
   "cell_type": "code",
   "execution_count": 58,
   "id": "9c64695a",
   "metadata": {},
   "outputs": [],
   "source": [
    "window_size = 10\n",
    "step_size = 5\n",
    "one_hot_keys = {\n",
    "    'normal': 0,\n",
    "    'aggressive': 1\n",
    "}"
   ]
  },
  {
   "cell_type": "code",
   "execution_count": 59,
   "id": "265f53af",
   "metadata": {},
   "outputs": [],
   "source": [
    "# SUMO\n",
    "X_sumo_fixed, y_sumo_fixed = preprocessor.sliding_windows(sumo_fixed, window_size=window_size, step_size=step_size)\n",
    "X_sumo_llm, y_sumo_llm = preprocessor.sliding_windows(sumo_llm, window_size=window_size, step_size=step_size)\n",
    "\n",
    "# CARLA\n",
    "X_carla_fixed, y_carla_fixed = preprocessor.sliding_windows(carla_fixed, window_size=window_size, step_size=step_size)\n",
    "X_carla_llm, y_carla_llm = preprocessor.sliding_windows(carla_llm, window_size=window_size, step_size=step_size)"
   ]
  },
  {
   "cell_type": "markdown",
   "id": "b210c607",
   "metadata": {},
   "source": [
    "Defining the search space for each model"
   ]
  },
  {
   "cell_type": "code",
   "execution_count": 64,
   "id": "d88856f4",
   "metadata": {},
   "outputs": [],
   "source": [
    "max_evals = 5\n",
    "\n",
    "search_space_rf = {\n",
    "    \"n_estimators\": hp.choice(\"n_estimators\", [20, 50, 100, 200, 500]),\n",
    "    \"max_depth\": hp.choice(\"max_depth\", [None, 5, 10, 20, 50]),\n",
    "    \"random_state\": 42,\n",
    "}\n",
    "search_space_svc = {\n",
    "    \"C\": hp.choice(\"C\", [0.01, 0.05, 0.1, 0.5, 1]),  # Regularization parameter\n",
    "    \"kernel\": hp.choice(\"kernel\", [\"rbf\"]),  # Kernel type\n",
    "    \"gamma\": hp.choice(\"gamma\", [0.001, 0.01, 0.1, 1, 10]),  # Kernel coefficient for 'rbf', 'poly', and 'sigmoid'\n",
    "}\n",
    "search_space_svc_linear = {\n",
    "    \"C\": hp.choice(\"C\", [10**-4, 10**-3, 10**-2, 0.1, 1])  # Regularization parameter\n",
    "}\n",
    "search_space_xgb = {\n",
    "    \"n_estimators\": hp.choice(\"n_estimators\", [200, 500, 700, 1000]),\n",
    "    \"max_depth\": hp.choice(\"max_depth\", [None, 5, 10]),\n",
    "    \"learning_rate\": hp.choice(\"learning_rate\", [0.001, 0.01, 0.1, 0.2, 0.3, 0.4, 0.5]),  # Learning rate\n",
    "    # \"subsample\": hp.uniform(\"subsample\", 0.5, 1.0),\n",
    "    # \"colsample_bytree\": hp.uniform(\"colsample_bytree\", 0.5, 1.0),\n",
    "    \"random_state\": 42,\n",
    "}"
   ]
  },
  {
   "cell_type": "markdown",
   "id": "2f678a67",
   "metadata": {},
   "source": [
    "## Real Only"
   ]
  },
  {
   "cell_type": "code",
   "execution_count": 65,
   "id": "1730251d",
   "metadata": {},
   "outputs": [],
   "source": [
    "# Provide an Experiment description that will appear in the UI\n",
    "experiment_description = (\n",
    "    \"Experiment to train models on the UAH driveset.\"\n",
    ")\n",
    "\n",
    "# Provide searchable tags that define characteristics of the Runs that\n",
    "# will be in this Experiment\n",
    "experiment_tags = {\n",
    "    \"project_name\": \"driver-behavior-prediction\",\n",
    "    \"mlflow.note.content\": experiment_description,\n",
    "}\n",
    "\n",
    "# Create the Experiment, providing a unique name\n",
    "try:\n",
    "    driver_behavior_experiment = client.create_experiment(\n",
    "        name=\"Driver_Behavior_Models_UAH\", tags=experiment_tags\n",
    "    )\n",
    "except mlflow.exceptions.RestException as e:\n",
    "    print(f\"Experiment already exists: {e}\")"
   ]
  },
  {
   "cell_type": "code",
   "execution_count": 66,
   "id": "05595ec8",
   "metadata": {},
   "outputs": [],
   "source": [
    "columns_to_keep = ['acc_x', 'acc_y', 'acc_z', 'gyro_x', 'gyro_y', 'gyro_z', 'angle', 'speed', 'label']\n",
    "\n",
    "X_train, y_train = preprocessor.sliding_windows(uah_training[columns_to_keep], window_size=window_size, step_size=step_size)\n",
    "X_val, y_val = preprocessor.sliding_windows(uah_validation[columns_to_keep], window_size=window_size, step_size=step_size)\n",
    "\n",
    "scaler = StandardScaler()\n",
    "X_train = scaler.fit_transform(X_train)\n",
    "X_val = scaler.transform(X_val)\n",
    "\n",
    "y_train = preprocessor.one_hot_encode(y_train, one_hot_keys=one_hot_keys)\n",
    "y_val = preprocessor.one_hot_encode(y_val, one_hot_keys=one_hot_keys)\n",
    "\n",
    "signature = infer_signature(X_train, y_train)\n",
    "mlflow.set_experiment('Driver_Behavior_Models_UAH')\n",
    "data_name = 'UAH'"
   ]
  },
  {
   "cell_type": "code",
   "execution_count": 67,
   "id": "fab04b02",
   "metadata": {},
   "outputs": [
    {
     "name": "stdout",
     "output_type": "stream",
     "text": [
      "This will run 5 trials to find optimal hyperparameters...\n",
      "Params: {'max_depth': 5, 'n_estimators': 200, 'random_state': 42}\n",
      "🏃 View run RandomForestClassifier_{'max_depth': 5, 'n_estimators': 200, 'random_state': 42} at: http://127.0.0.1:8080/#/experiments/500441082922571946/runs/b392eca2c357454c9c8e95a0d3128cfc\n",
      "\n",
      "🧪 View experiment at: http://127.0.0.1:8080/#/experiments/500441082922571946\n",
      "\n",
      "Params: {'max_depth': 20, 'n_estimators': 20, 'random_state': 42}              \n",
      "🏃 View run RandomForestClassifier_{'max_depth': 20, 'n_estimators': 20, 'random_state': 42} at: http://127.0.0.1:8080/#/experiments/500441082922571946/runs/c4ddbe2fe20140efb4ecdd501c1d1d20\n",
      "\n",
      "🧪 View experiment at: http://127.0.0.1:8080/#/experiments/500441082922571946  \n",
      "\n",
      "Params: {'max_depth': 50, 'n_estimators': 100, 'random_state': 42}              \n",
      "🏃 View run RandomForestClassifier_{'max_depth': 50, 'n_estimators': 100, 'random_state': 42} at: http://127.0.0.1:8080/#/experiments/500441082922571946/runs/207b558e069a4e6985ce1b25b55a3aa3\n",
      "\n",
      "🧪 View experiment at: http://127.0.0.1:8080/#/experiments/500441082922571946   \n",
      "\n",
      "Params: {'max_depth': 5, 'n_estimators': 50, 'random_state': 42}                \n",
      "🏃 View run RandomForestClassifier_{'max_depth': 5, 'n_estimators': 50, 'random_state': 42} at: http://127.0.0.1:8080/#/experiments/500441082922571946/runs/3184d338aee14dedb46532d5ccadffc1\n",
      "\n",
      "🧪 View experiment at: http://127.0.0.1:8080/#/experiments/500441082922571946  \n",
      "\n",
      "Params: {'max_depth': 50, 'n_estimators': 50, 'random_state': 42}              \n",
      "🏃 View run RandomForestClassifier_{'max_depth': 50, 'n_estimators': 50, 'random_state': 42} at: http://127.0.0.1:8080/#/experiments/500441082922571946/runs/9735c4398c3e4122b6aab62b79299d93\n",
      "\n",
      "🧪 View experiment at: http://127.0.0.1:8080/#/experiments/500441082922571946  \n",
      "\n",
      "100%|██████████| 5/5 [00:26<00:00,  5.29s/trial, best loss: 0.4576562893421724]\n",
      "🏃 View run rf-sweep at: http://127.0.0.1:8080/#/experiments/500441082922571946/runs/f29a5233287c4d588f3d64ea80bef3e6\n",
      "🧪 View experiment at: http://127.0.0.1:8080/#/experiments/500441082922571946\n",
      "This will run 5 trials to find optimal hyperparameters...\n",
      "Params: {'C': 0.01, 'gamma': 0.01, 'kernel': 'rbf'}  \n",
      "🏃 View run SVC_{'C': 0.01, 'gamma': 0.01, 'kernel': 'rbf'} at: http://127.0.0.1:8080/#/experiments/500441082922571946/runs/1bc958621f32497fa40e500ca6c1bb70\n",
      "\n",
      "🧪 View experiment at: http://127.0.0.1:8080/#/experiments/500441082922571946\n",
      "\n",
      "Params: {'C': 1, 'gamma': 10, 'kernel': 'rbf'}                                 \n",
      " 20%|██        | 1/5 [00:18<01:13, 18.27s/trial, best loss: 0.4164731436766872]"
     ]
    },
    {
     "name": "stderr",
     "output_type": "stream",
     "text": [
      "/home/renan/miniconda3/lib/python3.12/site-packages/sklearn/metrics/_classification.py:1565: UndefinedMetricWarning: Precision is ill-defined and being set to 0.0 in labels with no predicted samples. Use `zero_division` parameter to control this behavior.\n",
      "  _warn_prf(average, modifier, f\"{metric.capitalize()} is\", len(result))\n",
      "\n"
     ]
    },
    {
     "name": "stdout",
     "output_type": "stream",
     "text": [
      "🏃 View run SVC_{'C': 1, 'gamma': 10, 'kernel': 'rbf'} at: http://127.0.0.1:8080/#/experiments/500441082922571946/runs/1d617889bf1a40de9460497ec476da24\n",
      "\n",
      "🧪 View experiment at: http://127.0.0.1:8080/#/experiments/500441082922571946  \n",
      "\n",
      "Params: {'C': 0.5, 'gamma': 10, 'kernel': 'rbf'}                               \n",
      " 40%|████      | 2/5 [01:39<02:46, 55.56s/trial, best loss: 0.4164731436766872]"
     ]
    },
    {
     "name": "stderr",
     "output_type": "stream",
     "text": [
      "/home/renan/miniconda3/lib/python3.12/site-packages/sklearn/metrics/_classification.py:1565: UndefinedMetricWarning: Precision is ill-defined and being set to 0.0 in labels with no predicted samples. Use `zero_division` parameter to control this behavior.\n",
      "  _warn_prf(average, modifier, f\"{metric.capitalize()} is\", len(result))\n",
      "\n"
     ]
    },
    {
     "name": "stdout",
     "output_type": "stream",
     "text": [
      "🏃 View run SVC_{'C': 0.5, 'gamma': 10, 'kernel': 'rbf'} at: http://127.0.0.1:8080/#/experiments/500441082922571946/runs/a42747afdb4d4a67a6130cc249611c05\n",
      "\n",
      "🧪 View experiment at: http://127.0.0.1:8080/#/experiments/500441082922571946  \n",
      "\n",
      "Params: {'C': 0.05, 'gamma': 0.01, 'kernel': 'rbf'}                            \n",
      "🏃 View run SVC_{'C': 0.05, 'gamma': 0.01, 'kernel': 'rbf'} at: http://127.0.0.1:8080/#/experiments/500441082922571946/runs/040c08b5aaab421687848f2543993072\n",
      "\n",
      "🧪 View experiment at: http://127.0.0.1:8080/#/experiments/500441082922571946  \n",
      "\n",
      "Params: {'C': 1, 'gamma': 0.1, 'kernel': 'rbf'}                                 \n",
      "🏃 View run SVC_{'C': 1, 'gamma': 0.1, 'kernel': 'rbf'} at: http://127.0.0.1:8080/#/experiments/500441082922571946/runs/fc2016ad4a8445829afd78fda6b0a537\n",
      "\n",
      "🧪 View experiment at: http://127.0.0.1:8080/#/experiments/500441082922571946   \n",
      "\n",
      "100%|██████████| 5/5 [04:06<00:00, 49.25s/trial, best loss: 0.35791934767986433]\n",
      "🏃 View run svc-sweep at: http://127.0.0.1:8080/#/experiments/500441082922571946/runs/eae017b7642e4433a3a621db1055dd4c\n",
      "🧪 View experiment at: http://127.0.0.1:8080/#/experiments/500441082922571946\n",
      "This will run 5 trials to find optimal hyperparameters...\n",
      "Params: {'C': 0.1}                                   \n",
      "🏃 View run LinearSVC_{'C': 0.1} at: http://127.0.0.1:8080/#/experiments/500441082922571946/runs/7ad6524b787246d3aa3e84b967acb667\n",
      "\n",
      "🧪 View experiment at: http://127.0.0.1:8080/#/experiments/500441082922571946\n",
      "\n",
      "Params: {'C': 0.0001}                                                          \n",
      "🏃 View run LinearSVC_{'C': 0.0001} at: http://127.0.0.1:8080/#/experiments/500441082922571946/runs/ef477cc775be46cb89975ddd7aa8eaa4\n",
      "\n",
      "🧪 View experiment at: http://127.0.0.1:8080/#/experiments/500441082922571946  \n",
      "\n",
      "Params: {'C': 0.001}                                                           \n",
      "🏃 View run LinearSVC_{'C': 0.001} at: http://127.0.0.1:8080/#/experiments/500441082922571946/runs/380c1393938c4db5b447c916e3cb951e\n",
      "\n",
      "🧪 View experiment at: http://127.0.0.1:8080/#/experiments/500441082922571946  \n",
      "\n",
      "Params: {'C': 0.01}                                                            \n",
      "🏃 View run LinearSVC_{'C': 0.01} at: http://127.0.0.1:8080/#/experiments/500441082922571946/runs/093c56286e664583aacd370135fae58a\n",
      "\n",
      "🧪 View experiment at: http://127.0.0.1:8080/#/experiments/500441082922571946  \n",
      "\n",
      "Params: {'C': 0.001}                                                           \n",
      "🏃 View run LinearSVC_{'C': 0.001} at: http://127.0.0.1:8080/#/experiments/500441082922571946/runs/021510d2edcf4fc29bc2a28beef31840\n",
      "\n",
      "🧪 View experiment at: http://127.0.0.1:8080/#/experiments/500441082922571946  \n",
      "\n",
      "100%|██████████| 5/5 [00:09<00:00,  1.90s/trial, best loss: 0.5300043029676593]\n",
      "🏃 View run svc-linear-sweep at: http://127.0.0.1:8080/#/experiments/500441082922571946/runs/fd759ade17ff473b9b1e3979fd71fb03\n",
      "🧪 View experiment at: http://127.0.0.1:8080/#/experiments/500441082922571946\n",
      "This will run 5 trials to find optimal hyperparameters...\n",
      "Params: {'learning_rate': 0.01, 'max_depth': None, 'n_estimators': 500, 'random_state': 42}\n",
      "🏃 View run XGBClassifier_{'learning_rate': 0.01, 'max_depth': None, 'n_estimators': 500, 'random_state': 42} at: http://127.0.0.1:8080/#/experiments/500441082922571946/runs/efe2dfd0508948dda05c1fb86ded1b4c\n",
      "\n",
      "🧪 View experiment at: http://127.0.0.1:8080/#/experiments/500441082922571946\n",
      "\n",
      "Params: {'learning_rate': 0.3, 'max_depth': 10, 'n_estimators': 700, 'random_state': 42}\n",
      "🏃 View run XGBClassifier_{'learning_rate': 0.3, 'max_depth': 10, 'n_estimators': 700, 'random_state': 42} at: http://127.0.0.1:8080/#/experiments/500441082922571946/runs/00c22024e7fd4931af304f194551a020\n",
      "\n",
      "🧪 View experiment at: http://127.0.0.1:8080/#/experiments/500441082922571946  \n",
      "\n",
      "Params: {'learning_rate': 0.001, 'max_depth': 5, 'n_estimators': 200, 'random_state': 42}\n",
      " 40%|████      | 2/5 [00:13<00:20,  6.83s/trial, best loss: 0.4129187150726529]"
     ]
    },
    {
     "name": "stderr",
     "output_type": "stream",
     "text": [
      "/home/renan/miniconda3/lib/python3.12/site-packages/sklearn/metrics/_classification.py:1565: UndefinedMetricWarning: Precision is ill-defined and being set to 0.0 in labels with no predicted samples. Use `zero_division` parameter to control this behavior.\n",
      "  _warn_prf(average, modifier, f\"{metric.capitalize()} is\", len(result))\n",
      "\n"
     ]
    },
    {
     "name": "stdout",
     "output_type": "stream",
     "text": [
      "🏃 View run XGBClassifier_{'learning_rate': 0.001, 'max_depth': 5, 'n_estimators': 200, 'random_state': 42} at: http://127.0.0.1:8080/#/experiments/500441082922571946/runs/d841e73074de4b8595644f2c2d5d075a\n",
      "\n",
      "🧪 View experiment at: http://127.0.0.1:8080/#/experiments/500441082922571946  \n",
      "\n",
      "Params: {'learning_rate': 0.3, 'max_depth': 5, 'n_estimators': 500, 'random_state': 42}\n",
      "🏃 View run XGBClassifier_{'learning_rate': 0.3, 'max_depth': 5, 'n_estimators': 500, 'random_state': 42} at: http://127.0.0.1:8080/#/experiments/500441082922571946/runs/06ae53150e4d47febf27f159c3851bab\n",
      "\n",
      "🧪 View experiment at: http://127.0.0.1:8080/#/experiments/500441082922571946  \n",
      "\n",
      "Params: {'learning_rate': 0.01, 'max_depth': None, 'n_estimators': 200, 'random_state': 42}\n",
      "🏃 View run XGBClassifier_{'learning_rate': 0.01, 'max_depth': None, 'n_estimators': 200, 'random_state': 42} at: http://127.0.0.1:8080/#/experiments/500441082922571946/runs/eb5dcbddf0a04b9399d0e67b28b8df6d\n",
      "\n",
      "🧪 View experiment at: http://127.0.0.1:8080/#/experiments/500441082922571946  \n",
      "\n",
      "100%|██████████| 5/5 [00:22<00:00,  4.57s/trial, best loss: 0.4129187150726529]\n",
      "🏃 View run xgb-sweep at: http://127.0.0.1:8080/#/experiments/500441082922571946/runs/6796bb76a9c54a16881bfbedd0537da7\n",
      "🧪 View experiment at: http://127.0.0.1:8080/#/experiments/500441082922571946\n"
     ]
    },
    {
     "data": {
      "text/plain": [
       "0.4129187150726529"
      ]
     },
     "execution_count": 67,
     "metadata": {},
     "output_type": "execute_result"
    }
   ],
   "source": [
    "model = RandomForestClassifier\n",
    "run_experiments('rf-sweep', max_evals=max_evals, search_space=search_space_rf, data_name='UAH', model_name = 'RandomForestClassifier')\n",
    "model = SVC\n",
    "run_experiments('svc-sweep', max_evals=max_evals, search_space=search_space_svc, data_name='UAH', model_name = 'SVC')\n",
    "model = LinearSVC\n",
    "run_experiments('svc-linear-sweep', max_evals=max_evals, search_space=search_space_svc_linear, data_name='UAH', model_name = 'LinearSVC')\n",
    "model = xgb.XGBClassifier\n",
    "run_experiments('xgb-sweep', max_evals=max_evals, search_space=search_space_xgb, data_name='UAH', model_name = 'XGBClassifier')"
   ]
  },
  {
   "cell_type": "markdown",
   "id": "05f0c899",
   "metadata": {},
   "source": [
    "## SUMO Only"
   ]
  },
  {
   "cell_type": "code",
   "execution_count": null,
   "id": "98105bf0",
   "metadata": {},
   "outputs": [],
   "source": [
    "# Getting the validation for SUMO variables\n",
    "columns_to_keep = ['acc_x', 'acc_y', 'angle', 'speed', 'label']\n",
    "X_val_base, y_val = preprocessor.sliding_windows(uah_validation[columns_to_keep], window_size=window_size, step_size=step_size)\n",
    "y_val = preprocessor.one_hot_encode(y_val, one_hot_keys=one_hot_keys)"
   ]
  },
  {
   "cell_type": "markdown",
   "id": "69e823c8",
   "metadata": {},
   "source": [
    "### Fixed"
   ]
  },
  {
   "cell_type": "code",
   "execution_count": 77,
   "id": "da934d9c",
   "metadata": {},
   "outputs": [
    {
     "name": "stdout",
     "output_type": "stream",
     "text": [
      "Experiment already exists: RESOURCE_ALREADY_EXISTS: Experiment 'Driver_Behavior_Models_SUMO_Fixed' already exists.\n"
     ]
    }
   ],
   "source": [
    "# Provide an Experiment description that will appear in the UI\n",
    "experiment_description = (\n",
    "    \"Experiment to train models on the SUMO Fixed dataset.\"\n",
    ")\n",
    "\n",
    "# Provide searchable tags that define characteristics of the Runs that\n",
    "# will be in this Experiment\n",
    "experiment_tags = {\n",
    "    \"project_name\": \"driver-behavior-prediction\",\n",
    "    \"mlflow.note.content\": experiment_description,\n",
    "}\n",
    "\n",
    "# Create the Experiment, providing a unique name\n",
    "try:\n",
    "    driver_behavior_experiment = client.create_experiment(\n",
    "        name=\"Driver_Behavior_Models_SUMO_Fixed\", tags=experiment_tags\n",
    "    )\n",
    "except mlflow.exceptions.RestException as e:\n",
    "    print(f\"Experiment already exists: {e}\")"
   ]
  },
  {
   "cell_type": "code",
   "execution_count": null,
   "id": "0f7026fd",
   "metadata": {},
   "outputs": [],
   "source": [
    "X_train, y_train = X_sumo_fixed, y_sumo_fixed\n",
    "\n",
    "scaler = StandardScaler()\n",
    "X_train = scaler.fit_transform(X_train)\n",
    "X_val = scaler.transform(X_val_base)\n",
    "y_train = preprocessor.one_hot_encode(y_train, one_hot_keys=one_hot_keys)\n",
    "\n",
    "signature = infer_signature(X_train, y_train)\n",
    "mlflow.set_experiment('Driver_Behavior_Models_SUMO_Fixed')\n",
    "data_name = 'SUMO_Fixed'"
   ]
  },
  {
   "cell_type": "code",
   "execution_count": 80,
   "id": "7080e63a",
   "metadata": {},
   "outputs": [
    {
     "name": "stdout",
     "output_type": "stream",
     "text": [
      "This will run 5 trials to find optimal hyperparameters...\n",
      "  0%|          | 0/5 [00:00<?, ?trial/s, best loss=?]"
     ]
    },
    {
     "name": "stdout",
     "output_type": "stream",
     "text": [
      "🏃 View run monumental-stoat-40 at: http://127.0.0.1:8080/#/experiments/105017844406316764/runs/3a131b7d728b4f80b8a231be3526bd75\n",
      "\n",
      "🧪 View experiment at: http://127.0.0.1:8080/#/experiments/105017844406316764\n",
      "\n",
      "🏃 View run gifted-sheep-802 at: http://127.0.0.1:8080/#/experiments/105017844406316764/runs/68a9772c546644e5a738acd504b17848\n",
      "\n",
      "🧪 View experiment at: http://127.0.0.1:8080/#/experiments/105017844406316764  \n",
      "\n",
      "🏃 View run respected-bee-475 at: http://127.0.0.1:8080/#/experiments/105017844406316764/runs/f3f92d14006246d0badf7480c11d68a9\n",
      "\n",
      "🧪 View experiment at: http://127.0.0.1:8080/#/experiments/105017844406316764  \n",
      "\n",
      "🏃 View run bold-bat-19 at: http://127.0.0.1:8080/#/experiments/105017844406316764/runs/2f4a0acc2a5c404b9a383dc947d55733\n",
      "\n",
      "🧪 View experiment at: http://127.0.0.1:8080/#/experiments/105017844406316764  \n",
      "\n",
      "🏃 View run suave-horse-677 at: http://127.0.0.1:8080/#/experiments/105017844406316764/runs/432bfa0332084cadaf586785aec27135\n",
      "\n",
      "🧪 View experiment at: http://127.0.0.1:8080/#/experiments/105017844406316764  \n",
      "\n",
      "100%|██████████| 5/5 [00:09<00:00,  2.00s/trial, best loss: 18.033368027415726]\n",
      "{'max_depth': np.int64(0), 'n_estimators': np.int64(0)}\n",
      "🏃 View run rf-sweep at: http://127.0.0.1:8080/#/experiments/105017844406316764/runs/c16751b103b34b4b8dcb2cd11f991fa3\n",
      "🧪 View experiment at: http://127.0.0.1:8080/#/experiments/105017844406316764\n"
     ]
    },
    {
     "data": {
      "text/plain": [
       "18.033368027415726"
      ]
     },
     "execution_count": 80,
     "metadata": {},
     "output_type": "execute_result"
    }
   ],
   "source": [
    "model = RandomForestClassifier\n",
    "run_experiments('rf-sweep', max_evals=max_evals, search_space=search_space_rf, data_name=data_name)\n",
    "# model = SVC\n",
    "# run_experiments('svc-sweep', max_evals=max_evals, search_space=search_space_svc, data_name=data_name)\n",
    "# model = xgb.XGBClassifier\n",
    "# run_experiments('xgb-sweep', max_evals=max_evals, search_space=search_space_xgb, data_name=data_name)"
   ]
  },
  {
   "cell_type": "markdown",
   "id": "65285841",
   "metadata": {},
   "source": [
    "### LLM"
   ]
  },
  {
   "cell_type": "code",
   "execution_count": 81,
   "id": "567d9f58",
   "metadata": {},
   "outputs": [],
   "source": [
    "# Provide an Experiment description that will appear in the UI\n",
    "experiment_description = (\n",
    "    \"Experiment to train models on the SUMO LLM dataset.\"\n",
    ")\n",
    "\n",
    "# Provide searchable tags that define characteristics of the Runs that\n",
    "# will be in this Experiment\n",
    "experiment_tags = {\n",
    "    \"project_name\": \"driver-behavior-prediction\",\n",
    "    \"mlflow.note.content\": experiment_description,\n",
    "}\n",
    "\n",
    "# Create the Experiment, providing a unique name\n",
    "try:\n",
    "    driver_behavior_experiment = client.create_experiment(\n",
    "        name=\"Driver_Behavior_Models_SUMO_LLM\", tags=experiment_tags\n",
    "    )\n",
    "except mlflow.exceptions.RestException as e:\n",
    "    print(f\"Experiment already exists: {e}\")"
   ]
  },
  {
   "cell_type": "code",
   "execution_count": null,
   "id": "0460281e",
   "metadata": {},
   "outputs": [],
   "source": [
    "X_train, y_train = X_sumo_llm, y_sumo_llm\n",
    "\n",
    "scaler = StandardScaler()\n",
    "X_train = scaler.fit_transform(X_train)\n",
    "X_val = scaler.transform(X_val_base)\n",
    "y_train = preprocessor.one_hot_encode(y_train, one_hot_keys=one_hot_keys)\n",
    "\n",
    "mlflow.set_experiment('Driver_Behavior_Models_SUMO_LLM')\n",
    "data_name = 'SUMO_LLM'"
   ]
  },
  {
   "cell_type": "code",
   "execution_count": 83,
   "id": "4da017c3",
   "metadata": {},
   "outputs": [
    {
     "name": "stdout",
     "output_type": "stream",
     "text": [
      "This will run 5 trials to find optimal hyperparameters...\n",
      "  0%|          | 0/5 [00:00<?, ?trial/s, best loss=?]"
     ]
    },
    {
     "name": "stderr",
     "output_type": "stream",
     "text": [
      "/home/renan/miniconda3/lib/python3.12/site-packages/sklearn/metrics/_classification.py:1565: UndefinedMetricWarning: Precision is ill-defined and being set to 0.0 in labels with no predicted samples. Use `zero_division` parameter to control this behavior.\n",
      "  _warn_prf(average, modifier, f\"{metric.capitalize()} is\", len(result))\n",
      "\n"
     ]
    },
    {
     "name": "stdout",
     "output_type": "stream",
     "text": [
      "🏃 View run nimble-skink-889 at: http://127.0.0.1:8080/#/experiments/207753888438448124/runs/910d6ee714d3492ab08a41965e33842f\n",
      "\n",
      "🧪 View experiment at: http://127.0.0.1:8080/#/experiments/207753888438448124\n",
      "\n",
      " 20%|██        | 1/5 [00:03<00:13,  3.49s/trial, best loss: 8.625255231143939]"
     ]
    },
    {
     "name": "stderr",
     "output_type": "stream",
     "text": [
      "/home/renan/miniconda3/lib/python3.12/site-packages/sklearn/metrics/_classification.py:1565: UndefinedMetricWarning: Precision is ill-defined and being set to 0.0 in labels with no predicted samples. Use `zero_division` parameter to control this behavior.\n",
      "  _warn_prf(average, modifier, f\"{metric.capitalize()} is\", len(result))\n",
      "\n"
     ]
    },
    {
     "name": "stdout",
     "output_type": "stream",
     "text": [
      "🏃 View run nervous-crab-437 at: http://127.0.0.1:8080/#/experiments/207753888438448124/runs/995c493c61804a5e9a2c55065ecdb1c4\n",
      "\n",
      "🧪 View experiment at: http://127.0.0.1:8080/#/experiments/207753888438448124 \n",
      "\n",
      "🏃 View run capricious-asp-388 at: http://127.0.0.1:8080/#/experiments/207753888438448124/runs/8527f47105a84a1e856a64e71ba363a1\n",
      "\n",
      "🧪 View experiment at: http://127.0.0.1:8080/#/experiments/207753888438448124\n",
      "\n",
      " 60%|██████    | 3/5 [00:09<00:05,  2.83s/trial, best loss: 6.544624351583295]"
     ]
    },
    {
     "name": "stderr",
     "output_type": "stream",
     "text": [
      "/home/renan/miniconda3/lib/python3.12/site-packages/sklearn/metrics/_classification.py:1565: UndefinedMetricWarning: Precision is ill-defined and being set to 0.0 in labels with no predicted samples. Use `zero_division` parameter to control this behavior.\n",
      "  _warn_prf(average, modifier, f\"{metric.capitalize()} is\", len(result))\n",
      "\n"
     ]
    },
    {
     "name": "stdout",
     "output_type": "stream",
     "text": [
      "🏃 View run learned-snake-91 at: http://127.0.0.1:8080/#/experiments/207753888438448124/runs/4e25bae572a140b69c11dc0ae398d80c\n",
      "\n",
      "🧪 View experiment at: http://127.0.0.1:8080/#/experiments/207753888438448124 \n",
      "\n",
      " 80%|████████  | 4/5 [00:12<00:03,  3.18s/trial, best loss: 6.544624351583295]"
     ]
    },
    {
     "name": "stderr",
     "output_type": "stream",
     "text": [
      "/home/renan/miniconda3/lib/python3.12/site-packages/sklearn/metrics/_classification.py:1565: UndefinedMetricWarning: Precision is ill-defined and being set to 0.0 in labels with no predicted samples. Use `zero_division` parameter to control this behavior.\n",
      "  _warn_prf(average, modifier, f\"{metric.capitalize()} is\", len(result))\n",
      "\n"
     ]
    },
    {
     "name": "stdout",
     "output_type": "stream",
     "text": [
      "🏃 View run rare-sponge-680 at: http://127.0.0.1:8080/#/experiments/207753888438448124/runs/20a8cd09db5c49a083368375f696e0d5\n",
      "\n",
      "🧪 View experiment at: http://127.0.0.1:8080/#/experiments/207753888438448124 \n",
      "\n",
      "100%|██████████| 5/5 [00:17<00:00,  3.42s/trial, best loss: 6.544624351583295]\n",
      "{'max_depth': np.int64(1), 'n_estimators': np.int64(0)}\n",
      "🏃 View run rf-sweep at: http://127.0.0.1:8080/#/experiments/207753888438448124/runs/de43b26c616541fd924dab7cbb5bb61a\n",
      "🧪 View experiment at: http://127.0.0.1:8080/#/experiments/207753888438448124\n"
     ]
    },
    {
     "data": {
      "text/plain": [
       "6.544624351583295"
      ]
     },
     "execution_count": 83,
     "metadata": {},
     "output_type": "execute_result"
    }
   ],
   "source": [
    "model = RandomForestClassifier\n",
    "run_experiments('rf-sweep', max_evals=max_evals, search_space=search_space_rf, data_name=data_name)\n",
    "# model = SVC\n",
    "# run_experiments('svc-sweep', max_evals=max_evals, search_space=search_space_svc, data_name=data_name)\n",
    "# model = xgb.XGBClassifier\n",
    "# run_experiments('xgb-sweep', max_evals=max_evals, search_space=search_space_xgb, data_name=data_name)"
   ]
  },
  {
   "cell_type": "markdown",
   "id": "d562a57b",
   "metadata": {},
   "source": [
    "## Carla Only"
   ]
  },
  {
   "cell_type": "code",
   "execution_count": null,
   "id": "40fa1c38",
   "metadata": {},
   "outputs": [],
   "source": [
    "# Getting the validation for SUMO variables\n",
    "columns_to_keep = ['acc_x', 'acc_y', 'acc_z', 'gyro_x', 'gyro_y', 'gyro_z', 'angle', 'label']\n",
    "X_val, y_val = preprocessor.sliding_windows(uah_validation[columns_to_keep], window_size=window_size, step_size=step_size)\n",
    "y_val = preprocessor.one_hot_encode(y_val, one_hot_keys=one_hot_keys)"
   ]
  },
  {
   "cell_type": "markdown",
   "id": "17def673",
   "metadata": {},
   "source": [
    "### Fixed"
   ]
  },
  {
   "cell_type": "code",
   "execution_count": null,
   "id": "d5520a73",
   "metadata": {},
   "outputs": [],
   "source": [
    "# Provide an Experiment description that will appear in the UI\n",
    "experiment_description = (\n",
    "    \"Experiment to train models on the CARLA Fixed dataset.\"\n",
    ")\n",
    "\n",
    "# Provide searchable tags that define characteristics of the Runs that\n",
    "# will be in this Experiment\n",
    "experiment_tags = {\n",
    "    \"project_name\": \"driver-behavior-prediction\",\n",
    "    \"mlflow.note.content\": experiment_description,\n",
    "}\n",
    "\n",
    "# Create the Experiment, providing a unique name\n",
    "try:\n",
    "    driver_behavior_experiment = client.create_experiment(\n",
    "        name=\"Driver_Behavior_Models_CARLA_Fixed\", tags=experiment_tags\n",
    "    )\n",
    "except mlflow.exceptions.RestException as e:\n",
    "    print(f\"Experiment already exists: {e}\")"
   ]
  },
  {
   "cell_type": "code",
   "execution_count": null,
   "id": "f460d11d",
   "metadata": {},
   "outputs": [],
   "source": [
    "X_train, y_train = X_carla_fixed, y_carla_fixed\n",
    "y_train = preprocessor.one_hot_encode(y_train, one_hot_keys=one_hot_keys)\n",
    "\n",
    "mlflow.set_experiment('Driver_Behavior_Models_CARLA_Fixed')\n",
    "data_name = 'CARLA_Fixed'"
   ]
  },
  {
   "cell_type": "code",
   "execution_count": null,
   "id": "6740e674",
   "metadata": {},
   "outputs": [],
   "source": [
    "model = RandomForestClassifier\n",
    "run_experiments('rf-sweep', max_evals=max_evals, search_space=search_space_rf, data_name=data_name)\n",
    "model = SVC\n",
    "run_experiments('svc-sweep', max_evals=max_evals, search_space=search_space_svc, data_name=data_name)\n",
    "model = xgb.XGBClassifier\n",
    "run_experiments('xgb-sweep', max_evals=max_evals, search_space=search_space_xgb, data_name=data_name)"
   ]
  },
  {
   "cell_type": "markdown",
   "id": "940416e1",
   "metadata": {},
   "source": [
    "### LLM"
   ]
  },
  {
   "cell_type": "code",
   "execution_count": null,
   "id": "abfd8115",
   "metadata": {},
   "outputs": [],
   "source": [
    "# Provide an Experiment description that will appear in the UI\n",
    "experiment_description = (\n",
    "    \"Experiment to train models on the CARLA LLM dataset.\"\n",
    ")\n",
    "\n",
    "# Provide searchable tags that define characteristics of the Runs that\n",
    "# will be in this Experiment\n",
    "experiment_tags = {\n",
    "    \"project_name\": \"driver-behavior-prediction\",\n",
    "    \"mlflow.note.content\": experiment_description,\n",
    "}\n",
    "\n",
    "# Create the Experiment, providing a unique name\n",
    "try:\n",
    "    driver_behavior_experiment = client.create_experiment(\n",
    "        name=\"Driver_Behavior_Models_CARLA_LLM\", tags=experiment_tags\n",
    "    )\n",
    "except mlflow.exceptions.RestException as e:\n",
    "    print(f\"Experiment already exists: {e}\")"
   ]
  },
  {
   "cell_type": "code",
   "execution_count": null,
   "id": "d8198c3c",
   "metadata": {},
   "outputs": [],
   "source": [
    "X_train, y_train = X_carla_llm, y_carla_llm\n",
    "\n",
    "y_train = preprocessor.one_hot_encode(y_train, one_hot_keys=one_hot_keys)\n",
    "\n",
    "\n",
    "mlflow.set_experiment('Driver_Behavior_Models_CARLA_LLM')\n",
    "data_name = 'CARLA_LLM'"
   ]
  },
  {
   "cell_type": "code",
   "execution_count": null,
   "id": "6b1a7997",
   "metadata": {},
   "outputs": [],
   "source": [
    "model = RandomForestClassifier\n",
    "run_experiments('rf-sweep', max_evals=max_evals, search_space=search_space_rf, data_name=data_name)\n",
    "model = SVC\n",
    "run_experiments('svc-sweep', max_evals=max_evals, search_space=search_space_svc, data_name=data_name)\n",
    "model = xgb.XGBClassifier\n",
    "run_experiments('xgb-sweep', max_evals=max_evals, search_space=search_space_xgb, data_name=data_name)"
   ]
  },
  {
   "cell_type": "markdown",
   "id": "24d285d9",
   "metadata": {},
   "source": [
    "## Real + SUMO"
   ]
  },
  {
   "cell_type": "markdown",
   "id": "133dd3c5",
   "metadata": {},
   "source": [
    "### Fixed"
   ]
  },
  {
   "cell_type": "code",
   "execution_count": 176,
   "id": "c8808584",
   "metadata": {},
   "outputs": [],
   "source": [
    "signature = infer_signature(X_sumo_fixed, y_sumo_fixed)"
   ]
  },
  {
   "cell_type": "code",
   "execution_count": null,
   "id": "5840afcb",
   "metadata": {},
   "outputs": [],
   "source": [
    "# Provide an Experiment description that will appear in the UI\n",
    "experiment_description = (\n",
    "    \"Experiment to train models on the UAH driveset supplemented by SUMO with fixed parameters.\"\n",
    ")\n",
    "\n",
    "# Provide searchable tags that define characteristics of the Runs that\n",
    "# will be in this Experiment\n",
    "experiment_tags = {\n",
    "    \"project_name\": \"driver-behavior-prediction\",\n",
    "    \"mlflow.note.content\": experiment_description,\n",
    "}\n",
    "\n",
    "# Create the Experiment, providing a unique name\n",
    "driver_behavior_experiment = client.create_experiment(\n",
    "    name=\"Driver_Behavior_Models_UAH_SUMO_fixed\", tags=experiment_tags\n",
    ")"
   ]
  },
  {
   "cell_type": "code",
   "execution_count": null,
   "id": "9eb54c1b",
   "metadata": {},
   "outputs": [],
   "source": [
    "model = RandomForestClassifier\n",
    "run_experiments('rf-sweep', max_evals=5, search_space=search_space_rf, data_name='UAH')"
   ]
  },
  {
   "cell_type": "markdown",
   "id": "025c81b9",
   "metadata": {},
   "source": [
    "## Real + SUMO (LLM)"
   ]
  },
  {
   "cell_type": "markdown",
   "id": "f0fd4ef5",
   "metadata": {},
   "source": []
  }
 ],
 "metadata": {
  "kernelspec": {
   "display_name": "base",
   "language": "python",
   "name": "python3"
  },
  "language_info": {
   "codemirror_mode": {
    "name": "ipython",
    "version": 3
   },
   "file_extension": ".py",
   "mimetype": "text/x-python",
   "name": "python",
   "nbconvert_exporter": "python",
   "pygments_lexer": "ipython3",
   "version": "3.12.2"
  }
 },
 "nbformat": 4,
 "nbformat_minor": 5
}
