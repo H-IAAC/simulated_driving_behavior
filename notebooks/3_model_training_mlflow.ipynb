{
 "cells": [
  {
   "cell_type": "markdown",
   "id": "e1de239e",
   "metadata": {},
   "source": [
    "This notebook is used to organize the experiments. If you just want the best models found, you can refer to the `3_model_training` notebook."
   ]
  },
  {
   "cell_type": "code",
   "execution_count": 1,
   "id": "3e2af455",
   "metadata": {},
   "outputs": [],
   "source": [
    "import os\n",
    "\n",
    "import mlflow\n",
    "from sklearn.model_selection import train_test_split\n",
    "from mlflow.models import infer_signature\n",
    "from hyperopt import fmin, tpe, hp, STATUS_OK, Trials\n",
    "from sklearn.ensemble import RandomForestClassifier\n",
    "from sklearn.svm import SVC, LinearSVC\n",
    "from sklearn.metrics import f1_score, accuracy_score, recall_score, precision_score, log_loss\n",
    "import pandas as pd\n",
    "import numpy as np\n",
    "import xgboost as xgb\n",
    "from sklearn.preprocessing import StandardScaler\n",
    "from functools import partial\n",
    "\n",
    "os.sys.path.append(os.path.abspath('../src'))\n",
    "from data import loader\n",
    "from data import preprocessor\n",
    "\n",
    "mapname = 'Town01'"
   ]
  },
  {
   "cell_type": "code",
   "execution_count": 2,
   "id": "8dc66672",
   "metadata": {},
   "outputs": [],
   "source": [
    "def create_and_train_model(model, args):\n",
    "    \"\"\"\n",
    "    Function to create and train a model with given parameters.\n",
    "\n",
    "    Args:\n",
    "        model: The model to be trained.\n",
    "        args: Arguments for training the model.\n",
    "\n",
    "    Returns:\n",
    "        result: The result of the training process.\n",
    "    \"\"\"\n",
    "    result = {}\n",
    "    # Train model with current hyperparameters\n",
    "    print(f\"Params: {args}\")\n",
    "    md = model(**args)\n",
    "    md.fit(X_train, y_train)\n",
    "    # Predict on the validation set\n",
    "    y_pred = md.predict(X_val)\n",
    "    # Log training results\n",
    "    result[\"f1_score\"] = f1_score(y_val, y_pred, average='weighted')\n",
    "    result[\"accuracy\"] = accuracy_score(y_val, y_pred)\n",
    "    result[\"recall\"] = recall_score(y_val, y_pred, average='weighted')\n",
    "    result[\"precision\"] = precision_score(y_val, y_pred, average='weighted')\n",
    "    result[\"model\"] = md\n",
    "\n",
    "    return result"
   ]
  },
  {
   "cell_type": "code",
   "execution_count": 3,
   "id": "2cf70def",
   "metadata": {},
   "outputs": [],
   "source": [
    "def objective(params, model_name):\n",
    "    \"\"\"\n",
    "    Objective function for hyperparameter optimization.\n",
    "    This function will be called by Hyperopt for each trial.\n",
    "    \"\"\"\n",
    "    with mlflow.start_run(nested=True, run_name=f\"{model_name}_{params}\"):\n",
    "        # Log hyperparameters being tested\n",
    "        mlflow.log_params(params)\n",
    "\n",
    "        # Train model with current hyperparameters\n",
    "        result = create_and_train_model(\n",
    "            model,\n",
    "            args=params\n",
    "        )\n",
    "\n",
    "        # Log training results\n",
    "        mlflow.log_metrics(\n",
    "            {\n",
    "                \"accuracy\": result[\"accuracy\"],\n",
    "                \"recall\": result[\"recall\"],\n",
    "                \"precision\": result[\"precision\"],\n",
    "                \"f1_score\": result[\"f1_score\"],\n",
    "            }\n",
    "        )\n",
    "\n",
    "        # Log the trained model\n",
    "        mlflow.sklearn.log_model(\n",
    "            result[\"model\"], name=model_name, signature=signature)\n",
    "\n",
    "        # Return loss for Hyperopt (it minimizes)\n",
    "        return {\"loss\": -result[\"f1_score\"], \"status\": STATUS_OK, \"model\": f'{model_name}_{params}'}"
   ]
  },
  {
   "cell_type": "code",
   "execution_count": 4,
   "id": "1c8c77ae",
   "metadata": {},
   "outputs": [],
   "source": [
    "def run_experiments(run_name, max_evals, search_space, data_name, features_names, model_name):\n",
    "    # Create or set experiment\n",
    "\n",
    "    print(\n",
    "        f\"This will run {max_evals} trials to find optimal hyperparameters...\")\n",
    "\n",
    "    with mlflow.start_run(run_name=run_name):\n",
    "\n",
    "        mlflow.set_tag(\"model_type\", model_name)\n",
    "\n",
    "        # Log experiment metadata\n",
    "        mlflow.log_params(\n",
    "            {\n",
    "                \"optimization_method\": \"Tree-structured Parzen Estimator (TPE)\",\n",
    "                \"max_evaluations\": max_evals,\n",
    "                \"objective_metric\": \"log_loss\",\n",
    "                \"dataset\": data_name,\n",
    "                \"features\": features_names,\n",
    "            }\n",
    "        )\n",
    "\n",
    "        # Run optimization\n",
    "        trials = Trials()\n",
    "        objective_with_name = partial(objective, model_name=model_name)\n",
    "\n",
    "        best_params = fmin(\n",
    "            fn=objective_with_name,\n",
    "            space=search_space,\n",
    "            algo=tpe.suggest,\n",
    "            max_evals=max_evals,\n",
    "            trials=trials,\n",
    "            verbose=True,\n",
    "        )\n",
    "\n",
    "        # Find and log best results\n",
    "        best_trial = min(trials.results, key=lambda x: x[\"loss\"])\n",
    "        best_f1_score = -best_trial[\"loss\"]\n",
    "\n",
    "        # Log optimization results\n",
    "        mlflow.log_params(best_params)\n",
    "        mlflow.log_params({\"best_model\": best_trial[\"model\"]})\n",
    "        mlflow.log_metrics(\n",
    "            {\n",
    "                \"best_f1_score\": best_f1_score,\n",
    "                \"total_trials\": len(trials.trials),\n",
    "                \"optimization_completed\": 1,\n",
    "            }\n",
    "        )\n",
    "\n",
    "    return best_f1_score \n"
   ]
  },
  {
   "cell_type": "code",
   "execution_count": 5,
   "id": "cb3963a0",
   "metadata": {},
   "outputs": [],
   "source": [
    "client = mlflow.tracking.MlflowClient(\"http://127.0.0.1:8080\")\n",
    "mlflow.set_tracking_uri(\"http://127.0.0.1:8080\")"
   ]
  },
  {
   "cell_type": "markdown",
   "id": "d7abae7f",
   "metadata": {},
   "source": [
    "## Preparing the Data"
   ]
  },
  {
   "cell_type": "code",
   "execution_count": 6,
   "id": "3bb894a0",
   "metadata": {},
   "outputs": [],
   "source": [
    "data_path = '../data'\n",
    "uah_training = pd.read_csv(f'{data_path}/base/training_set_uah.csv')\n",
    "uah_validation = pd.read_csv(f'{data_path}/base/validation_set_uah.csv')\n",
    "\n",
    "carla_fixed = pd.read_csv(f'{data_path}/merged/{mapname}/carla/carla_fixed.csv').drop(columns=['origin'])\n",
    "carla_llm = pd.read_csv(f'{data_path}/merged/{mapname}/carla/carla_llm.csv').drop(columns=['origin'])\n",
    "\n",
    "sumo_fixed = pd.read_csv(f'{data_path}/merged/{mapname}/sumo/sumo_fixed.csv').drop(columns=['origin'])\n",
    "sumo_llm = pd.read_csv(f'{data_path}/merged/{mapname}/sumo/sumo_llm.csv').drop(columns=['origin'])\n",
    "\n",
    "carla_uah_fixed = pd.read_csv(f'{data_path}/merged/{mapname}/carla_uah/carla_uah_fixed.csv')\n",
    "carla_uah_llm = pd.read_csv(f'{data_path}/merged/{mapname}/carla_uah/carla_uah_llm.csv')\n",
    "\n",
    "sumo_uah_fixed = pd.read_csv(f'{data_path}/merged/{mapname}/sumo_uah/sumo_uah_fixed.csv')\n",
    "sumo_uah_llm = pd.read_csv(f'{data_path}/merged/{mapname}/sumo_uah/sumo_uah_llm.csv')"
   ]
  },
  {
   "cell_type": "markdown",
   "id": "1f77ad45",
   "metadata": {},
   "source": [
    "Applying sliding windows to UAH, SUMO and CARLA full data"
   ]
  },
  {
   "cell_type": "code",
   "execution_count": 7,
   "id": "9c64695a",
   "metadata": {},
   "outputs": [],
   "source": [
    "window_size = 10\n",
    "step_size = 5\n",
    "one_hot_keys = {\n",
    "    'normal': 0,\n",
    "    'aggressive': 1\n",
    "}"
   ]
  },
  {
   "cell_type": "markdown",
   "id": "b210c607",
   "metadata": {},
   "source": [
    "Defining the search space for each model"
   ]
  },
  {
   "cell_type": "code",
   "execution_count": 8,
   "id": "d88856f4",
   "metadata": {},
   "outputs": [],
   "source": [
    "max_evals = 5\n",
    "\n",
    "search_space_rf = {\n",
    "    \"n_estimators\": hp.choice(\"n_estimators\", [20, 50, 100, 200, 500]),\n",
    "    \"max_depth\": hp.choice(\"max_depth\", [None, 5, 10, 20, 50]),\n",
    "    \"random_state\": 42,\n",
    "}\n",
    "search_space_svc = {\n",
    "    \"C\": hp.choice(\"C\", [0.01, 0.05, 0.1, 0.5, 1]),  # Regularization parameter\n",
    "    \"kernel\": hp.choice(\"kernel\", [\"rbf\"]),  # Kernel type\n",
    "    \"gamma\": hp.choice(\"gamma\", [0.001, 0.01, 0.1, 1, 10]),  # Kernel coefficient for 'rbf', 'poly', and 'sigmoid'\n",
    "}\n",
    "search_space_svc_linear = {\n",
    "    \"C\": hp.choice(\"C\", [10**-4, 10**-3, 10**-2, 0.1, 1])  # Regularization parameter\n",
    "}\n",
    "search_space_xgb = {\n",
    "    \"n_estimators\": hp.choice(\"n_estimators\", [200, 500, 700, 1000]),\n",
    "    \"max_depth\": hp.choice(\"max_depth\", [None, 5, 10]),\n",
    "    \"learning_rate\": hp.choice(\"learning_rate\", [0.001, 0.01, 0.1, 0.2, 0.3, 0.4, 0.5]),  # Learning rate\n",
    "    # \"subsample\": hp.uniform(\"subsample\", 0.5, 1.0),\n",
    "    # \"colsample_bytree\": hp.uniform(\"colsample_bytree\", 0.5, 1.0),\n",
    "    \"random_state\": 42,\n",
    "}"
   ]
  },
  {
   "cell_type": "markdown",
   "id": "2f678a67",
   "metadata": {},
   "source": [
    "## Real Only"
   ]
  },
  {
   "cell_type": "code",
   "execution_count": 9,
   "id": "1730251d",
   "metadata": {},
   "outputs": [],
   "source": [
    "# Provide an Experiment description that will appear in the UI\n",
    "experiment_description = (\n",
    "    \"Experiment to train models on the UAH driveset.\"\n",
    ")\n",
    "\n",
    "# Provide searchable tags that define characteristics of the Runs that\n",
    "# will be in this Experiment\n",
    "experiment_tags = {\n",
    "    \"project_name\": \"driver-behavior-prediction\",\n",
    "    \"mlflow.note.content\": experiment_description,\n",
    "}\n",
    "\n",
    "# Create the Experiment, providing a unique name\n",
    "try:\n",
    "    driver_behavior_experiment = client.create_experiment(\n",
    "        name=\"Driver_Behavior_Models_UAH\", tags=experiment_tags\n",
    "    )\n",
    "except mlflow.exceptions.RestException as e:\n",
    "    print(f\"Experiment already exists: {e}\")"
   ]
  },
  {
   "cell_type": "code",
   "execution_count": 10,
   "id": "05595ec8",
   "metadata": {},
   "outputs": [],
   "source": [
    "columns_to_keep = ['acc_x', 'acc_y', 'acc_z', 'gyro_x', 'gyro_y', 'gyro_z', 'angle', 'speed', 'label']\n",
    "\n",
    "X_train, y_train = preprocessor.sliding_windows(uah_training[columns_to_keep], window_size=window_size, step_size=step_size)\n",
    "X_val, y_val = preprocessor.sliding_windows(uah_validation[columns_to_keep], window_size=window_size, step_size=step_size)\n",
    "\n",
    "scaler = StandardScaler()\n",
    "X_train = scaler.fit_transform(X_train)\n",
    "X_val = scaler.transform(X_val)\n",
    "\n",
    "y_train = preprocessor.one_hot_encode(y_train, one_hot_keys=one_hot_keys)\n",
    "y_val = preprocessor.one_hot_encode(y_val, one_hot_keys=one_hot_keys)\n",
    "\n",
    "signature = infer_signature(X_train, y_train)\n",
    "mlflow.set_experiment('Driver_Behavior_Models_UAH')\n",
    "data_name = 'UAH'"
   ]
  },
  {
   "cell_type": "code",
   "execution_count": 11,
   "id": "fab04b02",
   "metadata": {},
   "outputs": [
    {
     "name": "stdout",
     "output_type": "stream",
     "text": [
      "This will run 5 trials to find optimal hyperparameters...\n",
      "Params: {'max_depth': 20, 'n_estimators': 200, 'random_state': 42}\n",
      "🏃 View run RandomForestClassifier_{'max_depth': 20, 'n_estimators': 200, 'random_state': 42} at: http://127.0.0.1:8080/#/experiments/680415510059672824/runs/b4545e6d62fb46ee9f6327196b0e46fd\n",
      "\n",
      "🧪 View experiment at: http://127.0.0.1:8080/#/experiments/680415510059672824\n",
      "\n",
      "Params: {'max_depth': 50, 'n_estimators': 20, 'random_state': 42}               \n",
      "🏃 View run RandomForestClassifier_{'max_depth': 50, 'n_estimators': 20, 'random_state': 42} at: http://127.0.0.1:8080/#/experiments/680415510059672824/runs/6b7d4a795d7b4e998301d39109dd01bc\n",
      "\n",
      "🧪 View experiment at: http://127.0.0.1:8080/#/experiments/680415510059672824   \n",
      "\n",
      "Params: {'max_depth': 10, 'n_estimators': 200, 'random_state': 42}              \n",
      "🏃 View run RandomForestClassifier_{'max_depth': 10, 'n_estimators': 200, 'random_state': 42} at: http://127.0.0.1:8080/#/experiments/680415510059672824/runs/cb94b8efb8bb4e7c9a40d551bb4f03e7\n",
      "\n",
      "🧪 View experiment at: http://127.0.0.1:8080/#/experiments/680415510059672824   \n",
      "\n",
      "Params: {'max_depth': None, 'n_estimators': 100, 'random_state': 42}            \n",
      "🏃 View run RandomForestClassifier_{'max_depth': None, 'n_estimators': 100, 'random_state': 42} at: http://127.0.0.1:8080/#/experiments/680415510059672824/runs/569761a45e884a5e8309357074593c82\n",
      "\n",
      "🧪 View experiment at: http://127.0.0.1:8080/#/experiments/680415510059672824   \n",
      "\n",
      "Params: {'max_depth': None, 'n_estimators': 500, 'random_state': 42}            \n",
      "🏃 View run RandomForestClassifier_{'max_depth': None, 'n_estimators': 500, 'random_state': 42} at: http://127.0.0.1:8080/#/experiments/680415510059672824/runs/7110b8ff9fdc476fbe3a2dbfbaf01b9d\n",
      "\n",
      "🧪 View experiment at: http://127.0.0.1:8080/#/experiments/680415510059672824   \n",
      "\n",
      "100%|██████████| 5/5 [01:56<00:00, 23.37s/trial, best loss: -0.7193917143316215]\n",
      "🏃 View run rf-sweep at: http://127.0.0.1:8080/#/experiments/680415510059672824/runs/41b43eb425a642718d043e0959c23abe\n",
      "🧪 View experiment at: http://127.0.0.1:8080/#/experiments/680415510059672824\n",
      "This will run 5 trials to find optimal hyperparameters...\n",
      "Params: {'C': 0.05, 'gamma': 0.1, 'kernel': 'rbf'}   \n",
      "🏃 View run SVC_{'C': 0.05, 'gamma': 0.1, 'kernel': 'rbf'} at: http://127.0.0.1:8080/#/experiments/680415510059672824/runs/9f81bafbe15f4defbfa9915a10ea9de2\n",
      "\n",
      "🧪 View experiment at: http://127.0.0.1:8080/#/experiments/680415510059672824\n",
      "\n",
      "Params: {'C': 0.01, 'gamma': 0.01, 'kernel': 'rbf'}                             \n",
      "🏃 View run SVC_{'C': 0.01, 'gamma': 0.01, 'kernel': 'rbf'} at: http://127.0.0.1:8080/#/experiments/680415510059672824/runs/c05472d9149d4ac280d3097b5b43775a\n",
      "\n",
      "🧪 View experiment at: http://127.0.0.1:8080/#/experiments/680415510059672824   \n",
      "\n",
      "Params: {'C': 0.01, 'gamma': 10, 'kernel': 'rbf'}                               \n",
      " 40%|████      | 2/5 [01:13<01:49, 36.60s/trial, best loss: -0.750378634529194]"
     ]
    },
    {
     "name": "stderr",
     "output_type": "stream",
     "text": [
      "/home/renan/miniconda3/lib/python3.12/site-packages/sklearn/metrics/_classification.py:1565: UndefinedMetricWarning: Precision is ill-defined and being set to 0.0 in labels with no predicted samples. Use `zero_division` parameter to control this behavior.\n",
      "  _warn_prf(average, modifier, f\"{metric.capitalize()} is\", len(result))\n",
      "\n"
     ]
    },
    {
     "name": "stdout",
     "output_type": "stream",
     "text": [
      "🏃 View run SVC_{'C': 0.01, 'gamma': 10, 'kernel': 'rbf'} at: http://127.0.0.1:8080/#/experiments/680415510059672824/runs/3547e21a18804c97a66c4ecb8742fb8a\n",
      "\n",
      "🧪 View experiment at: http://127.0.0.1:8080/#/experiments/680415510059672824  \n",
      "\n",
      "Params: {'C': 0.1, 'gamma': 1, 'kernel': 'rbf'}                                \n",
      " 60%|██████    | 3/5 [02:52<02:10, 65.14s/trial, best loss: -0.750378634529194]"
     ]
    },
    {
     "name": "stderr",
     "output_type": "stream",
     "text": [
      "/home/renan/miniconda3/lib/python3.12/site-packages/sklearn/metrics/_classification.py:1565: UndefinedMetricWarning: Precision is ill-defined and being set to 0.0 in labels with no predicted samples. Use `zero_division` parameter to control this behavior.\n",
      "  _warn_prf(average, modifier, f\"{metric.capitalize()} is\", len(result))\n",
      "\n"
     ]
    },
    {
     "name": "stdout",
     "output_type": "stream",
     "text": [
      "🏃 View run SVC_{'C': 0.1, 'gamma': 1, 'kernel': 'rbf'} at: http://127.0.0.1:8080/#/experiments/680415510059672824/runs/3f6d065d3a084c8685ebc7d99dfeca1d\n",
      "\n",
      "🧪 View experiment at: http://127.0.0.1:8080/#/experiments/680415510059672824  \n",
      "\n",
      "Params: {'C': 0.01, 'gamma': 1, 'kernel': 'rbf'}                               \n",
      " 80%|████████  | 4/5 [04:39<01:21, 81.39s/trial, best loss: -0.750378634529194]"
     ]
    },
    {
     "name": "stderr",
     "output_type": "stream",
     "text": [
      "/home/renan/miniconda3/lib/python3.12/site-packages/sklearn/metrics/_classification.py:1565: UndefinedMetricWarning: Precision is ill-defined and being set to 0.0 in labels with no predicted samples. Use `zero_division` parameter to control this behavior.\n",
      "  _warn_prf(average, modifier, f\"{metric.capitalize()} is\", len(result))\n",
      "\n"
     ]
    },
    {
     "name": "stdout",
     "output_type": "stream",
     "text": [
      "🏃 View run SVC_{'C': 0.01, 'gamma': 1, 'kernel': 'rbf'} at: http://127.0.0.1:8080/#/experiments/680415510059672824/runs/1627897df74d4bfdbad38ca7485473af\n",
      "\n",
      "🧪 View experiment at: http://127.0.0.1:8080/#/experiments/680415510059672824  \n",
      "\n",
      "100%|██████████| 5/5 [05:56<00:00, 71.30s/trial, best loss: -0.750378634529194]\n",
      "🏃 View run svc-sweep at: http://127.0.0.1:8080/#/experiments/680415510059672824/runs/71e1a6a806be4bf3877addaf7602f185\n",
      "🧪 View experiment at: http://127.0.0.1:8080/#/experiments/680415510059672824\n",
      "This will run 5 trials to find optimal hyperparameters...\n",
      "Params: {'C': 0.1}                                   \n",
      "🏃 View run LinearSVC_{'C': 0.1} at: http://127.0.0.1:8080/#/experiments/680415510059672824/runs/961149dd405b4f318d2214cc3fcf69cb\n",
      "\n",
      "🧪 View experiment at: http://127.0.0.1:8080/#/experiments/680415510059672824\n",
      "\n",
      "Params: {'C': 0.01}                                                             \n",
      "🏃 View run LinearSVC_{'C': 0.01} at: http://127.0.0.1:8080/#/experiments/680415510059672824/runs/f6475d8cd01d46a58cdd6f06ef65f42d\n",
      "\n",
      "🧪 View experiment at: http://127.0.0.1:8080/#/experiments/680415510059672824   \n",
      "\n",
      "Params: {'C': 0.01}                                                             \n",
      "🏃 View run LinearSVC_{'C': 0.01} at: http://127.0.0.1:8080/#/experiments/680415510059672824/runs/2dde06b3cff544c898299fac9d9cdf91\n",
      "\n",
      "🧪 View experiment at: http://127.0.0.1:8080/#/experiments/680415510059672824   \n",
      "\n",
      "Params: {'C': 0.1}                                                              \n",
      "🏃 View run LinearSVC_{'C': 0.1} at: http://127.0.0.1:8080/#/experiments/680415510059672824/runs/fdf2629d4c7348449a3fd5db8d600282\n",
      "\n",
      "🧪 View experiment at: http://127.0.0.1:8080/#/experiments/680415510059672824   \n",
      "\n",
      "Params: {'C': 0.1}                                                              \n",
      "🏃 View run LinearSVC_{'C': 0.1} at: http://127.0.0.1:8080/#/experiments/680415510059672824/runs/31ff789434f74bf2ba7047965daee9f6\n",
      "\n",
      "🧪 View experiment at: http://127.0.0.1:8080/#/experiments/680415510059672824   \n",
      "\n",
      "100%|██████████| 5/5 [00:12<00:00,  2.54s/trial, best loss: -0.6603828812243903]\n",
      "🏃 View run svc-linear-sweep at: http://127.0.0.1:8080/#/experiments/680415510059672824/runs/d417f0c9a6a8438c8c41881acb61429e\n",
      "🧪 View experiment at: http://127.0.0.1:8080/#/experiments/680415510059672824\n",
      "This will run 5 trials to find optimal hyperparameters...\n",
      "Params: {'learning_rate': 0.001, 'max_depth': 10, 'n_estimators': 200, 'random_state': 42}\n",
      "  0%|          | 0/5 [00:00<?, ?trial/s, best loss=?]"
     ]
    },
    {
     "name": "stderr",
     "output_type": "stream",
     "text": [
      "/home/renan/miniconda3/lib/python3.12/site-packages/sklearn/metrics/_classification.py:1565: UndefinedMetricWarning: Precision is ill-defined and being set to 0.0 in labels with no predicted samples. Use `zero_division` parameter to control this behavior.\n",
      "  _warn_prf(average, modifier, f\"{metric.capitalize()} is\", len(result))\n",
      "\n"
     ]
    },
    {
     "name": "stdout",
     "output_type": "stream",
     "text": [
      "🏃 View run XGBClassifier_{'learning_rate': 0.001, 'max_depth': 10, 'n_estimators': 200, 'random_state': 42} at: http://127.0.0.1:8080/#/experiments/680415510059672824/runs/b78074ff33a24aa6b3cc0cbcee31bd8d\n",
      "\n",
      "🧪 View experiment at: http://127.0.0.1:8080/#/experiments/680415510059672824\n",
      "\n",
      "Params: {'learning_rate': 0.4, 'max_depth': None, 'n_estimators': 700, 'random_state': 42}\n",
      "🏃 View run XGBClassifier_{'learning_rate': 0.4, 'max_depth': None, 'n_estimators': 700, 'random_state': 42} at: http://127.0.0.1:8080/#/experiments/680415510059672824/runs/d4282d0f88fc427e937b8b21c6f41ea2\n",
      "\n",
      "🧪 View experiment at: http://127.0.0.1:8080/#/experiments/680415510059672824   \n",
      "\n",
      "Params: {'learning_rate': 0.5, 'max_depth': None, 'n_estimators': 1000, 'random_state': 42}\n",
      "🏃 View run XGBClassifier_{'learning_rate': 0.5, 'max_depth': None, 'n_estimators': 1000, 'random_state': 42} at: http://127.0.0.1:8080/#/experiments/680415510059672824/runs/9f292825a3fc4dfcbee22a3be6dd4269\n",
      "\n",
      "🧪 View experiment at: http://127.0.0.1:8080/#/experiments/680415510059672824   \n",
      "\n",
      "Params: {'learning_rate': 0.01, 'max_depth': 10, 'n_estimators': 500, 'random_state': 42}\n",
      "🏃 View run XGBClassifier_{'learning_rate': 0.01, 'max_depth': 10, 'n_estimators': 500, 'random_state': 42} at: http://127.0.0.1:8080/#/experiments/680415510059672824/runs/7744a8f05de7424c8db4dbbfafc6ec06\n",
      "\n",
      "🧪 View experiment at: http://127.0.0.1:8080/#/experiments/680415510059672824   \n",
      "\n",
      "Params: {'learning_rate': 0.001, 'max_depth': 10, 'n_estimators': 700, 'random_state': 42}\n",
      "🏃 View run XGBClassifier_{'learning_rate': 0.001, 'max_depth': 10, 'n_estimators': 700, 'random_state': 42} at: http://127.0.0.1:8080/#/experiments/680415510059672824/runs/b0c49bfab0ac49c2bdc667ec51326048\n",
      "\n",
      "🧪 View experiment at: http://127.0.0.1:8080/#/experiments/680415510059672824   \n",
      "\n",
      "100%|██████████| 5/5 [01:04<00:00, 12.85s/trial, best loss: -0.7218176596094258]\n",
      "🏃 View run xgb-sweep at: http://127.0.0.1:8080/#/experiments/680415510059672824/runs/f4defa505621409a852ea016dfc77d4f\n",
      "🧪 View experiment at: http://127.0.0.1:8080/#/experiments/680415510059672824\n"
     ]
    },
    {
     "data": {
      "text/plain": [
       "0.7218176596094258"
      ]
     },
     "execution_count": 11,
     "metadata": {},
     "output_type": "execute_result"
    }
   ],
   "source": [
    "model = RandomForestClassifier\n",
    "run_experiments('rf-sweep', max_evals=max_evals, search_space=search_space_rf, data_name=data_name, model_name = 'RandomForestClassifier', features_names=columns_to_keep)\n",
    "model = SVC\n",
    "run_experiments('svc-sweep', max_evals=max_evals, search_space=search_space_svc, data_name=data_name, model_name = 'SVC', features_names=columns_to_keep)\n",
    "model = LinearSVC\n",
    "run_experiments('svc-linear-sweep', max_evals=max_evals, search_space=search_space_svc_linear, data_name=data_name, model_name = 'LinearSVC', features_names=columns_to_keep)\n",
    "model = xgb.XGBClassifier\n",
    "run_experiments('xgb-sweep', max_evals=max_evals, search_space=search_space_xgb, data_name=data_name, model_name = 'XGBClassifier', features_names=columns_to_keep)"
   ]
  },
  {
   "cell_type": "markdown",
   "id": "05f0c899",
   "metadata": {},
   "source": [
    "## SUMO Only"
   ]
  },
  {
   "cell_type": "code",
   "execution_count": 12,
   "id": "4b0bd8d1",
   "metadata": {},
   "outputs": [],
   "source": [
    "# SUMO\n",
    "X_sumo_fixed, y_sumo_fixed = preprocessor.sliding_windows(sumo_fixed, window_size=window_size, step_size=step_size)\n",
    "X_sumo_llm, y_sumo_llm = preprocessor.sliding_windows(sumo_llm, window_size=window_size, step_size=step_size)"
   ]
  },
  {
   "cell_type": "code",
   "execution_count": 13,
   "id": "98105bf0",
   "metadata": {},
   "outputs": [
    {
     "name": "stdout",
     "output_type": "stream",
     "text": [
      "Columns to keep for validation: ['acc', 'angle', 'speed', 'gyro_z', 'label']\n"
     ]
    }
   ],
   "source": [
    "# Getting the validation for SUMO variables\n",
    "columns_to_keep = sumo_fixed.columns.tolist()\n",
    "print(\"Columns to keep for validation:\", columns_to_keep)\n",
    "\n",
    "X_val_base, y_val = preprocessor.sliding_windows(uah_validation[columns_to_keep], window_size=window_size, step_size=step_size)\n",
    "y_val = preprocessor.one_hot_encode(y_val, one_hot_keys=one_hot_keys)"
   ]
  },
  {
   "cell_type": "markdown",
   "id": "69e823c8",
   "metadata": {},
   "source": [
    "### Fixed"
   ]
  },
  {
   "cell_type": "code",
   "execution_count": 14,
   "id": "da934d9c",
   "metadata": {},
   "outputs": [],
   "source": [
    "# Provide an Experiment description that will appear in the UI\n",
    "experiment_description = (\n",
    "    \"Experiment to train models on the SUMO Fixed dataset.\"\n",
    ")\n",
    "\n",
    "# Provide searchable tags that define characteristics of the Runs that\n",
    "# will be in this Experiment\n",
    "experiment_tags = {\n",
    "    \"project_name\": \"driver-behavior-prediction\",\n",
    "    \"mlflow.note.content\": experiment_description,\n",
    "}\n",
    "\n",
    "# Create the Experiment, providing a unique name\n",
    "try:\n",
    "    driver_behavior_experiment = client.create_experiment(\n",
    "        name=\"Driver_Behavior_Models_SUMO_Fixed\", tags=experiment_tags\n",
    "    )\n",
    "except mlflow.exceptions.RestException as e:\n",
    "    print(f\"Experiment already exists: {e}\")"
   ]
  },
  {
   "cell_type": "code",
   "execution_count": 15,
   "id": "0f7026fd",
   "metadata": {},
   "outputs": [],
   "source": [
    "X_train, y_train = X_sumo_fixed, y_sumo_fixed\n",
    "\n",
    "scaler = StandardScaler()\n",
    "X_train = scaler.fit_transform(X_train)\n",
    "X_val = scaler.transform(X_val_base)\n",
    "y_train = preprocessor.one_hot_encode(y_train, one_hot_keys=one_hot_keys)\n",
    "\n",
    "signature = infer_signature(X_train, y_train)\n",
    "mlflow.set_experiment('Driver_Behavior_Models_SUMO_Fixed')\n",
    "data_name = 'SUMO_Fixed'"
   ]
  },
  {
   "cell_type": "code",
   "execution_count": 16,
   "id": "7080e63a",
   "metadata": {},
   "outputs": [
    {
     "name": "stdout",
     "output_type": "stream",
     "text": [
      "This will run 5 trials to find optimal hyperparameters...\n",
      "Params: {'max_depth': 20, 'n_estimators': 200, 'random_state': 42}\n",
      "  0%|          | 0/5 [00:00<?, ?trial/s, best loss=?]"
     ]
    },
    {
     "name": "stderr",
     "output_type": "stream",
     "text": [
      "/home/renan/miniconda3/lib/python3.12/site-packages/sklearn/metrics/_classification.py:1565: UndefinedMetricWarning: Precision is ill-defined and being set to 0.0 in labels with no predicted samples. Use `zero_division` parameter to control this behavior.\n",
      "  _warn_prf(average, modifier, f\"{metric.capitalize()} is\", len(result))\n",
      "\n"
     ]
    },
    {
     "name": "stdout",
     "output_type": "stream",
     "text": [
      "🏃 View run RandomForestClassifier_{'max_depth': 20, 'n_estimators': 200, 'random_state': 42} at: http://127.0.0.1:8080/#/experiments/319021118004357339/runs/8e66cf6b774a42fabba32cdf451ca385\n",
      "\n",
      "🧪 View experiment at: http://127.0.0.1:8080/#/experiments/319021118004357339\n",
      "\n",
      "Params: {'max_depth': None, 'n_estimators': 100, 'random_state': 42}             \n",
      " 20%|██        | 1/5 [00:27<01:48, 27.09s/trial, best loss: -0.33310749162724596]"
     ]
    },
    {
     "name": "stderr",
     "output_type": "stream",
     "text": [
      "/home/renan/miniconda3/lib/python3.12/site-packages/sklearn/metrics/_classification.py:1565: UndefinedMetricWarning: Precision is ill-defined and being set to 0.0 in labels with no predicted samples. Use `zero_division` parameter to control this behavior.\n",
      "  _warn_prf(average, modifier, f\"{metric.capitalize()} is\", len(result))\n",
      "\n"
     ]
    },
    {
     "name": "stdout",
     "output_type": "stream",
     "text": [
      "🏃 View run RandomForestClassifier_{'max_depth': None, 'n_estimators': 100, 'random_state': 42} at: http://127.0.0.1:8080/#/experiments/319021118004357339/runs/a286d0e07667496a83c8b98124ac2e23\n",
      "\n",
      "🧪 View experiment at: http://127.0.0.1:8080/#/experiments/319021118004357339    \n",
      "\n",
      "Params: {'max_depth': 20, 'n_estimators': 20, 'random_state': 42}                \n",
      "🏃 View run RandomForestClassifier_{'max_depth': 20, 'n_estimators': 20, 'random_state': 42} at: http://127.0.0.1:8080/#/experiments/319021118004357339/runs/52e6b182aa3949d6882a2b43a7186909\n",
      "\n",
      "🧪 View experiment at: http://127.0.0.1:8080/#/experiments/319021118004357339    \n",
      "\n",
      "Params: {'max_depth': 5, 'n_estimators': 20, 'random_state': 42}                 \n",
      "🏃 View run RandomForestClassifier_{'max_depth': 5, 'n_estimators': 20, 'random_state': 42} at: http://127.0.0.1:8080/#/experiments/319021118004357339/runs/66b02c49efce4fbeab97da377abec8ee\n",
      "\n",
      "🧪 View experiment at: http://127.0.0.1:8080/#/experiments/319021118004357339   \n",
      "\n",
      "Params: {'max_depth': None, 'n_estimators': 100, 'random_state': 42}            \n",
      " 80%|████████  | 4/5 [00:50<00:09,  9.01s/trial, best loss: -0.3334085595387637]"
     ]
    },
    {
     "name": "stderr",
     "output_type": "stream",
     "text": [
      "/home/renan/miniconda3/lib/python3.12/site-packages/sklearn/metrics/_classification.py:1565: UndefinedMetricWarning: Precision is ill-defined and being set to 0.0 in labels with no predicted samples. Use `zero_division` parameter to control this behavior.\n",
      "  _warn_prf(average, modifier, f\"{metric.capitalize()} is\", len(result))\n",
      "\n"
     ]
    },
    {
     "name": "stdout",
     "output_type": "stream",
     "text": [
      "🏃 View run RandomForestClassifier_{'max_depth': None, 'n_estimators': 100, 'random_state': 42} at: http://127.0.0.1:8080/#/experiments/319021118004357339/runs/57b3d9b4beff4d1897bd05bf56e4117b\n",
      "\n",
      "🧪 View experiment at: http://127.0.0.1:8080/#/experiments/319021118004357339   \n",
      "\n",
      "100%|██████████| 5/5 [01:07<00:00, 13.49s/trial, best loss: -0.3334085595387637]\n",
      "🏃 View run rf-sweep at: http://127.0.0.1:8080/#/experiments/319021118004357339/runs/43334ed9d43b466ea9b3a6a8d3b131a5\n",
      "🧪 View experiment at: http://127.0.0.1:8080/#/experiments/319021118004357339\n",
      "This will run 5 trials to find optimal hyperparameters...\n",
      "Params: {'C': 0.01, 'gamma': 0.001, 'kernel': 'rbf'} \n",
      "  0%|          | 0/5 [00:00<?, ?trial/s, best loss=?]"
     ]
    },
    {
     "name": "stderr",
     "output_type": "stream",
     "text": [
      "/home/renan/miniconda3/lib/python3.12/site-packages/sklearn/metrics/_classification.py:1565: UndefinedMetricWarning: Precision is ill-defined and being set to 0.0 in labels with no predicted samples. Use `zero_division` parameter to control this behavior.\n",
      "  _warn_prf(average, modifier, f\"{metric.capitalize()} is\", len(result))\n",
      "\n"
     ]
    },
    {
     "name": "stdout",
     "output_type": "stream",
     "text": [
      "🏃 View run SVC_{'C': 0.01, 'gamma': 0.001, 'kernel': 'rbf'} at: http://127.0.0.1:8080/#/experiments/319021118004357339/runs/36e4a9df20c24cd9906af9b1f22398be\n",
      "\n",
      "🧪 View experiment at: http://127.0.0.1:8080/#/experiments/319021118004357339\n",
      "\n",
      "Params: {'C': 0.5, 'gamma': 1, 'kernel': 'rbf'}                                  \n",
      " 20%|██        | 1/5 [01:14<04:58, 74.53s/trial, best loss: -0.33310749162724596]"
     ]
    },
    {
     "name": "stderr",
     "output_type": "stream",
     "text": [
      "/home/renan/miniconda3/lib/python3.12/site-packages/sklearn/metrics/_classification.py:1565: UndefinedMetricWarning: Precision is ill-defined and being set to 0.0 in labels with no predicted samples. Use `zero_division` parameter to control this behavior.\n",
      "  _warn_prf(average, modifier, f\"{metric.capitalize()} is\", len(result))\n",
      "\n"
     ]
    },
    {
     "name": "stdout",
     "output_type": "stream",
     "text": [
      "🏃 View run SVC_{'C': 0.5, 'gamma': 1, 'kernel': 'rbf'} at: http://127.0.0.1:8080/#/experiments/319021118004357339/runs/fe0554965cdd4da481005ebd750f8226\n",
      "\n",
      "🧪 View experiment at: http://127.0.0.1:8080/#/experiments/319021118004357339    \n",
      "\n",
      "Params: {'C': 1, 'gamma': 0.01, 'kernel': 'rbf'}                                 \n",
      " 40%|████      | 2/5 [02:24<03:35, 71.97s/trial, best loss: -0.33310749162724596]"
     ]
    },
    {
     "name": "stderr",
     "output_type": "stream",
     "text": [
      "/home/renan/miniconda3/lib/python3.12/site-packages/sklearn/metrics/_classification.py:1565: UndefinedMetricWarning: Precision is ill-defined and being set to 0.0 in labels with no predicted samples. Use `zero_division` parameter to control this behavior.\n",
      "  _warn_prf(average, modifier, f\"{metric.capitalize()} is\", len(result))\n",
      "\n"
     ]
    },
    {
     "name": "stdout",
     "output_type": "stream",
     "text": [
      "🏃 View run SVC_{'C': 1, 'gamma': 0.01, 'kernel': 'rbf'} at: http://127.0.0.1:8080/#/experiments/319021118004357339/runs/92d9fa5887e7414d96c135ddf235917a\n",
      "\n",
      "🧪 View experiment at: http://127.0.0.1:8080/#/experiments/319021118004357339    \n",
      "\n",
      "Params: {'C': 1, 'gamma': 10, 'kernel': 'rbf'}                                   \n",
      " 60%|██████    | 3/5 [03:23<02:11, 65.91s/trial, best loss: -0.33310749162724596]"
     ]
    },
    {
     "name": "stderr",
     "output_type": "stream",
     "text": [
      "/home/renan/miniconda3/lib/python3.12/site-packages/sklearn/metrics/_classification.py:1565: UndefinedMetricWarning: Precision is ill-defined and being set to 0.0 in labels with no predicted samples. Use `zero_division` parameter to control this behavior.\n",
      "  _warn_prf(average, modifier, f\"{metric.capitalize()} is\", len(result))\n",
      "\n"
     ]
    },
    {
     "name": "stdout",
     "output_type": "stream",
     "text": [
      "🏃 View run SVC_{'C': 1, 'gamma': 10, 'kernel': 'rbf'} at: http://127.0.0.1:8080/#/experiments/319021118004357339/runs/c3a723a8dfe2439699f79bd7477637d2\n",
      "\n",
      "🧪 View experiment at: http://127.0.0.1:8080/#/experiments/319021118004357339    \n",
      "\n",
      "Params: {'C': 0.5, 'gamma': 0.01, 'kernel': 'rbf'}                                \n",
      " 80%|████████  | 4/5 [06:19<01:49, 109.46s/trial, best loss: -0.33310749162724596]"
     ]
    },
    {
     "name": "stderr",
     "output_type": "stream",
     "text": [
      "/home/renan/miniconda3/lib/python3.12/site-packages/sklearn/metrics/_classification.py:1565: UndefinedMetricWarning: Precision is ill-defined and being set to 0.0 in labels with no predicted samples. Use `zero_division` parameter to control this behavior.\n",
      "  _warn_prf(average, modifier, f\"{metric.capitalize()} is\", len(result))\n",
      "\n"
     ]
    },
    {
     "name": "stdout",
     "output_type": "stream",
     "text": [
      "🏃 View run SVC_{'C': 0.5, 'gamma': 0.01, 'kernel': 'rbf'} at: http://127.0.0.1:8080/#/experiments/319021118004357339/runs/70e80a21dacc4d89b0e55594d9e8c773\n",
      "\n",
      "🧪 View experiment at: http://127.0.0.1:8080/#/experiments/319021118004357339     \n",
      "\n",
      "100%|██████████| 5/5 [07:17<00:00, 87.51s/trial, best loss: -0.33310749162724596] \n",
      "🏃 View run svc-sweep at: http://127.0.0.1:8080/#/experiments/319021118004357339/runs/87b6ac0425544845b29b3a001647d7b8\n",
      "🧪 View experiment at: http://127.0.0.1:8080/#/experiments/319021118004357339\n",
      "This will run 5 trials to find optimal hyperparameters...\n",
      "Params: {'C': 0.01}                                  \n",
      "🏃 View run LinearSVC_{'C': 0.01} at: http://127.0.0.1:8080/#/experiments/319021118004357339/runs/97867ad14d8f45eb86c710a26dc947e5\n",
      "\n",
      "🧪 View experiment at: http://127.0.0.1:8080/#/experiments/319021118004357339\n",
      "\n",
      "Params: {'C': 0.0001}                                                            \n",
      "🏃 View run LinearSVC_{'C': 0.0001} at: http://127.0.0.1:8080/#/experiments/319021118004357339/runs/1775f84c26b04d95a3188a0f0da96dd9\n",
      "\n",
      "🧪 View experiment at: http://127.0.0.1:8080/#/experiments/319021118004357339    \n",
      "\n",
      "Params: {'C': 0.001}                                                             \n",
      "🏃 View run LinearSVC_{'C': 0.001} at: http://127.0.0.1:8080/#/experiments/319021118004357339/runs/aa902d8339544239a8f31d17971e9bff\n",
      "\n",
      "🧪 View experiment at: http://127.0.0.1:8080/#/experiments/319021118004357339    \n",
      "\n",
      "Params: {'C': 0.01}                                                              \n",
      "🏃 View run LinearSVC_{'C': 0.01} at: http://127.0.0.1:8080/#/experiments/319021118004357339/runs/e3bf9be8eca741f6b790bdfdb95dbfba\n",
      "\n",
      "🧪 View experiment at: http://127.0.0.1:8080/#/experiments/319021118004357339    \n",
      "\n",
      "Params: {'C': 0.01}                                                              \n",
      "🏃 View run LinearSVC_{'C': 0.01} at: http://127.0.0.1:8080/#/experiments/319021118004357339/runs/68503914f4fc40a69d6119df895e19ac\n",
      "\n",
      "🧪 View experiment at: http://127.0.0.1:8080/#/experiments/319021118004357339    \n",
      "\n",
      "100%|██████████| 5/5 [00:08<00:00,  1.75s/trial, best loss: -0.33337528100686237]\n",
      "🏃 View run svc-linear-sweep at: http://127.0.0.1:8080/#/experiments/319021118004357339/runs/e37bc25a0c6844f9899689b3f7130b38\n",
      "🧪 View experiment at: http://127.0.0.1:8080/#/experiments/319021118004357339\n",
      "This will run 5 trials to find optimal hyperparameters...\n",
      "Params: {'learning_rate': 0.2, 'max_depth': 5, 'n_estimators': 500, 'random_state': 42}\n",
      "🏃 View run XGBClassifier_{'learning_rate': 0.2, 'max_depth': 5, 'n_estimators': 500, 'random_state': 42} at: http://127.0.0.1:8080/#/experiments/319021118004357339/runs/58b43a77f10b43e8b48bc7c57ed7a0de\n",
      "\n",
      "🧪 View experiment at: http://127.0.0.1:8080/#/experiments/319021118004357339\n",
      "\n",
      "Params: {'learning_rate': 0.4, 'max_depth': None, 'n_estimators': 500, 'random_state': 42}\n",
      "🏃 View run XGBClassifier_{'learning_rate': 0.4, 'max_depth': None, 'n_estimators': 500, 'random_state': 42} at: http://127.0.0.1:8080/#/experiments/319021118004357339/runs/d0114e94acd04affa99cbb13876075c1\n",
      "\n",
      "🧪 View experiment at: http://127.0.0.1:8080/#/experiments/319021118004357339    \n",
      "\n",
      "Params: {'learning_rate': 0.4, 'max_depth': None, 'n_estimators': 1000, 'random_state': 42}\n",
      "🏃 View run XGBClassifier_{'learning_rate': 0.4, 'max_depth': None, 'n_estimators': 1000, 'random_state': 42} at: http://127.0.0.1:8080/#/experiments/319021118004357339/runs/ff9f073bdc164e64aa7ffb84870ee190\n",
      "\n",
      "🧪 View experiment at: http://127.0.0.1:8080/#/experiments/319021118004357339    \n",
      "\n",
      "Params: {'learning_rate': 0.2, 'max_depth': None, 'n_estimators': 700, 'random_state': 42}\n",
      "🏃 View run XGBClassifier_{'learning_rate': 0.2, 'max_depth': None, 'n_estimators': 700, 'random_state': 42} at: http://127.0.0.1:8080/#/experiments/319021118004357339/runs/120d90f9f345453296b8a41652b2c2a3\n",
      "\n",
      "🧪 View experiment at: http://127.0.0.1:8080/#/experiments/319021118004357339    \n",
      "\n",
      "Params: {'learning_rate': 0.2, 'max_depth': None, 'n_estimators': 200, 'random_state': 42}\n",
      "🏃 View run XGBClassifier_{'learning_rate': 0.2, 'max_depth': None, 'n_estimators': 200, 'random_state': 42} at: http://127.0.0.1:8080/#/experiments/319021118004357339/runs/c897027a24404e7dbed49aa41284022a\n",
      "\n",
      "🧪 View experiment at: http://127.0.0.1:8080/#/experiments/319021118004357339    \n",
      "\n",
      "100%|██████████| 5/5 [00:16<00:00,  3.37s/trial, best loss: -0.33730962743803933]\n",
      "🏃 View run xgb-sweep at: http://127.0.0.1:8080/#/experiments/319021118004357339/runs/8d253e2cd6a54b7f961623d0a1d64dbb\n",
      "🧪 View experiment at: http://127.0.0.1:8080/#/experiments/319021118004357339\n"
     ]
    },
    {
     "data": {
      "text/plain": [
       "0.33730962743803933"
      ]
     },
     "execution_count": 16,
     "metadata": {},
     "output_type": "execute_result"
    }
   ],
   "source": [
    "model = RandomForestClassifier\n",
    "run_experiments('rf-sweep', max_evals=max_evals, search_space=search_space_rf, data_name=data_name, model_name = 'RandomForestClassifier', features_names=columns_to_keep)\n",
    "model = SVC\n",
    "run_experiments('svc-sweep', max_evals=max_evals, search_space=search_space_svc, data_name=data_name, model_name = 'SVC', features_names=columns_to_keep)\n",
    "model = LinearSVC\n",
    "run_experiments('svc-linear-sweep', max_evals=max_evals, search_space=search_space_svc_linear, data_name=data_name, model_name = 'LinearSVC', features_names=columns_to_keep)\n",
    "model = xgb.XGBClassifier\n",
    "run_experiments('xgb-sweep', max_evals=max_evals, search_space=search_space_xgb, data_name=data_name, model_name = 'XGBClassifier', features_names=columns_to_keep)"
   ]
  },
  {
   "cell_type": "markdown",
   "id": "65285841",
   "metadata": {},
   "source": [
    "### LLM"
   ]
  },
  {
   "cell_type": "code",
   "execution_count": 17,
   "id": "567d9f58",
   "metadata": {},
   "outputs": [],
   "source": [
    "# Provide an Experiment description that will appear in the UI\n",
    "experiment_description = (\n",
    "    \"Experiment to train models on the SUMO LLM dataset.\"\n",
    ")\n",
    "\n",
    "# Provide searchable tags that define characteristics of the Runs that\n",
    "# will be in this Experiment\n",
    "experiment_tags = {\n",
    "    \"project_name\": \"driver-behavior-prediction\",\n",
    "    \"mlflow.note.content\": experiment_description,\n",
    "}\n",
    "\n",
    "# Create the Experiment, providing a unique name\n",
    "try:\n",
    "    driver_behavior_experiment = client.create_experiment(\n",
    "        name=\"Driver_Behavior_Models_SUMO_LLM\", tags=experiment_tags\n",
    "    )\n",
    "except mlflow.exceptions.RestException as e:\n",
    "    print(f\"Experiment already exists: {e}\")"
   ]
  },
  {
   "cell_type": "code",
   "execution_count": 18,
   "id": "0460281e",
   "metadata": {},
   "outputs": [],
   "source": [
    "X_train, y_train = X_sumo_llm, y_sumo_llm\n",
    "\n",
    "scaler = StandardScaler()\n",
    "X_train = scaler.fit_transform(X_train)\n",
    "X_val = scaler.transform(X_val_base)\n",
    "y_train = preprocessor.one_hot_encode(y_train, one_hot_keys=one_hot_keys)\n",
    "\n",
    "mlflow.set_experiment('Driver_Behavior_Models_SUMO_LLM')\n",
    "data_name = 'SUMO_LLM'"
   ]
  },
  {
   "cell_type": "code",
   "execution_count": 19,
   "id": "4da017c3",
   "metadata": {},
   "outputs": [
    {
     "name": "stdout",
     "output_type": "stream",
     "text": [
      "This will run 5 trials to find optimal hyperparameters...\n",
      "Params: {'max_depth': None, 'n_estimators': 200, 'random_state': 42}\n",
      "🏃 View run RandomForestClassifier_{'max_depth': None, 'n_estimators': 200, 'random_state': 42} at: http://127.0.0.1:8080/#/experiments/945333525365379287/runs/443228b956a147779a5df4cf5dd33e9e\n",
      "\n",
      "🧪 View experiment at: http://127.0.0.1:8080/#/experiments/945333525365379287\n",
      "\n",
      "Params: {'max_depth': None, 'n_estimators': 200, 'random_state': 42}            \n",
      "🏃 View run RandomForestClassifier_{'max_depth': None, 'n_estimators': 200, 'random_state': 42} at: http://127.0.0.1:8080/#/experiments/945333525365379287/runs/8187a5c1de6742cc83eb1a9ae59b591e\n",
      "\n",
      "🧪 View experiment at: http://127.0.0.1:8080/#/experiments/945333525365379287   \n",
      "\n",
      "Params: {'max_depth': 20, 'n_estimators': 20, 'random_state': 42}               \n",
      "🏃 View run RandomForestClassifier_{'max_depth': 20, 'n_estimators': 20, 'random_state': 42} at: http://127.0.0.1:8080/#/experiments/945333525365379287/runs/1f0fac16f5cd41258b932b5c325e29bd\n",
      "\n",
      "🧪 View experiment at: http://127.0.0.1:8080/#/experiments/945333525365379287   \n",
      "\n",
      "Params: {'max_depth': 10, 'n_estimators': 50, 'random_state': 42}                \n",
      "🏃 View run RandomForestClassifier_{'max_depth': 10, 'n_estimators': 50, 'random_state': 42} at: http://127.0.0.1:8080/#/experiments/945333525365379287/runs/7db7372c813441a6afb1bc0b875dcd55\n",
      "\n",
      "🧪 View experiment at: http://127.0.0.1:8080/#/experiments/945333525365379287    \n",
      "\n",
      "Params: {'max_depth': None, 'n_estimators': 50, 'random_state': 42}              \n",
      "🏃 View run RandomForestClassifier_{'max_depth': None, 'n_estimators': 50, 'random_state': 42} at: http://127.0.0.1:8080/#/experiments/945333525365379287/runs/ece09fd72e254d218af709acb67a2d10\n",
      "\n",
      "🧪 View experiment at: http://127.0.0.1:8080/#/experiments/945333525365379287   \n",
      "\n",
      "100%|██████████| 5/5 [02:48<00:00, 33.80s/trial, best loss: -0.5619399090976109]\n",
      "🏃 View run rf-sweep at: http://127.0.0.1:8080/#/experiments/945333525365379287/runs/bc62dac68eb548dab53a869af86f517d\n",
      "🧪 View experiment at: http://127.0.0.1:8080/#/experiments/945333525365379287\n",
      "This will run 5 trials to find optimal hyperparameters...\n",
      "Params: {'C': 1, 'gamma': 1, 'kernel': 'rbf'}        \n",
      "  0%|          | 0/5 [00:00<?, ?trial/s, best loss=?]"
     ]
    },
    {
     "name": "stderr",
     "output_type": "stream",
     "text": [
      "/home/renan/miniconda3/lib/python3.12/site-packages/sklearn/metrics/_classification.py:1565: UndefinedMetricWarning: Precision is ill-defined and being set to 0.0 in labels with no predicted samples. Use `zero_division` parameter to control this behavior.\n",
      "  _warn_prf(average, modifier, f\"{metric.capitalize()} is\", len(result))\n",
      "\n"
     ]
    },
    {
     "name": "stdout",
     "output_type": "stream",
     "text": [
      "🏃 View run SVC_{'C': 1, 'gamma': 1, 'kernel': 'rbf'} at: http://127.0.0.1:8080/#/experiments/945333525365379287/runs/255616c0636b44a5883381af59b29860\n",
      "\n",
      "🧪 View experiment at: http://127.0.0.1:8080/#/experiments/945333525365379287\n",
      "\n",
      "Params: {'C': 0.05, 'gamma': 1, 'kernel': 'rbf'}                                  \n",
      " 20%|██        | 1/5 [02:59<11:57, 179.41s/trial, best loss: -0.33310749162724596]"
     ]
    },
    {
     "name": "stderr",
     "output_type": "stream",
     "text": [
      "/home/renan/miniconda3/lib/python3.12/site-packages/sklearn/metrics/_classification.py:1565: UndefinedMetricWarning: Precision is ill-defined and being set to 0.0 in labels with no predicted samples. Use `zero_division` parameter to control this behavior.\n",
      "  _warn_prf(average, modifier, f\"{metric.capitalize()} is\", len(result))\n",
      "\n"
     ]
    },
    {
     "name": "stdout",
     "output_type": "stream",
     "text": [
      "🏃 View run SVC_{'C': 0.05, 'gamma': 1, 'kernel': 'rbf'} at: http://127.0.0.1:8080/#/experiments/945333525365379287/runs/d491031fad2844df9139a2c869d26abb\n",
      "\n",
      "🧪 View experiment at: http://127.0.0.1:8080/#/experiments/945333525365379287     \n",
      "\n",
      "Params: {'C': 0.5, 'gamma': 0.001, 'kernel': 'rbf'}                               \n",
      "🏃 View run SVC_{'C': 0.5, 'gamma': 0.001, 'kernel': 'rbf'} at: http://127.0.0.1:8080/#/experiments/945333525365379287/runs/7ad60986d6b84a96ae8821a6e4e00eef\n",
      "\n",
      "🧪 View experiment at: http://127.0.0.1:8080/#/experiments/945333525365379287     \n",
      "\n",
      "Params: {'C': 0.01, 'gamma': 10, 'kernel': 'rbf'}                                 \n",
      " 60%|██████    | 3/5 [06:13<03:47, 113.72s/trial, best loss: -0.33641148675357896]"
     ]
    },
    {
     "name": "stderr",
     "output_type": "stream",
     "text": [
      "/home/renan/miniconda3/lib/python3.12/site-packages/sklearn/metrics/_classification.py:1565: UndefinedMetricWarning: Precision is ill-defined and being set to 0.0 in labels with no predicted samples. Use `zero_division` parameter to control this behavior.\n",
      "  _warn_prf(average, modifier, f\"{metric.capitalize()} is\", len(result))\n",
      "\n"
     ]
    },
    {
     "name": "stdout",
     "output_type": "stream",
     "text": [
      "🏃 View run SVC_{'C': 0.01, 'gamma': 10, 'kernel': 'rbf'} at: http://127.0.0.1:8080/#/experiments/945333525365379287/runs/1618621b98474504b12406a651b0a05b\n",
      "\n",
      "🧪 View experiment at: http://127.0.0.1:8080/#/experiments/945333525365379287     \n",
      "\n",
      "Params: {'C': 0.1, 'gamma': 0.001, 'kernel': 'rbf'}                               \n",
      " 80%|████████  | 4/5 [07:52<01:48, 108.09s/trial, best loss: -0.33641148675357896]"
     ]
    },
    {
     "name": "stderr",
     "output_type": "stream",
     "text": [
      "/home/renan/miniconda3/lib/python3.12/site-packages/sklearn/metrics/_classification.py:1565: UndefinedMetricWarning: Precision is ill-defined and being set to 0.0 in labels with no predicted samples. Use `zero_division` parameter to control this behavior.\n",
      "  _warn_prf(average, modifier, f\"{metric.capitalize()} is\", len(result))\n",
      "\n"
     ]
    },
    {
     "name": "stdout",
     "output_type": "stream",
     "text": [
      "🏃 View run SVC_{'C': 0.1, 'gamma': 0.001, 'kernel': 'rbf'} at: http://127.0.0.1:8080/#/experiments/945333525365379287/runs/bb51dc4f915348f381f1fe2aa98ef422\n",
      "\n",
      "🧪 View experiment at: http://127.0.0.1:8080/#/experiments/945333525365379287     \n",
      "\n",
      "100%|██████████| 5/5 [09:18<00:00, 111.78s/trial, best loss: -0.33641148675357896]\n",
      "🏃 View run svc-sweep at: http://127.0.0.1:8080/#/experiments/945333525365379287/runs/f3ae6543bd6140d19a6b95513c05d58b\n",
      "🧪 View experiment at: http://127.0.0.1:8080/#/experiments/945333525365379287\n",
      "This will run 5 trials to find optimal hyperparameters...\n",
      "Params: {'C': 1}                                     \n",
      "🏃 View run LinearSVC_{'C': 1} at: http://127.0.0.1:8080/#/experiments/945333525365379287/runs/d8bd2b2b37334864b29f832ba5c8ea17\n",
      "\n",
      "🧪 View experiment at: http://127.0.0.1:8080/#/experiments/945333525365379287\n",
      "\n",
      "Params: {'C': 1}                                                                \n",
      "🏃 View run LinearSVC_{'C': 1} at: http://127.0.0.1:8080/#/experiments/945333525365379287/runs/2db0225c570547ac816023d9b8b69369\n",
      "\n",
      "🧪 View experiment at: http://127.0.0.1:8080/#/experiments/945333525365379287   \n",
      "\n",
      "Params: {'C': 0.001}                                                            \n",
      "🏃 View run LinearSVC_{'C': 0.001} at: http://127.0.0.1:8080/#/experiments/945333525365379287/runs/a440c0e65cc14764aaa2a191e584beba\n",
      "\n",
      "🧪 View experiment at: http://127.0.0.1:8080/#/experiments/945333525365379287   \n",
      "\n",
      "Params: {'C': 1}                                                                 \n",
      "🏃 View run LinearSVC_{'C': 1} at: http://127.0.0.1:8080/#/experiments/945333525365379287/runs/b67577a0139042adbea3b6279f8686bb\n",
      "\n",
      "🧪 View experiment at: http://127.0.0.1:8080/#/experiments/945333525365379287    \n",
      "\n",
      "Params: {'C': 0.1}                                                               \n",
      "🏃 View run LinearSVC_{'C': 0.1} at: http://127.0.0.1:8080/#/experiments/945333525365379287/runs/563522673b084b2ea1622e51ec1ff8e2\n",
      "\n",
      "🧪 View experiment at: http://127.0.0.1:8080/#/experiments/945333525365379287    \n",
      "\n",
      "100%|██████████| 5/5 [00:16<00:00,  3.32s/trial, best loss: -0.33701038711508563]\n",
      "🏃 View run svc-linear-sweep at: http://127.0.0.1:8080/#/experiments/945333525365379287/runs/9f4c6b1e1dba47499e8b829141ce8387\n",
      "🧪 View experiment at: http://127.0.0.1:8080/#/experiments/945333525365379287\n",
      "This will run 5 trials to find optimal hyperparameters...\n",
      "Params: {'learning_rate': 0.4, 'max_depth': None, 'n_estimators': 1000, 'random_state': 42}\n",
      "🏃 View run XGBClassifier_{'learning_rate': 0.4, 'max_depth': None, 'n_estimators': 1000, 'random_state': 42} at: http://127.0.0.1:8080/#/experiments/945333525365379287/runs/707182964b9c4cdb937f12d9a9af228d\n",
      "\n",
      "🧪 View experiment at: http://127.0.0.1:8080/#/experiments/945333525365379287\n",
      "\n",
      "Params: {'learning_rate': 0.5, 'max_depth': 5, 'n_estimators': 200, 'random_state': 42}\n",
      "🏃 View run XGBClassifier_{'learning_rate': 0.5, 'max_depth': 5, 'n_estimators': 200, 'random_state': 42} at: http://127.0.0.1:8080/#/experiments/945333525365379287/runs/cf6059aaed9d4bc2afeb8757f3a6e387\n",
      "\n",
      "🧪 View experiment at: http://127.0.0.1:8080/#/experiments/945333525365379287    \n",
      "\n",
      "Params: {'learning_rate': 0.4, 'max_depth': 10, 'n_estimators': 700, 'random_state': 42}\n",
      "🏃 View run XGBClassifier_{'learning_rate': 0.4, 'max_depth': 10, 'n_estimators': 700, 'random_state': 42} at: http://127.0.0.1:8080/#/experiments/945333525365379287/runs/645b09b2a34d4a14bea17fcea4424333\n",
      "\n",
      "🧪 View experiment at: http://127.0.0.1:8080/#/experiments/945333525365379287   \n",
      "\n",
      "Params: {'learning_rate': 0.3, 'max_depth': 5, 'n_estimators': 200, 'random_state': 42}\n",
      "🏃 View run XGBClassifier_{'learning_rate': 0.3, 'max_depth': 5, 'n_estimators': 200, 'random_state': 42} at: http://127.0.0.1:8080/#/experiments/945333525365379287/runs/9ef6552c552f4b0eaa5f81c7a62c23bb\n",
      "\n",
      "🧪 View experiment at: http://127.0.0.1:8080/#/experiments/945333525365379287   \n",
      "\n",
      "Params: {'learning_rate': 0.001, 'max_depth': 5, 'n_estimators': 500, 'random_state': 42}\n",
      "🏃 View run XGBClassifier_{'learning_rate': 0.001, 'max_depth': 5, 'n_estimators': 500, 'random_state': 42} at: http://127.0.0.1:8080/#/experiments/945333525365379287/runs/ab82e48ab5514e2fbc371d9e63551a4b\n",
      "\n",
      "🧪 View experiment at: http://127.0.0.1:8080/#/experiments/945333525365379287   \n",
      "\n",
      "100%|██████████| 5/5 [00:26<00:00,  5.22s/trial, best loss: -0.5748710014522482]\n",
      "🏃 View run xgb-sweep at: http://127.0.0.1:8080/#/experiments/945333525365379287/runs/88ea92e85e294aa581548208700f0f35\n",
      "🧪 View experiment at: http://127.0.0.1:8080/#/experiments/945333525365379287\n"
     ]
    },
    {
     "data": {
      "text/plain": [
       "0.5748710014522482"
      ]
     },
     "execution_count": 19,
     "metadata": {},
     "output_type": "execute_result"
    }
   ],
   "source": [
    "model = RandomForestClassifier\n",
    "run_experiments('rf-sweep', max_evals=max_evals, search_space=search_space_rf, data_name=data_name, model_name = 'RandomForestClassifier', features_names=columns_to_keep)\n",
    "model = SVC\n",
    "run_experiments('svc-sweep', max_evals=max_evals, search_space=search_space_svc, data_name=data_name, model_name = 'SVC', features_names=columns_to_keep)\n",
    "model = LinearSVC\n",
    "run_experiments('svc-linear-sweep', max_evals=max_evals, search_space=search_space_svc_linear, data_name=data_name, model_name = 'LinearSVC', features_names=columns_to_keep)\n",
    "model = xgb.XGBClassifier\n",
    "run_experiments('xgb-sweep', max_evals=max_evals, search_space=search_space_xgb, data_name=data_name, model_name = 'XGBClassifier', features_names=columns_to_keep)"
   ]
  },
  {
   "cell_type": "markdown",
   "id": "d562a57b",
   "metadata": {},
   "source": [
    "## Carla Only"
   ]
  },
  {
   "cell_type": "code",
   "execution_count": 20,
   "id": "8d0a613b",
   "metadata": {},
   "outputs": [],
   "source": [
    "X_carla_fixed, y_carla_fixed = preprocessor.sliding_windows(carla_fixed, window_size=window_size, step_size=step_size)\n",
    "X_carla_llm, y_carla_llm = preprocessor.sliding_windows(carla_llm, window_size=window_size, step_size=step_size)"
   ]
  },
  {
   "cell_type": "code",
   "execution_count": 21,
   "id": "40fa1c38",
   "metadata": {},
   "outputs": [
    {
     "name": "stdout",
     "output_type": "stream",
     "text": [
      "Columns to keep for validation: ['acc_x', 'acc_y', 'acc_z', 'gyro_x', 'gyro_y', 'gyro_z', 'angle', 'label']\n"
     ]
    }
   ],
   "source": [
    "# Getting the validation for SUMO variables\n",
    "columns_to_keep = carla_fixed.columns.tolist()\n",
    "print(\"Columns to keep for validation:\", columns_to_keep)\n",
    "X_val_base, y_val = preprocessor.sliding_windows(uah_validation[columns_to_keep], window_size=window_size, step_size=step_size)\n",
    "y_val = preprocessor.one_hot_encode(y_val, one_hot_keys=one_hot_keys)"
   ]
  },
  {
   "cell_type": "markdown",
   "id": "17def673",
   "metadata": {},
   "source": [
    "### Fixed"
   ]
  },
  {
   "cell_type": "code",
   "execution_count": 22,
   "id": "d5520a73",
   "metadata": {},
   "outputs": [],
   "source": [
    "# Provide an Experiment description that will appear in the UI\n",
    "experiment_description = (\n",
    "    \"Experiment to train models on the CARLA Fixed dataset.\"\n",
    ")\n",
    "\n",
    "# Provide searchable tags that define characteristics of the Runs that\n",
    "# will be in this Experiment\n",
    "experiment_tags = {\n",
    "    \"project_name\": \"driver-behavior-prediction\",\n",
    "    \"mlflow.note.content\": experiment_description,\n",
    "}\n",
    "\n",
    "# Create the Experiment, providing a unique name\n",
    "try:\n",
    "    driver_behavior_experiment = client.create_experiment(\n",
    "        name=\"Driver_Behavior_Models_CARLA_Fixed\", tags=experiment_tags\n",
    "    )\n",
    "except mlflow.exceptions.RestException as e:\n",
    "    print(f\"Experiment already exists: {e}\")"
   ]
  },
  {
   "cell_type": "code",
   "execution_count": 23,
   "id": "f460d11d",
   "metadata": {},
   "outputs": [],
   "source": [
    "X_train, y_train = X_carla_fixed, y_carla_fixed\n",
    "\n",
    "scaler = StandardScaler()\n",
    "X_train = scaler.fit_transform(X_train)\n",
    "X_val = scaler.transform(X_val_base)\n",
    "y_train = preprocessor.one_hot_encode(y_train, one_hot_keys=one_hot_keys)\n",
    "\n",
    "mlflow.set_experiment('Driver_Behavior_Models_CARLA_Fixed')\n",
    "data_name = 'CARLA_Fixed'"
   ]
  },
  {
   "cell_type": "code",
   "execution_count": 24,
   "id": "6740e674",
   "metadata": {},
   "outputs": [
    {
     "name": "stdout",
     "output_type": "stream",
     "text": [
      "This will run 5 trials to find optimal hyperparameters...\n",
      "Params: {'max_depth': 10, 'n_estimators': 20, 'random_state': 42}\n",
      "🏃 View run RandomForestClassifier_{'max_depth': 10, 'n_estimators': 20, 'random_state': 42} at: http://127.0.0.1:8080/#/experiments/219343887402467225/runs/4c7a3ef88d564a37bc32a0ec6c7d9ba2\n",
      "\n",
      "🧪 View experiment at: http://127.0.0.1:8080/#/experiments/219343887402467225\n",
      "\n",
      "Params: {'max_depth': 10, 'n_estimators': 200, 'random_state': 42}              \n",
      "🏃 View run RandomForestClassifier_{'max_depth': 10, 'n_estimators': 200, 'random_state': 42} at: http://127.0.0.1:8080/#/experiments/219343887402467225/runs/c2dc35308fa342bf922068f3e51682f8\n",
      "\n",
      "🧪 View experiment at: http://127.0.0.1:8080/#/experiments/219343887402467225   \n",
      "\n",
      "Params: {'max_depth': None, 'n_estimators': 200, 'random_state': 42}            \n",
      "🏃 View run RandomForestClassifier_{'max_depth': None, 'n_estimators': 200, 'random_state': 42} at: http://127.0.0.1:8080/#/experiments/219343887402467225/runs/265818ea574e433c895ca6742901e715\n",
      "\n",
      "🧪 View experiment at: http://127.0.0.1:8080/#/experiments/219343887402467225   \n",
      "\n",
      "Params: {'max_depth': 10, 'n_estimators': 200, 'random_state': 42}              \n",
      "🏃 View run RandomForestClassifier_{'max_depth': 10, 'n_estimators': 200, 'random_state': 42} at: http://127.0.0.1:8080/#/experiments/219343887402467225/runs/194951e15f0344d78239f4fdac83d6c1\n",
      "\n",
      "🧪 View experiment at: http://127.0.0.1:8080/#/experiments/219343887402467225   \n",
      "\n",
      "Params: {'max_depth': 5, 'n_estimators': 50, 'random_state': 42}                \n",
      "🏃 View run RandomForestClassifier_{'max_depth': 5, 'n_estimators': 50, 'random_state': 42} at: http://127.0.0.1:8080/#/experiments/219343887402467225/runs/ceba0167296d42e6a02145ae1aeab6c3\n",
      "\n",
      "🧪 View experiment at: http://127.0.0.1:8080/#/experiments/219343887402467225   \n",
      "\n",
      "100%|██████████| 5/5 [01:22<00:00, 16.44s/trial, best loss: -0.5261530286600855]\n",
      "🏃 View run rf-sweep at: http://127.0.0.1:8080/#/experiments/219343887402467225/runs/78cf16c73b3e4235ab73120327a108f8\n",
      "🧪 View experiment at: http://127.0.0.1:8080/#/experiments/219343887402467225\n",
      "This will run 5 trials to find optimal hyperparameters...\n",
      "Params: {'C': 0.1, 'gamma': 0.1, 'kernel': 'rbf'}    \n",
      "  0%|          | 0/5 [00:00<?, ?trial/s, best loss=?]"
     ]
    },
    {
     "name": "stderr",
     "output_type": "stream",
     "text": [
      "/home/renan/miniconda3/lib/python3.12/site-packages/sklearn/metrics/_classification.py:1565: UndefinedMetricWarning: Precision is ill-defined and being set to 0.0 in labels with no predicted samples. Use `zero_division` parameter to control this behavior.\n",
      "  _warn_prf(average, modifier, f\"{metric.capitalize()} is\", len(result))\n",
      "\n"
     ]
    },
    {
     "name": "stdout",
     "output_type": "stream",
     "text": [
      "🏃 View run SVC_{'C': 0.1, 'gamma': 0.1, 'kernel': 'rbf'} at: http://127.0.0.1:8080/#/experiments/219343887402467225/runs/b5fc43555b77453fbcb123bec110377d\n",
      "\n",
      "🧪 View experiment at: http://127.0.0.1:8080/#/experiments/219343887402467225\n",
      "\n",
      "Params: {'C': 1, 'gamma': 10, 'kernel': 'rbf'}                                   \n",
      " 20%|██        | 1/5 [00:19<01:19, 19.97s/trial, best loss: -0.33310749162724596]"
     ]
    },
    {
     "name": "stderr",
     "output_type": "stream",
     "text": [
      "/home/renan/miniconda3/lib/python3.12/site-packages/sklearn/metrics/_classification.py:1565: UndefinedMetricWarning: Precision is ill-defined and being set to 0.0 in labels with no predicted samples. Use `zero_division` parameter to control this behavior.\n",
      "  _warn_prf(average, modifier, f\"{metric.capitalize()} is\", len(result))\n",
      "\n"
     ]
    },
    {
     "name": "stdout",
     "output_type": "stream",
     "text": [
      "🏃 View run SVC_{'C': 1, 'gamma': 10, 'kernel': 'rbf'} at: http://127.0.0.1:8080/#/experiments/219343887402467225/runs/b073b5f22f044eacb182960492692aaa\n",
      "\n",
      "🧪 View experiment at: http://127.0.0.1:8080/#/experiments/219343887402467225    \n",
      "\n",
      "Params: {'C': 0.05, 'gamma': 0.1, 'kernel': 'rbf'}                               \n",
      " 40%|████      | 2/5 [01:23<02:16, 45.57s/trial, best loss: -0.33310749162724596]"
     ]
    },
    {
     "name": "stderr",
     "output_type": "stream",
     "text": [
      "/home/renan/miniconda3/lib/python3.12/site-packages/sklearn/metrics/_classification.py:1565: UndefinedMetricWarning: Precision is ill-defined and being set to 0.0 in labels with no predicted samples. Use `zero_division` parameter to control this behavior.\n",
      "  _warn_prf(average, modifier, f\"{metric.capitalize()} is\", len(result))\n",
      "\n"
     ]
    },
    {
     "name": "stdout",
     "output_type": "stream",
     "text": [
      "🏃 View run SVC_{'C': 0.05, 'gamma': 0.1, 'kernel': 'rbf'} at: http://127.0.0.1:8080/#/experiments/219343887402467225/runs/9d7fc4a5f341406aa2548ba5fb170352\n",
      "\n",
      "🧪 View experiment at: http://127.0.0.1:8080/#/experiments/219343887402467225    \n",
      "\n",
      "Params: {'C': 0.01, 'gamma': 0.01, 'kernel': 'rbf'}                              \n",
      " 60%|██████    | 3/5 [01:43<01:08, 34.01s/trial, best loss: -0.33310749162724596]"
     ]
    },
    {
     "name": "stderr",
     "output_type": "stream",
     "text": [
      "/home/renan/miniconda3/lib/python3.12/site-packages/sklearn/metrics/_classification.py:1565: UndefinedMetricWarning: Precision is ill-defined and being set to 0.0 in labels with no predicted samples. Use `zero_division` parameter to control this behavior.\n",
      "  _warn_prf(average, modifier, f\"{metric.capitalize()} is\", len(result))\n",
      "\n"
     ]
    },
    {
     "name": "stdout",
     "output_type": "stream",
     "text": [
      "🏃 View run SVC_{'C': 0.01, 'gamma': 0.01, 'kernel': 'rbf'} at: http://127.0.0.1:8080/#/experiments/219343887402467225/runs/78a0610cc5be4d1f89a8c303c16616ed\n",
      "\n",
      "🧪 View experiment at: http://127.0.0.1:8080/#/experiments/219343887402467225    \n",
      "\n",
      "Params: {'C': 0.01, 'gamma': 0.001, 'kernel': 'rbf'}                             \n",
      " 80%|████████  | 4/5 [02:11<00:31, 31.73s/trial, best loss: -0.33310749162724596]"
     ]
    },
    {
     "name": "stderr",
     "output_type": "stream",
     "text": [
      "/home/renan/miniconda3/lib/python3.12/site-packages/sklearn/metrics/_classification.py:1565: UndefinedMetricWarning: Precision is ill-defined and being set to 0.0 in labels with no predicted samples. Use `zero_division` parameter to control this behavior.\n",
      "  _warn_prf(average, modifier, f\"{metric.capitalize()} is\", len(result))\n",
      "\n"
     ]
    },
    {
     "name": "stdout",
     "output_type": "stream",
     "text": [
      "🏃 View run SVC_{'C': 0.01, 'gamma': 0.001, 'kernel': 'rbf'} at: http://127.0.0.1:8080/#/experiments/219343887402467225/runs/1a3a4d9451a044168ef302a467e1fef2\n",
      "\n",
      "🧪 View experiment at: http://127.0.0.1:8080/#/experiments/219343887402467225    \n",
      "\n",
      "100%|██████████| 5/5 [02:39<00:00, 31.97s/trial, best loss: -0.33310749162724596]\n",
      "🏃 View run svc-sweep at: http://127.0.0.1:8080/#/experiments/219343887402467225/runs/e75a091c789b4f93bff4f46c66f9e92d\n",
      "🧪 View experiment at: http://127.0.0.1:8080/#/experiments/219343887402467225\n",
      "This will run 5 trials to find optimal hyperparameters...\n",
      "Params: {'C': 0.01}                                  \n",
      "  0%|          | 0/5 [00:00<?, ?trial/s, best loss=?]"
     ]
    },
    {
     "name": "stderr",
     "output_type": "stream",
     "text": [
      "/home/renan/miniconda3/lib/python3.12/site-packages/sklearn/metrics/_classification.py:1565: UndefinedMetricWarning: Precision is ill-defined and being set to 0.0 in labels with no predicted samples. Use `zero_division` parameter to control this behavior.\n",
      "  _warn_prf(average, modifier, f\"{metric.capitalize()} is\", len(result))\n",
      "\n"
     ]
    },
    {
     "name": "stdout",
     "output_type": "stream",
     "text": [
      "🏃 View run LinearSVC_{'C': 0.01} at: http://127.0.0.1:8080/#/experiments/219343887402467225/runs/c1c13aac142a4e59bf01ab2b138de318\n",
      "\n",
      "🧪 View experiment at: http://127.0.0.1:8080/#/experiments/219343887402467225\n",
      "\n",
      "Params: {'C': 0.0001}                                                            \n",
      " 20%|██        | 1/5 [00:01<00:07,  1.89s/trial, best loss: -0.33310749162724596]"
     ]
    },
    {
     "name": "stderr",
     "output_type": "stream",
     "text": [
      "/home/renan/miniconda3/lib/python3.12/site-packages/sklearn/metrics/_classification.py:1565: UndefinedMetricWarning: Precision is ill-defined and being set to 0.0 in labels with no predicted samples. Use `zero_division` parameter to control this behavior.\n",
      "  _warn_prf(average, modifier, f\"{metric.capitalize()} is\", len(result))\n",
      "\n"
     ]
    },
    {
     "name": "stdout",
     "output_type": "stream",
     "text": [
      "🏃 View run LinearSVC_{'C': 0.0001} at: http://127.0.0.1:8080/#/experiments/219343887402467225/runs/94e0c28fae0e448daf5eab8a259be4ce\n",
      "\n",
      "🧪 View experiment at: http://127.0.0.1:8080/#/experiments/219343887402467225    \n",
      "\n",
      "Params: {'C': 1}                                                                 \n",
      " 40%|████      | 2/5 [00:03<00:05,  1.70s/trial, best loss: -0.33310749162724596]"
     ]
    },
    {
     "name": "stderr",
     "output_type": "stream",
     "text": [
      "/home/renan/miniconda3/lib/python3.12/site-packages/sklearn/metrics/_classification.py:1565: UndefinedMetricWarning: Precision is ill-defined and being set to 0.0 in labels with no predicted samples. Use `zero_division` parameter to control this behavior.\n",
      "  _warn_prf(average, modifier, f\"{metric.capitalize()} is\", len(result))\n",
      "\n"
     ]
    },
    {
     "name": "stdout",
     "output_type": "stream",
     "text": [
      "🏃 View run LinearSVC_{'C': 1} at: http://127.0.0.1:8080/#/experiments/219343887402467225/runs/99911b152a5a4d509524a7361b11ccbc\n",
      "\n",
      "🧪 View experiment at: http://127.0.0.1:8080/#/experiments/219343887402467225    \n",
      "\n",
      "Params: {'C': 1}                                                                 \n",
      " 60%|██████    | 3/5 [00:05<00:03,  1.84s/trial, best loss: -0.33310749162724596]"
     ]
    },
    {
     "name": "stderr",
     "output_type": "stream",
     "text": [
      "/home/renan/miniconda3/lib/python3.12/site-packages/sklearn/metrics/_classification.py:1565: UndefinedMetricWarning: Precision is ill-defined and being set to 0.0 in labels with no predicted samples. Use `zero_division` parameter to control this behavior.\n",
      "  _warn_prf(average, modifier, f\"{metric.capitalize()} is\", len(result))\n",
      "\n"
     ]
    },
    {
     "name": "stdout",
     "output_type": "stream",
     "text": [
      "🏃 View run LinearSVC_{'C': 1} at: http://127.0.0.1:8080/#/experiments/219343887402467225/runs/e72fc50c685e483b9f6474577af0a5b2\n",
      "\n",
      "🧪 View experiment at: http://127.0.0.1:8080/#/experiments/219343887402467225    \n",
      "\n",
      "Params: {'C': 0.0001}                                                            \n",
      " 80%|████████  | 4/5 [00:07<00:01,  1.93s/trial, best loss: -0.33310749162724596]"
     ]
    },
    {
     "name": "stderr",
     "output_type": "stream",
     "text": [
      "/home/renan/miniconda3/lib/python3.12/site-packages/sklearn/metrics/_classification.py:1565: UndefinedMetricWarning: Precision is ill-defined and being set to 0.0 in labels with no predicted samples. Use `zero_division` parameter to control this behavior.\n",
      "  _warn_prf(average, modifier, f\"{metric.capitalize()} is\", len(result))\n",
      "\n"
     ]
    },
    {
     "name": "stdout",
     "output_type": "stream",
     "text": [
      "🏃 View run LinearSVC_{'C': 0.0001} at: http://127.0.0.1:8080/#/experiments/219343887402467225/runs/f4fec242e5ac44a0ac72099eed1bba26\n",
      "\n",
      "🧪 View experiment at: http://127.0.0.1:8080/#/experiments/219343887402467225    \n",
      "\n",
      "100%|██████████| 5/5 [00:09<00:00,  1.83s/trial, best loss: -0.33310749162724596]\n",
      "🏃 View run svc-linear-sweep at: http://127.0.0.1:8080/#/experiments/219343887402467225/runs/7e047b45c06a42838ec9c54faff142ae\n",
      "🧪 View experiment at: http://127.0.0.1:8080/#/experiments/219343887402467225\n",
      "This will run 5 trials to find optimal hyperparameters...\n",
      "Params: {'learning_rate': 0.3, 'max_depth': 10, 'n_estimators': 500, 'random_state': 42}\n",
      "🏃 View run XGBClassifier_{'learning_rate': 0.3, 'max_depth': 10, 'n_estimators': 500, 'random_state': 42} at: http://127.0.0.1:8080/#/experiments/219343887402467225/runs/4542ba0acd2445729d9e03a293171577\n",
      "\n",
      "🧪 View experiment at: http://127.0.0.1:8080/#/experiments/219343887402467225\n",
      "\n",
      "Params: {'learning_rate': 0.4, 'max_depth': 10, 'n_estimators': 700, 'random_state': 42}\n",
      "🏃 View run XGBClassifier_{'learning_rate': 0.4, 'max_depth': 10, 'n_estimators': 700, 'random_state': 42} at: http://127.0.0.1:8080/#/experiments/219343887402467225/runs/78ee7feafc604b2c96db9f6a276c92f0\n",
      "\n",
      "🧪 View experiment at: http://127.0.0.1:8080/#/experiments/219343887402467225   \n",
      "\n",
      "Params: {'learning_rate': 0.2, 'max_depth': 5, 'n_estimators': 700, 'random_state': 42}\n",
      "🏃 View run XGBClassifier_{'learning_rate': 0.2, 'max_depth': 5, 'n_estimators': 700, 'random_state': 42} at: http://127.0.0.1:8080/#/experiments/219343887402467225/runs/d9d5086b06134b2a92bf07c6661384c4\n",
      "\n",
      "🧪 View experiment at: http://127.0.0.1:8080/#/experiments/219343887402467225   \n",
      "\n",
      "Params: {'learning_rate': 0.3, 'max_depth': None, 'n_estimators': 1000, 'random_state': 42}\n",
      "🏃 View run XGBClassifier_{'learning_rate': 0.3, 'max_depth': None, 'n_estimators': 1000, 'random_state': 42} at: http://127.0.0.1:8080/#/experiments/219343887402467225/runs/b226ed08acd243799ee1a9100d6ab348\n",
      "\n",
      "🧪 View experiment at: http://127.0.0.1:8080/#/experiments/219343887402467225   \n",
      "\n",
      "Params: {'learning_rate': 0.001, 'max_depth': 5, 'n_estimators': 500, 'random_state': 42}\n",
      "🏃 View run XGBClassifier_{'learning_rate': 0.001, 'max_depth': 5, 'n_estimators': 500, 'random_state': 42} at: http://127.0.0.1:8080/#/experiments/219343887402467225/runs/e9ae1c4f1a1c43249a2bdfa1b8e82eeb\n",
      "\n",
      "🧪 View experiment at: http://127.0.0.1:8080/#/experiments/219343887402467225   \n",
      "\n",
      "100%|██████████| 5/5 [00:33<00:00,  6.70s/trial, best loss: -0.3934144677894773]\n",
      "🏃 View run xgb-sweep at: http://127.0.0.1:8080/#/experiments/219343887402467225/runs/a936afeeecd143b99d5130e1812f0fd3\n",
      "🧪 View experiment at: http://127.0.0.1:8080/#/experiments/219343887402467225\n"
     ]
    },
    {
     "data": {
      "text/plain": [
       "0.3934144677894773"
      ]
     },
     "execution_count": 24,
     "metadata": {},
     "output_type": "execute_result"
    }
   ],
   "source": [
    "model = RandomForestClassifier\n",
    "run_experiments('rf-sweep', max_evals=max_evals, search_space=search_space_rf, data_name=data_name, model_name = 'RandomForestClassifier', features_names=columns_to_keep)\n",
    "model = SVC\n",
    "run_experiments('svc-sweep', max_evals=max_evals, search_space=search_space_svc, data_name=data_name, model_name = 'SVC', features_names=columns_to_keep)\n",
    "model = LinearSVC\n",
    "run_experiments('svc-linear-sweep', max_evals=max_evals, search_space=search_space_svc_linear, data_name=data_name, model_name = 'LinearSVC', features_names=columns_to_keep)\n",
    "model = xgb.XGBClassifier\n",
    "run_experiments('xgb-sweep', max_evals=max_evals, search_space=search_space_xgb, data_name=data_name, model_name = 'XGBClassifier', features_names=columns_to_keep)"
   ]
  },
  {
   "cell_type": "markdown",
   "id": "940416e1",
   "metadata": {},
   "source": [
    "### LLM"
   ]
  },
  {
   "cell_type": "code",
   "execution_count": 25,
   "id": "abfd8115",
   "metadata": {},
   "outputs": [],
   "source": [
    "# Provide an Experiment description that will appear in the UI\n",
    "experiment_description = (\n",
    "    \"Experiment to train models on the CARLA LLM dataset.\"\n",
    ")\n",
    "\n",
    "# Provide searchable tags that define characteristics of the Runs that\n",
    "# will be in this Experiment\n",
    "experiment_tags = {\n",
    "    \"project_name\": \"driver-behavior-prediction\",\n",
    "    \"mlflow.note.content\": experiment_description,\n",
    "}\n",
    "\n",
    "# Create the Experiment, providing a unique name\n",
    "try:\n",
    "    driver_behavior_experiment = client.create_experiment(\n",
    "        name=\"Driver_Behavior_Models_CARLA_LLM\", tags=experiment_tags\n",
    "    )\n",
    "except mlflow.exceptions.RestException as e:\n",
    "    print(f\"Experiment already exists: {e}\")"
   ]
  },
  {
   "cell_type": "code",
   "execution_count": 26,
   "id": "d8198c3c",
   "metadata": {},
   "outputs": [],
   "source": [
    "X_train, y_train = X_carla_llm, y_carla_llm\n",
    "\n",
    "scaler = StandardScaler()\n",
    "X_train = scaler.fit_transform(X_train)\n",
    "X_val = scaler.transform(X_val_base)\n",
    "y_train = preprocessor.one_hot_encode(y_train, one_hot_keys=one_hot_keys)\n",
    "\n",
    "mlflow.set_experiment('Driver_Behavior_Models_CARLA_LLM')\n",
    "data_name = 'CARLA_LLM'"
   ]
  },
  {
   "cell_type": "code",
   "execution_count": 27,
   "id": "6b1a7997",
   "metadata": {},
   "outputs": [
    {
     "name": "stdout",
     "output_type": "stream",
     "text": [
      "This will run 5 trials to find optimal hyperparameters...\n",
      "Params: {'max_depth': None, 'n_estimators': 50, 'random_state': 42}\n",
      "🏃 View run RandomForestClassifier_{'max_depth': None, 'n_estimators': 50, 'random_state': 42} at: http://127.0.0.1:8080/#/experiments/339489166525188628/runs/2300379d66334c93881158be9f3ea81f\n",
      "\n",
      "🧪 View experiment at: http://127.0.0.1:8080/#/experiments/339489166525188628\n",
      "\n",
      "Params: {'max_depth': None, 'n_estimators': 500, 'random_state': 42}             \n",
      "🏃 View run RandomForestClassifier_{'max_depth': None, 'n_estimators': 500, 'random_state': 42} at: http://127.0.0.1:8080/#/experiments/339489166525188628/runs/095d9ff58f5f48079cc10a6e737e8a83\n",
      "\n",
      "🧪 View experiment at: http://127.0.0.1:8080/#/experiments/339489166525188628    \n",
      "\n",
      "Params: {'max_depth': 10, 'n_estimators': 500, 'random_state': 42}               \n",
      "🏃 View run RandomForestClassifier_{'max_depth': 10, 'n_estimators': 500, 'random_state': 42} at: http://127.0.0.1:8080/#/experiments/339489166525188628/runs/251fc936998544df99c115e0ffc82b11\n",
      "\n",
      "🧪 View experiment at: http://127.0.0.1:8080/#/experiments/339489166525188628    \n",
      "\n",
      "Params: {'max_depth': 50, 'n_estimators': 500, 'random_state': 42}               \n",
      "🏃 View run RandomForestClassifier_{'max_depth': 50, 'n_estimators': 500, 'random_state': 42} at: http://127.0.0.1:8080/#/experiments/339489166525188628/runs/39e8c108a38b44a0af29b1c333449ea3\n",
      "\n",
      "🧪 View experiment at: http://127.0.0.1:8080/#/experiments/339489166525188628    \n",
      "\n",
      "Params: {'max_depth': 20, 'n_estimators': 200, 'random_state': 42}               \n",
      "🏃 View run RandomForestClassifier_{'max_depth': 20, 'n_estimators': 200, 'random_state': 42} at: http://127.0.0.1:8080/#/experiments/339489166525188628/runs/9c6d09c67ace410caef4e3b402275f43\n",
      "\n",
      "🧪 View experiment at: http://127.0.0.1:8080/#/experiments/339489166525188628    \n",
      "\n",
      "100%|██████████| 5/5 [04:09<00:00, 49.82s/trial, best loss: -0.47431877671857997]\n",
      "🏃 View run rf-sweep at: http://127.0.0.1:8080/#/experiments/339489166525188628/runs/baf617d2f0e140219a162f60965be827\n",
      "🧪 View experiment at: http://127.0.0.1:8080/#/experiments/339489166525188628\n",
      "This will run 5 trials to find optimal hyperparameters...\n",
      "Params: {'C': 1, 'gamma': 10, 'kernel': 'rbf'}       \n",
      "  0%|          | 0/5 [00:00<?, ?trial/s, best loss=?]"
     ]
    },
    {
     "name": "stderr",
     "output_type": "stream",
     "text": [
      "/home/renan/miniconda3/lib/python3.12/site-packages/sklearn/metrics/_classification.py:1565: UndefinedMetricWarning: Precision is ill-defined and being set to 0.0 in labels with no predicted samples. Use `zero_division` parameter to control this behavior.\n",
      "  _warn_prf(average, modifier, f\"{metric.capitalize()} is\", len(result))\n",
      "\n"
     ]
    },
    {
     "name": "stdout",
     "output_type": "stream",
     "text": [
      "🏃 View run SVC_{'C': 1, 'gamma': 10, 'kernel': 'rbf'} at: http://127.0.0.1:8080/#/experiments/339489166525188628/runs/64a44e1539384e6d820f902973d96d4a\n",
      "\n",
      "🧪 View experiment at: http://127.0.0.1:8080/#/experiments/339489166525188628\n",
      "\n",
      "Params: {'C': 0.01, 'gamma': 0.01, 'kernel': 'rbf'}                              \n",
      " 20%|██        | 1/5 [01:25<05:42, 85.73s/trial, best loss: -0.33310749162724596]"
     ]
    },
    {
     "name": "stderr",
     "output_type": "stream",
     "text": [
      "/home/renan/miniconda3/lib/python3.12/site-packages/sklearn/metrics/_classification.py:1565: UndefinedMetricWarning: Precision is ill-defined and being set to 0.0 in labels with no predicted samples. Use `zero_division` parameter to control this behavior.\n",
      "  _warn_prf(average, modifier, f\"{metric.capitalize()} is\", len(result))\n",
      "\n"
     ]
    },
    {
     "name": "stdout",
     "output_type": "stream",
     "text": [
      "🏃 View run SVC_{'C': 0.01, 'gamma': 0.01, 'kernel': 'rbf'} at: http://127.0.0.1:8080/#/experiments/339489166525188628/runs/dd8a74273b5f4533acdbbe006d209675\n",
      "\n",
      "🧪 View experiment at: http://127.0.0.1:8080/#/experiments/339489166525188628    \n",
      "\n",
      "Params: {'C': 0.01, 'gamma': 0.001, 'kernel': 'rbf'}                             \n",
      " 40%|████      | 2/5 [01:57<02:41, 53.73s/trial, best loss: -0.33310749162724596]"
     ]
    },
    {
     "name": "stderr",
     "output_type": "stream",
     "text": [
      "/home/renan/miniconda3/lib/python3.12/site-packages/sklearn/metrics/_classification.py:1565: UndefinedMetricWarning: Precision is ill-defined and being set to 0.0 in labels with no predicted samples. Use `zero_division` parameter to control this behavior.\n",
      "  _warn_prf(average, modifier, f\"{metric.capitalize()} is\", len(result))\n",
      "\n"
     ]
    },
    {
     "name": "stdout",
     "output_type": "stream",
     "text": [
      "🏃 View run SVC_{'C': 0.01, 'gamma': 0.001, 'kernel': 'rbf'} at: http://127.0.0.1:8080/#/experiments/339489166525188628/runs/fdf8f42881b84f7c87d26e834228f49d\n",
      "\n",
      "🧪 View experiment at: http://127.0.0.1:8080/#/experiments/339489166525188628    \n",
      "\n",
      "Params: {'C': 0.5, 'gamma': 10, 'kernel': 'rbf'}                                 \n",
      " 60%|██████    | 3/5 [02:28<01:26, 43.41s/trial, best loss: -0.33310749162724596]"
     ]
    },
    {
     "name": "stderr",
     "output_type": "stream",
     "text": [
      "/home/renan/miniconda3/lib/python3.12/site-packages/sklearn/metrics/_classification.py:1565: UndefinedMetricWarning: Precision is ill-defined and being set to 0.0 in labels with no predicted samples. Use `zero_division` parameter to control this behavior.\n",
      "  _warn_prf(average, modifier, f\"{metric.capitalize()} is\", len(result))\n",
      "\n"
     ]
    },
    {
     "name": "stdout",
     "output_type": "stream",
     "text": [
      "🏃 View run SVC_{'C': 0.5, 'gamma': 10, 'kernel': 'rbf'} at: http://127.0.0.1:8080/#/experiments/339489166525188628/runs/6d106fb0de1b452d91e721dc66e1bf77\n",
      "\n",
      "🧪 View experiment at: http://127.0.0.1:8080/#/experiments/339489166525188628    \n",
      "\n",
      "Params: {'C': 0.5, 'gamma': 10, 'kernel': 'rbf'}                                 \n",
      " 80%|████████  | 4/5 [03:30<00:50, 50.80s/trial, best loss: -0.33310749162724596]"
     ]
    },
    {
     "name": "stderr",
     "output_type": "stream",
     "text": [
      "/home/renan/miniconda3/lib/python3.12/site-packages/sklearn/metrics/_classification.py:1565: UndefinedMetricWarning: Precision is ill-defined and being set to 0.0 in labels with no predicted samples. Use `zero_division` parameter to control this behavior.\n",
      "  _warn_prf(average, modifier, f\"{metric.capitalize()} is\", len(result))\n",
      "\n"
     ]
    },
    {
     "name": "stdout",
     "output_type": "stream",
     "text": [
      "🏃 View run SVC_{'C': 0.5, 'gamma': 10, 'kernel': 'rbf'} at: http://127.0.0.1:8080/#/experiments/339489166525188628/runs/e3408b83ff284546a15372743676f572\n",
      "\n",
      "🧪 View experiment at: http://127.0.0.1:8080/#/experiments/339489166525188628    \n",
      "\n",
      "100%|██████████| 5/5 [04:32<00:00, 54.48s/trial, best loss: -0.33310749162724596]\n",
      "🏃 View run svc-sweep at: http://127.0.0.1:8080/#/experiments/339489166525188628/runs/b726a9b870384cc1860bc13bd56b5b13\n",
      "🧪 View experiment at: http://127.0.0.1:8080/#/experiments/339489166525188628\n",
      "This will run 5 trials to find optimal hyperparameters...\n",
      "Params: {'C': 1}                                     \n",
      "  0%|          | 0/5 [00:00<?, ?trial/s, best loss=?]"
     ]
    },
    {
     "name": "stderr",
     "output_type": "stream",
     "text": [
      "/home/renan/miniconda3/lib/python3.12/site-packages/sklearn/metrics/_classification.py:1565: UndefinedMetricWarning: Precision is ill-defined and being set to 0.0 in labels with no predicted samples. Use `zero_division` parameter to control this behavior.\n",
      "  _warn_prf(average, modifier, f\"{metric.capitalize()} is\", len(result))\n",
      "\n"
     ]
    },
    {
     "name": "stdout",
     "output_type": "stream",
     "text": [
      "🏃 View run LinearSVC_{'C': 1} at: http://127.0.0.1:8080/#/experiments/339489166525188628/runs/da8a2ce078214e10b2e69a7200e86a38\n",
      "\n",
      "🧪 View experiment at: http://127.0.0.1:8080/#/experiments/339489166525188628\n",
      "\n",
      "Params: {'C': 1}                                                                 \n",
      " 20%|██        | 1/5 [00:02<00:08,  2.08s/trial, best loss: -0.33310749162724596]"
     ]
    },
    {
     "name": "stderr",
     "output_type": "stream",
     "text": [
      "/home/renan/miniconda3/lib/python3.12/site-packages/sklearn/metrics/_classification.py:1565: UndefinedMetricWarning: Precision is ill-defined and being set to 0.0 in labels with no predicted samples. Use `zero_division` parameter to control this behavior.\n",
      "  _warn_prf(average, modifier, f\"{metric.capitalize()} is\", len(result))\n",
      "\n"
     ]
    },
    {
     "name": "stdout",
     "output_type": "stream",
     "text": [
      "🏃 View run LinearSVC_{'C': 1} at: http://127.0.0.1:8080/#/experiments/339489166525188628/runs/488d8bfe3af5437aa8511158c4d4da1d\n",
      "\n",
      "🧪 View experiment at: http://127.0.0.1:8080/#/experiments/339489166525188628    \n",
      "\n",
      "Params: {'C': 0.0001}                                                            \n",
      " 40%|████      | 2/5 [00:04<00:06,  2.10s/trial, best loss: -0.33310749162724596]"
     ]
    },
    {
     "name": "stderr",
     "output_type": "stream",
     "text": [
      "/home/renan/miniconda3/lib/python3.12/site-packages/sklearn/metrics/_classification.py:1565: UndefinedMetricWarning: Precision is ill-defined and being set to 0.0 in labels with no predicted samples. Use `zero_division` parameter to control this behavior.\n",
      "  _warn_prf(average, modifier, f\"{metric.capitalize()} is\", len(result))\n",
      "\n"
     ]
    },
    {
     "name": "stdout",
     "output_type": "stream",
     "text": [
      "🏃 View run LinearSVC_{'C': 0.0001} at: http://127.0.0.1:8080/#/experiments/339489166525188628/runs/5bc1cc36445747e6a1db5c435b123d67\n",
      "\n",
      "🧪 View experiment at: http://127.0.0.1:8080/#/experiments/339489166525188628    \n",
      "\n",
      "Params: {'C': 0.001}                                                             \n",
      " 60%|██████    | 3/5 [00:05<00:03,  1.86s/trial, best loss: -0.33310749162724596]"
     ]
    },
    {
     "name": "stderr",
     "output_type": "stream",
     "text": [
      "/home/renan/miniconda3/lib/python3.12/site-packages/sklearn/metrics/_classification.py:1565: UndefinedMetricWarning: Precision is ill-defined and being set to 0.0 in labels with no predicted samples. Use `zero_division` parameter to control this behavior.\n",
      "  _warn_prf(average, modifier, f\"{metric.capitalize()} is\", len(result))\n",
      "\n"
     ]
    },
    {
     "name": "stdout",
     "output_type": "stream",
     "text": [
      "🏃 View run LinearSVC_{'C': 0.001} at: http://127.0.0.1:8080/#/experiments/339489166525188628/runs/182a8deaaf7341e08c8426f459660e48\n",
      "\n",
      "🧪 View experiment at: http://127.0.0.1:8080/#/experiments/339489166525188628    \n",
      "\n",
      "Params: {'C': 0.1}                                                               \n",
      " 80%|████████  | 4/5 [00:07<00:01,  1.78s/trial, best loss: -0.33310749162724596]"
     ]
    },
    {
     "name": "stderr",
     "output_type": "stream",
     "text": [
      "/home/renan/miniconda3/lib/python3.12/site-packages/sklearn/metrics/_classification.py:1565: UndefinedMetricWarning: Precision is ill-defined and being set to 0.0 in labels with no predicted samples. Use `zero_division` parameter to control this behavior.\n",
      "  _warn_prf(average, modifier, f\"{metric.capitalize()} is\", len(result))\n",
      "\n"
     ]
    },
    {
     "name": "stdout",
     "output_type": "stream",
     "text": [
      "🏃 View run LinearSVC_{'C': 0.1} at: http://127.0.0.1:8080/#/experiments/339489166525188628/runs/aa25e87e2cea499d81663dc59fe736b6\n",
      "\n",
      "🧪 View experiment at: http://127.0.0.1:8080/#/experiments/339489166525188628    \n",
      "\n",
      "100%|██████████| 5/5 [00:09<00:00,  1.91s/trial, best loss: -0.33310749162724596]\n",
      "🏃 View run svc-linear-sweep at: http://127.0.0.1:8080/#/experiments/339489166525188628/runs/1fc740d0a526463192b33156dfb013c4\n",
      "🧪 View experiment at: http://127.0.0.1:8080/#/experiments/339489166525188628\n",
      "This will run 5 trials to find optimal hyperparameters...\n",
      "Params: {'learning_rate': 0.5, 'max_depth': 5, 'n_estimators': 500, 'random_state': 42}\n",
      "🏃 View run XGBClassifier_{'learning_rate': 0.5, 'max_depth': 5, 'n_estimators': 500, 'random_state': 42} at: http://127.0.0.1:8080/#/experiments/339489166525188628/runs/a7ed20d649c8410d930475d2d9557bb6\n",
      "\n",
      "🧪 View experiment at: http://127.0.0.1:8080/#/experiments/339489166525188628\n",
      "\n",
      "Params: {'learning_rate': 0.4, 'max_depth': 5, 'n_estimators': 700, 'random_state': 42}\n",
      "🏃 View run XGBClassifier_{'learning_rate': 0.4, 'max_depth': 5, 'n_estimators': 700, 'random_state': 42} at: http://127.0.0.1:8080/#/experiments/339489166525188628/runs/a6e57208bd75478596852fafbf6ab1ef\n",
      "\n",
      "🧪 View experiment at: http://127.0.0.1:8080/#/experiments/339489166525188628   \n",
      "\n",
      "Params: {'learning_rate': 0.1, 'max_depth': None, 'n_estimators': 1000, 'random_state': 42}\n",
      "🏃 View run XGBClassifier_{'learning_rate': 0.1, 'max_depth': None, 'n_estimators': 1000, 'random_state': 42} at: http://127.0.0.1:8080/#/experiments/339489166525188628/runs/cbfac180399e4c63816ffd70c2408768\n",
      "\n",
      "🧪 View experiment at: http://127.0.0.1:8080/#/experiments/339489166525188628    \n",
      "\n",
      "Params: {'learning_rate': 0.5, 'max_depth': None, 'n_estimators': 1000, 'random_state': 42}\n",
      "🏃 View run XGBClassifier_{'learning_rate': 0.5, 'max_depth': None, 'n_estimators': 1000, 'random_state': 42} at: http://127.0.0.1:8080/#/experiments/339489166525188628/runs/740717e8090745b68775b7bf7d70f264\n",
      "\n",
      "🧪 View experiment at: http://127.0.0.1:8080/#/experiments/339489166525188628    \n",
      "\n",
      "Params: {'learning_rate': 0.01, 'max_depth': 5, 'n_estimators': 700, 'random_state': 42}\n",
      " 80%|████████  | 4/5 [00:31<00:08,  8.38s/trial, best loss: -0.40131969784645705]"
     ]
    },
    {
     "name": "stderr",
     "output_type": "stream",
     "text": [
      "/home/renan/miniconda3/lib/python3.12/site-packages/sklearn/metrics/_classification.py:1565: UndefinedMetricWarning: Precision is ill-defined and being set to 0.0 in labels with no predicted samples. Use `zero_division` parameter to control this behavior.\n",
      "  _warn_prf(average, modifier, f\"{metric.capitalize()} is\", len(result))\n",
      "\n"
     ]
    },
    {
     "name": "stdout",
     "output_type": "stream",
     "text": [
      "🏃 View run XGBClassifier_{'learning_rate': 0.01, 'max_depth': 5, 'n_estimators': 700, 'random_state': 42} at: http://127.0.0.1:8080/#/experiments/339489166525188628/runs/8ec42b08cdb44a51b7b693504e4d6ecd\n",
      "\n",
      "🧪 View experiment at: http://127.0.0.1:8080/#/experiments/339489166525188628    \n",
      "\n",
      "100%|██████████| 5/5 [00:37<00:00,  7.55s/trial, best loss: -0.40131969784645705]\n",
      "🏃 View run xgb-sweep at: http://127.0.0.1:8080/#/experiments/339489166525188628/runs/15ee4321853346d89320159e72d27843\n",
      "🧪 View experiment at: http://127.0.0.1:8080/#/experiments/339489166525188628\n"
     ]
    },
    {
     "data": {
      "text/plain": [
       "0.40131969784645705"
      ]
     },
     "execution_count": 27,
     "metadata": {},
     "output_type": "execute_result"
    }
   ],
   "source": [
    "model = RandomForestClassifier\n",
    "run_experiments('rf-sweep', max_evals=max_evals, search_space=search_space_rf, data_name=data_name, model_name = 'RandomForestClassifier', features_names=columns_to_keep)\n",
    "model = SVC\n",
    "run_experiments('svc-sweep', max_evals=max_evals, search_space=search_space_svc, data_name=data_name, model_name = 'SVC', features_names=columns_to_keep)\n",
    "model = LinearSVC\n",
    "run_experiments('svc-linear-sweep', max_evals=max_evals, search_space=search_space_svc_linear, data_name=data_name, model_name = 'LinearSVC', features_names=columns_to_keep)\n",
    "model = xgb.XGBClassifier\n",
    "run_experiments('xgb-sweep', max_evals=max_evals, search_space=search_space_xgb, data_name=data_name, model_name = 'XGBClassifier', features_names=columns_to_keep)"
   ]
  },
  {
   "cell_type": "markdown",
   "id": "24d285d9",
   "metadata": {},
   "source": [
    "## Real + SUMO (20%)"
   ]
  },
  {
   "cell_type": "code",
   "execution_count": 28,
   "id": "0915f8d1",
   "metadata": {},
   "outputs": [],
   "source": [
    "sumo_uah_fixed_20 = preprocessor.fill_synthetic_data(sumo_uah_fixed, 0.2)\n",
    "sumo_uah_llm_20 = preprocessor.fill_synthetic_data(sumo_uah_llm, 0.2)"
   ]
  },
  {
   "cell_type": "code",
   "execution_count": 29,
   "id": "ae426d42",
   "metadata": {},
   "outputs": [],
   "source": [
    "# SUMO_UAH\n",
    "X_sumo_uah_fixed_20, y_sumo_uah_fixed_20 = preprocessor.sliding_windows(sumo_uah_fixed_20, window_size=window_size, step_size=step_size)\n",
    "X_sumo_uah_llm_20, y_sumo_uah_llm_20 = preprocessor.sliding_windows(sumo_uah_llm_20, window_size=window_size, step_size=step_size)"
   ]
  },
  {
   "cell_type": "code",
   "execution_count": 30,
   "id": "c9c11d86",
   "metadata": {},
   "outputs": [
    {
     "name": "stdout",
     "output_type": "stream",
     "text": [
      "Columns to keep for validation: ['acc', 'angle', 'speed', 'gyro_z', 'label']\n"
     ]
    }
   ],
   "source": [
    "# Getting the validation for SUMO variables\n",
    "columns_to_keep = sumo_uah_fixed_20.columns.tolist()\n",
    "print(\"Columns to keep for validation:\", columns_to_keep)\n",
    "\n",
    "X_val_base, y_val = preprocessor.sliding_windows(uah_validation[columns_to_keep], window_size=window_size, step_size=step_size)\n",
    "y_val = preprocessor.one_hot_encode(y_val, one_hot_keys=one_hot_keys)"
   ]
  },
  {
   "cell_type": "markdown",
   "id": "133dd3c5",
   "metadata": {},
   "source": [
    "### Fixed"
   ]
  },
  {
   "cell_type": "code",
   "execution_count": 31,
   "id": "5840afcb",
   "metadata": {},
   "outputs": [],
   "source": [
    "# Provide an Experiment description that will appear in the UI\n",
    "experiment_description = (\n",
    "    \"Experiment to train models on the UAH + SUMO Fixed (20%) dataset.\"\n",
    ")\n",
    "\n",
    "# Provide searchable tags that define characteristics of the Runs that\n",
    "# will be in this Experiment\n",
    "experiment_tags = {\n",
    "    \"project_name\": \"driver-behavior-prediction\",\n",
    "    \"mlflow.note.content\": experiment_description,\n",
    "}\n",
    "\n",
    "# Create the Experiment, providing a unique name\n",
    "try:\n",
    "    driver_behavior_experiment = client.create_experiment(\n",
    "        name=\"Driver_Behavior_Models_UAH_SUMO_Fixed_20\", tags=experiment_tags\n",
    "    )\n",
    "except mlflow.exceptions.RestException as e:\n",
    "    print(f\"Experiment already exists: {e}\")"
   ]
  },
  {
   "cell_type": "code",
   "execution_count": 32,
   "id": "43f2e1b5",
   "metadata": {},
   "outputs": [],
   "source": [
    "X_train, y_train = X_sumo_uah_fixed_20, y_sumo_uah_fixed_20\n",
    "\n",
    "scaler = StandardScaler()\n",
    "X_train = scaler.fit_transform(X_train)\n",
    "X_val = scaler.transform(X_val_base)\n",
    "y_train = preprocessor.one_hot_encode(y_train, one_hot_keys=one_hot_keys)\n",
    "\n",
    "signature = infer_signature(X_train, y_train)\n",
    "mlflow.set_experiment('Driver_Behavior_Models_UAH_SUMO_Fixed_20')\n",
    "data_name = 'UAH_SUMO_Fixed_20'"
   ]
  },
  {
   "cell_type": "code",
   "execution_count": 33,
   "id": "9eb54c1b",
   "metadata": {},
   "outputs": [
    {
     "name": "stdout",
     "output_type": "stream",
     "text": [
      "This will run 5 trials to find optimal hyperparameters...\n",
      "Params: {'max_depth': 10, 'n_estimators': 200, 'random_state': 42}\n",
      "🏃 View run RandomForestClassifier_{'max_depth': 10, 'n_estimators': 200, 'random_state': 42} at: http://127.0.0.1:8080/#/experiments/466256615552701962/runs/2a97cc758d57472fb6e6357fae49a854\n",
      "\n",
      "🧪 View experiment at: http://127.0.0.1:8080/#/experiments/466256615552701962\n",
      "\n",
      "Params: {'max_depth': 50, 'n_estimators': 200, 'random_state': 42}              \n",
      "🏃 View run RandomForestClassifier_{'max_depth': 50, 'n_estimators': 200, 'random_state': 42} at: http://127.0.0.1:8080/#/experiments/466256615552701962/runs/0c075ebb9bc74c509cb15e5f9d896fab\n",
      "\n",
      "🧪 View experiment at: http://127.0.0.1:8080/#/experiments/466256615552701962   \n",
      "\n",
      "Params: {'max_depth': None, 'n_estimators': 200, 'random_state': 42}            \n",
      "🏃 View run RandomForestClassifier_{'max_depth': None, 'n_estimators': 200, 'random_state': 42} at: http://127.0.0.1:8080/#/experiments/466256615552701962/runs/9f777a2913904edbbc19f8c83a7f7054\n",
      "\n",
      "🧪 View experiment at: http://127.0.0.1:8080/#/experiments/466256615552701962   \n",
      "\n",
      "Params: {'max_depth': 10, 'n_estimators': 20, 'random_state': 42}               \n",
      "🏃 View run RandomForestClassifier_{'max_depth': 10, 'n_estimators': 20, 'random_state': 42} at: http://127.0.0.1:8080/#/experiments/466256615552701962/runs/ba2345c89b5f4772a65524e66cd1265a\n",
      "\n",
      "🧪 View experiment at: http://127.0.0.1:8080/#/experiments/466256615552701962   \n",
      "\n",
      "Params: {'max_depth': 5, 'n_estimators': 20, 'random_state': 42}                \n",
      "🏃 View run RandomForestClassifier_{'max_depth': 5, 'n_estimators': 20, 'random_state': 42} at: http://127.0.0.1:8080/#/experiments/466256615552701962/runs/52797705a92e496f868be60b93ce21d3\n",
      "\n",
      "🧪 View experiment at: http://127.0.0.1:8080/#/experiments/466256615552701962   \n",
      "\n",
      "100%|██████████| 5/5 [01:00<00:00, 12.13s/trial, best loss: -0.6760790991259854]\n",
      "🏃 View run rf-sweep at: http://127.0.0.1:8080/#/experiments/466256615552701962/runs/3311b54d37c04350b97dffabc51864e2\n",
      "🧪 View experiment at: http://127.0.0.1:8080/#/experiments/466256615552701962\n",
      "This will run 5 trials to find optimal hyperparameters...\n",
      "Params: {'C': 0.5, 'gamma': 0.001, 'kernel': 'rbf'}  \n",
      "🏃 View run SVC_{'C': 0.5, 'gamma': 0.001, 'kernel': 'rbf'} at: http://127.0.0.1:8080/#/experiments/466256615552701962/runs/0e1e37116175458e948fd922cf8b7b60\n",
      "\n",
      "🧪 View experiment at: http://127.0.0.1:8080/#/experiments/466256615552701962\n",
      "\n",
      "Params: {'C': 0.01, 'gamma': 0.001, 'kernel': 'rbf'}                            \n",
      "🏃 View run SVC_{'C': 0.01, 'gamma': 0.001, 'kernel': 'rbf'} at: http://127.0.0.1:8080/#/experiments/466256615552701962/runs/b2f03ef2551540debb36ab7b251ea881\n",
      "\n",
      "🧪 View experiment at: http://127.0.0.1:8080/#/experiments/466256615552701962   \n",
      "\n",
      "Params: {'C': 0.01, 'gamma': 0.01, 'kernel': 'rbf'}                             \n",
      "🏃 View run SVC_{'C': 0.01, 'gamma': 0.01, 'kernel': 'rbf'} at: http://127.0.0.1:8080/#/experiments/466256615552701962/runs/2dd3f3fe7a194ea98909439519cf44d4\n",
      "\n",
      "🧪 View experiment at: http://127.0.0.1:8080/#/experiments/466256615552701962   \n",
      "\n",
      "Params: {'C': 0.1, 'gamma': 0.001, 'kernel': 'rbf'}                             \n",
      "🏃 View run SVC_{'C': 0.1, 'gamma': 0.001, 'kernel': 'rbf'} at: http://127.0.0.1:8080/#/experiments/466256615552701962/runs/54cd9176c0a5423098f76d774097aa3f\n",
      "\n",
      "🧪 View experiment at: http://127.0.0.1:8080/#/experiments/466256615552701962   \n",
      "\n",
      "Params: {'C': 0.05, 'gamma': 10, 'kernel': 'rbf'}                               \n",
      " 80%|████████  | 4/5 [01:21<00:20, 20.35s/trial, best loss: -0.7087121973722031]"
     ]
    },
    {
     "name": "stderr",
     "output_type": "stream",
     "text": [
      "/home/renan/miniconda3/lib/python3.12/site-packages/sklearn/metrics/_classification.py:1565: UndefinedMetricWarning: Precision is ill-defined and being set to 0.0 in labels with no predicted samples. Use `zero_division` parameter to control this behavior.\n",
      "  _warn_prf(average, modifier, f\"{metric.capitalize()} is\", len(result))\n",
      "\n"
     ]
    },
    {
     "name": "stdout",
     "output_type": "stream",
     "text": [
      "🏃 View run SVC_{'C': 0.05, 'gamma': 10, 'kernel': 'rbf'} at: http://127.0.0.1:8080/#/experiments/466256615552701962/runs/1338367f8f194a98b97976a15b2fc42e\n",
      "\n",
      "🧪 View experiment at: http://127.0.0.1:8080/#/experiments/466256615552701962   \n",
      "\n",
      "100%|██████████| 5/5 [02:26<00:00, 29.38s/trial, best loss: -0.7087121973722031]\n",
      "🏃 View run svc-sweep at: http://127.0.0.1:8080/#/experiments/466256615552701962/runs/45a49c808abc41feaf16d913c16461ea\n",
      "🧪 View experiment at: http://127.0.0.1:8080/#/experiments/466256615552701962\n",
      "This will run 5 trials to find optimal hyperparameters...\n",
      "Params: {'C': 0.0001}                                \n",
      "🏃 View run LinearSVC_{'C': 0.0001} at: http://127.0.0.1:8080/#/experiments/466256615552701962/runs/9c94c73f5dc5453286e8411ffb692faa\n",
      "\n",
      "🧪 View experiment at: http://127.0.0.1:8080/#/experiments/466256615552701962\n",
      "\n",
      "Params: {'C': 1}                                                                \n",
      "🏃 View run LinearSVC_{'C': 1} at: http://127.0.0.1:8080/#/experiments/466256615552701962/runs/a7aa3b1bff024ecfa41b83214756976f\n",
      "\n",
      "🧪 View experiment at: http://127.0.0.1:8080/#/experiments/466256615552701962   \n",
      "\n",
      "Params: {'C': 0.001}                                                            \n",
      "🏃 View run LinearSVC_{'C': 0.001} at: http://127.0.0.1:8080/#/experiments/466256615552701962/runs/32eb91c1732946c2be71662909e3cd79\n",
      "\n",
      "🧪 View experiment at: http://127.0.0.1:8080/#/experiments/466256615552701962   \n",
      "\n",
      "Params: {'C': 0.1}                                                              \n",
      "🏃 View run LinearSVC_{'C': 0.1} at: http://127.0.0.1:8080/#/experiments/466256615552701962/runs/186daa2c14d14d2c9601605c931f8bd2\n",
      "\n",
      "🧪 View experiment at: http://127.0.0.1:8080/#/experiments/466256615552701962   \n",
      "\n",
      "Params: {'C': 0.1}                                                              \n",
      "🏃 View run LinearSVC_{'C': 0.1} at: http://127.0.0.1:8080/#/experiments/466256615552701962/runs/ea1c7a614fd144f3a59746e883b6f709\n",
      "\n",
      "🧪 View experiment at: http://127.0.0.1:8080/#/experiments/466256615552701962   \n",
      "\n",
      "100%|██████████| 5/5 [00:07<00:00,  1.58s/trial, best loss: -0.6779997405101337]\n",
      "🏃 View run svc-linear-sweep at: http://127.0.0.1:8080/#/experiments/466256615552701962/runs/6a7257008e08490c9d15dd2dd8c606f0\n",
      "🧪 View experiment at: http://127.0.0.1:8080/#/experiments/466256615552701962\n",
      "This will run 5 trials to find optimal hyperparameters...\n",
      "Params: {'learning_rate': 0.01, 'max_depth': 5, 'n_estimators': 700, 'random_state': 42}\n",
      "🏃 View run XGBClassifier_{'learning_rate': 0.01, 'max_depth': 5, 'n_estimators': 700, 'random_state': 42} at: http://127.0.0.1:8080/#/experiments/466256615552701962/runs/6da14fda6fbc40e6b0e7510c0ec349f3\n",
      "\n",
      "🧪 View experiment at: http://127.0.0.1:8080/#/experiments/466256615552701962\n",
      "\n",
      "Params: {'learning_rate': 0.1, 'max_depth': None, 'n_estimators': 1000, 'random_state': 42}\n",
      "🏃 View run XGBClassifier_{'learning_rate': 0.1, 'max_depth': None, 'n_estimators': 1000, 'random_state': 42} at: http://127.0.0.1:8080/#/experiments/466256615552701962/runs/434188b5952d4682970e9ed96acb90d5\n",
      "\n",
      "🧪 View experiment at: http://127.0.0.1:8080/#/experiments/466256615552701962   \n",
      "\n",
      "Params: {'learning_rate': 0.3, 'max_depth': 5, 'n_estimators': 700, 'random_state': 42}\n",
      "🏃 View run XGBClassifier_{'learning_rate': 0.3, 'max_depth': 5, 'n_estimators': 700, 'random_state': 42} at: http://127.0.0.1:8080/#/experiments/466256615552701962/runs/00e60de209af41a68e76ddd7ce7009d1\n",
      "\n",
      "🧪 View experiment at: http://127.0.0.1:8080/#/experiments/466256615552701962   \n",
      "\n",
      "Params: {'learning_rate': 0.01, 'max_depth': None, 'n_estimators': 200, 'random_state': 42}\n",
      "🏃 View run XGBClassifier_{'learning_rate': 0.01, 'max_depth': None, 'n_estimators': 200, 'random_state': 42} at: http://127.0.0.1:8080/#/experiments/466256615552701962/runs/75e238f73cba4dd7af54ac29c9faee34\n",
      "\n",
      "🧪 View experiment at: http://127.0.0.1:8080/#/experiments/466256615552701962   \n",
      "\n",
      "Params: {'learning_rate': 0.4, 'max_depth': None, 'n_estimators': 1000, 'random_state': 42}\n",
      "🏃 View run XGBClassifier_{'learning_rate': 0.4, 'max_depth': None, 'n_estimators': 1000, 'random_state': 42} at: http://127.0.0.1:8080/#/experiments/466256615552701962/runs/afc6af09accf4540bd30cef6c64f7270\n",
      "\n",
      "🧪 View experiment at: http://127.0.0.1:8080/#/experiments/466256615552701962   \n",
      "\n",
      "100%|██████████| 5/5 [00:23<00:00,  4.63s/trial, best loss: -0.7027595665857383]\n",
      "🏃 View run xgb-sweep at: http://127.0.0.1:8080/#/experiments/466256615552701962/runs/98095c7ea5114655a33ea0afd2392938\n",
      "🧪 View experiment at: http://127.0.0.1:8080/#/experiments/466256615552701962\n"
     ]
    },
    {
     "data": {
      "text/plain": [
       "0.7027595665857383"
      ]
     },
     "execution_count": 33,
     "metadata": {},
     "output_type": "execute_result"
    }
   ],
   "source": [
    "model = RandomForestClassifier\n",
    "run_experiments('rf-sweep', max_evals=max_evals, search_space=search_space_rf, data_name=data_name, model_name = 'RandomForestClassifier', features_names=columns_to_keep)\n",
    "model = SVC\n",
    "run_experiments('svc-sweep', max_evals=max_evals, search_space=search_space_svc, data_name=data_name, model_name = 'SVC', features_names=columns_to_keep)\n",
    "model = LinearSVC\n",
    "run_experiments('svc-linear-sweep', max_evals=max_evals, search_space=search_space_svc_linear, data_name=data_name, model_name = 'LinearSVC', features_names=columns_to_keep)\n",
    "model = xgb.XGBClassifier\n",
    "run_experiments('xgb-sweep', max_evals=max_evals, search_space=search_space_xgb, data_name=data_name, model_name = 'XGBClassifier', features_names=columns_to_keep)"
   ]
  },
  {
   "cell_type": "markdown",
   "id": "d86358b9",
   "metadata": {},
   "source": [
    "### LLM"
   ]
  },
  {
   "cell_type": "code",
   "execution_count": 34,
   "id": "fd056ed3",
   "metadata": {},
   "outputs": [],
   "source": [
    "# Provide an Experiment description that will appear in the UI\n",
    "experiment_description = (\n",
    "    \"Experiment to train models on the UAH + SUMO LLM (20%) dataset.\"\n",
    ")\n",
    "\n",
    "# Provide searchable tags that define characteristics of the Runs that\n",
    "# will be in this Experiment\n",
    "experiment_tags = {\n",
    "    \"project_name\": \"driver-behavior-prediction\",\n",
    "    \"mlflow.note.content\": experiment_description,\n",
    "}\n",
    "\n",
    "# Create the Experiment, providing a unique name\n",
    "try:\n",
    "    driver_behavior_experiment = client.create_experiment(\n",
    "        name=\"Driver_Behavior_Models_UAH_SUMO_LLM_20\", tags=experiment_tags\n",
    "    )\n",
    "except mlflow.exceptions.RestException as e:\n",
    "    print(f\"Experiment already exists: {e}\")"
   ]
  },
  {
   "cell_type": "code",
   "execution_count": 35,
   "id": "8e51b1e2",
   "metadata": {},
   "outputs": [],
   "source": [
    "X_train, y_train = X_sumo_uah_llm_20, y_sumo_uah_llm_20\n",
    "\n",
    "scaler = StandardScaler()\n",
    "X_train = scaler.fit_transform(X_train)\n",
    "X_val = scaler.transform(X_val_base)\n",
    "y_train = preprocessor.one_hot_encode(y_train, one_hot_keys=one_hot_keys)\n",
    "\n",
    "signature = infer_signature(X_train, y_train)\n",
    "mlflow.set_experiment('Driver_Behavior_Models_UAH_SUMO_LLM_20')\n",
    "data_name = 'UAH_SUMO_LLM_20'"
   ]
  },
  {
   "cell_type": "code",
   "execution_count": 36,
   "id": "ee354ab5",
   "metadata": {},
   "outputs": [
    {
     "name": "stdout",
     "output_type": "stream",
     "text": [
      "This will run 5 trials to find optimal hyperparameters...\n",
      "Params: {'max_depth': 5, 'n_estimators': 200, 'random_state': 42}\n",
      "🏃 View run RandomForestClassifier_{'max_depth': 5, 'n_estimators': 200, 'random_state': 42} at: http://127.0.0.1:8080/#/experiments/870626999030178392/runs/8e108fd2ed4a4501a23f0bf4493c1e7d\n",
      "\n",
      "🧪 View experiment at: http://127.0.0.1:8080/#/experiments/870626999030178392\n",
      "\n",
      "Params: {'max_depth': 20, 'n_estimators': 200, 'random_state': 42}              \n",
      "🏃 View run RandomForestClassifier_{'max_depth': 20, 'n_estimators': 200, 'random_state': 42} at: http://127.0.0.1:8080/#/experiments/870626999030178392/runs/22fb2e0d893345b8b6637b0185c8a647\n",
      "\n",
      "🧪 View experiment at: http://127.0.0.1:8080/#/experiments/870626999030178392   \n",
      "\n",
      "Params: {'max_depth': 20, 'n_estimators': 500, 'random_state': 42}              \n",
      "🏃 View run RandomForestClassifier_{'max_depth': 20, 'n_estimators': 500, 'random_state': 42} at: http://127.0.0.1:8080/#/experiments/870626999030178392/runs/d707626ddee94fd599a64097d540f3dc\n",
      "\n",
      "🧪 View experiment at: http://127.0.0.1:8080/#/experiments/870626999030178392   \n",
      "\n",
      "Params: {'max_depth': None, 'n_estimators': 20, 'random_state': 42}             \n",
      "🏃 View run RandomForestClassifier_{'max_depth': None, 'n_estimators': 20, 'random_state': 42} at: http://127.0.0.1:8080/#/experiments/870626999030178392/runs/4f6554ce1a3a40218f2dc67231b616c9\n",
      "\n",
      "🧪 View experiment at: http://127.0.0.1:8080/#/experiments/870626999030178392   \n",
      "\n",
      "Params: {'max_depth': 5, 'n_estimators': 500, 'random_state': 42}               \n",
      "🏃 View run RandomForestClassifier_{'max_depth': 5, 'n_estimators': 500, 'random_state': 42} at: http://127.0.0.1:8080/#/experiments/870626999030178392/runs/e942f83c5e7749eaa7533b465f4b99f3\n",
      "\n",
      "🧪 View experiment at: http://127.0.0.1:8080/#/experiments/870626999030178392   \n",
      "\n",
      "100%|██████████| 5/5 [01:38<00:00, 19.76s/trial, best loss: -0.6453009401767046]\n",
      "🏃 View run rf-sweep at: http://127.0.0.1:8080/#/experiments/870626999030178392/runs/0705fc82a5064be3abc79cd5ac9d9541\n",
      "🧪 View experiment at: http://127.0.0.1:8080/#/experiments/870626999030178392\n",
      "This will run 5 trials to find optimal hyperparameters...\n",
      "Params: {'C': 0.1, 'gamma': 0.001, 'kernel': 'rbf'}  \n",
      "🏃 View run SVC_{'C': 0.1, 'gamma': 0.001, 'kernel': 'rbf'} at: http://127.0.0.1:8080/#/experiments/870626999030178392/runs/461419b3d0e24c4287ac5ff3b6e78b71\n",
      "\n",
      "🧪 View experiment at: http://127.0.0.1:8080/#/experiments/870626999030178392\n",
      "\n",
      "Params: {'C': 0.05, 'gamma': 0.1, 'kernel': 'rbf'}                             \n",
      "🏃 View run SVC_{'C': 0.05, 'gamma': 0.1, 'kernel': 'rbf'} at: http://127.0.0.1:8080/#/experiments/870626999030178392/runs/d93099262f5f470099d3f2f5f148a53b\n",
      "\n",
      "🧪 View experiment at: http://127.0.0.1:8080/#/experiments/870626999030178392  \n",
      "\n",
      "Params: {'C': 0.1, 'gamma': 0.1, 'kernel': 'rbf'}                               \n",
      "🏃 View run SVC_{'C': 0.1, 'gamma': 0.1, 'kernel': 'rbf'} at: http://127.0.0.1:8080/#/experiments/870626999030178392/runs/ddf6a02625ed41bc9dc51344a9190617\n",
      "\n",
      "🧪 View experiment at: http://127.0.0.1:8080/#/experiments/870626999030178392   \n",
      "\n",
      "Params: {'C': 1, 'gamma': 0.1, 'kernel': 'rbf'}                                 \n",
      "🏃 View run SVC_{'C': 1, 'gamma': 0.1, 'kernel': 'rbf'} at: http://127.0.0.1:8080/#/experiments/870626999030178392/runs/d84c42a2e6554234a1ed10a7be66d640\n",
      "\n",
      "🧪 View experiment at: http://127.0.0.1:8080/#/experiments/870626999030178392   \n",
      "\n",
      "Params: {'C': 0.05, 'gamma': 0.01, 'kernel': 'rbf'}                             \n",
      "🏃 View run SVC_{'C': 0.05, 'gamma': 0.01, 'kernel': 'rbf'} at: http://127.0.0.1:8080/#/experiments/870626999030178392/runs/a2267600b6df44f4a482705bc8561c57\n",
      "\n",
      "🧪 View experiment at: http://127.0.0.1:8080/#/experiments/870626999030178392   \n",
      "\n",
      "100%|██████████| 5/5 [01:26<00:00, 17.34s/trial, best loss: -0.7108327680485966]\n",
      "🏃 View run svc-sweep at: http://127.0.0.1:8080/#/experiments/870626999030178392/runs/68c2569c61d14c7d8a1c6b8ce73d5d8a\n",
      "🧪 View experiment at: http://127.0.0.1:8080/#/experiments/870626999030178392\n",
      "This will run 5 trials to find optimal hyperparameters...\n",
      "Params: {'C': 0.01}                                  \n",
      "🏃 View run LinearSVC_{'C': 0.01} at: http://127.0.0.1:8080/#/experiments/870626999030178392/runs/46219ab9d89f440b8f86cbd537850a42\n",
      "\n",
      "🧪 View experiment at: http://127.0.0.1:8080/#/experiments/870626999030178392\n",
      "\n",
      "Params: {'C': 1}                                                                \n",
      "🏃 View run LinearSVC_{'C': 1} at: http://127.0.0.1:8080/#/experiments/870626999030178392/runs/291182f06dab4f07981ff30c48ce0fb0\n",
      "\n",
      "🧪 View experiment at: http://127.0.0.1:8080/#/experiments/870626999030178392   \n",
      "\n",
      "Params: {'C': 0.001}                                                            \n",
      "🏃 View run LinearSVC_{'C': 0.001} at: http://127.0.0.1:8080/#/experiments/870626999030178392/runs/0983a108b36d4f7e876ccfd45b3c8235\n",
      "\n",
      "🧪 View experiment at: http://127.0.0.1:8080/#/experiments/870626999030178392   \n",
      "\n",
      "Params: {'C': 0.01}                                                             \n",
      "🏃 View run LinearSVC_{'C': 0.01} at: http://127.0.0.1:8080/#/experiments/870626999030178392/runs/df3412f911d742aa8f5710b0ea36e493\n",
      "\n",
      "🧪 View experiment at: http://127.0.0.1:8080/#/experiments/870626999030178392   \n",
      "\n",
      "Params: {'C': 0.01}                                                             \n",
      "🏃 View run LinearSVC_{'C': 0.01} at: http://127.0.0.1:8080/#/experiments/870626999030178392/runs/4e76160acbd4405a82cdcfdfd06ade63\n",
      "\n",
      "🧪 View experiment at: http://127.0.0.1:8080/#/experiments/870626999030178392   \n",
      "\n",
      "100%|██████████| 5/5 [00:07<00:00,  1.54s/trial, best loss: -0.6667375956692713]\n",
      "🏃 View run svc-linear-sweep at: http://127.0.0.1:8080/#/experiments/870626999030178392/runs/cc50ac213f074ea9a598f20f51411884\n",
      "🧪 View experiment at: http://127.0.0.1:8080/#/experiments/870626999030178392\n",
      "This will run 5 trials to find optimal hyperparameters...\n",
      "Params: {'learning_rate': 0.2, 'max_depth': 10, 'n_estimators': 700, 'random_state': 42}\n",
      "🏃 View run XGBClassifier_{'learning_rate': 0.2, 'max_depth': 10, 'n_estimators': 700, 'random_state': 42} at: http://127.0.0.1:8080/#/experiments/870626999030178392/runs/5e4ae4707a5d4e7689b8dc9c2cc2e661\n",
      "\n",
      "🧪 View experiment at: http://127.0.0.1:8080/#/experiments/870626999030178392\n",
      "\n",
      "Params: {'learning_rate': 0.2, 'max_depth': 10, 'n_estimators': 1000, 'random_state': 42}\n",
      "🏃 View run XGBClassifier_{'learning_rate': 0.2, 'max_depth': 10, 'n_estimators': 1000, 'random_state': 42} at: http://127.0.0.1:8080/#/experiments/870626999030178392/runs/a36e2a5207d44ad7aef1d9e374793124\n",
      "\n",
      "🧪 View experiment at: http://127.0.0.1:8080/#/experiments/870626999030178392   \n",
      "\n",
      "Params: {'learning_rate': 0.2, 'max_depth': None, 'n_estimators': 200, 'random_state': 42}\n",
      "🏃 View run XGBClassifier_{'learning_rate': 0.2, 'max_depth': None, 'n_estimators': 200, 'random_state': 42} at: http://127.0.0.1:8080/#/experiments/870626999030178392/runs/cf86160437bd412cb0d47406083e4633\n",
      "\n",
      "🧪 View experiment at: http://127.0.0.1:8080/#/experiments/870626999030178392   \n",
      "\n",
      "Params: {'learning_rate': 0.1, 'max_depth': None, 'n_estimators': 1000, 'random_state': 42}\n",
      "🏃 View run XGBClassifier_{'learning_rate': 0.1, 'max_depth': None, 'n_estimators': 1000, 'random_state': 42} at: http://127.0.0.1:8080/#/experiments/870626999030178392/runs/ceaafdaf7f63457ba3f8b526091486dc\n",
      "\n",
      "🧪 View experiment at: http://127.0.0.1:8080/#/experiments/870626999030178392   \n",
      "\n",
      "Params: {'learning_rate': 0.01, 'max_depth': None, 'n_estimators': 200, 'random_state': 42}\n",
      "🏃 View run XGBClassifier_{'learning_rate': 0.01, 'max_depth': None, 'n_estimators': 200, 'random_state': 42} at: http://127.0.0.1:8080/#/experiments/870626999030178392/runs/b337352f8e154c9596715424a2ded7bf\n",
      "\n",
      "🧪 View experiment at: http://127.0.0.1:8080/#/experiments/870626999030178392   \n",
      "\n",
      "100%|██████████| 5/5 [00:24<00:00,  4.94s/trial, best loss: -0.6810211254531792]\n",
      "🏃 View run xgb-sweep at: http://127.0.0.1:8080/#/experiments/870626999030178392/runs/1959531fd668441089c34a09a0f5d8a9\n",
      "🧪 View experiment at: http://127.0.0.1:8080/#/experiments/870626999030178392\n"
     ]
    },
    {
     "data": {
      "text/plain": [
       "0.6810211254531792"
      ]
     },
     "execution_count": 36,
     "metadata": {},
     "output_type": "execute_result"
    }
   ],
   "source": [
    "model = RandomForestClassifier\n",
    "run_experiments('rf-sweep', max_evals=max_evals, search_space=search_space_rf, data_name=data_name, model_name = 'RandomForestClassifier', features_names=columns_to_keep)\n",
    "model = SVC\n",
    "run_experiments('svc-sweep', max_evals=max_evals, search_space=search_space_svc, data_name=data_name, model_name = 'SVC', features_names=columns_to_keep)\n",
    "model = LinearSVC\n",
    "run_experiments('svc-linear-sweep', max_evals=max_evals, search_space=search_space_svc_linear, data_name=data_name, model_name = 'LinearSVC', features_names=columns_to_keep)\n",
    "model = xgb.XGBClassifier\n",
    "run_experiments('xgb-sweep', max_evals=max_evals, search_space=search_space_xgb, data_name=data_name, model_name = 'XGBClassifier', features_names=columns_to_keep)"
   ]
  },
  {
   "cell_type": "markdown",
   "id": "a6dbf3c9",
   "metadata": {},
   "source": [
    "## Real + CARLA (20%)"
   ]
  },
  {
   "cell_type": "code",
   "execution_count": 37,
   "id": "17aac6c2",
   "metadata": {},
   "outputs": [],
   "source": [
    "carla_uah_fixed_20 = preprocessor.fill_synthetic_data(carla_uah_fixed, 0.2)\n",
    "carla_uah_llm_20 = preprocessor.fill_synthetic_data(carla_uah_llm, 0.2)"
   ]
  },
  {
   "cell_type": "code",
   "execution_count": 38,
   "id": "98008243",
   "metadata": {},
   "outputs": [],
   "source": [
    "# CARLA_UAH\n",
    "X_carla_uah_fixed_20, y_carla_uah_fixed_20 = preprocessor.sliding_windows(carla_uah_fixed_20, window_size=window_size, step_size=step_size)\n",
    "X_carla_uah_llm_20, y_carla_uah_llm_20 = preprocessor.sliding_windows(carla_uah_llm_20, window_size=window_size, step_size=step_size)"
   ]
  },
  {
   "cell_type": "code",
   "execution_count": 39,
   "id": "425a7357",
   "metadata": {},
   "outputs": [
    {
     "name": "stdout",
     "output_type": "stream",
     "text": [
      "Columns to keep for validation: ['acc_x', 'acc_y', 'acc_z', 'gyro_x', 'gyro_y', 'gyro_z', 'angle', 'label']\n"
     ]
    }
   ],
   "source": [
    "# Getting the validation for SUMO variables\n",
    "columns_to_keep = carla_uah_fixed_20.columns.tolist()\n",
    "print(\"Columns to keep for validation:\", columns_to_keep)\n",
    "\n",
    "X_val_base, y_val = preprocessor.sliding_windows(uah_validation[columns_to_keep], window_size=window_size, step_size=step_size)\n",
    "y_val = preprocessor.one_hot_encode(y_val, one_hot_keys=one_hot_keys)"
   ]
  },
  {
   "cell_type": "markdown",
   "id": "185dd9cd",
   "metadata": {},
   "source": [
    "### Fixed"
   ]
  },
  {
   "cell_type": "code",
   "execution_count": 40,
   "id": "9632d59f",
   "metadata": {},
   "outputs": [],
   "source": [
    "# Provide an Experiment description that will appear in the UI\n",
    "experiment_description = (\n",
    "    \"Experiment to train models on the UAH + CARLA Fixed (20%) dataset.\"\n",
    ")\n",
    "\n",
    "# Provide searchable tags that define characteristics of the Runs that\n",
    "# will be in this Experiment\n",
    "experiment_tags = {\n",
    "    \"project_name\": \"driver-behavior-prediction\",\n",
    "    \"mlflow.note.content\": experiment_description,\n",
    "}\n",
    "\n",
    "# Create the Experiment, providing a unique name\n",
    "try:\n",
    "    driver_behavior_experiment = client.create_experiment(\n",
    "        name=\"Driver_Behavior_Models_UAH_CARLA_Fixed_20\", tags=experiment_tags\n",
    "    )\n",
    "except mlflow.exceptions.RestException as e:\n",
    "    print(f\"Experiment already exists: {e}\")"
   ]
  },
  {
   "cell_type": "code",
   "execution_count": 41,
   "id": "636373b3",
   "metadata": {},
   "outputs": [],
   "source": [
    "X_train, y_train = X_carla_uah_fixed_20, y_carla_uah_fixed_20\n",
    "\n",
    "scaler = StandardScaler()\n",
    "X_train = scaler.fit_transform(X_train)\n",
    "X_val = scaler.transform(X_val_base)\n",
    "y_train = preprocessor.one_hot_encode(y_train, one_hot_keys=one_hot_keys)\n",
    "\n",
    "signature = infer_signature(X_train, y_train)\n",
    "mlflow.set_experiment('Driver_Behavior_Models_UAH_CARLA_Fixed_20')\n",
    "data_name = 'UAH_CARLA_Fixed_20'"
   ]
  },
  {
   "cell_type": "code",
   "execution_count": 42,
   "id": "5181988e",
   "metadata": {},
   "outputs": [
    {
     "name": "stdout",
     "output_type": "stream",
     "text": [
      "This will run 5 trials to find optimal hyperparameters...\n",
      "Params: {'max_depth': 5, 'n_estimators': 50, 'random_state': 42}\n",
      "🏃 View run RandomForestClassifier_{'max_depth': 5, 'n_estimators': 50, 'random_state': 42} at: http://127.0.0.1:8080/#/experiments/435216938818414363/runs/010615483d9a4396b3ee6f39862e0bb2\n",
      "\n",
      "🧪 View experiment at: http://127.0.0.1:8080/#/experiments/435216938818414363\n",
      "\n",
      "Params: {'max_depth': None, 'n_estimators': 100, 'random_state': 42}            \n",
      "🏃 View run RandomForestClassifier_{'max_depth': None, 'n_estimators': 100, 'random_state': 42} at: http://127.0.0.1:8080/#/experiments/435216938818414363/runs/31c7307f34dd42748569b72cba2cbb00\n",
      "\n",
      "🧪 View experiment at: http://127.0.0.1:8080/#/experiments/435216938818414363   \n",
      "\n",
      "Params: {'max_depth': 20, 'n_estimators': 500, 'random_state': 42}              \n",
      "🏃 View run RandomForestClassifier_{'max_depth': 20, 'n_estimators': 500, 'random_state': 42} at: http://127.0.0.1:8080/#/experiments/435216938818414363/runs/85212756f3ec4777ad89ccfcd8716590\n",
      "\n",
      "🧪 View experiment at: http://127.0.0.1:8080/#/experiments/435216938818414363   \n",
      "\n",
      "Params: {'max_depth': 20, 'n_estimators': 20, 'random_state': 42}               \n",
      "🏃 View run RandomForestClassifier_{'max_depth': 20, 'n_estimators': 20, 'random_state': 42} at: http://127.0.0.1:8080/#/experiments/435216938818414363/runs/fed22b7bcbbf461b865518b842de705e\n",
      "\n",
      "🧪 View experiment at: http://127.0.0.1:8080/#/experiments/435216938818414363   \n",
      "\n",
      "Params: {'max_depth': None, 'n_estimators': 20, 'random_state': 42}             \n",
      "🏃 View run RandomForestClassifier_{'max_depth': None, 'n_estimators': 20, 'random_state': 42} at: http://127.0.0.1:8080/#/experiments/435216938818414363/runs/28c4abc151ef49ebbd3eaa5d30a91cfa\n",
      "\n",
      "🧪 View experiment at: http://127.0.0.1:8080/#/experiments/435216938818414363   \n",
      "\n",
      "100%|██████████| 5/5 [01:19<00:00, 16.00s/trial, best loss: -0.6347581324482445]\n",
      "🏃 View run rf-sweep at: http://127.0.0.1:8080/#/experiments/435216938818414363/runs/d48f5506ef294c85bd247a09ea4bd5ee\n",
      "🧪 View experiment at: http://127.0.0.1:8080/#/experiments/435216938818414363\n",
      "This will run 5 trials to find optimal hyperparameters...\n",
      "Params: {'C': 0.1, 'gamma': 0.1, 'kernel': 'rbf'}    \n",
      "🏃 View run SVC_{'C': 0.1, 'gamma': 0.1, 'kernel': 'rbf'} at: http://127.0.0.1:8080/#/experiments/435216938818414363/runs/18149db9592f408b82bbeb0957c87fe2\n",
      "\n",
      "🧪 View experiment at: http://127.0.0.1:8080/#/experiments/435216938818414363\n",
      "\n",
      "Params: {'C': 1, 'gamma': 0.1, 'kernel': 'rbf'}                                 \n",
      "🏃 View run SVC_{'C': 1, 'gamma': 0.1, 'kernel': 'rbf'} at: http://127.0.0.1:8080/#/experiments/435216938818414363/runs/120b70fce20d4cd8866e3c8c976f0de8\n",
      "\n",
      "🧪 View experiment at: http://127.0.0.1:8080/#/experiments/435216938818414363   \n",
      "\n",
      "Params: {'C': 1, 'gamma': 1, 'kernel': 'rbf'}                                   \n",
      " 40%|████      | 2/5 [02:01<03:15, 65.26s/trial, best loss: -0.5980641760820076]"
     ]
    },
    {
     "name": "stderr",
     "output_type": "stream",
     "text": [
      "/home/renan/miniconda3/lib/python3.12/site-packages/sklearn/metrics/_classification.py:1565: UndefinedMetricWarning: Precision is ill-defined and being set to 0.0 in labels with no predicted samples. Use `zero_division` parameter to control this behavior.\n",
      "  _warn_prf(average, modifier, f\"{metric.capitalize()} is\", len(result))\n",
      "\n"
     ]
    },
    {
     "name": "stdout",
     "output_type": "stream",
     "text": [
      "🏃 View run SVC_{'C': 1, 'gamma': 1, 'kernel': 'rbf'} at: http://127.0.0.1:8080/#/experiments/435216938818414363/runs/946db53cd94c41e89dab7ecefdea9833\n",
      "\n",
      "🧪 View experiment at: http://127.0.0.1:8080/#/experiments/435216938818414363   \n",
      "\n",
      "Params: {'C': 0.5, 'gamma': 0.01, 'kernel': 'rbf'}                              \n",
      "🏃 View run SVC_{'C': 0.5, 'gamma': 0.01, 'kernel': 'rbf'} at: http://127.0.0.1:8080/#/experiments/435216938818414363/runs/657907ce6c024a3a987031fb6a6e4f5a\n",
      "\n",
      "🧪 View experiment at: http://127.0.0.1:8080/#/experiments/435216938818414363   \n",
      "\n",
      "Params: {'C': 0.05, 'gamma': 0.001, 'kernel': 'rbf'}                            \n",
      "🏃 View run SVC_{'C': 0.05, 'gamma': 0.001, 'kernel': 'rbf'} at: http://127.0.0.1:8080/#/experiments/435216938818414363/runs/77ef50864f4443ce81afd611a221bc03\n",
      "\n",
      "🧪 View experiment at: http://127.0.0.1:8080/#/experiments/435216938818414363   \n",
      "\n",
      "100%|██████████| 5/5 [04:52<00:00, 58.51s/trial, best loss: -0.5980641760820076]\n",
      "🏃 View run svc-sweep at: http://127.0.0.1:8080/#/experiments/435216938818414363/runs/c354b96b875e4024ba6ce2ef7d7726d8\n",
      "🧪 View experiment at: http://127.0.0.1:8080/#/experiments/435216938818414363\n",
      "This will run 5 trials to find optimal hyperparameters...\n",
      "Params: {'C': 0.1}                                   \n",
      "🏃 View run LinearSVC_{'C': 0.1} at: http://127.0.0.1:8080/#/experiments/435216938818414363/runs/e6669a3a1836464cbb14a0785f36b4f6\n",
      "\n",
      "🧪 View experiment at: http://127.0.0.1:8080/#/experiments/435216938818414363\n",
      "\n",
      "Params: {'C': 0.001}                                                             \n",
      "🏃 View run LinearSVC_{'C': 0.001} at: http://127.0.0.1:8080/#/experiments/435216938818414363/runs/60f727c3c1b743949bc47bb8bfdcf8e7\n",
      "\n",
      "🧪 View experiment at: http://127.0.0.1:8080/#/experiments/435216938818414363    \n",
      "\n",
      "Params: {'C': 0.001}                                                             \n",
      "🏃 View run LinearSVC_{'C': 0.001} at: http://127.0.0.1:8080/#/experiments/435216938818414363/runs/837037be954c4e978629b18fca592843\n",
      "\n",
      "🧪 View experiment at: http://127.0.0.1:8080/#/experiments/435216938818414363    \n",
      "\n",
      "Params: {'C': 1}                                                                 \n",
      "🏃 View run LinearSVC_{'C': 1} at: http://127.0.0.1:8080/#/experiments/435216938818414363/runs/b960c8ca2bcd4008a2ab23567cc7f534\n",
      "\n",
      "🧪 View experiment at: http://127.0.0.1:8080/#/experiments/435216938818414363    \n",
      "\n",
      "Params: {'C': 0.0001}                                                            \n",
      "🏃 View run LinearSVC_{'C': 0.0001} at: http://127.0.0.1:8080/#/experiments/435216938818414363/runs/11baf0fca8664a20957abeb041ab9543\n",
      "\n",
      "🧪 View experiment at: http://127.0.0.1:8080/#/experiments/435216938818414363    \n",
      "\n",
      "100%|██████████| 5/5 [00:10<00:00,  2.07s/trial, best loss: -0.36407850705163947]\n",
      "🏃 View run svc-linear-sweep at: http://127.0.0.1:8080/#/experiments/435216938818414363/runs/b5f9edc27ec443efb25c0c5ea51c695b\n",
      "🧪 View experiment at: http://127.0.0.1:8080/#/experiments/435216938818414363\n",
      "This will run 5 trials to find optimal hyperparameters...\n",
      "Params: {'learning_rate': 0.3, 'max_depth': None, 'n_estimators': 500, 'random_state': 42}\n",
      "🏃 View run XGBClassifier_{'learning_rate': 0.3, 'max_depth': None, 'n_estimators': 500, 'random_state': 42} at: http://127.0.0.1:8080/#/experiments/435216938818414363/runs/78cf9ffa07b842deb2b38d467cf8151f\n",
      "\n",
      "🧪 View experiment at: http://127.0.0.1:8080/#/experiments/435216938818414363\n",
      "\n",
      "Params: {'learning_rate': 0.5, 'max_depth': 10, 'n_estimators': 700, 'random_state': 42}\n",
      "🏃 View run XGBClassifier_{'learning_rate': 0.5, 'max_depth': 10, 'n_estimators': 700, 'random_state': 42} at: http://127.0.0.1:8080/#/experiments/435216938818414363/runs/eecb8d40c0f84005a241ba4105d559a8\n",
      "\n",
      "🧪 View experiment at: http://127.0.0.1:8080/#/experiments/435216938818414363  \n",
      "\n",
      "Params: {'learning_rate': 0.3, 'max_depth': None, 'n_estimators': 200, 'random_state': 42}\n",
      "🏃 View run XGBClassifier_{'learning_rate': 0.3, 'max_depth': None, 'n_estimators': 200, 'random_state': 42} at: http://127.0.0.1:8080/#/experiments/435216938818414363/runs/a1ccf3bebd8e447bae8e936d6c1ddf32\n",
      "\n",
      "🧪 View experiment at: http://127.0.0.1:8080/#/experiments/435216938818414363  \n",
      "\n",
      "Params: {'learning_rate': 0.5, 'max_depth': 10, 'n_estimators': 1000, 'random_state': 42}\n",
      "🏃 View run XGBClassifier_{'learning_rate': 0.5, 'max_depth': 10, 'n_estimators': 1000, 'random_state': 42} at: http://127.0.0.1:8080/#/experiments/435216938818414363/runs/cd3550f3864f4e3eaaf8e890afeae6d0\n",
      "\n",
      "🧪 View experiment at: http://127.0.0.1:8080/#/experiments/435216938818414363   \n",
      "\n",
      "Params: {'learning_rate': 0.3, 'max_depth': 10, 'n_estimators': 1000, 'random_state': 42}\n",
      "🏃 View run XGBClassifier_{'learning_rate': 0.3, 'max_depth': 10, 'n_estimators': 1000, 'random_state': 42} at: http://127.0.0.1:8080/#/experiments/435216938818414363/runs/f5422945ae3e46f5bba309584ebe1593\n",
      "\n",
      "🧪 View experiment at: http://127.0.0.1:8080/#/experiments/435216938818414363   \n",
      "\n",
      "100%|██████████| 5/5 [00:36<00:00,  7.29s/trial, best loss: -0.6054982553607615]\n",
      "🏃 View run xgb-sweep at: http://127.0.0.1:8080/#/experiments/435216938818414363/runs/1672881f34f94186976cded05094f8b6\n",
      "🧪 View experiment at: http://127.0.0.1:8080/#/experiments/435216938818414363\n"
     ]
    },
    {
     "data": {
      "text/plain": [
       "0.6054982553607615"
      ]
     },
     "execution_count": 42,
     "metadata": {},
     "output_type": "execute_result"
    }
   ],
   "source": [
    "model = RandomForestClassifier\n",
    "run_experiments('rf-sweep', max_evals=max_evals, search_space=search_space_rf, data_name=data_name, model_name = 'RandomForestClassifier', features_names=columns_to_keep)\n",
    "model = SVC\n",
    "run_experiments('svc-sweep', max_evals=max_evals, search_space=search_space_svc, data_name=data_name, model_name = 'SVC', features_names=columns_to_keep)\n",
    "model = LinearSVC\n",
    "run_experiments('svc-linear-sweep', max_evals=max_evals, search_space=search_space_svc_linear, data_name=data_name, model_name = 'LinearSVC', features_names=columns_to_keep)\n",
    "model = xgb.XGBClassifier\n",
    "run_experiments('xgb-sweep', max_evals=max_evals, search_space=search_space_xgb, data_name=data_name, model_name = 'XGBClassifier', features_names=columns_to_keep)"
   ]
  },
  {
   "cell_type": "markdown",
   "id": "6c7c7c69",
   "metadata": {},
   "source": [
    "### LLM"
   ]
  },
  {
   "cell_type": "code",
   "execution_count": 43,
   "id": "71ab5872",
   "metadata": {},
   "outputs": [],
   "source": [
    "# Provide an Experiment description that will appear in the UI\n",
    "experiment_description = (\n",
    "    \"Experiment to train models on the UAH + CARLA LLM (20%) dataset.\"\n",
    ")\n",
    "\n",
    "# Provide searchable tags that define characteristics of the Runs that\n",
    "# will be in this Experiment\n",
    "experiment_tags = {\n",
    "    \"project_name\": \"driver-behavior-prediction\",\n",
    "    \"mlflow.note.content\": experiment_description,\n",
    "}\n",
    "\n",
    "# Create the Experiment, providing a unique name\n",
    "try:\n",
    "    driver_behavior_experiment = client.create_experiment(\n",
    "        name=\"Driver_Behavior_Models_UAH_CARLA_LLM_20\", tags=experiment_tags\n",
    "    )\n",
    "except mlflow.exceptions.RestException as e:\n",
    "    print(f\"Experiment already exists: {e}\")"
   ]
  },
  {
   "cell_type": "code",
   "execution_count": 44,
   "id": "61e34e16",
   "metadata": {},
   "outputs": [],
   "source": [
    "X_train, y_train = X_carla_uah_llm_20, y_carla_uah_llm_20\n",
    "\n",
    "scaler = StandardScaler()\n",
    "X_train = scaler.fit_transform(X_train)\n",
    "X_val = scaler.transform(X_val_base)\n",
    "y_train = preprocessor.one_hot_encode(y_train, one_hot_keys=one_hot_keys)\n",
    "\n",
    "signature = infer_signature(X_train, y_train)\n",
    "mlflow.set_experiment('Driver_Behavior_Models_UAH_CARLA_LLM_20')\n",
    "data_name = 'UAH_CARLA_LLM_20'"
   ]
  },
  {
   "cell_type": "code",
   "execution_count": 45,
   "id": "97311e4a",
   "metadata": {},
   "outputs": [
    {
     "name": "stdout",
     "output_type": "stream",
     "text": [
      "This will run 5 trials to find optimal hyperparameters...\n",
      "Params: {'max_depth': 10, 'n_estimators': 20, 'random_state': 42}\n",
      "🏃 View run RandomForestClassifier_{'max_depth': 10, 'n_estimators': 20, 'random_state': 42} at: http://127.0.0.1:8080/#/experiments/520029334633823444/runs/88f25de0bf2345a9925d87db752a1a3f\n",
      "\n",
      "🧪 View experiment at: http://127.0.0.1:8080/#/experiments/520029334633823444\n",
      "\n",
      "Params: {'max_depth': 20, 'n_estimators': 50, 'random_state': 42}              \n",
      "🏃 View run RandomForestClassifier_{'max_depth': 20, 'n_estimators': 50, 'random_state': 42} at: http://127.0.0.1:8080/#/experiments/520029334633823444/runs/bcc200c724d1418db667c886669e62a6\n",
      "\n",
      "🧪 View experiment at: http://127.0.0.1:8080/#/experiments/520029334633823444  \n",
      "\n",
      "Params: {'max_depth': None, 'n_estimators': 100, 'random_state': 42}            \n",
      "🏃 View run RandomForestClassifier_{'max_depth': None, 'n_estimators': 100, 'random_state': 42} at: http://127.0.0.1:8080/#/experiments/520029334633823444/runs/d07a145b00e94bb780b6dd72158f4099\n",
      "\n",
      "🧪 View experiment at: http://127.0.0.1:8080/#/experiments/520029334633823444   \n",
      "\n",
      "Params: {'max_depth': 50, 'n_estimators': 500, 'random_state': 42}              \n",
      "🏃 View run RandomForestClassifier_{'max_depth': 50, 'n_estimators': 500, 'random_state': 42} at: http://127.0.0.1:8080/#/experiments/520029334633823444/runs/412ec090a03d467aaf2277c9a058f8d8\n",
      "\n",
      "🧪 View experiment at: http://127.0.0.1:8080/#/experiments/520029334633823444   \n",
      "\n",
      "Params: {'max_depth': 50, 'n_estimators': 100, 'random_state': 42}              \n",
      "🏃 View run RandomForestClassifier_{'max_depth': 50, 'n_estimators': 100, 'random_state': 42} at: http://127.0.0.1:8080/#/experiments/520029334633823444/runs/0dae32d1b2b34f41934249ef07555270\n",
      "\n",
      "🧪 View experiment at: http://127.0.0.1:8080/#/experiments/520029334633823444   \n",
      "\n",
      "100%|██████████| 5/5 [01:40<00:00, 20.05s/trial, best loss: -0.6316480745299008]\n",
      "🏃 View run rf-sweep at: http://127.0.0.1:8080/#/experiments/520029334633823444/runs/276063bdec674de59a1edf62939e458e\n",
      "🧪 View experiment at: http://127.0.0.1:8080/#/experiments/520029334633823444\n",
      "This will run 5 trials to find optimal hyperparameters...\n",
      "Params: {'C': 0.1, 'gamma': 0.01, 'kernel': 'rbf'}   \n",
      "🏃 View run SVC_{'C': 0.1, 'gamma': 0.01, 'kernel': 'rbf'} at: http://127.0.0.1:8080/#/experiments/520029334633823444/runs/99cdbe810c3e4778b76ab996a4431d42\n",
      "\n",
      "🧪 View experiment at: http://127.0.0.1:8080/#/experiments/520029334633823444\n",
      "\n",
      "Params: {'C': 0.01, 'gamma': 10, 'kernel': 'rbf'}                               \n",
      " 20%|██        | 1/5 [00:30<02:00, 30.15s/trial, best loss: -0.5202081260565236]"
     ]
    },
    {
     "name": "stderr",
     "output_type": "stream",
     "text": [
      "/home/renan/miniconda3/lib/python3.12/site-packages/sklearn/metrics/_classification.py:1565: UndefinedMetricWarning: Precision is ill-defined and being set to 0.0 in labels with no predicted samples. Use `zero_division` parameter to control this behavior.\n",
      "  _warn_prf(average, modifier, f\"{metric.capitalize()} is\", len(result))\n",
      "\n"
     ]
    },
    {
     "name": "stdout",
     "output_type": "stream",
     "text": [
      "🏃 View run SVC_{'C': 0.01, 'gamma': 10, 'kernel': 'rbf'} at: http://127.0.0.1:8080/#/experiments/520029334633823444/runs/4ecdee0fea9542d3a8d2ead106f39fd5\n",
      "\n",
      "🧪 View experiment at: http://127.0.0.1:8080/#/experiments/520029334633823444   \n",
      "\n",
      "Params: {'C': 0.05, 'gamma': 0.1, 'kernel': 'rbf'}                              \n",
      " 40%|████      | 2/5 [02:00<03:17, 65.68s/trial, best loss: -0.5202081260565236]"
     ]
    },
    {
     "name": "stderr",
     "output_type": "stream",
     "text": [
      "/home/renan/miniconda3/lib/python3.12/site-packages/sklearn/metrics/_classification.py:1565: UndefinedMetricWarning: Precision is ill-defined and being set to 0.0 in labels with no predicted samples. Use `zero_division` parameter to control this behavior.\n",
      "  _warn_prf(average, modifier, f\"{metric.capitalize()} is\", len(result))\n",
      "\n"
     ]
    },
    {
     "name": "stdout",
     "output_type": "stream",
     "text": [
      "🏃 View run SVC_{'C': 0.05, 'gamma': 0.1, 'kernel': 'rbf'} at: http://127.0.0.1:8080/#/experiments/520029334633823444/runs/372648dc49254e5b8ac5ce74c24f7b28\n",
      "\n",
      "🧪 View experiment at: http://127.0.0.1:8080/#/experiments/520029334633823444   \n",
      "\n",
      "Params: {'C': 1, 'gamma': 0.1, 'kernel': 'rbf'}                                 \n",
      "🏃 View run SVC_{'C': 1, 'gamma': 0.1, 'kernel': 'rbf'} at: http://127.0.0.1:8080/#/experiments/520029334633823444/runs/19b8dafc4b59489cb2f9a737d49f1912\n",
      "\n",
      "🧪 View experiment at: http://127.0.0.1:8080/#/experiments/520029334633823444   \n",
      "\n",
      "Params: {'C': 0.1, 'gamma': 10, 'kernel': 'rbf'}                                \n",
      " 80%|████████  | 4/5 [04:04<01:06, 66.25s/trial, best loss: -0.5980641760820076]"
     ]
    },
    {
     "name": "stderr",
     "output_type": "stream",
     "text": [
      "/home/renan/miniconda3/lib/python3.12/site-packages/sklearn/metrics/_classification.py:1565: UndefinedMetricWarning: Precision is ill-defined and being set to 0.0 in labels with no predicted samples. Use `zero_division` parameter to control this behavior.\n",
      "  _warn_prf(average, modifier, f\"{metric.capitalize()} is\", len(result))\n",
      "\n"
     ]
    },
    {
     "name": "stdout",
     "output_type": "stream",
     "text": [
      "🏃 View run SVC_{'C': 0.1, 'gamma': 10, 'kernel': 'rbf'} at: http://127.0.0.1:8080/#/experiments/520029334633823444/runs/f5172ee81889471d8ab0445114d2697f\n",
      "\n",
      "🧪 View experiment at: http://127.0.0.1:8080/#/experiments/520029334633823444   \n",
      "\n",
      "100%|██████████| 5/5 [05:54<00:00, 70.90s/trial, best loss: -0.5980641760820076]\n",
      "🏃 View run svc-sweep at: http://127.0.0.1:8080/#/experiments/520029334633823444/runs/c27c775ce5fe475e970d94e5c28e5982\n",
      "🧪 View experiment at: http://127.0.0.1:8080/#/experiments/520029334633823444\n",
      "This will run 5 trials to find optimal hyperparameters...\n",
      "Params: {'C': 0.1}                                   \n",
      "🏃 View run LinearSVC_{'C': 0.1} at: http://127.0.0.1:8080/#/experiments/520029334633823444/runs/a76618065b9e4e228dfd1bc951a86ab4\n",
      "\n",
      "🧪 View experiment at: http://127.0.0.1:8080/#/experiments/520029334633823444\n",
      "\n",
      "Params: {'C': 0.1}                                                               \n",
      "🏃 View run LinearSVC_{'C': 0.1} at: http://127.0.0.1:8080/#/experiments/520029334633823444/runs/a3d069e13f574746a00eb1f6fb9499b6\n",
      "\n",
      "🧪 View experiment at: http://127.0.0.1:8080/#/experiments/520029334633823444    \n",
      "\n",
      "Params: {'C': 0.01}                                                              \n",
      "🏃 View run LinearSVC_{'C': 0.01} at: http://127.0.0.1:8080/#/experiments/520029334633823444/runs/f95d71cb149c49e09106178f47a823e2\n",
      "\n",
      "🧪 View experiment at: http://127.0.0.1:8080/#/experiments/520029334633823444    \n",
      "\n",
      "Params: {'C': 0.01}                                                              \n",
      "🏃 View run LinearSVC_{'C': 0.01} at: http://127.0.0.1:8080/#/experiments/520029334633823444/runs/e6cf1b1cadc446aa933f9a14b23cbb67\n",
      "\n",
      "🧪 View experiment at: http://127.0.0.1:8080/#/experiments/520029334633823444   \n",
      "\n",
      "Params: {'C': 0.0001}                                                           \n",
      "🏃 View run LinearSVC_{'C': 0.0001} at: http://127.0.0.1:8080/#/experiments/520029334633823444/runs/565c0db4b0de4ad0aede6c13ecbd1e71\n",
      "\n",
      "🧪 View experiment at: http://127.0.0.1:8080/#/experiments/520029334633823444   \n",
      "\n",
      "100%|██████████| 5/5 [00:10<00:00,  2.06s/trial, best loss: -0.36407850705163947]\n",
      "🏃 View run svc-linear-sweep at: http://127.0.0.1:8080/#/experiments/520029334633823444/runs/110cbdfa3ce74adc8b1cb8f80df8df4a\n",
      "🧪 View experiment at: http://127.0.0.1:8080/#/experiments/520029334633823444\n",
      "This will run 5 trials to find optimal hyperparameters...\n",
      "Params: {'learning_rate': 0.4, 'max_depth': 10, 'n_estimators': 500, 'random_state': 42}\n",
      "🏃 View run XGBClassifier_{'learning_rate': 0.4, 'max_depth': 10, 'n_estimators': 500, 'random_state': 42} at: http://127.0.0.1:8080/#/experiments/520029334633823444/runs/25ac9729654143a6b9fb3bbba9a8fa48\n",
      "\n",
      "🧪 View experiment at: http://127.0.0.1:8080/#/experiments/520029334633823444\n",
      "\n",
      "Params: {'learning_rate': 0.5, 'max_depth': 10, 'n_estimators': 1000, 'random_state': 42}\n",
      "🏃 View run XGBClassifier_{'learning_rate': 0.5, 'max_depth': 10, 'n_estimators': 1000, 'random_state': 42} at: http://127.0.0.1:8080/#/experiments/520029334633823444/runs/828c61b4c3c14d2bb69092faa93e2e8b\n",
      "\n",
      "🧪 View experiment at: http://127.0.0.1:8080/#/experiments/520029334633823444   \n",
      "\n",
      "Params: {'learning_rate': 0.1, 'max_depth': None, 'n_estimators': 1000, 'random_state': 42}\n",
      "🏃 View run XGBClassifier_{'learning_rate': 0.1, 'max_depth': None, 'n_estimators': 1000, 'random_state': 42} at: http://127.0.0.1:8080/#/experiments/520029334633823444/runs/7fc6ed36db86465987f8270f4ca8eb6b\n",
      "\n",
      "🧪 View experiment at: http://127.0.0.1:8080/#/experiments/520029334633823444   \n",
      "\n",
      "Params: {'learning_rate': 0.01, 'max_depth': 5, 'n_estimators': 1000, 'random_state': 42}\n",
      "🏃 View run XGBClassifier_{'learning_rate': 0.01, 'max_depth': 5, 'n_estimators': 1000, 'random_state': 42} at: http://127.0.0.1:8080/#/experiments/520029334633823444/runs/3ac1ed8f48474141b7d6021a36836f52\n",
      "\n",
      "🧪 View experiment at: http://127.0.0.1:8080/#/experiments/520029334633823444   \n",
      "\n",
      "Params: {'learning_rate': 0.3, 'max_depth': 10, 'n_estimators': 1000, 'random_state': 42}\n",
      "🏃 View run XGBClassifier_{'learning_rate': 0.3, 'max_depth': 10, 'n_estimators': 1000, 'random_state': 42} at: http://127.0.0.1:8080/#/experiments/520029334633823444/runs/2f466014c59847f086198659a16d4379\n",
      "\n",
      "🧪 View experiment at: http://127.0.0.1:8080/#/experiments/520029334633823444   \n",
      "\n",
      "100%|██████████| 5/5 [00:42<00:00,  8.41s/trial, best loss: -0.6714134517080457]\n",
      "🏃 View run xgb-sweep at: http://127.0.0.1:8080/#/experiments/520029334633823444/runs/12328bd8a1744976b07f7e1820740f65\n",
      "🧪 View experiment at: http://127.0.0.1:8080/#/experiments/520029334633823444\n"
     ]
    },
    {
     "data": {
      "text/plain": [
       "0.6714134517080457"
      ]
     },
     "execution_count": 45,
     "metadata": {},
     "output_type": "execute_result"
    }
   ],
   "source": [
    "model = RandomForestClassifier\n",
    "run_experiments('rf-sweep', max_evals=max_evals, search_space=search_space_rf, data_name=data_name, model_name = 'RandomForestClassifier', features_names=columns_to_keep)\n",
    "model = SVC\n",
    "run_experiments('svc-sweep', max_evals=max_evals, search_space=search_space_svc, data_name=data_name, model_name = 'SVC', features_names=columns_to_keep)\n",
    "model = LinearSVC\n",
    "run_experiments('svc-linear-sweep', max_evals=max_evals, search_space=search_space_svc_linear, data_name=data_name, model_name = 'LinearSVC', features_names=columns_to_keep)\n",
    "model = xgb.XGBClassifier\n",
    "run_experiments('xgb-sweep', max_evals=max_evals, search_space=search_space_xgb, data_name=data_name, model_name = 'XGBClassifier', features_names=columns_to_keep)"
   ]
  }
 ],
 "metadata": {
  "kernelspec": {
   "display_name": "base",
   "language": "python",
   "name": "python3"
  },
  "language_info": {
   "codemirror_mode": {
    "name": "ipython",
    "version": 3
   },
   "file_extension": ".py",
   "mimetype": "text/x-python",
   "name": "python",
   "nbconvert_exporter": "python",
   "pygments_lexer": "ipython3",
   "version": "3.12.2"
  }
 },
 "nbformat": 4,
 "nbformat_minor": 5
}
