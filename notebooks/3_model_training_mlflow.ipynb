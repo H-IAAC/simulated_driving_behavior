{
 "cells": [
  {
   "cell_type": "markdown",
   "id": "ea04c5c6",
   "metadata": {},
   "source": [
    "This notebook is used to train the models using `MLFLow`, if you want to see the results for the best models, refer to the `4_evaluation` notebook."
   ]
  },
  {
   "cell_type": "code",
   "execution_count": 118,
   "id": "3e2af455",
   "metadata": {},
   "outputs": [],
   "source": [
    "import os\n",
    "\n",
    "import mlflow\n",
    "from mlflow.models import infer_signature\n",
    "from hyperopt import fmin, tpe, hp, STATUS_OK, Trials\n",
    "from functools import partial\n",
    "from sklearn.model_selection import train_test_split\n",
    "from sklearn.ensemble import RandomForestClassifier\n",
    "from sklearn.svm import SVC, LinearSVC\n",
    "from sklearn.metrics import f1_score, accuracy_score, recall_score, precision_score, log_loss\n",
    "from sklearn.preprocessing import StandardScaler\n",
    "from sklearn.manifold import TSNE\n",
    "import pandas as pd\n",
    "import numpy as np\n",
    "import xgboost as xgb\n",
    "import matplotlib.pyplot as plt\n",
    "from matplotlib.colors import ListedColormap, BoundaryNorm\n",
    "\n",
    "os.sys.path.append(os.path.abspath('../src'))\n",
    "from data import loader\n",
    "from data import preprocessor\n",
    "\n",
    "mapname = 'Town01'"
   ]
  },
  {
   "cell_type": "code",
   "execution_count": 119,
   "id": "8dc66672",
   "metadata": {},
   "outputs": [],
   "source": [
    "def create_and_train_model(model, args):\n",
    "    \"\"\"\n",
    "    Function to create and train a model with given parameters.\n",
    "\n",
    "    Args:\n",
    "        model: The model to be trained.\n",
    "        args: Arguments for training the model.\n",
    "\n",
    "    Returns:\n",
    "        result: The result of the training process.\n",
    "    \"\"\"\n",
    "    result = {}\n",
    "    # Train model with current hyperparameters\n",
    "    print(f\"Params: {args}\")\n",
    "    md = model(**args)\n",
    "    md.fit(X_train, y_train)\n",
    "    # Predict on the validation set\n",
    "    y_pred = md.predict(X_val)\n",
    "    # Log training results\n",
    "    result[\"f1_score\"] = f1_score(y_val, y_pred, average='weighted')\n",
    "    result[\"accuracy\"] = accuracy_score(y_val, y_pred)\n",
    "    result[\"recall\"] = recall_score(y_val, y_pred, average='weighted')\n",
    "    result[\"precision\"] = precision_score(y_val, y_pred, average='weighted')\n",
    "    result[\"model\"] = md\n",
    "\n",
    "    return result"
   ]
  },
  {
   "cell_type": "code",
   "execution_count": 120,
   "id": "2cf70def",
   "metadata": {},
   "outputs": [],
   "source": [
    "def objective(params, model_name):\n",
    "    \"\"\"\n",
    "    Objective function for hyperparameter optimization.\n",
    "    This function will be called by Hyperopt for each trial.\n",
    "    \"\"\"\n",
    "    with mlflow.start_run(nested=True, run_name=f\"{model_name}_{params}\"):\n",
    "        # Log hyperparameters being tested\n",
    "        mlflow.log_params(params)\n",
    "\n",
    "        # Train model with current hyperparameters\n",
    "        result = create_and_train_model(\n",
    "            model,\n",
    "            args=params\n",
    "        )\n",
    "\n",
    "        # Log training results\n",
    "        mlflow.log_metrics(\n",
    "            {\n",
    "                \"accuracy\": result[\"accuracy\"],\n",
    "                \"recall\": result[\"recall\"],\n",
    "                \"precision\": result[\"precision\"],\n",
    "                \"f1_score\": result[\"f1_score\"],\n",
    "            }\n",
    "        )\n",
    "\n",
    "        # Log the trained model\n",
    "        mlflow.sklearn.log_model(\n",
    "            result[\"model\"], name=model_name, signature=signature)\n",
    "\n",
    "        # Return loss for Hyperopt (it minimizes)\n",
    "        return {\"loss\": -result[\"f1_score\"], \"status\": STATUS_OK, \"model\": f'{model_name}_{params}'}"
   ]
  },
  {
   "cell_type": "code",
   "execution_count": 121,
   "id": "1c8c77ae",
   "metadata": {},
   "outputs": [],
   "source": [
    "def run_experiments(run_name, max_evals, search_space, data_name, features_names, model_name):\n",
    "    # Create or set experiment\n",
    "\n",
    "    print(\n",
    "        f\"This will run {max_evals} trials to find optimal hyperparameters...\")\n",
    "\n",
    "    with mlflow.start_run(run_name=run_name):\n",
    "\n",
    "        mlflow.set_tag(\"model_type\", model_name)\n",
    "\n",
    "        # Log experiment metadata\n",
    "        mlflow.log_params(\n",
    "            {\n",
    "                \"optimization_method\": \"Tree-structured Parzen Estimator (TPE)\",\n",
    "                \"max_evaluations\": max_evals,\n",
    "                \"objective_metric\": \"log_loss\",\n",
    "                \"dataset\": data_name,\n",
    "                \"features\": features_names,\n",
    "            }\n",
    "        )\n",
    "\n",
    "        # Run optimization\n",
    "        trials = Trials()\n",
    "        objective_with_name = partial(objective, model_name=model_name)\n",
    "\n",
    "        best_params = fmin(\n",
    "            fn=objective_with_name,\n",
    "            space=search_space,\n",
    "            algo=tpe.suggest,\n",
    "            max_evals=max_evals,\n",
    "            trials=trials,\n",
    "            verbose=True,\n",
    "        )\n",
    "\n",
    "        # Find and log best results\n",
    "        best_trial = min(trials.results, key=lambda x: x[\"loss\"])\n",
    "        best_f1_score = -best_trial[\"loss\"]\n",
    "\n",
    "        # Log optimization results\n",
    "        mlflow.log_params(best_params)\n",
    "        mlflow.log_params({\"best_model\": best_trial[\"model\"]})\n",
    "        mlflow.log_metrics(\n",
    "            {\n",
    "                \"best_f1_score\": best_f1_score,\n",
    "                \"total_trials\": len(trials.trials),\n",
    "                \"optimization_completed\": 1,\n",
    "            }\n",
    "        )\n",
    "\n",
    "    return best_f1_score \n"
   ]
  },
  {
   "cell_type": "code",
   "execution_count": 122,
   "id": "af8537c2",
   "metadata": {},
   "outputs": [],
   "source": [
    "def save_tsne(embeddings, labels, title, figs_path='../results/figures/tsne'):\n",
    "\n",
    "    # Create a boolean mask for each class\n",
    "    mask_real = labels == 0\n",
    "    mask_sumo = labels == 1\n",
    "\n",
    "    plt.figure(figsize=(6, 6))\n",
    "\n",
    "    # Plot each class with a label\n",
    "    plt.scatter(\n",
    "        embeddings[mask_real, 0],\n",
    "        embeddings[mask_real, 1],\n",
    "        color='blue',\n",
    "        s=2,\n",
    "        label='Real'\n",
    "    )\n",
    "\n",
    "    plt.scatter(\n",
    "        embeddings[mask_sumo, 0],\n",
    "        embeddings[mask_sumo, 1],\n",
    "        color='red',\n",
    "        s=2,\n",
    "        label='SUMO'\n",
    "    )\n",
    "    plt.legend(markerscale=4, fontsize=14, loc='upper right')  # Increase marker size and legend font size, place at top right\n",
    "    plt.title(title, fontsize=18)\n",
    "    plt.savefig(f'{figs_path}/{\"_\".join(title.lower().split())}.png')\n",
    "    plt.show()"
   ]
  },
  {
   "cell_type": "code",
   "execution_count": 123,
   "id": "cb3963a0",
   "metadata": {},
   "outputs": [],
   "source": [
    "client = mlflow.tracking.MlflowClient(\"http://127.0.0.1:8080\")\n",
    "mlflow.set_tracking_uri(\"http://127.0.0.1:8080\")"
   ]
  },
  {
   "cell_type": "markdown",
   "id": "d7abae7f",
   "metadata": {},
   "source": [
    "## Preparing the Data"
   ]
  },
  {
   "cell_type": "markdown",
   "id": "ada156fe",
   "metadata": {},
   "source": [
    "We are not going to use gyro_z from SUMO since it is not directly provided by the simulator."
   ]
  },
  {
   "cell_type": "code",
   "execution_count": 124,
   "id": "3bb894a0",
   "metadata": {},
   "outputs": [],
   "source": [
    "data_path = '../data'\n",
    "uah_training = pd.read_csv(f'{data_path}/base/training_set_uah.csv')\n",
    "uah_validation = pd.read_csv(f'{data_path}/base/validation_set_uah.csv')\n",
    "\n",
    "carla_fixed = pd.read_csv(f'{data_path}/merged/{mapname}/carla/carla_fixed.csv').drop(columns=['origin'])\n",
    "carla_llm = pd.read_csv(f'{data_path}/merged/{mapname}/carla/carla_llm.csv').drop(columns=['origin'])\n",
    "\n",
    "sumo_fixed = pd.read_csv(f'{data_path}/merged/{mapname}/sumo/sumo_fixed.csv').drop(columns=['origin'])\n",
    "sumo_llm = pd.read_csv(f'{data_path}/merged/{mapname}/sumo/sumo_llm.csv').drop(columns=['origin'])\n",
    "\n",
    "carla_uah_fixed = pd.read_csv(f'{data_path}/merged/{mapname}/carla_uah/carla_uah_fixed.csv')\n",
    "carla_uah_llm = pd.read_csv(f'{data_path}/merged/{mapname}/carla_uah/carla_uah_llm.csv')\n",
    "\n",
    "sumo_uah_fixed = pd.read_csv(f'{data_path}/merged/{mapname}/sumo_uah/sumo_uah_fixed.csv')\n",
    "sumo_uah_llm = pd.read_csv(f'{data_path}/merged/{mapname}/sumo_uah/sumo_uah_llm.csv')"
   ]
  },
  {
   "cell_type": "code",
   "execution_count": 125,
   "id": "95fa01a5",
   "metadata": {},
   "outputs": [
    {
     "name": "stdout",
     "output_type": "stream",
     "text": [
      "Columns to keep for SUMO: ['acc', 'angle', 'speed', 'label']\n",
      "Columns to keep for CARLA: ['acc_x', 'acc_y', 'acc_z', 'gyro_x', 'gyro_y', 'gyro_z', 'angle', 'label', 'acc']\n"
     ]
    }
   ],
   "source": [
    "sumo_columns_to_keep = sumo_fixed.columns.tolist()\n",
    "carla_columns_to_keep = carla_fixed.columns.tolist()\n",
    "print(f\"Columns to keep for SUMO: {sumo_columns_to_keep}\")\n",
    "print(f\"Columns to keep for CARLA: {carla_columns_to_keep}\")"
   ]
  },
  {
   "cell_type": "code",
   "execution_count": 126,
   "id": "0b2b12e2",
   "metadata": {},
   "outputs": [],
   "source": [
    "window_size = 10\n",
    "step_size = 5\n",
    "one_hot_keys = {\n",
    "    'normal': 0,\n",
    "    'aggressive': 1\n",
    "}"
   ]
  },
  {
   "cell_type": "markdown",
   "id": "b210c607",
   "metadata": {},
   "source": [
    "Defining the search space for each model"
   ]
  },
  {
   "cell_type": "code",
   "execution_count": 127,
   "id": "d88856f4",
   "metadata": {},
   "outputs": [],
   "source": [
    "max_evals = 5\n",
    "\n",
    "search_space_rf = {\n",
    "    \"n_estimators\": hp.choice(\"n_estimators\", [20, 50, 100, 200, 500]),\n",
    "    \"max_depth\": hp.choice(\"max_depth\", [None, 5, 10, 20, 50]),\n",
    "}\n",
    "search_space_svc = {\n",
    "    \"C\": hp.choice(\"C\", [0.01, 0.05, 0.1, 0.5, 1]),  # Regularization parameter\n",
    "    \"kernel\": hp.choice(\"kernel\", [\"rbf\"]),  # Kernel type\n",
    "    \"gamma\": hp.choice(\"gamma\", [0.001, 0.01, 0.1, 1, 10]),  # Kernel coefficient for 'rbf', 'poly', and 'sigmoid'\n",
    "}\n",
    "search_space_svc_linear = {\n",
    "    \"C\": hp.choice(\"C\", [10**-4, 10**-3, 10**-2, 0.1, 1])  # Regularization parameter\n",
    "}\n",
    "search_space_xgb = {\n",
    "    \"n_estimators\": hp.choice(\"n_estimators\", [200, 500, 700, 1000]),\n",
    "    \"max_depth\": hp.choice(\"max_depth\", [None, 5, 10]),\n",
    "    \"learning_rate\": hp.choice(\"learning_rate\", [0.001, 0.01, 0.1, 0.2, 0.3]),  # Learning rate\n",
    "    \"subsample\": hp.choice(\"subsample\", [0.5, 0.7, 1.0]),  # Subsample ratio of the training instances\n",
    "    \"colsample_bytree\": hp.choice(\"colsample_bytree\", [0.5, 0.7, 1.0]),  # Subsample ratio of columns when constructing each tree\n",
    "}"
   ]
  },
  {
   "cell_type": "markdown",
   "id": "b9bfe165",
   "metadata": {},
   "source": [
    "# Train on Real test on Synthetic"
   ]
  },
  {
   "cell_type": "markdown",
   "id": "b177f276",
   "metadata": {},
   "source": [
    "By training a model on real data and testing on synthetic data, we verify synthetic data’s fidelity with the real-world."
   ]
  },
  {
   "cell_type": "markdown",
   "id": "b448fee4",
   "metadata": {},
   "source": [
    "## SUMO"
   ]
  },
  {
   "cell_type": "code",
   "execution_count": 128,
   "id": "648199c0",
   "metadata": {},
   "outputs": [],
   "source": [
    "X_train, y_train = preprocessor.sliding_windows(uah_training[sumo_columns_to_keep], window_size=window_size, step_size=step_size)\n",
    "y_train = preprocessor.one_hot_encode(y_train, one_hot_keys)\n",
    "signature = infer_signature(X_train, y_train)"
   ]
  },
  {
   "cell_type": "markdown",
   "id": "a7e8a837",
   "metadata": {},
   "source": [
    "### Fixed"
   ]
  },
  {
   "cell_type": "code",
   "execution_count": 129,
   "id": "cea94fc4",
   "metadata": {},
   "outputs": [],
   "source": [
    "# Provide an Experiment description that will appear in the UI\n",
    "experiment_description = (\n",
    "    \"Experiment to TRTS on SUMO Fixed data.\"\n",
    ")\n",
    "\n",
    "# Provide searchable tags that define characteristics of the Runs that\n",
    "# will be in this Experiment\n",
    "experiment_tags = {\n",
    "    \"project_name\": \"driver-behavior-prediction\",\n",
    "    \"mlflow.note.content\": experiment_description,\n",
    "}\n",
    "\n",
    "# Create the Experiment, providing a unique name\n",
    "try:\n",
    "    driver_behavior_experiment = client.create_experiment(\n",
    "        name=\"TRTS_SUMO_Fixed\", tags=experiment_tags\n",
    "    )\n",
    "except mlflow.exceptions.RestException as e:\n",
    "    print(f\"Experiment already exists: {e}\")"
   ]
  },
  {
   "cell_type": "code",
   "execution_count": 130,
   "id": "454ba591",
   "metadata": {},
   "outputs": [],
   "source": [
    "X_val, y_val = preprocessor.sliding_windows(sumo_fixed, window_size=window_size, step_size=step_size)\n",
    "y_val = preprocessor.one_hot_encode(y_val, one_hot_keys)\n",
    "\n",
    "mlflow.set_experiment('TRTS_SUMO_Fixed')\n",
    "data_name = 'TRTS_SUMO_Fixed'"
   ]
  },
  {
   "cell_type": "code",
   "execution_count": 131,
   "id": "2de38d07",
   "metadata": {},
   "outputs": [
    {
     "name": "stdout",
     "output_type": "stream",
     "text": [
      "This will run 5 trials to find optimal hyperparameters...\n",
      "  0%|          | 0/5 [00:00<?, ?trial/s, best loss=?]"
     ]
    },
    {
     "name": "stdout",
     "output_type": "stream",
     "text": [
      "Params: {'max_depth': 10, 'n_estimators': 100}       \n",
      "🏃 View run RandomForestClassifier_{'max_depth': 10, 'n_estimators': 100} at: http://127.0.0.1:8080/#/experiments/621583713237610125/runs/3908b66b28824654940aff43ee4a5570\n",
      "\n",
      "🧪 View experiment at: http://127.0.0.1:8080/#/experiments/621583713237610125\n",
      "\n",
      "Params: {'max_depth': 10, 'n_estimators': 50}                                   \n",
      "🏃 View run RandomForestClassifier_{'max_depth': 10, 'n_estimators': 50} at: http://127.0.0.1:8080/#/experiments/621583713237610125/runs/810196a5efef409dba096a84eb2e2068\n",
      "\n",
      "🧪 View experiment at: http://127.0.0.1:8080/#/experiments/621583713237610125   \n",
      "\n",
      "Params: {'max_depth': 20, 'n_estimators': 100}                                  \n",
      "🏃 View run RandomForestClassifier_{'max_depth': 20, 'n_estimators': 100} at: http://127.0.0.1:8080/#/experiments/621583713237610125/runs/216e72019a5845afac560518a07235e6\n",
      "\n",
      "🧪 View experiment at: http://127.0.0.1:8080/#/experiments/621583713237610125   \n",
      "\n",
      "Params: {'max_depth': 10, 'n_estimators': 200}                                   \n",
      "🏃 View run RandomForestClassifier_{'max_depth': 10, 'n_estimators': 200} at: http://127.0.0.1:8080/#/experiments/621583713237610125/runs/6e1278570baa48f1b373f74943445930\n",
      "\n",
      "🧪 View experiment at: http://127.0.0.1:8080/#/experiments/621583713237610125    \n",
      "\n",
      "Params: {'max_depth': 20, 'n_estimators': 500}                                   \n",
      "🏃 View run RandomForestClassifier_{'max_depth': 20, 'n_estimators': 500} at: http://127.0.0.1:8080/#/experiments/621583713237610125/runs/1d636f0a17284605a7d9e68d509b1b85\n",
      "\n",
      "🧪 View experiment at: http://127.0.0.1:8080/#/experiments/621583713237610125    \n",
      "\n",
      "100%|██████████| 5/5 [01:24<00:00, 16.94s/trial, best loss: -0.39939364644798175]\n",
      "🏃 View run trts-rf-sweep at: http://127.0.0.1:8080/#/experiments/621583713237610125/runs/bc67393d883946ab8bd408d9f50962c7\n",
      "🧪 View experiment at: http://127.0.0.1:8080/#/experiments/621583713237610125\n",
      "This will run 5 trials to find optimal hyperparameters...\n",
      "Params: {'C': 0.05, 'gamma': 0.1, 'kernel': 'rbf'}   \n",
      "  0%|          | 0/5 [00:00<?, ?trial/s, best loss=?]"
     ]
    },
    {
     "name": "stderr",
     "output_type": "stream",
     "text": [
      "/home/renan/miniconda3/lib/python3.12/site-packages/sklearn/metrics/_classification.py:1565: UndefinedMetricWarning: Precision is ill-defined and being set to 0.0 in labels with no predicted samples. Use `zero_division` parameter to control this behavior.\n",
      "  _warn_prf(average, modifier, f\"{metric.capitalize()} is\", len(result))\n",
      "\n"
     ]
    },
    {
     "name": "stdout",
     "output_type": "stream",
     "text": [
      "🏃 View run SVC_{'C': 0.05, 'gamma': 0.1, 'kernel': 'rbf'} at: http://127.0.0.1:8080/#/experiments/621583713237610125/runs/41c335c8188249edbf0897b3cb2f50c0\n",
      "\n",
      "🧪 View experiment at: http://127.0.0.1:8080/#/experiments/621583713237610125\n",
      "\n",
      "Params: {'C': 1, 'gamma': 1, 'kernel': 'rbf'}                                   \n",
      "🏃 View run SVC_{'C': 1, 'gamma': 1, 'kernel': 'rbf'} at: http://127.0.0.1:8080/#/experiments/621583713237610125/runs/62a9064d5869417aa4a034e99a81bd86\n",
      "\n",
      "🧪 View experiment at: http://127.0.0.1:8080/#/experiments/621583713237610125   \n",
      "\n",
      "Params: {'C': 0.5, 'gamma': 0.01, 'kernel': 'rbf'}                               \n",
      "🏃 View run SVC_{'C': 0.5, 'gamma': 0.01, 'kernel': 'rbf'} at: http://127.0.0.1:8080/#/experiments/621583713237610125/runs/a3ae9be4c447487f8338f992fca9e1c5\n",
      "\n",
      "🧪 View experiment at: http://127.0.0.1:8080/#/experiments/621583713237610125    \n",
      "\n",
      "Params: {'C': 1, 'gamma': 0.01, 'kernel': 'rbf'}                                 \n",
      "🏃 View run SVC_{'C': 1, 'gamma': 0.01, 'kernel': 'rbf'} at: http://127.0.0.1:8080/#/experiments/621583713237610125/runs/3d6464227bbb4bc69a48400f017e9a65\n",
      "\n",
      "🧪 View experiment at: http://127.0.0.1:8080/#/experiments/621583713237610125    \n",
      "\n",
      "Params: {'C': 0.05, 'gamma': 0.1, 'kernel': 'rbf'}                               \n",
      " 80%|████████  | 4/5 [02:52<00:39, 39.25s/trial, best loss: -0.36553212012481184]"
     ]
    },
    {
     "name": "stderr",
     "output_type": "stream",
     "text": [
      "/home/renan/miniconda3/lib/python3.12/site-packages/sklearn/metrics/_classification.py:1565: UndefinedMetricWarning: Precision is ill-defined and being set to 0.0 in labels with no predicted samples. Use `zero_division` parameter to control this behavior.\n",
      "  _warn_prf(average, modifier, f\"{metric.capitalize()} is\", len(result))\n",
      "\n"
     ]
    },
    {
     "name": "stdout",
     "output_type": "stream",
     "text": [
      "🏃 View run SVC_{'C': 0.05, 'gamma': 0.1, 'kernel': 'rbf'} at: http://127.0.0.1:8080/#/experiments/621583713237610125/runs/15392958f2c248c4a897984dc528dc50\n",
      "\n",
      "🧪 View experiment at: http://127.0.0.1:8080/#/experiments/621583713237610125    \n",
      "\n",
      "100%|██████████| 5/5 [03:27<00:00, 41.49s/trial, best loss: -0.36553212012481184]\n",
      "🏃 View run trts-svc-sweep at: http://127.0.0.1:8080/#/experiments/621583713237610125/runs/b177a8c548ff43acac1defa312045130\n",
      "🧪 View experiment at: http://127.0.0.1:8080/#/experiments/621583713237610125\n",
      "This will run 5 trials to find optimal hyperparameters...\n",
      "Params: {'colsample_bytree': 0.5, 'learning_rate': 0.01, 'max_depth': None, 'n_estimators': 700, 'subsample': 0.5}\n",
      "🏃 View run XGBClassifier_{'colsample_bytree': 0.5, 'learning_rate': 0.01, 'max_depth': None, 'n_estimators': 700, 'subsample': 0.5} at: http://127.0.0.1:8080/#/experiments/621583713237610125/runs/4533a1480f1a4a19968c4f0a9bca96c9\n",
      "\n",
      "🧪 View experiment at: http://127.0.0.1:8080/#/experiments/621583713237610125\n",
      "\n",
      "Params: {'colsample_bytree': 0.5, 'learning_rate': 0.1, 'max_depth': None, 'n_estimators': 200, 'subsample': 0.7}\n",
      "🏃 View run XGBClassifier_{'colsample_bytree': 0.5, 'learning_rate': 0.1, 'max_depth': None, 'n_estimators': 200, 'subsample': 0.7} at: http://127.0.0.1:8080/#/experiments/621583713237610125/runs/503e9dc9ed014db0abacb318ef8306f5\n",
      "\n",
      "🧪 View experiment at: http://127.0.0.1:8080/#/experiments/621583713237610125   \n",
      "\n",
      "Params: {'colsample_bytree': 1.0, 'learning_rate': 0.2, 'max_depth': 5, 'n_estimators': 1000, 'subsample': 0.5}\n",
      "🏃 View run XGBClassifier_{'colsample_bytree': 1.0, 'learning_rate': 0.2, 'max_depth': 5, 'n_estimators': 1000, 'subsample': 0.5} at: http://127.0.0.1:8080/#/experiments/621583713237610125/runs/d550be421f384d25be53b6cdc027b606\n",
      "\n",
      "🧪 View experiment at: http://127.0.0.1:8080/#/experiments/621583713237610125  \n",
      "\n",
      "Params: {'colsample_bytree': 1.0, 'learning_rate': 0.3, 'max_depth': None, 'n_estimators': 500, 'subsample': 0.7}\n",
      "🏃 View run XGBClassifier_{'colsample_bytree': 1.0, 'learning_rate': 0.3, 'max_depth': None, 'n_estimators': 500, 'subsample': 0.7} at: http://127.0.0.1:8080/#/experiments/621583713237610125/runs/97bdc54cbf03413fba088c001ad989d7\n",
      "\n",
      "🧪 View experiment at: http://127.0.0.1:8080/#/experiments/621583713237610125  \n",
      "\n",
      "Params: {'colsample_bytree': 0.5, 'learning_rate': 0.3, 'max_depth': 10, 'n_estimators': 700, 'subsample': 0.5}\n",
      "🏃 View run XGBClassifier_{'colsample_bytree': 0.5, 'learning_rate': 0.3, 'max_depth': 10, 'n_estimators': 700, 'subsample': 0.5} at: http://127.0.0.1:8080/#/experiments/621583713237610125/runs/e9909eabd2534e619c21fd427604b4e2\n",
      "\n",
      "🧪 View experiment at: http://127.0.0.1:8080/#/experiments/621583713237610125  \n",
      "\n",
      "100%|██████████| 5/5 [00:18<00:00,  3.77s/trial, best loss: -0.502739604758718]\n",
      "🏃 View run trts-xgb-sweep at: http://127.0.0.1:8080/#/experiments/621583713237610125/runs/2938910cc57244fdb17b47655ae7fd34\n",
      "🧪 View experiment at: http://127.0.0.1:8080/#/experiments/621583713237610125\n"
     ]
    },
    {
     "data": {
      "text/plain": [
       "0.502739604758718"
      ]
     },
     "execution_count": 131,
     "metadata": {},
     "output_type": "execute_result"
    }
   ],
   "source": [
    "model = RandomForestClassifier\n",
    "run_experiments('trts-rf-sweep', max_evals=max_evals, search_space=search_space_rf, data_name=data_name, model_name = 'RandomForestClassifier', features_names=sumo_columns_to_keep)\n",
    "model = SVC\n",
    "run_experiments('trts-svc-sweep', max_evals=max_evals, search_space=search_space_svc, data_name=data_name, model_name = 'SVC', features_names=sumo_columns_to_keep)\n",
    "model = xgb.XGBClassifier\n",
    "run_experiments('trts-xgb-sweep', max_evals=max_evals, search_space=search_space_xgb, data_name=data_name, model_name = 'XGBClassifier', features_names=sumo_columns_to_keep)"
   ]
  },
  {
   "cell_type": "markdown",
   "id": "60e89ace",
   "metadata": {},
   "source": [
    "### LLM"
   ]
  },
  {
   "cell_type": "code",
   "execution_count": 132,
   "id": "e70ee9fd",
   "metadata": {},
   "outputs": [],
   "source": [
    "# Provide an Experiment description that will appear in the UI\n",
    "experiment_description = (\n",
    "    \"Experiment to TRTS on SUMO LLM data.\"\n",
    ")\n",
    "\n",
    "# Provide searchable tags that define characteristics of the Runs that\n",
    "# will be in this Experiment\n",
    "experiment_tags = {\n",
    "    \"project_name\": \"driver-behavior-prediction\",\n",
    "    \"mlflow.note.content\": experiment_description,\n",
    "}\n",
    "\n",
    "# Create the Experiment, providing a unique name\n",
    "try:\n",
    "    driver_behavior_experiment = client.create_experiment(\n",
    "        name=\"TRTS_SUMO_LLM\", tags=experiment_tags\n",
    "    )\n",
    "except mlflow.exceptions.RestException as e:\n",
    "    print(f\"Experiment already exists: {e}\")"
   ]
  },
  {
   "cell_type": "code",
   "execution_count": 133,
   "id": "a56d8a26",
   "metadata": {},
   "outputs": [],
   "source": [
    "X_val, y_val = preprocessor.sliding_windows(sumo_llm, window_size=10, step_size=5)\n",
    "y_val = preprocessor.one_hot_encode(y_val, one_hot_keys)\n",
    "\n",
    "mlflow.set_experiment('TRTS_SUMO_LLM')\n",
    "data_name = 'TRTS_SUMO_LLM'"
   ]
  },
  {
   "cell_type": "code",
   "execution_count": 134,
   "id": "7b2d5e54",
   "metadata": {},
   "outputs": [
    {
     "name": "stdout",
     "output_type": "stream",
     "text": [
      "This will run 5 trials to find optimal hyperparameters...\n",
      "Params: {'max_depth': 50, 'n_estimators': 200}       \n",
      "🏃 View run RandomForestClassifier_{'max_depth': 50, 'n_estimators': 200} at: http://127.0.0.1:8080/#/experiments/839960217607977068/runs/1342c804424847519740c1d66cb86799\n",
      "\n",
      "🧪 View experiment at: http://127.0.0.1:8080/#/experiments/839960217607977068\n",
      "\n",
      "Params: {'max_depth': 5, 'n_estimators': 500}                                    \n",
      "🏃 View run RandomForestClassifier_{'max_depth': 5, 'n_estimators': 500} at: http://127.0.0.1:8080/#/experiments/839960217607977068/runs/51ac41823f5c433a87b10b1c9ca935ac\n",
      "\n",
      "🧪 View experiment at: http://127.0.0.1:8080/#/experiments/839960217607977068    \n",
      "\n",
      "Params: {'max_depth': None, 'n_estimators': 500}                                 \n",
      "🏃 View run RandomForestClassifier_{'max_depth': None, 'n_estimators': 500} at: http://127.0.0.1:8080/#/experiments/839960217607977068/runs/c11bc5471e3c4e27ad08986cc153dc5d\n",
      "\n",
      "🧪 View experiment at: http://127.0.0.1:8080/#/experiments/839960217607977068   \n",
      "\n",
      "Params: {'max_depth': 20, 'n_estimators': 100}                                  \n",
      "🏃 View run RandomForestClassifier_{'max_depth': 20, 'n_estimators': 100} at: http://127.0.0.1:8080/#/experiments/839960217607977068/runs/990ec3c970824f1c931dfe9bd78dc1e7\n",
      "\n",
      "🧪 View experiment at: http://127.0.0.1:8080/#/experiments/839960217607977068   \n",
      "\n",
      "Params: {'max_depth': None, 'n_estimators': 50}                                 \n",
      "🏃 View run RandomForestClassifier_{'max_depth': None, 'n_estimators': 50} at: http://127.0.0.1:8080/#/experiments/839960217607977068/runs/7d51dc4238604833a2ea1bf859868e05\n",
      "\n",
      "🧪 View experiment at: http://127.0.0.1:8080/#/experiments/839960217607977068   \n",
      "\n",
      "100%|██████████| 5/5 [01:34<00:00, 18.80s/trial, best loss: -0.5291385172093314]\n",
      "🏃 View run trts-rf-sweep at: http://127.0.0.1:8080/#/experiments/839960217607977068/runs/cf4aded2f9e94b11989dca19c25f2268\n",
      "🧪 View experiment at: http://127.0.0.1:8080/#/experiments/839960217607977068\n",
      "This will run 5 trials to find optimal hyperparameters...\n",
      "Params: {'C': 0.1, 'gamma': 0.1, 'kernel': 'rbf'}    \n",
      "🏃 View run SVC_{'C': 0.1, 'gamma': 0.1, 'kernel': 'rbf'} at: http://127.0.0.1:8080/#/experiments/839960217607977068/runs/c6ec6a35b6954fba95599181994a02b0\n",
      "\n",
      "🧪 View experiment at: http://127.0.0.1:8080/#/experiments/839960217607977068\n",
      "\n",
      "Params: {'C': 1, 'gamma': 0.001, 'kernel': 'rbf'}                               \n",
      "🏃 View run SVC_{'C': 1, 'gamma': 0.001, 'kernel': 'rbf'} at: http://127.0.0.1:8080/#/experiments/839960217607977068/runs/f4e6474aa1434ef693fc986951b455f6\n",
      "\n",
      "🧪 View experiment at: http://127.0.0.1:8080/#/experiments/839960217607977068   \n",
      "\n",
      "Params: {'C': 0.1, 'gamma': 0.01, 'kernel': 'rbf'}                              \n",
      " 40%|████      | 2/5 [01:17<01:56, 38.73s/trial, best loss: -0.4048674732029297]"
     ]
    },
    {
     "name": "stderr",
     "output_type": "stream",
     "text": [
      "/home/renan/miniconda3/lib/python3.12/site-packages/sklearn/metrics/_classification.py:1565: UndefinedMetricWarning: Precision is ill-defined and being set to 0.0 in labels with no predicted samples. Use `zero_division` parameter to control this behavior.\n",
      "  _warn_prf(average, modifier, f\"{metric.capitalize()} is\", len(result))\n",
      "\n"
     ]
    },
    {
     "name": "stdout",
     "output_type": "stream",
     "text": [
      "🏃 View run SVC_{'C': 0.1, 'gamma': 0.01, 'kernel': 'rbf'} at: http://127.0.0.1:8080/#/experiments/839960217607977068/runs/4a4666143ba1435785210e34b8a88c1f\n",
      "\n",
      "🧪 View experiment at: http://127.0.0.1:8080/#/experiments/839960217607977068   \n",
      "\n",
      "Params: {'C': 0.01, 'gamma': 0.001, 'kernel': 'rbf'}                            \n",
      " 60%|██████    | 3/5 [01:52<01:13, 36.96s/trial, best loss: -0.4048805573715453]"
     ]
    },
    {
     "name": "stderr",
     "output_type": "stream",
     "text": [
      "/home/renan/miniconda3/lib/python3.12/site-packages/sklearn/metrics/_classification.py:1565: UndefinedMetricWarning: Precision is ill-defined and being set to 0.0 in labels with no predicted samples. Use `zero_division` parameter to control this behavior.\n",
      "  _warn_prf(average, modifier, f\"{metric.capitalize()} is\", len(result))\n",
      "\n"
     ]
    },
    {
     "name": "stdout",
     "output_type": "stream",
     "text": [
      "🏃 View run SVC_{'C': 0.01, 'gamma': 0.001, 'kernel': 'rbf'} at: http://127.0.0.1:8080/#/experiments/839960217607977068/runs/76afc344714d4d94abe8c93cadb25d77\n",
      "\n",
      "🧪 View experiment at: http://127.0.0.1:8080/#/experiments/839960217607977068   \n",
      "\n",
      "Params: {'C': 0.01, 'gamma': 10, 'kernel': 'rbf'}                               \n",
      " 80%|████████  | 4/5 [02:34<00:38, 38.81s/trial, best loss: -0.4048805573715453]"
     ]
    },
    {
     "name": "stderr",
     "output_type": "stream",
     "text": [
      "/home/renan/miniconda3/lib/python3.12/site-packages/sklearn/metrics/_classification.py:1565: UndefinedMetricWarning: Precision is ill-defined and being set to 0.0 in labels with no predicted samples. Use `zero_division` parameter to control this behavior.\n",
      "  _warn_prf(average, modifier, f\"{metric.capitalize()} is\", len(result))\n",
      "\n"
     ]
    },
    {
     "name": "stdout",
     "output_type": "stream",
     "text": [
      "🏃 View run SVC_{'C': 0.01, 'gamma': 10, 'kernel': 'rbf'} at: http://127.0.0.1:8080/#/experiments/839960217607977068/runs/fae09ebe982744799f8863081bbbddc4\n",
      "\n",
      "🧪 View experiment at: http://127.0.0.1:8080/#/experiments/839960217607977068   \n",
      "\n",
      "100%|██████████| 5/5 [03:45<00:00, 45.19s/trial, best loss: -0.4048805573715453]\n",
      "🏃 View run trts-svc-sweep at: http://127.0.0.1:8080/#/experiments/839960217607977068/runs/3631240d3dc641fcba38aa386edd462b\n",
      "🧪 View experiment at: http://127.0.0.1:8080/#/experiments/839960217607977068\n",
      "This will run 5 trials to find optimal hyperparameters...\n",
      "Params: {'colsample_bytree': 1.0, 'learning_rate': 0.1, 'max_depth': None, 'n_estimators': 1000, 'subsample': 0.7}\n",
      "🏃 View run XGBClassifier_{'colsample_bytree': 1.0, 'learning_rate': 0.1, 'max_depth': None, 'n_estimators': 1000, 'subsample': 0.7} at: http://127.0.0.1:8080/#/experiments/839960217607977068/runs/e00dab7ca61348968a51f23a04f5d2e3\n",
      "\n",
      "🧪 View experiment at: http://127.0.0.1:8080/#/experiments/839960217607977068\n",
      "\n",
      "Params: {'colsample_bytree': 0.7, 'learning_rate': 0.001, 'max_depth': None, 'n_estimators': 200, 'subsample': 1.0}\n",
      " 20%|██        | 1/5 [00:05<00:20,  5.00s/trial, best loss: -0.5426947484521164]"
     ]
    },
    {
     "name": "stderr",
     "output_type": "stream",
     "text": [
      "/home/renan/miniconda3/lib/python3.12/site-packages/sklearn/metrics/_classification.py:1565: UndefinedMetricWarning: Precision is ill-defined and being set to 0.0 in labels with no predicted samples. Use `zero_division` parameter to control this behavior.\n",
      "  _warn_prf(average, modifier, f\"{metric.capitalize()} is\", len(result))\n",
      "\n"
     ]
    },
    {
     "name": "stdout",
     "output_type": "stream",
     "text": [
      "🏃 View run XGBClassifier_{'colsample_bytree': 0.7, 'learning_rate': 0.001, 'max_depth': None, 'n_estimators': 200, 'subsample': 1.0} at: http://127.0.0.1:8080/#/experiments/839960217607977068/runs/ca91fb5e90ff490a83774a012a7d0d02\n",
      "\n",
      "🧪 View experiment at: http://127.0.0.1:8080/#/experiments/839960217607977068   \n",
      "\n",
      "Params: {'colsample_bytree': 0.7, 'learning_rate': 0.2, 'max_depth': 5, 'n_estimators': 1000, 'subsample': 0.5}\n",
      "🏃 View run XGBClassifier_{'colsample_bytree': 0.7, 'learning_rate': 0.2, 'max_depth': 5, 'n_estimators': 1000, 'subsample': 0.5} at: http://127.0.0.1:8080/#/experiments/839960217607977068/runs/9a40912ce2c2467fb3a8b36df7461473\n",
      "\n",
      "🧪 View experiment at: http://127.0.0.1:8080/#/experiments/839960217607977068   \n",
      "\n",
      "Params: {'colsample_bytree': 0.5, 'learning_rate': 0.3, 'max_depth': 5, 'n_estimators': 200, 'subsample': 0.7}\n",
      "🏃 View run XGBClassifier_{'colsample_bytree': 0.5, 'learning_rate': 0.3, 'max_depth': 5, 'n_estimators': 200, 'subsample': 0.7} at: http://127.0.0.1:8080/#/experiments/839960217607977068/runs/c91e6d8ab91b446782755e2797cbefc2\n",
      "\n",
      "🧪 View experiment at: http://127.0.0.1:8080/#/experiments/839960217607977068   \n",
      "\n",
      "Params: {'colsample_bytree': 1.0, 'learning_rate': 0.001, 'max_depth': 5, 'n_estimators': 1000, 'subsample': 0.7}\n",
      "🏃 View run XGBClassifier_{'colsample_bytree': 1.0, 'learning_rate': 0.001, 'max_depth': 5, 'n_estimators': 1000, 'subsample': 0.7} at: http://127.0.0.1:8080/#/experiments/839960217607977068/runs/5fd36af092484718a503a8c1bef21491\n",
      "\n",
      "🧪 View experiment at: http://127.0.0.1:8080/#/experiments/839960217607977068   \n",
      "\n",
      "100%|██████████| 5/5 [00:17<00:00,  3.53s/trial, best loss: -0.5426947484521164]\n",
      "🏃 View run trts-xgb-sweep at: http://127.0.0.1:8080/#/experiments/839960217607977068/runs/b016f21eac8a448dbd7339e9b1e14f8c\n",
      "🧪 View experiment at: http://127.0.0.1:8080/#/experiments/839960217607977068\n"
     ]
    },
    {
     "data": {
      "text/plain": [
       "0.5426947484521164"
      ]
     },
     "execution_count": 134,
     "metadata": {},
     "output_type": "execute_result"
    }
   ],
   "source": [
    "model = RandomForestClassifier\n",
    "run_experiments('trts-rf-sweep', max_evals=max_evals, search_space=search_space_rf, data_name=data_name, model_name = 'RandomForestClassifier', features_names=sumo_columns_to_keep)\n",
    "model = SVC\n",
    "run_experiments('trts-svc-sweep', max_evals=max_evals, search_space=search_space_svc, data_name=data_name, model_name = 'SVC', features_names=sumo_columns_to_keep)\n",
    "model = xgb.XGBClassifier\n",
    "run_experiments('trts-xgb-sweep', max_evals=max_evals, search_space=search_space_xgb, data_name=data_name, model_name = 'XGBClassifier', features_names=sumo_columns_to_keep)"
   ]
  },
  {
   "cell_type": "markdown",
   "id": "7034dab6",
   "metadata": {},
   "source": [
    "## CARLA"
   ]
  },
  {
   "cell_type": "code",
   "execution_count": 135,
   "id": "79611d31",
   "metadata": {},
   "outputs": [],
   "source": [
    "X_train, y_train = preprocessor.sliding_windows(uah_training[carla_columns_to_keep], window_size=10, step_size=5)\n",
    "y_train = preprocessor.one_hot_encode(y_train, one_hot_keys)\n",
    "signature = infer_signature(X_train, y_train)"
   ]
  },
  {
   "cell_type": "markdown",
   "id": "cbe814c3",
   "metadata": {},
   "source": [
    "### Fixed"
   ]
  },
  {
   "cell_type": "code",
   "execution_count": 136,
   "id": "c323d2d8",
   "metadata": {},
   "outputs": [],
   "source": [
    "# Provide an Experiment description that will appear in the UI\n",
    "experiment_description = (\n",
    "    \"Experiment to TRTS on CARLA Fixed data.\"\n",
    ")\n",
    "\n",
    "# Provide searchable tags that define characteristics of the Runs that\n",
    "# will be in this Experiment\n",
    "experiment_tags = {\n",
    "    \"project_name\": \"driver-behavior-prediction\",\n",
    "    \"mlflow.note.content\": experiment_description,\n",
    "}\n",
    "\n",
    "# Create the Experiment, providing a unique name\n",
    "try:\n",
    "    driver_behavior_experiment = client.create_experiment(\n",
    "        name=\"TRTS_CARLA_Fixed\", tags=experiment_tags\n",
    "    )\n",
    "except mlflow.exceptions.RestException as e:\n",
    "    print(f\"Experiment already exists: {e}\")"
   ]
  },
  {
   "cell_type": "code",
   "execution_count": 137,
   "id": "61938828",
   "metadata": {},
   "outputs": [],
   "source": [
    "X_val, y_val = preprocessor.sliding_windows(carla_fixed, window_size=10, step_size=5)\n",
    "y_val = preprocessor.one_hot_encode(y_val, one_hot_keys)\n",
    "\n",
    "mlflow.set_experiment('TRTS_CARLA_Fixed')\n",
    "data_name = 'TRTS_CARLA_Fixed'"
   ]
  },
  {
   "cell_type": "code",
   "execution_count": 138,
   "id": "89880717",
   "metadata": {},
   "outputs": [
    {
     "name": "stdout",
     "output_type": "stream",
     "text": [
      "This will run 5 trials to find optimal hyperparameters...\n",
      "Params: {'max_depth': 5, 'n_estimators': 20}         \n",
      "🏃 View run RandomForestClassifier_{'max_depth': 5, 'n_estimators': 20} at: http://127.0.0.1:8080/#/experiments/893549182304293174/runs/ce656471426d4140904f4a76a4920110\n",
      "\n",
      "🧪 View experiment at: http://127.0.0.1:8080/#/experiments/893549182304293174\n",
      "\n",
      "Params: {'max_depth': 20, 'n_estimators': 200}                                  \n",
      "🏃 View run RandomForestClassifier_{'max_depth': 20, 'n_estimators': 200} at: http://127.0.0.1:8080/#/experiments/893549182304293174/runs/4ba307c5b90d481c92a6b71767e8debb\n",
      "\n",
      "🧪 View experiment at: http://127.0.0.1:8080/#/experiments/893549182304293174   \n",
      "\n",
      "Params: {'max_depth': 50, 'n_estimators': 500}                                  \n",
      "🏃 View run RandomForestClassifier_{'max_depth': 50, 'n_estimators': 500} at: http://127.0.0.1:8080/#/experiments/893549182304293174/runs/000c8e55b3fa4a958eaa68c645690cb7\n",
      "\n",
      "🧪 View experiment at: http://127.0.0.1:8080/#/experiments/893549182304293174   \n",
      "\n",
      "Params: {'max_depth': 50, 'n_estimators': 50}                                   \n",
      "🏃 View run RandomForestClassifier_{'max_depth': 50, 'n_estimators': 50} at: http://127.0.0.1:8080/#/experiments/893549182304293174/runs/d06fbf4d6bfa47b09fe6cc6429396e06\n",
      "\n",
      "🧪 View experiment at: http://127.0.0.1:8080/#/experiments/893549182304293174   \n",
      "\n",
      "Params: {'max_depth': 10, 'n_estimators': 50}                                   \n",
      "🏃 View run RandomForestClassifier_{'max_depth': 10, 'n_estimators': 50} at: http://127.0.0.1:8080/#/experiments/893549182304293174/runs/ab9b351abaf0426a92a85eac7b19e6dc\n",
      "\n",
      "🧪 View experiment at: http://127.0.0.1:8080/#/experiments/893549182304293174   \n",
      "\n",
      "100%|██████████| 5/5 [01:49<00:00, 21.87s/trial, best loss: -0.3042874397252766]\n",
      "🏃 View run trts-rf-sweep at: http://127.0.0.1:8080/#/experiments/893549182304293174/runs/d185e3fe7460496c8adaa7694021edd0\n",
      "🧪 View experiment at: http://127.0.0.1:8080/#/experiments/893549182304293174\n",
      "This will run 5 trials to find optimal hyperparameters...\n",
      "Params: {'C': 0.5, 'gamma': 0.001, 'kernel': 'rbf'}  \n",
      "  0%|          | 0/5 [00:00<?, ?trial/s, best loss=?]"
     ]
    },
    {
     "name": "stderr",
     "output_type": "stream",
     "text": [
      "/home/renan/miniconda3/lib/python3.12/site-packages/sklearn/metrics/_classification.py:1565: UndefinedMetricWarning: Precision is ill-defined and being set to 0.0 in labels with no predicted samples. Use `zero_division` parameter to control this behavior.\n",
      "  _warn_prf(average, modifier, f\"{metric.capitalize()} is\", len(result))\n",
      "\n"
     ]
    },
    {
     "name": "stdout",
     "output_type": "stream",
     "text": [
      "🏃 View run SVC_{'C': 0.5, 'gamma': 0.001, 'kernel': 'rbf'} at: http://127.0.0.1:8080/#/experiments/893549182304293174/runs/3b82ad6dc5a74a35976b9f289dcf2340\n",
      "\n",
      "🧪 View experiment at: http://127.0.0.1:8080/#/experiments/893549182304293174\n",
      "\n",
      "Params: {'C': 0.01, 'gamma': 1, 'kernel': 'rbf'}                                \n",
      " 20%|██        | 1/5 [00:57<03:51, 57.97s/trial, best loss: -0.2422968812901423]"
     ]
    },
    {
     "name": "stderr",
     "output_type": "stream",
     "text": [
      "/home/renan/miniconda3/lib/python3.12/site-packages/sklearn/metrics/_classification.py:1565: UndefinedMetricWarning: Precision is ill-defined and being set to 0.0 in labels with no predicted samples. Use `zero_division` parameter to control this behavior.\n",
      "  _warn_prf(average, modifier, f\"{metric.capitalize()} is\", len(result))\n",
      "\n"
     ]
    },
    {
     "name": "stdout",
     "output_type": "stream",
     "text": [
      "🏃 View run SVC_{'C': 0.01, 'gamma': 1, 'kernel': 'rbf'} at: http://127.0.0.1:8080/#/experiments/893549182304293174/runs/b9f4e733d0b0483aa15d6ed9fe6a087a\n",
      "\n",
      "🧪 View experiment at: http://127.0.0.1:8080/#/experiments/893549182304293174   \n",
      "\n",
      "Params: {'C': 1, 'gamma': 0.01, 'kernel': 'rbf'}                                \n",
      " 40%|████      | 2/5 [01:46<02:37, 52.38s/trial, best loss: -0.4331910871073824]"
     ]
    },
    {
     "name": "stderr",
     "output_type": "stream",
     "text": [
      "/home/renan/miniconda3/lib/python3.12/site-packages/sklearn/metrics/_classification.py:1565: UndefinedMetricWarning: Precision is ill-defined and being set to 0.0 in labels with no predicted samples. Use `zero_division` parameter to control this behavior.\n",
      "  _warn_prf(average, modifier, f\"{metric.capitalize()} is\", len(result))\n",
      "\n"
     ]
    },
    {
     "name": "stdout",
     "output_type": "stream",
     "text": [
      "🏃 View run SVC_{'C': 1, 'gamma': 0.01, 'kernel': 'rbf'} at: http://127.0.0.1:8080/#/experiments/893549182304293174/runs/ff6d7cdf259f44a6b2363ced31142585\n",
      "\n",
      "🧪 View experiment at: http://127.0.0.1:8080/#/experiments/893549182304293174   \n",
      "\n",
      "Params: {'C': 0.01, 'gamma': 0.01, 'kernel': 'rbf'}                             \n",
      " 60%|██████    | 3/5 [02:32<01:38, 49.40s/trial, best loss: -0.4331910871073824]"
     ]
    },
    {
     "name": "stderr",
     "output_type": "stream",
     "text": [
      "/home/renan/miniconda3/lib/python3.12/site-packages/sklearn/metrics/_classification.py:1565: UndefinedMetricWarning: Precision is ill-defined and being set to 0.0 in labels with no predicted samples. Use `zero_division` parameter to control this behavior.\n",
      "  _warn_prf(average, modifier, f\"{metric.capitalize()} is\", len(result))\n",
      "\n"
     ]
    },
    {
     "name": "stdout",
     "output_type": "stream",
     "text": [
      "🏃 View run SVC_{'C': 0.01, 'gamma': 0.01, 'kernel': 'rbf'} at: http://127.0.0.1:8080/#/experiments/893549182304293174/runs/4d0d7a375cb54b579c3964008ab1c683\n",
      "\n",
      "🧪 View experiment at: http://127.0.0.1:8080/#/experiments/893549182304293174   \n",
      "\n",
      "Params: {'C': 0.5, 'gamma': 0.01, 'kernel': 'rbf'}                              \n",
      " 80%|████████  | 4/5 [03:28<00:52, 52.09s/trial, best loss: -0.4331910871073824]"
     ]
    },
    {
     "name": "stderr",
     "output_type": "stream",
     "text": [
      "/home/renan/miniconda3/lib/python3.12/site-packages/sklearn/metrics/_classification.py:1565: UndefinedMetricWarning: Precision is ill-defined and being set to 0.0 in labels with no predicted samples. Use `zero_division` parameter to control this behavior.\n",
      "  _warn_prf(average, modifier, f\"{metric.capitalize()} is\", len(result))\n",
      "\n"
     ]
    },
    {
     "name": "stdout",
     "output_type": "stream",
     "text": [
      "🏃 View run SVC_{'C': 0.5, 'gamma': 0.01, 'kernel': 'rbf'} at: http://127.0.0.1:8080/#/experiments/893549182304293174/runs/b17acddce3484d03b7448ff605c0b74c\n",
      "\n",
      "🧪 View experiment at: http://127.0.0.1:8080/#/experiments/893549182304293174   \n",
      "\n",
      "100%|██████████| 5/5 [04:15<00:00, 51.11s/trial, best loss: -0.4331910871073824]\n",
      "🏃 View run trts-svc-sweep at: http://127.0.0.1:8080/#/experiments/893549182304293174/runs/b3fc37331925470b92d18fc9f97796bc\n",
      "🧪 View experiment at: http://127.0.0.1:8080/#/experiments/893549182304293174\n",
      "This will run 5 trials to find optimal hyperparameters...\n",
      "Params: {'colsample_bytree': 1.0, 'learning_rate': 0.1, 'max_depth': 10, 'n_estimators': 700, 'subsample': 0.7}\n",
      "🏃 View run XGBClassifier_{'colsample_bytree': 1.0, 'learning_rate': 0.1, 'max_depth': 10, 'n_estimators': 700, 'subsample': 0.7} at: http://127.0.0.1:8080/#/experiments/893549182304293174/runs/32a11a00fa55463fb428d790bfac85d6\n",
      "\n",
      "🧪 View experiment at: http://127.0.0.1:8080/#/experiments/893549182304293174\n",
      "\n",
      "Params: {'colsample_bytree': 0.5, 'learning_rate': 0.01, 'max_depth': 10, 'n_estimators': 200, 'subsample': 0.7}\n",
      "🏃 View run XGBClassifier_{'colsample_bytree': 0.5, 'learning_rate': 0.01, 'max_depth': 10, 'n_estimators': 200, 'subsample': 0.7} at: http://127.0.0.1:8080/#/experiments/893549182304293174/runs/899dc06023004cafb3b492f02e61fa2f\n",
      "\n",
      "🧪 View experiment at: http://127.0.0.1:8080/#/experiments/893549182304293174    \n",
      "\n",
      "Params: {'colsample_bytree': 0.7, 'learning_rate': 0.3, 'max_depth': 5, 'n_estimators': 500, 'subsample': 1.0}\n",
      "🏃 View run XGBClassifier_{'colsample_bytree': 0.7, 'learning_rate': 0.3, 'max_depth': 5, 'n_estimators': 500, 'subsample': 1.0} at: http://127.0.0.1:8080/#/experiments/893549182304293174/runs/4ce77bd93dc04586b8b7ca85221f3a44\n",
      "\n",
      "🧪 View experiment at: http://127.0.0.1:8080/#/experiments/893549182304293174   \n",
      "\n",
      "Params: {'colsample_bytree': 1.0, 'learning_rate': 0.3, 'max_depth': 10, 'n_estimators': 200, 'subsample': 1.0}\n",
      "🏃 View run XGBClassifier_{'colsample_bytree': 1.0, 'learning_rate': 0.3, 'max_depth': 10, 'n_estimators': 200, 'subsample': 1.0} at: http://127.0.0.1:8080/#/experiments/893549182304293174/runs/5499d431d98b4f8781b59c07a406fb00\n",
      "\n",
      "🧪 View experiment at: http://127.0.0.1:8080/#/experiments/893549182304293174   \n",
      "\n",
      "Params: {'colsample_bytree': 1.0, 'learning_rate': 0.001, 'max_depth': 5, 'n_estimators': 200, 'subsample': 0.7}\n",
      " 80%|████████  | 4/5 [00:26<00:05,  5.65s/trial, best loss: -0.3973468906522322]"
     ]
    },
    {
     "name": "stderr",
     "output_type": "stream",
     "text": [
      "/home/renan/miniconda3/lib/python3.12/site-packages/sklearn/metrics/_classification.py:1565: UndefinedMetricWarning: Precision is ill-defined and being set to 0.0 in labels with no predicted samples. Use `zero_division` parameter to control this behavior.\n",
      "  _warn_prf(average, modifier, f\"{metric.capitalize()} is\", len(result))\n",
      "\n"
     ]
    },
    {
     "name": "stdout",
     "output_type": "stream",
     "text": [
      "🏃 View run XGBClassifier_{'colsample_bytree': 1.0, 'learning_rate': 0.001, 'max_depth': 5, 'n_estimators': 200, 'subsample': 0.7} at: http://127.0.0.1:8080/#/experiments/893549182304293174/runs/d91145e76c68407b8e11945cd0a7c07f\n",
      "\n",
      "🧪 View experiment at: http://127.0.0.1:8080/#/experiments/893549182304293174   \n",
      "\n",
      "100%|██████████| 5/5 [00:29<00:00,  5.80s/trial, best loss: -0.4331910871073824]\n",
      "🏃 View run trts-xgb-sweep at: http://127.0.0.1:8080/#/experiments/893549182304293174/runs/6ba917ca5b0e42dcace54adc1c3a7b5e\n",
      "🧪 View experiment at: http://127.0.0.1:8080/#/experiments/893549182304293174\n"
     ]
    },
    {
     "data": {
      "text/plain": [
       "0.4331910871073824"
      ]
     },
     "execution_count": 138,
     "metadata": {},
     "output_type": "execute_result"
    }
   ],
   "source": [
    "model = RandomForestClassifier\n",
    "run_experiments('trts-rf-sweep', max_evals=max_evals, search_space=search_space_rf, data_name=data_name, model_name = 'RandomForestClassifier', features_names=sumo_columns_to_keep)\n",
    "model = SVC\n",
    "run_experiments('trts-svc-sweep', max_evals=max_evals, search_space=search_space_svc, data_name=data_name, model_name = 'SVC', features_names=sumo_columns_to_keep)\n",
    "model = xgb.XGBClassifier\n",
    "run_experiments('trts-xgb-sweep', max_evals=max_evals, search_space=search_space_xgb, data_name=data_name, model_name = 'XGBClassifier', features_names=sumo_columns_to_keep)"
   ]
  },
  {
   "cell_type": "markdown",
   "id": "67747de7",
   "metadata": {},
   "source": [
    "### LLM"
   ]
  },
  {
   "cell_type": "code",
   "execution_count": 139,
   "id": "521a42c3",
   "metadata": {},
   "outputs": [],
   "source": [
    "# Provide an Experiment description that will appear in the UI\n",
    "experiment_description = (\n",
    "    \"Experiment to TRTS on CARLA LLM data.\"\n",
    ")\n",
    "\n",
    "# Provide searchable tags that define characteristics of the Runs that\n",
    "# will be in this Experiment\n",
    "experiment_tags = {\n",
    "    \"project_name\": \"driver-behavior-prediction\",\n",
    "    \"mlflow.note.content\": experiment_description,\n",
    "}\n",
    "\n",
    "# Create the Experiment, providing a unique name\n",
    "try:\n",
    "    driver_behavior_experiment = client.create_experiment(\n",
    "        name=\"TRTS_CARLA_LLM\", tags=experiment_tags\n",
    "    )\n",
    "except mlflow.exceptions.RestException as e:\n",
    "    print(f\"Experiment already exists: {e}\")"
   ]
  },
  {
   "cell_type": "code",
   "execution_count": 140,
   "id": "3334c220",
   "metadata": {},
   "outputs": [],
   "source": [
    "X_val, y_val = preprocessor.sliding_windows(carla_llm, window_size=10, step_size=5)\n",
    "y_val = preprocessor.one_hot_encode(y_val, one_hot_keys)\n",
    "\n",
    "mlflow.set_experiment('TRTS_CARLA_LLM')\n",
    "data_name = 'TRTS_CARLA_LLM'"
   ]
  },
  {
   "cell_type": "code",
   "execution_count": 141,
   "id": "35bea98c",
   "metadata": {},
   "outputs": [
    {
     "name": "stdout",
     "output_type": "stream",
     "text": [
      "This will run 5 trials to find optimal hyperparameters...\n",
      "Params: {'max_depth': 5, 'n_estimators': 50}         \n",
      "🏃 View run RandomForestClassifier_{'max_depth': 5, 'n_estimators': 50} at: http://127.0.0.1:8080/#/experiments/453070281431362896/runs/b0d7e5beb87a4261ab6c3481229e0dbd\n",
      "\n",
      "🧪 View experiment at: http://127.0.0.1:8080/#/experiments/453070281431362896\n",
      "\n",
      "Params: {'max_depth': 5, 'n_estimators': 50}                                    \n",
      "🏃 View run RandomForestClassifier_{'max_depth': 5, 'n_estimators': 50} at: http://127.0.0.1:8080/#/experiments/453070281431362896/runs/5abed41fc1a84cbe9cd870e787eb14b7\n",
      "\n",
      "🧪 View experiment at: http://127.0.0.1:8080/#/experiments/453070281431362896   \n",
      "\n",
      "Params: {'max_depth': 50, 'n_estimators': 100}                                  \n",
      "🏃 View run RandomForestClassifier_{'max_depth': 50, 'n_estimators': 100} at: http://127.0.0.1:8080/#/experiments/453070281431362896/runs/be3d787874bf42d886aac845b6e77efe\n",
      "\n",
      "🧪 View experiment at: http://127.0.0.1:8080/#/experiments/453070281431362896   \n",
      "\n",
      "Params: {'max_depth': 5, 'n_estimators': 500}                                   \n",
      "🏃 View run RandomForestClassifier_{'max_depth': 5, 'n_estimators': 500} at: http://127.0.0.1:8080/#/experiments/453070281431362896/runs/5e72d797906745258a44a734322b51cb\n",
      "\n",
      "🧪 View experiment at: http://127.0.0.1:8080/#/experiments/453070281431362896   \n",
      "\n",
      "Params: {'max_depth': 5, 'n_estimators': 500}                                   \n",
      "🏃 View run RandomForestClassifier_{'max_depth': 5, 'n_estimators': 500} at: http://127.0.0.1:8080/#/experiments/453070281431362896/runs/35b820f1c86e4bbdbe4cd529ee1f77ec\n",
      "\n",
      "🧪 View experiment at: http://127.0.0.1:8080/#/experiments/453070281431362896   \n",
      "\n",
      "100%|██████████| 5/5 [01:01<00:00, 12.36s/trial, best loss: -0.40086983347643307]\n",
      "🏃 View run trts-rf-sweep at: http://127.0.0.1:8080/#/experiments/453070281431362896/runs/8534f68733b243b483fbe0007018e165\n",
      "🧪 View experiment at: http://127.0.0.1:8080/#/experiments/453070281431362896\n",
      "This will run 5 trials to find optimal hyperparameters...\n",
      "Params: {'C': 0.01, 'gamma': 0.001, 'kernel': 'rbf'} \n",
      "  0%|          | 0/5 [00:00<?, ?trial/s, best loss=?]"
     ]
    },
    {
     "name": "stderr",
     "output_type": "stream",
     "text": [
      "/home/renan/miniconda3/lib/python3.12/site-packages/sklearn/metrics/_classification.py:1565: UndefinedMetricWarning: Precision is ill-defined and being set to 0.0 in labels with no predicted samples. Use `zero_division` parameter to control this behavior.\n",
      "  _warn_prf(average, modifier, f\"{metric.capitalize()} is\", len(result))\n",
      "\n"
     ]
    },
    {
     "name": "stdout",
     "output_type": "stream",
     "text": [
      "🏃 View run SVC_{'C': 0.01, 'gamma': 0.001, 'kernel': 'rbf'} at: http://127.0.0.1:8080/#/experiments/453070281431362896/runs/c1e3d707b96a4e1dbcce86b99778be15\n",
      "\n",
      "🧪 View experiment at: http://127.0.0.1:8080/#/experiments/453070281431362896\n",
      "\n",
      "Params: {'C': 0.01, 'gamma': 0.001, 'kernel': 'rbf'}                             \n",
      " 20%|██        | 1/5 [00:58<03:53, 58.27s/trial, best loss: -0.33282944613852833]"
     ]
    },
    {
     "name": "stderr",
     "output_type": "stream",
     "text": [
      "/home/renan/miniconda3/lib/python3.12/site-packages/sklearn/metrics/_classification.py:1565: UndefinedMetricWarning: Precision is ill-defined and being set to 0.0 in labels with no predicted samples. Use `zero_division` parameter to control this behavior.\n",
      "  _warn_prf(average, modifier, f\"{metric.capitalize()} is\", len(result))\n",
      "\n"
     ]
    },
    {
     "name": "stdout",
     "output_type": "stream",
     "text": [
      "🏃 View run SVC_{'C': 0.01, 'gamma': 0.001, 'kernel': 'rbf'} at: http://127.0.0.1:8080/#/experiments/453070281431362896/runs/def4cdb2043a4523a5d4e4e362dd62a3\n",
      "\n",
      "🧪 View experiment at: http://127.0.0.1:8080/#/experiments/453070281431362896    \n",
      "\n",
      "Params: {'C': 0.5, 'gamma': 0.1, 'kernel': 'rbf'}                                \n",
      " 40%|████      | 2/5 [01:55<02:52, 57.47s/trial, best loss: -0.33282944613852833]"
     ]
    },
    {
     "name": "stderr",
     "output_type": "stream",
     "text": [
      "/home/renan/miniconda3/lib/python3.12/site-packages/sklearn/metrics/_classification.py:1565: UndefinedMetricWarning: Precision is ill-defined and being set to 0.0 in labels with no predicted samples. Use `zero_division` parameter to control this behavior.\n",
      "  _warn_prf(average, modifier, f\"{metric.capitalize()} is\", len(result))\n",
      "\n"
     ]
    },
    {
     "name": "stdout",
     "output_type": "stream",
     "text": [
      "🏃 View run SVC_{'C': 0.5, 'gamma': 0.1, 'kernel': 'rbf'} at: http://127.0.0.1:8080/#/experiments/453070281431362896/runs/54e6a6693bc7411eb443bdeaaaa78727\n",
      "\n",
      "🧪 View experiment at: http://127.0.0.1:8080/#/experiments/453070281431362896    \n",
      "\n",
      "Params: {'C': 0.1, 'gamma': 0.001, 'kernel': 'rbf'}                              \n",
      "🏃 View run SVC_{'C': 0.1, 'gamma': 0.001, 'kernel': 'rbf'} at: http://127.0.0.1:8080/#/experiments/453070281431362896/runs/2036893f09fe4bb69b2d166835e168d6\n",
      "\n",
      "🧪 View experiment at: http://127.0.0.1:8080/#/experiments/453070281431362896    \n",
      "\n",
      "Params: {'C': 0.05, 'gamma': 0.001, 'kernel': 'rbf'}                             \n",
      " 80%|████████  | 4/5 [03:28<00:51, 51.66s/trial, best loss: -0.38299829511888167]"
     ]
    },
    {
     "name": "stderr",
     "output_type": "stream",
     "text": [
      "/home/renan/miniconda3/lib/python3.12/site-packages/sklearn/metrics/_classification.py:1565: UndefinedMetricWarning: Precision is ill-defined and being set to 0.0 in labels with no predicted samples. Use `zero_division` parameter to control this behavior.\n",
      "  _warn_prf(average, modifier, f\"{metric.capitalize()} is\", len(result))\n",
      "\n"
     ]
    },
    {
     "name": "stdout",
     "output_type": "stream",
     "text": [
      "🏃 View run SVC_{'C': 0.05, 'gamma': 0.001, 'kernel': 'rbf'} at: http://127.0.0.1:8080/#/experiments/453070281431362896/runs/b633d6421b4a4d2bb0305ec0738438e6\n",
      "\n",
      "🧪 View experiment at: http://127.0.0.1:8080/#/experiments/453070281431362896    \n",
      "\n",
      "100%|██████████| 5/5 [04:25<00:00, 53.16s/trial, best loss: -0.38299829511888167]\n",
      "🏃 View run trts-svc-sweep at: http://127.0.0.1:8080/#/experiments/453070281431362896/runs/697b59e27b04446b81f3bfe2de3ff69e\n",
      "🧪 View experiment at: http://127.0.0.1:8080/#/experiments/453070281431362896\n",
      "This will run 5 trials to find optimal hyperparameters...\n",
      "Params: {'colsample_bytree': 1.0, 'learning_rate': 0.3, 'max_depth': None, 'n_estimators': 500, 'subsample': 1.0}\n",
      "🏃 View run XGBClassifier_{'colsample_bytree': 1.0, 'learning_rate': 0.3, 'max_depth': None, 'n_estimators': 500, 'subsample': 1.0} at: http://127.0.0.1:8080/#/experiments/453070281431362896/runs/780a5c9f49724bd09d696933e6c10201\n",
      "\n",
      "🧪 View experiment at: http://127.0.0.1:8080/#/experiments/453070281431362896\n",
      "\n",
      "Params: {'colsample_bytree': 0.7, 'learning_rate': 0.001, 'max_depth': 5, 'n_estimators': 700, 'subsample': 1.0}\n",
      "🏃 View run XGBClassifier_{'colsample_bytree': 0.7, 'learning_rate': 0.001, 'max_depth': 5, 'n_estimators': 700, 'subsample': 1.0} at: http://127.0.0.1:8080/#/experiments/453070281431362896/runs/482540e678664feda22d27e0b5007a68\n",
      "\n",
      "🧪 View experiment at: http://127.0.0.1:8080/#/experiments/453070281431362896   \n",
      "\n",
      "Params: {'colsample_bytree': 0.7, 'learning_rate': 0.01, 'max_depth': 10, 'n_estimators': 700, 'subsample': 1.0}\n",
      "🏃 View run XGBClassifier_{'colsample_bytree': 0.7, 'learning_rate': 0.01, 'max_depth': 10, 'n_estimators': 700, 'subsample': 1.0} at: http://127.0.0.1:8080/#/experiments/453070281431362896/runs/3c32068ab35b406d8069fe097b6ddae7\n",
      "\n",
      "🧪 View experiment at: http://127.0.0.1:8080/#/experiments/453070281431362896   \n",
      "\n",
      "Params: {'colsample_bytree': 1.0, 'learning_rate': 0.3, 'max_depth': 5, 'n_estimators': 700, 'subsample': 0.5}\n",
      "🏃 View run XGBClassifier_{'colsample_bytree': 1.0, 'learning_rate': 0.3, 'max_depth': 5, 'n_estimators': 700, 'subsample': 0.5} at: http://127.0.0.1:8080/#/experiments/453070281431362896/runs/b70d96bb58684c5f8e8bc84365b7db8b\n",
      "\n",
      "🧪 View experiment at: http://127.0.0.1:8080/#/experiments/453070281431362896   \n",
      "\n",
      "Params: {'colsample_bytree': 0.5, 'learning_rate': 0.01, 'max_depth': None, 'n_estimators': 700, 'subsample': 1.0}\n",
      "🏃 View run XGBClassifier_{'colsample_bytree': 0.5, 'learning_rate': 0.01, 'max_depth': None, 'n_estimators': 700, 'subsample': 1.0} at: http://127.0.0.1:8080/#/experiments/453070281431362896/runs/21d3d4481469415fae9233ee49279d36\n",
      "\n",
      "🧪 View experiment at: http://127.0.0.1:8080/#/experiments/453070281431362896   \n",
      "\n",
      "100%|██████████| 5/5 [00:35<00:00,  7.00s/trial, best loss: -0.4996436326093469]\n",
      "🏃 View run trts-xgb-sweep at: http://127.0.0.1:8080/#/experiments/453070281431362896/runs/1ae3b95d980845ad989ebd2b48fde8b5\n",
      "🧪 View experiment at: http://127.0.0.1:8080/#/experiments/453070281431362896\n"
     ]
    },
    {
     "data": {
      "text/plain": [
       "0.4996436326093469"
      ]
     },
     "execution_count": 141,
     "metadata": {},
     "output_type": "execute_result"
    }
   ],
   "source": [
    "model = RandomForestClassifier\n",
    "run_experiments('trts-rf-sweep', max_evals=max_evals, search_space=search_space_rf, data_name=data_name, model_name = 'RandomForestClassifier', features_names=sumo_columns_to_keep)\n",
    "model = SVC\n",
    "run_experiments('trts-svc-sweep', max_evals=max_evals, search_space=search_space_svc, data_name=data_name, model_name = 'SVC', features_names=sumo_columns_to_keep)\n",
    "model = xgb.XGBClassifier\n",
    "run_experiments('trts-xgb-sweep', max_evals=max_evals, search_space=search_space_xgb, data_name=data_name, model_name = 'XGBClassifier', features_names=sumo_columns_to_keep)"
   ]
  },
  {
   "cell_type": "markdown",
   "id": "e00bb44e",
   "metadata": {},
   "source": [
    "# Discriminative Score and UMAP"
   ]
  },
  {
   "cell_type": "markdown",
   "id": "33ea4a7b",
   "metadata": {},
   "source": [
    "We seek to understand how well a classifier can separate the real and the synthetic data to determine how indistiguishable they are.\n",
    "\n",
    "Here, there is no need to fine-tune hyperparameters, since the default parameters work.\n",
    "\n",
    "We are also going to plot the UMAP projection of the data, to see how separated it is."
   ]
  },
  {
   "cell_type": "code",
   "execution_count": 38,
   "id": "4fb96798",
   "metadata": {},
   "outputs": [],
   "source": [
    "X_uah_disc_sumo = uah_training[sumo_columns_to_keep].drop(columns=['label'])\n",
    "X_uah_disc_carla = uah_training[carla_columns_to_keep].drop(columns=['label'])\n",
    "y_uah_disc = np.zeros(len(X_uah_disc_carla)) # 0 for real data and 1 for synthetic data"
   ]
  },
  {
   "cell_type": "markdown",
   "id": "e5a2c99c",
   "metadata": {},
   "source": [
    "## SUMO"
   ]
  },
  {
   "cell_type": "code",
   "execution_count": 39,
   "id": "fc959c0a",
   "metadata": {},
   "outputs": [],
   "source": [
    "X_sumo_disc_fixed, y_sumo_disc_fixed = sumo_fixed.drop(columns=['label']), np.ones(len(sumo_fixed))\n",
    "X_sumo_disc_llm, y_sumo_disc_llm = sumo_llm.drop(columns=['label']), np.ones(len(sumo_llm))"
   ]
  },
  {
   "cell_type": "markdown",
   "id": "fb75d026",
   "metadata": {},
   "source": [
    "### Fixed"
   ]
  },
  {
   "cell_type": "code",
   "execution_count": 40,
   "id": "7b5635fc",
   "metadata": {},
   "outputs": [],
   "source": [
    "X, y = pd.concat([X_sumo_disc_fixed, X_uah_disc_sumo], axis=0, ignore_index=True), np.concat([y_sumo_disc_fixed, y_uah_disc], axis=0)\n",
    "X.reset_index(drop=True, inplace=True)\n",
    "X_train, X_val, y_train, y_val = train_test_split(X, y, test_size=0.2, random_state=42, shuffle=True)"
   ]
  },
  {
   "cell_type": "code",
   "execution_count": 41,
   "id": "4508209a",
   "metadata": {},
   "outputs": [
    {
     "name": "stdout",
     "output_type": "stream",
     "text": [
      "F1 Score: 1.0\n",
      "Accuracy: 1.0\n"
     ]
    }
   ],
   "source": [
    "rf = RandomForestClassifier()\n",
    "rf.fit(X_train, y_train)\n",
    "y_pred = rf.predict(X_val)\n",
    "print(f\"F1 Score: {f1_score(y_val, y_pred, average='weighted')}\")\n",
    "print(f\"Accuracy: {accuracy_score(y_val, y_pred)}\")"
   ]
  },
  {
   "cell_type": "code",
   "execution_count": 42,
   "id": "c6dbb622",
   "metadata": {},
   "outputs": [
    {
     "name": "stderr",
     "output_type": "stream",
     "text": [
      "/home/renan/miniconda3/lib/python3.12/site-packages/sklearn/manifold/_t_sne.py:1164: FutureWarning: 'n_iter' was renamed to 'max_iter' in version 1.5 and will be removed in 1.7.\n",
      "  warnings.warn(\n"
     ]
    }
   ],
   "source": [
    "data = X.values\n",
    "scaled_data = StandardScaler().fit_transform(data)\n",
    "reducer = TSNE(n_components=2, perplexity=30, n_iter=1000)\n",
    "sumo_fixed_embedding = reducer.fit_transform(scaled_data)"
   ]
  },
  {
   "cell_type": "code",
   "execution_count": 43,
   "id": "10f5e5ca",
   "metadata": {},
   "outputs": [
    {
     "data": {
      "image/png": "[encoded data removed]",
      "text/plain": [
       "<Figure size 600x600 with 1 Axes>"
      ]
     },
     "metadata": {},
     "output_type": "display_data"
    }
   ],
   "source": [
    "save_tsne(sumo_fixed_embedding, y, 't-SNE SUMO Fixed')"
   ]
  },
  {
   "cell_type": "markdown",
   "id": "3cdb944b",
   "metadata": {},
   "source": [
    "### LLM"
   ]
  },
  {
   "cell_type": "code",
   "execution_count": 44,
   "id": "2593281c",
   "metadata": {},
   "outputs": [],
   "source": [
    "X, y = pd.concat([X_sumo_disc_llm, X_uah_disc_sumo], axis=0, ignore_index=True), np.concat([y_sumo_disc_llm, y_uah_disc], axis=0)\n",
    "X.reset_index(drop=True, inplace=True)\n",
    "X_train, X_val, y_train, y_val = train_test_split(X, y, test_size=0.2, random_state=42, shuffle=True)"
   ]
  },
  {
   "cell_type": "code",
   "execution_count": 45,
   "id": "5f06eff1",
   "metadata": {},
   "outputs": [
    {
     "name": "stdout",
     "output_type": "stream",
     "text": [
      "F1 Score: 1.0\n",
      "Accuracy: 1.0\n"
     ]
    }
   ],
   "source": [
    "rf = RandomForestClassifier()\n",
    "rf.fit(X_train, y_train)\n",
    "y_pred = rf.predict(X_val)\n",
    "print(f\"F1 Score: {f1_score(y_val, y_pred, average='weighted')}\")\n",
    "print(f\"Accuracy: {accuracy_score(y_val, y_pred)}\")"
   ]
  },
  {
   "cell_type": "code",
   "execution_count": 46,
   "id": "8b988904",
   "metadata": {},
   "outputs": [
    {
     "name": "stderr",
     "output_type": "stream",
     "text": [
      "/home/renan/miniconda3/lib/python3.12/site-packages/sklearn/manifold/_t_sne.py:1164: FutureWarning: 'n_iter' was renamed to 'max_iter' in version 1.5 and will be removed in 1.7.\n",
      "  warnings.warn(\n"
     ]
    }
   ],
   "source": [
    "data = X.values\n",
    "scaled_data = StandardScaler().fit_transform(data)\n",
    "reducer = TSNE(n_components=2, perplexity=30, n_iter=1000)\n",
    "sumo_llm_embedding = reducer.fit_transform(scaled_data)"
   ]
  },
  {
   "cell_type": "code",
   "execution_count": 47,
   "id": "d63a04f1",
   "metadata": {},
   "outputs": [
    {
     "data": {
      "image/png": "[encoded data removed]",
      "text/plain": [
       "<Figure size 600x600 with 1 Axes>"
      ]
     },
     "metadata": {},
     "output_type": "display_data"
    }
   ],
   "source": [
    "save_tsne(sumo_llm_embedding, y, 't-SNE SUMO LLM')"
   ]
  },
  {
   "cell_type": "markdown",
   "id": "8fc572b9",
   "metadata": {},
   "source": [
    "## CARLA"
   ]
  },
  {
   "cell_type": "code",
   "execution_count": 48,
   "id": "1d3d9e9f",
   "metadata": {},
   "outputs": [],
   "source": [
    "X_carla_disc_fixed, y_carla_disc_fixed = carla_fixed.drop(columns=['label']), np.ones(len(carla_fixed))\n",
    "X_carla_disc_llm, y_carla_disc_llm = carla_llm.drop(columns=['label']), np.ones(len(carla_llm))"
   ]
  },
  {
   "cell_type": "markdown",
   "id": "a13c9d64",
   "metadata": {},
   "source": [
    "### Fixed"
   ]
  },
  {
   "cell_type": "code",
   "execution_count": 49,
   "id": "b6fcc9d0",
   "metadata": {},
   "outputs": [],
   "source": [
    "X, y = pd.concat([X_carla_disc_fixed, X_uah_disc_carla], axis=0, ignore_index=True), np.concat([y_carla_disc_fixed, y_uah_disc], axis=0)\n",
    "X.reset_index(drop=True, inplace=True)\n",
    "X_train, X_val, y_train, y_val = train_test_split(X, y, test_size=0.2, random_state=42, shuffle=True)"
   ]
  },
  {
   "cell_type": "code",
   "execution_count": 50,
   "id": "2169b82f",
   "metadata": {},
   "outputs": [
    {
     "name": "stdout",
     "output_type": "stream",
     "text": [
      "F1 Score: 1.0\n",
      "Accuracy: 1.0\n"
     ]
    }
   ],
   "source": [
    "rf = RandomForestClassifier()\n",
    "rf.fit(X_train, y_train)\n",
    "y_pred = rf.predict(X_val)\n",
    "print(f\"F1 Score: {f1_score(y_val, y_pred, average='weighted')}\")\n",
    "print(f\"Accuracy: {accuracy_score(y_val, y_pred)}\")"
   ]
  },
  {
   "cell_type": "code",
   "execution_count": 51,
   "id": "a672fea0",
   "metadata": {},
   "outputs": [
    {
     "name": "stderr",
     "output_type": "stream",
     "text": [
      "/home/renan/miniconda3/lib/python3.12/site-packages/sklearn/manifold/_t_sne.py:1164: FutureWarning: 'n_iter' was renamed to 'max_iter' in version 1.5 and will be removed in 1.7.\n",
      "  warnings.warn(\n"
     ]
    }
   ],
   "source": [
    "data = X.values\n",
    "scaled_data = StandardScaler().fit_transform(data)\n",
    "reducer = TSNE(n_components=2, perplexity=30, n_iter=1000)\n",
    "carla_fixed_embedding = reducer.fit_transform(scaled_data)"
   ]
  },
  {
   "cell_type": "code",
   "execution_count": 52,
   "id": "11846000",
   "metadata": {},
   "outputs": [
    {
     "data": {
      "image/png": "[encoded data removed]",
      "text/plain": [
       "<Figure size 600x600 with 1 Axes>"
      ]
     },
     "metadata": {},
     "output_type": "display_data"
    }
   ],
   "source": [
    "save_tsne(carla_fixed_embedding, y, 't-SNE CARLA Fixed')"
   ]
  },
  {
   "cell_type": "markdown",
   "id": "e67f88f7",
   "metadata": {},
   "source": [
    "### LLM"
   ]
  },
  {
   "cell_type": "code",
   "execution_count": 53,
   "id": "aa3c7d8c",
   "metadata": {},
   "outputs": [],
   "source": [
    "X, y = pd.concat([X_carla_disc_llm, X_uah_disc_carla], axis=0, ignore_index=True), np.concat([y_carla_disc_llm, y_uah_disc], axis=0)\n",
    "X.reset_index(drop=True, inplace=True)\n",
    "X_train, X_val, y_train, y_val = train_test_split(X, y, test_size=0.2, random_state=42, shuffle=True)"
   ]
  },
  {
   "cell_type": "code",
   "execution_count": 54,
   "id": "ca3c9f70",
   "metadata": {},
   "outputs": [
    {
     "name": "stdout",
     "output_type": "stream",
     "text": [
      "F1 Score: 1.0\n",
      "Accuracy: 1.0\n"
     ]
    }
   ],
   "source": [
    "rf = RandomForestClassifier()\n",
    "rf.fit(X_train, y_train)\n",
    "y_pred = rf.predict(X_val)\n",
    "print(f\"F1 Score: {f1_score(y_val, y_pred, average='weighted')}\")\n",
    "print(f\"Accuracy: {accuracy_score(y_val, y_pred)}\")"
   ]
  },
  {
   "cell_type": "code",
   "execution_count": 55,
   "id": "7f7fc11e",
   "metadata": {},
   "outputs": [
    {
     "name": "stderr",
     "output_type": "stream",
     "text": [
      "/home/renan/miniconda3/lib/python3.12/site-packages/sklearn/manifold/_t_sne.py:1164: FutureWarning: 'n_iter' was renamed to 'max_iter' in version 1.5 and will be removed in 1.7.\n",
      "  warnings.warn(\n"
     ]
    }
   ],
   "source": [
    "data = X.values\n",
    "scaled_data = StandardScaler().fit_transform(data)\n",
    "reducer = TSNE(n_components=2, perplexity=30, n_iter=1000)\n",
    "carla_llm_embedding = reducer.fit_transform(scaled_data)"
   ]
  },
  {
   "cell_type": "code",
   "execution_count": 56,
   "id": "fec539a9",
   "metadata": {},
   "outputs": [
    {
     "data": {
      "image/png": "[encoded data removed]",
      "text/plain": [
       "<Figure size 600x600 with 1 Axes>"
      ]
     },
     "metadata": {},
     "output_type": "display_data"
    }
   ],
   "source": [
    "save_tsne(carla_llm_embedding, y, 't-SNE CARLA LLM')"
   ]
  },
  {
   "cell_type": "markdown",
   "id": "4d1d188d",
   "metadata": {},
   "source": [
    "# Predictive Scores"
   ]
  },
  {
   "cell_type": "markdown",
   "id": "9a4ef45f",
   "metadata": {},
   "source": [
    "Here we train on different combinations of real and synthetic data and test on real data only in order to verify the quality of the data for real-world applications."
   ]
  },
  {
   "cell_type": "markdown",
   "id": "2f678a67",
   "metadata": {},
   "source": [
    "## Real Only"
   ]
  },
  {
   "cell_type": "code",
   "execution_count": 142,
   "id": "1730251d",
   "metadata": {},
   "outputs": [],
   "source": [
    "# Provide an Experiment description that will appear in the UI\n",
    "experiment_description = (\n",
    "    \"Experiment to train models on the UAH driveset.\"\n",
    ")\n",
    "\n",
    "# Provide searchable tags that define characteristics of the Runs that\n",
    "# will be in this Experiment\n",
    "experiment_tags = {\n",
    "    \"project_name\": \"driver-behavior-prediction\",\n",
    "    \"mlflow.note.content\": experiment_description,\n",
    "}\n",
    "\n",
    "# Create the Experiment, providing a unique name\n",
    "try:\n",
    "    driver_behavior_experiment = client.create_experiment(\n",
    "        name=\"UAH\", tags=experiment_tags\n",
    "    )\n",
    "except mlflow.exceptions.RestException as e:\n",
    "    print(f\"Experiment already exists: {e}\")"
   ]
  },
  {
   "cell_type": "code",
   "execution_count": 143,
   "id": "05595ec8",
   "metadata": {},
   "outputs": [],
   "source": [
    "columns_to_keep = ['acc_x', 'acc_y', 'acc_z', 'gyro_x', 'gyro_y', 'gyro_z', 'angle', 'speed', 'label']\n",
    "\n",
    "X_train, y_train = preprocessor.sliding_windows(uah_training[columns_to_keep], window_size=window_size, step_size=step_size)\n",
    "X_val, y_val = preprocessor.sliding_windows(uah_validation[columns_to_keep], window_size=window_size, step_size=step_size)\n",
    "\n",
    "scaler = StandardScaler()\n",
    "X_train = scaler.fit_transform(X_train)\n",
    "X_val = scaler.transform(X_val)\n",
    "\n",
    "y_train = preprocessor.one_hot_encode(y_train, one_hot_keys=one_hot_keys)\n",
    "y_val = preprocessor.one_hot_encode(y_val, one_hot_keys=one_hot_keys)\n",
    "\n",
    "signature = infer_signature(X_train, y_train)\n",
    "mlflow.set_experiment('UAH')\n",
    "data_name = 'UAH'"
   ]
  },
  {
   "cell_type": "code",
   "execution_count": 144,
   "id": "fab04b02",
   "metadata": {},
   "outputs": [
    {
     "name": "stdout",
     "output_type": "stream",
     "text": [
      "This will run 5 trials to find optimal hyperparameters...\n",
      "Params: {'max_depth': 50, 'n_estimators': 200}       \n",
      "🏃 View run RandomForestClassifier_{'max_depth': 50, 'n_estimators': 200} at: http://127.0.0.1:8080/#/experiments/819130163325130393/runs/ce3ffa4cf5d74513a22549a3358daa6f\n",
      "\n",
      "🧪 View experiment at: http://127.0.0.1:8080/#/experiments/819130163325130393\n",
      "\n",
      "Params: {'max_depth': 50, 'n_estimators': 50}                                   \n",
      "🏃 View run RandomForestClassifier_{'max_depth': 50, 'n_estimators': 50} at: http://127.0.0.1:8080/#/experiments/819130163325130393/runs/22a86da8fc404f7783eacd0236905c30\n",
      "\n",
      "🧪 View experiment at: http://127.0.0.1:8080/#/experiments/819130163325130393   \n",
      "\n",
      "Params: {'max_depth': None, 'n_estimators': 500}                                \n",
      "🏃 View run RandomForestClassifier_{'max_depth': None, 'n_estimators': 500} at: http://127.0.0.1:8080/#/experiments/819130163325130393/runs/c47450a68b8b495e8a3e5aa351311ad2\n",
      "\n",
      "🧪 View experiment at: http://127.0.0.1:8080/#/experiments/819130163325130393   \n",
      "\n",
      "Params: {'max_depth': 50, 'n_estimators': 200}                                  \n",
      "🏃 View run RandomForestClassifier_{'max_depth': 50, 'n_estimators': 200} at: http://127.0.0.1:8080/#/experiments/819130163325130393/runs/bb7f41e6abcf4e8abc6e6b6995358cb3\n",
      "\n",
      "🧪 View experiment at: http://127.0.0.1:8080/#/experiments/819130163325130393   \n",
      "\n",
      "Params: {'max_depth': 50, 'n_estimators': 500}                                  \n",
      "🏃 View run RandomForestClassifier_{'max_depth': 50, 'n_estimators': 500} at: http://127.0.0.1:8080/#/experiments/819130163325130393/runs/08f2982032954be1b42214808edf248f\n",
      "\n",
      "🧪 View experiment at: http://127.0.0.1:8080/#/experiments/819130163325130393   \n",
      "\n",
      "100%|██████████| 5/5 [02:43<00:00, 32.62s/trial, best loss: -0.6735943806164598]\n",
      "🏃 View run rf-sweep at: http://127.0.0.1:8080/#/experiments/819130163325130393/runs/6b22389f43934f999eaa783d178494e5\n",
      "🧪 View experiment at: http://127.0.0.1:8080/#/experiments/819130163325130393\n",
      "This will run 5 trials to find optimal hyperparameters...\n",
      "Params: {'C': 0.01, 'gamma': 0.001, 'kernel': 'rbf'} \n",
      "🏃 View run SVC_{'C': 0.01, 'gamma': 0.001, 'kernel': 'rbf'} at: http://127.0.0.1:8080/#/experiments/819130163325130393/runs/6f0a0613d8c646a3b8a55555f3635b7a\n",
      "\n",
      "🧪 View experiment at: http://127.0.0.1:8080/#/experiments/819130163325130393\n",
      "\n",
      "Params: {'C': 0.1, 'gamma': 0.01, 'kernel': 'rbf'}                              \n",
      "🏃 View run SVC_{'C': 0.1, 'gamma': 0.01, 'kernel': 'rbf'} at: http://127.0.0.1:8080/#/experiments/819130163325130393/runs/80029ffccae84ad4813bb82e8dd7561d\n",
      "\n",
      "🧪 View experiment at: http://127.0.0.1:8080/#/experiments/819130163325130393   \n",
      "\n",
      "Params: {'C': 1, 'gamma': 0.01, 'kernel': 'rbf'}                                \n",
      "🏃 View run SVC_{'C': 1, 'gamma': 0.01, 'kernel': 'rbf'} at: http://127.0.0.1:8080/#/experiments/819130163325130393/runs/f316b5d4ddbd4e4192d67325524921d4\n",
      "\n",
      "🧪 View experiment at: http://127.0.0.1:8080/#/experiments/819130163325130393   \n",
      "\n",
      "Params: {'C': 0.1, 'gamma': 1, 'kernel': 'rbf'}                                 \n",
      " 60%|██████    | 3/5 [01:19<00:50, 25.42s/trial, best loss: -0.7887581233260065]"
     ]
    },
    {
     "name": "stderr",
     "output_type": "stream",
     "text": [
      "/home/renan/miniconda3/lib/python3.12/site-packages/sklearn/metrics/_classification.py:1565: UndefinedMetricWarning: Precision is ill-defined and being set to 0.0 in labels with no predicted samples. Use `zero_division` parameter to control this behavior.\n",
      "  _warn_prf(average, modifier, f\"{metric.capitalize()} is\", len(result))\n",
      "\n"
     ]
    },
    {
     "name": "stdout",
     "output_type": "stream",
     "text": [
      "🏃 View run SVC_{'C': 0.1, 'gamma': 1, 'kernel': 'rbf'} at: http://127.0.0.1:8080/#/experiments/819130163325130393/runs/114ecf8b3edb4818ac49b54f3d4cd139\n",
      "\n",
      "🧪 View experiment at: http://127.0.0.1:8080/#/experiments/819130163325130393   \n",
      "\n",
      "Params: {'C': 1, 'gamma': 0.1, 'kernel': 'rbf'}                                 \n",
      "🏃 View run SVC_{'C': 1, 'gamma': 0.1, 'kernel': 'rbf'} at: http://127.0.0.1:8080/#/experiments/819130163325130393/runs/c90f46131d2148e38f510cda5121a896\n",
      "\n",
      "🧪 View experiment at: http://127.0.0.1:8080/#/experiments/819130163325130393   \n",
      "\n",
      "100%|██████████| 5/5 [04:23<00:00, 52.69s/trial, best loss: -0.7887581233260065]\n",
      "🏃 View run svc-sweep at: http://127.0.0.1:8080/#/experiments/819130163325130393/runs/19b19cc2e24e44678b67a906936d0e9a\n",
      "🧪 View experiment at: http://127.0.0.1:8080/#/experiments/819130163325130393\n",
      "This will run 5 trials to find optimal hyperparameters...\n",
      "Params: {'C': 0.01}                                  \n",
      "🏃 View run LinearSVC_{'C': 0.01} at: http://127.0.0.1:8080/#/experiments/819130163325130393/runs/894aeaa3ade94719977ac1bf190a99ab\n",
      "\n",
      "🧪 View experiment at: http://127.0.0.1:8080/#/experiments/819130163325130393\n",
      "\n",
      "Params: {'C': 1}                                                              \n",
      "🏃 View run LinearSVC_{'C': 1} at: http://127.0.0.1:8080/#/experiments/819130163325130393/runs/a4033b7bca23478ab557a204b9bfab7d\n",
      "\n",
      "🧪 View experiment at: http://127.0.0.1:8080/#/experiments/819130163325130393 \n",
      "\n",
      "Params: {'C': 0.1}                                                              \n",
      "🏃 View run LinearSVC_{'C': 0.1} at: http://127.0.0.1:8080/#/experiments/819130163325130393/runs/67d8ca31eb5746058dfb2d96c212c1c4\n",
      "\n",
      "🧪 View experiment at: http://127.0.0.1:8080/#/experiments/819130163325130393   \n",
      "\n",
      "Params: {'C': 1}                                                                \n",
      "🏃 View run LinearSVC_{'C': 1} at: http://127.0.0.1:8080/#/experiments/819130163325130393/runs/2dd854ad81b4472ebc2d7d1ced8c1cbe\n",
      "\n",
      "🧪 View experiment at: http://127.0.0.1:8080/#/experiments/819130163325130393   \n",
      "\n",
      "Params: {'C': 0.1}                                                              \n",
      "🏃 View run LinearSVC_{'C': 0.1} at: http://127.0.0.1:8080/#/experiments/819130163325130393/runs/228783170c994cd7b3c6b489b2cbf9e3\n",
      "\n",
      "🧪 View experiment at: http://127.0.0.1:8080/#/experiments/819130163325130393   \n",
      "\n",
      "100%|██████████| 5/5 [00:12<00:00,  2.51s/trial, best loss: -0.6608151766764018]\n",
      "🏃 View run svc-linear-sweep at: http://127.0.0.1:8080/#/experiments/819130163325130393/runs/1f5bfd30526c469fbe87e8640182e494\n",
      "🧪 View experiment at: http://127.0.0.1:8080/#/experiments/819130163325130393\n",
      "This will run 5 trials to find optimal hyperparameters...\n",
      "Params: {'colsample_bytree': 0.5, 'learning_rate': 0.1, 'max_depth': 5, 'n_estimators': 200, 'subsample': 0.5}\n",
      "🏃 View run XGBClassifier_{'colsample_bytree': 0.5, 'learning_rate': 0.1, 'max_depth': 5, 'n_estimators': 200, 'subsample': 0.5} at: http://127.0.0.1:8080/#/experiments/819130163325130393/runs/e40d41635c6b406db04285e6aeb3d780\n",
      "\n",
      "🧪 View experiment at: http://127.0.0.1:8080/#/experiments/819130163325130393\n",
      "\n",
      "Params: {'colsample_bytree': 0.7, 'learning_rate': 0.3, 'max_depth': 5, 'n_estimators': 1000, 'subsample': 1.0}\n",
      "🏃 View run XGBClassifier_{'colsample_bytree': 0.7, 'learning_rate': 0.3, 'max_depth': 5, 'n_estimators': 1000, 'subsample': 1.0} at: http://127.0.0.1:8080/#/experiments/819130163325130393/runs/fbcda44dc4794594a9722d6a99f290f2\n",
      "\n",
      "🧪 View experiment at: http://127.0.0.1:8080/#/experiments/819130163325130393   \n",
      "\n",
      "Params: {'colsample_bytree': 0.5, 'learning_rate': 0.01, 'max_depth': 10, 'n_estimators': 1000, 'subsample': 1.0}\n",
      "🏃 View run XGBClassifier_{'colsample_bytree': 0.5, 'learning_rate': 0.01, 'max_depth': 10, 'n_estimators': 1000, 'subsample': 1.0} at: http://127.0.0.1:8080/#/experiments/819130163325130393/runs/9979ba6fafbc494faa9c3082cd3fa882\n",
      "\n",
      "🧪 View experiment at: http://127.0.0.1:8080/#/experiments/819130163325130393   \n",
      "\n",
      "Params: {'colsample_bytree': 0.7, 'learning_rate': 0.01, 'max_depth': 5, 'n_estimators': 1000, 'subsample': 0.5}\n",
      "🏃 View run XGBClassifier_{'colsample_bytree': 0.7, 'learning_rate': 0.01, 'max_depth': 5, 'n_estimators': 1000, 'subsample': 0.5} at: http://127.0.0.1:8080/#/experiments/819130163325130393/runs/96a715b078ad4cabb00e67a4aa088b90\n",
      "\n",
      "🧪 View experiment at: http://127.0.0.1:8080/#/experiments/819130163325130393   \n",
      "\n",
      "Params: {'colsample_bytree': 0.5, 'learning_rate': 0.01, 'max_depth': None, 'n_estimators': 700, 'subsample': 1.0}\n",
      "🏃 View run XGBClassifier_{'colsample_bytree': 0.5, 'learning_rate': 0.01, 'max_depth': None, 'n_estimators': 700, 'subsample': 1.0} at: http://127.0.0.1:8080/#/experiments/819130163325130393/runs/8e778064fb0e453ebfa52a618f2a6e2d\n",
      "\n",
      "🧪 View experiment at: http://127.0.0.1:8080/#/experiments/819130163325130393   \n",
      "\n",
      "100%|██████████| 5/5 [00:37<00:00,  7.42s/trial, best loss: -0.7735115125719207]\n",
      "🏃 View run xgb-sweep at: http://127.0.0.1:8080/#/experiments/819130163325130393/runs/495cbcb25037487a9b7876c0d1063597\n",
      "🧪 View experiment at: http://127.0.0.1:8080/#/experiments/819130163325130393\n"
     ]
    },
    {
     "data": {
      "text/plain": [
       "0.7735115125719207"
      ]
     },
     "execution_count": 144,
     "metadata": {},
     "output_type": "execute_result"
    }
   ],
   "source": [
    "model = RandomForestClassifier\n",
    "run_experiments('rf-sweep', max_evals=max_evals, search_space=search_space_rf, data_name=data_name, model_name = 'RandomForestClassifier', features_names=columns_to_keep)\n",
    "model = SVC\n",
    "run_experiments('svc-sweep', max_evals=max_evals, search_space=search_space_svc, data_name=data_name, model_name = 'SVC', features_names=columns_to_keep)\n",
    "model = LinearSVC\n",
    "run_experiments('svc-linear-sweep', max_evals=max_evals, search_space=search_space_svc_linear, data_name=data_name, model_name = 'LinearSVC', features_names=columns_to_keep)\n",
    "model = xgb.XGBClassifier\n",
    "run_experiments('xgb-sweep', max_evals=max_evals, search_space=search_space_xgb, data_name=data_name, model_name = 'XGBClassifier', features_names=columns_to_keep)"
   ]
  },
  {
   "cell_type": "markdown",
   "id": "05f0c899",
   "metadata": {},
   "source": [
    "## SUMO Only"
   ]
  },
  {
   "cell_type": "code",
   "execution_count": 145,
   "id": "4b0bd8d1",
   "metadata": {},
   "outputs": [],
   "source": [
    "# SUMO\n",
    "X_sumo_fixed, y_sumo_fixed = preprocessor.sliding_windows(sumo_fixed, window_size=window_size, step_size=step_size)\n",
    "X_sumo_llm, y_sumo_llm = preprocessor.sliding_windows(sumo_llm, window_size=window_size, step_size=step_size)"
   ]
  },
  {
   "cell_type": "code",
   "execution_count": 146,
   "id": "98105bf0",
   "metadata": {},
   "outputs": [
    {
     "name": "stdout",
     "output_type": "stream",
     "text": [
      "Columns to keep for validation: ['acc', 'angle', 'speed', 'label']\n"
     ]
    }
   ],
   "source": [
    "# Getting the validation for SUMO variables\n",
    "print(\"Columns to keep for validation:\", sumo_columns_to_keep)\n",
    "\n",
    "X_val_base, y_val = preprocessor.sliding_windows(uah_validation[sumo_columns_to_keep], window_size=window_size, step_size=step_size)\n",
    "y_val = preprocessor.one_hot_encode(y_val, one_hot_keys=one_hot_keys)"
   ]
  },
  {
   "cell_type": "markdown",
   "id": "69e823c8",
   "metadata": {},
   "source": [
    "### Fixed"
   ]
  },
  {
   "cell_type": "code",
   "execution_count": 147,
   "id": "da934d9c",
   "metadata": {},
   "outputs": [],
   "source": [
    "# Provide an Experiment description that will appear in the UI\n",
    "experiment_description = (\n",
    "    \"Experiment to train models on the SUMO Fixed dataset.\"\n",
    ")\n",
    "\n",
    "# Provide searchable tags that define characteristics of the Runs that\n",
    "# will be in this Experiment\n",
    "experiment_tags = {\n",
    "    \"project_name\": \"driver-behavior-prediction\",\n",
    "    \"mlflow.note.content\": experiment_description,\n",
    "}\n",
    "\n",
    "# Create the Experiment, providing a unique name\n",
    "try:\n",
    "    driver_behavior_experiment = client.create_experiment(\n",
    "        name=\"SUMO_Fixed\", tags=experiment_tags\n",
    "    )\n",
    "except mlflow.exceptions.RestException as e:\n",
    "    print(f\"Experiment already exists: {e}\")"
   ]
  },
  {
   "cell_type": "code",
   "execution_count": 148,
   "id": "0f7026fd",
   "metadata": {},
   "outputs": [],
   "source": [
    "X_train, y_train = X_sumo_fixed, y_sumo_fixed\n",
    "\n",
    "scaler = StandardScaler()\n",
    "X_train = scaler.fit_transform(X_train)\n",
    "X_val = scaler.transform(X_val_base)\n",
    "y_train = preprocessor.one_hot_encode(y_train, one_hot_keys=one_hot_keys)\n",
    "\n",
    "signature = infer_signature(X_train, y_train)\n",
    "mlflow.set_experiment('SUMO_Fixed')\n",
    "data_name = 'SUMO_Fixed'"
   ]
  },
  {
   "cell_type": "code",
   "execution_count": 149,
   "id": "7080e63a",
   "metadata": {},
   "outputs": [
    {
     "name": "stdout",
     "output_type": "stream",
     "text": [
      "This will run 5 trials to find optimal hyperparameters...\n",
      "Params: {'max_depth': 50, 'n_estimators': 500}       \n",
      "🏃 View run RandomForestClassifier_{'max_depth': 50, 'n_estimators': 500} at: http://127.0.0.1:8080/#/experiments/231265708412075804/runs/f0b5dcc92f7a4382b47cbdc82fc1f9d1\n",
      "\n",
      "🧪 View experiment at: http://127.0.0.1:8080/#/experiments/231265708412075804\n",
      "\n",
      "Params: {'max_depth': 50, 'n_estimators': 100}                                   \n",
      "🏃 View run RandomForestClassifier_{'max_depth': 50, 'n_estimators': 100} at: http://127.0.0.1:8080/#/experiments/231265708412075804/runs/eff9bbfb08f548f2b7aa4ec6fb26cce4\n",
      "\n",
      "🧪 View experiment at: http://127.0.0.1:8080/#/experiments/231265708412075804    \n",
      "\n",
      "Params: {'max_depth': 10, 'n_estimators': 100}                                   \n",
      "🏃 View run RandomForestClassifier_{'max_depth': 10, 'n_estimators': 100} at: http://127.0.0.1:8080/#/experiments/231265708412075804/runs/6835d13e6d464e52918bb7e2e1f3776a\n",
      "\n",
      "🧪 View experiment at: http://127.0.0.1:8080/#/experiments/231265708412075804    \n",
      "\n",
      "Params: {'max_depth': 20, 'n_estimators': 50}                                    \n",
      "🏃 View run RandomForestClassifier_{'max_depth': 20, 'n_estimators': 50} at: http://127.0.0.1:8080/#/experiments/231265708412075804/runs/944c42511144411585cbd23bf49c7e3f\n",
      "\n",
      "🧪 View experiment at: http://127.0.0.1:8080/#/experiments/231265708412075804    \n",
      "\n",
      "Params: {'max_depth': None, 'n_estimators': 50}                                  \n",
      "🏃 View run RandomForestClassifier_{'max_depth': None, 'n_estimators': 50} at: http://127.0.0.1:8080/#/experiments/231265708412075804/runs/5592a7f213024ab680a4aeb0ecd6b407\n",
      "\n",
      "🧪 View experiment at: http://127.0.0.1:8080/#/experiments/231265708412075804    \n",
      "\n",
      "100%|██████████| 5/5 [01:07<00:00, 13.57s/trial, best loss: -0.33701038711508563]\n",
      "🏃 View run rf-sweep at: http://127.0.0.1:8080/#/experiments/231265708412075804/runs/e82872f6fe12438696fdefcf491cfa5a\n",
      "🧪 View experiment at: http://127.0.0.1:8080/#/experiments/231265708412075804\n",
      "This will run 5 trials to find optimal hyperparameters...\n",
      "Params: {'C': 0.5, 'gamma': 1, 'kernel': 'rbf'}      \n",
      "🏃 View run SVC_{'C': 0.5, 'gamma': 1, 'kernel': 'rbf'} at: http://127.0.0.1:8080/#/experiments/231265708412075804/runs/a3a371ba8a2546b3b009c5fb8c0a9d54\n",
      "\n",
      "🧪 View experiment at: http://127.0.0.1:8080/#/experiments/231265708412075804\n",
      "\n",
      "Params: {'C': 1, 'gamma': 0.01, 'kernel': 'rbf'}                                 \n",
      "🏃 View run SVC_{'C': 1, 'gamma': 0.01, 'kernel': 'rbf'} at: http://127.0.0.1:8080/#/experiments/231265708412075804/runs/341aed24b2b846c896c7ee492915e2e8\n",
      "\n",
      "🧪 View experiment at: http://127.0.0.1:8080/#/experiments/231265708412075804    \n",
      "\n",
      "Params: {'C': 0.5, 'gamma': 0.001, 'kernel': 'rbf'}                              \n",
      "🏃 View run SVC_{'C': 0.5, 'gamma': 0.001, 'kernel': 'rbf'} at: http://127.0.0.1:8080/#/experiments/231265708412075804/runs/35cd20c6ffb3478eb605cca376056cd4\n",
      "\n",
      "🧪 View experiment at: http://127.0.0.1:8080/#/experiments/231265708412075804    \n",
      "\n",
      "Params: {'C': 0.05, 'gamma': 0.1, 'kernel': 'rbf'}                               \n",
      "🏃 View run SVC_{'C': 0.05, 'gamma': 0.1, 'kernel': 'rbf'} at: http://127.0.0.1:8080/#/experiments/231265708412075804/runs/3fed031427b34cd5a6e736db20099a22\n",
      "\n",
      "🧪 View experiment at: http://127.0.0.1:8080/#/experiments/231265708412075804    \n",
      "\n",
      "Params: {'C': 0.5, 'gamma': 1, 'kernel': 'rbf'}                                  \n",
      "🏃 View run SVC_{'C': 0.5, 'gamma': 1, 'kernel': 'rbf'} at: http://127.0.0.1:8080/#/experiments/231265708412075804/runs/8e311a9f37994a118554c6b1ab1a01e7\n",
      "\n",
      "🧪 View experiment at: http://127.0.0.1:8080/#/experiments/231265708412075804    \n",
      "\n",
      "100%|██████████| 5/5 [01:21<00:00, 16.32s/trial, best loss: -0.33641148675357896]\n",
      "🏃 View run svc-sweep at: http://127.0.0.1:8080/#/experiments/231265708412075804/runs/9351d261b8a34774b1f305f6b471cb9b\n",
      "🧪 View experiment at: http://127.0.0.1:8080/#/experiments/231265708412075804\n",
      "This will run 5 trials to find optimal hyperparameters...\n",
      "Params: {'C': 0.001}                                 \n",
      "🏃 View run LinearSVC_{'C': 0.001} at: http://127.0.0.1:8080/#/experiments/231265708412075804/runs/7b64a1e46dbf4d84ad0e6c41ba736316\n",
      "\n",
      "🧪 View experiment at: http://127.0.0.1:8080/#/experiments/231265708412075804\n",
      "\n",
      "Params: {'C': 0.001}                                                             \n",
      "🏃 View run LinearSVC_{'C': 0.001} at: http://127.0.0.1:8080/#/experiments/231265708412075804/runs/81ec891f6e1740d3aec0646f1626d58e\n",
      "\n",
      "🧪 View experiment at: http://127.0.0.1:8080/#/experiments/231265708412075804    \n",
      "\n",
      "Params: {'C': 0.01}                                                              \n",
      "🏃 View run LinearSVC_{'C': 0.01} at: http://127.0.0.1:8080/#/experiments/231265708412075804/runs/022a60863f0b4f089767eccfaba78c93\n",
      "\n",
      "🧪 View experiment at: http://127.0.0.1:8080/#/experiments/231265708412075804    \n",
      "\n",
      "Params: {'C': 1}                                                                 \n",
      "🏃 View run LinearSVC_{'C': 1} at: http://127.0.0.1:8080/#/experiments/231265708412075804/runs/84a29b1e5ecc44148b645e11862452a2\n",
      "\n",
      "🧪 View experiment at: http://127.0.0.1:8080/#/experiments/231265708412075804    \n",
      "\n",
      "Params: {'C': 0.01}                                                              \n",
      "🏃 View run LinearSVC_{'C': 0.01} at: http://127.0.0.1:8080/#/experiments/231265708412075804/runs/13d099e842b449e8a12006b036ac7602\n",
      "\n",
      "🧪 View experiment at: http://127.0.0.1:8080/#/experiments/231265708412075804    \n",
      "\n",
      "100%|██████████| 5/5 [00:07<00:00,  1.49s/trial, best loss: -0.33701038711508563]\n",
      "🏃 View run svc-linear-sweep at: http://127.0.0.1:8080/#/experiments/231265708412075804/runs/f9a2069fe6c44b33b96f208d546b8346\n",
      "🧪 View experiment at: http://127.0.0.1:8080/#/experiments/231265708412075804\n",
      "This will run 5 trials to find optimal hyperparameters...\n",
      "Params: {'colsample_bytree': 0.5, 'learning_rate': 0.001, 'max_depth': 5, 'n_estimators': 500, 'subsample': 1.0}\n",
      "🏃 View run XGBClassifier_{'colsample_bytree': 0.5, 'learning_rate': 0.001, 'max_depth': 5, 'n_estimators': 500, 'subsample': 1.0} at: http://127.0.0.1:8080/#/experiments/231265708412075804/runs/7989f08c43b14ce78f94e5a7f702a939\n",
      "\n",
      "🧪 View experiment at: http://127.0.0.1:8080/#/experiments/231265708412075804\n",
      "\n",
      "Params: {'colsample_bytree': 0.5, 'learning_rate': 0.2, 'max_depth': 5, 'n_estimators': 1000, 'subsample': 0.5}\n",
      "🏃 View run XGBClassifier_{'colsample_bytree': 0.5, 'learning_rate': 0.2, 'max_depth': 5, 'n_estimators': 1000, 'subsample': 0.5} at: http://127.0.0.1:8080/#/experiments/231265708412075804/runs/159d3f07f56d4f0d991d12df9be8897c\n",
      "\n",
      "🧪 View experiment at: http://127.0.0.1:8080/#/experiments/231265708412075804    \n",
      "\n",
      "Params: {'colsample_bytree': 1.0, 'learning_rate': 0.2, 'max_depth': 10, 'n_estimators': 1000, 'subsample': 0.5}\n",
      "🏃 View run XGBClassifier_{'colsample_bytree': 1.0, 'learning_rate': 0.2, 'max_depth': 10, 'n_estimators': 1000, 'subsample': 0.5} at: http://127.0.0.1:8080/#/experiments/231265708412075804/runs/ce94ee3a58f6488abd660d6e080ac547\n",
      "\n",
      "🧪 View experiment at: http://127.0.0.1:8080/#/experiments/231265708412075804    \n",
      "\n",
      "Params: {'colsample_bytree': 0.5, 'learning_rate': 0.001, 'max_depth': 10, 'n_estimators': 500, 'subsample': 0.7}\n",
      "🏃 View run XGBClassifier_{'colsample_bytree': 0.5, 'learning_rate': 0.001, 'max_depth': 10, 'n_estimators': 500, 'subsample': 0.7} at: http://127.0.0.1:8080/#/experiments/231265708412075804/runs/74f7cccf156c409b9c8cbb28229c2a3b\n",
      "\n",
      "🧪 View experiment at: http://127.0.0.1:8080/#/experiments/231265708412075804    \n",
      "\n",
      "Params: {'colsample_bytree': 0.5, 'learning_rate': 0.001, 'max_depth': None, 'n_estimators': 700, 'subsample': 0.5}\n",
      "🏃 View run XGBClassifier_{'colsample_bytree': 0.5, 'learning_rate': 0.001, 'max_depth': None, 'n_estimators': 700, 'subsample': 0.5} at: http://127.0.0.1:8080/#/experiments/231265708412075804/runs/47aa31119a784b62a7b85d0482cca488\n",
      "\n",
      "🧪 View experiment at: http://127.0.0.1:8080/#/experiments/231265708412075804    \n",
      "\n",
      "100%|██████████| 5/5 [00:21<00:00,  4.27s/trial, best loss: -0.33730962743803933]\n",
      "🏃 View run xgb-sweep at: http://127.0.0.1:8080/#/experiments/231265708412075804/runs/1f0320d5a67942e599e4709f289817a9\n",
      "🧪 View experiment at: http://127.0.0.1:8080/#/experiments/231265708412075804\n"
     ]
    },
    {
     "data": {
      "text/plain": [
       "0.33730962743803933"
      ]
     },
     "execution_count": 149,
     "metadata": {},
     "output_type": "execute_result"
    }
   ],
   "source": [
    "model = RandomForestClassifier\n",
    "run_experiments('rf-sweep', max_evals=max_evals, search_space=search_space_rf, data_name=data_name, model_name = 'RandomForestClassifier', features_names=columns_to_keep)\n",
    "model = SVC\n",
    "run_experiments('svc-sweep', max_evals=max_evals, search_space=search_space_svc, data_name=data_name, model_name = 'SVC', features_names=columns_to_keep)\n",
    "model = LinearSVC\n",
    "run_experiments('svc-linear-sweep', max_evals=max_evals, search_space=search_space_svc_linear, data_name=data_name, model_name = 'LinearSVC', features_names=columns_to_keep)\n",
    "model = xgb.XGBClassifier\n",
    "run_experiments('xgb-sweep', max_evals=max_evals, search_space=search_space_xgb, data_name=data_name, model_name = 'XGBClassifier', features_names=columns_to_keep)"
   ]
  },
  {
   "cell_type": "markdown",
   "id": "65285841",
   "metadata": {},
   "source": [
    "### LLM"
   ]
  },
  {
   "cell_type": "code",
   "execution_count": 150,
   "id": "567d9f58",
   "metadata": {},
   "outputs": [],
   "source": [
    "# Provide an Experiment description that will appear in the UI\n",
    "experiment_description = (\n",
    "    \"Experiment to train models on the SUMO LLM dataset.\"\n",
    ")\n",
    "\n",
    "# Provide searchable tags that define characteristics of the Runs that\n",
    "# will be in this Experiment\n",
    "experiment_tags = {\n",
    "    \"project_name\": \"driver-behavior-prediction\",\n",
    "    \"mlflow.note.content\": experiment_description,\n",
    "}\n",
    "\n",
    "# Create the Experiment, providing a unique name\n",
    "try:\n",
    "    driver_behavior_experiment = client.create_experiment(\n",
    "        name=\"SUMO_LLM\", tags=experiment_tags\n",
    "    )\n",
    "except mlflow.exceptions.RestException as e:\n",
    "    print(f\"Experiment already exists: {e}\")"
   ]
  },
  {
   "cell_type": "code",
   "execution_count": 151,
   "id": "0460281e",
   "metadata": {},
   "outputs": [],
   "source": [
    "X_train, y_train = X_sumo_llm, y_sumo_llm\n",
    "\n",
    "scaler = StandardScaler()\n",
    "X_train = scaler.fit_transform(X_train)\n",
    "X_val = scaler.transform(X_val_base)\n",
    "y_train = preprocessor.one_hot_encode(y_train, one_hot_keys=one_hot_keys)\n",
    "\n",
    "mlflow.set_experiment('SUMO_LLM')\n",
    "data_name = 'SUMO_LLM'"
   ]
  },
  {
   "cell_type": "code",
   "execution_count": 152,
   "id": "4da017c3",
   "metadata": {},
   "outputs": [
    {
     "name": "stdout",
     "output_type": "stream",
     "text": [
      "This will run 5 trials to find optimal hyperparameters...\n",
      "Params: {'max_depth': 50, 'n_estimators': 200}       \n",
      "🏃 View run RandomForestClassifier_{'max_depth': 50, 'n_estimators': 200} at: http://127.0.0.1:8080/#/experiments/520308586629931043/runs/18bf1b63fe344fbf9b251e66f8fe4b60\n",
      "\n",
      "🧪 View experiment at: http://127.0.0.1:8080/#/experiments/520308586629931043\n",
      "\n",
      "Params: {'max_depth': 5, 'n_estimators': 200}                                    \n",
      "🏃 View run RandomForestClassifier_{'max_depth': 5, 'n_estimators': 200} at: http://127.0.0.1:8080/#/experiments/520308586629931043/runs/42a72fd903574d68aabeadccc14195f6\n",
      "\n",
      "🧪 View experiment at: http://127.0.0.1:8080/#/experiments/520308586629931043    \n",
      "\n",
      "Params: {'max_depth': None, 'n_estimators': 100}                                 \n",
      "🏃 View run RandomForestClassifier_{'max_depth': None, 'n_estimators': 100} at: http://127.0.0.1:8080/#/experiments/520308586629931043/runs/d8248a46800d4353b4eab51a55cca968\n",
      "\n",
      "🧪 View experiment at: http://127.0.0.1:8080/#/experiments/520308586629931043   \n",
      "\n",
      "Params: {'max_depth': 50, 'n_estimators': 20}                                   \n",
      "🏃 View run RandomForestClassifier_{'max_depth': 50, 'n_estimators': 20} at: http://127.0.0.1:8080/#/experiments/520308586629931043/runs/a3a073f2dd9644f1babca7c0616c827f\n",
      "\n",
      "🧪 View experiment at: http://127.0.0.1:8080/#/experiments/520308586629931043   \n",
      "\n",
      "Params: {'max_depth': 20, 'n_estimators': 20}                                   \n",
      "🏃 View run RandomForestClassifier_{'max_depth': 20, 'n_estimators': 20} at: http://127.0.0.1:8080/#/experiments/520308586629931043/runs/4bffde0e77f24d3c8e188e19b28cf4f3\n",
      "\n",
      "🧪 View experiment at: http://127.0.0.1:8080/#/experiments/520308586629931043   \n",
      "\n",
      "100%|██████████| 5/5 [01:31<00:00, 18.28s/trial, best loss: -0.3376087280146638]\n",
      "🏃 View run rf-sweep at: http://127.0.0.1:8080/#/experiments/520308586629931043/runs/54aa68134db14f08b6639c090d43e447\n",
      "🧪 View experiment at: http://127.0.0.1:8080/#/experiments/520308586629931043\n",
      "This will run 5 trials to find optimal hyperparameters...\n",
      "Params: {'C': 0.05, 'gamma': 0.001, 'kernel': 'rbf'} \n",
      "🏃 View run SVC_{'C': 0.05, 'gamma': 0.001, 'kernel': 'rbf'} at: http://127.0.0.1:8080/#/experiments/520308586629931043/runs/7ea0973362ca4674a3ccef4a9a10b5fd\n",
      "\n",
      "🧪 View experiment at: http://127.0.0.1:8080/#/experiments/520308586629931043\n",
      "\n",
      "Params: {'C': 0.1, 'gamma': 0.001, 'kernel': 'rbf'}                              \n",
      "🏃 View run SVC_{'C': 0.1, 'gamma': 0.001, 'kernel': 'rbf'} at: http://127.0.0.1:8080/#/experiments/520308586629931043/runs/32a0b93be97d4a05b34952e5b4fe3a1b\n",
      "\n",
      "🧪 View experiment at: http://127.0.0.1:8080/#/experiments/520308586629931043    \n",
      "\n",
      "Params: {'C': 0.5, 'gamma': 0.001, 'kernel': 'rbf'}                              \n",
      "🏃 View run SVC_{'C': 0.5, 'gamma': 0.001, 'kernel': 'rbf'} at: http://127.0.0.1:8080/#/experiments/520308586629931043/runs/1adf398b626d4878bd3868ca603b5a0e\n",
      "\n",
      "🧪 View experiment at: http://127.0.0.1:8080/#/experiments/520308586629931043    \n",
      "\n",
      "Params: {'C': 1, 'gamma': 0.001, 'kernel': 'rbf'}                                \n",
      "🏃 View run SVC_{'C': 1, 'gamma': 0.001, 'kernel': 'rbf'} at: http://127.0.0.1:8080/#/experiments/520308586629931043/runs/df946116cd424a568d551c1ad2aac56a\n",
      "\n",
      "🧪 View experiment at: http://127.0.0.1:8080/#/experiments/520308586629931043    \n",
      "\n",
      "Params: {'C': 1, 'gamma': 1, 'kernel': 'rbf'}                                    \n",
      "🏃 View run SVC_{'C': 1, 'gamma': 1, 'kernel': 'rbf'} at: http://127.0.0.1:8080/#/experiments/520308586629931043/runs/341692c6322249e6b5b288cb117e8351\n",
      "\n",
      "🧪 View experiment at: http://127.0.0.1:8080/#/experiments/520308586629931043    \n",
      "\n",
      "100%|██████████| 5/5 [03:23<00:00, 40.76s/trial, best loss: -0.33641148675357896]\n",
      "🏃 View run svc-sweep at: http://127.0.0.1:8080/#/experiments/520308586629931043/runs/85fe668e986d4a0cb85d8cbb843c44a1\n",
      "🧪 View experiment at: http://127.0.0.1:8080/#/experiments/520308586629931043\n",
      "This will run 5 trials to find optimal hyperparameters...\n",
      "Params: {'C': 0.1}                                   \n",
      "🏃 View run LinearSVC_{'C': 0.1} at: http://127.0.0.1:8080/#/experiments/520308586629931043/runs/ed57ca010e2a4ee3b43b8baf4ec80508\n",
      "\n",
      "🧪 View experiment at: http://127.0.0.1:8080/#/experiments/520308586629931043\n",
      "\n",
      "Params: {'C': 0.0001}                                                            \n",
      "🏃 View run LinearSVC_{'C': 0.0001} at: http://127.0.0.1:8080/#/experiments/520308586629931043/runs/7eee5b3358bd43a8969d36bc49124ee8\n",
      "\n",
      "🧪 View experiment at: http://127.0.0.1:8080/#/experiments/520308586629931043    \n",
      "\n",
      "Params: {'C': 0.0001}                                                            \n",
      "🏃 View run LinearSVC_{'C': 0.0001} at: http://127.0.0.1:8080/#/experiments/520308586629931043/runs/f0ada1c83745498ab6b92354c0045fd9\n",
      "\n",
      "🧪 View experiment at: http://127.0.0.1:8080/#/experiments/520308586629931043    \n",
      "\n",
      "Params: {'C': 0.0001}                                                            \n",
      "🏃 View run LinearSVC_{'C': 0.0001} at: http://127.0.0.1:8080/#/experiments/520308586629931043/runs/158dead680d749a38ea0744f0b91d321\n",
      "\n",
      "🧪 View experiment at: http://127.0.0.1:8080/#/experiments/520308586629931043    \n",
      "\n",
      "Params: {'C': 0.0001}                                                            \n",
      "🏃 View run LinearSVC_{'C': 0.0001} at: http://127.0.0.1:8080/#/experiments/520308586629931043/runs/2145a4eabaae4012ac83b6bd721a28a4\n",
      "\n",
      "🧪 View experiment at: http://127.0.0.1:8080/#/experiments/520308586629931043    \n",
      "\n",
      "100%|██████████| 5/5 [00:07<00:00,  1.49s/trial, best loss: -0.33671100692668154]\n",
      "🏃 View run svc-linear-sweep at: http://127.0.0.1:8080/#/experiments/520308586629931043/runs/8398afd5996d41f0a0d1d39c78189a0b\n",
      "🧪 View experiment at: http://127.0.0.1:8080/#/experiments/520308586629931043\n",
      "This will run 5 trials to find optimal hyperparameters...\n",
      "Params: {'colsample_bytree': 0.5, 'learning_rate': 0.1, 'max_depth': None, 'n_estimators': 1000, 'subsample': 0.5}\n",
      "🏃 View run XGBClassifier_{'colsample_bytree': 0.5, 'learning_rate': 0.1, 'max_depth': None, 'n_estimators': 1000, 'subsample': 0.5} at: http://127.0.0.1:8080/#/experiments/520308586629931043/runs/85b7f5c75fab408b838ffc0df1284f6c\n",
      "\n",
      "🧪 View experiment at: http://127.0.0.1:8080/#/experiments/520308586629931043\n",
      "\n",
      "Params: {'colsample_bytree': 0.7, 'learning_rate': 0.01, 'max_depth': 10, 'n_estimators': 1000, 'subsample': 0.5}\n",
      "🏃 View run XGBClassifier_{'colsample_bytree': 0.7, 'learning_rate': 0.01, 'max_depth': 10, 'n_estimators': 1000, 'subsample': 0.5} at: http://127.0.0.1:8080/#/experiments/520308586629931043/runs/e9c532263987443487e39382f0683e29\n",
      "\n",
      "🧪 View experiment at: http://127.0.0.1:8080/#/experiments/520308586629931043    \n",
      "\n",
      "Params: {'colsample_bytree': 0.7, 'learning_rate': 0.1, 'max_depth': None, 'n_estimators': 200, 'subsample': 1.0}\n",
      "🏃 View run XGBClassifier_{'colsample_bytree': 0.7, 'learning_rate': 0.1, 'max_depth': None, 'n_estimators': 200, 'subsample': 1.0} at: http://127.0.0.1:8080/#/experiments/520308586629931043/runs/196acf7d225a4d5193e1a9d922a43305\n",
      "\n",
      "🧪 View experiment at: http://127.0.0.1:8080/#/experiments/520308586629931043    \n",
      "\n",
      "Params: {'colsample_bytree': 0.7, 'learning_rate': 0.01, 'max_depth': None, 'n_estimators': 700, 'subsample': 0.7}\n",
      "🏃 View run XGBClassifier_{'colsample_bytree': 0.7, 'learning_rate': 0.01, 'max_depth': None, 'n_estimators': 700, 'subsample': 0.7} at: http://127.0.0.1:8080/#/experiments/520308586629931043/runs/5b8fea71ec0e43cc95c6b4415c318ea8\n",
      "\n",
      "🧪 View experiment at: http://127.0.0.1:8080/#/experiments/520308586629931043    \n",
      "\n",
      "Params: {'colsample_bytree': 1.0, 'learning_rate': 0.2, 'max_depth': 5, 'n_estimators': 500, 'subsample': 0.5}\n",
      "🏃 View run XGBClassifier_{'colsample_bytree': 1.0, 'learning_rate': 0.2, 'max_depth': 5, 'n_estimators': 500, 'subsample': 0.5} at: http://127.0.0.1:8080/#/experiments/520308586629931043/runs/f745eea801ba4f39ad05ed4d9d102907\n",
      "\n",
      "🧪 View experiment at: http://127.0.0.1:8080/#/experiments/520308586629931043    \n",
      "\n",
      "100%|██████████| 5/5 [00:24<00:00,  4.95s/trial, best loss: -0.4159742000728149] \n",
      "🏃 View run xgb-sweep at: http://127.0.0.1:8080/#/experiments/520308586629931043/runs/2864fb30dab9489e8429cfaf702aaf30\n",
      "🧪 View experiment at: http://127.0.0.1:8080/#/experiments/520308586629931043\n"
     ]
    },
    {
     "data": {
      "text/plain": [
       "0.4159742000728149"
      ]
     },
     "execution_count": 152,
     "metadata": {},
     "output_type": "execute_result"
    }
   ],
   "source": [
    "model = RandomForestClassifier\n",
    "run_experiments('rf-sweep', max_evals=max_evals, search_space=search_space_rf, data_name=data_name, model_name = 'RandomForestClassifier', features_names=columns_to_keep)\n",
    "model = SVC\n",
    "run_experiments('svc-sweep', max_evals=max_evals, search_space=search_space_svc, data_name=data_name, model_name = 'SVC', features_names=columns_to_keep)\n",
    "model = LinearSVC\n",
    "run_experiments('svc-linear-sweep', max_evals=max_evals, search_space=search_space_svc_linear, data_name=data_name, model_name = 'LinearSVC', features_names=columns_to_keep)\n",
    "model = xgb.XGBClassifier\n",
    "run_experiments('xgb-sweep', max_evals=max_evals, search_space=search_space_xgb, data_name=data_name, model_name = 'XGBClassifier', features_names=columns_to_keep)"
   ]
  },
  {
   "cell_type": "markdown",
   "id": "d562a57b",
   "metadata": {},
   "source": [
    "## Carla Only"
   ]
  },
  {
   "cell_type": "code",
   "execution_count": 153,
   "id": "8d0a613b",
   "metadata": {},
   "outputs": [],
   "source": [
    "X_carla_fixed, y_carla_fixed = preprocessor.sliding_windows(carla_fixed, window_size=window_size, step_size=step_size)\n",
    "X_carla_llm, y_carla_llm = preprocessor.sliding_windows(carla_llm, window_size=window_size, step_size=step_size)"
   ]
  },
  {
   "cell_type": "code",
   "execution_count": 154,
   "id": "40fa1c38",
   "metadata": {},
   "outputs": [
    {
     "name": "stdout",
     "output_type": "stream",
     "text": [
      "Columns to keep for validation: ['acc_x', 'acc_y', 'acc_z', 'gyro_x', 'gyro_y', 'gyro_z', 'angle', 'label', 'acc']\n"
     ]
    }
   ],
   "source": [
    "# Getting the validation for SUMO variables\n",
    "print(\"Columns to keep for validation:\", carla_columns_to_keep)\n",
    "X_val_base, y_val = preprocessor.sliding_windows(uah_validation[carla_columns_to_keep], window_size=window_size, step_size=step_size)\n",
    "y_val = preprocessor.one_hot_encode(y_val, one_hot_keys=one_hot_keys)"
   ]
  },
  {
   "cell_type": "markdown",
   "id": "17def673",
   "metadata": {},
   "source": [
    "### Fixed"
   ]
  },
  {
   "cell_type": "code",
   "execution_count": 155,
   "id": "d5520a73",
   "metadata": {},
   "outputs": [],
   "source": [
    "# Provide an Experiment description that will appear in the UI\n",
    "experiment_description = (\n",
    "    \"Experiment to train models on the CARLA Fixed dataset.\"\n",
    ")\n",
    "\n",
    "# Provide searchable tags that define characteristics of the Runs that\n",
    "# will be in this Experiment\n",
    "experiment_tags = {\n",
    "    \"project_name\": \"driver-behavior-prediction\",\n",
    "    \"mlflow.note.content\": experiment_description,\n",
    "}\n",
    "\n",
    "# Create the Experiment, providing a unique name\n",
    "try:\n",
    "    driver_behavior_experiment = client.create_experiment(\n",
    "        name=\"CARLA_Fixed\", tags=experiment_tags\n",
    "    )\n",
    "except mlflow.exceptions.RestException as e:\n",
    "    print(f\"Experiment already exists: {e}\")"
   ]
  },
  {
   "cell_type": "code",
   "execution_count": 156,
   "id": "f460d11d",
   "metadata": {},
   "outputs": [],
   "source": [
    "X_train, y_train = X_carla_fixed, y_carla_fixed\n",
    "\n",
    "scaler = StandardScaler()\n",
    "X_train = scaler.fit_transform(X_train)\n",
    "X_val = scaler.transform(X_val_base)\n",
    "y_train = preprocessor.one_hot_encode(y_train, one_hot_keys=one_hot_keys)\n",
    "\n",
    "mlflow.set_experiment('CARLA_Fixed')\n",
    "data_name = 'CARLA_Fixed'"
   ]
  },
  {
   "cell_type": "code",
   "execution_count": 157,
   "id": "6740e674",
   "metadata": {},
   "outputs": [
    {
     "name": "stdout",
     "output_type": "stream",
     "text": [
      "This will run 5 trials to find optimal hyperparameters...\n",
      "Params: {'max_depth': None, 'n_estimators': 500}     \n",
      "  0%|          | 0/5 [00:00<?, ?trial/s, best loss=?]"
     ]
    },
    {
     "name": "stderr",
     "output_type": "stream",
     "text": [
      "/home/renan/miniconda3/lib/python3.12/site-packages/sklearn/metrics/_classification.py:1565: UndefinedMetricWarning: Precision is ill-defined and being set to 0.0 in labels with no predicted samples. Use `zero_division` parameter to control this behavior.\n",
      "  _warn_prf(average, modifier, f\"{metric.capitalize()} is\", len(result))\n",
      "\n"
     ]
    },
    {
     "name": "stdout",
     "output_type": "stream",
     "text": [
      "🏃 View run RandomForestClassifier_{'max_depth': None, 'n_estimators': 500} at: http://127.0.0.1:8080/#/experiments/115922994890695880/runs/e6e3cca691794fe795c60b5884fb73ed\n",
      "\n",
      "🧪 View experiment at: http://127.0.0.1:8080/#/experiments/115922994890695880\n",
      "\n",
      "Params: {'max_depth': 20, 'n_estimators': 200}                                   \n",
      "🏃 View run RandomForestClassifier_{'max_depth': 20, 'n_estimators': 200} at: http://127.0.0.1:8080/#/experiments/115922994890695880/runs/2bd83833cb774e0ab27faf2cd3247432\n",
      "\n",
      "🧪 View experiment at: http://127.0.0.1:8080/#/experiments/115922994890695880    \n",
      "\n",
      "Params: {'max_depth': 10, 'n_estimators': 20}                                    \n",
      "🏃 View run RandomForestClassifier_{'max_depth': 10, 'n_estimators': 20} at: http://127.0.0.1:8080/#/experiments/115922994890695880/runs/ebadaedf46c1493ea01b3e86b80e7893\n",
      "\n",
      "🧪 View experiment at: http://127.0.0.1:8080/#/experiments/115922994890695880  \n",
      "\n",
      "Params: {'max_depth': 5, 'n_estimators': 50}                                    \n",
      " 60%|██████    | 3/5 [01:47<00:55, 27.63s/trial, best loss: -0.4791392724406395]"
     ]
    },
    {
     "name": "stderr",
     "output_type": "stream",
     "text": [
      "/home/renan/miniconda3/lib/python3.12/site-packages/sklearn/metrics/_classification.py:1565: UndefinedMetricWarning: Precision is ill-defined and being set to 0.0 in labels with no predicted samples. Use `zero_division` parameter to control this behavior.\n",
      "  _warn_prf(average, modifier, f\"{metric.capitalize()} is\", len(result))\n",
      "\n"
     ]
    },
    {
     "name": "stdout",
     "output_type": "stream",
     "text": [
      "🏃 View run RandomForestClassifier_{'max_depth': 5, 'n_estimators': 50} at: http://127.0.0.1:8080/#/experiments/115922994890695880/runs/96e3ac95c7374f648212456f8d2ec82e\n",
      "\n",
      "🧪 View experiment at: http://127.0.0.1:8080/#/experiments/115922994890695880   \n",
      "\n",
      "Params: {'max_depth': 50, 'n_estimators': 100}                                  \n",
      "🏃 View run RandomForestClassifier_{'max_depth': 50, 'n_estimators': 100} at: http://127.0.0.1:8080/#/experiments/115922994890695880/runs/b029321c0e90465198488ddb3fccc313\n",
      "\n",
      "🧪 View experiment at: http://127.0.0.1:8080/#/experiments/115922994890695880   \n",
      "\n",
      "100%|██████████| 5/5 [02:07<00:00, 25.45s/trial, best loss: -0.4791392724406395]\n",
      "🏃 View run rf-sweep at: http://127.0.0.1:8080/#/experiments/115922994890695880/runs/563a2c6113ee4b8997a61df13526b986\n",
      "🧪 View experiment at: http://127.0.0.1:8080/#/experiments/115922994890695880\n",
      "This will run 5 trials to find optimal hyperparameters...\n",
      "Params: {'C': 1, 'gamma': 1, 'kernel': 'rbf'}        \n",
      "  0%|          | 0/5 [00:00<?, ?trial/s, best loss=?]"
     ]
    },
    {
     "name": "stderr",
     "output_type": "stream",
     "text": [
      "/home/renan/miniconda3/lib/python3.12/site-packages/sklearn/metrics/_classification.py:1565: UndefinedMetricWarning: Precision is ill-defined and being set to 0.0 in labels with no predicted samples. Use `zero_division` parameter to control this behavior.\n",
      "  _warn_prf(average, modifier, f\"{metric.capitalize()} is\", len(result))\n",
      "\n"
     ]
    },
    {
     "name": "stdout",
     "output_type": "stream",
     "text": [
      "🏃 View run SVC_{'C': 1, 'gamma': 1, 'kernel': 'rbf'} at: http://127.0.0.1:8080/#/experiments/115922994890695880/runs/2eda4b3054714421b657f3ed0aaf167a\n",
      "\n",
      "🧪 View experiment at: http://127.0.0.1:8080/#/experiments/115922994890695880\n",
      "\n",
      "Params: {'C': 1, 'gamma': 10, 'kernel': 'rbf'}                                   \n",
      " 20%|██        | 1/5 [00:34<02:16, 34.10s/trial, best loss: -0.33310749162724596]"
     ]
    },
    {
     "name": "stderr",
     "output_type": "stream",
     "text": [
      "/home/renan/miniconda3/lib/python3.12/site-packages/sklearn/metrics/_classification.py:1565: UndefinedMetricWarning: Precision is ill-defined and being set to 0.0 in labels with no predicted samples. Use `zero_division` parameter to control this behavior.\n",
      "  _warn_prf(average, modifier, f\"{metric.capitalize()} is\", len(result))\n",
      "\n"
     ]
    },
    {
     "name": "stdout",
     "output_type": "stream",
     "text": [
      "🏃 View run SVC_{'C': 1, 'gamma': 10, 'kernel': 'rbf'} at: http://127.0.0.1:8080/#/experiments/115922994890695880/runs/ec38f19b158c4bfa903b7762dff2307f\n",
      "\n",
      "🧪 View experiment at: http://127.0.0.1:8080/#/experiments/115922994890695880    \n",
      "\n",
      "Params: {'C': 0.05, 'gamma': 1, 'kernel': 'rbf'}                                 \n",
      " 40%|████      | 2/5 [01:22<02:07, 42.45s/trial, best loss: -0.3335592240143389]"
     ]
    },
    {
     "name": "stderr",
     "output_type": "stream",
     "text": [
      "/home/renan/miniconda3/lib/python3.12/site-packages/sklearn/metrics/_classification.py:1565: UndefinedMetricWarning: Precision is ill-defined and being set to 0.0 in labels with no predicted samples. Use `zero_division` parameter to control this behavior.\n",
      "  _warn_prf(average, modifier, f\"{metric.capitalize()} is\", len(result))\n",
      "\n"
     ]
    },
    {
     "name": "stdout",
     "output_type": "stream",
     "text": [
      "🏃 View run SVC_{'C': 0.05, 'gamma': 1, 'kernel': 'rbf'} at: http://127.0.0.1:8080/#/experiments/115922994890695880/runs/df659cb7df3547db8918154c38a12a37\n",
      "\n",
      "🧪 View experiment at: http://127.0.0.1:8080/#/experiments/115922994890695880   \n",
      "\n",
      "Params: {'C': 0.01, 'gamma': 0.001, 'kernel': 'rbf'}                            \n",
      " 60%|██████    | 3/5 [01:43<01:05, 32.64s/trial, best loss: -0.3335592240143389]"
     ]
    },
    {
     "name": "stderr",
     "output_type": "stream",
     "text": [
      "/home/renan/miniconda3/lib/python3.12/site-packages/sklearn/metrics/_classification.py:1565: UndefinedMetricWarning: Precision is ill-defined and being set to 0.0 in labels with no predicted samples. Use `zero_division` parameter to control this behavior.\n",
      "  _warn_prf(average, modifier, f\"{metric.capitalize()} is\", len(result))\n",
      "\n"
     ]
    },
    {
     "name": "stdout",
     "output_type": "stream",
     "text": [
      "🏃 View run SVC_{'C': 0.01, 'gamma': 0.001, 'kernel': 'rbf'} at: http://127.0.0.1:8080/#/experiments/115922994890695880/runs/69c0b905237040878e11e1a8c4cad355\n",
      "\n",
      "🧪 View experiment at: http://127.0.0.1:8080/#/experiments/115922994890695880   \n",
      "\n",
      "Params: {'C': 0.5, 'gamma': 1, 'kernel': 'rbf'}                                 \n",
      " 80%|████████  | 4/5 [02:15<00:32, 32.43s/trial, best loss: -0.3335592240143389]"
     ]
    },
    {
     "name": "stderr",
     "output_type": "stream",
     "text": [
      "/home/renan/miniconda3/lib/python3.12/site-packages/sklearn/metrics/_classification.py:1565: UndefinedMetricWarning: Precision is ill-defined and being set to 0.0 in labels with no predicted samples. Use `zero_division` parameter to control this behavior.\n",
      "  _warn_prf(average, modifier, f\"{metric.capitalize()} is\", len(result))\n",
      "\n"
     ]
    },
    {
     "name": "stdout",
     "output_type": "stream",
     "text": [
      "🏃 View run SVC_{'C': 0.5, 'gamma': 1, 'kernel': 'rbf'} at: http://127.0.0.1:8080/#/experiments/115922994890695880/runs/2a00d98227834cf6af741607bfd36312\n",
      "\n",
      "🧪 View experiment at: http://127.0.0.1:8080/#/experiments/115922994890695880   \n",
      "\n",
      "100%|██████████| 5/5 [02:33<00:00, 30.79s/trial, best loss: -0.3335592240143389]\n",
      "🏃 View run svc-sweep at: http://127.0.0.1:8080/#/experiments/115922994890695880/runs/587302ed4f53423ebf30d2f6aef5ee6b\n",
      "🧪 View experiment at: http://127.0.0.1:8080/#/experiments/115922994890695880\n",
      "This will run 5 trials to find optimal hyperparameters...\n",
      "Params: {'C': 1}                                     \n",
      "  0%|          | 0/5 [00:00<?, ?trial/s, best loss=?]"
     ]
    },
    {
     "name": "stderr",
     "output_type": "stream",
     "text": [
      "/home/renan/miniconda3/lib/python3.12/site-packages/sklearn/metrics/_classification.py:1565: UndefinedMetricWarning: Precision is ill-defined and being set to 0.0 in labels with no predicted samples. Use `zero_division` parameter to control this behavior.\n",
      "  _warn_prf(average, modifier, f\"{metric.capitalize()} is\", len(result))\n",
      "\n"
     ]
    },
    {
     "name": "stdout",
     "output_type": "stream",
     "text": [
      "🏃 View run LinearSVC_{'C': 1} at: http://127.0.0.1:8080/#/experiments/115922994890695880/runs/fdaf5b9c910449efa9faec2aea98ef7f\n",
      "\n",
      "🧪 View experiment at: http://127.0.0.1:8080/#/experiments/115922994890695880\n",
      "\n",
      "Params: {'C': 1}                                                                \n",
      " 20%|██        | 1/5 [00:27<01:49, 27.35s/trial, best loss: -0.3335592240143389]"
     ]
    },
    {
     "name": "stderr",
     "output_type": "stream",
     "text": [
      "/home/renan/miniconda3/lib/python3.12/site-packages/sklearn/metrics/_classification.py:1565: UndefinedMetricWarning: Precision is ill-defined and being set to 0.0 in labels with no predicted samples. Use `zero_division` parameter to control this behavior.\n",
      "  _warn_prf(average, modifier, f\"{metric.capitalize()} is\", len(result))\n",
      "\n"
     ]
    },
    {
     "name": "stdout",
     "output_type": "stream",
     "text": [
      "🏃 View run LinearSVC_{'C': 1} at: http://127.0.0.1:8080/#/experiments/115922994890695880/runs/ffa382d1736a47368bdd4b0073bf76ab\n",
      "\n",
      "🧪 View experiment at: http://127.0.0.1:8080/#/experiments/115922994890695880   \n",
      "\n",
      "Params: {'C': 0.01}                                                             \n",
      " 40%|████      | 2/5 [00:54<01:22, 27.39s/trial, best loss: -0.3335592240143389]"
     ]
    },
    {
     "name": "stderr",
     "output_type": "stream",
     "text": [
      "/home/renan/miniconda3/lib/python3.12/site-packages/sklearn/metrics/_classification.py:1565: UndefinedMetricWarning: Precision is ill-defined and being set to 0.0 in labels with no predicted samples. Use `zero_division` parameter to control this behavior.\n",
      "  _warn_prf(average, modifier, f\"{metric.capitalize()} is\", len(result))\n",
      "\n"
     ]
    },
    {
     "name": "stdout",
     "output_type": "stream",
     "text": [
      "🏃 View run LinearSVC_{'C': 0.01} at: http://127.0.0.1:8080/#/experiments/115922994890695880/runs/f703b27ef66342d98ea7d6bb047973de\n",
      "\n",
      "🧪 View experiment at: http://127.0.0.1:8080/#/experiments/115922994890695880   \n",
      "\n",
      "Params: {'C': 1}                                                                \n",
      " 60%|██████    | 3/5 [00:59<00:33, 16.93s/trial, best loss: -0.3335592240143389]"
     ]
    },
    {
     "name": "stderr",
     "output_type": "stream",
     "text": [
      "/home/renan/miniconda3/lib/python3.12/site-packages/sklearn/metrics/_classification.py:1565: UndefinedMetricWarning: Precision is ill-defined and being set to 0.0 in labels with no predicted samples. Use `zero_division` parameter to control this behavior.\n",
      "  _warn_prf(average, modifier, f\"{metric.capitalize()} is\", len(result))\n",
      "\n"
     ]
    },
    {
     "name": "stdout",
     "output_type": "stream",
     "text": [
      "🏃 View run LinearSVC_{'C': 1} at: http://127.0.0.1:8080/#/experiments/115922994890695880/runs/6ae74279eec34e7b8967efcb190ed634\n",
      "\n",
      "🧪 View experiment at: http://127.0.0.1:8080/#/experiments/115922994890695880   \n",
      "\n",
      "Params: {'C': 0.1}                                                              \n",
      " 80%|████████  | 4/5 [01:27<00:21, 21.22s/trial, best loss: -0.3335592240143389]"
     ]
    },
    {
     "name": "stderr",
     "output_type": "stream",
     "text": [
      "/home/renan/miniconda3/lib/python3.12/site-packages/sklearn/metrics/_classification.py:1565: UndefinedMetricWarning: Precision is ill-defined and being set to 0.0 in labels with no predicted samples. Use `zero_division` parameter to control this behavior.\n",
      "  _warn_prf(average, modifier, f\"{metric.capitalize()} is\", len(result))\n",
      "\n"
     ]
    },
    {
     "name": "stdout",
     "output_type": "stream",
     "text": [
      "🏃 View run LinearSVC_{'C': 0.1} at: http://127.0.0.1:8080/#/experiments/115922994890695880/runs/e963937237dd4fbaac4a3220326a48e7\n",
      "\n",
      "🧪 View experiment at: http://127.0.0.1:8080/#/experiments/115922994890695880   \n",
      "\n",
      "100%|██████████| 5/5 [01:36<00:00, 19.29s/trial, best loss: -0.3335592240143389]\n",
      "🏃 View run svc-linear-sweep at: http://127.0.0.1:8080/#/experiments/115922994890695880/runs/890f967290194502a5a934267eb0c5ef\n",
      "🧪 View experiment at: http://127.0.0.1:8080/#/experiments/115922994890695880\n",
      "This will run 5 trials to find optimal hyperparameters...\n",
      "Params: {'colsample_bytree': 0.7, 'learning_rate': 0.3, 'max_depth': 10, 'n_estimators': 200, 'subsample': 1.0}\n",
      "🏃 View run XGBClassifier_{'colsample_bytree': 0.7, 'learning_rate': 0.3, 'max_depth': 10, 'n_estimators': 200, 'subsample': 1.0} at: http://127.0.0.1:8080/#/experiments/115922994890695880/runs/b3c8452254934979a7c48b20cf1dfa0c\n",
      "\n",
      "🧪 View experiment at: http://127.0.0.1:8080/#/experiments/115922994890695880\n",
      "\n",
      "Params: {'colsample_bytree': 1.0, 'learning_rate': 0.2, 'max_depth': None, 'n_estimators': 1000, 'subsample': 0.5}\n",
      "🏃 View run XGBClassifier_{'colsample_bytree': 1.0, 'learning_rate': 0.2, 'max_depth': None, 'n_estimators': 1000, 'subsample': 0.5} at: http://127.0.0.1:8080/#/experiments/115922994890695880/runs/35eb988a4846446083b72e74cfb375fe\n",
      "\n",
      "🧪 View experiment at: http://127.0.0.1:8080/#/experiments/115922994890695880    \n",
      "\n",
      "Params: {'colsample_bytree': 1.0, 'learning_rate': 0.01, 'max_depth': None, 'n_estimators': 500, 'subsample': 0.5}\n",
      "🏃 View run XGBClassifier_{'colsample_bytree': 1.0, 'learning_rate': 0.01, 'max_depth': None, 'n_estimators': 500, 'subsample': 0.5} at: http://127.0.0.1:8080/#/experiments/115922994890695880/runs/18bcc8eb837b435fa676e5c0c166cdbe\n",
      "\n",
      "🧪 View experiment at: http://127.0.0.1:8080/#/experiments/115922994890695880    \n",
      "\n",
      "Params: {'colsample_bytree': 0.5, 'learning_rate': 0.2, 'max_depth': None, 'n_estimators': 500, 'subsample': 0.5}\n",
      "🏃 View run XGBClassifier_{'colsample_bytree': 0.5, 'learning_rate': 0.2, 'max_depth': None, 'n_estimators': 500, 'subsample': 0.5} at: http://127.0.0.1:8080/#/experiments/115922994890695880/runs/e1344e916c1b4e699b41f0a4f037cf19\n",
      "\n",
      "🧪 View experiment at: http://127.0.0.1:8080/#/experiments/115922994890695880    \n",
      "\n",
      "Params: {'colsample_bytree': 0.5, 'learning_rate': 0.001, 'max_depth': None, 'n_estimators': 200, 'subsample': 1.0}\n",
      "🏃 View run XGBClassifier_{'colsample_bytree': 0.5, 'learning_rate': 0.001, 'max_depth': None, 'n_estimators': 200, 'subsample': 1.0} at: http://127.0.0.1:8080/#/experiments/115922994890695880/runs/fad5c2f8b98b43f685c0853b313d63fa\n",
      "\n",
      "🧪 View experiment at: http://127.0.0.1:8080/#/experiments/115922994890695880    \n",
      "\n",
      "100%|██████████| 5/5 [00:26<00:00,  5.33s/trial, best loss: -0.46565504997268153]\n",
      "🏃 View run xgb-sweep at: http://127.0.0.1:8080/#/experiments/115922994890695880/runs/b58a1e92fe1b48a9b3d44911cd4c1913\n",
      "🧪 View experiment at: http://127.0.0.1:8080/#/experiments/115922994890695880\n"
     ]
    },
    {
     "data": {
      "text/plain": [
       "0.46565504997268153"
      ]
     },
     "execution_count": 157,
     "metadata": {},
     "output_type": "execute_result"
    }
   ],
   "source": [
    "model = RandomForestClassifier\n",
    "run_experiments('rf-sweep', max_evals=max_evals, search_space=search_space_rf, data_name=data_name, model_name = 'RandomForestClassifier', features_names=columns_to_keep)\n",
    "model = SVC\n",
    "run_experiments('svc-sweep', max_evals=max_evals, search_space=search_space_svc, data_name=data_name, model_name = 'SVC', features_names=columns_to_keep)\n",
    "model = LinearSVC\n",
    "run_experiments('svc-linear-sweep', max_evals=max_evals, search_space=search_space_svc_linear, data_name=data_name, model_name = 'LinearSVC', features_names=columns_to_keep)\n",
    "model = xgb.XGBClassifier\n",
    "run_experiments('xgb-sweep', max_evals=max_evals, search_space=search_space_xgb, data_name=data_name, model_name = 'XGBClassifier', features_names=columns_to_keep)"
   ]
  },
  {
   "cell_type": "markdown",
   "id": "940416e1",
   "metadata": {},
   "source": [
    "### LLM"
   ]
  },
  {
   "cell_type": "code",
   "execution_count": 158,
   "id": "abfd8115",
   "metadata": {},
   "outputs": [],
   "source": [
    "# Provide an Experiment description that will appear in the UI\n",
    "experiment_description = (\n",
    "    \"Experiment to train models on the CARLA LLM dataset.\"\n",
    ")\n",
    "\n",
    "# Provide searchable tags that define characteristics of the Runs that\n",
    "# will be in this Experiment\n",
    "experiment_tags = {\n",
    "    \"project_name\": \"driver-behavior-prediction\",\n",
    "    \"mlflow.note.content\": experiment_description,\n",
    "}\n",
    "\n",
    "# Create the Experiment, providing a unique name\n",
    "try:\n",
    "    driver_behavior_experiment = client.create_experiment(\n",
    "        name=\"CARLA_LLM\", tags=experiment_tags\n",
    "    )\n",
    "except mlflow.exceptions.RestException as e:\n",
    "    print(f\"Experiment already exists: {e}\")"
   ]
  },
  {
   "cell_type": "code",
   "execution_count": 159,
   "id": "d8198c3c",
   "metadata": {},
   "outputs": [],
   "source": [
    "X_train, y_train = X_carla_llm, y_carla_llm\n",
    "\n",
    "scaler = StandardScaler()\n",
    "X_train = scaler.fit_transform(X_train)\n",
    "X_val = scaler.transform(X_val_base)\n",
    "y_train = preprocessor.one_hot_encode(y_train, one_hot_keys=one_hot_keys)\n",
    "\n",
    "mlflow.set_experiment('CARLA_LLM')\n",
    "data_name = 'CARLA_LLM'"
   ]
  },
  {
   "cell_type": "code",
   "execution_count": 160,
   "id": "6b1a7997",
   "metadata": {},
   "outputs": [
    {
     "name": "stdout",
     "output_type": "stream",
     "text": [
      "This will run 5 trials to find optimal hyperparameters...\n",
      "Params: {'max_depth': 20, 'n_estimators': 200}       \n",
      "🏃 View run RandomForestClassifier_{'max_depth': 20, 'n_estimators': 200} at: http://127.0.0.1:8080/#/experiments/364685698816811078/runs/2b6bb0fb4cfb47508127abeace1ceee8\n",
      "\n",
      "🧪 View experiment at: http://127.0.0.1:8080/#/experiments/364685698816811078\n",
      "\n",
      "Params: {'max_depth': 10, 'n_estimators': 20}                                   \n",
      "🏃 View run RandomForestClassifier_{'max_depth': 10, 'n_estimators': 20} at: http://127.0.0.1:8080/#/experiments/364685698816811078/runs/f0b2431c73994bebaacd9e2d6c60941f\n",
      "\n",
      "🧪 View experiment at: http://127.0.0.1:8080/#/experiments/364685698816811078   \n",
      "\n",
      "Params: {'max_depth': 5, 'n_estimators': 100}                                   \n",
      "🏃 View run RandomForestClassifier_{'max_depth': 5, 'n_estimators': 100} at: http://127.0.0.1:8080/#/experiments/364685698816811078/runs/d064427466cb481f86ee503d3e08700e\n",
      "\n",
      "🧪 View experiment at: http://127.0.0.1:8080/#/experiments/364685698816811078   \n",
      "\n",
      "Params: {'max_depth': 5, 'n_estimators': 500}                                   \n",
      "🏃 View run RandomForestClassifier_{'max_depth': 5, 'n_estimators': 500} at: http://127.0.0.1:8080/#/experiments/364685698816811078/runs/a32e925002f842ebb2eceff6de619fdc\n",
      "\n",
      "🧪 View experiment at: http://127.0.0.1:8080/#/experiments/364685698816811078   \n",
      "\n",
      "Params: {'max_depth': 20, 'n_estimators': 50}                                   \n",
      "🏃 View run RandomForestClassifier_{'max_depth': 20, 'n_estimators': 50} at: http://127.0.0.1:8080/#/experiments/364685698816811078/runs/5cf2fac9badf44a58319470b89abccc3\n",
      "\n",
      "🧪 View experiment at: http://127.0.0.1:8080/#/experiments/364685698816811078   \n",
      "\n",
      "100%|██████████| 5/5 [01:25<00:00, 17.09s/trial, best loss: -0.5201123806015767]\n",
      "🏃 View run rf-sweep at: http://127.0.0.1:8080/#/experiments/364685698816811078/runs/235fcf9a5b254425abc2ca2c3efad2c3\n",
      "🧪 View experiment at: http://127.0.0.1:8080/#/experiments/364685698816811078\n",
      "This will run 5 trials to find optimal hyperparameters...\n",
      "Params: {'C': 0.01, 'gamma': 1, 'kernel': 'rbf'}     \n",
      "  0%|          | 0/5 [00:00<?, ?trial/s, best loss=?]"
     ]
    },
    {
     "name": "stderr",
     "output_type": "stream",
     "text": [
      "/home/renan/miniconda3/lib/python3.12/site-packages/sklearn/metrics/_classification.py:1565: UndefinedMetricWarning: Precision is ill-defined and being set to 0.0 in labels with no predicted samples. Use `zero_division` parameter to control this behavior.\n",
      "  _warn_prf(average, modifier, f\"{metric.capitalize()} is\", len(result))\n",
      "\n"
     ]
    },
    {
     "name": "stdout",
     "output_type": "stream",
     "text": [
      "🏃 View run SVC_{'C': 0.01, 'gamma': 1, 'kernel': 'rbf'} at: http://127.0.0.1:8080/#/experiments/364685698816811078/runs/061a0a61c0654c7ca2171e877eb38b2d\n",
      "\n",
      "🧪 View experiment at: http://127.0.0.1:8080/#/experiments/364685698816811078\n",
      "\n",
      "Params: {'C': 0.5, 'gamma': 0.001, 'kernel': 'rbf'}                              \n",
      " 20%|██        | 1/5 [00:33<02:15, 33.88s/trial, best loss: -0.33310749162724596]"
     ]
    },
    {
     "name": "stderr",
     "output_type": "stream",
     "text": [
      "/home/renan/miniconda3/lib/python3.12/site-packages/sklearn/metrics/_classification.py:1565: UndefinedMetricWarning: Precision is ill-defined and being set to 0.0 in labels with no predicted samples. Use `zero_division` parameter to control this behavior.\n",
      "  _warn_prf(average, modifier, f\"{metric.capitalize()} is\", len(result))\n",
      "\n"
     ]
    },
    {
     "name": "stdout",
     "output_type": "stream",
     "text": [
      "🏃 View run SVC_{'C': 0.5, 'gamma': 0.001, 'kernel': 'rbf'} at: http://127.0.0.1:8080/#/experiments/364685698816811078/runs/f30cfce6d1c2407c97d5f6a21596ab8c\n",
      "\n",
      "🧪 View experiment at: http://127.0.0.1:8080/#/experiments/364685698816811078    \n",
      "\n",
      "Params: {'C': 0.05, 'gamma': 1, 'kernel': 'rbf'}                                 \n",
      " 40%|████      | 2/5 [01:06<01:39, 33.18s/trial, best loss: -0.3335592240143389]"
     ]
    },
    {
     "name": "stderr",
     "output_type": "stream",
     "text": [
      "/home/renan/miniconda3/lib/python3.12/site-packages/sklearn/metrics/_classification.py:1565: UndefinedMetricWarning: Precision is ill-defined and being set to 0.0 in labels with no predicted samples. Use `zero_division` parameter to control this behavior.\n",
      "  _warn_prf(average, modifier, f\"{metric.capitalize()} is\", len(result))\n",
      "\n"
     ]
    },
    {
     "name": "stdout",
     "output_type": "stream",
     "text": [
      "🏃 View run SVC_{'C': 0.05, 'gamma': 1, 'kernel': 'rbf'} at: http://127.0.0.1:8080/#/experiments/364685698816811078/runs/5c3a2ebec3e34714bced97cde1cdf2f7\n",
      "\n",
      "🧪 View experiment at: http://127.0.0.1:8080/#/experiments/364685698816811078   \n",
      "\n",
      "Params: {'C': 0.1, 'gamma': 10, 'kernel': 'rbf'}                                \n",
      " 60%|██████    | 3/5 [01:40<01:07, 33.53s/trial, best loss: -0.3335592240143389]"
     ]
    },
    {
     "name": "stderr",
     "output_type": "stream",
     "text": [
      "/home/renan/miniconda3/lib/python3.12/site-packages/sklearn/metrics/_classification.py:1565: UndefinedMetricWarning: Precision is ill-defined and being set to 0.0 in labels with no predicted samples. Use `zero_division` parameter to control this behavior.\n",
      "  _warn_prf(average, modifier, f\"{metric.capitalize()} is\", len(result))\n",
      "\n"
     ]
    },
    {
     "name": "stdout",
     "output_type": "stream",
     "text": [
      "🏃 View run SVC_{'C': 0.1, 'gamma': 10, 'kernel': 'rbf'} at: http://127.0.0.1:8080/#/experiments/364685698816811078/runs/c7e39759923e42b6a1077495bd3803f4\n",
      "\n",
      "🧪 View experiment at: http://127.0.0.1:8080/#/experiments/364685698816811078   \n",
      "\n",
      "Params: {'C': 0.5, 'gamma': 1, 'kernel': 'rbf'}                                 \n",
      " 80%|████████  | 4/5 [02:15<00:34, 34.26s/trial, best loss: -0.3335592240143389]"
     ]
    },
    {
     "name": "stderr",
     "output_type": "stream",
     "text": [
      "/home/renan/miniconda3/lib/python3.12/site-packages/sklearn/metrics/_classification.py:1565: UndefinedMetricWarning: Precision is ill-defined and being set to 0.0 in labels with no predicted samples. Use `zero_division` parameter to control this behavior.\n",
      "  _warn_prf(average, modifier, f\"{metric.capitalize()} is\", len(result))\n",
      "\n"
     ]
    },
    {
     "name": "stdout",
     "output_type": "stream",
     "text": [
      "🏃 View run SVC_{'C': 0.5, 'gamma': 1, 'kernel': 'rbf'} at: http://127.0.0.1:8080/#/experiments/364685698816811078/runs/05a32c6a839d4b6ba8051fd03f9c40f0\n",
      "\n",
      "🧪 View experiment at: http://127.0.0.1:8080/#/experiments/364685698816811078   \n",
      "\n",
      "100%|██████████| 5/5 [02:49<00:00, 33.80s/trial, best loss: -0.3335592240143389]\n",
      "🏃 View run svc-sweep at: http://127.0.0.1:8080/#/experiments/364685698816811078/runs/ebe737e2f1384443bb1865237fc89e7d\n",
      "🧪 View experiment at: http://127.0.0.1:8080/#/experiments/364685698816811078\n",
      "This will run 5 trials to find optimal hyperparameters...\n",
      "Params: {'C': 1}                                     \n",
      "🏃 View run LinearSVC_{'C': 1} at: http://127.0.0.1:8080/#/experiments/364685698816811078/runs/4e7b24d23317430fb3a8360b0a19bea2\n",
      "\n",
      "🧪 View experiment at: http://127.0.0.1:8080/#/experiments/364685698816811078\n",
      "\n",
      "Params: {'C': 0.1}                                                               \n",
      "🏃 View run LinearSVC_{'C': 0.1} at: http://127.0.0.1:8080/#/experiments/364685698816811078/runs/8d261fb4078145afaa425c1e81fdbaf0\n",
      "\n",
      "🧪 View experiment at: http://127.0.0.1:8080/#/experiments/364685698816811078    \n",
      "\n",
      "Params: {'C': 0.1}                                                               \n",
      "🏃 View run LinearSVC_{'C': 0.1} at: http://127.0.0.1:8080/#/experiments/364685698816811078/runs/8fcbbf8c7f5c4d3baadba746f74723ae\n",
      "\n",
      "🧪 View experiment at: http://127.0.0.1:8080/#/experiments/364685698816811078    \n",
      "\n",
      "Params: {'C': 1}                                                                 \n",
      "🏃 View run LinearSVC_{'C': 1} at: http://127.0.0.1:8080/#/experiments/364685698816811078/runs/6a7d73d422d24e9ca692ef7149ab9fcf\n",
      "\n",
      "🧪 View experiment at: http://127.0.0.1:8080/#/experiments/364685698816811078    \n",
      "\n",
      "Params: {'C': 0.01}                                                              \n",
      "🏃 View run LinearSVC_{'C': 0.01} at: http://127.0.0.1:8080/#/experiments/364685698816811078/runs/482c870808d942e7826385c54488e790\n",
      "\n",
      "🧪 View experiment at: http://127.0.0.1:8080/#/experiments/364685698816811078    \n",
      "\n",
      "100%|██████████| 5/5 [00:10<00:00,  2.16s/trial, best loss: -0.40724755088495257]\n",
      "🏃 View run svc-linear-sweep at: http://127.0.0.1:8080/#/experiments/364685698816811078/runs/79c4c63372e046328e1b0b1296c208e8\n",
      "🧪 View experiment at: http://127.0.0.1:8080/#/experiments/364685698816811078\n",
      "This will run 5 trials to find optimal hyperparameters...\n",
      "Params: {'colsample_bytree': 1.0, 'learning_rate': 0.3, 'max_depth': None, 'n_estimators': 500, 'subsample': 0.5}\n",
      "🏃 View run XGBClassifier_{'colsample_bytree': 1.0, 'learning_rate': 0.3, 'max_depth': None, 'n_estimators': 500, 'subsample': 0.5} at: http://127.0.0.1:8080/#/experiments/364685698816811078/runs/175775d8f2424a63984d0dccae9424b8\n",
      "\n",
      "🧪 View experiment at: http://127.0.0.1:8080/#/experiments/364685698816811078\n",
      "\n",
      "Params: {'colsample_bytree': 1.0, 'learning_rate': 0.1, 'max_depth': 5, 'n_estimators': 200, 'subsample': 0.7}\n",
      "🏃 View run XGBClassifier_{'colsample_bytree': 1.0, 'learning_rate': 0.1, 'max_depth': 5, 'n_estimators': 200, 'subsample': 0.7} at: http://127.0.0.1:8080/#/experiments/364685698816811078/runs/1825748d590b4cbcbc94e3d20aa83d35\n",
      "\n",
      "🧪 View experiment at: http://127.0.0.1:8080/#/experiments/364685698816811078   \n",
      "\n",
      "Params: {'colsample_bytree': 0.7, 'learning_rate': 0.01, 'max_depth': 5, 'n_estimators': 1000, 'subsample': 0.5}\n",
      "🏃 View run XGBClassifier_{'colsample_bytree': 0.7, 'learning_rate': 0.01, 'max_depth': 5, 'n_estimators': 1000, 'subsample': 0.5} at: http://127.0.0.1:8080/#/experiments/364685698816811078/runs/ee1e201d64f7421488f0fcb409e03ffe\n",
      "\n",
      "🧪 View experiment at: http://127.0.0.1:8080/#/experiments/364685698816811078   \n",
      "\n",
      "Params: {'colsample_bytree': 1.0, 'learning_rate': 0.1, 'max_depth': 10, 'n_estimators': 200, 'subsample': 0.5}\n",
      "🏃 View run XGBClassifier_{'colsample_bytree': 1.0, 'learning_rate': 0.1, 'max_depth': 10, 'n_estimators': 200, 'subsample': 0.5} at: http://127.0.0.1:8080/#/experiments/364685698816811078/runs/66ff48df4fe44a8aa26a34e0fe8864ba\n",
      "\n",
      "🧪 View experiment at: http://127.0.0.1:8080/#/experiments/364685698816811078   \n",
      "\n",
      "Params: {'colsample_bytree': 0.5, 'learning_rate': 0.3, 'max_depth': 10, 'n_estimators': 500, 'subsample': 0.5}\n",
      "🏃 View run XGBClassifier_{'colsample_bytree': 0.5, 'learning_rate': 0.3, 'max_depth': 10, 'n_estimators': 500, 'subsample': 0.5} at: http://127.0.0.1:8080/#/experiments/364685698816811078/runs/62bb38659ed14b978b34af2dee551ffd\n",
      "\n",
      "🧪 View experiment at: http://127.0.0.1:8080/#/experiments/364685698816811078   \n",
      "\n",
      "100%|██████████| 5/5 [00:34<00:00,  6.97s/trial, best loss: -0.4939274573240015]\n",
      "🏃 View run xgb-sweep at: http://127.0.0.1:8080/#/experiments/364685698816811078/runs/63fab9a311834b2693904bfb765eeedf\n",
      "🧪 View experiment at: http://127.0.0.1:8080/#/experiments/364685698816811078\n"
     ]
    },
    {
     "data": {
      "text/plain": [
       "0.4939274573240015"
      ]
     },
     "execution_count": 160,
     "metadata": {},
     "output_type": "execute_result"
    }
   ],
   "source": [
    "model = RandomForestClassifier\n",
    "run_experiments('rf-sweep', max_evals=max_evals, search_space=search_space_rf, data_name=data_name, model_name = 'RandomForestClassifier', features_names=columns_to_keep)\n",
    "model = SVC\n",
    "run_experiments('svc-sweep', max_evals=max_evals, search_space=search_space_svc, data_name=data_name, model_name = 'SVC', features_names=columns_to_keep)\n",
    "model = LinearSVC\n",
    "run_experiments('svc-linear-sweep', max_evals=max_evals, search_space=search_space_svc_linear, data_name=data_name, model_name = 'LinearSVC', features_names=columns_to_keep)\n",
    "model = xgb.XGBClassifier\n",
    "run_experiments('xgb-sweep', max_evals=max_evals, search_space=search_space_xgb, data_name=data_name, model_name = 'XGBClassifier', features_names=columns_to_keep)"
   ]
  },
  {
   "cell_type": "markdown",
   "id": "6d17d697",
   "metadata": {},
   "source": [
    "## Real + SUMO"
   ]
  },
  {
   "cell_type": "code",
   "execution_count": 161,
   "id": "08cda850",
   "metadata": {},
   "outputs": [],
   "source": [
    "sumo_uah_fixed_20 = preprocessor.fill_synthetic_data(sumo_uah_fixed, 0.2)\n",
    "sumo_uah_llm_20 = preprocessor.fill_synthetic_data(sumo_uah_llm, 0.2)\n",
    "\n",
    "sumo_uah_fixed_60 = preprocessor.fill_synthetic_data(sumo_uah_fixed, 0.6)\n",
    "sumo_uah_llm_60 = preprocessor.fill_synthetic_data(sumo_uah_llm, 0.6)\n",
    "\n",
    "sumo_uah_fixed_100 = preprocessor.fill_synthetic_data(sumo_uah_fixed, 1)\n",
    "sumo_uah_llm_100 = preprocessor.fill_synthetic_data(sumo_uah_llm, 1)\n"
   ]
  },
  {
   "cell_type": "code",
   "execution_count": 162,
   "id": "a60b0669",
   "metadata": {},
   "outputs": [],
   "source": [
    "X_sumo_uah_fixed_20, y_sumo_uah_fixed_20 = preprocessor.sliding_windows(sumo_uah_fixed_20, window_size=window_size, step_size=step_size)\n",
    "X_sumo_uah_llm_20, y_sumo_uah_llm_20 = preprocessor.sliding_windows(sumo_uah_llm_20, window_size=window_size, step_size=step_size)\n",
    "\n",
    "X_sumo_uah_fixed_60, y_sumo_uah_fixed_60 = preprocessor.sliding_windows(sumo_uah_fixed_60, window_size=window_size, step_size=step_size)\n",
    "X_sumo_uah_llm_60, y_sumo_uah_llm_60 = preprocessor.sliding_windows(sumo_uah_llm_60, window_size=window_size, step_size=step_size)\n",
    "\n",
    "X_sumo_uah_fixed_100, y_sumo_uah_fixed_100 = preprocessor.sliding_windows(sumo_uah_fixed_100, window_size=window_size, step_size=step_size)\n",
    "X_sumo_uah_llm_100, y_sumo_uah_llm_100 = preprocessor.sliding_windows(sumo_uah_llm_100, window_size=window_size, step_size=step_size)"
   ]
  },
  {
   "cell_type": "code",
   "execution_count": 163,
   "id": "c6769432",
   "metadata": {},
   "outputs": [
    {
     "name": "stdout",
     "output_type": "stream",
     "text": [
      "Columns to keep for validation: ['acc', 'angle', 'speed', 'label']\n"
     ]
    }
   ],
   "source": [
    "print(\"Columns to keep for validation:\", sumo_columns_to_keep)\n",
    "\n",
    "X_val_base, y_val = preprocessor.sliding_windows(uah_validation[sumo_columns_to_keep], window_size=window_size, step_size=step_size)\n",
    "y_val = preprocessor.one_hot_encode(y_val, one_hot_keys=one_hot_keys)"
   ]
  },
  {
   "cell_type": "markdown",
   "id": "24d285d9",
   "metadata": {},
   "source": [
    "## Real + SUMO (20%)"
   ]
  },
  {
   "cell_type": "markdown",
   "id": "133dd3c5",
   "metadata": {},
   "source": [
    "### Fixed"
   ]
  },
  {
   "cell_type": "code",
   "execution_count": 164,
   "id": "5840afcb",
   "metadata": {},
   "outputs": [],
   "source": [
    "# Provide an Experiment description that will appear in the UI\n",
    "experiment_description = (\n",
    "    \"Experiment to train models on the UAH + SUMO Fixed (20%) dataset.\"\n",
    ")\n",
    "\n",
    "# Provide searchable tags that define characteristics of the Runs that\n",
    "# will be in this Experiment\n",
    "experiment_tags = {\n",
    "    \"project_name\": \"driver-behavior-prediction\",\n",
    "    \"mlflow.note.content\": experiment_description,\n",
    "}\n",
    "\n",
    "# Create the Experiment, providing a unique name\n",
    "try:\n",
    "    driver_behavior_experiment = client.create_experiment(\n",
    "        name=\"UAH_SUMO_Fixed_20\", tags=experiment_tags\n",
    "    )\n",
    "except mlflow.exceptions.RestException as e:\n",
    "    print(f\"Experiment already exists: {e}\")"
   ]
  },
  {
   "cell_type": "code",
   "execution_count": 165,
   "id": "43f2e1b5",
   "metadata": {},
   "outputs": [],
   "source": [
    "X_train, y_train = X_sumo_uah_fixed_20, y_sumo_uah_fixed_20\n",
    "\n",
    "scaler = StandardScaler()\n",
    "X_train = scaler.fit_transform(X_train)\n",
    "X_val = scaler.transform(X_val_base)\n",
    "y_train = preprocessor.one_hot_encode(y_train, one_hot_keys=one_hot_keys)\n",
    "\n",
    "signature = infer_signature(X_train, y_train)\n",
    "mlflow.set_experiment('UAH_SUMO_Fixed_20')\n",
    "data_name = 'UAH_SUMO_Fixed_20'"
   ]
  },
  {
   "cell_type": "code",
   "execution_count": 166,
   "id": "9eb54c1b",
   "metadata": {},
   "outputs": [
    {
     "name": "stdout",
     "output_type": "stream",
     "text": [
      "This will run 5 trials to find optimal hyperparameters...\n",
      "Params: {'max_depth': None, 'n_estimators': 20}      \n",
      "🏃 View run RandomForestClassifier_{'max_depth': None, 'n_estimators': 20} at: http://127.0.0.1:8080/#/experiments/596165481629841552/runs/f60085b4607947e0a1804b9af9210ce3\n",
      "\n",
      "🧪 View experiment at: http://127.0.0.1:8080/#/experiments/596165481629841552\n",
      "\n",
      "Params: {'max_depth': 5, 'n_estimators': 50}                                    \n",
      "🏃 View run RandomForestClassifier_{'max_depth': 5, 'n_estimators': 50} at: http://127.0.0.1:8080/#/experiments/596165481629841552/runs/69a870b7d2884f65b6a31dd075927c82\n",
      "\n",
      "🧪 View experiment at: http://127.0.0.1:8080/#/experiments/596165481629841552   \n",
      "\n",
      "Params: {'max_depth': 50, 'n_estimators': 20}                                   \n",
      "🏃 View run RandomForestClassifier_{'max_depth': 50, 'n_estimators': 20} at: http://127.0.0.1:8080/#/experiments/596165481629841552/runs/c742e3b7b36d4a0a89e05f5da91996fe\n",
      "\n",
      "🧪 View experiment at: http://127.0.0.1:8080/#/experiments/596165481629841552   \n",
      "\n",
      "Params: {'max_depth': None, 'n_estimators': 200}                                \n",
      "🏃 View run RandomForestClassifier_{'max_depth': None, 'n_estimators': 200} at: http://127.0.0.1:8080/#/experiments/596165481629841552/runs/4cc7d3be3a2d4e748bc8e0232f8ab4bf\n",
      "\n",
      "🧪 View experiment at: http://127.0.0.1:8080/#/experiments/596165481629841552   \n",
      "\n",
      "Params: {'max_depth': 20, 'n_estimators': 200}                                  \n",
      "🏃 View run RandomForestClassifier_{'max_depth': 20, 'n_estimators': 200} at: http://127.0.0.1:8080/#/experiments/596165481629841552/runs/31053acba8fd4f70992a6355f273c90a\n",
      "\n",
      "🧪 View experiment at: http://127.0.0.1:8080/#/experiments/596165481629841552   \n",
      "\n",
      "100%|██████████| 5/5 [00:44<00:00,  8.97s/trial, best loss: -0.7258422507750657]\n",
      "🏃 View run rf-sweep at: http://127.0.0.1:8080/#/experiments/596165481629841552/runs/88b2f7e716f44eae9dc45be0d8796370\n",
      "🧪 View experiment at: http://127.0.0.1:8080/#/experiments/596165481629841552\n",
      "This will run 5 trials to find optimal hyperparameters...\n",
      "Params: {'C': 0.1, 'gamma': 1, 'kernel': 'rbf'}      \n",
      "🏃 View run SVC_{'C': 0.1, 'gamma': 1, 'kernel': 'rbf'} at: http://127.0.0.1:8080/#/experiments/596165481629841552/runs/d9162615bda64e819d0d230e9c57e3f4\n",
      "\n",
      "🧪 View experiment at: http://127.0.0.1:8080/#/experiments/596165481629841552\n",
      "\n",
      "Params: {'C': 0.01, 'gamma': 0.1, 'kernel': 'rbf'}                              \n",
      "🏃 View run SVC_{'C': 0.01, 'gamma': 0.1, 'kernel': 'rbf'} at: http://127.0.0.1:8080/#/experiments/596165481629841552/runs/b875437cc81d49699096c466d452bc7f\n",
      "\n",
      "🧪 View experiment at: http://127.0.0.1:8080/#/experiments/596165481629841552   \n",
      "\n",
      "Params: {'C': 0.1, 'gamma': 0.001, 'kernel': 'rbf'}                             \n",
      "🏃 View run SVC_{'C': 0.1, 'gamma': 0.001, 'kernel': 'rbf'} at: http://127.0.0.1:8080/#/experiments/596165481629841552/runs/9aa537276467495cab2448cf78801537\n",
      "\n",
      "🧪 View experiment at: http://127.0.0.1:8080/#/experiments/596165481629841552   \n",
      "\n",
      "Params: {'C': 0.05, 'gamma': 10, 'kernel': 'rbf'}                               \n",
      " 60%|██████    | 3/5 [01:03<00:41, 20.50s/trial, best loss: -0.7015316563569836]"
     ]
    },
    {
     "name": "stderr",
     "output_type": "stream",
     "text": [
      "/home/renan/miniconda3/lib/python3.12/site-packages/sklearn/metrics/_classification.py:1565: UndefinedMetricWarning: Precision is ill-defined and being set to 0.0 in labels with no predicted samples. Use `zero_division` parameter to control this behavior.\n",
      "  _warn_prf(average, modifier, f\"{metric.capitalize()} is\", len(result))\n",
      "\n"
     ]
    },
    {
     "name": "stdout",
     "output_type": "stream",
     "text": [
      "🏃 View run SVC_{'C': 0.05, 'gamma': 10, 'kernel': 'rbf'} at: http://127.0.0.1:8080/#/experiments/596165481629841552/runs/7c6a9f5c9bb74e0bb2c913424771850b\n",
      "\n",
      "🧪 View experiment at: http://127.0.0.1:8080/#/experiments/596165481629841552   \n",
      "\n",
      "Params: {'C': 0.05, 'gamma': 10, 'kernel': 'rbf'}                               \n",
      " 80%|████████  | 4/5 [01:57<00:34, 34.00s/trial, best loss: -0.7015316563569836]"
     ]
    },
    {
     "name": "stderr",
     "output_type": "stream",
     "text": [
      "/home/renan/miniconda3/lib/python3.12/site-packages/sklearn/metrics/_classification.py:1565: UndefinedMetricWarning: Precision is ill-defined and being set to 0.0 in labels with no predicted samples. Use `zero_division` parameter to control this behavior.\n",
      "  _warn_prf(average, modifier, f\"{metric.capitalize()} is\", len(result))\n",
      "\n"
     ]
    },
    {
     "name": "stdout",
     "output_type": "stream",
     "text": [
      "🏃 View run SVC_{'C': 0.05, 'gamma': 10, 'kernel': 'rbf'} at: http://127.0.0.1:8080/#/experiments/596165481629841552/runs/848225a19c7b4bd3a8463e69e0de2241\n",
      "\n",
      "🧪 View experiment at: http://127.0.0.1:8080/#/experiments/596165481629841552   \n",
      "\n",
      "100%|██████████| 5/5 [02:52<00:00, 34.52s/trial, best loss: -0.7015316563569836]\n",
      "🏃 View run svc-sweep at: http://127.0.0.1:8080/#/experiments/596165481629841552/runs/8ecd49bc91044de6be29a18461e30196\n",
      "🧪 View experiment at: http://127.0.0.1:8080/#/experiments/596165481629841552\n",
      "This will run 5 trials to find optimal hyperparameters...\n",
      "Params: {'C': 0.01}                                  \n",
      "🏃 View run LinearSVC_{'C': 0.01} at: http://127.0.0.1:8080/#/experiments/596165481629841552/runs/72996761b07a489fb1eb3312f60a5b54\n",
      "\n",
      "🧪 View experiment at: http://127.0.0.1:8080/#/experiments/596165481629841552\n",
      "\n",
      "Params: {'C': 1}                                                                \n",
      "🏃 View run LinearSVC_{'C': 1} at: http://127.0.0.1:8080/#/experiments/596165481629841552/runs/29879e29ba7543639d4119ff9a6e1da6\n",
      "\n",
      "🧪 View experiment at: http://127.0.0.1:8080/#/experiments/596165481629841552   \n",
      "\n",
      "Params: {'C': 1}                                                                \n",
      "🏃 View run LinearSVC_{'C': 1} at: http://127.0.0.1:8080/#/experiments/596165481629841552/runs/ef0f5a3ed83d42bc82b4754570272ec5\n",
      "\n",
      "🧪 View experiment at: http://127.0.0.1:8080/#/experiments/596165481629841552   \n",
      "\n",
      "Params: {'C': 0.1}                                                              \n",
      "🏃 View run LinearSVC_{'C': 0.1} at: http://127.0.0.1:8080/#/experiments/596165481629841552/runs/82552ad8e5604085a506f1aea205bf34\n",
      "\n",
      "🧪 View experiment at: http://127.0.0.1:8080/#/experiments/596165481629841552   \n",
      "\n",
      "Params: {'C': 1}                                                                \n",
      "🏃 View run LinearSVC_{'C': 1} at: http://127.0.0.1:8080/#/experiments/596165481629841552/runs/56f0bca428b34268b5c3bb10f2eb3c20\n",
      "\n",
      "🧪 View experiment at: http://127.0.0.1:8080/#/experiments/596165481629841552   \n",
      "\n",
      "100%|██████████| 5/5 [00:07<00:00,  1.50s/trial, best loss: -0.6603476749358289]\n",
      "🏃 View run svc-linear-sweep at: http://127.0.0.1:8080/#/experiments/596165481629841552/runs/97f863c72646406b80689ead358cb88a\n",
      "🧪 View experiment at: http://127.0.0.1:8080/#/experiments/596165481629841552\n",
      "This will run 5 trials to find optimal hyperparameters...\n",
      "Params: {'colsample_bytree': 1.0, 'learning_rate': 0.2, 'max_depth': 10, 'n_estimators': 700, 'subsample': 0.5}\n",
      "🏃 View run XGBClassifier_{'colsample_bytree': 1.0, 'learning_rate': 0.2, 'max_depth': 10, 'n_estimators': 700, 'subsample': 0.5} at: http://127.0.0.1:8080/#/experiments/596165481629841552/runs/21f7ebaabb3b472c9ffa8ac8cbe23c0e\n",
      "\n",
      "🧪 View experiment at: http://127.0.0.1:8080/#/experiments/596165481629841552\n",
      "\n",
      "Params: {'colsample_bytree': 0.7, 'learning_rate': 0.01, 'max_depth': None, 'n_estimators': 700, 'subsample': 0.5}\n",
      "🏃 View run XGBClassifier_{'colsample_bytree': 0.7, 'learning_rate': 0.01, 'max_depth': None, 'n_estimators': 700, 'subsample': 0.5} at: http://127.0.0.1:8080/#/experiments/596165481629841552/runs/90d388537f494b919aa61835a4a23c3f\n",
      "\n",
      "🧪 View experiment at: http://127.0.0.1:8080/#/experiments/596165481629841552   \n",
      "\n",
      "Params: {'colsample_bytree': 0.5, 'learning_rate': 0.1, 'max_depth': None, 'n_estimators': 500, 'subsample': 0.7}\n",
      "🏃 View run XGBClassifier_{'colsample_bytree': 0.5, 'learning_rate': 0.1, 'max_depth': None, 'n_estimators': 500, 'subsample': 0.7} at: http://127.0.0.1:8080/#/experiments/596165481629841552/runs/d80c6da261b04d2dabe976c766adb324\n",
      "\n",
      "🧪 View experiment at: http://127.0.0.1:8080/#/experiments/596165481629841552   \n",
      "\n",
      "Params: {'colsample_bytree': 1.0, 'learning_rate': 0.2, 'max_depth': 5, 'n_estimators': 1000, 'subsample': 0.5}\n",
      "🏃 View run XGBClassifier_{'colsample_bytree': 1.0, 'learning_rate': 0.2, 'max_depth': 5, 'n_estimators': 1000, 'subsample': 0.5} at: http://127.0.0.1:8080/#/experiments/596165481629841552/runs/51e2b82c308e4428a42cb7cfb086ca3e\n",
      "\n",
      "🧪 View experiment at: http://127.0.0.1:8080/#/experiments/596165481629841552   \n",
      "\n",
      "Params: {'colsample_bytree': 0.7, 'learning_rate': 0.01, 'max_depth': 10, 'n_estimators': 700, 'subsample': 1.0}\n",
      "🏃 View run XGBClassifier_{'colsample_bytree': 0.7, 'learning_rate': 0.01, 'max_depth': 10, 'n_estimators': 700, 'subsample': 1.0} at: http://127.0.0.1:8080/#/experiments/596165481629841552/runs/29dd8bbb78fd45babc667e4efaea3935\n",
      "\n",
      "🧪 View experiment at: http://127.0.0.1:8080/#/experiments/596165481629841552   \n",
      "\n",
      "100%|██████████| 5/5 [00:25<00:00,  5.13s/trial, best loss: -0.7370910032637138]\n",
      "🏃 View run xgb-sweep at: http://127.0.0.1:8080/#/experiments/596165481629841552/runs/fc3df90a74d346349b6c9f8d902c1aa7\n",
      "🧪 View experiment at: http://127.0.0.1:8080/#/experiments/596165481629841552\n"
     ]
    },
    {
     "data": {
      "text/plain": [
       "0.7370910032637138"
      ]
     },
     "execution_count": 166,
     "metadata": {},
     "output_type": "execute_result"
    }
   ],
   "source": [
    "model = RandomForestClassifier\n",
    "run_experiments('rf-sweep', max_evals=max_evals, search_space=search_space_rf, data_name=data_name, model_name = 'RandomForestClassifier', features_names=columns_to_keep)\n",
    "model = SVC\n",
    "run_experiments('svc-sweep', max_evals=max_evals, search_space=search_space_svc, data_name=data_name, model_name = 'SVC', features_names=columns_to_keep)\n",
    "model = LinearSVC\n",
    "run_experiments('svc-linear-sweep', max_evals=max_evals, search_space=search_space_svc_linear, data_name=data_name, model_name = 'LinearSVC', features_names=columns_to_keep)\n",
    "model = xgb.XGBClassifier\n",
    "run_experiments('xgb-sweep', max_evals=max_evals, search_space=search_space_xgb, data_name=data_name, model_name = 'XGBClassifier', features_names=columns_to_keep)"
   ]
  },
  {
   "cell_type": "markdown",
   "id": "d86358b9",
   "metadata": {},
   "source": [
    "### LLM"
   ]
  },
  {
   "cell_type": "code",
   "execution_count": 167,
   "id": "fd056ed3",
   "metadata": {},
   "outputs": [],
   "source": [
    "# Provide an Experiment description that will appear in the UI\n",
    "experiment_description = (\n",
    "    \"Experiment to train models on the UAH + SUMO LLM (20%) dataset.\"\n",
    ")\n",
    "\n",
    "# Provide searchable tags that define characteristics of the Runs that\n",
    "# will be in this Experiment\n",
    "experiment_tags = {\n",
    "    \"project_name\": \"driver-behavior-prediction\",\n",
    "    \"mlflow.note.content\": experiment_description,\n",
    "}\n",
    "\n",
    "# Create the Experiment, providing a unique name\n",
    "try:\n",
    "    driver_behavior_experiment = client.create_experiment(\n",
    "        name=\"UAH_SUMO_LLM_20\", tags=experiment_tags\n",
    "    )\n",
    "except mlflow.exceptions.RestException as e:\n",
    "    print(f\"Experiment already exists: {e}\")"
   ]
  },
  {
   "cell_type": "code",
   "execution_count": 168,
   "id": "8e51b1e2",
   "metadata": {},
   "outputs": [],
   "source": [
    "X_train, y_train = X_sumo_uah_llm_20, y_sumo_uah_llm_20\n",
    "\n",
    "scaler = StandardScaler()\n",
    "X_train = scaler.fit_transform(X_train)\n",
    "X_val = scaler.transform(X_val_base)\n",
    "y_train = preprocessor.one_hot_encode(y_train, one_hot_keys=one_hot_keys)\n",
    "\n",
    "signature = infer_signature(X_train, y_train)\n",
    "mlflow.set_experiment('UAH_SUMO_LLM_20')\n",
    "data_name = 'UAH_SUMO_LLM_20'"
   ]
  },
  {
   "cell_type": "code",
   "execution_count": 169,
   "id": "ee354ab5",
   "metadata": {},
   "outputs": [
    {
     "name": "stdout",
     "output_type": "stream",
     "text": [
      "This will run 5 trials to find optimal hyperparameters...\n",
      "Params: {'max_depth': 5, 'n_estimators': 100}        \n",
      "🏃 View run RandomForestClassifier_{'max_depth': 5, 'n_estimators': 100} at: http://127.0.0.1:8080/#/experiments/318252292058062544/runs/83fd5c83b2f34509ab9155cb6d8aad45\n",
      "\n",
      "🧪 View experiment at: http://127.0.0.1:8080/#/experiments/318252292058062544\n",
      "\n",
      "Params: {'max_depth': 10, 'n_estimators': 100}                                  \n",
      "🏃 View run RandomForestClassifier_{'max_depth': 10, 'n_estimators': 100} at: http://127.0.0.1:8080/#/experiments/318252292058062544/runs/4d934339f3eb4fc28e514b6201f0bf7b\n",
      "\n",
      "🧪 View experiment at: http://127.0.0.1:8080/#/experiments/318252292058062544   \n",
      "\n",
      "Params: {'max_depth': 10, 'n_estimators': 500}                                  \n",
      "🏃 View run RandomForestClassifier_{'max_depth': 10, 'n_estimators': 500} at: http://127.0.0.1:8080/#/experiments/318252292058062544/runs/b6da606ea8a3453c8d17c8b986ab5e37\n",
      "\n",
      "🧪 View experiment at: http://127.0.0.1:8080/#/experiments/318252292058062544   \n",
      "\n",
      "Params: {'max_depth': 20, 'n_estimators': 20}                                   \n",
      "🏃 View run RandomForestClassifier_{'max_depth': 20, 'n_estimators': 20} at: http://127.0.0.1:8080/#/experiments/318252292058062544/runs/e2e9a22a156d40a5a8da9dea70c3dd18\n",
      "\n",
      "🧪 View experiment at: http://127.0.0.1:8080/#/experiments/318252292058062544   \n",
      "\n",
      "Params: {'max_depth': None, 'n_estimators': 100}                                \n",
      "🏃 View run RandomForestClassifier_{'max_depth': None, 'n_estimators': 100} at: http://127.0.0.1:8080/#/experiments/318252292058062544/runs/3ac6ffe2d31c4aee8f006bcd09cc746e\n",
      "\n",
      "🧪 View experiment at: http://127.0.0.1:8080/#/experiments/318252292058062544   \n",
      "\n",
      "100%|██████████| 5/5 [00:51<00:00, 10.29s/trial, best loss: -0.7305405184693683]\n",
      "🏃 View run rf-sweep at: http://127.0.0.1:8080/#/experiments/318252292058062544/runs/cc6008bbf0c24f9ba9dec7ae71374e00\n",
      "🧪 View experiment at: http://127.0.0.1:8080/#/experiments/318252292058062544\n",
      "This will run 5 trials to find optimal hyperparameters...\n",
      "Params: {'C': 1, 'gamma': 10, 'kernel': 'rbf'}       \n",
      "  0%|          | 0/5 [00:00<?, ?trial/s, best loss=?]"
     ]
    },
    {
     "name": "stderr",
     "output_type": "stream",
     "text": [
      "/home/renan/miniconda3/lib/python3.12/site-packages/sklearn/metrics/_classification.py:1565: UndefinedMetricWarning: Precision is ill-defined and being set to 0.0 in labels with no predicted samples. Use `zero_division` parameter to control this behavior.\n",
      "  _warn_prf(average, modifier, f\"{metric.capitalize()} is\", len(result))\n",
      "\n"
     ]
    },
    {
     "name": "stdout",
     "output_type": "stream",
     "text": [
      "🏃 View run SVC_{'C': 1, 'gamma': 10, 'kernel': 'rbf'} at: http://127.0.0.1:8080/#/experiments/318252292058062544/runs/8c745a2ebc9846f4b09404bb89ea135d\n",
      "\n",
      "🧪 View experiment at: http://127.0.0.1:8080/#/experiments/318252292058062544\n",
      "\n",
      "Params: {'C': 0.01, 'gamma': 0.01, 'kernel': 'rbf'}                             \n",
      "🏃 View run SVC_{'C': 0.01, 'gamma': 0.01, 'kernel': 'rbf'} at: http://127.0.0.1:8080/#/experiments/318252292058062544/runs/3ba429e9e4b14f9ba27727d1fa28c123\n",
      "\n",
      "🧪 View experiment at: http://127.0.0.1:8080/#/experiments/318252292058062544   \n",
      "\n",
      "Params: {'C': 0.05, 'gamma': 1, 'kernel': 'rbf'}                                \n",
      "🏃 View run SVC_{'C': 0.05, 'gamma': 1, 'kernel': 'rbf'} at: http://127.0.0.1:8080/#/experiments/318252292058062544/runs/ec922873b37e41a89eaac27ff7b6bae8\n",
      "\n",
      "🧪 View experiment at: http://127.0.0.1:8080/#/experiments/318252292058062544  \n",
      "\n",
      "Params: {'C': 0.05, 'gamma': 10, 'kernel': 'rbf'}                              \n",
      " 60%|██████    | 3/5 [01:53<01:05, 32.53s/trial, best loss: -0.679594637193099]"
     ]
    },
    {
     "name": "stderr",
     "output_type": "stream",
     "text": [
      "/home/renan/miniconda3/lib/python3.12/site-packages/sklearn/metrics/_classification.py:1565: UndefinedMetricWarning: Precision is ill-defined and being set to 0.0 in labels with no predicted samples. Use `zero_division` parameter to control this behavior.\n",
      "  _warn_prf(average, modifier, f\"{metric.capitalize()} is\", len(result))\n",
      "\n"
     ]
    },
    {
     "name": "stdout",
     "output_type": "stream",
     "text": [
      "🏃 View run SVC_{'C': 0.05, 'gamma': 10, 'kernel': 'rbf'} at: http://127.0.0.1:8080/#/experiments/318252292058062544/runs/92af77006aaf41bbbf834acc6a5370bd\n",
      "\n",
      "🧪 View experiment at: http://127.0.0.1:8080/#/experiments/318252292058062544  \n",
      "\n",
      "Params: {'C': 1, 'gamma': 0.001, 'kernel': 'rbf'}                              \n",
      "🏃 View run SVC_{'C': 1, 'gamma': 0.001, 'kernel': 'rbf'} at: http://127.0.0.1:8080/#/experiments/318252292058062544/runs/97a16a9b689743cf9b22701e1b4b58f7\n",
      "\n",
      "🧪 View experiment at: http://127.0.0.1:8080/#/experiments/318252292058062544  \n",
      "\n",
      "100%|██████████| 5/5 [03:06<00:00, 37.40s/trial, best loss: -0.6916439792105177]\n",
      "🏃 View run svc-sweep at: http://127.0.0.1:8080/#/experiments/318252292058062544/runs/248fb424de124307b73769e432b1040c\n",
      "🧪 View experiment at: http://127.0.0.1:8080/#/experiments/318252292058062544\n",
      "This will run 5 trials to find optimal hyperparameters...\n",
      "Params: {'C': 1}                                     \n",
      "🏃 View run LinearSVC_{'C': 1} at: http://127.0.0.1:8080/#/experiments/318252292058062544/runs/a007143ae15a40c3836e20583780ec00\n",
      "\n",
      "🧪 View experiment at: http://127.0.0.1:8080/#/experiments/318252292058062544\n",
      "\n",
      "Params: {'C': 0.1}                                                              \n",
      "🏃 View run LinearSVC_{'C': 0.1} at: http://127.0.0.1:8080/#/experiments/318252292058062544/runs/693fd93646a448c49d152bc253371c78\n",
      "\n",
      "🧪 View experiment at: http://127.0.0.1:8080/#/experiments/318252292058062544   \n",
      "\n",
      "Params: {'C': 0.01}                                                             \n",
      "🏃 View run LinearSVC_{'C': 0.01} at: http://127.0.0.1:8080/#/experiments/318252292058062544/runs/5cdfcf33e99d4763921b0bd61c150fbc\n",
      "\n",
      "🧪 View experiment at: http://127.0.0.1:8080/#/experiments/318252292058062544   \n",
      "\n",
      "Params: {'C': 1}                                                                \n",
      "🏃 View run LinearSVC_{'C': 1} at: http://127.0.0.1:8080/#/experiments/318252292058062544/runs/0683aa03f73548b8babc115e3a386b11\n",
      "\n",
      "🧪 View experiment at: http://127.0.0.1:8080/#/experiments/318252292058062544   \n",
      "\n",
      "Params: {'C': 0.1}                                                              \n",
      "🏃 View run LinearSVC_{'C': 0.1} at: http://127.0.0.1:8080/#/experiments/318252292058062544/runs/595274baeb1f407392b9136d6070568d\n",
      "\n",
      "🧪 View experiment at: http://127.0.0.1:8080/#/experiments/318252292058062544   \n",
      "\n",
      "100%|██████████| 5/5 [00:07<00:00,  1.49s/trial, best loss: -0.6603476749358289]\n",
      "🏃 View run svc-linear-sweep at: http://127.0.0.1:8080/#/experiments/318252292058062544/runs/508c30c9803b4255a72d319ce633f8b0\n",
      "🧪 View experiment at: http://127.0.0.1:8080/#/experiments/318252292058062544\n",
      "This will run 5 trials to find optimal hyperparameters...\n",
      "Params: {'colsample_bytree': 0.5, 'learning_rate': 0.3, 'max_depth': 10, 'n_estimators': 1000, 'subsample': 0.5}\n",
      "🏃 View run XGBClassifier_{'colsample_bytree': 0.5, 'learning_rate': 0.3, 'max_depth': 10, 'n_estimators': 1000, 'subsample': 0.5} at: http://127.0.0.1:8080/#/experiments/318252292058062544/runs/048492e830f54be5bdb1475f8906a5bd\n",
      "\n",
      "🧪 View experiment at: http://127.0.0.1:8080/#/experiments/318252292058062544\n",
      "\n",
      "Params: {'colsample_bytree': 1.0, 'learning_rate': 0.3, 'max_depth': 10, 'n_estimators': 200, 'subsample': 1.0}\n",
      "🏃 View run XGBClassifier_{'colsample_bytree': 1.0, 'learning_rate': 0.3, 'max_depth': 10, 'n_estimators': 200, 'subsample': 1.0} at: http://127.0.0.1:8080/#/experiments/318252292058062544/runs/743b5b7846534dc392e08ffcdb629955\n",
      "\n",
      "🧪 View experiment at: http://127.0.0.1:8080/#/experiments/318252292058062544   \n",
      "\n",
      "Params: {'colsample_bytree': 0.5, 'learning_rate': 0.001, 'max_depth': 5, 'n_estimators': 700, 'subsample': 0.7}\n",
      "🏃 View run XGBClassifier_{'colsample_bytree': 0.5, 'learning_rate': 0.001, 'max_depth': 5, 'n_estimators': 700, 'subsample': 0.7} at: http://127.0.0.1:8080/#/experiments/318252292058062544/runs/cff19ad5a6b14389be8fe65c8335bee4\n",
      "\n",
      "🧪 View experiment at: http://127.0.0.1:8080/#/experiments/318252292058062544   \n",
      "\n",
      "Params: {'colsample_bytree': 0.7, 'learning_rate': 0.001, 'max_depth': None, 'n_estimators': 700, 'subsample': 0.5}\n",
      "🏃 View run XGBClassifier_{'colsample_bytree': 0.7, 'learning_rate': 0.001, 'max_depth': None, 'n_estimators': 700, 'subsample': 0.5} at: http://127.0.0.1:8080/#/experiments/318252292058062544/runs/9b8d7e14b428442696935a95bfeddf7f\n",
      "\n",
      "🧪 View experiment at: http://127.0.0.1:8080/#/experiments/318252292058062544   \n",
      "\n",
      "Params: {'colsample_bytree': 0.7, 'learning_rate': 0.3, 'max_depth': 5, 'n_estimators': 500, 'subsample': 1.0}\n",
      "🏃 View run XGBClassifier_{'colsample_bytree': 0.7, 'learning_rate': 0.3, 'max_depth': 5, 'n_estimators': 500, 'subsample': 1.0} at: http://127.0.0.1:8080/#/experiments/318252292058062544/runs/4288254a15634f79acc05c8b05050a9f\n",
      "\n",
      "🧪 View experiment at: http://127.0.0.1:8080/#/experiments/318252292058062544   \n",
      "\n",
      "100%|██████████| 5/5 [00:19<00:00,  3.94s/trial, best loss: -0.7252382344254025]\n",
      "🏃 View run xgb-sweep at: http://127.0.0.1:8080/#/experiments/318252292058062544/runs/2ea22386b0094cb3871cdbb5786b1e11\n",
      "🧪 View experiment at: http://127.0.0.1:8080/#/experiments/318252292058062544\n"
     ]
    },
    {
     "data": {
      "text/plain": [
       "0.7252382344254025"
      ]
     },
     "execution_count": 169,
     "metadata": {},
     "output_type": "execute_result"
    }
   ],
   "source": [
    "model = RandomForestClassifier\n",
    "run_experiments('rf-sweep', max_evals=max_evals, search_space=search_space_rf, data_name=data_name, model_name = 'RandomForestClassifier', features_names=columns_to_keep)\n",
    "model = SVC\n",
    "run_experiments('svc-sweep', max_evals=max_evals, search_space=search_space_svc, data_name=data_name, model_name = 'SVC', features_names=columns_to_keep)\n",
    "model = LinearSVC\n",
    "run_experiments('svc-linear-sweep', max_evals=max_evals, search_space=search_space_svc_linear, data_name=data_name, model_name = 'LinearSVC', features_names=columns_to_keep)\n",
    "model = xgb.XGBClassifier\n",
    "run_experiments('xgb-sweep', max_evals=max_evals, search_space=search_space_xgb, data_name=data_name, model_name = 'XGBClassifier', features_names=columns_to_keep)"
   ]
  },
  {
   "cell_type": "markdown",
   "id": "6c639de4",
   "metadata": {},
   "source": [
    "## Real + SUMO (60%)"
   ]
  },
  {
   "cell_type": "markdown",
   "id": "e6d9c9ec",
   "metadata": {},
   "source": [
    "### Fixed"
   ]
  },
  {
   "cell_type": "code",
   "execution_count": 170,
   "id": "261c77d0",
   "metadata": {},
   "outputs": [],
   "source": [
    "# Provide an Experiment description that will appear in the UI\n",
    "experiment_description = (\n",
    "    \"Experiment to train models on the UAH + SUMO Fixed (60%) dataset.\"\n",
    ")\n",
    "\n",
    "# Provide searchable tags that define characteristics of the Runs that\n",
    "# will be in this Experiment\n",
    "experiment_tags = {\n",
    "    \"project_name\": \"driver-behavior-prediction\",\n",
    "    \"mlflow.note.content\": experiment_description,\n",
    "}\n",
    "\n",
    "# Create the Experiment, providing a unique name\n",
    "try:\n",
    "    driver_behavior_experiment = client.create_experiment(\n",
    "        name=\"UAH_SUMO_Fixed_60\", tags=experiment_tags\n",
    "    )\n",
    "except mlflow.exceptions.RestException as e:\n",
    "    print(f\"Experiment already exists: {e}\")"
   ]
  },
  {
   "cell_type": "code",
   "execution_count": 171,
   "id": "ce15831d",
   "metadata": {},
   "outputs": [],
   "source": [
    "X_train, y_train = X_sumo_uah_fixed_60, y_sumo_uah_fixed_60\n",
    "\n",
    "scaler = StandardScaler()\n",
    "X_train = scaler.fit_transform(X_train)\n",
    "X_val = scaler.transform(X_val_base)\n",
    "y_train = preprocessor.one_hot_encode(y_train, one_hot_keys=one_hot_keys)\n",
    "\n",
    "signature = infer_signature(X_train, y_train)\n",
    "mlflow.set_experiment('UAH_SUMO_Fixed_60')\n",
    "data_name = 'UAH_SUMO_Fixed_60'"
   ]
  },
  {
   "cell_type": "code",
   "execution_count": 172,
   "id": "7a657796",
   "metadata": {},
   "outputs": [
    {
     "name": "stdout",
     "output_type": "stream",
     "text": [
      "This will run 5 trials to find optimal hyperparameters...\n",
      "Params: {'max_depth': 50, 'n_estimators': 500}       \n",
      "🏃 View run RandomForestClassifier_{'max_depth': 50, 'n_estimators': 500} at: http://127.0.0.1:8080/#/experiments/764588472886884330/runs/c66af1c64b044a80a8ca4550004c5b7f\n",
      "\n",
      "🧪 View experiment at: http://127.0.0.1:8080/#/experiments/764588472886884330\n",
      "\n",
      "Params: {'max_depth': 10, 'n_estimators': 50}                                   \n",
      "🏃 View run RandomForestClassifier_{'max_depth': 10, 'n_estimators': 50} at: http://127.0.0.1:8080/#/experiments/764588472886884330/runs/305c3549b9e2471db1d70a88c6868d72\n",
      "\n",
      "🧪 View experiment at: http://127.0.0.1:8080/#/experiments/764588472886884330   \n",
      "\n",
      "Params: {'max_depth': 10, 'n_estimators': 100}                                  \n",
      "🏃 View run RandomForestClassifier_{'max_depth': 10, 'n_estimators': 100} at: http://127.0.0.1:8080/#/experiments/764588472886884330/runs/4632da91d8ef46cfa2a9c49be8c5d9fc\n",
      "\n",
      "🧪 View experiment at: http://127.0.0.1:8080/#/experiments/764588472886884330   \n",
      "\n",
      "Params: {'max_depth': None, 'n_estimators': 50}                                 \n",
      "🏃 View run RandomForestClassifier_{'max_depth': None, 'n_estimators': 50} at: http://127.0.0.1:8080/#/experiments/764588472886884330/runs/ffe75624e5c147829f7e95599c2d7543\n",
      "\n",
      "🧪 View experiment at: http://127.0.0.1:8080/#/experiments/764588472886884330   \n",
      "\n",
      "Params: {'max_depth': None, 'n_estimators': 50}                                 \n",
      "🏃 View run RandomForestClassifier_{'max_depth': None, 'n_estimators': 50} at: http://127.0.0.1:8080/#/experiments/764588472886884330/runs/13dbc482ec9c4d02b3b9a50d68e983c9\n",
      "\n",
      "🧪 View experiment at: http://127.0.0.1:8080/#/experiments/764588472886884330   \n",
      "\n",
      "100%|██████████| 5/5 [01:04<00:00, 12.82s/trial, best loss: -0.7302868558526028]\n",
      "🏃 View run rf-sweep at: http://127.0.0.1:8080/#/experiments/764588472886884330/runs/0ac194550c7e409eb195f0330b870a82\n",
      "🧪 View experiment at: http://127.0.0.1:8080/#/experiments/764588472886884330\n",
      "This will run 5 trials to find optimal hyperparameters...\n",
      "Params: {'C': 0.1, 'gamma': 0.1, 'kernel': 'rbf'}    \n",
      "🏃 View run SVC_{'C': 0.1, 'gamma': 0.1, 'kernel': 'rbf'} at: http://127.0.0.1:8080/#/experiments/764588472886884330/runs/b539f40462b04fbd81f220e761580993\n",
      "\n",
      "🧪 View experiment at: http://127.0.0.1:8080/#/experiments/764588472886884330\n",
      "\n",
      "Params: {'C': 0.05, 'gamma': 0.001, 'kernel': 'rbf'}                            \n",
      "🏃 View run SVC_{'C': 0.05, 'gamma': 0.001, 'kernel': 'rbf'} at: http://127.0.0.1:8080/#/experiments/764588472886884330/runs/32a4d6b3038c4b36b4fba4f2aa6e1e41\n",
      "\n",
      "🧪 View experiment at: http://127.0.0.1:8080/#/experiments/764588472886884330   \n",
      "\n",
      "Params: {'C': 0.1, 'gamma': 0.01, 'kernel': 'rbf'}                              \n",
      "🏃 View run SVC_{'C': 0.1, 'gamma': 0.01, 'kernel': 'rbf'} at: http://127.0.0.1:8080/#/experiments/764588472886884330/runs/ffd96f7a60664d6ca3b654058afab76f\n",
      "\n",
      "🧪 View experiment at: http://127.0.0.1:8080/#/experiments/764588472886884330   \n",
      "\n",
      "Params: {'C': 1, 'gamma': 10, 'kernel': 'rbf'}                                  \n",
      " 60%|██████    | 3/5 [00:54<00:36, 18.32s/trial, best loss: -0.7158430228374248]"
     ]
    },
    {
     "name": "stderr",
     "output_type": "stream",
     "text": [
      "/home/renan/miniconda3/lib/python3.12/site-packages/sklearn/metrics/_classification.py:1565: UndefinedMetricWarning: Precision is ill-defined and being set to 0.0 in labels with no predicted samples. Use `zero_division` parameter to control this behavior.\n",
      "  _warn_prf(average, modifier, f\"{metric.capitalize()} is\", len(result))\n",
      "\n"
     ]
    },
    {
     "name": "stdout",
     "output_type": "stream",
     "text": [
      "🏃 View run SVC_{'C': 1, 'gamma': 10, 'kernel': 'rbf'} at: http://127.0.0.1:8080/#/experiments/764588472886884330/runs/de82829c9b154a2ab1585f7818544343\n",
      "\n",
      "🧪 View experiment at: http://127.0.0.1:8080/#/experiments/764588472886884330   \n",
      "\n",
      "Params: {'C': 1, 'gamma': 1, 'kernel': 'rbf'}                                   \n",
      "🏃 View run SVC_{'C': 1, 'gamma': 1, 'kernel': 'rbf'} at: http://127.0.0.1:8080/#/experiments/764588472886884330/runs/e66d7587f9bc4887a8a74c79e1349dc6\n",
      "\n",
      "🧪 View experiment at: http://127.0.0.1:8080/#/experiments/764588472886884330   \n",
      "\n",
      "100%|██████████| 5/5 [02:51<00:00, 34.22s/trial, best loss: -0.7237554234531884]\n",
      "🏃 View run svc-sweep at: http://127.0.0.1:8080/#/experiments/764588472886884330/runs/b3bf434e01dc45a7be5c195eafff77d9\n",
      "🧪 View experiment at: http://127.0.0.1:8080/#/experiments/764588472886884330\n",
      "This will run 5 trials to find optimal hyperparameters...\n",
      "Params: {'C': 0.1}                                   \n",
      "🏃 View run LinearSVC_{'C': 0.1} at: http://127.0.0.1:8080/#/experiments/764588472886884330/runs/110dac31820546e786f1f1a01cce7860\n",
      "\n",
      "🧪 View experiment at: http://127.0.0.1:8080/#/experiments/764588472886884330\n",
      "\n",
      "Params: {'C': 0.0001}                                                           \n",
      "🏃 View run LinearSVC_{'C': 0.0001} at: http://127.0.0.1:8080/#/experiments/764588472886884330/runs/c24a7b076ba945d5a2700954339dd193\n",
      "\n",
      "🧪 View experiment at: http://127.0.0.1:8080/#/experiments/764588472886884330   \n",
      "\n",
      "Params: {'C': 0.001}                                                            \n",
      "🏃 View run LinearSVC_{'C': 0.001} at: http://127.0.0.1:8080/#/experiments/764588472886884330/runs/e2b1e01d2fe441b5a375dc959c47c966\n",
      "\n",
      "🧪 View experiment at: http://127.0.0.1:8080/#/experiments/764588472886884330   \n",
      "\n",
      "Params: {'C': 0.01}                                                             \n",
      "🏃 View run LinearSVC_{'C': 0.01} at: http://127.0.0.1:8080/#/experiments/764588472886884330/runs/cef74218cebe4cc5aa6d0b226536506a\n",
      "\n",
      "🧪 View experiment at: http://127.0.0.1:8080/#/experiments/764588472886884330   \n",
      "\n",
      "Params: {'C': 0.0001}                                                           \n",
      "🏃 View run LinearSVC_{'C': 0.0001} at: http://127.0.0.1:8080/#/experiments/764588472886884330/runs/ab1f08fb7d934611859c459abe392dd2\n",
      "\n",
      "🧪 View experiment at: http://127.0.0.1:8080/#/experiments/764588472886884330   \n",
      "\n",
      "100%|██████████| 5/5 [00:07<00:00,  1.43s/trial, best loss: -0.6725675293141663]\n",
      "🏃 View run svc-linear-sweep at: http://127.0.0.1:8080/#/experiments/764588472886884330/runs/058be0f724884ae48cb480da348560cd\n",
      "🧪 View experiment at: http://127.0.0.1:8080/#/experiments/764588472886884330\n",
      "This will run 5 trials to find optimal hyperparameters...\n",
      "Params: {'colsample_bytree': 0.5, 'learning_rate': 0.1, 'max_depth': 10, 'n_estimators': 200, 'subsample': 0.7}\n",
      "🏃 View run XGBClassifier_{'colsample_bytree': 0.5, 'learning_rate': 0.1, 'max_depth': 10, 'n_estimators': 200, 'subsample': 0.7} at: http://127.0.0.1:8080/#/experiments/764588472886884330/runs/898a15a131c34d1e9d10d08731ae173b\n",
      "\n",
      "🧪 View experiment at: http://127.0.0.1:8080/#/experiments/764588472886884330\n",
      "\n",
      "Params: {'colsample_bytree': 0.7, 'learning_rate': 0.001, 'max_depth': 5, 'n_estimators': 200, 'subsample': 0.7}\n",
      " 20%|██        | 1/5 [00:03<00:12,  3.05s/trial, best loss: -0.7227017360905337]"
     ]
    },
    {
     "name": "stderr",
     "output_type": "stream",
     "text": [
      "/home/renan/miniconda3/lib/python3.12/site-packages/sklearn/metrics/_classification.py:1565: UndefinedMetricWarning: Precision is ill-defined and being set to 0.0 in labels with no predicted samples. Use `zero_division` parameter to control this behavior.\n",
      "  _warn_prf(average, modifier, f\"{metric.capitalize()} is\", len(result))\n",
      "\n"
     ]
    },
    {
     "name": "stdout",
     "output_type": "stream",
     "text": [
      "🏃 View run XGBClassifier_{'colsample_bytree': 0.7, 'learning_rate': 0.001, 'max_depth': 5, 'n_estimators': 200, 'subsample': 0.7} at: http://127.0.0.1:8080/#/experiments/764588472886884330/runs/22a04a8b61654106bb4a6a62c3ba2a45\n",
      "\n",
      "🧪 View experiment at: http://127.0.0.1:8080/#/experiments/764588472886884330   \n",
      "\n",
      "Params: {'colsample_bytree': 0.7, 'learning_rate': 0.01, 'max_depth': 10, 'n_estimators': 700, 'subsample': 0.5}\n",
      "🏃 View run XGBClassifier_{'colsample_bytree': 0.7, 'learning_rate': 0.01, 'max_depth': 10, 'n_estimators': 700, 'subsample': 0.5} at: http://127.0.0.1:8080/#/experiments/764588472886884330/runs/1c1a79b5706542638d3fd80ab95004db\n",
      "\n",
      "🧪 View experiment at: http://127.0.0.1:8080/#/experiments/764588472886884330   \n",
      "\n",
      "Params: {'colsample_bytree': 0.7, 'learning_rate': 0.1, 'max_depth': 10, 'n_estimators': 500, 'subsample': 1.0}\n",
      "🏃 View run XGBClassifier_{'colsample_bytree': 0.7, 'learning_rate': 0.1, 'max_depth': 10, 'n_estimators': 500, 'subsample': 1.0} at: http://127.0.0.1:8080/#/experiments/764588472886884330/runs/0c38332a86a840cca500f4c1b49cd849\n",
      "\n",
      "🧪 View experiment at: http://127.0.0.1:8080/#/experiments/764588472886884330   \n",
      "\n",
      "Params: {'colsample_bytree': 0.7, 'learning_rate': 0.1, 'max_depth': 10, 'n_estimators': 500, 'subsample': 0.5}\n",
      "🏃 View run XGBClassifier_{'colsample_bytree': 0.7, 'learning_rate': 0.1, 'max_depth': 10, 'n_estimators': 500, 'subsample': 0.5} at: http://127.0.0.1:8080/#/experiments/764588472886884330/runs/b326220097024cc2a7e01554592682df\n",
      "\n",
      "🧪 View experiment at: http://127.0.0.1:8080/#/experiments/764588472886884330   \n",
      "\n",
      "100%|██████████| 5/5 [00:23<00:00,  4.78s/trial, best loss: -0.7301638676399987]\n",
      "🏃 View run xgb-sweep at: http://127.0.0.1:8080/#/experiments/764588472886884330/runs/e945d427a55a4dae8d4389c2fc32ccbd\n",
      "🧪 View experiment at: http://127.0.0.1:8080/#/experiments/764588472886884330\n"
     ]
    },
    {
     "data": {
      "text/plain": [
       "0.7301638676399987"
      ]
     },
     "execution_count": 172,
     "metadata": {},
     "output_type": "execute_result"
    }
   ],
   "source": [
    "model = RandomForestClassifier\n",
    "run_experiments('rf-sweep', max_evals=max_evals, search_space=search_space_rf, data_name=data_name, model_name = 'RandomForestClassifier', features_names=columns_to_keep)\n",
    "model = SVC\n",
    "run_experiments('svc-sweep', max_evals=max_evals, search_space=search_space_svc, data_name=data_name, model_name = 'SVC', features_names=columns_to_keep)\n",
    "model = LinearSVC\n",
    "run_experiments('svc-linear-sweep', max_evals=max_evals, search_space=search_space_svc_linear, data_name=data_name, model_name = 'LinearSVC', features_names=columns_to_keep)\n",
    "model = xgb.XGBClassifier\n",
    "run_experiments('xgb-sweep', max_evals=max_evals, search_space=search_space_xgb, data_name=data_name, model_name = 'XGBClassifier', features_names=columns_to_keep)"
   ]
  },
  {
   "cell_type": "markdown",
   "id": "30cb9e0c",
   "metadata": {},
   "source": [
    "### LLM"
   ]
  },
  {
   "cell_type": "code",
   "execution_count": 173,
   "id": "94ebfdd3",
   "metadata": {},
   "outputs": [],
   "source": [
    "# Provide an Experiment description that will appear in the UI\n",
    "experiment_description = (\n",
    "    \"Experiment to train models on the UAH + SUMO LLM (60%) dataset.\"\n",
    ")\n",
    "\n",
    "# Provide searchable tags that define characteristics of the Runs that\n",
    "# will be in this Experiment\n",
    "experiment_tags = {\n",
    "    \"project_name\": \"driver-behavior-prediction\",\n",
    "    \"mlflow.note.content\": experiment_description,\n",
    "}\n",
    "\n",
    "# Create the Experiment, providing a unique name\n",
    "try:\n",
    "    driver_behavior_experiment = client.create_experiment(\n",
    "        name=\"UAH_SUMO_LLM_60\", tags=experiment_tags\n",
    "    )\n",
    "except mlflow.exceptions.RestException as e:\n",
    "    print(f\"Experiment already exists: {e}\")"
   ]
  },
  {
   "cell_type": "code",
   "execution_count": 174,
   "id": "c5a0b3e1",
   "metadata": {},
   "outputs": [],
   "source": [
    "X_train, y_train = X_sumo_uah_llm_60, y_sumo_uah_llm_60\n",
    "\n",
    "scaler = StandardScaler()\n",
    "X_train = scaler.fit_transform(X_train)\n",
    "X_val = scaler.transform(X_val_base)\n",
    "y_train = preprocessor.one_hot_encode(y_train, one_hot_keys=one_hot_keys)\n",
    "\n",
    "signature = infer_signature(X_train, y_train)\n",
    "mlflow.set_experiment('UAH_SUMO_LLM_60')\n",
    "data_name = 'UAH_SUMO_LLM_60'"
   ]
  },
  {
   "cell_type": "code",
   "execution_count": 175,
   "id": "e7b0ffdc",
   "metadata": {},
   "outputs": [
    {
     "name": "stdout",
     "output_type": "stream",
     "text": [
      "This will run 5 trials to find optimal hyperparameters...\n",
      "Params: {'max_depth': None, 'n_estimators': 500}     \n",
      "🏃 View run RandomForestClassifier_{'max_depth': None, 'n_estimators': 500} at: http://127.0.0.1:8080/#/experiments/305863925903451489/runs/6d7518749fea4e0a84f0df33f43bdf88\n",
      "\n",
      "🧪 View experiment at: http://127.0.0.1:8080/#/experiments/305863925903451489\n",
      "\n",
      "Params: {'max_depth': 50, 'n_estimators': 50}                                 \n",
      "🏃 View run RandomForestClassifier_{'max_depth': 50, 'n_estimators': 50} at: http://127.0.0.1:8080/#/experiments/305863925903451489/runs/554f0fdc29724c719feb6e3744807ec5\n",
      "\n",
      "🧪 View experiment at: http://127.0.0.1:8080/#/experiments/305863925903451489 \n",
      "\n",
      "Params: {'max_depth': 5, 'n_estimators': 20}                                  \n",
      "🏃 View run RandomForestClassifier_{'max_depth': 5, 'n_estimators': 20} at: http://127.0.0.1:8080/#/experiments/305863925903451489/runs/af09261e36d148aaae5bfe51b5ee7dd1\n",
      "\n",
      "🧪 View experiment at: http://127.0.0.1:8080/#/experiments/305863925903451489 \n",
      "\n",
      "Params: {'max_depth': 5, 'n_estimators': 200}                                 \n",
      "🏃 View run RandomForestClassifier_{'max_depth': 5, 'n_estimators': 200} at: http://127.0.0.1:8080/#/experiments/305863925903451489/runs/3b0176414f9e43669786a87e1bf2ab0e\n",
      "\n",
      "🧪 View experiment at: http://127.0.0.1:8080/#/experiments/305863925903451489 \n",
      "\n",
      "Params: {'max_depth': 5, 'n_estimators': 20}                                  \n",
      "🏃 View run RandomForestClassifier_{'max_depth': 5, 'n_estimators': 20} at: http://127.0.0.1:8080/#/experiments/305863925903451489/runs/275526780fad4ea0aef8cc11c150a63e\n",
      "\n",
      "🧪 View experiment at: http://127.0.0.1:8080/#/experiments/305863925903451489 \n",
      "\n",
      "100%|██████████| 5/5 [00:58<00:00, 11.74s/trial, best loss: -0.72895707926186]\n",
      "🏃 View run rf-sweep at: http://127.0.0.1:8080/#/experiments/305863925903451489/runs/8e9f25a9c207450e92841d185c9ff325\n",
      "🧪 View experiment at: http://127.0.0.1:8080/#/experiments/305863925903451489\n",
      "This will run 5 trials to find optimal hyperparameters...\n",
      "Params: {'C': 0.01, 'gamma': 0.01, 'kernel': 'rbf'}  \n",
      "🏃 View run SVC_{'C': 0.01, 'gamma': 0.01, 'kernel': 'rbf'} at: http://127.0.0.1:8080/#/experiments/305863925903451489/runs/b94d18d6e8c64c00bd499c623db8731e\n",
      "\n",
      "🧪 View experiment at: http://127.0.0.1:8080/#/experiments/305863925903451489\n",
      "\n",
      "Params: {'C': 0.01, 'gamma': 0.01, 'kernel': 'rbf'}                            \n",
      "🏃 View run SVC_{'C': 0.01, 'gamma': 0.01, 'kernel': 'rbf'} at: http://127.0.0.1:8080/#/experiments/305863925903451489/runs/9e817e2981f74354b81362e107fd177a\n",
      "\n",
      "🧪 View experiment at: http://127.0.0.1:8080/#/experiments/305863925903451489  \n",
      "\n",
      "Params: {'C': 0.5, 'gamma': 0.1, 'kernel': 'rbf'}                              \n",
      "🏃 View run SVC_{'C': 0.5, 'gamma': 0.1, 'kernel': 'rbf'} at: http://127.0.0.1:8080/#/experiments/305863925903451489/runs/6e8a843a3dbc44cb9b280f994cb49900\n",
      "\n",
      "🧪 View experiment at: http://127.0.0.1:8080/#/experiments/305863925903451489  \n",
      "\n",
      "Params: {'C': 0.01, 'gamma': 0.001, 'kernel': 'rbf'}                            \n",
      "🏃 View run SVC_{'C': 0.01, 'gamma': 0.001, 'kernel': 'rbf'} at: http://127.0.0.1:8080/#/experiments/305863925903451489/runs/491bec8ef20943b1a4b7cbbd143b22a7\n",
      "\n",
      "🧪 View experiment at: http://127.0.0.1:8080/#/experiments/305863925903451489   \n",
      "\n",
      "Params: {'C': 0.5, 'gamma': 1, 'kernel': 'rbf'}                                 \n",
      "🏃 View run SVC_{'C': 0.5, 'gamma': 1, 'kernel': 'rbf'} at: http://127.0.0.1:8080/#/experiments/305863925903451489/runs/f0f68b37d89b4bf7aa252bf28dc19662\n",
      "\n",
      "🧪 View experiment at: http://127.0.0.1:8080/#/experiments/305863925903451489   \n",
      "\n",
      "100%|██████████| 5/5 [01:46<00:00, 21.21s/trial, best loss: -0.7288080103288332]\n",
      "🏃 View run svc-sweep at: http://127.0.0.1:8080/#/experiments/305863925903451489/runs/a06da6d4e9fe4503aa370af3ca522a9c\n",
      "🧪 View experiment at: http://127.0.0.1:8080/#/experiments/305863925903451489\n",
      "This will run 5 trials to find optimal hyperparameters...\n",
      "Params: {'C': 0.0001}                                \n",
      "🏃 View run LinearSVC_{'C': 0.0001} at: http://127.0.0.1:8080/#/experiments/305863925903451489/runs/cbdc4846464c4e72891d444e1ace7c6c\n",
      "\n",
      "🧪 View experiment at: http://127.0.0.1:8080/#/experiments/305863925903451489\n",
      "\n",
      "Params: {'C': 0.0001}                                                           \n",
      "🏃 View run LinearSVC_{'C': 0.0001} at: http://127.0.0.1:8080/#/experiments/305863925903451489/runs/dec4cfbb1e6642a594618f76377a0475\n",
      "\n",
      "🧪 View experiment at: http://127.0.0.1:8080/#/experiments/305863925903451489   \n",
      "\n",
      "Params: {'C': 0.001}                                                            \n",
      "🏃 View run LinearSVC_{'C': 0.001} at: http://127.0.0.1:8080/#/experiments/305863925903451489/runs/cff64b5d7e3b466e945806ce041ceff7\n",
      "\n",
      "🧪 View experiment at: http://127.0.0.1:8080/#/experiments/305863925903451489   \n",
      "\n",
      "Params: {'C': 1}                                                                \n",
      "🏃 View run LinearSVC_{'C': 1} at: http://127.0.0.1:8080/#/experiments/305863925903451489/runs/64de9a6d144548abad5e739c1a73bb0d\n",
      "\n",
      "🧪 View experiment at: http://127.0.0.1:8080/#/experiments/305863925903451489   \n",
      "\n",
      "Params: {'C': 1}                                                                \n",
      "🏃 View run LinearSVC_{'C': 1} at: http://127.0.0.1:8080/#/experiments/305863925903451489/runs/656a454bbd0d4d099d8737e1e77a4e8f\n",
      "\n",
      "🧪 View experiment at: http://127.0.0.1:8080/#/experiments/305863925903451489   \n",
      "\n",
      "100%|██████████| 5/5 [00:07<00:00,  1.47s/trial, best loss: -0.6725675293141663]\n",
      "🏃 View run svc-linear-sweep at: http://127.0.0.1:8080/#/experiments/305863925903451489/runs/8f82ec30a66a48ec9735b7e3ce69379f\n",
      "🧪 View experiment at: http://127.0.0.1:8080/#/experiments/305863925903451489\n",
      "This will run 5 trials to find optimal hyperparameters...\n",
      "Params: {'colsample_bytree': 0.7, 'learning_rate': 0.3, 'max_depth': None, 'n_estimators': 200, 'subsample': 0.5}\n",
      "🏃 View run XGBClassifier_{'colsample_bytree': 0.7, 'learning_rate': 0.3, 'max_depth': None, 'n_estimators': 200, 'subsample': 0.5} at: http://127.0.0.1:8080/#/experiments/305863925903451489/runs/87874f2e1db94ec4bff6cf3258ee563d\n",
      "\n",
      "🧪 View experiment at: http://127.0.0.1:8080/#/experiments/305863925903451489\n",
      "\n",
      "Params: {'colsample_bytree': 0.7, 'learning_rate': 0.1, 'max_depth': 5, 'n_estimators': 700, 'subsample': 1.0}\n",
      "🏃 View run XGBClassifier_{'colsample_bytree': 0.7, 'learning_rate': 0.1, 'max_depth': 5, 'n_estimators': 700, 'subsample': 1.0} at: http://127.0.0.1:8080/#/experiments/305863925903451489/runs/7acc0331a03549168999d14e00ad8436\n",
      "\n",
      "🧪 View experiment at: http://127.0.0.1:8080/#/experiments/305863925903451489   \n",
      "\n",
      "Params: {'colsample_bytree': 1.0, 'learning_rate': 0.01, 'max_depth': None, 'n_estimators': 1000, 'subsample': 0.7}\n",
      "🏃 View run XGBClassifier_{'colsample_bytree': 1.0, 'learning_rate': 0.01, 'max_depth': None, 'n_estimators': 1000, 'subsample': 0.7} at: http://127.0.0.1:8080/#/experiments/305863925903451489/runs/b486b02b0c75492d9e4c47ac96f44bb6\n",
      "\n",
      "🧪 View experiment at: http://127.0.0.1:8080/#/experiments/305863925903451489   \n",
      "\n",
      "Params: {'colsample_bytree': 0.5, 'learning_rate': 0.3, 'max_depth': None, 'n_estimators': 500, 'subsample': 1.0}\n",
      "🏃 View run XGBClassifier_{'colsample_bytree': 0.5, 'learning_rate': 0.3, 'max_depth': None, 'n_estimators': 500, 'subsample': 1.0} at: http://127.0.0.1:8080/#/experiments/305863925903451489/runs/61210b6416a44e6290874587b3e28347\n",
      "\n",
      "🧪 View experiment at: http://127.0.0.1:8080/#/experiments/305863925903451489   \n",
      "\n",
      "Params: {'colsample_bytree': 1.0, 'learning_rate': 0.1, 'max_depth': 10, 'n_estimators': 200, 'subsample': 0.5}\n",
      "🏃 View run XGBClassifier_{'colsample_bytree': 1.0, 'learning_rate': 0.1, 'max_depth': 10, 'n_estimators': 200, 'subsample': 0.5} at: http://127.0.0.1:8080/#/experiments/305863925903451489/runs/875a2fb86b3d45528e96cac5d8f13792\n",
      "\n",
      "🧪 View experiment at: http://127.0.0.1:8080/#/experiments/305863925903451489   \n",
      "\n",
      "100%|██████████| 5/5 [00:16<00:00,  3.21s/trial, best loss: -0.7341023141094059]\n",
      "🏃 View run xgb-sweep at: http://127.0.0.1:8080/#/experiments/305863925903451489/runs/1b32ff9b96ba42238673df7659fe5dba\n",
      "🧪 View experiment at: http://127.0.0.1:8080/#/experiments/305863925903451489\n"
     ]
    },
    {
     "data": {
      "text/plain": [
       "0.7341023141094059"
      ]
     },
     "execution_count": 175,
     "metadata": {},
     "output_type": "execute_result"
    }
   ],
   "source": [
    "model = RandomForestClassifier\n",
    "run_experiments('rf-sweep', max_evals=max_evals, search_space=search_space_rf, data_name=data_name, model_name = 'RandomForestClassifier', features_names=columns_to_keep)\n",
    "model = SVC\n",
    "run_experiments('svc-sweep', max_evals=max_evals, search_space=search_space_svc, data_name=data_name, model_name = 'SVC', features_names=columns_to_keep)\n",
    "model = LinearSVC\n",
    "run_experiments('svc-linear-sweep', max_evals=max_evals, search_space=search_space_svc_linear, data_name=data_name, model_name = 'LinearSVC', features_names=columns_to_keep)\n",
    "model = xgb.XGBClassifier\n",
    "run_experiments('xgb-sweep', max_evals=max_evals, search_space=search_space_xgb, data_name=data_name, model_name = 'XGBClassifier', features_names=columns_to_keep)"
   ]
  },
  {
   "cell_type": "markdown",
   "id": "43efa6b6",
   "metadata": {},
   "source": [
    "## Real + SUMO (100%)"
   ]
  },
  {
   "cell_type": "markdown",
   "id": "3fdf5ec6",
   "metadata": {},
   "source": [
    "### Fixed"
   ]
  },
  {
   "cell_type": "code",
   "execution_count": 176,
   "id": "6325f0fc",
   "metadata": {},
   "outputs": [],
   "source": [
    "# Provide an Experiment description that will appear in the UI\n",
    "experiment_description = (\n",
    "    \"Experiment to train models on the UAH + SUMO Fixed (100%) dataset.\"\n",
    ")\n",
    "\n",
    "# Provide searchable tags that define characteristics of the Runs that\n",
    "# will be in this Experiment\n",
    "experiment_tags = {\n",
    "    \"project_name\": \"driver-behavior-prediction\",\n",
    "    \"mlflow.note.content\": experiment_description,\n",
    "}\n",
    "\n",
    "# Create the Experiment, providing a unique name\n",
    "try:\n",
    "    driver_behavior_experiment = client.create_experiment(\n",
    "        name=\"UAH_SUMO_Fixed_100\", tags=experiment_tags\n",
    "    )\n",
    "except mlflow.exceptions.RestException as e:\n",
    "    print(f\"Experiment already exists: {e}\")"
   ]
  },
  {
   "cell_type": "code",
   "execution_count": 177,
   "id": "a05508a9",
   "metadata": {},
   "outputs": [],
   "source": [
    "X_train, y_train = X_sumo_uah_fixed_100, y_sumo_uah_fixed_100\n",
    "\n",
    "scaler = StandardScaler()\n",
    "X_train = scaler.fit_transform(X_train)\n",
    "X_val = scaler.transform(X_val_base)\n",
    "y_train = preprocessor.one_hot_encode(y_train, one_hot_keys=one_hot_keys)\n",
    "\n",
    "signature = infer_signature(X_train, y_train)\n",
    "mlflow.set_experiment('UAH_SUMO_Fixed_100')\n",
    "data_name = 'UAH_SUMO_Fixed_100'"
   ]
  },
  {
   "cell_type": "code",
   "execution_count": 178,
   "id": "367b4e3a",
   "metadata": {},
   "outputs": [
    {
     "name": "stdout",
     "output_type": "stream",
     "text": [
      "This will run 5 trials to find optimal hyperparameters...\n",
      "Params: {'max_depth': 20, 'n_estimators': 200}       \n",
      "🏃 View run RandomForestClassifier_{'max_depth': 20, 'n_estimators': 200} at: http://127.0.0.1:8080/#/experiments/727116162143983866/runs/82c5e44da8f242f382c157cfd1b1d059\n",
      "\n",
      "🧪 View experiment at: http://127.0.0.1:8080/#/experiments/727116162143983866\n",
      "\n",
      "Params: {'max_depth': 10, 'n_estimators': 20}                                  \n",
      "🏃 View run RandomForestClassifier_{'max_depth': 10, 'n_estimators': 20} at: http://127.0.0.1:8080/#/experiments/727116162143983866/runs/a00795847d194288ba08828cd02b8ea4\n",
      "\n",
      "🧪 View experiment at: http://127.0.0.1:8080/#/experiments/727116162143983866  \n",
      "\n",
      "Params: {'max_depth': 20, 'n_estimators': 50}                                   \n",
      "🏃 View run RandomForestClassifier_{'max_depth': 20, 'n_estimators': 50} at: http://127.0.0.1:8080/#/experiments/727116162143983866/runs/54c165eb24cc403d9c8dbb843fbbd80d\n",
      "\n",
      "🧪 View experiment at: http://127.0.0.1:8080/#/experiments/727116162143983866   \n",
      "\n",
      "Params: {'max_depth': 50, 'n_estimators': 50}                                   \n",
      "🏃 View run RandomForestClassifier_{'max_depth': 50, 'n_estimators': 50} at: http://127.0.0.1:8080/#/experiments/727116162143983866/runs/99525571be684493bbe8ad2d1fef4a55\n",
      "\n",
      "🧪 View experiment at: http://127.0.0.1:8080/#/experiments/727116162143983866   \n",
      "\n",
      "Params: {'max_depth': 20, 'n_estimators': 100}                                  \n",
      "🏃 View run RandomForestClassifier_{'max_depth': 20, 'n_estimators': 100} at: http://127.0.0.1:8080/#/experiments/727116162143983866/runs/108e9da8561845b1bdc32ff885b3b3ad\n",
      "\n",
      "🧪 View experiment at: http://127.0.0.1:8080/#/experiments/727116162143983866   \n",
      "\n",
      "100%|██████████| 5/5 [00:40<00:00,  8.10s/trial, best loss: -0.7276813334043791]\n",
      "🏃 View run rf-sweep at: http://127.0.0.1:8080/#/experiments/727116162143983866/runs/d935efca88794ff0ab852939b259cad2\n",
      "🧪 View experiment at: http://127.0.0.1:8080/#/experiments/727116162143983866\n",
      "This will run 5 trials to find optimal hyperparameters...\n",
      "Params: {'C': 0.5, 'gamma': 1, 'kernel': 'rbf'}      \n",
      "🏃 View run SVC_{'C': 0.5, 'gamma': 1, 'kernel': 'rbf'} at: http://127.0.0.1:8080/#/experiments/727116162143983866/runs/29c8ae939bb243dea047e6ce41012434\n",
      "\n",
      "🧪 View experiment at: http://127.0.0.1:8080/#/experiments/727116162143983866\n",
      "\n",
      "Params: {'C': 0.5, 'gamma': 0.01, 'kernel': 'rbf'}                              \n",
      "🏃 View run SVC_{'C': 0.5, 'gamma': 0.01, 'kernel': 'rbf'} at: http://127.0.0.1:8080/#/experiments/727116162143983866/runs/1a1bc44c5fbb4cf0becde05b77ca62be\n",
      "\n",
      "🧪 View experiment at: http://127.0.0.1:8080/#/experiments/727116162143983866   \n",
      "\n",
      "Params: {'C': 0.5, 'gamma': 0.1, 'kernel': 'rbf'}                               \n",
      "🏃 View run SVC_{'C': 0.5, 'gamma': 0.1, 'kernel': 'rbf'} at: http://127.0.0.1:8080/#/experiments/727116162143983866/runs/808932fcf64240ffa2867c1a6e316f30\n",
      "\n",
      "🧪 View experiment at: http://127.0.0.1:8080/#/experiments/727116162143983866   \n",
      "\n",
      "Params: {'C': 1, 'gamma': 0.1, 'kernel': 'rbf'}                                 \n",
      "🏃 View run SVC_{'C': 1, 'gamma': 0.1, 'kernel': 'rbf'} at: http://127.0.0.1:8080/#/experiments/727116162143983866/runs/cd90dcd718b546ec9d0941891818ab0b\n",
      "\n",
      "🧪 View experiment at: http://127.0.0.1:8080/#/experiments/727116162143983866   \n",
      "\n",
      "Params: {'C': 0.05, 'gamma': 0.001, 'kernel': 'rbf'}                            \n",
      "🏃 View run SVC_{'C': 0.05, 'gamma': 0.001, 'kernel': 'rbf'} at: http://127.0.0.1:8080/#/experiments/727116162143983866/runs/e21286237a73418997e822b1898c9104\n",
      "\n",
      "🧪 View experiment at: http://127.0.0.1:8080/#/experiments/727116162143983866   \n",
      "\n",
      "100%|██████████| 5/5 [01:40<00:00, 20.10s/trial, best loss: -0.7288080103288332]\n",
      "🏃 View run svc-sweep at: http://127.0.0.1:8080/#/experiments/727116162143983866/runs/f56ef54df5c941e7aaed702af72edbe2\n",
      "🧪 View experiment at: http://127.0.0.1:8080/#/experiments/727116162143983866\n",
      "This will run 5 trials to find optimal hyperparameters...\n",
      "Params: {'C': 0.001}                                 \n",
      "🏃 View run LinearSVC_{'C': 0.001} at: http://127.0.0.1:8080/#/experiments/727116162143983866/runs/f37c584f5a8f419688600c4626bb01ee\n",
      "\n",
      "🧪 View experiment at: http://127.0.0.1:8080/#/experiments/727116162143983866\n",
      "\n",
      "Params: {'C': 0.01}                                                             \n",
      "🏃 View run LinearSVC_{'C': 0.01} at: http://127.0.0.1:8080/#/experiments/727116162143983866/runs/2cf61f4ee5ce430fbe560d5351ce9d8b\n",
      "\n",
      "🧪 View experiment at: http://127.0.0.1:8080/#/experiments/727116162143983866   \n",
      "\n",
      "Params: {'C': 0.01}                                                             \n",
      "🏃 View run LinearSVC_{'C': 0.01} at: http://127.0.0.1:8080/#/experiments/727116162143983866/runs/6f97192ff51b4412a9a7e5bd97d56e05\n",
      "\n",
      "🧪 View experiment at: http://127.0.0.1:8080/#/experiments/727116162143983866   \n",
      "\n",
      "Params: {'C': 1}                                                                \n",
      "🏃 View run LinearSVC_{'C': 1} at: http://127.0.0.1:8080/#/experiments/727116162143983866/runs/46100607c0814eb2a9aa7ea77a040798\n",
      "\n",
      "🧪 View experiment at: http://127.0.0.1:8080/#/experiments/727116162143983866   \n",
      "\n",
      "Params: {'C': 0.01}                                                             \n",
      "🏃 View run LinearSVC_{'C': 0.01} at: http://127.0.0.1:8080/#/experiments/727116162143983866/runs/66cdde12301e4cebb74b8f4007133fad\n",
      "\n",
      "🧪 View experiment at: http://127.0.0.1:8080/#/experiments/727116162143983866   \n",
      "\n",
      "100%|██████████| 5/5 [00:07<00:00,  1.47s/trial, best loss: -0.6603476749358289]\n",
      "🏃 View run svc-linear-sweep at: http://127.0.0.1:8080/#/experiments/727116162143983866/runs/a639ae68bfb1488dba753cfbf0201cd6\n",
      "🧪 View experiment at: http://127.0.0.1:8080/#/experiments/727116162143983866\n",
      "This will run 5 trials to find optimal hyperparameters...\n",
      "Params: {'colsample_bytree': 0.5, 'learning_rate': 0.1, 'max_depth': 5, 'n_estimators': 700, 'subsample': 1.0}\n",
      "🏃 View run XGBClassifier_{'colsample_bytree': 0.5, 'learning_rate': 0.1, 'max_depth': 5, 'n_estimators': 700, 'subsample': 1.0} at: http://127.0.0.1:8080/#/experiments/727116162143983866/runs/ab8aee32517d48bba4f6c84c9137499c\n",
      "\n",
      "🧪 View experiment at: http://127.0.0.1:8080/#/experiments/727116162143983866\n",
      "\n",
      "Params: {'colsample_bytree': 0.5, 'learning_rate': 0.001, 'max_depth': 5, 'n_estimators': 500, 'subsample': 0.5}\n",
      "🏃 View run XGBClassifier_{'colsample_bytree': 0.5, 'learning_rate': 0.001, 'max_depth': 5, 'n_estimators': 500, 'subsample': 0.5} at: http://127.0.0.1:8080/#/experiments/727116162143983866/runs/76b8dd0f14194e459fdb1384edf11b27\n",
      "\n",
      "🧪 View experiment at: http://127.0.0.1:8080/#/experiments/727116162143983866  \n",
      "\n",
      "Params: {'colsample_bytree': 0.7, 'learning_rate': 0.2, 'max_depth': 10, 'n_estimators': 500, 'subsample': 1.0}\n",
      "🏃 View run XGBClassifier_{'colsample_bytree': 0.7, 'learning_rate': 0.2, 'max_depth': 10, 'n_estimators': 500, 'subsample': 1.0} at: http://127.0.0.1:8080/#/experiments/727116162143983866/runs/edcbd55c6ef6440aaf9fc14f8b880ba3\n",
      "\n",
      "🧪 View experiment at: http://127.0.0.1:8080/#/experiments/727116162143983866  \n",
      "\n",
      "Params: {'colsample_bytree': 0.5, 'learning_rate': 0.01, 'max_depth': 5, 'n_estimators': 200, 'subsample': 1.0}\n",
      "🏃 View run XGBClassifier_{'colsample_bytree': 0.5, 'learning_rate': 0.01, 'max_depth': 5, 'n_estimators': 200, 'subsample': 1.0} at: http://127.0.0.1:8080/#/experiments/727116162143983866/runs/743fe842c07648a5a9e17f8e4d9e0b16\n",
      "\n",
      "🧪 View experiment at: http://127.0.0.1:8080/#/experiments/727116162143983866  \n",
      "\n",
      "Params: {'colsample_bytree': 1.0, 'learning_rate': 0.01, 'max_depth': 10, 'n_estimators': 500, 'subsample': 0.5}\n",
      "🏃 View run XGBClassifier_{'colsample_bytree': 1.0, 'learning_rate': 0.01, 'max_depth': 10, 'n_estimators': 500, 'subsample': 0.5} at: http://127.0.0.1:8080/#/experiments/727116162143983866/runs/64f07e448dc640cd859dd8025d1e1e0c\n",
      "\n",
      "🧪 View experiment at: http://127.0.0.1:8080/#/experiments/727116162143983866  \n",
      "\n",
      "100%|██████████| 5/5 [00:18<00:00,  3.76s/trial, best loss: -0.7328894680452058]\n",
      "🏃 View run xgb-sweep at: http://127.0.0.1:8080/#/experiments/727116162143983866/runs/c4f5fe8be93840b780c9b0dbd359fcac\n",
      "🧪 View experiment at: http://127.0.0.1:8080/#/experiments/727116162143983866\n"
     ]
    },
    {
     "data": {
      "text/plain": [
       "0.7328894680452058"
      ]
     },
     "execution_count": 178,
     "metadata": {},
     "output_type": "execute_result"
    }
   ],
   "source": [
    "model = RandomForestClassifier\n",
    "run_experiments('rf-sweep', max_evals=max_evals, search_space=search_space_rf, data_name=data_name, model_name = 'RandomForestClassifier', features_names=columns_to_keep)\n",
    "model = SVC\n",
    "run_experiments('svc-sweep', max_evals=max_evals, search_space=search_space_svc, data_name=data_name, model_name = 'SVC', features_names=columns_to_keep)\n",
    "model = LinearSVC\n",
    "run_experiments('svc-linear-sweep', max_evals=max_evals, search_space=search_space_svc_linear, data_name=data_name, model_name = 'LinearSVC', features_names=columns_to_keep)\n",
    "model = xgb.XGBClassifier\n",
    "run_experiments('xgb-sweep', max_evals=max_evals, search_space=search_space_xgb, data_name=data_name, model_name = 'XGBClassifier', features_names=columns_to_keep)"
   ]
  },
  {
   "cell_type": "markdown",
   "id": "bc17bfad",
   "metadata": {},
   "source": [
    "### LLM"
   ]
  },
  {
   "cell_type": "code",
   "execution_count": 179,
   "id": "1fc405fe",
   "metadata": {},
   "outputs": [],
   "source": [
    "# Provide an Experiment description that will appear in the UI\n",
    "experiment_description = (\n",
    "    \"Experiment to train models on the UAH + SUMO LLM (100%) dataset.\"\n",
    ")\n",
    "\n",
    "# Provide searchable tags that define characteristics of the Runs that\n",
    "# will be in this Experiment\n",
    "experiment_tags = {\n",
    "    \"project_name\": \"driver-behavior-prediction\",\n",
    "    \"mlflow.note.content\": experiment_description,\n",
    "}\n",
    "\n",
    "# Create the Experiment, providing a unique name\n",
    "try:\n",
    "    driver_behavior_experiment = client.create_experiment(\n",
    "        name=\"UAH_SUMO_LLM_100\", tags=experiment_tags\n",
    "    )\n",
    "except mlflow.exceptions.RestException as e:\n",
    "    print(f\"Experiment already exists: {e}\")"
   ]
  },
  {
   "cell_type": "code",
   "execution_count": 180,
   "id": "cb449402",
   "metadata": {},
   "outputs": [],
   "source": [
    "X_train, y_train = X_sumo_uah_llm_100, y_sumo_uah_llm_100\n",
    "\n",
    "scaler = StandardScaler()\n",
    "X_train = scaler.fit_transform(X_train)\n",
    "X_val = scaler.transform(X_val_base)\n",
    "y_train = preprocessor.one_hot_encode(y_train, one_hot_keys=one_hot_keys)\n",
    "\n",
    "signature = infer_signature(X_train, y_train)\n",
    "mlflow.set_experiment('UAH_SUMO_LLM_100')\n",
    "data_name = 'UAH_SUMO_LLM_100'"
   ]
  },
  {
   "cell_type": "code",
   "execution_count": 181,
   "id": "5669c88d",
   "metadata": {},
   "outputs": [
    {
     "name": "stdout",
     "output_type": "stream",
     "text": [
      "This will run 5 trials to find optimal hyperparameters...\n",
      "Params: {'max_depth': None, 'n_estimators': 20}      \n",
      "🏃 View run RandomForestClassifier_{'max_depth': None, 'n_estimators': 20} at: http://127.0.0.1:8080/#/experiments/730010159651501045/runs/8bb18573eb454a7697e0c266a397c748\n",
      "\n",
      "🧪 View experiment at: http://127.0.0.1:8080/#/experiments/730010159651501045\n",
      "\n",
      "Params: {'max_depth': 50, 'n_estimators': 200}                                  \n",
      "🏃 View run RandomForestClassifier_{'max_depth': 50, 'n_estimators': 200} at: http://127.0.0.1:8080/#/experiments/730010159651501045/runs/d9c345fc36d841d18fe28621a3820a87\n",
      "\n",
      "🧪 View experiment at: http://127.0.0.1:8080/#/experiments/730010159651501045   \n",
      "\n",
      "Params: {'max_depth': 20, 'n_estimators': 20}                                   \n",
      "🏃 View run RandomForestClassifier_{'max_depth': 20, 'n_estimators': 20} at: http://127.0.0.1:8080/#/experiments/730010159651501045/runs/a4d5aed64d2c4dc3af7944dd3a7773d9\n",
      "\n",
      "🧪 View experiment at: http://127.0.0.1:8080/#/experiments/730010159651501045   \n",
      "\n",
      "Params: {'max_depth': 5, 'n_estimators': 20}                                    \n",
      "🏃 View run RandomForestClassifier_{'max_depth': 5, 'n_estimators': 20} at: http://127.0.0.1:8080/#/experiments/730010159651501045/runs/aa42c767fd55472690d0d55d5ced761c\n",
      "\n",
      "🧪 View experiment at: http://127.0.0.1:8080/#/experiments/730010159651501045   \n",
      "\n",
      "Params: {'max_depth': 10, 'n_estimators': 100}                                  \n",
      "🏃 View run RandomForestClassifier_{'max_depth': 10, 'n_estimators': 100} at: http://127.0.0.1:8080/#/experiments/730010159651501045/runs/83074cb18e854705a42d7390c5e3192a\n",
      "\n",
      "🧪 View experiment at: http://127.0.0.1:8080/#/experiments/730010159651501045   \n",
      "\n",
      "100%|██████████| 5/5 [00:32<00:00,  6.58s/trial, best loss: -0.7303326533013934]\n",
      "🏃 View run rf-sweep at: http://127.0.0.1:8080/#/experiments/730010159651501045/runs/9bfa6da210f84824aa7b61e73a210f90\n",
      "🧪 View experiment at: http://127.0.0.1:8080/#/experiments/730010159651501045\n",
      "This will run 5 trials to find optimal hyperparameters...\n",
      "Params: {'C': 1, 'gamma': 1, 'kernel': 'rbf'}        \n",
      "🏃 View run SVC_{'C': 1, 'gamma': 1, 'kernel': 'rbf'} at: http://127.0.0.1:8080/#/experiments/730010159651501045/runs/cc1e88b522a14597ab4b9739b4b5b754\n",
      "\n",
      "🧪 View experiment at: http://127.0.0.1:8080/#/experiments/730010159651501045\n",
      "\n",
      "Params: {'C': 0.5, 'gamma': 10, 'kernel': 'rbf'}                                \n",
      " 20%|██        | 1/5 [00:44<02:57, 44.42s/trial, best loss: -0.7237554234531884]"
     ]
    },
    {
     "name": "stderr",
     "output_type": "stream",
     "text": [
      "/home/renan/miniconda3/lib/python3.12/site-packages/sklearn/metrics/_classification.py:1565: UndefinedMetricWarning: Precision is ill-defined and being set to 0.0 in labels with no predicted samples. Use `zero_division` parameter to control this behavior.\n",
      "  _warn_prf(average, modifier, f\"{metric.capitalize()} is\", len(result))\n",
      "\n"
     ]
    },
    {
     "name": "stdout",
     "output_type": "stream",
     "text": [
      "🏃 View run SVC_{'C': 0.5, 'gamma': 10, 'kernel': 'rbf'} at: http://127.0.0.1:8080/#/experiments/730010159651501045/runs/9138323e1ddc4f2fb56e9600a6b32a4b\n",
      "\n",
      "🧪 View experiment at: http://127.0.0.1:8080/#/experiments/730010159651501045   \n",
      "\n",
      "Params: {'C': 0.5, 'gamma': 0.01, 'kernel': 'rbf'}                              \n",
      "🏃 View run SVC_{'C': 0.5, 'gamma': 0.01, 'kernel': 'rbf'} at: http://127.0.0.1:8080/#/experiments/730010159651501045/runs/8010dc9c200746ffb3edf05294bc82f6\n",
      "\n",
      "🧪 View experiment at: http://127.0.0.1:8080/#/experiments/730010159651501045   \n",
      "\n",
      "Params: {'C': 0.01, 'gamma': 10, 'kernel': 'rbf'}                               \n",
      " 60%|██████    | 3/5 [02:06<01:17, 38.57s/trial, best loss: -0.7237554234531884]"
     ]
    },
    {
     "name": "stderr",
     "output_type": "stream",
     "text": [
      "/home/renan/miniconda3/lib/python3.12/site-packages/sklearn/metrics/_classification.py:1565: UndefinedMetricWarning: Precision is ill-defined and being set to 0.0 in labels with no predicted samples. Use `zero_division` parameter to control this behavior.\n",
      "  _warn_prf(average, modifier, f\"{metric.capitalize()} is\", len(result))\n",
      "\n"
     ]
    },
    {
     "name": "stdout",
     "output_type": "stream",
     "text": [
      "🏃 View run SVC_{'C': 0.01, 'gamma': 10, 'kernel': 'rbf'} at: http://127.0.0.1:8080/#/experiments/730010159651501045/runs/b82de1416bc94d4dac34468e83a39845\n",
      "\n",
      "🧪 View experiment at: http://127.0.0.1:8080/#/experiments/730010159651501045   \n",
      "\n",
      "Params: {'C': 0.5, 'gamma': 0.1, 'kernel': 'rbf'}                               \n",
      "🏃 View run SVC_{'C': 0.5, 'gamma': 0.1, 'kernel': 'rbf'} at: http://127.0.0.1:8080/#/experiments/730010159651501045/runs/f01e981954da4e4d956c159c875c431f\n",
      "\n",
      "🧪 View experiment at: http://127.0.0.1:8080/#/experiments/730010159651501045   \n",
      "\n",
      "100%|██████████| 5/5 [03:11<00:00, 38.26s/trial, best loss: -0.7239699809614671]\n",
      "🏃 View run svc-sweep at: http://127.0.0.1:8080/#/experiments/730010159651501045/runs/6c870e21cc334689819118ed4d9a9607\n",
      "🧪 View experiment at: http://127.0.0.1:8080/#/experiments/730010159651501045\n",
      "This will run 5 trials to find optimal hyperparameters...\n",
      "Params: {'C': 0.0001}                                \n",
      "🏃 View run LinearSVC_{'C': 0.0001} at: http://127.0.0.1:8080/#/experiments/730010159651501045/runs/bf8e6ad2238a4a59abbbdb83d910a4d0\n",
      "\n",
      "🧪 View experiment at: http://127.0.0.1:8080/#/experiments/730010159651501045\n",
      "\n",
      "Params: {'C': 1}                                                                \n",
      "🏃 View run LinearSVC_{'C': 1} at: http://127.0.0.1:8080/#/experiments/730010159651501045/runs/cfdcd2f5b86e43f1a0ec24b1a6a68dcc\n",
      "\n",
      "🧪 View experiment at: http://127.0.0.1:8080/#/experiments/730010159651501045   \n",
      "\n",
      "Params: {'C': 0.0001}                                                           \n",
      "🏃 View run LinearSVC_{'C': 0.0001} at: http://127.0.0.1:8080/#/experiments/730010159651501045/runs/88c093bd252e47f487e28218a78ae678\n",
      "\n",
      "🧪 View experiment at: http://127.0.0.1:8080/#/experiments/730010159651501045   \n",
      "\n",
      "Params: {'C': 0.01}                                                             \n",
      "🏃 View run LinearSVC_{'C': 0.01} at: http://127.0.0.1:8080/#/experiments/730010159651501045/runs/4dde02a6ea0e4b6ca213dac528447f2a\n",
      "\n",
      "🧪 View experiment at: http://127.0.0.1:8080/#/experiments/730010159651501045   \n",
      "\n",
      "Params: {'C': 0.01}                                                             \n",
      "🏃 View run LinearSVC_{'C': 0.01} at: http://127.0.0.1:8080/#/experiments/730010159651501045/runs/b2896d4901d14eedbeba422d0bc9489f\n",
      "\n",
      "🧪 View experiment at: http://127.0.0.1:8080/#/experiments/730010159651501045   \n",
      "\n",
      "100%|██████████| 5/5 [00:07<00:00,  1.44s/trial, best loss: -0.6725675293141663]\n",
      "🏃 View run svc-linear-sweep at: http://127.0.0.1:8080/#/experiments/730010159651501045/runs/27ba6b5b353949b5ac6e7dfa418dda83\n",
      "🧪 View experiment at: http://127.0.0.1:8080/#/experiments/730010159651501045\n",
      "This will run 5 trials to find optimal hyperparameters...\n",
      "Params: {'colsample_bytree': 0.5, 'learning_rate': 0.3, 'max_depth': None, 'n_estimators': 1000, 'subsample': 0.5}\n",
      "🏃 View run XGBClassifier_{'colsample_bytree': 0.5, 'learning_rate': 0.3, 'max_depth': None, 'n_estimators': 1000, 'subsample': 0.5} at: http://127.0.0.1:8080/#/experiments/730010159651501045/runs/eccb1c3ef9804ef69af34f098ef32349\n",
      "\n",
      "🧪 View experiment at: http://127.0.0.1:8080/#/experiments/730010159651501045\n",
      "\n",
      "Params: {'colsample_bytree': 0.5, 'learning_rate': 0.01, 'max_depth': 10, 'n_estimators': 500, 'subsample': 1.0}\n",
      "🏃 View run XGBClassifier_{'colsample_bytree': 0.5, 'learning_rate': 0.01, 'max_depth': 10, 'n_estimators': 500, 'subsample': 1.0} at: http://127.0.0.1:8080/#/experiments/730010159651501045/runs/e0aa48ac501e4638bc925dbefe701aa3\n",
      "\n",
      "🧪 View experiment at: http://127.0.0.1:8080/#/experiments/730010159651501045   \n",
      "\n",
      "Params: {'colsample_bytree': 1.0, 'learning_rate': 0.001, 'max_depth': None, 'n_estimators': 1000, 'subsample': 0.5}\n",
      "🏃 View run XGBClassifier_{'colsample_bytree': 1.0, 'learning_rate': 0.001, 'max_depth': None, 'n_estimators': 1000, 'subsample': 0.5} at: http://127.0.0.1:8080/#/experiments/730010159651501045/runs/6f09c20d34c64ac2a7dd2069648ff791\n",
      "\n",
      "🧪 View experiment at: http://127.0.0.1:8080/#/experiments/730010159651501045   \n",
      "\n",
      "Params: {'colsample_bytree': 1.0, 'learning_rate': 0.001, 'max_depth': 10, 'n_estimators': 1000, 'subsample': 0.5}\n",
      "🏃 View run XGBClassifier_{'colsample_bytree': 1.0, 'learning_rate': 0.001, 'max_depth': 10, 'n_estimators': 1000, 'subsample': 0.5} at: http://127.0.0.1:8080/#/experiments/730010159651501045/runs/8f07087bfcc340b3b38e374d9b8ce2e4\n",
      "\n",
      "🧪 View experiment at: http://127.0.0.1:8080/#/experiments/730010159651501045   \n",
      "\n",
      "Params: {'colsample_bytree': 1.0, 'learning_rate': 0.1, 'max_depth': None, 'n_estimators': 200, 'subsample': 1.0}\n",
      "🏃 View run XGBClassifier_{'colsample_bytree': 1.0, 'learning_rate': 0.1, 'max_depth': None, 'n_estimators': 200, 'subsample': 1.0} at: http://127.0.0.1:8080/#/experiments/730010159651501045/runs/00394337eeca4ca096f380a763f6a337\n",
      "\n",
      "🧪 View experiment at: http://127.0.0.1:8080/#/experiments/730010159651501045   \n",
      "\n",
      "100%|██████████| 5/5 [00:32<00:00,  6.50s/trial, best loss: -0.7322852294845013]\n",
      "🏃 View run xgb-sweep at: http://127.0.0.1:8080/#/experiments/730010159651501045/runs/b3ad788cd1804414810ff53e1f9cb33a\n",
      "🧪 View experiment at: http://127.0.0.1:8080/#/experiments/730010159651501045\n"
     ]
    },
    {
     "data": {
      "text/plain": [
       "0.7322852294845013"
      ]
     },
     "execution_count": 181,
     "metadata": {},
     "output_type": "execute_result"
    }
   ],
   "source": [
    "model = RandomForestClassifier\n",
    "run_experiments('rf-sweep', max_evals=max_evals, search_space=search_space_rf, data_name=data_name, model_name = 'RandomForestClassifier', features_names=columns_to_keep)\n",
    "model = SVC\n",
    "run_experiments('svc-sweep', max_evals=max_evals, search_space=search_space_svc, data_name=data_name, model_name = 'SVC', features_names=columns_to_keep)\n",
    "model = LinearSVC\n",
    "run_experiments('svc-linear-sweep', max_evals=max_evals, search_space=search_space_svc_linear, data_name=data_name, model_name = 'LinearSVC', features_names=columns_to_keep)\n",
    "model = xgb.XGBClassifier\n",
    "run_experiments('xgb-sweep', max_evals=max_evals, search_space=search_space_xgb, data_name=data_name, model_name = 'XGBClassifier', features_names=columns_to_keep)"
   ]
  },
  {
   "cell_type": "markdown",
   "id": "e10c56a9",
   "metadata": {},
   "source": [
    "## Real + CARLA"
   ]
  },
  {
   "cell_type": "code",
   "execution_count": 182,
   "id": "ac4217a2",
   "metadata": {},
   "outputs": [],
   "source": [
    "carla_uah_fixed_20 = preprocessor.fill_synthetic_data(carla_uah_fixed, 0.2)\n",
    "carla_uah_llm_20 = preprocessor.fill_synthetic_data(carla_uah_llm, 0.2)\n",
    "\n",
    "carla_uah_fixed_60 = preprocessor.fill_synthetic_data(carla_uah_fixed, 0.6)\n",
    "carla_uah_llm_60 = preprocessor.fill_synthetic_data(carla_uah_llm, 0.6)\n",
    "\n",
    "carla_uah_fixed_100 = preprocessor.fill_synthetic_data(carla_uah_fixed, 1)\n",
    "carla_uah_llm_100 = preprocessor.fill_synthetic_data(carla_uah_llm, 1)\n"
   ]
  },
  {
   "cell_type": "code",
   "execution_count": 183,
   "id": "891ede42",
   "metadata": {},
   "outputs": [],
   "source": [
    "X_carla_uah_fixed_20, y_carla_uah_fixed_20 = preprocessor.sliding_windows(carla_uah_fixed_20, window_size=window_size, step_size=step_size)\n",
    "X_carla_uah_llm_20, y_carla_uah_llm_20 = preprocessor.sliding_windows(carla_uah_llm_20, window_size=window_size, step_size=step_size)\n",
    "\n",
    "X_carla_uah_fixed_60, y_carla_uah_fixed_60 = preprocessor.sliding_windows(carla_uah_fixed_60, window_size=window_size, step_size=step_size)\n",
    "X_carla_uah_llm_60, y_carla_uah_llm_60 = preprocessor.sliding_windows(carla_uah_llm_60, window_size=window_size, step_size=step_size)\n",
    "\n",
    "X_carla_uah_fixed_100, y_carla_uah_fixed_100 = preprocessor.sliding_windows(carla_uah_fixed_100, window_size=window_size, step_size=step_size)\n",
    "X_carla_uah_llm_100, y_carla_uah_llm_100 = preprocessor.sliding_windows(carla_uah_llm_100, window_size=window_size, step_size=step_size)"
   ]
  },
  {
   "cell_type": "code",
   "execution_count": 184,
   "id": "5adc1ae1",
   "metadata": {},
   "outputs": [
    {
     "name": "stdout",
     "output_type": "stream",
     "text": [
      "Columns to keep for validation: ['acc_x', 'acc_y', 'acc_z', 'gyro_x', 'gyro_y', 'gyro_z', 'angle', 'label', 'acc']\n"
     ]
    }
   ],
   "source": [
    "print(\"Columns to keep for validation:\", carla_columns_to_keep)\n",
    "\n",
    "X_val_base, y_val = preprocessor.sliding_windows(uah_validation[carla_columns_to_keep], window_size=window_size, step_size=step_size)\n",
    "y_val = preprocessor.one_hot_encode(y_val, one_hot_keys=one_hot_keys)"
   ]
  },
  {
   "cell_type": "markdown",
   "id": "a6dbf3c9",
   "metadata": {},
   "source": [
    "## Real + CARLA (20%)"
   ]
  },
  {
   "cell_type": "markdown",
   "id": "185dd9cd",
   "metadata": {},
   "source": [
    "### Fixed"
   ]
  },
  {
   "cell_type": "code",
   "execution_count": 185,
   "id": "9632d59f",
   "metadata": {},
   "outputs": [],
   "source": [
    "# Provide an Experiment description that will appear in the UI\n",
    "experiment_description = (\n",
    "    \"Experiment to train models on the UAH + CARLA Fixed (20%) dataset.\"\n",
    ")\n",
    "\n",
    "# Provide searchable tags that define characteristics of the Runs that\n",
    "# will be in this Experiment\n",
    "experiment_tags = {\n",
    "    \"project_name\": \"driver-behavior-prediction\",\n",
    "    \"mlflow.note.content\": experiment_description,\n",
    "}\n",
    "\n",
    "# Create the Experiment, providing a unique name\n",
    "try:\n",
    "    driver_behavior_experiment = client.create_experiment(\n",
    "        name=\"UAH_CARLA_Fixed_20\", tags=experiment_tags\n",
    "    )\n",
    "except mlflow.exceptions.RestException as e:\n",
    "    print(f\"Experiment already exists: {e}\")"
   ]
  },
  {
   "cell_type": "code",
   "execution_count": 186,
   "id": "636373b3",
   "metadata": {},
   "outputs": [],
   "source": [
    "X_train, y_train = X_carla_uah_fixed_20, y_carla_uah_fixed_20\n",
    "\n",
    "scaler = StandardScaler()\n",
    "X_train = scaler.fit_transform(X_train)\n",
    "X_val = scaler.transform(X_val_base)\n",
    "y_train = preprocessor.one_hot_encode(y_train, one_hot_keys=one_hot_keys)\n",
    "\n",
    "signature = infer_signature(X_train, y_train)\n",
    "mlflow.set_experiment('UAH_CARLA_Fixed_20')\n",
    "data_name = 'UAH_CARLA_Fixed_20'"
   ]
  },
  {
   "cell_type": "code",
   "execution_count": 187,
   "id": "5181988e",
   "metadata": {},
   "outputs": [
    {
     "name": "stdout",
     "output_type": "stream",
     "text": [
      "This will run 5 trials to find optimal hyperparameters...\n",
      "Params: {'max_depth': 20, 'n_estimators': 200}       \n",
      "🏃 View run RandomForestClassifier_{'max_depth': 20, 'n_estimators': 200} at: http://127.0.0.1:8080/#/experiments/979556896000275190/runs/1acabe36909540afb795abb614734b69\n",
      "\n",
      "🧪 View experiment at: http://127.0.0.1:8080/#/experiments/979556896000275190\n",
      "\n",
      "Params: {'max_depth': 20, 'n_estimators': 200}                                  \n",
      "🏃 View run RandomForestClassifier_{'max_depth': 20, 'n_estimators': 200} at: http://127.0.0.1:8080/#/experiments/979556896000275190/runs/808e3be3c57a4c8695da0e7535639c23\n",
      "\n",
      "🧪 View experiment at: http://127.0.0.1:8080/#/experiments/979556896000275190   \n",
      "\n",
      "Params: {'max_depth': 20, 'n_estimators': 100}                                  \n",
      "🏃 View run RandomForestClassifier_{'max_depth': 20, 'n_estimators': 100} at: http://127.0.0.1:8080/#/experiments/979556896000275190/runs/8034d0ee07c84722b8120db3f9302922\n",
      "\n",
      "🧪 View experiment at: http://127.0.0.1:8080/#/experiments/979556896000275190   \n",
      "\n",
      "Params: {'max_depth': 50, 'n_estimators': 500}                                  \n",
      "🏃 View run RandomForestClassifier_{'max_depth': 50, 'n_estimators': 500} at: http://127.0.0.1:8080/#/experiments/979556896000275190/runs/52fa58a9f61e41ceb951b4c73a1703b6\n",
      "\n",
      "🧪 View experiment at: http://127.0.0.1:8080/#/experiments/979556896000275190   \n",
      "\n",
      "Params: {'max_depth': 50, 'n_estimators': 100}                                  \n",
      "🏃 View run RandomForestClassifier_{'max_depth': 50, 'n_estimators': 100} at: http://127.0.0.1:8080/#/experiments/979556896000275190/runs/ec86b219a5c34bbf8b4699223e6ca34a\n",
      "\n",
      "🧪 View experiment at: http://127.0.0.1:8080/#/experiments/979556896000275190   \n",
      "\n",
      "100%|██████████| 5/5 [02:24<00:00, 28.91s/trial, best loss: -0.6485529354418126]\n",
      "🏃 View run rf-sweep at: http://127.0.0.1:8080/#/experiments/979556896000275190/runs/2f62a9e3afe34d5bab740011a5dca930\n",
      "🧪 View experiment at: http://127.0.0.1:8080/#/experiments/979556896000275190\n",
      "This will run 5 trials to find optimal hyperparameters...\n",
      "Params: {'C': 1, 'gamma': 0.001, 'kernel': 'rbf'}    \n",
      "🏃 View run SVC_{'C': 1, 'gamma': 0.001, 'kernel': 'rbf'} at: http://127.0.0.1:8080/#/experiments/979556896000275190/runs/5db575bd86394036bce481e82e581c23\n",
      "\n",
      "🧪 View experiment at: http://127.0.0.1:8080/#/experiments/979556896000275190\n",
      "\n",
      "Params: {'C': 0.5, 'gamma': 1, 'kernel': 'rbf'}                                 \n",
      " 20%|██        | 1/5 [00:30<02:02, 30.56s/trial, best loss: -0.5200582843179186]"
     ]
    },
    {
     "name": "stderr",
     "output_type": "stream",
     "text": [
      "/home/renan/miniconda3/lib/python3.12/site-packages/sklearn/metrics/_classification.py:1565: UndefinedMetricWarning: Precision is ill-defined and being set to 0.0 in labels with no predicted samples. Use `zero_division` parameter to control this behavior.\n",
      "  _warn_prf(average, modifier, f\"{metric.capitalize()} is\", len(result))\n",
      "\n"
     ]
    },
    {
     "name": "stdout",
     "output_type": "stream",
     "text": [
      "🏃 View run SVC_{'C': 0.5, 'gamma': 1, 'kernel': 'rbf'} at: http://127.0.0.1:8080/#/experiments/979556896000275190/runs/36dd22fd704e49f69ca851fae9522eed\n",
      "\n",
      "🧪 View experiment at: http://127.0.0.1:8080/#/experiments/979556896000275190   \n",
      "\n",
      "Params: {'C': 0.5, 'gamma': 10, 'kernel': 'rbf'}                                \n",
      " 40%|████      | 2/5 [02:03<03:21, 67.03s/trial, best loss: -0.5200582843179186]"
     ]
    },
    {
     "name": "stderr",
     "output_type": "stream",
     "text": [
      "/home/renan/miniconda3/lib/python3.12/site-packages/sklearn/metrics/_classification.py:1565: UndefinedMetricWarning: Precision is ill-defined and being set to 0.0 in labels with no predicted samples. Use `zero_division` parameter to control this behavior.\n",
      "  _warn_prf(average, modifier, f\"{metric.capitalize()} is\", len(result))\n",
      "\n"
     ]
    },
    {
     "name": "stdout",
     "output_type": "stream",
     "text": [
      "🏃 View run SVC_{'C': 0.5, 'gamma': 10, 'kernel': 'rbf'} at: http://127.0.0.1:8080/#/experiments/979556896000275190/runs/059db6c158484994a7f846e5f5cd0731\n",
      "\n",
      "🧪 View experiment at: http://127.0.0.1:8080/#/experiments/979556896000275190   \n",
      "\n",
      "Params: {'C': 1, 'gamma': 1, 'kernel': 'rbf'}                                   \n",
      " 60%|██████    | 3/5 [03:55<02:55, 87.59s/trial, best loss: -0.5200582843179186]"
     ]
    },
    {
     "name": "stderr",
     "output_type": "stream",
     "text": [
      "/home/renan/miniconda3/lib/python3.12/site-packages/sklearn/metrics/_classification.py:1565: UndefinedMetricWarning: Precision is ill-defined and being set to 0.0 in labels with no predicted samples. Use `zero_division` parameter to control this behavior.\n",
      "  _warn_prf(average, modifier, f\"{metric.capitalize()} is\", len(result))\n",
      "\n"
     ]
    },
    {
     "name": "stdout",
     "output_type": "stream",
     "text": [
      "🏃 View run SVC_{'C': 1, 'gamma': 1, 'kernel': 'rbf'} at: http://127.0.0.1:8080/#/experiments/979556896000275190/runs/97a3bced8d1848e5861b0496ee310481\n",
      "\n",
      "🧪 View experiment at: http://127.0.0.1:8080/#/experiments/979556896000275190   \n",
      "\n",
      "Params: {'C': 0.1, 'gamma': 0.01, 'kernel': 'rbf'}                              \n",
      "🏃 View run SVC_{'C': 0.1, 'gamma': 0.01, 'kernel': 'rbf'} at: http://127.0.0.1:8080/#/experiments/979556896000275190/runs/b65a91d110694eb6b360442a468b7754\n",
      "\n",
      "🧪 View experiment at: http://127.0.0.1:8080/#/experiments/979556896000275190   \n",
      "\n",
      "100%|██████████| 5/5 [06:10<00:00, 74.07s/trial, best loss: -0.5384076886439152]\n",
      "🏃 View run svc-sweep at: http://127.0.0.1:8080/#/experiments/979556896000275190/runs/a92c99287e80473ebd1efbc319235cd9\n",
      "🧪 View experiment at: http://127.0.0.1:8080/#/experiments/979556896000275190\n",
      "This will run 5 trials to find optimal hyperparameters...\n",
      "Params: {'C': 0.0001}                                \n",
      "🏃 View run LinearSVC_{'C': 0.0001} at: http://127.0.0.1:8080/#/experiments/979556896000275190/runs/63bc2ec3ae2b4acea5d4b2f6a225d1df\n",
      "\n",
      "🧪 View experiment at: http://127.0.0.1:8080/#/experiments/979556896000275190\n",
      "\n",
      "Params: {'C': 0.01}                                                              \n",
      "🏃 View run LinearSVC_{'C': 0.01} at: http://127.0.0.1:8080/#/experiments/979556896000275190/runs/3700bab816db495eb7ffe0a1c28dbf53\n",
      "\n",
      "🧪 View experiment at: http://127.0.0.1:8080/#/experiments/979556896000275190    \n",
      "\n",
      "Params: {'C': 0.1}                                                               \n",
      "🏃 View run LinearSVC_{'C': 0.1} at: http://127.0.0.1:8080/#/experiments/979556896000275190/runs/24f4ca74ba324a20a5b8a3a6e5adb8dc\n",
      "\n",
      "🧪 View experiment at: http://127.0.0.1:8080/#/experiments/979556896000275190    \n",
      "\n",
      "Params: {'C': 0.001}                                                             \n",
      "🏃 View run LinearSVC_{'C': 0.001} at: http://127.0.0.1:8080/#/experiments/979556896000275190/runs/a1f19a8f3bdf48df8e3a1a02da2c98f5\n",
      "\n",
      "🧪 View experiment at: http://127.0.0.1:8080/#/experiments/979556896000275190    \n",
      "\n",
      "Params: {'C': 0.0001}                                                            \n",
      "🏃 View run LinearSVC_{'C': 0.0001} at: http://127.0.0.1:8080/#/experiments/979556896000275190/runs/a4cee9d12ccb44aa9427179ddd7b977b\n",
      "\n",
      "🧪 View experiment at: http://127.0.0.1:8080/#/experiments/979556896000275190    \n",
      "\n",
      "100%|██████████| 5/5 [00:09<00:00,  1.90s/trial, best loss: -0.49202324395568425]\n",
      "🏃 View run svc-linear-sweep at: http://127.0.0.1:8080/#/experiments/979556896000275190/runs/44ab229e1b104061aae8774bda1395f2\n",
      "🧪 View experiment at: http://127.0.0.1:8080/#/experiments/979556896000275190\n",
      "This will run 5 trials to find optimal hyperparameters...\n",
      "Params: {'colsample_bytree': 0.5, 'learning_rate': 0.01, 'max_depth': 10, 'n_estimators': 700, 'subsample': 1.0}\n",
      "🏃 View run XGBClassifier_{'colsample_bytree': 0.5, 'learning_rate': 0.01, 'max_depth': 10, 'n_estimators': 700, 'subsample': 1.0} at: http://127.0.0.1:8080/#/experiments/979556896000275190/runs/5ba95f90058d466ebabe0bdf9778a37f\n",
      "\n",
      "🧪 View experiment at: http://127.0.0.1:8080/#/experiments/979556896000275190\n",
      "\n",
      "Params: {'colsample_bytree': 0.7, 'learning_rate': 0.001, 'max_depth': 5, 'n_estimators': 1000, 'subsample': 0.5}\n",
      "🏃 View run XGBClassifier_{'colsample_bytree': 0.7, 'learning_rate': 0.001, 'max_depth': 5, 'n_estimators': 1000, 'subsample': 0.5} at: http://127.0.0.1:8080/#/experiments/979556896000275190/runs/3ca24f6b378444e8bd5362c323821fde\n",
      "\n",
      "🧪 View experiment at: http://127.0.0.1:8080/#/experiments/979556896000275190   \n",
      "\n",
      "Params: {'colsample_bytree': 0.7, 'learning_rate': 0.01, 'max_depth': None, 'n_estimators': 500, 'subsample': 0.5}\n",
      "🏃 View run XGBClassifier_{'colsample_bytree': 0.7, 'learning_rate': 0.01, 'max_depth': None, 'n_estimators': 500, 'subsample': 0.5} at: http://127.0.0.1:8080/#/experiments/979556896000275190/runs/6a895923bd9e4a09ac96dad1253ec0dd\n",
      "\n",
      "🧪 View experiment at: http://127.0.0.1:8080/#/experiments/979556896000275190   \n",
      "\n",
      "Params: {'colsample_bytree': 0.5, 'learning_rate': 0.1, 'max_depth': None, 'n_estimators': 200, 'subsample': 1.0}\n",
      "🏃 View run XGBClassifier_{'colsample_bytree': 0.5, 'learning_rate': 0.1, 'max_depth': None, 'n_estimators': 200, 'subsample': 1.0} at: http://127.0.0.1:8080/#/experiments/979556896000275190/runs/305c185487c541378f0d85e07752e2f1\n",
      "\n",
      "🧪 View experiment at: http://127.0.0.1:8080/#/experiments/979556896000275190   \n",
      "\n",
      "Params: {'colsample_bytree': 0.7, 'learning_rate': 0.001, 'max_depth': 10, 'n_estimators': 500, 'subsample': 1.0}\n",
      "🏃 View run XGBClassifier_{'colsample_bytree': 0.7, 'learning_rate': 0.001, 'max_depth': 10, 'n_estimators': 500, 'subsample': 1.0} at: http://127.0.0.1:8080/#/experiments/979556896000275190/runs/0b0d8dfd6d70405188bb281f8d3d47d9\n",
      "\n",
      "🧪 View experiment at: http://127.0.0.1:8080/#/experiments/979556896000275190   \n",
      "\n",
      "100%|██████████| 5/5 [00:37<00:00,  7.58s/trial, best loss: -0.6620195462356778]\n",
      "🏃 View run xgb-sweep at: http://127.0.0.1:8080/#/experiments/979556896000275190/runs/f23f3ffa6b1740e782b3b61da2781d90\n",
      "🧪 View experiment at: http://127.0.0.1:8080/#/experiments/979556896000275190\n"
     ]
    },
    {
     "data": {
      "text/plain": [
       "0.6620195462356778"
      ]
     },
     "execution_count": 187,
     "metadata": {},
     "output_type": "execute_result"
    }
   ],
   "source": [
    "model = RandomForestClassifier\n",
    "run_experiments('rf-sweep', max_evals=max_evals, search_space=search_space_rf, data_name=data_name, model_name = 'RandomForestClassifier', features_names=columns_to_keep)\n",
    "model = SVC\n",
    "run_experiments('svc-sweep', max_evals=max_evals, search_space=search_space_svc, data_name=data_name, model_name = 'SVC', features_names=columns_to_keep)\n",
    "model = LinearSVC\n",
    "run_experiments('svc-linear-sweep', max_evals=max_evals, search_space=search_space_svc_linear, data_name=data_name, model_name = 'LinearSVC', features_names=columns_to_keep)\n",
    "model = xgb.XGBClassifier\n",
    "run_experiments('xgb-sweep', max_evals=max_evals, search_space=search_space_xgb, data_name=data_name, model_name = 'XGBClassifier', features_names=columns_to_keep)"
   ]
  },
  {
   "cell_type": "markdown",
   "id": "6c7c7c69",
   "metadata": {},
   "source": [
    "### LLM"
   ]
  },
  {
   "cell_type": "code",
   "execution_count": 188,
   "id": "71ab5872",
   "metadata": {},
   "outputs": [],
   "source": [
    "# Provide an Experiment description that will appear in the UI\n",
    "experiment_description = (\n",
    "    \"Experiment to train models on the UAH + CARLA LLM (20%) dataset.\"\n",
    ")\n",
    "\n",
    "# Provide searchable tags that define characteristics of the Runs that\n",
    "# will be in this Experiment\n",
    "experiment_tags = {\n",
    "    \"project_name\": \"driver-behavior-prediction\",\n",
    "    \"mlflow.note.content\": experiment_description,\n",
    "}\n",
    "\n",
    "# Create the Experiment, providing a unique name\n",
    "try:\n",
    "    driver_behavior_experiment = client.create_experiment(\n",
    "        name=\"UAH_CARLA_LLM_20\", tags=experiment_tags\n",
    "    )\n",
    "except mlflow.exceptions.RestException as e:\n",
    "    print(f\"Experiment already exists: {e}\")"
   ]
  },
  {
   "cell_type": "code",
   "execution_count": 189,
   "id": "61e34e16",
   "metadata": {},
   "outputs": [],
   "source": [
    "X_train, y_train = X_carla_uah_llm_20, y_carla_uah_llm_20\n",
    "\n",
    "scaler = StandardScaler()\n",
    "X_train = scaler.fit_transform(X_train)\n",
    "X_val = scaler.transform(X_val_base)\n",
    "y_train = preprocessor.one_hot_encode(y_train, one_hot_keys=one_hot_keys)\n",
    "\n",
    "signature = infer_signature(X_train, y_train)\n",
    "mlflow.set_experiment('UAH_CARLA_LLM_20')\n",
    "data_name = 'UAH_CARLA_LLM_20'"
   ]
  },
  {
   "cell_type": "code",
   "execution_count": 190,
   "id": "97311e4a",
   "metadata": {},
   "outputs": [
    {
     "name": "stdout",
     "output_type": "stream",
     "text": [
      "This will run 5 trials to find optimal hyperparameters...\n",
      "Params: {'max_depth': 5, 'n_estimators': 50}         \n",
      "🏃 View run RandomForestClassifier_{'max_depth': 5, 'n_estimators': 50} at: http://127.0.0.1:8080/#/experiments/162264197747572513/runs/a4fc7607da754571b85edd3d18d402ae\n",
      "\n",
      "🧪 View experiment at: http://127.0.0.1:8080/#/experiments/162264197747572513\n",
      "\n",
      "Params: {'max_depth': 50, 'n_estimators': 20}                                   \n",
      "🏃 View run RandomForestClassifier_{'max_depth': 50, 'n_estimators': 20} at: http://127.0.0.1:8080/#/experiments/162264197747572513/runs/b0c477f6718d4134b1ef84275f3ecc58\n",
      "\n",
      "🧪 View experiment at: http://127.0.0.1:8080/#/experiments/162264197747572513   \n",
      "\n",
      "Params: {'max_depth': 20, 'n_estimators': 500}                                  \n",
      "🏃 View run RandomForestClassifier_{'max_depth': 20, 'n_estimators': 500} at: http://127.0.0.1:8080/#/experiments/162264197747572513/runs/0f8fa525c9fc4373aab724f4753638fb\n",
      "\n",
      "🧪 View experiment at: http://127.0.0.1:8080/#/experiments/162264197747572513   \n",
      "\n",
      "Params: {'max_depth': 5, 'n_estimators': 50}                                    \n",
      "🏃 View run RandomForestClassifier_{'max_depth': 5, 'n_estimators': 50} at: http://127.0.0.1:8080/#/experiments/162264197747572513/runs/fc4c3b87d75741ffb88d53240e4c85fd\n",
      "\n",
      "🧪 View experiment at: http://127.0.0.1:8080/#/experiments/162264197747572513   \n",
      "\n",
      "Params: {'max_depth': 10, 'n_estimators': 50}                                   \n",
      "🏃 View run RandomForestClassifier_{'max_depth': 10, 'n_estimators': 50} at: http://127.0.0.1:8080/#/experiments/162264197747572513/runs/fcd2695111da46f8882963ab7baea4d1\n",
      "\n",
      "🧪 View experiment at: http://127.0.0.1:8080/#/experiments/162264197747572513   \n",
      "\n",
      "100%|██████████| 5/5 [01:16<00:00, 15.24s/trial, best loss: -0.6351957579351962]\n",
      "🏃 View run rf-sweep at: http://127.0.0.1:8080/#/experiments/162264197747572513/runs/f64b049449c649d1bfe25e035f610a94\n",
      "🧪 View experiment at: http://127.0.0.1:8080/#/experiments/162264197747572513\n",
      "This will run 5 trials to find optimal hyperparameters...\n",
      "Params: {'C': 0.05, 'gamma': 0.001, 'kernel': 'rbf'} \n",
      "🏃 View run SVC_{'C': 0.05, 'gamma': 0.001, 'kernel': 'rbf'} at: http://127.0.0.1:8080/#/experiments/162264197747572513/runs/dfdd0aa0e8154164995261f8fe722a47\n",
      "\n",
      "🧪 View experiment at: http://127.0.0.1:8080/#/experiments/162264197747572513\n",
      "\n",
      "Params: {'C': 1, 'gamma': 10, 'kernel': 'rbf'}                                   \n",
      " 20%|██        | 1/5 [00:33<02:14, 33.58s/trial, best loss: -0.36957047928101716]"
     ]
    },
    {
     "name": "stderr",
     "output_type": "stream",
     "text": [
      "/home/renan/miniconda3/lib/python3.12/site-packages/sklearn/metrics/_classification.py:1565: UndefinedMetricWarning: Precision is ill-defined and being set to 0.0 in labels with no predicted samples. Use `zero_division` parameter to control this behavior.\n",
      "  _warn_prf(average, modifier, f\"{metric.capitalize()} is\", len(result))\n",
      "\n"
     ]
    },
    {
     "name": "stdout",
     "output_type": "stream",
     "text": [
      "🏃 View run SVC_{'C': 1, 'gamma': 10, 'kernel': 'rbf'} at: http://127.0.0.1:8080/#/experiments/162264197747572513/runs/1146a9877a954dac9e917796557104f3\n",
      "\n",
      "🧪 View experiment at: http://127.0.0.1:8080/#/experiments/162264197747572513    \n",
      "\n",
      "Params: {'C': 1, 'gamma': 0.01, 'kernel': 'rbf'}                                 \n",
      "🏃 View run SVC_{'C': 1, 'gamma': 0.01, 'kernel': 'rbf'} at: http://127.0.0.1:8080/#/experiments/162264197747572513/runs/45d6e6fac8984c0a8d5eefa649a0a957\n",
      "\n",
      "🧪 View experiment at: http://127.0.0.1:8080/#/experiments/162264197747572513    \n",
      "\n",
      "Params: {'C': 0.05, 'gamma': 0.01, 'kernel': 'rbf'}                              \n",
      "🏃 View run SVC_{'C': 0.05, 'gamma': 0.01, 'kernel': 'rbf'} at: http://127.0.0.1:8080/#/experiments/162264197747572513/runs/8e02350ff0d54a63b91b678b99d3701d\n",
      "\n",
      "🧪 View experiment at: http://127.0.0.1:8080/#/experiments/162264197747572513   \n",
      "\n",
      "Params: {'C': 0.01, 'gamma': 1, 'kernel': 'rbf'}                                \n",
      " 80%|████████  | 4/5 [03:36<00:48, 48.60s/trial, best loss: -0.5626391037469958]"
     ]
    },
    {
     "name": "stderr",
     "output_type": "stream",
     "text": [
      "/home/renan/miniconda3/lib/python3.12/site-packages/sklearn/metrics/_classification.py:1565: UndefinedMetricWarning: Precision is ill-defined and being set to 0.0 in labels with no predicted samples. Use `zero_division` parameter to control this behavior.\n",
      "  _warn_prf(average, modifier, f\"{metric.capitalize()} is\", len(result))\n",
      "\n"
     ]
    },
    {
     "name": "stdout",
     "output_type": "stream",
     "text": [
      "🏃 View run SVC_{'C': 0.01, 'gamma': 1, 'kernel': 'rbf'} at: http://127.0.0.1:8080/#/experiments/162264197747572513/runs/96dbc536e3d94edba9d7daf264c35132\n",
      "\n",
      "🧪 View experiment at: http://127.0.0.1:8080/#/experiments/162264197747572513   \n",
      "\n",
      "100%|██████████| 5/5 [04:46<00:00, 57.32s/trial, best loss: -0.5626391037469958]\n",
      "🏃 View run svc-sweep at: http://127.0.0.1:8080/#/experiments/162264197747572513/runs/775b5eddd71a418593ff7131f28ca5d3\n",
      "🧪 View experiment at: http://127.0.0.1:8080/#/experiments/162264197747572513\n",
      "This will run 5 trials to find optimal hyperparameters...\n",
      "Params: {'C': 1}                                     \n",
      "🏃 View run LinearSVC_{'C': 1} at: http://127.0.0.1:8080/#/experiments/162264197747572513/runs/f0fec19facd94529b0376c8a3286cbda\n",
      "\n",
      "🧪 View experiment at: http://127.0.0.1:8080/#/experiments/162264197747572513\n",
      "\n",
      "Params: {'C': 0.001}                                                            \n",
      "🏃 View run LinearSVC_{'C': 0.001} at: http://127.0.0.1:8080/#/experiments/162264197747572513/runs/a332b0cdffdf4e9ba231e8eaab2803c8\n",
      "\n",
      "🧪 View experiment at: http://127.0.0.1:8080/#/experiments/162264197747572513   \n",
      "\n",
      "Params: {'C': 1}                                                                \n",
      "🏃 View run LinearSVC_{'C': 1} at: http://127.0.0.1:8080/#/experiments/162264197747572513/runs/03dfb354d9cf44e78afe50ca1feef2f8\n",
      "\n",
      "🧪 View experiment at: http://127.0.0.1:8080/#/experiments/162264197747572513   \n",
      "\n",
      "Params: {'C': 1}                                                                \n",
      "🏃 View run LinearSVC_{'C': 1} at: http://127.0.0.1:8080/#/experiments/162264197747572513/runs/c1dc75c54ed944e5b5d2a133a2c1001c\n",
      "\n",
      "🧪 View experiment at: http://127.0.0.1:8080/#/experiments/162264197747572513   \n",
      "\n",
      "Params: {'C': 0.0001}                                                           \n",
      "🏃 View run LinearSVC_{'C': 0.0001} at: http://127.0.0.1:8080/#/experiments/162264197747572513/runs/52d838cc1a534f3a9ced62973eb03bc4\n",
      "\n",
      "🧪 View experiment at: http://127.0.0.1:8080/#/experiments/162264197747572513   \n",
      "\n",
      "100%|██████████| 5/5 [00:11<00:00,  2.29s/trial, best loss: -0.49202324395568425]\n",
      "🏃 View run svc-linear-sweep at: http://127.0.0.1:8080/#/experiments/162264197747572513/runs/e79c1cabf95440fa9cdb51f27cfca1f2\n",
      "🧪 View experiment at: http://127.0.0.1:8080/#/experiments/162264197747572513\n",
      "This will run 5 trials to find optimal hyperparameters...\n",
      "Params: {'colsample_bytree': 0.7, 'learning_rate': 0.01, 'max_depth': 5, 'n_estimators': 500, 'subsample': 0.5}\n",
      "🏃 View run XGBClassifier_{'colsample_bytree': 0.7, 'learning_rate': 0.01, 'max_depth': 5, 'n_estimators': 500, 'subsample': 0.5} at: http://127.0.0.1:8080/#/experiments/162264197747572513/runs/1f2a4969b8e842dba72900daaff689e4\n",
      "\n",
      "🧪 View experiment at: http://127.0.0.1:8080/#/experiments/162264197747572513\n",
      "\n",
      "Params: {'colsample_bytree': 0.5, 'learning_rate': 0.2, 'max_depth': 10, 'n_estimators': 700, 'subsample': 0.7}\n",
      "🏃 View run XGBClassifier_{'colsample_bytree': 0.5, 'learning_rate': 0.2, 'max_depth': 10, 'n_estimators': 700, 'subsample': 0.7} at: http://127.0.0.1:8080/#/experiments/162264197747572513/runs/102ac221e8ef47d2b6bf0880c549aebe\n",
      "\n",
      "🧪 View experiment at: http://127.0.0.1:8080/#/experiments/162264197747572513  \n",
      "\n",
      "Params: {'colsample_bytree': 1.0, 'learning_rate': 0.3, 'max_depth': 10, 'n_estimators': 500, 'subsample': 0.5}\n",
      "🏃 View run XGBClassifier_{'colsample_bytree': 1.0, 'learning_rate': 0.3, 'max_depth': 10, 'n_estimators': 500, 'subsample': 0.5} at: http://127.0.0.1:8080/#/experiments/162264197747572513/runs/e8f6856dfe204d1799e761a18ed55299\n",
      "\n",
      "🧪 View experiment at: http://127.0.0.1:8080/#/experiments/162264197747572513  \n",
      "\n",
      "Params: {'colsample_bytree': 0.5, 'learning_rate': 0.1, 'max_depth': None, 'n_estimators': 1000, 'subsample': 0.5}\n",
      "🏃 View run XGBClassifier_{'colsample_bytree': 0.5, 'learning_rate': 0.1, 'max_depth': None, 'n_estimators': 1000, 'subsample': 0.5} at: http://127.0.0.1:8080/#/experiments/162264197747572513/runs/3aa0a0a80e914c299ed1d85e840c4bc3\n",
      "\n",
      "🧪 View experiment at: http://127.0.0.1:8080/#/experiments/162264197747572513  \n",
      "\n",
      "Params: {'colsample_bytree': 1.0, 'learning_rate': 0.3, 'max_depth': None, 'n_estimators': 500, 'subsample': 0.5}\n",
      "🏃 View run XGBClassifier_{'colsample_bytree': 1.0, 'learning_rate': 0.3, 'max_depth': None, 'n_estimators': 500, 'subsample': 0.5} at: http://127.0.0.1:8080/#/experiments/162264197747572513/runs/ed038b04a23f4c04978b644554431935\n",
      "\n",
      "🧪 View experiment at: http://127.0.0.1:8080/#/experiments/162264197747572513  \n",
      "\n",
      "100%|██████████| 5/5 [00:34<00:00,  6.99s/trial, best loss: -0.658784894475942]\n",
      "🏃 View run xgb-sweep at: http://127.0.0.1:8080/#/experiments/162264197747572513/runs/a93459d5678e4d0ca8e5fa37cbaf9470\n",
      "🧪 View experiment at: http://127.0.0.1:8080/#/experiments/162264197747572513\n"
     ]
    },
    {
     "data": {
      "text/plain": [
       "0.658784894475942"
      ]
     },
     "execution_count": 190,
     "metadata": {},
     "output_type": "execute_result"
    }
   ],
   "source": [
    "model = RandomForestClassifier\n",
    "run_experiments('rf-sweep', max_evals=max_evals, search_space=search_space_rf, data_name=data_name, model_name = 'RandomForestClassifier', features_names=columns_to_keep)\n",
    "model = SVC\n",
    "run_experiments('svc-sweep', max_evals=max_evals, search_space=search_space_svc, data_name=data_name, model_name = 'SVC', features_names=columns_to_keep)\n",
    "model = LinearSVC\n",
    "run_experiments('svc-linear-sweep', max_evals=max_evals, search_space=search_space_svc_linear, data_name=data_name, model_name = 'LinearSVC', features_names=columns_to_keep)\n",
    "model = xgb.XGBClassifier\n",
    "run_experiments('xgb-sweep', max_evals=max_evals, search_space=search_space_xgb, data_name=data_name, model_name = 'XGBClassifier', features_names=columns_to_keep)"
   ]
  },
  {
   "cell_type": "markdown",
   "id": "03a2886a",
   "metadata": {},
   "source": [
    "## Real + CARLA (60%)"
   ]
  },
  {
   "cell_type": "markdown",
   "id": "e6d9ddfb",
   "metadata": {},
   "source": [
    "### Fixed"
   ]
  },
  {
   "cell_type": "code",
   "execution_count": 191,
   "id": "d74acd83",
   "metadata": {},
   "outputs": [],
   "source": [
    "# Provide an Experiment description that will appear in the UI\n",
    "experiment_description = (\n",
    "    \"Experiment to train models on the UAH + CARLA Fixed (60%) dataset.\"\n",
    ")\n",
    "\n",
    "# Provide searchable tags that define characteristics of the Runs that\n",
    "# will be in this Experiment\n",
    "experiment_tags = {\n",
    "    \"project_name\": \"driver-behavior-prediction\",\n",
    "    \"mlflow.note.content\": experiment_description,\n",
    "}\n",
    "\n",
    "# Create the Experiment, providing a unique name\n",
    "try:\n",
    "    driver_behavior_experiment = client.create_experiment(\n",
    "        name=\"UAH_CARLA_Fixed_60\", tags=experiment_tags\n",
    "    )\n",
    "except mlflow.exceptions.RestException as e:\n",
    "    print(f\"Experiment already exists: {e}\")"
   ]
  },
  {
   "cell_type": "code",
   "execution_count": 192,
   "id": "c1b7f372",
   "metadata": {},
   "outputs": [],
   "source": [
    "X_train, y_train = X_carla_uah_fixed_60, y_carla_uah_fixed_60\n",
    "\n",
    "scaler = StandardScaler()\n",
    "X_train = scaler.fit_transform(X_train)\n",
    "X_val = scaler.transform(X_val_base)\n",
    "y_train = preprocessor.one_hot_encode(y_train, one_hot_keys=one_hot_keys)\n",
    "\n",
    "signature = infer_signature(X_train, y_train)\n",
    "mlflow.set_experiment('UAH_CARLA_Fixed_60')\n",
    "data_name = 'UAH_CARLA_Fixed_60'"
   ]
  },
  {
   "cell_type": "code",
   "execution_count": 193,
   "id": "90abf157",
   "metadata": {},
   "outputs": [
    {
     "name": "stdout",
     "output_type": "stream",
     "text": [
      "This will run 5 trials to find optimal hyperparameters...\n",
      "Params: {'max_depth': 50, 'n_estimators': 20}        \n",
      "🏃 View run RandomForestClassifier_{'max_depth': 50, 'n_estimators': 20} at: http://127.0.0.1:8080/#/experiments/875475706037318670/runs/988409490d29460ab76c3fd42a19eb95\n",
      "\n",
      "🧪 View experiment at: http://127.0.0.1:8080/#/experiments/875475706037318670\n",
      "\n",
      "Params: {'max_depth': 5, 'n_estimators': 500}                                  \n",
      "🏃 View run RandomForestClassifier_{'max_depth': 5, 'n_estimators': 500} at: http://127.0.0.1:8080/#/experiments/875475706037318670/runs/83bd0f452a7d4a53a37eebb75ae10b61\n",
      "\n",
      "🧪 View experiment at: http://127.0.0.1:8080/#/experiments/875475706037318670  \n",
      "\n",
      "Params: {'max_depth': 5, 'n_estimators': 50}                                   \n",
      "🏃 View run RandomForestClassifier_{'max_depth': 5, 'n_estimators': 50} at: http://127.0.0.1:8080/#/experiments/875475706037318670/runs/80755f8a6a794cb387f765e5543b154f\n",
      "\n",
      "🧪 View experiment at: http://127.0.0.1:8080/#/experiments/875475706037318670  \n",
      "\n",
      "Params: {'max_depth': 5, 'n_estimators': 50}                                   \n",
      "🏃 View run RandomForestClassifier_{'max_depth': 5, 'n_estimators': 50} at: http://127.0.0.1:8080/#/experiments/875475706037318670/runs/608fabb30d164024a75e51c4e14e59d8\n",
      "\n",
      "🧪 View experiment at: http://127.0.0.1:8080/#/experiments/875475706037318670  \n",
      "\n",
      "Params: {'max_depth': 5, 'n_estimators': 200}                                  \n",
      "🏃 View run RandomForestClassifier_{'max_depth': 5, 'n_estimators': 200} at: http://127.0.0.1:8080/#/experiments/875475706037318670/runs/5c063c34721c4490bf1f1d320f238d02\n",
      "\n",
      "🧪 View experiment at: http://127.0.0.1:8080/#/experiments/875475706037318670  \n",
      "\n",
      "100%|██████████| 5/5 [00:39<00:00,  7.85s/trial, best loss: -0.611773383484264]\n",
      "🏃 View run rf-sweep at: http://127.0.0.1:8080/#/experiments/875475706037318670/runs/aa7c1873a0ec4a2cb475551bd5885c99\n",
      "🧪 View experiment at: http://127.0.0.1:8080/#/experiments/875475706037318670\n",
      "This will run 5 trials to find optimal hyperparameters...\n",
      "Params: {'C': 0.1, 'gamma': 0.001, 'kernel': 'rbf'}  \n",
      "🏃 View run SVC_{'C': 0.1, 'gamma': 0.001, 'kernel': 'rbf'} at: http://127.0.0.1:8080/#/experiments/875475706037318670/runs/6812c0f3c7324d629659fb55356cd1b5\n",
      "\n",
      "🧪 View experiment at: http://127.0.0.1:8080/#/experiments/875475706037318670\n",
      "\n",
      "Params: {'C': 1, 'gamma': 1, 'kernel': 'rbf'}                                    \n",
      " 20%|██        | 1/5 [00:33<02:14, 33.59s/trial, best loss: -0.40762265394652314]"
     ]
    },
    {
     "name": "stderr",
     "output_type": "stream",
     "text": [
      "/home/renan/miniconda3/lib/python3.12/site-packages/sklearn/metrics/_classification.py:1565: UndefinedMetricWarning: Precision is ill-defined and being set to 0.0 in labels with no predicted samples. Use `zero_division` parameter to control this behavior.\n",
      "  _warn_prf(average, modifier, f\"{metric.capitalize()} is\", len(result))\n",
      "\n"
     ]
    },
    {
     "name": "stdout",
     "output_type": "stream",
     "text": [
      "🏃 View run SVC_{'C': 1, 'gamma': 1, 'kernel': 'rbf'} at: http://127.0.0.1:8080/#/experiments/875475706037318670/runs/d4826418083f46c2b08989d6b6eaeda4\n",
      "\n",
      "🧪 View experiment at: http://127.0.0.1:8080/#/experiments/875475706037318670    \n",
      "\n",
      "Params: {'C': 1, 'gamma': 0.01, 'kernel': 'rbf'}                                 \n",
      "🏃 View run SVC_{'C': 1, 'gamma': 0.01, 'kernel': 'rbf'} at: http://127.0.0.1:8080/#/experiments/875475706037318670/runs/fed97ebcb65c45e0acf3db39aba9539a\n",
      "\n",
      "🧪 View experiment at: http://127.0.0.1:8080/#/experiments/875475706037318670    \n",
      "\n",
      "Params: {'C': 0.5, 'gamma': 1, 'kernel': 'rbf'}                                  \n",
      " 60%|██████    | 3/5 [02:47<01:48, 54.19s/trial, best loss: -0.5626391037469958]"
     ]
    },
    {
     "name": "stderr",
     "output_type": "stream",
     "text": [
      "/home/renan/miniconda3/lib/python3.12/site-packages/sklearn/metrics/_classification.py:1565: UndefinedMetricWarning: Precision is ill-defined and being set to 0.0 in labels with no predicted samples. Use `zero_division` parameter to control this behavior.\n",
      "  _warn_prf(average, modifier, f\"{metric.capitalize()} is\", len(result))\n",
      "\n"
     ]
    },
    {
     "name": "stdout",
     "output_type": "stream",
     "text": [
      "🏃 View run SVC_{'C': 0.5, 'gamma': 1, 'kernel': 'rbf'} at: http://127.0.0.1:8080/#/experiments/875475706037318670/runs/7d3810d57d394c8b96153956a77b2dad\n",
      "\n",
      "🧪 View experiment at: http://127.0.0.1:8080/#/experiments/875475706037318670   \n",
      "\n",
      "Params: {'C': 0.01, 'gamma': 0.001, 'kernel': 'rbf'}                            \n",
      "🏃 View run SVC_{'C': 0.01, 'gamma': 0.001, 'kernel': 'rbf'} at: http://127.0.0.1:8080/#/experiments/875475706037318670/runs/25cfb0d9372a4135a0eea0a7351a6a15\n",
      "\n",
      "🧪 View experiment at: http://127.0.0.1:8080/#/experiments/875475706037318670   \n",
      "\n",
      "100%|██████████| 5/5 [04:54<00:00, 58.98s/trial, best loss: -0.5626391037469958]\n",
      "🏃 View run svc-sweep at: http://127.0.0.1:8080/#/experiments/875475706037318670/runs/9c517f42006440eabd1a8e34129239b1\n",
      "🧪 View experiment at: http://127.0.0.1:8080/#/experiments/875475706037318670\n",
      "This will run 5 trials to find optimal hyperparameters...\n",
      "Params: {'C': 0.01}                                  \n",
      "🏃 View run LinearSVC_{'C': 0.01} at: http://127.0.0.1:8080/#/experiments/875475706037318670/runs/c7588ee024a349f6b458012b8ae85fc5\n",
      "\n",
      "🧪 View experiment at: http://127.0.0.1:8080/#/experiments/875475706037318670\n",
      "\n",
      "Params: {'C': 0.1}                                                              \n",
      "🏃 View run LinearSVC_{'C': 0.1} at: http://127.0.0.1:8080/#/experiments/875475706037318670/runs/216cf5bab0934d9cbefdf1bc2573a994\n",
      "\n",
      "🧪 View experiment at: http://127.0.0.1:8080/#/experiments/875475706037318670   \n",
      "\n",
      "Params: {'C': 1}                                                                 \n",
      "🏃 View run LinearSVC_{'C': 1} at: http://127.0.0.1:8080/#/experiments/875475706037318670/runs/4dc2800ab28a4a0cacbe8baa77504a76\n",
      "\n",
      "🧪 View experiment at: http://127.0.0.1:8080/#/experiments/875475706037318670    \n",
      "\n",
      "Params: {'C': 0.0001}                                                            \n",
      "🏃 View run LinearSVC_{'C': 0.0001} at: http://127.0.0.1:8080/#/experiments/875475706037318670/runs/9a895245ffb44c7ca00dde2a3c431ba8\n",
      "\n",
      "🧪 View experiment at: http://127.0.0.1:8080/#/experiments/875475706037318670    \n",
      "\n",
      "Params: {'C': 1}                                                                 \n",
      "🏃 View run LinearSVC_{'C': 1} at: http://127.0.0.1:8080/#/experiments/875475706037318670/runs/85acdcc4a466433fb8f0fe30a936aa46\n",
      "\n",
      "🧪 View experiment at: http://127.0.0.1:8080/#/experiments/875475706037318670    \n",
      "\n",
      "100%|██████████| 5/5 [00:11<00:00,  2.30s/trial, best loss: -0.49202324395568425]\n",
      "🏃 View run svc-linear-sweep at: http://127.0.0.1:8080/#/experiments/875475706037318670/runs/5d0d0c9c9ece4a559dd8ba29914fea76\n",
      "🧪 View experiment at: http://127.0.0.1:8080/#/experiments/875475706037318670\n",
      "This will run 5 trials to find optimal hyperparameters...\n",
      "Params: {'colsample_bytree': 0.7, 'learning_rate': 0.3, 'max_depth': 10, 'n_estimators': 500, 'subsample': 0.5}\n",
      "🏃 View run XGBClassifier_{'colsample_bytree': 0.7, 'learning_rate': 0.3, 'max_depth': 10, 'n_estimators': 500, 'subsample': 0.5} at: http://127.0.0.1:8080/#/experiments/875475706037318670/runs/f9cb3fe0d3f54a40b8149ff00465f9d1\n",
      "\n",
      "🧪 View experiment at: http://127.0.0.1:8080/#/experiments/875475706037318670\n",
      "\n",
      "Params: {'colsample_bytree': 0.7, 'learning_rate': 0.3, 'max_depth': 10, 'n_estimators': 1000, 'subsample': 0.5}\n",
      "🏃 View run XGBClassifier_{'colsample_bytree': 0.7, 'learning_rate': 0.3, 'max_depth': 10, 'n_estimators': 1000, 'subsample': 0.5} at: http://127.0.0.1:8080/#/experiments/875475706037318670/runs/847713495fa942a191cd29232c59178d\n",
      "\n",
      "🧪 View experiment at: http://127.0.0.1:8080/#/experiments/875475706037318670   \n",
      "\n",
      "Params: {'colsample_bytree': 0.7, 'learning_rate': 0.3, 'max_depth': 5, 'n_estimators': 500, 'subsample': 1.0}\n",
      "🏃 View run XGBClassifier_{'colsample_bytree': 0.7, 'learning_rate': 0.3, 'max_depth': 5, 'n_estimators': 500, 'subsample': 1.0} at: http://127.0.0.1:8080/#/experiments/875475706037318670/runs/041645f5da1f408e88eb8edc3145e951\n",
      "\n",
      "🧪 View experiment at: http://127.0.0.1:8080/#/experiments/875475706037318670   \n",
      "\n",
      "Params: {'colsample_bytree': 0.5, 'learning_rate': 0.2, 'max_depth': 10, 'n_estimators': 500, 'subsample': 1.0}\n",
      "🏃 View run XGBClassifier_{'colsample_bytree': 0.5, 'learning_rate': 0.2, 'max_depth': 10, 'n_estimators': 500, 'subsample': 1.0} at: http://127.0.0.1:8080/#/experiments/875475706037318670/runs/a17fc53974f74a43bb8a83539bc8b424\n",
      "\n",
      "🧪 View experiment at: http://127.0.0.1:8080/#/experiments/875475706037318670   \n",
      "\n",
      "Params: {'colsample_bytree': 0.5, 'learning_rate': 0.001, 'max_depth': 10, 'n_estimators': 200, 'subsample': 1.0}\n",
      " 80%|████████  | 4/5 [00:32<00:07,  7.65s/trial, best loss: -0.6244918561783198]"
     ]
    },
    {
     "name": "stderr",
     "output_type": "stream",
     "text": [
      "/home/renan/miniconda3/lib/python3.12/site-packages/sklearn/metrics/_classification.py:1565: UndefinedMetricWarning: Precision is ill-defined and being set to 0.0 in labels with no predicted samples. Use `zero_division` parameter to control this behavior.\n",
      "  _warn_prf(average, modifier, f\"{metric.capitalize()} is\", len(result))\n",
      "\n"
     ]
    },
    {
     "name": "stdout",
     "output_type": "stream",
     "text": [
      "🏃 View run XGBClassifier_{'colsample_bytree': 0.5, 'learning_rate': 0.001, 'max_depth': 10, 'n_estimators': 200, 'subsample': 1.0} at: http://127.0.0.1:8080/#/experiments/875475706037318670/runs/0480e975aeb844fb8b8c32b89d09c5cb\n",
      "\n",
      "🧪 View experiment at: http://127.0.0.1:8080/#/experiments/875475706037318670   \n",
      "\n",
      "100%|██████████| 5/5 [00:37<00:00,  7.52s/trial, best loss: -0.6244918561783198]\n",
      "🏃 View run xgb-sweep at: http://127.0.0.1:8080/#/experiments/875475706037318670/runs/146699e1bc3c4d2d8a7b56a727214cc9\n",
      "🧪 View experiment at: http://127.0.0.1:8080/#/experiments/875475706037318670\n"
     ]
    },
    {
     "data": {
      "text/plain": [
       "0.6244918561783198"
      ]
     },
     "execution_count": 193,
     "metadata": {},
     "output_type": "execute_result"
    }
   ],
   "source": [
    "model = RandomForestClassifier\n",
    "run_experiments('rf-sweep', max_evals=max_evals, search_space=search_space_rf, data_name=data_name, model_name = 'RandomForestClassifier', features_names=columns_to_keep)\n",
    "model = SVC\n",
    "run_experiments('svc-sweep', max_evals=max_evals, search_space=search_space_svc, data_name=data_name, model_name = 'SVC', features_names=columns_to_keep)\n",
    "model = LinearSVC\n",
    "run_experiments('svc-linear-sweep', max_evals=max_evals, search_space=search_space_svc_linear, data_name=data_name, model_name = 'LinearSVC', features_names=columns_to_keep)\n",
    "model = xgb.XGBClassifier\n",
    "run_experiments('xgb-sweep', max_evals=max_evals, search_space=search_space_xgb, data_name=data_name, model_name = 'XGBClassifier', features_names=columns_to_keep)"
   ]
  },
  {
   "cell_type": "markdown",
   "id": "4b1fe8a2",
   "metadata": {},
   "source": [
    "### LLM"
   ]
  },
  {
   "cell_type": "code",
   "execution_count": 194,
   "id": "a8fc7ca3",
   "metadata": {},
   "outputs": [],
   "source": [
    "# Provide an Experiment description that will appear in the UI\n",
    "experiment_description = (\n",
    "    \"Experiment to train models on the UAH + CARLA LLM (60%) dataset.\"\n",
    ")\n",
    "\n",
    "# Provide searchable tags that define characteristics of the Runs that\n",
    "# will be in this Experiment\n",
    "experiment_tags = {\n",
    "    \"project_name\": \"driver-behavior-prediction\",\n",
    "    \"mlflow.note.content\": experiment_description,\n",
    "}\n",
    "\n",
    "# Create the Experiment, providing a unique name\n",
    "try:\n",
    "    driver_behavior_experiment = client.create_experiment(\n",
    "        name=\"UAH_CARLA_LLM_60\", tags=experiment_tags\n",
    "    )\n",
    "except mlflow.exceptions.RestException as e:\n",
    "    print(f\"Experiment already exists: {e}\")"
   ]
  },
  {
   "cell_type": "code",
   "execution_count": 195,
   "id": "37800614",
   "metadata": {},
   "outputs": [],
   "source": [
    "X_train, y_train = X_carla_uah_llm_60, y_carla_uah_llm_60\n",
    "\n",
    "scaler = StandardScaler()\n",
    "X_train = scaler.fit_transform(X_train)\n",
    "X_val = scaler.transform(X_val_base)\n",
    "y_train = preprocessor.one_hot_encode(y_train, one_hot_keys=one_hot_keys)\n",
    "\n",
    "signature = infer_signature(X_train, y_train)\n",
    "mlflow.set_experiment('UAH_CARLA_LLM_60')\n",
    "data_name = 'UAH_CARLA_LLM_60'"
   ]
  },
  {
   "cell_type": "code",
   "execution_count": 196,
   "id": "41b6eda1",
   "metadata": {},
   "outputs": [
    {
     "name": "stdout",
     "output_type": "stream",
     "text": [
      "This will run 5 trials to find optimal hyperparameters...\n",
      "Params: {'max_depth': 20, 'n_estimators': 200}       \n",
      "🏃 View run RandomForestClassifier_{'max_depth': 20, 'n_estimators': 200} at: http://127.0.0.1:8080/#/experiments/496229470573444753/runs/bea9a6f1d3454c5bb2192b0f175f0e24\n",
      "\n",
      "🧪 View experiment at: http://127.0.0.1:8080/#/experiments/496229470573444753\n",
      "\n",
      "Params: {'max_depth': 50, 'n_estimators': 500}                                  \n",
      "🏃 View run RandomForestClassifier_{'max_depth': 50, 'n_estimators': 500} at: http://127.0.0.1:8080/#/experiments/496229470573444753/runs/6b4b4e3d0ef14378a87269456d697640\n",
      "\n",
      "🧪 View experiment at: http://127.0.0.1:8080/#/experiments/496229470573444753   \n",
      "\n",
      "Params: {'max_depth': 50, 'n_estimators': 100}                                  \n",
      "🏃 View run RandomForestClassifier_{'max_depth': 50, 'n_estimators': 100} at: http://127.0.0.1:8080/#/experiments/496229470573444753/runs/c63ae8c750b7495a9bc425a3ef64596f\n",
      "\n",
      "🧪 View experiment at: http://127.0.0.1:8080/#/experiments/496229470573444753   \n",
      "\n",
      "Params: {'max_depth': 50, 'n_estimators': 20}                                   \n",
      "🏃 View run RandomForestClassifier_{'max_depth': 50, 'n_estimators': 20} at: http://127.0.0.1:8080/#/experiments/496229470573444753/runs/a949d8480b52435b80a04e02dc707333\n",
      "\n",
      "🧪 View experiment at: http://127.0.0.1:8080/#/experiments/496229470573444753   \n",
      "\n",
      "Params: {'max_depth': None, 'n_estimators': 100}                                \n",
      "🏃 View run RandomForestClassifier_{'max_depth': None, 'n_estimators': 100} at: http://127.0.0.1:8080/#/experiments/496229470573444753/runs/27b0c9ca2523428ebd0977172da1c963\n",
      "\n",
      "🧪 View experiment at: http://127.0.0.1:8080/#/experiments/496229470573444753   \n",
      "\n",
      "100%|██████████| 5/5 [02:05<00:00, 25.04s/trial, best loss: -0.6326875423676606]\n",
      "🏃 View run rf-sweep at: http://127.0.0.1:8080/#/experiments/496229470573444753/runs/b880931305ee472dbf1640df42bda252\n",
      "🧪 View experiment at: http://127.0.0.1:8080/#/experiments/496229470573444753\n",
      "This will run 5 trials to find optimal hyperparameters...\n",
      "Params: {'C': 0.1, 'gamma': 1, 'kernel': 'rbf'}      \n",
      "  0%|          | 0/5 [00:00<?, ?trial/s, best loss=?]"
     ]
    },
    {
     "name": "stderr",
     "output_type": "stream",
     "text": [
      "/home/renan/miniconda3/lib/python3.12/site-packages/sklearn/metrics/_classification.py:1565: UndefinedMetricWarning: Precision is ill-defined and being set to 0.0 in labels with no predicted samples. Use `zero_division` parameter to control this behavior.\n",
      "  _warn_prf(average, modifier, f\"{metric.capitalize()} is\", len(result))\n",
      "\n"
     ]
    },
    {
     "name": "stdout",
     "output_type": "stream",
     "text": [
      "🏃 View run SVC_{'C': 0.1, 'gamma': 1, 'kernel': 'rbf'} at: http://127.0.0.1:8080/#/experiments/496229470573444753/runs/bf14a2301e9248a384570598a8c91ae5\n",
      "\n",
      "🧪 View experiment at: http://127.0.0.1:8080/#/experiments/496229470573444753\n",
      "\n",
      "Params: {'C': 0.05, 'gamma': 0.01, 'kernel': 'rbf'}                             \n",
      "🏃 View run SVC_{'C': 0.05, 'gamma': 0.01, 'kernel': 'rbf'} at: http://127.0.0.1:8080/#/experiments/496229470573444753/runs/1dcb38c88f97485e8a709991f0867767\n",
      "\n",
      "🧪 View experiment at: http://127.0.0.1:8080/#/experiments/496229470573444753   \n",
      "\n",
      "Params: {'C': 0.05, 'gamma': 0.001, 'kernel': 'rbf'}                            \n",
      "🏃 View run SVC_{'C': 0.05, 'gamma': 0.001, 'kernel': 'rbf'} at: http://127.0.0.1:8080/#/experiments/496229470573444753/runs/f562b417a9074f52805ee902d20545b2\n",
      "\n",
      "🧪 View experiment at: http://127.0.0.1:8080/#/experiments/496229470573444753   \n",
      "\n",
      "Params: {'C': 0.05, 'gamma': 0.01, 'kernel': 'rbf'}                             \n",
      "🏃 View run SVC_{'C': 0.05, 'gamma': 0.01, 'kernel': 'rbf'} at: http://127.0.0.1:8080/#/experiments/496229470573444753/runs/3b347e39b50b47ae905dad2ff4f5bdab\n",
      "\n",
      "🧪 View experiment at: http://127.0.0.1:8080/#/experiments/496229470573444753   \n",
      "\n",
      "Params: {'C': 0.01, 'gamma': 10, 'kernel': 'rbf'}                               \n",
      " 80%|████████  | 4/5 [03:07<00:39, 39.95s/trial, best loss: -0.5356984519547826]"
     ]
    },
    {
     "name": "stderr",
     "output_type": "stream",
     "text": [
      "/home/renan/miniconda3/lib/python3.12/site-packages/sklearn/metrics/_classification.py:1565: UndefinedMetricWarning: Precision is ill-defined and being set to 0.0 in labels with no predicted samples. Use `zero_division` parameter to control this behavior.\n",
      "  _warn_prf(average, modifier, f\"{metric.capitalize()} is\", len(result))\n",
      "\n"
     ]
    },
    {
     "name": "stdout",
     "output_type": "stream",
     "text": [
      "🏃 View run SVC_{'C': 0.01, 'gamma': 10, 'kernel': 'rbf'} at: http://127.0.0.1:8080/#/experiments/496229470573444753/runs/797166171dcb4dfb91ff6f12856fa0d6\n",
      "\n",
      "🧪 View experiment at: http://127.0.0.1:8080/#/experiments/496229470573444753   \n",
      "\n",
      "100%|██████████| 5/5 [04:35<00:00, 55.11s/trial, best loss: -0.5356984519547826]\n",
      "🏃 View run svc-sweep at: http://127.0.0.1:8080/#/experiments/496229470573444753/runs/cc73f6f8305642b99fa7c956e0428f52\n",
      "🧪 View experiment at: http://127.0.0.1:8080/#/experiments/496229470573444753\n",
      "This will run 5 trials to find optimal hyperparameters...\n",
      "Params: {'C': 1}                                     \n",
      "🏃 View run LinearSVC_{'C': 1} at: http://127.0.0.1:8080/#/experiments/496229470573444753/runs/bd0882f623b244378ebcbd7fde94a07f\n",
      "\n",
      "🧪 View experiment at: http://127.0.0.1:8080/#/experiments/496229470573444753\n",
      "\n",
      "Params: {'C': 0.1}                                                              \n",
      "🏃 View run LinearSVC_{'C': 0.1} at: http://127.0.0.1:8080/#/experiments/496229470573444753/runs/d9e4af664dc5493680b132791bf998c5\n",
      "\n",
      "🧪 View experiment at: http://127.0.0.1:8080/#/experiments/496229470573444753   \n",
      "\n",
      "Params: {'C': 1}                                                                 \n",
      "🏃 View run LinearSVC_{'C': 1} at: http://127.0.0.1:8080/#/experiments/496229470573444753/runs/1666dbdee4d14f3891d43f6408216cfc\n",
      "\n",
      "🧪 View experiment at: http://127.0.0.1:8080/#/experiments/496229470573444753    \n",
      "\n",
      "Params: {'C': 0.001}                                                             \n",
      "🏃 View run LinearSVC_{'C': 0.001} at: http://127.0.0.1:8080/#/experiments/496229470573444753/runs/cc764e94f0eb4a6db1855f8c939548d7\n",
      "\n",
      "🧪 View experiment at: http://127.0.0.1:8080/#/experiments/496229470573444753    \n",
      "\n",
      "Params: {'C': 0.1}                                                               \n",
      "🏃 View run LinearSVC_{'C': 0.1} at: http://127.0.0.1:8080/#/experiments/496229470573444753/runs/3c67ebcb450d4e3bb6831293953ad737\n",
      "\n",
      "🧪 View experiment at: http://127.0.0.1:8080/#/experiments/496229470573444753    \n",
      "\n",
      "100%|██████████| 5/5 [00:12<00:00,  2.44s/trial, best loss: -0.48272043402840703]\n",
      "🏃 View run svc-linear-sweep at: http://127.0.0.1:8080/#/experiments/496229470573444753/runs/38b4eb1e179e44938d85350bb4394d52\n",
      "🧪 View experiment at: http://127.0.0.1:8080/#/experiments/496229470573444753\n",
      "This will run 5 trials to find optimal hyperparameters...\n",
      "Params: {'colsample_bytree': 0.5, 'learning_rate': 0.3, 'max_depth': 5, 'n_estimators': 1000, 'subsample': 0.5}\n",
      "🏃 View run XGBClassifier_{'colsample_bytree': 0.5, 'learning_rate': 0.3, 'max_depth': 5, 'n_estimators': 1000, 'subsample': 0.5} at: http://127.0.0.1:8080/#/experiments/496229470573444753/runs/ba3a33c8dadb4f6383fcc042e3c55171\n",
      "\n",
      "🧪 View experiment at: http://127.0.0.1:8080/#/experiments/496229470573444753\n",
      "\n",
      "Params: {'colsample_bytree': 0.5, 'learning_rate': 0.01, 'max_depth': 5, 'n_estimators': 500, 'subsample': 1.0}\n",
      "🏃 View run XGBClassifier_{'colsample_bytree': 0.5, 'learning_rate': 0.01, 'max_depth': 5, 'n_estimators': 500, 'subsample': 1.0} at: http://127.0.0.1:8080/#/experiments/496229470573444753/runs/86eb49cd7adb4ae1877d8de9d9480e12\n",
      "\n",
      "🧪 View experiment at: http://127.0.0.1:8080/#/experiments/496229470573444753   \n",
      "\n",
      "Params: {'colsample_bytree': 0.5, 'learning_rate': 0.1, 'max_depth': None, 'n_estimators': 500, 'subsample': 0.7}\n",
      "🏃 View run XGBClassifier_{'colsample_bytree': 0.5, 'learning_rate': 0.1, 'max_depth': None, 'n_estimators': 500, 'subsample': 0.7} at: http://127.0.0.1:8080/#/experiments/496229470573444753/runs/b8e7152ed5c645218f7c395ff1b141be\n",
      "\n",
      "🧪 View experiment at: http://127.0.0.1:8080/#/experiments/496229470573444753   \n",
      "\n",
      "Params: {'colsample_bytree': 0.7, 'learning_rate': 0.1, 'max_depth': None, 'n_estimators': 200, 'subsample': 1.0}\n",
      "🏃 View run XGBClassifier_{'colsample_bytree': 0.7, 'learning_rate': 0.1, 'max_depth': None, 'n_estimators': 200, 'subsample': 1.0} at: http://127.0.0.1:8080/#/experiments/496229470573444753/runs/0eae383c64e441a98876e27a754b740c\n",
      "\n",
      "🧪 View experiment at: http://127.0.0.1:8080/#/experiments/496229470573444753   \n",
      "\n",
      "Params: {'colsample_bytree': 0.5, 'learning_rate': 0.1, 'max_depth': 10, 'n_estimators': 700, 'subsample': 0.7}\n",
      "🏃 View run XGBClassifier_{'colsample_bytree': 0.5, 'learning_rate': 0.1, 'max_depth': 10, 'n_estimators': 700, 'subsample': 0.7} at: http://127.0.0.1:8080/#/experiments/496229470573444753/runs/4d6b8683b0b64357842adf4d305078dc\n",
      "\n",
      "🧪 View experiment at: http://127.0.0.1:8080/#/experiments/496229470573444753   \n",
      "\n",
      "100%|██████████| 5/5 [00:31<00:00,  6.29s/trial, best loss: -0.6537327961539646]\n",
      "🏃 View run xgb-sweep at: http://127.0.0.1:8080/#/experiments/496229470573444753/runs/4d8e35a9664a4e53bc26b62c0ee1420c\n",
      "🧪 View experiment at: http://127.0.0.1:8080/#/experiments/496229470573444753\n"
     ]
    },
    {
     "data": {
      "text/plain": [
       "0.6537327961539646"
      ]
     },
     "execution_count": 196,
     "metadata": {},
     "output_type": "execute_result"
    }
   ],
   "source": [
    "model = RandomForestClassifier\n",
    "run_experiments('rf-sweep', max_evals=max_evals, search_space=search_space_rf, data_name=data_name, model_name = 'RandomForestClassifier', features_names=columns_to_keep)\n",
    "model = SVC\n",
    "run_experiments('svc-sweep', max_evals=max_evals, search_space=search_space_svc, data_name=data_name, model_name = 'SVC', features_names=columns_to_keep)\n",
    "model = LinearSVC\n",
    "run_experiments('svc-linear-sweep', max_evals=max_evals, search_space=search_space_svc_linear, data_name=data_name, model_name = 'LinearSVC', features_names=columns_to_keep)\n",
    "model = xgb.XGBClassifier\n",
    "run_experiments('xgb-sweep', max_evals=max_evals, search_space=search_space_xgb, data_name=data_name, model_name = 'XGBClassifier', features_names=columns_to_keep)"
   ]
  },
  {
   "cell_type": "markdown",
   "id": "adbd3157",
   "metadata": {},
   "source": [
    "## Real + CARLA (100%)"
   ]
  },
  {
   "cell_type": "markdown",
   "id": "9d450501",
   "metadata": {},
   "source": [
    "### Fixed"
   ]
  },
  {
   "cell_type": "code",
   "execution_count": 197,
   "id": "71eb2ef5",
   "metadata": {},
   "outputs": [],
   "source": [
    "# Provide an Experiment description that will appear in the UI\n",
    "experiment_description = (\n",
    "    \"Experiment to train models on the UAH + CARLA Fixed (100%) dataset.\"\n",
    ")\n",
    "\n",
    "# Provide searchable tags that define characteristics of the Runs that\n",
    "# will be in this Experiment\n",
    "experiment_tags = {\n",
    "    \"project_name\": \"driver-behavior-prediction\",\n",
    "    \"mlflow.note.content\": experiment_description,\n",
    "}\n",
    "\n",
    "# Create the Experiment, providing a unique name\n",
    "try:\n",
    "    driver_behavior_experiment = client.create_experiment(\n",
    "        name=\"UAH_CARLA_Fixed_100\", tags=experiment_tags\n",
    "    )\n",
    "except mlflow.exceptions.RestException as e:\n",
    "    print(f\"Experiment already exists: {e}\")"
   ]
  },
  {
   "cell_type": "code",
   "execution_count": 198,
   "id": "2b4d2757",
   "metadata": {},
   "outputs": [],
   "source": [
    "X_train, y_train = X_carla_uah_fixed_100, y_carla_uah_fixed_100\n",
    "\n",
    "scaler = StandardScaler()\n",
    "X_train = scaler.fit_transform(X_train)\n",
    "X_val = scaler.transform(X_val_base)\n",
    "y_train = preprocessor.one_hot_encode(y_train, one_hot_keys=one_hot_keys)\n",
    "\n",
    "signature = infer_signature(X_train, y_train)\n",
    "mlflow.set_experiment('UAH_CARLA_Fixed_100')\n",
    "data_name = 'UAH_CARLA_Fixed_100'"
   ]
  },
  {
   "cell_type": "code",
   "execution_count": 199,
   "id": "f6b7cfb0",
   "metadata": {},
   "outputs": [
    {
     "name": "stdout",
     "output_type": "stream",
     "text": [
      "This will run 5 trials to find optimal hyperparameters...\n",
      "Params: {'max_depth': 50, 'n_estimators': 200}       \n",
      "🏃 View run RandomForestClassifier_{'max_depth': 50, 'n_estimators': 200} at: http://127.0.0.1:8080/#/experiments/194635463440888157/runs/3e27ea3d8f1744daabe510984eb7de4e\n",
      "\n",
      "🧪 View experiment at: http://127.0.0.1:8080/#/experiments/194635463440888157\n",
      "\n",
      "Params: {'max_depth': 50, 'n_estimators': 20}                                   \n",
      "🏃 View run RandomForestClassifier_{'max_depth': 50, 'n_estimators': 20} at: http://127.0.0.1:8080/#/experiments/194635463440888157/runs/e8dcab0d37e846c789e65b0fa0c2afa1\n",
      "\n",
      "🧪 View experiment at: http://127.0.0.1:8080/#/experiments/194635463440888157   \n",
      "\n",
      "Params: {'max_depth': 20, 'n_estimators': 100}                                  \n",
      "🏃 View run RandomForestClassifier_{'max_depth': 20, 'n_estimators': 100} at: http://127.0.0.1:8080/#/experiments/194635463440888157/runs/6f59f5e413c64e9bb26cdba9275785b7\n",
      "\n",
      "🧪 View experiment at: http://127.0.0.1:8080/#/experiments/194635463440888157   \n",
      "\n",
      "Params: {'max_depth': 10, 'n_estimators': 200}                                  \n",
      "🏃 View run RandomForestClassifier_{'max_depth': 10, 'n_estimators': 200} at: http://127.0.0.1:8080/#/experiments/194635463440888157/runs/e614508a893b4d389890c52c0e6e86eb\n",
      "\n",
      "🧪 View experiment at: http://127.0.0.1:8080/#/experiments/194635463440888157   \n",
      "\n",
      "Params: {'max_depth': 5, 'n_estimators': 200}                                   \n",
      "🏃 View run RandomForestClassifier_{'max_depth': 5, 'n_estimators': 200} at: http://127.0.0.1:8080/#/experiments/194635463440888157/runs/7c7f27f8712a4612b3e5c9a988e62e16\n",
      "\n",
      "🧪 View experiment at: http://127.0.0.1:8080/#/experiments/194635463440888157   \n",
      "\n",
      "100%|██████████| 5/5 [01:10<00:00, 14.01s/trial, best loss: -0.6425945650967919]\n",
      "🏃 View run rf-sweep at: http://127.0.0.1:8080/#/experiments/194635463440888157/runs/27958e8e199d4dcc93b488176ec75b49\n",
      "🧪 View experiment at: http://127.0.0.1:8080/#/experiments/194635463440888157\n",
      "This will run 5 trials to find optimal hyperparameters...\n",
      "Params: {'C': 0.01, 'gamma': 10, 'kernel': 'rbf'}    \n",
      "  0%|          | 0/5 [00:00<?, ?trial/s, best loss=?]"
     ]
    },
    {
     "name": "stderr",
     "output_type": "stream",
     "text": [
      "/home/renan/miniconda3/lib/python3.12/site-packages/sklearn/metrics/_classification.py:1565: UndefinedMetricWarning: Precision is ill-defined and being set to 0.0 in labels with no predicted samples. Use `zero_division` parameter to control this behavior.\n",
      "  _warn_prf(average, modifier, f\"{metric.capitalize()} is\", len(result))\n",
      "\n"
     ]
    },
    {
     "name": "stdout",
     "output_type": "stream",
     "text": [
      "🏃 View run SVC_{'C': 0.01, 'gamma': 10, 'kernel': 'rbf'} at: http://127.0.0.1:8080/#/experiments/194635463440888157/runs/b691844c49ba4c64b1674403b39bdb64\n",
      "\n",
      "🧪 View experiment at: http://127.0.0.1:8080/#/experiments/194635463440888157\n",
      "\n",
      "Params: {'C': 0.05, 'gamma': 1, 'kernel': 'rbf'}                                \n",
      " 20%|██        | 1/5 [01:28<05:53, 88.43s/trial, best loss: -0.3335592240143389]"
     ]
    },
    {
     "name": "stderr",
     "output_type": "stream",
     "text": [
      "/home/renan/miniconda3/lib/python3.12/site-packages/sklearn/metrics/_classification.py:1565: UndefinedMetricWarning: Precision is ill-defined and being set to 0.0 in labels with no predicted samples. Use `zero_division` parameter to control this behavior.\n",
      "  _warn_prf(average, modifier, f\"{metric.capitalize()} is\", len(result))\n",
      "\n"
     ]
    },
    {
     "name": "stdout",
     "output_type": "stream",
     "text": [
      "🏃 View run SVC_{'C': 0.05, 'gamma': 1, 'kernel': 'rbf'} at: http://127.0.0.1:8080/#/experiments/194635463440888157/runs/fa55999785204b398cd3b721b55e951a\n",
      "\n",
      "🧪 View experiment at: http://127.0.0.1:8080/#/experiments/194635463440888157   \n",
      "\n",
      "Params: {'C': 0.05, 'gamma': 1, 'kernel': 'rbf'}                                \n",
      " 40%|████      | 2/5 [02:59<04:29, 89.96s/trial, best loss: -0.3335592240143389]"
     ]
    },
    {
     "name": "stderr",
     "output_type": "stream",
     "text": [
      "/home/renan/miniconda3/lib/python3.12/site-packages/sklearn/metrics/_classification.py:1565: UndefinedMetricWarning: Precision is ill-defined and being set to 0.0 in labels with no predicted samples. Use `zero_division` parameter to control this behavior.\n",
      "  _warn_prf(average, modifier, f\"{metric.capitalize()} is\", len(result))\n",
      "\n"
     ]
    },
    {
     "name": "stdout",
     "output_type": "stream",
     "text": [
      "🏃 View run SVC_{'C': 0.05, 'gamma': 1, 'kernel': 'rbf'} at: http://127.0.0.1:8080/#/experiments/194635463440888157/runs/8f88e41220d541f5994252a9c8520237\n",
      "\n",
      "🧪 View experiment at: http://127.0.0.1:8080/#/experiments/194635463440888157   \n",
      "\n",
      "Params: {'C': 0.05, 'gamma': 0.1, 'kernel': 'rbf'}                              \n",
      " 60%|██████    | 3/5 [04:30<03:00, 90.28s/trial, best loss: -0.3335592240143389]"
     ]
    },
    {
     "name": "stderr",
     "output_type": "stream",
     "text": [
      "/home/renan/miniconda3/lib/python3.12/site-packages/sklearn/metrics/_classification.py:1565: UndefinedMetricWarning: Precision is ill-defined and being set to 0.0 in labels with no predicted samples. Use `zero_division` parameter to control this behavior.\n",
      "  _warn_prf(average, modifier, f\"{metric.capitalize()} is\", len(result))\n",
      "\n"
     ]
    },
    {
     "name": "stdout",
     "output_type": "stream",
     "text": [
      "🏃 View run SVC_{'C': 0.05, 'gamma': 0.1, 'kernel': 'rbf'} at: http://127.0.0.1:8080/#/experiments/194635463440888157/runs/71a8b5bc7e674552b9eb95536fb314b6\n",
      "\n",
      "🧪 View experiment at: http://127.0.0.1:8080/#/experiments/194635463440888157   \n",
      "\n",
      "Params: {'C': 0.01, 'gamma': 0.01, 'kernel': 'rbf'}                             \n",
      "🏃 View run SVC_{'C': 0.01, 'gamma': 0.01, 'kernel': 'rbf'} at: http://127.0.0.1:8080/#/experiments/194635463440888157/runs/600b185493cc46aa82448ff977386bc8\n",
      "\n",
      "🧪 View experiment at: http://127.0.0.1:8080/#/experiments/194635463440888157   \n",
      "\n",
      "100%|██████████| 5/5 [05:39<00:00, 67.94s/trial, best loss: -0.4867422728192607]\n",
      "🏃 View run svc-sweep at: http://127.0.0.1:8080/#/experiments/194635463440888157/runs/7c97c7c95ca64d51a2c73986148a44c9\n",
      "🧪 View experiment at: http://127.0.0.1:8080/#/experiments/194635463440888157\n",
      "This will run 5 trials to find optimal hyperparameters...\n",
      "Params: {'C': 0.1}                                   \n",
      "🏃 View run LinearSVC_{'C': 0.1} at: http://127.0.0.1:8080/#/experiments/194635463440888157/runs/49b923b22c9f451caa88277245aa1f7d\n",
      "\n",
      "🧪 View experiment at: http://127.0.0.1:8080/#/experiments/194635463440888157\n",
      "\n",
      "Params: {'C': 0.001}                                                             \n",
      "🏃 View run LinearSVC_{'C': 0.001} at: http://127.0.0.1:8080/#/experiments/194635463440888157/runs/779258cbe9f647d1a21664dfe3c8bd98\n",
      "\n",
      "🧪 View experiment at: http://127.0.0.1:8080/#/experiments/194635463440888157    \n",
      "\n",
      "Params: {'C': 0.01}                                                              \n",
      "🏃 View run LinearSVC_{'C': 0.01} at: http://127.0.0.1:8080/#/experiments/194635463440888157/runs/5ab1e5ba42ae4468acb1be5cf09d0fa4\n",
      "\n",
      "🧪 View experiment at: http://127.0.0.1:8080/#/experiments/194635463440888157    \n",
      "\n",
      "Params: {'C': 0.0001}                                                            \n",
      "🏃 View run LinearSVC_{'C': 0.0001} at: http://127.0.0.1:8080/#/experiments/194635463440888157/runs/94274ed3f6f6466ab72082a98d534652\n",
      "\n",
      "🧪 View experiment at: http://127.0.0.1:8080/#/experiments/194635463440888157    \n",
      "\n",
      "Params: {'C': 0.001}                                                             \n",
      "🏃 View run LinearSVC_{'C': 0.001} at: http://127.0.0.1:8080/#/experiments/194635463440888157/runs/7974378c5ecf46f49fbad10fccbbd765\n",
      "\n",
      "🧪 View experiment at: http://127.0.0.1:8080/#/experiments/194635463440888157    \n",
      "\n",
      "100%|██████████| 5/5 [00:09<00:00,  1.94s/trial, best loss: -0.49202324395568425]\n",
      "🏃 View run svc-linear-sweep at: http://127.0.0.1:8080/#/experiments/194635463440888157/runs/655521133cd6406fb5464acf9becde83\n",
      "🧪 View experiment at: http://127.0.0.1:8080/#/experiments/194635463440888157\n",
      "This will run 5 trials to find optimal hyperparameters...\n",
      "Params: {'colsample_bytree': 0.5, 'learning_rate': 0.2, 'max_depth': None, 'n_estimators': 500, 'subsample': 1.0}\n",
      "🏃 View run XGBClassifier_{'colsample_bytree': 0.5, 'learning_rate': 0.2, 'max_depth': None, 'n_estimators': 500, 'subsample': 1.0} at: http://127.0.0.1:8080/#/experiments/194635463440888157/runs/8416e1f1506c45729eb1bdfd1a25c4ec\n",
      "\n",
      "🧪 View experiment at: http://127.0.0.1:8080/#/experiments/194635463440888157\n",
      "\n",
      "Params: {'colsample_bytree': 0.5, 'learning_rate': 0.1, 'max_depth': 10, 'n_estimators': 500, 'subsample': 0.7}\n",
      "🏃 View run XGBClassifier_{'colsample_bytree': 0.5, 'learning_rate': 0.1, 'max_depth': 10, 'n_estimators': 500, 'subsample': 0.7} at: http://127.0.0.1:8080/#/experiments/194635463440888157/runs/f6581770a736487e818a45fbb48721c2\n",
      "\n",
      "🧪 View experiment at: http://127.0.0.1:8080/#/experiments/194635463440888157   \n",
      "\n",
      "Params: {'colsample_bytree': 0.7, 'learning_rate': 0.01, 'max_depth': 5, 'n_estimators': 200, 'subsample': 0.7}\n",
      "🏃 View run XGBClassifier_{'colsample_bytree': 0.7, 'learning_rate': 0.01, 'max_depth': 5, 'n_estimators': 200, 'subsample': 0.7} at: http://127.0.0.1:8080/#/experiments/194635463440888157/runs/7539b302cf304b7b8be66e76b05ac841\n",
      "\n",
      "🧪 View experiment at: http://127.0.0.1:8080/#/experiments/194635463440888157   \n",
      "\n",
      "Params: {'colsample_bytree': 0.5, 'learning_rate': 0.01, 'max_depth': None, 'n_estimators': 500, 'subsample': 1.0}\n",
      "🏃 View run XGBClassifier_{'colsample_bytree': 0.5, 'learning_rate': 0.01, 'max_depth': None, 'n_estimators': 500, 'subsample': 1.0} at: http://127.0.0.1:8080/#/experiments/194635463440888157/runs/5ae59d2250684b54860d2b622dca2e24\n",
      "\n",
      "🧪 View experiment at: http://127.0.0.1:8080/#/experiments/194635463440888157   \n",
      "\n",
      "Params: {'colsample_bytree': 0.7, 'learning_rate': 0.1, 'max_depth': 10, 'n_estimators': 500, 'subsample': 0.5}\n",
      "🏃 View run XGBClassifier_{'colsample_bytree': 0.7, 'learning_rate': 0.1, 'max_depth': 10, 'n_estimators': 500, 'subsample': 0.5} at: http://127.0.0.1:8080/#/experiments/194635463440888157/runs/5555d410c98040d0bc51e5061f96148d\n",
      "\n",
      "🧪 View experiment at: http://127.0.0.1:8080/#/experiments/194635463440888157   \n",
      "\n",
      "100%|██████████| 5/5 [00:29<00:00,  5.82s/trial, best loss: -0.6479794764266431]\n",
      "🏃 View run xgb-sweep at: http://127.0.0.1:8080/#/experiments/194635463440888157/runs/76e1df1129854b9ebf77d463fa848e3f\n",
      "🧪 View experiment at: http://127.0.0.1:8080/#/experiments/194635463440888157\n"
     ]
    },
    {
     "data": {
      "text/plain": [
       "0.6479794764266431"
      ]
     },
     "execution_count": 199,
     "metadata": {},
     "output_type": "execute_result"
    }
   ],
   "source": [
    "model = RandomForestClassifier\n",
    "run_experiments('rf-sweep', max_evals=max_evals, search_space=search_space_rf, data_name=data_name, model_name = 'RandomForestClassifier', features_names=columns_to_keep)\n",
    "model = SVC\n",
    "run_experiments('svc-sweep', max_evals=max_evals, search_space=search_space_svc, data_name=data_name, model_name = 'SVC', features_names=columns_to_keep)\n",
    "model = LinearSVC\n",
    "run_experiments('svc-linear-sweep', max_evals=max_evals, search_space=search_space_svc_linear, data_name=data_name, model_name = 'LinearSVC', features_names=columns_to_keep)\n",
    "model = xgb.XGBClassifier\n",
    "run_experiments('xgb-sweep', max_evals=max_evals, search_space=search_space_xgb, data_name=data_name, model_name = 'XGBClassifier', features_names=columns_to_keep)"
   ]
  },
  {
   "cell_type": "markdown",
   "id": "953ef358",
   "metadata": {},
   "source": [
    "### LLM"
   ]
  },
  {
   "cell_type": "code",
   "execution_count": 200,
   "id": "2d706fcb",
   "metadata": {},
   "outputs": [],
   "source": [
    "# Provide an Experiment description that will appear in the UI\n",
    "experiment_description = (\n",
    "    \"Experiment to train models on the UAH + CARLA LLM (100%) dataset.\"\n",
    ")\n",
    "\n",
    "# Provide searchable tags that define characteristics of the Runs that\n",
    "# will be in this Experiment\n",
    "experiment_tags = {\n",
    "    \"project_name\": \"driver-behavior-prediction\",\n",
    "    \"mlflow.note.content\": experiment_description,\n",
    "}\n",
    "\n",
    "# Create the Experiment, providing a unique name\n",
    "try:\n",
    "    driver_behavior_experiment = client.create_experiment(\n",
    "        name=\"UAH_CARLA_LLM_100\", tags=experiment_tags\n",
    "    )\n",
    "except mlflow.exceptions.RestException as e:\n",
    "    print(f\"Experiment already exists: {e}\")"
   ]
  },
  {
   "cell_type": "code",
   "execution_count": 201,
   "id": "6ce88d00",
   "metadata": {},
   "outputs": [],
   "source": [
    "X_train, y_train = X_carla_uah_llm_100, y_carla_uah_llm_100\n",
    "\n",
    "scaler = StandardScaler()\n",
    "X_train = scaler.fit_transform(X_train)\n",
    "X_val = scaler.transform(X_val_base)\n",
    "y_train = preprocessor.one_hot_encode(y_train, one_hot_keys=one_hot_keys)\n",
    "\n",
    "signature = infer_signature(X_train, y_train)\n",
    "mlflow.set_experiment('UAH_CARLA_LLM_100')\n",
    "data_name = 'UAH_CARLA_LLM_100'"
   ]
  },
  {
   "cell_type": "code",
   "execution_count": 202,
   "id": "16ef477c",
   "metadata": {},
   "outputs": [
    {
     "name": "stdout",
     "output_type": "stream",
     "text": [
      "This will run 5 trials to find optimal hyperparameters...\n",
      "Params: {'max_depth': 5, 'n_estimators': 50}         \n",
      "🏃 View run RandomForestClassifier_{'max_depth': 5, 'n_estimators': 50} at: http://127.0.0.1:8080/#/experiments/864268533532999312/runs/649a73c456364dfc9a0dd91f4a45b358\n",
      "\n",
      "🧪 View experiment at: http://127.0.0.1:8080/#/experiments/864268533532999312\n",
      "\n",
      "Params: {'max_depth': None, 'n_estimators': 500}                                \n",
      "🏃 View run RandomForestClassifier_{'max_depth': None, 'n_estimators': 500} at: http://127.0.0.1:8080/#/experiments/864268533532999312/runs/859ea31050aa4ebd85b9eccc86e961a1\n",
      "\n",
      "🧪 View experiment at: http://127.0.0.1:8080/#/experiments/864268533532999312   \n",
      "\n",
      "Params: {'max_depth': 5, 'n_estimators': 200}                                   \n",
      "🏃 View run RandomForestClassifier_{'max_depth': 5, 'n_estimators': 200} at: http://127.0.0.1:8080/#/experiments/864268533532999312/runs/5dd614a0b65b4d629724fe2a77ccbce1\n",
      "\n",
      "🧪 View experiment at: http://127.0.0.1:8080/#/experiments/864268533532999312   \n",
      "\n",
      "Params: {'max_depth': 5, 'n_estimators': 500}                                   \n",
      "🏃 View run RandomForestClassifier_{'max_depth': 5, 'n_estimators': 500} at: http://127.0.0.1:8080/#/experiments/864268533532999312/runs/e63fb9aec41e4c778a2ddabb3126cc16\n",
      "\n",
      "🧪 View experiment at: http://127.0.0.1:8080/#/experiments/864268533532999312   \n",
      "\n",
      "Params: {'max_depth': 50, 'n_estimators': 50}                                   \n",
      "🏃 View run RandomForestClassifier_{'max_depth': 50, 'n_estimators': 50} at: http://127.0.0.1:8080/#/experiments/864268533532999312/runs/0a609c47b62c43318b3f0d7dc9f24512\n",
      "\n",
      "🧪 View experiment at: http://127.0.0.1:8080/#/experiments/864268533532999312   \n",
      "\n",
      "100%|██████████| 5/5 [01:47<00:00, 21.41s/trial, best loss: -0.6381513364069122]\n",
      "🏃 View run rf-sweep at: http://127.0.0.1:8080/#/experiments/864268533532999312/runs/e9374fda8cf04ec5beb1f521709e389d\n",
      "🧪 View experiment at: http://127.0.0.1:8080/#/experiments/864268533532999312\n",
      "This will run 5 trials to find optimal hyperparameters...\n",
      "Params: {'C': 0.01, 'gamma': 0.1, 'kernel': 'rbf'}   \n",
      "  0%|          | 0/5 [00:00<?, ?trial/s, best loss=?]"
     ]
    },
    {
     "name": "stderr",
     "output_type": "stream",
     "text": [
      "/home/renan/miniconda3/lib/python3.12/site-packages/sklearn/metrics/_classification.py:1565: UndefinedMetricWarning: Precision is ill-defined and being set to 0.0 in labels with no predicted samples. Use `zero_division` parameter to control this behavior.\n",
      "  _warn_prf(average, modifier, f\"{metric.capitalize()} is\", len(result))\n",
      "\n"
     ]
    },
    {
     "name": "stdout",
     "output_type": "stream",
     "text": [
      "🏃 View run SVC_{'C': 0.01, 'gamma': 0.1, 'kernel': 'rbf'} at: http://127.0.0.1:8080/#/experiments/864268533532999312/runs/1a6af45ef7c94382986ef0a101c16205\n",
      "\n",
      "🧪 View experiment at: http://127.0.0.1:8080/#/experiments/864268533532999312\n",
      "\n",
      "Params: {'C': 0.01, 'gamma': 10, 'kernel': 'rbf'}                               \n",
      " 20%|██        | 1/5 [00:35<02:23, 35.92s/trial, best loss: -0.3335592240143389]"
     ]
    },
    {
     "name": "stderr",
     "output_type": "stream",
     "text": [
      "/home/renan/miniconda3/lib/python3.12/site-packages/sklearn/metrics/_classification.py:1565: UndefinedMetricWarning: Precision is ill-defined and being set to 0.0 in labels with no predicted samples. Use `zero_division` parameter to control this behavior.\n",
      "  _warn_prf(average, modifier, f\"{metric.capitalize()} is\", len(result))\n",
      "\n"
     ]
    },
    {
     "name": "stdout",
     "output_type": "stream",
     "text": [
      "🏃 View run SVC_{'C': 0.01, 'gamma': 10, 'kernel': 'rbf'} at: http://127.0.0.1:8080/#/experiments/864268533532999312/runs/2cbeac2ea1694c67bb4dc9b06ce8dace\n",
      "\n",
      "🧪 View experiment at: http://127.0.0.1:8080/#/experiments/864268533532999312   \n",
      "\n",
      "Params: {'C': 0.1, 'gamma': 0.1, 'kernel': 'rbf'}                               \n",
      "🏃 View run SVC_{'C': 0.1, 'gamma': 0.1, 'kernel': 'rbf'} at: http://127.0.0.1:8080/#/experiments/864268533532999312/runs/42d74c20957f44deb21da62ef6172619\n",
      "\n",
      "🧪 View experiment at: http://127.0.0.1:8080/#/experiments/864268533532999312   \n",
      "\n",
      "Params: {'C': 0.01, 'gamma': 1, 'kernel': 'rbf'}                                 \n",
      " 60%|██████    | 3/5 [02:39<01:44, 52.49s/trial, best loss: -0.35981263484620574]"
     ]
    },
    {
     "name": "stderr",
     "output_type": "stream",
     "text": [
      "/home/renan/miniconda3/lib/python3.12/site-packages/sklearn/metrics/_classification.py:1565: UndefinedMetricWarning: Precision is ill-defined and being set to 0.0 in labels with no predicted samples. Use `zero_division` parameter to control this behavior.\n",
      "  _warn_prf(average, modifier, f\"{metric.capitalize()} is\", len(result))\n",
      "\n"
     ]
    },
    {
     "name": "stdout",
     "output_type": "stream",
     "text": [
      "🏃 View run SVC_{'C': 0.01, 'gamma': 1, 'kernel': 'rbf'} at: http://127.0.0.1:8080/#/experiments/864268533532999312/runs/20d101069c164fa1a2a954c8d613f7f5\n",
      "\n",
      "🧪 View experiment at: http://127.0.0.1:8080/#/experiments/864268533532999312    \n",
      "\n",
      "Params: {'C': 0.01, 'gamma': 0.01, 'kernel': 'rbf'}                              \n",
      "🏃 View run SVC_{'C': 0.01, 'gamma': 0.01, 'kernel': 'rbf'} at: http://127.0.0.1:8080/#/experiments/864268533532999312/runs/15543d33e81e4269a2f82ab72c42ae30\n",
      "\n",
      "🧪 View experiment at: http://127.0.0.1:8080/#/experiments/864268533532999312    \n",
      "\n",
      "100%|██████████| 5/5 [04:22<00:00, 52.56s/trial, best loss: -0.4867422728192607] \n",
      "🏃 View run svc-sweep at: http://127.0.0.1:8080/#/experiments/864268533532999312/runs/b57e83e905e54101acb0d8e0b7006713\n",
      "🧪 View experiment at: http://127.0.0.1:8080/#/experiments/864268533532999312\n",
      "This will run 5 trials to find optimal hyperparameters...\n",
      "Params: {'C': 1}                                     \n",
      "🏃 View run LinearSVC_{'C': 1} at: http://127.0.0.1:8080/#/experiments/864268533532999312/runs/ee53b6bb171e47cdbe503af6656d5337\n",
      "\n",
      "🧪 View experiment at: http://127.0.0.1:8080/#/experiments/864268533532999312\n",
      "\n",
      "Params: {'C': 0.001}                                                            \n",
      "🏃 View run LinearSVC_{'C': 0.001} at: http://127.0.0.1:8080/#/experiments/864268533532999312/runs/c8ffd5067d0e43dba0a33966e28d4442\n",
      "\n",
      "🧪 View experiment at: http://127.0.0.1:8080/#/experiments/864268533532999312   \n",
      "\n",
      "Params: {'C': 0.1}                                                              \n",
      "🏃 View run LinearSVC_{'C': 0.1} at: http://127.0.0.1:8080/#/experiments/864268533532999312/runs/2e198541d6774601863c888205c39fec\n",
      "\n",
      "🧪 View experiment at: http://127.0.0.1:8080/#/experiments/864268533532999312   \n",
      "\n",
      "Params: {'C': 0.001}                                                             \n",
      "🏃 View run LinearSVC_{'C': 0.001} at: http://127.0.0.1:8080/#/experiments/864268533532999312/runs/d674d0b3c33b4f2086aa0a16a21057e4\n",
      "\n",
      "🧪 View experiment at: http://127.0.0.1:8080/#/experiments/864268533532999312    \n",
      "\n",
      "Params: {'C': 0.0001}                                                            \n",
      "🏃 View run LinearSVC_{'C': 0.0001} at: http://127.0.0.1:8080/#/experiments/864268533532999312/runs/b9378be921674eccb190c46f9b67806c\n",
      "\n",
      "🧪 View experiment at: http://127.0.0.1:8080/#/experiments/864268533532999312    \n",
      "\n",
      "100%|██████████| 5/5 [00:10<00:00,  2.07s/trial, best loss: -0.49202324395568425]\n",
      "🏃 View run svc-linear-sweep at: http://127.0.0.1:8080/#/experiments/864268533532999312/runs/8d356bfdb761417ca4f1ca759d3f4a08\n",
      "🧪 View experiment at: http://127.0.0.1:8080/#/experiments/864268533532999312\n",
      "This will run 5 trials to find optimal hyperparameters...\n",
      "Params: {'colsample_bytree': 0.7, 'learning_rate': 0.1, 'max_depth': 10, 'n_estimators': 200, 'subsample': 0.5}\n",
      "🏃 View run XGBClassifier_{'colsample_bytree': 0.7, 'learning_rate': 0.1, 'max_depth': 10, 'n_estimators': 200, 'subsample': 0.5} at: http://127.0.0.1:8080/#/experiments/864268533532999312/runs/2c53a66168ae405b9f5d8e5fec5f93bd\n",
      "\n",
      "🧪 View experiment at: http://127.0.0.1:8080/#/experiments/864268533532999312\n",
      "\n",
      "Params: {'colsample_bytree': 0.7, 'learning_rate': 0.001, 'max_depth': 10, 'n_estimators': 1000, 'subsample': 1.0}\n",
      "🏃 View run XGBClassifier_{'colsample_bytree': 0.7, 'learning_rate': 0.001, 'max_depth': 10, 'n_estimators': 1000, 'subsample': 1.0} at: http://127.0.0.1:8080/#/experiments/864268533532999312/runs/3731b8497dd84acb922516ed3b76167a\n",
      "\n",
      "🧪 View experiment at: http://127.0.0.1:8080/#/experiments/864268533532999312   \n",
      "\n",
      "Params: {'colsample_bytree': 0.5, 'learning_rate': 0.2, 'max_depth': None, 'n_estimators': 700, 'subsample': 1.0}\n",
      "🏃 View run XGBClassifier_{'colsample_bytree': 0.5, 'learning_rate': 0.2, 'max_depth': None, 'n_estimators': 700, 'subsample': 1.0} at: http://127.0.0.1:8080/#/experiments/864268533532999312/runs/4b62db3ca3984429a05f1cf15be35e3e\n",
      "\n",
      "🧪 View experiment at: http://127.0.0.1:8080/#/experiments/864268533532999312   \n",
      "\n",
      "Params: {'colsample_bytree': 0.5, 'learning_rate': 0.1, 'max_depth': 5, 'n_estimators': 500, 'subsample': 1.0}\n",
      "🏃 View run XGBClassifier_{'colsample_bytree': 0.5, 'learning_rate': 0.1, 'max_depth': 5, 'n_estimators': 500, 'subsample': 1.0} at: http://127.0.0.1:8080/#/experiments/864268533532999312/runs/6b4bb478a26d4c4582b2a05a1cf3c918\n",
      "\n",
      "🧪 View experiment at: http://127.0.0.1:8080/#/experiments/864268533532999312   \n",
      "\n",
      "Params: {'colsample_bytree': 0.7, 'learning_rate': 0.3, 'max_depth': 5, 'n_estimators': 1000, 'subsample': 0.7}\n",
      "🏃 View run XGBClassifier_{'colsample_bytree': 0.7, 'learning_rate': 0.3, 'max_depth': 5, 'n_estimators': 1000, 'subsample': 0.7} at: http://127.0.0.1:8080/#/experiments/864268533532999312/runs/54ae5eb6752946ffa5b2b6c74537bad0\n",
      "\n",
      "🧪 View experiment at: http://127.0.0.1:8080/#/experiments/864268533532999312   \n",
      "\n",
      "100%|██████████| 5/5 [00:44<00:00,  8.92s/trial, best loss: -0.6232494004444332]\n",
      "🏃 View run xgb-sweep at: http://127.0.0.1:8080/#/experiments/864268533532999312/runs/a685724baff948f7ad51bbc7e5b8e3c4\n",
      "🧪 View experiment at: http://127.0.0.1:8080/#/experiments/864268533532999312\n"
     ]
    },
    {
     "data": {
      "text/plain": [
       "0.6232494004444332"
      ]
     },
     "execution_count": 202,
     "metadata": {},
     "output_type": "execute_result"
    }
   ],
   "source": [
    "model = RandomForestClassifier\n",
    "run_experiments('rf-sweep', max_evals=max_evals, search_space=search_space_rf, data_name=data_name, model_name = 'RandomForestClassifier', features_names=columns_to_keep)\n",
    "model = SVC\n",
    "run_experiments('svc-sweep', max_evals=max_evals, search_space=search_space_svc, data_name=data_name, model_name = 'SVC', features_names=columns_to_keep)\n",
    "model = LinearSVC\n",
    "run_experiments('svc-linear-sweep', max_evals=max_evals, search_space=search_space_svc_linear, data_name=data_name, model_name = 'LinearSVC', features_names=columns_to_keep)\n",
    "model = xgb.XGBClassifier\n",
    "run_experiments('xgb-sweep', max_evals=max_evals, search_space=search_space_xgb, data_name=data_name, model_name = 'XGBClassifier', features_names=columns_to_keep)"
   ]
  }
 ],
 "metadata": {
  "kernelspec": {
   "display_name": "base",
   "language": "python",
   "name": "python3"
  },
  "language_info": {
   "codemirror_mode": {
    "name": "ipython",
    "version": 3
   },
   "file_extension": ".py",
   "mimetype": "text/x-python",
   "name": "python",
   "nbconvert_exporter": "python",
   "pygments_lexer": "ipython3",
   "version": "3.12.2"
  }
 },
 "nbformat": 4,
 "nbformat_minor": 5
}
