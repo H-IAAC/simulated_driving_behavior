{
 "cells": [
  {
   "cell_type": "markdown",
   "id": "ea04c5c6",
   "metadata": {},
   "source": [
    "This notebook is used to train the models using `MLFLow`, if you want to see the results for the best models, refer to the `4_evaluation` notebook."
   ]
  },
  {
   "cell_type": "code",
   "execution_count": 1,
   "id": "3e2af455",
   "metadata": {},
   "outputs": [],
   "source": [
    "import os\n",
    "\n",
    "import mlflow\n",
    "from sklearn.model_selection import train_test_split\n",
    "from mlflow.models import infer_signature\n",
    "from hyperopt import fmin, tpe, hp, STATUS_OK, Trials\n",
    "from sklearn.ensemble import RandomForestClassifier\n",
    "from sklearn.svm import SVC, LinearSVC\n",
    "from sklearn.metrics import f1_score, accuracy_score, recall_score, precision_score, log_loss\n",
    "import pandas as pd\n",
    "import numpy as np\n",
    "import xgboost as xgb\n",
    "from sklearn.preprocessing import StandardScaler\n",
    "from functools import partial\n",
    "\n",
    "os.sys.path.append(os.path.abspath('../src'))\n",
    "from data import loader\n",
    "from data import preprocessor\n",
    "\n",
    "mapname = 'Town01'"
   ]
  },
  {
   "cell_type": "code",
   "execution_count": 2,
   "id": "8dc66672",
   "metadata": {},
   "outputs": [],
   "source": [
    "def create_and_train_model(model, args):\n",
    "    \"\"\"\n",
    "    Function to create and train a model with given parameters.\n",
    "\n",
    "    Args:\n",
    "        model: The model to be trained.\n",
    "        args: Arguments for training the model.\n",
    "\n",
    "    Returns:\n",
    "        result: The result of the training process.\n",
    "    \"\"\"\n",
    "    result = {}\n",
    "    # Train model with current hyperparameters\n",
    "    print(f\"Params: {args}\")\n",
    "    md = model(**args)\n",
    "    md.fit(X_train, y_train)\n",
    "    # Predict on the validation set\n",
    "    y_pred = md.predict(X_val)\n",
    "    # Log training results\n",
    "    result[\"f1_score\"] = f1_score(y_val, y_pred, average='weighted')\n",
    "    result[\"accuracy\"] = accuracy_score(y_val, y_pred)\n",
    "    result[\"recall\"] = recall_score(y_val, y_pred, average='weighted')\n",
    "    result[\"precision\"] = precision_score(y_val, y_pred, average='weighted')\n",
    "    result[\"model\"] = md\n",
    "\n",
    "    return result"
   ]
  },
  {
   "cell_type": "code",
   "execution_count": 3,
   "id": "2cf70def",
   "metadata": {},
   "outputs": [],
   "source": [
    "def objective(params, model_name):\n",
    "    \"\"\"\n",
    "    Objective function for hyperparameter optimization.\n",
    "    This function will be called by Hyperopt for each trial.\n",
    "    \"\"\"\n",
    "    with mlflow.start_run(nested=True, run_name=f\"{model_name}_{params}\"):\n",
    "        # Log hyperparameters being tested\n",
    "        mlflow.log_params(params)\n",
    "\n",
    "        # Train model with current hyperparameters\n",
    "        result = create_and_train_model(\n",
    "            model,\n",
    "            args=params\n",
    "        )\n",
    "\n",
    "        # Log training results\n",
    "        mlflow.log_metrics(\n",
    "            {\n",
    "                \"accuracy\": result[\"accuracy\"],\n",
    "                \"recall\": result[\"recall\"],\n",
    "                \"precision\": result[\"precision\"],\n",
    "                \"f1_score\": result[\"f1_score\"],\n",
    "            }\n",
    "        )\n",
    "\n",
    "        # Log the trained model\n",
    "        mlflow.sklearn.log_model(\n",
    "            result[\"model\"], name=model_name, signature=signature)\n",
    "\n",
    "        # Return loss for Hyperopt (it minimizes)\n",
    "        return {\"loss\": -result[\"f1_score\"], \"status\": STATUS_OK, \"model\": f'{model_name}_{params}'}"
   ]
  },
  {
   "cell_type": "code",
   "execution_count": 4,
   "id": "1c8c77ae",
   "metadata": {},
   "outputs": [],
   "source": [
    "def run_experiments(run_name, max_evals, search_space, data_name, features_names, model_name):\n",
    "    # Create or set experiment\n",
    "\n",
    "    print(\n",
    "        f\"This will run {max_evals} trials to find optimal hyperparameters...\")\n",
    "\n",
    "    with mlflow.start_run(run_name=run_name):\n",
    "\n",
    "        mlflow.set_tag(\"model_type\", model_name)\n",
    "\n",
    "        # Log experiment metadata\n",
    "        mlflow.log_params(\n",
    "            {\n",
    "                \"optimization_method\": \"Tree-structured Parzen Estimator (TPE)\",\n",
    "                \"max_evaluations\": max_evals,\n",
    "                \"objective_metric\": \"log_loss\",\n",
    "                \"dataset\": data_name,\n",
    "                \"features\": features_names,\n",
    "            }\n",
    "        )\n",
    "\n",
    "        # Run optimization\n",
    "        trials = Trials()\n",
    "        objective_with_name = partial(objective, model_name=model_name)\n",
    "\n",
    "        best_params = fmin(\n",
    "            fn=objective_with_name,\n",
    "            space=search_space,\n",
    "            algo=tpe.suggest,\n",
    "            max_evals=max_evals,\n",
    "            trials=trials,\n",
    "            verbose=True,\n",
    "        )\n",
    "\n",
    "        # Find and log best results\n",
    "        best_trial = min(trials.results, key=lambda x: x[\"loss\"])\n",
    "        best_f1_score = -best_trial[\"loss\"]\n",
    "\n",
    "        # Log optimization results\n",
    "        mlflow.log_params(best_params)\n",
    "        mlflow.log_params({\"best_model\": best_trial[\"model\"]})\n",
    "        mlflow.log_metrics(\n",
    "            {\n",
    "                \"best_f1_score\": best_f1_score,\n",
    "                \"total_trials\": len(trials.trials),\n",
    "                \"optimization_completed\": 1,\n",
    "            }\n",
    "        )\n",
    "\n",
    "    return best_f1_score \n"
   ]
  },
  {
   "cell_type": "code",
   "execution_count": 5,
   "id": "cb3963a0",
   "metadata": {},
   "outputs": [],
   "source": [
    "client = mlflow.tracking.MlflowClient(\"http://127.0.0.1:8080\")\n",
    "mlflow.set_tracking_uri(\"http://127.0.0.1:8080\")"
   ]
  },
  {
   "cell_type": "markdown",
   "id": "d7abae7f",
   "metadata": {},
   "source": [
    "## Preparing the Data"
   ]
  },
  {
   "cell_type": "code",
   "execution_count": 6,
   "id": "3bb894a0",
   "metadata": {},
   "outputs": [],
   "source": [
    "data_path = '../data'\n",
    "uah_training = pd.read_csv(f'{data_path}/base/training_set_uah.csv')\n",
    "uah_validation = pd.read_csv(f'{data_path}/base/validation_set_uah.csv')\n",
    "\n",
    "carla_fixed = pd.read_csv(f'{data_path}/merged/{mapname}/carla/carla_fixed.csv').drop(columns=['origin'])\n",
    "carla_llm = pd.read_csv(f'{data_path}/merged/{mapname}/carla/carla_llm.csv').drop(columns=['origin'])\n",
    "\n",
    "sumo_fixed = pd.read_csv(f'{data_path}/merged/{mapname}/sumo/sumo_fixed.csv').drop(columns=['origin'])\n",
    "sumo_llm = pd.read_csv(f'{data_path}/merged/{mapname}/sumo/sumo_llm.csv').drop(columns=['origin'])\n",
    "\n",
    "carla_uah_fixed = pd.read_csv(f'{data_path}/merged/{mapname}/carla_uah/carla_uah_fixed.csv')\n",
    "carla_uah_llm = pd.read_csv(f'{data_path}/merged/{mapname}/carla_uah/carla_uah_llm.csv')\n",
    "\n",
    "sumo_uah_fixed = pd.read_csv(f'{data_path}/merged/{mapname}/sumo_uah/sumo_uah_fixed.csv')\n",
    "sumo_uah_llm = pd.read_csv(f'{data_path}/merged/{mapname}/sumo_uah/sumo_uah_llm.csv')"
   ]
  },
  {
   "cell_type": "code",
   "execution_count": 7,
   "id": "95fa01a5",
   "metadata": {},
   "outputs": [],
   "source": [
    "sumo_columns_to_keep = sumo_fixed.columns.tolist()\n",
    "carla_columns_to_keep = carla_fixed.columns.tolist()"
   ]
  },
  {
   "cell_type": "code",
   "execution_count": 8,
   "id": "0b2b12e2",
   "metadata": {},
   "outputs": [],
   "source": [
    "window_size = 10\n",
    "step_size = 5\n",
    "one_hot_keys = {\n",
    "    'normal': 0,\n",
    "    'aggressive': 1\n",
    "}"
   ]
  },
  {
   "cell_type": "markdown",
   "id": "b210c607",
   "metadata": {},
   "source": [
    "Defining the search space for each model"
   ]
  },
  {
   "cell_type": "code",
   "execution_count": 9,
   "id": "d88856f4",
   "metadata": {},
   "outputs": [],
   "source": [
    "max_evals = 5\n",
    "\n",
    "search_space_rf = {\n",
    "    \"n_estimators\": hp.choice(\"n_estimators\", [20, 50, 100, 200, 500]),\n",
    "    \"max_depth\": hp.choice(\"max_depth\", [None, 5, 10, 20, 50]),\n",
    "    \"random_state\": 42,\n",
    "}\n",
    "search_space_svc = {\n",
    "    \"C\": hp.choice(\"C\", [0.01, 0.05, 0.1, 0.5, 1]),  # Regularization parameter\n",
    "    \"kernel\": hp.choice(\"kernel\", [\"rbf\"]),  # Kernel type\n",
    "    \"gamma\": hp.choice(\"gamma\", [0.001, 0.01, 0.1, 1, 10]),  # Kernel coefficient for 'rbf', 'poly', and 'sigmoid'\n",
    "}\n",
    "search_space_svc_linear = {\n",
    "    \"C\": hp.choice(\"C\", [10**-4, 10**-3, 10**-2, 0.1, 1])  # Regularization parameter\n",
    "}\n",
    "search_space_xgb = {\n",
    "    \"n_estimators\": hp.choice(\"n_estimators\", [200, 500, 700, 1000]),\n",
    "    \"max_depth\": hp.choice(\"max_depth\", [None, 5, 10]),\n",
    "    \"learning_rate\": hp.choice(\"learning_rate\", [0.001, 0.01, 0.1, 0.2, 0.3]),  # Learning rate\n",
    "    \"subsample\": hp.choice(\"subsample\", [0.5, 0.7, 1.0]),  # Subsample ratio of the training instances\n",
    "    \"colsample_bytree\": hp.choice(\"colsample_bytree\", [0.5, 0.7, 1.0]),  # Subsample ratio of columns when constructing each tree\n",
    "}"
   ]
  },
  {
   "cell_type": "markdown",
   "id": "b9bfe165",
   "metadata": {},
   "source": [
    "# Train on Real test on Synthetic"
   ]
  },
  {
   "cell_type": "markdown",
   "id": "b177f276",
   "metadata": {},
   "source": [
    "By training a model on real data and testing on synthetic data, we verify synthetic data’s fidelity with the real-world."
   ]
  },
  {
   "cell_type": "markdown",
   "id": "b448fee4",
   "metadata": {},
   "source": [
    "## SUMO"
   ]
  },
  {
   "cell_type": "code",
   "execution_count": 10,
   "id": "648199c0",
   "metadata": {},
   "outputs": [],
   "source": [
    "X_train, y_train = preprocessor.sliding_windows(uah_training[sumo_columns_to_keep], window_size=10, step_size=5)\n",
    "y_train = preprocessor.one_hot_encode(y_train, one_hot_keys)\n",
    "signature = infer_signature(X_train, y_train)"
   ]
  },
  {
   "cell_type": "markdown",
   "id": "a7e8a837",
   "metadata": {},
   "source": [
    "### Fixed"
   ]
  },
  {
   "cell_type": "code",
   "execution_count": 11,
   "id": "cea94fc4",
   "metadata": {},
   "outputs": [],
   "source": [
    "# Provide an Experiment description that will appear in the UI\n",
    "experiment_description = (\n",
    "    \"Experiment to TRTS on SUMO Fixed data.\"\n",
    ")\n",
    "\n",
    "# Provide searchable tags that define characteristics of the Runs that\n",
    "# will be in this Experiment\n",
    "experiment_tags = {\n",
    "    \"project_name\": \"driver-behavior-prediction\",\n",
    "    \"mlflow.note.content\": experiment_description,\n",
    "}\n",
    "\n",
    "# Create the Experiment, providing a unique name\n",
    "try:\n",
    "    driver_behavior_experiment = client.create_experiment(\n",
    "        name=\"TRTS_SUMO_Fixed\", tags=experiment_tags\n",
    "    )\n",
    "except mlflow.exceptions.RestException as e:\n",
    "    print(f\"Experiment already exists: {e}\")"
   ]
  },
  {
   "cell_type": "code",
   "execution_count": 12,
   "id": "454ba591",
   "metadata": {},
   "outputs": [],
   "source": [
    "X_val, y_val = preprocessor.sliding_windows(sumo_fixed, window_size=10, step_size=5)\n",
    "y_val = preprocessor.one_hot_encode(y_val, one_hot_keys)\n",
    "\n",
    "mlflow.set_experiment('TRTS_SUMO_Fixed')\n",
    "data_name = 'TRTS_SUMO_Fixed'"
   ]
  },
  {
   "cell_type": "code",
   "execution_count": 13,
   "id": "2de38d07",
   "metadata": {},
   "outputs": [
    {
     "name": "stdout",
     "output_type": "stream",
     "text": [
      "This will run 5 trials to find optimal hyperparameters...\n",
      "Params: {'max_depth': 50, 'n_estimators': 20, 'random_state': 42}\n",
      "🏃 View run RandomForestClassifier_{'max_depth': 50, 'n_estimators': 20, 'random_state': 42} at: http://127.0.0.1:8080/#/experiments/691238700685919333/runs/d1f2b878a0484266bb08ba7a00144d08\n",
      "\n",
      "🧪 View experiment at: http://127.0.0.1:8080/#/experiments/691238700685919333\n",
      "\n",
      "Params: {'max_depth': 50, 'n_estimators': 20, 'random_state': 42}                \n",
      "🏃 View run RandomForestClassifier_{'max_depth': 50, 'n_estimators': 20, 'random_state': 42} at: http://127.0.0.1:8080/#/experiments/691238700685919333/runs/8c23b125639640c9b5a0328bcba6c81f\n",
      "\n",
      "🧪 View experiment at: http://127.0.0.1:8080/#/experiments/691238700685919333    \n",
      "\n",
      "Params: {'max_depth': None, 'n_estimators': 200, 'random_state': 42}             \n",
      "🏃 View run RandomForestClassifier_{'max_depth': None, 'n_estimators': 200, 'random_state': 42} at: http://127.0.0.1:8080/#/experiments/691238700685919333/runs/54b6ddd4d7504bbb8f42559486656238\n",
      "\n",
      "🧪 View experiment at: http://127.0.0.1:8080/#/experiments/691238700685919333    \n",
      "\n",
      "Params: {'max_depth': 50, 'n_estimators': 100, 'random_state': 42}               \n",
      "🏃 View run RandomForestClassifier_{'max_depth': 50, 'n_estimators': 100, 'random_state': 42} at: http://127.0.0.1:8080/#/experiments/691238700685919333/runs/7883ec2da33147179bc96ccd4d7bb90d\n",
      "\n",
      "🧪 View experiment at: http://127.0.0.1:8080/#/experiments/691238700685919333   \n",
      "\n",
      "Params: {'max_depth': 5, 'n_estimators': 100, 'random_state': 42}                \n",
      "🏃 View run RandomForestClassifier_{'max_depth': 5, 'n_estimators': 100, 'random_state': 42} at: http://127.0.0.1:8080/#/experiments/691238700685919333/runs/f7cd45b5ab3c4a2492da504496e0e622\n",
      "\n",
      "🧪 View experiment at: http://127.0.0.1:8080/#/experiments/691238700685919333    \n",
      "\n",
      "100%|██████████| 5/5 [00:47<00:00,  9.55s/trial, best loss: -0.4694623092116594] \n",
      "🏃 View run trts-rf-sweep at: http://127.0.0.1:8080/#/experiments/691238700685919333/runs/37bde58a3c8f44a8b82f28e7cd130292\n",
      "🧪 View experiment at: http://127.0.0.1:8080/#/experiments/691238700685919333\n",
      "This will run 5 trials to find optimal hyperparameters...\n",
      "Params: {'C': 0.1, 'gamma': 0.1, 'kernel': 'rbf'}    \n",
      "🏃 View run SVC_{'C': 0.1, 'gamma': 0.1, 'kernel': 'rbf'} at: http://127.0.0.1:8080/#/experiments/691238700685919333/runs/62b7b83abac44f9b8a87de050760ff54\n",
      "\n",
      "🧪 View experiment at: http://127.0.0.1:8080/#/experiments/691238700685919333\n",
      "\n",
      "Params: {'C': 1, 'gamma': 1, 'kernel': 'rbf'}                                    \n",
      "🏃 View run SVC_{'C': 1, 'gamma': 1, 'kernel': 'rbf'} at: http://127.0.0.1:8080/#/experiments/691238700685919333/runs/b010984b4a6f4095b6c1d21fd0670b65\n",
      "\n",
      "🧪 View experiment at: http://127.0.0.1:8080/#/experiments/691238700685919333    \n",
      "\n",
      "Params: {'C': 0.1, 'gamma': 1, 'kernel': 'rbf'}                                  \n",
      " 40%|████      | 2/5 [02:36<04:09, 83.14s/trial, best loss: -0.32535705835327683]"
     ]
    },
    {
     "name": "stderr",
     "output_type": "stream",
     "text": [
      "/home/renan/miniconda3/lib/python3.12/site-packages/sklearn/metrics/_classification.py:1565: UndefinedMetricWarning: Precision is ill-defined and being set to 0.0 in labels with no predicted samples. Use `zero_division` parameter to control this behavior.\n",
      "  _warn_prf(average, modifier, f\"{metric.capitalize()} is\", len(result))\n",
      "\n"
     ]
    },
    {
     "name": "stdout",
     "output_type": "stream",
     "text": [
      "🏃 View run SVC_{'C': 0.1, 'gamma': 1, 'kernel': 'rbf'} at: http://127.0.0.1:8080/#/experiments/691238700685919333/runs/8476c277c090461fba3d9f634b977a29\n",
      "\n",
      "🧪 View experiment at: http://127.0.0.1:8080/#/experiments/691238700685919333    \n",
      "\n",
      "Params: {'C': 0.1, 'gamma': 1, 'kernel': 'rbf'}                                  \n",
      " 60%|██████    | 3/5 [04:09<02:55, 87.74s/trial, best loss: -0.32535705835327683]"
     ]
    },
    {
     "name": "stderr",
     "output_type": "stream",
     "text": [
      "/home/renan/miniconda3/lib/python3.12/site-packages/sklearn/metrics/_classification.py:1565: UndefinedMetricWarning: Precision is ill-defined and being set to 0.0 in labels with no predicted samples. Use `zero_division` parameter to control this behavior.\n",
      "  _warn_prf(average, modifier, f\"{metric.capitalize()} is\", len(result))\n",
      "\n"
     ]
    },
    {
     "name": "stdout",
     "output_type": "stream",
     "text": [
      "🏃 View run SVC_{'C': 0.1, 'gamma': 1, 'kernel': 'rbf'} at: http://127.0.0.1:8080/#/experiments/691238700685919333/runs/b04d978f22b24090b2af3772369762a9\n",
      "\n",
      "🧪 View experiment at: http://127.0.0.1:8080/#/experiments/691238700685919333    \n",
      "\n",
      "Params: {'C': 0.5, 'gamma': 10, 'kernel': 'rbf'}                                 \n",
      " 80%|████████  | 4/5 [05:25<01:23, 83.08s/trial, best loss: -0.32535705835327683]"
     ]
    },
    {
     "name": "stderr",
     "output_type": "stream",
     "text": [
      "/home/renan/miniconda3/lib/python3.12/site-packages/sklearn/metrics/_classification.py:1565: UndefinedMetricWarning: Precision is ill-defined and being set to 0.0 in labels with no predicted samples. Use `zero_division` parameter to control this behavior.\n",
      "  _warn_prf(average, modifier, f\"{metric.capitalize()} is\", len(result))\n",
      "\n"
     ]
    },
    {
     "name": "stdout",
     "output_type": "stream",
     "text": [
      "🏃 View run SVC_{'C': 0.5, 'gamma': 10, 'kernel': 'rbf'} at: http://127.0.0.1:8080/#/experiments/691238700685919333/runs/dfa65d4940b34a97beb1bd93409c6d4b\n",
      "\n",
      "🧪 View experiment at: http://127.0.0.1:8080/#/experiments/691238700685919333    \n",
      "\n",
      "100%|██████████| 5/5 [07:09<00:00, 85.86s/trial, best loss: -0.32535705835327683]\n",
      "🏃 View run trts-svc-sweep at: http://127.0.0.1:8080/#/experiments/691238700685919333/runs/25bcbb8206f343afba0daa6ef7c319ac\n",
      "🧪 View experiment at: http://127.0.0.1:8080/#/experiments/691238700685919333\n",
      "This will run 5 trials to find optimal hyperparameters...\n",
      "Params: {'colsample_bytree': 1.0, 'learning_rate': 0.2, 'max_depth': None, 'n_estimators': 700, 'subsample': 1.0}\n",
      "🏃 View run XGBClassifier_{'colsample_bytree': 1.0, 'learning_rate': 0.2, 'max_depth': None, 'n_estimators': 700, 'subsample': 1.0} at: http://127.0.0.1:8080/#/experiments/691238700685919333/runs/d3499120bc1e462aabc3b17a3a8dc56b\n",
      "\n",
      "🧪 View experiment at: http://127.0.0.1:8080/#/experiments/691238700685919333\n",
      "\n",
      "Params: {'colsample_bytree': 1.0, 'learning_rate': 0.001, 'max_depth': None, 'n_estimators': 200, 'subsample': 1.0}\n",
      " 20%|██        | 1/5 [00:04<00:17,  4.49s/trial, best loss: -0.35624483634098114]"
     ]
    },
    {
     "name": "stderr",
     "output_type": "stream",
     "text": [
      "/home/renan/miniconda3/lib/python3.12/site-packages/sklearn/metrics/_classification.py:1565: UndefinedMetricWarning: Precision is ill-defined and being set to 0.0 in labels with no predicted samples. Use `zero_division` parameter to control this behavior.\n",
      "  _warn_prf(average, modifier, f\"{metric.capitalize()} is\", len(result))\n",
      "\n"
     ]
    },
    {
     "name": "stdout",
     "output_type": "stream",
     "text": [
      "🏃 View run XGBClassifier_{'colsample_bytree': 1.0, 'learning_rate': 0.001, 'max_depth': None, 'n_estimators': 200, 'subsample': 1.0} at: http://127.0.0.1:8080/#/experiments/691238700685919333/runs/71b44a5d2fc3412d8a344b592d228f83\n",
      "\n",
      "🧪 View experiment at: http://127.0.0.1:8080/#/experiments/691238700685919333    \n",
      "\n",
      "Params: {'colsample_bytree': 1.0, 'learning_rate': 0.01, 'max_depth': 10, 'n_estimators': 1000, 'subsample': 0.5}\n",
      "🏃 View run XGBClassifier_{'colsample_bytree': 1.0, 'learning_rate': 0.01, 'max_depth': 10, 'n_estimators': 1000, 'subsample': 0.5} at: http://127.0.0.1:8080/#/experiments/691238700685919333/runs/056b700c94ba4c2eb62d13eeed310861\n",
      "\n",
      "🧪 View experiment at: http://127.0.0.1:8080/#/experiments/691238700685919333    \n",
      "\n",
      "Params: {'colsample_bytree': 1.0, 'learning_rate': 0.3, 'max_depth': None, 'n_estimators': 700, 'subsample': 0.5}\n",
      "🏃 View run XGBClassifier_{'colsample_bytree': 1.0, 'learning_rate': 0.3, 'max_depth': None, 'n_estimators': 700, 'subsample': 0.5} at: http://127.0.0.1:8080/#/experiments/691238700685919333/runs/7282919b4b7648bf8fbcd46067e13e93\n",
      "\n",
      "🧪 View experiment at: http://127.0.0.1:8080/#/experiments/691238700685919333   \n",
      "\n",
      "Params: {'colsample_bytree': 1.0, 'learning_rate': 0.3, 'max_depth': 10, 'n_estimators': 1000, 'subsample': 1.0}\n",
      "🏃 View run XGBClassifier_{'colsample_bytree': 1.0, 'learning_rate': 0.3, 'max_depth': 10, 'n_estimators': 1000, 'subsample': 1.0} at: http://127.0.0.1:8080/#/experiments/691238700685919333/runs/5e5fb43d13ca49f7805d794077ded6dc\n",
      "\n",
      "🧪 View experiment at: http://127.0.0.1:8080/#/experiments/691238700685919333   \n",
      "\n",
      "100%|██████████| 5/5 [00:32<00:00,  6.45s/trial, best loss: -0.4628341944440826]\n",
      "🏃 View run trts-xgb-sweep at: http://127.0.0.1:8080/#/experiments/691238700685919333/runs/2eaf9ff1324b4020a2411cb782b0741c\n",
      "🧪 View experiment at: http://127.0.0.1:8080/#/experiments/691238700685919333\n"
     ]
    },
    {
     "data": {
      "text/plain": [
       "0.4628341944440826"
      ]
     },
     "execution_count": 13,
     "metadata": {},
     "output_type": "execute_result"
    }
   ],
   "source": [
    "model = RandomForestClassifier\n",
    "run_experiments('trts-rf-sweep', max_evals=max_evals, search_space=search_space_rf, data_name=data_name, model_name = 'RandomForestClassifier', features_names=sumo_columns_to_keep)\n",
    "model = SVC\n",
    "run_experiments('trts-svc-sweep', max_evals=max_evals, search_space=search_space_svc, data_name=data_name, model_name = 'SVC', features_names=sumo_columns_to_keep)\n",
    "model = xgb.XGBClassifier\n",
    "run_experiments('trts-xgb-sweep', max_evals=max_evals, search_space=search_space_xgb, data_name=data_name, model_name = 'XGBClassifier', features_names=sumo_columns_to_keep)"
   ]
  },
  {
   "cell_type": "markdown",
   "id": "60e89ace",
   "metadata": {},
   "source": [
    "### LLM"
   ]
  },
  {
   "cell_type": "code",
   "execution_count": 14,
   "id": "e70ee9fd",
   "metadata": {},
   "outputs": [],
   "source": [
    "# Provide an Experiment description that will appear in the UI\n",
    "experiment_description = (\n",
    "    \"Experiment to TRTS on SUMO LLM data.\"\n",
    ")\n",
    "\n",
    "# Provide searchable tags that define characteristics of the Runs that\n",
    "# will be in this Experiment\n",
    "experiment_tags = {\n",
    "    \"project_name\": \"driver-behavior-prediction\",\n",
    "    \"mlflow.note.content\": experiment_description,\n",
    "}\n",
    "\n",
    "# Create the Experiment, providing a unique name\n",
    "try:\n",
    "    driver_behavior_experiment = client.create_experiment(\n",
    "        name=\"TRTS_SUMO_LLM\", tags=experiment_tags\n",
    "    )\n",
    "except mlflow.exceptions.RestException as e:\n",
    "    print(f\"Experiment already exists: {e}\")"
   ]
  },
  {
   "cell_type": "code",
   "execution_count": 15,
   "id": "a56d8a26",
   "metadata": {},
   "outputs": [],
   "source": [
    "X_val, y_val = preprocessor.sliding_windows(sumo_llm, window_size=10, step_size=5)\n",
    "y_val = preprocessor.one_hot_encode(y_val, one_hot_keys)\n",
    "\n",
    "mlflow.set_experiment('TRTS_SUMO_LLM')\n",
    "data_name = 'TRTS_SUMO_LLM'"
   ]
  },
  {
   "cell_type": "code",
   "execution_count": 16,
   "id": "7b2d5e54",
   "metadata": {},
   "outputs": [
    {
     "name": "stdout",
     "output_type": "stream",
     "text": [
      "This will run 5 trials to find optimal hyperparameters...\n",
      "Params: {'max_depth': 20, 'n_estimators': 500, 'random_state': 42}\n",
      "🏃 View run RandomForestClassifier_{'max_depth': 20, 'n_estimators': 500, 'random_state': 42} at: http://127.0.0.1:8080/#/experiments/809324753489057368/runs/022b2d2f95c341589b4c8036506d65c0\n",
      "\n",
      "🧪 View experiment at: http://127.0.0.1:8080/#/experiments/809324753489057368\n",
      "\n",
      "Params: {'max_depth': 50, 'n_estimators': 500, 'random_state': 42}              \n",
      "🏃 View run RandomForestClassifier_{'max_depth': 50, 'n_estimators': 500, 'random_state': 42} at: http://127.0.0.1:8080/#/experiments/809324753489057368/runs/067804f43fd44201a680cecae695cae1\n",
      "\n",
      "🧪 View experiment at: http://127.0.0.1:8080/#/experiments/809324753489057368   \n",
      "\n",
      "Params: {'max_depth': 50, 'n_estimators': 100, 'random_state': 42}              \n",
      "🏃 View run RandomForestClassifier_{'max_depth': 50, 'n_estimators': 100, 'random_state': 42} at: http://127.0.0.1:8080/#/experiments/809324753489057368/runs/464726469ba64a20a1d0131aeae7af38\n",
      "\n",
      "🧪 View experiment at: http://127.0.0.1:8080/#/experiments/809324753489057368   \n",
      "\n",
      "Params: {'max_depth': 50, 'n_estimators': 500, 'random_state': 42}              \n",
      "🏃 View run RandomForestClassifier_{'max_depth': 50, 'n_estimators': 500, 'random_state': 42} at: http://127.0.0.1:8080/#/experiments/809324753489057368/runs/ef88dc772131428c95d8790aa3f4733c\n",
      "\n",
      "🧪 View experiment at: http://127.0.0.1:8080/#/experiments/809324753489057368   \n",
      "\n",
      "Params: {'max_depth': 5, 'n_estimators': 20, 'random_state': 42}                \n",
      "🏃 View run RandomForestClassifier_{'max_depth': 5, 'n_estimators': 20, 'random_state': 42} at: http://127.0.0.1:8080/#/experiments/809324753489057368/runs/7fa27fc2513b4203bf51fffb20f7e178\n",
      "\n",
      "🧪 View experiment at: http://127.0.0.1:8080/#/experiments/809324753489057368   \n",
      "\n",
      "100%|██████████| 5/5 [02:52<00:00, 34.42s/trial, best loss: -0.4905610396677227]\n",
      "🏃 View run trts-rf-sweep at: http://127.0.0.1:8080/#/experiments/809324753489057368/runs/02a09e2181d64eaca47b96ccbc23a8ff\n",
      "🧪 View experiment at: http://127.0.0.1:8080/#/experiments/809324753489057368\n",
      "This will run 5 trials to find optimal hyperparameters...\n",
      "Params: {'C': 0.01, 'gamma': 10, 'kernel': 'rbf'}    \n",
      "  0%|          | 0/5 [00:00<?, ?trial/s, best loss=?]"
     ]
    },
    {
     "name": "stderr",
     "output_type": "stream",
     "text": [
      "/home/renan/miniconda3/lib/python3.12/site-packages/sklearn/metrics/_classification.py:1565: UndefinedMetricWarning: Precision is ill-defined and being set to 0.0 in labels with no predicted samples. Use `zero_division` parameter to control this behavior.\n",
      "  _warn_prf(average, modifier, f\"{metric.capitalize()} is\", len(result))\n",
      "\n"
     ]
    },
    {
     "name": "stdout",
     "output_type": "stream",
     "text": [
      "🏃 View run SVC_{'C': 0.01, 'gamma': 10, 'kernel': 'rbf'} at: http://127.0.0.1:8080/#/experiments/809324753489057368/runs/156c82c20e1947b2a6bd807ede8bb54b\n",
      "\n",
      "🧪 View experiment at: http://127.0.0.1:8080/#/experiments/809324753489057368\n",
      "\n",
      "Params: {'C': 0.01, 'gamma': 1, 'kernel': 'rbf'}                               \n",
      " 20%|██        | 1/5 [01:37<06:30, 97.66s/trial, best loss: -0.366294641495687]"
     ]
    },
    {
     "name": "stderr",
     "output_type": "stream",
     "text": [
      "/home/renan/miniconda3/lib/python3.12/site-packages/sklearn/metrics/_classification.py:1565: UndefinedMetricWarning: Precision is ill-defined and being set to 0.0 in labels with no predicted samples. Use `zero_division` parameter to control this behavior.\n",
      "  _warn_prf(average, modifier, f\"{metric.capitalize()} is\", len(result))\n",
      "\n"
     ]
    },
    {
     "name": "stdout",
     "output_type": "stream",
     "text": [
      "🏃 View run SVC_{'C': 0.01, 'gamma': 1, 'kernel': 'rbf'} at: http://127.0.0.1:8080/#/experiments/809324753489057368/runs/e56e98e1b9db4376bc1a76c9185b8285\n",
      "\n",
      "🧪 View experiment at: http://127.0.0.1:8080/#/experiments/809324753489057368  \n",
      "\n",
      "Params: {'C': 1, 'gamma': 0.1, 'kernel': 'rbf'}                                \n",
      "🏃 View run SVC_{'C': 1, 'gamma': 0.1, 'kernel': 'rbf'} at: http://127.0.0.1:8080/#/experiments/809324753489057368/runs/b902853477474694809e36afcdbf964a\n",
      "\n",
      "🧪 View experiment at: http://127.0.0.1:8080/#/experiments/809324753489057368  \n",
      "\n",
      "Params: {'C': 1, 'gamma': 1, 'kernel': 'rbf'}                                  \n",
      " 60%|██████    | 3/5 [03:51<02:23, 71.92s/trial, best loss: -0.366294641495687]"
     ]
    },
    {
     "name": "stderr",
     "output_type": "stream",
     "text": [
      "/home/renan/miniconda3/lib/python3.12/site-packages/sklearn/metrics/_classification.py:1565: UndefinedMetricWarning: Precision is ill-defined and being set to 0.0 in labels with no predicted samples. Use `zero_division` parameter to control this behavior.\n",
      "  _warn_prf(average, modifier, f\"{metric.capitalize()} is\", len(result))\n",
      "\n"
     ]
    },
    {
     "name": "stdout",
     "output_type": "stream",
     "text": [
      "🏃 View run SVC_{'C': 1, 'gamma': 1, 'kernel': 'rbf'} at: http://127.0.0.1:8080/#/experiments/809324753489057368/runs/b2b17290cca4428f850854828327d3d7\n",
      "\n",
      "🧪 View experiment at: http://127.0.0.1:8080/#/experiments/809324753489057368  \n",
      "\n",
      "Params: {'C': 0.5, 'gamma': 0.001, 'kernel': 'rbf'}                            \n",
      "🏃 View run SVC_{'C': 0.5, 'gamma': 0.001, 'kernel': 'rbf'} at: http://127.0.0.1:8080/#/experiments/809324753489057368/runs/36c7151bc4274ed89c02905cdb209175\n",
      "\n",
      "🧪 View experiment at: http://127.0.0.1:8080/#/experiments/809324753489057368  \n",
      "\n",
      "100%|██████████| 5/5 [06:40<00:00, 80.09s/trial, best loss: -0.366294641495687]\n",
      "🏃 View run trts-svc-sweep at: http://127.0.0.1:8080/#/experiments/809324753489057368/runs/d8cf8a9b39654ce5821c60750724ffbd\n",
      "🧪 View experiment at: http://127.0.0.1:8080/#/experiments/809324753489057368\n",
      "This will run 5 trials to find optimal hyperparameters...\n",
      "Params: {'colsample_bytree': 0.7, 'learning_rate': 0.01, 'max_depth': 10, 'n_estimators': 700, 'subsample': 0.7}\n",
      "🏃 View run XGBClassifier_{'colsample_bytree': 0.7, 'learning_rate': 0.01, 'max_depth': 10, 'n_estimators': 700, 'subsample': 0.7} at: http://127.0.0.1:8080/#/experiments/809324753489057368/runs/260345c308544c778f12207b7ccb6d1c\n",
      "\n",
      "🧪 View experiment at: http://127.0.0.1:8080/#/experiments/809324753489057368\n",
      "\n",
      "Params: {'colsample_bytree': 0.5, 'learning_rate': 0.2, 'max_depth': None, 'n_estimators': 1000, 'subsample': 0.7}\n",
      "🏃 View run XGBClassifier_{'colsample_bytree': 0.5, 'learning_rate': 0.2, 'max_depth': None, 'n_estimators': 1000, 'subsample': 0.7} at: http://127.0.0.1:8080/#/experiments/809324753489057368/runs/1bc67ad59d7c40dc99bb33b7679166ee\n",
      "\n",
      "🧪 View experiment at: http://127.0.0.1:8080/#/experiments/809324753489057368    \n",
      "\n",
      "Params: {'colsample_bytree': 0.5, 'learning_rate': 0.2, 'max_depth': 10, 'n_estimators': 1000, 'subsample': 1.0}\n",
      "🏃 View run XGBClassifier_{'colsample_bytree': 0.5, 'learning_rate': 0.2, 'max_depth': 10, 'n_estimators': 1000, 'subsample': 1.0} at: http://127.0.0.1:8080/#/experiments/809324753489057368/runs/3b94466556ce4ecbbb062a477a855476\n",
      "\n",
      "🧪 View experiment at: http://127.0.0.1:8080/#/experiments/809324753489057368    \n",
      "\n",
      "Params: {'colsample_bytree': 0.7, 'learning_rate': 0.01, 'max_depth': 10, 'n_estimators': 1000, 'subsample': 0.7}\n",
      "🏃 View run XGBClassifier_{'colsample_bytree': 0.7, 'learning_rate': 0.01, 'max_depth': 10, 'n_estimators': 1000, 'subsample': 0.7} at: http://127.0.0.1:8080/#/experiments/809324753489057368/runs/df988009de404a05a805226b5a81606e\n",
      "\n",
      "🧪 View experiment at: http://127.0.0.1:8080/#/experiments/809324753489057368    \n",
      "\n",
      "Params: {'colsample_bytree': 0.5, 'learning_rate': 0.1, 'max_depth': None, 'n_estimators': 700, 'subsample': 0.7}\n",
      "🏃 View run XGBClassifier_{'colsample_bytree': 0.5, 'learning_rate': 0.1, 'max_depth': None, 'n_estimators': 700, 'subsample': 0.7} at: http://127.0.0.1:8080/#/experiments/809324753489057368/runs/78f602415cfd4c12b00891f7fc8e59fc\n",
      "\n",
      "🧪 View experiment at: http://127.0.0.1:8080/#/experiments/809324753489057368    \n",
      "\n",
      "100%|██████████| 5/5 [00:40<00:00,  8.19s/trial, best loss: -0.44974473749821314]\n",
      "🏃 View run trts-xgb-sweep at: http://127.0.0.1:8080/#/experiments/809324753489057368/runs/fa94d8e8d70f46daa5fc897cea734b77\n",
      "🧪 View experiment at: http://127.0.0.1:8080/#/experiments/809324753489057368\n"
     ]
    },
    {
     "data": {
      "text/plain": [
       "0.44974473749821314"
      ]
     },
     "execution_count": 16,
     "metadata": {},
     "output_type": "execute_result"
    }
   ],
   "source": [
    "model = RandomForestClassifier\n",
    "run_experiments('trts-rf-sweep', max_evals=max_evals, search_space=search_space_rf, data_name=data_name, model_name = 'RandomForestClassifier', features_names=sumo_columns_to_keep)\n",
    "model = SVC\n",
    "run_experiments('trts-svc-sweep', max_evals=max_evals, search_space=search_space_svc, data_name=data_name, model_name = 'SVC', features_names=sumo_columns_to_keep)\n",
    "model = xgb.XGBClassifier\n",
    "run_experiments('trts-xgb-sweep', max_evals=max_evals, search_space=search_space_xgb, data_name=data_name, model_name = 'XGBClassifier', features_names=sumo_columns_to_keep)"
   ]
  },
  {
   "cell_type": "markdown",
   "id": "7034dab6",
   "metadata": {},
   "source": [
    "## CARLA"
   ]
  },
  {
   "cell_type": "code",
   "execution_count": 17,
   "id": "79611d31",
   "metadata": {},
   "outputs": [],
   "source": [
    "X_train, y_train = preprocessor.sliding_windows(uah_training[carla_columns_to_keep], window_size=10, step_size=5)\n",
    "y_train = preprocessor.one_hot_encode(y_train, one_hot_keys)\n",
    "signature = infer_signature(X_train, y_train)"
   ]
  },
  {
   "cell_type": "markdown",
   "id": "cbe814c3",
   "metadata": {},
   "source": [
    "### Fixed"
   ]
  },
  {
   "cell_type": "code",
   "execution_count": 18,
   "id": "c323d2d8",
   "metadata": {},
   "outputs": [],
   "source": [
    "# Provide an Experiment description that will appear in the UI\n",
    "experiment_description = (\n",
    "    \"Experiment to TRTS on CARLA Fixed data.\"\n",
    ")\n",
    "\n",
    "# Provide searchable tags that define characteristics of the Runs that\n",
    "# will be in this Experiment\n",
    "experiment_tags = {\n",
    "    \"project_name\": \"driver-behavior-prediction\",\n",
    "    \"mlflow.note.content\": experiment_description,\n",
    "}\n",
    "\n",
    "# Create the Experiment, providing a unique name\n",
    "try:\n",
    "    driver_behavior_experiment = client.create_experiment(\n",
    "        name=\"TRTS_CARLA_Fixed\", tags=experiment_tags\n",
    "    )\n",
    "except mlflow.exceptions.RestException as e:\n",
    "    print(f\"Experiment already exists: {e}\")"
   ]
  },
  {
   "cell_type": "code",
   "execution_count": 19,
   "id": "61938828",
   "metadata": {},
   "outputs": [],
   "source": [
    "X_val, y_val = preprocessor.sliding_windows(carla_fixed, window_size=10, step_size=5)\n",
    "y_val = preprocessor.one_hot_encode(y_val, one_hot_keys)\n",
    "\n",
    "mlflow.set_experiment('TRTS_CARLA_Fixed')\n",
    "data_name = 'TRTS_CARLA_Fixed'"
   ]
  },
  {
   "cell_type": "code",
   "execution_count": 20,
   "id": "89880717",
   "metadata": {},
   "outputs": [
    {
     "name": "stdout",
     "output_type": "stream",
     "text": [
      "This will run 5 trials to find optimal hyperparameters...\n",
      "Params: {'max_depth': 5, 'n_estimators': 20, 'random_state': 42}\n",
      "🏃 View run RandomForestClassifier_{'max_depth': 5, 'n_estimators': 20, 'random_state': 42} at: http://127.0.0.1:8080/#/experiments/386847239332001868/runs/485f251081bf45ae94685873d4be2673\n",
      "\n",
      "🧪 View experiment at: http://127.0.0.1:8080/#/experiments/386847239332001868\n",
      "\n",
      "Params: {'max_depth': 20, 'n_estimators': 500, 'random_state': 42}               \n",
      "🏃 View run RandomForestClassifier_{'max_depth': 20, 'n_estimators': 500, 'random_state': 42} at: http://127.0.0.1:8080/#/experiments/386847239332001868/runs/6224815e78764ec0a30706d2a7a126f1\n",
      "\n",
      "🧪 View experiment at: http://127.0.0.1:8080/#/experiments/386847239332001868    \n",
      "\n",
      "Params: {'max_depth': 20, 'n_estimators': 50, 'random_state': 42}                \n",
      "🏃 View run RandomForestClassifier_{'max_depth': 20, 'n_estimators': 50, 'random_state': 42} at: http://127.0.0.1:8080/#/experiments/386847239332001868/runs/ae8c6ebbba014bacbaaeb2bf6b47d86d\n",
      "\n",
      "🧪 View experiment at: http://127.0.0.1:8080/#/experiments/386847239332001868    \n",
      "\n",
      "Params: {'max_depth': None, 'n_estimators': 100, 'random_state': 42}             \n",
      "🏃 View run RandomForestClassifier_{'max_depth': None, 'n_estimators': 100, 'random_state': 42} at: http://127.0.0.1:8080/#/experiments/386847239332001868/runs/774d8423f22d41ff85cca2a565eef389\n",
      "\n",
      "🧪 View experiment at: http://127.0.0.1:8080/#/experiments/386847239332001868   \n",
      "\n",
      "Params: {'max_depth': 20, 'n_estimators': 20, 'random_state': 42}               \n",
      "🏃 View run RandomForestClassifier_{'max_depth': 20, 'n_estimators': 20, 'random_state': 42} at: http://127.0.0.1:8080/#/experiments/386847239332001868/runs/daa5e70aaa944019b59ebb67b7dfe63a\n",
      "\n",
      "🧪 View experiment at: http://127.0.0.1:8080/#/experiments/386847239332001868   \n",
      "\n",
      "100%|██████████| 5/5 [01:37<00:00, 19.44s/trial, best loss: -0.3912968953109906]\n",
      "🏃 View run trts-rf-sweep at: http://127.0.0.1:8080/#/experiments/386847239332001868/runs/a359abc81d094cf2ab27ba04a3bcd4ad\n",
      "🧪 View experiment at: http://127.0.0.1:8080/#/experiments/386847239332001868\n",
      "This will run 5 trials to find optimal hyperparameters...\n",
      "Params: {'C': 0.05, 'gamma': 10, 'kernel': 'rbf'}    \n",
      "  0%|          | 0/5 [00:00<?, ?trial/s, best loss=?]"
     ]
    },
    {
     "name": "stderr",
     "output_type": "stream",
     "text": [
      "/home/renan/miniconda3/lib/python3.12/site-packages/sklearn/metrics/_classification.py:1565: UndefinedMetricWarning: Precision is ill-defined and being set to 0.0 in labels with no predicted samples. Use `zero_division` parameter to control this behavior.\n",
      "  _warn_prf(average, modifier, f\"{metric.capitalize()} is\", len(result))\n",
      "\n"
     ]
    },
    {
     "name": "stdout",
     "output_type": "stream",
     "text": [
      "🏃 View run SVC_{'C': 0.05, 'gamma': 10, 'kernel': 'rbf'} at: http://127.0.0.1:8080/#/experiments/386847239332001868/runs/13fe387646224bc3aed481aef21a671b\n",
      "\n",
      "🧪 View experiment at: http://127.0.0.1:8080/#/experiments/386847239332001868\n",
      "\n",
      "Params: {'C': 0.01, 'gamma': 0.001, 'kernel': 'rbf'}                            \n",
      " 20%|██        | 1/5 [00:58<03:52, 58.21s/trial, best loss: -0.4209539786453059]"
     ]
    },
    {
     "name": "stderr",
     "output_type": "stream",
     "text": [
      "/home/renan/miniconda3/lib/python3.12/site-packages/sklearn/metrics/_classification.py:1565: UndefinedMetricWarning: Precision is ill-defined and being set to 0.0 in labels with no predicted samples. Use `zero_division` parameter to control this behavior.\n",
      "  _warn_prf(average, modifier, f\"{metric.capitalize()} is\", len(result))\n",
      "\n"
     ]
    },
    {
     "name": "stdout",
     "output_type": "stream",
     "text": [
      "🏃 View run SVC_{'C': 0.01, 'gamma': 0.001, 'kernel': 'rbf'} at: http://127.0.0.1:8080/#/experiments/386847239332001868/runs/8574de304cec4819a84b91f6faf605fe\n",
      "\n",
      "🧪 View experiment at: http://127.0.0.1:8080/#/experiments/386847239332001868   \n",
      "\n",
      "Params: {'C': 0.5, 'gamma': 10, 'kernel': 'rbf'}                                \n",
      " 40%|████      | 2/5 [01:57<02:56, 58.89s/trial, best loss: -0.4209539786453059]"
     ]
    },
    {
     "name": "stderr",
     "output_type": "stream",
     "text": [
      "/home/renan/miniconda3/lib/python3.12/site-packages/sklearn/metrics/_classification.py:1565: UndefinedMetricWarning: Precision is ill-defined and being set to 0.0 in labels with no predicted samples. Use `zero_division` parameter to control this behavior.\n",
      "  _warn_prf(average, modifier, f\"{metric.capitalize()} is\", len(result))\n",
      "\n"
     ]
    },
    {
     "name": "stdout",
     "output_type": "stream",
     "text": [
      "🏃 View run SVC_{'C': 0.5, 'gamma': 10, 'kernel': 'rbf'} at: http://127.0.0.1:8080/#/experiments/386847239332001868/runs/1b73576687904db9b6c092e24b4f3069\n",
      "\n",
      "🧪 View experiment at: http://127.0.0.1:8080/#/experiments/386847239332001868   \n",
      "\n",
      "Params: {'C': 0.5, 'gamma': 0.1, 'kernel': 'rbf'}                               \n",
      " 60%|██████    | 3/5 [03:15<02:15, 67.62s/trial, best loss: -0.4209539786453059]"
     ]
    },
    {
     "name": "stderr",
     "output_type": "stream",
     "text": [
      "/home/renan/miniconda3/lib/python3.12/site-packages/sklearn/metrics/_classification.py:1565: UndefinedMetricWarning: Precision is ill-defined and being set to 0.0 in labels with no predicted samples. Use `zero_division` parameter to control this behavior.\n",
      "  _warn_prf(average, modifier, f\"{metric.capitalize()} is\", len(result))\n",
      "\n"
     ]
    },
    {
     "name": "stdout",
     "output_type": "stream",
     "text": [
      "🏃 View run SVC_{'C': 0.5, 'gamma': 0.1, 'kernel': 'rbf'} at: http://127.0.0.1:8080/#/experiments/386847239332001868/runs/bad8fdc75d9f47518f7990a15b31da8e\n",
      "\n",
      "🧪 View experiment at: http://127.0.0.1:8080/#/experiments/386847239332001868   \n",
      "\n",
      "Params: {'C': 0.05, 'gamma': 0.01, 'kernel': 'rbf'}                             \n",
      " 80%|████████  | 4/5 [03:57<00:57, 57.47s/trial, best loss: -0.4209539786453059]"
     ]
    },
    {
     "name": "stderr",
     "output_type": "stream",
     "text": [
      "/home/renan/miniconda3/lib/python3.12/site-packages/sklearn/metrics/_classification.py:1565: UndefinedMetricWarning: Precision is ill-defined and being set to 0.0 in labels with no predicted samples. Use `zero_division` parameter to control this behavior.\n",
      "  _warn_prf(average, modifier, f\"{metric.capitalize()} is\", len(result))\n",
      "\n"
     ]
    },
    {
     "name": "stdout",
     "output_type": "stream",
     "text": [
      "🏃 View run SVC_{'C': 0.05, 'gamma': 0.01, 'kernel': 'rbf'} at: http://127.0.0.1:8080/#/experiments/386847239332001868/runs/c635d0353e17451487ace7ff5c98282c\n",
      "\n",
      "🧪 View experiment at: http://127.0.0.1:8080/#/experiments/386847239332001868   \n",
      "\n",
      "100%|██████████| 5/5 [04:53<00:00, 58.76s/trial, best loss: -0.4209539786453059]\n",
      "🏃 View run trts-svc-sweep at: http://127.0.0.1:8080/#/experiments/386847239332001868/runs/76f06e9267ea4678a7f48d428d7f6e41\n",
      "🧪 View experiment at: http://127.0.0.1:8080/#/experiments/386847239332001868\n",
      "This will run 5 trials to find optimal hyperparameters...\n",
      "Params: {'colsample_bytree': 1.0, 'learning_rate': 0.01, 'max_depth': 10, 'n_estimators': 1000, 'subsample': 0.7}\n",
      "🏃 View run XGBClassifier_{'colsample_bytree': 1.0, 'learning_rate': 0.01, 'max_depth': 10, 'n_estimators': 1000, 'subsample': 0.7} at: http://127.0.0.1:8080/#/experiments/386847239332001868/runs/0c3b949b98384816a6d64b60f76a1dba\n",
      "\n",
      "🧪 View experiment at: http://127.0.0.1:8080/#/experiments/386847239332001868\n",
      "\n",
      "Params: {'colsample_bytree': 0.7, 'learning_rate': 0.3, 'max_depth': None, 'n_estimators': 500, 'subsample': 0.5}\n",
      "🏃 View run XGBClassifier_{'colsample_bytree': 0.7, 'learning_rate': 0.3, 'max_depth': None, 'n_estimators': 500, 'subsample': 0.5} at: http://127.0.0.1:8080/#/experiments/386847239332001868/runs/9ce6e128beb548ecb8404008fa3565b8\n",
      "\n",
      "🧪 View experiment at: http://127.0.0.1:8080/#/experiments/386847239332001868   \n",
      "\n",
      "Params: {'colsample_bytree': 0.7, 'learning_rate': 0.2, 'max_depth': 10, 'n_estimators': 200, 'subsample': 0.5}\n",
      "🏃 View run XGBClassifier_{'colsample_bytree': 0.7, 'learning_rate': 0.2, 'max_depth': 10, 'n_estimators': 200, 'subsample': 0.5} at: http://127.0.0.1:8080/#/experiments/386847239332001868/runs/2b01f8c5029540d49fac956562fd817f\n",
      "\n",
      "🧪 View experiment at: http://127.0.0.1:8080/#/experiments/386847239332001868  \n",
      "\n",
      "Params: {'colsample_bytree': 0.5, 'learning_rate': 0.01, 'max_depth': None, 'n_estimators': 700, 'subsample': 0.5}\n",
      "🏃 View run XGBClassifier_{'colsample_bytree': 0.5, 'learning_rate': 0.01, 'max_depth': None, 'n_estimators': 700, 'subsample': 0.5} at: http://127.0.0.1:8080/#/experiments/386847239332001868/runs/31e92326ff0d4114ab13acda2bd9bd26\n",
      "\n",
      "🧪 View experiment at: http://127.0.0.1:8080/#/experiments/386847239332001868    \n",
      "\n",
      "Params: {'colsample_bytree': 0.5, 'learning_rate': 0.001, 'max_depth': 5, 'n_estimators': 200, 'subsample': 0.5}\n",
      " 80%|████████  | 4/5 [00:49<00:09,  9.63s/trial, best loss: -0.33160305970935494]"
     ]
    },
    {
     "name": "stderr",
     "output_type": "stream",
     "text": [
      "/home/renan/miniconda3/lib/python3.12/site-packages/sklearn/metrics/_classification.py:1565: UndefinedMetricWarning: Precision is ill-defined and being set to 0.0 in labels with no predicted samples. Use `zero_division` parameter to control this behavior.\n",
      "  _warn_prf(average, modifier, f\"{metric.capitalize()} is\", len(result))\n",
      "\n"
     ]
    },
    {
     "name": "stdout",
     "output_type": "stream",
     "text": [
      "🏃 View run XGBClassifier_{'colsample_bytree': 0.5, 'learning_rate': 0.001, 'max_depth': 5, 'n_estimators': 200, 'subsample': 0.5} at: http://127.0.0.1:8080/#/experiments/386847239332001868/runs/fc17520af75c434283d9d33fd030833e\n",
      "\n",
      "🧪 View experiment at: http://127.0.0.1:8080/#/experiments/386847239332001868    \n",
      "\n",
      "100%|██████████| 5/5 [00:52<00:00, 10.47s/trial, best loss: -0.4209539786453059] \n",
      "🏃 View run trts-xgb-sweep at: http://127.0.0.1:8080/#/experiments/386847239332001868/runs/933da62eaa814862b242fd5795a4c4ef\n",
      "🧪 View experiment at: http://127.0.0.1:8080/#/experiments/386847239332001868\n"
     ]
    },
    {
     "data": {
      "text/plain": [
       "0.4209539786453059"
      ]
     },
     "execution_count": 20,
     "metadata": {},
     "output_type": "execute_result"
    }
   ],
   "source": [
    "model = RandomForestClassifier\n",
    "run_experiments('trts-rf-sweep', max_evals=max_evals, search_space=search_space_rf, data_name=data_name, model_name = 'RandomForestClassifier', features_names=sumo_columns_to_keep)\n",
    "model = SVC\n",
    "run_experiments('trts-svc-sweep', max_evals=max_evals, search_space=search_space_svc, data_name=data_name, model_name = 'SVC', features_names=sumo_columns_to_keep)\n",
    "model = xgb.XGBClassifier\n",
    "run_experiments('trts-xgb-sweep', max_evals=max_evals, search_space=search_space_xgb, data_name=data_name, model_name = 'XGBClassifier', features_names=sumo_columns_to_keep)"
   ]
  },
  {
   "cell_type": "markdown",
   "id": "67747de7",
   "metadata": {},
   "source": [
    "### LLM"
   ]
  },
  {
   "cell_type": "code",
   "execution_count": 21,
   "id": "521a42c3",
   "metadata": {},
   "outputs": [],
   "source": [
    "# Provide an Experiment description that will appear in the UI\n",
    "experiment_description = (\n",
    "    \"Experiment to TRTS on CARLA LLM data.\"\n",
    ")\n",
    "\n",
    "# Provide searchable tags that define characteristics of the Runs that\n",
    "# will be in this Experiment\n",
    "experiment_tags = {\n",
    "    \"project_name\": \"driver-behavior-prediction\",\n",
    "    \"mlflow.note.content\": experiment_description,\n",
    "}\n",
    "\n",
    "# Create the Experiment, providing a unique name\n",
    "try:\n",
    "    driver_behavior_experiment = client.create_experiment(\n",
    "        name=\"TRTS_CARLA_LLM\", tags=experiment_tags\n",
    "    )\n",
    "except mlflow.exceptions.RestException as e:\n",
    "    print(f\"Experiment already exists: {e}\")"
   ]
  },
  {
   "cell_type": "code",
   "execution_count": 22,
   "id": "3334c220",
   "metadata": {},
   "outputs": [],
   "source": [
    "X_val, y_val = preprocessor.sliding_windows(carla_llm, window_size=10, step_size=5)\n",
    "y_val = preprocessor.one_hot_encode(y_val, one_hot_keys)\n",
    "\n",
    "mlflow.set_experiment('TRTS_CARLA_LLM')\n",
    "data_name = 'TRTS_CARLA_LLM'"
   ]
  },
  {
   "cell_type": "code",
   "execution_count": 23,
   "id": "35bea98c",
   "metadata": {},
   "outputs": [
    {
     "name": "stdout",
     "output_type": "stream",
     "text": [
      "This will run 5 trials to find optimal hyperparameters...\n",
      "Params: {'max_depth': 5, 'n_estimators': 200, 'random_state': 42}\n",
      "🏃 View run RandomForestClassifier_{'max_depth': 5, 'n_estimators': 200, 'random_state': 42} at: http://127.0.0.1:8080/#/experiments/329550000572282095/runs/4db269a7759846e2b2a21bb9686ec966\n",
      "\n",
      "🧪 View experiment at: http://127.0.0.1:8080/#/experiments/329550000572282095\n",
      "\n",
      "Params: {'max_depth': 50, 'n_estimators': 20, 'random_state': 42}                \n",
      "🏃 View run RandomForestClassifier_{'max_depth': 50, 'n_estimators': 20, 'random_state': 42} at: http://127.0.0.1:8080/#/experiments/329550000572282095/runs/959dbb1679a84aa0b2369b41213f6ed0\n",
      "\n",
      "🧪 View experiment at: http://127.0.0.1:8080/#/experiments/329550000572282095    \n",
      "\n",
      "Params: {'max_depth': None, 'n_estimators': 100, 'random_state': 42}             \n",
      "🏃 View run RandomForestClassifier_{'max_depth': None, 'n_estimators': 100, 'random_state': 42} at: http://127.0.0.1:8080/#/experiments/329550000572282095/runs/f447d3597df844728a0e4b149798144a\n",
      "\n",
      "🧪 View experiment at: http://127.0.0.1:8080/#/experiments/329550000572282095    \n",
      "\n",
      "Params: {'max_depth': 50, 'n_estimators': 500, 'random_state': 42}               \n",
      "🏃 View run RandomForestClassifier_{'max_depth': 50, 'n_estimators': 500, 'random_state': 42} at: http://127.0.0.1:8080/#/experiments/329550000572282095/runs/4c732f2dcf3e41adbfe93a7cd6889dac\n",
      "\n",
      "🧪 View experiment at: http://127.0.0.1:8080/#/experiments/329550000572282095    \n",
      "\n",
      "Params: {'max_depth': 5, 'n_estimators': 50, 'random_state': 42}                 \n",
      "🏃 View run RandomForestClassifier_{'max_depth': 5, 'n_estimators': 50, 'random_state': 42} at: http://127.0.0.1:8080/#/experiments/329550000572282095/runs/87f7c2da01d843538051c005d8355c07\n",
      "\n",
      "🧪 View experiment at: http://127.0.0.1:8080/#/experiments/329550000572282095    \n",
      "\n",
      "100%|██████████| 5/5 [01:43<00:00, 20.65s/trial, best loss: -0.43478256959556727]\n",
      "🏃 View run trts-rf-sweep at: http://127.0.0.1:8080/#/experiments/329550000572282095/runs/3590c7e920b34abb91397318c3b3ccdf\n",
      "🧪 View experiment at: http://127.0.0.1:8080/#/experiments/329550000572282095\n",
      "This will run 5 trials to find optimal hyperparameters...\n",
      "Params: {'C': 0.05, 'gamma': 0.001, 'kernel': 'rbf'} \n",
      "  0%|          | 0/5 [00:00<?, ?trial/s, best loss=?]"
     ]
    },
    {
     "name": "stderr",
     "output_type": "stream",
     "text": [
      "/home/renan/miniconda3/lib/python3.12/site-packages/sklearn/metrics/_classification.py:1565: UndefinedMetricWarning: Precision is ill-defined and being set to 0.0 in labels with no predicted samples. Use `zero_division` parameter to control this behavior.\n",
      "  _warn_prf(average, modifier, f\"{metric.capitalize()} is\", len(result))\n",
      "\n"
     ]
    },
    {
     "name": "stdout",
     "output_type": "stream",
     "text": [
      "🏃 View run SVC_{'C': 0.05, 'gamma': 0.001, 'kernel': 'rbf'} at: http://127.0.0.1:8080/#/experiments/329550000572282095/runs/d30ccbbaf869493fb48b3563f4e41d7a\n",
      "\n",
      "🧪 View experiment at: http://127.0.0.1:8080/#/experiments/329550000572282095\n",
      "\n",
      "Params: {'C': 1, 'gamma': 0.01, 'kernel': 'rbf'}                                \n",
      " 20%|██        | 1/5 [01:02<04:11, 62.97s/trial, best loss: -0.2881971054975632]"
     ]
    },
    {
     "name": "stderr",
     "output_type": "stream",
     "text": [
      "/home/renan/miniconda3/lib/python3.12/site-packages/sklearn/metrics/_classification.py:1565: UndefinedMetricWarning: Precision is ill-defined and being set to 0.0 in labels with no predicted samples. Use `zero_division` parameter to control this behavior.\n",
      "  _warn_prf(average, modifier, f\"{metric.capitalize()} is\", len(result))\n",
      "\n"
     ]
    },
    {
     "name": "stdout",
     "output_type": "stream",
     "text": [
      "🏃 View run SVC_{'C': 1, 'gamma': 0.01, 'kernel': 'rbf'} at: http://127.0.0.1:8080/#/experiments/329550000572282095/runs/d6e8080e38d44a35b52d703fa38dab83\n",
      "\n",
      "🧪 View experiment at: http://127.0.0.1:8080/#/experiments/329550000572282095   \n",
      "\n",
      "Params: {'C': 0.5, 'gamma': 0.001, 'kernel': 'rbf'}                             \n",
      " 40%|████      | 2/5 [01:54<02:48, 56.00s/trial, best loss: -0.3805192649733608]"
     ]
    },
    {
     "name": "stderr",
     "output_type": "stream",
     "text": [
      "/home/renan/miniconda3/lib/python3.12/site-packages/sklearn/metrics/_classification.py:1565: UndefinedMetricWarning: Precision is ill-defined and being set to 0.0 in labels with no predicted samples. Use `zero_division` parameter to control this behavior.\n",
      "  _warn_prf(average, modifier, f\"{metric.capitalize()} is\", len(result))\n",
      "\n"
     ]
    },
    {
     "name": "stdout",
     "output_type": "stream",
     "text": [
      "🏃 View run SVC_{'C': 0.5, 'gamma': 0.001, 'kernel': 'rbf'} at: http://127.0.0.1:8080/#/experiments/329550000572282095/runs/e03fdeeb7c2a45daa19b0d4ffb35226f\n",
      "\n",
      "🧪 View experiment at: http://127.0.0.1:8080/#/experiments/329550000572282095   \n",
      "\n",
      "Params: {'C': 0.05, 'gamma': 10, 'kernel': 'rbf'}                               \n",
      " 60%|██████    | 3/5 [02:55<01:57, 58.58s/trial, best loss: -0.3805192649733608]"
     ]
    },
    {
     "name": "stderr",
     "output_type": "stream",
     "text": [
      "/home/renan/miniconda3/lib/python3.12/site-packages/sklearn/metrics/_classification.py:1565: UndefinedMetricWarning: Precision is ill-defined and being set to 0.0 in labels with no predicted samples. Use `zero_division` parameter to control this behavior.\n",
      "  _warn_prf(average, modifier, f\"{metric.capitalize()} is\", len(result))\n",
      "\n"
     ]
    },
    {
     "name": "stdout",
     "output_type": "stream",
     "text": [
      "🏃 View run SVC_{'C': 0.05, 'gamma': 10, 'kernel': 'rbf'} at: http://127.0.0.1:8080/#/experiments/329550000572282095/runs/eb2b86d4795c421291aa6b7a589158ce\n",
      "\n",
      "🧪 View experiment at: http://127.0.0.1:8080/#/experiments/329550000572282095   \n",
      "\n",
      "Params: {'C': 0.05, 'gamma': 10, 'kernel': 'rbf'}                               \n",
      " 80%|████████  | 4/5 [04:00<01:01, 61.12s/trial, best loss: -0.3805192649733608]"
     ]
    },
    {
     "name": "stderr",
     "output_type": "stream",
     "text": [
      "/home/renan/miniconda3/lib/python3.12/site-packages/sklearn/metrics/_classification.py:1565: UndefinedMetricWarning: Precision is ill-defined and being set to 0.0 in labels with no predicted samples. Use `zero_division` parameter to control this behavior.\n",
      "  _warn_prf(average, modifier, f\"{metric.capitalize()} is\", len(result))\n",
      "\n"
     ]
    },
    {
     "name": "stdout",
     "output_type": "stream",
     "text": [
      "🏃 View run SVC_{'C': 0.05, 'gamma': 10, 'kernel': 'rbf'} at: http://127.0.0.1:8080/#/experiments/329550000572282095/runs/71f4686ff89343fcae702c26fde41e47\n",
      "\n",
      "🧪 View experiment at: http://127.0.0.1:8080/#/experiments/329550000572282095   \n",
      "\n",
      "100%|██████████| 5/5 [05:08<00:00, 61.68s/trial, best loss: -0.3805192649733608]\n",
      "🏃 View run trts-svc-sweep at: http://127.0.0.1:8080/#/experiments/329550000572282095/runs/1ab19be46c5e4711b2d6b649b96e976c\n",
      "🧪 View experiment at: http://127.0.0.1:8080/#/experiments/329550000572282095\n",
      "This will run 5 trials to find optimal hyperparameters...\n",
      "Params: {'colsample_bytree': 1.0, 'learning_rate': 0.001, 'max_depth': 5, 'n_estimators': 200, 'subsample': 0.5}\n",
      "  0%|          | 0/5 [00:00<?, ?trial/s, best loss=?]"
     ]
    },
    {
     "name": "stderr",
     "output_type": "stream",
     "text": [
      "/home/renan/miniconda3/lib/python3.12/site-packages/sklearn/metrics/_classification.py:1565: UndefinedMetricWarning: Precision is ill-defined and being set to 0.0 in labels with no predicted samples. Use `zero_division` parameter to control this behavior.\n",
      "  _warn_prf(average, modifier, f\"{metric.capitalize()} is\", len(result))\n",
      "\n"
     ]
    },
    {
     "name": "stdout",
     "output_type": "stream",
     "text": [
      "🏃 View run XGBClassifier_{'colsample_bytree': 1.0, 'learning_rate': 0.001, 'max_depth': 5, 'n_estimators': 200, 'subsample': 0.5} at: http://127.0.0.1:8080/#/experiments/329550000572282095/runs/8f521e3cbfe54e31ac0f0f267053f1d3\n",
      "\n",
      "🧪 View experiment at: http://127.0.0.1:8080/#/experiments/329550000572282095\n",
      "\n",
      "Params: {'colsample_bytree': 1.0, 'learning_rate': 0.1, 'max_depth': 5, 'n_estimators': 1000, 'subsample': 0.5}\n",
      "🏃 View run XGBClassifier_{'colsample_bytree': 1.0, 'learning_rate': 0.1, 'max_depth': 5, 'n_estimators': 1000, 'subsample': 0.5} at: http://127.0.0.1:8080/#/experiments/329550000572282095/runs/6d22714e58424359a7e5ac2b8322c043\n",
      "\n",
      "🧪 View experiment at: http://127.0.0.1:8080/#/experiments/329550000572282095   \n",
      "\n",
      "Params: {'colsample_bytree': 1.0, 'learning_rate': 0.01, 'max_depth': None, 'n_estimators': 700, 'subsample': 0.7}\n",
      "🏃 View run XGBClassifier_{'colsample_bytree': 1.0, 'learning_rate': 0.01, 'max_depth': None, 'n_estimators': 700, 'subsample': 0.7} at: http://127.0.0.1:8080/#/experiments/329550000572282095/runs/7afc4cf20bf64fc68f26bead3be59563\n",
      "\n",
      "🧪 View experiment at: http://127.0.0.1:8080/#/experiments/329550000572282095   \n",
      "\n",
      "Params: {'colsample_bytree': 0.5, 'learning_rate': 0.01, 'max_depth': 10, 'n_estimators': 200, 'subsample': 0.5}\n",
      "🏃 View run XGBClassifier_{'colsample_bytree': 0.5, 'learning_rate': 0.01, 'max_depth': 10, 'n_estimators': 200, 'subsample': 0.5} at: http://127.0.0.1:8080/#/experiments/329550000572282095/runs/806b1ef4622247bdbcfaa90519e0c9d6\n",
      "\n",
      "🧪 View experiment at: http://127.0.0.1:8080/#/experiments/329550000572282095   \n",
      "\n",
      "Params: {'colsample_bytree': 0.7, 'learning_rate': 0.1, 'max_depth': None, 'n_estimators': 200, 'subsample': 1.0}\n",
      "🏃 View run XGBClassifier_{'colsample_bytree': 0.7, 'learning_rate': 0.1, 'max_depth': None, 'n_estimators': 200, 'subsample': 1.0} at: http://127.0.0.1:8080/#/experiments/329550000572282095/runs/ad480560315e4951b582c86db94a14eb\n",
      "\n",
      "🧪 View experiment at: http://127.0.0.1:8080/#/experiments/329550000572282095   \n",
      "\n",
      "100%|██████████| 5/5 [00:33<00:00,  6.75s/trial, best loss: -0.5313242721538347]\n",
      "🏃 View run trts-xgb-sweep at: http://127.0.0.1:8080/#/experiments/329550000572282095/runs/58b4ac63577c4184916375fc1602eec6\n",
      "🧪 View experiment at: http://127.0.0.1:8080/#/experiments/329550000572282095\n"
     ]
    },
    {
     "data": {
      "text/plain": [
       "0.5313242721538347"
      ]
     },
     "execution_count": 23,
     "metadata": {},
     "output_type": "execute_result"
    }
   ],
   "source": [
    "model = RandomForestClassifier\n",
    "run_experiments('trts-rf-sweep', max_evals=max_evals, search_space=search_space_rf, data_name=data_name, model_name = 'RandomForestClassifier', features_names=sumo_columns_to_keep)\n",
    "model = SVC\n",
    "run_experiments('trts-svc-sweep', max_evals=max_evals, search_space=search_space_svc, data_name=data_name, model_name = 'SVC', features_names=sumo_columns_to_keep)\n",
    "model = xgb.XGBClassifier\n",
    "run_experiments('trts-xgb-sweep', max_evals=max_evals, search_space=search_space_xgb, data_name=data_name, model_name = 'XGBClassifier', features_names=sumo_columns_to_keep)"
   ]
  },
  {
   "cell_type": "markdown",
   "id": "e00bb44e",
   "metadata": {},
   "source": [
    "# Discriminative Score"
   ]
  },
  {
   "cell_type": "markdown",
   "id": "33ea4a7b",
   "metadata": {},
   "source": [
    "We seek to understand how well a classifier can separate the real and the synthetic data to determine how indistiguishable they are.\n",
    "\n",
    "If the classifiers do not get good scores, that means the data is hardly distinguishable."
   ]
  },
  {
   "cell_type": "code",
   "execution_count": 24,
   "id": "4fb96798",
   "metadata": {},
   "outputs": [],
   "source": [
    "X_uah_disc_sumo = uah_training[sumo_columns_to_keep].drop(columns=['label'])\n",
    "X_uah_disc_carla = uah_training[carla_columns_to_keep].drop(columns=['label'])\n",
    "y_uah_disc = np.zeros(len(X_uah_disc_carla)) # 0 for real data and 1 for synthetic data"
   ]
  },
  {
   "cell_type": "markdown",
   "id": "e5a2c99c",
   "metadata": {},
   "source": [
    "## SUMO"
   ]
  },
  {
   "cell_type": "code",
   "execution_count": 25,
   "id": "fc959c0a",
   "metadata": {},
   "outputs": [],
   "source": [
    "X_sumo_disc_fixed, y_sumo_disc_fixed = sumo_fixed.drop(columns=['label']), np.ones(len(sumo_fixed))\n",
    "X_sumo_disc_llm, y_sumo_disc_llm = sumo_llm.drop(columns=['label']), np.ones(len(sumo_llm))"
   ]
  },
  {
   "cell_type": "markdown",
   "id": "fb75d026",
   "metadata": {},
   "source": [
    "### Fixed"
   ]
  },
  {
   "cell_type": "code",
   "execution_count": 26,
   "id": "7b5635fc",
   "metadata": {},
   "outputs": [],
   "source": [
    "X, y = pd.concat([X_sumo_disc_fixed, X_uah_disc_sumo], axis=0, ignore_index=True), np.concat([y_sumo_disc_fixed, y_uah_disc], axis=0)\n",
    "X.reset_index(drop=True, inplace=True)\n",
    "X_train, X_val, y_train, y_val = train_test_split(X, y, test_size=0.2, random_state=42, shuffle=True)"
   ]
  },
  {
   "cell_type": "code",
   "execution_count": 27,
   "id": "4508209a",
   "metadata": {},
   "outputs": [
    {
     "name": "stdout",
     "output_type": "stream",
     "text": [
      "F1 Score: 1.0\n",
      "Accuracy: 1.0\n"
     ]
    }
   ],
   "source": [
    "rf = RandomForestClassifier()\n",
    "rf.fit(X_train, y_train)\n",
    "y_pred = rf.predict(X_val)\n",
    "print(f\"F1 Score: {f1_score(y_val, y_pred, average='weighted')}\")\n",
    "print(f\"Accuracy: {accuracy_score(y_val, y_pred)}\")"
   ]
  },
  {
   "cell_type": "code",
   "execution_count": 28,
   "id": "761876f2",
   "metadata": {},
   "outputs": [
    {
     "name": "stdout",
     "output_type": "stream",
     "text": [
      "F1 Score: 0.9973274557248342\n",
      "Accuracy: 0.9973290383195759\n"
     ]
    }
   ],
   "source": [
    "svc = SVC(kernel='rbf')\n",
    "svc.fit(X_train, y_train)\n",
    "y_pred = svc.predict(X_val)\n",
    "print(f\"F1 Score: {f1_score(y_val, y_pred, average='weighted')}\")\n",
    "print(f\"Accuracy: {accuracy_score(y_val, y_pred)}\")"
   ]
  },
  {
   "cell_type": "markdown",
   "id": "3cdb944b",
   "metadata": {},
   "source": [
    "### LLM"
   ]
  },
  {
   "cell_type": "code",
   "execution_count": 29,
   "id": "2593281c",
   "metadata": {},
   "outputs": [],
   "source": [
    "X, y = pd.concat([X_sumo_disc_llm, X_uah_disc_sumo], axis=0, ignore_index=True), np.concat([y_sumo_disc_llm, y_uah_disc], axis=0)\n",
    "X.reset_index(drop=True, inplace=True)\n",
    "X_train, X_val, y_train, y_val = train_test_split(X, y, test_size=0.2, random_state=42, shuffle=True)"
   ]
  },
  {
   "cell_type": "code",
   "execution_count": 30,
   "id": "5f06eff1",
   "metadata": {},
   "outputs": [
    {
     "name": "stdout",
     "output_type": "stream",
     "text": [
      "F1 Score: 1.0\n",
      "Accuracy: 1.0\n"
     ]
    }
   ],
   "source": [
    "rf = RandomForestClassifier()\n",
    "rf.fit(X_train, y_train)\n",
    "y_pred = rf.predict(X_val)\n",
    "print(f\"F1 Score: {f1_score(y_val, y_pred, average='weighted')}\")\n",
    "print(f\"Accuracy: {accuracy_score(y_val, y_pred)}\")"
   ]
  },
  {
   "cell_type": "code",
   "execution_count": 31,
   "id": "f2eb85f5",
   "metadata": {},
   "outputs": [
    {
     "name": "stdout",
     "output_type": "stream",
     "text": [
      "F1 Score: 0.9970845693018687\n",
      "Accuracy: 0.9970870416738974\n"
     ]
    }
   ],
   "source": [
    "svc = SVC(kernel='rbf')\n",
    "svc.fit(X_train, y_train)\n",
    "y_pred = svc.predict(X_val)\n",
    "print(f\"F1 Score: {f1_score(y_val, y_pred, average='weighted')}\")\n",
    "print(f\"Accuracy: {accuracy_score(y_val, y_pred)}\")"
   ]
  },
  {
   "cell_type": "markdown",
   "id": "8fc572b9",
   "metadata": {},
   "source": [
    "## CARLA"
   ]
  },
  {
   "cell_type": "code",
   "execution_count": 32,
   "id": "1d3d9e9f",
   "metadata": {},
   "outputs": [],
   "source": [
    "X_carla_disc_fixed, y_carla_disc_fixed = carla_fixed.drop(columns=['label']), np.ones(len(carla_fixed))\n",
    "X_carla_disc_llm, y_carla_disc_llm = carla_llm.drop(columns=['label']), np.ones(len(carla_llm))"
   ]
  },
  {
   "cell_type": "markdown",
   "id": "a13c9d64",
   "metadata": {},
   "source": [
    "### Fixed"
   ]
  },
  {
   "cell_type": "code",
   "execution_count": 33,
   "id": "b6fcc9d0",
   "metadata": {},
   "outputs": [],
   "source": [
    "X, y = pd.concat([X_carla_disc_fixed, X_uah_disc_carla], axis=0, ignore_index=True), np.concat([y_carla_disc_fixed, y_uah_disc], axis=0)\n",
    "X.reset_index(drop=True, inplace=True)\n",
    "X_train, X_val, y_train, y_val = train_test_split(X, y, test_size=0.2, random_state=42, shuffle=True)"
   ]
  },
  {
   "cell_type": "code",
   "execution_count": 34,
   "id": "2169b82f",
   "metadata": {},
   "outputs": [
    {
     "name": "stdout",
     "output_type": "stream",
     "text": [
      "F1 Score: 1.0\n",
      "Accuracy: 1.0\n"
     ]
    }
   ],
   "source": [
    "rf = RandomForestClassifier()\n",
    "rf.fit(X_train, y_train)\n",
    "y_pred = rf.predict(X_val)\n",
    "print(f\"F1 Score: {f1_score(y_val, y_pred, average='weighted')}\")\n",
    "print(f\"Accuracy: {accuracy_score(y_val, y_pred)}\")"
   ]
  },
  {
   "cell_type": "code",
   "execution_count": 35,
   "id": "11220b3c",
   "metadata": {},
   "outputs": [
    {
     "name": "stdout",
     "output_type": "stream",
     "text": [
      "F1 Score: 1.0\n",
      "Accuracy: 1.0\n"
     ]
    }
   ],
   "source": [
    "svc = SVC(kernel='rbf')\n",
    "svc.fit(X_train, y_train)\n",
    "y_pred = svc.predict(X_val)\n",
    "print(f\"F1 Score: {f1_score(y_val, y_pred, average='weighted')}\")\n",
    "print(f\"Accuracy: {accuracy_score(y_val, y_pred)}\")"
   ]
  },
  {
   "cell_type": "markdown",
   "id": "e67f88f7",
   "metadata": {},
   "source": [
    "### LLM"
   ]
  },
  {
   "cell_type": "code",
   "execution_count": 36,
   "id": "aa3c7d8c",
   "metadata": {},
   "outputs": [],
   "source": [
    "X, y = pd.concat([X_carla_disc_llm, X_uah_disc_carla], axis=0, ignore_index=True), np.concat([y_carla_disc_llm, y_uah_disc], axis=0)\n",
    "X.reset_index(drop=True, inplace=True)\n",
    "X_train, X_val, y_train, y_val = train_test_split(X, y, test_size=0.2, random_state=42, shuffle=True)"
   ]
  },
  {
   "cell_type": "code",
   "execution_count": 37,
   "id": "ca3c9f70",
   "metadata": {},
   "outputs": [
    {
     "name": "stdout",
     "output_type": "stream",
     "text": [
      "F1 Score: 1.0\n",
      "Accuracy: 1.0\n"
     ]
    }
   ],
   "source": [
    "rf = RandomForestClassifier()\n",
    "rf.fit(X_train, y_train)\n",
    "y_pred = rf.predict(X_val)\n",
    "print(f\"F1 Score: {f1_score(y_val, y_pred, average='weighted')}\")\n",
    "print(f\"Accuracy: {accuracy_score(y_val, y_pred)}\")"
   ]
  },
  {
   "cell_type": "code",
   "execution_count": 38,
   "id": "725edc1b",
   "metadata": {},
   "outputs": [
    {
     "name": "stdout",
     "output_type": "stream",
     "text": [
      "F1 Score: 1.0\n",
      "Accuracy: 1.0\n"
     ]
    }
   ],
   "source": [
    "svc = SVC(kernel='rbf')\n",
    "svc.fit(X_train, y_train)\n",
    "y_pred = svc.predict(X_val)\n",
    "print(f\"F1 Score: {f1_score(y_val, y_pred, average='weighted')}\")\n",
    "print(f\"Accuracy: {accuracy_score(y_val, y_pred)}\")"
   ]
  },
  {
   "cell_type": "markdown",
   "id": "4d1d188d",
   "metadata": {},
   "source": [
    "# Predictive Scores"
   ]
  },
  {
   "cell_type": "markdown",
   "id": "9a4ef45f",
   "metadata": {},
   "source": [
    "Here we train on different combinations of real and synthetic data and test on real data only in order to verify the quality of the data for real-world applications."
   ]
  },
  {
   "cell_type": "markdown",
   "id": "2f678a67",
   "metadata": {},
   "source": [
    "## Real Only"
   ]
  },
  {
   "cell_type": "code",
   "execution_count": 39,
   "id": "1730251d",
   "metadata": {},
   "outputs": [],
   "source": [
    "# Provide an Experiment description that will appear in the UI\n",
    "experiment_description = (\n",
    "    \"Experiment to train models on the UAH driveset.\"\n",
    ")\n",
    "\n",
    "# Provide searchable tags that define characteristics of the Runs that\n",
    "# will be in this Experiment\n",
    "experiment_tags = {\n",
    "    \"project_name\": \"driver-behavior-prediction\",\n",
    "    \"mlflow.note.content\": experiment_description,\n",
    "}\n",
    "\n",
    "# Create the Experiment, providing a unique name\n",
    "try:\n",
    "    driver_behavior_experiment = client.create_experiment(\n",
    "        name=\"UAH\", tags=experiment_tags\n",
    "    )\n",
    "except mlflow.exceptions.RestException as e:\n",
    "    print(f\"Experiment already exists: {e}\")"
   ]
  },
  {
   "cell_type": "code",
   "execution_count": 40,
   "id": "05595ec8",
   "metadata": {},
   "outputs": [],
   "source": [
    "columns_to_keep = ['acc_x', 'acc_y', 'acc_z', 'gyro_x', 'gyro_y', 'gyro_z', 'angle', 'speed', 'label']\n",
    "\n",
    "X_train, y_train = preprocessor.sliding_windows(uah_training[columns_to_keep], window_size=window_size, step_size=step_size)\n",
    "X_val, y_val = preprocessor.sliding_windows(uah_validation[columns_to_keep], window_size=window_size, step_size=step_size)\n",
    "\n",
    "scaler = StandardScaler()\n",
    "X_train = scaler.fit_transform(X_train)\n",
    "X_val = scaler.transform(X_val)\n",
    "\n",
    "y_train = preprocessor.one_hot_encode(y_train, one_hot_keys=one_hot_keys)\n",
    "y_val = preprocessor.one_hot_encode(y_val, one_hot_keys=one_hot_keys)\n",
    "\n",
    "signature = infer_signature(X_train, y_train)\n",
    "mlflow.set_experiment('UAH')\n",
    "data_name = 'UAH'"
   ]
  },
  {
   "cell_type": "code",
   "execution_count": 41,
   "id": "fab04b02",
   "metadata": {},
   "outputs": [
    {
     "name": "stdout",
     "output_type": "stream",
     "text": [
      "This will run 5 trials to find optimal hyperparameters...\n",
      "Params: {'max_depth': 50, 'n_estimators': 50, 'random_state': 42}\n",
      "🏃 View run RandomForestClassifier_{'max_depth': 50, 'n_estimators': 50, 'random_state': 42} at: http://127.0.0.1:8080/#/experiments/909610640582434158/runs/d7a6aa5493344524b304b56d2f0c1540\n",
      "\n",
      "🧪 View experiment at: http://127.0.0.1:8080/#/experiments/909610640582434158\n",
      "\n",
      "Params: {'max_depth': None, 'n_estimators': 500, 'random_state': 42}           \n",
      "🏃 View run RandomForestClassifier_{'max_depth': None, 'n_estimators': 500, 'random_state': 42} at: http://127.0.0.1:8080/#/experiments/909610640582434158/runs/154c35dbaf914a5aa8d1dc95043b5abf\n",
      "\n",
      "🧪 View experiment at: http://127.0.0.1:8080/#/experiments/909610640582434158  \n",
      "\n",
      "Params: {'max_depth': None, 'n_estimators': 500, 'random_state': 42}           \n",
      "🏃 View run RandomForestClassifier_{'max_depth': None, 'n_estimators': 500, 'random_state': 42} at: http://127.0.0.1:8080/#/experiments/909610640582434158/runs/f41add9eb0b04918ab8203f45b3a7f47\n",
      "\n",
      "🧪 View experiment at: http://127.0.0.1:8080/#/experiments/909610640582434158  \n",
      "\n",
      "Params: {'max_depth': 5, 'n_estimators': 200, 'random_state': 42}              \n",
      "🏃 View run RandomForestClassifier_{'max_depth': 5, 'n_estimators': 200, 'random_state': 42} at: http://127.0.0.1:8080/#/experiments/909610640582434158/runs/5429c50918924634af004b59091c4a54\n",
      "\n",
      "🧪 View experiment at: http://127.0.0.1:8080/#/experiments/909610640582434158  \n",
      "\n",
      "Params: {'max_depth': 20, 'n_estimators': 100, 'random_state': 42}             \n",
      "🏃 View run RandomForestClassifier_{'max_depth': 20, 'n_estimators': 100, 'random_state': 42} at: http://127.0.0.1:8080/#/experiments/909610640582434158/runs/506b37f0932b4b7fa2b38cbc0d658f2e\n",
      "\n",
      "🧪 View experiment at: http://127.0.0.1:8080/#/experiments/909610640582434158  \n",
      "\n",
      "100%|██████████| 5/5 [02:30<00:00, 30.15s/trial, best loss: -0.673030500242316]\n",
      "🏃 View run rf-sweep at: http://127.0.0.1:8080/#/experiments/909610640582434158/runs/722b112f58534d9291edd82969ddc793\n",
      "🧪 View experiment at: http://127.0.0.1:8080/#/experiments/909610640582434158\n",
      "This will run 5 trials to find optimal hyperparameters...\n",
      "Params: {'C': 0.5, 'gamma': 10, 'kernel': 'rbf'}     \n",
      "  0%|          | 0/5 [00:00<?, ?trial/s, best loss=?]"
     ]
    },
    {
     "name": "stderr",
     "output_type": "stream",
     "text": [
      "/home/renan/miniconda3/lib/python3.12/site-packages/sklearn/metrics/_classification.py:1565: UndefinedMetricWarning: Precision is ill-defined and being set to 0.0 in labels with no predicted samples. Use `zero_division` parameter to control this behavior.\n",
      "  _warn_prf(average, modifier, f\"{metric.capitalize()} is\", len(result))\n",
      "\n"
     ]
    },
    {
     "name": "stdout",
     "output_type": "stream",
     "text": [
      "🏃 View run SVC_{'C': 0.5, 'gamma': 10, 'kernel': 'rbf'} at: http://127.0.0.1:8080/#/experiments/909610640582434158/runs/365668037f3244f785c7d409825ce857\n",
      "\n",
      "🧪 View experiment at: http://127.0.0.1:8080/#/experiments/909610640582434158\n",
      "\n",
      "Params: {'C': 0.01, 'gamma': 10, 'kernel': 'rbf'}                                \n",
      " 20%|██        | 1/5 [02:06<08:27, 126.86s/trial, best loss: -0.3335592240143389]"
     ]
    },
    {
     "name": "stderr",
     "output_type": "stream",
     "text": [
      "/home/renan/miniconda3/lib/python3.12/site-packages/sklearn/metrics/_classification.py:1565: UndefinedMetricWarning: Precision is ill-defined and being set to 0.0 in labels with no predicted samples. Use `zero_division` parameter to control this behavior.\n",
      "  _warn_prf(average, modifier, f\"{metric.capitalize()} is\", len(result))\n",
      "\n"
     ]
    },
    {
     "name": "stdout",
     "output_type": "stream",
     "text": [
      "🏃 View run SVC_{'C': 0.01, 'gamma': 10, 'kernel': 'rbf'} at: http://127.0.0.1:8080/#/experiments/909610640582434158/runs/a1a1341bc91246d2934caa83891e095c\n",
      "\n",
      "🧪 View experiment at: http://127.0.0.1:8080/#/experiments/909610640582434158    \n",
      "\n",
      "Params: {'C': 0.01, 'gamma': 1, 'kernel': 'rbf'}                                 \n",
      " 40%|████      | 2/5 [03:43<05:26, 108.91s/trial, best loss: -0.3335592240143389]"
     ]
    },
    {
     "name": "stderr",
     "output_type": "stream",
     "text": [
      "/home/renan/miniconda3/lib/python3.12/site-packages/sklearn/metrics/_classification.py:1565: UndefinedMetricWarning: Precision is ill-defined and being set to 0.0 in labels with no predicted samples. Use `zero_division` parameter to control this behavior.\n",
      "  _warn_prf(average, modifier, f\"{metric.capitalize()} is\", len(result))\n",
      "\n"
     ]
    },
    {
     "name": "stdout",
     "output_type": "stream",
     "text": [
      "🏃 View run SVC_{'C': 0.01, 'gamma': 1, 'kernel': 'rbf'} at: http://127.0.0.1:8080/#/experiments/909610640582434158/runs/49a592b9cedd47419572106050be8314\n",
      "\n",
      "🧪 View experiment at: http://127.0.0.1:8080/#/experiments/909610640582434158    \n",
      "\n",
      "Params: {'C': 0.01, 'gamma': 10, 'kernel': 'rbf'}                                \n",
      " 60%|██████    | 3/5 [04:57<03:05, 92.90s/trial, best loss: -0.3335592240143389]"
     ]
    },
    {
     "name": "stderr",
     "output_type": "stream",
     "text": [
      "/home/renan/miniconda3/lib/python3.12/site-packages/sklearn/metrics/_classification.py:1565: UndefinedMetricWarning: Precision is ill-defined and being set to 0.0 in labels with no predicted samples. Use `zero_division` parameter to control this behavior.\n",
      "  _warn_prf(average, modifier, f\"{metric.capitalize()} is\", len(result))\n",
      "\n"
     ]
    },
    {
     "name": "stdout",
     "output_type": "stream",
     "text": [
      "🏃 View run SVC_{'C': 0.01, 'gamma': 10, 'kernel': 'rbf'} at: http://127.0.0.1:8080/#/experiments/909610640582434158/runs/dd5677fc00e84c53aeaace8adb7a5ad9\n",
      "\n",
      "🧪 View experiment at: http://127.0.0.1:8080/#/experiments/909610640582434158   \n",
      "\n",
      "Params: {'C': 0.5, 'gamma': 0.1, 'kernel': 'rbf'}                               \n",
      "🏃 View run SVC_{'C': 0.5, 'gamma': 0.1, 'kernel': 'rbf'} at: http://127.0.0.1:8080/#/experiments/909610640582434158/runs/0f5001c6710e4a429db0c9225d84351f\n",
      "\n",
      "🧪 View experiment at: http://127.0.0.1:8080/#/experiments/909610640582434158   \n",
      "\n",
      "100%|██████████| 5/5 [07:33<00:00, 90.69s/trial, best loss: -0.7449274665292777]\n",
      "🏃 View run svc-sweep at: http://127.0.0.1:8080/#/experiments/909610640582434158/runs/5417db442fe9493d8198ff33c22367d9\n",
      "🧪 View experiment at: http://127.0.0.1:8080/#/experiments/909610640582434158\n",
      "This will run 5 trials to find optimal hyperparameters...\n",
      "Params: {'C': 0.001}                                 \n",
      "🏃 View run LinearSVC_{'C': 0.001} at: http://127.0.0.1:8080/#/experiments/909610640582434158/runs/c00cf22a10ae41c297f84fdd8def06d7\n",
      "\n",
      "🧪 View experiment at: http://127.0.0.1:8080/#/experiments/909610640582434158\n",
      "\n",
      "Params: {'C': 0.0001}                                                           \n",
      "🏃 View run LinearSVC_{'C': 0.0001} at: http://127.0.0.1:8080/#/experiments/909610640582434158/runs/42b9871a9995423a9ea27658f878ca02\n",
      "\n",
      "🧪 View experiment at: http://127.0.0.1:8080/#/experiments/909610640582434158   \n",
      "\n",
      "Params: {'C': 0.1}                                                              \n",
      "🏃 View run LinearSVC_{'C': 0.1} at: http://127.0.0.1:8080/#/experiments/909610640582434158/runs/0f2692ba44e2454180a1301abacbdf97\n",
      "\n",
      "🧪 View experiment at: http://127.0.0.1:8080/#/experiments/909610640582434158   \n",
      "\n",
      "Params: {'C': 0.01}                                                             \n",
      "🏃 View run LinearSVC_{'C': 0.01} at: http://127.0.0.1:8080/#/experiments/909610640582434158/runs/8e0f78ac37b144cf97c2d99a39ea796b\n",
      "\n",
      "🧪 View experiment at: http://127.0.0.1:8080/#/experiments/909610640582434158   \n",
      "\n",
      "Params: {'C': 0.001}                                                            \n",
      "🏃 View run LinearSVC_{'C': 0.001} at: http://127.0.0.1:8080/#/experiments/909610640582434158/runs/719d4ae3f91e4a9ba13c0938b48af7c8\n",
      "\n",
      "🧪 View experiment at: http://127.0.0.1:8080/#/experiments/909610640582434158   \n",
      "\n",
      "100%|██████████| 5/5 [00:10<00:00,  2.05s/trial, best loss: -0.6726667762946861]\n",
      "🏃 View run svc-linear-sweep at: http://127.0.0.1:8080/#/experiments/909610640582434158/runs/d0bbb92a008d45e0af9e3a979942204c\n",
      "🧪 View experiment at: http://127.0.0.1:8080/#/experiments/909610640582434158\n",
      "This will run 5 trials to find optimal hyperparameters...\n",
      "Params: {'colsample_bytree': 1.0, 'learning_rate': 0.01, 'max_depth': 5, 'n_estimators': 700, 'subsample': 0.7}\n",
      "🏃 View run XGBClassifier_{'colsample_bytree': 1.0, 'learning_rate': 0.01, 'max_depth': 5, 'n_estimators': 700, 'subsample': 0.7} at: http://127.0.0.1:8080/#/experiments/909610640582434158/runs/b2f2aa146c8945ac9bbc88c2dd2d2c16\n",
      "\n",
      "🧪 View experiment at: http://127.0.0.1:8080/#/experiments/909610640582434158\n",
      "\n",
      "Params: {'colsample_bytree': 0.5, 'learning_rate': 0.001, 'max_depth': 5, 'n_estimators': 700, 'subsample': 0.7}\n",
      "🏃 View run XGBClassifier_{'colsample_bytree': 0.5, 'learning_rate': 0.001, 'max_depth': 5, 'n_estimators': 700, 'subsample': 0.7} at: http://127.0.0.1:8080/#/experiments/909610640582434158/runs/544cbfff4b234586910a68e54aabd2a8\n",
      "\n",
      "🧪 View experiment at: http://127.0.0.1:8080/#/experiments/909610640582434158  \n",
      "\n",
      "Params: {'colsample_bytree': 1.0, 'learning_rate': 0.001, 'max_depth': None, 'n_estimators': 500, 'subsample': 1.0}\n",
      "🏃 View run XGBClassifier_{'colsample_bytree': 1.0, 'learning_rate': 0.001, 'max_depth': None, 'n_estimators': 500, 'subsample': 1.0} at: http://127.0.0.1:8080/#/experiments/909610640582434158/runs/1c250f398e6d40a19dd8f3b7b2666069\n",
      "\n",
      "🧪 View experiment at: http://127.0.0.1:8080/#/experiments/909610640582434158  \n",
      "\n",
      "Params: {'colsample_bytree': 0.5, 'learning_rate': 0.001, 'max_depth': None, 'n_estimators': 200, 'subsample': 0.5}\n",
      " 60%|██████    | 3/5 [00:16<00:10,  5.36s/trial, best loss: -0.779620637655797]"
     ]
    },
    {
     "name": "stderr",
     "output_type": "stream",
     "text": [
      "/home/renan/miniconda3/lib/python3.12/site-packages/sklearn/metrics/_classification.py:1565: UndefinedMetricWarning: Precision is ill-defined and being set to 0.0 in labels with no predicted samples. Use `zero_division` parameter to control this behavior.\n",
      "  _warn_prf(average, modifier, f\"{metric.capitalize()} is\", len(result))\n",
      "\n"
     ]
    },
    {
     "name": "stdout",
     "output_type": "stream",
     "text": [
      "🏃 View run XGBClassifier_{'colsample_bytree': 0.5, 'learning_rate': 0.001, 'max_depth': None, 'n_estimators': 200, 'subsample': 0.5} at: http://127.0.0.1:8080/#/experiments/909610640582434158/runs/410540674dab4bdf8b995c078f5cebed\n",
      "\n",
      "🧪 View experiment at: http://127.0.0.1:8080/#/experiments/909610640582434158  \n",
      "\n",
      "Params: {'colsample_bytree': 0.7, 'learning_rate': 0.1, 'max_depth': None, 'n_estimators': 1000, 'subsample': 1.0}\n",
      "🏃 View run XGBClassifier_{'colsample_bytree': 0.7, 'learning_rate': 0.1, 'max_depth': None, 'n_estimators': 1000, 'subsample': 1.0} at: http://127.0.0.1:8080/#/experiments/909610640582434158/runs/89e02c0008db4b3d9bb77aca5ac97998\n",
      "\n",
      "🧪 View experiment at: http://127.0.0.1:8080/#/experiments/909610640582434158  \n",
      "\n",
      "100%|██████████| 5/5 [00:31<00:00,  6.26s/trial, best loss: -0.779620637655797]\n",
      "🏃 View run xgb-sweep at: http://127.0.0.1:8080/#/experiments/909610640582434158/runs/cc43505f2a4f4736acfe6b12e81d03ad\n",
      "🧪 View experiment at: http://127.0.0.1:8080/#/experiments/909610640582434158\n"
     ]
    },
    {
     "data": {
      "text/plain": [
       "0.779620637655797"
      ]
     },
     "execution_count": 41,
     "metadata": {},
     "output_type": "execute_result"
    }
   ],
   "source": [
    "model = RandomForestClassifier\n",
    "run_experiments('rf-sweep', max_evals=max_evals, search_space=search_space_rf, data_name=data_name, model_name = 'RandomForestClassifier', features_names=columns_to_keep)\n",
    "model = SVC\n",
    "run_experiments('svc-sweep', max_evals=max_evals, search_space=search_space_svc, data_name=data_name, model_name = 'SVC', features_names=columns_to_keep)\n",
    "model = LinearSVC\n",
    "run_experiments('svc-linear-sweep', max_evals=max_evals, search_space=search_space_svc_linear, data_name=data_name, model_name = 'LinearSVC', features_names=columns_to_keep)\n",
    "model = xgb.XGBClassifier\n",
    "run_experiments('xgb-sweep', max_evals=max_evals, search_space=search_space_xgb, data_name=data_name, model_name = 'XGBClassifier', features_names=columns_to_keep)"
   ]
  },
  {
   "cell_type": "markdown",
   "id": "05f0c899",
   "metadata": {},
   "source": [
    "## SUMO Only"
   ]
  },
  {
   "cell_type": "code",
   "execution_count": 42,
   "id": "4b0bd8d1",
   "metadata": {},
   "outputs": [],
   "source": [
    "# SUMO\n",
    "X_sumo_fixed, y_sumo_fixed = preprocessor.sliding_windows(sumo_fixed, window_size=window_size, step_size=step_size)\n",
    "X_sumo_llm, y_sumo_llm = preprocessor.sliding_windows(sumo_llm, window_size=window_size, step_size=step_size)"
   ]
  },
  {
   "cell_type": "code",
   "execution_count": 43,
   "id": "98105bf0",
   "metadata": {},
   "outputs": [
    {
     "name": "stdout",
     "output_type": "stream",
     "text": [
      "Columns to keep for validation: ['acc', 'angle', 'speed', 'gyro_z', 'label']\n"
     ]
    }
   ],
   "source": [
    "# Getting the validation for SUMO variables\n",
    "print(\"Columns to keep for validation:\", sumo_columns_to_keep)\n",
    "\n",
    "X_val_base, y_val = preprocessor.sliding_windows(uah_validation[sumo_columns_to_keep], window_size=window_size, step_size=step_size)\n",
    "y_val = preprocessor.one_hot_encode(y_val, one_hot_keys=one_hot_keys)"
   ]
  },
  {
   "cell_type": "markdown",
   "id": "69e823c8",
   "metadata": {},
   "source": [
    "### Fixed"
   ]
  },
  {
   "cell_type": "code",
   "execution_count": 44,
   "id": "da934d9c",
   "metadata": {},
   "outputs": [],
   "source": [
    "# Provide an Experiment description that will appear in the UI\n",
    "experiment_description = (\n",
    "    \"Experiment to train models on the SUMO Fixed dataset.\"\n",
    ")\n",
    "\n",
    "# Provide searchable tags that define characteristics of the Runs that\n",
    "# will be in this Experiment\n",
    "experiment_tags = {\n",
    "    \"project_name\": \"driver-behavior-prediction\",\n",
    "    \"mlflow.note.content\": experiment_description,\n",
    "}\n",
    "\n",
    "# Create the Experiment, providing a unique name\n",
    "try:\n",
    "    driver_behavior_experiment = client.create_experiment(\n",
    "        name=\"SUMO_Fixed\", tags=experiment_tags\n",
    "    )\n",
    "except mlflow.exceptions.RestException as e:\n",
    "    print(f\"Experiment already exists: {e}\")"
   ]
  },
  {
   "cell_type": "code",
   "execution_count": 45,
   "id": "0f7026fd",
   "metadata": {},
   "outputs": [],
   "source": [
    "X_train, y_train = X_sumo_fixed, y_sumo_fixed\n",
    "\n",
    "scaler = StandardScaler()\n",
    "X_train = scaler.fit_transform(X_train)\n",
    "X_val = scaler.transform(X_val_base)\n",
    "y_train = preprocessor.one_hot_encode(y_train, one_hot_keys=one_hot_keys)\n",
    "\n",
    "signature = infer_signature(X_train, y_train)\n",
    "mlflow.set_experiment('SUMO_Fixed')\n",
    "data_name = 'SUMO_Fixed'"
   ]
  },
  {
   "cell_type": "code",
   "execution_count": 46,
   "id": "7080e63a",
   "metadata": {},
   "outputs": [
    {
     "name": "stdout",
     "output_type": "stream",
     "text": [
      "This will run 5 trials to find optimal hyperparameters...\n",
      "Params: {'max_depth': 10, 'n_estimators': 200, 'random_state': 42}\n",
      "🏃 View run RandomForestClassifier_{'max_depth': 10, 'n_estimators': 200, 'random_state': 42} at: http://127.0.0.1:8080/#/experiments/550988817141560277/runs/abfbf35edf5947f88cd02228c554059d\n",
      "\n",
      "🧪 View experiment at: http://127.0.0.1:8080/#/experiments/550988817141560277\n",
      "\n",
      "Params: {'max_depth': None, 'n_estimators': 500, 'random_state': 42}             \n",
      " 20%|██        | 1/5 [00:18<01:13, 18.48s/trial, best loss: -0.33671100692668154]"
     ]
    },
    {
     "name": "stderr",
     "output_type": "stream",
     "text": [
      "/home/renan/miniconda3/lib/python3.12/site-packages/sklearn/metrics/_classification.py:1565: UndefinedMetricWarning: Precision is ill-defined and being set to 0.0 in labels with no predicted samples. Use `zero_division` parameter to control this behavior.\n",
      "  _warn_prf(average, modifier, f\"{metric.capitalize()} is\", len(result))\n",
      "\n"
     ]
    },
    {
     "name": "stdout",
     "output_type": "stream",
     "text": [
      "🏃 View run RandomForestClassifier_{'max_depth': None, 'n_estimators': 500, 'random_state': 42} at: http://127.0.0.1:8080/#/experiments/550988817141560277/runs/b84154e19e0a4c57aa3eafb495b9fd44\n",
      "\n",
      "🧪 View experiment at: http://127.0.0.1:8080/#/experiments/550988817141560277    \n",
      "\n",
      "Params: {'max_depth': 10, 'n_estimators': 50, 'random_state': 42}                \n",
      " 40%|████      | 2/5 [01:39<02:45, 55.13s/trial, best loss: -0.33671100692668154]"
     ]
    },
    {
     "name": "stderr",
     "output_type": "stream",
     "text": [
      "/home/renan/miniconda3/lib/python3.12/site-packages/sklearn/metrics/_classification.py:1565: UndefinedMetricWarning: Precision is ill-defined and being set to 0.0 in labels with no predicted samples. Use `zero_division` parameter to control this behavior.\n",
      "  _warn_prf(average, modifier, f\"{metric.capitalize()} is\", len(result))\n",
      "\n"
     ]
    },
    {
     "name": "stdout",
     "output_type": "stream",
     "text": [
      "🏃 View run RandomForestClassifier_{'max_depth': 10, 'n_estimators': 50, 'random_state': 42} at: http://127.0.0.1:8080/#/experiments/550988817141560277/runs/1f6c99aaee924425b3b5ce8cdd7013e7\n",
      "\n",
      "🧪 View experiment at: http://127.0.0.1:8080/#/experiments/550988817141560277    \n",
      "\n",
      "Params: {'max_depth': 20, 'n_estimators': 200, 'random_state': 42}               \n",
      " 60%|██████    | 3/5 [01:44<01:05, 32.54s/trial, best loss: -0.33671100692668154]"
     ]
    },
    {
     "name": "stderr",
     "output_type": "stream",
     "text": [
      "/home/renan/miniconda3/lib/python3.12/site-packages/sklearn/metrics/_classification.py:1565: UndefinedMetricWarning: Precision is ill-defined and being set to 0.0 in labels with no predicted samples. Use `zero_division` parameter to control this behavior.\n",
      "  _warn_prf(average, modifier, f\"{metric.capitalize()} is\", len(result))\n",
      "\n"
     ]
    },
    {
     "name": "stdout",
     "output_type": "stream",
     "text": [
      "🏃 View run RandomForestClassifier_{'max_depth': 20, 'n_estimators': 200, 'random_state': 42} at: http://127.0.0.1:8080/#/experiments/550988817141560277/runs/fd847e47721f41b0ab8b449efdeaa18a\n",
      "\n",
      "🧪 View experiment at: http://127.0.0.1:8080/#/experiments/550988817141560277    \n",
      "\n",
      "Params: {'max_depth': 10, 'n_estimators': 200, 'random_state': 42}               \n",
      "🏃 View run RandomForestClassifier_{'max_depth': 10, 'n_estimators': 200, 'random_state': 42} at: http://127.0.0.1:8080/#/experiments/550988817141560277/runs/8eca37b77f9746aa83c0a8f62bdfd7e7\n",
      "\n",
      "🧪 View experiment at: http://127.0.0.1:8080/#/experiments/550988817141560277    \n",
      "\n",
      "100%|██████████| 5/5 [02:30<00:00, 30.15s/trial, best loss: -0.33671100692668154]\n",
      "🏃 View run rf-sweep at: http://127.0.0.1:8080/#/experiments/550988817141560277/runs/1c0d7f538d4f4a04a6c9a1d4350bc21f\n",
      "🧪 View experiment at: http://127.0.0.1:8080/#/experiments/550988817141560277\n",
      "This will run 5 trials to find optimal hyperparameters...\n",
      "Params: {'C': 1, 'gamma': 10, 'kernel': 'rbf'}       \n",
      "  0%|          | 0/5 [00:00<?, ?trial/s, best loss=?]"
     ]
    },
    {
     "name": "stderr",
     "output_type": "stream",
     "text": [
      "/home/renan/miniconda3/lib/python3.12/site-packages/sklearn/metrics/_classification.py:1565: UndefinedMetricWarning: Precision is ill-defined and being set to 0.0 in labels with no predicted samples. Use `zero_division` parameter to control this behavior.\n",
      "  _warn_prf(average, modifier, f\"{metric.capitalize()} is\", len(result))\n",
      "\n"
     ]
    },
    {
     "name": "stdout",
     "output_type": "stream",
     "text": [
      "🏃 View run SVC_{'C': 1, 'gamma': 10, 'kernel': 'rbf'} at: http://127.0.0.1:8080/#/experiments/550988817141560277/runs/c4fd8c0b35724f2e874d485f5cf7b16e\n",
      "\n",
      "🧪 View experiment at: http://127.0.0.1:8080/#/experiments/550988817141560277\n",
      "\n",
      "Params: {'C': 0.05, 'gamma': 1, 'kernel': 'rbf'}                                  \n",
      " 20%|██        | 1/5 [03:13<12:54, 193.67s/trial, best loss: -0.33310749162724596]"
     ]
    },
    {
     "name": "stderr",
     "output_type": "stream",
     "text": [
      "/home/renan/miniconda3/lib/python3.12/site-packages/sklearn/metrics/_classification.py:1565: UndefinedMetricWarning: Precision is ill-defined and being set to 0.0 in labels with no predicted samples. Use `zero_division` parameter to control this behavior.\n",
      "  _warn_prf(average, modifier, f\"{metric.capitalize()} is\", len(result))\n",
      "\n"
     ]
    },
    {
     "name": "stdout",
     "output_type": "stream",
     "text": [
      "🏃 View run SVC_{'C': 0.05, 'gamma': 1, 'kernel': 'rbf'} at: http://127.0.0.1:8080/#/experiments/550988817141560277/runs/2814a828e55840de86d8b43b1cad114c\n",
      "\n",
      "🧪 View experiment at: http://127.0.0.1:8080/#/experiments/550988817141560277     \n",
      "\n",
      "Params: {'C': 0.05, 'gamma': 1, 'kernel': 'rbf'}                                  \n",
      " 40%|████      | 2/5 [04:21<05:58, 119.55s/trial, best loss: -0.33310749162724596]"
     ]
    },
    {
     "name": "stderr",
     "output_type": "stream",
     "text": [
      "/home/renan/miniconda3/lib/python3.12/site-packages/sklearn/metrics/_classification.py:1565: UndefinedMetricWarning: Precision is ill-defined and being set to 0.0 in labels with no predicted samples. Use `zero_division` parameter to control this behavior.\n",
      "  _warn_prf(average, modifier, f\"{metric.capitalize()} is\", len(result))\n",
      "\n"
     ]
    },
    {
     "name": "stdout",
     "output_type": "stream",
     "text": [
      "🏃 View run SVC_{'C': 0.05, 'gamma': 1, 'kernel': 'rbf'} at: http://127.0.0.1:8080/#/experiments/550988817141560277/runs/f24ad8f267c74683b55ca2e83a2297f1\n",
      "\n",
      "🧪 View experiment at: http://127.0.0.1:8080/#/experiments/550988817141560277     \n",
      "\n",
      "Params: {'C': 0.1, 'gamma': 0.001, 'kernel': 'rbf'}                               \n",
      " 60%|██████    | 3/5 [05:28<03:11, 95.63s/trial, best loss: -0.33310749162724596]"
     ]
    },
    {
     "name": "stderr",
     "output_type": "stream",
     "text": [
      "/home/renan/miniconda3/lib/python3.12/site-packages/sklearn/metrics/_classification.py:1565: UndefinedMetricWarning: Precision is ill-defined and being set to 0.0 in labels with no predicted samples. Use `zero_division` parameter to control this behavior.\n",
      "  _warn_prf(average, modifier, f\"{metric.capitalize()} is\", len(result))\n",
      "\n"
     ]
    },
    {
     "name": "stdout",
     "output_type": "stream",
     "text": [
      "🏃 View run SVC_{'C': 0.1, 'gamma': 0.001, 'kernel': 'rbf'} at: http://127.0.0.1:8080/#/experiments/550988817141560277/runs/456e88f389dd427db49a68fd44f1c8cf\n",
      "\n",
      "🧪 View experiment at: http://127.0.0.1:8080/#/experiments/550988817141560277    \n",
      "\n",
      "Params: {'C': 0.1, 'gamma': 0.001, 'kernel': 'rbf'}                              \n",
      " 80%|████████  | 4/5 [06:47<01:29, 89.04s/trial, best loss: -0.33310749162724596]"
     ]
    },
    {
     "name": "stderr",
     "output_type": "stream",
     "text": [
      "/home/renan/miniconda3/lib/python3.12/site-packages/sklearn/metrics/_classification.py:1565: UndefinedMetricWarning: Precision is ill-defined and being set to 0.0 in labels with no predicted samples. Use `zero_division` parameter to control this behavior.\n",
      "  _warn_prf(average, modifier, f\"{metric.capitalize()} is\", len(result))\n",
      "\n"
     ]
    },
    {
     "name": "stdout",
     "output_type": "stream",
     "text": [
      "🏃 View run SVC_{'C': 0.1, 'gamma': 0.001, 'kernel': 'rbf'} at: http://127.0.0.1:8080/#/experiments/550988817141560277/runs/0b8b322b305d4e0f8de39024d655e40a\n",
      "\n",
      "🧪 View experiment at: http://127.0.0.1:8080/#/experiments/550988817141560277    \n",
      "\n",
      "100%|██████████| 5/5 [08:06<00:00, 97.29s/trial, best loss: -0.33310749162724596]\n",
      "🏃 View run svc-sweep at: http://127.0.0.1:8080/#/experiments/550988817141560277/runs/f2585f31e0c244b7842e71ef32b8e0b3\n",
      "🧪 View experiment at: http://127.0.0.1:8080/#/experiments/550988817141560277\n",
      "This will run 5 trials to find optimal hyperparameters...\n",
      "Params: {'C': 0.001}                                 \n",
      "🏃 View run LinearSVC_{'C': 0.001} at: http://127.0.0.1:8080/#/experiments/550988817141560277/runs/5470c5b7f0434f329fa1fab22a6422cf\n",
      "\n",
      "🧪 View experiment at: http://127.0.0.1:8080/#/experiments/550988817141560277\n",
      "\n",
      "Params: {'C': 1}                                                                \n",
      "🏃 View run LinearSVC_{'C': 1} at: http://127.0.0.1:8080/#/experiments/550988817141560277/runs/64e59875b96248288a340b1174c74be2\n",
      "\n",
      "🧪 View experiment at: http://127.0.0.1:8080/#/experiments/550988817141560277   \n",
      "\n",
      "Params: {'C': 0.0001}                                                           \n",
      "🏃 View run LinearSVC_{'C': 0.0001} at: http://127.0.0.1:8080/#/experiments/550988817141560277/runs/61ea271120454a119b57372ebd50cd2a\n",
      "\n",
      "🧪 View experiment at: http://127.0.0.1:8080/#/experiments/550988817141560277  \n",
      "\n",
      "Params: {'C': 0.0001}                                                          \n",
      "🏃 View run LinearSVC_{'C': 0.0001} at: http://127.0.0.1:8080/#/experiments/550988817141560277/runs/44d5e3c81a08443aa2ddb7ab0e4c744c\n",
      "\n",
      "🧪 View experiment at: http://127.0.0.1:8080/#/experiments/550988817141560277  \n",
      "\n",
      "Params: {'C': 0.0001}                                                          \n",
      "🏃 View run LinearSVC_{'C': 0.0001} at: http://127.0.0.1:8080/#/experiments/550988817141560277/runs/e4c85a2960c64bf3b4fb2190512467db\n",
      "\n",
      "🧪 View experiment at: http://127.0.0.1:8080/#/experiments/550988817141560277  \n",
      "\n",
      "100%|██████████| 5/5 [00:09<00:00,  1.80s/trial, best loss: -0.342901004148802]\n",
      "🏃 View run svc-linear-sweep at: http://127.0.0.1:8080/#/experiments/550988817141560277/runs/f3531c643ac84c339f812136c15a815e\n",
      "🧪 View experiment at: http://127.0.0.1:8080/#/experiments/550988817141560277\n",
      "This will run 5 trials to find optimal hyperparameters...\n",
      "Params: {'colsample_bytree': 1.0, 'learning_rate': 0.3, 'max_depth': 10, 'n_estimators': 700, 'subsample': 0.5}\n",
      "🏃 View run XGBClassifier_{'colsample_bytree': 1.0, 'learning_rate': 0.3, 'max_depth': 10, 'n_estimators': 700, 'subsample': 0.5} at: http://127.0.0.1:8080/#/experiments/550988817141560277/runs/373df94941c748b8918d2e51e2385d57\n",
      "\n",
      "🧪 View experiment at: http://127.0.0.1:8080/#/experiments/550988817141560277\n",
      "\n",
      "Params: {'colsample_bytree': 1.0, 'learning_rate': 0.1, 'max_depth': 10, 'n_estimators': 700, 'subsample': 0.7}\n",
      "🏃 View run XGBClassifier_{'colsample_bytree': 1.0, 'learning_rate': 0.1, 'max_depth': 10, 'n_estimators': 700, 'subsample': 0.7} at: http://127.0.0.1:8080/#/experiments/550988817141560277/runs/8e0488c9667c4ee8affb9c8194cdbf8f\n",
      "\n",
      "🧪 View experiment at: http://127.0.0.1:8080/#/experiments/550988817141560277    \n",
      "\n",
      "Params: {'colsample_bytree': 1.0, 'learning_rate': 0.2, 'max_depth': None, 'n_estimators': 1000, 'subsample': 0.5}\n",
      "🏃 View run XGBClassifier_{'colsample_bytree': 1.0, 'learning_rate': 0.2, 'max_depth': None, 'n_estimators': 1000, 'subsample': 0.5} at: http://127.0.0.1:8080/#/experiments/550988817141560277/runs/e0f2fab81f0f4be7a654407d6bc05c3a\n",
      "\n",
      "🧪 View experiment at: http://127.0.0.1:8080/#/experiments/550988817141560277    \n",
      "\n",
      "Params: {'colsample_bytree': 1.0, 'learning_rate': 0.01, 'max_depth': 5, 'n_estimators': 200, 'subsample': 0.5}\n",
      " 60%|██████    | 3/5 [00:19<00:12,  6.05s/trial, best loss: -0.33730962743803933]"
     ]
    },
    {
     "name": "stderr",
     "output_type": "stream",
     "text": [
      "/home/renan/miniconda3/lib/python3.12/site-packages/sklearn/metrics/_classification.py:1565: UndefinedMetricWarning: Precision is ill-defined and being set to 0.0 in labels with no predicted samples. Use `zero_division` parameter to control this behavior.\n",
      "  _warn_prf(average, modifier, f\"{metric.capitalize()} is\", len(result))\n",
      "\n"
     ]
    },
    {
     "name": "stdout",
     "output_type": "stream",
     "text": [
      "🏃 View run XGBClassifier_{'colsample_bytree': 1.0, 'learning_rate': 0.01, 'max_depth': 5, 'n_estimators': 200, 'subsample': 0.5} at: http://127.0.0.1:8080/#/experiments/550988817141560277/runs/c3b00caf72de432eadc9ddd9f25eefe3\n",
      "\n",
      "🧪 View experiment at: http://127.0.0.1:8080/#/experiments/550988817141560277    \n",
      "\n",
      "Params: {'colsample_bytree': 0.7, 'learning_rate': 0.001, 'max_depth': 5, 'n_estimators': 700, 'subsample': 0.7}\n",
      " 80%|████████  | 4/5 [00:21<00:04,  4.41s/trial, best loss: -0.33730962743803933]"
     ]
    },
    {
     "name": "stderr",
     "output_type": "stream",
     "text": [
      "/home/renan/miniconda3/lib/python3.12/site-packages/sklearn/metrics/_classification.py:1565: UndefinedMetricWarning: Precision is ill-defined and being set to 0.0 in labels with no predicted samples. Use `zero_division` parameter to control this behavior.\n",
      "  _warn_prf(average, modifier, f\"{metric.capitalize()} is\", len(result))\n",
      "\n"
     ]
    },
    {
     "name": "stdout",
     "output_type": "stream",
     "text": [
      "🏃 View run XGBClassifier_{'colsample_bytree': 0.7, 'learning_rate': 0.001, 'max_depth': 5, 'n_estimators': 700, 'subsample': 0.7} at: http://127.0.0.1:8080/#/experiments/550988817141560277/runs/c953b442e7c54375834c33460c332c54\n",
      "\n",
      "🧪 View experiment at: http://127.0.0.1:8080/#/experiments/550988817141560277    \n",
      "\n",
      "100%|██████████| 5/5 [00:24<00:00,  4.82s/trial, best loss: -0.33730962743803933]\n",
      "🏃 View run xgb-sweep at: http://127.0.0.1:8080/#/experiments/550988817141560277/runs/ae11a859acc14eba99c1f4b5ead74fd0\n",
      "🧪 View experiment at: http://127.0.0.1:8080/#/experiments/550988817141560277\n"
     ]
    },
    {
     "data": {
      "text/plain": [
       "0.33730962743803933"
      ]
     },
     "execution_count": 46,
     "metadata": {},
     "output_type": "execute_result"
    }
   ],
   "source": [
    "model = RandomForestClassifier\n",
    "run_experiments('rf-sweep', max_evals=max_evals, search_space=search_space_rf, data_name=data_name, model_name = 'RandomForestClassifier', features_names=columns_to_keep)\n",
    "model = SVC\n",
    "run_experiments('svc-sweep', max_evals=max_evals, search_space=search_space_svc, data_name=data_name, model_name = 'SVC', features_names=columns_to_keep)\n",
    "model = LinearSVC\n",
    "run_experiments('svc-linear-sweep', max_evals=max_evals, search_space=search_space_svc_linear, data_name=data_name, model_name = 'LinearSVC', features_names=columns_to_keep)\n",
    "model = xgb.XGBClassifier\n",
    "run_experiments('xgb-sweep', max_evals=max_evals, search_space=search_space_xgb, data_name=data_name, model_name = 'XGBClassifier', features_names=columns_to_keep)"
   ]
  },
  {
   "cell_type": "markdown",
   "id": "65285841",
   "metadata": {},
   "source": [
    "### LLM"
   ]
  },
  {
   "cell_type": "code",
   "execution_count": 47,
   "id": "567d9f58",
   "metadata": {},
   "outputs": [],
   "source": [
    "# Provide an Experiment description that will appear in the UI\n",
    "experiment_description = (\n",
    "    \"Experiment to train models on the SUMO LLM dataset.\"\n",
    ")\n",
    "\n",
    "# Provide searchable tags that define characteristics of the Runs that\n",
    "# will be in this Experiment\n",
    "experiment_tags = {\n",
    "    \"project_name\": \"driver-behavior-prediction\",\n",
    "    \"mlflow.note.content\": experiment_description,\n",
    "}\n",
    "\n",
    "# Create the Experiment, providing a unique name\n",
    "try:\n",
    "    driver_behavior_experiment = client.create_experiment(\n",
    "        name=\"SUMO_LLM\", tags=experiment_tags\n",
    "    )\n",
    "except mlflow.exceptions.RestException as e:\n",
    "    print(f\"Experiment already exists: {e}\")"
   ]
  },
  {
   "cell_type": "code",
   "execution_count": 48,
   "id": "0460281e",
   "metadata": {},
   "outputs": [],
   "source": [
    "X_train, y_train = X_sumo_llm, y_sumo_llm\n",
    "\n",
    "scaler = StandardScaler()\n",
    "X_train = scaler.fit_transform(X_train)\n",
    "X_val = scaler.transform(X_val_base)\n",
    "y_train = preprocessor.one_hot_encode(y_train, one_hot_keys=one_hot_keys)\n",
    "\n",
    "mlflow.set_experiment('SUMO_LLM')\n",
    "data_name = 'SUMO_LLM'"
   ]
  },
  {
   "cell_type": "code",
   "execution_count": 49,
   "id": "4da017c3",
   "metadata": {},
   "outputs": [
    {
     "name": "stdout",
     "output_type": "stream",
     "text": [
      "This will run 5 trials to find optimal hyperparameters...\n",
      "Params: {'max_depth': 20, 'n_estimators': 50, 'random_state': 42}\n",
      "🏃 View run RandomForestClassifier_{'max_depth': 20, 'n_estimators': 50, 'random_state': 42} at: http://127.0.0.1:8080/#/experiments/664414606457528437/runs/2e8e2140ad1b42a9ae2968ea0c72b190\n",
      "\n",
      "🧪 View experiment at: http://127.0.0.1:8080/#/experiments/664414606457528437\n",
      "\n",
      "Params: {'max_depth': 50, 'n_estimators': 100, 'random_state': 42}               \n",
      "🏃 View run RandomForestClassifier_{'max_depth': 50, 'n_estimators': 100, 'random_state': 42} at: http://127.0.0.1:8080/#/experiments/664414606457528437/runs/dade9712c4b346d0b72d343ad7328452\n",
      "\n",
      "🧪 View experiment at: http://127.0.0.1:8080/#/experiments/664414606457528437    \n",
      "\n",
      "Params: {'max_depth': 10, 'n_estimators': 500, 'random_state': 42}               \n",
      "🏃 View run RandomForestClassifier_{'max_depth': 10, 'n_estimators': 500, 'random_state': 42} at: http://127.0.0.1:8080/#/experiments/664414606457528437/runs/d87bafc2c5c54a5f9ab2d5c655b6b51d\n",
      "\n",
      "🧪 View experiment at: http://127.0.0.1:8080/#/experiments/664414606457528437   \n",
      "\n",
      "Params: {'max_depth': 50, 'n_estimators': 200, 'random_state': 42}               \n",
      "🏃 View run RandomForestClassifier_{'max_depth': 50, 'n_estimators': 200, 'random_state': 42} at: http://127.0.0.1:8080/#/experiments/664414606457528437/runs/bee25474091c4894aa128a3cf7dd5324\n",
      "\n",
      "🧪 View experiment at: http://127.0.0.1:8080/#/experiments/664414606457528437    \n",
      "\n",
      "Params: {'max_depth': 20, 'n_estimators': 20, 'random_state': 42}                \n",
      "🏃 View run RandomForestClassifier_{'max_depth': 20, 'n_estimators': 20, 'random_state': 42} at: http://127.0.0.1:8080/#/experiments/664414606457528437/runs/bbb4deb02fa44fa1a409b73e5d464560\n",
      "\n",
      "🧪 View experiment at: http://127.0.0.1:8080/#/experiments/664414606457528437    \n",
      "\n",
      "100%|██████████| 5/5 [03:39<00:00, 43.98s/trial, best loss: -0.34014281589039747]\n",
      "🏃 View run rf-sweep at: http://127.0.0.1:8080/#/experiments/664414606457528437/runs/f7e3ea06e6224c64ba6d85054994bd5a\n",
      "🧪 View experiment at: http://127.0.0.1:8080/#/experiments/664414606457528437\n",
      "This will run 5 trials to find optimal hyperparameters...\n",
      "Params: {'C': 0.1, 'gamma': 1, 'kernel': 'rbf'}      \n",
      "  0%|          | 0/5 [00:00<?, ?trial/s, best loss=?]"
     ]
    },
    {
     "name": "stderr",
     "output_type": "stream",
     "text": [
      "/home/renan/miniconda3/lib/python3.12/site-packages/sklearn/metrics/_classification.py:1565: UndefinedMetricWarning: Precision is ill-defined and being set to 0.0 in labels with no predicted samples. Use `zero_division` parameter to control this behavior.\n",
      "  _warn_prf(average, modifier, f\"{metric.capitalize()} is\", len(result))\n",
      "\n"
     ]
    },
    {
     "name": "stdout",
     "output_type": "stream",
     "text": [
      "🏃 View run SVC_{'C': 0.1, 'gamma': 1, 'kernel': 'rbf'} at: http://127.0.0.1:8080/#/experiments/664414606457528437/runs/8469d52b018e460abf4f912a04468dd7\n",
      "\n",
      "🧪 View experiment at: http://127.0.0.1:8080/#/experiments/664414606457528437\n",
      "\n",
      "Params: {'C': 1, 'gamma': 0.01, 'kernel': 'rbf'}                                  \n",
      " 20%|██        | 1/5 [02:11<08:46, 131.55s/trial, best loss: -0.33310749162724596]"
     ]
    },
    {
     "name": "stderr",
     "output_type": "stream",
     "text": [
      "/home/renan/miniconda3/lib/python3.12/site-packages/sklearn/metrics/_classification.py:1565: UndefinedMetricWarning: Precision is ill-defined and being set to 0.0 in labels with no predicted samples. Use `zero_division` parameter to control this behavior.\n",
      "  _warn_prf(average, modifier, f\"{metric.capitalize()} is\", len(result))\n",
      "\n"
     ]
    },
    {
     "name": "stdout",
     "output_type": "stream",
     "text": [
      "🏃 View run SVC_{'C': 1, 'gamma': 0.01, 'kernel': 'rbf'} at: http://127.0.0.1:8080/#/experiments/664414606457528437/runs/95dbac10b5b340788b50309a3bd8a33f\n",
      "\n",
      "🧪 View experiment at: http://127.0.0.1:8080/#/experiments/664414606457528437     \n",
      "\n",
      "Params: {'C': 0.01, 'gamma': 1, 'kernel': 'rbf'}                                  \n",
      " 40%|████      | 2/5 [03:44<05:26, 108.89s/trial, best loss: -0.33310749162724596]"
     ]
    },
    {
     "name": "stderr",
     "output_type": "stream",
     "text": [
      "/home/renan/miniconda3/lib/python3.12/site-packages/sklearn/metrics/_classification.py:1565: UndefinedMetricWarning: Precision is ill-defined and being set to 0.0 in labels with no predicted samples. Use `zero_division` parameter to control this behavior.\n",
      "  _warn_prf(average, modifier, f\"{metric.capitalize()} is\", len(result))\n",
      "\n"
     ]
    },
    {
     "name": "stdout",
     "output_type": "stream",
     "text": [
      "🏃 View run SVC_{'C': 0.01, 'gamma': 1, 'kernel': 'rbf'} at: http://127.0.0.1:8080/#/experiments/664414606457528437/runs/820d7a05789946e19187274dbe5d920a\n",
      "\n",
      "🧪 View experiment at: http://127.0.0.1:8080/#/experiments/664414606457528437     \n",
      "\n",
      "Params: {'C': 0.05, 'gamma': 1, 'kernel': 'rbf'}                                  \n",
      " 60%|██████    | 3/5 [05:19<03:25, 102.72s/trial, best loss: -0.33310749162724596]"
     ]
    },
    {
     "name": "stderr",
     "output_type": "stream",
     "text": [
      "/home/renan/miniconda3/lib/python3.12/site-packages/sklearn/metrics/_classification.py:1565: UndefinedMetricWarning: Precision is ill-defined and being set to 0.0 in labels with no predicted samples. Use `zero_division` parameter to control this behavior.\n",
      "  _warn_prf(average, modifier, f\"{metric.capitalize()} is\", len(result))\n",
      "\n"
     ]
    },
    {
     "name": "stdout",
     "output_type": "stream",
     "text": [
      "🏃 View run SVC_{'C': 0.05, 'gamma': 1, 'kernel': 'rbf'} at: http://127.0.0.1:8080/#/experiments/664414606457528437/runs/0b07d6cb31944ecab067405fc7421458\n",
      "\n",
      "🧪 View experiment at: http://127.0.0.1:8080/#/experiments/664414606457528437     \n",
      "\n",
      "Params: {'C': 0.1, 'gamma': 0.1, 'kernel': 'rbf'}                                 \n",
      " 80%|████████  | 4/5 [07:19<01:49, 109.49s/trial, best loss: -0.33310749162724596]"
     ]
    },
    {
     "name": "stderr",
     "output_type": "stream",
     "text": [
      "/home/renan/miniconda3/lib/python3.12/site-packages/sklearn/metrics/_classification.py:1565: UndefinedMetricWarning: Precision is ill-defined and being set to 0.0 in labels with no predicted samples. Use `zero_division` parameter to control this behavior.\n",
      "  _warn_prf(average, modifier, f\"{metric.capitalize()} is\", len(result))\n",
      "\n"
     ]
    },
    {
     "name": "stdout",
     "output_type": "stream",
     "text": [
      "🏃 View run SVC_{'C': 0.1, 'gamma': 0.1, 'kernel': 'rbf'} at: http://127.0.0.1:8080/#/experiments/664414606457528437/runs/24549af7e7e84ad4abd4aa9bfff4f2c2\n",
      "\n",
      "🧪 View experiment at: http://127.0.0.1:8080/#/experiments/664414606457528437     \n",
      "\n",
      "100%|██████████| 5/5 [08:44<00:00, 104.89s/trial, best loss: -0.33310749162724596]\n",
      "🏃 View run svc-sweep at: http://127.0.0.1:8080/#/experiments/664414606457528437/runs/5433938ec76a41c49ac8d02a9eb98e55\n",
      "🧪 View experiment at: http://127.0.0.1:8080/#/experiments/664414606457528437\n",
      "This will run 5 trials to find optimal hyperparameters...\n",
      "Params: {'C': 0.01}                                  \n",
      "🏃 View run LinearSVC_{'C': 0.01} at: http://127.0.0.1:8080/#/experiments/664414606457528437/runs/289f89e5f96845739cab9a861be21c86\n",
      "\n",
      "🧪 View experiment at: http://127.0.0.1:8080/#/experiments/664414606457528437\n",
      "\n",
      "Params: {'C': 0.0001}                                                           \n",
      "🏃 View run LinearSVC_{'C': 0.0001} at: http://127.0.0.1:8080/#/experiments/664414606457528437/runs/cc59db6f3382454ca3b3e9dcd8ac5a02\n",
      "\n",
      "🧪 View experiment at: http://127.0.0.1:8080/#/experiments/664414606457528437   \n",
      "\n",
      "Params: {'C': 0.1}                                                              \n",
      "🏃 View run LinearSVC_{'C': 0.1} at: http://127.0.0.1:8080/#/experiments/664414606457528437/runs/775ec7407aa0437898e8be0ea1894d6c\n",
      "\n",
      "🧪 View experiment at: http://127.0.0.1:8080/#/experiments/664414606457528437   \n",
      "\n",
      "Params: {'C': 1}                                                                \n",
      "🏃 View run LinearSVC_{'C': 1} at: http://127.0.0.1:8080/#/experiments/664414606457528437/runs/e6b8e1c474e543ed9434fd6e855eb353\n",
      "\n",
      "🧪 View experiment at: http://127.0.0.1:8080/#/experiments/664414606457528437   \n",
      "\n",
      "Params: {'C': 1}                                                                \n",
      "🏃 View run LinearSVC_{'C': 1} at: http://127.0.0.1:8080/#/experiments/664414606457528437/runs/8300e53d4c74422a97d9284ee35a01bb\n",
      "\n",
      "🧪 View experiment at: http://127.0.0.1:8080/#/experiments/664414606457528437   \n",
      "\n",
      "100%|██████████| 5/5 [00:14<00:00,  2.84s/trial, best loss: -0.3369491757804044]\n",
      "🏃 View run svc-linear-sweep at: http://127.0.0.1:8080/#/experiments/664414606457528437/runs/841751a487f3403d836a9c61266fdd27\n",
      "🧪 View experiment at: http://127.0.0.1:8080/#/experiments/664414606457528437\n",
      "This will run 5 trials to find optimal hyperparameters...\n",
      "Params: {'colsample_bytree': 0.7, 'learning_rate': 0.3, 'max_depth': None, 'n_estimators': 500, 'subsample': 1.0}\n",
      "🏃 View run XGBClassifier_{'colsample_bytree': 0.7, 'learning_rate': 0.3, 'max_depth': None, 'n_estimators': 500, 'subsample': 1.0} at: http://127.0.0.1:8080/#/experiments/664414606457528437/runs/425cfdce80294b39a767000ded3b02a2\n",
      "\n",
      "🧪 View experiment at: http://127.0.0.1:8080/#/experiments/664414606457528437\n",
      "\n",
      "Params: {'colsample_bytree': 0.7, 'learning_rate': 0.3, 'max_depth': None, 'n_estimators': 1000, 'subsample': 1.0}\n",
      "🏃 View run XGBClassifier_{'colsample_bytree': 0.7, 'learning_rate': 0.3, 'max_depth': None, 'n_estimators': 1000, 'subsample': 1.0} at: http://127.0.0.1:8080/#/experiments/664414606457528437/runs/12149096100d4f5e9905d196703dd16d\n",
      "\n",
      "🧪 View experiment at: http://127.0.0.1:8080/#/experiments/664414606457528437   \n",
      "\n",
      "Params: {'colsample_bytree': 0.5, 'learning_rate': 0.01, 'max_depth': 10, 'n_estimators': 500, 'subsample': 1.0}\n",
      "🏃 View run XGBClassifier_{'colsample_bytree': 0.5, 'learning_rate': 0.01, 'max_depth': 10, 'n_estimators': 500, 'subsample': 1.0} at: http://127.0.0.1:8080/#/experiments/664414606457528437/runs/fb4058a90d54430786841d3fbf0180d4\n",
      "\n",
      "🧪 View experiment at: http://127.0.0.1:8080/#/experiments/664414606457528437   \n",
      "\n",
      "Params: {'colsample_bytree': 1.0, 'learning_rate': 0.3, 'max_depth': 5, 'n_estimators': 700, 'subsample': 0.5}\n",
      "🏃 View run XGBClassifier_{'colsample_bytree': 1.0, 'learning_rate': 0.3, 'max_depth': 5, 'n_estimators': 700, 'subsample': 0.5} at: http://127.0.0.1:8080/#/experiments/664414606457528437/runs/f9f4237e43714e29a2b869a70a18505f\n",
      "\n",
      "🧪 View experiment at: http://127.0.0.1:8080/#/experiments/664414606457528437   \n",
      "\n",
      "Params: {'colsample_bytree': 0.7, 'learning_rate': 0.001, 'max_depth': 10, 'n_estimators': 200, 'subsample': 0.7}\n",
      "🏃 View run XGBClassifier_{'colsample_bytree': 0.7, 'learning_rate': 0.001, 'max_depth': 10, 'n_estimators': 200, 'subsample': 0.7} at: http://127.0.0.1:8080/#/experiments/664414606457528437/runs/c10de74722cf4dca892fd2cba31cda10\n",
      "\n",
      "🧪 View experiment at: http://127.0.0.1:8080/#/experiments/664414606457528437   \n",
      "\n",
      "100%|██████████| 5/5 [00:33<00:00,  6.66s/trial, best loss: -0.5726197757662195]\n",
      "🏃 View run xgb-sweep at: http://127.0.0.1:8080/#/experiments/664414606457528437/runs/91f9d4e7389c4627910c450359ff7bb6\n",
      "🧪 View experiment at: http://127.0.0.1:8080/#/experiments/664414606457528437\n"
     ]
    },
    {
     "data": {
      "text/plain": [
       "0.5726197757662195"
      ]
     },
     "execution_count": 49,
     "metadata": {},
     "output_type": "execute_result"
    }
   ],
   "source": [
    "model = RandomForestClassifier\n",
    "run_experiments('rf-sweep', max_evals=max_evals, search_space=search_space_rf, data_name=data_name, model_name = 'RandomForestClassifier', features_names=columns_to_keep)\n",
    "model = SVC\n",
    "run_experiments('svc-sweep', max_evals=max_evals, search_space=search_space_svc, data_name=data_name, model_name = 'SVC', features_names=columns_to_keep)\n",
    "model = LinearSVC\n",
    "run_experiments('svc-linear-sweep', max_evals=max_evals, search_space=search_space_svc_linear, data_name=data_name, model_name = 'LinearSVC', features_names=columns_to_keep)\n",
    "model = xgb.XGBClassifier\n",
    "run_experiments('xgb-sweep', max_evals=max_evals, search_space=search_space_xgb, data_name=data_name, model_name = 'XGBClassifier', features_names=columns_to_keep)"
   ]
  },
  {
   "cell_type": "markdown",
   "id": "d562a57b",
   "metadata": {},
   "source": [
    "## Carla Only"
   ]
  },
  {
   "cell_type": "code",
   "execution_count": 50,
   "id": "8d0a613b",
   "metadata": {},
   "outputs": [],
   "source": [
    "X_carla_fixed, y_carla_fixed = preprocessor.sliding_windows(carla_fixed, window_size=window_size, step_size=step_size)\n",
    "X_carla_llm, y_carla_llm = preprocessor.sliding_windows(carla_llm, window_size=window_size, step_size=step_size)"
   ]
  },
  {
   "cell_type": "code",
   "execution_count": 51,
   "id": "40fa1c38",
   "metadata": {},
   "outputs": [
    {
     "name": "stdout",
     "output_type": "stream",
     "text": [
      "Columns to keep for validation: ['acc_x', 'acc_y', 'acc_z', 'gyro_x', 'gyro_y', 'gyro_z', 'angle', 'label', 'acc']\n"
     ]
    }
   ],
   "source": [
    "# Getting the validation for SUMO variables\n",
    "print(\"Columns to keep for validation:\", carla_columns_to_keep)\n",
    "X_val_base, y_val = preprocessor.sliding_windows(uah_validation[carla_columns_to_keep], window_size=window_size, step_size=step_size)\n",
    "y_val = preprocessor.one_hot_encode(y_val, one_hot_keys=one_hot_keys)"
   ]
  },
  {
   "cell_type": "markdown",
   "id": "17def673",
   "metadata": {},
   "source": [
    "### Fixed"
   ]
  },
  {
   "cell_type": "code",
   "execution_count": 52,
   "id": "d5520a73",
   "metadata": {},
   "outputs": [],
   "source": [
    "# Provide an Experiment description that will appear in the UI\n",
    "experiment_description = (\n",
    "    \"Experiment to train models on the CARLA Fixed dataset.\"\n",
    ")\n",
    "\n",
    "# Provide searchable tags that define characteristics of the Runs that\n",
    "# will be in this Experiment\n",
    "experiment_tags = {\n",
    "    \"project_name\": \"driver-behavior-prediction\",\n",
    "    \"mlflow.note.content\": experiment_description,\n",
    "}\n",
    "\n",
    "# Create the Experiment, providing a unique name\n",
    "try:\n",
    "    driver_behavior_experiment = client.create_experiment(\n",
    "        name=\"CARLA_Fixed\", tags=experiment_tags\n",
    "    )\n",
    "except mlflow.exceptions.RestException as e:\n",
    "    print(f\"Experiment already exists: {e}\")"
   ]
  },
  {
   "cell_type": "code",
   "execution_count": 53,
   "id": "f460d11d",
   "metadata": {},
   "outputs": [],
   "source": [
    "X_train, y_train = X_carla_fixed, y_carla_fixed\n",
    "\n",
    "scaler = StandardScaler()\n",
    "X_train = scaler.fit_transform(X_train)\n",
    "X_val = scaler.transform(X_val_base)\n",
    "y_train = preprocessor.one_hot_encode(y_train, one_hot_keys=one_hot_keys)\n",
    "\n",
    "mlflow.set_experiment('CARLA_Fixed')\n",
    "data_name = 'CARLA_Fixed'"
   ]
  },
  {
   "cell_type": "code",
   "execution_count": 54,
   "id": "6740e674",
   "metadata": {},
   "outputs": [
    {
     "name": "stdout",
     "output_type": "stream",
     "text": [
      "This will run 5 trials to find optimal hyperparameters...\n",
      "Params: {'max_depth': 20, 'n_estimators': 100, 'random_state': 42}\n",
      "🏃 View run RandomForestClassifier_{'max_depth': 20, 'n_estimators': 100, 'random_state': 42} at: http://127.0.0.1:8080/#/experiments/627946991416594886/runs/9ca1932a0bfc487d8775c5f0613660e9\n",
      "\n",
      "🧪 View experiment at: http://127.0.0.1:8080/#/experiments/627946991416594886\n",
      "\n",
      "Params: {'max_depth': 20, 'n_estimators': 200, 'random_state': 42}              \n",
      "🏃 View run RandomForestClassifier_{'max_depth': 20, 'n_estimators': 200, 'random_state': 42} at: http://127.0.0.1:8080/#/experiments/627946991416594886/runs/d349833fdc214f2aaf1736221ae8ef24\n",
      "\n",
      "🧪 View experiment at: http://127.0.0.1:8080/#/experiments/627946991416594886   \n",
      "\n",
      "Params: {'max_depth': 5, 'n_estimators': 20, 'random_state': 42}                \n",
      "🏃 View run RandomForestClassifier_{'max_depth': 5, 'n_estimators': 20, 'random_state': 42} at: http://127.0.0.1:8080/#/experiments/627946991416594886/runs/473b1642ebd941cc9088fd4d7a5bd611\n",
      "\n",
      "🧪 View experiment at: http://127.0.0.1:8080/#/experiments/627946991416594886   \n",
      "\n",
      "Params: {'max_depth': 20, 'n_estimators': 100, 'random_state': 42}              \n",
      "🏃 View run RandomForestClassifier_{'max_depth': 20, 'n_estimators': 100, 'random_state': 42} at: http://127.0.0.1:8080/#/experiments/627946991416594886/runs/2c81f8cdb90d49bb8486d21447737a28\n",
      "\n",
      "🧪 View experiment at: http://127.0.0.1:8080/#/experiments/627946991416594886   \n",
      "\n",
      "Params: {'max_depth': 10, 'n_estimators': 20, 'random_state': 42}               \n",
      "🏃 View run RandomForestClassifier_{'max_depth': 10, 'n_estimators': 20, 'random_state': 42} at: http://127.0.0.1:8080/#/experiments/627946991416594886/runs/8e6d54713b5b40358d77b18c4d95f8e2\n",
      "\n",
      "🧪 View experiment at: http://127.0.0.1:8080/#/experiments/627946991416594886   \n",
      "\n",
      "100%|██████████| 5/5 [01:09<00:00, 13.96s/trial, best loss: -0.5619219466812889]\n",
      "🏃 View run rf-sweep at: http://127.0.0.1:8080/#/experiments/627946991416594886/runs/b1e9c8e54c834497a738d64e78e4646d\n",
      "🧪 View experiment at: http://127.0.0.1:8080/#/experiments/627946991416594886\n",
      "This will run 5 trials to find optimal hyperparameters...\n",
      "Params: {'C': 0.05, 'gamma': 0.001, 'kernel': 'rbf'} \n",
      "  0%|          | 0/5 [00:00<?, ?trial/s, best loss=?]"
     ]
    },
    {
     "name": "stderr",
     "output_type": "stream",
     "text": [
      "/home/renan/miniconda3/lib/python3.12/site-packages/sklearn/metrics/_classification.py:1565: UndefinedMetricWarning: Precision is ill-defined and being set to 0.0 in labels with no predicted samples. Use `zero_division` parameter to control this behavior.\n",
      "  _warn_prf(average, modifier, f\"{metric.capitalize()} is\", len(result))\n",
      "\n"
     ]
    },
    {
     "name": "stdout",
     "output_type": "stream",
     "text": [
      "🏃 View run SVC_{'C': 0.05, 'gamma': 0.001, 'kernel': 'rbf'} at: http://127.0.0.1:8080/#/experiments/627946991416594886/runs/a2bf841987ba42b2b6b793ca5972ed4d\n",
      "\n",
      "🧪 View experiment at: http://127.0.0.1:8080/#/experiments/627946991416594886\n",
      "\n",
      "Params: {'C': 0.05, 'gamma': 10, 'kernel': 'rbf'}                                \n",
      " 20%|██        | 1/5 [00:32<02:10, 32.55s/trial, best loss: -0.33310749162724596]"
     ]
    },
    {
     "name": "stderr",
     "output_type": "stream",
     "text": [
      "/home/renan/miniconda3/lib/python3.12/site-packages/sklearn/metrics/_classification.py:1565: UndefinedMetricWarning: Precision is ill-defined and being set to 0.0 in labels with no predicted samples. Use `zero_division` parameter to control this behavior.\n",
      "  _warn_prf(average, modifier, f\"{metric.capitalize()} is\", len(result))\n",
      "\n"
     ]
    },
    {
     "name": "stdout",
     "output_type": "stream",
     "text": [
      "🏃 View run SVC_{'C': 0.05, 'gamma': 10, 'kernel': 'rbf'} at: http://127.0.0.1:8080/#/experiments/627946991416594886/runs/3ed7326923a147aaade665a7a43ca663\n",
      "\n",
      "🧪 View experiment at: http://127.0.0.1:8080/#/experiments/627946991416594886    \n",
      "\n",
      "Params: {'C': 0.01, 'gamma': 1, 'kernel': 'rbf'}                                 \n",
      " 40%|████      | 2/5 [00:58<01:25, 28.55s/trial, best loss: -0.3335592240143389]"
     ]
    },
    {
     "name": "stderr",
     "output_type": "stream",
     "text": [
      "/home/renan/miniconda3/lib/python3.12/site-packages/sklearn/metrics/_classification.py:1565: UndefinedMetricWarning: Precision is ill-defined and being set to 0.0 in labels with no predicted samples. Use `zero_division` parameter to control this behavior.\n",
      "  _warn_prf(average, modifier, f\"{metric.capitalize()} is\", len(result))\n",
      "\n"
     ]
    },
    {
     "name": "stdout",
     "output_type": "stream",
     "text": [
      "🏃 View run SVC_{'C': 0.01, 'gamma': 1, 'kernel': 'rbf'} at: http://127.0.0.1:8080/#/experiments/627946991416594886/runs/754c3c391ef24860be5d4ebb97e7a389\n",
      "\n",
      "🧪 View experiment at: http://127.0.0.1:8080/#/experiments/627946991416594886   \n",
      "\n",
      "Params: {'C': 0.01, 'gamma': 0.01, 'kernel': 'rbf'}                             \n",
      " 60%|██████    | 3/5 [01:22<00:53, 26.76s/trial, best loss: -0.3335592240143389]"
     ]
    },
    {
     "name": "stderr",
     "output_type": "stream",
     "text": [
      "/home/renan/miniconda3/lib/python3.12/site-packages/sklearn/metrics/_classification.py:1565: UndefinedMetricWarning: Precision is ill-defined and being set to 0.0 in labels with no predicted samples. Use `zero_division` parameter to control this behavior.\n",
      "  _warn_prf(average, modifier, f\"{metric.capitalize()} is\", len(result))\n",
      "\n"
     ]
    },
    {
     "name": "stdout",
     "output_type": "stream",
     "text": [
      "🏃 View run SVC_{'C': 0.01, 'gamma': 0.01, 'kernel': 'rbf'} at: http://127.0.0.1:8080/#/experiments/627946991416594886/runs/3ddc6ef5bba948a994b822d5dd6fc00d\n",
      "\n",
      "🧪 View experiment at: http://127.0.0.1:8080/#/experiments/627946991416594886   \n",
      "\n",
      "Params: {'C': 1, 'gamma': 0.01, 'kernel': 'rbf'}                                \n",
      " 80%|████████  | 4/5 [01:55<00:29, 29.02s/trial, best loss: -0.3335592240143389]"
     ]
    },
    {
     "name": "stderr",
     "output_type": "stream",
     "text": [
      "/home/renan/miniconda3/lib/python3.12/site-packages/sklearn/metrics/_classification.py:1565: UndefinedMetricWarning: Precision is ill-defined and being set to 0.0 in labels with no predicted samples. Use `zero_division` parameter to control this behavior.\n",
      "  _warn_prf(average, modifier, f\"{metric.capitalize()} is\", len(result))\n",
      "\n"
     ]
    },
    {
     "name": "stdout",
     "output_type": "stream",
     "text": [
      "🏃 View run SVC_{'C': 1, 'gamma': 0.01, 'kernel': 'rbf'} at: http://127.0.0.1:8080/#/experiments/627946991416594886/runs/6bb82991652646448181dabffdf11677\n",
      "\n",
      "🧪 View experiment at: http://127.0.0.1:8080/#/experiments/627946991416594886   \n",
      "\n",
      "100%|██████████| 5/5 [02:17<00:00, 27.53s/trial, best loss: -0.3335592240143389]\n",
      "🏃 View run svc-sweep at: http://127.0.0.1:8080/#/experiments/627946991416594886/runs/0a227330ed3b481f96a86dcec5e78739\n",
      "🧪 View experiment at: http://127.0.0.1:8080/#/experiments/627946991416594886\n",
      "This will run 5 trials to find optimal hyperparameters...\n",
      "Params: {'C': 0.0001}                                \n",
      "  0%|          | 0/5 [00:00<?, ?trial/s, best loss=?]"
     ]
    },
    {
     "name": "stderr",
     "output_type": "stream",
     "text": [
      "/home/renan/miniconda3/lib/python3.12/site-packages/sklearn/metrics/_classification.py:1565: UndefinedMetricWarning: Precision is ill-defined and being set to 0.0 in labels with no predicted samples. Use `zero_division` parameter to control this behavior.\n",
      "  _warn_prf(average, modifier, f\"{metric.capitalize()} is\", len(result))\n",
      "\n"
     ]
    },
    {
     "name": "stdout",
     "output_type": "stream",
     "text": [
      "🏃 View run LinearSVC_{'C': 0.0001} at: http://127.0.0.1:8080/#/experiments/627946991416594886/runs/94e428f835b24abfb55cc9d721d5c7e3\n",
      "\n",
      "🧪 View experiment at: http://127.0.0.1:8080/#/experiments/627946991416594886\n",
      "\n",
      "Params: {'C': 0.1}                                                               \n",
      "🏃 View run LinearSVC_{'C': 0.1} at: http://127.0.0.1:8080/#/experiments/627946991416594886/runs/bcc350a5f91d4d3fa72a95b663664b3f\n",
      "\n",
      "🧪 View experiment at: http://127.0.0.1:8080/#/experiments/627946991416594886    \n",
      "\n",
      "Params: {'C': 0.01}                                                              \n",
      "🏃 View run LinearSVC_{'C': 0.01} at: http://127.0.0.1:8080/#/experiments/627946991416594886/runs/67bb933b2fc5434d82370ded847d4fb7\n",
      "\n",
      "🧪 View experiment at: http://127.0.0.1:8080/#/experiments/627946991416594886   \n",
      "\n",
      "Params: {'C': 1}                                                                \n",
      "🏃 View run LinearSVC_{'C': 1} at: http://127.0.0.1:8080/#/experiments/627946991416594886/runs/16762b545ba04d6c984889ab0a205763\n",
      "\n",
      "🧪 View experiment at: http://127.0.0.1:8080/#/experiments/627946991416594886   \n",
      "\n",
      "Params: {'C': 0.1}                                                              \n",
      "🏃 View run LinearSVC_{'C': 0.1} at: http://127.0.0.1:8080/#/experiments/627946991416594886/runs/374fffb1028e42c8a81b9208097eb941\n",
      "\n",
      "🧪 View experiment at: http://127.0.0.1:8080/#/experiments/627946991416594886   \n",
      "\n",
      "100%|██████████| 5/5 [00:09<00:00,  1.92s/trial, best loss: -0.3409524650398013]\n",
      "🏃 View run svc-linear-sweep at: http://127.0.0.1:8080/#/experiments/627946991416594886/runs/727d4b040dd1479eb9016d8e5d367848\n",
      "🧪 View experiment at: http://127.0.0.1:8080/#/experiments/627946991416594886\n",
      "This will run 5 trials to find optimal hyperparameters...\n",
      "Params: {'colsample_bytree': 0.5, 'learning_rate': 0.001, 'max_depth': None, 'n_estimators': 500, 'subsample': 1.0}\n",
      "🏃 View run XGBClassifier_{'colsample_bytree': 0.5, 'learning_rate': 0.001, 'max_depth': None, 'n_estimators': 500, 'subsample': 1.0} at: http://127.0.0.1:8080/#/experiments/627946991416594886/runs/af86a952ac3c423ea2d04592a745bc3c\n",
      "\n",
      "🧪 View experiment at: http://127.0.0.1:8080/#/experiments/627946991416594886\n",
      "\n",
      "Params: {'colsample_bytree': 0.7, 'learning_rate': 0.01, 'max_depth': None, 'n_estimators': 200, 'subsample': 0.7}\n",
      "🏃 View run XGBClassifier_{'colsample_bytree': 0.7, 'learning_rate': 0.01, 'max_depth': None, 'n_estimators': 200, 'subsample': 0.7} at: http://127.0.0.1:8080/#/experiments/627946991416594886/runs/4c339d9a29cd47069128adc9c0d5a9b8\n",
      "\n",
      "🧪 View experiment at: http://127.0.0.1:8080/#/experiments/627946991416594886   \n",
      "\n",
      "Params: {'colsample_bytree': 0.5, 'learning_rate': 0.01, 'max_depth': 10, 'n_estimators': 200, 'subsample': 1.0}\n",
      "🏃 View run XGBClassifier_{'colsample_bytree': 0.5, 'learning_rate': 0.01, 'max_depth': 10, 'n_estimators': 200, 'subsample': 1.0} at: http://127.0.0.1:8080/#/experiments/627946991416594886/runs/fb0b2a7c065a4a7694ee5e4f8309c783\n",
      "\n",
      "🧪 View experiment at: http://127.0.0.1:8080/#/experiments/627946991416594886   \n",
      "\n",
      "Params: {'colsample_bytree': 1.0, 'learning_rate': 0.1, 'max_depth': 5, 'n_estimators': 1000, 'subsample': 0.5}\n",
      "🏃 View run XGBClassifier_{'colsample_bytree': 1.0, 'learning_rate': 0.1, 'max_depth': 5, 'n_estimators': 1000, 'subsample': 0.5} at: http://127.0.0.1:8080/#/experiments/627946991416594886/runs/9156bfb40ab4444098fdbbcee4379176\n",
      "\n",
      "🧪 View experiment at: http://127.0.0.1:8080/#/experiments/627946991416594886   \n",
      "\n",
      "Params: {'colsample_bytree': 0.7, 'learning_rate': 0.001, 'max_depth': 10, 'n_estimators': 500, 'subsample': 0.5}\n",
      "🏃 View run XGBClassifier_{'colsample_bytree': 0.7, 'learning_rate': 0.001, 'max_depth': 10, 'n_estimators': 500, 'subsample': 0.5} at: http://127.0.0.1:8080/#/experiments/627946991416594886/runs/1157aaa96c6048c4a9b0ca1cd450afcc\n",
      "\n",
      "🧪 View experiment at: http://127.0.0.1:8080/#/experiments/627946991416594886   \n",
      "\n",
      "100%|██████████| 5/5 [00:43<00:00,  8.67s/trial, best loss: -0.5486962349953002]\n",
      "🏃 View run xgb-sweep at: http://127.0.0.1:8080/#/experiments/627946991416594886/runs/31744d79373d45aab34c6f42a8236170\n",
      "🧪 View experiment at: http://127.0.0.1:8080/#/experiments/627946991416594886\n"
     ]
    },
    {
     "data": {
      "text/plain": [
       "0.5486962349953002"
      ]
     },
     "execution_count": 54,
     "metadata": {},
     "output_type": "execute_result"
    }
   ],
   "source": [
    "model = RandomForestClassifier\n",
    "run_experiments('rf-sweep', max_evals=max_evals, search_space=search_space_rf, data_name=data_name, model_name = 'RandomForestClassifier', features_names=columns_to_keep)\n",
    "model = SVC\n",
    "run_experiments('svc-sweep', max_evals=max_evals, search_space=search_space_svc, data_name=data_name, model_name = 'SVC', features_names=columns_to_keep)\n",
    "model = LinearSVC\n",
    "run_experiments('svc-linear-sweep', max_evals=max_evals, search_space=search_space_svc_linear, data_name=data_name, model_name = 'LinearSVC', features_names=columns_to_keep)\n",
    "model = xgb.XGBClassifier\n",
    "run_experiments('xgb-sweep', max_evals=max_evals, search_space=search_space_xgb, data_name=data_name, model_name = 'XGBClassifier', features_names=columns_to_keep)"
   ]
  },
  {
   "cell_type": "markdown",
   "id": "940416e1",
   "metadata": {},
   "source": [
    "### LLM"
   ]
  },
  {
   "cell_type": "code",
   "execution_count": 55,
   "id": "abfd8115",
   "metadata": {},
   "outputs": [],
   "source": [
    "# Provide an Experiment description that will appear in the UI\n",
    "experiment_description = (\n",
    "    \"Experiment to train models on the CARLA LLM dataset.\"\n",
    ")\n",
    "\n",
    "# Provide searchable tags that define characteristics of the Runs that\n",
    "# will be in this Experiment\n",
    "experiment_tags = {\n",
    "    \"project_name\": \"driver-behavior-prediction\",\n",
    "    \"mlflow.note.content\": experiment_description,\n",
    "}\n",
    "\n",
    "# Create the Experiment, providing a unique name\n",
    "try:\n",
    "    driver_behavior_experiment = client.create_experiment(\n",
    "        name=\"CARLA_LLM\", tags=experiment_tags\n",
    "    )\n",
    "except mlflow.exceptions.RestException as e:\n",
    "    print(f\"Experiment already exists: {e}\")"
   ]
  },
  {
   "cell_type": "code",
   "execution_count": 56,
   "id": "d8198c3c",
   "metadata": {},
   "outputs": [],
   "source": [
    "X_train, y_train = X_carla_llm, y_carla_llm\n",
    "\n",
    "scaler = StandardScaler()\n",
    "X_train = scaler.fit_transform(X_train)\n",
    "X_val = scaler.transform(X_val_base)\n",
    "y_train = preprocessor.one_hot_encode(y_train, one_hot_keys=one_hot_keys)\n",
    "\n",
    "mlflow.set_experiment('CARLA_LLM')\n",
    "data_name = 'CARLA_LLM'"
   ]
  },
  {
   "cell_type": "code",
   "execution_count": 57,
   "id": "6b1a7997",
   "metadata": {},
   "outputs": [
    {
     "name": "stdout",
     "output_type": "stream",
     "text": [
      "This will run 5 trials to find optimal hyperparameters...\n",
      "Params: {'max_depth': 50, 'n_estimators': 100, 'random_state': 42}\n",
      "🏃 View run RandomForestClassifier_{'max_depth': 50, 'n_estimators': 100, 'random_state': 42} at: http://127.0.0.1:8080/#/experiments/366743456975286631/runs/eb7982ee6c224424ba7ad5e96d7a1fef\n",
      "\n",
      "🧪 View experiment at: http://127.0.0.1:8080/#/experiments/366743456975286631\n",
      "\n",
      "Params: {'max_depth': 50, 'n_estimators': 100, 'random_state': 42}              \n",
      "🏃 View run RandomForestClassifier_{'max_depth': 50, 'n_estimators': 100, 'random_state': 42} at: http://127.0.0.1:8080/#/experiments/366743456975286631/runs/1ab40f6a77cd4bbaaf3fb2dd6e7c648d\n",
      "\n",
      "🧪 View experiment at: http://127.0.0.1:8080/#/experiments/366743456975286631   \n",
      "\n",
      "Params: {'max_depth': 50, 'n_estimators': 100, 'random_state': 42}              \n",
      "🏃 View run RandomForestClassifier_{'max_depth': 50, 'n_estimators': 100, 'random_state': 42} at: http://127.0.0.1:8080/#/experiments/366743456975286631/runs/590dfd9d2f0440d9bcd66cc7e5eafe0a\n",
      "\n",
      "🧪 View experiment at: http://127.0.0.1:8080/#/experiments/366743456975286631   \n",
      "\n",
      "Params: {'max_depth': 10, 'n_estimators': 20, 'random_state': 42}               \n",
      "🏃 View run RandomForestClassifier_{'max_depth': 10, 'n_estimators': 20, 'random_state': 42} at: http://127.0.0.1:8080/#/experiments/366743456975286631/runs/b50edbc61d4a474cb8943c0879e994e1\n",
      "\n",
      "🧪 View experiment at: http://127.0.0.1:8080/#/experiments/366743456975286631   \n",
      "\n",
      "Params: {'max_depth': None, 'n_estimators': 500, 'random_state': 42}            \n",
      "🏃 View run RandomForestClassifier_{'max_depth': None, 'n_estimators': 500, 'random_state': 42} at: http://127.0.0.1:8080/#/experiments/366743456975286631/runs/4e857c6f9c2346b48df7723a54e23d89\n",
      "\n",
      "🧪 View experiment at: http://127.0.0.1:8080/#/experiments/366743456975286631   \n",
      "\n",
      "100%|██████████| 5/5 [02:14<00:00, 26.89s/trial, best loss: -0.531119009835203] \n",
      "🏃 View run rf-sweep at: http://127.0.0.1:8080/#/experiments/366743456975286631/runs/106f9b8f41c74cb6af0e6b6763793053\n",
      "🧪 View experiment at: http://127.0.0.1:8080/#/experiments/366743456975286631\n",
      "This will run 5 trials to find optimal hyperparameters...\n",
      "Params: {'C': 0.01, 'gamma': 1, 'kernel': 'rbf'}     \n",
      "  0%|          | 0/5 [00:00<?, ?trial/s, best loss=?]"
     ]
    },
    {
     "name": "stderr",
     "output_type": "stream",
     "text": [
      "/home/renan/miniconda3/lib/python3.12/site-packages/sklearn/metrics/_classification.py:1565: UndefinedMetricWarning: Precision is ill-defined and being set to 0.0 in labels with no predicted samples. Use `zero_division` parameter to control this behavior.\n",
      "  _warn_prf(average, modifier, f\"{metric.capitalize()} is\", len(result))\n",
      "\n"
     ]
    },
    {
     "name": "stdout",
     "output_type": "stream",
     "text": [
      "🏃 View run SVC_{'C': 0.01, 'gamma': 1, 'kernel': 'rbf'} at: http://127.0.0.1:8080/#/experiments/366743456975286631/runs/1fc27c32e5e64abf9365bba54596e4c9\n",
      "\n",
      "🧪 View experiment at: http://127.0.0.1:8080/#/experiments/366743456975286631\n",
      "\n",
      "Params: {'C': 0.1, 'gamma': 1, 'kernel': 'rbf'}                                  \n",
      " 20%|██        | 1/5 [00:40<02:42, 40.59s/trial, best loss: -0.33310749162724596]"
     ]
    },
    {
     "name": "stderr",
     "output_type": "stream",
     "text": [
      "/home/renan/miniconda3/lib/python3.12/site-packages/sklearn/metrics/_classification.py:1565: UndefinedMetricWarning: Precision is ill-defined and being set to 0.0 in labels with no predicted samples. Use `zero_division` parameter to control this behavior.\n",
      "  _warn_prf(average, modifier, f\"{metric.capitalize()} is\", len(result))\n",
      "\n"
     ]
    },
    {
     "name": "stdout",
     "output_type": "stream",
     "text": [
      "🏃 View run SVC_{'C': 0.1, 'gamma': 1, 'kernel': 'rbf'} at: http://127.0.0.1:8080/#/experiments/366743456975286631/runs/b96dbfc2735a402fb09fd8a027399f03\n",
      "\n",
      "🧪 View experiment at: http://127.0.0.1:8080/#/experiments/366743456975286631    \n",
      "\n",
      "Params: {'C': 0.01, 'gamma': 1, 'kernel': 'rbf'}                                 \n",
      " 40%|████      | 2/5 [01:35<02:26, 48.88s/trial, best loss: -0.33310749162724596]"
     ]
    },
    {
     "name": "stderr",
     "output_type": "stream",
     "text": [
      "/home/renan/miniconda3/lib/python3.12/site-packages/sklearn/metrics/_classification.py:1565: UndefinedMetricWarning: Precision is ill-defined and being set to 0.0 in labels with no predicted samples. Use `zero_division` parameter to control this behavior.\n",
      "  _warn_prf(average, modifier, f\"{metric.capitalize()} is\", len(result))\n",
      "\n"
     ]
    },
    {
     "name": "stdout",
     "output_type": "stream",
     "text": [
      "🏃 View run SVC_{'C': 0.01, 'gamma': 1, 'kernel': 'rbf'} at: http://127.0.0.1:8080/#/experiments/366743456975286631/runs/63b85517c4014e69957ec9d3b4f4b9f6\n",
      "\n",
      "🧪 View experiment at: http://127.0.0.1:8080/#/experiments/366743456975286631    \n",
      "\n",
      "Params: {'C': 0.5, 'gamma': 0.001, 'kernel': 'rbf'}                              \n",
      " 60%|██████    | 3/5 [02:15<01:29, 44.87s/trial, best loss: -0.33310749162724596]"
     ]
    },
    {
     "name": "stderr",
     "output_type": "stream",
     "text": [
      "/home/renan/miniconda3/lib/python3.12/site-packages/sklearn/metrics/_classification.py:1565: UndefinedMetricWarning: Precision is ill-defined and being set to 0.0 in labels with no predicted samples. Use `zero_division` parameter to control this behavior.\n",
      "  _warn_prf(average, modifier, f\"{metric.capitalize()} is\", len(result))\n",
      "\n"
     ]
    },
    {
     "name": "stdout",
     "output_type": "stream",
     "text": [
      "🏃 View run SVC_{'C': 0.5, 'gamma': 0.001, 'kernel': 'rbf'} at: http://127.0.0.1:8080/#/experiments/366743456975286631/runs/f6ed22820be243ecb87cafb35edfd1b6\n",
      "\n",
      "🧪 View experiment at: http://127.0.0.1:8080/#/experiments/366743456975286631    \n",
      "\n",
      "Params: {'C': 0.5, 'gamma': 0.1, 'kernel': 'rbf'}                                \n",
      " 80%|████████  | 4/5 [02:51<00:41, 41.29s/trial, best loss: -0.33310749162724596]"
     ]
    },
    {
     "name": "stderr",
     "output_type": "stream",
     "text": [
      "/home/renan/miniconda3/lib/python3.12/site-packages/sklearn/metrics/_classification.py:1565: UndefinedMetricWarning: Precision is ill-defined and being set to 0.0 in labels with no predicted samples. Use `zero_division` parameter to control this behavior.\n",
      "  _warn_prf(average, modifier, f\"{metric.capitalize()} is\", len(result))\n",
      "\n"
     ]
    },
    {
     "name": "stdout",
     "output_type": "stream",
     "text": [
      "🏃 View run SVC_{'C': 0.5, 'gamma': 0.1, 'kernel': 'rbf'} at: http://127.0.0.1:8080/#/experiments/366743456975286631/runs/3eaae57b4be943c086818dfe7226939b\n",
      "\n",
      "🧪 View experiment at: http://127.0.0.1:8080/#/experiments/366743456975286631    \n",
      "\n",
      "100%|██████████| 5/5 [03:26<00:00, 41.34s/trial, best loss: -0.33310749162724596]\n",
      "🏃 View run svc-sweep at: http://127.0.0.1:8080/#/experiments/366743456975286631/runs/efb5141b9be04721852e2da683912da2\n",
      "🧪 View experiment at: http://127.0.0.1:8080/#/experiments/366743456975286631\n",
      "This will run 5 trials to find optimal hyperparameters...\n",
      "Params: {'C': 0.001}                                 \n",
      "🏃 View run LinearSVC_{'C': 0.001} at: http://127.0.0.1:8080/#/experiments/366743456975286631/runs/3ed659ce1e9142b3b5d211fe7e64149d\n",
      "\n",
      "🧪 View experiment at: http://127.0.0.1:8080/#/experiments/366743456975286631\n",
      "\n",
      "Params: {'C': 0.1}                                                              \n",
      "🏃 View run LinearSVC_{'C': 0.1} at: http://127.0.0.1:8080/#/experiments/366743456975286631/runs/8639815c3ecb456abfb66d8abaa2ed40\n",
      "\n",
      "🧪 View experiment at: http://127.0.0.1:8080/#/experiments/366743456975286631   \n",
      "\n",
      "Params: {'C': 0.1}                                                              \n",
      "🏃 View run LinearSVC_{'C': 0.1} at: http://127.0.0.1:8080/#/experiments/366743456975286631/runs/c616c441722a4437bbca33c3313aece6\n",
      "\n",
      "🧪 View experiment at: http://127.0.0.1:8080/#/experiments/366743456975286631   \n",
      "\n",
      "Params: {'C': 0.001}                                                            \n",
      "🏃 View run LinearSVC_{'C': 0.001} at: http://127.0.0.1:8080/#/experiments/366743456975286631/runs/45d33292d60d4871b401a32124a63bcb\n",
      "\n",
      "🧪 View experiment at: http://127.0.0.1:8080/#/experiments/366743456975286631   \n",
      "\n",
      "Params: {'C': 0.1}                                                              \n",
      "🏃 View run LinearSVC_{'C': 0.1} at: http://127.0.0.1:8080/#/experiments/366743456975286631/runs/a74ac5df01764c089171785a67717a7c\n",
      "\n",
      "🧪 View experiment at: http://127.0.0.1:8080/#/experiments/366743456975286631   \n",
      "\n",
      "100%|██████████| 5/5 [00:10<00:00,  2.04s/trial, best loss: -0.3645805705236644]\n",
      "🏃 View run svc-linear-sweep at: http://127.0.0.1:8080/#/experiments/366743456975286631/runs/fc2bc90396c74072947dbfeb06f17794\n",
      "🧪 View experiment at: http://127.0.0.1:8080/#/experiments/366743456975286631\n",
      "This will run 5 trials to find optimal hyperparameters...\n",
      "Params: {'colsample_bytree': 1.0, 'learning_rate': 0.01, 'max_depth': 10, 'n_estimators': 700, 'subsample': 0.7}\n",
      "🏃 View run XGBClassifier_{'colsample_bytree': 1.0, 'learning_rate': 0.01, 'max_depth': 10, 'n_estimators': 700, 'subsample': 0.7} at: http://127.0.0.1:8080/#/experiments/366743456975286631/runs/bf488c5b327d4630b3d03eed780d7eb0\n",
      "\n",
      "🧪 View experiment at: http://127.0.0.1:8080/#/experiments/366743456975286631\n",
      "\n",
      "Params: {'colsample_bytree': 0.5, 'learning_rate': 0.2, 'max_depth': None, 'n_estimators': 500, 'subsample': 1.0}\n",
      "🏃 View run XGBClassifier_{'colsample_bytree': 0.5, 'learning_rate': 0.2, 'max_depth': None, 'n_estimators': 500, 'subsample': 1.0} at: http://127.0.0.1:8080/#/experiments/366743456975286631/runs/d4020048862241ffb7aec60e787e4f2f\n",
      "\n",
      "🧪 View experiment at: http://127.0.0.1:8080/#/experiments/366743456975286631    \n",
      "\n",
      "Params: {'colsample_bytree': 1.0, 'learning_rate': 0.01, 'max_depth': 5, 'n_estimators': 700, 'subsample': 0.5}\n",
      "🏃 View run XGBClassifier_{'colsample_bytree': 1.0, 'learning_rate': 0.01, 'max_depth': 5, 'n_estimators': 700, 'subsample': 0.5} at: http://127.0.0.1:8080/#/experiments/366743456975286631/runs/f09094f79f304671ac96683c96358f55\n",
      "\n",
      "🧪 View experiment at: http://127.0.0.1:8080/#/experiments/366743456975286631   \n",
      "\n",
      "Params: {'colsample_bytree': 1.0, 'learning_rate': 0.3, 'max_depth': 5, 'n_estimators': 700, 'subsample': 0.7}\n",
      "🏃 View run XGBClassifier_{'colsample_bytree': 1.0, 'learning_rate': 0.3, 'max_depth': 5, 'n_estimators': 700, 'subsample': 0.7} at: http://127.0.0.1:8080/#/experiments/366743456975286631/runs/607b4fe16c8844f398e8c1e69f1d6c8a\n",
      "\n",
      "🧪 View experiment at: http://127.0.0.1:8080/#/experiments/366743456975286631   \n",
      "\n",
      "Params: {'colsample_bytree': 1.0, 'learning_rate': 0.001, 'max_depth': 5, 'n_estimators': 1000, 'subsample': 0.5}\n",
      "🏃 View run XGBClassifier_{'colsample_bytree': 1.0, 'learning_rate': 0.001, 'max_depth': 5, 'n_estimators': 1000, 'subsample': 0.5} at: http://127.0.0.1:8080/#/experiments/366743456975286631/runs/0310ecfafb074f0897ac1dfcde3bd05d\n",
      "\n",
      "🧪 View experiment at: http://127.0.0.1:8080/#/experiments/366743456975286631   \n",
      "\n",
      "100%|██████████| 5/5 [01:02<00:00, 12.57s/trial, best loss: -0.5670418206707404]\n",
      "🏃 View run xgb-sweep at: http://127.0.0.1:8080/#/experiments/366743456975286631/runs/acd2dbed554d434f92a8d7e5c342f0b5\n",
      "🧪 View experiment at: http://127.0.0.1:8080/#/experiments/366743456975286631\n"
     ]
    },
    {
     "data": {
      "text/plain": [
       "0.5670418206707404"
      ]
     },
     "execution_count": 57,
     "metadata": {},
     "output_type": "execute_result"
    }
   ],
   "source": [
    "model = RandomForestClassifier\n",
    "run_experiments('rf-sweep', max_evals=max_evals, search_space=search_space_rf, data_name=data_name, model_name = 'RandomForestClassifier', features_names=columns_to_keep)\n",
    "model = SVC\n",
    "run_experiments('svc-sweep', max_evals=max_evals, search_space=search_space_svc, data_name=data_name, model_name = 'SVC', features_names=columns_to_keep)\n",
    "model = LinearSVC\n",
    "run_experiments('svc-linear-sweep', max_evals=max_evals, search_space=search_space_svc_linear, data_name=data_name, model_name = 'LinearSVC', features_names=columns_to_keep)\n",
    "model = xgb.XGBClassifier\n",
    "run_experiments('xgb-sweep', max_evals=max_evals, search_space=search_space_xgb, data_name=data_name, model_name = 'XGBClassifier', features_names=columns_to_keep)"
   ]
  },
  {
   "cell_type": "markdown",
   "id": "6d17d697",
   "metadata": {},
   "source": [
    "## Real + SUMO"
   ]
  },
  {
   "cell_type": "code",
   "execution_count": 58,
   "id": "08cda850",
   "metadata": {},
   "outputs": [],
   "source": [
    "sumo_uah_fixed_20 = preprocessor.fill_synthetic_data(sumo_uah_fixed, 0.2)\n",
    "sumo_uah_llm_20 = preprocessor.fill_synthetic_data(sumo_uah_llm, 0.2)\n",
    "\n",
    "sumo_uah_fixed_100 = preprocessor.fill_synthetic_data(sumo_uah_fixed, 1)\n",
    "sumo_uah_llm_100 = preprocessor.fill_synthetic_data(sumo_uah_llm, 1)\n",
    "\n",
    "sumo_uah_fixed_200 = preprocessor.fill_synthetic_data(sumo_uah_fixed, 2)\n",
    "sumo_uah_llm_200 = preprocessor.fill_synthetic_data(sumo_uah_llm, 2)"
   ]
  },
  {
   "cell_type": "code",
   "execution_count": 59,
   "id": "a60b0669",
   "metadata": {},
   "outputs": [],
   "source": [
    "X_sumo_uah_fixed_20, y_sumo_uah_fixed_20 = preprocessor.sliding_windows(sumo_uah_fixed_20, window_size=window_size, step_size=step_size)\n",
    "X_sumo_uah_llm_20, y_sumo_uah_llm_20 = preprocessor.sliding_windows(sumo_uah_llm_20, window_size=window_size, step_size=step_size)\n",
    "\n",
    "X_sumo_uah_fixed_100, y_sumo_uah_fixed_100 = preprocessor.sliding_windows(sumo_uah_fixed_100, window_size=window_size, step_size=step_size)\n",
    "X_sumo_uah_llm_100, y_sumo_uah_llm_100 = preprocessor.sliding_windows(sumo_uah_llm_100, window_size=window_size, step_size=step_size)\n",
    "\n",
    "X_sumo_uah_fixed_200, y_sumo_uah_fixed_200 = preprocessor.sliding_windows(sumo_uah_fixed_200, window_size=window_size, step_size=step_size)\n",
    "X_sumo_uah_llm_200, y_sumo_uah_llm_200 = preprocessor.sliding_windows(sumo_uah_llm_200, window_size=window_size, step_size=step_size)"
   ]
  },
  {
   "cell_type": "code",
   "execution_count": 60,
   "id": "c6769432",
   "metadata": {},
   "outputs": [
    {
     "name": "stdout",
     "output_type": "stream",
     "text": [
      "Columns to keep for validation: ['acc', 'angle', 'speed', 'gyro_z', 'label']\n"
     ]
    }
   ],
   "source": [
    "print(\"Columns to keep for validation:\", sumo_columns_to_keep)\n",
    "\n",
    "X_val_base, y_val = preprocessor.sliding_windows(uah_validation[sumo_columns_to_keep], window_size=window_size, step_size=step_size)\n",
    "y_val = preprocessor.one_hot_encode(y_val, one_hot_keys=one_hot_keys)"
   ]
  },
  {
   "cell_type": "markdown",
   "id": "24d285d9",
   "metadata": {},
   "source": [
    "## Real + SUMO (20%)"
   ]
  },
  {
   "cell_type": "markdown",
   "id": "133dd3c5",
   "metadata": {},
   "source": [
    "### Fixed"
   ]
  },
  {
   "cell_type": "code",
   "execution_count": 61,
   "id": "5840afcb",
   "metadata": {},
   "outputs": [],
   "source": [
    "# Provide an Experiment description that will appear in the UI\n",
    "experiment_description = (\n",
    "    \"Experiment to train models on the UAH + SUMO Fixed (20%) dataset.\"\n",
    ")\n",
    "\n",
    "# Provide searchable tags that define characteristics of the Runs that\n",
    "# will be in this Experiment\n",
    "experiment_tags = {\n",
    "    \"project_name\": \"driver-behavior-prediction\",\n",
    "    \"mlflow.note.content\": experiment_description,\n",
    "}\n",
    "\n",
    "# Create the Experiment, providing a unique name\n",
    "try:\n",
    "    driver_behavior_experiment = client.create_experiment(\n",
    "        name=\"UAH_SUMO_Fixed_20\", tags=experiment_tags\n",
    "    )\n",
    "except mlflow.exceptions.RestException as e:\n",
    "    print(f\"Experiment already exists: {e}\")"
   ]
  },
  {
   "cell_type": "code",
   "execution_count": 62,
   "id": "43f2e1b5",
   "metadata": {},
   "outputs": [],
   "source": [
    "X_train, y_train = X_sumo_uah_fixed_20, y_sumo_uah_fixed_20\n",
    "\n",
    "scaler = StandardScaler()\n",
    "X_train = scaler.fit_transform(X_train)\n",
    "X_val = scaler.transform(X_val_base)\n",
    "y_train = preprocessor.one_hot_encode(y_train, one_hot_keys=one_hot_keys)\n",
    "\n",
    "signature = infer_signature(X_train, y_train)\n",
    "mlflow.set_experiment('UAH_SUMO_Fixed_20')\n",
    "data_name = 'UAH_SUMO_Fixed_20'"
   ]
  },
  {
   "cell_type": "code",
   "execution_count": 63,
   "id": "9eb54c1b",
   "metadata": {},
   "outputs": [
    {
     "name": "stdout",
     "output_type": "stream",
     "text": [
      "This will run 5 trials to find optimal hyperparameters...\n",
      "Params: {'max_depth': 20, 'n_estimators': 50, 'random_state': 42}\n",
      "🏃 View run RandomForestClassifier_{'max_depth': 20, 'n_estimators': 50, 'random_state': 42} at: http://127.0.0.1:8080/#/experiments/448063372140487283/runs/d70c4d4d074449dab73fbb3eb3a27f44\n",
      "\n",
      "🧪 View experiment at: http://127.0.0.1:8080/#/experiments/448063372140487283\n",
      "\n",
      "Params: {'max_depth': 20, 'n_estimators': 500, 'random_state': 42}              \n",
      "🏃 View run RandomForestClassifier_{'max_depth': 20, 'n_estimators': 500, 'random_state': 42} at: http://127.0.0.1:8080/#/experiments/448063372140487283/runs/daa32febef6d4845bccc3914223c0690\n",
      "\n",
      "🧪 View experiment at: http://127.0.0.1:8080/#/experiments/448063372140487283   \n",
      "\n",
      "Params: {'max_depth': 10, 'n_estimators': 20, 'random_state': 42}               \n",
      "🏃 View run RandomForestClassifier_{'max_depth': 10, 'n_estimators': 20, 'random_state': 42} at: http://127.0.0.1:8080/#/experiments/448063372140487283/runs/a78f4260f88a42f0ac5fd939a5d44896\n",
      "\n",
      "🧪 View experiment at: http://127.0.0.1:8080/#/experiments/448063372140487283   \n",
      "\n",
      "Params: {'max_depth': 20, 'n_estimators': 20, 'random_state': 42}               \n",
      "🏃 View run RandomForestClassifier_{'max_depth': 20, 'n_estimators': 20, 'random_state': 42} at: http://127.0.0.1:8080/#/experiments/448063372140487283/runs/d0ca81f054ee4e828cee025c040a5e7c\n",
      "\n",
      "🧪 View experiment at: http://127.0.0.1:8080/#/experiments/448063372140487283   \n",
      "\n",
      "Params: {'max_depth': 50, 'n_estimators': 20, 'random_state': 42}               \n",
      "🏃 View run RandomForestClassifier_{'max_depth': 50, 'n_estimators': 20, 'random_state': 42} at: http://127.0.0.1:8080/#/experiments/448063372140487283/runs/fe84fabd5064442b9f6e09017bdca30d\n",
      "\n",
      "🧪 View experiment at: http://127.0.0.1:8080/#/experiments/448063372140487283   \n",
      "\n",
      "100%|██████████| 5/5 [01:05<00:00, 13.11s/trial, best loss: -0.6760790991259854]\n",
      "🏃 View run rf-sweep at: http://127.0.0.1:8080/#/experiments/448063372140487283/runs/669aa742f139476a94b98665985ec689\n",
      "🧪 View experiment at: http://127.0.0.1:8080/#/experiments/448063372140487283\n",
      "This will run 5 trials to find optimal hyperparameters...\n",
      "Params: {'C': 0.05, 'gamma': 0.1, 'kernel': 'rbf'}   \n",
      "🏃 View run SVC_{'C': 0.05, 'gamma': 0.1, 'kernel': 'rbf'} at: http://127.0.0.1:8080/#/experiments/448063372140487283/runs/10598f8cecac4c878b335a046334ce96\n",
      "\n",
      "🧪 View experiment at: http://127.0.0.1:8080/#/experiments/448063372140487283\n",
      "\n",
      "Params: {'C': 0.01, 'gamma': 0.001, 'kernel': 'rbf'}                            \n",
      "🏃 View run SVC_{'C': 0.01, 'gamma': 0.001, 'kernel': 'rbf'} at: http://127.0.0.1:8080/#/experiments/448063372140487283/runs/765f984e208645238427c8a9fad59233\n",
      "\n",
      "🧪 View experiment at: http://127.0.0.1:8080/#/experiments/448063372140487283   \n",
      "\n",
      "Params: {'C': 0.1, 'gamma': 0.001, 'kernel': 'rbf'}                             \n",
      "🏃 View run SVC_{'C': 0.1, 'gamma': 0.001, 'kernel': 'rbf'} at: http://127.0.0.1:8080/#/experiments/448063372140487283/runs/8c57fe66811d42b08526ce58f2d432b7\n",
      "\n",
      "🧪 View experiment at: http://127.0.0.1:8080/#/experiments/448063372140487283   \n",
      "\n",
      "Params: {'C': 0.5, 'gamma': 10, 'kernel': 'rbf'}                                \n",
      " 60%|██████    | 3/5 [01:04<00:44, 22.04s/trial, best loss: -0.7043552614135002]"
     ]
    },
    {
     "name": "stderr",
     "output_type": "stream",
     "text": [
      "/home/renan/miniconda3/lib/python3.12/site-packages/sklearn/metrics/_classification.py:1565: UndefinedMetricWarning: Precision is ill-defined and being set to 0.0 in labels with no predicted samples. Use `zero_division` parameter to control this behavior.\n",
      "  _warn_prf(average, modifier, f\"{metric.capitalize()} is\", len(result))\n",
      "\n"
     ]
    },
    {
     "name": "stdout",
     "output_type": "stream",
     "text": [
      "🏃 View run SVC_{'C': 0.5, 'gamma': 10, 'kernel': 'rbf'} at: http://127.0.0.1:8080/#/experiments/448063372140487283/runs/fff9d73e5c754807a83d319b64200366\n",
      "\n",
      "🧪 View experiment at: http://127.0.0.1:8080/#/experiments/448063372140487283   \n",
      "\n",
      "Params: {'C': 0.05, 'gamma': 1, 'kernel': 'rbf'}                                \n",
      "🏃 View run SVC_{'C': 0.05, 'gamma': 1, 'kernel': 'rbf'} at: http://127.0.0.1:8080/#/experiments/448063372140487283/runs/2082223edda34b13a425880fe709e4d9\n",
      "\n",
      "🧪 View experiment at: http://127.0.0.1:8080/#/experiments/448063372140487283   \n",
      "\n",
      "100%|██████████| 5/5 [03:03<00:00, 36.68s/trial, best loss: -0.7043552614135002]\n",
      "🏃 View run svc-sweep at: http://127.0.0.1:8080/#/experiments/448063372140487283/runs/8e4e250fbeb548588fb2b93864e323b0\n",
      "🧪 View experiment at: http://127.0.0.1:8080/#/experiments/448063372140487283\n",
      "This will run 5 trials to find optimal hyperparameters...\n",
      "Params: {'C': 0.001}                                 \n",
      "🏃 View run LinearSVC_{'C': 0.001} at: http://127.0.0.1:8080/#/experiments/448063372140487283/runs/d1df8f0e54164eef8ac16eaf3909a2a7\n",
      "\n",
      "🧪 View experiment at: http://127.0.0.1:8080/#/experiments/448063372140487283\n",
      "\n",
      "Params: {'C': 0.01}                                                             \n",
      "🏃 View run LinearSVC_{'C': 0.01} at: http://127.0.0.1:8080/#/experiments/448063372140487283/runs/18a325aff2064a358586253e9ff5a8a7\n",
      "\n",
      "🧪 View experiment at: http://127.0.0.1:8080/#/experiments/448063372140487283   \n",
      "\n",
      "Params: {'C': 0.01}                                                             \n",
      "🏃 View run LinearSVC_{'C': 0.01} at: http://127.0.0.1:8080/#/experiments/448063372140487283/runs/fe5cea3925414a6792322d07ef192eac\n",
      "\n",
      "🧪 View experiment at: http://127.0.0.1:8080/#/experiments/448063372140487283   \n",
      "\n",
      "Params: {'C': 0.0001}                                                           \n",
      "🏃 View run LinearSVC_{'C': 0.0001} at: http://127.0.0.1:8080/#/experiments/448063372140487283/runs/880231a510164f8798d1443c8489172d\n",
      "\n",
      "🧪 View experiment at: http://127.0.0.1:8080/#/experiments/448063372140487283   \n",
      "\n",
      "Params: {'C': 0.1}                                                              \n",
      "🏃 View run LinearSVC_{'C': 0.1} at: http://127.0.0.1:8080/#/experiments/448063372140487283/runs/9ebbee1f97414545a95fd28a1e85756a\n",
      "\n",
      "🧪 View experiment at: http://127.0.0.1:8080/#/experiments/448063372140487283   \n",
      "\n",
      "100%|██████████| 5/5 [00:07<00:00,  1.56s/trial, best loss: -0.6779997405101337]\n",
      "🏃 View run svc-linear-sweep at: http://127.0.0.1:8080/#/experiments/448063372140487283/runs/8bec4f73fc8e47aaa25a76eb0b87d5dd\n",
      "🧪 View experiment at: http://127.0.0.1:8080/#/experiments/448063372140487283\n",
      "This will run 5 trials to find optimal hyperparameters...\n",
      "Params: {'colsample_bytree': 1.0, 'learning_rate': 0.2, 'max_depth': 10, 'n_estimators': 200, 'subsample': 0.5}\n",
      "🏃 View run XGBClassifier_{'colsample_bytree': 1.0, 'learning_rate': 0.2, 'max_depth': 10, 'n_estimators': 200, 'subsample': 0.5} at: http://127.0.0.1:8080/#/experiments/448063372140487283/runs/8eea0282ba3e49379d5868b893399638\n",
      "\n",
      "🧪 View experiment at: http://127.0.0.1:8080/#/experiments/448063372140487283\n",
      "\n",
      "Params: {'colsample_bytree': 0.7, 'learning_rate': 0.01, 'max_depth': 5, 'n_estimators': 700, 'subsample': 0.7}\n",
      "🏃 View run XGBClassifier_{'colsample_bytree': 0.7, 'learning_rate': 0.01, 'max_depth': 5, 'n_estimators': 700, 'subsample': 0.7} at: http://127.0.0.1:8080/#/experiments/448063372140487283/runs/5e9374effbfe491c8cab337d2a2e69af\n",
      "\n",
      "🧪 View experiment at: http://127.0.0.1:8080/#/experiments/448063372140487283   \n",
      "\n",
      "Params: {'colsample_bytree': 0.5, 'learning_rate': 0.01, 'max_depth': 10, 'n_estimators': 500, 'subsample': 1.0}\n",
      "🏃 View run XGBClassifier_{'colsample_bytree': 0.5, 'learning_rate': 0.01, 'max_depth': 10, 'n_estimators': 500, 'subsample': 1.0} at: http://127.0.0.1:8080/#/experiments/448063372140487283/runs/6b87ef6b6ad04e20bb86a67309743bc5\n",
      "\n",
      "🧪 View experiment at: http://127.0.0.1:8080/#/experiments/448063372140487283   \n",
      "\n",
      "Params: {'colsample_bytree': 0.7, 'learning_rate': 0.3, 'max_depth': None, 'n_estimators': 200, 'subsample': 0.7}\n",
      "🏃 View run XGBClassifier_{'colsample_bytree': 0.7, 'learning_rate': 0.3, 'max_depth': None, 'n_estimators': 200, 'subsample': 0.7} at: http://127.0.0.1:8080/#/experiments/448063372140487283/runs/54557455e31a41cda391c63c610ed6c6\n",
      "\n",
      "🧪 View experiment at: http://127.0.0.1:8080/#/experiments/448063372140487283   \n",
      "\n",
      "Params: {'colsample_bytree': 0.7, 'learning_rate': 0.001, 'max_depth': None, 'n_estimators': 500, 'subsample': 0.7}\n",
      "🏃 View run XGBClassifier_{'colsample_bytree': 0.7, 'learning_rate': 0.001, 'max_depth': None, 'n_estimators': 500, 'subsample': 0.7} at: http://127.0.0.1:8080/#/experiments/448063372140487283/runs/c3454a7c2845419d91950243949dd1e5\n",
      "\n",
      "🧪 View experiment at: http://127.0.0.1:8080/#/experiments/448063372140487283   \n",
      "\n",
      "100%|██████████| 5/5 [00:22<00:00,  4.43s/trial, best loss: -0.7086193410102808]\n",
      "🏃 View run xgb-sweep at: http://127.0.0.1:8080/#/experiments/448063372140487283/runs/200123a13fc24d14b3dc6c1f7d44bf86\n",
      "🧪 View experiment at: http://127.0.0.1:8080/#/experiments/448063372140487283\n"
     ]
    },
    {
     "data": {
      "text/plain": [
       "0.7086193410102808"
      ]
     },
     "execution_count": 63,
     "metadata": {},
     "output_type": "execute_result"
    }
   ],
   "source": [
    "model = RandomForestClassifier\n",
    "run_experiments('rf-sweep', max_evals=max_evals, search_space=search_space_rf, data_name=data_name, model_name = 'RandomForestClassifier', features_names=columns_to_keep)\n",
    "model = SVC\n",
    "run_experiments('svc-sweep', max_evals=max_evals, search_space=search_space_svc, data_name=data_name, model_name = 'SVC', features_names=columns_to_keep)\n",
    "model = LinearSVC\n",
    "run_experiments('svc-linear-sweep', max_evals=max_evals, search_space=search_space_svc_linear, data_name=data_name, model_name = 'LinearSVC', features_names=columns_to_keep)\n",
    "model = xgb.XGBClassifier\n",
    "run_experiments('xgb-sweep', max_evals=max_evals, search_space=search_space_xgb, data_name=data_name, model_name = 'XGBClassifier', features_names=columns_to_keep)"
   ]
  },
  {
   "cell_type": "markdown",
   "id": "d86358b9",
   "metadata": {},
   "source": [
    "### LLM"
   ]
  },
  {
   "cell_type": "code",
   "execution_count": 64,
   "id": "fd056ed3",
   "metadata": {},
   "outputs": [],
   "source": [
    "# Provide an Experiment description that will appear in the UI\n",
    "experiment_description = (\n",
    "    \"Experiment to train models on the UAH + SUMO LLM (20%) dataset.\"\n",
    ")\n",
    "\n",
    "# Provide searchable tags that define characteristics of the Runs that\n",
    "# will be in this Experiment\n",
    "experiment_tags = {\n",
    "    \"project_name\": \"driver-behavior-prediction\",\n",
    "    \"mlflow.note.content\": experiment_description,\n",
    "}\n",
    "\n",
    "# Create the Experiment, providing a unique name\n",
    "try:\n",
    "    driver_behavior_experiment = client.create_experiment(\n",
    "        name=\"UAH_SUMO_LLM_20\", tags=experiment_tags\n",
    "    )\n",
    "except mlflow.exceptions.RestException as e:\n",
    "    print(f\"Experiment already exists: {e}\")"
   ]
  },
  {
   "cell_type": "code",
   "execution_count": 65,
   "id": "8e51b1e2",
   "metadata": {},
   "outputs": [],
   "source": [
    "X_train, y_train = X_sumo_uah_llm_20, y_sumo_uah_llm_20\n",
    "\n",
    "scaler = StandardScaler()\n",
    "X_train = scaler.fit_transform(X_train)\n",
    "X_val = scaler.transform(X_val_base)\n",
    "y_train = preprocessor.one_hot_encode(y_train, one_hot_keys=one_hot_keys)\n",
    "\n",
    "signature = infer_signature(X_train, y_train)\n",
    "mlflow.set_experiment('UAH_SUMO_LLM_20')\n",
    "data_name = 'UAH_SUMO_LLM_20'"
   ]
  },
  {
   "cell_type": "code",
   "execution_count": 66,
   "id": "ee354ab5",
   "metadata": {},
   "outputs": [
    {
     "name": "stdout",
     "output_type": "stream",
     "text": [
      "This will run 5 trials to find optimal hyperparameters...\n",
      "Params: {'max_depth': 10, 'n_estimators': 20, 'random_state': 42}\n",
      "🏃 View run RandomForestClassifier_{'max_depth': 10, 'n_estimators': 20, 'random_state': 42} at: http://127.0.0.1:8080/#/experiments/286138044431868541/runs/f87800b4a17e4153a67e0fdfd289ccd9\n",
      "\n",
      "🧪 View experiment at: http://127.0.0.1:8080/#/experiments/286138044431868541\n",
      "\n",
      "Params: {'max_depth': 10, 'n_estimators': 500, 'random_state': 42}              \n",
      "🏃 View run RandomForestClassifier_{'max_depth': 10, 'n_estimators': 500, 'random_state': 42} at: http://127.0.0.1:8080/#/experiments/286138044431868541/runs/74f9da7fa27b4c4ca53dda3187315f30\n",
      "\n",
      "🧪 View experiment at: http://127.0.0.1:8080/#/experiments/286138044431868541   \n",
      "\n",
      "Params: {'max_depth': None, 'n_estimators': 50, 'random_state': 42}             \n",
      "🏃 View run RandomForestClassifier_{'max_depth': None, 'n_estimators': 50, 'random_state': 42} at: http://127.0.0.1:8080/#/experiments/286138044431868541/runs/d5dc098852bf4b098c1e50c8cf48411d\n",
      "\n",
      "🧪 View experiment at: http://127.0.0.1:8080/#/experiments/286138044431868541   \n",
      "\n",
      "Params: {'max_depth': 5, 'n_estimators': 200, 'random_state': 42}               \n",
      "🏃 View run RandomForestClassifier_{'max_depth': 5, 'n_estimators': 200, 'random_state': 42} at: http://127.0.0.1:8080/#/experiments/286138044431868541/runs/a21b1d5d9b0a4b66b66937be53325bee\n",
      "\n",
      "🧪 View experiment at: http://127.0.0.1:8080/#/experiments/286138044431868541   \n",
      "\n",
      "Params: {'max_depth': 10, 'n_estimators': 50, 'random_state': 42}               \n",
      "🏃 View run RandomForestClassifier_{'max_depth': 10, 'n_estimators': 50, 'random_state': 42} at: http://127.0.0.1:8080/#/experiments/286138044431868541/runs/f1a3b077f2f74571839fc4a14d396c71\n",
      "\n",
      "🧪 View experiment at: http://127.0.0.1:8080/#/experiments/286138044431868541   \n",
      "\n",
      "100%|██████████| 5/5 [00:57<00:00, 11.52s/trial, best loss: -0.6760790991259854]\n",
      "🏃 View run rf-sweep at: http://127.0.0.1:8080/#/experiments/286138044431868541/runs/f549f4ba2fda4605bdada912633f95c4\n",
      "🧪 View experiment at: http://127.0.0.1:8080/#/experiments/286138044431868541\n",
      "This will run 5 trials to find optimal hyperparameters...\n",
      "Params: {'C': 1, 'gamma': 0.1, 'kernel': 'rbf'}      \n",
      "🏃 View run SVC_{'C': 1, 'gamma': 0.1, 'kernel': 'rbf'} at: http://127.0.0.1:8080/#/experiments/286138044431868541/runs/534a700eac534b5a8ebfa01845b790c3\n",
      "\n",
      "🧪 View experiment at: http://127.0.0.1:8080/#/experiments/286138044431868541\n",
      "\n",
      "Params: {'C': 0.1, 'gamma': 0.01, 'kernel': 'rbf'}                              \n",
      "🏃 View run SVC_{'C': 0.1, 'gamma': 0.01, 'kernel': 'rbf'} at: http://127.0.0.1:8080/#/experiments/286138044431868541/runs/f523b9d44cf34770947eb41ff8800f1c\n",
      "\n",
      "🧪 View experiment at: http://127.0.0.1:8080/#/experiments/286138044431868541   \n",
      "\n",
      "Params: {'C': 0.5, 'gamma': 0.001, 'kernel': 'rbf'}                             \n",
      "🏃 View run SVC_{'C': 0.5, 'gamma': 0.001, 'kernel': 'rbf'} at: http://127.0.0.1:8080/#/experiments/286138044431868541/runs/188f705911c94fa3b4274f9f2a9de5a6\n",
      "\n",
      "🧪 View experiment at: http://127.0.0.1:8080/#/experiments/286138044431868541   \n",
      "\n",
      "Params: {'C': 0.05, 'gamma': 0.001, 'kernel': 'rbf'}                            \n",
      "🏃 View run SVC_{'C': 0.05, 'gamma': 0.001, 'kernel': 'rbf'} at: http://127.0.0.1:8080/#/experiments/286138044431868541/runs/0307f547708b49a8a17c5178b107721e\n",
      "\n",
      "🧪 View experiment at: http://127.0.0.1:8080/#/experiments/286138044431868541   \n",
      "\n",
      "Params: {'C': 0.5, 'gamma': 1, 'kernel': 'rbf'}                                 \n",
      "🏃 View run SVC_{'C': 0.5, 'gamma': 1, 'kernel': 'rbf'} at: http://127.0.0.1:8080/#/experiments/286138044431868541/runs/9b9c7f6f075a40059f70795a688603e4\n",
      "\n",
      "🧪 View experiment at: http://127.0.0.1:8080/#/experiments/286138044431868541   \n",
      "\n",
      "100%|██████████| 5/5 [01:55<00:00, 23.05s/trial, best loss: -0.7087823456745189]\n",
      "🏃 View run svc-sweep at: http://127.0.0.1:8080/#/experiments/286138044431868541/runs/cc36b558839b44dc92cbd54c9bc41911\n",
      "🧪 View experiment at: http://127.0.0.1:8080/#/experiments/286138044431868541\n",
      "This will run 5 trials to find optimal hyperparameters...\n",
      "Params: {'C': 0.001}                                 \n",
      "🏃 View run LinearSVC_{'C': 0.001} at: http://127.0.0.1:8080/#/experiments/286138044431868541/runs/d701586fc104437b83250b2a13f0b932\n",
      "\n",
      "🧪 View experiment at: http://127.0.0.1:8080/#/experiments/286138044431868541\n",
      "\n",
      "Params: {'C': 0.001}                                                            \n",
      "🏃 View run LinearSVC_{'C': 0.001} at: http://127.0.0.1:8080/#/experiments/286138044431868541/runs/9f130b8129224eef925012f6a759f661\n",
      "\n",
      "🧪 View experiment at: http://127.0.0.1:8080/#/experiments/286138044431868541   \n",
      "\n",
      "Params: {'C': 0.01}                                                             \n",
      "🏃 View run LinearSVC_{'C': 0.01} at: http://127.0.0.1:8080/#/experiments/286138044431868541/runs/6748a83fd5d846caa7ef9648be6850ac\n",
      "\n",
      "🧪 View experiment at: http://127.0.0.1:8080/#/experiments/286138044431868541   \n",
      "\n",
      "Params: {'C': 0.1}                                                              \n",
      "🏃 View run LinearSVC_{'C': 0.1} at: http://127.0.0.1:8080/#/experiments/286138044431868541/runs/9d9a4405f69f48cb910bc526500a9cc0\n",
      "\n",
      "🧪 View experiment at: http://127.0.0.1:8080/#/experiments/286138044431868541   \n",
      "\n",
      "Params: {'C': 0.1}                                                              \n",
      "🏃 View run LinearSVC_{'C': 0.1} at: http://127.0.0.1:8080/#/experiments/286138044431868541/runs/3cb85c02c204407aac3bf5262131d0ad\n",
      "\n",
      "🧪 View experiment at: http://127.0.0.1:8080/#/experiments/286138044431868541   \n",
      "\n",
      "100%|██████████| 5/5 [00:08<00:00,  1.64s/trial, best loss: -0.6676146953834123]\n",
      "🏃 View run svc-linear-sweep at: http://127.0.0.1:8080/#/experiments/286138044431868541/runs/add9e49db7724d1ba181fc9a8cf55934\n",
      "🧪 View experiment at: http://127.0.0.1:8080/#/experiments/286138044431868541\n",
      "This will run 5 trials to find optimal hyperparameters...\n",
      "Params: {'colsample_bytree': 0.7, 'learning_rate': 0.3, 'max_depth': None, 'n_estimators': 700, 'subsample': 0.7}\n",
      "🏃 View run XGBClassifier_{'colsample_bytree': 0.7, 'learning_rate': 0.3, 'max_depth': None, 'n_estimators': 700, 'subsample': 0.7} at: http://127.0.0.1:8080/#/experiments/286138044431868541/runs/1f5effd03b0243a694fbf248ab3704e6\n",
      "\n",
      "🧪 View experiment at: http://127.0.0.1:8080/#/experiments/286138044431868541\n",
      "\n",
      "Params: {'colsample_bytree': 1.0, 'learning_rate': 0.3, 'max_depth': 10, 'n_estimators': 1000, 'subsample': 0.5}\n",
      "🏃 View run XGBClassifier_{'colsample_bytree': 1.0, 'learning_rate': 0.3, 'max_depth': 10, 'n_estimators': 1000, 'subsample': 0.5} at: http://127.0.0.1:8080/#/experiments/286138044431868541/runs/4aaa357aa5564acc865246721ef35e5c\n",
      "\n",
      "🧪 View experiment at: http://127.0.0.1:8080/#/experiments/286138044431868541   \n",
      "\n",
      "Params: {'colsample_bytree': 0.7, 'learning_rate': 0.01, 'max_depth': 10, 'n_estimators': 700, 'subsample': 1.0}\n",
      "🏃 View run XGBClassifier_{'colsample_bytree': 0.7, 'learning_rate': 0.01, 'max_depth': 10, 'n_estimators': 700, 'subsample': 1.0} at: http://127.0.0.1:8080/#/experiments/286138044431868541/runs/55bd9ed9aa084702a3ac0765f70c7c33\n",
      "\n",
      "🧪 View experiment at: http://127.0.0.1:8080/#/experiments/286138044431868541   \n",
      "\n",
      "Params: {'colsample_bytree': 0.5, 'learning_rate': 0.01, 'max_depth': 5, 'n_estimators': 700, 'subsample': 0.7}\n",
      "🏃 View run XGBClassifier_{'colsample_bytree': 0.5, 'learning_rate': 0.01, 'max_depth': 5, 'n_estimators': 700, 'subsample': 0.7} at: http://127.0.0.1:8080/#/experiments/286138044431868541/runs/262796c02ae642968285d96591ef54b9\n",
      "\n",
      "🧪 View experiment at: http://127.0.0.1:8080/#/experiments/286138044431868541   \n",
      "\n",
      "Params: {'colsample_bytree': 0.7, 'learning_rate': 0.001, 'max_depth': 5, 'n_estimators': 500, 'subsample': 1.0}\n",
      "🏃 View run XGBClassifier_{'colsample_bytree': 0.7, 'learning_rate': 0.001, 'max_depth': 5, 'n_estimators': 500, 'subsample': 1.0} at: http://127.0.0.1:8080/#/experiments/286138044431868541/runs/53f887929d0a4d3592733d59a2620d71\n",
      "\n",
      "🧪 View experiment at: http://127.0.0.1:8080/#/experiments/286138044431868541   \n",
      "\n",
      "100%|██████████| 5/5 [00:29<00:00,  5.97s/trial, best loss: -0.7093977278923679]\n",
      "🏃 View run xgb-sweep at: http://127.0.0.1:8080/#/experiments/286138044431868541/runs/e1d043025ff747b092be6ea393a6e1c7\n",
      "🧪 View experiment at: http://127.0.0.1:8080/#/experiments/286138044431868541\n"
     ]
    },
    {
     "data": {
      "text/plain": [
       "0.7093977278923679"
      ]
     },
     "execution_count": 66,
     "metadata": {},
     "output_type": "execute_result"
    }
   ],
   "source": [
    "model = RandomForestClassifier\n",
    "run_experiments('rf-sweep', max_evals=max_evals, search_space=search_space_rf, data_name=data_name, model_name = 'RandomForestClassifier', features_names=columns_to_keep)\n",
    "model = SVC\n",
    "run_experiments('svc-sweep', max_evals=max_evals, search_space=search_space_svc, data_name=data_name, model_name = 'SVC', features_names=columns_to_keep)\n",
    "model = LinearSVC\n",
    "run_experiments('svc-linear-sweep', max_evals=max_evals, search_space=search_space_svc_linear, data_name=data_name, model_name = 'LinearSVC', features_names=columns_to_keep)\n",
    "model = xgb.XGBClassifier\n",
    "run_experiments('xgb-sweep', max_evals=max_evals, search_space=search_space_xgb, data_name=data_name, model_name = 'XGBClassifier', features_names=columns_to_keep)"
   ]
  },
  {
   "cell_type": "markdown",
   "id": "6c639de4",
   "metadata": {},
   "source": [
    "## Real + SUMO (100%)"
   ]
  },
  {
   "cell_type": "markdown",
   "id": "e6d9c9ec",
   "metadata": {},
   "source": [
    "### Fixed"
   ]
  },
  {
   "cell_type": "code",
   "execution_count": 67,
   "id": "261c77d0",
   "metadata": {},
   "outputs": [],
   "source": [
    "# Provide an Experiment description that will appear in the UI\n",
    "experiment_description = (\n",
    "    \"Experiment to train models on the UAH + SUMO Fixed (100%) dataset.\"\n",
    ")\n",
    "\n",
    "# Provide searchable tags that define characteristics of the Runs that\n",
    "# will be in this Experiment\n",
    "experiment_tags = {\n",
    "    \"project_name\": \"driver-behavior-prediction\",\n",
    "    \"mlflow.note.content\": experiment_description,\n",
    "}\n",
    "\n",
    "# Create the Experiment, providing a unique name\n",
    "try:\n",
    "    driver_behavior_experiment = client.create_experiment(\n",
    "        name=\"UAH_SUMO_Fixed_100\", tags=experiment_tags\n",
    "    )\n",
    "except mlflow.exceptions.RestException as e:\n",
    "    print(f\"Experiment already exists: {e}\")"
   ]
  },
  {
   "cell_type": "code",
   "execution_count": 68,
   "id": "ce15831d",
   "metadata": {},
   "outputs": [],
   "source": [
    "X_train, y_train = X_sumo_uah_fixed_100, y_sumo_uah_fixed_100\n",
    "\n",
    "scaler = StandardScaler()\n",
    "X_train = scaler.fit_transform(X_train)\n",
    "X_val = scaler.transform(X_val_base)\n",
    "y_train = preprocessor.one_hot_encode(y_train, one_hot_keys=one_hot_keys)\n",
    "\n",
    "signature = infer_signature(X_train, y_train)\n",
    "mlflow.set_experiment('UAH_SUMO_Fixed_100')\n",
    "data_name = 'UAH_SUMO_Fixed_100'"
   ]
  },
  {
   "cell_type": "code",
   "execution_count": 69,
   "id": "7a657796",
   "metadata": {},
   "outputs": [
    {
     "name": "stdout",
     "output_type": "stream",
     "text": [
      "This will run 5 trials to find optimal hyperparameters...\n",
      "Params: {'max_depth': 5, 'n_estimators': 200, 'random_state': 42}\n",
      "🏃 View run RandomForestClassifier_{'max_depth': 5, 'n_estimators': 200, 'random_state': 42} at: http://127.0.0.1:8080/#/experiments/781101988457397671/runs/cc4b75f5fdbc4143b5e582c80e366185\n",
      "\n",
      "🧪 View experiment at: http://127.0.0.1:8080/#/experiments/781101988457397671\n",
      "\n",
      "Params: {'max_depth': 50, 'n_estimators': 100, 'random_state': 42}              \n",
      "🏃 View run RandomForestClassifier_{'max_depth': 50, 'n_estimators': 100, 'random_state': 42} at: http://127.0.0.1:8080/#/experiments/781101988457397671/runs/ba1d8fc88ae2412c8a8124e470b0e6bd\n",
      "\n",
      "🧪 View experiment at: http://127.0.0.1:8080/#/experiments/781101988457397671   \n",
      "\n",
      "Params: {'max_depth': 20, 'n_estimators': 50, 'random_state': 42}               \n",
      "🏃 View run RandomForestClassifier_{'max_depth': 20, 'n_estimators': 50, 'random_state': 42} at: http://127.0.0.1:8080/#/experiments/781101988457397671/runs/3ec2cb1dc0c14be691029b7607f03f81\n",
      "\n",
      "🧪 View experiment at: http://127.0.0.1:8080/#/experiments/781101988457397671   \n",
      "\n",
      "Params: {'max_depth': None, 'n_estimators': 20, 'random_state': 42}             \n",
      "🏃 View run RandomForestClassifier_{'max_depth': None, 'n_estimators': 20, 'random_state': 42} at: http://127.0.0.1:8080/#/experiments/781101988457397671/runs/b74eb9993d914720b024eaa333ac6162\n",
      "\n",
      "🧪 View experiment at: http://127.0.0.1:8080/#/experiments/781101988457397671   \n",
      "\n",
      "Params: {'max_depth': 20, 'n_estimators': 50, 'random_state': 42}               \n",
      "🏃 View run RandomForestClassifier_{'max_depth': 20, 'n_estimators': 50, 'random_state': 42} at: http://127.0.0.1:8080/#/experiments/781101988457397671/runs/67c4226b0d1c4a68a05380225e76ba22\n",
      "\n",
      "🧪 View experiment at: http://127.0.0.1:8080/#/experiments/781101988457397671   \n",
      "\n",
      "100%|██████████| 5/5 [00:36<00:00,  7.20s/trial, best loss: -0.6453009401767046]\n",
      "🏃 View run rf-sweep at: http://127.0.0.1:8080/#/experiments/781101988457397671/runs/9ef9e69925a641e7a9607391bdba3650\n",
      "🧪 View experiment at: http://127.0.0.1:8080/#/experiments/781101988457397671\n",
      "This will run 5 trials to find optimal hyperparameters...\n",
      "Params: {'C': 1, 'gamma': 0.01, 'kernel': 'rbf'}     \n",
      "🏃 View run SVC_{'C': 1, 'gamma': 0.01, 'kernel': 'rbf'} at: http://127.0.0.1:8080/#/experiments/781101988457397671/runs/7f30f12f288a4703abb2ad9cc861eded\n",
      "\n",
      "🧪 View experiment at: http://127.0.0.1:8080/#/experiments/781101988457397671\n",
      "\n",
      "Params: {'C': 0.1, 'gamma': 10, 'kernel': 'rbf'}                               \n",
      " 20%|██        | 1/5 [00:17<01:09, 17.37s/trial, best loss: -0.711088506260725]"
     ]
    },
    {
     "name": "stderr",
     "output_type": "stream",
     "text": [
      "/home/renan/miniconda3/lib/python3.12/site-packages/sklearn/metrics/_classification.py:1565: UndefinedMetricWarning: Precision is ill-defined and being set to 0.0 in labels with no predicted samples. Use `zero_division` parameter to control this behavior.\n",
      "  _warn_prf(average, modifier, f\"{metric.capitalize()} is\", len(result))\n",
      "\n"
     ]
    },
    {
     "name": "stdout",
     "output_type": "stream",
     "text": [
      "🏃 View run SVC_{'C': 0.1, 'gamma': 10, 'kernel': 'rbf'} at: http://127.0.0.1:8080/#/experiments/781101988457397671/runs/6e8b8b76f1944184bdcb8de8e2fe8ba0\n",
      "\n",
      "🧪 View experiment at: http://127.0.0.1:8080/#/experiments/781101988457397671  \n",
      "\n",
      "Params: {'C': 1, 'gamma': 0.1, 'kernel': 'rbf'}                                \n",
      "🏃 View run SVC_{'C': 1, 'gamma': 0.1, 'kernel': 'rbf'} at: http://127.0.0.1:8080/#/experiments/781101988457397671/runs/3f4a10f6a502462e92ac5a4a42514d43\n",
      "\n",
      "🧪 View experiment at: http://127.0.0.1:8080/#/experiments/781101988457397671  \n",
      "\n",
      "Params: {'C': 0.5, 'gamma': 0.01, 'kernel': 'rbf'}                             \n",
      "🏃 View run SVC_{'C': 0.5, 'gamma': 0.01, 'kernel': 'rbf'} at: http://127.0.0.1:8080/#/experiments/781101988457397671/runs/c443f842db264e1dbf7fb054fd24a2c3\n",
      "\n",
      "🧪 View experiment at: http://127.0.0.1:8080/#/experiments/781101988457397671  \n",
      "\n",
      "Params: {'C': 1, 'gamma': 0.001, 'kernel': 'rbf'}                               \n",
      "🏃 View run SVC_{'C': 1, 'gamma': 0.001, 'kernel': 'rbf'} at: http://127.0.0.1:8080/#/experiments/781101988457397671/runs/eab1bee442cc49a88b3502c234b90898\n",
      "\n",
      "🧪 View experiment at: http://127.0.0.1:8080/#/experiments/781101988457397671   \n",
      "\n",
      "100%|██████████| 5/5 [02:32<00:00, 30.51s/trial, best loss: -0.7158674940556249]\n",
      "🏃 View run svc-sweep at: http://127.0.0.1:8080/#/experiments/781101988457397671/runs/23675a45ad6e44e380767005d6810b8a\n",
      "🧪 View experiment at: http://127.0.0.1:8080/#/experiments/781101988457397671\n",
      "This will run 5 trials to find optimal hyperparameters...\n",
      "Params: {'C': 0.01}                                  \n",
      "🏃 View run LinearSVC_{'C': 0.01} at: http://127.0.0.1:8080/#/experiments/781101988457397671/runs/c8fcb71da621485495e5bd19e6cce0a3\n",
      "\n",
      "🧪 View experiment at: http://127.0.0.1:8080/#/experiments/781101988457397671\n",
      "\n",
      "Params: {'C': 0.01}                                                             \n",
      "🏃 View run LinearSVC_{'C': 0.01} at: http://127.0.0.1:8080/#/experiments/781101988457397671/runs/c2403763466a479fa8648823b144ea7d\n",
      "\n",
      "🧪 View experiment at: http://127.0.0.1:8080/#/experiments/781101988457397671   \n",
      "\n",
      "Params: {'C': 0.001}                                                            \n",
      "🏃 View run LinearSVC_{'C': 0.001} at: http://127.0.0.1:8080/#/experiments/781101988457397671/runs/d485bb31b90d478ba169c3bcb88b1e30\n",
      "\n",
      "🧪 View experiment at: http://127.0.0.1:8080/#/experiments/781101988457397671   \n",
      "\n",
      "Params: {'C': 0.1}                                                              \n",
      "🏃 View run LinearSVC_{'C': 0.1} at: http://127.0.0.1:8080/#/experiments/781101988457397671/runs/a60a9a80408b46d49c84da9d3abe81b2\n",
      "\n",
      "🧪 View experiment at: http://127.0.0.1:8080/#/experiments/781101988457397671   \n",
      "\n",
      "Params: {'C': 0.1}                                                              \n",
      "🏃 View run LinearSVC_{'C': 0.1} at: http://127.0.0.1:8080/#/experiments/781101988457397671/runs/768357085b034907869478c665feacfd\n",
      "\n",
      "🧪 View experiment at: http://127.0.0.1:8080/#/experiments/781101988457397671   \n",
      "\n",
      "100%|██████████| 5/5 [00:07<00:00,  1.59s/trial, best loss: -0.6676146953834123]\n",
      "🏃 View run svc-linear-sweep at: http://127.0.0.1:8080/#/experiments/781101988457397671/runs/66ff9d4e5d1d4074a506bd06fb9e7333\n",
      "🧪 View experiment at: http://127.0.0.1:8080/#/experiments/781101988457397671\n",
      "This will run 5 trials to find optimal hyperparameters...\n",
      "Params: {'colsample_bytree': 0.7, 'learning_rate': 0.01, 'max_depth': 5, 'n_estimators': 200, 'subsample': 0.7}\n",
      "🏃 View run XGBClassifier_{'colsample_bytree': 0.7, 'learning_rate': 0.01, 'max_depth': 5, 'n_estimators': 200, 'subsample': 0.7} at: http://127.0.0.1:8080/#/experiments/781101988457397671/runs/9ee3c2f0ab964cf489623077210b79d7\n",
      "\n",
      "🧪 View experiment at: http://127.0.0.1:8080/#/experiments/781101988457397671\n",
      "\n",
      "Params: {'colsample_bytree': 0.5, 'learning_rate': 0.01, 'max_depth': 5, 'n_estimators': 500, 'subsample': 0.5}\n",
      "🏃 View run XGBClassifier_{'colsample_bytree': 0.5, 'learning_rate': 0.01, 'max_depth': 5, 'n_estimators': 500, 'subsample': 0.5} at: http://127.0.0.1:8080/#/experiments/781101988457397671/runs/291c3fb2061747728e25f71c6accd38b\n",
      "\n",
      "🧪 View experiment at: http://127.0.0.1:8080/#/experiments/781101988457397671   \n",
      "\n",
      "Params: {'colsample_bytree': 0.5, 'learning_rate': 0.1, 'max_depth': 10, 'n_estimators': 700, 'subsample': 0.5}\n",
      "🏃 View run XGBClassifier_{'colsample_bytree': 0.5, 'learning_rate': 0.1, 'max_depth': 10, 'n_estimators': 700, 'subsample': 0.5} at: http://127.0.0.1:8080/#/experiments/781101988457397671/runs/e96be1c342254f77b88760c0729c31f9\n",
      "\n",
      "🧪 View experiment at: http://127.0.0.1:8080/#/experiments/781101988457397671   \n",
      "\n",
      "Params: {'colsample_bytree': 0.5, 'learning_rate': 0.01, 'max_depth': 5, 'n_estimators': 700, 'subsample': 0.7}\n",
      "🏃 View run XGBClassifier_{'colsample_bytree': 0.5, 'learning_rate': 0.01, 'max_depth': 5, 'n_estimators': 700, 'subsample': 0.7} at: http://127.0.0.1:8080/#/experiments/781101988457397671/runs/501b29200514433db388f3e46a93a12c\n",
      "\n",
      "🧪 View experiment at: http://127.0.0.1:8080/#/experiments/781101988457397671   \n",
      "\n",
      "Params: {'colsample_bytree': 0.7, 'learning_rate': 0.01, 'max_depth': None, 'n_estimators': 500, 'subsample': 0.7}\n",
      "🏃 View run XGBClassifier_{'colsample_bytree': 0.7, 'learning_rate': 0.01, 'max_depth': None, 'n_estimators': 500, 'subsample': 0.7} at: http://127.0.0.1:8080/#/experiments/781101988457397671/runs/54418923fc144948af04583492392da6\n",
      "\n",
      "🧪 View experiment at: http://127.0.0.1:8080/#/experiments/781101988457397671   \n",
      "\n",
      "100%|██████████| 5/5 [00:20<00:00,  4.13s/trial, best loss: -0.7093977278923679]\n",
      "🏃 View run xgb-sweep at: http://127.0.0.1:8080/#/experiments/781101988457397671/runs/4cbcbfabd3504d1d95726d64634dc8c9\n",
      "🧪 View experiment at: http://127.0.0.1:8080/#/experiments/781101988457397671\n"
     ]
    },
    {
     "data": {
      "text/plain": [
       "0.7093977278923679"
      ]
     },
     "execution_count": 69,
     "metadata": {},
     "output_type": "execute_result"
    }
   ],
   "source": [
    "model = RandomForestClassifier\n",
    "run_experiments('rf-sweep', max_evals=max_evals, search_space=search_space_rf, data_name=data_name, model_name = 'RandomForestClassifier', features_names=columns_to_keep)\n",
    "model = SVC\n",
    "run_experiments('svc-sweep', max_evals=max_evals, search_space=search_space_svc, data_name=data_name, model_name = 'SVC', features_names=columns_to_keep)\n",
    "model = LinearSVC\n",
    "run_experiments('svc-linear-sweep', max_evals=max_evals, search_space=search_space_svc_linear, data_name=data_name, model_name = 'LinearSVC', features_names=columns_to_keep)\n",
    "model = xgb.XGBClassifier\n",
    "run_experiments('xgb-sweep', max_evals=max_evals, search_space=search_space_xgb, data_name=data_name, model_name = 'XGBClassifier', features_names=columns_to_keep)"
   ]
  },
  {
   "cell_type": "markdown",
   "id": "30cb9e0c",
   "metadata": {},
   "source": [
    "### LLM"
   ]
  },
  {
   "cell_type": "code",
   "execution_count": 70,
   "id": "94ebfdd3",
   "metadata": {},
   "outputs": [],
   "source": [
    "# Provide an Experiment description that will appear in the UI\n",
    "experiment_description = (\n",
    "    \"Experiment to train models on the UAH + SUMO LLM (100%) dataset.\"\n",
    ")\n",
    "\n",
    "# Provide searchable tags that define characteristics of the Runs that\n",
    "# will be in this Experiment\n",
    "experiment_tags = {\n",
    "    \"project_name\": \"driver-behavior-prediction\",\n",
    "    \"mlflow.note.content\": experiment_description,\n",
    "}\n",
    "\n",
    "# Create the Experiment, providing a unique name\n",
    "try:\n",
    "    driver_behavior_experiment = client.create_experiment(\n",
    "        name=\"UAH_SUMO_LLM_100\", tags=experiment_tags\n",
    "    )\n",
    "except mlflow.exceptions.RestException as e:\n",
    "    print(f\"Experiment already exists: {e}\")"
   ]
  },
  {
   "cell_type": "code",
   "execution_count": 71,
   "id": "c5a0b3e1",
   "metadata": {},
   "outputs": [],
   "source": [
    "X_train, y_train = X_sumo_uah_llm_100, y_sumo_uah_llm_100\n",
    "\n",
    "scaler = StandardScaler()\n",
    "X_train = scaler.fit_transform(X_train)\n",
    "X_val = scaler.transform(X_val_base)\n",
    "y_train = preprocessor.one_hot_encode(y_train, one_hot_keys=one_hot_keys)\n",
    "\n",
    "signature = infer_signature(X_train, y_train)\n",
    "mlflow.set_experiment('UAH_SUMO_LLM_100')\n",
    "data_name = 'UAH_SUMO_LLM_100'"
   ]
  },
  {
   "cell_type": "code",
   "execution_count": 72,
   "id": "e7b0ffdc",
   "metadata": {},
   "outputs": [
    {
     "name": "stdout",
     "output_type": "stream",
     "text": [
      "This will run 5 trials to find optimal hyperparameters...\n",
      "Params: {'max_depth': 20, 'n_estimators': 100, 'random_state': 42}\n",
      "🏃 View run RandomForestClassifier_{'max_depth': 20, 'n_estimators': 100, 'random_state': 42} at: http://127.0.0.1:8080/#/experiments/773618696891896956/runs/f4fde1ec3b434f9a966b113602c313e3\n",
      "\n",
      "🧪 View experiment at: http://127.0.0.1:8080/#/experiments/773618696891896956\n",
      "\n",
      "Params: {'max_depth': 20, 'n_estimators': 20, 'random_state': 42}               \n",
      "🏃 View run RandomForestClassifier_{'max_depth': 20, 'n_estimators': 20, 'random_state': 42} at: http://127.0.0.1:8080/#/experiments/773618696891896956/runs/f2f06967de8140b7952f7db1943dcc36\n",
      "\n",
      "🧪 View experiment at: http://127.0.0.1:8080/#/experiments/773618696891896956   \n",
      "\n",
      "Params: {'max_depth': 5, 'n_estimators': 100, 'random_state': 42}               \n",
      "🏃 View run RandomForestClassifier_{'max_depth': 5, 'n_estimators': 100, 'random_state': 42} at: http://127.0.0.1:8080/#/experiments/773618696891896956/runs/42d3453f70904cd4a0db29cb5ca40c43\n",
      "\n",
      "🧪 View experiment at: http://127.0.0.1:8080/#/experiments/773618696891896956   \n",
      "\n",
      "Params: {'max_depth': 5, 'n_estimators': 100, 'random_state': 42}               \n",
      "🏃 View run RandomForestClassifier_{'max_depth': 5, 'n_estimators': 100, 'random_state': 42} at: http://127.0.0.1:8080/#/experiments/773618696891896956/runs/25eb03e5379146a7aa5961f6959003db\n",
      "\n",
      "🧪 View experiment at: http://127.0.0.1:8080/#/experiments/773618696891896956  \n",
      "\n",
      "Params: {'max_depth': 5, 'n_estimators': 200, 'random_state': 42}              \n",
      "🏃 View run RandomForestClassifier_{'max_depth': 5, 'n_estimators': 200, 'random_state': 42} at: http://127.0.0.1:8080/#/experiments/773618696891896956/runs/68c28fd031f347f1bde183ce30909b33\n",
      "\n",
      "🧪 View experiment at: http://127.0.0.1:8080/#/experiments/773618696891896956  \n",
      "\n",
      "100%|██████████| 5/5 [00:33<00:00,  6.69s/trial, best loss: -0.646644654841638]\n",
      "🏃 View run rf-sweep at: http://127.0.0.1:8080/#/experiments/773618696891896956/runs/9004b1794fa14e42a1569318d1ec66dc\n",
      "🧪 View experiment at: http://127.0.0.1:8080/#/experiments/773618696891896956\n",
      "This will run 5 trials to find optimal hyperparameters...\n",
      "Params: {'C': 0.01, 'gamma': 10, 'kernel': 'rbf'}    \n",
      "  0%|          | 0/5 [00:00<?, ?trial/s, best loss=?]"
     ]
    },
    {
     "name": "stderr",
     "output_type": "stream",
     "text": [
      "/home/renan/miniconda3/lib/python3.12/site-packages/sklearn/metrics/_classification.py:1565: UndefinedMetricWarning: Precision is ill-defined and being set to 0.0 in labels with no predicted samples. Use `zero_division` parameter to control this behavior.\n",
      "  _warn_prf(average, modifier, f\"{metric.capitalize()} is\", len(result))\n",
      "\n"
     ]
    },
    {
     "name": "stdout",
     "output_type": "stream",
     "text": [
      "🏃 View run SVC_{'C': 0.01, 'gamma': 10, 'kernel': 'rbf'} at: http://127.0.0.1:8080/#/experiments/773618696891896956/runs/dc7f8e92825b430fa5fcee7d9e308af5\n",
      "\n",
      "🧪 View experiment at: http://127.0.0.1:8080/#/experiments/773618696891896956\n",
      "\n",
      "Params: {'C': 0.5, 'gamma': 0.001, 'kernel': 'rbf'}                             \n",
      "🏃 View run SVC_{'C': 0.5, 'gamma': 0.001, 'kernel': 'rbf'} at: http://127.0.0.1:8080/#/experiments/773618696891896956/runs/c9595440d570410c9780373893a2b0ba\n",
      "\n",
      "🧪 View experiment at: http://127.0.0.1:8080/#/experiments/773618696891896956   \n",
      "\n",
      "Params: {'C': 0.1, 'gamma': 1, 'kernel': 'rbf'}                                 \n",
      "🏃 View run SVC_{'C': 0.1, 'gamma': 1, 'kernel': 'rbf'} at: http://127.0.0.1:8080/#/experiments/773618696891896956/runs/5fa8484535104619aa376231d7cafad8\n",
      "\n",
      "🧪 View experiment at: http://127.0.0.1:8080/#/experiments/773618696891896956   \n",
      "\n",
      "Params: {'C': 0.01, 'gamma': 0.1, 'kernel': 'rbf'}                              \n",
      "🏃 View run SVC_{'C': 0.01, 'gamma': 0.1, 'kernel': 'rbf'} at: http://127.0.0.1:8080/#/experiments/773618696891896956/runs/0a898890fb3d4138b65c1d858846bd41\n",
      "\n",
      "🧪 View experiment at: http://127.0.0.1:8080/#/experiments/773618696891896956   \n",
      "\n",
      "Params: {'C': 0.5, 'gamma': 10, 'kernel': 'rbf'}                                \n",
      " 80%|████████  | 4/5 [02:13<00:29, 29.45s/trial, best loss: -0.710139703195026]"
     ]
    },
    {
     "name": "stderr",
     "output_type": "stream",
     "text": [
      "/home/renan/miniconda3/lib/python3.12/site-packages/sklearn/metrics/_classification.py:1565: UndefinedMetricWarning: Precision is ill-defined and being set to 0.0 in labels with no predicted samples. Use `zero_division` parameter to control this behavior.\n",
      "  _warn_prf(average, modifier, f\"{metric.capitalize()} is\", len(result))\n",
      "\n"
     ]
    },
    {
     "name": "stdout",
     "output_type": "stream",
     "text": [
      "🏃 View run SVC_{'C': 0.5, 'gamma': 10, 'kernel': 'rbf'} at: http://127.0.0.1:8080/#/experiments/773618696891896956/runs/a2ba54af69fa400fa46207273be47c08\n",
      "\n",
      "🧪 View experiment at: http://127.0.0.1:8080/#/experiments/773618696891896956  \n",
      "\n",
      "100%|██████████| 5/5 [03:41<00:00, 44.27s/trial, best loss: -0.710139703195026]\n",
      "🏃 View run svc-sweep at: http://127.0.0.1:8080/#/experiments/773618696891896956/runs/b524d41617d04f4e89b687f4c123f228\n",
      "🧪 View experiment at: http://127.0.0.1:8080/#/experiments/773618696891896956\n",
      "This will run 5 trials to find optimal hyperparameters...\n",
      "Params: {'C': 1}                                     \n",
      "🏃 View run LinearSVC_{'C': 1} at: http://127.0.0.1:8080/#/experiments/773618696891896956/runs/2de020ff912d447fa571ffce6c469b70\n",
      "\n",
      "🧪 View experiment at: http://127.0.0.1:8080/#/experiments/773618696891896956\n",
      "\n",
      "Params: {'C': 0.1}                                                              \n",
      "🏃 View run LinearSVC_{'C': 0.1} at: http://127.0.0.1:8080/#/experiments/773618696891896956/runs/cd2ef80087084393a4ba66dd63e68c6d\n",
      "\n",
      "🧪 View experiment at: http://127.0.0.1:8080/#/experiments/773618696891896956   \n",
      "\n",
      "Params: {'C': 0.001}                                                            \n",
      "🏃 View run LinearSVC_{'C': 0.001} at: http://127.0.0.1:8080/#/experiments/773618696891896956/runs/8d453e8346cf4e1b83bdb3e8587a8e9a\n",
      "\n",
      "🧪 View experiment at: http://127.0.0.1:8080/#/experiments/773618696891896956   \n",
      "\n",
      "Params: {'C': 0.0001}                                                           \n",
      "🏃 View run LinearSVC_{'C': 0.0001} at: http://127.0.0.1:8080/#/experiments/773618696891896956/runs/8f045b9ccb024c1ca7a7e244374a5618\n",
      "\n",
      "🧪 View experiment at: http://127.0.0.1:8080/#/experiments/773618696891896956   \n",
      "\n",
      "Params: {'C': 0.0001}                                                           \n",
      "🏃 View run LinearSVC_{'C': 0.0001} at: http://127.0.0.1:8080/#/experiments/773618696891896956/runs/64ca45357885458498514d932c6360ce\n",
      "\n",
      "🧪 View experiment at: http://127.0.0.1:8080/#/experiments/773618696891896956   \n",
      "\n",
      "100%|██████████| 5/5 [00:07<00:00,  1.52s/trial, best loss: -0.6779997405101337]\n",
      "🏃 View run svc-linear-sweep at: http://127.0.0.1:8080/#/experiments/773618696891896956/runs/3ff00e7e8ba0493185945a8bc48005c8\n",
      "🧪 View experiment at: http://127.0.0.1:8080/#/experiments/773618696891896956\n",
      "This will run 5 trials to find optimal hyperparameters...\n",
      "Params: {'colsample_bytree': 1.0, 'learning_rate': 0.1, 'max_depth': 5, 'n_estimators': 200, 'subsample': 0.7}\n",
      "🏃 View run XGBClassifier_{'colsample_bytree': 1.0, 'learning_rate': 0.1, 'max_depth': 5, 'n_estimators': 200, 'subsample': 0.7} at: http://127.0.0.1:8080/#/experiments/773618696891896956/runs/168c7ac8816c45618270920030a8a68a\n",
      "\n",
      "🧪 View experiment at: http://127.0.0.1:8080/#/experiments/773618696891896956\n",
      "\n",
      "Params: {'colsample_bytree': 0.5, 'learning_rate': 0.2, 'max_depth': 10, 'n_estimators': 700, 'subsample': 1.0}\n",
      "🏃 View run XGBClassifier_{'colsample_bytree': 0.5, 'learning_rate': 0.2, 'max_depth': 10, 'n_estimators': 700, 'subsample': 1.0} at: http://127.0.0.1:8080/#/experiments/773618696891896956/runs/f20db83664174d1dbe1693709858676b\n",
      "\n",
      "🧪 View experiment at: http://127.0.0.1:8080/#/experiments/773618696891896956   \n",
      "\n",
      "Params: {'colsample_bytree': 0.5, 'learning_rate': 0.3, 'max_depth': 5, 'n_estimators': 1000, 'subsample': 0.5}\n",
      "🏃 View run XGBClassifier_{'colsample_bytree': 0.5, 'learning_rate': 0.3, 'max_depth': 5, 'n_estimators': 1000, 'subsample': 0.5} at: http://127.0.0.1:8080/#/experiments/773618696891896956/runs/8250755d6e0341389995e36ec37cdf0e\n",
      "\n",
      "🧪 View experiment at: http://127.0.0.1:8080/#/experiments/773618696891896956   \n",
      "\n",
      "Params: {'colsample_bytree': 1.0, 'learning_rate': 0.1, 'max_depth': 5, 'n_estimators': 200, 'subsample': 0.5}\n",
      "🏃 View run XGBClassifier_{'colsample_bytree': 1.0, 'learning_rate': 0.1, 'max_depth': 5, 'n_estimators': 200, 'subsample': 0.5} at: http://127.0.0.1:8080/#/experiments/773618696891896956/runs/e0b5cfbff1c24e108eac2e9e5ecc0b62\n",
      "\n",
      "🧪 View experiment at: http://127.0.0.1:8080/#/experiments/773618696891896956   \n",
      "\n",
      "Params: {'colsample_bytree': 1.0, 'learning_rate': 0.1, 'max_depth': 10, 'n_estimators': 200, 'subsample': 0.5}\n",
      "🏃 View run XGBClassifier_{'colsample_bytree': 1.0, 'learning_rate': 0.1, 'max_depth': 10, 'n_estimators': 200, 'subsample': 0.5} at: http://127.0.0.1:8080/#/experiments/773618696891896956/runs/06b35876a10a4f92b72836aa5d62000c\n",
      "\n",
      "🧪 View experiment at: http://127.0.0.1:8080/#/experiments/773618696891896956   \n",
      "\n",
      "100%|██████████| 5/5 [00:17<00:00,  3.55s/trial, best loss: -0.6744915100492508]\n",
      "🏃 View run xgb-sweep at: http://127.0.0.1:8080/#/experiments/773618696891896956/runs/94f7a353185e4ab1845035b3ba22b142\n",
      "🧪 View experiment at: http://127.0.0.1:8080/#/experiments/773618696891896956\n"
     ]
    },
    {
     "data": {
      "text/plain": [
       "0.6744915100492508"
      ]
     },
     "execution_count": 72,
     "metadata": {},
     "output_type": "execute_result"
    }
   ],
   "source": [
    "model = RandomForestClassifier\n",
    "run_experiments('rf-sweep', max_evals=max_evals, search_space=search_space_rf, data_name=data_name, model_name = 'RandomForestClassifier', features_names=columns_to_keep)\n",
    "model = SVC\n",
    "run_experiments('svc-sweep', max_evals=max_evals, search_space=search_space_svc, data_name=data_name, model_name = 'SVC', features_names=columns_to_keep)\n",
    "model = LinearSVC\n",
    "run_experiments('svc-linear-sweep', max_evals=max_evals, search_space=search_space_svc_linear, data_name=data_name, model_name = 'LinearSVC', features_names=columns_to_keep)\n",
    "model = xgb.XGBClassifier\n",
    "run_experiments('xgb-sweep', max_evals=max_evals, search_space=search_space_xgb, data_name=data_name, model_name = 'XGBClassifier', features_names=columns_to_keep)"
   ]
  },
  {
   "cell_type": "markdown",
   "id": "43efa6b6",
   "metadata": {},
   "source": [
    "## Real + SUMO (200%)"
   ]
  },
  {
   "cell_type": "markdown",
   "id": "3fdf5ec6",
   "metadata": {},
   "source": [
    "### Fixed"
   ]
  },
  {
   "cell_type": "code",
   "execution_count": 73,
   "id": "6325f0fc",
   "metadata": {},
   "outputs": [],
   "source": [
    "# Provide an Experiment description that will appear in the UI\n",
    "experiment_description = (\n",
    "    \"Experiment to train models on the UAH + SUMO Fixed (200%) dataset.\"\n",
    ")\n",
    "\n",
    "# Provide searchable tags that define characteristics of the Runs that\n",
    "# will be in this Experiment\n",
    "experiment_tags = {\n",
    "    \"project_name\": \"driver-behavior-prediction\",\n",
    "    \"mlflow.note.content\": experiment_description,\n",
    "}\n",
    "\n",
    "# Create the Experiment, providing a unique name\n",
    "try:\n",
    "    driver_behavior_experiment = client.create_experiment(\n",
    "        name=\"UAH_SUMO_Fixed_200\", tags=experiment_tags\n",
    "    )\n",
    "except mlflow.exceptions.RestException as e:\n",
    "    print(f\"Experiment already exists: {e}\")"
   ]
  },
  {
   "cell_type": "code",
   "execution_count": 74,
   "id": "a05508a9",
   "metadata": {},
   "outputs": [],
   "source": [
    "X_train, y_train = X_sumo_uah_fixed_200, y_sumo_uah_fixed_200\n",
    "\n",
    "scaler = StandardScaler()\n",
    "X_train = scaler.fit_transform(X_train)\n",
    "X_val = scaler.transform(X_val_base)\n",
    "y_train = preprocessor.one_hot_encode(y_train, one_hot_keys=one_hot_keys)\n",
    "\n",
    "signature = infer_signature(X_train, y_train)\n",
    "mlflow.set_experiment('UAH_SUMO_Fixed_200')\n",
    "data_name = 'UAH_SUMO_Fixed_200'"
   ]
  },
  {
   "cell_type": "code",
   "execution_count": 75,
   "id": "367b4e3a",
   "metadata": {},
   "outputs": [
    {
     "name": "stdout",
     "output_type": "stream",
     "text": [
      "This will run 5 trials to find optimal hyperparameters...\n",
      "Params: {'max_depth': 50, 'n_estimators': 20, 'random_state': 42}\n",
      "🏃 View run RandomForestClassifier_{'max_depth': 50, 'n_estimators': 20, 'random_state': 42} at: http://127.0.0.1:8080/#/experiments/682685196601614797/runs/391212934b674e45a6e4a44dfd335b87\n",
      "\n",
      "🧪 View experiment at: http://127.0.0.1:8080/#/experiments/682685196601614797\n",
      "\n",
      "Params: {'max_depth': 20, 'n_estimators': 200, 'random_state': 42}              \n",
      "🏃 View run RandomForestClassifier_{'max_depth': 20, 'n_estimators': 200, 'random_state': 42} at: http://127.0.0.1:8080/#/experiments/682685196601614797/runs/84f80d72d43042c3a9c49fe83ef58efa\n",
      "\n",
      "🧪 View experiment at: http://127.0.0.1:8080/#/experiments/682685196601614797   \n",
      "\n",
      "Params: {'max_depth': 10, 'n_estimators': 50, 'random_state': 42}               \n",
      "🏃 View run RandomForestClassifier_{'max_depth': 10, 'n_estimators': 50, 'random_state': 42} at: http://127.0.0.1:8080/#/experiments/682685196601614797/runs/4127836a88fd4ee2ac791c78e27da6cb\n",
      "\n",
      "🧪 View experiment at: http://127.0.0.1:8080/#/experiments/682685196601614797   \n",
      "\n",
      "Params: {'max_depth': 50, 'n_estimators': 50, 'random_state': 42}               \n",
      "🏃 View run RandomForestClassifier_{'max_depth': 50, 'n_estimators': 50, 'random_state': 42} at: http://127.0.0.1:8080/#/experiments/682685196601614797/runs/4eb90b04aa284179aa6445ddf7a49e18\n",
      "\n",
      "🧪 View experiment at: http://127.0.0.1:8080/#/experiments/682685196601614797   \n",
      "\n",
      "Params: {'max_depth': 50, 'n_estimators': 20, 'random_state': 42}               \n",
      "🏃 View run RandomForestClassifier_{'max_depth': 50, 'n_estimators': 20, 'random_state': 42} at: http://127.0.0.1:8080/#/experiments/682685196601614797/runs/4cae69b48054403eae6c1e6683dde5a7\n",
      "\n",
      "🧪 View experiment at: http://127.0.0.1:8080/#/experiments/682685196601614797   \n",
      "\n",
      "100%|██████████| 5/5 [00:37<00:00,  7.58s/trial, best loss: -0.6572126843006315]\n",
      "🏃 View run rf-sweep at: http://127.0.0.1:8080/#/experiments/682685196601614797/runs/c8aa8bde45dd45589c97394c94146dfc\n",
      "🧪 View experiment at: http://127.0.0.1:8080/#/experiments/682685196601614797\n",
      "This will run 5 trials to find optimal hyperparameters...\n",
      "Params: {'C': 0.01, 'gamma': 0.01, 'kernel': 'rbf'}  \n",
      "🏃 View run SVC_{'C': 0.01, 'gamma': 0.01, 'kernel': 'rbf'} at: http://127.0.0.1:8080/#/experiments/682685196601614797/runs/a0b7d61ee49c42ab944420400582f3f0\n",
      "\n",
      "🧪 View experiment at: http://127.0.0.1:8080/#/experiments/682685196601614797\n",
      "\n",
      "Params: {'C': 1, 'gamma': 1, 'kernel': 'rbf'}                                   \n",
      "🏃 View run SVC_{'C': 1, 'gamma': 1, 'kernel': 'rbf'} at: http://127.0.0.1:8080/#/experiments/682685196601614797/runs/3b030953b6b74810a669898adf554cdd\n",
      "\n",
      "🧪 View experiment at: http://127.0.0.1:8080/#/experiments/682685196601614797   \n",
      "\n",
      "Params: {'C': 1, 'gamma': 10, 'kernel': 'rbf'}                                  \n",
      " 40%|████      | 2/5 [01:19<02:09, 43.24s/trial, best loss: -0.6992621236762168]"
     ]
    },
    {
     "name": "stderr",
     "output_type": "stream",
     "text": [
      "/home/renan/miniconda3/lib/python3.12/site-packages/sklearn/metrics/_classification.py:1565: UndefinedMetricWarning: Precision is ill-defined and being set to 0.0 in labels with no predicted samples. Use `zero_division` parameter to control this behavior.\n",
      "  _warn_prf(average, modifier, f\"{metric.capitalize()} is\", len(result))\n",
      "\n"
     ]
    },
    {
     "name": "stdout",
     "output_type": "stream",
     "text": [
      "🏃 View run SVC_{'C': 1, 'gamma': 10, 'kernel': 'rbf'} at: http://127.0.0.1:8080/#/experiments/682685196601614797/runs/c826d1395d49471eb08451a0eb7b60f8\n",
      "\n",
      "🧪 View experiment at: http://127.0.0.1:8080/#/experiments/682685196601614797   \n",
      "\n",
      "Params: {'C': 0.5, 'gamma': 1, 'kernel': 'rbf'}                                 \n",
      "🏃 View run SVC_{'C': 0.5, 'gamma': 1, 'kernel': 'rbf'} at: http://127.0.0.1:8080/#/experiments/682685196601614797/runs/51b6dd42854249d0ba132e822833a631\n",
      "\n",
      "🧪 View experiment at: http://127.0.0.1:8080/#/experiments/682685196601614797   \n",
      "\n",
      "Params: {'C': 0.01, 'gamma': 0.01, 'kernel': 'rbf'}                             \n",
      "🏃 View run SVC_{'C': 0.01, 'gamma': 0.01, 'kernel': 'rbf'} at: http://127.0.0.1:8080/#/experiments/682685196601614797/runs/cab748727eaa404ab2d9281fcf7e6024\n",
      "\n",
      "🧪 View experiment at: http://127.0.0.1:8080/#/experiments/682685196601614797   \n",
      "\n",
      "100%|██████████| 5/5 [03:48<00:00, 45.76s/trial, best loss: -0.6992621236762168]\n",
      "🏃 View run svc-sweep at: http://127.0.0.1:8080/#/experiments/682685196601614797/runs/b21460d910604431a2cf24f00938cd64\n",
      "🧪 View experiment at: http://127.0.0.1:8080/#/experiments/682685196601614797\n",
      "This will run 5 trials to find optimal hyperparameters...\n",
      "Params: {'C': 0.001}                                 \n",
      "🏃 View run LinearSVC_{'C': 0.001} at: http://127.0.0.1:8080/#/experiments/682685196601614797/runs/1b7efab414a342b492c91ccfc7b94a59\n",
      "\n",
      "🧪 View experiment at: http://127.0.0.1:8080/#/experiments/682685196601614797\n",
      "\n",
      "Params: {'C': 1}                                                                \n",
      "🏃 View run LinearSVC_{'C': 1} at: http://127.0.0.1:8080/#/experiments/682685196601614797/runs/f977842bb96a4c27b04a4018fbcfa4dd\n",
      "\n",
      "🧪 View experiment at: http://127.0.0.1:8080/#/experiments/682685196601614797   \n",
      "\n",
      "Params: {'C': 0.01}                                                             \n",
      "🏃 View run LinearSVC_{'C': 0.01} at: http://127.0.0.1:8080/#/experiments/682685196601614797/runs/ee39c8f38ee1472ba984b448b8a5e4e6\n",
      "\n",
      "🧪 View experiment at: http://127.0.0.1:8080/#/experiments/682685196601614797   \n",
      "\n",
      "Params: {'C': 0.01}                                                             \n",
      "🏃 View run LinearSVC_{'C': 0.01} at: http://127.0.0.1:8080/#/experiments/682685196601614797/runs/9ac10bdf611440628ec1d32da55bf930\n",
      "\n",
      "🧪 View experiment at: http://127.0.0.1:8080/#/experiments/682685196601614797   \n",
      "\n",
      "Params: {'C': 0.01}                                                             \n",
      "🏃 View run LinearSVC_{'C': 0.01} at: http://127.0.0.1:8080/#/experiments/682685196601614797/runs/97954386c2b34cc094f6c35ea4ea1a12\n",
      "\n",
      "🧪 View experiment at: http://127.0.0.1:8080/#/experiments/682685196601614797   \n",
      "\n",
      "100%|██████████| 5/5 [00:07<00:00,  1.53s/trial, best loss: -0.6667375956692713]\n",
      "🏃 View run svc-linear-sweep at: http://127.0.0.1:8080/#/experiments/682685196601614797/runs/b3ed0b02d61944ee8d0951d066b7f169\n",
      "🧪 View experiment at: http://127.0.0.1:8080/#/experiments/682685196601614797\n",
      "This will run 5 trials to find optimal hyperparameters...\n",
      "Params: {'colsample_bytree': 0.7, 'learning_rate': 0.3, 'max_depth': None, 'n_estimators': 500, 'subsample': 0.5}\n",
      "🏃 View run XGBClassifier_{'colsample_bytree': 0.7, 'learning_rate': 0.3, 'max_depth': None, 'n_estimators': 500, 'subsample': 0.5} at: http://127.0.0.1:8080/#/experiments/682685196601614797/runs/bdafde1f5ff14451b44f017628430882\n",
      "\n",
      "🧪 View experiment at: http://127.0.0.1:8080/#/experiments/682685196601614797\n",
      "\n",
      "Params: {'colsample_bytree': 0.7, 'learning_rate': 0.1, 'max_depth': 5, 'n_estimators': 200, 'subsample': 0.7}\n",
      "🏃 View run XGBClassifier_{'colsample_bytree': 0.7, 'learning_rate': 0.1, 'max_depth': 5, 'n_estimators': 200, 'subsample': 0.7} at: http://127.0.0.1:8080/#/experiments/682685196601614797/runs/702e184e18c7476ca8ac16f3f3609db5\n",
      "\n",
      "🧪 View experiment at: http://127.0.0.1:8080/#/experiments/682685196601614797   \n",
      "\n",
      "Params: {'colsample_bytree': 0.5, 'learning_rate': 0.01, 'max_depth': 10, 'n_estimators': 1000, 'subsample': 0.5}\n",
      "🏃 View run XGBClassifier_{'colsample_bytree': 0.5, 'learning_rate': 0.01, 'max_depth': 10, 'n_estimators': 1000, 'subsample': 0.5} at: http://127.0.0.1:8080/#/experiments/682685196601614797/runs/40d36c9cb224427c8e4703510d317671\n",
      "\n",
      "🧪 View experiment at: http://127.0.0.1:8080/#/experiments/682685196601614797   \n",
      "\n",
      "Params: {'colsample_bytree': 0.7, 'learning_rate': 0.1, 'max_depth': 10, 'n_estimators': 700, 'subsample': 0.5}\n",
      "🏃 View run XGBClassifier_{'colsample_bytree': 0.7, 'learning_rate': 0.1, 'max_depth': 10, 'n_estimators': 700, 'subsample': 0.5} at: http://127.0.0.1:8080/#/experiments/682685196601614797/runs/db68fcc67c064796b2683e1e21de6443\n",
      "\n",
      "🧪 View experiment at: http://127.0.0.1:8080/#/experiments/682685196601614797   \n",
      "\n",
      "Params: {'colsample_bytree': 1.0, 'learning_rate': 0.2, 'max_depth': None, 'n_estimators': 700, 'subsample': 1.0}\n",
      "🏃 View run XGBClassifier_{'colsample_bytree': 1.0, 'learning_rate': 0.2, 'max_depth': None, 'n_estimators': 700, 'subsample': 1.0} at: http://127.0.0.1:8080/#/experiments/682685196601614797/runs/b7ba65684a9248eeabac107ff35ad09b\n",
      "\n",
      "🧪 View experiment at: http://127.0.0.1:8080/#/experiments/682685196601614797   \n",
      "\n",
      "100%|██████████| 5/5 [00:27<00:00,  5.49s/trial, best loss: -0.6712955132562947]\n",
      "🏃 View run xgb-sweep at: http://127.0.0.1:8080/#/experiments/682685196601614797/runs/d603a69f8b144e3194d1b6be32ab8698\n",
      "🧪 View experiment at: http://127.0.0.1:8080/#/experiments/682685196601614797\n"
     ]
    },
    {
     "data": {
      "text/plain": [
       "0.6712955132562947"
      ]
     },
     "execution_count": 75,
     "metadata": {},
     "output_type": "execute_result"
    }
   ],
   "source": [
    "model = RandomForestClassifier\n",
    "run_experiments('rf-sweep', max_evals=max_evals, search_space=search_space_rf, data_name=data_name, model_name = 'RandomForestClassifier', features_names=columns_to_keep)\n",
    "model = SVC\n",
    "run_experiments('svc-sweep', max_evals=max_evals, search_space=search_space_svc, data_name=data_name, model_name = 'SVC', features_names=columns_to_keep)\n",
    "model = LinearSVC\n",
    "run_experiments('svc-linear-sweep', max_evals=max_evals, search_space=search_space_svc_linear, data_name=data_name, model_name = 'LinearSVC', features_names=columns_to_keep)\n",
    "model = xgb.XGBClassifier\n",
    "run_experiments('xgb-sweep', max_evals=max_evals, search_space=search_space_xgb, data_name=data_name, model_name = 'XGBClassifier', features_names=columns_to_keep)"
   ]
  },
  {
   "cell_type": "markdown",
   "id": "bc17bfad",
   "metadata": {},
   "source": [
    "### LLM"
   ]
  },
  {
   "cell_type": "code",
   "execution_count": 76,
   "id": "1fc405fe",
   "metadata": {},
   "outputs": [],
   "source": [
    "# Provide an Experiment description that will appear in the UI\n",
    "experiment_description = (\n",
    "    \"Experiment to train models on the UAH + SUMO LLM (200%) dataset.\"\n",
    ")\n",
    "\n",
    "# Provide searchable tags that define characteristics of the Runs that\n",
    "# will be in this Experiment\n",
    "experiment_tags = {\n",
    "    \"project_name\": \"driver-behavior-prediction\",\n",
    "    \"mlflow.note.content\": experiment_description,\n",
    "}\n",
    "\n",
    "# Create the Experiment, providing a unique name\n",
    "try:\n",
    "    driver_behavior_experiment = client.create_experiment(\n",
    "        name=\"UAH_SUMO_LLM_200\", tags=experiment_tags\n",
    "    )\n",
    "except mlflow.exceptions.RestException as e:\n",
    "    print(f\"Experiment already exists: {e}\")"
   ]
  },
  {
   "cell_type": "code",
   "execution_count": 77,
   "id": "cb449402",
   "metadata": {},
   "outputs": [],
   "source": [
    "X_train, y_train = X_sumo_uah_llm_200, y_sumo_uah_llm_200\n",
    "\n",
    "scaler = StandardScaler()\n",
    "X_train = scaler.fit_transform(X_train)\n",
    "X_val = scaler.transform(X_val_base)\n",
    "y_train = preprocessor.one_hot_encode(y_train, one_hot_keys=one_hot_keys)\n",
    "\n",
    "signature = infer_signature(X_train, y_train)\n",
    "mlflow.set_experiment('UAH_SUMO_LLM_200')\n",
    "data_name = 'UAH_SUMO_LLM_200'"
   ]
  },
  {
   "cell_type": "code",
   "execution_count": 78,
   "id": "5669c88d",
   "metadata": {},
   "outputs": [
    {
     "name": "stdout",
     "output_type": "stream",
     "text": [
      "This will run 5 trials to find optimal hyperparameters...\n",
      "Params: {'max_depth': 10, 'n_estimators': 50, 'random_state': 42}\n",
      "🏃 View run RandomForestClassifier_{'max_depth': 10, 'n_estimators': 50, 'random_state': 42} at: http://127.0.0.1:8080/#/experiments/798266798826064349/runs/d57bf8c875b54887a749be4528fa9309\n",
      "\n",
      "🧪 View experiment at: http://127.0.0.1:8080/#/experiments/798266798826064349\n",
      "\n",
      "Params: {'max_depth': 50, 'n_estimators': 50, 'random_state': 42}               \n",
      "🏃 View run RandomForestClassifier_{'max_depth': 50, 'n_estimators': 50, 'random_state': 42} at: http://127.0.0.1:8080/#/experiments/798266798826064349/runs/631080a32cfe4ad38bf79b7a96a90206\n",
      "\n",
      "🧪 View experiment at: http://127.0.0.1:8080/#/experiments/798266798826064349   \n",
      "\n",
      "Params: {'max_depth': None, 'n_estimators': 20, 'random_state': 42}             \n",
      "🏃 View run RandomForestClassifier_{'max_depth': None, 'n_estimators': 20, 'random_state': 42} at: http://127.0.0.1:8080/#/experiments/798266798826064349/runs/45d8ea26ad814dc38ad9b51d7aa7d858\n",
      "\n",
      "🧪 View experiment at: http://127.0.0.1:8080/#/experiments/798266798826064349   \n",
      "\n",
      "Params: {'max_depth': None, 'n_estimators': 20, 'random_state': 42}             \n",
      "🏃 View run RandomForestClassifier_{'max_depth': None, 'n_estimators': 20, 'random_state': 42} at: http://127.0.0.1:8080/#/experiments/798266798826064349/runs/df4d4b30699a4b21a1be6ee53240605f\n",
      "\n",
      "🧪 View experiment at: http://127.0.0.1:8080/#/experiments/798266798826064349   \n",
      "\n",
      "Params: {'max_depth': 10, 'n_estimators': 200, 'random_state': 42}              \n",
      "🏃 View run RandomForestClassifier_{'max_depth': 10, 'n_estimators': 200, 'random_state': 42} at: http://127.0.0.1:8080/#/experiments/798266798826064349/runs/79fe3a0fd0484dc8980debff1cf48954\n",
      "\n",
      "🧪 View experiment at: http://127.0.0.1:8080/#/experiments/798266798826064349   \n",
      "\n",
      "100%|██████████| 5/5 [00:32<00:00,  6.51s/trial, best loss: -0.6572126843006315]\n",
      "🏃 View run rf-sweep at: http://127.0.0.1:8080/#/experiments/798266798826064349/runs/977209edffe0483c9cb3290f515591d6\n",
      "🧪 View experiment at: http://127.0.0.1:8080/#/experiments/798266798826064349\n",
      "This will run 5 trials to find optimal hyperparameters...\n",
      "Params: {'C': 0.01, 'gamma': 10, 'kernel': 'rbf'}    \n",
      "  0%|          | 0/5 [00:00<?, ?trial/s, best loss=?]"
     ]
    },
    {
     "name": "stderr",
     "output_type": "stream",
     "text": [
      "/home/renan/miniconda3/lib/python3.12/site-packages/sklearn/metrics/_classification.py:1565: UndefinedMetricWarning: Precision is ill-defined and being set to 0.0 in labels with no predicted samples. Use `zero_division` parameter to control this behavior.\n",
      "  _warn_prf(average, modifier, f\"{metric.capitalize()} is\", len(result))\n",
      "\n"
     ]
    },
    {
     "name": "stdout",
     "output_type": "stream",
     "text": [
      "🏃 View run SVC_{'C': 0.01, 'gamma': 10, 'kernel': 'rbf'} at: http://127.0.0.1:8080/#/experiments/798266798826064349/runs/11a5180385c14c5480ea6eb49d591dca\n",
      "\n",
      "🧪 View experiment at: http://127.0.0.1:8080/#/experiments/798266798826064349\n",
      "\n",
      "Params: {'C': 0.5, 'gamma': 0.001, 'kernel': 'rbf'}                             \n",
      "🏃 View run SVC_{'C': 0.5, 'gamma': 0.001, 'kernel': 'rbf'} at: http://127.0.0.1:8080/#/experiments/798266798826064349/runs/56cf8fbb10a5459c9f5baa5196423d22\n",
      "\n",
      "🧪 View experiment at: http://127.0.0.1:8080/#/experiments/798266798826064349   \n",
      "\n",
      "Params: {'C': 1, 'gamma': 10, 'kernel': 'rbf'}                                  \n",
      " 40%|████      | 2/5 [01:17<01:46, 35.46s/trial, best loss: -0.7087121973722031]"
     ]
    },
    {
     "name": "stderr",
     "output_type": "stream",
     "text": [
      "/home/renan/miniconda3/lib/python3.12/site-packages/sklearn/metrics/_classification.py:1565: UndefinedMetricWarning: Precision is ill-defined and being set to 0.0 in labels with no predicted samples. Use `zero_division` parameter to control this behavior.\n",
      "  _warn_prf(average, modifier, f\"{metric.capitalize()} is\", len(result))\n",
      "\n"
     ]
    },
    {
     "name": "stdout",
     "output_type": "stream",
     "text": [
      "🏃 View run SVC_{'C': 1, 'gamma': 10, 'kernel': 'rbf'} at: http://127.0.0.1:8080/#/experiments/798266798826064349/runs/5364c71ba32d4dfe877f5d5d929f96ee\n",
      "\n",
      "🧪 View experiment at: http://127.0.0.1:8080/#/experiments/798266798826064349   \n",
      "\n",
      "Params: {'C': 0.01, 'gamma': 1, 'kernel': 'rbf'}                                \n",
      " 60%|██████    | 3/5 [02:51<02:04, 62.49s/trial, best loss: -0.7087121973722031]"
     ]
    },
    {
     "name": "stderr",
     "output_type": "stream",
     "text": [
      "/home/renan/miniconda3/lib/python3.12/site-packages/sklearn/metrics/_classification.py:1565: UndefinedMetricWarning: Precision is ill-defined and being set to 0.0 in labels with no predicted samples. Use `zero_division` parameter to control this behavior.\n",
      "  _warn_prf(average, modifier, f\"{metric.capitalize()} is\", len(result))\n",
      "\n"
     ]
    },
    {
     "name": "stdout",
     "output_type": "stream",
     "text": [
      "🏃 View run SVC_{'C': 0.01, 'gamma': 1, 'kernel': 'rbf'} at: http://127.0.0.1:8080/#/experiments/798266798826064349/runs/d0f1cd57a6d344668bbbe043789a097c\n",
      "\n",
      "🧪 View experiment at: http://127.0.0.1:8080/#/experiments/798266798826064349   \n",
      "\n",
      "Params: {'C': 0.5, 'gamma': 0.1, 'kernel': 'rbf'}                               \n",
      "🏃 View run SVC_{'C': 0.5, 'gamma': 0.1, 'kernel': 'rbf'} at: http://127.0.0.1:8080/#/experiments/798266798826064349/runs/6603e614e69448ec8ebd87f3368ef8a4\n",
      "\n",
      "🧪 View experiment at: http://127.0.0.1:8080/#/experiments/798266798826064349   \n",
      "\n",
      "100%|██████████| 5/5 [03:34<00:00, 42.81s/trial, best loss: -0.7087121973722031]\n",
      "🏃 View run svc-sweep at: http://127.0.0.1:8080/#/experiments/798266798826064349/runs/6fa87805fd004dca9bff18ec2fd0e677\n",
      "🧪 View experiment at: http://127.0.0.1:8080/#/experiments/798266798826064349\n",
      "This will run 5 trials to find optimal hyperparameters...\n",
      "Params: {'C': 0.001}                                 \n",
      "🏃 View run LinearSVC_{'C': 0.001} at: http://127.0.0.1:8080/#/experiments/798266798826064349/runs/9da04f0c4d9e415ca2a538e8c64157c1\n",
      "\n",
      "🧪 View experiment at: http://127.0.0.1:8080/#/experiments/798266798826064349\n",
      "\n",
      "Params: {'C': 0.0001}                                                           \n",
      "🏃 View run LinearSVC_{'C': 0.0001} at: http://127.0.0.1:8080/#/experiments/798266798826064349/runs/9ff3c938cb3c4045848ec93ebf1ab194\n",
      "\n",
      "🧪 View experiment at: http://127.0.0.1:8080/#/experiments/798266798826064349   \n",
      "\n",
      "Params: {'C': 0.001}                                                            \n",
      "🏃 View run LinearSVC_{'C': 0.001} at: http://127.0.0.1:8080/#/experiments/798266798826064349/runs/9eeccc2d2f7d4f098bb9dcabdebf2794\n",
      "\n",
      "🧪 View experiment at: http://127.0.0.1:8080/#/experiments/798266798826064349   \n",
      "\n",
      "Params: {'C': 0.001}                                                            \n",
      "🏃 View run LinearSVC_{'C': 0.001} at: http://127.0.0.1:8080/#/experiments/798266798826064349/runs/c62c76ef999242639bda77d92f5359d5\n",
      "\n",
      "🧪 View experiment at: http://127.0.0.1:8080/#/experiments/798266798826064349   \n",
      "\n",
      "Params: {'C': 0.0001}                                                           \n",
      "🏃 View run LinearSVC_{'C': 0.0001} at: http://127.0.0.1:8080/#/experiments/798266798826064349/runs/d73d6ff131b64d95bcd536ebf79faa66\n",
      "\n",
      "🧪 View experiment at: http://127.0.0.1:8080/#/experiments/798266798826064349   \n",
      "\n",
      "100%|██████████| 5/5 [00:07<00:00,  1.47s/trial, best loss: -0.6779997405101337]\n",
      "🏃 View run svc-linear-sweep at: http://127.0.0.1:8080/#/experiments/798266798826064349/runs/90ecca7ef848431b941315ded54200e6\n",
      "🧪 View experiment at: http://127.0.0.1:8080/#/experiments/798266798826064349\n",
      "This will run 5 trials to find optimal hyperparameters...\n",
      "Params: {'colsample_bytree': 0.7, 'learning_rate': 0.001, 'max_depth': 10, 'n_estimators': 500, 'subsample': 0.7}\n",
      "🏃 View run XGBClassifier_{'colsample_bytree': 0.7, 'learning_rate': 0.001, 'max_depth': 10, 'n_estimators': 500, 'subsample': 0.7} at: http://127.0.0.1:8080/#/experiments/798266798826064349/runs/29c9d30a1b234b50bdd17c8ab14b6389\n",
      "\n",
      "🧪 View experiment at: http://127.0.0.1:8080/#/experiments/798266798826064349\n",
      "\n",
      "Params: {'colsample_bytree': 1.0, 'learning_rate': 0.001, 'max_depth': 5, 'n_estimators': 1000, 'subsample': 0.5}\n",
      "🏃 View run XGBClassifier_{'colsample_bytree': 1.0, 'learning_rate': 0.001, 'max_depth': 5, 'n_estimators': 1000, 'subsample': 0.5} at: http://127.0.0.1:8080/#/experiments/798266798826064349/runs/239c3268b47f47f1b3d1f84922993449\n",
      "\n",
      "🧪 View experiment at: http://127.0.0.1:8080/#/experiments/798266798826064349   \n",
      "\n",
      "Params: {'colsample_bytree': 0.7, 'learning_rate': 0.3, 'max_depth': None, 'n_estimators': 700, 'subsample': 0.5}\n",
      "🏃 View run XGBClassifier_{'colsample_bytree': 0.7, 'learning_rate': 0.3, 'max_depth': None, 'n_estimators': 700, 'subsample': 0.5} at: http://127.0.0.1:8080/#/experiments/798266798826064349/runs/81ffd9c3279245e785caa1783d13bd9f\n",
      "\n",
      "🧪 View experiment at: http://127.0.0.1:8080/#/experiments/798266798826064349   \n",
      "\n",
      "Params: {'colsample_bytree': 0.7, 'learning_rate': 0.3, 'max_depth': None, 'n_estimators': 1000, 'subsample': 0.7}\n",
      "🏃 View run XGBClassifier_{'colsample_bytree': 0.7, 'learning_rate': 0.3, 'max_depth': None, 'n_estimators': 1000, 'subsample': 0.7} at: http://127.0.0.1:8080/#/experiments/798266798826064349/runs/195fa1b223d842d486e1e30d0ace29f7\n",
      "\n",
      "🧪 View experiment at: http://127.0.0.1:8080/#/experiments/798266798826064349   \n",
      "\n",
      "Params: {'colsample_bytree': 0.5, 'learning_rate': 0.1, 'max_depth': None, 'n_estimators': 700, 'subsample': 0.5}\n",
      "🏃 View run XGBClassifier_{'colsample_bytree': 0.5, 'learning_rate': 0.1, 'max_depth': None, 'n_estimators': 700, 'subsample': 0.5} at: http://127.0.0.1:8080/#/experiments/798266798826064349/runs/087fc16fe8e744b48851fed84e49cb0a\n",
      "\n",
      "🧪 View experiment at: http://127.0.0.1:8080/#/experiments/798266798826064349   \n",
      "\n",
      "100%|██████████| 5/5 [00:27<00:00,  5.55s/trial, best loss: -0.6741888996735265]\n",
      "🏃 View run xgb-sweep at: http://127.0.0.1:8080/#/experiments/798266798826064349/runs/8d8b2193f0b14468ac2b1f4101f4e89c\n",
      "🧪 View experiment at: http://127.0.0.1:8080/#/experiments/798266798826064349\n"
     ]
    },
    {
     "data": {
      "text/plain": [
       "0.6741888996735265"
      ]
     },
     "execution_count": 78,
     "metadata": {},
     "output_type": "execute_result"
    }
   ],
   "source": [
    "model = RandomForestClassifier\n",
    "run_experiments('rf-sweep', max_evals=max_evals, search_space=search_space_rf, data_name=data_name, model_name = 'RandomForestClassifier', features_names=columns_to_keep)\n",
    "model = SVC\n",
    "run_experiments('svc-sweep', max_evals=max_evals, search_space=search_space_svc, data_name=data_name, model_name = 'SVC', features_names=columns_to_keep)\n",
    "model = LinearSVC\n",
    "run_experiments('svc-linear-sweep', max_evals=max_evals, search_space=search_space_svc_linear, data_name=data_name, model_name = 'LinearSVC', features_names=columns_to_keep)\n",
    "model = xgb.XGBClassifier\n",
    "run_experiments('xgb-sweep', max_evals=max_evals, search_space=search_space_xgb, data_name=data_name, model_name = 'XGBClassifier', features_names=columns_to_keep)"
   ]
  },
  {
   "cell_type": "markdown",
   "id": "e10c56a9",
   "metadata": {},
   "source": [
    "## Real + CARLA"
   ]
  },
  {
   "cell_type": "code",
   "execution_count": 79,
   "id": "ac4217a2",
   "metadata": {},
   "outputs": [],
   "source": [
    "carla_uah_fixed_20 = preprocessor.fill_synthetic_data(carla_uah_fixed, 0.2)\n",
    "carla_uah_llm_20 = preprocessor.fill_synthetic_data(carla_uah_llm, 0.2)\n",
    "\n",
    "carla_uah_fixed_100 = preprocessor.fill_synthetic_data(carla_uah_fixed, 0.5)\n",
    "carla_uah_llm_100 = preprocessor.fill_synthetic_data(carla_uah_llm, 0.5)\n",
    "\n",
    "carla_uah_fixed_200 = preprocessor.fill_synthetic_data(carla_uah_fixed, 0.7)\n",
    "carla_uah_llm_200 = preprocessor.fill_synthetic_data(carla_uah_llm, 0.7)"
   ]
  },
  {
   "cell_type": "code",
   "execution_count": 80,
   "id": "891ede42",
   "metadata": {},
   "outputs": [],
   "source": [
    "X_carla_uah_fixed_20, y_carla_uah_fixed_20 = preprocessor.sliding_windows(carla_uah_fixed_20, window_size=window_size, step_size=step_size)\n",
    "X_carla_uah_llm_20, y_carla_uah_llm_20 = preprocessor.sliding_windows(carla_uah_llm_20, window_size=window_size, step_size=step_size)\n",
    "\n",
    "X_carla_uah_fixed_100, y_carla_uah_fixed_100 = preprocessor.sliding_windows(carla_uah_fixed_100, window_size=window_size, step_size=step_size)\n",
    "X_carla_uah_llm_100, y_carla_uah_llm_100 = preprocessor.sliding_windows(carla_uah_llm_100, window_size=window_size, step_size=step_size)\n",
    "\n",
    "X_carla_uah_fixed_200, y_carla_uah_fixed_200 = preprocessor.sliding_windows(carla_uah_fixed_200, window_size=window_size, step_size=step_size)\n",
    "X_carla_uah_llm_200, y_carla_uah_llm_200 = preprocessor.sliding_windows(carla_uah_llm_200, window_size=window_size, step_size=step_size)"
   ]
  },
  {
   "cell_type": "code",
   "execution_count": 81,
   "id": "5adc1ae1",
   "metadata": {},
   "outputs": [
    {
     "name": "stdout",
     "output_type": "stream",
     "text": [
      "Columns to keep for validation: ['acc_x', 'acc_y', 'acc_z', 'gyro_x', 'gyro_y', 'gyro_z', 'angle', 'label', 'acc']\n"
     ]
    }
   ],
   "source": [
    "print(\"Columns to keep for validation:\", carla_columns_to_keep)\n",
    "\n",
    "X_val_base, y_val = preprocessor.sliding_windows(uah_validation[carla_columns_to_keep], window_size=window_size, step_size=step_size)\n",
    "y_val = preprocessor.one_hot_encode(y_val, one_hot_keys=one_hot_keys)"
   ]
  },
  {
   "cell_type": "markdown",
   "id": "a6dbf3c9",
   "metadata": {},
   "source": [
    "## Real + CARLA (20%)"
   ]
  },
  {
   "cell_type": "markdown",
   "id": "185dd9cd",
   "metadata": {},
   "source": [
    "### Fixed"
   ]
  },
  {
   "cell_type": "code",
   "execution_count": 82,
   "id": "9632d59f",
   "metadata": {},
   "outputs": [],
   "source": [
    "# Provide an Experiment description that will appear in the UI\n",
    "experiment_description = (\n",
    "    \"Experiment to train models on the UAH + CARLA Fixed (20%) dataset.\"\n",
    ")\n",
    "\n",
    "# Provide searchable tags that define characteristics of the Runs that\n",
    "# will be in this Experiment\n",
    "experiment_tags = {\n",
    "    \"project_name\": \"driver-behavior-prediction\",\n",
    "    \"mlflow.note.content\": experiment_description,\n",
    "}\n",
    "\n",
    "# Create the Experiment, providing a unique name\n",
    "try:\n",
    "    driver_behavior_experiment = client.create_experiment(\n",
    "        name=\"UAH_CARLA_Fixed_20\", tags=experiment_tags\n",
    "    )\n",
    "except mlflow.exceptions.RestException as e:\n",
    "    print(f\"Experiment already exists: {e}\")"
   ]
  },
  {
   "cell_type": "code",
   "execution_count": 83,
   "id": "636373b3",
   "metadata": {},
   "outputs": [],
   "source": [
    "X_train, y_train = X_carla_uah_fixed_20, y_carla_uah_fixed_20\n",
    "\n",
    "scaler = StandardScaler()\n",
    "X_train = scaler.fit_transform(X_train)\n",
    "X_val = scaler.transform(X_val_base)\n",
    "y_train = preprocessor.one_hot_encode(y_train, one_hot_keys=one_hot_keys)\n",
    "\n",
    "signature = infer_signature(X_train, y_train)\n",
    "mlflow.set_experiment('UAH_CARLA_Fixed_20')\n",
    "data_name = 'UAH_CARLA_Fixed_20'"
   ]
  },
  {
   "cell_type": "code",
   "execution_count": 84,
   "id": "5181988e",
   "metadata": {},
   "outputs": [
    {
     "name": "stdout",
     "output_type": "stream",
     "text": [
      "This will run 5 trials to find optimal hyperparameters...\n",
      "Params: {'max_depth': 50, 'n_estimators': 500, 'random_state': 42}\n",
      "🏃 View run RandomForestClassifier_{'max_depth': 50, 'n_estimators': 500, 'random_state': 42} at: http://127.0.0.1:8080/#/experiments/211645594794556965/runs/8c818da0f94c49cfa3d0aed380cf4a4f\n",
      "\n",
      "🧪 View experiment at: http://127.0.0.1:8080/#/experiments/211645594794556965\n",
      "\n",
      "Params: {'max_depth': None, 'n_estimators': 50, 'random_state': 42}             \n",
      "🏃 View run RandomForestClassifier_{'max_depth': None, 'n_estimators': 50, 'random_state': 42} at: http://127.0.0.1:8080/#/experiments/211645594794556965/runs/36b8d54f91984eca89755c9e4ec28372\n",
      "\n",
      "🧪 View experiment at: http://127.0.0.1:8080/#/experiments/211645594794556965   \n",
      "\n",
      "Params: {'max_depth': 10, 'n_estimators': 50, 'random_state': 42}               \n",
      "🏃 View run RandomForestClassifier_{'max_depth': 10, 'n_estimators': 50, 'random_state': 42} at: http://127.0.0.1:8080/#/experiments/211645594794556965/runs/84f59892af7c4456b9e1742692904677\n",
      "\n",
      "🧪 View experiment at: http://127.0.0.1:8080/#/experiments/211645594794556965   \n",
      "\n",
      "Params: {'max_depth': 20, 'n_estimators': 500, 'random_state': 42}              \n",
      "🏃 View run RandomForestClassifier_{'max_depth': 20, 'n_estimators': 500, 'random_state': 42} at: http://127.0.0.1:8080/#/experiments/211645594794556965/runs/d7dfac8df4734e7bbf0282752c3535a1\n",
      "\n",
      "🧪 View experiment at: http://127.0.0.1:8080/#/experiments/211645594794556965   \n",
      "\n",
      "Params: {'max_depth': 50, 'n_estimators': 20, 'random_state': 42}               \n",
      "🏃 View run RandomForestClassifier_{'max_depth': 50, 'n_estimators': 20, 'random_state': 42} at: http://127.0.0.1:8080/#/experiments/211645594794556965/runs/97b65dca7d984741beffda00151c5383\n",
      "\n",
      "🧪 View experiment at: http://127.0.0.1:8080/#/experiments/211645594794556965   \n",
      "\n",
      "100%|██████████| 5/5 [02:36<00:00, 31.22s/trial, best loss: -0.6341362282851618]\n",
      "🏃 View run rf-sweep at: http://127.0.0.1:8080/#/experiments/211645594794556965/runs/7b6b57a00c0f43a28e8d6e38c1bd64a9\n",
      "🧪 View experiment at: http://127.0.0.1:8080/#/experiments/211645594794556965\n",
      "This will run 5 trials to find optimal hyperparameters...\n",
      "Params: {'C': 0.05, 'gamma': 0.1, 'kernel': 'rbf'}   \n",
      "  0%|          | 0/5 [00:00<?, ?trial/s, best loss=?]"
     ]
    },
    {
     "name": "stderr",
     "output_type": "stream",
     "text": [
      "/home/renan/miniconda3/lib/python3.12/site-packages/sklearn/metrics/_classification.py:1565: UndefinedMetricWarning: Precision is ill-defined and being set to 0.0 in labels with no predicted samples. Use `zero_division` parameter to control this behavior.\n",
      "  _warn_prf(average, modifier, f\"{metric.capitalize()} is\", len(result))\n",
      "\n"
     ]
    },
    {
     "name": "stdout",
     "output_type": "stream",
     "text": [
      "🏃 View run SVC_{'C': 0.05, 'gamma': 0.1, 'kernel': 'rbf'} at: http://127.0.0.1:8080/#/experiments/211645594794556965/runs/b004ba0aaaa44427a787092c7fdf094f\n",
      "\n",
      "🧪 View experiment at: http://127.0.0.1:8080/#/experiments/211645594794556965\n",
      "\n",
      "Params: {'C': 0.5, 'gamma': 0.01, 'kernel': 'rbf'}                              \n",
      "🏃 View run SVC_{'C': 0.5, 'gamma': 0.01, 'kernel': 'rbf'} at: http://127.0.0.1:8080/#/experiments/211645594794556965/runs/5e62f5bd6ee84a85ae133d8ae4532fe2\n",
      "\n",
      "🧪 View experiment at: http://127.0.0.1:8080/#/experiments/211645594794556965   \n",
      "\n",
      "Params: {'C': 1, 'gamma': 10, 'kernel': 'rbf'}                                  \n",
      " 40%|████      | 2/5 [01:09<01:42, 34.19s/trial, best loss: -0.5505765806815558]"
     ]
    },
    {
     "name": "stderr",
     "output_type": "stream",
     "text": [
      "/home/renan/miniconda3/lib/python3.12/site-packages/sklearn/metrics/_classification.py:1565: UndefinedMetricWarning: Precision is ill-defined and being set to 0.0 in labels with no predicted samples. Use `zero_division` parameter to control this behavior.\n",
      "  _warn_prf(average, modifier, f\"{metric.capitalize()} is\", len(result))\n",
      "\n"
     ]
    },
    {
     "name": "stdout",
     "output_type": "stream",
     "text": [
      "🏃 View run SVC_{'C': 1, 'gamma': 10, 'kernel': 'rbf'} at: http://127.0.0.1:8080/#/experiments/211645594794556965/runs/55a3f6c82e0c4389980883a4474f3df2\n",
      "\n",
      "🧪 View experiment at: http://127.0.0.1:8080/#/experiments/211645594794556965   \n",
      "\n",
      "Params: {'C': 1, 'gamma': 10, 'kernel': 'rbf'}                                  \n",
      " 60%|██████    | 3/5 [03:24<02:40, 80.05s/trial, best loss: -0.5505765806815558]"
     ]
    },
    {
     "name": "stderr",
     "output_type": "stream",
     "text": [
      "/home/renan/miniconda3/lib/python3.12/site-packages/sklearn/metrics/_classification.py:1565: UndefinedMetricWarning: Precision is ill-defined and being set to 0.0 in labels with no predicted samples. Use `zero_division` parameter to control this behavior.\n",
      "  _warn_prf(average, modifier, f\"{metric.capitalize()} is\", len(result))\n",
      "\n"
     ]
    },
    {
     "name": "stdout",
     "output_type": "stream",
     "text": [
      "🏃 View run SVC_{'C': 1, 'gamma': 10, 'kernel': 'rbf'} at: http://127.0.0.1:8080/#/experiments/211645594794556965/runs/3a7130eacba24a3da26eb4268e22c0f2\n",
      "\n",
      "🧪 View experiment at: http://127.0.0.1:8080/#/experiments/211645594794556965   \n",
      "\n",
      "Params: {'C': 1, 'gamma': 0.001, 'kernel': 'rbf'}                                \n",
      "🏃 View run SVC_{'C': 1, 'gamma': 0.001, 'kernel': 'rbf'} at: http://127.0.0.1:8080/#/experiments/211645594794556965/runs/b945e0fcf069442a85fb3e1c45756311\n",
      "\n",
      "🧪 View experiment at: http://127.0.0.1:8080/#/experiments/211645594794556965    \n",
      "\n",
      "100%|██████████| 5/5 [06:14<00:00, 74.97s/trial, best loss: -0.5505765806815558] \n",
      "🏃 View run svc-sweep at: http://127.0.0.1:8080/#/experiments/211645594794556965/runs/f5bec4de3f754aa9899143acd26276b7\n",
      "🧪 View experiment at: http://127.0.0.1:8080/#/experiments/211645594794556965\n",
      "This will run 5 trials to find optimal hyperparameters...\n",
      "Params: {'C': 0.01}                                  \n",
      "🏃 View run LinearSVC_{'C': 0.01} at: http://127.0.0.1:8080/#/experiments/211645594794556965/runs/f6d8d90ee24d4561a5859d737ab79fe3\n",
      "\n",
      "🧪 View experiment at: http://127.0.0.1:8080/#/experiments/211645594794556965\n",
      "\n",
      "Params: {'C': 0.0001}                                                           \n",
      "🏃 View run LinearSVC_{'C': 0.0001} at: http://127.0.0.1:8080/#/experiments/211645594794556965/runs/bc657620d18943369710ef94d3257f93\n",
      "\n",
      "🧪 View experiment at: http://127.0.0.1:8080/#/experiments/211645594794556965   \n",
      "\n",
      "Params: {'C': 0.01}                                                              \n",
      "🏃 View run LinearSVC_{'C': 0.01} at: http://127.0.0.1:8080/#/experiments/211645594794556965/runs/0cfeabdc43d54a6687555f6929b357e9\n",
      "\n",
      "🧪 View experiment at: http://127.0.0.1:8080/#/experiments/211645594794556965    \n",
      "\n",
      "Params: {'C': 0.0001}                                                            \n",
      "🏃 View run LinearSVC_{'C': 0.0001} at: http://127.0.0.1:8080/#/experiments/211645594794556965/runs/74062f8ce7894199ba28e7d04b4e6be7\n",
      "\n",
      "🧪 View experiment at: http://127.0.0.1:8080/#/experiments/211645594794556965    \n",
      "\n",
      "Params: {'C': 1}                                                                 \n",
      "🏃 View run LinearSVC_{'C': 1} at: http://127.0.0.1:8080/#/experiments/211645594794556965/runs/466acb356cd6470388f048998b7c9e42\n",
      "\n",
      "🧪 View experiment at: http://127.0.0.1:8080/#/experiments/211645594794556965    \n",
      "\n",
      "100%|██████████| 5/5 [00:10<00:00,  2.09s/trial, best loss: -0.49202324395568425]\n",
      "🏃 View run svc-linear-sweep at: http://127.0.0.1:8080/#/experiments/211645594794556965/runs/0bbc99f9065c4279b94e10b3d18fe9e0\n",
      "🧪 View experiment at: http://127.0.0.1:8080/#/experiments/211645594794556965\n",
      "This will run 5 trials to find optimal hyperparameters...\n",
      "Params: {'colsample_bytree': 1.0, 'learning_rate': 0.01, 'max_depth': 5, 'n_estimators': 200, 'subsample': 1.0}\n",
      "🏃 View run XGBClassifier_{'colsample_bytree': 1.0, 'learning_rate': 0.01, 'max_depth': 5, 'n_estimators': 200, 'subsample': 1.0} at: http://127.0.0.1:8080/#/experiments/211645594794556965/runs/cfb89071ae2749ddb82a5701626c2863\n",
      "\n",
      "🧪 View experiment at: http://127.0.0.1:8080/#/experiments/211645594794556965\n",
      "\n",
      "Params: {'colsample_bytree': 0.5, 'learning_rate': 0.01, 'max_depth': 5, 'n_estimators': 500, 'subsample': 0.7}\n",
      "🏃 View run XGBClassifier_{'colsample_bytree': 0.5, 'learning_rate': 0.01, 'max_depth': 5, 'n_estimators': 500, 'subsample': 0.7} at: http://127.0.0.1:8080/#/experiments/211645594794556965/runs/45b530875c9b4aa88e1ae0f6aa9db921\n",
      "\n",
      "🧪 View experiment at: http://127.0.0.1:8080/#/experiments/211645594794556965   \n",
      "\n",
      "Params: {'colsample_bytree': 0.5, 'learning_rate': 0.01, 'max_depth': 5, 'n_estimators': 500, 'subsample': 0.7}\n",
      "🏃 View run XGBClassifier_{'colsample_bytree': 0.5, 'learning_rate': 0.01, 'max_depth': 5, 'n_estimators': 500, 'subsample': 0.7} at: http://127.0.0.1:8080/#/experiments/211645594794556965/runs/de906340950740ea969d870c8e1912b2\n",
      "\n",
      "🧪 View experiment at: http://127.0.0.1:8080/#/experiments/211645594794556965   \n",
      "\n",
      "Params: {'colsample_bytree': 1.0, 'learning_rate': 0.01, 'max_depth': None, 'n_estimators': 700, 'subsample': 1.0}\n",
      "🏃 View run XGBClassifier_{'colsample_bytree': 1.0, 'learning_rate': 0.01, 'max_depth': None, 'n_estimators': 700, 'subsample': 1.0} at: http://127.0.0.1:8080/#/experiments/211645594794556965/runs/3b889fcaa37445a1ad06815fa2547495\n",
      "\n",
      "🧪 View experiment at: http://127.0.0.1:8080/#/experiments/211645594794556965   \n",
      "\n",
      "Params: {'colsample_bytree': 0.7, 'learning_rate': 0.001, 'max_depth': 10, 'n_estimators': 700, 'subsample': 1.0}\n",
      "🏃 View run XGBClassifier_{'colsample_bytree': 0.7, 'learning_rate': 0.001, 'max_depth': 10, 'n_estimators': 700, 'subsample': 1.0} at: http://127.0.0.1:8080/#/experiments/211645594794556965/runs/fe6a8b072278414396fb3a965887f5d1\n",
      "\n",
      "🧪 View experiment at: http://127.0.0.1:8080/#/experiments/211645594794556965   \n",
      "\n",
      "100%|██████████| 5/5 [00:37<00:00,  7.42s/trial, best loss: -0.6552382226995441]\n",
      "🏃 View run xgb-sweep at: http://127.0.0.1:8080/#/experiments/211645594794556965/runs/d202e73372294d139a489167e3713759\n",
      "🧪 View experiment at: http://127.0.0.1:8080/#/experiments/211645594794556965\n"
     ]
    },
    {
     "data": {
      "text/plain": [
       "0.6552382226995441"
      ]
     },
     "execution_count": 84,
     "metadata": {},
     "output_type": "execute_result"
    }
   ],
   "source": [
    "model = RandomForestClassifier\n",
    "run_experiments('rf-sweep', max_evals=max_evals, search_space=search_space_rf, data_name=data_name, model_name = 'RandomForestClassifier', features_names=columns_to_keep)\n",
    "model = SVC\n",
    "run_experiments('svc-sweep', max_evals=max_evals, search_space=search_space_svc, data_name=data_name, model_name = 'SVC', features_names=columns_to_keep)\n",
    "model = LinearSVC\n",
    "run_experiments('svc-linear-sweep', max_evals=max_evals, search_space=search_space_svc_linear, data_name=data_name, model_name = 'LinearSVC', features_names=columns_to_keep)\n",
    "model = xgb.XGBClassifier\n",
    "run_experiments('xgb-sweep', max_evals=max_evals, search_space=search_space_xgb, data_name=data_name, model_name = 'XGBClassifier', features_names=columns_to_keep)"
   ]
  },
  {
   "cell_type": "markdown",
   "id": "6c7c7c69",
   "metadata": {},
   "source": [
    "### LLM"
   ]
  },
  {
   "cell_type": "code",
   "execution_count": 85,
   "id": "71ab5872",
   "metadata": {},
   "outputs": [],
   "source": [
    "# Provide an Experiment description that will appear in the UI\n",
    "experiment_description = (\n",
    "    \"Experiment to train models on the UAH + CARLA LLM (20%) dataset.\"\n",
    ")\n",
    "\n",
    "# Provide searchable tags that define characteristics of the Runs that\n",
    "# will be in this Experiment\n",
    "experiment_tags = {\n",
    "    \"project_name\": \"driver-behavior-prediction\",\n",
    "    \"mlflow.note.content\": experiment_description,\n",
    "}\n",
    "\n",
    "# Create the Experiment, providing a unique name\n",
    "try:\n",
    "    driver_behavior_experiment = client.create_experiment(\n",
    "        name=\"UAH_CARLA_LLM_20\", tags=experiment_tags\n",
    "    )\n",
    "except mlflow.exceptions.RestException as e:\n",
    "    print(f\"Experiment already exists: {e}\")"
   ]
  },
  {
   "cell_type": "code",
   "execution_count": 86,
   "id": "61e34e16",
   "metadata": {},
   "outputs": [],
   "source": [
    "X_train, y_train = X_carla_uah_llm_20, y_carla_uah_llm_20\n",
    "\n",
    "scaler = StandardScaler()\n",
    "X_train = scaler.fit_transform(X_train)\n",
    "X_val = scaler.transform(X_val_base)\n",
    "y_train = preprocessor.one_hot_encode(y_train, one_hot_keys=one_hot_keys)\n",
    "\n",
    "signature = infer_signature(X_train, y_train)\n",
    "mlflow.set_experiment('UAH_CARLA_LLM_20')\n",
    "data_name = 'UAH_CARLA_LLM_20'"
   ]
  },
  {
   "cell_type": "code",
   "execution_count": 87,
   "id": "97311e4a",
   "metadata": {},
   "outputs": [
    {
     "name": "stdout",
     "output_type": "stream",
     "text": [
      "This will run 5 trials to find optimal hyperparameters...\n",
      "Params: {'max_depth': 5, 'n_estimators': 100, 'random_state': 42}\n",
      "🏃 View run RandomForestClassifier_{'max_depth': 5, 'n_estimators': 100, 'random_state': 42} at: http://127.0.0.1:8080/#/experiments/321022850071773458/runs/4f320d285afa4ba1900757e874a15c27\n",
      "\n",
      "🧪 View experiment at: http://127.0.0.1:8080/#/experiments/321022850071773458\n",
      "\n",
      "Params: {'max_depth': 50, 'n_estimators': 200, 'random_state': 42}              \n",
      "🏃 View run RandomForestClassifier_{'max_depth': 50, 'n_estimators': 200, 'random_state': 42} at: http://127.0.0.1:8080/#/experiments/321022850071773458/runs/d66f0f45a1d54af3b59a5f0d70cc78ce\n",
      "\n",
      "🧪 View experiment at: http://127.0.0.1:8080/#/experiments/321022850071773458   \n",
      "\n",
      "Params: {'max_depth': 20, 'n_estimators': 100, 'random_state': 42}              \n",
      "🏃 View run RandomForestClassifier_{'max_depth': 20, 'n_estimators': 100, 'random_state': 42} at: http://127.0.0.1:8080/#/experiments/321022850071773458/runs/d1e43acde14949cd881c3d622a2d246d\n",
      "\n",
      "🧪 View experiment at: http://127.0.0.1:8080/#/experiments/321022850071773458   \n",
      "\n",
      "Params: {'max_depth': 50, 'n_estimators': 500, 'random_state': 42}              \n",
      "🏃 View run RandomForestClassifier_{'max_depth': 50, 'n_estimators': 500, 'random_state': 42} at: http://127.0.0.1:8080/#/experiments/321022850071773458/runs/12664ff28db84c7081c29e730a506818\n",
      "\n",
      "🧪 View experiment at: http://127.0.0.1:8080/#/experiments/321022850071773458   \n",
      "\n",
      "Params: {'max_depth': None, 'n_estimators': 50, 'random_state': 42}             \n",
      "🏃 View run RandomForestClassifier_{'max_depth': None, 'n_estimators': 50, 'random_state': 42} at: http://127.0.0.1:8080/#/experiments/321022850071773458/runs/8916239466ce4f48925de267039df880\n",
      "\n",
      "🧪 View experiment at: http://127.0.0.1:8080/#/experiments/321022850071773458   \n",
      "\n",
      "100%|██████████| 5/5 [02:08<00:00, 25.68s/trial, best loss: -0.6402331856278579]\n",
      "🏃 View run rf-sweep at: http://127.0.0.1:8080/#/experiments/321022850071773458/runs/4a8e505bb4974c7187cf5d91b5e083ab\n",
      "🧪 View experiment at: http://127.0.0.1:8080/#/experiments/321022850071773458\n",
      "This will run 5 trials to find optimal hyperparameters...\n",
      "Params: {'C': 0.1, 'gamma': 0.01, 'kernel': 'rbf'}   \n",
      "🏃 View run SVC_{'C': 0.1, 'gamma': 0.01, 'kernel': 'rbf'} at: http://127.0.0.1:8080/#/experiments/321022850071773458/runs/9d2e4ca88c004578876ecc65bdfd503e\n",
      "\n",
      "🧪 View experiment at: http://127.0.0.1:8080/#/experiments/321022850071773458\n",
      "\n",
      "Params: {'C': 0.01, 'gamma': 10, 'kernel': 'rbf'}                               \n",
      " 20%|██        | 1/5 [00:30<02:03, 30.77s/trial, best loss: -0.5384076886439152]"
     ]
    },
    {
     "name": "stderr",
     "output_type": "stream",
     "text": [
      "/home/renan/miniconda3/lib/python3.12/site-packages/sklearn/metrics/_classification.py:1565: UndefinedMetricWarning: Precision is ill-defined and being set to 0.0 in labels with no predicted samples. Use `zero_division` parameter to control this behavior.\n",
      "  _warn_prf(average, modifier, f\"{metric.capitalize()} is\", len(result))\n",
      "\n"
     ]
    },
    {
     "name": "stdout",
     "output_type": "stream",
     "text": [
      "🏃 View run SVC_{'C': 0.01, 'gamma': 10, 'kernel': 'rbf'} at: http://127.0.0.1:8080/#/experiments/321022850071773458/runs/47c40afe5f95428fb7e7766dc76327e2\n",
      "\n",
      "🧪 View experiment at: http://127.0.0.1:8080/#/experiments/321022850071773458   \n",
      "\n",
      "Params: {'C': 1, 'gamma': 1, 'kernel': 'rbf'}                                   \n",
      " 40%|████      | 2/5 [02:02<03:20, 66.82s/trial, best loss: -0.5384076886439152]"
     ]
    },
    {
     "name": "stderr",
     "output_type": "stream",
     "text": [
      "/home/renan/miniconda3/lib/python3.12/site-packages/sklearn/metrics/_classification.py:1565: UndefinedMetricWarning: Precision is ill-defined and being set to 0.0 in labels with no predicted samples. Use `zero_division` parameter to control this behavior.\n",
      "  _warn_prf(average, modifier, f\"{metric.capitalize()} is\", len(result))\n",
      "\n"
     ]
    },
    {
     "name": "stdout",
     "output_type": "stream",
     "text": [
      "🏃 View run SVC_{'C': 1, 'gamma': 1, 'kernel': 'rbf'} at: http://127.0.0.1:8080/#/experiments/321022850071773458/runs/bbfc7e7c61a34eb3a1c3c51ba31d49bd\n",
      "\n",
      "🧪 View experiment at: http://127.0.0.1:8080/#/experiments/321022850071773458   \n",
      "\n",
      "Params: {'C': 0.5, 'gamma': 0.1, 'kernel': 'rbf'}                               \n",
      "🏃 View run SVC_{'C': 0.5, 'gamma': 0.1, 'kernel': 'rbf'} at: http://127.0.0.1:8080/#/experiments/321022850071773458/runs/50165e6fd5004bba8caa08a7687a9872\n",
      "\n",
      "🧪 View experiment at: http://127.0.0.1:8080/#/experiments/321022850071773458   \n",
      "\n",
      "Params: {'C': 0.5, 'gamma': 0.01, 'kernel': 'rbf'}                              \n",
      "🏃 View run SVC_{'C': 0.5, 'gamma': 0.01, 'kernel': 'rbf'} at: http://127.0.0.1:8080/#/experiments/321022850071773458/runs/8b542e71030e4da7aaddd7c0876db257\n",
      "\n",
      "🧪 View experiment at: http://127.0.0.1:8080/#/experiments/321022850071773458  \n",
      "\n",
      "100%|██████████| 5/5 [05:17<00:00, 63.58s/trial, best loss: -0.613299252213832]\n",
      "🏃 View run svc-sweep at: http://127.0.0.1:8080/#/experiments/321022850071773458/runs/9dfca0279cb744da9bcecfd8af747757\n",
      "🧪 View experiment at: http://127.0.0.1:8080/#/experiments/321022850071773458\n",
      "This will run 5 trials to find optimal hyperparameters...\n",
      "Params: {'C': 0.001}                                 \n",
      "🏃 View run LinearSVC_{'C': 0.001} at: http://127.0.0.1:8080/#/experiments/321022850071773458/runs/1bc746a083a24cc3a33fd1bf10001d68\n",
      "\n",
      "🧪 View experiment at: http://127.0.0.1:8080/#/experiments/321022850071773458\n",
      "\n",
      "Params: {'C': 0.01}                                                             \n",
      "🏃 View run LinearSVC_{'C': 0.01} at: http://127.0.0.1:8080/#/experiments/321022850071773458/runs/952a6a244f4e40a8968d9c747e8b036a\n",
      "\n",
      "🧪 View experiment at: http://127.0.0.1:8080/#/experiments/321022850071773458   \n",
      "\n",
      "Params: {'C': 0.0001}                                                           \n",
      "🏃 View run LinearSVC_{'C': 0.0001} at: http://127.0.0.1:8080/#/experiments/321022850071773458/runs/5cb25758390548869e5236abf2cdb7e2\n",
      "\n",
      "🧪 View experiment at: http://127.0.0.1:8080/#/experiments/321022850071773458   \n",
      "\n",
      "Params: {'C': 1}                                                                 \n",
      "🏃 View run LinearSVC_{'C': 1} at: http://127.0.0.1:8080/#/experiments/321022850071773458/runs/cc2a09c64ef040bf8456b0608474fb23\n",
      "\n",
      "🧪 View experiment at: http://127.0.0.1:8080/#/experiments/321022850071773458    \n",
      "\n",
      "Params: {'C': 1}                                                                 \n",
      "🏃 View run LinearSVC_{'C': 1} at: http://127.0.0.1:8080/#/experiments/321022850071773458/runs/7fbe6b2e2e6f45b997c74bcc2d96a76e\n",
      "\n",
      "🧪 View experiment at: http://127.0.0.1:8080/#/experiments/321022850071773458    \n",
      "\n",
      "100%|██████████| 5/5 [00:10<00:00,  2.15s/trial, best loss: -0.49202324395568425]\n",
      "🏃 View run svc-linear-sweep at: http://127.0.0.1:8080/#/experiments/321022850071773458/runs/fab965520d7b4955b2e7132374b3c4e4\n",
      "🧪 View experiment at: http://127.0.0.1:8080/#/experiments/321022850071773458\n",
      "This will run 5 trials to find optimal hyperparameters...\n",
      "Params: {'colsample_bytree': 0.7, 'learning_rate': 0.01, 'max_depth': 10, 'n_estimators': 500, 'subsample': 1.0}\n",
      "🏃 View run XGBClassifier_{'colsample_bytree': 0.7, 'learning_rate': 0.01, 'max_depth': 10, 'n_estimators': 500, 'subsample': 1.0} at: http://127.0.0.1:8080/#/experiments/321022850071773458/runs/24829837c1424d32a48128d6c082ad08\n",
      "\n",
      "🧪 View experiment at: http://127.0.0.1:8080/#/experiments/321022850071773458\n",
      "\n",
      "Params: {'colsample_bytree': 1.0, 'learning_rate': 0.001, 'max_depth': None, 'n_estimators': 500, 'subsample': 1.0}\n",
      "🏃 View run XGBClassifier_{'colsample_bytree': 1.0, 'learning_rate': 0.001, 'max_depth': None, 'n_estimators': 500, 'subsample': 1.0} at: http://127.0.0.1:8080/#/experiments/321022850071773458/runs/2fd84080693a4c6b8309bbfbcb9c07c9\n",
      "\n",
      "🧪 View experiment at: http://127.0.0.1:8080/#/experiments/321022850071773458  \n",
      "\n",
      "Params: {'colsample_bytree': 0.5, 'learning_rate': 0.001, 'max_depth': None, 'n_estimators': 500, 'subsample': 1.0}\n",
      "🏃 View run XGBClassifier_{'colsample_bytree': 0.5, 'learning_rate': 0.001, 'max_depth': None, 'n_estimators': 500, 'subsample': 1.0} at: http://127.0.0.1:8080/#/experiments/321022850071773458/runs/6a84fd7fb0264484a17d549420d46694\n",
      "\n",
      "🧪 View experiment at: http://127.0.0.1:8080/#/experiments/321022850071773458  \n",
      "\n",
      "Params: {'colsample_bytree': 0.5, 'learning_rate': 0.001, 'max_depth': 10, 'n_estimators': 500, 'subsample': 0.7}\n",
      "🏃 View run XGBClassifier_{'colsample_bytree': 0.5, 'learning_rate': 0.001, 'max_depth': 10, 'n_estimators': 500, 'subsample': 0.7} at: http://127.0.0.1:8080/#/experiments/321022850071773458/runs/270df840e4724b898dff9ca34011ee61\n",
      "\n",
      "🧪 View experiment at: http://127.0.0.1:8080/#/experiments/321022850071773458  \n",
      "\n",
      "Params: {'colsample_bytree': 0.7, 'learning_rate': 0.3, 'max_depth': None, 'n_estimators': 1000, 'subsample': 1.0}\n",
      "🏃 View run XGBClassifier_{'colsample_bytree': 0.7, 'learning_rate': 0.3, 'max_depth': None, 'n_estimators': 1000, 'subsample': 1.0} at: http://127.0.0.1:8080/#/experiments/321022850071773458/runs/7a5d30fcfaaa48b98c4669fdb3920535\n",
      "\n",
      "🧪 View experiment at: http://127.0.0.1:8080/#/experiments/321022850071773458  \n",
      "\n",
      "100%|██████████| 5/5 [00:37<00:00,  7.50s/trial, best loss: -0.644319866032904]\n",
      "🏃 View run xgb-sweep at: http://127.0.0.1:8080/#/experiments/321022850071773458/runs/93c748d9df4d41248974da0d125afb41\n",
      "🧪 View experiment at: http://127.0.0.1:8080/#/experiments/321022850071773458\n"
     ]
    },
    {
     "data": {
      "text/plain": [
       "0.644319866032904"
      ]
     },
     "execution_count": 87,
     "metadata": {},
     "output_type": "execute_result"
    }
   ],
   "source": [
    "model = RandomForestClassifier\n",
    "run_experiments('rf-sweep', max_evals=max_evals, search_space=search_space_rf, data_name=data_name, model_name = 'RandomForestClassifier', features_names=columns_to_keep)\n",
    "model = SVC\n",
    "run_experiments('svc-sweep', max_evals=max_evals, search_space=search_space_svc, data_name=data_name, model_name = 'SVC', features_names=columns_to_keep)\n",
    "model = LinearSVC\n",
    "run_experiments('svc-linear-sweep', max_evals=max_evals, search_space=search_space_svc_linear, data_name=data_name, model_name = 'LinearSVC', features_names=columns_to_keep)\n",
    "model = xgb.XGBClassifier\n",
    "run_experiments('xgb-sweep', max_evals=max_evals, search_space=search_space_xgb, data_name=data_name, model_name = 'XGBClassifier', features_names=columns_to_keep)"
   ]
  },
  {
   "cell_type": "markdown",
   "id": "03a2886a",
   "metadata": {},
   "source": [
    "## Real + CARLA (100%)"
   ]
  },
  {
   "cell_type": "markdown",
   "id": "e6d9ddfb",
   "metadata": {},
   "source": [
    "### Fixed"
   ]
  },
  {
   "cell_type": "code",
   "execution_count": 88,
   "id": "d74acd83",
   "metadata": {},
   "outputs": [],
   "source": [
    "# Provide an Experiment description that will appear in the UI\n",
    "experiment_description = (\n",
    "    \"Experiment to train models on the UAH + CARLA Fixed (100%) dataset.\"\n",
    ")\n",
    "\n",
    "# Provide searchable tags that define characteristics of the Runs that\n",
    "# will be in this Experiment\n",
    "experiment_tags = {\n",
    "    \"project_name\": \"driver-behavior-prediction\",\n",
    "    \"mlflow.note.content\": experiment_description,\n",
    "}\n",
    "\n",
    "# Create the Experiment, providing a unique name\n",
    "try:\n",
    "    driver_behavior_experiment = client.create_experiment(\n",
    "        name=\"UAH_CARLA_Fixed_100\", tags=experiment_tags\n",
    "    )\n",
    "except mlflow.exceptions.RestException as e:\n",
    "    print(f\"Experiment already exists: {e}\")"
   ]
  },
  {
   "cell_type": "code",
   "execution_count": 89,
   "id": "c1b7f372",
   "metadata": {},
   "outputs": [],
   "source": [
    "X_train, y_train = X_carla_uah_fixed_100, y_carla_uah_fixed_100\n",
    "\n",
    "scaler = StandardScaler()\n",
    "X_train = scaler.fit_transform(X_train)\n",
    "X_val = scaler.transform(X_val_base)\n",
    "y_train = preprocessor.one_hot_encode(y_train, one_hot_keys=one_hot_keys)\n",
    "\n",
    "signature = infer_signature(X_train, y_train)\n",
    "mlflow.set_experiment('UAH_CARLA_Fixed_100')\n",
    "data_name = 'UAH_CARLA_Fixed_100'"
   ]
  },
  {
   "cell_type": "code",
   "execution_count": 90,
   "id": "90abf157",
   "metadata": {},
   "outputs": [
    {
     "name": "stdout",
     "output_type": "stream",
     "text": [
      "This will run 5 trials to find optimal hyperparameters...\n",
      "Params: {'max_depth': 5, 'n_estimators': 500, 'random_state': 42}\n",
      "🏃 View run RandomForestClassifier_{'max_depth': 5, 'n_estimators': 500, 'random_state': 42} at: http://127.0.0.1:8080/#/experiments/271953609391700165/runs/cafdd45c811d4417b1f4b96d45c60ccf\n",
      "\n",
      "🧪 View experiment at: http://127.0.0.1:8080/#/experiments/271953609391700165\n",
      "\n",
      "Params: {'max_depth': 10, 'n_estimators': 500, 'random_state': 42}              \n",
      "🏃 View run RandomForestClassifier_{'max_depth': 10, 'n_estimators': 500, 'random_state': 42} at: http://127.0.0.1:8080/#/experiments/271953609391700165/runs/8c7865ab190e4fac923045be9a0e65dc\n",
      "\n",
      "🧪 View experiment at: http://127.0.0.1:8080/#/experiments/271953609391700165   \n",
      "\n",
      "Params: {'max_depth': 5, 'n_estimators': 50, 'random_state': 42}                \n",
      "🏃 View run RandomForestClassifier_{'max_depth': 5, 'n_estimators': 50, 'random_state': 42} at: http://127.0.0.1:8080/#/experiments/271953609391700165/runs/418587d9eb284694ab78afaa3ba1ea0a\n",
      "\n",
      "🧪 View experiment at: http://127.0.0.1:8080/#/experiments/271953609391700165   \n",
      "\n",
      "Params: {'max_depth': 50, 'n_estimators': 100, 'random_state': 42}              \n",
      "🏃 View run RandomForestClassifier_{'max_depth': 50, 'n_estimators': 100, 'random_state': 42} at: http://127.0.0.1:8080/#/experiments/271953609391700165/runs/5c02febca7ba4c86b0b57c557bcb4cc5\n",
      "\n",
      "🧪 View experiment at: http://127.0.0.1:8080/#/experiments/271953609391700165   \n",
      "\n",
      "Params: {'max_depth': 5, 'n_estimators': 20, 'random_state': 42}                \n",
      "🏃 View run RandomForestClassifier_{'max_depth': 5, 'n_estimators': 20, 'random_state': 42} at: http://127.0.0.1:8080/#/experiments/271953609391700165/runs/1c492703de4a47299b8bcd9d54ad195d\n",
      "\n",
      "🧪 View experiment at: http://127.0.0.1:8080/#/experiments/271953609391700165   \n",
      "\n",
      "100%|██████████| 5/5 [01:18<00:00, 15.70s/trial, best loss: -0.6145761880629618]\n",
      "🏃 View run rf-sweep at: http://127.0.0.1:8080/#/experiments/271953609391700165/runs/1df0e67c14bc4027908ebc83b24a7739\n",
      "🧪 View experiment at: http://127.0.0.1:8080/#/experiments/271953609391700165\n",
      "This will run 5 trials to find optimal hyperparameters...\n",
      "Params: {'C': 0.1, 'gamma': 0.001, 'kernel': 'rbf'}  \n",
      "🏃 View run SVC_{'C': 0.1, 'gamma': 0.001, 'kernel': 'rbf'} at: http://127.0.0.1:8080/#/experiments/271953609391700165/runs/f0d8d8f6b4a84981bc2f1a8f080106e0\n",
      "\n",
      "🧪 View experiment at: http://127.0.0.1:8080/#/experiments/271953609391700165\n",
      "\n",
      "Params: {'C': 0.01, 'gamma': 1, 'kernel': 'rbf'}                                 \n",
      " 20%|██        | 1/5 [00:34<02:16, 34.03s/trial, best loss: -0.40762265394652314]"
     ]
    },
    {
     "name": "stderr",
     "output_type": "stream",
     "text": [
      "/home/renan/miniconda3/lib/python3.12/site-packages/sklearn/metrics/_classification.py:1565: UndefinedMetricWarning: Precision is ill-defined and being set to 0.0 in labels with no predicted samples. Use `zero_division` parameter to control this behavior.\n",
      "  _warn_prf(average, modifier, f\"{metric.capitalize()} is\", len(result))\n",
      "\n"
     ]
    },
    {
     "name": "stdout",
     "output_type": "stream",
     "text": [
      "🏃 View run SVC_{'C': 0.01, 'gamma': 1, 'kernel': 'rbf'} at: http://127.0.0.1:8080/#/experiments/271953609391700165/runs/86a98b8f23264ec9a44aae88b73cf065\n",
      "\n",
      "🧪 View experiment at: http://127.0.0.1:8080/#/experiments/271953609391700165    \n",
      "\n",
      "Params: {'C': 0.05, 'gamma': 0.1, 'kernel': 'rbf'}                               \n",
      " 40%|████      | 2/5 [01:47<02:51, 57.14s/trial, best loss: -0.40762265394652314]"
     ]
    },
    {
     "name": "stderr",
     "output_type": "stream",
     "text": [
      "/home/renan/miniconda3/lib/python3.12/site-packages/sklearn/metrics/_classification.py:1565: UndefinedMetricWarning: Precision is ill-defined and being set to 0.0 in labels with no predicted samples. Use `zero_division` parameter to control this behavior.\n",
      "  _warn_prf(average, modifier, f\"{metric.capitalize()} is\", len(result))\n",
      "\n"
     ]
    },
    {
     "name": "stdout",
     "output_type": "stream",
     "text": [
      "🏃 View run SVC_{'C': 0.05, 'gamma': 0.1, 'kernel': 'rbf'} at: http://127.0.0.1:8080/#/experiments/271953609391700165/runs/b7bf5e25241a4728aac16351daab3d68\n",
      "\n",
      "🧪 View experiment at: http://127.0.0.1:8080/#/experiments/271953609391700165    \n",
      "\n",
      "Params: {'C': 0.01, 'gamma': 0.01, 'kernel': 'rbf'}                              \n",
      "🏃 View run SVC_{'C': 0.01, 'gamma': 0.01, 'kernel': 'rbf'} at: http://127.0.0.1:8080/#/experiments/271953609391700165/runs/0c69a1e9a33d4c9c89b348eec2c82ade\n",
      "\n",
      "🧪 View experiment at: http://127.0.0.1:8080/#/experiments/271953609391700165    \n",
      "\n",
      "Params: {'C': 1, 'gamma': 10, 'kernel': 'rbf'}                                   \n",
      " 80%|████████  | 4/5 [02:58<00:42, 42.61s/trial, best loss: -0.4867422728192607]"
     ]
    },
    {
     "name": "stderr",
     "output_type": "stream",
     "text": [
      "/home/renan/miniconda3/lib/python3.12/site-packages/sklearn/metrics/_classification.py:1565: UndefinedMetricWarning: Precision is ill-defined and being set to 0.0 in labels with no predicted samples. Use `zero_division` parameter to control this behavior.\n",
      "  _warn_prf(average, modifier, f\"{metric.capitalize()} is\", len(result))\n",
      "\n"
     ]
    },
    {
     "name": "stdout",
     "output_type": "stream",
     "text": [
      "🏃 View run SVC_{'C': 1, 'gamma': 10, 'kernel': 'rbf'} at: http://127.0.0.1:8080/#/experiments/271953609391700165/runs/758e645563da44ccb4a8c4076c0ae9e3\n",
      "\n",
      "🧪 View experiment at: http://127.0.0.1:8080/#/experiments/271953609391700165   \n",
      "\n",
      "100%|██████████| 5/5 [05:07<00:00, 61.53s/trial, best loss: -0.4867422728192607]\n",
      "🏃 View run svc-sweep at: http://127.0.0.1:8080/#/experiments/271953609391700165/runs/fc072be6e8e6496e8025b01b70324017\n",
      "🧪 View experiment at: http://127.0.0.1:8080/#/experiments/271953609391700165\n",
      "This will run 5 trials to find optimal hyperparameters...\n",
      "Params: {'C': 0.0001}                                \n",
      "🏃 View run LinearSVC_{'C': 0.0001} at: http://127.0.0.1:8080/#/experiments/271953609391700165/runs/35fe48f15e814fccb387b8179bb00bec\n",
      "\n",
      "🧪 View experiment at: http://127.0.0.1:8080/#/experiments/271953609391700165\n",
      "\n",
      "Params: {'C': 0.001}                                                             \n",
      "🏃 View run LinearSVC_{'C': 0.001} at: http://127.0.0.1:8080/#/experiments/271953609391700165/runs/0bda980824e8477b9805bc78e6ec0817\n",
      "\n",
      "🧪 View experiment at: http://127.0.0.1:8080/#/experiments/271953609391700165    \n",
      "\n",
      "Params: {'C': 0.1}                                                               \n",
      "🏃 View run LinearSVC_{'C': 0.1} at: http://127.0.0.1:8080/#/experiments/271953609391700165/runs/44b627a36d894a4c98f826af7273eaf3\n",
      "\n",
      "🧪 View experiment at: http://127.0.0.1:8080/#/experiments/271953609391700165    \n",
      "\n",
      "Params: {'C': 0.0001}                                                            \n",
      "🏃 View run LinearSVC_{'C': 0.0001} at: http://127.0.0.1:8080/#/experiments/271953609391700165/runs/59da33dd0e6b493f8a76f8f8eff680c2\n",
      "\n",
      "🧪 View experiment at: http://127.0.0.1:8080/#/experiments/271953609391700165    \n",
      "\n",
      "Params: {'C': 0.01}                                                              \n",
      "🏃 View run LinearSVC_{'C': 0.01} at: http://127.0.0.1:8080/#/experiments/271953609391700165/runs/79619acf0d1042a5995cecbf614bca61\n",
      "\n",
      "🧪 View experiment at: http://127.0.0.1:8080/#/experiments/271953609391700165    \n",
      "\n",
      "100%|██████████| 5/5 [00:09<00:00,  1.91s/trial, best loss: -0.49202324395568425]\n",
      "🏃 View run svc-linear-sweep at: http://127.0.0.1:8080/#/experiments/271953609391700165/runs/e3610b34a6a344f8a1c83ef1a650698e\n",
      "🧪 View experiment at: http://127.0.0.1:8080/#/experiments/271953609391700165\n",
      "This will run 5 trials to find optimal hyperparameters...\n",
      "Params: {'colsample_bytree': 0.7, 'learning_rate': 0.1, 'max_depth': 5, 'n_estimators': 200, 'subsample': 0.7}\n",
      "🏃 View run XGBClassifier_{'colsample_bytree': 0.7, 'learning_rate': 0.1, 'max_depth': 5, 'n_estimators': 200, 'subsample': 0.7} at: http://127.0.0.1:8080/#/experiments/271953609391700165/runs/05982187bb7643cc8d7ef45c9951a4ff\n",
      "\n",
      "🧪 View experiment at: http://127.0.0.1:8080/#/experiments/271953609391700165\n",
      "\n",
      "Params: {'colsample_bytree': 0.5, 'learning_rate': 0.2, 'max_depth': None, 'n_estimators': 700, 'subsample': 1.0}\n",
      "🏃 View run XGBClassifier_{'colsample_bytree': 0.5, 'learning_rate': 0.2, 'max_depth': None, 'n_estimators': 700, 'subsample': 1.0} at: http://127.0.0.1:8080/#/experiments/271953609391700165/runs/0bd99380395242f59628ce0d71c35d59\n",
      "\n",
      "🧪 View experiment at: http://127.0.0.1:8080/#/experiments/271953609391700165   \n",
      "\n",
      "Params: {'colsample_bytree': 0.7, 'learning_rate': 0.1, 'max_depth': 10, 'n_estimators': 500, 'subsample': 0.5}\n",
      "🏃 View run XGBClassifier_{'colsample_bytree': 0.7, 'learning_rate': 0.1, 'max_depth': 10, 'n_estimators': 500, 'subsample': 0.5} at: http://127.0.0.1:8080/#/experiments/271953609391700165/runs/5b4df4093a1a4816bc1ec42cf959a374\n",
      "\n",
      "🧪 View experiment at: http://127.0.0.1:8080/#/experiments/271953609391700165   \n",
      "\n",
      "Params: {'colsample_bytree': 0.7, 'learning_rate': 0.001, 'max_depth': 5, 'n_estimators': 1000, 'subsample': 1.0}\n",
      "🏃 View run XGBClassifier_{'colsample_bytree': 0.7, 'learning_rate': 0.001, 'max_depth': 5, 'n_estimators': 1000, 'subsample': 1.0} at: http://127.0.0.1:8080/#/experiments/271953609391700165/runs/3e4988fb977545599b16480575072ca5\n",
      "\n",
      "🧪 View experiment at: http://127.0.0.1:8080/#/experiments/271953609391700165   \n",
      "\n",
      "Params: {'colsample_bytree': 0.5, 'learning_rate': 0.2, 'max_depth': None, 'n_estimators': 200, 'subsample': 0.5}\n",
      "🏃 View run XGBClassifier_{'colsample_bytree': 0.5, 'learning_rate': 0.2, 'max_depth': None, 'n_estimators': 200, 'subsample': 0.5} at: http://127.0.0.1:8080/#/experiments/271953609391700165/runs/3c5a6b50807e43a0a46bd01162971e43\n",
      "\n",
      "🧪 View experiment at: http://127.0.0.1:8080/#/experiments/271953609391700165   \n",
      "\n",
      "100%|██████████| 5/5 [00:29<00:00,  5.91s/trial, best loss: -0.6518911695617088]\n",
      "🏃 View run xgb-sweep at: http://127.0.0.1:8080/#/experiments/271953609391700165/runs/7685933231e74e5d963b0f20f4fbc38e\n",
      "🧪 View experiment at: http://127.0.0.1:8080/#/experiments/271953609391700165\n"
     ]
    },
    {
     "data": {
      "text/plain": [
       "0.6518911695617088"
      ]
     },
     "execution_count": 90,
     "metadata": {},
     "output_type": "execute_result"
    }
   ],
   "source": [
    "model = RandomForestClassifier\n",
    "run_experiments('rf-sweep', max_evals=max_evals, search_space=search_space_rf, data_name=data_name, model_name = 'RandomForestClassifier', features_names=columns_to_keep)\n",
    "model = SVC\n",
    "run_experiments('svc-sweep', max_evals=max_evals, search_space=search_space_svc, data_name=data_name, model_name = 'SVC', features_names=columns_to_keep)\n",
    "model = LinearSVC\n",
    "run_experiments('svc-linear-sweep', max_evals=max_evals, search_space=search_space_svc_linear, data_name=data_name, model_name = 'LinearSVC', features_names=columns_to_keep)\n",
    "model = xgb.XGBClassifier\n",
    "run_experiments('xgb-sweep', max_evals=max_evals, search_space=search_space_xgb, data_name=data_name, model_name = 'XGBClassifier', features_names=columns_to_keep)"
   ]
  },
  {
   "cell_type": "markdown",
   "id": "4b1fe8a2",
   "metadata": {},
   "source": [
    "### LLM"
   ]
  },
  {
   "cell_type": "code",
   "execution_count": 91,
   "id": "a8fc7ca3",
   "metadata": {},
   "outputs": [],
   "source": [
    "# Provide an Experiment description that will appear in the UI\n",
    "experiment_description = (\n",
    "    \"Experiment to train models on the UAH + CARLA LLM (100%) dataset.\"\n",
    ")\n",
    "\n",
    "# Provide searchable tags that define characteristics of the Runs that\n",
    "# will be in this Experiment\n",
    "experiment_tags = {\n",
    "    \"project_name\": \"driver-behavior-prediction\",\n",
    "    \"mlflow.note.content\": experiment_description,\n",
    "}\n",
    "\n",
    "# Create the Experiment, providing a unique name\n",
    "try:\n",
    "    driver_behavior_experiment = client.create_experiment(\n",
    "        name=\"UAH_CARLA_LLM_100\", tags=experiment_tags\n",
    "    )\n",
    "except mlflow.exceptions.RestException as e:\n",
    "    print(f\"Experiment already exists: {e}\")"
   ]
  },
  {
   "cell_type": "code",
   "execution_count": 92,
   "id": "37800614",
   "metadata": {},
   "outputs": [],
   "source": [
    "X_train, y_train = X_carla_uah_llm_100, y_carla_uah_llm_100\n",
    "\n",
    "scaler = StandardScaler()\n",
    "X_train = scaler.fit_transform(X_train)\n",
    "X_val = scaler.transform(X_val_base)\n",
    "y_train = preprocessor.one_hot_encode(y_train, one_hot_keys=one_hot_keys)\n",
    "\n",
    "signature = infer_signature(X_train, y_train)\n",
    "mlflow.set_experiment('UAH_CARLA_LLM_100')\n",
    "data_name = 'UAH_CARLA_LLM_100'"
   ]
  },
  {
   "cell_type": "code",
   "execution_count": 93,
   "id": "41b6eda1",
   "metadata": {},
   "outputs": [
    {
     "name": "stdout",
     "output_type": "stream",
     "text": [
      "This will run 5 trials to find optimal hyperparameters...\n",
      "Params: {'max_depth': 10, 'n_estimators': 20, 'random_state': 42}\n",
      "🏃 View run RandomForestClassifier_{'max_depth': 10, 'n_estimators': 20, 'random_state': 42} at: http://127.0.0.1:8080/#/experiments/675359111727688253/runs/40558a5eaf0e4c0a8ba5eddfb22ce234\n",
      "\n",
      "🧪 View experiment at: http://127.0.0.1:8080/#/experiments/675359111727688253\n",
      "\n",
      "Params: {'max_depth': 50, 'n_estimators': 100, 'random_state': 42}              \n",
      "🏃 View run RandomForestClassifier_{'max_depth': 50, 'n_estimators': 100, 'random_state': 42} at: http://127.0.0.1:8080/#/experiments/675359111727688253/runs/6a9d00f5fb0047e897995eba91e56d4c\n",
      "\n",
      "🧪 View experiment at: http://127.0.0.1:8080/#/experiments/675359111727688253   \n",
      "\n",
      "Params: {'max_depth': 50, 'n_estimators': 50, 'random_state': 42}               \n",
      "🏃 View run RandomForestClassifier_{'max_depth': 50, 'n_estimators': 50, 'random_state': 42} at: http://127.0.0.1:8080/#/experiments/675359111727688253/runs/740532a3f97a4f18bed65f394865f6a1\n",
      "\n",
      "🧪 View experiment at: http://127.0.0.1:8080/#/experiments/675359111727688253   \n",
      "\n",
      "Params: {'max_depth': 5, 'n_estimators': 200, 'random_state': 42}               \n",
      "🏃 View run RandomForestClassifier_{'max_depth': 5, 'n_estimators': 200, 'random_state': 42} at: http://127.0.0.1:8080/#/experiments/675359111727688253/runs/5a8cdea88d574c2fb449a42fcc7c8301\n",
      "\n",
      "🧪 View experiment at: http://127.0.0.1:8080/#/experiments/675359111727688253   \n",
      "\n",
      "Params: {'max_depth': 5, 'n_estimators': 20, 'random_state': 42}                \n",
      "🏃 View run RandomForestClassifier_{'max_depth': 5, 'n_estimators': 20, 'random_state': 42} at: http://127.0.0.1:8080/#/experiments/675359111727688253/runs/74485b8644a84b1ca6bb6b1237704fff\n",
      "\n",
      "🧪 View experiment at: http://127.0.0.1:8080/#/experiments/675359111727688253   \n",
      "\n",
      "100%|██████████| 5/5 [00:36<00:00,  7.36s/trial, best loss: -0.6159722601063389]\n",
      "🏃 View run rf-sweep at: http://127.0.0.1:8080/#/experiments/675359111727688253/runs/11b6d53ec4964832a2d40d1518e5583a\n",
      "🧪 View experiment at: http://127.0.0.1:8080/#/experiments/675359111727688253\n",
      "This will run 5 trials to find optimal hyperparameters...\n",
      "Params: {'C': 0.5, 'gamma': 0.01, 'kernel': 'rbf'}   \n",
      "🏃 View run SVC_{'C': 0.5, 'gamma': 0.01, 'kernel': 'rbf'} at: http://127.0.0.1:8080/#/experiments/675359111727688253/runs/1d630c4a936940cb84a3486d7226a30c\n",
      "\n",
      "🧪 View experiment at: http://127.0.0.1:8080/#/experiments/675359111727688253\n",
      "\n",
      "Params: {'C': 0.1, 'gamma': 1, 'kernel': 'rbf'}                                 \n",
      " 20%|██        | 1/5 [00:29<01:56, 29.16s/trial, best loss: -0.5505765806815558]"
     ]
    },
    {
     "name": "stderr",
     "output_type": "stream",
     "text": [
      "/home/renan/miniconda3/lib/python3.12/site-packages/sklearn/metrics/_classification.py:1565: UndefinedMetricWarning: Precision is ill-defined and being set to 0.0 in labels with no predicted samples. Use `zero_division` parameter to control this behavior.\n",
      "  _warn_prf(average, modifier, f\"{metric.capitalize()} is\", len(result))\n",
      "\n"
     ]
    },
    {
     "name": "stdout",
     "output_type": "stream",
     "text": [
      "🏃 View run SVC_{'C': 0.1, 'gamma': 1, 'kernel': 'rbf'} at: http://127.0.0.1:8080/#/experiments/675359111727688253/runs/dc3d44f1e11e4250a80a59ac9b5ae36f\n",
      "\n",
      "🧪 View experiment at: http://127.0.0.1:8080/#/experiments/675359111727688253   \n",
      "\n",
      "Params: {'C': 1, 'gamma': 0.01, 'kernel': 'rbf'}                                \n",
      "🏃 View run SVC_{'C': 1, 'gamma': 0.01, 'kernel': 'rbf'} at: http://127.0.0.1:8080/#/experiments/675359111727688253/runs/f55161bee0074ef9b3d7b8994e359e9d\n",
      "\n",
      "🧪 View experiment at: http://127.0.0.1:8080/#/experiments/675359111727688253   \n",
      "\n",
      "Params: {'C': 1, 'gamma': 0.1, 'kernel': 'rbf'}                                 \n",
      "🏃 View run SVC_{'C': 1, 'gamma': 0.1, 'kernel': 'rbf'} at: http://127.0.0.1:8080/#/experiments/675359111727688253/runs/8c8ec2a72cb746e6ba527915bfa0e965\n",
      "\n",
      "🧪 View experiment at: http://127.0.0.1:8080/#/experiments/675359111727688253   \n",
      "\n",
      "Params: {'C': 0.5, 'gamma': 0.01, 'kernel': 'rbf'}                              \n",
      "🏃 View run SVC_{'C': 0.5, 'gamma': 0.01, 'kernel': 'rbf'} at: http://127.0.0.1:8080/#/experiments/675359111727688253/runs/a36d9a32bef24bdcaae5a55774fd453b\n",
      "\n",
      "🧪 View experiment at: http://127.0.0.1:8080/#/experiments/675359111727688253   \n",
      "\n",
      "100%|██████████| 5/5 [04:59<00:00, 59.90s/trial, best loss: -0.6017299600513725]\n",
      "🏃 View run svc-sweep at: http://127.0.0.1:8080/#/experiments/675359111727688253/runs/1849b6550b254838825bd4f731e8c902\n",
      "🧪 View experiment at: http://127.0.0.1:8080/#/experiments/675359111727688253\n",
      "This will run 5 trials to find optimal hyperparameters...\n",
      "Params: {'C': 1}                                     \n",
      "🏃 View run LinearSVC_{'C': 1} at: http://127.0.0.1:8080/#/experiments/675359111727688253/runs/f0b77e42e3b4482d814405a0d3ef0293\n",
      "\n",
      "🧪 View experiment at: http://127.0.0.1:8080/#/experiments/675359111727688253\n",
      "\n",
      "Params: {'C': 0.0001}                                                           \n",
      "🏃 View run LinearSVC_{'C': 0.0001} at: http://127.0.0.1:8080/#/experiments/675359111727688253/runs/60a68c04dff34b049c88a907a1a198a0\n",
      "\n",
      "🧪 View experiment at: http://127.0.0.1:8080/#/experiments/675359111727688253   \n",
      "\n",
      "Params: {'C': 1}                                                                 \n",
      "🏃 View run LinearSVC_{'C': 1} at: http://127.0.0.1:8080/#/experiments/675359111727688253/runs/899e8d3d3e3a4e72ae9b2c163593fd3a\n",
      "\n",
      "🧪 View experiment at: http://127.0.0.1:8080/#/experiments/675359111727688253    \n",
      "\n",
      "Params: {'C': 0.1}                                                               \n",
      "🏃 View run LinearSVC_{'C': 0.1} at: http://127.0.0.1:8080/#/experiments/675359111727688253/runs/e8a7f58981234eebb373d7748d2d5057\n",
      "\n",
      "🧪 View experiment at: http://127.0.0.1:8080/#/experiments/675359111727688253    \n",
      "\n",
      "Params: {'C': 0.001}                                                             \n",
      "🏃 View run LinearSVC_{'C': 0.001} at: http://127.0.0.1:8080/#/experiments/675359111727688253/runs/5bc5d3aeb3884fe194669ef2487d8303\n",
      "\n",
      "🧪 View experiment at: http://127.0.0.1:8080/#/experiments/675359111727688253    \n",
      "\n",
      "100%|██████████| 5/5 [00:11<00:00,  2.31s/trial, best loss: -0.49202324395568425]\n",
      "🏃 View run svc-linear-sweep at: http://127.0.0.1:8080/#/experiments/675359111727688253/runs/c3387217d98e42d0a04f0ed2b2881165\n",
      "🧪 View experiment at: http://127.0.0.1:8080/#/experiments/675359111727688253\n",
      "This will run 5 trials to find optimal hyperparameters...\n",
      "Params: {'colsample_bytree': 0.7, 'learning_rate': 0.2, 'max_depth': 5, 'n_estimators': 700, 'subsample': 0.7}\n",
      "🏃 View run XGBClassifier_{'colsample_bytree': 0.7, 'learning_rate': 0.2, 'max_depth': 5, 'n_estimators': 700, 'subsample': 0.7} at: http://127.0.0.1:8080/#/experiments/675359111727688253/runs/c3e24e5ba84644d5b861745596f2bced\n",
      "\n",
      "🧪 View experiment at: http://127.0.0.1:8080/#/experiments/675359111727688253\n",
      "\n",
      "Params: {'colsample_bytree': 1.0, 'learning_rate': 0.3, 'max_depth': 5, 'n_estimators': 500, 'subsample': 0.7}\n",
      "🏃 View run XGBClassifier_{'colsample_bytree': 1.0, 'learning_rate': 0.3, 'max_depth': 5, 'n_estimators': 500, 'subsample': 0.7} at: http://127.0.0.1:8080/#/experiments/675359111727688253/runs/41028dc0ed684435a681e9547d17f5dd\n",
      "\n",
      "🧪 View experiment at: http://127.0.0.1:8080/#/experiments/675359111727688253   \n",
      "\n",
      "Params: {'colsample_bytree': 0.7, 'learning_rate': 0.2, 'max_depth': 5, 'n_estimators': 500, 'subsample': 1.0}\n",
      "🏃 View run XGBClassifier_{'colsample_bytree': 0.7, 'learning_rate': 0.2, 'max_depth': 5, 'n_estimators': 500, 'subsample': 1.0} at: http://127.0.0.1:8080/#/experiments/675359111727688253/runs/66049669174f4b69b8a66211651ba5be\n",
      "\n",
      "🧪 View experiment at: http://127.0.0.1:8080/#/experiments/675359111727688253   \n",
      "\n",
      "Params: {'colsample_bytree': 1.0, 'learning_rate': 0.1, 'max_depth': None, 'n_estimators': 500, 'subsample': 0.7}\n",
      "🏃 View run XGBClassifier_{'colsample_bytree': 1.0, 'learning_rate': 0.1, 'max_depth': None, 'n_estimators': 500, 'subsample': 0.7} at: http://127.0.0.1:8080/#/experiments/675359111727688253/runs/baa0a2c2b32f4abfae81d10c4ebb8d15\n",
      "\n",
      "🧪 View experiment at: http://127.0.0.1:8080/#/experiments/675359111727688253   \n",
      "\n",
      "Params: {'colsample_bytree': 0.7, 'learning_rate': 0.1, 'max_depth': 5, 'n_estimators': 1000, 'subsample': 1.0}\n",
      "🏃 View run XGBClassifier_{'colsample_bytree': 0.7, 'learning_rate': 0.1, 'max_depth': 5, 'n_estimators': 1000, 'subsample': 1.0} at: http://127.0.0.1:8080/#/experiments/675359111727688253/runs/4d72ae044d2445e8910a7a19a96ec546\n",
      "\n",
      "🧪 View experiment at: http://127.0.0.1:8080/#/experiments/675359111727688253   \n",
      "\n",
      "100%|██████████| 5/5 [00:32<00:00,  6.57s/trial, best loss: -0.6307425496066555]\n",
      "🏃 View run xgb-sweep at: http://127.0.0.1:8080/#/experiments/675359111727688253/runs/9d36b21fb68d491fb75faa1cd9315024\n",
      "🧪 View experiment at: http://127.0.0.1:8080/#/experiments/675359111727688253\n"
     ]
    },
    {
     "data": {
      "text/plain": [
       "0.6307425496066555"
      ]
     },
     "execution_count": 93,
     "metadata": {},
     "output_type": "execute_result"
    }
   ],
   "source": [
    "model = RandomForestClassifier\n",
    "run_experiments('rf-sweep', max_evals=max_evals, search_space=search_space_rf, data_name=data_name, model_name = 'RandomForestClassifier', features_names=columns_to_keep)\n",
    "model = SVC\n",
    "run_experiments('svc-sweep', max_evals=max_evals, search_space=search_space_svc, data_name=data_name, model_name = 'SVC', features_names=columns_to_keep)\n",
    "model = LinearSVC\n",
    "run_experiments('svc-linear-sweep', max_evals=max_evals, search_space=search_space_svc_linear, data_name=data_name, model_name = 'LinearSVC', features_names=columns_to_keep)\n",
    "model = xgb.XGBClassifier\n",
    "run_experiments('xgb-sweep', max_evals=max_evals, search_space=search_space_xgb, data_name=data_name, model_name = 'XGBClassifier', features_names=columns_to_keep)"
   ]
  },
  {
   "cell_type": "markdown",
   "id": "adbd3157",
   "metadata": {},
   "source": [
    "## Real + CARLA (200%)"
   ]
  },
  {
   "cell_type": "markdown",
   "id": "9d450501",
   "metadata": {},
   "source": [
    "### Fixed"
   ]
  },
  {
   "cell_type": "code",
   "execution_count": 94,
   "id": "71eb2ef5",
   "metadata": {},
   "outputs": [],
   "source": [
    "# Provide an Experiment description that will appear in the UI\n",
    "experiment_description = (\n",
    "    \"Experiment to train models on the UAH + CARLA Fixed (200%) dataset.\"\n",
    ")\n",
    "\n",
    "# Provide searchable tags that define characteristics of the Runs that\n",
    "# will be in this Experiment\n",
    "experiment_tags = {\n",
    "    \"project_name\": \"driver-behavior-prediction\",\n",
    "    \"mlflow.note.content\": experiment_description,\n",
    "}\n",
    "\n",
    "# Create the Experiment, providing a unique name\n",
    "try:\n",
    "    driver_behavior_experiment = client.create_experiment(\n",
    "        name=\"UAH_CARLA_Fixed_200\", tags=experiment_tags\n",
    "    )\n",
    "except mlflow.exceptions.RestException as e:\n",
    "    print(f\"Experiment already exists: {e}\")"
   ]
  },
  {
   "cell_type": "code",
   "execution_count": 95,
   "id": "2b4d2757",
   "metadata": {},
   "outputs": [],
   "source": [
    "X_train, y_train = X_carla_uah_fixed_200, y_carla_uah_fixed_200\n",
    "\n",
    "scaler = StandardScaler()\n",
    "X_train = scaler.fit_transform(X_train)\n",
    "X_val = scaler.transform(X_val_base)\n",
    "y_train = preprocessor.one_hot_encode(y_train, one_hot_keys=one_hot_keys)\n",
    "\n",
    "signature = infer_signature(X_train, y_train)\n",
    "mlflow.set_experiment('UAH_CARLA_Fixed_200')\n",
    "data_name = 'UAH_CARLA_Fixed_200'"
   ]
  },
  {
   "cell_type": "code",
   "execution_count": 96,
   "id": "f6b7cfb0",
   "metadata": {},
   "outputs": [
    {
     "name": "stdout",
     "output_type": "stream",
     "text": [
      "This will run 5 trials to find optimal hyperparameters...\n",
      "Params: {'max_depth': 20, 'n_estimators': 200, 'random_state': 42}\n",
      "🏃 View run RandomForestClassifier_{'max_depth': 20, 'n_estimators': 200, 'random_state': 42} at: http://127.0.0.1:8080/#/experiments/546702269774404393/runs/7125281f8cee45e598504951bd8d271c\n",
      "\n",
      "🧪 View experiment at: http://127.0.0.1:8080/#/experiments/546702269774404393\n",
      "\n",
      "Params: {'max_depth': 10, 'n_estimators': 500, 'random_state': 42}             \n",
      "🏃 View run RandomForestClassifier_{'max_depth': 10, 'n_estimators': 500, 'random_state': 42} at: http://127.0.0.1:8080/#/experiments/546702269774404393/runs/2da525fddd954db38a9a37d467fe3b37\n",
      "\n",
      "🧪 View experiment at: http://127.0.0.1:8080/#/experiments/546702269774404393  \n",
      "\n",
      "Params: {'max_depth': 10, 'n_estimators': 20, 'random_state': 42}              \n",
      "🏃 View run RandomForestClassifier_{'max_depth': 10, 'n_estimators': 20, 'random_state': 42} at: http://127.0.0.1:8080/#/experiments/546702269774404393/runs/8726e387123049abb28f8877719287b7\n",
      "\n",
      "🧪 View experiment at: http://127.0.0.1:8080/#/experiments/546702269774404393  \n",
      "\n",
      "Params: {'max_depth': 50, 'n_estimators': 500, 'random_state': 42}             \n",
      "🏃 View run RandomForestClassifier_{'max_depth': 50, 'n_estimators': 500, 'random_state': 42} at: http://127.0.0.1:8080/#/experiments/546702269774404393/runs/472a95e650d64f9e981ffecf82710d99\n",
      "\n",
      "🧪 View experiment at: http://127.0.0.1:8080/#/experiments/546702269774404393  \n",
      "\n",
      "Params: {'max_depth': 50, 'n_estimators': 20, 'random_state': 42}              \n",
      "🏃 View run RandomForestClassifier_{'max_depth': 50, 'n_estimators': 20, 'random_state': 42} at: http://127.0.0.1:8080/#/experiments/546702269774404393/runs/b0e690a662e645af8129b6f656359b3e\n",
      "\n",
      "🧪 View experiment at: http://127.0.0.1:8080/#/experiments/546702269774404393  \n",
      "\n",
      "100%|██████████| 5/5 [02:26<00:00, 29.27s/trial, best loss: -0.638067708023146]\n",
      "🏃 View run rf-sweep at: http://127.0.0.1:8080/#/experiments/546702269774404393/runs/bca4152b769c496eb948d49d7b933943\n",
      "🧪 View experiment at: http://127.0.0.1:8080/#/experiments/546702269774404393\n",
      "This will run 5 trials to find optimal hyperparameters...\n",
      "Params: {'C': 0.05, 'gamma': 0.1, 'kernel': 'rbf'}   \n",
      "  0%|          | 0/5 [00:00<?, ?trial/s, best loss=?]"
     ]
    },
    {
     "name": "stderr",
     "output_type": "stream",
     "text": [
      "/home/renan/miniconda3/lib/python3.12/site-packages/sklearn/metrics/_classification.py:1565: UndefinedMetricWarning: Precision is ill-defined and being set to 0.0 in labels with no predicted samples. Use `zero_division` parameter to control this behavior.\n",
      "  _warn_prf(average, modifier, f\"{metric.capitalize()} is\", len(result))\n",
      "\n"
     ]
    },
    {
     "name": "stdout",
     "output_type": "stream",
     "text": [
      "🏃 View run SVC_{'C': 0.05, 'gamma': 0.1, 'kernel': 'rbf'} at: http://127.0.0.1:8080/#/experiments/546702269774404393/runs/4b47405b2a214780982f3d1264d5dec0\n",
      "\n",
      "🧪 View experiment at: http://127.0.0.1:8080/#/experiments/546702269774404393\n",
      "\n",
      "Params: {'C': 1, 'gamma': 1, 'kernel': 'rbf'}                                   \n",
      " 20%|██        | 1/5 [00:39<02:36, 39.22s/trial, best loss: -0.3335592240143389]"
     ]
    },
    {
     "name": "stderr",
     "output_type": "stream",
     "text": [
      "/home/renan/miniconda3/lib/python3.12/site-packages/sklearn/metrics/_classification.py:1565: UndefinedMetricWarning: Precision is ill-defined and being set to 0.0 in labels with no predicted samples. Use `zero_division` parameter to control this behavior.\n",
      "  _warn_prf(average, modifier, f\"{metric.capitalize()} is\", len(result))\n",
      "\n"
     ]
    },
    {
     "name": "stdout",
     "output_type": "stream",
     "text": [
      "🏃 View run SVC_{'C': 1, 'gamma': 1, 'kernel': 'rbf'} at: http://127.0.0.1:8080/#/experiments/546702269774404393/runs/ac9e5fc6e52a46d1b5b538a91b45b902\n",
      "\n",
      "🧪 View experiment at: http://127.0.0.1:8080/#/experiments/546702269774404393   \n",
      "\n",
      "Params: {'C': 0.5, 'gamma': 10, 'kernel': 'rbf'}                                \n",
      " 40%|████      | 2/5 [02:38<04:19, 86.44s/trial, best loss: -0.3335592240143389]"
     ]
    },
    {
     "name": "stderr",
     "output_type": "stream",
     "text": [
      "/home/renan/miniconda3/lib/python3.12/site-packages/sklearn/metrics/_classification.py:1565: UndefinedMetricWarning: Precision is ill-defined and being set to 0.0 in labels with no predicted samples. Use `zero_division` parameter to control this behavior.\n",
      "  _warn_prf(average, modifier, f\"{metric.capitalize()} is\", len(result))\n",
      "\n"
     ]
    },
    {
     "name": "stdout",
     "output_type": "stream",
     "text": [
      "🏃 View run SVC_{'C': 0.5, 'gamma': 10, 'kernel': 'rbf'} at: http://127.0.0.1:8080/#/experiments/546702269774404393/runs/115ddea13dfb49b782e5b604031c63c9\n",
      "\n",
      "🧪 View experiment at: http://127.0.0.1:8080/#/experiments/546702269774404393   \n",
      "\n",
      "Params: {'C': 0.01, 'gamma': 0.1, 'kernel': 'rbf'}                               \n",
      " 60%|██████    | 3/5 [04:44<03:28, 104.43s/trial, best loss: -0.3335592240143389]"
     ]
    },
    {
     "name": "stderr",
     "output_type": "stream",
     "text": [
      "/home/renan/miniconda3/lib/python3.12/site-packages/sklearn/metrics/_classification.py:1565: UndefinedMetricWarning: Precision is ill-defined and being set to 0.0 in labels with no predicted samples. Use `zero_division` parameter to control this behavior.\n",
      "  _warn_prf(average, modifier, f\"{metric.capitalize()} is\", len(result))\n",
      "\n"
     ]
    },
    {
     "name": "stdout",
     "output_type": "stream",
     "text": [
      "🏃 View run SVC_{'C': 0.01, 'gamma': 0.1, 'kernel': 'rbf'} at: http://127.0.0.1:8080/#/experiments/546702269774404393/runs/59393e2c048b4d78904643af5580e780\n",
      "\n",
      "🧪 View experiment at: http://127.0.0.1:8080/#/experiments/546702269774404393    \n",
      "\n",
      "Params: {'C': 0.5, 'gamma': 10, 'kernel': 'rbf'}                                 \n",
      " 80%|████████  | 4/5 [05:23<01:18, 78.56s/trial, best loss: -0.3335592240143389]"
     ]
    },
    {
     "name": "stderr",
     "output_type": "stream",
     "text": [
      "/home/renan/miniconda3/lib/python3.12/site-packages/sklearn/metrics/_classification.py:1565: UndefinedMetricWarning: Precision is ill-defined and being set to 0.0 in labels with no predicted samples. Use `zero_division` parameter to control this behavior.\n",
      "  _warn_prf(average, modifier, f\"{metric.capitalize()} is\", len(result))\n",
      "\n"
     ]
    },
    {
     "name": "stdout",
     "output_type": "stream",
     "text": [
      "🏃 View run SVC_{'C': 0.5, 'gamma': 10, 'kernel': 'rbf'} at: http://127.0.0.1:8080/#/experiments/546702269774404393/runs/640edaecf9a7411eb9864ee7e2208bf0\n",
      "\n",
      "🧪 View experiment at: http://127.0.0.1:8080/#/experiments/546702269774404393   \n",
      "\n",
      "100%|██████████| 5/5 [07:28<00:00, 89.77s/trial, best loss: -0.3335592240143389]\n",
      "🏃 View run svc-sweep at: http://127.0.0.1:8080/#/experiments/546702269774404393/runs/5366ed52312b446aa92474891b4b5493\n",
      "🧪 View experiment at: http://127.0.0.1:8080/#/experiments/546702269774404393\n",
      "This will run 5 trials to find optimal hyperparameters...\n",
      "Params: {'C': 0.0001}                                \n",
      "🏃 View run LinearSVC_{'C': 0.0001} at: http://127.0.0.1:8080/#/experiments/546702269774404393/runs/43a6c9df61d04659a1b34c6e1303e1cc\n",
      "\n",
      "🧪 View experiment at: http://127.0.0.1:8080/#/experiments/546702269774404393\n",
      "\n",
      "Params: {'C': 0.1}                                                               \n",
      "🏃 View run LinearSVC_{'C': 0.1} at: http://127.0.0.1:8080/#/experiments/546702269774404393/runs/bfb9e4c4e91e4e288865e2f9d42e1532\n",
      "\n",
      "🧪 View experiment at: http://127.0.0.1:8080/#/experiments/546702269774404393    \n",
      "\n",
      "Params: {'C': 0.01}                                                              \n",
      "🏃 View run LinearSVC_{'C': 0.01} at: http://127.0.0.1:8080/#/experiments/546702269774404393/runs/5a7d92284e754f41ba38015ef20bd5bf\n",
      "\n",
      "🧪 View experiment at: http://127.0.0.1:8080/#/experiments/546702269774404393    \n",
      "\n",
      "Params: {'C': 0.001}                                                             \n",
      "🏃 View run LinearSVC_{'C': 0.001} at: http://127.0.0.1:8080/#/experiments/546702269774404393/runs/2f44cfbfb1f9456483c4d02a7fa3266f\n",
      "\n",
      "🧪 View experiment at: http://127.0.0.1:8080/#/experiments/546702269774404393    \n",
      "\n",
      "Params: {'C': 0.1}                                                               \n",
      "🏃 View run LinearSVC_{'C': 0.1} at: http://127.0.0.1:8080/#/experiments/546702269774404393/runs/da13313e3f59435ab854f21c173aeed4\n",
      "\n",
      "🧪 View experiment at: http://127.0.0.1:8080/#/experiments/546702269774404393    \n",
      "\n",
      "100%|██████████| 5/5 [00:10<00:00,  2.17s/trial, best loss: -0.49202324395568425]\n",
      "🏃 View run svc-linear-sweep at: http://127.0.0.1:8080/#/experiments/546702269774404393/runs/09ae6562d0da4c6a80e812cfee20e81c\n",
      "🧪 View experiment at: http://127.0.0.1:8080/#/experiments/546702269774404393\n",
      "This will run 5 trials to find optimal hyperparameters...\n",
      "Params: {'colsample_bytree': 0.5, 'learning_rate': 0.2, 'max_depth': 5, 'n_estimators': 200, 'subsample': 1.0}\n",
      "🏃 View run XGBClassifier_{'colsample_bytree': 0.5, 'learning_rate': 0.2, 'max_depth': 5, 'n_estimators': 200, 'subsample': 1.0} at: http://127.0.0.1:8080/#/experiments/546702269774404393/runs/36e010e02d5143d9905def314ddb52a4\n",
      "\n",
      "🧪 View experiment at: http://127.0.0.1:8080/#/experiments/546702269774404393\n",
      "\n",
      "Params: {'colsample_bytree': 0.7, 'learning_rate': 0.3, 'max_depth': 5, 'n_estimators': 700, 'subsample': 0.7}\n",
      "🏃 View run XGBClassifier_{'colsample_bytree': 0.7, 'learning_rate': 0.3, 'max_depth': 5, 'n_estimators': 700, 'subsample': 0.7} at: http://127.0.0.1:8080/#/experiments/546702269774404393/runs/6dd6564fecd544ab843053cf602909a1\n",
      "\n",
      "🧪 View experiment at: http://127.0.0.1:8080/#/experiments/546702269774404393   \n",
      "\n",
      "Params: {'colsample_bytree': 1.0, 'learning_rate': 0.01, 'max_depth': 5, 'n_estimators': 200, 'subsample': 0.7}\n",
      "🏃 View run XGBClassifier_{'colsample_bytree': 1.0, 'learning_rate': 0.01, 'max_depth': 5, 'n_estimators': 200, 'subsample': 0.7} at: http://127.0.0.1:8080/#/experiments/546702269774404393/runs/e038a566657d43be9701d42122a57f30\n",
      "\n",
      "🧪 View experiment at: http://127.0.0.1:8080/#/experiments/546702269774404393   \n",
      "\n",
      "Params: {'colsample_bytree': 1.0, 'learning_rate': 0.2, 'max_depth': 10, 'n_estimators': 200, 'subsample': 1.0}\n",
      "🏃 View run XGBClassifier_{'colsample_bytree': 1.0, 'learning_rate': 0.2, 'max_depth': 10, 'n_estimators': 200, 'subsample': 1.0} at: http://127.0.0.1:8080/#/experiments/546702269774404393/runs/2c878f7694664cc588005d946942085f\n",
      "\n",
      "🧪 View experiment at: http://127.0.0.1:8080/#/experiments/546702269774404393   \n",
      "\n",
      "Params: {'colsample_bytree': 1.0, 'learning_rate': 0.1, 'max_depth': 5, 'n_estimators': 200, 'subsample': 1.0}\n",
      "🏃 View run XGBClassifier_{'colsample_bytree': 1.0, 'learning_rate': 0.1, 'max_depth': 5, 'n_estimators': 200, 'subsample': 1.0} at: http://127.0.0.1:8080/#/experiments/546702269774404393/runs/f1a159ba7d8247bebc0c2c9ace441c94\n",
      "\n",
      "🧪 View experiment at: http://127.0.0.1:8080/#/experiments/546702269774404393   \n",
      "\n",
      "100%|██████████| 5/5 [00:23<00:00,  4.62s/trial, best loss: -0.6614890985565772]\n",
      "🏃 View run xgb-sweep at: http://127.0.0.1:8080/#/experiments/546702269774404393/runs/a3458cfdc6494a4b8c741cb49b8647c8\n",
      "🧪 View experiment at: http://127.0.0.1:8080/#/experiments/546702269774404393\n"
     ]
    },
    {
     "data": {
      "text/plain": [
       "0.6614890985565772"
      ]
     },
     "execution_count": 96,
     "metadata": {},
     "output_type": "execute_result"
    }
   ],
   "source": [
    "model = RandomForestClassifier\n",
    "run_experiments('rf-sweep', max_evals=max_evals, search_space=search_space_rf, data_name=data_name, model_name = 'RandomForestClassifier', features_names=columns_to_keep)\n",
    "model = SVC\n",
    "run_experiments('svc-sweep', max_evals=max_evals, search_space=search_space_svc, data_name=data_name, model_name = 'SVC', features_names=columns_to_keep)\n",
    "model = LinearSVC\n",
    "run_experiments('svc-linear-sweep', max_evals=max_evals, search_space=search_space_svc_linear, data_name=data_name, model_name = 'LinearSVC', features_names=columns_to_keep)\n",
    "model = xgb.XGBClassifier\n",
    "run_experiments('xgb-sweep', max_evals=max_evals, search_space=search_space_xgb, data_name=data_name, model_name = 'XGBClassifier', features_names=columns_to_keep)"
   ]
  },
  {
   "cell_type": "markdown",
   "id": "953ef358",
   "metadata": {},
   "source": [
    "### LLM"
   ]
  },
  {
   "cell_type": "code",
   "execution_count": 97,
   "id": "2d706fcb",
   "metadata": {},
   "outputs": [],
   "source": [
    "# Provide an Experiment description that will appear in the UI\n",
    "experiment_description = (\n",
    "    \"Experiment to train models on the UAH + CARLA LLM (200%) dataset.\"\n",
    ")\n",
    "\n",
    "# Provide searchable tags that define characteristics of the Runs that\n",
    "# will be in this Experiment\n",
    "experiment_tags = {\n",
    "    \"project_name\": \"driver-behavior-prediction\",\n",
    "    \"mlflow.note.content\": experiment_description,\n",
    "}\n",
    "\n",
    "# Create the Experiment, providing a unique name\n",
    "try:\n",
    "    driver_behavior_experiment = client.create_experiment(\n",
    "        name=\"UAH_CARLA_LLM_200\", tags=experiment_tags\n",
    "    )\n",
    "except mlflow.exceptions.RestException as e:\n",
    "    print(f\"Experiment already exists: {e}\")"
   ]
  },
  {
   "cell_type": "code",
   "execution_count": 98,
   "id": "6ce88d00",
   "metadata": {},
   "outputs": [],
   "source": [
    "X_train, y_train = X_carla_uah_llm_200, y_carla_uah_llm_200\n",
    "\n",
    "scaler = StandardScaler()\n",
    "X_train = scaler.fit_transform(X_train)\n",
    "X_val = scaler.transform(X_val_base)\n",
    "y_train = preprocessor.one_hot_encode(y_train, one_hot_keys=one_hot_keys)\n",
    "\n",
    "signature = infer_signature(X_train, y_train)\n",
    "mlflow.set_experiment('UAH_CARLA_LLM_200')\n",
    "data_name = 'UAH_CARLA_LLM_200'"
   ]
  },
  {
   "cell_type": "code",
   "execution_count": 99,
   "id": "16ef477c",
   "metadata": {},
   "outputs": [
    {
     "name": "stdout",
     "output_type": "stream",
     "text": [
      "This will run 5 trials to find optimal hyperparameters...\n",
      "Params: {'max_depth': 50, 'n_estimators': 500, 'random_state': 42}\n",
      "🏃 View run RandomForestClassifier_{'max_depth': 50, 'n_estimators': 500, 'random_state': 42} at: http://127.0.0.1:8080/#/experiments/436338335100580646/runs/74f621494537404da460aebf5777d988\n",
      "\n",
      "🧪 View experiment at: http://127.0.0.1:8080/#/experiments/436338335100580646\n",
      "\n",
      "Params: {'max_depth': 50, 'n_estimators': 20, 'random_state': 42}               \n",
      "🏃 View run RandomForestClassifier_{'max_depth': 50, 'n_estimators': 20, 'random_state': 42} at: http://127.0.0.1:8080/#/experiments/436338335100580646/runs/126515fa14a241d48dd3a1cc66718889\n",
      "\n",
      "🧪 View experiment at: http://127.0.0.1:8080/#/experiments/436338335100580646   \n",
      "\n",
      "Params: {'max_depth': 5, 'n_estimators': 100, 'random_state': 42}               \n",
      "🏃 View run RandomForestClassifier_{'max_depth': 5, 'n_estimators': 100, 'random_state': 42} at: http://127.0.0.1:8080/#/experiments/436338335100580646/runs/5e7a5199de55422f88273835484e7c46\n",
      "\n",
      "🧪 View experiment at: http://127.0.0.1:8080/#/experiments/436338335100580646   \n",
      "\n",
      "Params: {'max_depth': 10, 'n_estimators': 50, 'random_state': 42}               \n",
      "🏃 View run RandomForestClassifier_{'max_depth': 10, 'n_estimators': 50, 'random_state': 42} at: http://127.0.0.1:8080/#/experiments/436338335100580646/runs/376ca81028eb42d2914d92c4df596b5d\n",
      "\n",
      "🧪 View experiment at: http://127.0.0.1:8080/#/experiments/436338335100580646   \n",
      "\n",
      "Params: {'max_depth': 10, 'n_estimators': 100, 'random_state': 42}              \n",
      "🏃 View run RandomForestClassifier_{'max_depth': 10, 'n_estimators': 100, 'random_state': 42} at: http://127.0.0.1:8080/#/experiments/436338335100580646/runs/6c5fa869a7924eb186429622ca28f2e2\n",
      "\n",
      "🧪 View experiment at: http://127.0.0.1:8080/#/experiments/436338335100580646   \n",
      "\n",
      "100%|██████████| 5/5 [01:36<00:00, 19.20s/trial, best loss: -0.6209447515663004]\n",
      "🏃 View run rf-sweep at: http://127.0.0.1:8080/#/experiments/436338335100580646/runs/78e7b1c2e6794f959b28e648a7e8e868\n",
      "🧪 View experiment at: http://127.0.0.1:8080/#/experiments/436338335100580646\n",
      "This will run 5 trials to find optimal hyperparameters...\n",
      "Params: {'C': 0.05, 'gamma': 0.001, 'kernel': 'rbf'} \n",
      "🏃 View run SVC_{'C': 0.05, 'gamma': 0.001, 'kernel': 'rbf'} at: http://127.0.0.1:8080/#/experiments/436338335100580646/runs/1aaed2826d93440a95681f0e728410ad\n",
      "\n",
      "🧪 View experiment at: http://127.0.0.1:8080/#/experiments/436338335100580646\n",
      "\n",
      "Params: {'C': 0.01, 'gamma': 0.1, 'kernel': 'rbf'}                               \n",
      " 20%|██        | 1/5 [00:36<02:25, 36.35s/trial, best loss: -0.36957047928101716]"
     ]
    },
    {
     "name": "stderr",
     "output_type": "stream",
     "text": [
      "/home/renan/miniconda3/lib/python3.12/site-packages/sklearn/metrics/_classification.py:1565: UndefinedMetricWarning: Precision is ill-defined and being set to 0.0 in labels with no predicted samples. Use `zero_division` parameter to control this behavior.\n",
      "  _warn_prf(average, modifier, f\"{metric.capitalize()} is\", len(result))\n",
      "\n"
     ]
    },
    {
     "name": "stdout",
     "output_type": "stream",
     "text": [
      "🏃 View run SVC_{'C': 0.01, 'gamma': 0.1, 'kernel': 'rbf'} at: http://127.0.0.1:8080/#/experiments/436338335100580646/runs/eeecf9189ec34985a5aeaf01bd5f7504\n",
      "\n",
      "🧪 View experiment at: http://127.0.0.1:8080/#/experiments/436338335100580646    \n",
      "\n",
      "Params: {'C': 1, 'gamma': 0.01, 'kernel': 'rbf'}                                 \n",
      "🏃 View run SVC_{'C': 1, 'gamma': 0.01, 'kernel': 'rbf'} at: http://127.0.0.1:8080/#/experiments/436338335100580646/runs/28347e4571d143bcb54127b65c469f1a\n",
      "\n",
      "🧪 View experiment at: http://127.0.0.1:8080/#/experiments/436338335100580646    \n",
      "\n",
      "Params: {'C': 0.05, 'gamma': 0.1, 'kernel': 'rbf'}                               \n",
      " 60%|██████    | 3/5 [01:46<01:09, 34.70s/trial, best loss: -0.5626391037469958]"
     ]
    },
    {
     "name": "stderr",
     "output_type": "stream",
     "text": [
      "/home/renan/miniconda3/lib/python3.12/site-packages/sklearn/metrics/_classification.py:1565: UndefinedMetricWarning: Precision is ill-defined and being set to 0.0 in labels with no predicted samples. Use `zero_division` parameter to control this behavior.\n",
      "  _warn_prf(average, modifier, f\"{metric.capitalize()} is\", len(result))\n",
      "\n"
     ]
    },
    {
     "name": "stdout",
     "output_type": "stream",
     "text": [
      "🏃 View run SVC_{'C': 0.05, 'gamma': 0.1, 'kernel': 'rbf'} at: http://127.0.0.1:8080/#/experiments/436338335100580646/runs/4fa535e27bdd4ef999d4723a079c47f4\n",
      "\n",
      "🧪 View experiment at: http://127.0.0.1:8080/#/experiments/436338335100580646   \n",
      "\n",
      "Params: {'C': 0.05, 'gamma': 0.1, 'kernel': 'rbf'}                              \n",
      " 80%|████████  | 4/5 [02:24<00:36, 36.27s/trial, best loss: -0.5626391037469958]"
     ]
    },
    {
     "name": "stderr",
     "output_type": "stream",
     "text": [
      "/home/renan/miniconda3/lib/python3.12/site-packages/sklearn/metrics/_classification.py:1565: UndefinedMetricWarning: Precision is ill-defined and being set to 0.0 in labels with no predicted samples. Use `zero_division` parameter to control this behavior.\n",
      "  _warn_prf(average, modifier, f\"{metric.capitalize()} is\", len(result))\n",
      "\n"
     ]
    },
    {
     "name": "stdout",
     "output_type": "stream",
     "text": [
      "🏃 View run SVC_{'C': 0.05, 'gamma': 0.1, 'kernel': 'rbf'} at: http://127.0.0.1:8080/#/experiments/436338335100580646/runs/2880b23aeaaa443990c8602554f2b0b4\n",
      "\n",
      "🧪 View experiment at: http://127.0.0.1:8080/#/experiments/436338335100580646   \n",
      "\n",
      "100%|██████████| 5/5 [03:03<00:00, 36.75s/trial, best loss: -0.5626391037469958]\n",
      "🏃 View run svc-sweep at: http://127.0.0.1:8080/#/experiments/436338335100580646/runs/5cb9e6164c3e4fa58bcabf80e8f8882e\n",
      "🧪 View experiment at: http://127.0.0.1:8080/#/experiments/436338335100580646\n",
      "This will run 5 trials to find optimal hyperparameters...\n",
      "Params: {'C': 0.0001}                                \n",
      "🏃 View run LinearSVC_{'C': 0.0001} at: http://127.0.0.1:8080/#/experiments/436338335100580646/runs/a9407c08f3dc4f09bbe15a364cc19b63\n",
      "\n",
      "🧪 View experiment at: http://127.0.0.1:8080/#/experiments/436338335100580646\n",
      "\n",
      "Params: {'C': 0.0001}                                                            \n",
      "🏃 View run LinearSVC_{'C': 0.0001} at: http://127.0.0.1:8080/#/experiments/436338335100580646/runs/abba90ec217347d2b2cfccb78d056f45\n",
      "\n",
      "🧪 View experiment at: http://127.0.0.1:8080/#/experiments/436338335100580646    \n",
      "\n",
      "Params: {'C': 0.01}                                                              \n",
      "🏃 View run LinearSVC_{'C': 0.01} at: http://127.0.0.1:8080/#/experiments/436338335100580646/runs/5c63516e3a654b13ac4e0e5e9ae3395e\n",
      "\n",
      "🧪 View experiment at: http://127.0.0.1:8080/#/experiments/436338335100580646    \n",
      "\n",
      "Params: {'C': 1}                                                                 \n",
      "🏃 View run LinearSVC_{'C': 1} at: http://127.0.0.1:8080/#/experiments/436338335100580646/runs/fcbb55b6b69f4cd6adb6e457d95aca9d\n",
      "\n",
      "🧪 View experiment at: http://127.0.0.1:8080/#/experiments/436338335100580646    \n",
      "\n",
      "Params: {'C': 1}                                                                 \n",
      "🏃 View run LinearSVC_{'C': 1} at: http://127.0.0.1:8080/#/experiments/436338335100580646/runs/be72899951e1461580d1cf71e1e081c0\n",
      "\n",
      "🧪 View experiment at: http://127.0.0.1:8080/#/experiments/436338335100580646    \n",
      "\n",
      "100%|██████████| 5/5 [00:10<00:00,  2.19s/trial, best loss: -0.49202324395568425]\n",
      "🏃 View run svc-linear-sweep at: http://127.0.0.1:8080/#/experiments/436338335100580646/runs/72932f6e87914211941080c716bb0f59\n",
      "🧪 View experiment at: http://127.0.0.1:8080/#/experiments/436338335100580646\n",
      "This will run 5 trials to find optimal hyperparameters...\n",
      "Params: {'colsample_bytree': 0.7, 'learning_rate': 0.001, 'max_depth': 10, 'n_estimators': 500, 'subsample': 0.7}\n",
      "🏃 View run XGBClassifier_{'colsample_bytree': 0.7, 'learning_rate': 0.001, 'max_depth': 10, 'n_estimators': 500, 'subsample': 0.7} at: http://127.0.0.1:8080/#/experiments/436338335100580646/runs/c46d12fc64e24ecc937b51927dc79d1c\n",
      "\n",
      "🧪 View experiment at: http://127.0.0.1:8080/#/experiments/436338335100580646\n",
      "\n",
      "Params: {'colsample_bytree': 1.0, 'learning_rate': 0.01, 'max_depth': 10, 'n_estimators': 200, 'subsample': 0.7}\n",
      "🏃 View run XGBClassifier_{'colsample_bytree': 1.0, 'learning_rate': 0.01, 'max_depth': 10, 'n_estimators': 200, 'subsample': 0.7} at: http://127.0.0.1:8080/#/experiments/436338335100580646/runs/d495235943024ce8b15cb75b073b4f9e\n",
      "\n",
      "🧪 View experiment at: http://127.0.0.1:8080/#/experiments/436338335100580646   \n",
      "\n",
      "Params: {'colsample_bytree': 0.7, 'learning_rate': 0.1, 'max_depth': 10, 'n_estimators': 700, 'subsample': 0.5}\n",
      "🏃 View run XGBClassifier_{'colsample_bytree': 0.7, 'learning_rate': 0.1, 'max_depth': 10, 'n_estimators': 700, 'subsample': 0.5} at: http://127.0.0.1:8080/#/experiments/436338335100580646/runs/8c8f1523e37e409abaa01c1bdbf3b657\n",
      "\n",
      "🧪 View experiment at: http://127.0.0.1:8080/#/experiments/436338335100580646   \n",
      "\n",
      "Params: {'colsample_bytree': 0.5, 'learning_rate': 0.001, 'max_depth': 10, 'n_estimators': 1000, 'subsample': 0.5}\n",
      "🏃 View run XGBClassifier_{'colsample_bytree': 0.5, 'learning_rate': 0.001, 'max_depth': 10, 'n_estimators': 1000, 'subsample': 0.5} at: http://127.0.0.1:8080/#/experiments/436338335100580646/runs/cfb64ca3db94433093756690ab4750b0\n",
      "\n",
      "🧪 View experiment at: http://127.0.0.1:8080/#/experiments/436338335100580646   \n",
      "\n",
      "Params: {'colsample_bytree': 0.5, 'learning_rate': 0.2, 'max_depth': None, 'n_estimators': 200, 'subsample': 0.7}\n",
      "🏃 View run XGBClassifier_{'colsample_bytree': 0.5, 'learning_rate': 0.2, 'max_depth': None, 'n_estimators': 200, 'subsample': 0.7} at: http://127.0.0.1:8080/#/experiments/436338335100580646/runs/17c360c96bd94a26a9837a45a1515142\n",
      "\n",
      "🧪 View experiment at: http://127.0.0.1:8080/#/experiments/436338335100580646   \n",
      "\n",
      "100%|██████████| 5/5 [00:56<00:00, 11.40s/trial, best loss: -0.6193144075428976]\n",
      "🏃 View run xgb-sweep at: http://127.0.0.1:8080/#/experiments/436338335100580646/runs/a946aaf1e2764cf0ba5133a3bd151740\n",
      "🧪 View experiment at: http://127.0.0.1:8080/#/experiments/436338335100580646\n"
     ]
    },
    {
     "data": {
      "text/plain": [
       "0.6193144075428976"
      ]
     },
     "execution_count": 99,
     "metadata": {},
     "output_type": "execute_result"
    }
   ],
   "source": [
    "model = RandomForestClassifier\n",
    "run_experiments('rf-sweep', max_evals=max_evals, search_space=search_space_rf, data_name=data_name, model_name = 'RandomForestClassifier', features_names=columns_to_keep)\n",
    "model = SVC\n",
    "run_experiments('svc-sweep', max_evals=max_evals, search_space=search_space_svc, data_name=data_name, model_name = 'SVC', features_names=columns_to_keep)\n",
    "model = LinearSVC\n",
    "run_experiments('svc-linear-sweep', max_evals=max_evals, search_space=search_space_svc_linear, data_name=data_name, model_name = 'LinearSVC', features_names=columns_to_keep)\n",
    "model = xgb.XGBClassifier\n",
    "run_experiments('xgb-sweep', max_evals=max_evals, search_space=search_space_xgb, data_name=data_name, model_name = 'XGBClassifier', features_names=columns_to_keep)"
   ]
  }
 ],
 "metadata": {
  "kernelspec": {
   "display_name": "base",
   "language": "python",
   "name": "python3"
  },
  "language_info": {
   "codemirror_mode": {
    "name": "ipython",
    "version": 3
   },
   "file_extension": ".py",
   "mimetype": "text/x-python",
   "name": "python",
   "nbconvert_exporter": "python",
   "pygments_lexer": "ipython3",
   "version": "3.12.2"
  }
 },
 "nbformat": 4,
 "nbformat_minor": 5
}
