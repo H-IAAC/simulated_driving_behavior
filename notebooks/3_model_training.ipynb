{
 "cells": [
  {
   "cell_type": "code",
   "execution_count": null,
   "id": "bde80665",
   "metadata": {},
   "outputs": [],
   "source": [
    "import os\n",
    "\n",
    "import numpy as np\n",
    "import pandas as pd\n",
    "\n",
    "os.sys.path.append(os.path.abspath('../src'))\n",
    "from data import loader\n",
    "from data import preprocessor\n",
    "\n",
    "mapname = 'Town01'"
   ]
  },
  {
   "cell_type": "markdown",
   "id": "0189d712",
   "metadata": {},
   "source": [
    "### Running"
   ]
  },
  {
   "cell_type": "code",
   "execution_count": null,
   "id": "9e47e4a1",
   "metadata": {},
   "outputs": [],
   "source": [
    "carla_data, sumo_data = loader.load_synthetic_data(os.path.abspath(f'../data/synthetic/{mapname}'))\n",
    "drivers = ['D1', 'D2', 'D3', 'D4', 'D5'] # List of drivers to load\n",
    "uah_data = loader.read_data(drivers, os.path.abspath('../data/base/UAH-DRIVESET-v1'))"
   ]
  },
  {
   "cell_type": "code",
   "execution_count": 14,
   "id": "0b476baf",
   "metadata": {},
   "outputs": [],
   "source": [
    "merged_path = f'../data/merged/{mapname}'\n",
    "merged_sumo_uah, merged_carla_uah = loader.load_merged_data(merged_path)"
   ]
  },
  {
   "cell_type": "code",
   "execution_count": null,
   "id": "952cdd9c",
   "metadata": {},
   "outputs": [],
   "source": [
    "X_normal, Y_normal = preprocessor.sliding_windows(merged_sumo_uah['fixed']['normal'], 'normal', 10, 5)\n",
    "X_aggressive, Y_aggressive = preprocessor.sliding_windows(merged_sumo_uah['fixed']['aggressive'], 'aggressive', 10, 5)\n",
    "X = pd.concat([X_normal, X_aggressive], ignore_index=True)\n",
    "y = pd.concat([Y_normal, Y_aggressive], ignore_index=True)"
   ]
  },
  {
   "cell_type": "code",
   "execution_count": 29,
   "id": "20542362",
   "metadata": {},
   "outputs": [
    {
     "data": {
      "text/plain": [
       "(124919, 4)"
      ]
     },
     "execution_count": 29,
     "metadata": {},
     "output_type": "execute_result"
    }
   ],
   "source": [
    "merged_sumo_uah['fixed']['normal'].shape"
   ]
  },
  {
   "cell_type": "code",
   "execution_count": 27,
   "id": "dca64bd6",
   "metadata": {},
   "outputs": [
    {
     "data": {
      "text/plain": [
       "(24982, 40)"
      ]
     },
     "execution_count": 27,
     "metadata": {},
     "output_type": "execute_result"
    }
   ],
   "source": [
    "teste1.shape"
   ]
  },
  {
   "cell_type": "code",
   "execution_count": null,
   "id": "b6f806b0",
   "metadata": {},
   "outputs": [],
   "source": []
  }
 ],
 "metadata": {
  "kernelspec": {
   "display_name": "base",
   "language": "python",
   "name": "python3"
  },
  "language_info": {
   "codemirror_mode": {
    "name": "ipython",
    "version": 3
   },
   "file_extension": ".py",
   "mimetype": "text/x-python",
   "name": "python",
   "nbconvert_exporter": "python",
   "pygments_lexer": "ipython3",
   "version": "3.12.2"
  }
 },
 "nbformat": 4,
 "nbformat_minor": 5
}
