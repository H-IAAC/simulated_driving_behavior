{
 "cells": [
  {
   "cell_type": "markdown",
   "id": "0c33a879",
   "metadata": {},
   "source": [
    "This notebook is only for training the models with the best parametrs found in `3_model_training`. If you don't need the trained models, you can skip to `4_evaluation`."
   ]
  },
  {
   "cell_type": "code",
   "execution_count": 10,
   "id": "3e2af455",
   "metadata": {},
   "outputs": [],
   "source": [
    "import os\n",
    "\n",
    "from sklearn.model_selection import train_test_split\n",
    "from sklearn.ensemble import RandomForestClassifier\n",
    "from sklearn.svm import SVC\n",
    "from sklearn.metrics import f1_score, accuracy_score, recall_score, precision_score\n",
    "import pandas as pd\n",
    "import numpy as np\n",
    "import xgboost as xgb\n",
    "from sklearn.preprocessing import StandardScaler\n",
    "\n",
    "os.sys.path.append(os.path.abspath('../src'))\n",
    "from data import preprocessor\n",
    "\n",
    "mapname = 'Town01'"
   ]
  },
  {
   "cell_type": "code",
   "execution_count": 106,
   "id": "8dc66672",
   "metadata": {},
   "outputs": [],
   "source": [
    "def create_and_train_model(model, args):\n",
    "    \"\"\"\n",
    "    Function to create and train a model with given parameters.\n",
    "\n",
    "    Args:\n",
    "        model: The model to be trained.\n",
    "        args: Arguments for training the model.\n",
    "\n",
    "    Returns:\n",
    "        result: The result of the training process.\n",
    "    \"\"\"\n",
    "    result = {}\n",
    "    # Train model with current hyperparameters\n",
    "    md = model(**args)\n",
    "    md.fit(X_train, y_train)\n",
    "    # Predict on the validation set\n",
    "    y_pred = md.predict(X_val)\n",
    "    # Log training results\n",
    "    result[\"f1_score\"] = f1_score(y_val, y_pred, average='weighted')\n",
    "    result[\"accuracy\"] = accuracy_score(y_val, y_pred)\n",
    "    result[\"recall\"] = recall_score(y_val, y_pred, average='weighted')\n",
    "    result[\"precision\"] = precision_score(y_val, y_pred, average='weighted')\n",
    "    result[\"model\"] = md\n",
    "\n",
    "    return result"
   ]
  },
  {
   "cell_type": "code",
   "execution_count": 108,
   "id": "67b3bdd4",
   "metadata": {},
   "outputs": [],
   "source": [
    "def add_to_dict(dict, key, model, results):\n",
    "    \"\"\"\n",
    "    Function to add results to the dictionary.\n",
    "\n",
    "    Args:\n",
    "        dict: The dictionary to which results will be added.\n",
    "        key: The key for the dictionary.\n",
    "        model: The model used.\n",
    "        results: The results of the training process.\n",
    "\n",
    "    Returns:\n",
    "        None\n",
    "    \"\"\"\n",
    "    if key not in dict:\n",
    "        dict[key] = {\n",
    "            'model': model,\n",
    "            'f1_scores': [],\n",
    "            'accuracy': [],\n",
    "            'recall': [],\n",
    "            'precision': [],\n",
    "        }\n",
    "    \n",
    "    dict[key]['f1_scores'].append(results['f1_score'])\n",
    "    dict[key]['accuracy'].append(results['accuracy'])\n",
    "    dict[key]['recall'].append(results['recall'])\n",
    "    dict[key]['precision'].append(results['precision'])"
   ]
  },
  {
   "cell_type": "markdown",
   "id": "d7abae7f",
   "metadata": {},
   "source": [
    "## Preparing the Data"
   ]
  },
  {
   "cell_type": "code",
   "execution_count": 4,
   "id": "3bb894a0",
   "metadata": {},
   "outputs": [],
   "source": [
    "data_path = '../data'\n",
    "uah_training = pd.read_csv(f'{data_path}/base/training_set_uah.csv')\n",
    "uah_validation = pd.read_csv(f'{data_path}/base/validation_set_uah.csv')\n",
    "\n",
    "carla_fixed = pd.read_csv(f'{data_path}/merged/{mapname}/carla/carla_fixed.csv').drop(columns=['origin'])\n",
    "carla_llm = pd.read_csv(f'{data_path}/merged/{mapname}/carla/carla_llm.csv').drop(columns=['origin'])\n",
    "\n",
    "sumo_fixed = pd.read_csv(f'{data_path}/merged/{mapname}/sumo/sumo_fixed.csv').drop(columns=['origin'])\n",
    "sumo_llm = pd.read_csv(f'{data_path}/merged/{mapname}/sumo/sumo_llm.csv').drop(columns=['origin'])\n",
    "\n",
    "carla_uah_fixed = pd.read_csv(f'{data_path}/merged/{mapname}/carla_uah/carla_uah_fixed.csv')\n",
    "carla_uah_llm = pd.read_csv(f'{data_path}/merged/{mapname}/carla_uah/carla_uah_llm.csv')\n",
    "\n",
    "sumo_uah_fixed = pd.read_csv(f'{data_path}/merged/{mapname}/sumo_uah/sumo_uah_fixed.csv')\n",
    "sumo_uah_llm = pd.read_csv(f'{data_path}/merged/{mapname}/sumo_uah/sumo_uah_llm.csv')"
   ]
  },
  {
   "cell_type": "code",
   "execution_count": 5,
   "id": "95fa01a5",
   "metadata": {},
   "outputs": [],
   "source": [
    "sumo_columns_to_keep = sumo_fixed.columns.tolist()\n",
    "carla_columns_to_keep = carla_fixed.columns.tolist()"
   ]
  },
  {
   "cell_type": "code",
   "execution_count": 6,
   "id": "0b2b12e2",
   "metadata": {},
   "outputs": [],
   "source": [
    "window_size = 10\n",
    "step_size = 5\n",
    "one_hot_keys = {\n",
    "    'normal': 0,\n",
    "    'aggressive': 1\n",
    "}"
   ]
  },
  {
   "cell_type": "markdown",
   "id": "b9bfe165",
   "metadata": {},
   "source": [
    "# Train on Real test on Synthetic"
   ]
  },
  {
   "cell_type": "markdown",
   "id": "b177f276",
   "metadata": {},
   "source": [
    "By training a model on real data and testing on synthetic data, we verify synthetic data’s fidelity with the real-world."
   ]
  },
  {
   "cell_type": "code",
   "execution_count": 86,
   "id": "7b866bfb",
   "metadata": {},
   "outputs": [],
   "source": [
    "TRTS = {}\n",
    "n_trials = 8"
   ]
  },
  {
   "cell_type": "markdown",
   "id": "b448fee4",
   "metadata": {},
   "source": [
    "## SUMO"
   ]
  },
  {
   "cell_type": "code",
   "execution_count": 87,
   "id": "648199c0",
   "metadata": {},
   "outputs": [],
   "source": [
    "X_train, y_train = preprocessor.sliding_windows(uah_training[sumo_columns_to_keep], window_size=10, step_size=5)\n",
    "y_train = preprocessor.one_hot_encode(y_train, one_hot_keys)"
   ]
  },
  {
   "cell_type": "markdown",
   "id": "a7e8a837",
   "metadata": {},
   "source": [
    "### Fixed"
   ]
  },
  {
   "cell_type": "code",
   "execution_count": 88,
   "id": "454ba591",
   "metadata": {},
   "outputs": [],
   "source": [
    "X_val, y_val = preprocessor.sliding_windows(sumo_fixed, window_size=10, step_size=5)\n",
    "y_val = preprocessor.one_hot_encode(y_val, one_hot_keys)"
   ]
  },
  {
   "cell_type": "code",
   "execution_count": null,
   "id": "5eefdc79",
   "metadata": {},
   "outputs": [
    {
     "name": "stdout",
     "output_type": "stream",
     "text": [
      "Params: {'learning_rate': 0.001, 'max_depth': 10, 'n_estimators': 1000}\n",
      "Params: {'learning_rate': 0.001, 'max_depth': 10, 'n_estimators': 1000}\n",
      "Params: {'learning_rate': 0.001, 'max_depth': 10, 'n_estimators': 1000}\n",
      "Params: {'learning_rate': 0.001, 'max_depth': 10, 'n_estimators': 1000}\n",
      "Params: {'learning_rate': 0.001, 'max_depth': 10, 'n_estimators': 1000}\n",
      "Params: {'learning_rate': 0.001, 'max_depth': 10, 'n_estimators': 1000}\n",
      "Params: {'learning_rate': 0.001, 'max_depth': 10, 'n_estimators': 1000}\n",
      "Params: {'learning_rate': 0.001, 'max_depth': 10, 'n_estimators': 1000}\n"
     ]
    }
   ],
   "source": [
    "# Best model: XGBClassifier_{'learning_rate': 0.001, 'max_depth': 10, 'n_estimators': 1000}\n",
    "for i in range(n_trials):\n",
    "    results = create_and_train_model(xgb.XGBClassifier, {\n",
    "        'learning_rate': 0.001,\n",
    "        'max_depth': 10,\n",
    "        'n_estimators': 1000,\n",
    "    })\n",
    "    add_to_dict(TRTS, 'sumo_fixed', 'XGBClassifier', results)"
   ]
  },
  {
   "cell_type": "markdown",
   "id": "60e89ace",
   "metadata": {},
   "source": [
    "### LLM"
   ]
  },
  {
   "cell_type": "code",
   "execution_count": 92,
   "id": "a56d8a26",
   "metadata": {},
   "outputs": [],
   "source": [
    "X_val, y_val = preprocessor.sliding_windows(sumo_llm, window_size=10, step_size=5)\n",
    "y_val = preprocessor.one_hot_encode(y_val, one_hot_keys)"
   ]
  },
  {
   "cell_type": "code",
   "execution_count": null,
   "id": "d6347cc3",
   "metadata": {},
   "outputs": [
    {
     "name": "stdout",
     "output_type": "stream",
     "text": [
      "Params: {'max_depth': 10, 'n_estimators': 50}\n",
      "Params: {'max_depth': 10, 'n_estimators': 50}\n",
      "Params: {'max_depth': 10, 'n_estimators': 50}\n",
      "Params: {'max_depth': 10, 'n_estimators': 50}\n",
      "Params: {'max_depth': 10, 'n_estimators': 50}\n",
      "Params: {'max_depth': 10, 'n_estimators': 50}\n",
      "Params: {'max_depth': 10, 'n_estimators': 50}\n",
      "Params: {'max_depth': 10, 'n_estimators': 50}\n"
     ]
    }
   ],
   "source": [
    "# Best model: RandomForestClassifier_{'max_depth': 10, 'n_estimators': 50}\n",
    "for i in range(n_trials):\n",
    "    results = create_and_train_model(RandomForestClassifier, {\n",
    "        'max_depth': 10,\n",
    "        'n_estimators': 50,\n",
    "    })\n",
    "    add_to_dict(TRTS, 'sumo_llm', 'RFClassifier', results)"
   ]
  },
  {
   "cell_type": "markdown",
   "id": "7034dab6",
   "metadata": {},
   "source": [
    "## CARLA"
   ]
  },
  {
   "cell_type": "code",
   "execution_count": 94,
   "id": "79611d31",
   "metadata": {},
   "outputs": [],
   "source": [
    "X_train, y_train = preprocessor.sliding_windows(uah_training[carla_columns_to_keep], window_size=10, step_size=5)\n",
    "y_train = preprocessor.one_hot_encode(y_train, one_hot_keys)"
   ]
  },
  {
   "cell_type": "markdown",
   "id": "cbe814c3",
   "metadata": {},
   "source": [
    "### Fixed"
   ]
  },
  {
   "cell_type": "code",
   "execution_count": 95,
   "id": "61938828",
   "metadata": {},
   "outputs": [],
   "source": [
    "X_val, y_val = preprocessor.sliding_windows(carla_fixed, window_size=10, step_size=5)\n",
    "y_val = preprocessor.one_hot_encode(y_val, one_hot_keys)"
   ]
  },
  {
   "cell_type": "code",
   "execution_count": null,
   "id": "a441564d",
   "metadata": {},
   "outputs": [
    {
     "name": "stdout",
     "output_type": "stream",
     "text": [
      "Params: {'learning_rate': 0.2, 'max_depth': 5, 'n_estimators': 700}\n",
      "Params: {'learning_rate': 0.2, 'max_depth': 5, 'n_estimators': 700}\n",
      "Params: {'learning_rate': 0.2, 'max_depth': 5, 'n_estimators': 700}\n",
      "Params: {'learning_rate': 0.2, 'max_depth': 5, 'n_estimators': 700}\n",
      "Params: {'learning_rate': 0.2, 'max_depth': 5, 'n_estimators': 700}\n",
      "Params: {'learning_rate': 0.2, 'max_depth': 5, 'n_estimators': 700}\n",
      "Params: {'learning_rate': 0.2, 'max_depth': 5, 'n_estimators': 700}\n",
      "Params: {'learning_rate': 0.2, 'max_depth': 5, 'n_estimators': 700}\n"
     ]
    }
   ],
   "source": [
    "# Best model: XGBClassifier_{'learning_rate': 0.2, 'max_depth': 5, 'n_estimators': 700}\n",
    "for i in range(n_trials):\n",
    "    results = create_and_train_model(xgb.XGBClassifier, {\n",
    "        'learning_rate': 0.2,\n",
    "        'max_depth': 5,\n",
    "        'n_estimators': 700,\n",
    "    })\n",
    "    add_to_dict(TRTS, 'carla_fixed', 'XGBClassifier', results)"
   ]
  },
  {
   "cell_type": "markdown",
   "id": "67747de7",
   "metadata": {},
   "source": [
    "### LLM"
   ]
  },
  {
   "cell_type": "code",
   "execution_count": 97,
   "id": "3334c220",
   "metadata": {},
   "outputs": [],
   "source": [
    "X_val, y_val = preprocessor.sliding_windows(carla_llm, window_size=10, step_size=5)\n",
    "y_val = preprocessor.one_hot_encode(y_val, one_hot_keys)"
   ]
  },
  {
   "cell_type": "code",
   "execution_count": null,
   "id": "d5a10f76",
   "metadata": {},
   "outputs": [
    {
     "name": "stdout",
     "output_type": "stream",
     "text": [
      "Trial 1: F1 Score = 0.5194390536550584\n",
      "Trial 2: F1 Score = 0.5194390536550584\n",
      "Trial 3: F1 Score = 0.5194390536550584\n",
      "Trial 4: F1 Score = 0.5194390536550584\n"
     ]
    },
    {
     "ename": "KeyboardInterrupt",
     "evalue": "",
     "output_type": "error",
     "traceback": [
      "\u001b[31m---------------------------------------------------------------------------\u001b[39m",
      "\u001b[31mKeyboardInterrupt\u001b[39m                         Traceback (most recent call last)",
      "\u001b[36mCell\u001b[39m\u001b[36m \u001b[39m\u001b[32mIn[107]\u001b[39m\u001b[32m, line 11\u001b[39m\n\u001b[32m      2\u001b[39m TRTS[\u001b[33m'\u001b[39m\u001b[33mcarla_llm\u001b[39m\u001b[33m'\u001b[39m] = {\n\u001b[32m      3\u001b[39m     \u001b[33m'\u001b[39m\u001b[33mmodel\u001b[39m\u001b[33m'\u001b[39m: \u001b[33m'\u001b[39m\u001b[33mXGBClassifier\u001b[39m\u001b[33m'\u001b[39m,\n\u001b[32m      4\u001b[39m     \u001b[33m'\u001b[39m\u001b[33mf1_scores\u001b[39m\u001b[33m'\u001b[39m: [],\n\u001b[32m   (...)\u001b[39m\u001b[32m      7\u001b[39m     \u001b[33m'\u001b[39m\u001b[33mprecision\u001b[39m\u001b[33m'\u001b[39m: [],\n\u001b[32m      8\u001b[39m }\n\u001b[32m     10\u001b[39m \u001b[38;5;28;01mfor\u001b[39;00m i \u001b[38;5;129;01min\u001b[39;00m \u001b[38;5;28mrange\u001b[39m(n_trials):\n\u001b[32m---> \u001b[39m\u001b[32m11\u001b[39m     results = \u001b[43mcreate_and_train_model\u001b[49m\u001b[43m(\u001b[49m\u001b[43mxgb\u001b[49m\u001b[43m.\u001b[49m\u001b[43mXGBClassifier\u001b[49m\u001b[43m,\u001b[49m\u001b[43m \u001b[49m\u001b[43m{\u001b[49m\n\u001b[32m     12\u001b[39m \u001b[43m        \u001b[49m\u001b[33;43m'\u001b[39;49m\u001b[33;43mlearning_rate\u001b[39;49m\u001b[33;43m'\u001b[39;49m\u001b[43m:\u001b[49m\u001b[43m \u001b[49m\u001b[32;43m0.3\u001b[39;49m\u001b[43m,\u001b[49m\n\u001b[32m     13\u001b[39m \u001b[43m        \u001b[49m\u001b[33;43m'\u001b[39;49m\u001b[33;43mmax_depth\u001b[39;49m\u001b[33;43m'\u001b[39;49m\u001b[43m:\u001b[49m\u001b[43m \u001b[49m\u001b[32;43m5\u001b[39;49m\u001b[43m,\u001b[49m\n\u001b[32m     14\u001b[39m \u001b[43m        \u001b[49m\u001b[33;43m'\u001b[39;49m\u001b[33;43mn_estimators\u001b[39;49m\u001b[33;43m'\u001b[39;49m\u001b[43m:\u001b[49m\u001b[43m \u001b[49m\u001b[32;43m500\u001b[39;49m\u001b[43m,\u001b[49m\n\u001b[32m     15\u001b[39m \u001b[43m    \u001b[49m\u001b[43m}\u001b[49m\u001b[43m)\u001b[49m\n\u001b[32m     16\u001b[39m     \u001b[38;5;28mprint\u001b[39m(\u001b[33mf\u001b[39m\u001b[33m\"\u001b[39m\u001b[33mTrial \u001b[39m\u001b[38;5;132;01m{\u001b[39;00mi+\u001b[32m1\u001b[39m\u001b[38;5;132;01m}\u001b[39;00m\u001b[33m: F1 Score = \u001b[39m\u001b[38;5;132;01m{\u001b[39;00mresults[\u001b[33m'\u001b[39m\u001b[33mf1_score\u001b[39m\u001b[33m'\u001b[39m]\u001b[38;5;132;01m}\u001b[39;00m\u001b[33m\"\u001b[39m)\n\u001b[32m     17\u001b[39m     TRTS[\u001b[33m'\u001b[39m\u001b[33mcarla_llm\u001b[39m\u001b[33m'\u001b[39m][\u001b[33m'\u001b[39m\u001b[33mf1_scores\u001b[39m\u001b[33m'\u001b[39m].append(results[\u001b[33m'\u001b[39m\u001b[33mf1_score\u001b[39m\u001b[33m'\u001b[39m])\n",
      "\u001b[36mCell\u001b[39m\u001b[36m \u001b[39m\u001b[32mIn[106]\u001b[39m\u001b[32m, line 15\u001b[39m, in \u001b[36mcreate_and_train_model\u001b[39m\u001b[34m(model, args)\u001b[39m\n\u001b[32m     13\u001b[39m \u001b[38;5;66;03m# Train model with current hyperparameters\u001b[39;00m\n\u001b[32m     14\u001b[39m md = model(**args)\n\u001b[32m---> \u001b[39m\u001b[32m15\u001b[39m \u001b[43mmd\u001b[49m\u001b[43m.\u001b[49m\u001b[43mfit\u001b[49m\u001b[43m(\u001b[49m\u001b[43mX_train\u001b[49m\u001b[43m,\u001b[49m\u001b[43m \u001b[49m\u001b[43my_train\u001b[49m\u001b[43m)\u001b[49m\n\u001b[32m     16\u001b[39m \u001b[38;5;66;03m# Predict on the validation set\u001b[39;00m\n\u001b[32m     17\u001b[39m y_pred = md.predict(X_val)\n",
      "\u001b[36mFile \u001b[39m\u001b[32m~/miniconda3/lib/python3.12/site-packages/xgboost/core.py:729\u001b[39m, in \u001b[36mrequire_keyword_args.<locals>.throw_if.<locals>.inner_f\u001b[39m\u001b[34m(*args, **kwargs)\u001b[39m\n\u001b[32m    727\u001b[39m \u001b[38;5;28;01mfor\u001b[39;00m k, arg \u001b[38;5;129;01min\u001b[39;00m \u001b[38;5;28mzip\u001b[39m(sig.parameters, args):\n\u001b[32m    728\u001b[39m     kwargs[k] = arg\n\u001b[32m--> \u001b[39m\u001b[32m729\u001b[39m \u001b[38;5;28;01mreturn\u001b[39;00m \u001b[43mfunc\u001b[49m\u001b[43m(\u001b[49m\u001b[43m*\u001b[49m\u001b[43m*\u001b[49m\u001b[43mkwargs\u001b[49m\u001b[43m)\u001b[49m\n",
      "\u001b[36mFile \u001b[39m\u001b[32m~/miniconda3/lib/python3.12/site-packages/xgboost/sklearn.py:1682\u001b[39m, in \u001b[36mXGBClassifier.fit\u001b[39m\u001b[34m(self, X, y, sample_weight, base_margin, eval_set, verbose, xgb_model, sample_weight_eval_set, base_margin_eval_set, feature_weights)\u001b[39m\n\u001b[32m   1660\u001b[39m model, metric, params, feature_weights = \u001b[38;5;28mself\u001b[39m._configure_fit(\n\u001b[32m   1661\u001b[39m     xgb_model, params, feature_weights\n\u001b[32m   1662\u001b[39m )\n\u001b[32m   1663\u001b[39m train_dmatrix, evals = _wrap_evaluation_matrices(\n\u001b[32m   1664\u001b[39m     missing=\u001b[38;5;28mself\u001b[39m.missing,\n\u001b[32m   1665\u001b[39m     X=X,\n\u001b[32m   (...)\u001b[39m\u001b[32m   1679\u001b[39m     feature_types=\u001b[38;5;28mself\u001b[39m.feature_types,\n\u001b[32m   1680\u001b[39m )\n\u001b[32m-> \u001b[39m\u001b[32m1682\u001b[39m \u001b[38;5;28mself\u001b[39m._Booster = \u001b[43mtrain\u001b[49m\u001b[43m(\u001b[49m\n\u001b[32m   1683\u001b[39m \u001b[43m    \u001b[49m\u001b[43mparams\u001b[49m\u001b[43m,\u001b[49m\n\u001b[32m   1684\u001b[39m \u001b[43m    \u001b[49m\u001b[43mtrain_dmatrix\u001b[49m\u001b[43m,\u001b[49m\n\u001b[32m   1685\u001b[39m \u001b[43m    \u001b[49m\u001b[38;5;28;43mself\u001b[39;49m\u001b[43m.\u001b[49m\u001b[43mget_num_boosting_rounds\u001b[49m\u001b[43m(\u001b[49m\u001b[43m)\u001b[49m\u001b[43m,\u001b[49m\n\u001b[32m   1686\u001b[39m \u001b[43m    \u001b[49m\u001b[43mevals\u001b[49m\u001b[43m=\u001b[49m\u001b[43mevals\u001b[49m\u001b[43m,\u001b[49m\n\u001b[32m   1687\u001b[39m \u001b[43m    \u001b[49m\u001b[43mearly_stopping_rounds\u001b[49m\u001b[43m=\u001b[49m\u001b[38;5;28;43mself\u001b[39;49m\u001b[43m.\u001b[49m\u001b[43mearly_stopping_rounds\u001b[49m\u001b[43m,\u001b[49m\n\u001b[32m   1688\u001b[39m \u001b[43m    \u001b[49m\u001b[43mevals_result\u001b[49m\u001b[43m=\u001b[49m\u001b[43mevals_result\u001b[49m\u001b[43m,\u001b[49m\n\u001b[32m   1689\u001b[39m \u001b[43m    \u001b[49m\u001b[43mobj\u001b[49m\u001b[43m=\u001b[49m\u001b[43mobj\u001b[49m\u001b[43m,\u001b[49m\n\u001b[32m   1690\u001b[39m \u001b[43m    \u001b[49m\u001b[43mcustom_metric\u001b[49m\u001b[43m=\u001b[49m\u001b[43mmetric\u001b[49m\u001b[43m,\u001b[49m\n\u001b[32m   1691\u001b[39m \u001b[43m    \u001b[49m\u001b[43mverbose_eval\u001b[49m\u001b[43m=\u001b[49m\u001b[43mverbose\u001b[49m\u001b[43m,\u001b[49m\n\u001b[32m   1692\u001b[39m \u001b[43m    \u001b[49m\u001b[43mxgb_model\u001b[49m\u001b[43m=\u001b[49m\u001b[43mmodel\u001b[49m\u001b[43m,\u001b[49m\n\u001b[32m   1693\u001b[39m \u001b[43m    \u001b[49m\u001b[43mcallbacks\u001b[49m\u001b[43m=\u001b[49m\u001b[38;5;28;43mself\u001b[39;49m\u001b[43m.\u001b[49m\u001b[43mcallbacks\u001b[49m\u001b[43m,\u001b[49m\n\u001b[32m   1694\u001b[39m \u001b[43m\u001b[49m\u001b[43m)\u001b[49m\n\u001b[32m   1696\u001b[39m \u001b[38;5;28;01mif\u001b[39;00m \u001b[38;5;129;01mnot\u001b[39;00m \u001b[38;5;28mcallable\u001b[39m(\u001b[38;5;28mself\u001b[39m.objective):\n\u001b[32m   1697\u001b[39m     \u001b[38;5;28mself\u001b[39m.objective = params[\u001b[33m\"\u001b[39m\u001b[33mobjective\u001b[39m\u001b[33m\"\u001b[39m]\n",
      "\u001b[36mFile \u001b[39m\u001b[32m~/miniconda3/lib/python3.12/site-packages/xgboost/core.py:729\u001b[39m, in \u001b[36mrequire_keyword_args.<locals>.throw_if.<locals>.inner_f\u001b[39m\u001b[34m(*args, **kwargs)\u001b[39m\n\u001b[32m    727\u001b[39m \u001b[38;5;28;01mfor\u001b[39;00m k, arg \u001b[38;5;129;01min\u001b[39;00m \u001b[38;5;28mzip\u001b[39m(sig.parameters, args):\n\u001b[32m    728\u001b[39m     kwargs[k] = arg\n\u001b[32m--> \u001b[39m\u001b[32m729\u001b[39m \u001b[38;5;28;01mreturn\u001b[39;00m \u001b[43mfunc\u001b[49m\u001b[43m(\u001b[49m\u001b[43m*\u001b[49m\u001b[43m*\u001b[49m\u001b[43mkwargs\u001b[49m\u001b[43m)\u001b[49m\n",
      "\u001b[36mFile \u001b[39m\u001b[32m~/miniconda3/lib/python3.12/site-packages/xgboost/training.py:183\u001b[39m, in \u001b[36mtrain\u001b[39m\u001b[34m(params, dtrain, num_boost_round, evals, obj, maximize, early_stopping_rounds, evals_result, verbose_eval, xgb_model, callbacks, custom_metric)\u001b[39m\n\u001b[32m    181\u001b[39m \u001b[38;5;28;01mif\u001b[39;00m cb_container.before_iteration(bst, i, dtrain, evals):\n\u001b[32m    182\u001b[39m     \u001b[38;5;28;01mbreak\u001b[39;00m\n\u001b[32m--> \u001b[39m\u001b[32m183\u001b[39m \u001b[43mbst\u001b[49m\u001b[43m.\u001b[49m\u001b[43mupdate\u001b[49m\u001b[43m(\u001b[49m\u001b[43mdtrain\u001b[49m\u001b[43m,\u001b[49m\u001b[43m \u001b[49m\u001b[43miteration\u001b[49m\u001b[43m=\u001b[49m\u001b[43mi\u001b[49m\u001b[43m,\u001b[49m\u001b[43m \u001b[49m\u001b[43mfobj\u001b[49m\u001b[43m=\u001b[49m\u001b[43mobj\u001b[49m\u001b[43m)\u001b[49m\n\u001b[32m    184\u001b[39m \u001b[38;5;28;01mif\u001b[39;00m cb_container.after_iteration(bst, i, dtrain, evals):\n\u001b[32m    185\u001b[39m     \u001b[38;5;28;01mbreak\u001b[39;00m\n",
      "\u001b[36mFile \u001b[39m\u001b[32m~/miniconda3/lib/python3.12/site-packages/xgboost/core.py:2247\u001b[39m, in \u001b[36mBooster.update\u001b[39m\u001b[34m(self, dtrain, iteration, fobj)\u001b[39m\n\u001b[32m   2243\u001b[39m \u001b[38;5;28mself\u001b[39m._assign_dmatrix_features(dtrain)\n\u001b[32m   2245\u001b[39m \u001b[38;5;28;01mif\u001b[39;00m fobj \u001b[38;5;129;01mis\u001b[39;00m \u001b[38;5;28;01mNone\u001b[39;00m:\n\u001b[32m   2246\u001b[39m     _check_call(\n\u001b[32m-> \u001b[39m\u001b[32m2247\u001b[39m         \u001b[43m_LIB\u001b[49m\u001b[43m.\u001b[49m\u001b[43mXGBoosterUpdateOneIter\u001b[49m\u001b[43m(\u001b[49m\n\u001b[32m   2248\u001b[39m \u001b[43m            \u001b[49m\u001b[38;5;28;43mself\u001b[39;49m\u001b[43m.\u001b[49m\u001b[43mhandle\u001b[49m\u001b[43m,\u001b[49m\u001b[43m \u001b[49m\u001b[43mctypes\u001b[49m\u001b[43m.\u001b[49m\u001b[43mc_int\u001b[49m\u001b[43m(\u001b[49m\u001b[43miteration\u001b[49m\u001b[43m)\u001b[49m\u001b[43m,\u001b[49m\u001b[43m \u001b[49m\u001b[43mdtrain\u001b[49m\u001b[43m.\u001b[49m\u001b[43mhandle\u001b[49m\n\u001b[32m   2249\u001b[39m \u001b[43m        \u001b[49m\u001b[43m)\u001b[49m\n\u001b[32m   2250\u001b[39m     )\n\u001b[32m   2251\u001b[39m \u001b[38;5;28;01melse\u001b[39;00m:\n\u001b[32m   2252\u001b[39m     pred = \u001b[38;5;28mself\u001b[39m.predict(dtrain, output_margin=\u001b[38;5;28;01mTrue\u001b[39;00m, training=\u001b[38;5;28;01mTrue\u001b[39;00m)\n",
      "\u001b[31mKeyboardInterrupt\u001b[39m: "
     ]
    }
   ],
   "source": [
    "# Best model: XGBClassifier_{'learning_rate': 0.3, 'max_depth': 5, 'n_estimators': 500}\n",
    "for i in range(n_trials):\n",
    "    results = create_and_train_model(xgb.XGBClassifier, {\n",
    "        'learning_rate': 0.3,\n",
    "        'max_depth': 5,\n",
    "        'n_estimators': 500,\n",
    "    })\n",
    "    add_to_dict(TRTS, 'carla_llm', 'XGBClassifier', results)"
   ]
  },
  {
   "cell_type": "markdown",
   "id": "bb98c7c7",
   "metadata": {},
   "source": [
    "## Results table"
   ]
  },
  {
   "cell_type": "code",
   "execution_count": 101,
   "id": "0ef0f537",
   "metadata": {},
   "outputs": [
    {
     "name": "stdout",
     "output_type": "stream",
     "text": [
      "sumo_fixed:\n",
      "  Model: XGBClassifier\n",
      "  F1 Score: 0.47 ± 0.00\n",
      "  Accuracy: 0.50 ± 0.00\n",
      "  Recall: 0.50 ± 0.00\n",
      "  Precision: 0.50 ± 0.00\n",
      "\n",
      "sumo_llm:\n",
      "  Model: RandomForestClassifier\n",
      "  F1 Score: 0.48 ± 0.00\n",
      "  Accuracy: 0.52 ± 0.00\n",
      "  Recall: 0.52 ± 0.00\n",
      "  Precision: 0.51 ± 0.00\n",
      "\n",
      "carla_fixed:\n",
      "  Model: XGBClassifier\n",
      "  F1 Score: 0.53 ± 0.00\n",
      "  Accuracy: 0.53 ± 0.00\n",
      "  Recall: 0.53 ± 0.00\n",
      "  Precision: 0.53 ± 0.00\n",
      "\n",
      "carla_llm:\n",
      "  Model: XGBClassifier\n",
      "  F1 Score: 0.52 ± 0.00\n",
      "  Accuracy: 0.52 ± 0.00\n",
      "  Recall: 0.52 ± 0.00\n",
      "  Precision: 0.53 ± 0.00\n",
      "\n"
     ]
    }
   ],
   "source": [
    "for key, value in TRTS.items():\n",
    "    print(f\"{key}:\")\n",
    "    print(f\"  Model: {value['model']}\")\n",
    "    print(f\"  F1 Score: {np.mean(value['f1_scores']):.2f} ± {np.std(value['f1_scores']):.2f}\")\n",
    "    print(f\"  Accuracy: {np.mean(value['accuracy']):.2f} ± {np.std(value['accuracy']):.2f}\")\n",
    "    print(f\"  Recall: {np.mean(value['recall']):.2f} ± {np.std(value['recall']):.2f}\")\n",
    "    print(f\"  Precision: {np.mean(value['precision']):.2f} ± {np.std(value['precision']):.2f}\\n\")"
   ]
  },
  {
   "cell_type": "markdown",
   "id": "e00bb44e",
   "metadata": {},
   "source": [
    "# Discriminative Score"
   ]
  },
  {
   "cell_type": "markdown",
   "id": "33ea4a7b",
   "metadata": {},
   "source": [
    "We seek to understand how well a classifier can separate the real and the synthetic data to determine how indistiguishable they are.\n",
    "\n",
    "If the classifiers do not get good scores, that means the data is hardly distinguishable."
   ]
  },
  {
   "cell_type": "code",
   "execution_count": 152,
   "id": "4fb96798",
   "metadata": {},
   "outputs": [],
   "source": [
    "X_uah_disc_sumo = uah_training[sumo_columns_to_keep].drop(columns=['label'])\n",
    "X_uah_disc_carla = uah_training[carla_columns_to_keep].drop(columns=['label'])\n",
    "y_uah_disc = np.zeros(len(X_uah_disc_carla)) # 0 for real data and 1 for synthetic data"
   ]
  },
  {
   "cell_type": "markdown",
   "id": "e5a2c99c",
   "metadata": {},
   "source": [
    "## SUMO"
   ]
  },
  {
   "cell_type": "code",
   "execution_count": 156,
   "id": "fc959c0a",
   "metadata": {},
   "outputs": [],
   "source": [
    "X_sumo_disc_fixed, y_sumo_disc_fixed = sumo_fixed.drop(columns=['label']), np.ones(len(sumo_fixed))\n",
    "X_sumo_disc_llm, y_sumo_disc_llm = sumo_llm.drop(columns=['label']), np.ones(len(sumo_llm))"
   ]
  },
  {
   "cell_type": "markdown",
   "id": "fb75d026",
   "metadata": {},
   "source": [
    "### Fixed"
   ]
  },
  {
   "cell_type": "code",
   "execution_count": 206,
   "id": "7b5635fc",
   "metadata": {},
   "outputs": [],
   "source": [
    "X, y = pd.concat([X_sumo_disc_fixed, X_uah_disc_sumo], axis=0, ignore_index=True), np.concat([y_sumo_disc_fixed, y_uah_disc], axis=0)\n",
    "X.reset_index(drop=True, inplace=True)\n",
    "X_train, X_val, y_train, y_val = train_test_split(X, y, test_size=0.2, random_state=42, shuffle=True)"
   ]
  },
  {
   "cell_type": "code",
   "execution_count": 207,
   "id": "4508209a",
   "metadata": {},
   "outputs": [
    {
     "name": "stdout",
     "output_type": "stream",
     "text": [
      "F1 Score: 1.0\n",
      "Accuracy: 1.0\n"
     ]
    }
   ],
   "source": [
    "rf = RandomForestClassifier()\n",
    "rf.fit(X_train, y_train)\n",
    "y_pred = rf.predict(X_val)\n",
    "print(f\"F1 Score: {f1_score(y_val, y_pred, average='weighted')}\")\n",
    "print(f\"Accuracy: {accuracy_score(y_val, y_pred)}\")"
   ]
  },
  {
   "cell_type": "code",
   "execution_count": 215,
   "id": "761876f2",
   "metadata": {},
   "outputs": [
    {
     "name": "stdout",
     "output_type": "stream",
     "text": [
      "F1 Score: 1.0\n",
      "Accuracy: 1.0\n"
     ]
    }
   ],
   "source": [
    "svc = SVC(kernel='rbf')\n",
    "svc.fit(X_train, y_train)\n",
    "y_pred = svc.predict(X_val)\n",
    "print(f\"F1 Score: {f1_score(y_val, y_pred, average='weighted')}\")\n",
    "print(f\"Accuracy: {accuracy_score(y_val, y_pred)}\")"
   ]
  },
  {
   "cell_type": "markdown",
   "id": "3cdb944b",
   "metadata": {},
   "source": [
    "### LLM"
   ]
  },
  {
   "cell_type": "code",
   "execution_count": 209,
   "id": "2593281c",
   "metadata": {},
   "outputs": [],
   "source": [
    "X, y = pd.concat([X_sumo_disc_llm, X_uah_disc_sumo], axis=0, ignore_index=True), np.concat([y_sumo_disc_llm, y_uah_disc], axis=0)\n",
    "X.reset_index(drop=True, inplace=True)\n",
    "X_train, X_val, y_train, y_val = train_test_split(X, y, test_size=0.2, random_state=42, shuffle=True)"
   ]
  },
  {
   "cell_type": "code",
   "execution_count": 210,
   "id": "5f06eff1",
   "metadata": {},
   "outputs": [
    {
     "name": "stdout",
     "output_type": "stream",
     "text": [
      "F1 Score: 1.0\n",
      "Accuracy: 1.0\n"
     ]
    }
   ],
   "source": [
    "rf = RandomForestClassifier()\n",
    "rf.fit(X_train, y_train)\n",
    "y_pred = rf.predict(X_val)\n",
    "print(f\"F1 Score: {f1_score(y_val, y_pred, average='weighted')}\")\n",
    "print(f\"Accuracy: {accuracy_score(y_val, y_pred)}\")"
   ]
  },
  {
   "cell_type": "code",
   "execution_count": 216,
   "id": "f2eb85f5",
   "metadata": {},
   "outputs": [
    {
     "name": "stdout",
     "output_type": "stream",
     "text": [
      "F1 Score: 1.0\n",
      "Accuracy: 1.0\n"
     ]
    }
   ],
   "source": [
    "svc = SVC(kernel='rbf')\n",
    "svc.fit(X_train, y_train)\n",
    "y_pred = svc.predict(X_val)\n",
    "print(f\"F1 Score: {f1_score(y_val, y_pred, average='weighted')}\")\n",
    "print(f\"Accuracy: {accuracy_score(y_val, y_pred)}\")"
   ]
  },
  {
   "cell_type": "markdown",
   "id": "8fc572b9",
   "metadata": {},
   "source": [
    "## CARLA"
   ]
  },
  {
   "cell_type": "code",
   "execution_count": 208,
   "id": "1d3d9e9f",
   "metadata": {},
   "outputs": [],
   "source": [
    "X_carla_disc_fixed, y_carla_disc_fixed = carla_fixed.drop(columns=['label']), np.ones(len(carla_fixed))\n",
    "X_carla_disc_llm, y_carla_disc_llm = carla_llm.drop(columns=['label']), np.ones(len(carla_llm))"
   ]
  },
  {
   "cell_type": "markdown",
   "id": "a13c9d64",
   "metadata": {},
   "source": [
    "### Fixed"
   ]
  },
  {
   "cell_type": "code",
   "execution_count": 211,
   "id": "b6fcc9d0",
   "metadata": {},
   "outputs": [],
   "source": [
    "X, y = pd.concat([X_carla_disc_fixed, X_uah_disc_carla], axis=0, ignore_index=True), np.concat([y_carla_disc_fixed, y_uah_disc], axis=0)\n",
    "X.reset_index(drop=True, inplace=True)\n",
    "X_train, X_val, y_train, y_val = train_test_split(X, y, test_size=0.2, random_state=42, shuffle=True)"
   ]
  },
  {
   "cell_type": "code",
   "execution_count": 212,
   "id": "2169b82f",
   "metadata": {},
   "outputs": [
    {
     "name": "stdout",
     "output_type": "stream",
     "text": [
      "F1 Score: 1.0\n",
      "Accuracy: 1.0\n"
     ]
    }
   ],
   "source": [
    "rf = RandomForestClassifier()\n",
    "rf.fit(X_train, y_train)\n",
    "y_pred = rf.predict(X_val)\n",
    "print(f\"F1 Score: {f1_score(y_val, y_pred, average='weighted')}\")\n",
    "print(f\"Accuracy: {accuracy_score(y_val, y_pred)}\")"
   ]
  },
  {
   "cell_type": "code",
   "execution_count": 217,
   "id": "11220b3c",
   "metadata": {},
   "outputs": [
    {
     "name": "stdout",
     "output_type": "stream",
     "text": [
      "F1 Score: 1.0\n",
      "Accuracy: 1.0\n"
     ]
    }
   ],
   "source": [
    "svc = SVC(kernel='rbf')\n",
    "svc.fit(X_train, y_train)\n",
    "y_pred = svc.predict(X_val)\n",
    "print(f\"F1 Score: {f1_score(y_val, y_pred, average='weighted')}\")\n",
    "print(f\"Accuracy: {accuracy_score(y_val, y_pred)}\")"
   ]
  },
  {
   "cell_type": "markdown",
   "id": "e67f88f7",
   "metadata": {},
   "source": [
    "### LLM"
   ]
  },
  {
   "cell_type": "code",
   "execution_count": 213,
   "id": "aa3c7d8c",
   "metadata": {},
   "outputs": [],
   "source": [
    "X, y = pd.concat([X_carla_disc_llm, X_uah_disc_carla], axis=0, ignore_index=True), np.concat([y_carla_disc_llm, y_uah_disc], axis=0)\n",
    "X.reset_index(drop=True, inplace=True)\n",
    "X_train, X_val, y_train, y_val = train_test_split(X, y, test_size=0.2, random_state=42, shuffle=True)"
   ]
  },
  {
   "cell_type": "code",
   "execution_count": 214,
   "id": "ca3c9f70",
   "metadata": {},
   "outputs": [
    {
     "name": "stdout",
     "output_type": "stream",
     "text": [
      "F1 Score: 1.0\n",
      "Accuracy: 1.0\n"
     ]
    }
   ],
   "source": [
    "rf = RandomForestClassifier()\n",
    "rf.fit(X_train, y_train)\n",
    "y_pred = rf.predict(X_val)\n",
    "print(f\"F1 Score: {f1_score(y_val, y_pred, average='weighted')}\")\n",
    "print(f\"Accuracy: {accuracy_score(y_val, y_pred)}\")"
   ]
  },
  {
   "cell_type": "code",
   "execution_count": 218,
   "id": "725edc1b",
   "metadata": {},
   "outputs": [
    {
     "name": "stdout",
     "output_type": "stream",
     "text": [
      "F1 Score: 1.0\n",
      "Accuracy: 1.0\n"
     ]
    }
   ],
   "source": [
    "svc = SVC(kernel='rbf')\n",
    "svc.fit(X_train, y_train)\n",
    "y_pred = svc.predict(X_val)\n",
    "print(f\"F1 Score: {f1_score(y_val, y_pred, average='weighted')}\")\n",
    "print(f\"Accuracy: {accuracy_score(y_val, y_pred)}\")"
   ]
  },
  {
   "cell_type": "markdown",
   "id": "4d1d188d",
   "metadata": {},
   "source": [
    "# Predictive Scores"
   ]
  },
  {
   "cell_type": "markdown",
   "id": "9a4ef45f",
   "metadata": {},
   "source": [
    "Here we train on different combinations of real and synthetic data and test on real data only in order to verify the quality of the data for real-world applications."
   ]
  },
  {
   "cell_type": "code",
   "execution_count": null,
   "id": "8530966e",
   "metadata": {},
   "outputs": [],
   "source": [
    "PS = {}\n",
    "n_trials = 8"
   ]
  },
  {
   "cell_type": "markdown",
   "id": "2f678a67",
   "metadata": {},
   "source": [
    "## Real Only"
   ]
  },
  {
   "cell_type": "code",
   "execution_count": null,
   "id": "05595ec8",
   "metadata": {},
   "outputs": [],
   "source": [
    "columns_to_keep = ['acc_x', 'acc_y', 'acc_z', 'gyro_x', 'gyro_y', 'gyro_z', 'angle', 'speed', 'label']\n",
    "\n",
    "X_train, y_train = preprocessor.sliding_windows(uah_training[columns_to_keep], window_size=window_size, step_size=step_size)\n",
    "X_val, y_val = preprocessor.sliding_windows(uah_validation[columns_to_keep], window_size=window_size, step_size=step_size)\n",
    "\n",
    "scaler = StandardScaler()\n",
    "X_train = scaler.fit_transform(X_train)\n",
    "X_val = scaler.transform(X_val)\n",
    "\n",
    "y_train = preprocessor.one_hot_encode(y_train, one_hot_keys=one_hot_keys)\n",
    "y_val = preprocessor.one_hot_encode(y_val, one_hot_keys=one_hot_keys)"
   ]
  },
  {
   "cell_type": "code",
   "execution_count": null,
   "id": "b6acdef9",
   "metadata": {},
   "outputs": [],
   "source": [
    "# Best model: SVC_{'C': 0.01, 'gamma': 0.01, 'kernel': 'rbf'}\n",
    "for i in range(n_trials):\n",
    "    results = create_and_train_model(SVC, {\n",
    "        'C': 0.01,\n",
    "        'gamma': 0.01,\n",
    "        'kernel': 'rbf',\n",
    "    })\n",
    "    add_to_dict(PS, 'uah', 'SVC', results)"
   ]
  },
  {
   "cell_type": "markdown",
   "id": "05f0c899",
   "metadata": {},
   "source": [
    "## SUMO Only"
   ]
  },
  {
   "cell_type": "code",
   "execution_count": 12,
   "id": "4b0bd8d1",
   "metadata": {},
   "outputs": [],
   "source": [
    "# SUMO\n",
    "X_sumo_fixed, y_sumo_fixed = preprocessor.sliding_windows(sumo_fixed, window_size=window_size, step_size=step_size)\n",
    "X_sumo_llm, y_sumo_llm = preprocessor.sliding_windows(sumo_llm, window_size=window_size, step_size=step_size)"
   ]
  },
  {
   "cell_type": "code",
   "execution_count": 35,
   "id": "98105bf0",
   "metadata": {},
   "outputs": [
    {
     "name": "stdout",
     "output_type": "stream",
     "text": [
      "Columns to keep for validation: ['acc', 'angle', 'speed', 'gyro_z', 'label']\n"
     ]
    }
   ],
   "source": [
    "# Getting the validation for SUMO variables\n",
    "print(\"Columns to keep for validation:\", sumo_columns_to_keep)\n",
    "\n",
    "X_val_base, y_val = preprocessor.sliding_windows(uah_validation[sumo_columns_to_keep], window_size=window_size, step_size=step_size)\n",
    "y_val = preprocessor.one_hot_encode(y_val, one_hot_keys=one_hot_keys)"
   ]
  },
  {
   "cell_type": "markdown",
   "id": "69e823c8",
   "metadata": {},
   "source": [
    "### Fixed"
   ]
  },
  {
   "cell_type": "code",
   "execution_count": null,
   "id": "0f7026fd",
   "metadata": {},
   "outputs": [],
   "source": [
    "X_train, y_train = X_sumo_fixed, y_sumo_fixed\n",
    "\n",
    "scaler = StandardScaler()\n",
    "X_train = scaler.fit_transform(X_train)\n",
    "X_val = scaler.transform(X_val_base)\n",
    "y_train = preprocessor.one_hot_encode(y_train, one_hot_keys=one_hot_keys)"
   ]
  },
  {
   "cell_type": "code",
   "execution_count": null,
   "id": "fafbfdfc",
   "metadata": {},
   "outputs": [],
   "source": [
    "# Best model: RandomForestClassifier_{'max_depth': 20, 'n_estimators': 20}\n",
    "for i in range(n_trials):\n",
    "    results = create_and_train_model(RandomForestClassifier, {\n",
    "        'max_depth': 20,\n",
    "        'n_estimators': 20,\n",
    "    })\n",
    "    add_to_dict(PS, 'sumo_fixed', 'RFClassifier', results)"
   ]
  },
  {
   "cell_type": "markdown",
   "id": "65285841",
   "metadata": {},
   "source": [
    "### LLM"
   ]
  },
  {
   "cell_type": "code",
   "execution_count": null,
   "id": "0460281e",
   "metadata": {},
   "outputs": [],
   "source": [
    "X_train, y_train = X_sumo_llm, y_sumo_llm\n",
    "\n",
    "scaler = StandardScaler()\n",
    "X_train = scaler.fit_transform(X_train)\n",
    "X_val = scaler.transform(X_val_base)\n",
    "y_train = preprocessor.one_hot_encode(y_train, one_hot_keys=one_hot_keys)"
   ]
  },
  {
   "cell_type": "code",
   "execution_count": null,
   "id": "71ac4613",
   "metadata": {},
   "outputs": [],
   "source": [
    "# Best model: XGBClassifier_{'learning_rate': 0.5, 'max_depth': 5, 'n_estimators': 200}\n",
    "for i in range(n_trials):\n",
    "    results = create_and_train_model(xgb.XGBClassifier, {\n",
    "        'learning_rate': 0.5,\n",
    "        'max_depth': 5,\n",
    "        'n_estimators': 200,\n",
    "    })\n",
    "    add_to_dict(PS, 'sumo_llm', 'XGBClassifier', results)"
   ]
  },
  {
   "cell_type": "markdown",
   "id": "d562a57b",
   "metadata": {},
   "source": [
    "## Carla Only"
   ]
  },
  {
   "cell_type": "code",
   "execution_count": 32,
   "id": "8d0a613b",
   "metadata": {},
   "outputs": [],
   "source": [
    "X_carla_fixed, y_carla_fixed = preprocessor.sliding_windows(carla_fixed, window_size=window_size, step_size=step_size)\n",
    "X_carla_llm, y_carla_llm = preprocessor.sliding_windows(carla_llm, window_size=window_size, step_size=step_size)"
   ]
  },
  {
   "cell_type": "code",
   "execution_count": 36,
   "id": "40fa1c38",
   "metadata": {},
   "outputs": [
    {
     "name": "stdout",
     "output_type": "stream",
     "text": [
      "Columns to keep for validation: ['acc_x', 'acc_y', 'acc_z', 'gyro_x', 'gyro_y', 'gyro_z', 'angle', 'label', 'acc']\n"
     ]
    }
   ],
   "source": [
    "# Getting the validation for SUMO variables\n",
    "print(\"Columns to keep for validation:\", carla_columns_to_keep)\n",
    "X_val_base, y_val = preprocessor.sliding_windows(uah_validation[carla_columns_to_keep], window_size=window_size, step_size=step_size)\n",
    "y_val = preprocessor.one_hot_encode(y_val, one_hot_keys=one_hot_keys)"
   ]
  },
  {
   "cell_type": "markdown",
   "id": "17def673",
   "metadata": {},
   "source": [
    "### Fixed"
   ]
  },
  {
   "cell_type": "code",
   "execution_count": null,
   "id": "f460d11d",
   "metadata": {},
   "outputs": [],
   "source": [
    "X_train, y_train = X_carla_fixed, y_carla_fixed\n",
    "\n",
    "scaler = StandardScaler()\n",
    "X_train = scaler.fit_transform(X_train)\n",
    "X_val = scaler.transform(X_val_base)\n",
    "y_train = preprocessor.one_hot_encode(y_train, one_hot_keys=one_hot_keys)"
   ]
  },
  {
   "cell_type": "code",
   "execution_count": null,
   "id": "084f64cb",
   "metadata": {},
   "outputs": [],
   "source": [
    "# Best model: RandomForestClassifier_{'max_depth': 10, 'n_estimators': 20}\n",
    "for i in range(n_trials):\n",
    "    results = create_and_train_model(RandomForestClassifier, {\n",
    "        'max_depth': 10,\n",
    "        'n_estimators': 20,\n",
    "    })\n",
    "    add_to_dict(PS, 'carla_fixed', 'RFClassifier', results)"
   ]
  },
  {
   "cell_type": "markdown",
   "id": "940416e1",
   "metadata": {},
   "source": [
    "### LLM"
   ]
  },
  {
   "cell_type": "code",
   "execution_count": null,
   "id": "d8198c3c",
   "metadata": {},
   "outputs": [],
   "source": [
    "X_train, y_train = X_carla_llm, y_carla_llm\n",
    "\n",
    "scaler = StandardScaler()\n",
    "X_train = scaler.fit_transform(X_train)\n",
    "X_val = scaler.transform(X_val_base)\n",
    "y_train = preprocessor.one_hot_encode(y_train, one_hot_keys=one_hot_keys)"
   ]
  },
  {
   "cell_type": "code",
   "execution_count": null,
   "id": "4b449f62",
   "metadata": {},
   "outputs": [],
   "source": [
    "# Best model: RandomForestClassifier_{'max_depth': None, 'n_estimators': 500}\n",
    "for i in range(n_trials):\n",
    "    results = create_and_train_model(RandomForestClassifier, {\n",
    "        'max_depth': None,\n",
    "        'n_estimators': 500,\n",
    "    })\n",
    "    add_to_dict(PS, 'carla_llm', 'RFClassifier', results)"
   ]
  },
  {
   "cell_type": "markdown",
   "id": "6d17d697",
   "metadata": {},
   "source": [
    "## Real + SUMO"
   ]
  },
  {
   "cell_type": "code",
   "execution_count": null,
   "id": "08cda850",
   "metadata": {},
   "outputs": [],
   "source": [
    "sumo_uah_fixed_20 = preprocessor.fill_synthetic_data(sumo_uah_fixed, 0.2)\n",
    "sumo_uah_llm_20 = preprocessor.fill_synthetic_data(sumo_uah_llm, 0.2)\n",
    "\n",
    "sumo_uah_fixed_100 = preprocessor.fill_synthetic_data(sumo_uah_fixed, 1)\n",
    "sumo_uah_llm_100 = preprocessor.fill_synthetic_data(sumo_uah_llm, 1)\n",
    "\n",
    "sumo_uah_fixed_200 = preprocessor.fill_synthetic_data(sumo_uah_fixed, 2)\n",
    "sumo_uah_llm_200 = preprocessor.fill_synthetic_data(sumo_uah_llm, 2)"
   ]
  },
  {
   "cell_type": "code",
   "execution_count": null,
   "id": "a60b0669",
   "metadata": {},
   "outputs": [],
   "source": [
    "X_sumo_uah_fixed_20, y_sumo_uah_fixed_20 = preprocessor.sliding_windows(sumo_uah_fixed_20, window_size=window_size, step_size=step_size)\n",
    "X_sumo_uah_llm_20, y_sumo_uah_llm_20 = preprocessor.sliding_windows(sumo_uah_llm_20, window_size=window_size, step_size=step_size)\n",
    "\n",
    "X_sumo_uah_fixed_100, y_sumo_uah_fixed_100 = preprocessor.sliding_windows(sumo_uah_fixed_100, window_size=window_size, step_size=step_size)\n",
    "X_sumo_uah_llm_100, y_sumo_uah_llm_100 = preprocessor.sliding_windows(sumo_uah_llm_100, window_size=window_size, step_size=step_size)\n",
    "\n",
    "X_sumo_uah_fixed_200, y_sumo_uah_fixed_200 = preprocessor.sliding_windows(sumo_uah_fixed_200, window_size=window_size, step_size=step_size)\n",
    "X_sumo_uah_llm_200, y_sumo_uah_llm_200 = preprocessor.sliding_windows(sumo_uah_llm_200, window_size=window_size, step_size=step_size)"
   ]
  },
  {
   "cell_type": "code",
   "execution_count": null,
   "id": "c6769432",
   "metadata": {},
   "outputs": [
    {
     "name": "stdout",
     "output_type": "stream",
     "text": [
      "Columns to keep for validation: ['acc', 'angle', 'speed', 'gyro_z', 'label']\n"
     ]
    }
   ],
   "source": [
    "print(\"Columns to keep for validation:\", sumo_columns_to_keep)\n",
    "\n",
    "X_val_base, y_val = preprocessor.sliding_windows(uah_validation[sumo_columns_to_keep], window_size=window_size, step_size=step_size)\n",
    "y_val = preprocessor.one_hot_encode(y_val, one_hot_keys=one_hot_keys)"
   ]
  },
  {
   "cell_type": "markdown",
   "id": "24d285d9",
   "metadata": {},
   "source": [
    "## Real + SUMO (20%)"
   ]
  },
  {
   "cell_type": "markdown",
   "id": "133dd3c5",
   "metadata": {},
   "source": [
    "### Fixed"
   ]
  },
  {
   "cell_type": "code",
   "execution_count": null,
   "id": "43f2e1b5",
   "metadata": {},
   "outputs": [],
   "source": [
    "X_train, y_train = X_sumo_uah_fixed_20, y_sumo_uah_fixed_20\n",
    "\n",
    "scaler = StandardScaler()\n",
    "X_train = scaler.fit_transform(X_train)\n",
    "X_val = scaler.transform(X_val_base)\n",
    "y_train = preprocessor.one_hot_encode(y_train, one_hot_keys=one_hot_keys)"
   ]
  },
  {
   "cell_type": "code",
   "execution_count": null,
   "id": "c5b57a58",
   "metadata": {},
   "outputs": [],
   "source": [
    "# Best model: SVC_{'C': 0.1, 'gamma': 0.01, 'kernel': 'rbf'}\n",
    "for i in range(n_trials):\n",
    "    results = create_and_train_model(SVC, {\n",
    "        'C': 0.1,\n",
    "        'gamma': 0.01,\n",
    "        'kernel': 'rbf',\n",
    "    })\n",
    "    add_to_dict(PS, 'sumo_uah_fixed_20', 'SVC', results)"
   ]
  },
  {
   "cell_type": "markdown",
   "id": "d86358b9",
   "metadata": {},
   "source": [
    "### LLM"
   ]
  },
  {
   "cell_type": "code",
   "execution_count": null,
   "id": "8e51b1e2",
   "metadata": {},
   "outputs": [],
   "source": [
    "X_train, y_train = X_sumo_uah_llm_20, y_sumo_uah_llm_20\n",
    "\n",
    "scaler = StandardScaler()\n",
    "X_train = scaler.fit_transform(X_train)\n",
    "X_val = scaler.transform(X_val_base)\n",
    "y_train = preprocessor.one_hot_encode(y_train, one_hot_keys=one_hot_keys)"
   ]
  },
  {
   "cell_type": "code",
   "execution_count": null,
   "id": "b46018d8",
   "metadata": {},
   "outputs": [],
   "source": [
    "# Best model: SVC_{'C': 0.1, 'gamma': 0.1, 'kernel': 'rbf'}\n",
    "for i in range(n_trials):\n",
    "    results = create_and_train_model(SVC, {\n",
    "        'C': 0.1,\n",
    "        'gamma': 0.1,\n",
    "        'kernel': 'rbf',\n",
    "    })\n",
    "    add_to_dict(PS, 'sumo_uah_llm_20', 'SVC', results)"
   ]
  },
  {
   "cell_type": "markdown",
   "id": "6c639de4",
   "metadata": {},
   "source": [
    "## Real + SUMO (100%)"
   ]
  },
  {
   "cell_type": "markdown",
   "id": "e6d9c9ec",
   "metadata": {},
   "source": [
    "### Fixed"
   ]
  },
  {
   "cell_type": "code",
   "execution_count": null,
   "id": "ce15831d",
   "metadata": {},
   "outputs": [],
   "source": [
    "X_train, y_train = X_sumo_uah_fixed_100, y_sumo_uah_fixed_100\n",
    "\n",
    "scaler = StandardScaler()\n",
    "X_train = scaler.fit_transform(X_train)\n",
    "X_val = scaler.transform(X_val_base)\n",
    "y_train = preprocessor.one_hot_encode(y_train, one_hot_keys=one_hot_keys)"
   ]
  },
  {
   "cell_type": "code",
   "execution_count": null,
   "id": "eead5a43",
   "metadata": {},
   "outputs": [],
   "source": [
    "# Best model: SVC_{'C': 1, 'gamma': 0.001, 'kernel': 'rbf'}\n",
    "for i in range(n_trials):\n",
    "    results = create_and_train_model(SVC, {\n",
    "        'C': 1,\n",
    "        'gamma': 0.001,\n",
    "        'kernel': 'rbf',\n",
    "    })\n",
    "    add_to_dict(PS, 'sumo_uah_fixed_100', 'SVC', results)"
   ]
  },
  {
   "cell_type": "markdown",
   "id": "30cb9e0c",
   "metadata": {},
   "source": [
    "### LLM"
   ]
  },
  {
   "cell_type": "code",
   "execution_count": null,
   "id": "c5a0b3e1",
   "metadata": {},
   "outputs": [],
   "source": [
    "X_train, y_train = X_sumo_uah_llm_100, y_sumo_uah_llm_100\n",
    "\n",
    "scaler = StandardScaler()\n",
    "X_train = scaler.fit_transform(X_train)\n",
    "X_val = scaler.transform(X_val_base)\n",
    "y_train = preprocessor.one_hot_encode(y_train, one_hot_keys=one_hot_keys)"
   ]
  },
  {
   "cell_type": "code",
   "execution_count": null,
   "id": "7ba5ac36",
   "metadata": {},
   "outputs": [],
   "source": [
    "# Best model: SVC_{'C': 0.01, 'gamma': 0.1, 'kernel': 'rbf'}\n",
    "for i in range(n_trials):\n",
    "    results = create_and_train_model(SVC, {\n",
    "        'C': 0.01,\n",
    "        'gamma': 0.1,\n",
    "        'kernel': 'rbf',\n",
    "    })\n",
    "    add_to_dict(PS, 'sumo_uah_llm_100', 'SVC', results)"
   ]
  },
  {
   "cell_type": "markdown",
   "id": "43efa6b6",
   "metadata": {},
   "source": [
    "## Real + SUMO (200%)"
   ]
  },
  {
   "cell_type": "markdown",
   "id": "3fdf5ec6",
   "metadata": {},
   "source": [
    "### Fixed"
   ]
  },
  {
   "cell_type": "code",
   "execution_count": null,
   "id": "a05508a9",
   "metadata": {},
   "outputs": [],
   "source": [
    "X_train, y_train = X_sumo_uah_fixed_200, y_sumo_uah_fixed_200\n",
    "\n",
    "scaler = StandardScaler()\n",
    "X_train = scaler.fit_transform(X_train)\n",
    "X_val = scaler.transform(X_val_base)\n",
    "y_train = preprocessor.one_hot_encode(y_train, one_hot_keys=one_hot_keys)\n",
    "\n",
    "# TODO: TRAIN MODEL"
   ]
  },
  {
   "cell_type": "code",
   "execution_count": null,
   "id": "79031b18",
   "metadata": {},
   "outputs": [],
   "source": [
    "# Best model: SVC_{'C': 0.01, 'gamma': 0.01, 'kernel': 'rbf'}\n",
    "for i in range(n_trials):\n",
    "    results = create_and_train_model(SVC, {\n",
    "        'C': 0.01,\n",
    "        'gamma': 0.01,\n",
    "        'kernel': 'rbf',\n",
    "    })\n",
    "    add_to_dict(PS, 'sumo_uah_fixed_200', 'SVC', results)"
   ]
  },
  {
   "cell_type": "markdown",
   "id": "bc17bfad",
   "metadata": {},
   "source": [
    "### LLM"
   ]
  },
  {
   "cell_type": "code",
   "execution_count": null,
   "id": "cb449402",
   "metadata": {},
   "outputs": [],
   "source": [
    "X_train, y_train = X_sumo_uah_llm_200, y_sumo_uah_llm_200\n",
    "\n",
    "scaler = StandardScaler()\n",
    "X_train = scaler.fit_transform(X_train)\n",
    "X_val = scaler.transform(X_val_base)\n",
    "y_train = preprocessor.one_hot_encode(y_train, one_hot_keys=one_hot_keys)"
   ]
  },
  {
   "cell_type": "code",
   "execution_count": null,
   "id": "a149f666",
   "metadata": {},
   "outputs": [],
   "source": [
    "# Best model: SVC_{'C': 0.5, 'gamma': 0.001, 'kernel': 'rbf'}\n",
    "for i in range(n_trials):\n",
    "    results = create_and_train_model(SVC, {\n",
    "        'C': 0.5,\n",
    "        'gamma': 0.001,\n",
    "        'kernel': 'rbf',\n",
    "    })\n",
    "    add_to_dict(PS, 'sumo_uah_llm_200', 'SVC', results)"
   ]
  },
  {
   "cell_type": "markdown",
   "id": "e10c56a9",
   "metadata": {},
   "source": [
    "## Real + CARLA"
   ]
  },
  {
   "cell_type": "code",
   "execution_count": null,
   "id": "ac4217a2",
   "metadata": {},
   "outputs": [],
   "source": [
    "carla_uah_fixed_20 = preprocessor.fill_synthetic_data(carla_uah_fixed, 0.2)\n",
    "carla_uah_llm_20 = preprocessor.fill_synthetic_data(carla_uah_llm, 0.2)\n",
    "\n",
    "carla_uah_fixed_100 = preprocessor.fill_synthetic_data(carla_uah_fixed, 0.5)\n",
    "carla_uah_llm_100 = preprocessor.fill_synthetic_data(carla_uah_llm, 0.5)\n",
    "\n",
    "carla_uah_fixed_200 = preprocessor.fill_synthetic_data(carla_uah_fixed, 0.7)\n",
    "carla_uah_llm_200 = preprocessor.fill_synthetic_data(carla_uah_llm, 0.7)"
   ]
  },
  {
   "cell_type": "code",
   "execution_count": null,
   "id": "891ede42",
   "metadata": {},
   "outputs": [],
   "source": [
    "X_carla_uah_fixed_20, y_carla_uah_fixed_20 = preprocessor.sliding_windows(carla_uah_fixed_20, window_size=window_size, step_size=step_size)\n",
    "X_carla_uah_llm_20, y_carla_uah_llm_20 = preprocessor.sliding_windows(carla_uah_llm_20, window_size=window_size, step_size=step_size)\n",
    "\n",
    "X_carla_uah_fixed_100, y_carla_uah_fixed_100 = preprocessor.sliding_windows(carla_uah_fixed_100, window_size=window_size, step_size=step_size)\n",
    "X_carla_uah_llm_100, y_carla_uah_llm_100 = preprocessor.sliding_windows(carla_uah_llm_100, window_size=window_size, step_size=step_size)\n",
    "\n",
    "X_carla_uah_fixed_200, y_carla_uah_fixed_200 = preprocessor.sliding_windows(carla_uah_fixed_200, window_size=window_size, step_size=step_size)\n",
    "X_carla_uah_llm_200, y_carla_uah_llm_200 = preprocessor.sliding_windows(carla_uah_llm_200, window_size=window_size, step_size=step_size)"
   ]
  },
  {
   "cell_type": "code",
   "execution_count": null,
   "id": "5adc1ae1",
   "metadata": {},
   "outputs": [
    {
     "name": "stdout",
     "output_type": "stream",
     "text": [
      "Columns to keep for validation: ['acc_x', 'acc_y', 'acc_z', 'gyro_x', 'gyro_y', 'gyro_z', 'angle', 'label']\n"
     ]
    }
   ],
   "source": [
    "print(\"Columns to keep for validation:\", carla_columns_to_keep)\n",
    "\n",
    "X_val_base, y_val = preprocessor.sliding_windows(uah_validation[carla_columns_to_keep], window_size=window_size, step_size=step_size)\n",
    "y_val = preprocessor.one_hot_encode(y_val, one_hot_keys=one_hot_keys)"
   ]
  },
  {
   "cell_type": "markdown",
   "id": "a6dbf3c9",
   "metadata": {},
   "source": [
    "## Real + CARLA (20%)"
   ]
  },
  {
   "cell_type": "markdown",
   "id": "185dd9cd",
   "metadata": {},
   "source": [
    "### Fixed"
   ]
  },
  {
   "cell_type": "code",
   "execution_count": null,
   "id": "636373b3",
   "metadata": {},
   "outputs": [],
   "source": [
    "X_train, y_train = X_carla_uah_fixed_20, y_carla_uah_fixed_20\n",
    "\n",
    "scaler = StandardScaler()\n",
    "X_train = scaler.fit_transform(X_train)\n",
    "X_val = scaler.transform(X_val_base)\n",
    "y_train = preprocessor.one_hot_encode(y_train, one_hot_keys=one_hot_keys)"
   ]
  },
  {
   "cell_type": "code",
   "execution_count": null,
   "id": "2d927a66",
   "metadata": {},
   "outputs": [],
   "source": [
    "# Best model: RandomForestClassifier_{'max_depth': 20, 'n_estimators': 20}\n",
    "for i in range(n_trials):\n",
    "    results = create_and_train_model(RandomForestClassifier, {\n",
    "        'max_depth': 20,\n",
    "        'n_estimators': 20,\n",
    "    })\n",
    "    add_to_dict(PS, 'carla_uah_fixed_20', 'RFClassifier', results)"
   ]
  },
  {
   "cell_type": "markdown",
   "id": "6c7c7c69",
   "metadata": {},
   "source": [
    "### LLM"
   ]
  },
  {
   "cell_type": "code",
   "execution_count": null,
   "id": "61e34e16",
   "metadata": {},
   "outputs": [],
   "source": [
    "X_train, y_train = X_carla_uah_llm_20, y_carla_uah_llm_20\n",
    "\n",
    "scaler = StandardScaler()\n",
    "X_train = scaler.fit_transform(X_train)\n",
    "X_val = scaler.transform(X_val_base)\n",
    "y_train = preprocessor.one_hot_encode(y_train, one_hot_keys=one_hot_keys)\n",
    "\n",
    "# TODO: TRAIN MODEL"
   ]
  },
  {
   "cell_type": "code",
   "execution_count": null,
   "id": "b941abc0",
   "metadata": {},
   "outputs": [],
   "source": [
    "# Best model: RandomForestClassifier_{'max_depth': 20, 'n_estimators': 50}\n",
    "for i in range(n_trials):\n",
    "    results = create_and_train_model(RandomForestClassifier, {\n",
    "        'max_depth': 20,\n",
    "        'n_estimators': 50,\n",
    "    })\n",
    "    add_to_dict(PS, 'carla_uah_llm_20', 'RFClassifier', results)"
   ]
  },
  {
   "cell_type": "markdown",
   "id": "03a2886a",
   "metadata": {},
   "source": [
    "## Real + CARLA (100%)"
   ]
  },
  {
   "cell_type": "markdown",
   "id": "e6d9ddfb",
   "metadata": {},
   "source": [
    "### Fixed"
   ]
  },
  {
   "cell_type": "code",
   "execution_count": null,
   "id": "c1b7f372",
   "metadata": {},
   "outputs": [],
   "source": [
    "X_train, y_train = X_carla_uah_fixed_100, y_carla_uah_fixed_100\n",
    "\n",
    "scaler = StandardScaler()\n",
    "X_train = scaler.fit_transform(X_train)\n",
    "X_val = scaler.transform(X_val_base)\n",
    "y_train = preprocessor.one_hot_encode(y_train, one_hot_keys=one_hot_keys)"
   ]
  },
  {
   "cell_type": "code",
   "execution_count": null,
   "id": "d85301f6",
   "metadata": {},
   "outputs": [],
   "source": [
    "# Best model: XGBClassifier_{'colsample_bytree': 0.7, 'learning_rate': 0.1, 'max_depth': 5, 'n_estimators': 200, 'subsample': 0.7}\n",
    "for i in range(n_trials):\n",
    "    results = create_and_train_model(xgb.XGBClassifier, {\n",
    "        'colsample_bytree': 0.7,\n",
    "        'learning_rate': 0.1,\n",
    "        'max_depth': 5,\n",
    "        'n_estimators': 200,\n",
    "        'subsample': 0.7,\n",
    "    })\n",
    "    add_to_dict(PS, 'carla_uah_fixed_100', 'XGBClassifier', results)"
   ]
  },
  {
   "cell_type": "markdown",
   "id": "4b1fe8a2",
   "metadata": {},
   "source": [
    "### LLM"
   ]
  },
  {
   "cell_type": "code",
   "execution_count": null,
   "id": "37800614",
   "metadata": {},
   "outputs": [],
   "source": [
    "X_train, y_train = X_carla_uah_llm_100, y_carla_uah_llm_100\n",
    "\n",
    "scaler = StandardScaler()\n",
    "X_train = scaler.fit_transform(X_train)\n",
    "X_val = scaler.transform(X_val_base)\n",
    "y_train = preprocessor.one_hot_encode(y_train, one_hot_keys=one_hot_keys)\n",
    "\n",
    "# TODO: TRAIN MODEL"
   ]
  },
  {
   "cell_type": "code",
   "execution_count": null,
   "id": "00a6977c",
   "metadata": {},
   "outputs": [],
   "source": [
    "# Best model: XGBClassifier_{'colsample_bytree': 1.0, 'learning_rate': 0.3, 'max_depth': 5, 'n_estimators': 500, 'subsample': 0.7}\n",
    "for i in range(n_trials):\n",
    "    results = create_and_train_model(xgb.XGBClassifier, {\n",
    "        'colsample_bytree': 1.0,\n",
    "        'learning_rate': 0.3,\n",
    "        'max_depth': 5,\n",
    "        'n_estimators': 500,\n",
    "        'subsample': 0.7,\n",
    "    })\n",
    "    add_to_dict(PS, 'carla_uah_llm_100', 'XGBClassifier', results)"
   ]
  },
  {
   "cell_type": "markdown",
   "id": "adbd3157",
   "metadata": {},
   "source": [
    "## Real + CARLA (200%)"
   ]
  },
  {
   "cell_type": "markdown",
   "id": "9d450501",
   "metadata": {},
   "source": [
    "### Fixed"
   ]
  },
  {
   "cell_type": "code",
   "execution_count": null,
   "id": "2b4d2757",
   "metadata": {},
   "outputs": [],
   "source": [
    "X_train, y_train = X_carla_uah_fixed_200, y_carla_uah_fixed_200\n",
    "\n",
    "scaler = StandardScaler()\n",
    "X_train = scaler.fit_transform(X_train)\n",
    "X_val = scaler.transform(X_val_base)\n",
    "y_train = preprocessor.one_hot_encode(y_train, one_hot_keys=one_hot_keys)"
   ]
  },
  {
   "cell_type": "code",
   "execution_count": null,
   "id": "5ec1be4f",
   "metadata": {},
   "outputs": [],
   "source": [
    "# Best model: XGBClassifier_{'colsample_bytree': 1.0, 'learning_rate': 0.1, 'max_depth': 5, 'n_estimators': 200, 'subsample': 1.0}\n",
    "for i in range(n_trials):\n",
    "    results = create_and_train_model(xgb.XGBClassifier, {\n",
    "        'colsample_bytree': 1.0,\n",
    "        'learning_rate': 0.1,\n",
    "        'max_depth': 5,\n",
    "        'n_estimators': 200,\n",
    "        'subsample': 1.0,\n",
    "    })\n",
    "    add_to_dict(PS, 'carla_uah_fixed_200', 'XGBClassifier', results)"
   ]
  },
  {
   "cell_type": "markdown",
   "id": "953ef358",
   "metadata": {},
   "source": [
    "### LLM"
   ]
  },
  {
   "cell_type": "code",
   "execution_count": null,
   "id": "6ce88d00",
   "metadata": {},
   "outputs": [],
   "source": [
    "X_train, y_train = X_carla_uah_llm_200, y_carla_uah_llm_200\n",
    "\n",
    "scaler = StandardScaler()\n",
    "X_train = scaler.fit_transform(X_train)\n",
    "X_val = scaler.transform(X_val_base)\n",
    "y_train = preprocessor.one_hot_encode(y_train, one_hot_keys=one_hot_keys)"
   ]
  },
  {
   "cell_type": "code",
   "execution_count": null,
   "id": "a3d162d2",
   "metadata": {},
   "outputs": [],
   "source": [
    "# Best model: RandomForestClassifier_{'max_depth': 50, 'n_estimators': 20}\n",
    "for i in range(n_trials):\n",
    "    results = create_and_train_model(RandomForestClassifier, {\n",
    "        'max_depth': 50,\n",
    "        'n_estimators': 20,\n",
    "    })\n",
    "    add_to_dict(PS, 'carla_uah_llm_200', 'RandomForestClassifier', results)"
   ]
  }
 ],
 "metadata": {
  "kernelspec": {
   "display_name": "base",
   "language": "python",
   "name": "python3"
  },
  "language_info": {
   "codemirror_mode": {
    "name": "ipython",
    "version": 3
   },
   "file_extension": ".py",
   "mimetype": "text/x-python",
   "name": "python",
   "nbconvert_exporter": "python",
   "pygments_lexer": "ipython3",
   "version": "3.12.2"
  }
 },
 "nbformat": 4,
 "nbformat_minor": 5
}
