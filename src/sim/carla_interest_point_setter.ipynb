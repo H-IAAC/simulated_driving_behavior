{
 "cells": [
  {
   "cell_type": "markdown",
   "id": "4f67c748",
   "metadata": {},
   "source": [
    "### This notebook is used to define spawnpoints for each place of interest in the map and generate the interest_points files for each map"
   ]
  },
  {
   "cell_type": "code",
   "execution_count": 1,
   "id": "6c46755b",
   "metadata": {},
   "outputs": [],
   "source": [
    "import carla\n",
    "import os\n",
    "import csv\n",
    "\n",
    "town = \"Town01\" # Change this to the desired town"
   ]
  },
  {
   "cell_type": "code",
   "execution_count": 2,
   "id": "3d4f3784",
   "metadata": {},
   "outputs": [],
   "source": [
    "# Connecting to CARLA\n",
    "client = carla.Client('localhost', 2000)\n",
    "client.set_timeout(20)\n",
    "world = client.load_world(f'{town}_Opt') # Town01_Opt is a lighter version of Town01 with layers\n",
    "world.unload_map_layer(carla.MapLayer.Foliage) # unload foliage for better perfomance \n",
    "world.unload_map_layer(carla.MapLayer.Particles) # unload particles for better performance\n",
    "spectator = world.get_spectator()\n",
    "spawn_points = world.get_map().get_spawn_points()\n",
    "interests_spawn_points = {}"
   ]
  },
  {
   "cell_type": "code",
   "execution_count": 3,
   "id": "f0262f79",
   "metadata": {},
   "outputs": [],
   "source": [
    "def get_closest_spawn_point(transform, spawn_points):\n",
    "    closest_point = min(spawn_points, key=lambda sp: sp.location.distance(transform.location))\n",
    "    return closest_point"
   ]
  },
  {
   "cell_type": "code",
   "execution_count": 4,
   "id": "85c0306d",
   "metadata": {},
   "outputs": [],
   "source": [
    "def draw_all_spawnpoints(spawn_points):\n",
    "    for i, sp in enumerate(spawn_points):\n",
    "        world.debug.draw_string(\n",
    "            sp.location,\n",
    "            f'O{i}',  # Optional: add index label\n",
    "            draw_shadow=False,\n",
    "            color=carla.Color(r=255, g=0, b=0),  # Red\n",
    "            life_time=500.0,\n",
    "            persistent_lines=True\n",
    "     )"
   ]
  },
  {
   "cell_type": "code",
   "execution_count": 5,
   "id": "c83fa23c",
   "metadata": {},
   "outputs": [],
   "source": [
    "def draw_interest_point(interest, nome):\n",
    "\n",
    "    world.debug.draw_string(\n",
    "        interest.location,\n",
    "        f'{nome.upper()}',  # Optional: add index label\n",
    "        draw_shadow=False,\n",
    "        color=carla.Color(r=0, g=255, b=0),  # Green\n",
    "        life_time=500.0,\n",
    "        persistent_lines=True\n",
    "    )"
   ]
  },
  {
   "cell_type": "code",
   "execution_count": null,
   "id": "64a4377e",
   "metadata": {},
   "outputs": [
    {
     "ename": "",
     "evalue": "",
     "output_type": "error",
     "traceback": [
      "\u001b[1;31mThe Kernel crashed while executing code in the current cell or a previous cell. \n",
      "\u001b[1;31mPlease review the code in the cell(s) to identify a possible cause of the failure. \n",
      "\u001b[1;31mClick <a href='https://aka.ms/vscodeJupyterKernelCrash'>here</a> for more info. \n",
      "\u001b[1;31mView Jupyter <a href='command:jupyter.viewOutput'>log</a> for further details."
     ]
    }
   ],
   "source": [
    "draw_all_spawnpoints(world.get_map().get_spawn_points())"
   ]
  },
  {
   "cell_type": "markdown",
   "id": "505dae12",
   "metadata": {},
   "source": [
    "Use the spectator movement to get close to the desired location and run the cell below to add the interest location to the file. A debug mark will show up over the spawn_point defined"
   ]
  },
  {
   "cell_type": "code",
   "execution_count": null,
   "id": "d3bd381d",
   "metadata": {},
   "outputs": [
    {
     "name": "stdout",
     "output_type": "stream",
     "text": [
      "Transform(Location(x=-145.560196, y=99.700966, z=0.275307), Rotation(pitch=0.000000, yaw=-89.970146, roll=0.000000))\n"
     ]
    }
   ],
   "source": [
    "nome = 'restaurant' # Change this to the desired interest point name\n",
    "interests_spawn_points[nome] = get_closest_spawn_point(spectator.get_transform(), spawn_points)\n",
    "print(interests_spawn_points[nome])\n",
    "draw_interest_point(interests_spawn_points[nome], nome)\n",
    "\n",
    "csv_path = f'../src/sim/sumo_map/{town}/interest_points.csv'  # Change this to the desired path\n",
    "\n",
    "loc = interests_spawn_points[nome].location\n",
    "rot = interests_spawn_points[nome].rotation\n",
    "\n",
    "if os.path.exists(csv_path):\n",
    "    with open(csv_path, mode='a') as file:\n",
    "        writer = csv.writer(file)\n",
    "        writer.writerow([nome, loc.x, loc.y, loc.z, rot.pitch, rot.yaw, rot.roll])\n",
    "else:\n",
    "    with open(csv_path, mode='w', newline='') as file:\n",
    "        writer = csv.writer(file)\n",
    "        writer.writerow(['Name', 'x', 'y', 'z', 'pitch', 'yaw', 'roll'])\n",
    "        writer.writerow([nome, loc.x, loc.y, loc.z, rot.pitch, rot.yaw, rot.roll])"
   ]
  }
 ],
 "metadata": {
  "kernelspec": {
   "display_name": "carla-env",
   "language": "python",
   "name": "python3"
  },
  "language_info": {
   "codemirror_mode": {
    "name": "ipython",
    "version": 3
   },
   "file_extension": ".py",
   "mimetype": "text/x-python",
   "name": "python",
   "nbconvert_exporter": "python",
   "pygments_lexer": "ipython3",
   "version": "3.8.18"
  }
 },
 "nbformat": 4,
 "nbformat_minor": 5
}
